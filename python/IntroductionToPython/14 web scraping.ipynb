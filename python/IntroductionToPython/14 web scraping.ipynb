{
 "cells": [
  {
   "cell_type": "markdown",
   "id": "9295ee17",
   "metadata": {},
   "source": [
    "### Web scraping 기본 지식"
   ]
  },
  {
   "cell_type": "code",
   "execution_count": 1,
   "id": "41437fe4",
   "metadata": {},
   "outputs": [
    {
     "data": {
      "text/plain": [
       "True"
      ]
     },
     "execution_count": 1,
     "metadata": {},
     "output_type": "execute_result"
    }
   ],
   "source": [
    "import webbrowser\n",
    "\n",
    "url = 'www.naver.com'\n",
    "webbrowser.open(url)"
   ]
  },
  {
   "cell_type": "code",
   "execution_count": 2,
   "id": "6463e8d0",
   "metadata": {},
   "outputs": [
    {
     "data": {
      "text/plain": [
       "True"
      ]
     },
     "execution_count": 2,
     "metadata": {},
     "output_type": "execute_result"
    }
   ],
   "source": [
    "naver_search_url = \"http://search.naver.com/search.naver?query=\"\n",
    "search_word = '파이썬'\n",
    "url = naver_search_url + search_word\n",
    "\n",
    "webbrowser.open_new(url)"
   ]
  },
  {
   "cell_type": "code",
   "execution_count": 4,
   "id": "cf924cd0",
   "metadata": {},
   "outputs": [],
   "source": [
    "urls = ['www.naver.com', 'www.daum.net', 'www.google.com']\n",
    "\n",
    "for url in urls:\n",
    "    webbrowser.open_new(url)"
   ]
  },
  {
   "cell_type": "code",
   "execution_count": 5,
   "id": "b91806d7",
   "metadata": {},
   "outputs": [],
   "source": [
    "google_url = \"https://www.google.co.kr/search?q=\"\n",
    "search_words = ['python web scraping', 'python webbrowser']\n",
    "\n",
    "for search in search_words:\n",
    "    webbrowser.open_new(google_url+search_word)"
   ]
  },
  {
   "cell_type": "code",
   "execution_count": 6,
   "id": "2b5fd3ae",
   "metadata": {},
   "outputs": [
    {
     "name": "stdout",
     "output_type": "stream",
     "text": [
      "Writing C:\\Users\\LGE1\\TIL\\python\\IntroductionToPython\\HTML_example.html\n"
     ]
    }
   ],
   "source": [
    "%%writefile C:\\Users\\LGE1\\TIL\\python\\IntroductionToPython\\HTML_example.html\n",
    "<!doctype html>\n",
    "<html>\n",
    " <head>\n",
    "    <meta charset=\"utf-8\">\n",
    "    <title>이것은 HTML 예제</title>\n",
    " </head>\n",
    " <body>\n",
    "    <h1>출간된 책 정보</h1>\n",
    "    <p id=\"book_title\">이해가 쏙쏙 되는 파이썬</p>\n",
    "    <p id=\"author\">홍길동</p>\n",
    "    <p id=\"publisher\">위키북스 출판사</p>\n",
    "    <p id=\"year\">2021</p>\n",
    " </body>\n",
    "</html>"
   ]
  },
  {
   "cell_type": "code",
   "execution_count": 7,
   "id": "e1ae8ad8",
   "metadata": {},
   "outputs": [
    {
     "data": {
      "text/plain": [
       "<Response [200]>"
      ]
     },
     "execution_count": 7,
     "metadata": {},
     "output_type": "execute_result"
    }
   ],
   "source": [
    "import requests\n",
    "\n",
    "r = requests.get(\"http://www.google.co.kr\")\n",
    "r"
   ]
  },
  {
   "cell_type": "code",
   "execution_count": 8,
   "id": "1a15c44d",
   "metadata": {},
   "outputs": [
    {
     "data": {
      "text/plain": [
       "'<!doctype html><html itemscope=\"\" itemtype=\"http://schema.org/WebPage\" lang=\"ko\"><head><meta content'"
      ]
     },
     "execution_count": 8,
     "metadata": {},
     "output_type": "execute_result"
    }
   ],
   "source": [
    "r.text[:100]"
   ]
  },
  {
   "cell_type": "code",
   "execution_count": 10,
   "id": "99983439",
   "metadata": {},
   "outputs": [
    {
     "data": {
      "text/plain": [
       "'<!doctype html><html itemscope=\"\" itemtype=\"http://schema.org/WebPage\" lang=\"ko\"><head><meta content'"
      ]
     },
     "execution_count": 10,
     "metadata": {},
     "output_type": "execute_result"
    }
   ],
   "source": [
    "html = requests.get(\"http://www.google.co.kr\").text\n",
    "html[:100]"
   ]
  },
  {
   "cell_type": "code",
   "execution_count": 11,
   "id": "e3f931d2",
   "metadata": {},
   "outputs": [],
   "source": [
    "from bs4 import BeautifulSoup"
   ]
  },
  {
   "cell_type": "code",
   "execution_count": 12,
   "id": "941941d9",
   "metadata": {},
   "outputs": [
    {
     "data": {
      "text/plain": [
       "<html><body><div><span> <a href=\"http://www.naver.com\">naver</a> <a href=\"http://www.google.com\">google</a> <a href=\"http://www.daum.net/\">daum</a> </span></div></body></html>"
      ]
     },
     "execution_count": 12,
     "metadata": {},
     "output_type": "execute_result"
    }
   ],
   "source": [
    "html = \"\"\"<html><body><div><span>\\\n",
    "        <a href=http://www.naver.com>naver</a>\\\n",
    "        <a href=http://www.google.com>google</a>\\\n",
    "        <a href=http://www.daum.net/>daum</a>\\\n",
    "        </span></div></body></html\"\"\"\n",
    "\n",
    "soup = BeautifulSoup(html, 'lxml')\n",
    "soup"
   ]
  },
  {
   "cell_type": "code",
   "execution_count": 13,
   "id": "d7bb5c85",
   "metadata": {},
   "outputs": [
    {
     "name": "stdout",
     "output_type": "stream",
     "text": [
      "<html>\n",
      " <body>\n",
      "  <div>\n",
      "   <span>\n",
      "    <a href=\"http://www.naver.com\">\n",
      "     naver\n",
      "    </a>\n",
      "    <a href=\"http://www.google.com\">\n",
      "     google\n",
      "    </a>\n",
      "    <a href=\"http://www.daum.net/\">\n",
      "     daum\n",
      "    </a>\n",
      "   </span>\n",
      "  </div>\n",
      " </body>\n",
      "</html>\n"
     ]
    }
   ],
   "source": [
    "print(soup.prettify())"
   ]
  },
  {
   "cell_type": "code",
   "execution_count": 14,
   "id": "96ddc62f",
   "metadata": {},
   "outputs": [
    {
     "data": {
      "text/plain": [
       "<a href=\"http://www.naver.com\">naver</a>"
      ]
     },
     "execution_count": 14,
     "metadata": {},
     "output_type": "execute_result"
    }
   ],
   "source": [
    "soup.find('a')"
   ]
  },
  {
   "cell_type": "code",
   "execution_count": 15,
   "id": "6612a5f2",
   "metadata": {},
   "outputs": [
    {
     "data": {
      "text/plain": [
       "'naver'"
      ]
     },
     "execution_count": 15,
     "metadata": {},
     "output_type": "execute_result"
    }
   ],
   "source": [
    "soup.find('a').get_text()"
   ]
  },
  {
   "cell_type": "code",
   "execution_count": 17,
   "id": "54bdc76f",
   "metadata": {},
   "outputs": [
    {
     "data": {
      "text/plain": [
       "[<a href=\"http://www.naver.com\">naver</a>,\n",
       " <a href=\"http://www.google.com\">google</a>,\n",
       " <a href=\"http://www.daum.net/\">daum</a>]"
      ]
     },
     "execution_count": 17,
     "metadata": {},
     "output_type": "execute_result"
    }
   ],
   "source": [
    "soup.find_all('a')"
   ]
  },
  {
   "cell_type": "code",
   "execution_count": 18,
   "id": "5c4ad957",
   "metadata": {},
   "outputs": [
    {
     "name": "stdout",
     "output_type": "stream",
     "text": [
      "naver\n",
      "google\n",
      "daum\n"
     ]
    }
   ],
   "source": [
    "site_names = soup.find_all('a')\n",
    "for site_name in site_names:\n",
    "    print(site_name.get_text())"
   ]
  },
  {
   "cell_type": "code",
   "execution_count": 19,
   "id": "c872535f",
   "metadata": {},
   "outputs": [],
   "source": [
    "html2 = \"\"\"\n",
    "<html>\n",
    " <head>\n",
    "   <title>작품과 작가 모음</title>\n",
    " </head>\n",
    " <body>\n",
    "   <h1>책 정보</h1>\n",
    "   <p id=\"book_title\">데이터 분석을 위한 파이썬철저입문</p>\n",
    "   <p id=\"author\">최은석</p>\n",
    "   \n",
    "   <p id=\"book_title\">누구나 파이썬 통계분석</p>\n",
    "   <p id=\"author\">타니아이 히로키</p>\n",
    "   \n",
    "   <p id=\"book_title\">SQL로 맛보는 데이터 전처리 분석</p>\n",
    "   <p id=\"author\">노수영</p>\n",
    " </body>\n",
    " </head>\n",
    "</html>\n",
    "\"\"\"\n",
    "\n",
    "soup2 = BeautifulSoup(html2, 'lxml')"
   ]
  },
  {
   "cell_type": "code",
   "execution_count": 21,
   "id": "0cfb1b2c",
   "metadata": {},
   "outputs": [
    {
     "data": {
      "text/plain": [
       "<title>작품과 작가 모음</title>"
      ]
     },
     "execution_count": 21,
     "metadata": {},
     "output_type": "execute_result"
    }
   ],
   "source": [
    "soup2.title"
   ]
  },
  {
   "cell_type": "code",
   "execution_count": 22,
   "id": "de92ca12",
   "metadata": {},
   "outputs": [
    {
     "data": {
      "text/plain": [
       "<body>\n",
       "<h1>책 정보</h1>\n",
       "<p id=\"book_title\">데이터 분석을 위한 파이썬철저입문</p>\n",
       "<p id=\"author\">최은석</p>\n",
       "<p id=\"book_title\">누구나 파이썬 통계분석</p>\n",
       "<p id=\"author\">타니아이 히로키</p>\n",
       "<p id=\"book_title\">SQL로 맛보는 데이터 전처리 분석</p>\n",
       "<p id=\"author\">노수영</p>\n",
       "</body>"
      ]
     },
     "execution_count": 22,
     "metadata": {},
     "output_type": "execute_result"
    }
   ],
   "source": [
    "soup2.body"
   ]
  },
  {
   "cell_type": "code",
   "execution_count": 23,
   "id": "c9668251",
   "metadata": {},
   "outputs": [
    {
     "data": {
      "text/plain": [
       "<h1>책 정보</h1>"
      ]
     },
     "execution_count": 23,
     "metadata": {},
     "output_type": "execute_result"
    }
   ],
   "source": [
    "soup2.body.h1"
   ]
  },
  {
   "cell_type": "code",
   "execution_count": 25,
   "id": "a824019e",
   "metadata": {},
   "outputs": [
    {
     "data": {
      "text/plain": [
       "[<p id=\"book_title\">데이터 분석을 위한 파이썬철저입문</p>,\n",
       " <p id=\"author\">최은석</p>,\n",
       " <p id=\"book_title\">누구나 파이썬 통계분석</p>,\n",
       " <p id=\"author\">타니아이 히로키</p>,\n",
       " <p id=\"book_title\">SQL로 맛보는 데이터 전처리 분석</p>,\n",
       " <p id=\"author\">노수영</p>]"
      ]
     },
     "execution_count": 25,
     "metadata": {},
     "output_type": "execute_result"
    }
   ],
   "source": [
    "soup2.find_all('p')"
   ]
  },
  {
   "cell_type": "code",
   "execution_count": 27,
   "id": "b2ce829d",
   "metadata": {},
   "outputs": [
    {
     "data": {
      "text/plain": [
       "<p id=\"book_title\">데이터 분석을 위한 파이썬철저입문</p>"
      ]
     },
     "execution_count": 27,
     "metadata": {},
     "output_type": "execute_result"
    }
   ],
   "source": [
    "soup2.find('p', {\"id\":\"book_title\"})"
   ]
  },
  {
   "cell_type": "code",
   "execution_count": 28,
   "id": "58aea4e8",
   "metadata": {},
   "outputs": [
    {
     "data": {
      "text/plain": [
       "<p id=\"author\">최은석</p>"
      ]
     },
     "execution_count": 28,
     "metadata": {},
     "output_type": "execute_result"
    }
   ],
   "source": [
    "soup2.find('p', {\"id\":\"author\"})"
   ]
  },
  {
   "cell_type": "code",
   "execution_count": 29,
   "id": "00013d72",
   "metadata": {},
   "outputs": [
    {
     "data": {
      "text/plain": [
       "[<p id=\"book_title\">데이터 분석을 위한 파이썬철저입문</p>,\n",
       " <p id=\"book_title\">누구나 파이썬 통계분석</p>,\n",
       " <p id=\"book_title\">SQL로 맛보는 데이터 전처리 분석</p>]"
      ]
     },
     "execution_count": 29,
     "metadata": {},
     "output_type": "execute_result"
    }
   ],
   "source": [
    "soup2.find_all('p', {\"id\":\"book_title\"})"
   ]
  },
  {
   "cell_type": "code",
   "execution_count": 30,
   "id": "b6119976",
   "metadata": {},
   "outputs": [
    {
     "data": {
      "text/plain": [
       "[<p id=\"author\">최은석</p>, <p id=\"author\">타니아이 히로키</p>, <p id=\"author\">노수영</p>]"
      ]
     },
     "execution_count": 30,
     "metadata": {},
     "output_type": "execute_result"
    }
   ],
   "source": [
    "soup2.find_all('p', {\"id\":\"author\"})"
   ]
  },
  {
   "cell_type": "code",
   "execution_count": 33,
   "id": "5896e236",
   "metadata": {},
   "outputs": [
    {
     "name": "stdout",
     "output_type": "stream",
     "text": [
      "데이터 분석을 위한 파이썬철저입문/최은석\n",
      "누구나 파이썬 통계분석/타니아이 히로키\n",
      "SQL로 맛보는 데이터 전처리 분석/노수영\n"
     ]
    }
   ],
   "source": [
    "book_titles = soup2.find_all('p', {\"id\":\"book_title\"})\n",
    "authors = soup2.find_all('p', {\"id\":\"author\"})\n",
    "\n",
    "for book_title, author in zip(book_titles, authors):\n",
    "    print(book_title.get_text() + '/' + author.get_text())"
   ]
  },
  {
   "cell_type": "code",
   "execution_count": 34,
   "id": "6df37edd",
   "metadata": {},
   "outputs": [
    {
     "data": {
      "text/plain": [
       "[<h1>책 정보</h1>]"
      ]
     },
     "execution_count": 34,
     "metadata": {},
     "output_type": "execute_result"
    }
   ],
   "source": [
    "soup2.select('body h1')"
   ]
  },
  {
   "cell_type": "code",
   "execution_count": 35,
   "id": "858fa0d6",
   "metadata": {},
   "outputs": [
    {
     "data": {
      "text/plain": [
       "[<p id=\"book_title\">데이터 분석을 위한 파이썬철저입문</p>,\n",
       " <p id=\"author\">최은석</p>,\n",
       " <p id=\"book_title\">누구나 파이썬 통계분석</p>,\n",
       " <p id=\"author\">타니아이 히로키</p>,\n",
       " <p id=\"book_title\">SQL로 맛보는 데이터 전처리 분석</p>,\n",
       " <p id=\"author\">노수영</p>]"
      ]
     },
     "execution_count": 35,
     "metadata": {},
     "output_type": "execute_result"
    }
   ],
   "source": [
    "soup2.select('body p')"
   ]
  },
  {
   "cell_type": "code",
   "execution_count": 36,
   "id": "e1220f23",
   "metadata": {},
   "outputs": [
    {
     "data": {
      "text/plain": [
       "[<p id=\"book_title\">데이터 분석을 위한 파이썬철저입문</p>,\n",
       " <p id=\"author\">최은석</p>,\n",
       " <p id=\"book_title\">누구나 파이썬 통계분석</p>,\n",
       " <p id=\"author\">타니아이 히로키</p>,\n",
       " <p id=\"book_title\">SQL로 맛보는 데이터 전처리 분석</p>,\n",
       " <p id=\"author\">노수영</p>]"
      ]
     },
     "execution_count": 36,
     "metadata": {},
     "output_type": "execute_result"
    }
   ],
   "source": [
    "soup2.select('p')"
   ]
  },
  {
   "cell_type": "code",
   "execution_count": 37,
   "id": "ce8ad7e3",
   "metadata": {},
   "outputs": [
    {
     "data": {
      "text/plain": [
       "[<p id=\"book_title\">데이터 분석을 위한 파이썬철저입문</p>,\n",
       " <p id=\"book_title\">누구나 파이썬 통계분석</p>,\n",
       " <p id=\"book_title\">SQL로 맛보는 데이터 전처리 분석</p>]"
      ]
     },
     "execution_count": 37,
     "metadata": {},
     "output_type": "execute_result"
    }
   ],
   "source": [
    "soup2.select('p#book_title')"
   ]
  },
  {
   "cell_type": "code",
   "execution_count": 38,
   "id": "48572e50",
   "metadata": {},
   "outputs": [
    {
     "data": {
      "text/plain": [
       "[<p id=\"author\">최은석</p>, <p id=\"author\">타니아이 히로키</p>, <p id=\"author\">노수영</p>]"
      ]
     },
     "execution_count": 38,
     "metadata": {},
     "output_type": "execute_result"
    }
   ],
   "source": [
    "soup2.select('p#author')"
   ]
  },
  {
   "cell_type": "code",
   "execution_count": 41,
   "id": "c8bbfbcf",
   "metadata": {},
   "outputs": [
    {
     "name": "stdout",
     "output_type": "stream",
     "text": [
      "Overwriting C:\\Users\\LGE1\\TIL\\python\\IntroductionToPython\\HTML_example_my_site.html\n"
     ]
    }
   ],
   "source": [
    "%%writefile C:\\Users\\LGE1\\TIL\\python\\IntroductionToPython\\HTML_example_my_site.html\n",
    "<!doctype html>\n",
    "<html>\n",
    " <head>\n",
    "    <meta charset=\"utf-8\">\n",
    "    <title>사이트 모음</title>\n",
    " </head>\n",
    " <body>\n",
    "    <p id=\"title\"><b>자주 가는 사이트 모음</b></p>\n",
    "    <p id=\"contents\">이곳은 자주 가는 사이트를 모아둔 곳입니다.</p>\n",
    "    <a href=\"https://www.naver.com\" class=\"portal\" id=\"naver\">네이버</a> <br>\n",
    "    <a href=\"https://www.google.com\" class=\"search\" id=\"google\">구글</a> <br>\n",
    "    <a href=\"https://fastcampus.co.kr\" class=\"education\" id=\"fastcampus\">패스트캠퍼스</a> <br>\n",
    "    <a href=\"https://lc.multicampus.com/k-digital/\" class=\"education\" id=\"multicampus\">멀티캠퍼스</a>\n",
    " </body>\n",
    "</html>"
   ]
  },
  {
   "cell_type": "code",
   "execution_count": 42,
   "id": "b49652cb",
   "metadata": {},
   "outputs": [],
   "source": [
    "f = open(r'C:\\Users\\LGE1\\TIL\\python\\IntroductionToPython\\HTML_example_my_site.html', encoding='utf-8')\n",
    "\n",
    "html3 = f.read()\n",
    "f.close()\n",
    "\n",
    "soup3 = BeautifulSoup(html3, \"lxml\")"
   ]
  },
  {
   "cell_type": "code",
   "execution_count": 43,
   "id": "c350e20b",
   "metadata": {},
   "outputs": [
    {
     "data": {
      "text/plain": [
       "<!DOCTYPE html>\n",
       "<html>\n",
       "<head>\n",
       "<meta charset=\"utf-8\"/>\n",
       "<title>사이트 모음</title>\n",
       "</head>\n",
       "<body>\n",
       "<p id=\"title\"><b>자주 가는 사이트 모음</b></p>\n",
       "<p id=\"contents\">이곳은 자주 가는 사이트를 모아둔 곳입니다.</p>\n",
       "<a class=\"portal\" href=\"https://www.naver.com\" id=\"naver\">네이버</a> <br/>\n",
       "<a class=\"search\" href=\"https://www.google.com\" id=\"google\">구글</a> <br/>\n",
       "<a class=\"education\" href=\"https://fastcampus.co.kr\" id=\"fastcampus\">패스트캠퍼스</a> <br/>\n",
       "<a class=\"education\" href=\"https://lc.multicampus.com/k-digital/\" id=\"multicampus\">멀티캠퍼스</a>\n",
       "</body>\n",
       "</html>"
      ]
     },
     "execution_count": 43,
     "metadata": {},
     "output_type": "execute_result"
    }
   ],
   "source": [
    "soup3"
   ]
  },
  {
   "cell_type": "code",
   "execution_count": 44,
   "id": "146ffdf4",
   "metadata": {},
   "outputs": [
    {
     "data": {
      "text/plain": [
       "[<a class=\"portal\" href=\"https://www.naver.com\" id=\"naver\">네이버</a>,\n",
       " <a class=\"search\" href=\"https://www.google.com\" id=\"google\">구글</a>,\n",
       " <a class=\"education\" href=\"https://fastcampus.co.kr\" id=\"fastcampus\">패스트캠퍼스</a>,\n",
       " <a class=\"education\" href=\"https://lc.multicampus.com/k-digital/\" id=\"multicampus\">멀티캠퍼스</a>]"
      ]
     },
     "execution_count": 44,
     "metadata": {},
     "output_type": "execute_result"
    }
   ],
   "source": [
    "soup3.select('a')"
   ]
  },
  {
   "cell_type": "code",
   "execution_count": 45,
   "id": "6c0aabc9",
   "metadata": {},
   "outputs": [
    {
     "data": {
      "text/plain": [
       "[<a class=\"education\" href=\"https://fastcampus.co.kr\" id=\"fastcampus\">패스트캠퍼스</a>,\n",
       " <a class=\"education\" href=\"https://lc.multicampus.com/k-digital/\" id=\"multicampus\">멀티캠퍼스</a>]"
      ]
     },
     "execution_count": 45,
     "metadata": {},
     "output_type": "execute_result"
    }
   ],
   "source": [
    "soup3.select('a.education')"
   ]
  },
  {
   "cell_type": "code",
   "execution_count": 46,
   "id": "15c84206",
   "metadata": {},
   "outputs": [
    {
     "data": {
      "text/plain": [
       "[<a class=\"portal\" href=\"https://www.naver.com\" id=\"naver\">네이버</a>]"
      ]
     },
     "execution_count": 46,
     "metadata": {},
     "output_type": "execute_result"
    }
   ],
   "source": [
    "soup3.select('a#naver')"
   ]
  },
  {
   "cell_type": "code",
   "execution_count": 47,
   "id": "b85d17fd",
   "metadata": {},
   "outputs": [
    {
     "name": "stdout",
     "output_type": "stream",
     "text": [
      "Writing C:\\Users\\LGE1\\TIL\\python\\IntroductionToPython\\br_example.html\n"
     ]
    }
   ],
   "source": [
    "%%writefile C:\\Users\\LGE1\\TIL\\python\\IntroductionToPython\\br_example.html\n",
    "<!doctype html>\n",
    "<html>\n",
    " <head>\n",
    "    <meta charset=\"utf-8\">\n",
    "    <title>줄 바꿈 테스트 예제</title>\n",
    " </head>\n",
    " <body>\n",
    "    <p id=\"title\"><b>대한민국헌법</b><p>\n",
    "    <p id=\"content\">제1조 <br/>①대한민국은 민주공화국이다.<br/>②대한민국의 주권은 국민에게 있고, 모든 권력은 국민으로부터 나온다.</p>\n",
    "    <p id=\"content\">제2조 <br/>①대한민국의 국민이 되는 요건은 법률로 정한다.<br/>②국가는 법률이 정하는 바에 의하여 재외국민을 보호할 의무를 진다.</p>\n",
    " </body>\n",
    "</html>"
   ]
  },
  {
   "cell_type": "code",
   "execution_count": 48,
   "id": "1a810b76",
   "metadata": {},
   "outputs": [
    {
     "name": "stdout",
     "output_type": "stream",
     "text": [
      "대한민국헌법\n",
      "제1조 ①대한민국은 민주공화국이다.②대한민국의 주권은 국민에게 있고, 모든 권력은 국민으로부터 나온다.\n",
      "제2조 ①대한민국의 국민이 되는 요건은 법률로 정한다.②국가는 법률이 정하는 바에 의하여 재외국민을 보호할 의무를 진다.\n"
     ]
    }
   ],
   "source": [
    "f = open(r'C:\\Users\\LGE1\\TIL\\python\\IntroductionToPython\\br_example.html', encoding='utf-8')\n",
    "\n",
    "html_source = f.read()\n",
    "f.close()\n",
    "\n",
    "soup = BeautifulSoup(html_source, \"lxml\")\n",
    "\n",
    "title = soup.find('p', {\"id\":\"title\"})\n",
    "contents = soup.find_all('p', {\"id\":\"content\"})\n",
    "\n",
    "print(title.get_text())\n",
    "for content in contents:\n",
    "    print(content.get_text())"
   ]
  },
  {
   "cell_type": "code",
   "execution_count": 49,
   "id": "883cf47a",
   "metadata": {},
   "outputs": [
    {
     "name": "stdout",
     "output_type": "stream",
     "text": [
      "<p id=\"content\">제1조 \n",
      "①대한민국은 민주공화국이다.\n",
      "②대한민국의 주권은 국민에게 있고, 모든 권력은 국민으로부터 나온다.</p>\n"
     ]
    }
   ],
   "source": [
    "html1 = '<p id=\"content\">제1조 <br/>①대한민국은 민주공화국이다.<br/>②대한민국의 주권은 국민에게 있고, 모든 권력은 국민으로부터 나온다.</p>'\n",
    "\n",
    "soup1 = BeautifulSoup(html1, 'lxml')\n",
    "content1 = soup1.find('p', {'id':'content'})\n",
    "\n",
    "br_contents = content1.find_all('br')\n",
    "for br_content in br_contents:\n",
    "    br_content.replace_with('\\n')\n",
    "print(content1)"
   ]
  },
  {
   "cell_type": "code",
   "execution_count": 50,
   "id": "6f2d406e",
   "metadata": {},
   "outputs": [],
   "source": [
    "def replace_newline(soup_html):\n",
    "    br_to_newlines = soup_html.find_all('br')\n",
    "    for br_to_newline in br_to_newlines:\n",
    "        br_to_newline.replace_with('\\n')\n",
    "    return soup_html"
   ]
  },
  {
   "cell_type": "code",
   "execution_count": 51,
   "id": "2c273e0d",
   "metadata": {
    "scrolled": true
   },
   "outputs": [
    {
     "name": "stdout",
     "output_type": "stream",
     "text": [
      "대한민국헌법 \n",
      "\n",
      "제1조 \n",
      "①대한민국은 민주공화국이다.\n",
      "②대한민국의 주권은 국민에게 있고, 모든 권력은 국민으로부터 나온다. \n",
      "\n",
      "제2조 \n",
      "①대한민국의 국민이 되는 요건은 법률로 정한다.\n",
      "②국가는 법률이 정하는 바에 의하여 재외국민을 보호할 의무를 진다. \n",
      "\n"
     ]
    }
   ],
   "source": [
    "soup = BeautifulSoup(html_source, 'lxml')\n",
    "\n",
    "title = soup.find('p', {'id':'title'})\n",
    "contents = soup.find_all('p', {'id':'content'})\n",
    "\n",
    "print(title.get_text(), '\\n')\n",
    "\n",
    "for content in contents:\n",
    "    content1 = replace_newline(content)\n",
    "    print(content1.get_text(),'\\n')"
   ]
  },
  {
   "cell_type": "markdown",
   "id": "b88b1666",
   "metadata": {},
   "source": [
    "### 웹 사이트에서 데이터 가져오기"
   ]
  },
  {
   "cell_type": "markdown",
   "id": "77f06f40",
   "metadata": {},
   "source": [
    "#### 순위 데이터 가져오기\n",
    "- 웹 사이트 순위"
   ]
  },
  {
   "cell_type": "code",
   "execution_count": 68,
   "id": "9cd1c585",
   "metadata": {},
   "outputs": [],
   "source": [
    "import requests\n",
    "from bs4 import BeautifulSoup"
   ]
  },
  {
   "cell_type": "code",
   "execution_count": 61,
   "id": "b116114a",
   "metadata": {},
   "outputs": [
    {
     "name": "stdout",
     "output_type": "stream",
     "text": [
      "<Top Sites in South Korea>\n",
      "1: Google.com\n",
      "2: Naver.com\n",
      "3: Youtube.com\n",
      "4: Daum.net\n",
      "5: Tistory.com\n",
      "6: Kakao.com\n",
      "7: Coupang.com\n",
      "8: Tmall.com\n",
      "9: Amazon.com\n",
      "10: Google.co.kr\n"
     ]
    }
   ],
   "source": [
    "url = 'https://www.alexa.com/topsites/countries/KR'\n",
    "\n",
    "html_website_ranking = requests.get(url).text\n",
    "soup_website_ranking = BeautifulSoup(html_website_ranking, 'lxml')\n",
    "\n",
    "website_ranking = soup_website_ranking.select('p a')\n",
    "website_ranking_address = [website_ranking_element.get_text() for website_ranking_element in website_ranking[1:]]\n",
    "\n",
    "print(\"<Top Sites in South Korea>\")\n",
    "for k in range(10):\n",
    "    print(f'{k+1}: {website_ranking_address[k]}')"
   ]
  },
  {
   "cell_type": "code",
   "execution_count": 63,
   "id": "f413742a",
   "metadata": {},
   "outputs": [],
   "source": [
    "import pandas as pd\n",
    "\n",
    "website_ranking_dict = {'Website': website_ranking_address}\n",
    "df = pd.DataFrame(website_ranking_dict, columns=['Website'], index=range(1, len(website_ranking_address)+1))"
   ]
  },
  {
   "cell_type": "code",
   "execution_count": 65,
   "id": "0001581e",
   "metadata": {},
   "outputs": [
    {
     "data": {
      "text/html": [
       "<div>\n",
       "<style scoped>\n",
       "    .dataframe tbody tr th:only-of-type {\n",
       "        vertical-align: middle;\n",
       "    }\n",
       "\n",
       "    .dataframe tbody tr th {\n",
       "        vertical-align: top;\n",
       "    }\n",
       "\n",
       "    .dataframe thead th {\n",
       "        text-align: right;\n",
       "    }\n",
       "</style>\n",
       "<table border=\"1\" class=\"dataframe\">\n",
       "  <thead>\n",
       "    <tr style=\"text-align: right;\">\n",
       "      <th></th>\n",
       "      <th>Website</th>\n",
       "    </tr>\n",
       "  </thead>\n",
       "  <tbody>\n",
       "    <tr>\n",
       "      <th>1</th>\n",
       "      <td>Google.com</td>\n",
       "    </tr>\n",
       "    <tr>\n",
       "      <th>2</th>\n",
       "      <td>Naver.com</td>\n",
       "    </tr>\n",
       "    <tr>\n",
       "      <th>3</th>\n",
       "      <td>Youtube.com</td>\n",
       "    </tr>\n",
       "    <tr>\n",
       "      <th>4</th>\n",
       "      <td>Daum.net</td>\n",
       "    </tr>\n",
       "    <tr>\n",
       "      <th>5</th>\n",
       "      <td>Tistory.com</td>\n",
       "    </tr>\n",
       "    <tr>\n",
       "      <th>6</th>\n",
       "      <td>Kakao.com</td>\n",
       "    </tr>\n",
       "    <tr>\n",
       "      <th>7</th>\n",
       "      <td>Coupang.com</td>\n",
       "    </tr>\n",
       "    <tr>\n",
       "      <th>8</th>\n",
       "      <td>Tmall.com</td>\n",
       "    </tr>\n",
       "    <tr>\n",
       "      <th>9</th>\n",
       "      <td>Amazon.com</td>\n",
       "    </tr>\n",
       "    <tr>\n",
       "      <th>10</th>\n",
       "      <td>Google.co.kr</td>\n",
       "    </tr>\n",
       "  </tbody>\n",
       "</table>\n",
       "</div>"
      ],
      "text/plain": [
       "         Website\n",
       "1     Google.com\n",
       "2      Naver.com\n",
       "3    Youtube.com\n",
       "4       Daum.net\n",
       "5    Tistory.com\n",
       "6      Kakao.com\n",
       "7    Coupang.com\n",
       "8      Tmall.com\n",
       "9     Amazon.com\n",
       "10  Google.co.kr"
      ]
     },
     "execution_count": 65,
     "metadata": {},
     "output_type": "execute_result"
    }
   ],
   "source": [
    "df.head(10)"
   ]
  },
  {
   "cell_type": "markdown",
   "id": "79924e51",
   "metadata": {},
   "source": [
    "- 주간 음악 순위"
   ]
  },
  {
   "cell_type": "code",
   "execution_count": 70,
   "id": "c3b297d1",
   "metadata": {},
   "outputs": [
    {
     "data": {
      "text/plain": [
       "[<a adultcheckval=\"1\" aria-label=\"새창\" href=\"javascript:;\" onclick=\"bugs.wiselog.area('list_tr_09_chart');bugs.music.listen('6138300',true);\n",
       " \" title=\"ELEVEN\">ELEVEN</a>,\n",
       " <a adultcheckval=\"1\" aria-label=\"새창\" href=\"javascript:;\" onclick=\"bugs.wiselog.area('list_tr_09_chart');bugs.music.listen('32405698',true);\n",
       " \" title=\"매일 크리스마스 (Everyday Christmas)\">매일 크리스마스 (Everyday Christmas)</a>,\n",
       " <a adultcheckval=\"1\" aria-label=\"새창\" href=\"javascript:;\" onclick=\"bugs.wiselog.area('list_tr_09_chart');bugs.music.listen('6138444',true);\n",
       " \" title=\"눈이 오잖아(Feat.헤이즈)\">눈이 오잖아(Feat.헤이즈)</a>,\n",
       " <a adultcheckval=\"1\" aria-label=\"새창\" href=\"javascript:;\" onclick=\"bugs.wiselog.area('list_tr_09_chart');bugs.music.listen('32381760',true);\n",
       " \" title=\"회전목마 (Feat. Zion.T, 원슈타인) (Prod. Slom)\">회전목마 (Feat. Zion.T, 원슈타인) (Prod. Slom)</a>,\n",
       " <a adultcheckval=\"1\" aria-label=\"새창\" href=\"javascript:;\" onclick=\"bugs.wiselog.area('list_tr_09_chart');bugs.music.listen('32388313',true);\n",
       " \" title=\"리무진 (Feat. MINO) (Prod. GRAY)\">리무진 (Feat. MINO) (Prod. GRAY)</a>]"
      ]
     },
     "execution_count": 70,
     "metadata": {},
     "output_type": "execute_result"
    }
   ],
   "source": [
    "url = 'https://music.bugs.co.kr/chart/track/week/total?chartdate=20211206'\n",
    "\n",
    "html_music = requests.get(url).text\n",
    "soup_music = BeautifulSoup(html_music, 'lxml')\n",
    "\n",
    "titles = soup_music.select('p.title a')\n",
    "titles[:5]"
   ]
  },
  {
   "cell_type": "code",
   "execution_count": 71,
   "id": "1bd7e1c0",
   "metadata": {},
   "outputs": [],
   "source": [
    "music_titles = [title.get_text() for title in titles]"
   ]
  },
  {
   "cell_type": "code",
   "execution_count": 73,
   "id": "e69b30a7",
   "metadata": {},
   "outputs": [
    {
     "data": {
      "text/plain": [
       "['ELEVEN',\n",
       " '매일 크리스마스 (Everyday Christmas)',\n",
       " '눈이 오잖아(Feat.헤이즈)',\n",
       " '회전목마 (Feat. Zion.T, 원슈타인) (Prod. Slom)',\n",
       " '리무진 (Feat. MINO) (Prod. GRAY)',\n",
       " '만남은 쉽고 이별은 어려워 (Feat. Leellamarz) (Prod. TOIL)',\n",
       " '불협화음 (Feat. AKMU) (Prod. GRAY)',\n",
       " 'strawberry moon',\n",
       " '네가 없는 밤 (Feat. ASH ISLAND) (Prod. GRAY)',\n",
       " '문득']"
      ]
     },
     "execution_count": 73,
     "metadata": {},
     "output_type": "execute_result"
    }
   ],
   "source": [
    "music_titles[:10]"
   ]
  },
  {
   "cell_type": "code",
   "execution_count": 84,
   "id": "16d32641",
   "metadata": {},
   "outputs": [
    {
     "data": {
      "text/plain": [
       "[<a href=\"https://music.bugs.co.kr/artist/20148657?wl_ref=list_tr_10_chart\" onclick=\"\n",
       " \" title=\"IVE (아이브)\">IVE (아이브)</a>,\n",
       " <a href=\"https://music.bugs.co.kr/artist/80041466?wl_ref=list_tr_10_chart\" onclick=\"\n",
       " \" title=\"다비치\">다비치</a>,\n",
       " <a href=\"https://music.bugs.co.kr/artist/20056684?wl_ref=list_tr_10_chart\" onclick=\"\n",
       " \" title=\"이무진\">이무진</a>,\n",
       " <a href=\"https://music.bugs.co.kr/artist/20073470?wl_ref=list_tr_10_chart\" onclick=\"\n",
       " \" title=\"sokodomo\">sokodomo</a>,\n",
       " <a href=\"https://music.bugs.co.kr/artist/80337001?wl_ref=list_tr_10_chart\" onclick=\"\n",
       " \" title=\"BE'O (비오)\">BE'O (비오)</a>,\n",
       " <a href=\"https://music.bugs.co.kr/artist/80026960?wl_ref=list_tr_10_chart\" onclick=\"\n",
       " \" title=\"베이식(Basick)\">베이식(Basick)</a>,\n",
       " <a href=\"https://music.bugs.co.kr/artist/20096572?wl_ref=list_tr_10_chart\" onclick=\"\n",
       " \" title=\"Mudd the student\">Mudd the student</a>,\n",
       " <a href=\"https://music.bugs.co.kr/artist/80049126?wl_ref=list_tr_10_chart\" onclick=\"\n",
       " \" title=\"아이유(IU)\">아이유(IU)</a>,\n",
       " <a href=\"https://music.bugs.co.kr/artist/80337001?wl_ref=list_tr_10_chart\" onclick=\"\n",
       " \" title=\"BE'O (비오)\">BE'O (비오)</a>,\n",
       " <a href=\"https://music.bugs.co.kr/artist/80337001?wl_ref=list_tr_10_chart\" onclick=\"\n",
       " \" title=\"BE'O (비오)\">BE'O (비오)</a>,\n",
       " <a class=\"artistTitle\" href=\"https://music.bugs.co.kr/artist/80079593?wl_ref=list_tr_10_chart\" title=\"존 박\">존 박</a>,\n",
       " <a class=\"more\" href=\"javascript:void(0);\" name=\"atag_martist_list\" onclick=\"bugs.layermenu.openMultiArtistSearchResultPopLayer(this, '존 박||존 박||80079593||OK\\\\n전미도||전미도||80135120||OK', ''); return false;\" title=\"아티스트 전체보기\" wise_log_str=\"?wl_ref=list_tr_10_chart\">\n",
       " 존 박\n",
       " </a>,\n",
       " <a href=\"https://music.bugs.co.kr/artist/80185895?wl_ref=list_tr_10_chart\" onclick=\"\n",
       " \" title=\"MINO(송민호)\">MINO(송민호)</a>]"
      ]
     },
     "execution_count": 84,
     "metadata": {},
     "output_type": "execute_result"
    }
   ],
   "source": [
    "artists = soup_music.select('p.artist a')\n",
    "artists[:13]"
   ]
  },
  {
   "cell_type": "code",
   "execution_count": 85,
   "id": "f46988cb",
   "metadata": {},
   "outputs": [
    {
     "data": {
      "text/plain": [
       "[<a href=\"https://music.bugs.co.kr/artist/20148657?wl_ref=list_tr_10_chart\" onclick=\"\n",
       " \" title=\"IVE (아이브)\">IVE (아이브)</a>,\n",
       " <a href=\"https://music.bugs.co.kr/artist/80041466?wl_ref=list_tr_10_chart\" onclick=\"\n",
       " \" title=\"다비치\">다비치</a>,\n",
       " <a href=\"https://music.bugs.co.kr/artist/20056684?wl_ref=list_tr_10_chart\" onclick=\"\n",
       " \" title=\"이무진\">이무진</a>,\n",
       " <a href=\"https://music.bugs.co.kr/artist/20073470?wl_ref=list_tr_10_chart\" onclick=\"\n",
       " \" title=\"sokodomo\">sokodomo</a>,\n",
       " <a href=\"https://music.bugs.co.kr/artist/80337001?wl_ref=list_tr_10_chart\" onclick=\"\n",
       " \" title=\"BE'O (비오)\">BE'O (비오)</a>,\n",
       " <a href=\"https://music.bugs.co.kr/artist/80026960?wl_ref=list_tr_10_chart\" onclick=\"\n",
       " \" title=\"베이식(Basick)\">베이식(Basick)</a>,\n",
       " <a href=\"https://music.bugs.co.kr/artist/20096572?wl_ref=list_tr_10_chart\" onclick=\"\n",
       " \" title=\"Mudd the student\">Mudd the student</a>,\n",
       " <a href=\"https://music.bugs.co.kr/artist/80049126?wl_ref=list_tr_10_chart\" onclick=\"\n",
       " \" title=\"아이유(IU)\">아이유(IU)</a>,\n",
       " <a href=\"https://music.bugs.co.kr/artist/80337001?wl_ref=list_tr_10_chart\" onclick=\"\n",
       " \" title=\"BE'O (비오)\">BE'O (비오)</a>,\n",
       " <a href=\"https://music.bugs.co.kr/artist/80337001?wl_ref=list_tr_10_chart\" onclick=\"\n",
       " \" title=\"BE'O (비오)\">BE'O (비오)</a>,\n",
       " <a class=\"artistTitle\" href=\"https://music.bugs.co.kr/artist/80079593?wl_ref=list_tr_10_chart\" title=\"존 박\">존 박</a>,\n",
       " <a href=\"https://music.bugs.co.kr/artist/80185895?wl_ref=list_tr_10_chart\" onclick=\"\n",
       " \" title=\"MINO(송민호)\">MINO(송민호)</a>,\n",
       " <a class=\"artistTitle\" href=\"https://music.bugs.co.kr/artist/6840?wl_ref=list_tr_10_chart\" title=\"유희열\">유희열</a>]"
      ]
     },
     "execution_count": 85,
     "metadata": {},
     "output_type": "execute_result"
    }
   ],
   "source": [
    "artists = soup_music.select('p.artist a:not(.more)')\n",
    "artists[:13]"
   ]
  },
  {
   "cell_type": "code",
   "execution_count": 89,
   "id": "102a171b",
   "metadata": {},
   "outputs": [],
   "source": [
    "music_artists = [artist.get_text() for artist in artists]"
   ]
  },
  {
   "cell_type": "code",
   "execution_count": 90,
   "id": "43258e1d",
   "metadata": {},
   "outputs": [
    {
     "data": {
      "text/plain": [
       "['IVE (아이브)', '다비치', '이무진', 'sokodomo', \"BE'O (비오)\"]"
      ]
     },
     "execution_count": 90,
     "metadata": {},
     "output_type": "execute_result"
    }
   ],
   "source": [
    "music_artists[:5]"
   ]
  },
  {
   "cell_type": "code",
   "execution_count": 101,
   "id": "8865b0a4",
   "metadata": {},
   "outputs": [],
   "source": [
    "url = 'https://music.bugs.co.kr/chart/track/week/total?chartdate=20211206'\n",
    "\n",
    "html_music = requests.get(url).text\n",
    "soup_music = BeautifulSoup(html_music, 'lxml')\n",
    "\n",
    "titles = soup_music.select('p.title a')\n",
    "artists = soup_music.select('p.artist a:not(.more)')\n",
    "\n",
    "music_titles = [title.get_text() for title in titles]\n",
    "music_artists = [artist.get_text() for artist in artists]"
   ]
  },
  {
   "cell_type": "code",
   "execution_count": 102,
   "id": "6c70a6d1",
   "metadata": {},
   "outputs": [
    {
     "name": "stdout",
     "output_type": "stream",
     "text": [
      "1: ELEVEN-IVE (아이브)\n",
      "2: 매일 크리스마스 (Everyday Christmas)-다비치\n",
      "3: 눈이 오잖아(Feat.헤이즈)-이무진\n",
      "4: 회전목마 (Feat. Zion.T, 원슈타인) (Prod. Slom)-sokodomo\n",
      "5: 리무진 (Feat. MINO) (Prod. GRAY)-BE'O (비오)\n",
      "6: 만남은 쉽고 이별은 어려워 (Feat. Leellamarz) (Prod. TOIL)-베이식(Basick)\n",
      "7: 불협화음 (Feat. AKMU) (Prod. GRAY)-Mudd the student\n",
      "8: strawberry moon-아이유(IU)\n",
      "9: 네가 없는 밤 (Feat. ASH ISLAND) (Prod. GRAY)-BE'O (비오)\n",
      "10: 문득-BE'O (비오)\n"
     ]
    }
   ],
   "source": [
    "for k in range(10):\n",
    "    print(f'{k+1}: {music_titles[k]}-{music_artists[k]}')"
   ]
  },
  {
   "cell_type": "code",
   "execution_count": 95,
   "id": "b82fddc0",
   "metadata": {},
   "outputs": [],
   "source": [
    "music_titles_artists = {}\n",
    "order = 0\n",
    "\n",
    "for (music_title, music_artist) in zip(music_titles, music_artists):\n",
    "    order += 1\n",
    "    music_titles_artists[order] = [music_title, music_artist]"
   ]
  },
  {
   "cell_type": "code",
   "execution_count": 98,
   "id": "a614ee2b",
   "metadata": {},
   "outputs": [
    {
     "data": {
      "text/plain": [
       "['ELEVEN', 'IVE (아이브)']"
      ]
     },
     "execution_count": 98,
     "metadata": {},
     "output_type": "execute_result"
    }
   ],
   "source": [
    "music_titles_artists[1]"
   ]
  },
  {
   "cell_type": "code",
   "execution_count": 126,
   "id": "194883a5",
   "metadata": {},
   "outputs": [],
   "source": [
    "# 일간차트\n",
    "\n",
    "def bugs_music_day_top100(year, month, day):\n",
    "    \n",
    "    month = \"{0:02d}\".format(month)\n",
    "    day = \"{0:02d}\".format(day)\n",
    "    \n",
    "    base_url = 'https://music.bugs.co.kr/chart/track/day/total?chartdate='\n",
    "    url = base_url + f'{year}{month}{day}'\n",
    "    \n",
    "    html_music = requests.get(url).text\n",
    "    soup_music = BeautifulSoup(html_music, 'lxml')\n",
    "    \n",
    "    titles = soup_music.select('p.title a')\n",
    "    artists = soup_music.select('p.artist a:not(.more)')\n",
    "    \n",
    "    music_titles = [title.get_text() for title in titles]\n",
    "    music_artists = [artist.get_text() for artist in artists]\n",
    "    \n",
    "    return music_titles, music_artists"
   ]
  },
  {
   "cell_type": "code",
   "execution_count": 127,
   "id": "6a0cda7b",
   "metadata": {},
   "outputs": [
    {
     "data": {
      "text/plain": [
       "(['What Do I Call You',\n",
       "  'For You (Feat. Crush)',\n",
       "  '불면증 (Vocal by 윤하)',\n",
       "  'VVS (Feat. JUSTHIS) (Prod. GroovyRoom)',\n",
       "  'CRY FOR ME',\n",
       "  '악역 (Feat. 이하이 & 사이먼 도미닉) (Prod. 코드 쿤스트)',\n",
       "  'Playlist',\n",
       "  'Lovegame',\n",
       "  'Dynamite',\n",
       "  'All I Want for Christmas Is You',\n",
       "  'Life Goes On',\n",
       "  'Santa Tell Me ',\n",
       "  '밤하늘의 별을(2020)',\n",
       "  'Achoo (Feat. pH-1, HAON) (Prod. GroovyRoom)',\n",
       "  'Panorama',\n",
       "  '잘할게',\n",
       "  'Lovesick Girls',\n",
       "  'Black Mamba',\n",
       "  '잠이 오질 않네요',\n",
       "  '내일이 오면 (Feat. 기리보이, BIG Naughty (서동현))',\n",
       "  'Hate you',\n",
       "  'To the moon',\n",
       "  '미리 메리 크리스마스 (feat. 천둥 Of MBLAQ)',\n",
       "  '들불 (Wildfire)',\n",
       "  '사라진 모든 것들에게(with ELLE KOREA)',\n",
       "  'Galaxy',\n",
       "  'Snowman',\n",
       "  'I CAN’T STOP ME',\n",
       "  '한잔이면 지워질까',\n",
       "  '나랑 같이 걸을래 (바른연애 길잡이 X 적재)',\n",
       "  '취기를 빌려 (취향저격 그녀 X 산들)',\n",
       "  '가을밤에 든 생각',\n",
       "  '뿌리 (Feat. JUSTHIS) (Prod. GroovyRoom)',\n",
       "  '혼술하고 싶은 밤',\n",
       "  '어김없이 이 거리에',\n",
       "  '적외선 카메라',\n",
       "  '고독하구만 (Feat. 수퍼비) (Prod. GroovyRoom)',\n",
       "  'Savage Love (Laxed - Siren Beat) (BTS Remix)',\n",
       "  '힘든 건 사랑이 아니다',\n",
       "  'Better',\n",
       "  'MAGO',\n",
       "  '34+35',\n",
       "  '에잇(Prod.&Feat. SUGA of BTS)',\n",
       "  '딩가딩가 (Dingga)',\n",
       "  '오래된 노래',\n",
       "  '흔들리는 꽃들 속에서 네 샴푸향이 느껴진거야',\n",
       "  '너도 아는',\n",
       "  'When We Disco (Duet with 선미)',\n",
       "  'Freak (Prod. Slom)',\n",
       "  '크리스마스니까',\n",
       "  '어떻게 이별까지 사랑하겠어, 널 사랑하는 거지',\n",
       "  'Blueming',\n",
       "  'HAPPENING',\n",
       "  'I am not your ocean anymore',\n",
       "  '한 번에 알아본 사랑 (바른연애 길잡이 X 양요섭)',\n",
       "  '뻔한남자',\n",
       "  'Dolphin',\n",
       "  'How You Like That',\n",
       "  '모든 날, 모든 순간 (Every day, Every Moment)',\n",
       "  \"DON'T TOUCH ME\",\n",
       "  '내 마음이 움찔했던 순간 (취향저격 그녀 X 규현)',\n",
       "  'Hero (Feat. JUSTHIS, Golden) (Prod. GroovyRoom)',\n",
       "  '내 방을 여행하는 법',\n",
       "  'SO BAD',\n",
       "  '0415',\n",
       "  'Bad Boy',\n",
       "  'Bad News Cypher vol.2 (Feat. TakeOne)',\n",
       "  '밤새 (취향저격 그녀 X 카더가든)',\n",
       "  'Square (2017)',\n",
       "  'You’re so lonely now, so you need me back by your side again',\n",
       "  '이제 나만 믿어요',\n",
       "  '마음을 드려요',\n",
       "  'Memories',\n",
       "  'Blue & Grey',\n",
       "  'METEOR',\n",
       "  '밤편지',\n",
       "  '지켜줄게 (바니와 오빠들 X 노을)',\n",
       "  '주저하는 연인들을 위해',\n",
       "  'Text Me Merry Christmas (feat. Kristen Bell)',\n",
       "  '아로하',\n",
       "  '어떻게 지내 (Prod. By VAN.C)',\n",
       "  '늦은 밤 너의 집 앞 골목길에서',\n",
       "  '부어라 비워라 (Tricker) (Prod. GroovyRoom)',\n",
       "  'AYA',\n",
       "  '홀로',\n",
       "  '놓아줘 (with 태연)',\n",
       "  'Dancing Cartoon',\n",
       "  '작은 것들을 위한 시 (Boy With Luv) (Feat. Halsey)',\n",
       "  '마리아 (Maria)',\n",
       "  \"90's Love\",\n",
       "  '잠시',\n",
       "  'Hall&Oates',\n",
       "  '세상에 나쁜 개는 없다 (Feat. YDG, Zion.T) (Prod. Slom)',\n",
       "  'iii (Feat. 베이식, Kid Milli & 팔로알토) (Prod. 코드 쿤스트)',\n",
       "  'Christmas Without You',\n",
       "  '밤하늘의 저 별처럼',\n",
       "  '사랑은 (Feat.원슈타인)',\n",
       "  'Pretty Savage',\n",
       "  'Oh Santa! (feat. Ariana Grande, Jennifer Hudson)',\n",
       "  'Loveless'],\n",
       " ['태연 (TAEYEON)',\n",
       "  '이하이',\n",
       "  '에피톤 프로젝트(Epitone Project)',\n",
       "  '미란이 (Mirani)',\n",
       "  'TWICE (트와이스)',\n",
       "  '스윙스(Swings)',\n",
       "  '태연 (TAEYEON)',\n",
       "  '백예린 (Yerin Baek)',\n",
       "  '방탄소년단',\n",
       "  'Mariah Carey(머라이어 캐리)',\n",
       "  '방탄소년단',\n",
       "  'Ariana Grande(아리아나 그란데)',\n",
       "  '경서',\n",
       "  '미란이 (Mirani)',\n",
       "  'IZ*ONE(아이즈원)',\n",
       "  '이승기',\n",
       "  'BLACKPINK',\n",
       "  'aespa',\n",
       "  '장범준',\n",
       "  '릴보이(lIlBOI)',\n",
       "  '백예린 (Yerin Baek)',\n",
       "  '태연 (TAEYEON)',\n",
       "  '아이유(IU)',\n",
       "  '태연 (TAEYEON)',\n",
       "  '코드 쿤스트',\n",
       "  '태연 (TAEYEON)',\n",
       "  'Sia(시아)',\n",
       "  'TWICE (트와이스)',\n",
       "  '황인욱',\n",
       "  '적재',\n",
       "  '산들',\n",
       "  '잔나비',\n",
       "  'KHUNDI PANDA',\n",
       "  '벤',\n",
       "  '정승환',\n",
       "  '원슈타인',\n",
       "  '머쉬베놈(MUSHVENOM)',\n",
       "  'Jawsh 685',\n",
       "  '임창정',\n",
       "  '보아 (BoA)',\n",
       "  '여자친구(GFRIEND)',\n",
       "  'Ariana Grande(아리아나 그란데)',\n",
       "  '아이유(IU)',\n",
       "  '마마무(Mamamoo)',\n",
       "  '스탠딩 에그(Standing Egg)',\n",
       "  '장범준',\n",
       "  '폴킴(Paul Kim)',\n",
       "  '박진영',\n",
       "  '릴보이(lIlBOI)',\n",
       "  '성시경',\n",
       "  'AKMU(악뮤)',\n",
       "  '아이유(IU)',\n",
       "  'AKMU(악뮤)',\n",
       "  '백예린 (Yerin Baek)',\n",
       "  '양요섭',\n",
       "  '이승기',\n",
       "  '오마이걸(OH MY GIRL)',\n",
       "  'BLACKPINK',\n",
       "  '폴킴(Paul Kim)',\n",
       "  '환불원정대',\n",
       "  '규현 (KYUHYUN)',\n",
       "  'KHUNDI PANDA',\n",
       "  '방탄소년단',\n",
       "  'STAYC(스테이씨)',\n",
       "  '백예린 (Yerin Baek)',\n",
       "  '청하',\n",
       "  '릴보이(lIlBOI)',\n",
       "  '카더가든',\n",
       "  '백예린 (Yerin Baek)',\n",
       "  '백예린 (Yerin Baek)',\n",
       "  '임영웅',\n",
       "  '아이유(IU)',\n",
       "  'Maroon 5(마룬 파이브)',\n",
       "  '방탄소년단',\n",
       "  '창모(CHANGMO)',\n",
       "  '아이유(IU)',\n",
       "  '노을',\n",
       "  '잔나비',\n",
       "  'Straight No Chaser(스트레이트 노 체이서)',\n",
       "  '조정석',\n",
       "  '오반',\n",
       "  '노을',\n",
       "  '머쉬베놈(MUSHVENOM)',\n",
       "  '마마무(Mamamoo)',\n",
       "  '이하이',\n",
       "  'Crush',\n",
       "  '볼빨간사춘기',\n",
       "  '방탄소년단',\n",
       "  '화사(Hwa Sa)',\n",
       "  'NCT U',\n",
       "  '방탄소년단',\n",
       "  '백예린 (Yerin Baek)',\n",
       "  '원슈타인',\n",
       "  '래원 (Layone)',\n",
       "  'Ava Max',\n",
       "  '헤이즈(Heize)',\n",
       "  '마미손',\n",
       "  'BLACKPINK',\n",
       "  'Mariah Carey(머라이어 캐리)',\n",
       "  '백예린 (Yerin Baek)'])"
      ]
     },
     "execution_count": 127,
     "metadata": {},
     "output_type": "execute_result"
    }
   ],
   "source": [
    "bugs_music_day_top100(2020,12,18)"
   ]
  },
  {
   "cell_type": "code",
   "execution_count": 135,
   "id": "58ed2569",
   "metadata": {},
   "outputs": [],
   "source": [
    "# 차트를 파일로 저장\n",
    "\n",
    "import glob\n",
    "\n",
    "bugs_music_titles, bugs_music_artists = bugs_music_day_top100(2021, 12, 17)\n",
    "\n",
    "file_name = r'C:\\Users\\LGE1\\TIL\\python\\IntroductionToPython\\bugs_day_top100.txt'\n",
    "f = open(file_name, 'w')\n",
    "\n",
    "for k in range(len(bugs_music_titles)):\n",
    "    f.write(f\"{k+1}: {bugs_music_titles[k]}-{bugs_music_artists[k]}\\n\")\n",
    "    \n",
    "f.close()"
   ]
  },
  {
   "cell_type": "code",
   "execution_count": 136,
   "id": "ca49daf1",
   "metadata": {},
   "outputs": [
    {
     "data": {
      "text/plain": [
       "['C:\\\\Users\\\\LGE1\\\\TIL\\\\python\\\\IntroductionToPython\\\\bugs_day_top100.txt']"
      ]
     },
     "execution_count": 136,
     "metadata": {},
     "output_type": "execute_result"
    }
   ],
   "source": [
    "glob.glob(file_name)"
   ]
  },
  {
   "cell_type": "markdown",
   "id": "6b52e7a7",
   "metadata": {},
   "source": [
    "#### 웹페이지에서 이미지 가져오기\n",
    "- 하나의 이미지 내려받기"
   ]
  },
  {
   "cell_type": "code",
   "execution_count": 155,
   "id": "cef3ec07",
   "metadata": {},
   "outputs": [],
   "source": [
    "import requests\n",
    "\n",
    "url = 'https://www.python.org/static/img/python-logo@2x.png'\n",
    "html_image = requests.get(url)"
   ]
  },
  {
   "cell_type": "code",
   "execution_count": 140,
   "id": "1eac9a48",
   "metadata": {},
   "outputs": [
    {
     "data": {
      "text/plain": [
       "<Response [200]>"
      ]
     },
     "execution_count": 140,
     "metadata": {},
     "output_type": "execute_result"
    }
   ],
   "source": [
    "html_image"
   ]
  },
  {
   "cell_type": "code",
   "execution_count": 149,
   "id": "3a7c9624",
   "metadata": {},
   "outputs": [
    {
     "data": {
      "text/plain": [
       "'python-logo@2x.png'"
      ]
     },
     "execution_count": 149,
     "metadata": {},
     "output_type": "execute_result"
    }
   ],
   "source": [
    "import os\n",
    "\n",
    "image_file_name = os.path.basename(url)\n",
    "image_file_name"
   ]
  },
  {
   "cell_type": "code",
   "execution_count": 150,
   "id": "70fab1fc",
   "metadata": {},
   "outputs": [],
   "source": [
    "folder =  r'C:\\Users\\LGE1\\TIL\\python\\IntroductionToPython\\download'\n",
    "\n",
    "if not os.path.exists(folder):\n",
    "    os.makedirs(folder)"
   ]
  },
  {
   "cell_type": "code",
   "execution_count": 151,
   "id": "3192aa7e",
   "metadata": {},
   "outputs": [
    {
     "data": {
      "text/plain": [
       "'C:\\\\Users\\\\LGE1\\\\TIL\\\\python\\\\IntroductionToPython\\\\download\\\\python-logo@2x.png'"
      ]
     },
     "execution_count": 151,
     "metadata": {},
     "output_type": "execute_result"
    }
   ],
   "source": [
    "image_path = os.path.join(folder, image_file_name)\n",
    "image_path"
   ]
  },
  {
   "cell_type": "code",
   "execution_count": 152,
   "id": "f542c135",
   "metadata": {},
   "outputs": [],
   "source": [
    "imageFile = open(image_path, 'wb')"
   ]
  },
  {
   "cell_type": "code",
   "execution_count": 153,
   "id": "1cb91052",
   "metadata": {},
   "outputs": [],
   "source": [
    "chunk_size = 1000000\n",
    "for chunk in html_image.iter_content(chunk_size):\n",
    "    imageFile.write(chunk)\n",
    "imageFile.close()"
   ]
  },
  {
   "cell_type": "code",
   "execution_count": 154,
   "id": "0cbd8d7b",
   "metadata": {},
   "outputs": [
    {
     "data": {
      "text/plain": [
       "['python-logo@2x.png']"
      ]
     },
     "execution_count": 154,
     "metadata": {},
     "output_type": "execute_result"
    }
   ],
   "source": [
    "os.listdir(folder)"
   ]
  },
  {
   "cell_type": "code",
   "execution_count": null,
   "id": "ca1f8693",
   "metadata": {},
   "outputs": [],
   "source": [
    "import requests\n",
    "import os\n",
    "\n",
    "url = 'https://www.python.org/static/img/python-logo@2x.png'\n",
    "html_image = requests.get(url)\n",
    "image_file_name = os.path.basename(url)\n",
    "\n",
    "folder =  r'C:\\Users\\LGE1\\TIL\\python\\IntroductionToPython\\download'\n",
    "\n",
    "if not os.path.exists(folder):\n",
    "    os.makedirs(folder)\n",
    "    \n",
    "image_path = os.path.join(folder, image_file_name)\n",
    "\n",
    "imageFile = open(image_path, 'wb')\n",
    "\n",
    "chunk_size = 1000000\n",
    "for chunk in html_image.iter_content(chunk_size):\n",
    "    imageFile.write(chunk)\n",
    "imageFile.close()"
   ]
  },
  {
   "cell_type": "markdown",
   "id": "f57ae7d0",
   "metadata": {},
   "source": [
    "- 여러 이미지 내려받기"
   ]
  },
  {
   "cell_type": "code",
   "execution_count": 158,
   "id": "7ec9bea8",
   "metadata": {},
   "outputs": [
    {
     "data": {
      "text/plain": [
       "[<img alt=\"Reshot\" height=\"33\" src=\"https://www.reshot.com/build/reshot-logo--mark-cc49363ac3f7876f854286af4266ead51a7ff9e0fa12f30677c9e758d43dd0d1.svg\" title=\"Reshot\" width=\"46\"/>,\n",
       " <img alt=\"\" class=\"photos-item-card__image\" height=\"2448\" loading=\"lazy\" src=\"https://res.cloudinary.com/twenty20/private_images/t_reshot-400/v1521838685/photosp/bae96789-a5ab-4471-b54f-9686ace09e33/bae96789-a5ab-4471-b54f-9686ace09e33.jpg\" width=\"2448\"/>,\n",
       " <img alt=\"Back off!\" class=\"photos-item-card__image\" height=\"2361\" loading=\"lazy\" src=\"https://res.cloudinary.com/twenty20/private_images/t_reshot-400/v1597098233/photosp/a44357c5-b1c3-41ef-9a65-7a4937b06a44/a44357c5-b1c3-41ef-9a65-7a4937b06a44.jpg\" width=\"3148\"/>,\n",
       " <img alt=\"Orphans\" class=\"photos-item-card__image\" height=\"3375\" loading=\"lazy\" src=\"https://res.cloudinary.com/twenty20/private_images/t_reshot-400/v1617578418/photosp/34fd9c70-8996-4706-a0f1-113231ed3eee/34fd9c70-8996-4706-a0f1-113231ed3eee.jpg\" width=\"3375\"/>,\n",
       " <img alt=\"Red dog\" class=\"photos-item-card__image\" height=\"2305\" loading=\"lazy\" src=\"https://res.cloudinary.com/twenty20/private_images/t_reshot-400/v1521838680/photosp/dbd9fa3b-238b-47b1-8e20-c05400cbe921/dbd9fa3b-238b-47b1-8e20-c05400cbe921.jpg\" width=\"2026\"/>]"
      ]
     },
     "execution_count": 158,
     "metadata": {},
     "output_type": "execute_result"
    }
   ],
   "source": [
    "URL = 'https://www.reshot.com/free-stock-photos/search/animal/'\n",
    "\n",
    "html_reshot_image = requests.get(URL).text\n",
    "soup_reshot_image = BeautifulSoup(html_reshot_image, 'lxml')\n",
    "reshot_image_elements = soup_reshot_image.select('a img')\n",
    "reshot_image_elements[:5]"
   ]
  },
  {
   "cell_type": "code",
   "execution_count": 159,
   "id": "84487f00",
   "metadata": {},
   "outputs": [
    {
     "data": {
      "text/plain": [
       "'https://res.cloudinary.com/twenty20/private_images/t_reshot-400/v1521838685/photosp/bae96789-a5ab-4471-b54f-9686ace09e33/bae96789-a5ab-4471-b54f-9686ace09e33.jpg'"
      ]
     },
     "execution_count": 159,
     "metadata": {},
     "output_type": "execute_result"
    }
   ],
   "source": [
    "reshot_image_elements[1].get('src')"
   ]
  },
  {
   "cell_type": "code",
   "execution_count": 167,
   "id": "6576ccd0",
   "metadata": {},
   "outputs": [],
   "source": [
    "# URL(주소)에서 이미지 주소 추출\n",
    "def get_image_url(url):\n",
    "    \n",
    "    html_image_url = requests.get(url).text\n",
    "    soup_image_url = BeautifulSoup(html_image_url, 'lxml')\n",
    "    image_elements = soup_image_url.select('a img')\n",
    "\n",
    "    if image_elements != None:\n",
    "        image_urls = []\n",
    "        for image_element in image_elements[1:]:\n",
    "            image_urls.append(image_element.get('src'))\n",
    "        return image_urls\n",
    "    else:\n",
    "        return None\n",
    "    \n",
    "# 폴더를 지정해 이미지 주소에서 이미지 내려받기\n",
    "def download_image(img_folder, img_url):\n",
    "\n",
    "    if img_url != None:\n",
    "        html_image = requests.get(img_url)\n",
    "        imageFile = open(os.path.join(img_folder, os.path.basename(img_url)), 'wb')\n",
    "\n",
    "        chunk_size = 100000\n",
    "        for chunk in html_image.iter_content(chunk_size):\n",
    "            imageFile.write(chunk)\n",
    "            imageFile.close()\n",
    "        print(f\"이미지 파일명: {os.path.basename(img_url)}. 내려받기 완료\")\n",
    "    else:\n",
    "        print(\"내려받을 이미지가 없습니다.\")"
   ]
  },
  {
   "cell_type": "code",
   "execution_count": 168,
   "id": "c3d0b178",
   "metadata": {},
   "outputs": [
    {
     "name": "stdout",
     "output_type": "stream",
     "text": [
      "내려받을 이미지 수:5\n",
      "이미지 파일명: bae96789-a5ab-4471-b54f-9686ace09e33.jpg. 내려받기 완료\n",
      "이미지 파일명: a44357c5-b1c3-41ef-9a65-7a4937b06a44.jpg. 내려받기 완료\n",
      "이미지 파일명: 34fd9c70-8996-4706-a0f1-113231ed3eee.jpg. 내려받기 완료\n",
      "이미지 파일명: dbd9fa3b-238b-47b1-8e20-c05400cbe921.jpg. 내려받기 완료\n",
      "이미지 파일명: 737d192f-ba38-4a71-9bb9-9d40b45d0263.jpg. 내려받기 완료\n",
      "=============================================\n",
      "선택한 모든 이미지 내려받기 완료\n"
     ]
    }
   ],
   "source": [
    "reshot_url = 'https://www.reshot.com/free-stock-photos/search/animal'\n",
    "figure_folder = r'C:\\Users\\LGE1\\TIL\\python\\IntroductionToPython\\download'\n",
    "reshot_image_urls = get_image_url(reshot_url)\n",
    "\n",
    "num_of_download_image = int(input(\"내려받을 이미지 수:\"))\n",
    "\n",
    "for k in range(num_of_download_image):\n",
    "    download_image(figure_folder, reshot_image_urls[k])\n",
    "\n",
    "print(\"=============================================\")\n",
    "print(\"선택한 모든 이미지 내려받기 완료\")"
   ]
  }
 ],
 "metadata": {
  "kernelspec": {
   "display_name": "Python 3 (ipykernel)",
   "language": "python",
   "name": "python3"
  },
  "language_info": {
   "codemirror_mode": {
    "name": "ipython",
    "version": 3
   },
   "file_extension": ".py",
   "mimetype": "text/x-python",
   "name": "python",
   "nbconvert_exporter": "python",
   "pygments_lexer": "ipython3",
   "version": "3.9.7"
  }
 },
 "nbformat": 4,
 "nbformat_minor": 5
}
