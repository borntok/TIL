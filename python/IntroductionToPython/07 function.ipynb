{
 "cells": [
  {
   "cell_type": "code",
   "execution_count": 3,
   "id": "62f86596",
   "metadata": {},
   "outputs": [
    {
     "name": "stdout",
     "output_type": "stream",
     "text": [
      "My first function!\n",
      "This is a function.\n"
     ]
    }
   ],
   "source": [
    "def my_func():\n",
    "    print(\"My first function!\")\n",
    "    print(\"This is a function.\")\n",
    "    \n",
    "my_func()"
   ]
  },
  {
   "cell_type": "code",
   "execution_count": 5,
   "id": "94605703",
   "metadata": {},
   "outputs": [
    {
     "name": "stdout",
     "output_type": "stream",
     "text": [
      "철수는 나의 친구입니다.\n",
      "영희는 나의 친구입니다.\n"
     ]
    }
   ],
   "source": [
    "def my_friend(friendName):\n",
    "    print(\"{}는 나의 친구입니다.\".format(friendName))\n",
    "    \n",
    "my_friend(\"철수\")\n",
    "my_friend(\"영희\")"
   ]
  },
  {
   "cell_type": "code",
   "execution_count": 8,
   "id": "923aa35f",
   "metadata": {},
   "outputs": [
    {
     "name": "stdout",
     "output_type": "stream",
     "text": [
      "--------------------------\n",
      "- 학생이름:  현아\n",
      "- 학급번호:  01\n",
      "- 전화번호:  01-235-6789\n",
      "--------------------------\n",
      "- 학생이름:  진수\n",
      "- 학급번호:  02\n",
      "- 전화번호:  01-987-6543\n"
     ]
    }
   ],
   "source": [
    "def my_student_info(name, school_ID, phoneNumber):\n",
    "    print(\"--------------------------\")\n",
    "    print(\"- 학생이름: \", name)\n",
    "    print(\"- 학급번호: \", school_ID)\n",
    "    print(\"- 전화번호: \", phoneNumber)\n",
    "    \n",
    "my_student_info(\"현아\", \"01\", \"01-235-6789\")\n",
    "my_student_info(\"진수\", \"02\", \"01-987-6543\")"
   ]
  },
  {
   "cell_type": "code",
   "execution_count": 9,
   "id": "b2a94d70",
   "metadata": {},
   "outputs": [
    {
     "data": {
      "text/plain": [
       "12"
      ]
     },
     "execution_count": 9,
     "metadata": {},
     "output_type": "execute_result"
    }
   ],
   "source": [
    "def my_calc(x, y):\n",
    "    z = x * y\n",
    "    return z\n",
    "\n",
    "my_calc(3, 4)"
   ]
  },
  {
   "cell_type": "code",
   "execution_count": 10,
   "id": "028f356e",
   "metadata": {},
   "outputs": [
    {
     "name": "stdout",
     "output_type": "stream",
     "text": [
      "****************************\n",
      "- 학생이름:  현아\n",
      "- 학급번호:  01\n",
      "- 전화번호:  01-235-6789\n",
      "****************************\n"
     ]
    }
   ],
   "source": [
    "def my_student_info_list(student_info):\n",
    "    print(\"****************************\")\n",
    "    print(\"- 학생이름: \", student_info[0])\n",
    "    print(\"- 학급번호: \", student_info[1])\n",
    "    print(\"- 전화번호: \", student_info[2])\n",
    "    print(\"****************************\")\n",
    "    \n",
    "student1_info = [\"현아\", \"01\", \"01-235-6789\"]\n",
    "my_student_info_list(student1_info)"
   ]
  },
  {
   "cell_type": "code",
   "execution_count": 12,
   "id": "7cbb3ed6",
   "metadata": {},
   "outputs": [
    {
     "name": "stdout",
     "output_type": "stream",
     "text": [
      "****************************\n",
      "- 학생이름:  진수\n",
      "- 학급번호:  02\n",
      "- 전화번호:  01-987-6543\n",
      "****************************\n"
     ]
    }
   ],
   "source": [
    "my_student_info_list([\"진수\", \"02\", \"01-987-6543\"])"
   ]
  },
  {
   "cell_type": "code",
   "execution_count": 15,
   "id": "1e8c3afa",
   "metadata": {},
   "outputs": [],
   "source": [
    "a = 5\n",
    "\n",
    "def func1():\n",
    "    a = 1\n",
    "    print(\"[func1] 지역변수 a =\", a)\n",
    "\n",
    "def func2():\n",
    "    a = 2\n",
    "    print(\"[func2] 지역변수 a =\", a)\n",
    "    \n",
    "def func3():\n",
    "    print(\"[func3] 전역변수 a =\", a)\n",
    "    \n",
    "def func4():\n",
    "    global a\n",
    "    a = 4\n",
    "    print(\"[func4] 전역변수 a =\", a)"
   ]
  },
  {
   "cell_type": "code",
   "execution_count": 16,
   "id": "b841ee99",
   "metadata": {},
   "outputs": [
    {
     "name": "stdout",
     "output_type": "stream",
     "text": [
      "[func1] 지역변수 a = 1\n",
      "[func2] 지역변수 a = 2\n",
      "전역변수 a = 5\n"
     ]
    }
   ],
   "source": [
    "func1()\n",
    "func2()\n",
    "print(\"전역변수 a =\", a)"
   ]
  },
  {
   "cell_type": "code",
   "execution_count": 17,
   "id": "ac27457f",
   "metadata": {},
   "outputs": [
    {
     "name": "stdout",
     "output_type": "stream",
     "text": [
      "[func3] 전역변수 a = 5\n",
      "[func4] 전역변수 a = 4\n",
      "[func3] 전역변수 a = 4\n"
     ]
    }
   ],
   "source": [
    "func3()\n",
    "func4()\n",
    "func3()"
   ]
  },
  {
   "cell_type": "code",
   "execution_count": 20,
   "id": "1440b806",
   "metadata": {},
   "outputs": [
    {
     "data": {
      "text/plain": [
       "9"
      ]
     },
     "execution_count": 20,
     "metadata": {},
     "output_type": "execute_result"
    }
   ],
   "source": [
    "(lambda x : x**2) (3)"
   ]
  },
  {
   "cell_type": "code",
   "execution_count": 21,
   "id": "db9e1da8",
   "metadata": {},
   "outputs": [
    {
     "data": {
      "text/plain": [
       "4"
      ]
     },
     "execution_count": 21,
     "metadata": {},
     "output_type": "execute_result"
    }
   ],
   "source": [
    "mySquare = lambda x:x**2\n",
    "mySquare(2)"
   ]
  },
  {
   "cell_type": "code",
   "execution_count": 22,
   "id": "5fd39cf7",
   "metadata": {},
   "outputs": [
    {
     "data": {
      "text/plain": [
       "11"
      ]
     },
     "execution_count": 22,
     "metadata": {},
     "output_type": "execute_result"
    }
   ],
   "source": [
    "mySquareFunc = lambda x,y,z : 2*x + 3*y + z\n",
    "mySquareFunc(1, 2, 3)"
   ]
  },
  {
   "cell_type": "code",
   "execution_count": 23,
   "id": "a4f15cc9",
   "metadata": {},
   "outputs": [],
   "source": [
    "def print_name(name):\n",
    "    if bool(name):\n",
    "        print(\"입력된 이름:\", name)\n",
    "    else :\n",
    "        print(\"입력된 이름이 없습니다\")"
   ]
  },
  {
   "cell_type": "code",
   "execution_count": 24,
   "id": "87f4f361",
   "metadata": {},
   "outputs": [
    {
     "name": "stdout",
     "output_type": "stream",
     "text": [
      "입력된 이름: 예린\n"
     ]
    }
   ],
   "source": [
    "print_name(\"예린\")"
   ]
  },
  {
   "cell_type": "code",
   "execution_count": 26,
   "id": "a65fba6b",
   "metadata": {},
   "outputs": [
    {
     "name": "stdout",
     "output_type": "stream",
     "text": [
      "입력된 이름이 없습니다\n"
     ]
    }
   ],
   "source": [
    "print_name(\"\")"
   ]
  },
  {
   "cell_type": "code",
   "execution_count": 28,
   "id": "43e0782b",
   "metadata": {},
   "outputs": [
    {
     "data": {
      "text/plain": [
       "[0, 99.5]"
      ]
     },
     "execution_count": 28,
     "metadata": {},
     "output_type": "execute_result"
    }
   ],
   "source": [
    "myNum = [10, 5, 12, 0, 3.5, 99.5, 42]\n",
    "[min(myNum), max(myNum)]"
   ]
  },
  {
   "cell_type": "code",
   "execution_count": 30,
   "id": "3aa6b766",
   "metadata": {},
   "outputs": [
    {
     "data": {
      "text/plain": [
       "['a', 'z']"
      ]
     },
     "execution_count": 30,
     "metadata": {},
     "output_type": "execute_result"
    }
   ],
   "source": [
    "myStr = 'zxyabc'\n",
    "[min(myStr), max(myStr)]"
   ]
  },
  {
   "cell_type": "code",
   "execution_count": 31,
   "id": "38e92b49",
   "metadata": {},
   "outputs": [
    {
     "data": {
      "text/plain": [
       "[10, 10]"
      ]
     },
     "execution_count": 31,
     "metadata": {},
     "output_type": "execute_result"
    }
   ],
   "source": [
    "[abs(10), abs(-10)]"
   ]
  },
  {
   "cell_type": "code",
   "execution_count": 32,
   "id": "01645239",
   "metadata": {},
   "outputs": [
    {
     "data": {
      "text/plain": [
       "55"
      ]
     },
     "execution_count": 32,
     "metadata": {},
     "output_type": "execute_result"
    }
   ],
   "source": [
    "sumList = [1,2,3,4,5,6,7,8,9,10]\n",
    "sum(sumList)"
   ]
  },
  {
   "cell_type": "code",
   "execution_count": 33,
   "id": "08900be5",
   "metadata": {},
   "outputs": [
    {
     "data": {
      "text/plain": [
       "5"
      ]
     },
     "execution_count": 33,
     "metadata": {},
     "output_type": "execute_result"
    }
   ],
   "source": [
    "len(\"ab cd\")"
   ]
  },
  {
   "cell_type": "code",
   "execution_count": 38,
   "id": "47cfaa8a",
   "metadata": {},
   "outputs": [
    {
     "name": "stdout",
     "output_type": "stream",
     "text": [
      "총점:350, 평균:87.5\n"
     ]
    }
   ],
   "source": [
    "scores = [90, 80, 95, 85]\n",
    "\n",
    "score_sum = 0\n",
    "subject_num = 0\n",
    "\n",
    "for score in scores:\n",
    "    score_sum += score\n",
    "    subject_num += 1\n",
    "\n",
    "average = score_sum / subject_num\n",
    "\n",
    "print(\"총점:{0}, 평균:{1}\".format(score_sum, average))"
   ]
  },
  {
   "cell_type": "code",
   "execution_count": 39,
   "id": "4ab6282c",
   "metadata": {},
   "outputs": [
    {
     "name": "stdout",
     "output_type": "stream",
     "text": [
      "총점:350, 평균:87.5\n",
      "최하점수:80, 최고점수:95\n"
     ]
    }
   ],
   "source": [
    "scores = [90, 80, 95, 85]\n",
    "\n",
    "print(\"총점:{0}, 평균:{1}\".format(sum(scores), sum(scores)/len(scores)))\n",
    "print(\"최하점수:{0}, 최고점수:{1}\".format(min(scores), max(scores)))"
   ]
  }
 ],
 "metadata": {
  "kernelspec": {
   "display_name": "Python 3 (ipykernel)",
   "language": "python",
   "name": "python3"
  },
  "language_info": {
   "codemirror_mode": {
    "name": "ipython",
    "version": 3
   },
   "file_extension": ".py",
   "mimetype": "text/x-python",
   "name": "python",
   "nbconvert_exporter": "python",
   "pygments_lexer": "ipython3",
   "version": "3.10.0"
  }
 },
 "nbformat": 4,
 "nbformat_minor": 5
}
