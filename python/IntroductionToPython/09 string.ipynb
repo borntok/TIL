{
 "cells": [
  {
   "cell_type": "code",
   "execution_count": 2,
   "id": "fd4161e7",
   "metadata": {},
   "outputs": [
    {
     "data": {
      "text/plain": [
       "['에스프레소', '아메리카노', '카페라테', '카푸치노']"
      ]
     },
     "execution_count": 2,
     "metadata": {},
     "output_type": "execute_result"
    }
   ],
   "source": [
    "coffee_menu_str = \"에스프레소,아메리카노,카페라테,카푸치노\"\n",
    "coffee_menu_str.split(',')"
   ]
  },
  {
   "cell_type": "code",
   "execution_count": 3,
   "id": "d062f899",
   "metadata": {},
   "outputs": [
    {
     "data": {
      "text/plain": [
       "['에스프레소', '아메리카노', '카페라테', '카푸치노']"
      ]
     },
     "execution_count": 3,
     "metadata": {},
     "output_type": "execute_result"
    }
   ],
   "source": [
    "\"에스프레소,아메리카노,카페라테,카푸치노\".split(',')"
   ]
  },
  {
   "cell_type": "code",
   "execution_count": 4,
   "id": "261c515e",
   "metadata": {},
   "outputs": [
    {
     "data": {
      "text/plain": [
       "['에스프레소', '아메리카노', '카페라테', '카푸치노']"
      ]
     },
     "execution_count": 4,
     "metadata": {},
     "output_type": "execute_result"
    }
   ],
   "source": [
    "\"  에스프레소 \\n\\n  아메리카노 \\n 카페라테  카푸치노 \\n\\n\".split()"
   ]
  },
  {
   "cell_type": "code",
   "execution_count": 5,
   "id": "3815fda3",
   "metadata": {},
   "outputs": [
    {
     "data": {
      "text/plain": [
       "['에스프레소', '아메리카노', '카페라테 카푸치노']"
      ]
     },
     "execution_count": 5,
     "metadata": {},
     "output_type": "execute_result"
    }
   ],
   "source": [
    "\"에스프레소 아메리카노 카페라테 카푸치노\".split(maxsplit=2)"
   ]
  },
  {
   "cell_type": "code",
   "execution_count": 6,
   "id": "225edb22",
   "metadata": {},
   "outputs": [
    {
     "name": "stdout",
     "output_type": "stream",
     "text": [
      "['+82', '01-2345-6789']\n",
      "01-2345-6789\n"
     ]
    }
   ],
   "source": [
    "phone_number = \"+82-01-2345-6789\"\n",
    "split_num = phone_number.split(\"-\", 1)\n",
    "\n",
    "print(split_num)\n",
    "print(split_num[1])"
   ]
  },
  {
   "cell_type": "code",
   "execution_count": 7,
   "id": "5bcd0940",
   "metadata": {},
   "outputs": [
    {
     "data": {
      "text/plain": [
       "'bbPythonbbb'"
      ]
     },
     "execution_count": 7,
     "metadata": {},
     "output_type": "execute_result"
    }
   ],
   "source": [
    "test_str = \"aaabbPythonbbbaa\"\n",
    "temp1 = test_str.strip('a')\n",
    "temp1"
   ]
  },
  {
   "cell_type": "code",
   "execution_count": 8,
   "id": "456ed36e",
   "metadata": {},
   "outputs": [
    {
     "data": {
      "text/plain": [
       "'Python'"
      ]
     },
     "execution_count": 8,
     "metadata": {},
     "output_type": "execute_result"
    }
   ],
   "source": [
    "temp2 = temp1.strip('b')\n",
    "temp2"
   ]
  },
  {
   "cell_type": "code",
   "execution_count": 9,
   "id": "eac3764b",
   "metadata": {},
   "outputs": [
    {
     "data": {
      "text/plain": [
       "'Python'"
      ]
     },
     "execution_count": 9,
     "metadata": {},
     "output_type": "execute_result"
    }
   ],
   "source": [
    "test_str.strip('ab')"
   ]
  },
  {
   "cell_type": "code",
   "execution_count": 10,
   "id": "dd249576",
   "metadata": {},
   "outputs": [
    {
     "data": {
      "text/plain": [
       "'Python'"
      ]
     },
     "execution_count": 10,
     "metadata": {},
     "output_type": "execute_result"
    }
   ],
   "source": [
    "test_str.strip('ba')"
   ]
  },
  {
   "cell_type": "code",
   "execution_count": 11,
   "id": "723020df",
   "metadata": {},
   "outputs": [
    {
     "data": {
      "text/plain": [
       "'Python is powerful'"
      ]
     },
     "execution_count": 11,
     "metadata": {},
     "output_type": "execute_result"
    }
   ],
   "source": [
    "test_str_multi = \"##***!!!##.... Python is powerful.!... %%!#.. \"\n",
    "test_str_multi.strip('*.#! %')"
   ]
  },
  {
   "cell_type": "code",
   "execution_count": 13,
   "id": "af5c9d1a",
   "metadata": {},
   "outputs": [
    {
     "data": {
      "text/plain": [
       "'Python'"
      ]
     },
     "execution_count": 13,
     "metadata": {},
     "output_type": "execute_result"
    }
   ],
   "source": [
    "\"\\n Python \\n\\n\".strip()"
   ]
  },
  {
   "cell_type": "code",
   "execution_count": 14,
   "id": "57a465f8",
   "metadata": {},
   "outputs": [
    {
     "name": "stdout",
     "output_type": "stream",
     "text": [
      "Python is easy to learn.000\n",
      "000Python is easy to learn.\n",
      "Python is easy to learn.\n"
     ]
    }
   ],
   "source": [
    "str_lr = \"000Python is easy to learn.000\"\n",
    "\n",
    "print(str_lr.lstrip('0'))\n",
    "print(str_lr.rstrip('0'))\n",
    "print(str_lr.strip('0'))"
   ]
  },
  {
   "cell_type": "code",
   "execution_count": 16,
   "id": "63b45336",
   "metadata": {},
   "outputs": [
    {
     "name": "stdout",
     "output_type": "stream",
     "text": [
      "['espresso', 'americano', 'caffelatte', 'cappuccino']\n"
     ]
    }
   ],
   "source": [
    "coffee_menu = \" espresso, americano,  caffelatte  , cappuccino \"\n",
    "coffee_menu_list = coffee_menu.split(',')\n",
    "coffee_list = []\n",
    "\n",
    "for coffee in coffee_menu_list:\n",
    "    temp = coffee.strip()\n",
    "    coffee_list.append(temp)\n",
    "    \n",
    "print(coffee_list)"
   ]
  },
  {
   "cell_type": "code",
   "execution_count": 18,
   "id": "7b3d3300",
   "metadata": {},
   "outputs": [
    {
     "name": "stdout",
     "output_type": "stream",
     "text": [
      "철수님, 주소와 전화 번호를 입력해 주세요.\n",
      "영미님, 주소와 전화 번호를 입력해 주세요.\n"
     ]
    }
   ],
   "source": [
    "name1 = \"철수\"\n",
    "name2 = \"영미\"\n",
    "\n",
    "hello = \"님, 주소와 전화 번호를 입력해 주세요.\"\n",
    "print(name1 + hello)\n",
    "print(name2 + hello)"
   ]
  },
  {
   "cell_type": "code",
   "execution_count": 21,
   "id": "355c4301",
   "metadata": {},
   "outputs": [
    {
     "data": {
      "text/plain": [
       "'수원시 장안구 장안로 211(정자동)'"
      ]
     },
     "execution_count": 21,
     "metadata": {},
     "output_type": "execute_result"
    }
   ],
   "source": [
    "address_list = [\"수원시\", \"장안구\", \"장안로\", \"211(정자동)\"]\n",
    "\n",
    "\" \".join(address_list)"
   ]
  },
  {
   "cell_type": "code",
   "execution_count": 23,
   "id": "e29edccc",
   "metadata": {},
   "outputs": [
    {
     "data": {
      "text/plain": [
       "'수원시*^v^*장안구*^v^*장안로*^v^*211(정자동)'"
      ]
     },
     "execution_count": 23,
     "metadata": {},
     "output_type": "execute_result"
    }
   ],
   "source": [
    "\"*^v^*\".join(address_list)"
   ]
  },
  {
   "cell_type": "code",
   "execution_count": 24,
   "id": "02f18e2b",
   "metadata": {},
   "outputs": [
    {
     "name": "stdout",
     "output_type": "stream",
     "text": [
      "찾는 문자열의 위치: 0\n",
      "찾는 문자열의 위치: 7\n",
      "찾는 문자열의 위치: 5\n",
      "찾는 문자열의 위치: -1\n"
     ]
    }
   ],
   "source": [
    "str_f = \"Python code.\"\n",
    "\n",
    "print(\"찾는 문자열의 위치:\", str_f.find(\"Python\"))\n",
    "print(\"찾는 문자열의 위치:\", str_f.find(\"code\"))\n",
    "print(\"찾는 문자열의 위치:\", str_f.find(\"n\"))\n",
    "print(\"찾는 문자열의 위치:\", str_f.find(\"easy\"))"
   ]
  },
  {
   "cell_type": "code",
   "execution_count": 25,
   "id": "101c06fc",
   "metadata": {},
   "outputs": [
    {
     "name": "stdout",
     "output_type": "stream",
     "text": [
      "20\n",
      "-1\n"
     ]
    }
   ],
   "source": [
    "str_f_se = \"Python is powerful. Python is easy to learn\"\n",
    "\n",
    "print(str_f_se.find(\"Python\", 10, 30))\n",
    "print(str_f_se.find(\"Python\", 35))"
   ]
  },
  {
   "cell_type": "code",
   "execution_count": 26,
   "id": "6505fcc9",
   "metadata": {},
   "outputs": [
    {
     "name": "stdout",
     "output_type": "stream",
     "text": [
      "Python의 개수는?: 3\n",
      "powerful의 개수는?: 1\n",
      "IPython의 개수는?: 0\n"
     ]
    }
   ],
   "source": [
    "str_c = \"Python is powerful. Python is easy to learn. Python is open\"\n",
    "\n",
    "print(\"Python의 개수는?:\", str_c.count('Python'))\n",
    "print(\"powerful의 개수는?:\", str_c.count(\"powerful\"))\n",
    "print(\"IPython의 개수는?:\", str_c.count(\"IPython\"))"
   ]
  },
  {
   "cell_type": "code",
   "execution_count": 27,
   "id": "513076fa",
   "metadata": {},
   "outputs": [
    {
     "name": "stdout",
     "output_type": "stream",
     "text": [
      "Python으로 시작?: True\n",
      "is로 시작?: False\n",
      ".로 끝?: True\n",
      "learn으로 끝?: False\n"
     ]
    }
   ],
   "source": [
    "str_se = \"Python is powerful. Python is easy to learn.\"\n",
    "\n",
    "print(\"Python으로 시작?:\", str_se.startswith(\"Python\"))\n",
    "print(\"is로 시작?:\", str_se.startswith(\"is\"))\n",
    "print(\".로 끝?:\", str_se.endswith(\".\"))\n",
    "print(\"learn으로 끝?:\", str_se.endswith(\"learn\"))"
   ]
  },
  {
   "cell_type": "code",
   "execution_count": 28,
   "id": "382a7e20",
   "metadata": {},
   "outputs": [
    {
     "name": "stdout",
     "output_type": "stream",
     "text": [
      "R is fast. R is friendly. R is open.\n",
      "R is fast. R is friendly. Python is open.\n"
     ]
    }
   ],
   "source": [
    "str_a = 'Python is fast. Python is friendly. Python is open.'\n",
    "\n",
    "print(str_a.replace('Python','R'))\n",
    "print(str_a.replace('Python','R', 2))"
   ]
  },
  {
   "cell_type": "code",
   "execution_count": 3,
   "id": "14adf62f",
   "metadata": {},
   "outputs": [
    {
     "name": "stderr",
     "output_type": "stream",
     "text": [
      "지정된 파일을 찾을 수 없습니다.\n"
     ]
    }
   ],
   "source": [
    "!type C:\\myPyCode\\data\\coffeeShopSales.txt"
   ]
  },
  {
   "cell_type": "code",
   "execution_count": null,
   "id": "66b005ae",
   "metadata": {},
   "outputs": [],
   "source": []
  },
  {
   "cell_type": "code",
   "execution_count": null,
   "id": "9d367033",
   "metadata": {},
   "outputs": [],
   "source": []
  },
  {
   "cell_type": "code",
   "execution_count": null,
   "id": "386d2272",
   "metadata": {},
   "outputs": [],
   "source": []
  },
  {
   "cell_type": "code",
   "execution_count": null,
   "id": "38b28789",
   "metadata": {
    "collapsed": true
   },
   "outputs": [],
   "source": []
  }
 ],
 "metadata": {
  "kernelspec": {
   "display_name": "Python 3 (ipykernel)",
   "language": "python",
   "name": "python3"
  },
  "language_info": {
   "codemirror_mode": {
    "name": "ipython",
    "version": 3
   },
   "file_extension": ".py",
   "mimetype": "text/x-python",
   "name": "python",
   "nbconvert_exporter": "python",
   "pygments_lexer": "ipython3",
   "version": "3.9.7"
  }
 },
 "nbformat": 4,
 "nbformat_minor": 5
}
