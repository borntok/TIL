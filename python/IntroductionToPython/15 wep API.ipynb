{
 "cells": [
  {
   "cell_type": "code",
   "execution_count": 1,
   "id": "c5fbbc07",
   "metadata": {},
   "outputs": [
    {
     "data": {
      "text/plain": [
       "dict"
      ]
     },
     "execution_count": 1,
     "metadata": {},
     "output_type": "execute_result"
    }
   ],
   "source": [
    "import json\n",
    "\n",
    "python_dict = {\n",
    "    '이름':'홍길동',\n",
    "    '나이': 25,\n",
    "    '거주지': '서울',\n",
    "    '신체정보':{\n",
    "        '키': 175.4,\n",
    "        '몸무게':71.2\n",
    "    },\n",
    "    '취미': [\n",
    "        '등산',\n",
    "        '자전거타기',\n",
    "        '독서'\n",
    "    ]\n",
    "}\n",
    "type(python_dict)"
   ]
  },
  {
   "cell_type": "code",
   "execution_count": 2,
   "id": "61992276",
   "metadata": {},
   "outputs": [
    {
     "data": {
      "text/plain": [
       "str"
      ]
     },
     "execution_count": 2,
     "metadata": {},
     "output_type": "execute_result"
    }
   ],
   "source": [
    "json_data = json.dumps(python_dict)\n",
    "type(json_data)"
   ]
  },
  {
   "cell_type": "code",
   "execution_count": 3,
   "id": "b4150aa1",
   "metadata": {},
   "outputs": [
    {
     "name": "stdout",
     "output_type": "stream",
     "text": [
      "{\"\\uc774\\ub984\": \"\\ud64d\\uae38\\ub3d9\", \"\\ub098\\uc774\": 25, \"\\uac70\\uc8fc\\uc9c0\": \"\\uc11c\\uc6b8\", \"\\uc2e0\\uccb4\\uc815\\ubcf4\": {\"\\ud0a4\": 175.4, \"\\ubab8\\ubb34\\uac8c\": 71.2}, \"\\ucde8\\ubbf8\": [\"\\ub4f1\\uc0b0\", \"\\uc790\\uc804\\uac70\\ud0c0\\uae30\", \"\\ub3c5\\uc11c\"]}\n"
     ]
    }
   ],
   "source": [
    "print(json_data)"
   ]
  },
  {
   "cell_type": "code",
   "execution_count": 4,
   "id": "87be2938",
   "metadata": {},
   "outputs": [
    {
     "name": "stdout",
     "output_type": "stream",
     "text": [
      "{\n",
      "   \"거주지\": \"서울\",\n",
      "   \"나이\": 25,\n",
      "   \"신체정보\": {\n",
      "      \"몸무게\": 71.2,\n",
      "      \"키\": 175.4\n",
      "   },\n",
      "   \"이름\": \"홍길동\",\n",
      "   \"취미\": [\n",
      "      \"등산\",\n",
      "      \"자전거타기\",\n",
      "      \"독서\"\n",
      "   ]\n",
      "}\n"
     ]
    }
   ],
   "source": [
    "json_data = json.dumps(python_dict, indent=3, sort_keys=True, ensure_ascii=False)\n",
    "print(json_data)"
   ]
  },
  {
   "cell_type": "code",
   "execution_count": 5,
   "id": "943358cc",
   "metadata": {},
   "outputs": [
    {
     "data": {
      "text/plain": [
       "dict"
      ]
     },
     "execution_count": 5,
     "metadata": {},
     "output_type": "execute_result"
    }
   ],
   "source": [
    "json_dict = json.loads(json_data)\n",
    "type(json_dict)"
   ]
  },
  {
   "cell_type": "code",
   "execution_count": 6,
   "id": "fd4eb0d5",
   "metadata": {},
   "outputs": [
    {
     "data": {
      "text/plain": [
       "71.2"
      ]
     },
     "execution_count": 6,
     "metadata": {},
     "output_type": "execute_result"
    }
   ],
   "source": [
    "json_dict['신체정보']['몸무게']"
   ]
  },
  {
   "cell_type": "code",
   "execution_count": 7,
   "id": "a68dbb1c",
   "metadata": {},
   "outputs": [
    {
     "data": {
      "text/plain": [
       "'등산'"
      ]
     },
     "execution_count": 7,
     "metadata": {},
     "output_type": "execute_result"
    }
   ],
   "source": [
    "json_dict['취미'][0]"
   ]
  },
  {
   "cell_type": "code",
   "execution_count": 15,
   "id": "466f6824",
   "metadata": {},
   "outputs": [
    {
     "name": "stdout",
     "output_type": "stream",
     "text": [
      "<?xml version=\"1.0\" encoding=\"UTF-8\" ?>\n",
      "<사용자정보>\n",
      "    <이름>홍길동</이름>\n",
      "    <나이>25</나이>\n",
      "    <거주지>서울</거주지>\n",
      "    <신체정보>\n",
      "        <키 unit=\"cm\">175.4</키>\n",
      "        <몸무게 unit=\"kg\">71.2</몸무게>\n",
      "    </신체정보>\n",
      "    <취미>등산</취미>\n",
      "    <취미>자전거타기</취미>\n",
      "    <취미>독서</취미>\n",
      "</사용자정보> \n",
      "\n"
     ]
    }
   ],
   "source": [
    "xml_data = \"\"\"<?xml version=\"1.0\" encoding=\"UTF-8\" ?>\n",
    "<사용자정보>\n",
    "    <이름>홍길동</이름>\n",
    "    <나이>25</나이>\n",
    "    <거주지>서울</거주지>\n",
    "    <신체정보>\n",
    "        <키 unit=\"cm\">175.4</키>\n",
    "        <몸무게 unit=\"kg\">71.2</몸무게>\n",
    "    </신체정보>\n",
    "    <취미>등산</취미>\n",
    "    <취미>자전거타기</취미>\n",
    "    <취미>독서</취미>\n",
    "</사용자정보> \n",
    "\"\"\"\n",
    "print(xml_data)"
   ]
  },
  {
   "cell_type": "code",
   "execution_count": 16,
   "id": "8ed272cd",
   "metadata": {},
   "outputs": [
    {
     "data": {
      "text/plain": [
       "OrderedDict([('사용자정보',\n",
       "              OrderedDict([('이름', '홍길동'),\n",
       "                           ('나이', '25'),\n",
       "                           ('거주지', '서울'),\n",
       "                           ('신체정보',\n",
       "                            OrderedDict([('키',\n",
       "                                          OrderedDict([('@unit', 'cm'),\n",
       "                                                       ('#text', '175.4')])),\n",
       "                                         ('몸무게',\n",
       "                                          OrderedDict([('@unit', 'kg'),\n",
       "                                                       ('#text', '71.2')]))])),\n",
       "                           ('취미', ['등산', '자전거타기', '독서'])]))])"
      ]
     },
     "execution_count": 16,
     "metadata": {},
     "output_type": "execute_result"
    }
   ],
   "source": [
    "import xmltodict\n",
    "\n",
    "dict_data = xmltodict.parse(xml_data, xml_attribs=True)\n",
    "dict_data"
   ]
  },
  {
   "cell_type": "code",
   "execution_count": 17,
   "id": "f9144aa0",
   "metadata": {},
   "outputs": [
    {
     "data": {
      "text/plain": [
       "'홍길동'"
      ]
     },
     "execution_count": 17,
     "metadata": {},
     "output_type": "execute_result"
    }
   ],
   "source": [
    "dict_data['사용자정보']['이름']"
   ]
  },
  {
   "cell_type": "code",
   "execution_count": 18,
   "id": "4a4b9101",
   "metadata": {},
   "outputs": [
    {
     "data": {
      "text/plain": [
       "OrderedDict([('키', OrderedDict([('@unit', 'cm'), ('#text', '175.4')])),\n",
       "             ('몸무게', OrderedDict([('@unit', 'kg'), ('#text', '71.2')]))])"
      ]
     },
     "execution_count": 18,
     "metadata": {},
     "output_type": "execute_result"
    }
   ],
   "source": [
    "dict_data['사용자정보']['신체정보']"
   ]
  },
  {
   "cell_type": "code",
   "execution_count": 19,
   "id": "b1537ea4",
   "metadata": {},
   "outputs": [
    {
     "data": {
      "text/plain": [
       "'cm'"
      ]
     },
     "execution_count": 19,
     "metadata": {},
     "output_type": "execute_result"
    }
   ],
   "source": [
    "dict_data['사용자정보']['신체정보']['키']['@unit']"
   ]
  },
  {
   "cell_type": "code",
   "execution_count": 20,
   "id": "56cb8d56",
   "metadata": {},
   "outputs": [
    {
     "data": {
      "text/plain": [
       "'175.4'"
      ]
     },
     "execution_count": 20,
     "metadata": {},
     "output_type": "execute_result"
    }
   ],
   "source": [
    "dict_data['사용자정보']['신체정보']['키']['#text']"
   ]
  },
  {
   "cell_type": "code",
   "execution_count": 22,
   "id": "2e155c4a",
   "metadata": {},
   "outputs": [
    {
     "name": "stdout",
     "output_type": "stream",
     "text": [
      "사용자 홍길동의 신체정보\n",
      "-키: 175.4cm\n",
      "-몸무게: 71.2kg\n"
     ]
    }
   ],
   "source": [
    "dict_data = xmltodict.parse(xml_data)\n",
    "\n",
    "user_name = dict_data['사용자정보']['이름']\n",
    "body_data = dict_data['사용자정보']['신체정보']\n",
    "\n",
    "height = body_data['키']['#text']\n",
    "height_unit = body_data['키']['@unit']\n",
    "\n",
    "weight = body_data['몸무게']['#text']\n",
    "weight_unit = body_data['몸무게']['@unit']\n",
    "\n",
    "print(f'사용자 {user_name}의 신체정보')\n",
    "print(f\"-키: {height}{height_unit}\")\n",
    "print(f\"-몸무게: {weight}{weight_unit}\")"
   ]
  },
  {
   "cell_type": "code",
   "execution_count": 24,
   "id": "e9062ab2",
   "metadata": {},
   "outputs": [
    {
     "data": {
      "text/plain": [
       "OrderedDict([('사용자정보',\n",
       "              OrderedDict([('이름', '홍길동'),\n",
       "                           ('나이', '25'),\n",
       "                           ('거주지', '서울'),\n",
       "                           ('신체정보',\n",
       "                            OrderedDict([('키', '175.4'), ('몸무게', '71.2')])),\n",
       "                           ('취미', ['등산', '자전거타기', '독서'])]))])"
      ]
     },
     "execution_count": 24,
     "metadata": {},
     "output_type": "execute_result"
    }
   ],
   "source": [
    "dict_data2 = xmltodict.parse(xml_data, xml_attribs=False)\n",
    "dict_data2"
   ]
  },
  {
   "cell_type": "markdown",
   "id": "f3383aa8",
   "metadata": {},
   "source": [
    "### 웹사이트 주소에 부가 정보 추가하기"
   ]
  },
  {
   "cell_type": "code",
   "execution_count": 27,
   "id": "f5d83c23",
   "metadata": {},
   "outputs": [
    {
     "name": "stdout",
     "output_type": "stream",
     "text": [
      "https://api.github.com/events\n"
     ]
    }
   ],
   "source": [
    "base_url = 'https://api.github.com/'\n",
    "sub_dir = 'events'\n",
    "url = base_url+sub_dir\n",
    "print(url)"
   ]
  },
  {
   "cell_type": "code",
   "execution_count": 29,
   "id": "4e170c81",
   "metadata": {},
   "outputs": [
    {
     "name": "stdout",
     "output_type": "stream",
     "text": [
      "https://api.github.com/events\n",
      "https://api.github.com/user\n",
      "https://api.github.com/emails\n"
     ]
    }
   ],
   "source": [
    "import requests\n",
    "\n",
    "base_url = 'https://api.github.com/'\n",
    "sub_dirs = ['events', 'user', 'emails']\n",
    "\n",
    "for sub_dir in sub_dirs:\n",
    "    url_dir = base_url+sub_dir\n",
    "    r = requests.get(url_dir)\n",
    "    print(r.url)"
   ]
  },
  {
   "cell_type": "code",
   "execution_count": 32,
   "id": "1826f67c",
   "metadata": {},
   "outputs": [
    {
     "name": "stdout",
     "output_type": "stream",
     "text": [
      "http://api.openweathermap.org/data/2.5/weather?lat=37.57&lon=126.98&appid=b235c57pc357fb68acr1e81&units=metric\n"
     ]
    }
   ],
   "source": [
    "LAT = '37.57'\n",
    "LON = '126.98'\n",
    "API_KEY = 'b235c57pc357fb68acr1e81' #(임의의 API 키)\n",
    "UNIT = 'metric'\n",
    "\n",
    "site_url = 'http://api.openweathermap.org/data/2.5/weather'\n",
    "parameter = '?lat=%s&lon=%s&appid=%s&units=%s'%(LAT, LON, API_KEY, UNIT)\n",
    "url_para = site_url+parameter\n",
    "r = requests.get(url_para)\n",
    "\n",
    "print(r.url)"
   ]
  },
  {
   "cell_type": "code",
   "execution_count": 33,
   "id": "df0998f5",
   "metadata": {},
   "outputs": [
    {
     "name": "stdout",
     "output_type": "stream",
     "text": [
      "http://api.openweathermap.org/data/2.5/weather?lat=37.57&lon=126.98&appid=b235c57pc357fb68acr1e81&units=metric\n"
     ]
    }
   ],
   "source": [
    "LAT = '37.57'\n",
    "LON = '126.98'\n",
    "API_KEY = 'b235c57pc357fb68acr1e81' #(임의의 API 키)\n",
    "UNIT = 'metric'\n",
    "\n",
    "req_url = 'http://api.openweathermap.org/data/2.5/weather'\n",
    "req_parameter = {\"lat\":LAT, \"lon\":LON, \"appid\":API_KEY, \"units\":UNIT}\n",
    "r = requests.get(req_url, params=req_parameter)\n",
    "print(r.url)"
   ]
  },
  {
   "cell_type": "code",
   "execution_count": 35,
   "id": "c16868fa",
   "metadata": {},
   "outputs": [
    {
     "name": "stdout",
     "output_type": "stream",
     "text": [
      "Encoded url: et5piq3pfpqLEWPpCbvtSQ%2Bertertg%2Bx3evdvbaRBvhWEerg3efac2r3f3RfhDTERTw%2B9rkvoewRV%2Fovmrk3dq%3D%3D\n",
      "Decoded url: et5piq3pfpqLEWPpCbvtSQ+ertertg+x3evdvbaRBvhWEerg3efac2r3f3RfhDTERTw+9rkvoewRV/ovmrk3dq==\n"
     ]
    }
   ],
   "source": [
    "API_KEY = \"et5piq3pfpqLEWPpCbvtSQ%2Bertertg%2Bx3evdvbaRBvhWEerg3efac2r3f3RfhDTERTw%2B9rkvoewRV%2Fovmrk3dq%3D%3D\"\n",
    "\n",
    "API_KEY_decode = requests.utils.unquote(API_KEY)\n",
    "print(\"Encoded url:\", API_KEY)\n",
    "print(\"Decoded url:\", API_KEY_decode)"
   ]
  },
  {
   "cell_type": "markdown",
   "id": "4d68ae5f",
   "metadata": {},
   "source": [
    "### 국제 우주 정거장의 정보 가져오기"
   ]
  },
  {
   "cell_type": "code",
   "execution_count": 38,
   "id": "836fa0c1",
   "metadata": {},
   "outputs": [
    {
     "name": "stdout",
     "output_type": "stream",
     "text": [
      "{\"message\": \"success\", \"iss_position\": {\"longitude\": \"113.8321\", \"latitude\": \"13.8613\"}, \"timestamp\": 1639814379}\n"
     ]
    }
   ],
   "source": [
    "import requests\n",
    "import json\n",
    "\n",
    "url = 'http://api.open-notify.org/iss-now.json'\n",
    "r = requests.get(url)\n",
    "print(r.text)"
   ]
  },
  {
   "cell_type": "code",
   "execution_count": 39,
   "id": "f285442a",
   "metadata": {},
   "outputs": [
    {
     "data": {
      "text/plain": [
       "dict"
      ]
     },
     "execution_count": 39,
     "metadata": {},
     "output_type": "execute_result"
    }
   ],
   "source": [
    "json_to_dict = json.loads(r.text)\n",
    "type(json_to_dict)"
   ]
  },
  {
   "cell_type": "code",
   "execution_count": 40,
   "id": "0f3f5835",
   "metadata": {},
   "outputs": [
    {
     "data": {
      "text/plain": [
       "dict"
      ]
     },
     "execution_count": 40,
     "metadata": {},
     "output_type": "execute_result"
    }
   ],
   "source": [
    "url = 'http://api.open-notify.org/iss-now.json'\n",
    "r = requests.get(url)\n",
    "json_to_dict = r.json()\n",
    "type(json_to_dict)"
   ]
  },
  {
   "cell_type": "code",
   "execution_count": 41,
   "id": "85ad3edd",
   "metadata": {},
   "outputs": [
    {
     "data": {
      "text/plain": [
       "dict"
      ]
     },
     "execution_count": 41,
     "metadata": {},
     "output_type": "execute_result"
    }
   ],
   "source": [
    "url = 'http://api.open-notify.org/iss-now.json'\n",
    "json_to_dict = requests.get(url).json()\n",
    "type(json_to_dict)"
   ]
  },
  {
   "cell_type": "code",
   "execution_count": 42,
   "id": "294a720c",
   "metadata": {},
   "outputs": [
    {
     "data": {
      "text/plain": [
       "{'message': 'success',\n",
       " 'iss_position': {'longitude': '121.5408', 'latitude': '3.3724'},\n",
       " 'timestamp': 1639814588}"
      ]
     },
     "execution_count": 42,
     "metadata": {},
     "output_type": "execute_result"
    }
   ],
   "source": [
    "json_to_dict"
   ]
  },
  {
   "cell_type": "code",
   "execution_count": 43,
   "id": "fd07e0a9",
   "metadata": {},
   "outputs": [
    {
     "name": "stdout",
     "output_type": "stream",
     "text": [
      "{'longitude': '121.5408', 'latitude': '3.3724'}\n",
      "3.3724\n",
      "121.5408\n",
      "success\n",
      "1639814588\n"
     ]
    }
   ],
   "source": [
    "print(json_to_dict['iss_position'])\n",
    "print(json_to_dict['iss_position']['latitude'])\n",
    "print(json_to_dict['iss_position']['longitude'])\n",
    "print(json_to_dict['message'])\n",
    "print(json_to_dict['timestamp'])"
   ]
  },
  {
   "cell_type": "code",
   "execution_count": 45,
   "id": "a6cb46e7",
   "metadata": {},
   "outputs": [
    {
     "name": "stdout",
     "output_type": "stream",
     "text": [
      "{'longitude': '135.8079', 'latitude': '-16.1256'}\n",
      "{'longitude': '136.2013', 'latitude': '-16.6183'}\n",
      "{'longitude': '136.6169', 'latitude': '-17.1348'}\n",
      "{'longitude': '137.0351', 'latitude': '-17.6502'}\n",
      "{'longitude': '137.4358', 'latitude': '-18.1401'}\n"
     ]
    }
   ],
   "source": [
    "# 국제 우주 정거장의 위치 정보 갱신(10초)\n",
    "import requests\n",
    "import time\n",
    "\n",
    "url = 'http://api.open-notify.org/iss-now.json'\n",
    "\n",
    "def iss_position(iss_position_api_url):\n",
    "    json_to_dict = requests.get(iss_position_api_url).json()\n",
    "    return json_to_dict['iss_position']\n",
    "\n",
    "for k in range(5):\n",
    "    print(iss_position(url))\n",
    "    time.sleep(10)"
   ]
  }
 ],
 "metadata": {
  "kernelspec": {
   "display_name": "Python 3 (ipykernel)",
   "language": "python",
   "name": "python3"
  },
  "language_info": {
   "codemirror_mode": {
    "name": "ipython",
    "version": 3
   },
   "file_extension": ".py",
   "mimetype": "text/x-python",
   "name": "python",
   "nbconvert_exporter": "python",
   "pygments_lexer": "ipython3",
   "version": "3.9.7"
  }
 },
 "nbformat": 4,
 "nbformat_minor": 5
}
