{
 "cells": [
  {
   "cell_type": "code",
   "execution_count": 1,
   "id": "fb7e37ce",
   "metadata": {},
   "outputs": [],
   "source": [
    "import numpy as np\n",
    "import pandas as pd\n",
    "from scipy import stats\n",
    "\n",
    "np.random.seed(1111)"
   ]
  },
  {
   "cell_type": "code",
   "execution_count": 2,
   "id": "06518207",
   "metadata": {},
   "outputs": [
    {
     "data": {
      "text/html": [
       "<div>\n",
       "<style scoped>\n",
       "    .dataframe tbody tr th:only-of-type {\n",
       "        vertical-align: middle;\n",
       "    }\n",
       "\n",
       "    .dataframe tbody tr th {\n",
       "        vertical-align: top;\n",
       "    }\n",
       "\n",
       "    .dataframe thead th {\n",
       "        text-align: right;\n",
       "    }\n",
       "</style>\n",
       "<table border=\"1\" class=\"dataframe\">\n",
       "  <thead>\n",
       "    <tr style=\"text-align: right;\">\n",
       "      <th></th>\n",
       "      <th>무게</th>\n",
       "    </tr>\n",
       "  </thead>\n",
       "  <tbody>\n",
       "    <tr>\n",
       "      <th>0</th>\n",
       "      <td>122.02</td>\n",
       "    </tr>\n",
       "    <tr>\n",
       "      <th>1</th>\n",
       "      <td>131.73</td>\n",
       "    </tr>\n",
       "    <tr>\n",
       "      <th>2</th>\n",
       "      <td>130.60</td>\n",
       "    </tr>\n",
       "    <tr>\n",
       "      <th>3</th>\n",
       "      <td>131.82</td>\n",
       "    </tr>\n",
       "    <tr>\n",
       "      <th>4</th>\n",
       "      <td>132.05</td>\n",
       "    </tr>\n",
       "    <tr>\n",
       "      <th>5</th>\n",
       "      <td>126.12</td>\n",
       "    </tr>\n",
       "    <tr>\n",
       "      <th>6</th>\n",
       "      <td>124.43</td>\n",
       "    </tr>\n",
       "    <tr>\n",
       "      <th>7</th>\n",
       "      <td>132.89</td>\n",
       "    </tr>\n",
       "    <tr>\n",
       "      <th>8</th>\n",
       "      <td>122.79</td>\n",
       "    </tr>\n",
       "    <tr>\n",
       "      <th>9</th>\n",
       "      <td>129.95</td>\n",
       "    </tr>\n",
       "    <tr>\n",
       "      <th>10</th>\n",
       "      <td>126.14</td>\n",
       "    </tr>\n",
       "    <tr>\n",
       "      <th>11</th>\n",
       "      <td>134.45</td>\n",
       "    </tr>\n",
       "    <tr>\n",
       "      <th>12</th>\n",
       "      <td>127.64</td>\n",
       "    </tr>\n",
       "    <tr>\n",
       "      <th>13</th>\n",
       "      <td>125.68</td>\n",
       "    </tr>\n",
       "  </tbody>\n",
       "</table>\n",
       "</div>"
      ],
      "text/plain": [
       "        무게\n",
       "0   122.02\n",
       "1   131.73\n",
       "2   130.60\n",
       "3   131.82\n",
       "4   132.05\n",
       "5   126.12\n",
       "6   124.43\n",
       "7   132.89\n",
       "8   122.79\n",
       "9   129.95\n",
       "10  126.14\n",
       "11  134.45\n",
       "12  127.64\n",
       "13  125.68"
      ]
     },
     "execution_count": 2,
     "metadata": {},
     "output_type": "execute_result"
    }
   ],
   "source": [
    "df = pd.read_csv('./ch11_potato.csv')\n",
    "df"
   ]
  },
  {
   "cell_type": "code",
   "execution_count": 3,
   "id": "1ebf0726",
   "metadata": {},
   "outputs": [
    {
     "data": {
      "text/plain": [
       "array([122.02, 131.73, 130.6 , 131.82, 132.05, 126.12, 124.43, 132.89,\n",
       "       122.79, 129.95, 126.14, 134.45, 127.64, 125.68])"
      ]
     },
     "execution_count": 3,
     "metadata": {},
     "output_type": "execute_result"
    }
   ],
   "source": [
    "sample = np.array(df['무게'])\n",
    "sample"
   ]
  },
  {
   "cell_type": "code",
   "execution_count": 4,
   "id": "e855191a",
   "metadata": {},
   "outputs": [
    {
     "data": {
      "text/plain": [
       "128.4507142857143"
      ]
     },
     "execution_count": 4,
     "metadata": {},
     "output_type": "execute_result"
    }
   ],
   "source": [
    "s_mean = np.mean(sample)\n",
    "s_mean"
   ]
  },
  {
   "cell_type": "markdown",
   "id": "6d3cb7e4",
   "metadata": {},
   "source": [
    "### 11.1 통계적 가설검정"
   ]
  },
  {
   "cell_type": "markdown",
   "id": "17a12a98",
   "metadata": {},
   "source": [
    "- $(\\overline{X}-130)/\\sqrt\\frac{9}{14}<z_{0.95}$이면 귀무가설을 기각\n",
    "- $(\\overline{X}-130)/\\sqrt\\frac{9}{14}\\geq z_{0.95}$이면 귀무가설을 채택"
   ]
  },
  {
   "cell_type": "code",
   "execution_count": 7,
   "id": "b86ff9f2",
   "metadata": {},
   "outputs": [
    {
     "data": {
      "text/plain": [
       "-1.932298779026813"
      ]
     },
     "execution_count": 7,
     "metadata": {},
     "output_type": "execute_result"
    }
   ],
   "source": [
    "z = (s_mean - 130) / np.sqrt(9/14)\n",
    "z"
   ]
  },
  {
   "cell_type": "code",
   "execution_count": 9,
   "id": "ceecb6cf",
   "metadata": {},
   "outputs": [
    {
     "data": {
      "text/plain": [
       "-1.6448536269514722"
      ]
     },
     "execution_count": 9,
     "metadata": {},
     "output_type": "execute_result"
    }
   ],
   "source": [
    "# 단측검정\n",
    "rv = stats.norm()\n",
    "rv.isf(0.95)"
   ]
  },
  {
   "cell_type": "code",
   "execution_count": 10,
   "id": "deff599b",
   "metadata": {},
   "outputs": [
    {
     "data": {
      "text/plain": [
       "0.026661319523126635"
      ]
     },
     "execution_count": 10,
     "metadata": {},
     "output_type": "execute_result"
    }
   ],
   "source": [
    "rv.cdf(z) # p-value"
   ]
  },
  {
   "cell_type": "code",
   "execution_count": 11,
   "id": "e1516c15",
   "metadata": {},
   "outputs": [
    {
     "data": {
      "text/plain": [
       "(-1.959963984540054, 1.959963984540054)"
      ]
     },
     "execution_count": 11,
     "metadata": {},
     "output_type": "execute_result"
    }
   ],
   "source": [
    "# 양측검정\n",
    "rv = stats.norm()\n",
    "rv.interval(0.95)"
   ]
  },
  {
   "cell_type": "code",
   "execution_count": 12,
   "id": "9667a976",
   "metadata": {},
   "outputs": [
    {
     "data": {
      "text/plain": [
       "0.05332263904625327"
      ]
     },
     "execution_count": 12,
     "metadata": {},
     "output_type": "execute_result"
    }
   ],
   "source": [
    "rv.cdf(z)*2"
   ]
  },
  {
   "cell_type": "markdown",
   "id": "513e5bf4",
   "metadata": {},
   "source": [
    "#### 가설검정의 두 가지 오류\n",
    "- 제1종 오류: 귀무가설이 옳을 때, 귀무가설을 기각하는 오류\n",
    " - 위험률($\\alpha$): 제1종 오류를 범하는 확률, 유의수준과 일치\n",
    "- 제2종 오류: 대립가설이 옳을 때, 귀무가설을 채택하는 오류\n",
    " - 검정력($1-\\beta$): $\\beta$는 모집단의 정보에 의존하므로 제어할 수 없음"
   ]
  },
  {
   "cell_type": "code",
   "execution_count": 13,
   "id": "6c4343ee",
   "metadata": {},
   "outputs": [],
   "source": [
    "rv = stats.norm(130, 3)"
   ]
  },
  {
   "cell_type": "code",
   "execution_count": 14,
   "id": "118cdf6f",
   "metadata": {},
   "outputs": [
    {
     "data": {
      "text/plain": [
       "0.0528"
      ]
     },
     "execution_count": 14,
     "metadata": {},
     "output_type": "execute_result"
    }
   ],
   "source": [
    "# 제1종 오류를 범한 비율\n",
    "\n",
    "c = stats.norm().isf(0.95)\n",
    "n_samples = 10000\n",
    "cnt = 0\n",
    "for _ in range(n_samples):\n",
    "    sample_ = np.round(rv.rvs(14), 2)\n",
    "    s_mean_ = np.mean(sample_)\n",
    "    z = (s_mean_-130) / np.sqrt(9/14)\n",
    "    if z < c:\n",
    "        cnt += 1\n",
    "\n",
    "cnt/n_samples"
   ]
  },
  {
   "cell_type": "code",
   "execution_count": 17,
   "id": "7cdfb190",
   "metadata": {},
   "outputs": [],
   "source": [
    "rv = stats.norm(128, 3)"
   ]
  },
  {
   "cell_type": "code",
   "execution_count": 19,
   "id": "4ff5cee1",
   "metadata": {},
   "outputs": [
    {
     "data": {
      "text/plain": [
       "0.1969"
      ]
     },
     "execution_count": 19,
     "metadata": {},
     "output_type": "execute_result"
    }
   ],
   "source": [
    "# 제2종 오류를 범한 비율\n",
    "\n",
    "c = stats.norm().isf(0.95)\n",
    "n_samples = 10000\n",
    "cnt = 0\n",
    "for _ in range(n_samples):\n",
    "    sample_ = np.round(rv.rvs(14), 2)\n",
    "    s_mean_ = np.mean(sample_)\n",
    "    z = (s_mean_-130) / np.sqrt(9/14)\n",
    "    if z >= c:\n",
    "        cnt += 1\n",
    "cnt / n_samples"
   ]
  },
  {
   "cell_type": "markdown",
   "id": "6e0e566c",
   "metadata": {},
   "source": [
    "### 11.2 기본적인 가설검정"
   ]
  },
  {
   "cell_type": "markdown",
   "id": "8acebaa1",
   "metadata": {},
   "source": [
    "#### 정규분포의 모평균에 대한 검정: 모분산을 알고 있는 경우\n",
    "$X_1,X_2,\\dots,X_n\\stackrel{iid}{\\sim}N(\\mu,\\sigma^2)$이라고 하자. 이때 모평균 $\\mu$에 관한 유의수준 $\\alpha$의 양측검정\n",
    "- 귀무가설: $\\mu=\\mu_0$\n",
    "- 대립가설: $\\mu\\neq\\mu_0$\n",
    "\n",
    "은, 검정통계량으로 $Z=(\\overline{X}-\\mu_0)/\\sqrt\\frac{\\sigma^2}{n}$을 사용하여\n",
    "\n",
    "$\\begin{cases}Z<z_{1-\\alpha/2}\\;또는\\;z_{\\alpha/2}<Z라면,\\;귀무가설을\\;기각\\\\\n",
    "z_{1-\\alpha/2}\\leq Z\\leq z_{\\alpha/2}라면,\\;귀무가설을\\;채택\\end{cases}$\n",
    "\n",
    "으로 수행된다."
   ]
  },
  {
   "cell_type": "code",
   "execution_count": 20,
   "id": "af93d7bf",
   "metadata": {},
   "outputs": [],
   "source": [
    "# 양측검정\n",
    "\n",
    "def pmean_test(sample, mean0, p_var, alpha=0.05):\n",
    "    s_mean = np.mean(sample)\n",
    "    n = len(sample)\n",
    "    rv = stats.norm()\n",
    "    interval = rv.interval(1-alpha)\n",
    "    \n",
    "    z = (s_mean-mean0) / np.sqrt(p_var/n)\n",
    "    if interval[0] <= z <= interval[1]:\n",
    "        print('귀무가설을 채택')\n",
    "    else:\n",
    "        print('귀무가설을 기각')\n",
    "        \n",
    "    if z < 0:\n",
    "        p = rv.cdf(z) * 2\n",
    "    else:\n",
    "        p = (1-rv.cdf(z)) * 2\n",
    "    print(f'p값은 {p:.3f}')"
   ]
  },
  {
   "cell_type": "code",
   "execution_count": 21,
   "id": "755c2677",
   "metadata": {},
   "outputs": [
    {
     "name": "stdout",
     "output_type": "stream",
     "text": [
      "귀무가설을 채택\n",
      "p값은 0.053\n"
     ]
    }
   ],
   "source": [
    "pmean_test(sample, 130, 9)"
   ]
  },
  {
   "cell_type": "markdown",
   "id": "99225205",
   "metadata": {},
   "source": [
    "#### 정규분포의 모분산에 대한 검정\n",
    "$X_1,X_2,\\dots,X_n\\stackrel{iid}{\\sim}N(\\mu,\\sigma^2)$이라고 하자. 이때 모분산 $\\sigma^2$에 관한 유의수준 $\\alpha$의 양측검정\n",
    "- 귀무가설: $\\sigma^2=\\sigma_0^2$\n",
    "- 대립가설: $\\sigma^2\\neq\\sigma_0^2$\n",
    "\n",
    "은, 검정통계량으로 $Y=\\frac{(n-1)s^2}{\\sigma_0^2}$을 사용하여\n",
    "\n",
    "$\\begin{cases}Y<\\chi_{1-\\alpha/2}^2(n-1)\\;또는\\;\\chi_{\\alpha/2}^2(n-1)<Y라면,\\;귀무가설을\\;기각\\\\\n",
    "\\chi_{1-\\alpha/2}^2(n-1)\\leq Y\\leq \\chi_{\\alpha/2}^2(n-1)라면,\\;귀무가설을\\;채택\\end{cases}$\n",
    "\n",
    "으로 수행된다."
   ]
  },
  {
   "cell_type": "code",
   "execution_count": 22,
   "id": "a53fed44",
   "metadata": {},
   "outputs": [],
   "source": [
    "def pvar_test(sample, var0, alpha=0.05):\n",
    "    u_var = np.var(sample, ddof=1)\n",
    "    n = len(sample)\n",
    "    rv = stats.chi2(df=n-1)\n",
    "    interval = rv.interval(1-alpha)\n",
    "    \n",
    "    y = (n-1)*u_var / var0\n",
    "    if interval[0] <= y <= interval[1]:\n",
    "        print('귀무가설을 채택')\n",
    "    else:\n",
    "        print('귀무가설을 기각')\n",
    "    if y < rv.isf(0.5):\n",
    "        p = rv.cdf(y)*2\n",
    "    else:\n",
    "        p = (1-rv.cdf(y))*2\n",
    "    print(f'p값은 {p:.3f}')"
   ]
  },
  {
   "cell_type": "code",
   "execution_count": 23,
   "id": "252dd928",
   "metadata": {},
   "outputs": [
    {
     "name": "stdout",
     "output_type": "stream",
     "text": [
      "귀무가설을 채택\n",
      "p값은 0.085\n"
     ]
    }
   ],
   "source": [
    "pvar_test(sample, 9)"
   ]
  },
  {
   "cell_type": "markdown",
   "id": "3d0f70d6",
   "metadata": {},
   "source": [
    "#### 정규분포의 모평균에 대한 검정 : 모분산을 모르는 경우\n",
    "$X_1,X_2,\\dots,X_n\\stackrel{iid}{\\sim}N(\\mu,\\sigma^2)$이라고 하자. 이때 모평균 $\\mu$에 관한 유의수준 $\\alpha$의 양측검정\n",
    "- 귀무가설: $\\mu=\\mu_0$\n",
    "- 대립가설: $\\mu\\neq\\mu_0$\n",
    "\n",
    "은, 검정통계량으로 $t=(\\overline{X}-\\mu_0)/\\sqrt\\frac{s^2}{n}$을 사용하여\n",
    "\n",
    "$\\begin{cases}t<t_{1-\\alpha/2}\\;또는\\;t_{\\alpha/2}<t라면,\\;귀무가설을\\;기각\\\\\n",
    "t_{1-\\alpha/2}\\leq t\\leq t_{\\alpha/2}라면,\\;귀무가설을\\;채택\\end{cases}$\n",
    "\n",
    "으로 수행된다."
   ]
  },
  {
   "cell_type": "code",
   "execution_count": 26,
   "id": "c14601c8",
   "metadata": {},
   "outputs": [],
   "source": [
    "def pmean_test(sample, mean0, alpha=0.05):\n",
    "    s_mean = np.mean(sample)\n",
    "    u_var = np.var(sample, ddof=1)\n",
    "    n = len(sample)\n",
    "    rv = stats.t(df=n-1)\n",
    "    interval = rv.interval(1-alpha)\n",
    "    \n",
    "    t = (s_mean-mean0) / np.sqrt(u_var/n)\n",
    "    if interval[0] <= t <= interval[1]:\n",
    "        print('귀무가설을 채택')\n",
    "    else:\n",
    "        print('귀무가설을 기각')\n",
    "    if t < 0:\n",
    "        p = rv.cdf(t)*2\n",
    "    else:\n",
    "        p = (1-rv.cdf(t))*2\n",
    "    print(f'p값은 {p:.3f}')"
   ]
  },
  {
   "cell_type": "code",
   "execution_count": 27,
   "id": "8cd7db74",
   "metadata": {},
   "outputs": [
    {
     "name": "stdout",
     "output_type": "stream",
     "text": [
      "귀무가설을 채택\n",
      "p값은 0.169\n"
     ]
    }
   ],
   "source": [
    "pmean_test(sample, 130)"
   ]
  },
  {
   "cell_type": "code",
   "execution_count": 28,
   "id": "e5387c93",
   "metadata": {},
   "outputs": [
    {
     "data": {
      "text/plain": [
       "(-1.4551960206404198, 0.16933464230414275)"
      ]
     },
     "execution_count": 28,
     "metadata": {},
     "output_type": "execute_result"
    }
   ],
   "source": [
    "t, p = stats.ttest_1samp(sample, 130)\n",
    "t, p"
   ]
  },
  {
   "cell_type": "markdown",
   "id": "d1113995",
   "metadata": {},
   "source": [
    "### 11.3 2표본 문제에 관한 가설검정"
   ]
  },
  {
   "cell_type": "markdown",
   "id": "8dbd0513",
   "metadata": {},
   "source": [
    "#### 대응비교 t 검정\n",
    "- paired t-test: 대응하는 데이터가 있고, 데이터 차이에 정규분포를 가정할 수 있는 경우의 평균값 차이에 대한 검정"
   ]
  },
  {
   "cell_type": "code",
   "execution_count": 69,
   "id": "5c885e26",
   "metadata": {},
   "outputs": [
    {
     "name": "stdout",
     "output_type": "stream",
     "text": [
      "(20, 2)\n"
     ]
    },
    {
     "data": {
      "text/html": [
       "<div>\n",
       "<style scoped>\n",
       "    .dataframe tbody tr th:only-of-type {\n",
       "        vertical-align: middle;\n",
       "    }\n",
       "\n",
       "    .dataframe tbody tr th {\n",
       "        vertical-align: top;\n",
       "    }\n",
       "\n",
       "    .dataframe thead th {\n",
       "        text-align: right;\n",
       "    }\n",
       "</style>\n",
       "<table border=\"1\" class=\"dataframe\">\n",
       "  <thead>\n",
       "    <tr style=\"text-align: right;\">\n",
       "      <th></th>\n",
       "      <th>전</th>\n",
       "      <th>후</th>\n",
       "    </tr>\n",
       "  </thead>\n",
       "  <tbody>\n",
       "    <tr>\n",
       "      <th>0</th>\n",
       "      <td>59</td>\n",
       "      <td>41</td>\n",
       "    </tr>\n",
       "    <tr>\n",
       "      <th>1</th>\n",
       "      <td>52</td>\n",
       "      <td>63</td>\n",
       "    </tr>\n",
       "    <tr>\n",
       "      <th>2</th>\n",
       "      <td>55</td>\n",
       "      <td>68</td>\n",
       "    </tr>\n",
       "    <tr>\n",
       "      <th>3</th>\n",
       "      <td>61</td>\n",
       "      <td>59</td>\n",
       "    </tr>\n",
       "    <tr>\n",
       "      <th>4</th>\n",
       "      <td>59</td>\n",
       "      <td>84</td>\n",
       "    </tr>\n",
       "  </tbody>\n",
       "</table>\n",
       "</div>"
      ],
      "text/plain": [
       "    전   후\n",
       "0  59  41\n",
       "1  52  63\n",
       "2  55  68\n",
       "3  61  59\n",
       "4  59  84"
      ]
     },
     "execution_count": 69,
     "metadata": {},
     "output_type": "execute_result"
    }
   ],
   "source": [
    "training_rel = pd.read_csv('./ch11_training_rel.csv')\n",
    "print(training_rel.shape)\n",
    "training_rel.head()"
   ]
  },
  {
   "cell_type": "markdown",
   "id": "f0d6ca62",
   "metadata": {},
   "source": [
    "- 귀무가설: $\\mu_{after}-\\mu_{before}=0$\n",
    "- 대립가설: $\\mu_{after}-\\mu_{before}\\neq 0$"
   ]
  },
  {
   "cell_type": "code",
   "execution_count": 47,
   "id": "381ff692",
   "metadata": {},
   "outputs": [
    {
     "data": {
      "text/html": [
       "<div>\n",
       "<style scoped>\n",
       "    .dataframe tbody tr th:only-of-type {\n",
       "        vertical-align: middle;\n",
       "    }\n",
       "\n",
       "    .dataframe tbody tr th {\n",
       "        vertical-align: top;\n",
       "    }\n",
       "\n",
       "    .dataframe thead th {\n",
       "        text-align: right;\n",
       "    }\n",
       "</style>\n",
       "<table border=\"1\" class=\"dataframe\">\n",
       "  <thead>\n",
       "    <tr style=\"text-align: right;\">\n",
       "      <th></th>\n",
       "      <th>전</th>\n",
       "      <th>후</th>\n",
       "      <th>차</th>\n",
       "    </tr>\n",
       "  </thead>\n",
       "  <tbody>\n",
       "    <tr>\n",
       "      <th>0</th>\n",
       "      <td>59</td>\n",
       "      <td>41</td>\n",
       "      <td>-18</td>\n",
       "    </tr>\n",
       "    <tr>\n",
       "      <th>1</th>\n",
       "      <td>52</td>\n",
       "      <td>63</td>\n",
       "      <td>11</td>\n",
       "    </tr>\n",
       "    <tr>\n",
       "      <th>2</th>\n",
       "      <td>55</td>\n",
       "      <td>68</td>\n",
       "      <td>13</td>\n",
       "    </tr>\n",
       "    <tr>\n",
       "      <th>3</th>\n",
       "      <td>61</td>\n",
       "      <td>59</td>\n",
       "      <td>-2</td>\n",
       "    </tr>\n",
       "    <tr>\n",
       "      <th>4</th>\n",
       "      <td>59</td>\n",
       "      <td>84</td>\n",
       "      <td>25</td>\n",
       "    </tr>\n",
       "  </tbody>\n",
       "</table>\n",
       "</div>"
      ],
      "text/plain": [
       "    전   후   차\n",
       "0  59  41 -18\n",
       "1  52  63  11\n",
       "2  55  68  13\n",
       "3  61  59  -2\n",
       "4  59  84  25"
      ]
     },
     "execution_count": 47,
     "metadata": {},
     "output_type": "execute_result"
    }
   ],
   "source": [
    "training_rel['차'] = training_rel['후'] - training_rel['전']\n",
    "training_rel.head()"
   ]
  },
  {
   "cell_type": "markdown",
   "id": "7baea9b2",
   "metadata": {},
   "source": [
    "- 귀무가설: $\\mu_{diff}=0$\n",
    "- 대립가설: $\\mu_{diff}\\neq0$"
   ]
  },
  {
   "cell_type": "code",
   "execution_count": 31,
   "id": "ee267812",
   "metadata": {},
   "outputs": [
    {
     "data": {
      "text/plain": [
       "0.04004419061842953"
      ]
     },
     "execution_count": 31,
     "metadata": {},
     "output_type": "execute_result"
    }
   ],
   "source": [
    "t, p = stats.ttest_1samp(training_rel['차'], 0)\n",
    "p"
   ]
  },
  {
   "cell_type": "code",
   "execution_count": 33,
   "id": "7d3311d7",
   "metadata": {},
   "outputs": [
    {
     "data": {
      "text/plain": [
       "0.04004419061842953"
      ]
     },
     "execution_count": 33,
     "metadata": {},
     "output_type": "execute_result"
    }
   ],
   "source": [
    "t, p = stats.ttest_rel(training_rel['후'], training_rel['전'])\n",
    "p"
   ]
  },
  {
   "cell_type": "markdown",
   "id": "a49ef618",
   "metadata": {},
   "source": [
    "#### 독립비교 t 검정\n",
    "- independent t-test: 대응하는 데이터가 없고 독립된 2표본 모집단에 정규분포를 가정할 수 있는 경우 평균값의 차이에 대한 검정"
   ]
  },
  {
   "cell_type": "code",
   "execution_count": 34,
   "id": "c10ac5ef",
   "metadata": {},
   "outputs": [
    {
     "name": "stdout",
     "output_type": "stream",
     "text": [
      "(20, 2)\n"
     ]
    },
    {
     "data": {
      "text/html": [
       "<div>\n",
       "<style scoped>\n",
       "    .dataframe tbody tr th:only-of-type {\n",
       "        vertical-align: middle;\n",
       "    }\n",
       "\n",
       "    .dataframe tbody tr th {\n",
       "        vertical-align: top;\n",
       "    }\n",
       "\n",
       "    .dataframe thead th {\n",
       "        text-align: right;\n",
       "    }\n",
       "</style>\n",
       "<table border=\"1\" class=\"dataframe\">\n",
       "  <thead>\n",
       "    <tr style=\"text-align: right;\">\n",
       "      <th></th>\n",
       "      <th>A</th>\n",
       "      <th>B</th>\n",
       "    </tr>\n",
       "  </thead>\n",
       "  <tbody>\n",
       "    <tr>\n",
       "      <th>0</th>\n",
       "      <td>47</td>\n",
       "      <td>49</td>\n",
       "    </tr>\n",
       "    <tr>\n",
       "      <th>1</th>\n",
       "      <td>50</td>\n",
       "      <td>52</td>\n",
       "    </tr>\n",
       "    <tr>\n",
       "      <th>2</th>\n",
       "      <td>37</td>\n",
       "      <td>54</td>\n",
       "    </tr>\n",
       "    <tr>\n",
       "      <th>3</th>\n",
       "      <td>60</td>\n",
       "      <td>48</td>\n",
       "    </tr>\n",
       "    <tr>\n",
       "      <th>4</th>\n",
       "      <td>39</td>\n",
       "      <td>51</td>\n",
       "    </tr>\n",
       "  </tbody>\n",
       "</table>\n",
       "</div>"
      ],
      "text/plain": [
       "    A   B\n",
       "0  47  49\n",
       "1  50  52\n",
       "2  37  54\n",
       "3  60  48\n",
       "4  39  51"
      ]
     },
     "execution_count": 34,
     "metadata": {},
     "output_type": "execute_result"
    }
   ],
   "source": [
    "training_ind = pd.read_csv('./ch11_training_ind.csv')\n",
    "print(training_ind.shape)\n",
    "training_ind.head()"
   ]
  },
  {
   "cell_type": "markdown",
   "id": "a1a50de3",
   "metadata": {},
   "source": [
    "- 귀무가설: $\\mu_1-\\mu_2=0$\n",
    "- 대립가설: $\\mu_1-\\mu_2\\neq 0$"
   ]
  },
  {
   "cell_type": "markdown",
   "id": "8bf4b5a4",
   "metadata": {},
   "source": [
    "- A학급 점수: $X_1,X_2,\\dots,X_{n_1}\\stackrel{iid}{\\sim}N(\\mu_1,\\sigma_1^2)$\n",
    "- B학급 점수: $Y_1,Y_2,\\dots,Y_{n_1}\\stackrel{iid}{\\sim}N(\\mu_2,\\sigma_2^2)$"
   ]
  },
  {
   "cell_type": "markdown",
   "id": "c6c9d0bd",
   "metadata": {},
   "source": [
    "$t=\\frac{(\\overline{X}-\\overline{Y})-(\\mu_1-\\mu_2)}{\\sqrt{\\frac{s_1^2}{n_1}+\\frac{s_2^2}{n_2}}}\\qquad$\n",
    "$df=\\frac{\\left(\\frac{s_1^2}{n_1}+\\frac{s_2^2}{n_2}\\right)^2}{\\frac{s_1^4}{n_1^2(n_1-1)}+\\frac{s_2^4}{n_2^2(n_2-1)}}$"
   ]
  },
  {
   "cell_type": "code",
   "execution_count": 35,
   "id": "0386bcc7",
   "metadata": {},
   "outputs": [
    {
     "data": {
      "text/plain": [
       "0.08695731107259361"
      ]
     },
     "execution_count": 35,
     "metadata": {},
     "output_type": "execute_result"
    }
   ],
   "source": [
    "t, p = stats.ttest_ind(training_ind['A'], training_ind['B'], equal_var=False)\n",
    "p"
   ]
  },
  {
   "cell_type": "markdown",
   "id": "b6c15d20",
   "metadata": {},
   "source": [
    "#### 윌콕슨의 부호순위검정\n",
    "- Wilcoxon signed-rank test: 대응표본에서 차이에 정규분포를 가정할 수 없는 경우, 중앙값의 차이에 대한 검정"
   ]
  },
  {
   "cell_type": "code",
   "execution_count": 50,
   "id": "5842c8ad",
   "metadata": {},
   "outputs": [
    {
     "data": {
      "text/html": [
       "<div>\n",
       "<style scoped>\n",
       "    .dataframe tbody tr th:only-of-type {\n",
       "        vertical-align: middle;\n",
       "    }\n",
       "\n",
       "    .dataframe tbody tr th {\n",
       "        vertical-align: top;\n",
       "    }\n",
       "\n",
       "    .dataframe thead th {\n",
       "        text-align: right;\n",
       "    }\n",
       "</style>\n",
       "<table border=\"1\" class=\"dataframe\">\n",
       "  <thead>\n",
       "    <tr style=\"text-align: right;\">\n",
       "      <th></th>\n",
       "      <th>전</th>\n",
       "      <th>후</th>\n",
       "      <th>차</th>\n",
       "    </tr>\n",
       "  </thead>\n",
       "  <tbody>\n",
       "    <tr>\n",
       "      <th>0</th>\n",
       "      <td>59</td>\n",
       "      <td>41</td>\n",
       "      <td>-18</td>\n",
       "    </tr>\n",
       "    <tr>\n",
       "      <th>1</th>\n",
       "      <td>52</td>\n",
       "      <td>63</td>\n",
       "      <td>11</td>\n",
       "    </tr>\n",
       "    <tr>\n",
       "      <th>2</th>\n",
       "      <td>55</td>\n",
       "      <td>68</td>\n",
       "      <td>13</td>\n",
       "    </tr>\n",
       "    <tr>\n",
       "      <th>3</th>\n",
       "      <td>61</td>\n",
       "      <td>59</td>\n",
       "      <td>-2</td>\n",
       "    </tr>\n",
       "    <tr>\n",
       "      <th>4</th>\n",
       "      <td>59</td>\n",
       "      <td>84</td>\n",
       "      <td>25</td>\n",
       "    </tr>\n",
       "    <tr>\n",
       "      <th>5</th>\n",
       "      <td>45</td>\n",
       "      <td>37</td>\n",
       "      <td>-8</td>\n",
       "    </tr>\n",
       "  </tbody>\n",
       "</table>\n",
       "</div>"
      ],
      "text/plain": [
       "    전   후   차\n",
       "0  59  41 -18\n",
       "1  52  63  11\n",
       "2  55  68  13\n",
       "3  61  59  -2\n",
       "4  59  84  25\n",
       "5  45  37  -8"
      ]
     },
     "execution_count": 50,
     "metadata": {},
     "output_type": "execute_result"
    }
   ],
   "source": [
    "toy_df = training_rel[:6].copy()\n",
    "diff = toy_df['차']\n",
    "toy_df"
   ]
  },
  {
   "cell_type": "code",
   "execution_count": 54,
   "id": "c9814877",
   "metadata": {},
   "outputs": [
    {
     "data": {
      "text/html": [
       "<div>\n",
       "<style scoped>\n",
       "    .dataframe tbody tr th:only-of-type {\n",
       "        vertical-align: middle;\n",
       "    }\n",
       "\n",
       "    .dataframe tbody tr th {\n",
       "        vertical-align: top;\n",
       "    }\n",
       "\n",
       "    .dataframe thead th {\n",
       "        text-align: right;\n",
       "    }\n",
       "</style>\n",
       "<table border=\"1\" class=\"dataframe\">\n",
       "  <thead>\n",
       "    <tr style=\"text-align: right;\">\n",
       "      <th></th>\n",
       "      <th>전</th>\n",
       "      <th>후</th>\n",
       "      <th>차</th>\n",
       "      <th>순위</th>\n",
       "    </tr>\n",
       "  </thead>\n",
       "  <tbody>\n",
       "    <tr>\n",
       "      <th>0</th>\n",
       "      <td>59</td>\n",
       "      <td>41</td>\n",
       "      <td>-18</td>\n",
       "      <td>5</td>\n",
       "    </tr>\n",
       "    <tr>\n",
       "      <th>1</th>\n",
       "      <td>52</td>\n",
       "      <td>63</td>\n",
       "      <td>11</td>\n",
       "      <td>3</td>\n",
       "    </tr>\n",
       "    <tr>\n",
       "      <th>2</th>\n",
       "      <td>55</td>\n",
       "      <td>68</td>\n",
       "      <td>13</td>\n",
       "      <td>4</td>\n",
       "    </tr>\n",
       "    <tr>\n",
       "      <th>3</th>\n",
       "      <td>61</td>\n",
       "      <td>59</td>\n",
       "      <td>-2</td>\n",
       "      <td>1</td>\n",
       "    </tr>\n",
       "    <tr>\n",
       "      <th>4</th>\n",
       "      <td>59</td>\n",
       "      <td>84</td>\n",
       "      <td>25</td>\n",
       "      <td>6</td>\n",
       "    </tr>\n",
       "    <tr>\n",
       "      <th>5</th>\n",
       "      <td>45</td>\n",
       "      <td>37</td>\n",
       "      <td>-8</td>\n",
       "      <td>2</td>\n",
       "    </tr>\n",
       "  </tbody>\n",
       "</table>\n",
       "</div>"
      ],
      "text/plain": [
       "    전   후   차  순위\n",
       "0  59  41 -18   5\n",
       "1  52  63  11   3\n",
       "2  55  68  13   4\n",
       "3  61  59  -2   1\n",
       "4  59  84  25   6\n",
       "5  45  37  -8   2"
      ]
     },
     "execution_count": 54,
     "metadata": {},
     "output_type": "execute_result"
    }
   ],
   "source": [
    "rank = stats.rankdata(abs(diff)).astype(int)\n",
    "toy_df['순위'] = rank\n",
    "toy_df"
   ]
  },
  {
   "cell_type": "code",
   "execution_count": 55,
   "id": "91e42a42",
   "metadata": {},
   "outputs": [
    {
     "data": {
      "text/plain": [
       "(8, 13)"
      ]
     },
     "execution_count": 55,
     "metadata": {},
     "output_type": "execute_result"
    }
   ],
   "source": [
    "r_minus = np.sum((diff < 0) * rank)\n",
    "r_plus = np.sum((diff > 0) * rank)\n",
    "\n",
    "r_minus, r_plus \n",
    "\n",
    "# r_minus와 r_plus 중 더 작은 값이 검정통계량이 됨\n",
    "# 검정통계량이 임계값보다 작은 경우 귀무가설이 기각되는 단측검정 수행"
   ]
  },
  {
   "cell_type": "code",
   "execution_count": 59,
   "id": "384c10a9",
   "metadata": {},
   "outputs": [
    {
     "data": {
      "text/html": [
       "<div>\n",
       "<style scoped>\n",
       "    .dataframe tbody tr th:only-of-type {\n",
       "        vertical-align: middle;\n",
       "    }\n",
       "\n",
       "    .dataframe tbody tr th {\n",
       "        vertical-align: top;\n",
       "    }\n",
       "\n",
       "    .dataframe thead th {\n",
       "        text-align: right;\n",
       "    }\n",
       "</style>\n",
       "<table border=\"1\" class=\"dataframe\">\n",
       "  <thead>\n",
       "    <tr style=\"text-align: right;\">\n",
       "      <th></th>\n",
       "      <th>전</th>\n",
       "      <th>후</th>\n",
       "      <th>차</th>\n",
       "      <th>순위</th>\n",
       "    </tr>\n",
       "  </thead>\n",
       "  <tbody>\n",
       "    <tr>\n",
       "      <th>0</th>\n",
       "      <td>59</td>\n",
       "      <td>60</td>\n",
       "      <td>1</td>\n",
       "      <td>1</td>\n",
       "    </tr>\n",
       "    <tr>\n",
       "      <th>1</th>\n",
       "      <td>52</td>\n",
       "      <td>54</td>\n",
       "      <td>2</td>\n",
       "      <td>2</td>\n",
       "    </tr>\n",
       "    <tr>\n",
       "      <th>2</th>\n",
       "      <td>55</td>\n",
       "      <td>58</td>\n",
       "      <td>3</td>\n",
       "      <td>3</td>\n",
       "    </tr>\n",
       "    <tr>\n",
       "      <th>3</th>\n",
       "      <td>61</td>\n",
       "      <td>65</td>\n",
       "      <td>4</td>\n",
       "      <td>4</td>\n",
       "    </tr>\n",
       "    <tr>\n",
       "      <th>4</th>\n",
       "      <td>59</td>\n",
       "      <td>64</td>\n",
       "      <td>5</td>\n",
       "      <td>5</td>\n",
       "    </tr>\n",
       "    <tr>\n",
       "      <th>5</th>\n",
       "      <td>45</td>\n",
       "      <td>51</td>\n",
       "      <td>6</td>\n",
       "      <td>6</td>\n",
       "    </tr>\n",
       "  </tbody>\n",
       "</table>\n",
       "</div>"
      ],
      "text/plain": [
       "    전   후  차  순위\n",
       "0  59  60  1   1\n",
       "1  52  54  2   2\n",
       "2  55  58  3   3\n",
       "3  61  65  4   4\n",
       "4  59  64  5   5\n",
       "5  45  51  6   6"
      ]
     },
     "execution_count": 59,
     "metadata": {},
     "output_type": "execute_result"
    }
   ],
   "source": [
    "toy_df['후'] = toy_df['전']+np.arange(1, 7)\n",
    "diff = toy_df['후'] - toy_df['전']\n",
    "rank = stats.rankdata(abs(diff)).astype(int)\n",
    "\n",
    "toy_df['차'] = diff\n",
    "toy_df['순위'] = rank\n",
    "toy_df"
   ]
  },
  {
   "cell_type": "code",
   "execution_count": 61,
   "id": "6c9c0e1e",
   "metadata": {},
   "outputs": [
    {
     "data": {
      "text/plain": [
       "(0, 21)"
      ]
     },
     "execution_count": 61,
     "metadata": {},
     "output_type": "execute_result"
    }
   ],
   "source": [
    "r_minus = np.sum((diff < 0) * rank)\n",
    "r_plus = np.sum((diff > 0) * rank)\n",
    "\n",
    "r_minus, r_plus\n",
    "# 차이에 편차가 있으면 검정통계량이 작아짐"
   ]
  },
  {
   "cell_type": "code",
   "execution_count": 62,
   "id": "e3544a78",
   "metadata": {},
   "outputs": [
    {
     "data": {
      "text/html": [
       "<div>\n",
       "<style scoped>\n",
       "    .dataframe tbody tr th:only-of-type {\n",
       "        vertical-align: middle;\n",
       "    }\n",
       "\n",
       "    .dataframe tbody tr th {\n",
       "        vertical-align: top;\n",
       "    }\n",
       "\n",
       "    .dataframe thead th {\n",
       "        text-align: right;\n",
       "    }\n",
       "</style>\n",
       "<table border=\"1\" class=\"dataframe\">\n",
       "  <thead>\n",
       "    <tr style=\"text-align: right;\">\n",
       "      <th></th>\n",
       "      <th>전</th>\n",
       "      <th>후</th>\n",
       "      <th>차</th>\n",
       "      <th>순위</th>\n",
       "    </tr>\n",
       "  </thead>\n",
       "  <tbody>\n",
       "    <tr>\n",
       "      <th>0</th>\n",
       "      <td>59</td>\n",
       "      <td>60</td>\n",
       "      <td>1</td>\n",
       "      <td>1</td>\n",
       "    </tr>\n",
       "    <tr>\n",
       "      <th>1</th>\n",
       "      <td>52</td>\n",
       "      <td>50</td>\n",
       "      <td>-2</td>\n",
       "      <td>2</td>\n",
       "    </tr>\n",
       "    <tr>\n",
       "      <th>2</th>\n",
       "      <td>55</td>\n",
       "      <td>52</td>\n",
       "      <td>-3</td>\n",
       "      <td>3</td>\n",
       "    </tr>\n",
       "    <tr>\n",
       "      <th>3</th>\n",
       "      <td>61</td>\n",
       "      <td>65</td>\n",
       "      <td>4</td>\n",
       "      <td>4</td>\n",
       "    </tr>\n",
       "    <tr>\n",
       "      <th>4</th>\n",
       "      <td>59</td>\n",
       "      <td>64</td>\n",
       "      <td>5</td>\n",
       "      <td>5</td>\n",
       "    </tr>\n",
       "    <tr>\n",
       "      <th>5</th>\n",
       "      <td>45</td>\n",
       "      <td>39</td>\n",
       "      <td>-6</td>\n",
       "      <td>6</td>\n",
       "    </tr>\n",
       "  </tbody>\n",
       "</table>\n",
       "</div>"
      ],
      "text/plain": [
       "    전   후  차  순위\n",
       "0  59  60  1   1\n",
       "1  52  50 -2   2\n",
       "2  55  52 -3   3\n",
       "3  61  65  4   4\n",
       "4  59  64  5   5\n",
       "5  45  39 -6   6"
      ]
     },
     "execution_count": 62,
     "metadata": {},
     "output_type": "execute_result"
    }
   ],
   "source": [
    "toy_df['후'] = toy_df['전']+[1,-2,-3,4,5,-6]\n",
    "diff = toy_df['후'] - toy_df['전']\n",
    "rank = stats.rankdata(abs(diff)).astype(int)\n",
    "toy_df['차'] = diff\n",
    "toy_df['순위'] = rank\n",
    "toy_df"
   ]
  },
  {
   "cell_type": "code",
   "execution_count": 63,
   "id": "30e1777c",
   "metadata": {},
   "outputs": [
    {
     "data": {
      "text/plain": [
       "(11, 10)"
      ]
     },
     "execution_count": 63,
     "metadata": {},
     "output_type": "execute_result"
    }
   ],
   "source": [
    "r_minus = np.sum((diff < 0)*rank)\n",
    "r_plus = np.sum((diff > 0)*rank)\n",
    "\n",
    "r_minus, r_plus"
   ]
  },
  {
   "cell_type": "markdown",
   "id": "c1919c4c",
   "metadata": {},
   "source": [
    "- 차이에 편향이 있을 수록 $W^+$와 $W^-$에 편향이 생기고, 검정통계량은 작은 값이 됨.\n",
    "- 이러한 이론레 따라 검정통계량이 임계값보다 작으면 중앙값에 차이가 있다고 주장"
   ]
  },
  {
   "cell_type": "code",
   "execution_count": 70,
   "id": "683afbec",
   "metadata": {},
   "outputs": [
    {
     "data": {
      "text/plain": [
       "0.03623390197753906"
      ]
     },
     "execution_count": 70,
     "metadata": {},
     "output_type": "execute_result"
    }
   ],
   "source": [
    "w, p = stats.wilcoxon(training_rel['전'], training_rel['후'])\n",
    "p"
   ]
  },
  {
   "cell_type": "code",
   "execution_count": 76,
   "id": "016ca685",
   "metadata": {},
   "outputs": [
    {
     "data": {
      "text/plain": [
       "0.03623390197753906"
      ]
     },
     "execution_count": 76,
     "metadata": {},
     "output_type": "execute_result"
    }
   ],
   "source": [
    "w, p = stats.wilcoxon(training_rel['전'] - training_rel['후'])\n",
    "\n",
    "p"
   ]
  },
  {
   "cell_type": "markdown",
   "id": "de97ef5a",
   "metadata": {},
   "source": [
    "- 모집단이 정규분포를 따르고 있는 경우에도 윌콕슨 부호순위검정을 사용할 수 있지만, 대응비교 t검정의 검정력이 크다."
   ]
  },
  {
   "cell_type": "code",
   "execution_count": 75,
   "id": "cfaf2117",
   "metadata": {},
   "outputs": [],
   "source": [
    "n = 10000\n",
    "diffs = np.round(stats.norm(3,4).rvs(size=(n,20)))"
   ]
  },
  {
   "cell_type": "code",
   "execution_count": 77,
   "id": "be76dcca",
   "metadata": {},
   "outputs": [
    {
     "data": {
      "text/plain": [
       "0.8832"
      ]
     },
     "execution_count": 77,
     "metadata": {},
     "output_type": "execute_result"
    }
   ],
   "source": [
    "cnt = 0\n",
    "alpha = 0.05\n",
    "for diff in diffs:\n",
    "    t, p = stats.ttest_1samp(diff,0)\n",
    "    if p < alpha:\n",
    "        cnt += 1\n",
    "cnt/n"
   ]
  },
  {
   "cell_type": "code",
   "execution_count": 78,
   "id": "aaa91507",
   "metadata": {},
   "outputs": [
    {
     "name": "stderr",
     "output_type": "stream",
     "text": [
      "C:\\ProgramData\\Anaconda3\\lib\\site-packages\\scipy\\stats\\morestats.py:3141: UserWarning: Exact p-value calculation does not work if there are ties. Switching to normal approximation.\n",
      "  warnings.warn(\"Exact p-value calculation does not work if there are \"\n"
     ]
    },
    {
     "data": {
      "text/plain": [
       "0.8717"
      ]
     },
     "execution_count": 78,
     "metadata": {},
     "output_type": "execute_result"
    }
   ],
   "source": [
    "cnt = 0\n",
    "alpha = 0.05\n",
    "for diff in diffs:\n",
    "    w, p = stats.wilcoxon(diff)\n",
    "    if p < alpha:\n",
    "        cnt += 1\n",
    "cnt/n"
   ]
  },
  {
   "cell_type": "markdown",
   "id": "6bfede80",
   "metadata": {},
   "source": [
    "#### 만-위트니의 U검정\n",
    "- Maan-Whitney rank test: 대응되는 데이터가 없는 2표본 모집단에 정규분포를 가정할 수 없는 경우, 중앙값의 차이에 대한 검정"
   ]
  },
  {
   "cell_type": "code",
   "execution_count": 79,
   "id": "4e7914b2",
   "metadata": {},
   "outputs": [
    {
     "data": {
      "text/html": [
       "<div>\n",
       "<style scoped>\n",
       "    .dataframe tbody tr th:only-of-type {\n",
       "        vertical-align: middle;\n",
       "    }\n",
       "\n",
       "    .dataframe tbody tr th {\n",
       "        vertical-align: top;\n",
       "    }\n",
       "\n",
       "    .dataframe thead th {\n",
       "        text-align: right;\n",
       "    }\n",
       "</style>\n",
       "<table border=\"1\" class=\"dataframe\">\n",
       "  <thead>\n",
       "    <tr style=\"text-align: right;\">\n",
       "      <th></th>\n",
       "      <th>A</th>\n",
       "      <th>B</th>\n",
       "    </tr>\n",
       "  </thead>\n",
       "  <tbody>\n",
       "    <tr>\n",
       "      <th>0</th>\n",
       "      <td>47</td>\n",
       "      <td>49</td>\n",
       "    </tr>\n",
       "    <tr>\n",
       "      <th>1</th>\n",
       "      <td>50</td>\n",
       "      <td>52</td>\n",
       "    </tr>\n",
       "    <tr>\n",
       "      <th>2</th>\n",
       "      <td>37</td>\n",
       "      <td>54</td>\n",
       "    </tr>\n",
       "    <tr>\n",
       "      <th>3</th>\n",
       "      <td>60</td>\n",
       "      <td>48</td>\n",
       "    </tr>\n",
       "    <tr>\n",
       "      <th>4</th>\n",
       "      <td>39</td>\n",
       "      <td>51</td>\n",
       "    </tr>\n",
       "  </tbody>\n",
       "</table>\n",
       "</div>"
      ],
      "text/plain": [
       "    A   B\n",
       "0  47  49\n",
       "1  50  52\n",
       "2  37  54\n",
       "3  60  48\n",
       "4  39  51"
      ]
     },
     "execution_count": 79,
     "metadata": {},
     "output_type": "execute_result"
    }
   ],
   "source": [
    "training_ind = pd.read_csv('./ch11_training_ind.csv')\n",
    "toy_df = training_ind[:5].copy()\n",
    "toy_df"
   ]
  },
  {
   "cell_type": "code",
   "execution_count": 83,
   "id": "c58ba1d0",
   "metadata": {},
   "outputs": [
    {
     "data": {
      "text/html": [
       "<div>\n",
       "<style scoped>\n",
       "    .dataframe tbody tr th:only-of-type {\n",
       "        vertical-align: middle;\n",
       "    }\n",
       "\n",
       "    .dataframe tbody tr th {\n",
       "        vertical-align: top;\n",
       "    }\n",
       "\n",
       "    .dataframe thead th {\n",
       "        text-align: right;\n",
       "    }\n",
       "</style>\n",
       "<table border=\"1\" class=\"dataframe\">\n",
       "  <thead>\n",
       "    <tr style=\"text-align: right;\">\n",
       "      <th></th>\n",
       "      <th>A</th>\n",
       "      <th>B</th>\n",
       "    </tr>\n",
       "  </thead>\n",
       "  <tbody>\n",
       "    <tr>\n",
       "      <th>0</th>\n",
       "      <td>3.0</td>\n",
       "      <td>5</td>\n",
       "    </tr>\n",
       "    <tr>\n",
       "      <th>1</th>\n",
       "      <td>6.0</td>\n",
       "      <td>8</td>\n",
       "    </tr>\n",
       "    <tr>\n",
       "      <th>2</th>\n",
       "      <td>1.0</td>\n",
       "      <td>9</td>\n",
       "    </tr>\n",
       "    <tr>\n",
       "      <th>3</th>\n",
       "      <td>10.0</td>\n",
       "      <td>4</td>\n",
       "    </tr>\n",
       "    <tr>\n",
       "      <th>4</th>\n",
       "      <td>2.0</td>\n",
       "      <td>7</td>\n",
       "    </tr>\n",
       "  </tbody>\n",
       "</table>\n",
       "</div>"
      ],
      "text/plain": [
       "      A  B\n",
       "0   3.0  5\n",
       "1   6.0  8\n",
       "2   1.0  9\n",
       "3  10.0  4\n",
       "4   2.0  7"
      ]
     },
     "execution_count": 83,
     "metadata": {},
     "output_type": "execute_result"
    }
   ],
   "source": [
    "rank = stats.rankdata(np.concatenate([toy_df['A'], toy_df['B']]))\n",
    "rank_df = pd.DataFrame({'A':rank[:5], 'B':rank[5:10].astype(int)})\n",
    "rank_df"
   ]
  },
  {
   "cell_type": "code",
   "execution_count": 84,
   "id": "91854105",
   "metadata": {},
   "outputs": [
    {
     "data": {
      "text/plain": [
       "7.0"
      ]
     },
     "execution_count": 84,
     "metadata": {},
     "output_type": "execute_result"
    }
   ],
   "source": [
    "n1 = len(rank_df['A'])\n",
    "u = rank_df['A'].sum() - (n1*(n1+1))/2\n",
    "u"
   ]
  },
  {
   "cell_type": "code",
   "execution_count": 85,
   "id": "ebfe3ddb",
   "metadata": {},
   "outputs": [
    {
     "data": {
      "text/html": [
       "<div>\n",
       "<style scoped>\n",
       "    .dataframe tbody tr th:only-of-type {\n",
       "        vertical-align: middle;\n",
       "    }\n",
       "\n",
       "    .dataframe tbody tr th {\n",
       "        vertical-align: top;\n",
       "    }\n",
       "\n",
       "    .dataframe thead th {\n",
       "        text-align: right;\n",
       "    }\n",
       "</style>\n",
       "<table border=\"1\" class=\"dataframe\">\n",
       "  <thead>\n",
       "    <tr style=\"text-align: right;\">\n",
       "      <th></th>\n",
       "      <th>A</th>\n",
       "      <th>B</th>\n",
       "    </tr>\n",
       "  </thead>\n",
       "  <tbody>\n",
       "    <tr>\n",
       "      <th>0</th>\n",
       "      <td>1</td>\n",
       "      <td>6</td>\n",
       "    </tr>\n",
       "    <tr>\n",
       "      <th>1</th>\n",
       "      <td>2</td>\n",
       "      <td>7</td>\n",
       "    </tr>\n",
       "    <tr>\n",
       "      <th>2</th>\n",
       "      <td>3</td>\n",
       "      <td>8</td>\n",
       "    </tr>\n",
       "    <tr>\n",
       "      <th>3</th>\n",
       "      <td>4</td>\n",
       "      <td>9</td>\n",
       "    </tr>\n",
       "    <tr>\n",
       "      <th>4</th>\n",
       "      <td>5</td>\n",
       "      <td>10</td>\n",
       "    </tr>\n",
       "  </tbody>\n",
       "</table>\n",
       "</div>"
      ],
      "text/plain": [
       "   A   B\n",
       "0  1   6\n",
       "1  2   7\n",
       "2  3   8\n",
       "3  4   9\n",
       "4  5  10"
      ]
     },
     "execution_count": 85,
     "metadata": {},
     "output_type": "execute_result"
    }
   ],
   "source": [
    "# A에 높은 순위가 모여있는 경우\n",
    "rank_df = pd.DataFrame(np.arange(1, 11).reshape(2, 5).T, columns=['A', 'B'])\n",
    "rank_df"
   ]
  },
  {
   "cell_type": "code",
   "execution_count": 86,
   "id": "f9f36b55",
   "metadata": {},
   "outputs": [
    {
     "data": {
      "text/plain": [
       "0.0"
      ]
     },
     "execution_count": 86,
     "metadata": {},
     "output_type": "execute_result"
    }
   ],
   "source": [
    "u = rank_df['A'].sum() - (n1*(n1+1))/2\n",
    "u"
   ]
  },
  {
   "cell_type": "code",
   "execution_count": 91,
   "id": "1e4fcc59",
   "metadata": {},
   "outputs": [
    {
     "data": {
      "text/html": [
       "<div>\n",
       "<style scoped>\n",
       "    .dataframe tbody tr th:only-of-type {\n",
       "        vertical-align: middle;\n",
       "    }\n",
       "\n",
       "    .dataframe tbody tr th {\n",
       "        vertical-align: top;\n",
       "    }\n",
       "\n",
       "    .dataframe thead th {\n",
       "        text-align: right;\n",
       "    }\n",
       "</style>\n",
       "<table border=\"1\" class=\"dataframe\">\n",
       "  <thead>\n",
       "    <tr style=\"text-align: right;\">\n",
       "      <th></th>\n",
       "      <th>A</th>\n",
       "      <th>B</th>\n",
       "    </tr>\n",
       "  </thead>\n",
       "  <tbody>\n",
       "    <tr>\n",
       "      <th>0</th>\n",
       "      <td>6</td>\n",
       "      <td>1</td>\n",
       "    </tr>\n",
       "    <tr>\n",
       "      <th>1</th>\n",
       "      <td>7</td>\n",
       "      <td>2</td>\n",
       "    </tr>\n",
       "    <tr>\n",
       "      <th>2</th>\n",
       "      <td>8</td>\n",
       "      <td>3</td>\n",
       "    </tr>\n",
       "    <tr>\n",
       "      <th>3</th>\n",
       "      <td>9</td>\n",
       "      <td>4</td>\n",
       "    </tr>\n",
       "    <tr>\n",
       "      <th>4</th>\n",
       "      <td>10</td>\n",
       "      <td>5</td>\n",
       "    </tr>\n",
       "  </tbody>\n",
       "</table>\n",
       "</div>"
      ],
      "text/plain": [
       "    A  B\n",
       "0   6  1\n",
       "1   7  2\n",
       "2   8  3\n",
       "3   9  4\n",
       "4  10  5"
      ]
     },
     "execution_count": 91,
     "metadata": {},
     "output_type": "execute_result"
    }
   ],
   "source": [
    "# A에 낮은 순위가 모여있는 경우\n",
    "rank_df = pd.DataFrame(np.arange(1,11).reshape(2,5)[::-1].T, columns=['A','B'])\n",
    "rank_df"
   ]
  },
  {
   "cell_type": "code",
   "execution_count": 93,
   "id": "45408367",
   "metadata": {},
   "outputs": [
    {
     "data": {
      "text/plain": [
       "25.0"
      ]
     },
     "execution_count": 93,
     "metadata": {},
     "output_type": "execute_result"
    }
   ],
   "source": [
    "u = rank_df['A'].sum() - (n1*(n1+1))/2\n",
    "u"
   ]
  },
  {
   "cell_type": "code",
   "execution_count": 96,
   "id": "0325d536",
   "metadata": {},
   "outputs": [
    {
     "data": {
      "text/plain": [
       "0.05948611166127324"
      ]
     },
     "execution_count": 96,
     "metadata": {},
     "output_type": "execute_result"
    }
   ],
   "source": [
    "u, p = stats.mannwhitneyu(training_ind['A'], training_ind['B'], alternative='two-sided')\n",
    "p"
   ]
  },
  {
   "cell_type": "markdown",
   "id": "e131c61d",
   "metadata": {},
   "source": [
    "#### 카이제곱 검정"
   ]
  },
  {
   "cell_type": "code",
   "execution_count": 97,
   "id": "9f7a1b63",
   "metadata": {},
   "outputs": [
    {
     "name": "stdout",
     "output_type": "stream",
     "text": [
      "1000\n"
     ]
    },
    {
     "data": {
      "text/html": [
       "<div>\n",
       "<style scoped>\n",
       "    .dataframe tbody tr th:only-of-type {\n",
       "        vertical-align: middle;\n",
       "    }\n",
       "\n",
       "    .dataframe tbody tr th {\n",
       "        vertical-align: top;\n",
       "    }\n",
       "\n",
       "    .dataframe thead th {\n",
       "        text-align: right;\n",
       "    }\n",
       "</style>\n",
       "<table border=\"1\" class=\"dataframe\">\n",
       "  <thead>\n",
       "    <tr style=\"text-align: right;\">\n",
       "      <th></th>\n",
       "      <th>광고</th>\n",
       "      <th>구입</th>\n",
       "    </tr>\n",
       "  </thead>\n",
       "  <tbody>\n",
       "    <tr>\n",
       "      <th>0</th>\n",
       "      <td>B</td>\n",
       "      <td>하지 않았다</td>\n",
       "    </tr>\n",
       "    <tr>\n",
       "      <th>1</th>\n",
       "      <td>B</td>\n",
       "      <td>하지 않았다</td>\n",
       "    </tr>\n",
       "    <tr>\n",
       "      <th>2</th>\n",
       "      <td>A</td>\n",
       "      <td>했다</td>\n",
       "    </tr>\n",
       "    <tr>\n",
       "      <th>3</th>\n",
       "      <td>A</td>\n",
       "      <td>했다</td>\n",
       "    </tr>\n",
       "    <tr>\n",
       "      <th>4</th>\n",
       "      <td>B</td>\n",
       "      <td>하지 않았다</td>\n",
       "    </tr>\n",
       "  </tbody>\n",
       "</table>\n",
       "</div>"
      ],
      "text/plain": [
       "  광고      구입\n",
       "0  B  하지 않았다\n",
       "1  B  하지 않았다\n",
       "2  A      했다\n",
       "3  A      했다\n",
       "4  B  하지 않았다"
      ]
     },
     "execution_count": 97,
     "metadata": {},
     "output_type": "execute_result"
    }
   ],
   "source": [
    "ad_df = pd.read_csv('./ch11_ad.csv')\n",
    "n = len(ad_df)\n",
    "print(n)\n",
    "ad_df.head()"
   ]
  },
  {
   "cell_type": "code",
   "execution_count": 98,
   "id": "7af9e125",
   "metadata": {},
   "outputs": [
    {
     "data": {
      "text/html": [
       "<div>\n",
       "<style scoped>\n",
       "    .dataframe tbody tr th:only-of-type {\n",
       "        vertical-align: middle;\n",
       "    }\n",
       "\n",
       "    .dataframe tbody tr th {\n",
       "        vertical-align: top;\n",
       "    }\n",
       "\n",
       "    .dataframe thead th {\n",
       "        text-align: right;\n",
       "    }\n",
       "</style>\n",
       "<table border=\"1\" class=\"dataframe\">\n",
       "  <thead>\n",
       "    <tr style=\"text-align: right;\">\n",
       "      <th>구입</th>\n",
       "      <th>하지 않았다</th>\n",
       "      <th>했다</th>\n",
       "    </tr>\n",
       "    <tr>\n",
       "      <th>광고</th>\n",
       "      <th></th>\n",
       "      <th></th>\n",
       "    </tr>\n",
       "  </thead>\n",
       "  <tbody>\n",
       "    <tr>\n",
       "      <th>A</th>\n",
       "      <td>351</td>\n",
       "      <td>49</td>\n",
       "    </tr>\n",
       "    <tr>\n",
       "      <th>B</th>\n",
       "      <td>549</td>\n",
       "      <td>51</td>\n",
       "    </tr>\n",
       "  </tbody>\n",
       "</table>\n",
       "</div>"
      ],
      "text/plain": [
       "구입  하지 않았다  했다\n",
       "광고            \n",
       "A      351  49\n",
       "B      549  51"
      ]
     },
     "execution_count": 98,
     "metadata": {},
     "output_type": "execute_result"
    }
   ],
   "source": [
    "ad_cross = pd.crosstab(ad_df['광고'], ad_df['구입'])\n",
    "ad_cross"
   ]
  },
  {
   "cell_type": "code",
   "execution_count": 99,
   "id": "b3edbb7b",
   "metadata": {},
   "outputs": [
    {
     "data": {
      "text/plain": [
       "광고\n",
       "A    0.1225\n",
       "B    0.0850\n",
       "dtype: float64"
      ]
     },
     "execution_count": 99,
     "metadata": {},
     "output_type": "execute_result"
    }
   ],
   "source": [
    "ad_cross['했다'] / (ad_cross['했다'] + ad_cross['하지 않았다'])"
   ]
  },
  {
   "cell_type": "code",
   "execution_count": 100,
   "id": "3c023dbb",
   "metadata": {},
   "outputs": [
    {
     "data": {
      "text/plain": [
       "(900, 100)"
      ]
     },
     "execution_count": 100,
     "metadata": {},
     "output_type": "execute_result"
    }
   ],
   "source": [
    "n_not, n_yes = ad_cross.sum()\n",
    "n_not, n_yes"
   ]
  },
  {
   "cell_type": "code",
   "execution_count": 102,
   "id": "58483e42",
   "metadata": {},
   "outputs": [
    {
     "data": {
      "text/plain": [
       "(400, 600)"
      ]
     },
     "execution_count": 102,
     "metadata": {},
     "output_type": "execute_result"
    }
   ],
   "source": [
    "n_adA, n_adB = ad_cross.sum(axis=1)\n",
    "n_adA, n_adB"
   ]
  },
  {
   "cell_type": "code",
   "execution_count": 104,
   "id": "2b5eecf5",
   "metadata": {},
   "outputs": [
    {
     "data": {
      "text/html": [
       "<div>\n",
       "<style scoped>\n",
       "    .dataframe tbody tr th:only-of-type {\n",
       "        vertical-align: middle;\n",
       "    }\n",
       "\n",
       "    .dataframe tbody tr th {\n",
       "        vertical-align: top;\n",
       "    }\n",
       "\n",
       "    .dataframe thead th {\n",
       "        text-align: right;\n",
       "    }\n",
       "</style>\n",
       "<table border=\"1\" class=\"dataframe\">\n",
       "  <thead>\n",
       "    <tr style=\"text-align: right;\">\n",
       "      <th></th>\n",
       "      <th>했다</th>\n",
       "      <th>하지 않았다</th>\n",
       "    </tr>\n",
       "  </thead>\n",
       "  <tbody>\n",
       "    <tr>\n",
       "      <th>A</th>\n",
       "      <td>40.0</td>\n",
       "      <td>360.0</td>\n",
       "    </tr>\n",
       "    <tr>\n",
       "      <th>B</th>\n",
       "      <td>60.0</td>\n",
       "      <td>540.0</td>\n",
       "    </tr>\n",
       "  </tbody>\n",
       "</table>\n",
       "</div>"
      ],
      "text/plain": [
       "     했다  하지 않았다\n",
       "A  40.0   360.0\n",
       "B  60.0   540.0"
      ]
     },
     "execution_count": 104,
     "metadata": {},
     "output_type": "execute_result"
    }
   ],
   "source": [
    "ad_ef = pd.DataFrame({'했다':[n_adA*n_yes/n, n_adB*n_yes/n],\n",
    "                      '하지 않았다':[n_adA*n_not/n, n_adB*n_not/n]},\n",
    "                    index = ['A', 'B'])\n",
    "ad_ef"
   ]
  },
  {
   "cell_type": "markdown",
   "id": "37564393",
   "metadata": {},
   "source": [
    "$Y=\\sum_i\\sum_j\\frac{(O_{ij}-E_{ij})^2}{E_{ij}}$"
   ]
  },
  {
   "cell_type": "code",
   "execution_count": 105,
   "id": "db4c9fc2",
   "metadata": {},
   "outputs": [
    {
     "data": {
      "text/plain": [
       "3.75"
      ]
     },
     "execution_count": 105,
     "metadata": {},
     "output_type": "execute_result"
    }
   ],
   "source": [
    "y = ((ad_cross-ad_ef)**2/ad_ef).sum().sum()\n",
    "y"
   ]
  },
  {
   "cell_type": "code",
   "execution_count": 109,
   "id": "e1688944",
   "metadata": {},
   "outputs": [
    {
     "data": {
      "text/plain": [
       "0.052807511416113395"
      ]
     },
     "execution_count": 109,
     "metadata": {},
     "output_type": "execute_result"
    }
   ],
   "source": [
    "rv = stats.chi2(1)\n",
    "1 - rv.cdf(y)"
   ]
  },
  {
   "cell_type": "code",
   "execution_count": 110,
   "id": "c065979d",
   "metadata": {},
   "outputs": [
    {
     "data": {
      "text/plain": [
       "(3.75, 0.052807511416113395, 1)"
      ]
     },
     "execution_count": 110,
     "metadata": {},
     "output_type": "execute_result"
    }
   ],
   "source": [
    "chi2, p, dof, ef = stats.chi2_contingency(ad_cross, correction=False)\n",
    "chi2, p, dof"
   ]
  },
  {
   "cell_type": "code",
   "execution_count": 111,
   "id": "f1963c08",
   "metadata": {},
   "outputs": [
    {
     "data": {
      "text/plain": [
       "array([[360.,  40.],\n",
       "       [540.,  60.]])"
      ]
     },
     "execution_count": 111,
     "metadata": {},
     "output_type": "execute_result"
    }
   ],
   "source": [
    "ef"
   ]
  }
 ],
 "metadata": {
  "kernelspec": {
   "display_name": "Python 3 (ipykernel)",
   "language": "python",
   "name": "python3"
  },
  "language_info": {
   "codemirror_mode": {
    "name": "ipython",
    "version": 3
   },
   "file_extension": ".py",
   "mimetype": "text/x-python",
   "name": "python",
   "nbconvert_exporter": "python",
   "pygments_lexer": "ipython3",
   "version": "3.9.7"
  }
 },
 "nbformat": 4,
 "nbformat_minor": 5
}
