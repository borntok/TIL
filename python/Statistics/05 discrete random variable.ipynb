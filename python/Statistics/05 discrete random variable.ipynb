{
 "cells": [
  {
   "cell_type": "code",
   "execution_count": 7,
   "id": "3dec8551",
   "metadata": {},
   "outputs": [],
   "source": [
    "import numpy as np\n",
    "import matplotlib.pyplot as plt\n",
    "\n",
    "%matplotlib inline"
   ]
  },
  {
   "cell_type": "markdown",
   "id": "d51fd4e8",
   "metadata": {},
   "source": [
    "### 5.1 1차원 이산형 확률변수"
   ]
  },
  {
   "cell_type": "markdown",
   "id": "36714e24",
   "metadata": {},
   "source": [
    "$f(x)=\n",
    "\\begin{cases}\n",
    "\\frac{x}{21}, \\;(x\\in{1,2,3,4,5,6})\\\\\n",
    "0,\\;(ohterwise)\n",
    "\\end{cases}$"
   ]
  },
  {
   "cell_type": "code",
   "execution_count": 3,
   "id": "21b25fc2",
   "metadata": {},
   "outputs": [],
   "source": [
    "# 확률 정의 함수\n",
    "def f(x):\n",
    "    if x in x_set:\n",
    "        return x/21\n",
    "    else:\n",
    "        0"
   ]
  },
  {
   "cell_type": "code",
   "execution_count": 21,
   "id": "a75b0f40",
   "metadata": {},
   "outputs": [],
   "source": [
    "x_set = np.array([1,2,3,4,5,6])\n",
    "X = [x_set, f]"
   ]
  },
  {
   "cell_type": "code",
   "execution_count": 5,
   "id": "ff759469",
   "metadata": {},
   "outputs": [
    {
     "data": {
      "text/plain": [
       "{1: 0.047619047619047616,\n",
       " 2: 0.09523809523809523,\n",
       " 3: 0.14285714285714285,\n",
       " 4: 0.19047619047619047,\n",
       " 5: 0.23809523809523808,\n",
       " 6: 0.2857142857142857}"
      ]
     },
     "execution_count": 5,
     "metadata": {},
     "output_type": "execute_result"
    }
   ],
   "source": [
    "prob = np.array([f(x_k) for x_k in x_set])\n",
    "dict(zip(x_set, prob))"
   ]
  },
  {
   "cell_type": "code",
   "execution_count": 11,
   "id": "259b0e09",
   "metadata": {
    "scrolled": true
   },
   "outputs": [
    {
     "data": {
      "image/png": "[encoded data removed]",
      "text/plain": [
       "<Figure size 720x432 with 1 Axes>"
      ]
     },
     "metadata": {
      "needs_background": "light"
     },
     "output_type": "display_data"
    }
   ],
   "source": [
    "fig = plt.figure(figsize=(10,6))\n",
    "ax = fig.add_subplot(111)\n",
    "ax.bar(x_set, prob)\n",
    "ax.set_xlabel('value')\n",
    "ax.set_ylabel('probability')\n",
    "plt.show()"
   ]
  },
  {
   "cell_type": "markdown",
   "id": "55b59abb",
   "metadata": {},
   "source": [
    "$f(x_k)\\geq 0 \\\\\n",
    "\\sum_{k} f(x_k) = 1$"
   ]
  },
  {
   "cell_type": "code",
   "execution_count": 12,
   "id": "6a180470",
   "metadata": {},
   "outputs": [
    {
     "data": {
      "text/plain": [
       "True"
      ]
     },
     "execution_count": 12,
     "metadata": {},
     "output_type": "execute_result"
    }
   ],
   "source": [
    "np.all(prob >= 0) #확률은 0이상"
   ]
  },
  {
   "cell_type": "code",
   "execution_count": 13,
   "id": "555d46dc",
   "metadata": {},
   "outputs": [
    {
     "data": {
      "text/plain": [
       "0.9999999999999999"
      ]
     },
     "execution_count": 13,
     "metadata": {},
     "output_type": "execute_result"
    }
   ],
   "source": [
    "np.sum(prob) # 모든 확률의 합은 1"
   ]
  },
  {
   "cell_type": "markdown",
   "id": "475e7643",
   "metadata": {},
   "source": [
    "$F(x)=P(X\\leq x)=\\sum_{x_k\\leq x}f(x_k)$"
   ]
  },
  {
   "cell_type": "code",
   "execution_count": 14,
   "id": "bd0580e0",
   "metadata": {},
   "outputs": [],
   "source": [
    "# 누적분포함수\n",
    "def F(x):\n",
    "    return np.sum([f(x_k) for x_k in x_set if x_k <= x])"
   ]
  },
  {
   "cell_type": "code",
   "execution_count": 15,
   "id": "1cfd5eb0",
   "metadata": {},
   "outputs": [
    {
     "data": {
      "text/plain": [
       "0.2857142857142857"
      ]
     },
     "execution_count": 15,
     "metadata": {},
     "output_type": "execute_result"
    }
   ],
   "source": [
    "F(3)"
   ]
  },
  {
   "cell_type": "code",
   "execution_count": 18,
   "id": "7d9d3e1d",
   "metadata": {
    "scrolled": true
   },
   "outputs": [
    {
     "data": {
      "text/plain": [
       "{5: 0.047619047619047616,\n",
       " 7: 0.09523809523809523,\n",
       " 9: 0.14285714285714285,\n",
       " 11: 0.19047619047619047,\n",
       " 13: 0.23809523809523808,\n",
       " 15: 0.2857142857142857}"
      ]
     },
     "execution_count": 18,
     "metadata": {},
     "output_type": "execute_result"
    }
   ],
   "source": [
    "# 확률변수의 변환\n",
    "y_set = np.array([2*x_k+3 for x_k in x_set])\n",
    "prob = np.array([f(x_k) for x_k in x_set])\n",
    "dict(zip(y_set, prob))"
   ]
  },
  {
   "cell_type": "markdown",
   "id": "f3d96af8",
   "metadata": {},
   "source": [
    "$E(X)=\\sum_{k}x_kf(x_k)$"
   ]
  },
  {
   "cell_type": "code",
   "execution_count": 19,
   "id": "2d223124",
   "metadata": {},
   "outputs": [
    {
     "data": {
      "text/plain": [
       "4.333333333333333"
      ]
     },
     "execution_count": 19,
     "metadata": {},
     "output_type": "execute_result"
    }
   ],
   "source": [
    "# 기댓값\n",
    "np.sum([x_k * f(x_k) for x_k in x_set])"
   ]
  },
  {
   "cell_type": "code",
   "execution_count": 20,
   "id": "0d7143f0",
   "metadata": {},
   "outputs": [
    {
     "data": {
      "text/plain": [
       "4.334798"
      ]
     },
     "execution_count": 20,
     "metadata": {},
     "output_type": "execute_result"
    }
   ],
   "source": [
    "# 불공정주사위 100만번 굴린 값의 평균\n",
    "sample = np.random.choice(x_set, int(1e6), p=prob)\n",
    "np.mean(sample)"
   ]
  },
  {
   "cell_type": "code",
   "execution_count": 29,
   "id": "6b583d31",
   "metadata": {},
   "outputs": [],
   "source": [
    "import warnings\n",
    "warnings.filterwarnings(action='ignore')"
   ]
  },
  {
   "cell_type": "markdown",
   "id": "ba7a3221",
   "metadata": {},
   "source": [
    "$E(g(X))=\\sum_{k}g(x_k)f(x_k)$"
   ]
  },
  {
   "cell_type": "code",
   "execution_count": 22,
   "id": "4dd4ef04",
   "metadata": {},
   "outputs": [],
   "source": [
    "# 기댓값 함수\n",
    "def E(X, g=lambda x: x):\n",
    "    x_set,f = X\n",
    "    return np.sum(g(x_k)*f(x_k) for x_k in x_set)"
   ]
  },
  {
   "cell_type": "code",
   "execution_count": 31,
   "id": "756d7d2c",
   "metadata": {
    "scrolled": false
   },
   "outputs": [
    {
     "data": {
      "text/plain": [
       "4.333333333333333"
      ]
     },
     "execution_count": 31,
     "metadata": {},
     "output_type": "execute_result"
    }
   ],
   "source": [
    "E(X)"
   ]
  },
  {
   "cell_type": "markdown",
   "id": "a5eda19f",
   "metadata": {},
   "source": [
    "$E(aX+b)=aE(X)+b$"
   ]
  },
  {
   "cell_type": "code",
   "execution_count": 30,
   "id": "8da8217e",
   "metadata": {},
   "outputs": [
    {
     "data": {
      "text/plain": [
       "11.666666666666664"
      ]
     },
     "execution_count": 30,
     "metadata": {},
     "output_type": "execute_result"
    }
   ],
   "source": [
    "E(X, g=lambda x: 2*x+3)"
   ]
  },
  {
   "cell_type": "code",
   "execution_count": 32,
   "id": "5e29a2f9",
   "metadata": {
    "scrolled": true
   },
   "outputs": [
    {
     "data": {
      "text/plain": [
       "11.666666666666666"
      ]
     },
     "execution_count": 32,
     "metadata": {},
     "output_type": "execute_result"
    }
   ],
   "source": [
    "2*E(X)+3"
   ]
  },
  {
   "cell_type": "markdown",
   "id": "181969be",
   "metadata": {},
   "source": [
    "$V(X)=\\sum_{K}(x_k-\\mu)^2f(x_k)$"
   ]
  },
  {
   "cell_type": "code",
   "execution_count": 33,
   "id": "eecddd44",
   "metadata": {},
   "outputs": [
    {
     "data": {
      "text/plain": [
       "2.2222222222222223"
      ]
     },
     "execution_count": 33,
     "metadata": {},
     "output_type": "execute_result"
    }
   ],
   "source": [
    "# 분산\n",
    "mean = E(X)\n",
    "np.sum([(x_k-mean)**2 * f(x_k) for x_k in x_set])"
   ]
  },
  {
   "cell_type": "markdown",
   "id": "4ba154f5",
   "metadata": {},
   "source": [
    "$V(g(X))=\\sum_{k}(g(x_k))-E(g(X)))^2f(x_k)$"
   ]
  },
  {
   "cell_type": "code",
   "execution_count": 34,
   "id": "c49da23e",
   "metadata": {},
   "outputs": [],
   "source": [
    "# 분산 함수\n",
    "def V(X, g=lambda x: x):\n",
    "    x_set, f = X\n",
    "    mean = E(X, g)\n",
    "    return np.sum([(g(x_k)-mean)**2 * f(x_k) for x_k in x_set])"
   ]
  },
  {
   "cell_type": "code",
   "execution_count": 35,
   "id": "6ead20fe",
   "metadata": {
    "scrolled": true
   },
   "outputs": [
    {
     "data": {
      "text/plain": [
       "2.2222222222222223"
      ]
     },
     "execution_count": 35,
     "metadata": {},
     "output_type": "execute_result"
    }
   ],
   "source": [
    "V(X)"
   ]
  },
  {
   "cell_type": "markdown",
   "id": "9df17ee1",
   "metadata": {},
   "source": [
    "$V(aX+b)=a^2V(X)$"
   ]
  },
  {
   "cell_type": "code",
   "execution_count": 36,
   "id": "602db754",
   "metadata": {},
   "outputs": [
    {
     "data": {
      "text/plain": [
       "8.88888888888889"
      ]
     },
     "execution_count": 36,
     "metadata": {},
     "output_type": "execute_result"
    }
   ],
   "source": [
    "V(X, lambda x: 2*x+3)"
   ]
  },
  {
   "cell_type": "code",
   "execution_count": 37,
   "id": "de67ae14",
   "metadata": {},
   "outputs": [
    {
     "data": {
      "text/plain": [
       "8.88888888888889"
      ]
     },
     "execution_count": 37,
     "metadata": {},
     "output_type": "execute_result"
    }
   ],
   "source": [
    "2**2 * V(X)"
   ]
  },
  {
   "cell_type": "markdown",
   "id": "a8cec362",
   "metadata": {},
   "source": [
    "### 2차원 이산형 확률변수"
   ]
  },
  {
   "cell_type": "markdown",
   "id": "7c6deda1",
   "metadata": {},
   "source": [
    "$f_{XY}(x,y)=\n",
    "\\begin{cases}\n",
    "\\frac{y(x-y)}{441}, \\;(y\\in \\{1,2,3,4,5,6\\}\\ and\\ x-y\\in\\{1,2,3,4,5,6\\})\\\\\n",
    "0,\\;(ohterwise)\n",
    "\\end{cases}$"
   ]
  },
  {
   "cell_type": "code",
   "execution_count": 38,
   "id": "a627ef0c",
   "metadata": {},
   "outputs": [],
   "source": [
    "x_set = np.arange(2, 13)\n",
    "y_set = np.arange(1, 7)"
   ]
  },
  {
   "cell_type": "code",
   "execution_count": 51,
   "id": "8ba3f87f",
   "metadata": {},
   "outputs": [],
   "source": [
    "# 결합확률함수\n",
    "def f_XY(x, y):\n",
    "    if 1 <= y <=6 and 1 <= x - y <= 6:\n",
    "        return y * (x-y) / 441\n",
    "    else:\n",
    "        return 0"
   ]
  },
  {
   "cell_type": "code",
   "execution_count": 52,
   "id": "1e7b7340",
   "metadata": {},
   "outputs": [],
   "source": [
    "XY = [x_set, y_set, f_XY]"
   ]
  },
  {
   "cell_type": "code",
   "execution_count": 67,
   "id": "41027457",
   "metadata": {
    "scrolled": true
   },
   "outputs": [
    {
     "data": {
      "image/png": "[encoded data removed]",
      "text/plain": [
       "<Figure size 720x576 with 2 Axes>"
      ]
     },
     "metadata": {
      "needs_background": "light"
     },
     "output_type": "display_data"
    }
   ],
   "source": [
    "prob = np.array([[f_XY(x_i, y_j) for y_j in y_set] for x_i in x_set])\n",
    "\n",
    "fig = plt.figure(figsize=(10,8))\n",
    "ax = fig.add_subplot(111)\n",
    "c = ax.pcolor(prob)\n",
    "\n",
    "ax.set_xticks(np.arange(prob.shape[1]) + 0.5, minor=False)\n",
    "ax.set_yticks(np.arange(prob.shape[0]) + 0.5, minor=False)\n",
    "ax.set_xticklabels(np.arange(1,7), minor=False)\n",
    "ax.set_yticklabels(np.arange(2,13), minor=False)\n",
    "ax.invert_yaxis()\n",
    "ax.xaxis.tick_top()\n",
    "fig.colorbar(c, ax=ax)\n",
    "plt.gray()\n",
    "plt.show()"
   ]
  },
  {
   "cell_type": "markdown",
   "id": "7ffcdf98",
   "metadata": {},
   "source": [
    "$f_{xy}(x_i,y_i)\\geq 0 \\\\\n",
    "\\sum_i\\sum_jf_{XY}(x_i,y_j)=1$"
   ]
  },
  {
   "cell_type": "code",
   "execution_count": 68,
   "id": "d30ef649",
   "metadata": {},
   "outputs": [
    {
     "data": {
      "text/plain": [
       "True"
      ]
     },
     "execution_count": 68,
     "metadata": {},
     "output_type": "execute_result"
    }
   ],
   "source": [
    "np.all(prob>=0)"
   ]
  },
  {
   "cell_type": "code",
   "execution_count": 69,
   "id": "62cb2c91",
   "metadata": {},
   "outputs": [
    {
     "data": {
      "text/plain": [
       "1.0"
      ]
     },
     "execution_count": 69,
     "metadata": {},
     "output_type": "execute_result"
    }
   ],
   "source": [
    "np.sum(prob)"
   ]
  },
  {
   "cell_type": "markdown",
   "id": "a79a5b94",
   "metadata": {},
   "source": [
    "$f_X(x)=\\sum_{k}f_{XY}(x,y_k)$"
   ]
  },
  {
   "cell_type": "code",
   "execution_count": 70,
   "id": "625fd82c",
   "metadata": {},
   "outputs": [],
   "source": [
    "# 주변확률분포\n",
    "def f_X(x):\n",
    "    return np.sum([f_XY(x, y_k) for y_k in y_set])\n",
    "\n",
    "def f_Y(y):\n",
    "    return np.sum([f_XY(x_k, y) for x_k in x_set])"
   ]
  },
  {
   "cell_type": "code",
   "execution_count": 73,
   "id": "4dcbd6f1",
   "metadata": {},
   "outputs": [],
   "source": [
    "X = [x_set, f_X]\n",
    "Y = [y_set, f_Y]"
   ]
  },
  {
   "cell_type": "code",
   "execution_count": 74,
   "id": "040510cf",
   "metadata": {
    "scrolled": true
   },
   "outputs": [
    {
     "data": {
      "image/png": "[encoded data removed]",
      "text/plain": [
       "<Figure size 864x288 with 2 Axes>"
      ]
     },
     "metadata": {
      "needs_background": "light"
     },
     "output_type": "display_data"
    }
   ],
   "source": [
    "prob_x = np.array([f_X(x_k) for x_k in x_set])\n",
    "prob_y = np.array([f_Y(y_k) for y_k in y_set])\n",
    "\n",
    "fig = plt.figure(figsize=(12, 4))\n",
    "ax1 = fig.add_subplot(121)\n",
    "ax2 = fig.add_subplot(122)\n",
    "\n",
    "ax1.bar(x_set, prob_x)\n",
    "ax1.set_title('X_marginal probability distribution')\n",
    "ax1.set_xlabel('X_value')\n",
    "ax1.set_ylabel('probability')\n",
    "ax1.set_xticks(x_set)\n",
    "\n",
    "ax2.bar(y_set, prob_y)\n",
    "ax2.set_title('Y_marginal probability distribution')\n",
    "ax2.set_xlabel('Y_value')\n",
    "ax2.set_ylabel('probability')\n",
    "\n",
    "plt.show()"
   ]
  },
  {
   "cell_type": "markdown",
   "id": "74292a71",
   "metadata": {},
   "source": [
    "$\\mu_X=E(X)=\\sum_{i}\\sum_{j}x_if_{XY}(x_i,y_j)$"
   ]
  },
  {
   "cell_type": "code",
   "execution_count": 75,
   "id": "3fe24eee",
   "metadata": {},
   "outputs": [
    {
     "data": {
      "text/plain": [
       "8.666666666666666"
      ]
     },
     "execution_count": 75,
     "metadata": {},
     "output_type": "execute_result"
    }
   ],
   "source": [
    "# 기댓값\n",
    "np.sum([x_i * f_XY(x_i, y_j) for x_i in x_set for y_j in y_set])"
   ]
  },
  {
   "cell_type": "markdown",
   "id": "e7ee3efe",
   "metadata": {},
   "source": [
    "$E(g(X,Y))=\\sum_{i}\\sum_{j}g(x_i,y_j)f_{XY}(x_i,y_j)$"
   ]
  },
  {
   "cell_type": "code",
   "execution_count": 86,
   "id": "c50172a5",
   "metadata": {},
   "outputs": [],
   "source": [
    "# 함수 g(X,Y)의 기댓값\n",
    "def E(XY, g):\n",
    "    x_set, y_set, f_XY = XY\n",
    "    return np.sum([g(x_i, y_j) * f_XY(x_i, y_j) for x_i in x_set for y_j in y_set])"
   ]
  },
  {
   "cell_type": "code",
   "execution_count": 84,
   "id": "4473d5f2",
   "metadata": {},
   "outputs": [],
   "source": [
    "def E(XY, g):\n",
    "    x_set, y_set, XY = f_XY\n",
    "    return np.sum([g(x_i, y_j) * f_XY(x_i, y_j) for x_i in x_set for y_j in y_set])"
   ]
  },
  {
   "cell_type": "code",
   "execution_count": 78,
   "id": "6837d3c9",
   "metadata": {},
   "outputs": [
    {
     "data": {
      "text/plain": [
       "8.666666666666666"
      ]
     },
     "execution_count": 78,
     "metadata": {},
     "output_type": "execute_result"
    }
   ],
   "source": [
    "mean_X = E(XY, lambda x, y: x)\n",
    "mean_X"
   ]
  },
  {
   "cell_type": "code",
   "execution_count": 80,
   "id": "116788e6",
   "metadata": {},
   "outputs": [
    {
     "data": {
      "text/plain": [
       "4.333333333333333"
      ]
     },
     "execution_count": 80,
     "metadata": {},
     "output_type": "execute_result"
    }
   ],
   "source": [
    "mean_Y = E(XY, lambda x, y: y)\n",
    "mean_Y"
   ]
  },
  {
   "cell_type": "markdown",
   "id": "c0626a12",
   "metadata": {},
   "source": [
    "$E(aX+bY) = aE(X)+bE(Y)$"
   ]
  },
  {
   "cell_type": "code",
   "execution_count": 87,
   "id": "a4530217",
   "metadata": {},
   "outputs": [
    {
     "data": {
      "text/plain": [
       "30.333333333333332"
      ]
     },
     "execution_count": 87,
     "metadata": {},
     "output_type": "execute_result"
    }
   ],
   "source": [
    "a, b = 2, 3\n",
    "E(XY, lambda x, y: a*x + b*y)"
   ]
  },
  {
   "cell_type": "code",
   "execution_count": 82,
   "id": "4bb71314",
   "metadata": {},
   "outputs": [
    {
     "data": {
      "text/plain": [
       "30.333333333333332"
      ]
     },
     "execution_count": 82,
     "metadata": {},
     "output_type": "execute_result"
    }
   ],
   "source": [
    "a*mean_X + b*mean_Y"
   ]
  },
  {
   "cell_type": "markdown",
   "id": "cd114def",
   "metadata": {},
   "source": [
    "$\\sigma^2_X=V(X)=\\sum_{i}\\sum_{j}(x_i-\\mu_X)^2f_{XY}(x_i,y_j)$"
   ]
  },
  {
   "cell_type": "code",
   "execution_count": 83,
   "id": "c3e4b824",
   "metadata": {},
   "outputs": [
    {
     "data": {
      "text/plain": [
       "4.444444444444444"
      ]
     },
     "execution_count": 83,
     "metadata": {},
     "output_type": "execute_result"
    }
   ],
   "source": [
    "# 분산\n",
    "np.sum([(x_i-mean_X)**2 * f_XY(x_i, y_j) for x_i in x_set for y_j in y_set])"
   ]
  },
  {
   "cell_type": "markdown",
   "id": "acd4bee9",
   "metadata": {},
   "source": [
    "$V(g(X,Y))=\\sum_{i}\\sum_{j}(g(x_i,y_j)-E(g(X,Y)))^2f_{XY}(x_i,y_j)$"
   ]
  },
  {
   "cell_type": "code",
   "execution_count": 89,
   "id": "20e626eb",
   "metadata": {},
   "outputs": [],
   "source": [
    "# 분산 함수\n",
    "def V(XY, g):\n",
    "    x_set, y_set, f_XY = XY\n",
    "    mean = E(XY, g)\n",
    "    return np.sum([(g(x_i, y_j)-mean)**2 * f_XY(x_i, y_j) for x_i in x_set for y_j in y_set])"
   ]
  },
  {
   "cell_type": "code",
   "execution_count": 91,
   "id": "d5b18dc6",
   "metadata": {},
   "outputs": [
    {
     "data": {
      "text/plain": [
       "4.444444444444444"
      ]
     },
     "execution_count": 91,
     "metadata": {},
     "output_type": "execute_result"
    }
   ],
   "source": [
    "var_X = V(XY, g=lambda x,y: x)\n",
    "var_X"
   ]
  },
  {
   "cell_type": "code",
   "execution_count": 93,
   "id": "f8c3222d",
   "metadata": {},
   "outputs": [
    {
     "data": {
      "text/plain": [
       "2.2222222222222223"
      ]
     },
     "execution_count": 93,
     "metadata": {},
     "output_type": "execute_result"
    }
   ],
   "source": [
    "var_Y = V(XY, g=lambda x,y: y)\n",
    "var_Y"
   ]
  },
  {
   "cell_type": "markdown",
   "id": "7b3e2099",
   "metadata": {},
   "source": [
    "$\\sigma_{XY}=Cov(X,Y)=\\sum_{i}\\sum_{j}(x_i,\\mu_X)(y_j-\\mu_Y)f_{XY}(x_i,y_j)$"
   ]
  },
  {
   "cell_type": "code",
   "execution_count": 94,
   "id": "0f24cf14",
   "metadata": {},
   "outputs": [],
   "source": [
    "# 공분산 함수\n",
    "def Cov(XY):\n",
    "    x_set, y_set, f_XY = XY\n",
    "    mean_X = E(XY, lambda x,y: x)\n",
    "    mean_Y = E(XY, lambda x,y: y)\n",
    "    return np.sum([(x_i-mean_X) * (y_j-mean_Y) * f_XY(x_i, y_j) for x_i in x_set for y_j in y_set])"
   ]
  },
  {
   "cell_type": "code",
   "execution_count": 95,
   "id": "9ae9b815",
   "metadata": {},
   "outputs": [
    {
     "data": {
      "text/plain": [
       "2.222222222222222"
      ]
     },
     "execution_count": 95,
     "metadata": {},
     "output_type": "execute_result"
    }
   ],
   "source": [
    "cov_xy = Cov(XY)\n",
    "cov_xy"
   ]
  },
  {
   "cell_type": "markdown",
   "id": "d5f56d7d",
   "metadata": {},
   "source": [
    "$V(aX+bY) = a^2V(X)+b^2V(Y)+2abCov(X, Y)$"
   ]
  },
  {
   "cell_type": "code",
   "execution_count": 96,
   "id": "2017415f",
   "metadata": {},
   "outputs": [
    {
     "data": {
      "text/plain": [
       "64.44444444444444"
      ]
     },
     "execution_count": 96,
     "metadata": {},
     "output_type": "execute_result"
    }
   ],
   "source": [
    "V(XY, lambda x,y: a*x+b*y)"
   ]
  },
  {
   "cell_type": "code",
   "execution_count": 97,
   "id": "52c70cb0",
   "metadata": {},
   "outputs": [
    {
     "data": {
      "text/plain": [
       "64.44444444444443"
      ]
     },
     "execution_count": 97,
     "metadata": {},
     "output_type": "execute_result"
    }
   ],
   "source": [
    "(a**2*var_X)+(b**2*var_Y)+2*a*b*cov_xy"
   ]
  },
  {
   "cell_type": "markdown",
   "id": "28ce6325",
   "metadata": {},
   "source": [
    "$\\rho_{XY}=\\rho(X,Y)=\\frac{\\sigma_{XY}}{\\sigma_X\\sigma_Y}$"
   ]
  },
  {
   "cell_type": "code",
   "execution_count": 98,
   "id": "e9d40738",
   "metadata": {},
   "outputs": [
    {
     "data": {
      "text/plain": [
       "0.7071067811865474"
      ]
     },
     "execution_count": 98,
     "metadata": {},
     "output_type": "execute_result"
    }
   ],
   "source": [
    "cov_xy / np.sqrt(var_X*var_Y)"
   ]
  }
 ],
 "metadata": {
  "kernelspec": {
   "display_name": "Python 3 (ipykernel)",
   "language": "python",
   "name": "python3"
  },
  "language_info": {
   "codemirror_mode": {
    "name": "ipython",
    "version": 3
   },
   "file_extension": ".py",
   "mimetype": "text/x-python",
   "name": "python",
   "nbconvert_exporter": "python",
   "pygments_lexer": "ipython3",
   "version": "3.9.7"
  }
 },
 "nbformat": 4,
 "nbformat_minor": 5
}
