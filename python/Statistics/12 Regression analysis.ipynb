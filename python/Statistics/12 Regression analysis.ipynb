{
 "cells": [
  {
   "cell_type": "code",
   "execution_count": 2,
   "id": "6464ba93",
   "metadata": {},
   "outputs": [],
   "source": [
    "import numpy as np\n",
    "import pandas as pd\n",
    "import matplotlib.pyplot as plt\n",
    "from scipy import stats\n",
    "import statsmodels.formula.api as smf\n",
    "\n",
    "%matplotlib inline"
   ]
  },
  {
   "cell_type": "code",
   "execution_count": 3,
   "id": "9699fc29",
   "metadata": {},
   "outputs": [
    {
     "name": "stdout",
     "output_type": "stream",
     "text": [
      "20\n"
     ]
    },
    {
     "data": {
      "text/html": [
       "<div>\n",
       "<style scoped>\n",
       "    .dataframe tbody tr th:only-of-type {\n",
       "        vertical-align: middle;\n",
       "    }\n",
       "\n",
       "    .dataframe tbody tr th {\n",
       "        vertical-align: top;\n",
       "    }\n",
       "\n",
       "    .dataframe thead th {\n",
       "        text-align: right;\n",
       "    }\n",
       "</style>\n",
       "<table border=\"1\" class=\"dataframe\">\n",
       "  <thead>\n",
       "    <tr style=\"text-align: right;\">\n",
       "      <th></th>\n",
       "      <th>quiz</th>\n",
       "      <th>final_test</th>\n",
       "      <th>sleep_time</th>\n",
       "      <th>school_method</th>\n",
       "    </tr>\n",
       "  </thead>\n",
       "  <tbody>\n",
       "    <tr>\n",
       "      <th>0</th>\n",
       "      <td>4.2</td>\n",
       "      <td>67</td>\n",
       "      <td>7.2</td>\n",
       "      <td>bus</td>\n",
       "    </tr>\n",
       "    <tr>\n",
       "      <th>1</th>\n",
       "      <td>7.2</td>\n",
       "      <td>71</td>\n",
       "      <td>7.9</td>\n",
       "      <td>bicycle</td>\n",
       "    </tr>\n",
       "    <tr>\n",
       "      <th>2</th>\n",
       "      <td>0.0</td>\n",
       "      <td>19</td>\n",
       "      <td>5.3</td>\n",
       "      <td>bus</td>\n",
       "    </tr>\n",
       "    <tr>\n",
       "      <th>3</th>\n",
       "      <td>3.0</td>\n",
       "      <td>35</td>\n",
       "      <td>6.8</td>\n",
       "      <td>walk</td>\n",
       "    </tr>\n",
       "    <tr>\n",
       "      <th>4</th>\n",
       "      <td>1.5</td>\n",
       "      <td>35</td>\n",
       "      <td>7.5</td>\n",
       "      <td>walk</td>\n",
       "    </tr>\n",
       "  </tbody>\n",
       "</table>\n",
       "</div>"
      ],
      "text/plain": [
       "   quiz  final_test  sleep_time school_method\n",
       "0   4.2          67         7.2           bus\n",
       "1   7.2          71         7.9       bicycle\n",
       "2   0.0          19         5.3           bus\n",
       "3   3.0          35         6.8          walk\n",
       "4   1.5          35         7.5          walk"
      ]
     },
     "execution_count": 3,
     "metadata": {},
     "output_type": "execute_result"
    }
   ],
   "source": [
    "df = pd.read_csv('./ch12_scores_reg.csv')\n",
    "n = len(df)\n",
    "print(n)\n",
    "df.head()"
   ]
  },
  {
   "cell_type": "markdown",
   "id": "c83e1601",
   "metadata": {},
   "source": [
    "### 12.1 단순회귀모형"
   ]
  },
  {
   "cell_type": "code",
   "execution_count": 4,
   "id": "098f6030",
   "metadata": {},
   "outputs": [],
   "source": [
    "x = np.array(df['quiz'])\n",
    "y = np.array(df['final_test'])\n",
    "p = 1 # 독립변수의 수"
   ]
  },
  {
   "cell_type": "code",
   "execution_count": 8,
   "id": "ed2386d0",
   "metadata": {},
   "outputs": [
    {
     "data": {
      "image/png": "[encoded data removed]",
      "text/plain": [
       "<Figure size 720x432 with 1 Axes>"
      ]
     },
     "metadata": {
      "needs_background": "light"
     },
     "output_type": "display_data"
    }
   ],
   "source": [
    "poly_fit = np.polyfit(x, y, 1)\n",
    "poly_1d = np.poly1d(poly_fit)\n",
    "xs = np.linspace(x.min(), x.max())\n",
    "ys = poly_1d(xs)\n",
    "\n",
    "fig = plt.figure(figsize=(10,6))\n",
    "ax = fig.add_subplot(111)\n",
    "ax.set_xlabel('quiz')\n",
    "ax.set_ylabel('final test')\n",
    "ax.plot(xs, ys, color='gray', label=f'{poly_fit[1]:.2f}+{poly_fit[0]:.2f}x')\n",
    "ax.scatter(x, y)\n",
    "ax.legend()\n",
    "plt.show()"
   ]
  },
  {
   "cell_type": "markdown",
   "id": "0f9f6a49",
   "metadata": {},
   "source": [
    "#### 회귀분석에서의 가설\n",
    "- $y=\\beta_0+\\beta_1x$\n",
    "\n",
    "- $Y_i=\\beta_0+\\beta_1x_i+\\epsilon_i\\quad(i=1,2,\\dots,n)$\n",
    "\n",
    " - $\\epsilon_i\\stackrel{iid}{\\sim}N(0,\\sigma^2)$"
   ]
  },
  {
   "cell_type": "markdown",
   "id": "e7e037c9",
   "metadata": {},
   "source": [
    "- 회귀직선\n",
    " - $y=\\hat{\\beta_0}+\\hat{\\beta_1}x$"
   ]
  },
  {
   "cell_type": "markdown",
   "id": "57ce2858",
   "metadata": {},
   "source": [
    "#### statsmodels에 의한 회귀분석"
   ]
  },
  {
   "cell_type": "code",
   "execution_count": 11,
   "id": "8f868bfe",
   "metadata": {},
   "outputs": [
    {
     "name": "stdout",
     "output_type": "stream",
     "text": [
      "                            OLS Regression Results                            \n",
      "==============================================================================\n",
      "Dep. Variable:             final_test   R-squared:                       0.676\n",
      "Model:                            OLS   Adj. R-squared:                  0.658\n",
      "Method:                 Least Squares   F-statistic:                     37.61\n",
      "Date:                Thu, 23 Dec 2021   Prob (F-statistic):           8.59e-06\n",
      "Time:                        06:13:24   Log-Likelihood:                -76.325\n",
      "No. Observations:                  20   AIC:                             156.7\n",
      "Df Residuals:                      18   BIC:                             158.6\n",
      "Df Model:                           1                                         \n",
      "Covariance Type:            nonrobust                                         \n",
      "==============================================================================\n",
      "                 coef    std err          t      P>|t|      [0.025      0.975]\n",
      "------------------------------------------------------------------------------\n",
      "Intercept     23.6995      4.714      5.028      0.000      13.796      33.603\n",
      "quiz           6.5537      1.069      6.133      0.000       4.309       8.799\n",
      "==============================================================================\n",
      "Omnibus:                        2.139   Durbin-Watson:                   1.478\n",
      "Prob(Omnibus):                  0.343   Jarque-Bera (JB):                1.773\n",
      "Skew:                           0.670   Prob(JB):                        0.412\n",
      "Kurtosis:                       2.422   Cond. No.                         8.32\n",
      "==============================================================================\n",
      "\n",
      "Notes:\n",
      "[1] Standard Errors assume that the covariance matrix of the errors is correctly specified.\n"
     ]
    }
   ],
   "source": [
    "formula = 'final_test ~ quiz'\n",
    "result = smf.ols(formula, df).fit()\n",
    "print(result.summary())"
   ]
  },
  {
   "cell_type": "markdown",
   "id": "a8960c99",
   "metadata": {},
   "source": [
    "#### 회귀계수\n",
    "- Intercept: 절편 $\\beta_0$\n",
    "- quiz: 기울기 $\\beta_1$\n",
    "- coef: 회귀계수의 추정값\n",
    "- std err: 추정값의 표준오차\n",
    "- P>|t|: 검정통계량의 p값\n",
    "- [0.025 0.975]: 회귀계수의 95% 신뢰구간"
   ]
  },
  {
   "cell_type": "code",
   "execution_count": 12,
   "id": "b97ffc37",
   "metadata": {},
   "outputs": [
    {
     "data": {
      "text/plain": [
       "array([[1. , 4.2],\n",
       "       [1. , 7.2],\n",
       "       [1. , 0. ],\n",
       "       [1. , 3. ],\n",
       "       [1. , 1.5],\n",
       "       [1. , 0.9],\n",
       "       [1. , 1.9],\n",
       "       [1. , 3.5],\n",
       "       [1. , 4. ],\n",
       "       [1. , 5.4],\n",
       "       [1. , 4.2],\n",
       "       [1. , 6.9],\n",
       "       [1. , 2. ],\n",
       "       [1. , 8.8],\n",
       "       [1. , 0.3],\n",
       "       [1. , 6.7],\n",
       "       [1. , 4.2],\n",
       "       [1. , 5.6],\n",
       "       [1. , 1.4],\n",
       "       [1. , 2. ]])"
      ]
     },
     "execution_count": 12,
     "metadata": {},
     "output_type": "execute_result"
    }
   ],
   "source": [
    "X = np.array([np.ones_like(x), x]).T\n",
    "X"
   ]
  },
  {
   "cell_type": "code",
   "execution_count": 15,
   "id": "4d94ebec",
   "metadata": {},
   "outputs": [],
   "source": [
    "import warnings\n",
    "warnings.filterwarnings(\"ignore\")"
   ]
  },
  {
   "cell_type": "code",
   "execution_count": 16,
   "id": "3a50c358",
   "metadata": {},
   "outputs": [
    {
     "data": {
      "text/plain": [
       "(23.69949534673122, 6.553732606043082)"
      ]
     },
     "execution_count": 16,
     "metadata": {},
     "output_type": "execute_result"
    }
   ],
   "source": [
    "beta0_hat, beta1_hat = np.linalg.lstsq(X, y)[0]\n",
    "beta0_hat, beta1_hat"
   ]
  },
  {
   "cell_type": "code",
   "execution_count": 17,
   "id": "ece8d384",
   "metadata": {},
   "outputs": [],
   "source": [
    "y_hat = beta0_hat + beta1_hat*x\n",
    "eps_hat = y - y_hat"
   ]
  },
  {
   "cell_type": "markdown",
   "id": "8dea1e90",
   "metadata": {},
   "source": [
    "$\\hat{\\sigma}^2=\\frac{1}{n-p-1}\\sum_i^n(\\hat{\\epsilon}_i-\\overline{\\hat{\\epsilon}})^2=\\frac{1}{n-p-1}\\sum_i^n\\hat{\\epsilon}_i^2$\n",
    "- 잔차의 자유도: 회귀계수의 수 p+1만큼 감소하여 n-p-1\n",
    "- 모분산의 불편추정량 $\\hat{\\sigma}^2$은 n-p-1로 나누어 계산"
   ]
  },
  {
   "cell_type": "code",
   "execution_count": 18,
   "id": "a85a9285",
   "metadata": {},
   "outputs": [
    {
     "data": {
      "text/plain": [
       "134.29043473495898"
      ]
     },
     "execution_count": 18,
     "metadata": {},
     "output_type": "execute_result"
    }
   ],
   "source": [
    "s_var = np.var(eps_hat, ddof=p+1)\n",
    "s_var"
   ]
  },
  {
   "cell_type": "markdown",
   "id": "84a5de28",
   "metadata": {},
   "source": [
    "$\\hat{\\beta}_0$과 $\\hat{\\beta}_1$의 표준오차: $\\sqrt{C_0\\hat{\\sigma}^2},\\sqrt{C_1\\hat{\\sigma}^2}$\n",
    "- $(XX^T)^{-1}$의 대각성분의 첫 번째가 $C_0$, 두 번째가 $C_1$"
   ]
  },
  {
   "cell_type": "code",
   "execution_count": 19,
   "id": "b7dda420",
   "metadata": {},
   "outputs": [
    {
     "data": {
      "text/plain": [
       "(0.16546420022873098, 0.008503003686052106)"
      ]
     },
     "execution_count": 19,
     "metadata": {},
     "output_type": "execute_result"
    }
   ],
   "source": [
    "C0, C1 = np.diag(np.linalg.pinv(np.dot(X.T, X)))\n",
    "C0, C1"
   ]
  },
  {
   "cell_type": "code",
   "execution_count": 23,
   "id": "26a794fc",
   "metadata": {},
   "outputs": [
    {
     "data": {
      "text/plain": [
       "(4.713837012645705, 1.0685841387335373)"
      ]
     },
     "execution_count": 23,
     "metadata": {},
     "output_type": "execute_result"
    }
   ],
   "source": [
    "np.sqrt(s_var*C0), np.sqrt(s_var*C1)"
   ]
  },
  {
   "cell_type": "markdown",
   "id": "f66cf2c4",
   "metadata": {},
   "source": [
    "#### 회귀계수의 신뢰구간\n",
    "회귀계수 $\\beta_0,\\beta_1$의 신뢰수준 $100(1-\\alpha)\\%$의 신뢰구간은\n",
    "\n",
    "$\\left[\\hat{\\beta}_i-t_{\\alpha/2}(n-2)\\sqrt{C_i\\hat{\\sigma}^2},\\;\\hat{\\beta}_i-t_{\\alpha/2}(n-2)\\sqrt{C_i\\hat{\\sigma}^2}\\right]\\quad(i=0,1)$\n",
    "\n",
    "으로 추정된다."
   ]
  },
  {
   "cell_type": "code",
   "execution_count": 24,
   "id": "63f22b44",
   "metadata": {},
   "outputs": [
    {
     "data": {
      "text/plain": [
       "(13.796091272760252, 33.60289942070219)"
      ]
     },
     "execution_count": 24,
     "metadata": {},
     "output_type": "execute_result"
    }
   ],
   "source": [
    "# b0 95% 신뢰구간\n",
    "\n",
    "rv = stats.t(n-2)\n",
    "lcl = beta0_hat - rv.isf(0.025) * np.sqrt(s_var*C0)\n",
    "hcl = beta0_hat - rv.isf(0.975) * np.sqrt(s_var*C0)\n",
    "lcl, hcl"
   ]
  },
  {
   "cell_type": "code",
   "execution_count": 25,
   "id": "e91c57dc",
   "metadata": {},
   "outputs": [
    {
     "data": {
      "text/plain": [
       "(4.308720637125889, 8.798744574960274)"
      ]
     },
     "execution_count": 25,
     "metadata": {},
     "output_type": "execute_result"
    }
   ],
   "source": [
    "# b1 95% 신뢰구간\n",
    "\n",
    "rv = stats.t(n-2)\n",
    "lcl = beta1_hat - rv.isf(0.025) * np.sqrt(s_var*C1)\n",
    "hcl = beta1_hat - rv.isf(0.975) * np.sqrt(s_var*C1)\n",
    "lcl, hcl"
   ]
  },
  {
   "cell_type": "markdown",
   "id": "d4ee8cc6",
   "metadata": {},
   "source": [
    "- $H_0:\\beta_1=0$\n",
    "- $H_1:\\beta_1\\neq0$"
   ]
  },
  {
   "cell_type": "markdown",
   "id": "2cf4e6c9",
   "metadata": {},
   "source": [
    "$t=\\frac{\\hat{\\beta}_1-\\beta_1}{\\sqrt{\\hat{\\sigma}^2C_1}}\\\\\n",
    "t=\\frac{\\hat{\\beta}_1}{\\sqrt{\\hat{\\sigma}^2C_1}}$"
   ]
  },
  {
   "cell_type": "code",
   "execution_count": 26,
   "id": "df38c85b",
   "metadata": {},
   "outputs": [
    {
     "data": {
      "text/plain": [
       "6.133099274532021"
      ]
     },
     "execution_count": 26,
     "metadata": {},
     "output_type": "execute_result"
    }
   ],
   "source": [
    "t = beta1_hat / np.sqrt(s_var*C1)\n",
    "t"
   ]
  },
  {
   "cell_type": "code",
   "execution_count": 29,
   "id": "b70c6c23",
   "metadata": {},
   "outputs": [
    {
     "data": {
      "text/plain": [
       "8.745298393186829e-05"
      ]
     },
     "execution_count": 29,
     "metadata": {},
     "output_type": "execute_result"
    }
   ],
   "source": [
    "(1 - rv.cdf(t))*2"
   ]
  },
  {
   "cell_type": "markdown",
   "id": "3ccb9642",
   "metadata": {},
   "source": [
    "- $H_0:\\beta_0=0$\n",
    "- $H_1:\\beta_0\\neq0$"
   ]
  },
  {
   "cell_type": "code",
   "execution_count": 28,
   "id": "c02f2bb0",
   "metadata": {},
   "outputs": [
    {
     "data": {
      "text/plain": [
       "5.0276442064401285"
      ]
     },
     "execution_count": 28,
     "metadata": {},
     "output_type": "execute_result"
    }
   ],
   "source": [
    "t = beta0_hat / np.sqrt(s_var*C0)\n",
    "t"
   ]
  },
  {
   "cell_type": "code",
   "execution_count": 31,
   "id": "eb693954",
   "metadata": {},
   "outputs": [
    {
     "data": {
      "text/plain": [
       "8.745298393186829e-05"
      ]
     },
     "execution_count": 31,
     "metadata": {},
     "output_type": "execute_result"
    }
   ],
   "source": [
    "(1 - rv.cdf(t)) * 2"
   ]
  },
  {
   "cell_type": "markdown",
   "id": "58af8194",
   "metadata": {},
   "source": [
    "### 12.2 중회귀모형"
   ]
  },
  {
   "cell_type": "markdown",
   "id": "3c127be8",
   "metadata": {},
   "source": [
    "- 중회귀모형: p개의 설명변수 $x_1,x_2,\\dots,x_p$와 반응변수 $y$ 사이에 다음과 같은 관계를 가정한 모델\n",
    " - $y=\\beta_0+\\beta_1x_1+\\dots+\\beta_px_p$"
   ]
  },
  {
   "cell_type": "code",
   "execution_count": 34,
   "id": "09fcf884",
   "metadata": {},
   "outputs": [
    {
     "name": "stdout",
     "output_type": "stream",
     "text": [
      "                            OLS Regression Results                            \n",
      "==============================================================================\n",
      "Dep. Variable:             final_test   R-squared:                       0.756\n",
      "Model:                            OLS   Adj. R-squared:                  0.727\n",
      "Method:                 Least Squares   F-statistic:                     26.35\n",
      "Date:                Thu, 23 Dec 2021   Prob (F-statistic):           6.19e-06\n",
      "Time:                        07:03:22   Log-Likelihood:                -73.497\n",
      "No. Observations:                  20   AIC:                             153.0\n",
      "Df Residuals:                      17   BIC:                             156.0\n",
      "Df Model:                           2                                         \n",
      "Covariance Type:            nonrobust                                         \n",
      "==============================================================================\n",
      "                 coef    std err          t      P>|t|      [0.025      0.975]\n",
      "------------------------------------------------------------------------------\n",
      "Intercept     -1.8709     11.635     -0.161      0.874     -26.420      22.678\n",
      "quiz           6.4289      0.956      6.725      0.000       4.412       8.446\n",
      "sleep_time     4.1917      1.778      2.357      0.031       0.440       7.943\n",
      "==============================================================================\n",
      "Omnibus:                        2.073   Durbin-Watson:                   1.508\n",
      "Prob(Omnibus):                  0.355   Jarque-Bera (JB):                1.716\n",
      "Skew:                           0.660   Prob(JB):                        0.424\n",
      "Kurtosis:                       2.437   Cond. No.                         38.0\n",
      "==============================================================================\n",
      "\n",
      "Notes:\n",
      "[1] Standard Errors assume that the covariance matrix of the errors is correctly specified.\n"
     ]
    }
   ],
   "source": [
    "formula = 'final_test ~ quiz + sleep_time'\n",
    "result = smf.ols(formula, df).fit()\n",
    "print(result.summary())"
   ]
  },
  {
   "cell_type": "code",
   "execution_count": 35,
   "id": "a3740979",
   "metadata": {},
   "outputs": [],
   "source": [
    "x1 = df['quiz']\n",
    "x2 = df['sleep_time']\n",
    "y = df['final_test']\n",
    "p = 2"
   ]
  },
  {
   "cell_type": "code",
   "execution_count": 38,
   "id": "8a2d4e64",
   "metadata": {},
   "outputs": [
    {
     "data": {
      "text/plain": [
       "(-1.8709143470995908, 6.42887834300237, 4.191706546398685)"
      ]
     },
     "execution_count": 38,
     "metadata": {},
     "output_type": "execute_result"
    }
   ],
   "source": [
    "X = np.array([np.ones_like(x1), x1, x2]).T\n",
    "beta0_hat, beta1_hat, beta2_hat = np.linalg.lstsq(X, y)[0]\n",
    "beta0_hat, beta1_hat, beta2_hat"
   ]
  },
  {
   "cell_type": "code",
   "execution_count": 39,
   "id": "dbc45528",
   "metadata": {},
   "outputs": [],
   "source": [
    "# 잔차\n",
    "y_hat = beta0_hat + beta1_hat*x1 + beta2_hat*x2\n",
    "eps_hat = y - y_hat"
   ]
  },
  {
   "cell_type": "code",
   "execution_count": 40,
   "id": "e5f7eab5",
   "metadata": {},
   "outputs": [],
   "source": [
    "s_var = np.sum(eps_hat**2)/(n-p-1)\n",
    "C0, C1, C2 = np.diag(np.linalg.pinv(np.dot(X.T, X)))"
   ]
  },
  {
   "cell_type": "code",
   "execution_count": 41,
   "id": "a83b4be1",
   "metadata": {},
   "outputs": [
    {
     "data": {
      "text/plain": [
       "(0.440253332543481, 7.943159760253889)"
      ]
     },
     "execution_count": 41,
     "metadata": {},
     "output_type": "execute_result"
    }
   ],
   "source": [
    "# b2의 95% 신뢰구간\n",
    "rv = stats.t(n-p-1)\n",
    "\n",
    "lcl = beta2_hat - rv.isf(0.025)*np.sqrt(s_var*C2)\n",
    "hcl = beta2_hat - rv.isf(0.975)*np.sqrt(s_var*C2)\n",
    "lcl, hcl"
   ]
  },
  {
   "cell_type": "markdown",
   "id": "4259fb2b",
   "metadata": {},
   "source": [
    "#### 가변수\n",
    "- 질적변수를 양적변수로 변환\n",
    "-ex) $Y_i=\\beta_0+\\beta_1x_{i1}+\\beta_2x_{i2}+\\beta_3x_{i도보}\\;+\\beta_4x_{i자전거}\\;\\;+\\epsilon_i$"
   ]
  },
  {
   "cell_type": "code",
   "execution_count": 43,
   "id": "ff6b8f71",
   "metadata": {},
   "outputs": [
    {
     "name": "stdout",
     "output_type": "stream",
     "text": [
      "                            OLS Regression Results                            \n",
      "==============================================================================\n",
      "Dep. Variable:             final_test   R-squared:                       0.782\n",
      "Model:                            OLS   Adj. R-squared:                  0.724\n",
      "Method:                 Least Squares   F-statistic:                     13.46\n",
      "Date:                Thu, 23 Dec 2021   Prob (F-statistic):           7.47e-05\n",
      "Time:                        07:18:08   Log-Likelihood:                -72.368\n",
      "No. Observations:                  20   AIC:                             154.7\n",
      "Df Residuals:                      15   BIC:                             159.7\n",
      "Df Model:                           4                                         \n",
      "Covariance Type:            nonrobust                                         \n",
      "=========================================================================================\n",
      "                            coef    std err          t      P>|t|      [0.025      0.975]\n",
      "-----------------------------------------------------------------------------------------\n",
      "Intercept                 1.3330     12.434      0.107      0.916     -25.169      27.835\n",
      "school_method[T.bus]     -1.8118      6.324     -0.286      0.778     -15.292      11.668\n",
      "school_method[T.walk]    -7.6555      6.420     -1.192      0.252     -21.339       6.028\n",
      "quiz                      6.0029      1.033      5.809      0.000       3.800       8.206\n",
      "sleep_time                4.5238      1.809      2.501      0.024       0.668       8.380\n",
      "==============================================================================\n",
      "Omnibus:                        1.764   Durbin-Watson:                   1.418\n",
      "Prob(Omnibus):                  0.414   Jarque-Bera (JB):                0.989\n",
      "Skew:                           0.545   Prob(JB):                        0.610\n",
      "Kurtosis:                       2.985   Cond. No.                         41.8\n",
      "==============================================================================\n",
      "\n",
      "Notes:\n",
      "[1] Standard Errors assume that the covariance matrix of the errors is correctly specified.\n"
     ]
    }
   ],
   "source": [
    "formula = 'final_test ~ quiz + sleep_time + school_method'\n",
    "result = smf.ols(formula, df).fit()\n",
    "print(result.summary())"
   ]
  },
  {
   "cell_type": "markdown",
   "id": "8f1ea66d",
   "metadata": {},
   "source": [
    "### 12.3 모형의 선택"
   ]
  },
  {
   "cell_type": "code",
   "execution_count": 44,
   "id": "eeadd5ba",
   "metadata": {},
   "outputs": [
    {
     "name": "stdout",
     "output_type": "stream",
     "text": [
      "                            OLS Regression Results                            \n",
      "==============================================================================\n",
      "Dep. Variable:             final_test   R-squared:                       0.676\n",
      "Model:                            OLS   Adj. R-squared:                  0.658\n",
      "Method:                 Least Squares   F-statistic:                     37.61\n",
      "Date:                Thu, 23 Dec 2021   Prob (F-statistic):           8.59e-06\n",
      "Time:                        07:22:37   Log-Likelihood:                -76.325\n",
      "No. Observations:                  20   AIC:                             156.7\n",
      "Df Residuals:                      18   BIC:                             158.6\n",
      "Df Model:                           1                                         \n",
      "Covariance Type:            nonrobust                                         \n",
      "==============================================================================\n",
      "                 coef    std err          t      P>|t|      [0.025      0.975]\n",
      "------------------------------------------------------------------------------\n",
      "Intercept     23.6995      4.714      5.028      0.000      13.796      33.603\n",
      "quiz           6.5537      1.069      6.133      0.000       4.309       8.799\n",
      "==============================================================================\n",
      "Omnibus:                        2.139   Durbin-Watson:                   1.478\n",
      "Prob(Omnibus):                  0.343   Jarque-Bera (JB):                1.773\n",
      "Skew:                           0.670   Prob(JB):                        0.412\n",
      "Kurtosis:                       2.422   Cond. No.                         8.32\n",
      "==============================================================================\n",
      "\n",
      "Notes:\n",
      "[1] Standard Errors assume that the covariance matrix of the errors is correctly specified.\n"
     ]
    }
   ],
   "source": [
    "x = np.array(df['quiz'])\n",
    "y = np.array(df['final_test'])\n",
    "p = 1\n",
    "\n",
    "formula = 'final_test ~ quiz'\n",
    "result = smf.ols(formula, df).fit()\n",
    "print(result.summary())"
   ]
  },
  {
   "cell_type": "code",
   "execution_count": 45,
   "id": "56ef5622",
   "metadata": {},
   "outputs": [
    {
     "data": {
      "text/plain": [
       "array([51.22517229, 70.88637011, 23.69949535, 43.36069316, 33.53009426,\n",
       "       29.59785469, 36.1515873 , 46.63755947, 49.91442577, 59.08965142,\n",
       "       51.22517229, 68.92025033, 36.80696056, 81.37234228, 25.66561513,\n",
       "       67.60950381, 51.22517229, 60.40039794, 32.874721  , 36.80696056])"
      ]
     },
     "execution_count": 45,
     "metadata": {},
     "output_type": "execute_result"
    }
   ],
   "source": [
    "y_hat = np.array(result.fittedvalues)\n",
    "y_hat"
   ]
  },
  {
   "cell_type": "code",
   "execution_count": 46,
   "id": "60d1e430",
   "metadata": {},
   "outputs": [
    {
     "data": {
      "text/plain": [
       "array([ 15.77482771,   0.11362989,  -4.69949535,  -8.36069316,\n",
       "         1.46990574,  10.40214531, -13.1515873 ,  -9.63755947,\n",
       "       -10.91442577,  -4.08965142, -11.22517229,   1.07974967,\n",
       "        -7.80696056,   6.62765772,  21.33438487,   9.39049619,\n",
       "         0.77482771,  -5.40039794, -14.874721  ,  23.19303944])"
      ]
     },
     "execution_count": 46,
     "metadata": {},
     "output_type": "execute_result"
    }
   ],
   "source": [
    "eps_hat = np.array(result.resid)\n",
    "eps_hat"
   ]
  },
  {
   "cell_type": "code",
   "execution_count": 47,
   "id": "f6fb46bb",
   "metadata": {},
   "outputs": [
    {
     "data": {
      "text/plain": [
       "2417.227825229262"
      ]
     },
     "execution_count": 47,
     "metadata": {},
     "output_type": "execute_result"
    }
   ],
   "source": [
    "np.sum(eps_hat**2)"
   ]
  },
  {
   "cell_type": "markdown",
   "id": "9d7839b2",
   "metadata": {},
   "source": [
    "#### 결정계수\n",
    "- 총변동(total variation): 관측값 $y_i$가 어느 정도 분산되어 있는지 나타내는 지표\n",
    " - $\\sum_{i=1}^n(y_i-\\overline{y})^2$\n",
    "- 회귀변동(regression variation): 예측값 $\\hat{y}_i$가 관측값의 평균값 $\\overline{y}$에 대해서 어느 정도 분산되어 있는지 나타내는 지표\n",
    " - $\\sum_{i=1}^n(\\hat{y}_i-\\overline{y})^2$\n",
    " - $\\hat{y}_i$가 $y_i$에 가까울 수록 총변동에 가까워진다.\n",
    "- 잔차변동(residual variation): 잔차의 산포도를 나타내는 지표\n",
    " - $\\sum_{i=1}^n\\hat{\\epsilon}_i^2$\n",
    " - 잔차제곱합과 동일하며 $\\hat{y}_i$가 $y_i$에 가까울 수록 0에 가까워진다.\n",
    "- **총변동 = 회귀변동 + 잔차변동**"
   ]
  },
  {
   "cell_type": "markdown",
   "id": "d244dfec",
   "metadata": {},
   "source": [
    "$R^2=\\frac{회귀변동}{총변동}=1-\\frac{잔차변동}{총변동}$"
   ]
  },
  {
   "cell_type": "code",
   "execution_count": 49,
   "id": "01503cb0",
   "metadata": {},
   "outputs": [],
   "source": [
    "total_var = np.sum((y-np.mean(y))**2)\n",
    "exp_var = np.sum((y_hat-np.mean(y))**2)\n",
    "unexp_var = np.sum(eps_hat**2)"
   ]
  },
  {
   "cell_type": "code",
   "execution_count": 50,
   "id": "ec806572",
   "metadata": {},
   "outputs": [
    {
     "data": {
      "text/plain": [
       "(7468.55, 7468.549999999996)"
      ]
     },
     "execution_count": 50,
     "metadata": {},
     "output_type": "execute_result"
    }
   ],
   "source": [
    "total_var, exp_var+unexp_var"
   ]
  },
  {
   "cell_type": "code",
   "execution_count": 51,
   "id": "b71d6c77",
   "metadata": {},
   "outputs": [
    {
     "data": {
      "text/plain": [
       "0.6763457665504996"
      ]
     },
     "execution_count": 51,
     "metadata": {},
     "output_type": "execute_result"
    }
   ],
   "source": [
    "# 결정계수\n",
    "exp_var / total_var"
   ]
  },
  {
   "cell_type": "code",
   "execution_count": 53,
   "id": "633beab0",
   "metadata": {},
   "outputs": [
    {
     "data": {
      "text/plain": [
       "0.6763457665504998"
      ]
     },
     "execution_count": 53,
     "metadata": {},
     "output_type": "execute_result"
    }
   ],
   "source": [
    "np.corrcoef(x, y)[0, 1]**2"
   ]
  },
  {
   "cell_type": "markdown",
   "id": "69cb466c",
   "metadata": {},
   "source": [
    "#### 조정결정계수\n",
    "- 설명변수를 추가했을 때 그 설명변수에 어느 정도 이상의 설명력이 없는 경우 결정계수의 값이 증가하지 않도록 하는 결정계수\n",
    "- 자유도조정 결정계수라고도 함"
   ]
  },
  {
   "cell_type": "markdown",
   "id": "f75c8f56",
   "metadata": {},
   "source": [
    "$\\overline{R}^2=1-\\frac{잔차변동/n-p-1}{총변동/n-1}$\n",
    "- 잔차변동의 자유도: $n-p-1$\n",
    "- 회귀변동의 자유도: $p$\n",
    "- 총변동의 자유도 = 잔차변동의 자유도 + 회귀변동의 자유도 = $n-1$"
   ]
  },
  {
   "cell_type": "code",
   "execution_count": 54,
   "id": "3a887395",
   "metadata": {},
   "outputs": [
    {
     "data": {
      "text/plain": [
       "0.6583649758033057"
      ]
     },
     "execution_count": 54,
     "metadata": {},
     "output_type": "execute_result"
    }
   ],
   "source": [
    "1 - (unexp_var/(n-p-1)) / (total_var/(n-1))"
   ]
  },
  {
   "cell_type": "markdown",
   "id": "c9319bc7",
   "metadata": {},
   "source": [
    "#### F 검정\n",
    "- $H_0:\\beta_1=\\beta_2=\\dots=\\beta_p=0$\n",
    "- $H_1$: 적어도 하나의 $\\beta_1$은 $0$이 아니다\n",
    "- t 검정과 다르게 회귀계수가 아닌 모형 전체에 대해서 검정"
   ]
  },
  {
   "cell_type": "markdown",
   "id": "c9751c20",
   "metadata": {},
   "source": [
    "$F=\\frac{회귀변동/p}{잔차변동/(n-p-1)}$"
   ]
  },
  {
   "cell_type": "code",
   "execution_count": 55,
   "id": "1f85e05e",
   "metadata": {},
   "outputs": [
    {
     "data": {
      "text/plain": [
       "37.61490671126522"
      ]
     },
     "execution_count": 55,
     "metadata": {},
     "output_type": "execute_result"
    }
   ],
   "source": [
    "f = (exp_var/p) / (unexp_var/(n-p-1))\n",
    "f"
   ]
  },
  {
   "cell_type": "code",
   "execution_count": 60,
   "id": "14fa7259",
   "metadata": {},
   "outputs": [
    {
     "data": {
      "text/plain": [
       "8.590875866687497e-06"
      ]
     },
     "execution_count": 60,
     "metadata": {},
     "output_type": "execute_result"
    }
   ],
   "source": [
    "rv = stats.f(p, n-p-1)\n",
    "1 - rv.cdf(f)"
   ]
  },
  {
   "cell_type": "markdown",
   "id": "eb8da64f",
   "metadata": {},
   "source": [
    "#### 우도(likelihood)\n",
    "- 어떤 관측값을 얻을 확률"
   ]
  },
  {
   "cell_type": "markdown",
   "id": "548ef543",
   "metadata": {},
   "source": [
    "0.3의 확률로 앞면, 0.7의 확률로 뒷면이 나오는 동전을 가정\\\n",
    "앞면을 1, 뒷면을 0이라고 했을 때 5번 던진 결과: $[0,1,0,0,1]$\\\n",
    "이 결과를 얻을 확률: $0.3*0.7*0.3*0.3*0.7\\simeq0.031$"
   ]
  },
  {
   "cell_type": "markdown",
   "id": "73d0424f",
   "metadata": {},
   "source": [
    "$L=\\prod_{i=1}^5f(x_i)=0.3^2 0.7^3\\simeq0.031$"
   ]
  },
  {
   "cell_type": "code",
   "execution_count": 62,
   "id": "eb783fff",
   "metadata": {},
   "outputs": [
    {
     "data": {
      "text/plain": [
       "0.030869999999999995"
      ]
     },
     "execution_count": 62,
     "metadata": {},
     "output_type": "execute_result"
    }
   ],
   "source": [
    "prob = 0.3\n",
    "coin_result = [0,1,0,0,1]\n",
    "rv = stats.bernoulli(prob)\n",
    "L = np.prod(rv.pmf(coin_result))\n",
    "L"
   ]
  },
  {
   "cell_type": "markdown",
   "id": "eaa001a2",
   "metadata": {},
   "source": [
    "$L=\\prod_{i=1}^5f(x_i)=p^2(1-p)^3$"
   ]
  },
  {
   "cell_type": "code",
   "execution_count": 69,
   "id": "10c4b1e6",
   "metadata": {},
   "outputs": [
    {
     "data": {
      "image/png": "[encoded data removed]",
      "text/plain": [
       "<Figure size 720x432 with 1 Axes>"
      ]
     },
     "metadata": {
      "needs_background": "light"
     },
     "output_type": "display_data"
    }
   ],
   "source": [
    "ps = np.linspace(0, 1, 100)\n",
    "Ls = [np.prod(stats.bernoulli(prob).pmf(coin_result)) for prob in ps]\n",
    "\n",
    "fig = plt.figure(figsize=(10,6))\n",
    "ax = fig.add_subplot(111)\n",
    "ax.plot(ps, Ls, label='likelihood function', color='gray')\n",
    "ax.legend(fontsize=16)\n",
    "plt.show()"
   ]
  },
  {
   "cell_type": "markdown",
   "id": "70ee7a44",
   "metadata": {},
   "source": [
    "- 최우추정법(method of maximum likelihood): 어떤 모수가 주어졌을 때, 원하는 값들이 나올 가능도를 최대로 만드는 모수를 선택하는 방법\n",
    "- 최우추정량(maximum likelihood estimator): 최우추정법에 의해 추측되는 추정량\n",
    "- 최우추정값(maximum likelihood estimate)"
   ]
  },
  {
   "cell_type": "markdown",
   "id": "518820ba",
   "metadata": {},
   "source": [
    "$L=\\prod_{i=1}f(x_i)$"
   ]
  },
  {
   "cell_type": "markdown",
   "id": "6946f28e",
   "metadata": {},
   "source": [
    "$logL=\\sum_{i=1}logf(x_i)$"
   ]
  },
  {
   "cell_type": "code",
   "execution_count": 70,
   "id": "e4d6712b",
   "metadata": {},
   "outputs": [
    {
     "data": {
      "text/plain": [
       "-3.365058335046282"
      ]
     },
     "execution_count": 70,
     "metadata": {},
     "output_type": "execute_result"
    }
   ],
   "source": [
    "prob = 0.4\n",
    "rv = stats.bernoulli(prob)\n",
    "mll = np.sum(np.log(rv.pmf([0,1,0,0,1])))\n",
    "mll"
   ]
  },
  {
   "cell_type": "markdown",
   "id": "768d6a37",
   "metadata": {},
   "source": [
    "#### 최대로그우도\n",
    "$Y_i\\sim N(\\beta_0+\\beta_1x_1,\\sigma^2)$\n",
    "\n",
    "단순회귀모형에서 $\\beta_0,\\beta_1,\\sigma^2$의 최우추정량은 $\\beta_0,\\beta_1,\\frac{1}{n}\\sum_{i=1}^n\\hat{\\epsilon}_i$으로 알려져있다.\n",
    "\n",
    "최대로그우도는 $N(\\hat{y},\\frac{1}{n}\\sum_{i=1}^n\\hat{\\epsilon}_i)$의 밀도함수를 $f(x)$로 하여\n",
    "\n",
    "$\\sum_{i=1}^nlogf(y_i)$라고 구할 수 있다."
   ]
  },
  {
   "cell_type": "code",
   "execution_count": 71,
   "id": "11fe5ddd",
   "metadata": {},
   "outputs": [
    {
     "data": {
      "text/plain": [
       "-76.32521428624038"
      ]
     },
     "execution_count": 71,
     "metadata": {},
     "output_type": "execute_result"
    }
   ],
   "source": [
    "rv = stats.norm(y_hat, np.sqrt(unexp_var/n))\n",
    "mll = np.sum(np.log(rv.pdf(y)))\n",
    "mll"
   ]
  },
  {
   "cell_type": "markdown",
   "id": "a7b79582",
   "metadata": {},
   "source": [
    "#### AIC\n",
    "$AIC=-2\\times최대로그우도+2\\times회귀계수의\\;수$"
   ]
  },
  {
   "cell_type": "code",
   "execution_count": 72,
   "id": "d14a60b1",
   "metadata": {},
   "outputs": [
    {
     "data": {
      "text/plain": [
       "156.65042857248076"
      ]
     },
     "execution_count": 72,
     "metadata": {},
     "output_type": "execute_result"
    }
   ],
   "source": [
    "aic = -2*mll + 2*(p+1)\n",
    "aic"
   ]
  },
  {
   "cell_type": "markdown",
   "id": "a9375baf",
   "metadata": {},
   "source": [
    "#### 베이지안 정보 기준\n",
    "$BIC=-2\\times최대로그우도+log\\;n\\times회귀계수의\\;수$"
   ]
  },
  {
   "cell_type": "code",
   "execution_count": 73,
   "id": "ec73e825",
   "metadata": {},
   "outputs": [
    {
     "data": {
      "text/plain": [
       "158.64189311958876"
      ]
     },
     "execution_count": 73,
     "metadata": {},
     "output_type": "execute_result"
    }
   ],
   "source": [
    "bic = -2*mll + np.log(n)*(p+1)\n",
    "bic"
   ]
  },
  {
   "cell_type": "markdown",
   "id": "a69a6893",
   "metadata": {},
   "source": [
    "### 12.4 모형의 타당성"
   ]
  },
  {
   "cell_type": "code",
   "execution_count": 75,
   "id": "84e479e6",
   "metadata": {},
   "outputs": [
    {
     "name": "stdout",
     "output_type": "stream",
     "text": [
      "                            OLS Regression Results                            \n",
      "==============================================================================\n",
      "Dep. Variable:             final_test   R-squared:                       0.756\n",
      "Model:                            OLS   Adj. R-squared:                  0.727\n",
      "Method:                 Least Squares   F-statistic:                     26.35\n",
      "Date:                Thu, 23 Dec 2021   Prob (F-statistic):           6.19e-06\n",
      "Time:                        10:52:29   Log-Likelihood:                -73.497\n",
      "No. Observations:                  20   AIC:                             153.0\n",
      "Df Residuals:                      17   BIC:                             156.0\n",
      "Df Model:                           2                                         \n",
      "Covariance Type:            nonrobust                                         \n",
      "==============================================================================\n",
      "                 coef    std err          t      P>|t|      [0.025      0.975]\n",
      "------------------------------------------------------------------------------\n",
      "Intercept     -1.8709     11.635     -0.161      0.874     -26.420      22.678\n",
      "quiz           6.4289      0.956      6.725      0.000       4.412       8.446\n",
      "sleep_time     4.1917      1.778      2.357      0.031       0.440       7.943\n",
      "==============================================================================\n",
      "Omnibus:                        2.073   Durbin-Watson:                   1.508\n",
      "Prob(Omnibus):                  0.355   Jarque-Bera (JB):                1.716\n",
      "Skew:                           0.660   Prob(JB):                        0.424\n",
      "Kurtosis:                       2.437   Cond. No.                         38.0\n",
      "==============================================================================\n",
      "\n",
      "Notes:\n",
      "[1] Standard Errors assume that the covariance matrix of the errors is correctly specified.\n"
     ]
    }
   ],
   "source": [
    "formula = 'final_test ~ quiz + sleep_time'\n",
    "result = smf.ols(formula, df).fit()\n",
    "print(result.summary())"
   ]
  },
  {
   "cell_type": "code",
   "execution_count": 76,
   "id": "56dade79",
   "metadata": {},
   "outputs": [],
   "source": [
    "eps_hat = np.array(result.resid)"
   ]
  },
  {
   "cell_type": "markdown",
   "id": "76ffcb0f",
   "metadata": {},
   "source": [
    "#### 정규성 검정\n",
    "- $\\epsilon_i\\stackrel{iid}{\\sim}N(0,\\sigma^2)$\n",
    "- $\\hat{\\epsilon}_i$가 정규분포를 따르는지 확인하는 정규성 검정을 수행\n",
    "- Prob(Omnibus)나 Prob(JB)가 유의수준 0.05 이상이면 정규분포를 따른다고 볼 수 있음\n",
    "- Skew(왜도)와 Kurtosis(첨도)로도 정규성 확인"
   ]
  },
  {
   "cell_type": "markdown",
   "id": "c4221845",
   "metadata": {},
   "source": [
    "- $H_0$: 잔차항은 정규분포를 따른다.\n",
    "- $H_1$: 잔차항은 정규분포를 따르지 않는다."
   ]
  },
  {
   "cell_type": "markdown",
   "id": "9193d80a",
   "metadata": {},
   "source": [
    "- 왜도(skewness)\n",
    " - $\\sum_i^n\\left(\\frac{x-\\overline{x}}{S}\\right)^3$"
   ]
  },
  {
   "cell_type": "code",
   "execution_count": 77,
   "id": "0280cb6a",
   "metadata": {},
   "outputs": [
    {
     "data": {
      "text/plain": [
       "0.6599489486177472"
      ]
     },
     "execution_count": 77,
     "metadata": {},
     "output_type": "execute_result"
    }
   ],
   "source": [
    "stats.skew(eps_hat)"
   ]
  },
  {
   "cell_type": "markdown",
   "id": "6670ae5c",
   "metadata": {},
   "source": [
    "- 첨도(kurtosis)\n",
    " - $\\sum_i^n\\left(\\frac{x-\\overline{x}}{S}\\right)^4$"
   ]
  },
  {
   "cell_type": "code",
   "execution_count": 78,
   "id": "8b8d4ba5",
   "metadata": {},
   "outputs": [
    {
     "data": {
      "text/plain": [
       "2.4365833256763025"
      ]
     },
     "execution_count": 78,
     "metadata": {},
     "output_type": "execute_result"
    }
   ],
   "source": [
    "stats.kurtosis(eps_hat, fisher=False)"
   ]
  },
  {
   "cell_type": "markdown",
   "id": "13ffc84a",
   "metadata": {},
   "source": [
    "#### 더빈-왓슨비\n",
    "- 다른 오차팡이 서로 무상관인지 여부를 체크하는 지표\n",
    "- 다루고 있는 데이터가 시계열 데이터인 경우 중요\n",
    "- 0부터 4의 값이며 0에 가까우면 양의 상관, 4에 가까우면 음의 상관, 2 앞뒤의 값이면 무상관"
   ]
  },
  {
   "cell_type": "markdown",
   "id": "ce2efd2f",
   "metadata": {},
   "source": [
    "$\\frac{\\sum_{i=2}^n(\\hat{\\epsilon}_i-\\hat{\\epsilon}_{i-1})^2}{\\sum_{i=1}^n\\hat{\\epsilon}_i^2}$"
   ]
  },
  {
   "cell_type": "code",
   "execution_count": 80,
   "id": "97e458da",
   "metadata": {},
   "outputs": [
    {
     "data": {
      "text/plain": [
       "1.5082185264423018"
      ]
     },
     "execution_count": 80,
     "metadata": {},
     "output_type": "execute_result"
    }
   ],
   "source": [
    "np.sum(np.diff(eps_hat, 1)**2) / np.sum(eps_hat**2)"
   ]
  },
  {
   "cell_type": "markdown",
   "id": "f1ca8610",
   "metadata": {},
   "source": [
    "#### 다중공선성\n",
    "- Cond. No.: 조건수를 의미하며 다중공선성을 확인하는 지표\n",
    " - 조건수의 값이 클수록 모형이 있는 항의 다중공선성이 높다.\n",
    " - 다중공선성이 크면 회귀계수의 분산이 커져 모형의 예측 결과가 나빠진다고 알려져 있다"
   ]
  },
  {
   "cell_type": "code",
   "execution_count": 81,
   "id": "aa064bff",
   "metadata": {},
   "outputs": [
    {
     "data": {
      "text/html": [
       "<div>\n",
       "<style scoped>\n",
       "    .dataframe tbody tr th:only-of-type {\n",
       "        vertical-align: middle;\n",
       "    }\n",
       "\n",
       "    .dataframe tbody tr th {\n",
       "        vertical-align: top;\n",
       "    }\n",
       "\n",
       "    .dataframe thead th {\n",
       "        text-align: right;\n",
       "    }\n",
       "</style>\n",
       "<table border=\"1\" class=\"dataframe\">\n",
       "  <thead>\n",
       "    <tr style=\"text-align: right;\">\n",
       "      <th></th>\n",
       "      <th>quiz</th>\n",
       "      <th>final_test</th>\n",
       "      <th>sleep_time</th>\n",
       "      <th>school_method</th>\n",
       "      <th>mid_test</th>\n",
       "    </tr>\n",
       "  </thead>\n",
       "  <tbody>\n",
       "    <tr>\n",
       "      <th>0</th>\n",
       "      <td>4.2</td>\n",
       "      <td>67</td>\n",
       "      <td>7.2</td>\n",
       "      <td>bus</td>\n",
       "      <td>8.4</td>\n",
       "    </tr>\n",
       "    <tr>\n",
       "      <th>1</th>\n",
       "      <td>7.2</td>\n",
       "      <td>71</td>\n",
       "      <td>7.9</td>\n",
       "      <td>bicycle</td>\n",
       "      <td>14.4</td>\n",
       "    </tr>\n",
       "    <tr>\n",
       "      <th>2</th>\n",
       "      <td>0.0</td>\n",
       "      <td>19</td>\n",
       "      <td>5.3</td>\n",
       "      <td>bus</td>\n",
       "      <td>0.0</td>\n",
       "    </tr>\n",
       "    <tr>\n",
       "      <th>3</th>\n",
       "      <td>3.0</td>\n",
       "      <td>35</td>\n",
       "      <td>6.8</td>\n",
       "      <td>walk</td>\n",
       "      <td>6.0</td>\n",
       "    </tr>\n",
       "    <tr>\n",
       "      <th>4</th>\n",
       "      <td>1.5</td>\n",
       "      <td>35</td>\n",
       "      <td>7.5</td>\n",
       "      <td>walk</td>\n",
       "      <td>3.0</td>\n",
       "    </tr>\n",
       "  </tbody>\n",
       "</table>\n",
       "</div>"
      ],
      "text/plain": [
       "   quiz  final_test  sleep_time school_method  mid_test\n",
       "0   4.2          67         7.2           bus       8.4\n",
       "1   7.2          71         7.9       bicycle      14.4\n",
       "2   0.0          19         5.3           bus       0.0\n",
       "3   3.0          35         6.8          walk       6.0\n",
       "4   1.5          35         7.5          walk       3.0"
      ]
     },
     "execution_count": 81,
     "metadata": {},
     "output_type": "execute_result"
    }
   ],
   "source": [
    "df['mid_test'] = df['quiz'] * 2\n",
    "df.head()"
   ]
  },
  {
   "cell_type": "code",
   "execution_count": 83,
   "id": "b7ee5ab0",
   "metadata": {},
   "outputs": [
    {
     "name": "stdout",
     "output_type": "stream",
     "text": [
      "                            OLS Regression Results                            \n",
      "==============================================================================\n",
      "Dep. Variable:             final_test   R-squared:                       0.676\n",
      "Model:                            OLS   Adj. R-squared:                  0.658\n",
      "Method:                 Least Squares   F-statistic:                     37.61\n",
      "Date:                Thu, 23 Dec 2021   Prob (F-statistic):           8.59e-06\n",
      "Time:                        12:16:49   Log-Likelihood:                -76.325\n",
      "No. Observations:                  20   AIC:                             156.7\n",
      "Df Residuals:                      18   BIC:                             158.6\n",
      "Df Model:                           1                                         \n",
      "Covariance Type:            nonrobust                                         \n",
      "==============================================================================\n",
      "                 coef    std err          t      P>|t|      [0.025      0.975]\n",
      "------------------------------------------------------------------------------\n",
      "Intercept     23.6995      4.714      5.028      0.000      13.796      33.603\n",
      "quiz           1.3107      0.214      6.133      0.000       0.862       1.760\n",
      "mid_test       2.6215      0.427      6.133      0.000       1.723       3.519\n",
      "==============================================================================\n",
      "Omnibus:                        2.139   Durbin-Watson:                   1.478\n",
      "Prob(Omnibus):                  0.343   Jarque-Bera (JB):                1.773\n",
      "Skew:                           0.670   Prob(JB):                        0.412\n",
      "Kurtosis:                       2.422   Cond. No.                     1.22e+17\n",
      "==============================================================================\n",
      "\n",
      "Notes:\n",
      "[1] Standard Errors assume that the covariance matrix of the errors is correctly specified.\n",
      "[2] The smallest eigenvalue is 1.31e-31. This might indicate that there are\n",
      "strong multicollinearity problems or that the design matrix is singular.\n"
     ]
    }
   ],
   "source": [
    "formula = 'final_test ~ quiz + mid_test'\n",
    "result = smf.ols(formula, df).fit()\n",
    "print(result.summary())"
   ]
  }
 ],
 "metadata": {
  "kernelspec": {
   "display_name": "Python 3 (ipykernel)",
   "language": "python",
   "name": "python3"
  },
  "language_info": {
   "codemirror_mode": {
    "name": "ipython",
    "version": 3
   },
   "file_extension": ".py",
   "mimetype": "text/x-python",
   "name": "python",
   "nbconvert_exporter": "python",
   "pygments_lexer": "ipython3",
   "version": "3.9.7"
  }
 },
 "nbformat": 4,
 "nbformat_minor": 5
}
