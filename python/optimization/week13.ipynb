{
 "cells": [
  {
   "cell_type": "code",
   "execution_count": 1,
   "id": "7e522df6",
   "metadata": {},
   "outputs": [],
   "source": [
    "import numpy as np"
   ]
  },
  {
   "cell_type": "code",
   "execution_count": 2,
   "id": "b524f4f1",
   "metadata": {},
   "outputs": [],
   "source": [
    "def michalewicz(x, m=10):\n",
    "    return -sum([np.sin(v) * np.sin(((i+1)*(v**2))/np.pi)**(2*m) for i, v in enumerate(x)])"
   ]
  },
  {
   "cell_type": "code",
   "execution_count": 3,
   "id": "4356a79a",
   "metadata": {},
   "outputs": [
    {
     "data": {
      "text/plain": [
       "-1.801140718473825"
      ]
     },
     "execution_count": 3,
     "metadata": {},
     "output_type": "execute_result"
    }
   ],
   "source": [
    "michalewicz([2.2, 1.57])"
   ]
  },
  {
   "cell_type": "code",
   "execution_count": 4,
   "id": "de93c03d",
   "metadata": {},
   "outputs": [],
   "source": [
    "POP_SIZE = 10\n",
    "DIM = 2"
   ]
  },
  {
   "cell_type": "code",
   "execution_count": 6,
   "id": "dbc2cee4",
   "metadata": {},
   "outputs": [],
   "source": [
    "population = np.random.uniform(low=0, high=4, size=(POP_SIZE, DIM))\n",
    "collection = [michalewicz(ind) for ind in population]"
   ]
  },
  {
   "cell_type": "code",
   "execution_count": 7,
   "id": "3ba9f9ff",
   "metadata": {},
   "outputs": [
    {
     "data": {
      "text/plain": [
       "array([[2.85543149, 0.06278015],\n",
       "       [2.36497366, 1.22576653],\n",
       "       [1.42359771, 3.01980414],\n",
       "       [0.91094965, 0.85942644],\n",
       "       [1.02612513, 3.38921245],\n",
       "       [1.76033815, 0.09561912],\n",
       "       [3.27736487, 1.43978572],\n",
       "       [3.58273847, 3.86425653],\n",
       "       [1.11934809, 2.10972329],\n",
       "       [0.58386025, 0.21724923]])"
      ]
     },
     "execution_count": 7,
     "metadata": {},
     "output_type": "execute_result"
    }
   ],
   "source": [
    "population"
   ]
  },
  {
   "cell_type": "code",
   "execution_count": 8,
   "id": "9892c99a",
   "metadata": {},
   "outputs": [
    {
     "data": {
      "text/plain": [
       "[-5.784247226982215e-07,\n",
       " -0.4669350570412576,\n",
       " -3.775701409059554e-05,\n",
       " -1.0065845729445483e-07,\n",
       " 0.011205914640695794,\n",
       " -0.02604978145503406,\n",
       " -0.52422760368754,\n",
       " 0.006318914610238862,\n",
       " -5.510501216113062e-09,\n",
       " -2.71428041998087e-20]"
      ]
     },
     "execution_count": 8,
     "metadata": {},
     "output_type": "execute_result"
    }
   ],
   "source": [
    "collection # 목적함수 값"
   ]
  },
  {
   "cell_type": "code",
   "execution_count": 9,
   "id": "486f6960",
   "metadata": {},
   "outputs": [],
   "source": [
    "def selection(f, population, k):\n",
    "    \n",
    "    collection = [f(ind) for ind in population]\n",
    "    pool = np.argsort(collection)\n",
    "    \n",
    "    return [population[p] for i, p in enumerate(pool) if i < k]"
   ]
  },
  {
   "cell_type": "code",
   "execution_count": 10,
   "id": "8d247859",
   "metadata": {},
   "outputs": [
    {
     "data": {
      "text/plain": [
       "[array([3.27736487, 1.43978572]),\n",
       " array([2.36497366, 1.22576653]),\n",
       " array([1.76033815, 0.09561912]),\n",
       " array([1.42359771, 3.01980414])]"
      ]
     },
     "execution_count": 10,
     "metadata": {},
     "output_type": "execute_result"
    }
   ],
   "source": [
    "new_population = selection(michalewicz, population, 4)\n",
    "new_population"
   ]
  },
  {
   "cell_type": "code",
   "execution_count": 17,
   "id": "30c80b70",
   "metadata": {},
   "outputs": [],
   "source": [
    "def parents(population):\n",
    "    parent = list()\n",
    "    \n",
    "    for _ in range(POP_SIZE):\n",
    "        idx = np.random.randint(low=0, high=len(population), size=len(population[0]))\n",
    "        parent.append([population[idx[0]], population[idx[1]]])\n",
    "        \n",
    "    return parent"
   ]
  },
  {
   "cell_type": "code",
   "execution_count": 18,
   "id": "a76530a8",
   "metadata": {},
   "outputs": [
    {
     "data": {
      "text/plain": [
       "[[array([2.36497366, 1.22576653]), array([1.42359771, 3.01980414])],\n",
       " [array([1.42359771, 3.01980414]), array([3.27736487, 1.43978572])],\n",
       " [array([1.76033815, 0.09561912]), array([1.76033815, 0.09561912])],\n",
       " [array([1.42359771, 3.01980414]), array([1.76033815, 0.09561912])],\n",
       " [array([1.76033815, 0.09561912]), array([3.27736487, 1.43978572])],\n",
       " [array([1.76033815, 0.09561912]), array([2.36497366, 1.22576653])],\n",
       " [array([3.27736487, 1.43978572]), array([3.27736487, 1.43978572])],\n",
       " [array([1.76033815, 0.09561912]), array([2.36497366, 1.22576653])],\n",
       " [array([2.36497366, 1.22576653]), array([3.27736487, 1.43978572])],\n",
       " [array([1.42359771, 3.01980414]), array([1.76033815, 0.09561912])]]"
      ]
     },
     "execution_count": 18,
     "metadata": {},
     "output_type": "execute_result"
    }
   ],
   "source": [
    "parent = parents(new_population)\n",
    "parent"
   ]
  },
  {
   "cell_type": "code",
   "execution_count": 19,
   "id": "eb849b91",
   "metadata": {},
   "outputs": [],
   "source": [
    "def crossover(parents, lambda_=0.5):\n",
    "    return [(1.-lambda_)*p[0] + lambda_*p[1] for p in parents]"
   ]
  },
  {
   "cell_type": "code",
   "execution_count": 20,
   "id": "c9ed5962",
   "metadata": {},
   "outputs": [
    {
     "data": {
      "text/plain": [
       "[array([1.89428568, 2.12278533]),\n",
       " array([2.35048129, 2.22979493]),\n",
       " array([1.76033815, 0.09561912]),\n",
       " array([1.59196793, 1.55771163]),\n",
       " array([2.51885151, 0.76770242]),\n",
       " array([2.0626559 , 0.66069282]),\n",
       " array([3.27736487, 1.43978572]),\n",
       " array([2.0626559 , 0.66069282]),\n",
       " array([2.82116926, 1.33277612]),\n",
       " array([1.59196793, 1.55771163])]"
      ]
     },
     "execution_count": 20,
     "metadata": {},
     "output_type": "execute_result"
    }
   ],
   "source": [
    "child = crossover(parent)\n",
    "child"
   ]
  },
  {
   "cell_type": "code",
   "execution_count": 21,
   "id": "ad4392d9",
   "metadata": {},
   "outputs": [],
   "source": [
    "def mutation(child, sigma):\n",
    "    return child + np.random.normal(loc=0, scale=sigma, size=(len(child), len(child[0])))"
   ]
  },
  {
   "cell_type": "code",
   "execution_count": 22,
   "id": "fecebcd0",
   "metadata": {},
   "outputs": [
    {
     "data": {
      "text/plain": [
       "array([[1.80874348, 2.18987804],\n",
       "       [2.41443354, 2.49388738],\n",
       "       [1.737488  , 0.24131443],\n",
       "       [1.58473878, 1.55274208],\n",
       "       [2.57354204, 0.69528706],\n",
       "       [2.23737371, 0.64140893],\n",
       "       [3.38009928, 1.51705609],\n",
       "       [2.29603584, 0.55118243],\n",
       "       [2.91203259, 1.49929717],\n",
       "       [1.56633555, 1.47124716]])"
      ]
     },
     "execution_count": 22,
     "metadata": {},
     "output_type": "execute_result"
    }
   ],
   "source": [
    "mutation(child, 1./len(child))"
   ]
  },
  {
   "cell_type": "code",
   "execution_count": 23,
   "id": "d1ad849c",
   "metadata": {},
   "outputs": [],
   "source": [
    "def genetic_algorithm(f, pop_size, dim, k, maxiter=100):\n",
    "    \n",
    "    population = np.random.uniform(low=0, high=4, size=(pop_size, dim))\n",
    "    collection = [f(ind) for ind in population]\n",
    "    \n",
    "    flag = True\n",
    "    i = 1\n",
    "    \n",
    "    while flag:\n",
    "        \n",
    "        population = selection(f, population, k)\n",
    "        parent = parents(population)\n",
    "        child = crossover(parent)\n",
    "        \n",
    "        population = mutation(child, 1./len(child))\n",
    "        collection = [f(ind) for ind in population]\n",
    "        \n",
    "        if i > maxiter:\n",
    "            break\n",
    "        \n",
    "        i += 1\n",
    "        \n",
    "    pool = np.argsort(collection)\n",
    "    \n",
    "    return collection[pool[0]], population[pool[0]]"
   ]
  },
  {
   "cell_type": "code",
   "execution_count": 27,
   "id": "b6d7fd87",
   "metadata": {
    "scrolled": true
   },
   "outputs": [
    {
     "data": {
      "text/plain": [
       "(-1.8009866002581045, array([2.19887172, 1.57193835]))"
      ]
     },
     "execution_count": 27,
     "metadata": {},
     "output_type": "execute_result"
    }
   ],
   "source": [
    "POP_SIZE = 50\n",
    "DIM = 2\n",
    "k = 10\n",
    "\n",
    "genetic_algorithm(michalewicz, POP_SIZE, DIM, k=10)"
   ]
  }
 ],
 "metadata": {
  "kernelspec": {
   "display_name": "Python 3 (ipykernel)",
   "language": "python",
   "name": "python3"
  },
  "language_info": {
   "codemirror_mode": {
    "name": "ipython",
    "version": 3
   },
   "file_extension": ".py",
   "mimetype": "text/x-python",
   "name": "python",
   "nbconvert_exporter": "python",
   "pygments_lexer": "ipython3",
   "version": "3.9.7"
  }
 },
 "nbformat": 4,
 "nbformat_minor": 5
}
