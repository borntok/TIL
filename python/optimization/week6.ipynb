{
 "cells": [
  {
   "cell_type": "code",
   "execution_count": 1,
   "id": "618cfa76",
   "metadata": {},
   "outputs": [],
   "source": [
    "import numpy as np"
   ]
  },
  {
   "cell_type": "code",
   "execution_count": 2,
   "id": "77afd0c2",
   "metadata": {},
   "outputs": [],
   "source": [
    "def f(x):\n",
    "    y = x[0] ** 2 + x[0] * x[1] + x[1] ** 2\n",
    "    return y"
   ]
  },
  {
   "cell_type": "code",
   "execution_count": 3,
   "id": "3c0f9f09",
   "metadata": {},
   "outputs": [],
   "source": [
    "def gradient(x):    \n",
    "    return [2 * x[0] + x[1], 2 * x[1] + x[0]]"
   ]
  },
  {
   "cell_type": "code",
   "execution_count": 4,
   "id": "fc7a6003",
   "metadata": {},
   "outputs": [],
   "source": [
    "x = np.array([1, 2])\n",
    "d = np.array([-1.1, -1.2])"
   ]
  },
  {
   "cell_type": "code",
   "execution_count": 5,
   "id": "53bc9007",
   "metadata": {},
   "outputs": [
    {
     "name": "stdout",
     "output_type": "stream",
     "text": [
      "7\n",
      "[4, 5]\n"
     ]
    }
   ],
   "source": [
    "print(f(x))\n",
    "print(gradient(x))"
   ]
  },
  {
   "cell_type": "markdown",
   "id": "40047f34",
   "metadata": {},
   "source": [
    "### Strong backtracking algorithm"
   ]
  },
  {
   "cell_type": "code",
   "execution_count": 17,
   "id": "b47464ad",
   "metadata": {},
   "outputs": [],
   "source": [
    "def strong_backtracking(f, gradient, x, d, alpha=1, beta=1e-4, sigma=1e-1):\n",
    "    \n",
    "    y0, g0, y_prev, alpha_prev = f(x), np.dot(gradient(x), d), np.nan, 0.0\n",
    "    alpha_lo, alpha_hi = np.nan, np.nan\n",
    "    \n",
    "    # bracket phase\n",
    "    while True:\n",
    "        y = f(x + alpha*d)\n",
    "        \n",
    "        if (y > y0 + beta*alpha*g0) or (not(np.isnan(y_prev)) and y >= y_prev):\n",
    "            alpha_lo, alpha_hi = alpha_prev, alpha\n",
    "            break\n",
    "            \n",
    "        g = np.dot(gradient(x + alpha*d), d)\n",
    "        \n",
    "        if np.abs(g) <= -sigma * g0:\n",
    "            return alpha\n",
    "        elif g >= 0:\n",
    "            alpha_lo, alpha_hi = alpha, alpha_prev\n",
    "            break\n",
    "            \n",
    "        y_prev, alpha_prev, alpha = y, alpha, 2*alpha\n",
    "        \n",
    "    print(f'bracket: {alpha_lo:.4f}, {alpha_hi:.4f}')\n",
    "    \n",
    "    # zoom phase\n",
    "    y_lo = f(x + alpha*d)\n",
    "    \n",
    "    while True:\n",
    "        alpha = 0.5 * (alpha_lo + alpha_hi)\n",
    "        y = f(x + alpha*d)\n",
    "        \n",
    "        if (y > y0 + beta*alpha*g0) or (y >= y_lo):\n",
    "            alpha_hi = alpha\n",
    "        else:\n",
    "            g = np.dot(gradient(x + alpha*d), d)\n",
    "\n",
    "            if abs(g) <= -sigma * g0:\n",
    "                return alpha\n",
    "            elif g * (alpha_hi - alpha_lo) >= 0:\n",
    "                alpha_hi = alpha_lo\n",
    "            \n",
    "            alpha_lo = alpha"
   ]
  },
  {
   "cell_type": "code",
   "execution_count": 18,
   "id": "4936dc42",
   "metadata": {},
   "outputs": [
    {
     "name": "stdout",
     "output_type": "stream",
     "text": [
      "bracket: 1.0000, 2.0000\n"
     ]
    }
   ],
   "source": [
    "alpha = strong_backtracking(f, gradient, x, d)"
   ]
  },
  {
   "cell_type": "code",
   "execution_count": 19,
   "id": "ed53b7da",
   "metadata": {},
   "outputs": [
    {
     "name": "stdout",
     "output_type": "stream",
     "text": [
      "1.25\n",
      "[-0.375  0.5  ]\n",
      "0.203125\n"
     ]
    }
   ],
   "source": [
    "print(alpha)\n",
    "print(x + alpha*d)\n",
    "print(f(x + alpha*d))"
   ]
  },
  {
   "cell_type": "code",
   "execution_count": 12,
   "id": "c26cd917",
   "metadata": {},
   "outputs": [
    {
     "name": "stdout",
     "output_type": "stream",
     "text": [
      "bracket: 1.0000, 2.0000\n",
      "1.25\n",
      "[-0.375  0.5  ]\n",
      "0.203125\n"
     ]
    }
   ],
   "source": [
    "alpha = strong_backtracking(f, gradient, x, d)\n",
    "        \n",
    "print(alpha)\n",
    "print(x + alpha * d)        \n",
    "print(f(x + alpha * d)) "
   ]
  }
 ],
 "metadata": {
  "kernelspec": {
   "display_name": "Python 3 (ipykernel)",
   "language": "python",
   "name": "python3"
  },
  "language_info": {
   "codemirror_mode": {
    "name": "ipython",
    "version": 3
   },
   "file_extension": ".py",
   "mimetype": "text/x-python",
   "name": "python",
   "nbconvert_exporter": "python",
   "pygments_lexer": "ipython3",
   "version": "3.9.7"
  }
 },
 "nbformat": 4,
 "nbformat_minor": 5
}
