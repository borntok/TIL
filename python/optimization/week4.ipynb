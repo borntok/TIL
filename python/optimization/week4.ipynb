{
 "cells": [
  {
   "cell_type": "code",
   "execution_count": 2,
   "id": "d06ad9c9",
   "metadata": {},
   "outputs": [],
   "source": [
    "def bracket_minimum(f, x, s=1e-2, k=2.0):\n",
    "    \n",
    "    a, ya = x, f(x)\n",
    "    b, yb = a+s, f(a+s)\n",
    "    print(f'init: (a:{a:.4f}, b:{b:.4f}), (ya:{ya:.4f}, yb:{yb:.4f})')\n",
    "    \n",
    "    if yb > ya:\n",
    "        a, b = b, a\n",
    "        ya, yb = yb, ya\n",
    "        s = -s\n",
    "    \n",
    "    while True:\n",
    "        c, yc = b+s, f(b+s)\n",
    "        print(f'step: (a:{a:.4f}, b:{b:.4f}, c:{c:.4f}), (ya:{ya:.4f}, yb:{yb:.4f}, yc:{yc:.4f})')\n",
    "        \n",
    "        if yc > yb:\n",
    "            return (a, c) if a < c else (c, a)\n",
    "        else:\n",
    "            a, ya, b, yb = b, yb,c, yc\n",
    "            s *= k"
   ]
  },
  {
   "cell_type": "markdown",
   "id": "064209f0",
   "metadata": {},
   "source": [
    "### 황금분할 탐색법"
   ]
  },
  {
   "cell_type": "code",
   "execution_count": 3,
   "id": "31d60bad",
   "metadata": {},
   "outputs": [],
   "source": [
    "import numpy as np"
   ]
  },
  {
   "cell_type": "code",
   "execution_count": 21,
   "id": "e342414d",
   "metadata": {},
   "outputs": [],
   "source": [
    "def golden_section_search(f, x, epsilon=1e-6):\n",
    "    \n",
    "    a, b = bracket_minimum(f, x)\n",
    "    print(f'init: (a:{a:.4f}, b:{b:.4f})')\n",
    "    \n",
    "    distance = abs(a-b)\n",
    "    \n",
    "    psi = 0.5 * (1.+np.sqrt(5))\n",
    "    rho = psi ** (-1)\n",
    "    \n",
    "    d = rho*b + (1.-rho)*a\n",
    "    yd = f(d)\n",
    "    \n",
    "    \n",
    "    i = 1\n",
    "    while distance > epsilon:\n",
    "        \n",
    "        c = rho*a + (1.-rho)*b\n",
    "        yc = f(c)\n",
    "        \n",
    "        if yc < yd:\n",
    "            b, d, yd = d, c, yc\n",
    "        else:\n",
    "            a, b = b, c\n",
    "        \n",
    "        pa, pb = (a, b) if a < b else (b, a)\n",
    "        print(f'{i}: (a: {pa:.4f}, b:{pb:.4f})')\n",
    "        \n",
    "        distance = abs(a-b)\n",
    "        \n",
    "        i += 1\n",
    "        \n",
    "    a, b = (a, b) if a < b else (b, a)\n",
    "    \n",
    "    x = 0.5 * (a+b)\n",
    "    y = f(x)\n",
    "    \n",
    "    return x, y"
   ]
  },
  {
   "cell_type": "code",
   "execution_count": 8,
   "id": "e6878af7",
   "metadata": {},
   "outputs": [],
   "source": [
    "f = lambda x: 0.5 * x**2 - x\n",
    "df = lambda x: x-1"
   ]
  },
  {
   "cell_type": "code",
   "execution_count": 14,
   "id": "eb700555",
   "metadata": {},
   "outputs": [],
   "source": [
    "def f(x):\n",
    "    return 0.5 * x**2 - x\n",
    "\n",
    "def df(x):\n",
    "    return x -1"
   ]
  },
  {
   "cell_type": "code",
   "execution_count": 10,
   "id": "954ed9ad",
   "metadata": {},
   "outputs": [],
   "source": [
    "import matplotlib.pyplot as plt"
   ]
  },
  {
   "cell_type": "code",
   "execution_count": 11,
   "id": "395bfcb9",
   "metadata": {},
   "outputs": [],
   "source": [
    "x = np.arange(0., 2., 1e-2)"
   ]
  },
  {
   "cell_type": "code",
   "execution_count": 15,
   "id": "ac59d46b",
   "metadata": {},
   "outputs": [
    {
     "data": {
      "image/png": "[encoded data removed]",
      "text/plain": [
       "<Figure size 432x288 with 1 Axes>"
      ]
     },
     "metadata": {
      "needs_background": "light"
     },
     "output_type": "display_data"
    }
   ],
   "source": [
    "plt.title('f(x) = (x**2)/2 - x')\n",
    "plt.plot(x, f(x))\n",
    "plt.xlabel('x')\n",
    "plt.ylabel('f(x)')\n",
    "plt.show()          "
   ]
  },
  {
   "cell_type": "code",
   "execution_count": 17,
   "id": "52c2a8b3",
   "metadata": {},
   "outputs": [
    {
     "data": {
      "image/png": "[encoded data removed]",
      "text/plain": [
       "<Figure size 432x288 with 1 Axes>"
      ]
     },
     "metadata": {
      "needs_background": "light"
     },
     "output_type": "display_data"
    }
   ],
   "source": [
    "# f(x)의 도함수\n",
    "plt.title('f`(x) = x - 1')\n",
    "plt.plot(x, df(x))\n",
    "plt.axhline(y = 0, color = 'orange')\n",
    "plt.axvline(x = 1, color = 'orange')\n",
    "plt.show()"
   ]
  },
  {
   "cell_type": "code",
   "execution_count": 22,
   "id": "27052478",
   "metadata": {
    "scrolled": false
   },
   "outputs": [
    {
     "name": "stdout",
     "output_type": "stream",
     "text": [
      "init: (a:0.0000, b:0.0100), (ya:0.0000, yb:-0.0100)\n",
      "step: (a:0.0000, b:0.0100, c:0.0200), (ya:0.0000, yb:-0.0100, yc:-0.0198)\n",
      "step: (a:0.0100, b:0.0200, c:0.0400), (ya:-0.0100, yb:-0.0198, yc:-0.0392)\n",
      "step: (a:0.0200, b:0.0400, c:0.0800), (ya:-0.0198, yb:-0.0392, yc:-0.0768)\n",
      "step: (a:0.0400, b:0.0800, c:0.1600), (ya:-0.0392, yb:-0.0768, yc:-0.1472)\n",
      "step: (a:0.0800, b:0.1600, c:0.3200), (ya:-0.0768, yb:-0.1472, yc:-0.2688)\n",
      "step: (a:0.1600, b:0.3200, c:0.6400), (ya:-0.1472, yb:-0.2688, yc:-0.4352)\n",
      "step: (a:0.3200, b:0.6400, c:1.2800), (ya:-0.2688, yb:-0.4352, yc:-0.4608)\n",
      "step: (a:0.6400, b:1.2800, c:2.5600), (ya:-0.4352, yb:-0.4608, yc:0.7168)\n",
      "init: (a:0.6400, b:2.5600)\n",
      "1: (a: 0.6400, b:1.8266)\n",
      "2: (a: 0.6400, b:1.3734)\n",
      "3: (a: 0.6400, b:1.0933)\n",
      "4: (a: 0.8131, b:1.0933)\n",
      "5: (a: 0.9201, b:1.0933)\n",
      "6: (a: 0.9201, b:1.0271)\n",
      "7: (a: 0.9610, b:1.0271)\n",
      "8: (a: 0.9863, b:1.0271)\n",
      "9: (a: 0.9863, b:1.0115)\n",
      "10: (a: 0.9959, b:1.0115)\n",
      "11: (a: 0.9959, b:1.0055)\n",
      "12: (a: 0.9959, b:1.0019)\n",
      "13: (a: 0.9982, b:1.0019)\n",
      "14: (a: 0.9982, b:1.0005)\n",
      "15: (a: 0.9990, b:1.0005)\n",
      "16: (a: 0.9996, b:1.0005)\n",
      "17: (a: 0.9996, b:1.0001)\n",
      "18: (a: 0.9998, b:1.0001)\n",
      "19: (a: 0.9999, b:1.0001)\n",
      "20: (a: 0.9999, b:1.0000)\n",
      "21: (a: 1.0000, b:1.0000)\n",
      "22: (a: 1.0000, b:1.0000)\n",
      "23: (a: 1.0000, b:1.0000)\n",
      "24: (a: 1.0000, b:1.0000)\n",
      "25: (a: 1.0000, b:1.0000)\n",
      "26: (a: 1.0000, b:1.0000)\n",
      "27: (a: 1.0000, b:1.0000)\n",
      "28: (a: 1.0000, b:1.0000)\n",
      "29: (a: 1.0000, b:1.0000)\n",
      "30: (a: 1.0000, b:1.0000)\n",
      "31: (a: 1.0000, b:1.0000)\n"
     ]
    },
    {
     "data": {
      "text/plain": [
       "(0.9999999426899366, -0.49999999999999833)"
      ]
     },
     "execution_count": 22,
     "metadata": {},
     "output_type": "execute_result"
    }
   ],
   "source": [
    "golden_section_search(f, 0)"
   ]
  },
  {
   "cell_type": "markdown",
   "id": "de08ab27",
   "metadata": {},
   "source": [
    "### 이분법\n",
    "- 목적함수의 도함수를 아는 경우에만 사용 가능"
   ]
  },
  {
   "cell_type": "code",
   "execution_count": 23,
   "id": "2e1d6869",
   "metadata": {},
   "outputs": [],
   "source": [
    "def bracket_sign_change(df, a, b, k=2):\n",
    "    \n",
    "    if a > b:\n",
    "        a, b, = b, a\n",
    "        \n",
    "    center, half_width = 0.5*(b+a), 0.5*(b-a)\n",
    "    \n",
    "    while df(a)*df(b) > 0:\n",
    "        \n",
    "        half_width *= k\n",
    "        \n",
    "        a = center - half_width\n",
    "        b = center + half_width\n",
    "        \n",
    "    return (a, b)"
   ]
  },
  {
   "cell_type": "code",
   "execution_count": 24,
   "id": "bd7c3e82",
   "metadata": {},
   "outputs": [
    {
     "data": {
      "text/plain": [
       "(-1.55, 1.6500000000000001)"
      ]
     },
     "execution_count": 24,
     "metadata": {},
     "output_type": "execute_result"
    }
   ],
   "source": [
    "bracket_sign_change(df, 0, 0.1)"
   ]
  },
  {
   "cell_type": "code",
   "execution_count": 27,
   "id": "5abbb762",
   "metadata": {},
   "outputs": [],
   "source": [
    "def bisection(df, x, epsilon=1e-6):\n",
    "    \n",
    "    a, b = bracket_sign_change(df, x-epsilon, x+epsilon)\n",
    "    print(f'init: (a:{a:.4f}, b:{b:.4f})')\n",
    "    \n",
    "    ya, yb = df(a), df(b)\n",
    "    \n",
    "    if ya == 0:\n",
    "        b = a\n",
    "    if yb == 0:\n",
    "        a = b\n",
    "        \n",
    "    i = 1    \n",
    "    while b-a > epsilon:\n",
    "        \n",
    "        x = 0.5 * (a+b)\n",
    "        y = df(x)\n",
    "        \n",
    "        if y == 0:\n",
    "            a, b = x, x\n",
    "        elif y*ya > 0:\n",
    "            a = x\n",
    "        else:\n",
    "            b = x\n",
    "        print(f'step: a:{a:.4f}, b:{b:.4f}, y:{y:.4f}, ya:{ya:.4f}')\n",
    "        \n",
    "        i += 1\n",
    "        \n",
    "        x = 0.5 * (a + b)\n",
    "        y = df(x)\n",
    "    \n",
    "    return x, y"
   ]
  },
  {
   "cell_type": "code",
   "execution_count": 28,
   "id": "92044077",
   "metadata": {
    "scrolled": true
   },
   "outputs": [
    {
     "name": "stdout",
     "output_type": "stream",
     "text": [
      "init: (a:-1.0486, b:1.0486)\n",
      "step: a:0.0000, b:1.0486, y:-1.0000, ya:-2.0486\n",
      "step: a:0.5243, b:1.0486, y:-0.4757, ya:-2.0486\n",
      "step: a:0.7864, b:1.0486, y:-0.2136, ya:-2.0486\n",
      "step: a:0.9175, b:1.0486, y:-0.0825, ya:-2.0486\n",
      "step: a:0.9830, b:1.0486, y:-0.0170, ya:-2.0486\n",
      "step: a:0.9830, b:1.0158, y:0.0158, ya:-2.0486\n",
      "step: a:0.9994, b:1.0158, y:-0.0006, ya:-2.0486\n",
      "step: a:0.9994, b:1.0076, y:0.0076, ya:-2.0486\n",
      "step: a:0.9994, b:1.0035, y:0.0035, ya:-2.0486\n",
      "step: a:0.9994, b:1.0015, y:0.0015, ya:-2.0486\n",
      "step: a:0.9994, b:1.0004, y:0.0004, ya:-2.0486\n",
      "step: a:0.9999, b:1.0004, y:-0.0001, ya:-2.0486\n",
      "step: a:0.9999, b:1.0002, y:0.0002, ya:-2.0486\n",
      "step: a:0.9999, b:1.0001, y:0.0001, ya:-2.0486\n",
      "step: a:1.0000, b:1.0000, y:0.0000, ya:-2.0486\n"
     ]
    },
    {
     "data": {
      "text/plain": [
       "(1.0, 0.0)"
      ]
     },
     "execution_count": 28,
     "metadata": {},
     "output_type": "execute_result"
    }
   ],
   "source": [
    "bisection(df, 0)"
   ]
  }
 ],
 "metadata": {
  "kernelspec": {
   "display_name": "Python 3 (ipykernel)",
   "language": "python",
   "name": "python3"
  },
  "language_info": {
   "codemirror_mode": {
    "name": "ipython",
    "version": 3
   },
   "file_extension": ".py",
   "mimetype": "text/x-python",
   "name": "python",
   "nbconvert_exporter": "python",
   "pygments_lexer": "ipython3",
   "version": "3.9.7"
  }
 },
 "nbformat": 4,
 "nbformat_minor": 5
}
