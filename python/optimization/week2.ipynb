{
 "cells": [
  {
   "cell_type": "markdown",
   "id": "1b70e924",
   "metadata": {},
   "source": [
    "$f(x)=x^2\\\\\n",
    "f(x+dx)=f(x)+f^\\prime(x)dx$"
   ]
  },
  {
   "cell_type": "code",
   "execution_count": 1,
   "id": "973f7257",
   "metadata": {},
   "outputs": [],
   "source": [
    "x = -1\n",
    "dx = 0.001"
   ]
  },
  {
   "cell_type": "code",
   "execution_count": 3,
   "id": "ba8b838f",
   "metadata": {},
   "outputs": [],
   "source": [
    "f = x**2\n",
    "df = 2*x\n",
    "f_dx = f+df*dx"
   ]
  },
  {
   "cell_type": "code",
   "execution_count": 4,
   "id": "46053c0b",
   "metadata": {},
   "outputs": [
    {
     "name": "stdout",
     "output_type": "stream",
     "text": [
      "1 0.998\n"
     ]
    }
   ],
   "source": [
    "print(f, f_dx)"
   ]
  },
  {
   "cell_type": "code",
   "execution_count": 5,
   "id": "3aecd77f",
   "metadata": {},
   "outputs": [
    {
     "name": "stdout",
     "output_type": "stream",
     "text": [
      "1 0.998\n",
      "1 0.9998\n",
      "1 0.99998\n",
      "1 0.99999998\n"
     ]
    }
   ],
   "source": [
    "for dx in [1e-3, 1e-4, 1e-5, 1e-8]:\n",
    "    f_dx = f + df *dx\n",
    "    print(f, f_dx)"
   ]
  },
  {
   "cell_type": "code",
   "execution_count": 6,
   "id": "ae236a9c",
   "metadata": {},
   "outputs": [],
   "source": [
    "def f(x):\n",
    "    return x**2"
   ]
  },
  {
   "cell_type": "code",
   "execution_count": 7,
   "id": "853804bf",
   "metadata": {},
   "outputs": [
    {
     "data": {
      "text/plain": [
       "1"
      ]
     },
     "execution_count": 7,
     "metadata": {},
     "output_type": "execute_result"
    }
   ],
   "source": [
    "f(-1)"
   ]
  },
  {
   "cell_type": "code",
   "execution_count": 8,
   "id": "d78f78ae",
   "metadata": {},
   "outputs": [],
   "source": [
    "def df(x):\n",
    "    return 2*x"
   ]
  },
  {
   "cell_type": "code",
   "execution_count": 9,
   "id": "be588962",
   "metadata": {},
   "outputs": [
    {
     "data": {
      "text/plain": [
       "-2"
      ]
     },
     "execution_count": 9,
     "metadata": {},
     "output_type": "execute_result"
    }
   ],
   "source": [
    "df(-1)"
   ]
  },
  {
   "cell_type": "code",
   "execution_count": 10,
   "id": "c45e1fb6",
   "metadata": {},
   "outputs": [],
   "source": [
    "def f_dx(x,dx):\n",
    "    return f(x) + df(x)*dx"
   ]
  },
  {
   "cell_type": "code",
   "execution_count": 11,
   "id": "5c344df0",
   "metadata": {},
   "outputs": [
    {
     "name": "stdout",
     "output_type": "stream",
     "text": [
      "1.0000, 0.9980, 0.0020000000000000018\n",
      "1.0000, 0.9998, 0.00019999999999997797\n",
      "1.0000, 1.0000, 2.0000000000020002e-05\n",
      "1.0000, 1.0000, 1.999999999946489e-06\n"
     ]
    }
   ],
   "source": [
    "for dx in [1e-3, 1e-4, 1e-5, 1e-6]:\n",
    "    print(f'{f(-1):.4f}, {f_dx(-1, dx):.4f}, {abs(f(-1)-f_dx(-1, dx))}')"
   ]
  },
  {
   "cell_type": "markdown",
   "id": "8f19d7ee",
   "metadata": {},
   "source": [
    "### 수치미분"
   ]
  },
  {
   "cell_type": "markdown",
   "id": "ac148caa",
   "metadata": {},
   "source": [
    "- 전방차분"
   ]
  },
  {
   "cell_type": "code",
   "execution_count": 12,
   "id": "b63d696e",
   "metadata": {},
   "outputs": [],
   "source": [
    "def forward_diff(f, x, h=1e-6):\n",
    "    df_ = (f(x+h)-f(x)) / h\n",
    "    return df_"
   ]
  },
  {
   "cell_type": "code",
   "execution_count": 13,
   "id": "e0993f0e",
   "metadata": {},
   "outputs": [
    {
     "data": {
      "text/plain": [
       "-1.999999000079633"
      ]
     },
     "execution_count": 13,
     "metadata": {},
     "output_type": "execute_result"
    }
   ],
   "source": [
    "forward_diff(f, -1)"
   ]
  },
  {
   "cell_type": "markdown",
   "id": "ec6de5fc",
   "metadata": {},
   "source": [
    "- 후방차분"
   ]
  },
  {
   "cell_type": "code",
   "execution_count": 14,
   "id": "a4fca78f",
   "metadata": {},
   "outputs": [],
   "source": [
    "def backward_diff(f, x, h=1e-6):\n",
    "    df_ = (f(x)-f(x-h)) / h\n",
    "    return df_"
   ]
  },
  {
   "cell_type": "code",
   "execution_count": 15,
   "id": "c29b3c82",
   "metadata": {},
   "outputs": [
    {
     "data": {
      "text/plain": [
       "-2.0000009999243673"
      ]
     },
     "execution_count": 15,
     "metadata": {},
     "output_type": "execute_result"
    }
   ],
   "source": [
    "backward_diff(f, -1)"
   ]
  },
  {
   "cell_type": "markdown",
   "id": "e6d53f66",
   "metadata": {},
   "source": [
    "- 중심차분\n",
    " - 전방차분과 후방차분보다 오차가 적어서 주로 사용"
   ]
  },
  {
   "cell_type": "code",
   "execution_count": 17,
   "id": "abb461f4",
   "metadata": {},
   "outputs": [],
   "source": [
    "def central_diff(f, x, h=1e-6):\n",
    "    df_ = (f(x + 0.5*h)-f(x - 0.5*h)) / h\n",
    "    return df_"
   ]
  },
  {
   "cell_type": "code",
   "execution_count": 18,
   "id": "0caded58",
   "metadata": {},
   "outputs": [
    {
     "data": {
      "text/plain": [
       "-2.0000000000575113"
      ]
     },
     "execution_count": 18,
     "metadata": {},
     "output_type": "execute_result"
    }
   ],
   "source": [
    "central_diff(f, -1)"
   ]
  },
  {
   "cell_type": "code",
   "execution_count": 23,
   "id": "50632bd3",
   "metadata": {},
   "outputs": [
    {
     "name": "stdout",
     "output_type": "stream",
     "text": [
      "-2.00000000, -2.00000000, 0.00000000\n",
      "-2.00000000, -2.00000000, 0.00000000\n",
      "-2.00000000, -1.99999999, 0.00000001\n"
     ]
    }
   ],
   "source": [
    "# 오차 계산\n",
    "for h in [1e-4, 1e-6, 1e-8]:\n",
    "    cf = central_diff(f, -1, h)\n",
    "    print(f'{df(-1):.8f}, {cf:.8f}, {abs(df(-1)-cf):.8f}')"
   ]
  },
  {
   "cell_type": "markdown",
   "id": "33f6bb54",
   "metadata": {},
   "source": [
    "h값이 작을 수록 정확도가 높은 것은 아님.\\\n",
    "32비트 연산 수행시 1e-6의 계산정확도가 가장 높음"
   ]
  },
  {
   "cell_type": "code",
   "execution_count": 24,
   "id": "c4d9618a",
   "metadata": {},
   "outputs": [
    {
     "name": "stdout",
     "output_type": "stream",
     "text": [
      "-2.00000000, -2.00000000, 0.00000000\n",
      "-1.00000000, -1.00000000, 0.00000000\n",
      "-5.80000000, -5.80000000, 0.00000000\n",
      "-0.02000000, -0.02000000, 0.00000000\n",
      "-0.00000200, -0.00000200, 0.00000000\n"
     ]
    }
   ],
   "source": [
    "# x 변화에 따른 도함수 변화\n",
    "for x in [-1e0, -5e-1, -2.4-5e-1, -1e-2, -1e-6]:\n",
    "    cf = central_diff(f, x)\n",
    "    print(f'{df(x):.8f}, {cf:.8f}, {abs(df(x)-cf):.8f}')"
   ]
  },
  {
   "cell_type": "markdown",
   "id": "2fca1113",
   "metadata": {},
   "source": [
    "x값이 0에 가까워질 수록 도함수의 값이 0에 가까워짐 -> 기울기가 0이 되는 지점이 최적점"
   ]
  }
 ],
 "metadata": {
  "kernelspec": {
   "display_name": "Python 3 (ipykernel)",
   "language": "python",
   "name": "python3"
  },
  "language_info": {
   "codemirror_mode": {
    "name": "ipython",
    "version": 3
   },
   "file_extension": ".py",
   "mimetype": "text/x-python",
   "name": "python",
   "nbconvert_exporter": "python",
   "pygments_lexer": "ipython3",
   "version": "3.9.7"
  }
 },
 "nbformat": 4,
 "nbformat_minor": 5
}
