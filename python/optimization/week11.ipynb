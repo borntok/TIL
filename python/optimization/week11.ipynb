{
 "cells": [
  {
   "cell_type": "code",
   "execution_count": 1,
   "id": "1c01dbe9",
   "metadata": {},
   "outputs": [],
   "source": [
    "import numpy as np\n",
    "import sympy as sp\n",
    "import matplotlib.pyplot as plt"
   ]
  },
  {
   "cell_type": "markdown",
   "id": "97ebaa4b",
   "metadata": {},
   "source": [
    "### 일변량"
   ]
  },
  {
   "cell_type": "code",
   "execution_count": 2,
   "id": "0821df87",
   "metadata": {},
   "outputs": [],
   "source": [
    "def f(x):\n",
    "    y = x**5 - 8*x**3 + 10*x + 6\n",
    "    return y"
   ]
  },
  {
   "cell_type": "code",
   "execution_count": 3,
   "id": "cbaab668",
   "metadata": {},
   "outputs": [],
   "source": [
    "x = sp.Symbol('x')\n",
    "\n",
    "df = sp.diff(f(x), x)\n",
    "derv = sp.lambdify(x, df, 'numpy')\n",
    "\n",
    "df2 = sp.diff(df, x)\n",
    "derv2 = sp.lambdify(x, df2, 'numpy')"
   ]
  },
  {
   "cell_type": "code",
   "execution_count": 4,
   "id": "22e91334",
   "metadata": {},
   "outputs": [],
   "source": [
    "def uni_newton(f, derv, derv2, x, maxiter=1000, TOL=1e-4, verbose=True):\n",
    "    \n",
    "    y_prev = f(x)\n",
    "    \n",
    "    flag = True\n",
    "    i = 1\n",
    "    \n",
    "    while flag:\n",
    "        x = x - derv(x) / derv2(x)\n",
    "        y = f(x)\n",
    "        \n",
    "        if verbose:\n",
    "            print(f'{i}: y {y:.4f}, x {x}')\n",
    "            \n",
    "        if abs(y_prev - y) < TOL * (abs(y_prev) + TOL) or i >= maxiter:\n",
    "            flag = False\n",
    "        \n",
    "        y_prev = y\n",
    "        \n",
    "        i += 1\n",
    "        \n",
    "    return i, y, x"
   ]
  },
  {
   "cell_type": "code",
   "execution_count": 5,
   "id": "fa4d60bf",
   "metadata": {},
   "outputs": [
    {
     "name": "stdout",
     "output_type": "stream",
     "text": [
      "1: y 18.2541, x -2.09375\n",
      "2: y 18.2588, x -2.083191640773439\n",
      "3: y 18.2588, x -2.0830439415496738\n"
     ]
    },
    {
     "data": {
      "text/plain": [
       "(4, 18.258776371635324, -2.0830439415496738)"
      ]
     },
     "execution_count": 5,
     "metadata": {},
     "output_type": "execute_result"
    }
   ],
   "source": [
    "x_ = -2.\n",
    "uni_newton(f, derv, derv2, x_)"
   ]
  },
  {
   "cell_type": "code",
   "execution_count": 6,
   "id": "da0dbafa",
   "metadata": {},
   "outputs": [
    {
     "name": "stdout",
     "output_type": "stream",
     "text": [
      "1: y 1.5700, x -0.6785714285714286\n",
      "2: y 1.5700, x -0.678916872445483\n"
     ]
    },
    {
     "data": {
      "text/plain": [
       "(3, 1.5700471932271682, -0.678916872445483)"
      ]
     },
     "execution_count": 6,
     "metadata": {},
     "output_type": "execute_result"
    }
   ],
   "source": [
    "x_ = -1.\n",
    "uni_newton(f, derv, derv2, x_)"
   ]
  },
  {
   "cell_type": "code",
   "execution_count": 7,
   "id": "130683f9",
   "metadata": {},
   "outputs": [],
   "source": [
    "def secant(f, derv, x0, x1, epsilon=1e-7, maxiter=1000, TOL=1e-4, verbose=True):\n",
    "    \n",
    "    y_prev = f(x0)\n",
    "    \n",
    "    flag = True\n",
    "    i = 1\n",
    "    \n",
    "    while flag:\n",
    "        x = x1 - ((x1-x0) / (derv(x1)-derv(x0)+epsilon))*derv(x1)\n",
    "        y = f(x)\n",
    "        \n",
    "        if verbose:\n",
    "            print(f'{i}: y {y:.4f}, x {x}')\n",
    "            \n",
    "        if abs(y_prev - y) < TOL * (abs(y_prev) + TOL) or i >= maxiter:\n",
    "            flag = False\n",
    "        \n",
    "        y_prev, x0, x1 = y, x1, x\n",
    "        \n",
    "        i += 1\n",
    "        \n",
    "    return i, y, x1"
   ]
  },
  {
   "cell_type": "code",
   "execution_count": 8,
   "id": "d411f03d",
   "metadata": {},
   "outputs": [
    {
     "name": "stdout",
     "output_type": "stream",
     "text": [
      "1: y 18.2298, x -2.1094990457067073\n",
      "2: y 18.2566, x -2.0756495693716843\n",
      "3: y 18.2588, x -2.0827912875794885\n",
      "4: y 18.2588, x -2.0830463853224876\n"
     ]
    },
    {
     "data": {
      "text/plain": [
       "(5, 18.258776371388443, -2.0830463853224876)"
      ]
     },
     "execution_count": 8,
     "metadata": {},
     "output_type": "execute_result"
    }
   ],
   "source": [
    "secant(f, derv, -2, -1.9)"
   ]
  },
  {
   "cell_type": "code",
   "execution_count": 9,
   "id": "1ac9884d",
   "metadata": {},
   "outputs": [
    {
     "name": "stdout",
     "output_type": "stream",
     "text": [
      "1: y 1.5703, x -0.683154381863954\n",
      "2: y 1.5700, x -0.6791473814794973\n",
      "3: y 1.5700, x -0.6789172010733289\n"
     ]
    },
    {
     "data": {
      "text/plain": [
       "(4, 1.570047193228989, -0.6789172010733289)"
      ]
     },
     "execution_count": 9,
     "metadata": {},
     "output_type": "execute_result"
    }
   ],
   "source": [
    "secant(f, derv, -1, -0.9)"
   ]
  },
  {
   "cell_type": "markdown",
   "id": "ce92d81d",
   "metadata": {},
   "source": [
    "### 다변량"
   ]
  },
  {
   "cell_type": "code",
   "execution_count": 12,
   "id": "da7d6c9b",
   "metadata": {},
   "outputs": [],
   "source": [
    "def draw_booth(levels):\n",
    "    \n",
    "    boothfunction = lambda x1, x2: (x1 + 2*x2 - 7)**2 + (2*x1 + x2 - 5)**2\n",
    "    \n",
    "    X1, X2 = np.meshgrid(np.linspace(-10.0, 10.0, 400), np.linspace(-10.0, 10.0, 400))\n",
    "    Y = boothfunction(X1, X2)\n",
    "    \n",
    "    plt.figure(figsize=(8, 8))\n",
    "    plt.contour(X1, X2, Y, np.logspace(-2.0, 2.0, levels, base=10))\n",
    "    plt.xlabel('x1')\n",
    "    plt.ylabel('x2')\n",
    "    plt.show()"
   ]
  },
  {
   "cell_type": "code",
   "execution_count": 13,
   "id": "36b9be00",
   "metadata": {
    "scrolled": false
   },
   "outputs": [
    {
     "data": {
      "image/png": "[encoded data removed]",
      "text/plain": [
       "<Figure size 576x576 with 1 Axes>"
      ]
     },
     "metadata": {
      "needs_background": "light"
     },
     "output_type": "display_data"
    }
   ],
   "source": [
    "draw_booth(10)"
   ]
  },
  {
   "cell_type": "code",
   "execution_count": 14,
   "id": "d9ca2942",
   "metadata": {},
   "outputs": [],
   "source": [
    "def f(x):\n",
    "    return (x[0] + 2*x[1] - 7)**2 + (2*x[0] + x[1] - 5)**2"
   ]
  },
  {
   "cell_type": "code",
   "execution_count": 15,
   "id": "20d594f7",
   "metadata": {},
   "outputs": [],
   "source": [
    "x = sp.IndexedBase('x')\n",
    "gradients = np.array([sp.diff(f(x), x[i]) for i in range(2)])\n",
    "grads = sp.lambdify(x, gradients, 'numpy')"
   ]
  },
  {
   "cell_type": "code",
   "execution_count": 16,
   "id": "a84c5ae8",
   "metadata": {},
   "outputs": [],
   "source": [
    "hessian = np.asarray([[sp.diff(gradients[i], x[j]) for i in range(2)] for j in range(2)])"
   ]
  },
  {
   "cell_type": "code",
   "execution_count": 18,
   "id": "b3335319",
   "metadata": {},
   "outputs": [
    {
     "data": {
      "text/plain": [
       "array([10*x[0] + 8*x[1] - 34, 8*x[0] + 10*x[1] - 38], dtype=object)"
      ]
     },
     "execution_count": 18,
     "metadata": {},
     "output_type": "execute_result"
    }
   ],
   "source": [
    "gradients"
   ]
  },
  {
   "cell_type": "code",
   "execution_count": 19,
   "id": "6103da16",
   "metadata": {},
   "outputs": [
    {
     "data": {
      "text/plain": [
       "array([[10, 8],\n",
       "       [8, 10]], dtype=object)"
      ]
     },
     "execution_count": 19,
     "metadata": {},
     "output_type": "execute_result"
    }
   ],
   "source": [
    "hessian #정방행렬, 대칭행렬 -> 분산,공분산 행렬과 유사"
   ]
  },
  {
   "cell_type": "code",
   "execution_count": 20,
   "id": "ccd1a0a0",
   "metadata": {},
   "outputs": [],
   "source": [
    "hess = sp.lambdify(x, hessian, 'numpy')"
   ]
  },
  {
   "cell_type": "code",
   "execution_count": 24,
   "id": "a7319d37",
   "metadata": {},
   "outputs": [
    {
     "data": {
      "text/plain": [
       "array([1., 3.])"
      ]
     },
     "execution_count": 24,
     "metadata": {},
     "output_type": "execute_result"
    }
   ],
   "source": [
    "x_ = [1., 1.]\n",
    "x_ - np.dot(np.linalg.inv(hess(x_)), grads(x_))"
   ]
  },
  {
   "cell_type": "code",
   "execution_count": 25,
   "id": "a603670e",
   "metadata": {},
   "outputs": [],
   "source": [
    "def newton(f, grads, hessian, x, maxiter=1000, TOL=1e-4, verbose=True):\n",
    "    \n",
    "    y_prev = f(x)\n",
    "    \n",
    "    flag = True\n",
    "    i = 1\n",
    "    \n",
    "    while flag:\n",
    "        \n",
    "        x = x - np.dot(np.linalg.inv(hess(x)), grads(x))\n",
    "        y = f(x)\n",
    "        \n",
    "        if verbose:\n",
    "            print(f'{i}: y {y:.4f}, x {x}')\n",
    "            \n",
    "        if abs(y_prev - y) < TOL * (abs(y_prev) + TOL) or i >= maxiter:\n",
    "            flag = False\n",
    "        \n",
    "        y_prev = y\n",
    "        \n",
    "        i += 1\n",
    "        \n",
    "    return i, y, x"
   ]
  },
  {
   "cell_type": "code",
   "execution_count": 26,
   "id": "d3ac7ddd",
   "metadata": {},
   "outputs": [
    {
     "name": "stdout",
     "output_type": "stream",
     "text": [
      "1: y 0.0000, x [1. 3.]\n",
      "2: y 0.0000, x [1. 3.]\n"
     ]
    },
    {
     "data": {
      "text/plain": [
       "(3, 0.0, array([1., 3.]))"
      ]
     },
     "execution_count": 26,
     "metadata": {},
     "output_type": "execute_result"
    }
   ],
   "source": [
    "newton(f, grads, hess, x_)"
   ]
  },
  {
   "cell_type": "code",
   "execution_count": 28,
   "id": "1dda4c5d",
   "metadata": {},
   "outputs": [],
   "source": [
    "# Rosenbrock\n",
    "def f(x, a=1, b=5):\n",
    "    y = (a - x[0])**2 + b*(x[1] - x[0]**2)**2\n",
    "    return y"
   ]
  },
  {
   "cell_type": "code",
   "execution_count": 29,
   "id": "a7c21182",
   "metadata": {},
   "outputs": [],
   "source": [
    "x = sp.IndexedBase('x')\n",
    "gradients = np.array([sp.diff(f(x), x[i]) for i in range(2)])\n",
    "grads = sp.lambdify(x, gradients, 'numpy')\n",
    "\n",
    "hessian = np.asarray([[sp.diff(gradients[i], x[j]) for i in range(2)] for j in range(2)])\n",
    "hess = sp.lambdify(x, hessian, 'numpy')"
   ]
  },
  {
   "cell_type": "code",
   "execution_count": 30,
   "id": "985252b4",
   "metadata": {},
   "outputs": [
    {
     "name": "stdout",
     "output_type": "stream",
     "text": [
      "1: y 8.1653, x [-1.85714286  3.42857143]\n",
      "2: y 158.7509, x [ 0.5157385  -5.36457973]\n",
      "3: y 0.2264, x [0.524189  0.2747027]\n",
      "4: y 0.2555, x [0.99966046 0.77324793]\n",
      "5: y 0.0000, x [0.99976459 0.99952923]\n",
      "6: y 0.0000, x [1.         0.99999994]\n",
      "7: y 0.0000, x [1. 1.]\n"
     ]
    },
    {
     "data": {
      "text/plain": [
       "(8, 5.053640174072107e-31, array([1., 1.]))"
      ]
     },
     "execution_count": 30,
     "metadata": {},
     "output_type": "execute_result"
    }
   ],
   "source": [
    "x_ = [-2., 2.]\n",
    "newton(f, grads, hess, x_)"
   ]
  }
 ],
 "metadata": {
  "kernelspec": {
   "display_name": "Python 3 (ipykernel)",
   "language": "python",
   "name": "python3"
  },
  "language_info": {
   "codemirror_mode": {
    "name": "ipython",
    "version": 3
   },
   "file_extension": ".py",
   "mimetype": "text/x-python",
   "name": "python",
   "nbconvert_exporter": "python",
   "pygments_lexer": "ipython3",
   "version": "3.9.7"
  }
 },
 "nbformat": 4,
 "nbformat_minor": 5
}
