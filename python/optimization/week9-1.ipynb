{
 "cells": [
  {
   "cell_type": "code",
   "execution_count": 1,
   "id": "468becff",
   "metadata": {},
   "outputs": [],
   "source": [
    "import numpy as np\n",
    "import seaborn as sns\n",
    "import matplotlib.pyplot as plt"
   ]
  },
  {
   "cell_type": "code",
   "execution_count": 2,
   "id": "649f8575",
   "metadata": {},
   "outputs": [],
   "source": [
    "def f(x):\n",
    "    y = x**5 - 8*x**3 + 10*x + 6\n",
    "    return y"
   ]
  },
  {
   "cell_type": "code",
   "execution_count": 3,
   "id": "1b40cff5",
   "metadata": {},
   "outputs": [],
   "source": [
    "x = np.arange(-3.0, 3.0, 0.1)"
   ]
  },
  {
   "cell_type": "code",
   "execution_count": 4,
   "id": "fb1a1156",
   "metadata": {},
   "outputs": [
    {
     "data": {
      "image/png": "[encoded data removed]",
      "text/plain": [
       "<Figure size 720x360 with 1 Axes>"
      ]
     },
     "metadata": {
      "needs_background": "light"
     },
     "output_type": "display_data"
    }
   ],
   "source": [
    "plt.figure(figsize=(10, 5))\n",
    "fig = sns.lineplot(x=x, y=[f(xi) for xi in x])\n",
    "fig.set(xlabel = 'x', ylabel='f(x)', title='y=x**5 - 8*x**3 + 10*x + 6')\n",
    "plt.show()"
   ]
  },
  {
   "cell_type": "code",
   "execution_count": 5,
   "id": "1f6dd206",
   "metadata": {},
   "outputs": [],
   "source": [
    "# Bracketing Module\n",
    "\n",
    "import numpy as np\n",
    "\n",
    "\n",
    "def bracket_minimum(f, x, s = 1E-2, k = 2.0, verbose = False):\n",
    "    \n",
    "    a, ya = x, f(x)\n",
    "    b, yb = a + s, f(a + s)\n",
    "\n",
    "    if verbose:\n",
    "        print('init: (a:%.4f, b:%.4f) (ya:%.4f, yb:%.4f)' % (a, b, ya, yb))\n",
    "    \n",
    "    \n",
    "    if yb > ya:\n",
    "        a, b = b, a\n",
    "        ya, yb = yb, ya\n",
    "        s = -s\n",
    "        \n",
    "    while True:\n",
    "        c, yc = b + s, f(b + s)\n",
    "\n",
    "        if verbose:\n",
    "            print('step: (a:%.4f, b:%.4f, c:%.4f) (ya:%.4f, yb:%.4f, yc:%.4f)' % (a, b, c, ya, yb, yc))\n",
    "\n",
    "        if yc > yb:\n",
    "\n",
    "            return (a, c) if a < c else (c, a)\n",
    "\n",
    "        else:\n",
    "            a, ya, b, yb = b, yb, c, yc\n",
    "            s *= k\n",
    "    \n",
    "\n",
    "# braketing by three fold\n",
    "def trifold_search(f, x, verbose = False):\n",
    "    \n",
    "    a, b = bracket_minimum(f, x)\n",
    "    \n",
    "    if verbose:\n",
    "        print('init:(a:%.4f, b:%.4f)' % (a, b))\n",
    "    \n",
    "    distance = abs(a - b)\n",
    "    \n",
    "    i = 1\n",
    "    while distance > 1E-6:\n",
    "    \n",
    "        x1 = a + (1.0 / 3.0) * distance\n",
    "        x2 = a + (2.0 / 3.0) * distance\n",
    "        \n",
    "        y1, y2 = f(x1), f(x2)\n",
    "        \n",
    "        if y1 > y2:\n",
    "            a, b = x1, b\n",
    "        else:\n",
    "            a, b = a, x2\n",
    "            \n",
    "    \n",
    "        distance = abs(a - b)\n",
    "\n",
    "        if verbose:\n",
    "            print('%d:(a:%.4f, b:%.4f)' % (i, a, b))\n",
    "        \n",
    "        i += 1\n",
    "    \n",
    "    x = a + 0.5 * abs(a - b)\n",
    "    y = f(x)\n",
    "    \n",
    "    return i, x, y\n",
    "\n",
    "\n",
    "# Algorithm 3.2: p. 39\n",
    "def fibonacci_search(f, x, n, epsilon = 1E-2, verbose = False):\n",
    "    \n",
    "    a, b = bracket_minimum(f, x)\n",
    "    \n",
    "    if verbose:\n",
    "        print('init:(a:%.4f, b:%.4f)' % (a, b))\n",
    "    \n",
    "    psi = 0.5 * (1. + np.sqrt(5))\n",
    "    s = (1. - np.sqrt(5)) / (1. + np.sqrt(5))\n",
    "    \n",
    "    rho = 1. / psi * ((1. - s ** (n + 1)) / (1. - s ** n))\n",
    "    d = rho * b + (1. - rho) * a\n",
    "    \n",
    "    yd = f(d)\n",
    "    \n",
    "    for i in range(1, n):\n",
    "        if i == n - 1:\n",
    "            c = epsilon * a + (1. - epsilon) * d\n",
    "            \n",
    "        else:\n",
    "            c = rho * a + (1. - rho) * b\n",
    "        yc = f(c)\n",
    "        if yc < yd:\n",
    "            b, d, yd = d, c, yc\n",
    "        else:\n",
    "            a, b = b, c\n",
    "    \n",
    "        rho = 1. / psi * ((1. - s ** (n - i + 1)) / (1. - s ** (n - i)))\n",
    "\n",
    "        pa, pb = (a, b) if a < b else (b, a)\n",
    "        \n",
    "        if verbose:\n",
    "            print('%d:(a:%.4f, b:%.4f)' % (i, pa, pb))\n",
    "    \n",
    "    a, b = (a, b) if a < b else (b, a)\n",
    "    \n",
    "    x = a + 0.5 * abs(a - b)\n",
    "    y = f(x)\n",
    "    \n",
    "    return i, x, y\n",
    "\n",
    "\n",
    "# Algorithm 3.3: p.41\n",
    "def golden_section_search(f, x, epsilon = 1E-6, verbose = False):\n",
    "\n",
    "    a, b = bracket_minimum(f, x)\n",
    "    \n",
    "    if verbose:\n",
    "        print('init:(a:%.4f, b:%.4f)' % (a, b))\n",
    "\n",
    "    distance = abs(a - b)\n",
    "\n",
    "    psi = 0.5 * (1. + np.sqrt(5))\n",
    "    rho = psi - 1.\n",
    "    d = rho * b + (1. - rho) * a\n",
    "    yd = f(d)\n",
    "    \n",
    "    i = 1\n",
    "    while distance > epsilon:\n",
    "        c = rho * a + (1. - rho) * b\n",
    "        yc = f(c)\n",
    "        if yc < yd:\n",
    "            b, d, yd = d, c, yc\n",
    "        else:\n",
    "            a, b = b, c\n",
    "  \n",
    "        pa, pb = (a, b) if a < b else (b, a)\n",
    "        \n",
    "        if verbose:\n",
    "            print('%d:(a:%.4f, b:%.4f)' % (i, pa, pb))\n",
    "\n",
    "        distance = abs(pa - pb)\n",
    "        \n",
    "        i += 1\n",
    "        \n",
    "    a, b = (a, b) if a < b else (b, a)\n",
    "    \n",
    "    x = a + 0.5 * abs(a - b)\n",
    "    y = f(x)\n",
    "    \n",
    "    return i, x, y\n",
    "\n",
    "\n",
    "# algorithm 3.7: p.50\n",
    "def bracket_sign_change(df, a, b, k = 2.):\n",
    "    \n",
    "    if a > b:\n",
    "        a, b = b, a\n",
    "    \n",
    "    center, half_width = 0.5 * (b + a), 0.5 * (b - a)\n",
    "    \n",
    "    while df(a) * df(b) > 0:\n",
    "        \n",
    "        half_width *= k\n",
    "        \n",
    "        a = center - half_width\n",
    "        b = center + half_width\n",
    "\n",
    "    return (a, b)\n",
    "    \n",
    "\n",
    "# algorithm 3.6: p.50\n",
    "def bisection(df, init_x, epsilon = 1E-6, verbose = False):\n",
    "    \n",
    "    a, b = bracket_sign_change(df, init_x - epsilon, init_x + epsilon)\n",
    "    \n",
    "    if verbose:\n",
    "        print('init:(a:%.4f, b:%.4f)' % (a, b))\n",
    "\n",
    "    ya, yb = df(a), df(b)\n",
    "\n",
    "    if ya == 0:\n",
    "        b = a\n",
    "    if yb == 0:\n",
    "        a = b\n",
    "    \n",
    "    i = 1\n",
    "    while b - a > epsilon:\n",
    "        \n",
    "        x = 0.5 * (a + b)\n",
    "        y = df(x)\n",
    "        \n",
    "        if y == 0:\n",
    "            a, b = x, x\n",
    "        elif y * ya > 0:\n",
    "            a = x\n",
    "        else:\n",
    "            b = x\n",
    "\n",
    "        if verbose:\n",
    "            print('step %d - a:%.4f, b:%.4f, y:%.4f, ya:%.4f' % (i, a, b, y, ya))\n",
    "        \n",
    "        i += 1\n",
    "        \n",
    "        x = a + 0.5 * abs(a - b)\n",
    "        y = df(x)\n",
    "    \n",
    "    return i, x, y\n",
    "\n"
   ]
  },
  {
   "cell_type": "code",
   "execution_count": 6,
   "id": "091527bc",
   "metadata": {},
   "outputs": [
    {
     "data": {
      "text/plain": [
       "(-1.27, -0.31000000000000005)"
      ]
     },
     "execution_count": 6,
     "metadata": {},
     "output_type": "execute_result"
    }
   ],
   "source": [
    "#find bracket\n",
    "bracket_minimum(f, 0)"
   ]
  },
  {
   "cell_type": "code",
   "execution_count": 7,
   "id": "9eadc1d7",
   "metadata": {},
   "outputs": [
    {
     "data": {
      "text/plain": [
       "(-0.84, -0.35999999999999993)"
      ]
     },
     "execution_count": 7,
     "metadata": {},
     "output_type": "execute_result"
    }
   ],
   "source": [
    "bracket_minimum(f, -1)"
   ]
  },
  {
   "cell_type": "code",
   "execution_count": 8,
   "id": "af39cd27",
   "metadata": {},
   "outputs": [
    {
     "data": {
      "text/plain": [
       "(-1.3599999999999999, 0.5600000000000002)"
      ]
     },
     "execution_count": 8,
     "metadata": {},
     "output_type": "execute_result"
    }
   ],
   "source": [
    "bracket_minimum(f, -2)"
   ]
  },
  {
   "cell_type": "code",
   "execution_count": 9,
   "id": "d317c71f",
   "metadata": {},
   "outputs": [
    {
     "ename": "OverflowError",
     "evalue": "(34, 'Result too large')",
     "output_type": "error",
     "traceback": [
      "\u001b[1;31m---------------------------------------------------------------------------\u001b[0m",
      "\u001b[1;31mOverflowError\u001b[0m                             Traceback (most recent call last)",
      "\u001b[1;32mC:\\Users\\Public\\Documents\\ESTsoft\\CreatorTemp/ipykernel_19244/49404957.py\u001b[0m in \u001b[0;36m<module>\u001b[1;34m\u001b[0m\n\u001b[1;32m----> 1\u001b[1;33m \u001b[0mbracket_minimum\u001b[0m\u001b[1;33m(\u001b[0m\u001b[0mf\u001b[0m\u001b[1;33m,\u001b[0m \u001b[1;33m-\u001b[0m\u001b[1;36m3\u001b[0m\u001b[1;33m)\u001b[0m\u001b[1;33m\u001b[0m\u001b[1;33m\u001b[0m\u001b[0m\n\u001b[0m",
      "\u001b[1;32mC:\\Users\\Public\\Documents\\ESTsoft\\CreatorTemp/ipykernel_19244/4282366874.py\u001b[0m in \u001b[0;36mbracket_minimum\u001b[1;34m(f, x, s, k, verbose)\u001b[0m\n\u001b[0;32m     19\u001b[0m \u001b[1;33m\u001b[0m\u001b[0m\n\u001b[0;32m     20\u001b[0m     \u001b[1;32mwhile\u001b[0m \u001b[1;32mTrue\u001b[0m\u001b[1;33m:\u001b[0m\u001b[1;33m\u001b[0m\u001b[1;33m\u001b[0m\u001b[0m\n\u001b[1;32m---> 21\u001b[1;33m         \u001b[0mc\u001b[0m\u001b[1;33m,\u001b[0m \u001b[0myc\u001b[0m \u001b[1;33m=\u001b[0m \u001b[0mb\u001b[0m \u001b[1;33m+\u001b[0m \u001b[0ms\u001b[0m\u001b[1;33m,\u001b[0m \u001b[0mf\u001b[0m\u001b[1;33m(\u001b[0m\u001b[0mb\u001b[0m \u001b[1;33m+\u001b[0m \u001b[0ms\u001b[0m\u001b[1;33m)\u001b[0m\u001b[1;33m\u001b[0m\u001b[1;33m\u001b[0m\u001b[0m\n\u001b[0m\u001b[0;32m     22\u001b[0m \u001b[1;33m\u001b[0m\u001b[0m\n\u001b[0;32m     23\u001b[0m         \u001b[1;32mif\u001b[0m \u001b[0mverbose\u001b[0m\u001b[1;33m:\u001b[0m\u001b[1;33m\u001b[0m\u001b[1;33m\u001b[0m\u001b[0m\n",
      "\u001b[1;32mC:\\Users\\Public\\Documents\\ESTsoft\\CreatorTemp/ipykernel_19244/506233210.py\u001b[0m in \u001b[0;36mf\u001b[1;34m(x)\u001b[0m\n\u001b[0;32m      1\u001b[0m \u001b[1;32mdef\u001b[0m \u001b[0mf\u001b[0m\u001b[1;33m(\u001b[0m\u001b[0mx\u001b[0m\u001b[1;33m)\u001b[0m\u001b[1;33m:\u001b[0m\u001b[1;33m\u001b[0m\u001b[1;33m\u001b[0m\u001b[0m\n\u001b[1;32m----> 2\u001b[1;33m     \u001b[0my\u001b[0m \u001b[1;33m=\u001b[0m \u001b[0mx\u001b[0m\u001b[1;33m**\u001b[0m\u001b[1;36m5\u001b[0m \u001b[1;33m-\u001b[0m \u001b[1;36m8\u001b[0m\u001b[1;33m*\u001b[0m\u001b[0mx\u001b[0m\u001b[1;33m**\u001b[0m\u001b[1;36m3\u001b[0m \u001b[1;33m+\u001b[0m \u001b[1;36m10\u001b[0m\u001b[1;33m*\u001b[0m\u001b[0mx\u001b[0m \u001b[1;33m+\u001b[0m \u001b[1;36m6\u001b[0m\u001b[1;33m\u001b[0m\u001b[1;33m\u001b[0m\u001b[0m\n\u001b[0m\u001b[0;32m      3\u001b[0m     \u001b[1;32mreturn\u001b[0m \u001b[0my\u001b[0m\u001b[1;33m\u001b[0m\u001b[1;33m\u001b[0m\u001b[0m\n",
      "\u001b[1;31mOverflowError\u001b[0m: (34, 'Result too large')"
     ]
    }
   ],
   "source": [
    "bracket_minimum(f, -3)"
   ]
  },
  {
   "cell_type": "code",
   "execution_count": 10,
   "id": "6c41087e",
   "metadata": {},
   "outputs": [
    {
     "data": {
      "text/plain": [
       "(1.6400000000000001, 3.5600000000000005)"
      ]
     },
     "execution_count": 10,
     "metadata": {},
     "output_type": "execute_result"
    }
   ],
   "source": [
    "bracket_minimum(f, 1)"
   ]
  },
  {
   "cell_type": "code",
   "execution_count": 11,
   "id": "aca4c74e",
   "metadata": {},
   "outputs": [
    {
     "data": {
      "text/plain": [
       "(2.0399999999999996, 2.1599999999999997)"
      ]
     },
     "execution_count": 11,
     "metadata": {},
     "output_type": "execute_result"
    }
   ],
   "source": [
    "bracket_minimum(f, 2)"
   ]
  },
  {
   "cell_type": "code",
   "execution_count": 12,
   "id": "f7b09d21",
   "metadata": {},
   "outputs": [
    {
     "data": {
      "text/plain": [
       "(0.44999999999999996, 2.37)"
      ]
     },
     "execution_count": 12,
     "metadata": {},
     "output_type": "execute_result"
    }
   ],
   "source": [
    "bracket_minimum(f, 3)"
   ]
  },
  {
   "cell_type": "code",
   "execution_count": 13,
   "id": "f8ef04d0",
   "metadata": {},
   "outputs": [
    {
     "data": {
      "text/plain": [
       "(-1.11, 2.73)"
      ]
     },
     "execution_count": 13,
     "metadata": {},
     "output_type": "execute_result"
    }
   ],
   "source": [
    "bracket_minimum(f, 4)"
   ]
  },
  {
   "cell_type": "code",
   "execution_count": 14,
   "id": "0af60a20",
   "metadata": {},
   "outputs": [
    {
     "name": "stdout",
     "output_type": "stream",
     "text": [
      "init:(a:1.6400, b:3.5600)\n",
      "1:(a:1.6400, b:2.9200)\n",
      "2:(a:1.6400, b:2.4933)\n",
      "3:(a:1.9244, b:2.4933)\n",
      "4:(a:1.9244, b:2.3037)\n",
      "5:(a:1.9244, b:2.1773)\n",
      "6:(a:2.0087, b:2.1773)\n",
      "7:(a:2.0087, b:2.1211)\n",
      "8:(a:2.0462, b:2.1211)\n",
      "9:(a:2.0462, b:2.0961)\n",
      "10:(a:2.0628, b:2.0961)\n",
      "11:(a:2.0739, b:2.0961)\n",
      "12:(a:2.0739, b:2.0887)\n",
      "13:(a:2.0789, b:2.0887)\n",
      "14:(a:2.0789, b:2.0854)\n",
      "15:(a:2.0811, b:2.0854)\n",
      "16:(a:2.0811, b:2.0840)\n",
      "17:(a:2.0820, b:2.0840)\n",
      "18:(a:2.0827, b:2.0840)\n",
      "19:(a:2.0827, b:2.0835)\n",
      "20:(a:2.0827, b:2.0833)\n",
      "21:(a:2.0829, b:2.0833)\n",
      "22:(a:2.0829, b:2.0831)\n",
      "23:(a:2.0830, b:2.0831)\n",
      "24:(a:2.0830, b:2.0831)\n",
      "25:(a:2.0830, b:2.0831)\n",
      "26:(a:2.0830, b:2.0831)\n",
      "27:(a:2.0830, b:2.0831)\n",
      "28:(a:2.0830, b:2.0831)\n",
      "29:(a:2.0830, b:2.0831)\n",
      "30:(a:2.0830, b:2.0830)\n",
      "31:(a:2.0830, b:2.0830)\n",
      "32:(a:2.0830, b:2.0830)\n",
      "33:(a:2.0830, b:2.0830)\n",
      "34:(a:2.0830, b:2.0830)\n",
      "35:(a:2.0830, b:2.0830)\n",
      "36:(a:2.0830, b:2.0830)\n"
     ]
    },
    {
     "data": {
      "text/plain": [
       "(37, 2.083043812734811, -6.258776371634944)"
      ]
     },
     "execution_count": 14,
     "metadata": {},
     "output_type": "execute_result"
    }
   ],
   "source": [
    "# trifold\n",
    "trifold_search(f, 1, verbose=True)"
   ]
  },
  {
   "cell_type": "code",
   "execution_count": 15,
   "id": "3ed1beba",
   "metadata": {},
   "outputs": [
    {
     "name": "stdout",
     "output_type": "stream",
     "text": [
      "init:(a:-0.8400, b:-0.3600)\n",
      "1:(a:-0.8400, b:-0.5200)\n",
      "2:(a:-0.7333, b:-0.5200)\n",
      "3:(a:-0.7333, b:-0.5911)\n",
      "4:(a:-0.7333, b:-0.6385)\n",
      "5:(a:-0.7017, b:-0.6385)\n",
      "6:(a:-0.7017, b:-0.6596)\n",
      "7:(a:-0.6877, b:-0.6596)\n",
      "8:(a:-0.6877, b:-0.6690)\n",
      "9:(a:-0.6877, b:-0.6752)\n",
      "10:(a:-0.6835, b:-0.6752)\n",
      "11:(a:-0.6807, b:-0.6752)\n",
      "12:(a:-0.6807, b:-0.6770)\n",
      "13:(a:-0.6807, b:-0.6783)\n",
      "14:(a:-0.6799, b:-0.6783)\n",
      "15:(a:-0.6794, b:-0.6783)\n",
      "16:(a:-0.6794, b:-0.6786)\n",
      "17:(a:-0.6791, b:-0.6786)\n",
      "18:(a:-0.6791, b:-0.6788)\n",
      "19:(a:-0.6790, b:-0.6788)\n",
      "20:(a:-0.6790, b:-0.6789)\n",
      "21:(a:-0.6790, b:-0.6789)\n",
      "22:(a:-0.6789, b:-0.6789)\n",
      "23:(a:-0.6789, b:-0.6789)\n",
      "24:(a:-0.6789, b:-0.6789)\n",
      "25:(a:-0.6789, b:-0.6789)\n",
      "26:(a:-0.6789, b:-0.6789)\n",
      "27:(a:-0.6789, b:-0.6789)\n",
      "28:(a:-0.6789, b:-0.6789)\n",
      "29:(a:-0.6789, b:-0.6789)\n",
      "30:(a:-0.6789, b:-0.6789)\n",
      "31:(a:-0.6789, b:-0.6789)\n",
      "32:(a:-0.6789, b:-0.6789)\n",
      "33:(a:-0.6789, b:-0.6789)\n"
     ]
    },
    {
     "data": {
      "text/plain": [
       "(34, -0.678916665067644, 1.5700471932274827)"
      ]
     },
     "execution_count": 15,
     "metadata": {},
     "output_type": "execute_result"
    }
   ],
   "source": [
    "trifold_search(f, -1, verbose=True)"
   ]
  },
  {
   "cell_type": "code",
   "execution_count": 16,
   "id": "1be107d6",
   "metadata": {},
   "outputs": [
    {
     "data": {
      "text/plain": [
       "(32, 2.0830439537152614, -6.258776371635285)"
      ]
     },
     "execution_count": 16,
     "metadata": {},
     "output_type": "execute_result"
    }
   ],
   "source": [
    "#golden section\n",
    "golden_section_search(f, 1)"
   ]
  },
  {
   "cell_type": "code",
   "execution_count": 17,
   "id": "fdb3583c",
   "metadata": {},
   "outputs": [
    {
     "data": {
      "text/plain": [
       "(29, -0.6789168754193231, 1.5700471932271718)"
      ]
     },
     "execution_count": 17,
     "metadata": {},
     "output_type": "execute_result"
    }
   ],
   "source": [
    "golden_section_search(f, -1)"
   ]
  },
  {
   "cell_type": "code",
   "execution_count": 18,
   "id": "59b4d000",
   "metadata": {},
   "outputs": [
    {
     "name": "stdout",
     "output_type": "stream",
     "text": [
      "5*x**4 - 24*x**2 + 10\n"
     ]
    }
   ],
   "source": [
    "import sympy as sp\n",
    "\n",
    "x = sp.Symbol('x')\n",
    "df = sp.diff(f(x), x)\n",
    "print(df)"
   ]
  },
  {
   "cell_type": "code",
   "execution_count": 20,
   "id": "eed5350f",
   "metadata": {},
   "outputs": [],
   "source": [
    "derv = sp.lambdify(x, df, 'numpy')"
   ]
  },
  {
   "cell_type": "code",
   "execution_count": 24,
   "id": "b50a355f",
   "metadata": {},
   "outputs": [
    {
     "data": {
      "image/png": "[encoded data removed]",
      "text/plain": [
       "<Figure size 720x360 with 1 Axes>"
      ]
     },
     "metadata": {
      "needs_background": "light"
     },
     "output_type": "display_data"
    }
   ],
   "source": [
    "x = np.arange(-3.0, 3.0, 0.1)\n",
    "\n",
    "plt.figure(figsize=(10, 5))\n",
    "fig = sns.lineplot(x=x, y=[derv(xi) for xi in x])\n",
    "fig.set(xlabel='x', ylabel='f(x)', title=\"y\\' = 5*x**4 - 24*x**2 + 10\")\n",
    "fig.axhline(y=0, color='r')\n",
    "plt.show()"
   ]
  },
  {
   "cell_type": "code",
   "execution_count": 25,
   "id": "e38d8bda",
   "metadata": {},
   "outputs": [
    {
     "data": {
      "text/plain": [
       "(0.4757120000140276, 1.5242879999859724)"
      ]
     },
     "execution_count": 25,
     "metadata": {},
     "output_type": "execute_result"
    }
   ],
   "source": [
    "bracket_sign_change(derv, 1 - 1e-6, 1 + 1e-6)"
   ]
  },
  {
   "cell_type": "code",
   "execution_count": 26,
   "id": "d0c10c3c",
   "metadata": {},
   "outputs": [
    {
     "name": "stdout",
     "output_type": "stream",
     "text": [
      "init:(a:0.4757, b:1.5243)\n",
      "step 1 - a:0.4757, b:1.0000, y:-9.0000, ya:4.8248\n",
      "step 2 - a:0.4757, b:0.7379, y:-1.5843, ya:4.8248\n",
      "step 3 - a:0.6068, b:0.7379, y:1.8413, ya:4.8248\n",
      "step 4 - a:0.6723, b:0.7379, y:0.1732, ya:4.8248\n",
      "step 5 - a:0.6723, b:0.7051, y:-0.6958, ya:4.8248\n",
      "step 6 - a:0.6723, b:0.6887, y:-0.2587, ya:4.8248\n",
      "step 7 - a:0.6723, b:0.6805, y:-0.0420, ya:4.8248\n",
      "step 8 - a:0.6764, b:0.6805, y:0.0658, ya:4.8248\n",
      "step 9 - a:0.6785, b:0.6805, y:0.0119, ya:4.8248\n",
      "step 10 - a:0.6785, b:0.6795, y:-0.0150, ya:4.8248\n",
      "step 11 - a:0.6785, b:0.6790, y:-0.0016, ya:4.8248\n",
      "step 12 - a:0.6787, b:0.6790, y:0.0052, ya:4.8248\n",
      "step 13 - a:0.6788, b:0.6790, y:0.0018, ya:4.8248\n",
      "step 14 - a:0.6789, b:0.6790, y:0.0001, ya:4.8248\n",
      "step 15 - a:0.6789, b:0.6789, y:-0.0007, ya:4.8248\n",
      "step 16 - a:0.6789, b:0.6789, y:-0.0003, ya:4.8248\n",
      "step 17 - a:0.6789, b:0.6789, y:-0.0001, ya:4.8248\n",
      "step 18 - a:0.6789, b:0.6789, y:0.0000, ya:4.8248\n",
      "step 19 - a:0.6789, b:0.6789, y:-0.0000, ya:4.8248\n",
      "step 20 - a:0.6789, b:0.6789, y:-0.0000, ya:4.8248\n"
     ]
    },
    {
     "data": {
      "text/plain": [
       "(21, 0.6789165000085907, 8.591050569606296e-06)"
      ]
     },
     "execution_count": 26,
     "metadata": {},
     "output_type": "execute_result"
    }
   ],
   "source": [
    "bisection(derv, 1, verbose=True)"
   ]
  },
  {
   "cell_type": "code",
   "execution_count": 34,
   "id": "0835a30b",
   "metadata": {},
   "outputs": [],
   "source": [
    "# Local Descent\n",
    "\n",
    "# Algorithm 4.1: p.54\n",
    "def line_search(f, x, d):\n",
    "    \n",
    "    def obj(alpha):\n",
    "        \n",
    "            return f(x + alpha * d)\n",
    "            \n",
    "    \n",
    "    a, b = bracket_minimum(obj, 0.)\n",
    "    \n",
    "    _, alpha, _ = golden_section_search(obj, 0.)\n",
    "    \n",
    "    return alpha, x + alpha * d\n",
    "\n",
    "\n",
    "# Algorithm 4.2: p.56\n",
    "def backtracking_line_search(f, grads, x, d, alpha = 10, p = 0.5, beta = 1E-4, verbose = False):\n",
    "    \n",
    "    y, g = f(x), grads(x)\n",
    "    \n",
    "    i = 1\n",
    "    while f(x + alpha * d) > y + beta * alpha * np.dot(g, d): # g.T @ d\n",
    "        \n",
    "        alpha *= p\n",
    "\n",
    "        if verbose:\n",
    "            print('%d: alpha = %.4f' % (i, alpha))\n",
    "        \n",
    "        i += 1\n",
    "        \n",
    "    return alpha\n",
    "\n",
    "\n",
    "# Algorithm 4.3: p.62\n",
    "def strong_backtracking(f, gradient, x, d, alpha = 1.0, beta = 1E-4, sigma = 1E-1, verbose = False):\n",
    "    \n",
    "    y0, g0, y_prev, alpha_prev = f(x), np.dot(gradient(x), d), np.nan, 0.0\n",
    "    alpha_lo, alpha_hi = np.nan, np.nan\n",
    "\n",
    "    # bracket phase\n",
    "    while True:\n",
    "        \n",
    "        y = f(x + alpha * d)\n",
    "        \n",
    "        if y > y0 + beta * alpha * g0 or (not(np.isnan(y_prev)) and y >= y_prev):\n",
    "            alpha_lo, alpha_hi = alpha_prev, alpha\n",
    "            break\n",
    "        \n",
    "        g = np.dot(gradient(x + alpha * d), d)\n",
    "        \n",
    "        if np.abs(g) <= -sigma * g0:\n",
    "            return alpha\n",
    "        elif g >= 0:\n",
    "            alpha_lo, alpha_hi = alpha, alpha_prev\n",
    "            break\n",
    "        \n",
    "        y_prev, alpha_prev, alpha = y, alpha, 2 * alpha\n",
    "    \n",
    "    if verbose:\n",
    "        print('backtracking: alpha %.4f, y %.4f' % (alpha, y))\n",
    "    \n",
    "      \n",
    "    # zoom phase\n",
    "    y_lo = f(x + alpha_lo * d)\n",
    "    \n",
    "    while True:\n",
    "\n",
    "        alpha = 0.5 * (alpha_lo + alpha_hi)\n",
    "        y = f(x + alpha * d)\n",
    "        \n",
    "        if (y > y0 + beta * alpha * g0 ) or (y >= y_lo):\n",
    "            alpha_hi = alpha\n",
    "        else:\n",
    "            g = np.dot(gradient(x + alpha * d), d)\n",
    "            \n",
    "            if abs(g) <= -sigma * g0:\n",
    "                return alpha\n",
    "            elif g * (alpha_hi - alpha_lo) >= 0.0:\n",
    "                alpha_hi = alpha_lo\n",
    "            \n",
    "            alpha_lo = alpha\n",
    "\n",
    "\n",
    "# local descent with backtracking line search\n",
    "def local_descent_backtracking(f, grads, x_, alpha = 1, TOL = 1E-8, verbose = False):\n",
    "\n",
    "    d_ = -1 * np.array(grads(x_))\n",
    "    \n",
    "    alpha = backtracking_line_search(f, grads, x_, d_, alpha)\n",
    "    \n",
    "    if verbose:\n",
    "        print(alpha, x_, f(x_))\n",
    "    \n",
    "    y_prev = f(x_)\n",
    "    \n",
    "    i = 1\n",
    "    flag = True\n",
    "    while flag:\n",
    "    \n",
    "        x_ = x_ + alpha * d_\n",
    "        d_ = -1 * np.array(grads(x_))\n",
    "    \n",
    "        alpha = backtracking_line_search(f, grads, x_, d_, alpha)\n",
    "    \n",
    "        y_ = f(x_)\n",
    "        \n",
    "        diff = np.abs(y_ - y_prev)\n",
    "        \n",
    "        if verbose:\n",
    "            print(i, alpha, x_, f(x_), diff)\n",
    "\n",
    "        if diff < TOL * (abs(y_prev) + TOL):\n",
    "            flag = False\n",
    "   \n",
    "        y_prev = y_\n",
    "        \n",
    "        i += 1\n",
    "\n",
    "    return i, x_, y_\n",
    "\n",
    "\n",
    "# local descent with strong backtracking\n",
    "def local_descent_strong_backtracking(f, grads, x_, alpha = 1, TOL = 1E-8, verbose = False):\n",
    "\n",
    "    d_ = -1 * np.array(grads(x_))\n",
    "    \n",
    "    alpha = strong_backtracking(f, grads, x_, d_, alpha)\n",
    "    \n",
    "    if verbose:\n",
    "        print(alpha, x_, f(x_))\n",
    "    \n",
    "    y_prev = f(x_)\n",
    "    \n",
    "    i = 1\n",
    "    flag = True\n",
    "    while flag:\n",
    "    \n",
    "        x_ = x_ + alpha * d_\n",
    "        d_ = -1 * np.array(grads(x_))\n",
    "    \n",
    "        alpha = strong_backtracking(f, grads, x_, d_, alpha)\n",
    "    \n",
    "        y_ = f(x_)\n",
    "        \n",
    "        diff = np.abs(y_ - y_prev)\n",
    "        \n",
    "        if verbose:\n",
    "            print(i, alpha, x_, f(x_), diff)\n",
    "\n",
    "        if diff < TOL * (abs(y_prev) + TOL):\n",
    "            flag = False\n",
    "    \n",
    "        y_prev = y_\n",
    "        i += 1\n",
    "    \n",
    "    return i, x_, y_\n"
   ]
  },
  {
   "cell_type": "code",
   "execution_count": 28,
   "id": "133cef04",
   "metadata": {},
   "outputs": [
    {
     "data": {
      "text/plain": [
       "(0.6789167287992224, -0.6789167287992224)"
      ]
     },
     "execution_count": 28,
     "metadata": {},
     "output_type": "execute_result"
    }
   ],
   "source": [
    "x = 0\n",
    "d = -1\n",
    "line_search(f, x, d)"
   ]
  },
  {
   "cell_type": "code",
   "execution_count": 29,
   "id": "e9b6e86e",
   "metadata": {},
   "outputs": [],
   "source": [
    "def f(x):\n",
    "    y = x[0]**5 - 8*x[0]**3 + 10*x[0] + 6\n",
    "    return y"
   ]
  },
  {
   "cell_type": "code",
   "execution_count": 30,
   "id": "ef344a1d",
   "metadata": {},
   "outputs": [],
   "source": [
    "x = sp.IndexedBase('x')\n",
    "gradients = np.array([sp.diff(f(x), x[i]) for i in range(1)])\n",
    "grads = sp.lambdify(x, gradients, 'numpy')"
   ]
  },
  {
   "cell_type": "code",
   "execution_count": 31,
   "id": "3556383b",
   "metadata": {},
   "outputs": [
    {
     "data": {
      "text/plain": [
       "(22, array([-0.67888985]), 1.570047202805326)"
      ]
     },
     "execution_count": 31,
     "metadata": {},
     "output_type": "execute_result"
    }
   ],
   "source": [
    "x_ = np.array([-1])\n",
    "local_descent_backtracking(f, grads, x_, 1)"
   ]
  },
  {
   "cell_type": "code",
   "execution_count": 32,
   "id": "5868eda5",
   "metadata": {},
   "outputs": [
    {
     "data": {
      "text/plain": [
       "(10, array([2.0830397]), -6.258776370918298)"
      ]
     },
     "execution_count": 32,
     "metadata": {},
     "output_type": "execute_result"
    }
   ],
   "source": [
    "x_ = np.array([-2])\n",
    "local_descent_backtracking(f, grads, x_, 1)"
   ]
  },
  {
   "cell_type": "code",
   "execution_count": 35,
   "id": "26229eec",
   "metadata": {},
   "outputs": [
    {
     "data": {
      "text/plain": [
       "(5, array([-0.67891722]), 1.5700471932292022)"
      ]
     },
     "execution_count": 35,
     "metadata": {},
     "output_type": "execute_result"
    }
   ],
   "source": [
    "x_ = np.array([-1])\n",
    "local_descent_strong_backtracking(f, grads, x_, 1)"
   ]
  },
  {
   "cell_type": "code",
   "execution_count": 36,
   "id": "d5763764",
   "metadata": {},
   "outputs": [
    {
     "data": {
      "text/plain": [
       "(5, array([2.08304561]), -6.25877637151876)"
      ]
     },
     "execution_count": 36,
     "metadata": {},
     "output_type": "execute_result"
    }
   ],
   "source": [
    "x_ = np.array([-2])\n",
    "local_descent_strong_backtracking(f, grads, x_, 1)"
   ]
  },
  {
   "cell_type": "code",
   "execution_count": 39,
   "id": "ea48c27e",
   "metadata": {},
   "outputs": [],
   "source": [
    "def draw_rosenbrock(a, b, levels):\n",
    "    \n",
    "    rosenbrockfunction = lambda x1, x2: (a - x1)**2 + b*(x2 - x1**2)**2\n",
    "    \n",
    "    X1, X2 = np.meshgrid(np.linspace(-2.0, 2.0, 400), np.linspace(-2.0, 2.0, 400))\n",
    "    Y = rosenbrockfunction(X1, X2)\n",
    "    \n",
    "    plt.figure(figsize=(8, 8))\n",
    "    plt.contour(X1, X2, Y, np.logspace(-2.0, 2.0, levels, base=10))#, cmap='gray') \n",
    "    plt.xlabel('x1')\n",
    "    plt.ylabel('x2')\n",
    "    plt.show()"
   ]
  },
  {
   "cell_type": "code",
   "execution_count": 40,
   "id": "aa97bd61",
   "metadata": {},
   "outputs": [
    {
     "data": {
      "image/png": "[encoded data removed]",
      "text/plain": [
       "<Figure size 576x576 with 1 Axes>"
      ]
     },
     "metadata": {
      "needs_background": "light"
     },
     "output_type": "display_data"
    }
   ],
   "source": [
    "draw_rosenbrock(1, 5, 10)"
   ]
  },
  {
   "cell_type": "code",
   "execution_count": 41,
   "id": "4fbba77e",
   "metadata": {},
   "outputs": [
    {
     "data": {
      "image/png": "[encoded data removed]",
      "text/plain": [
       "<Figure size 576x576 with 1 Axes>"
      ]
     },
     "metadata": {
      "needs_background": "light"
     },
     "output_type": "display_data"
    }
   ],
   "source": [
    "draw_rosenbrock(1, 100, 5)"
   ]
  },
  {
   "cell_type": "code",
   "execution_count": 42,
   "id": "71fa11a6",
   "metadata": {},
   "outputs": [],
   "source": [
    "# Gradient Descent\n",
    "\n",
    "import numpy as np\n",
    "\n",
    "# Algorithm 4.3: p.62\n",
    "def strong_backtracking(f, grads, x, d, alpha = 1.0, beta = 1E-4, sigma = 1E-1, verbose = False):\n",
    "    \n",
    "    y0, g0, y_prev, alpha_prev = f(x), np.dot(grads(x), d), np.nan, 0.0\n",
    "    alpha_lo, alpha_hi = np.nan, np.nan\n",
    "\n",
    "    # bracket phase\n",
    "    while True:\n",
    "        \n",
    "        y = f(x + alpha * d)\n",
    "        \n",
    "        if y > y0 + beta * alpha * g0 or (not(np.isnan(y_prev)) and y >= y_prev):\n",
    "            alpha_lo, alpha_hi = alpha_prev, alpha\n",
    "            break\n",
    "        \n",
    "        g = np.dot(grads(x + alpha * d), d)\n",
    "        \n",
    "        if np.abs(g) <= -sigma * g0:\n",
    "            return alpha\n",
    "        elif g >= 0:\n",
    "            alpha_lo, alpha_hi = alpha, alpha_prev\n",
    "            break\n",
    "        \n",
    "        y_prev, alpha_prev, alpha = y, alpha, 2 * alpha\n",
    "        \n",
    "    if verbose:\n",
    "        print('backtracking: alpha %.4f, y %.4f' % (alpha, y))\n",
    "    \n",
    "    # zoom phase\n",
    "    y_lo = f(x + alpha_lo * d)\n",
    "    \n",
    "    while True:\n",
    "\n",
    "        alpha = 0.5 * (alpha_lo + alpha_hi)\n",
    "        y = f(x + alpha * d)\n",
    "        \n",
    "        if (y > y0 + beta * alpha * g0 ) or (y >= y_lo):\n",
    "            alpha_hi = alpha\n",
    "        else:\n",
    "            g = np.dot(grads(x + alpha * d), d)\n",
    "            \n",
    "            #print(abs(g), -sigma * g0)\n",
    "            \n",
    "            if abs(g) <= -sigma * g0:\n",
    "                return alpha\n",
    "            elif g * (alpha_hi - alpha_lo) >= 0.0:\n",
    "                alpha_hi = alpha_lo\n",
    "            \n",
    "            alpha_lo = alpha\n",
    "\n",
    "            \n",
    "def GradientDescent(f, grads, x, alpha, maxiter = 1000, TOL = 1E-4, verbose = False):\n",
    "    \n",
    "    y_prev = f(x)\n",
    "    \n",
    "    flag = True\n",
    "    i = 1\n",
    "    \n",
    "    while flag:\n",
    "        \n",
    "        g = np.asarray(grads(x))\n",
    "        g = g / np.sqrt(np.dot(g, g))\n",
    "        \n",
    "        x = x + alpha * (-1 * g)\n",
    "        \n",
    "        y = f(x)\n",
    "\n",
    "        if verbose:\n",
    "            print('{}: y {:.4f}, x {}'.format(i, y, x))\n",
    "        \n",
    "        if abs(y_prev - y) < TOL * (abs(y_prev) + TOL) or i >= maxiter:\n",
    "            \n",
    "            flag = False\n",
    "        \n",
    "        y_prev = y\n",
    "        \n",
    "        i += 1\n",
    "        \n",
    "    return i, y, x\n",
    "        \n",
    "    \n",
    "\n",
    "def ConjugateGradient(f, grads, x, method = 'FL', maxiter = 1000, TOL = 1E-4, verbose = False):\n",
    "    \n",
    "    y_prev = f(x)\n",
    "    g_prev = np.asarray(grads(x))\n",
    "    d = -1 * g_prev\n",
    "    \n",
    "    alpha =  strong_backtracking(f, grads, x, d, 1)\n",
    "    x = x + alpha * d\n",
    "    \n",
    "    i = 1\n",
    "    flag = True\n",
    "    while flag:\n",
    "        \n",
    "        g = np.asarray(grads(x))\n",
    "        \n",
    "        if method == 'FL':\n",
    "            beta = (np.dot(g, g)) / (np.dot(g_prev, g_prev)) # Fletcher_Reeves\n",
    "        elif method == 'PR':\n",
    "            beta = (np.dot(g, (g - g_prev))) / (np.dot(g_prev, g_prev)) # Polak-Ribiere\n",
    "            beta = np.max(beta, 0)\n",
    "        else:\n",
    "            beta = (np.dot(g, g)) / (np.dot(g_prev, g_prev)) # Fletcher_Reeves\n",
    "            \n",
    "        d = - g + beta * d\n",
    "        \n",
    "        alpha =  strong_backtracking(f, grads, x, d, 1)\n",
    "\n",
    "        x = x + alpha * d\n",
    "        y = f(x)\n",
    "\n",
    "        if verbose:\n",
    "             print('{}: y {:.4f}, x {}'.format(i, y, x))\n",
    "        \n",
    "        if np.abs(y - y_prev) < TOL * (np.abs(y_prev) + TOL) or i >= maxiter:\n",
    "            \n",
    "            flag = False\n",
    "        \n",
    "        y_prev = y\n",
    "        g_prev = g\n",
    "        \n",
    "        i += 1\n",
    "        \n",
    "    return i, y, x\n",
    "\n"
   ]
  },
  {
   "cell_type": "code",
   "execution_count": 43,
   "id": "5c20038c",
   "metadata": {},
   "outputs": [],
   "source": [
    "# Rosenbrock\n",
    "def f(x, a=1, b=5):\n",
    "    y = (a-x[0])**2 + b*(x[1] - x[0]**2)**2\n",
    "    return y"
   ]
  },
  {
   "cell_type": "code",
   "execution_count": 45,
   "id": "9f6536d4",
   "metadata": {},
   "outputs": [],
   "source": [
    "x = sp.IndexedBase('x')\n",
    "gradients = np.array([sp.diff(f(x), x[i]) for i in range(2)])\n",
    "grads = sp.lambdify(x, gradients, 'numpy')"
   ]
  },
  {
   "cell_type": "code",
   "execution_count": 46,
   "id": "71806fe8",
   "metadata": {},
   "outputs": [],
   "source": [
    "x_ = np.array([-2, 2])\n",
    "alpha = 1e-2"
   ]
  },
  {
   "cell_type": "code",
   "execution_count": 47,
   "id": "7511774a",
   "metadata": {},
   "outputs": [
    {
     "data": {
      "text/plain": [
       "(1001, 0.0007551777863281896, array([1.00438216, 0.99665114]))"
      ]
     },
     "execution_count": 47,
     "metadata": {},
     "output_type": "execute_result"
    }
   ],
   "source": [
    "GradientDescent(f, grads, x_, alpha)"
   ]
  },
  {
   "cell_type": "code",
   "execution_count": 48,
   "id": "b8d83da5",
   "metadata": {},
   "outputs": [
    {
     "data": {
      "text/plain": [
       "(14, 2.891339444529014e-09, array([0.99994733, 0.99988982]))"
      ]
     },
     "execution_count": 48,
     "metadata": {},
     "output_type": "execute_result"
    }
   ],
   "source": [
    "ConjugateGradient(f, grads, x_)"
   ]
  }
 ],
 "metadata": {
  "kernelspec": {
   "display_name": "Python 3 (ipykernel)",
   "language": "python",
   "name": "python3"
  },
  "language_info": {
   "codemirror_mode": {
    "name": "ipython",
    "version": 3
   },
   "file_extension": ".py",
   "mimetype": "text/x-python",
   "name": "python",
   "nbconvert_exporter": "python",
   "pygments_lexer": "ipython3",
   "version": "3.9.7"
  }
 },
 "nbformat": 4,
 "nbformat_minor": 5
}
