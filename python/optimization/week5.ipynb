{
 "cells": [
  {
   "cell_type": "code",
   "execution_count": 1,
   "id": "32a8d4ea",
   "metadata": {},
   "outputs": [],
   "source": [
    "import numpy as np"
   ]
  },
  {
   "cell_type": "code",
   "execution_count": 2,
   "id": "6ce526b3",
   "metadata": {},
   "outputs": [],
   "source": [
    "def bracket_minimum(f, x, s=1e-2, k=2.0):\n",
    "    \n",
    "    a, ya = x, f(x)\n",
    "    b, yb = a+s, f(a+s)\n",
    "    print(f'init: (a:{a:.4f}, b:{b:.4f}), (ya:{ya:.4f}, yb:{yb:.4f})')\n",
    "    \n",
    "    if yb > ya:\n",
    "        a, b = b, a\n",
    "        ya, yb = yb, ya\n",
    "        s = -s\n",
    "    \n",
    "    while True:\n",
    "        c, yc = b+s, f(b+s)\n",
    "        print(f'step: (a:{a:.4f}, b:{b:.4f}, c:{c:.4f}), (ya:{ya:.4f}, yb:{yb:.4f}, yc:{yc:.4f})')\n",
    "        \n",
    "        if yc > yb:\n",
    "            return (a, c) if a < c else (c, a)\n",
    "        else:\n",
    "            a, ya, b, yb = b, yb,c, yc\n",
    "            s *= k"
   ]
  },
  {
   "cell_type": "code",
   "execution_count": 3,
   "id": "048e3ac0",
   "metadata": {},
   "outputs": [],
   "source": [
    "def golden_section_search(f, x, epsilon=1e-6):\n",
    "    \n",
    "    a, b = bracket_minimum(f, x)\n",
    "    print(f'init: (a:{a:.4f}, b:{b:.4f})')\n",
    "    \n",
    "    distance = abs(a-b)\n",
    "    \n",
    "    psi = 0.5 * (1.+np.sqrt(5))\n",
    "    rho = psi ** (-1)\n",
    "    \n",
    "    d = rho*b + (1.-rho)*a\n",
    "    yd = f(d)\n",
    "    \n",
    "    \n",
    "    i = 1\n",
    "    while distance > epsilon:\n",
    "        \n",
    "        c = rho*a + (1.-rho)*b\n",
    "        yc = f(c)\n",
    "        \n",
    "        if yc < yd:\n",
    "            b, d, yd = d, c, yc\n",
    "        else:\n",
    "            a, b = b, c\n",
    "        \n",
    "        pa, pb = (a, b) if a < b else (b, a)\n",
    "        print(f'{i}: (a: {pa:.4f}, b:{pb:.4f})')\n",
    "        \n",
    "        distance = abs(a-b)\n",
    "        \n",
    "        i += 1\n",
    "        \n",
    "    a, b = (a, b) if a < b else (b, a)\n",
    "    \n",
    "    x = 0.5 * (a+b)\n",
    "    y = f(x)\n",
    "    \n",
    "    return x, y"
   ]
  },
  {
   "cell_type": "markdown",
   "id": "ebf45094",
   "metadata": {},
   "source": [
    "## 국소 하강법"
   ]
  },
  {
   "cell_type": "markdown",
   "id": "ab026d91",
   "metadata": {},
   "source": [
    "### 선 탐색"
   ]
  },
  {
   "cell_type": "code",
   "execution_count": 7,
   "id": "cd7d2592",
   "metadata": {},
   "outputs": [],
   "source": [
    "def line_search(f, x, d):\n",
    "    \n",
    "    def obj(alpha):\n",
    "        return f(x + alpha*d)\n",
    "    \n",
    "    alpha, _ = golden_section_search(obj, 0.)\n",
    "    \n",
    "    return alpha, x + alpha*d"
   ]
  },
  {
   "cell_type": "code",
   "execution_count": 5,
   "id": "49ff0022",
   "metadata": {},
   "outputs": [],
   "source": [
    "def f(x):\n",
    "    y = np.sin(x[0] * x[1]) + np.exp(x[1] + x[2]) - x[2]\n",
    "    return y"
   ]
  },
  {
   "cell_type": "code",
   "execution_count": 6,
   "id": "0b4b7490",
   "metadata": {},
   "outputs": [
    {
     "name": "stdout",
     "output_type": "stream",
     "text": [
      "init: (a:0.0000, b:0.0100), (ya:146.3225, yb:143.3978)\n",
      "step: (a:0.0000, b:0.0100, c:0.0200), (ya:146.3225, yb:143.3978, yc:140.5312)\n",
      "step: (a:0.0100, b:0.0200, c:0.0400), (ya:143.3978, yb:140.5312, yc:134.9678)\n",
      "step: (a:0.0200, b:0.0400, c:0.0800), (ya:140.5312, yb:134.9678, yc:124.4890)\n",
      "step: (a:0.0400, b:0.0800, c:0.1600), (ya:134.9678, yb:124.4890, yc:105.8941)\n",
      "step: (a:0.0800, b:0.1600, c:0.3200), (ya:124.4890, yb:105.8941, yc:76.5712)\n",
      "step: (a:0.1600, b:0.3200, c:0.6400), (ya:105.8941, yb:76.5712, yc:39.8823)\n",
      "step: (a:0.3200, b:0.6400, c:1.2800), (ya:76.5712, yb:39.8823, yc:10.4124)\n",
      "step: (a:0.6400, b:1.2800, c:2.5600), (ya:39.8823, yb:10.4124, yc:-0.0843)\n",
      "step: (a:1.2800, b:2.5600, c:5.1200), (ya:10.4124, yb:-0.0843, yc:2.1037)\n",
      "init: (a:1.2800, b:5.1200)\n",
      "1: (a: 1.2800, b:3.6533)\n",
      "2: (a: 2.1865, b:3.6533)\n",
      "3: (a: 2.7467, b:3.6533)\n",
      "4: (a: 2.7467, b:3.3070)\n",
      "5: (a: 2.9607, b:3.3070)\n",
      "6: (a: 2.9607, b:3.1747)\n",
      "7: (a: 3.0425, b:3.1747)\n",
      "8: (a: 3.0930, b:3.1747)\n",
      "9: (a: 3.0930, b:3.1435)\n",
      "10: (a: 3.1123, b:3.1435)\n",
      "11: (a: 3.1123, b:3.1316)\n",
      "12: (a: 3.1197, b:3.1316)\n",
      "13: (a: 3.1242, b:3.1316)\n",
      "14: (a: 3.1242, b:3.1288)\n",
      "15: (a: 3.1260, b:3.1288)\n",
      "16: (a: 3.1260, b:3.1277)\n",
      "17: (a: 3.1266, b:3.1277)\n",
      "18: (a: 3.1266, b:3.1273)\n",
      "19: (a: 3.1269, b:3.1273)\n",
      "20: (a: 3.1269, b:3.1271)\n",
      "21: (a: 3.1270, b:3.1271)\n",
      "22: (a: 3.1270, b:3.1271)\n",
      "23: (a: 3.1270, b:3.1271)\n",
      "24: (a: 3.1270, b:3.1271)\n",
      "25: (a: 3.1270, b:3.1271)\n",
      "26: (a: 3.1270, b:3.1271)\n",
      "27: (a: 3.1270, b:3.1270)\n",
      "28: (a: 3.1270, b:3.1270)\n",
      "29: (a: 3.1270, b:3.1270)\n",
      "30: (a: 3.1270, b:3.1270)\n",
      "31: (a: 3.1270, b:3.1270)\n",
      "32: (a: 3.1270, b:3.1270)\n"
     ]
    },
    {
     "data": {
      "text/plain": [
       "(3.1270454770468, array([ 1.        , -1.12704548, -0.12704548]))"
      ]
     },
     "execution_count": 6,
     "metadata": {},
     "output_type": "execute_result"
    }
   ],
   "source": [
    "x = np.asarray([1, 2, 3])\n",
    "d = np.asarray([0, -1, -1])\n",
    "\n",
    "line_search(f, x, d)"
   ]
  },
  {
   "cell_type": "markdown",
   "id": "c732967f",
   "metadata": {},
   "source": [
    "### 근사 선탐색\n",
    "- 경사도값을 알아야 함"
   ]
  },
  {
   "cell_type": "code",
   "execution_count": 8,
   "id": "bb8a8ed1",
   "metadata": {},
   "outputs": [],
   "source": [
    "def backtracking_line_search(f, gradient, x, d, alpha, p=0.5, beta=1e-4):\n",
    "    \n",
    "    y, g = f(x), gradient\n",
    "    \n",
    "    i = 1\n",
    "    while f(x + alpha*d) > y + beta*alpha*np.dot(g, d):\n",
    "        \n",
    "        alpha *= p\n",
    "        print(f'{i}: alpha={alpha:.4f}')\n",
    "        \n",
    "        i += 1\n",
    "        \n",
    "    return alpha"
   ]
  },
  {
   "cell_type": "code",
   "execution_count": 9,
   "id": "f240bf95",
   "metadata": {},
   "outputs": [],
   "source": [
    "def f(x):\n",
    "    y = x[0]**2 + x[0]*x[1] + x[1]**2\n",
    "    return y"
   ]
  },
  {
   "cell_type": "code",
   "execution_count": 10,
   "id": "ed61060d",
   "metadata": {},
   "outputs": [],
   "source": [
    "def pdf0(x):\n",
    "    return 2*x[0] + x[1]"
   ]
  },
  {
   "cell_type": "code",
   "execution_count": 11,
   "id": "08041685",
   "metadata": {},
   "outputs": [],
   "source": [
    "def pdf1(x):\n",
    "    return 2*x[1] + x[0]"
   ]
  },
  {
   "cell_type": "code",
   "execution_count": 12,
   "id": "202678e8",
   "metadata": {},
   "outputs": [],
   "source": [
    "x = np.asarray([1, 2])\n",
    "d = np.asarray([-1, -1])\n",
    "gradient = np.asarray([pdf0(x), pdf1(x)])"
   ]
  },
  {
   "cell_type": "code",
   "execution_count": 13,
   "id": "4bd1de80",
   "metadata": {},
   "outputs": [],
   "source": [
    "alpha = 10"
   ]
  },
  {
   "cell_type": "code",
   "execution_count": 14,
   "id": "2cffb537",
   "metadata": {},
   "outputs": [
    {
     "name": "stdout",
     "output_type": "stream",
     "text": [
      "1: alpha=5.0000\n",
      "2: alpha=2.5000\n"
     ]
    }
   ],
   "source": [
    "alpha = backtracking_line_search(f, gradient, x, d, alpha)"
   ]
  },
  {
   "cell_type": "code",
   "execution_count": 15,
   "id": "f69e71a2",
   "metadata": {},
   "outputs": [
    {
     "name": "stdout",
     "output_type": "stream",
     "text": [
      "[-1.5 -0.5]\n"
     ]
    }
   ],
   "source": [
    "x = x + alpha*d\n",
    "print(x)"
   ]
  }
 ],
 "metadata": {
  "kernelspec": {
   "display_name": "Python 3 (ipykernel)",
   "language": "python",
   "name": "python3"
  },
  "language_info": {
   "codemirror_mode": {
    "name": "ipython",
    "version": 3
   },
   "file_extension": ".py",
   "mimetype": "text/x-python",
   "name": "python",
   "nbconvert_exporter": "python",
   "pygments_lexer": "ipython3",
   "version": "3.9.7"
  }
 },
 "nbformat": 4,
 "nbformat_minor": 5
}
