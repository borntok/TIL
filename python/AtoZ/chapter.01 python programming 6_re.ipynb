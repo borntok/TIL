{
 "cells": [
  {
   "cell_type": "markdown",
   "metadata": {},
   "source": [
    "## 학습목표\n",
    "1.정규표현식(re)에 대한 이해 및 숙지"
   ]
  },
  {
   "cell_type": "markdown",
   "metadata": {},
   "source": [
    "- 정규표현식\n",
    " - regular expression\n",
    " - 특정 패턴과 일치하는 문자열을 '검색', '치환', '제거'하는 기능을 지원\n",
    " - 정규표현식의 도움 없이 패턴을 찾는 작업(Rule 기반)은 불완전 하거나, 작업의 cost가 높음\n",
    " - e.g) 이메일 형식 판별, 전화번호 형식 판별, 숫자로만 이루어진 문자열 등"
   ]
  },
  {
   "cell_type": "markdown",
   "metadata": {},
   "source": [
    "**raw string**\n",
    "- 문자열 앞에 r이 붙으면 해당 문자열이 구성된 그대로 문자열 반환"
   ]
  },
  {
   "cell_type": "code",
   "execution_count": 1,
   "metadata": {},
   "outputs": [
    {
     "name": "stdout",
     "output_type": "stream",
     "text": [
      "abcdef\n",
      "\n",
      "abcdef\\n\n"
     ]
    }
   ],
   "source": [
    "a = 'abcdef\\n' #escape 문자열\n",
    "print(a)\n",
    "\n",
    "b = r'abcdef\\n'\n",
    "print(b)"
   ]
  },
  {
   "cell_type": "code",
   "execution_count": 8,
   "metadata": {},
   "outputs": [
    {
     "name": "stdout",
     "output_type": "stream",
     "text": [
      "\\    /\\\n",
      " )  ( ')\n",
      "(  /  )\n",
      " \\(__)|\n"
     ]
    }
   ],
   "source": [
    "\n",
    "b = r\" )  ( ')\"\n",
    "c = r'(  /  )'\n",
    "d = r' \\(__)|'\n",
    "print('\\    /\\\\')\n",
    "print(b)\n",
    "print(c)\n",
    "print(d)"
   ]
  },
  {
   "cell_type": "markdown",
   "metadata": {},
   "source": [
    "**기본 패턴**\n",
    "- a, X, 9 등 문자 각각의 character들은 정확히 해당 문자에 일치\n",
    " - e.g) 패턴 test는 test 문자열과 일치\n",
    " - 대소문자의 경우 기본적으로 구별하나, 구별하지 않도록 설정 가능\n",
    "- 몇몇 문자들의 대해서는 예외가 존재하는데, 이들은 특별한 의미로 사용됨\n",
    " - . ^ $ * + ? {} [] \\ | ()\n",
    "- .(마침표) - 어떤 한 개의 character와 일치 (newline(엔터) 제외)\n",
    "\n",
    "- \\w - 문자 character와 일치 [a-zA-Z0-9_]\n",
    "- \\s - 공백 문자와 일치\n",
    "- \\t, \\n, \\r - tab, newline, return\n",
    "- \\d - 숫자 character와 일치 [0-9]\n",
    "- ^ = 시작, $ = 끝 각각 문자열의 시작과 끝을 의미\n",
    "- \\가 붙으면 스페셜한 의미가 사라짐. 예를 들어 \\\\.는 .자체를 의미 \\\\\\는 \\를 의미\n",
    "- 자세한 내용은 링크 참조 http://docs.python.org/3/library/re.html"
   ]
  },
  {
   "cell_type": "markdown",
   "metadata": {},
   "source": [
    "**search method**\n",
    "- 첫번째로 패턴을 찾으면 match 객체를 반환\n",
    "- 패턴을 찾지 못하면 None 반환"
   ]
  },
  {
   "cell_type": "code",
   "execution_count": 9,
   "metadata": {},
   "outputs": [],
   "source": [
    "import re"
   ]
  },
  {
   "cell_type": "code",
   "execution_count": 12,
   "metadata": {},
   "outputs": [
    {
     "name": "stdout",
     "output_type": "stream",
     "text": [
      "0\n",
      "3\n",
      "abc\n"
     ]
    }
   ],
   "source": [
    "m = re.search(r'abc', 'abcdef')\n",
    "print(m.start())\n",
    "print(m.end())\n",
    "print(m.group())"
   ]
  },
  {
   "cell_type": "code",
   "execution_count": 13,
   "metadata": {},
   "outputs": [
    {
     "name": "stdout",
     "output_type": "stream",
     "text": [
      "3\n",
      "6\n",
      "abc\n"
     ]
    }
   ],
   "source": [
    "m = re.search(r'abc', '123abcdef')\n",
    "print(m.start())\n",
    "print(m.end())\n",
    "print(m.group())"
   ]
  },
  {
   "cell_type": "code",
   "execution_count": 15,
   "metadata": {},
   "outputs": [
    {
     "name": "stdout",
     "output_type": "stream",
     "text": [
      "None\n"
     ]
    }
   ],
   "source": [
    "m = re.search(r'abc', '123bcdef')\n",
    "print(m)"
   ]
  },
  {
   "cell_type": "code",
   "execution_count": 16,
   "metadata": {},
   "outputs": [
    {
     "data": {
      "text/plain": [
       "<_sre.SRE_Match object; span=(0, 3), match='112'>"
      ]
     },
     "execution_count": 16,
     "metadata": {},
     "output_type": "execute_result"
    }
   ],
   "source": [
    "m = re.search(r'\\d\\d\\d', '112abcdef119')\n",
    "m"
   ]
  },
  {
   "cell_type": "code",
   "execution_count": 19,
   "metadata": {},
   "outputs": [
    {
     "data": {
      "text/plain": [
       "<_sre.SRE_Match object; span=(0, 4), match='112a'>"
      ]
     },
     "execution_count": 19,
     "metadata": {},
     "output_type": "execute_result"
    }
   ],
   "source": [
    "m = re.search(r'\\d\\d\\d\\w', '112abcdef119')\n",
    "m"
   ]
  },
  {
   "cell_type": "code",
   "execution_count": 21,
   "metadata": {},
   "outputs": [
    {
     "data": {
      "text/plain": [
       "<_sre.SRE_Match object; span=(2, 6), match='$%AB'>"
      ]
     },
     "execution_count": 21,
     "metadata": {},
     "output_type": "execute_result"
    }
   ],
   "source": [
    "m = re.search(r'..\\w\\w', '@#$%ABCDabcd')\n",
    "m"
   ]
  },
  {
   "cell_type": "markdown",
   "metadata": {},
   "source": [
    "#### metacharacters (메타 캐릭터)\n",
    "\n",
    "**[] 문자들의 범위를 나타내기 위해 사용**\n",
    "\n",
    "- [] 내부의 메타 캐릭터는 캐릭터 자체를 나타냄\n",
    "- e.g)\n",
    "- [abck] : a or b or c or k\n",
    "- [abc.^] : a or b or c or . or ^\n",
    "- [a-d] : -와 함께 사용되면 해당 문자 사이의 범위에 속하는 문자 중 하나\n",
    "- [0-9] : 모든 숫자\n",
    "- [a-z] : 모든 소문자\n",
    "- [A-Z] : 모든 대문자\n",
    "- [a-zA-Z0-9] : 모든 알파벳 및 숫자\n",
    "- [^0-9] : ^가 맨 앞에 사용되는 경우 해당 문자 패턴이 아닌 것과 매칭"
   ]
  },
  {
   "cell_type": "code",
   "execution_count": 22,
   "metadata": {},
   "outputs": [
    {
     "data": {
      "text/plain": [
       "<_sre.SRE_Match object; span=(0, 3), match='cat'>"
      ]
     },
     "execution_count": 22,
     "metadata": {},
     "output_type": "execute_result"
    }
   ],
   "source": [
    "re.search(r'[cbm]at', 'cat')"
   ]
  },
  {
   "cell_type": "code",
   "execution_count": 37,
   "metadata": {},
   "outputs": [
    {
     "data": {
      "text/plain": [
       "<re.Match object; span=(1, 4), match='bat'>"
      ]
     },
     "execution_count": 37,
     "metadata": {},
     "output_type": "execute_result"
    }
   ],
   "source": [
    "re.search(r'[cbm]at', 'cbat')"
   ]
  },
  {
   "cell_type": "code",
   "execution_count": 25,
   "metadata": {},
   "outputs": [],
   "source": [
    "re.search(r'[cbm]at', 'aat')"
   ]
  },
  {
   "cell_type": "code",
   "execution_count": 26,
   "metadata": {},
   "outputs": [
    {
     "data": {
      "text/plain": [
       "<_sre.SRE_Match object; span=(0, 5), match='1haha'>"
      ]
     },
     "execution_count": 26,
     "metadata": {},
     "output_type": "execute_result"
    }
   ],
   "source": [
    "re.search(r'[0-9]haha', '1hahaha')"
   ]
  },
  {
   "cell_type": "code",
   "execution_count": 27,
   "metadata": {},
   "outputs": [],
   "source": [
    "re.search(r'[0-4]haha', '7hahaha')"
   ]
  },
  {
   "cell_type": "code",
   "execution_count": 29,
   "metadata": {},
   "outputs": [
    {
     "data": {
      "text/plain": [
       "<_sre.SRE_Match object; span=(0, 5), match='.aron'>"
      ]
     },
     "execution_count": 29,
     "metadata": {},
     "output_type": "execute_result"
    }
   ],
   "source": [
    "re.search(r'[abc.^]aron', '.aron')"
   ]
  },
  {
   "cell_type": "code",
   "execution_count": 30,
   "metadata": {},
   "outputs": [],
   "source": [
    "re.search(r'[^abc]aron', 'aaron')"
   ]
  },
  {
   "cell_type": "code",
   "execution_count": 31,
   "metadata": {},
   "outputs": [
    {
     "data": {
      "text/plain": [
       "<_sre.SRE_Match object; span=(0, 5), match='#aron'>"
      ]
     },
     "execution_count": 31,
     "metadata": {},
     "output_type": "execute_result"
    }
   ],
   "source": [
    "re.search(r'[^abc]aron', '#aron')"
   ]
  },
  {
   "cell_type": "markdown",
   "metadata": {},
   "source": [
    "## \\\n",
    "1. 다른 문자와 함께 사용되어 특수한 의미를 지님\n",
    " - \\d : 숫자 [0-9]와 동일\n",
    " - \\D : 숫자가 아닌 문자 [^0-9]와 동일\n",
    " - \\s : 공백 문자(띄어쓰기, 탭, 엔터 등)\n",
    " - \\S : 공백이 아닌 문자\n",
    " - \\w : 알파벳 대소문자, 숫자 [a-zA-Z0-9]와 동일\n",
    " - \\W : non Alpha-numeric 문자 [^a-zA-Z0-9]와 동일\n",
    "2. 메타 캐릭터가 캐릭터 자체를 표현하도록 할 경우 사용\n",
    " - \\\\., \\\\\\"
   ]
  },
  {
   "cell_type": "code",
   "execution_count": 32,
   "metadata": {},
   "outputs": [
    {
     "data": {
      "text/plain": [
       "<_sre.SRE_Match object; span=(5, 9), match=' and'>"
      ]
     },
     "execution_count": 32,
     "metadata": {},
     "output_type": "execute_result"
    }
   ],
   "source": [
    "re.search(r'\\sand', 'apple and banana')"
   ]
  },
  {
   "cell_type": "code",
   "execution_count": 33,
   "metadata": {},
   "outputs": [
    {
     "data": {
      "text/plain": [
       "<_sre.SRE_Match object; span=(6, 10), match='land'>"
      ]
     },
     "execution_count": 33,
     "metadata": {},
     "output_type": "execute_result"
    }
   ],
   "source": [
    "re.search(r'\\Sand', 'apple land banana')"
   ]
  },
  {
   "cell_type": "code",
   "execution_count": 35,
   "metadata": {},
   "outputs": [],
   "source": [
    "re.search(r'\\.and', 'panda')"
   ]
  },
  {
   "cell_type": "code",
   "execution_count": 34,
   "metadata": {},
   "outputs": [
    {
     "data": {
      "text/plain": [
       "<_sre.SRE_Match object; span=(0, 4), match='.and'>"
      ]
     },
     "execution_count": 34,
     "metadata": {},
     "output_type": "execute_result"
    }
   ],
   "source": [
    "re.search(r'\\.and', '.and')"
   ]
  },
  {
   "cell_type": "markdown",
   "metadata": {},
   "source": [
    "### .\n",
    "- 모든 문자를 의미"
   ]
  },
  {
   "cell_type": "code",
   "execution_count": 36,
   "metadata": {},
   "outputs": [
    {
     "data": {
      "text/plain": [
       "<_sre.SRE_Match object; span=(0, 3), match='pig'>"
      ]
     },
     "execution_count": 36,
     "metadata": {},
     "output_type": "execute_result"
    }
   ],
   "source": [
    "re.search(r'p.g', 'pig')"
   ]
  },
  {
   "cell_type": "markdown",
   "metadata": {},
   "source": [
    "**반복 패턴**\n",
    "- 패턴 뒤에 위치하는 +, *, ?는 해당 패턴이 반복적으로 존재하는지 검사\n",
    " - '+' -> 1번 이상의 패턴이 발생\n",
    " - '*' -> 0번 이상의 패턴이 발생\n",
    " - '?' -> 0 혹은 1번의 패턴이 발생\n",
    "- 패턴의 경우 반복을 greedy하게 검색함. 즉 가능한 많은 부분이 매칭되도록 함\n",
    " - e.g) a[bcd]*b 패턴을 abcbdccb에서 검색하는 경우\n",
    "    - ab, abcb, abcbdccb 전부 가능하지만 최대한 많은 부분이 매칭된 abcbdccb가 검색됨"
   ]
  },
  {
   "cell_type": "code",
   "execution_count": 37,
   "metadata": {},
   "outputs": [
    {
     "data": {
      "text/plain": [
       "<_sre.SRE_Match object; span=(0, 8), match='abcbdccb'>"
      ]
     },
     "execution_count": 37,
     "metadata": {},
     "output_type": "execute_result"
    }
   ],
   "source": [
    "re.search(r'a[bcd]*b', 'abcbdccb')"
   ]
  },
  {
   "cell_type": "code",
   "execution_count": 38,
   "metadata": {},
   "outputs": [
    {
     "data": {
      "text/plain": [
       "<_sre.SRE_Match object; span=(0, 6), match='banana'>"
      ]
     },
     "execution_count": 38,
     "metadata": {},
     "output_type": "execute_result"
    }
   ],
   "source": [
    "re.search(r'b\\w+a', 'banana')"
   ]
  },
  {
   "cell_type": "code",
   "execution_count": 39,
   "metadata": {},
   "outputs": [
    {
     "data": {
      "text/plain": [
       "<_sre.SRE_Match object; span=(1, 3), match='ii'>"
      ]
     },
     "execution_count": 39,
     "metadata": {},
     "output_type": "execute_result"
    }
   ],
   "source": [
    "re.search(r'i+', 'piigiii')"
   ]
  },
  {
   "cell_type": "code",
   "execution_count": 42,
   "metadata": {},
   "outputs": [
    {
     "data": {
      "text/plain": [
       "<_sre.SRE_Match object; span=(0, 4), match='piig'>"
      ]
     },
     "execution_count": 42,
     "metadata": {},
     "output_type": "execute_result"
    }
   ],
   "source": [
    "re.search(r'pi+g', 'piig')"
   ]
  },
  {
   "cell_type": "code",
   "execution_count": 43,
   "metadata": {},
   "outputs": [
    {
     "data": {
      "text/plain": [
       "<_sre.SRE_Match object; span=(0, 4), match='piig'>"
      ]
     },
     "execution_count": 43,
     "metadata": {},
     "output_type": "execute_result"
    }
   ],
   "source": [
    "re.search(r'pi*g', 'piig')"
   ]
  },
  {
   "cell_type": "code",
   "execution_count": 44,
   "metadata": {},
   "outputs": [],
   "source": [
    "re.search(r'pi+g', 'pg')"
   ]
  },
  {
   "cell_type": "code",
   "execution_count": 45,
   "metadata": {},
   "outputs": [
    {
     "data": {
      "text/plain": [
       "<_sre.SRE_Match object; span=(0, 2), match='pg'>"
      ]
     },
     "execution_count": 45,
     "metadata": {},
     "output_type": "execute_result"
    }
   ],
   "source": [
    "re.search(r'pi*g', 'pg')"
   ]
  },
  {
   "cell_type": "code",
   "execution_count": 47,
   "metadata": {},
   "outputs": [
    {
     "data": {
      "text/plain": [
       "<_sre.SRE_Match object; span=(0, 4), match='http'>"
      ]
     },
     "execution_count": 47,
     "metadata": {},
     "output_type": "execute_result"
    }
   ],
   "source": [
    "re.search(r'https?', 'http://www.naver.com')"
   ]
  },
  {
   "cell_type": "markdown",
   "metadata": {},
   "source": [
    "** ^***, ***$ **\n",
    "\n",
    "- ^ 문자열의 맨 앞부터 일치하는 경우 검색\n",
    "- $ 문자열의 맨 뒤부터 일치하는 경우 검색"
   ]
  },
  {
   "cell_type": "code",
   "execution_count": 48,
   "metadata": {},
   "outputs": [
    {
     "data": {
      "text/plain": [
       "<_sre.SRE_Match object; span=(2, 6), match='bana'>"
      ]
     },
     "execution_count": 48,
     "metadata": {},
     "output_type": "execute_result"
    }
   ],
   "source": [
    "re.search(r'b\\w+a', 'cabana')"
   ]
  },
  {
   "cell_type": "code",
   "execution_count": 49,
   "metadata": {},
   "outputs": [],
   "source": [
    "re.search(r'^b\\w+a', 'cabana')"
   ]
  },
  {
   "cell_type": "code",
   "execution_count": 51,
   "metadata": {},
   "outputs": [
    {
     "data": {
      "text/plain": [
       "<_sre.SRE_Match object; span=(0, 6), match='babana'>"
      ]
     },
     "execution_count": 51,
     "metadata": {},
     "output_type": "execute_result"
    }
   ],
   "source": [
    "re.search(r'^b\\w+a', 'babana')"
   ]
  },
  {
   "cell_type": "code",
   "execution_count": 53,
   "metadata": {},
   "outputs": [
    {
     "data": {
      "text/plain": [
       "<_sre.SRE_Match object; span=(2, 6), match='bana'>"
      ]
     },
     "execution_count": 53,
     "metadata": {},
     "output_type": "execute_result"
    }
   ],
   "source": [
    "re.search(r'b\\w+a$', 'cabana')"
   ]
  },
  {
   "cell_type": "code",
   "execution_count": 54,
   "metadata": {},
   "outputs": [],
   "source": [
    "re.search(r'b\\w+a$', 'cabanap')"
   ]
  },
  {
   "cell_type": "markdown",
   "metadata": {},
   "source": [
    "**grouping**\n",
    "- ()을 사용하여 그루핑\n",
    "- 매칭 결과를 각 그룹별로 분리 가능\n",
    "- 패턴을 명시할 때, 각 그룹을 괄호() 안에 넣어 분리하여 사용"
   ]
  },
  {
   "cell_type": "code",
   "execution_count": 64,
   "metadata": {},
   "outputs": [
    {
     "name": "stdout",
     "output_type": "stream",
     "text": [
      "test\n",
      "gmail.com\n",
      "test@gmail.com\n"
     ]
    }
   ],
   "source": [
    "m = re.search(r'(\\w+)@(.+)', 'test@gmail.com')\n",
    "print(m.group(1))\n",
    "print(m.group(2))\n",
    "print(m.group(0))"
   ]
  },
  {
   "cell_type": "markdown",
   "metadata": {},
   "source": [
    "** {} **\n",
    "- *, +, ?을 사용하여 반복적인 패턴을 찾는 것이 가능하나, 반복의 횟수 제한은 불가\n",
    "- 패턴 뒤에 위치하는 중괄호{}에 숫자를 명시하면 해당 숫자만큼 반복인 경우만 매칭\n",
    "- {4} - 4번 반복\n",
    "- {3,4} - 3~4번 반복"
   ]
  },
  {
   "cell_type": "code",
   "execution_count": 65,
   "metadata": {},
   "outputs": [
    {
     "data": {
      "text/plain": [
       "<_sre.SRE_Match object; span=(0, 5), match='piiig'>"
      ]
     },
     "execution_count": 65,
     "metadata": {},
     "output_type": "execute_result"
    }
   ],
   "source": [
    "re.search(r'pi{3}g', 'piiig')"
   ]
  },
  {
   "cell_type": "code",
   "execution_count": 66,
   "metadata": {},
   "outputs": [
    {
     "data": {
      "text/plain": [
       "<_sre.SRE_Match object; span=(0, 7), match='piiiiig'>"
      ]
     },
     "execution_count": 66,
     "metadata": {},
     "output_type": "execute_result"
    }
   ],
   "source": [
    "re.search(r'pi{3,5}g', 'piiiiig')"
   ]
  },
  {
   "cell_type": "markdown",
   "metadata": {},
   "source": [
    "**미니멈 매칭(non-greedy way)**\n",
    "- 기본적으로 *, +, ?를 사용하면 greedy(맥시멈 매칭)하게 동작함\n",
    "- *?, +?을 이용하여 해당 기능을 구현"
   ]
  },
  {
   "cell_type": "code",
   "execution_count": 67,
   "metadata": {},
   "outputs": [
    {
     "data": {
      "text/plain": [
       "<_sre.SRE_Match object; span=(0, 17), match='<html>haha</html>'>"
      ]
     },
     "execution_count": 67,
     "metadata": {},
     "output_type": "execute_result"
    }
   ],
   "source": [
    "re.search(r'<.+>', '<html>haha</html>')"
   ]
  },
  {
   "cell_type": "code",
   "execution_count": 68,
   "metadata": {},
   "outputs": [
    {
     "data": {
      "text/plain": [
       "<_sre.SRE_Match object; span=(0, 6), match='<html>'>"
      ]
     },
     "execution_count": 68,
     "metadata": {},
     "output_type": "execute_result"
    }
   ],
   "source": [
    "re.search(r'<.+?>', '<html>haha</html>')"
   ]
  },
  {
   "cell_type": "markdown",
   "metadata": {},
   "source": [
    "**{}**\n",
    "- {m,n}의 경우 m번에서 n번 반복하나 greedy하게 동작\n",
    "- {m,n}?로 사용하면 non-greedy하게 동작. 즉, 최소 m번만 매칭하면 만족"
   ]
  },
  {
   "cell_type": "code",
   "execution_count": 69,
   "metadata": {},
   "outputs": [
    {
     "data": {
      "text/plain": [
       "<_sre.SRE_Match object; span=(0, 5), match='aaaaa'>"
      ]
     },
     "execution_count": 69,
     "metadata": {},
     "output_type": "execute_result"
    }
   ],
   "source": [
    "re.search(r'a{3,5}', 'aaaaa')"
   ]
  },
  {
   "cell_type": "code",
   "execution_count": 70,
   "metadata": {},
   "outputs": [
    {
     "data": {
      "text/plain": [
       "<_sre.SRE_Match object; span=(0, 3), match='aaa'>"
      ]
     },
     "execution_count": 70,
     "metadata": {},
     "output_type": "execute_result"
    }
   ],
   "source": [
    "re.search(r'a{3,5}?', 'aaaaa')"
   ]
  },
  {
   "cell_type": "markdown",
   "metadata": {},
   "source": [
    "**match**\n",
    "- search와 유사하나, 주어진 문자열의 시작부터 비교하여 패턴이 있는지 확인\n",
    "- 시작부터 해당 패턴이 존재하지 않다면 None 반환"
   ]
  },
  {
   "cell_type": "code",
   "execution_count": 72,
   "metadata": {},
   "outputs": [],
   "source": [
    "re.match(r'\\d\\d\\d', 'my number is 123')"
   ]
  },
  {
   "cell_type": "code",
   "execution_count": 73,
   "metadata": {},
   "outputs": [
    {
     "data": {
      "text/plain": [
       "<_sre.SRE_Match object; span=(0, 3), match='123'>"
      ]
     },
     "execution_count": 73,
     "metadata": {},
     "output_type": "execute_result"
    }
   ],
   "source": [
    "re.match(r'\\d\\d\\d', '123 is my number')"
   ]
  },
  {
   "cell_type": "code",
   "execution_count": 74,
   "metadata": {},
   "outputs": [
    {
     "data": {
      "text/plain": [
       "<_sre.SRE_Match object; span=(0, 3), match='123'>"
      ]
     },
     "execution_count": 74,
     "metadata": {},
     "output_type": "execute_result"
    }
   ],
   "source": [
    "re.search(r'^\\d\\d\\d', '123 is my number')"
   ]
  },
  {
   "cell_type": "markdown",
   "metadata": {},
   "source": [
    "**findall**\n",
    "- search가 최초로 매칭되는 패턴만 반환한다면, findall은 매칭되는 전체의 패턴을 반환\n",
    "- 매칭되는 모든 결과를 리스트의 형태로 반환"
   ]
  },
  {
   "cell_type": "code",
   "execution_count": 80,
   "metadata": {},
   "outputs": [
    {
     "data": {
      "text/plain": [
       "['test@gmail.com', 'test2@gmail.com']"
      ]
     },
     "execution_count": 80,
     "metadata": {},
     "output_type": "execute_result"
    }
   ],
   "source": [
    "re.findall(r'[\\w-]+@[\\w.]+', 'test@gmail.com haha test2@gmail.com nice test test')"
   ]
  },
  {
   "cell_type": "markdown",
   "metadata": {},
   "source": [
    "**sub**\n",
    "- 주어진 문자열에서 일치하는 모든 패턴을 replace\n",
    "- 그 결과를 문자열로 다시 반환함\n",
    "- 두 번째 인자는 특정 문자열이 될 수도 있고, 함수가 될 수도 있음\n",
    "- count가 0인 경우는 전체를, 1 이상이면 해당 숫자만큼 치환됨"
   ]
  },
  {
   "cell_type": "code",
   "execution_count": 81,
   "metadata": {},
   "outputs": [
    {
     "data": {
      "text/plain": [
       "'great haha great nice test test'"
      ]
     },
     "execution_count": 81,
     "metadata": {},
     "output_type": "execute_result"
    }
   ],
   "source": [
    "re.sub(r'[\\w-]+@[\\w.]+', 'great', 'test@gmail.com haha test2@gmail.com nice test test')"
   ]
  },
  {
   "cell_type": "code",
   "execution_count": 82,
   "metadata": {},
   "outputs": [
    {
     "data": {
      "text/plain": [
       "'great haha test2@gmail.com nice test test'"
      ]
     },
     "execution_count": 82,
     "metadata": {},
     "output_type": "execute_result"
    }
   ],
   "source": [
    "re.sub(r'[\\w-]+@[\\w.]+', 'great', 'test@gmail.com haha test2@gmail.com nice test test', count=1)"
   ]
  },
  {
   "cell_type": "markdown",
   "metadata": {},
   "source": [
    "**compile**\n",
    "- 동일한 정규표현식을 매번 다시 쓰기 번거로움을 해결\n",
    "- compile로 해당 표현식을 re.RegexObject 객체로 저장하여 사용가능"
   ]
  },
  {
   "cell_type": "code",
   "execution_count": 83,
   "metadata": {},
   "outputs": [
    {
     "data": {
      "text/plain": [
       "<_sre.SRE_Match object; span=(0, 14), match='test@gmail.com'>"
      ]
     },
     "execution_count": 83,
     "metadata": {},
     "output_type": "execute_result"
    }
   ],
   "source": [
    "email_reg = re.compile('[\\w-]+@[\\w.]+')\n",
    "\n",
    "email_reg.search('test@gmail.com haha good')"
   ]
  },
  {
   "cell_type": "markdown",
   "metadata": {},
   "source": [
    "## 연습문제\n",
    "- 아래 뉴스에서 이메일 주소를 추출해 보세요\n",
    "- 다음 중 올바른 (http, https) 웹페이지만 찾으시오"
   ]
  },
  {
   "cell_type": "code",
   "execution_count": 7,
   "metadata": {},
   "outputs": [
    {
     "ename": "AttributeError",
     "evalue": "'NoneType' object has no attribute 'find_all'",
     "output_type": "error",
     "traceback": [
      "\u001b[1;31m---------------------------------------------------------------------------\u001b[0m",
      "\u001b[1;31mAttributeError\u001b[0m                            Traceback (most recent call last)",
      "\u001b[1;32mC:\\Users\\Public\\Documents\\ESTsoft\\CreatorTemp/ipykernel_10856/4218933363.py\u001b[0m in \u001b[0;36m<module>\u001b[1;34m\u001b[0m\n\u001b[0;32m     16\u001b[0m     \u001b[1;32mreturn\u001b[0m \u001b[0mcontent\u001b[0m\u001b[1;33m\u001b[0m\u001b[1;33m\u001b[0m\u001b[0m\n\u001b[0;32m     17\u001b[0m \u001b[1;33m\u001b[0m\u001b[0m\n\u001b[1;32m---> 18\u001b[1;33m \u001b[0mnews1\u001b[0m \u001b[1;33m=\u001b[0m \u001b[0mget_news_content\u001b[0m\u001b[1;33m(\u001b[0m\u001b[1;34m'https://sports.news.naver.com/news?oid=108&aid=0003007300'\u001b[0m\u001b[1;33m)\u001b[0m\u001b[1;33m\u001b[0m\u001b[1;33m\u001b[0m\u001b[0m\n\u001b[0m\u001b[0;32m     19\u001b[0m \u001b[0mprint\u001b[0m\u001b[1;33m(\u001b[0m\u001b[0mnews1\u001b[0m\u001b[1;33m)\u001b[0m\u001b[1;33m\u001b[0m\u001b[1;33m\u001b[0m\u001b[0m\n",
      "\u001b[1;32mC:\\Users\\Public\\Documents\\ESTsoft\\CreatorTemp/ipykernel_10856/4218933363.py\u001b[0m in \u001b[0;36mget_news_content\u001b[1;34m(url)\u001b[0m\n\u001b[0;32m     11\u001b[0m \u001b[1;33m\u001b[0m\u001b[0m\n\u001b[0;32m     12\u001b[0m     \u001b[0mcontent\u001b[0m \u001b[1;33m=\u001b[0m \u001b[1;34m''\u001b[0m\u001b[1;33m\u001b[0m\u001b[1;33m\u001b[0m\u001b[0m\n\u001b[1;32m---> 13\u001b[1;33m     \u001b[1;32mfor\u001b[0m \u001b[0mparagraph\u001b[0m \u001b[1;32min\u001b[0m \u001b[0mdiv\u001b[0m\u001b[1;33m.\u001b[0m\u001b[0mfind_all\u001b[0m\u001b[1;33m(\u001b[0m\u001b[1;34m'p'\u001b[0m\u001b[1;33m)\u001b[0m\u001b[1;33m:\u001b[0m\u001b[1;33m\u001b[0m\u001b[1;33m\u001b[0m\u001b[0m\n\u001b[0m\u001b[0;32m     14\u001b[0m         \u001b[0mcontent\u001b[0m \u001b[1;33m+=\u001b[0m \u001b[0mparagraph\u001b[0m\u001b[1;33m.\u001b[0m\u001b[0mget_text\u001b[0m\u001b[1;33m(\u001b[0m\u001b[1;33m)\u001b[0m\u001b[1;33m\u001b[0m\u001b[1;33m\u001b[0m\u001b[0m\n\u001b[0;32m     15\u001b[0m \u001b[1;33m\u001b[0m\u001b[0m\n",
      "\u001b[1;31mAttributeError\u001b[0m: 'NoneType' object has no attribute 'find_all'"
     ]
    }
   ],
   "source": [
    "import requests\n",
    "from bs4 import BeautifulSoup\n",
    "\n",
    "def get_news_content(url):\n",
    "    response = requests.get(url)\n",
    "    content = response.text\n",
    "    \n",
    "    soup = BeautifulSoup(content, 'html5lib')\n",
    "    \n",
    "    div = soup.find('div', attrs = {'id':'harmonyContainer'})\n",
    "    \n",
    "    content = ''\n",
    "    for paragraph in div.find_all('p'):\n",
    "        content += paragraph.get_text()\n",
    "        \n",
    "    return content\n",
    "\n",
    "news1 = get_news_content('https://sports.news.naver.com/news?oid=108&aid=0003007300')\n",
    "print(news1)"
   ]
  },
  {
   "cell_type": "code",
   "execution_count": 97,
   "metadata": {
    "scrolled": true
   },
   "outputs": [
    {
     "ename": "error",
     "evalue": "multiple repeat at position 6",
     "output_type": "error",
     "traceback": [
      "\u001b[1;31m---------------------------------------------------------------------------\u001b[0m",
      "\u001b[1;31merror\u001b[0m                                     Traceback (most recent call last)",
      "\u001b[1;32mC:\\Users\\Public\\Documents\\ESTsoft\\CreatorTemp/ipykernel_10856/1573234417.py\u001b[0m in \u001b[0;36m<module>\u001b[1;34m\u001b[0m\n\u001b[1;32m----> 1\u001b[1;33m \u001b[0memail_reg\u001b[0m \u001b[1;33m=\u001b[0m \u001b[0mre\u001b[0m\u001b[1;33m.\u001b[0m\u001b[0mcompile\u001b[0m\u001b[1;33m(\u001b[0m\u001b[1;34mr'[\\w-]+*[\\w.+]+\\w+'\u001b[0m\u001b[1;33m)\u001b[0m\u001b[1;33m\u001b[0m\u001b[1;33m\u001b[0m\u001b[0m\n\u001b[0m\u001b[0;32m      2\u001b[0m \u001b[0memail_reg\u001b[0m\u001b[1;33m(\u001b[0m\u001b[0msoup\u001b[0m\u001b[1;33m)\u001b[0m\u001b[1;33m\u001b[0m\u001b[1;33m\u001b[0m\u001b[0m\n",
      "\u001b[1;32m~\\AppData\\Local\\Programs\\Python\\Python310\\lib\\re.py\u001b[0m in \u001b[0;36mcompile\u001b[1;34m(pattern, flags)\u001b[0m\n\u001b[0;32m    249\u001b[0m \u001b[1;32mdef\u001b[0m \u001b[0mcompile\u001b[0m\u001b[1;33m(\u001b[0m\u001b[0mpattern\u001b[0m\u001b[1;33m,\u001b[0m \u001b[0mflags\u001b[0m\u001b[1;33m=\u001b[0m\u001b[1;36m0\u001b[0m\u001b[1;33m)\u001b[0m\u001b[1;33m:\u001b[0m\u001b[1;33m\u001b[0m\u001b[1;33m\u001b[0m\u001b[0m\n\u001b[0;32m    250\u001b[0m     \u001b[1;34m\"Compile a regular expression pattern, returning a Pattern object.\"\u001b[0m\u001b[1;33m\u001b[0m\u001b[1;33m\u001b[0m\u001b[0m\n\u001b[1;32m--> 251\u001b[1;33m     \u001b[1;32mreturn\u001b[0m \u001b[0m_compile\u001b[0m\u001b[1;33m(\u001b[0m\u001b[0mpattern\u001b[0m\u001b[1;33m,\u001b[0m \u001b[0mflags\u001b[0m\u001b[1;33m)\u001b[0m\u001b[1;33m\u001b[0m\u001b[1;33m\u001b[0m\u001b[0m\n\u001b[0m\u001b[0;32m    252\u001b[0m \u001b[1;33m\u001b[0m\u001b[0m\n\u001b[0;32m    253\u001b[0m \u001b[1;32mdef\u001b[0m \u001b[0mpurge\u001b[0m\u001b[1;33m(\u001b[0m\u001b[1;33m)\u001b[0m\u001b[1;33m:\u001b[0m\u001b[1;33m\u001b[0m\u001b[1;33m\u001b[0m\u001b[0m\n",
      "\u001b[1;32m~\\AppData\\Local\\Programs\\Python\\Python310\\lib\\re.py\u001b[0m in \u001b[0;36m_compile\u001b[1;34m(pattern, flags)\u001b[0m\n\u001b[0;32m    301\u001b[0m     \u001b[1;32mif\u001b[0m \u001b[1;32mnot\u001b[0m \u001b[0msre_compile\u001b[0m\u001b[1;33m.\u001b[0m\u001b[0misstring\u001b[0m\u001b[1;33m(\u001b[0m\u001b[0mpattern\u001b[0m\u001b[1;33m)\u001b[0m\u001b[1;33m:\u001b[0m\u001b[1;33m\u001b[0m\u001b[1;33m\u001b[0m\u001b[0m\n\u001b[0;32m    302\u001b[0m         \u001b[1;32mraise\u001b[0m \u001b[0mTypeError\u001b[0m\u001b[1;33m(\u001b[0m\u001b[1;34m\"first argument must be string or compiled pattern\"\u001b[0m\u001b[1;33m)\u001b[0m\u001b[1;33m\u001b[0m\u001b[1;33m\u001b[0m\u001b[0m\n\u001b[1;32m--> 303\u001b[1;33m     \u001b[0mp\u001b[0m \u001b[1;33m=\u001b[0m \u001b[0msre_compile\u001b[0m\u001b[1;33m.\u001b[0m\u001b[0mcompile\u001b[0m\u001b[1;33m(\u001b[0m\u001b[0mpattern\u001b[0m\u001b[1;33m,\u001b[0m \u001b[0mflags\u001b[0m\u001b[1;33m)\u001b[0m\u001b[1;33m\u001b[0m\u001b[1;33m\u001b[0m\u001b[0m\n\u001b[0m\u001b[0;32m    304\u001b[0m     \u001b[1;32mif\u001b[0m \u001b[1;32mnot\u001b[0m \u001b[1;33m(\u001b[0m\u001b[0mflags\u001b[0m \u001b[1;33m&\u001b[0m \u001b[0mDEBUG\u001b[0m\u001b[1;33m)\u001b[0m\u001b[1;33m:\u001b[0m\u001b[1;33m\u001b[0m\u001b[1;33m\u001b[0m\u001b[0m\n\u001b[0;32m    305\u001b[0m         \u001b[1;32mif\u001b[0m \u001b[0mlen\u001b[0m\u001b[1;33m(\u001b[0m\u001b[0m_cache\u001b[0m\u001b[1;33m)\u001b[0m \u001b[1;33m>=\u001b[0m \u001b[0m_MAXCACHE\u001b[0m\u001b[1;33m:\u001b[0m\u001b[1;33m\u001b[0m\u001b[1;33m\u001b[0m\u001b[0m\n",
      "\u001b[1;32m~\\AppData\\Local\\Programs\\Python\\Python310\\lib\\sre_compile.py\u001b[0m in \u001b[0;36mcompile\u001b[1;34m(p, flags)\u001b[0m\n\u001b[0;32m    762\u001b[0m     \u001b[1;32mif\u001b[0m \u001b[0misstring\u001b[0m\u001b[1;33m(\u001b[0m\u001b[0mp\u001b[0m\u001b[1;33m)\u001b[0m\u001b[1;33m:\u001b[0m\u001b[1;33m\u001b[0m\u001b[1;33m\u001b[0m\u001b[0m\n\u001b[0;32m    763\u001b[0m         \u001b[0mpattern\u001b[0m \u001b[1;33m=\u001b[0m \u001b[0mp\u001b[0m\u001b[1;33m\u001b[0m\u001b[1;33m\u001b[0m\u001b[0m\n\u001b[1;32m--> 764\u001b[1;33m         \u001b[0mp\u001b[0m \u001b[1;33m=\u001b[0m \u001b[0msre_parse\u001b[0m\u001b[1;33m.\u001b[0m\u001b[0mparse\u001b[0m\u001b[1;33m(\u001b[0m\u001b[0mp\u001b[0m\u001b[1;33m,\u001b[0m \u001b[0mflags\u001b[0m\u001b[1;33m)\u001b[0m\u001b[1;33m\u001b[0m\u001b[1;33m\u001b[0m\u001b[0m\n\u001b[0m\u001b[0;32m    765\u001b[0m     \u001b[1;32melse\u001b[0m\u001b[1;33m:\u001b[0m\u001b[1;33m\u001b[0m\u001b[1;33m\u001b[0m\u001b[0m\n\u001b[0;32m    766\u001b[0m         \u001b[0mpattern\u001b[0m \u001b[1;33m=\u001b[0m \u001b[1;32mNone\u001b[0m\u001b[1;33m\u001b[0m\u001b[1;33m\u001b[0m\u001b[0m\n",
      "\u001b[1;32m~\\AppData\\Local\\Programs\\Python\\Python310\\lib\\sre_parse.py\u001b[0m in \u001b[0;36mparse\u001b[1;34m(str, flags, state)\u001b[0m\n\u001b[0;32m    946\u001b[0m \u001b[1;33m\u001b[0m\u001b[0m\n\u001b[0;32m    947\u001b[0m     \u001b[1;32mtry\u001b[0m\u001b[1;33m:\u001b[0m\u001b[1;33m\u001b[0m\u001b[1;33m\u001b[0m\u001b[0m\n\u001b[1;32m--> 948\u001b[1;33m         \u001b[0mp\u001b[0m \u001b[1;33m=\u001b[0m \u001b[0m_parse_sub\u001b[0m\u001b[1;33m(\u001b[0m\u001b[0msource\u001b[0m\u001b[1;33m,\u001b[0m \u001b[0mstate\u001b[0m\u001b[1;33m,\u001b[0m \u001b[0mflags\u001b[0m \u001b[1;33m&\u001b[0m \u001b[0mSRE_FLAG_VERBOSE\u001b[0m\u001b[1;33m,\u001b[0m \u001b[1;36m0\u001b[0m\u001b[1;33m)\u001b[0m\u001b[1;33m\u001b[0m\u001b[1;33m\u001b[0m\u001b[0m\n\u001b[0m\u001b[0;32m    949\u001b[0m     \u001b[1;32mexcept\u001b[0m \u001b[0mVerbose\u001b[0m\u001b[1;33m:\u001b[0m\u001b[1;33m\u001b[0m\u001b[1;33m\u001b[0m\u001b[0m\n\u001b[0;32m    950\u001b[0m         \u001b[1;31m# the VERBOSE flag was switched on inside the pattern.  to be\u001b[0m\u001b[1;33m\u001b[0m\u001b[1;33m\u001b[0m\u001b[0m\n",
      "\u001b[1;32m~\\AppData\\Local\\Programs\\Python\\Python310\\lib\\sre_parse.py\u001b[0m in \u001b[0;36m_parse_sub\u001b[1;34m(source, state, verbose, nested)\u001b[0m\n\u001b[0;32m    441\u001b[0m     \u001b[0mstart\u001b[0m \u001b[1;33m=\u001b[0m \u001b[0msource\u001b[0m\u001b[1;33m.\u001b[0m\u001b[0mtell\u001b[0m\u001b[1;33m(\u001b[0m\u001b[1;33m)\u001b[0m\u001b[1;33m\u001b[0m\u001b[1;33m\u001b[0m\u001b[0m\n\u001b[0;32m    442\u001b[0m     \u001b[1;32mwhile\u001b[0m \u001b[1;32mTrue\u001b[0m\u001b[1;33m:\u001b[0m\u001b[1;33m\u001b[0m\u001b[1;33m\u001b[0m\u001b[0m\n\u001b[1;32m--> 443\u001b[1;33m         itemsappend(_parse(source, state, verbose, nested + 1,\n\u001b[0m\u001b[0;32m    444\u001b[0m                            not nested and not items))\n\u001b[0;32m    445\u001b[0m         \u001b[1;32mif\u001b[0m \u001b[1;32mnot\u001b[0m \u001b[0msourcematch\u001b[0m\u001b[1;33m(\u001b[0m\u001b[1;34m\"|\"\u001b[0m\u001b[1;33m)\u001b[0m\u001b[1;33m:\u001b[0m\u001b[1;33m\u001b[0m\u001b[1;33m\u001b[0m\u001b[0m\n",
      "\u001b[1;32m~\\AppData\\Local\\Programs\\Python\\Python310\\lib\\sre_parse.py\u001b[0m in \u001b[0;36m_parse\u001b[1;34m(source, state, verbose, nested, first)\u001b[0m\n\u001b[0;32m    669\u001b[0m                                    source.tell() - here + len(this))\n\u001b[0;32m    670\u001b[0m             \u001b[1;32mif\u001b[0m \u001b[0mitem\u001b[0m\u001b[1;33m[\u001b[0m\u001b[1;36m0\u001b[0m\u001b[1;33m]\u001b[0m\u001b[1;33m[\u001b[0m\u001b[1;36m0\u001b[0m\u001b[1;33m]\u001b[0m \u001b[1;32min\u001b[0m \u001b[0m_REPEATCODES\u001b[0m\u001b[1;33m:\u001b[0m\u001b[1;33m\u001b[0m\u001b[1;33m\u001b[0m\u001b[0m\n\u001b[1;32m--> 671\u001b[1;33m                 raise source.error(\"multiple repeat\",\n\u001b[0m\u001b[0;32m    672\u001b[0m                                    source.tell() - here + len(this))\n\u001b[0;32m    673\u001b[0m             \u001b[1;32mif\u001b[0m \u001b[0mitem\u001b[0m\u001b[1;33m[\u001b[0m\u001b[1;36m0\u001b[0m\u001b[1;33m]\u001b[0m\u001b[1;33m[\u001b[0m\u001b[1;36m0\u001b[0m\u001b[1;33m]\u001b[0m \u001b[1;32mis\u001b[0m \u001b[0mSUBPATTERN\u001b[0m\u001b[1;33m:\u001b[0m\u001b[1;33m\u001b[0m\u001b[1;33m\u001b[0m\u001b[0m\n",
      "\u001b[1;31merror\u001b[0m: multiple repeat at position 6"
     ]
    }
   ],
   "source": [
    "email_reg = re.compile(r'[\\w-]+*[\\w.+]+\\w+')\n",
    "email_reg(news1)"
   ]
  },
  {
   "cell_type": "code",
   "execution_count": 6,
   "metadata": {},
   "outputs": [
    {
     "name": "stdout",
     "output_type": "stream",
     "text": [
      "<!DOCTYPE html>\n",
      "\n",
      "<html lang=\"ko\">\n",
      "<head>\n",
      "<meta charset=\"utf-8\"/>\n",
      "<meta content=\"IE=edge\" http-equiv=\"X-UA-Compatible\"/>\n",
      "<meta content=\"requiresActiveX=true\" http-equiv=\"X-UA-Compatible\"/>\n",
      "<meta content=\"width=1080px,maximum-scale=2.0,minimum-scale=0.4,user-scalable=yes\" name=\"viewport\"/>\n",
      "<meta content=\"sports\" property=\"me:feed:serviceId\">\n",
      "<meta content=\"sports\" property=\"me:feed:feedGroupId\">\n",
      "<meta content=\"\" property=\"me:feed:feedId\">\n",
      "<meta content=\"\" property=\"me:feed:feedName\">\n",
      "<meta content=\"\" property=\"me:feed:feedGroupName\"/>\n",
      "<meta content=\"\" property=\"me:feed:url\"/>\n",
      "<meta content=\"20211124145851\" property=\"og:update_time\"/>\n",
      "<meta content=\"\" property=\"article:contentLocation:name\"/>\n",
      "<meta content=\"\" property=\"article:contentLocation:url\"/>\n",
      "<meta content=\"article\" property=\"og:type\"/>\n",
      "<meta content=\"https://imgnews.pstatic.net/image/108/2021/11/24/0003007300_001_20211124145903292.jpg\" property=\"og:image\"/>\n",
      "<meta content=\"키움 선수단, 아동 양육 시설에 후원금 기부... 주장 김혜성이 전달\" property=\"og:title\"/>\n",
      "<meta content=\"키움 주장 김혜성(오른쪽)이 서울SOS어린이마을에 후원금을 전달하는 사진을 찍고 있다./사진=키움 히어로즈키움 히어로즈 주장 김혜성(22)이 선수단을 대표해 후원금을 전달했다.키움은 24일 &quot;김혜성이 이날 오전 서울 양천구 신월동에 위치한 아동 양육 시설 '서울SOS어린이마을'에 방문해 선수단...\" property=\"og:description\"/>\n",
      "<meta content=\"https://sports.news.naver.com/news?oid=108&amp;aid=0003007300\" property=\"og:url\"/>\n",
      "<meta content=\"네이버 스포츠 | 스타뉴스\" property=\"og:article:author\"/>\n",
      "<meta content=\"https://sports.news.naver.com\" property=\"og:article:author:url\"/>\n",
      "<meta content=\"https://imgnews.pstatic.net/image/sports/common/naverme/image-sports.png\" property=\"og:article:thumbnailUrl\"/>\n",
      "<meta content=\"gdid=880000C3_000000000000000003007300,service=sports,collection=news,section=107\" name=\"napp-site-analysis\"/>\n",
      "<title>키움 선수단, 아동 양육 시설에 후원금 기부... 주장 김혜성이 전달</title>\n",
      "<link href=\"/favicon.ico?v=20140331\" otype=\"image/x-icon\" rel=\"shortcut icon\"/>\n",
      "<link href=\"https://imgsports.pstatic.net/images/mobile/favicon_20180622/ios/iOS6_57X57_iphone3.png\" rel=\"apple-touch-icon\"/>\n",
      "<link href=\"https://imgsports.pstatic.net/images/mobile/favicon_20180622/ios/iOS7_76X76_ipad.png\" rel=\"apple-touch-icon\" sizes=\"76x76\"/>\n",
      "<link href=\"https://imgsports.pstatic.net/images/mobile/favicon_20180622/ios/iOS7_120X120_iphone.png\" rel=\"apple-touch-icon\" sizes=\"120x120\"/>\n",
      "<link href=\"https://imgsports.pstatic.net/images/mobile/favicon_20180622/ios/iOS7_152X152_ipad_retina.png\" rel=\"apple-touch-icon\" sizes=\"152x152\"/>\n",
      "<link href=\"https://imgsports.pstatic.net/images/mobile/favicon_20180622/ios/iOS_167X167_iPadPro.png\" rel=\"apple-touch-icon\" sizes=\"167x167\"/> <!-- 레티나 패드 -->\n",
      "<link href=\"https://imgsports.pstatic.net/images/mobile/favicon_20180622/ios/iOS_180X180_iPhone.png\" rel=\"apple-touch-icon\" sizes=\"180x180\"/> <!-- 레티나 패드 -->\n",
      "<content tag=\"css\">\n",
      "<link href=\"https://ssl.pstatic.net/static.sports/resources/pc/2021/11/11/122215/css/generated/nsportsCss.css\" rel=\"stylesheet\" type=\"text/css\"/>\n",
      "<link href=\"https://ssl.pstatic.net/static.sports/resources/pc/2021/11/11/122215/css/generated/newsEndOg.css\" rel=\"stylesheet\" type=\"text/css\"/>\n",
      "</content>\n",
      "<script charset=\"UTF-8\" src=\"https://ssl.pstatic.net/static.sports/resources/pc/2021/11/11/122215/js/generated/newsCommon.js\" type=\"text/javascript\"></script>\n",
      "<script>\n",
      "\ttry {\n",
      "\t\tvar deployPhase = 'release';\n",
      "\t\tif (deployPhase === 'release') {\n",
      "\t\t\tJEagleEyeClient.attachOnError();\n",
      "\n",
      "\t\t} else if (deployPhase === 'dev') {\n",
      "\t\t\tJEagleEyeClient.setDebugOnly(true);\n",
      "\t\t\tJEagleEyeClient.attachOnError();\n",
      "\n",
      "\t\t} else {\n",
      "\t\t\t// local\n",
      "\t\t\tJEagleEyeClient.attachOnError();\n",
      "\t\t}\n",
      "\t} catch (e) {\n",
      "\t\tconsole.log(e);\n",
      "\t}\n",
      "</script>\n",
      "<script language=\"javascript\" type=\"text/javascript\">\n",
      "\t\tdocument.domain = \"naver.com\";\n",
      "\t\tvar sports_category=\"\";\n",
      "\t\tvar ccsrv=\"cc.naver.com\";\n",
      "\t\tvar nsc = \"sports.baseball\";\n",
      "\t\tvar gdid = \"880000C3_000000000000000003007300\";\n",
      "\t</script>\n",
      "</meta></meta></meta></meta></head>\n",
      "<body>\n",
      "<div id=\"u_skip\">\n",
      "<a href=\"#lnb_main_sub\" onclick=\"document.getElementById('lnb_main_sub').tabIndex=-1;document.getElementById('lnb_main_sub').focus();\"><span>메인 메뉴로 바로가기</span></a>\n",
      "<div id=\"lnb_menu_link\"></div>\n",
      "<div id=\"container_link\"></div>\n",
      "</div>\n",
      "<div id=\"wrap\">\n",
      "<div class=\"header\" id=\"header\">\n",
      "<div class=\"sports_header\" role=\"banner\">\n",
      "<div class=\"snb_area\">\n",
      "<h1 class=\"logo_group\">\n",
      "<a class=\"logo_naver\" href=\"https://www.naver.com\" onclick=\"clickcr(this, 'STA.naverlogo', '', '', event);\"><span class=\"blind\">네이버</span></a>\n",
      "<a class=\"logo_sports\" href=\"https://sports.news.naver.com/\" onclick=\"clickcr(this, 'STA.sports', '', '', event);\"><span class=\"blind\">스포츠</span></a>\n",
      "</h1>\n",
      "<div class=\"service_group\">\n",
      "<a class=\"link_news_service\" href=\"https://news.naver.com/\" onclick=\"clickcr(this, 'STA.news', '', '', event);\"><span class=\"blind\">뉴스</span></a>\n",
      "<a class=\"link_weather_service\" href=\"https://weather.naver.com/\" onclick=\"clickcr(this, 'STA.whether', '', '', event);\"><span class=\"blind\">날씨</span></a>\n",
      "<a class=\"link_entertain_service\" href=\"https://entertain.naver.com/\" onclick=\"clickcr(this, 'STA.entertain', '', '', event);\"><span class=\"blind\">TV연예</span></a>\n",
      "</div>\n",
      "</div>\n",
      "<!-- GNB -->\n",
      "<div class=\"gnb_area\">\n",
      "<div class=\"gnb_one\" id=\"gnb\"></div>\n",
      "</div>\n",
      "<!-- GNB -->\n",
      "</div>\n",
      "<!-- 추후 제거, lnbMenuInfoList 를 받아오기 위하여 사용중 -->\n",
      "<script>\n",
      "\tvar lnbMenuInfoList = [{\"a\":\"\",\"side\":\"left\",\"c\":\"sportshome\",\"subMenuList\":[],\"h\":22,\"alt\":\"스포츠홈\",\"className\":\"\",\"l\":\"0\",\"upperSection\":null,\"url\":\"/index\",\"off\":\"https://imgsports.pstatic.net/images/2015/PC/lnb2/home.png\",\"isImageTypeMenu\":false,\"alt_u\":\"\",\"w\":60,\"onUrl\":\"/index.nhn\",\"on\":\"https://imgsports.pstatic.net/images/2015/PC/lnb2/home_on.png\"},{\"a\":\"\",\"side\":\"left\",\"c\":\"baseball\",\"subMenuList\":[{\"a\":\"0\",\"side\":\"\",\"c\":\"news\",\"h\":22,\"alt\":\"최신뉴스\",\"className\":\"\",\"l\":\"0\",\"upperSection\":null,\"url\":\"/kbaseball/news/index\",\"off\":\"https://imgsports.pstatic.net/images/2015/PC/lnb2/sub_news.png\",\"isImageTypeMenu\":false,\"alt_u\":\"\",\"w\":60,\"onUrl\":\"/kbaseball/news/index.nhn;/kbaseball/news/read.nhn;/kbo/news/read.nhn;/baseballetc/news/read.nhn;/kbaseball/news/index.nhn;/kbo/news/index.nhn;/baseballetc/news/index.nhn;/news.nhn;/kbaseball/news/read;/kbo/news/read;/baseballetc/news/read;/kbaseball/news/index;/kbo/news/index;/baseballetc/news/index;/news\",\"on\":\"https://imgsports.pstatic.net/images/2015/PC/lnb2/sub_news_on.png\"},{\"a\":\"0\",\"side\":\"\",\"c\":\"video\",\"h\":22,\"alt\":\"영상\",\"className\":\"\",\"l\":\"0\",\"upperSection\":null,\"url\":\"/kbaseball/vod/index\",\"off\":\"https://imgsports.pstatic.net/images/2015/PC/lnb2/sub_video.png\",\"isImageTypeMenu\":false,\"alt_u\":\"\",\"w\":39,\"onUrl\":\"/kbaseball/vod/index.nhn\",\"on\":\"https://imgsports.pstatic.net/images/2015/PC/lnb2/sub_video_on.png\"},{\"a\":\"0\",\"side\":\"\",\"c\":\"album\",\"h\":22,\"alt\":\"생생화보\",\"className\":\"\",\"l\":\"0\",\"upperSection\":null,\"url\":\"/photocenter/albumList?category=kbo\",\"off\":\"https://imgsports.pstatic.net/images/2015/PC/lnb2/sub_photo.png\",\"isImageTypeMenu\":false,\"alt_u\":\"\",\"w\":60,\"onUrl\":\"/photocenter/albumList.nhn?category=kbo;/photocenter/photoList.nhn?category=kbo;/photocenter/photo.nhn?category=kbo;/photocenter/photoList?category=kbo;/photocenter/photo?category=kbo\",\"on\":\"https://imgsports.pstatic.net/images/2015/PC/lnb2/sub_photo_on.png\"},{\"a\":\"0\",\"side\":\"\",\"c\":\"schedule\",\"h\":22,\"alt\":\"일정/결과\",\"className\":\"\",\"l\":\"0\",\"upperSection\":null,\"url\":\"/kbaseball/schedule/index\",\"off\":\"https://imgsports.pstatic.net/images/2015/PC/lnb2/sub_schedule.png\",\"isImageTypeMenu\":false,\"alt_u\":\"\",\"w\":65,\"onUrl\":\"/kbaseball/schedule/index.nhn;/gameCenter/gameResult.nhn?category=kbo;/gameCenter/textRelay.nhn?category=kbo;/gameCenter/gameRecord.nhn?category=kbo;/gameCenter/gameVideo.nhn?category=kbo;/gameCenter/gameResult?category=kbo;/gameCenter/textRelay?category=kbo;/gameCenter/gameRecord?category=kbo;/gameCenter/gameVideo?category=kbo;\",\"on\":\"https://imgsports.pstatic.net/images/2015/PC/lnb2/sub_schedule_on.png\"},{\"a\":\"0\",\"side\":\"\",\"c\":\"datacenter\",\"h\":22,\"alt\":\"기록/순위\",\"className\":\"\",\"l\":\"0\",\"upperSection\":null,\"url\":\"/kbaseball/record/index?category=kbo\",\"off\":\"https://imgsports.pstatic.net/images/2015/PC/lnb2/sub_record.png\",\"isImageTypeMenu\":false,\"alt_u\":\"\",\"w\":66,\"onUrl\":\"/kbaseball/record/index.nhn?category=kbo;/kbaseball/record/index?category=kbo;\",\"on\":\"https://imgsports.pstatic.net/images/2015/PC/lnb2/sub_record_on.png\"},{\"a\":\"0\",\"side\":\"\",\"c\":\"issue\",\"h\":22,\"alt\":\"구단/협회\",\"className\":\"\",\"l\":\"0\",\"upperSection\":null,\"url\":\"/kbaseball/column/columnistList\",\"off\":\"https://imgsports.pstatic.net/images/2015/PC/lnb2/sub_column.png\",\"isImageTypeMenu\":false,\"alt_u\":\"\",\"w\":64,\"onUrl\":\"/kbaseball/column/columnistList.nhn;/kbaseball/column/columnList.nhn;/kbaseball/news/read.nhn?viewType=CLUB;/kbaseball/club/postList.nhn;/kbaseball/column/columnList;/kbaseball/news/read?viewType=CLUB;/kbaseball/club/postList;\",\"on\":\"https://imgsports.pstatic.net/images/2015/PC/lnb2/sub_column_on.png\"}],\"h\":22,\"alt\":\"야구\",\"className\":\"\",\"l\":\"0\",\"upperSection\":\"kbaseball\",\"url\":\"/kbaseball/index\",\"off\":\"https://imgsports.pstatic.net/images/2015/PC/lnb2/baseball.png\",\"isImageTypeMenu\":false,\"alt_u\":\"\",\"w\":38,\"onUrl\":\"/kbaseball/index.nhn;/sports/index.nhn?category=baseball;/kbaseball/index.nhn;/kbaseball/issue/index.nhn;/sports/index?category=baseball;/kbaseball/index;/kbaseball/issue/index;\",\"on\":\"https://imgsports.pstatic.net/images/2015/PC/lnb2/baseball_on.png\"},{\"a\":\"\",\"side\":\"left\",\"c\":\"worldbaseball\",\"subMenuList\":[{\"a\":\"0\",\"side\":\"\",\"c\":\"news\",\"h\":22,\"alt\":\"최신뉴스\",\"className\":\"\",\"l\":\"0\",\"upperSection\":null,\"url\":\"/wbaseball/news/index\",\"off\":\"https://imgsports.pstatic.net/images/2015/PC/lnb2/sub_news.png\",\"isImageTypeMenu\":false,\"alt_u\":\"\",\"w\":60,\"onUrl\":\"/wbaseball/news/index.nhn;/wbaseball/news/read.nhn;/mlb/news/index.nhn;/npb/news/index.nhn;/mlb/news/read.nhn;/npb/news/read.nhn;/news.nhn;/wbaseball/news/read;/mlb/news/index;/npb/news/index;/mlb/news/read;/npb/news/read;/news\",\"on\":\"https://imgsports.pstatic.net/images/2015/PC/lnb2/sub_news_on.png\"},{\"a\":\"0\",\"side\":\"\",\"c\":\"video\",\"h\":22,\"alt\":\"영상\",\"className\":\"\",\"l\":\"0\",\"upperSection\":null,\"url\":\"/wbaseball/vod/index\",\"off\":\"https://imgsports.pstatic.net/images/2015/PC/lnb2/sub_video.png\",\"isImageTypeMenu\":false,\"alt_u\":\"\",\"w\":39,\"onUrl\":\"/wbaseball/vod/index.nhn\",\"on\":\"https://imgsports.pstatic.net/images/2015/PC/lnb2/sub_video_on.png\"},{\"a\":\"0\",\"side\":\"\",\"c\":\"album\",\"h\":22,\"alt\":\"생생화보\",\"className\":\"\",\"l\":\"0\",\"upperSection\":null,\"url\":\"/photocenter/albumList?category=mlb\",\"off\":\"https://imgsports.pstatic.net/images/2015/PC/lnb2/sub_photo.png\",\"isImageTypeMenu\":false,\"alt_u\":\"\",\"w\":60,\"onUrl\":\"/photocenter/albumList.nhn?category=mlb;/photocenter/photoList.nhn?category=mlb;/photocenter/photo.nhn?category=mlb;/photocenter/albumList.nhn?category=npb;/photocenter/photoList.nhn?category=npb;/photocenter/photo.nhn?category=npb;/photocenter/photoList?category=mlb;/photocenter/photo?category=mlb;/photocenter/albumList?category=npb;/photocenter/photoList?category=npb;/photocenter/photo?category=npb\",\"on\":\"https://imgsports.pstatic.net/images/2015/PC/lnb2/sub_photo_on.png\"},{\"a\":\"0\",\"side\":\"\",\"c\":\"schedule\",\"h\":22,\"alt\":\"일정/결과\",\"className\":\"\",\"l\":\"0\",\"upperSection\":null,\"url\":\"/wbaseball/schedule/index\",\"off\":\"https://imgsports.pstatic.net/images/2015/PC/lnb2/sub_schedule.png\",\"isImageTypeMenu\":false,\"alt_u\":\"\",\"w\":65,\"onUrl\":\"/sports/index.nhn?category=npb&ctg=schedule;/gameCenter/gameResult.nhn?category=mlb;/gameCenter/textRelay.nhn?category=mlb;/gameCenter/gameVideo.nhn?category=mlb;/wbaseball/schedule/index.nhn;/sports/index?category=npb&ctg=schedule;/gameCenter/gameResult?category=mlb;/gameCenter/textRelay?category=mlb;/gameCenter/gameVideo?category=mlb;/wbaseball/schedule/index;\",\"on\":\"https://imgsports.pstatic.net/images/2015/PC/lnb2/sub_schedule_on.png\"},{\"a\":\"0\",\"side\":\"\",\"c\":\"record\",\"h\":22,\"alt\":\"기록/순위\",\"className\":\"\",\"l\":\"0\",\"upperSection\":null,\"url\":\"/wbaseball/record/index\",\"off\":\"https://imgsports.pstatic.net/images/2015/PC/lnb2/sub_record.png\",\"isImageTypeMenu\":false,\"alt_u\":\"\",\"w\":66,\"onUrl\":\"/wbaseball/record/index.nhn\",\"on\":\"https://imgsports.pstatic.net/images/2015/PC/lnb2/sub_record_on.png\"}],\"h\":22,\"alt\":\"해외야구\",\"className\":\"\",\"l\":\"0\",\"upperSection\":\"wbaseball\",\"url\":\"/wbaseball/index\",\"off\":\"https://imgsports.pstatic.net/images/2015/PC/lnb2/worldbaseball.png\",\"isImageTypeMenu\":false,\"alt_u\":\"\",\"w\":60,\"onUrl\":\"/wbaseball/index.nhn;/wbaseball/issue/index.nhn;/wbaseball/index.nhn;/gameCenter/gameResult.nhn?category=wbc;/gameCenter/textRelay.nhn?category=wbc;/gameCenter/gameVideo.nhn?category=wbc;/gameCenter/gameRecord.nhn?category=wbc;/wbaseball/index;/wbaseball/issue/index;/wbaseball/index;/gameCenter/gameResult?category=wbc;/gameCenter/textRelay?category=wbc;/gameCenter/gameVideo?category=wbc;/gameCenter/gameRecord?category=wbc;\",\"on\":\"https://imgsports.pstatic.net/images/2015/PC/lnb2/worldbaseball_on.png\"},{\"a\":\"\",\"side\":\"left\",\"c\":\"soccer\",\"subMenuList\":[{\"a\":\"0\",\"side\":\"\",\"c\":\"news\",\"h\":22,\"alt\":\"최신뉴스\",\"className\":\"\",\"l\":\"0\",\"upperSection\":null,\"url\":\"/kfootball/news/index\",\"off\":\"https://imgsports.pstatic.net/images/2015/PC/lnb2/sub_news.png\",\"isImageTypeMenu\":false,\"alt_u\":\"\",\"w\":60,\"onUrl\":\"/kleague/news/index.nhn;/afc/news/index.nhn;/amatch/news/index.nhn;/footballetc/news/index.nhn;/kfootball/news/read.nhn;/kleague/news/read.nhn;/afc/news/read.nhn;/amatch/news/read.nhn;/footballetc/news/read.nhn;/news.nhn;/kleague/news/index;/afc/news/index;/amatch/news/index;/footballetc/news/index;/kfootball/news/read;/kleague/news/read;/afc/news/read;/amatch/news/read;/footballetc/news/read;/news\",\"on\":\"https://imgsports.pstatic.net/images/2015/PC/lnb2/sub_news_on.png\"},{\"a\":\"0\",\"side\":\"\",\"c\":\"video\",\"h\":22,\"alt\":\"영상\",\"className\":\"\",\"l\":\"0\",\"upperSection\":null,\"url\":\"/kfootball/vod/index\",\"off\":\"https://imgsports.pstatic.net/images/2015/PC/lnb2/sub_video.png\",\"isImageTypeMenu\":false,\"alt_u\":\"\",\"w\":39,\"onUrl\":\"/kfootball/vod/index.nhn;http://sports.news.naver.com/videoCenter/index.nhn?uCategory=kfootball;http://sports.news.naver.com/videoCenter/index.nhn?uCategory=kfootball&category=kleague;http://sports.news.naver.com/videoCenter/index.nhn?uCategory=kfootball&category=kleague2;http://sports.news.naver.com/videoCenter/index?uCategory=kfootball;http://sports.news.naver.com/videoCenter/index?uCategory=kfootball&category=kleague;http://sports.news.naver.com/videoCenter/index?uCategory=kfootball&category=kleague2;\",\"on\":\"https://imgsports.pstatic.net/images/2015/PC/lnb2/sub_video_on.png\"},{\"a\":\"0\",\"side\":\"\",\"c\":\"album\",\"h\":22,\"alt\":\"생생화보\",\"className\":\"\",\"l\":\"0\",\"upperSection\":null,\"url\":\"/photocenter/albumList?category=kfootball\",\"off\":\"https://imgsports.pstatic.net/images/2015/PC/lnb2/sub_photo.png\",\"isImageTypeMenu\":false,\"alt_u\":\"\",\"w\":60,\"onUrl\":\"/photocenter/albumList.nhn?category=kfootball;/photocenter/albumList.nhn?category=amatch;/photocenter/photoList.nhn?category=kfootball;/photocenter/photoList.nhn?category=amatch;/photocenter/photo.nhn?category=kfootball;/photocenter/photo.nhn?category=amatch;/photocenter/albumList?category=amatch;/photocenter/photoList?category=kfootball;/photocenter/photoList?category=amatch;/photocenter/photo?category=kfootball;/photocenter/photo?category=amatch;\",\"on\":\"https://imgsports.pstatic.net/images/2015/PC/lnb2/sub_photo_on.png\"},{\"a\":\"0\",\"side\":\"\",\"c\":\"schedule\",\"h\":22,\"alt\":\"일정/결과\",\"className\":\"\",\"l\":\"0\",\"upperSection\":null,\"url\":\"/kfootball/schedule/index\",\"off\":\"https://imgsports.pstatic.net/images/2015/PC/lnb2/sub_schedule.png\",\"isImageTypeMenu\":false,\"alt_u\":\"\",\"w\":65,\"onUrl\":\"/gameCenter/textRelayFootball.nhn?category=kleague;/sports/index.nhn?category=k_league2&ctg=schedule;/sports/index.nhn?category=acl&ctg=schedule;/sports/index.nhn?category=a_match&ctg=schedule;/gameCenter/textRelayFootball.nhn?category=kleague2;/gameCenter/textRelayFootball.nhn?category=acl;/gameCenter/textRelayFootball.nhn?category=amatch;/kfootball/schedule/index.nhn;/gameCenter/textRelayFootball?category=kleague;/sports/index?category=k_league2&ctg=schedule;/sports/index?category=acl&ctg=schedule;/sports/index?category=a_match&ctg=schedule;/gameCenter/textRelayFootball?category=kleague2;/gameCenter/textRelayFootball?category=acl;/gameCenter/textRelayFootball?category=amatch;/kfootball/schedule/index;\",\"on\":\"https://imgsports.pstatic.net/images/2015/PC/lnb2/sub_schedule_on.png\"},{\"a\":\"0\",\"side\":\"\",\"c\":\"record\",\"h\":22,\"alt\":\"기록/순위\",\"className\":\"\",\"l\":\"0\",\"upperSection\":null,\"url\":\"/kfootball/record/index\",\"off\":\"https://imgsports.pstatic.net/images/2015/PC/lnb2/sub_record.png\",\"isImageTypeMenu\":false,\"alt_u\":\"\",\"w\":66,\"onUrl\":\"/kfootball/record/index.nhn\",\"on\":\"https://imgsports.pstatic.net/images/2015/PC/lnb2/sub_record_on.png\"},{\"a\":\"0\",\"side\":\"\",\"c\":\"\",\"h\":22,\"alt\":\"구단/협회\",\"className\":\"\",\"l\":\"0\",\"upperSection\":null,\"url\":\"/kfootball/column/columnistList\",\"off\":\"https://imgsports.pstatic.net/images/2015/PC/lnb2/sub_column.png\",\"isImageTypeMenu\":false,\"alt_u\":\"\",\"w\":64,\"onUrl\":\"/kfootball/column/columnistList.nhn;/kfootball/column/columnList.nhn;;/kfootball/news/read.nhn?viewType=CLUB;/kfootball/club/postList.nhn;/kfootball/column/columnList;;/kfootball/news/read?viewType=CLUB;/kfootball/club/postList;\",\"on\":\"https://imgsports.pstatic.net/images/2015/PC/lnb2/sub_column_on.png\"}],\"h\":22,\"alt\":\"축구\",\"className\":\"\",\"l\":\"0\",\"upperSection\":\"kfootball\",\"url\":\"/kfootball/index\",\"off\":\"https://imgsports.pstatic.net/images/2015/PC/lnb2/soccer.png\",\"isImageTypeMenu\":false,\"alt_u\":\"\",\"w\":38,\"onUrl\":\"/kfootball/index.nhn;/kfootball/issue/index.nhn;/kfootball/index;/kfootball/issue/index;\",\"on\":\"https://imgsports.pstatic.net/images/2015/PC/lnb2/soccer_on.png\"},{\"a\":\"\",\"side\":\"left\",\"c\":\"worldfootball\",\"subMenuList\":[{\"a\":\"0\",\"side\":\"\",\"c\":\"news\",\"h\":22,\"alt\":\"최신뉴스\",\"className\":\"\",\"l\":\"0\",\"upperSection\":null,\"url\":\"/wfootball/news/index\",\"off\":\"https://imgsports.pstatic.net/images/2015/PC/lnb2/sub_news.png\",\"isImageTypeMenu\":false,\"alt_u\":\"\",\"w\":60,\"onUrl\":\"/wfootball/news/index.nhn;/epl/news/index.nhn;/bundesliga/news/index.nhn;/primera/news/index.nhn;/seria/news/index.nhn;/champseuro/news/index.nhn;/worldfootballetc/news/index.nhn;/wfootball/news/read.nhn;/epl/news/read.nhn;/bundesliga/news/read.nhn;/primera/news/read.nhn;/seria/news/read.nhn;/champseuro/news/read.nhn;/worldfootballetc/news/read.nhn;/news.nhn;/wfootball/news/index;/epl/news/index;/bundesliga/news/index;/primera/news/index;/seria/news/index;/champseuro/news/index;/worldfootballetc/news/index;/wfootball/news/read;/epl/news/read;/bundesliga/news/read;/primera/news/read;/seria/news/read;/champseuro/news/read;/worldfootballetc/news/read;/news;\",\"on\":\"https://imgsports.pstatic.net/images/2015/PC/lnb2/sub_news_on.png\"},{\"a\":\"0\",\"side\":\"\",\"c\":\"video\",\"h\":22,\"alt\":\"영상\",\"className\":\"\",\"l\":\"0\",\"upperSection\":null,\"url\":\"/wfootball/vod/index\",\"off\":\"https://imgsports.pstatic.net/images/2015/PC/lnb2/sub_video.png\",\"isImageTypeMenu\":false,\"alt_u\":\"\",\"w\":39,\"onUrl\":\"/wfootball/vod/index.nhn\",\"on\":\"https://imgsports.pstatic.net/images/2015/PC/lnb2/sub_video_on.png\"},{\"a\":\"0\",\"side\":\"\",\"c\":\"album\",\"h\":22,\"alt\":\"생생화보\",\"className\":\"\",\"l\":\"0\",\"upperSection\":null,\"url\":\"/photocenter/albumList?category=wfootball\",\"off\":\"https://imgsports.pstatic.net/images/2015/PC/lnb2/sub_photo.png\",\"isImageTypeMenu\":false,\"alt_u\":\"\",\"w\":60,\"onUrl\":\"/photocenter/albumList.nhn?category=wfootball;/photocenter/photoList.nhn?category=wfootball;/photocenter/photo.nhn?category=wfootball;/photocenter/photoList?category=wfootball;/photocenter/photo?category=wfootball\",\"on\":\"https://imgsports.pstatic.net/images/2015/PC/lnb2/sub_photo_on.png\"},{\"a\":\"0\",\"side\":\"\",\"c\":\"schedule\",\"h\":22,\"alt\":\"일정/결과\",\"className\":\"\",\"l\":\"0\",\"upperSection\":null,\"url\":\"/wfootball/schedule/index\",\"off\":\"https://imgsports.pstatic.net/images/2015/PC/lnb2/sub_schedule.png\",\"isImageTypeMenu\":false,\"alt_u\":\"\",\"w\":65,\"onUrl\":\"/wfootball/schedule/index.nhn;/sports/new/live/index.nhn?category=worldfootball;/russia2018/gameCenter/index.nhn;/sports/new/live/index?category=worldfootball;/russia2018/gameCenter/index;\",\"on\":\"https://imgsports.pstatic.net/images/2015/PC/lnb2/sub_schedule_on.png\"},{\"a\":\"0\",\"side\":\"\",\"c\":\"record\",\"h\":22,\"alt\":\"기록/순위\",\"className\":\"\",\"l\":\"0\",\"upperSection\":null,\"url\":\"/wfootball/record/index\",\"off\":\"https://imgsports.pstatic.net/images/2015/PC/lnb2/sub_record.png\",\"isImageTypeMenu\":false,\"alt_u\":\"\",\"w\":66,\"onUrl\":\"/wfootball/record/index.nhn\",\"on\":\"https://imgsports.pstatic.net/images/2015/PC/lnb2/sub_record_on.png\"},{\"a\":\"0\",\"side\":\"\",\"c\":\"predict\",\"h\":36,\"alt\":\"승부예측\",\"className\":\"\",\"l\":\"1\",\"upperSection\":null,\"url\":\"https://m.sports.naver.com/wfootball/predict\",\"off\":\"https://sports-phinf.pstatic.net/20211005_246/1633399776176HmOYz_PNG/logo_predict.png\",\"isImageTypeMenu\":true,\"alt_u\":\"\",\"w\":58,\"onUrl\":\"\",\"on\":\"https://sports-phinf.pstatic.net/20211005_246/1633399776176HmOYz_PNG/logo_predict.png\"}],\"h\":22,\"alt\":\"해외축구\",\"className\":\"\",\"l\":\"0\",\"upperSection\":\"wfootball\",\"url\":\"/wfootball/index\",\"off\":\"https://imgsports.pstatic.net/images/2015/PC/lnb2/worldfootball.png\",\"isImageTypeMenu\":false,\"alt_u\":\"\",\"w\":60,\"onUrl\":\"/wfootball/index.nhn;/wfootball/issue/index.nhn;/wfootball/index.nhn;/wfootball/issue/index.nhn;/wfootball/index;/wfootball/issue/index;/wfootball/index;/wfootball/issue/index;\",\"on\":\"https://imgsports.pstatic.net/images/2015/PC/lnb2/worldfootball_on.png\"},{\"a\":\"\",\"side\":\"left\",\"c\":\"basketball\",\"subMenuList\":[{\"a\":\"0\",\"side\":\"\",\"c\":\"news\",\"h\":22,\"alt\":\"최신뉴스\",\"className\":\"\",\"l\":\"0\",\"upperSection\":null,\"url\":\"/basketball/news/index\",\"off\":\"https://imgsports.pstatic.net/images/2015/PC/lnb2/sub_news.png\",\"isImageTypeMenu\":false,\"alt_u\":\"\",\"w\":60,\"onUrl\":\"/basketball/news/index.nhn;/kbl/news/index.nhn;/nba/news/index.nhn;/wkbl/news/index.nhn;/basketballetc/news/index.nhn;/basketball/news/read.nhn;/kbl/news/read.nhn;/nba/news/read.nhn;/wkbl/news/read.nhn;/basketballetc/news/read.nhn;/news.nhn;/basketball/news/index;/kbl/news/index;/nba/news/index;/wkbl/news/index;/basketballetc/news/index;/basketball/news/read;/kbl/news/read;/nba/news/read;/wkbl/news/read;/basketballetc/news/read;/news\",\"on\":\"https://imgsports.pstatic.net/images/2015/PC/lnb2/sub_news_on.png\"},{\"a\":\"0\",\"side\":\"\",\"c\":\"video\",\"h\":22,\"alt\":\"영상\",\"className\":\"\",\"l\":\"0\",\"upperSection\":null,\"url\":\"/basketball/vod/index\",\"off\":\"https://imgsports.pstatic.net/images/2015/PC/lnb2/sub_video.png\",\"isImageTypeMenu\":false,\"alt_u\":\"\",\"w\":39,\"onUrl\":\"/basketball/vod/index.nhn;/videoCenter/index.nhn?uCategory=wbasketball;/videoCenter/index.nhn?uCategory=wbasketball&&category=nba;/videoCenter/index.nhn?uCategory=kbasketball&category=kbl;/videoCenter/index.nhn?uCategory=kbasketball&category=wkbl;/videoCenter/index.nhn?uCategory=kbasketball;/videoCenter/index?uCategory=wbasketball;/videoCenter/index?uCategory=wbasketball&&category=nba;/videoCenter/index?uCategory=kbasketball&category=kbl;/videoCenter/index?uCategory=kbasketball&category=wkbl;/videoCenter/index?uCategory=kbasketball;\",\"on\":\"https://imgsports.pstatic.net/images/2015/PC/lnb2/sub_video_on.png\"},{\"a\":\"0\",\"side\":\"\",\"c\":\"album\",\"h\":22,\"alt\":\"생생화보\",\"className\":\"\",\"l\":\"0\",\"upperSection\":null,\"url\":\"/photocenter/albumList?category=kbasketball\",\"off\":\"https://imgsports.pstatic.net/images/2015/PC/lnb2/sub_photo.png\",\"isImageTypeMenu\":false,\"alt_u\":\"\",\"w\":60,\"onUrl\":\"/photocenter/albumList.nhn?category=kbasketball;/photocenter/photoList.nhn?category=kbasketball;/photocenter/photo.nhn?category=kbasketball;/photocenter/albumList.nhn?category=nba;/photocenter/photoList.nhn?category=nba;/photocenter/photo.nhn?category=nba;/photocenter/albumList?category=kbasketball;/photocenter/photoList?category=kbasketball;/photocenter/photo?category=kbasketball;/photocenter/albumList?category=nba;/photocenter/photoList?category=nba;/photocenter/photo?category=nba;\",\"on\":\"https://imgsports.pstatic.net/images/2015/PC/lnb2/sub_photo_on.png\"},{\"a\":\"0\",\"side\":\"\",\"c\":\"schedule\",\"h\":22,\"alt\":\"일정/결과\",\"className\":\"\",\"l\":\"0\",\"upperSection\":null,\"url\":\"/basketball/schedule/index\",\"off\":\"https://imgsports.pstatic.net/images/2015/PC/lnb2/sub_schedule.png\",\"isImageTypeMenu\":false,\"alt_u\":\"\",\"w\":65,\"onUrl\":\"/basketball/schedule/index.nhn;/schedule/index.nhn?category=kbl;/schedule/index.nhn?category=nba;/schedule/index.nhn?category=wkbl;/sports/new/live/index.nhn?category=kbl;/schedule/index?category=kbl;/schedule/index?category=nba;/schedule/index?category=wkbl;/sports/new/live/index?category=kbl;\",\"on\":\"https://imgsports.pstatic.net/images/2015/PC/lnb2/sub_schedule_on.png\"},{\"a\":\"0\",\"side\":\"\",\"c\":\"record\",\"h\":22,\"alt\":\"기록/순위\",\"className\":\"\",\"l\":\"0\",\"upperSection\":null,\"url\":\"/basketball/record/index?category=kbl\",\"off\":\"https://imgsports.pstatic.net/images/2015/PC/lnb2/sub_record.png\",\"isImageTypeMenu\":false,\"alt_u\":\"\",\"w\":66,\"onUrl\":\"/basketball/record/index.nhn?category=kbl;/basketball/record/index.nhn?category=wkbl;/basketball/record/index.nhn?category=nba;/basketball/record/index?category=wkbl;/basketball/record/index?category=nba;\",\"on\":\"https://imgsports.pstatic.net/images/2015/PC/lnb2/sub_record_on.png\"},{\"a\":\"0\",\"side\":\"\",\"c\":\"\",\"h\":22,\"alt\":\"구단/협회\",\"className\":\"\",\"l\":\"0\",\"upperSection\":null,\"url\":\"/basketball/column/columnistList\",\"off\":\"https://imgsports.pstatic.net/images/2015/PC/lnb2/sub_column.png\",\"isImageTypeMenu\":false,\"alt_u\":\"\",\"w\":64,\"onUrl\":\"/basketball/column/columnistList.nhn;/basketball/column/columnList.nhn;/basketball/news/read.nhn?viewType=CLUB;/basketball/club/postList.nhn;/basketball/column/columnList;/basketball/news/read?viewType=CLUB;/basketball/club/postList;\",\"on\":\"https://imgsports.pstatic.net/images/2015/PC/lnb2/sub_column_on.png\"}],\"h\":22,\"alt\":\"농구\",\"className\":\"\",\"l\":\"0\",\"upperSection\":\"basketball\",\"url\":\"/basketball/index\",\"off\":\"https://imgsports.pstatic.net/images/2015/PC/lnb2/basketball.png\",\"isImageTypeMenu\":false,\"alt_u\":\"\",\"w\":38,\"onUrl\":\"/basketball/index.nhn;/sports/index.nhn?category=kbl;/basketball/issue/index.nhn;/basketball/index;/sports/index?category=kbl;/basketball/issue/index\",\"on\":\"https://imgsports.pstatic.net/images/2015/PC/lnb2/basketball_on.png\"},{\"a\":\"\",\"side\":\"left\",\"c\":\"kvolleyball\",\"subMenuList\":[{\"a\":\"0\",\"side\":\"\",\"c\":\"kvolleyball\",\"h\":22,\"alt\":\"최신뉴스\",\"className\":\"\",\"l\":\"0\",\"upperSection\":null,\"url\":\"/volleyball/news/index\",\"off\":\"https://imgsports.pstatic.net/images/2015/PC/lnb2/sub_news.png\",\"isImageTypeMenu\":false,\"alt_u\":\"\",\"w\":60,\"onUrl\":\"/volleyball/news/index.nhn;/volleyball/news/read.nhn;/news.nhn;/volleyball/news/index;/volleyball/news/read;/news\",\"on\":\"https://imgsports.pstatic.net/images/2015/PC/lnb2/sub_news_on.png\"},{\"a\":\"0\",\"side\":\"\",\"c\":\"video\",\"h\":22,\"alt\":\"영상\",\"className\":\"\",\"l\":\"0\",\"upperSection\":null,\"url\":\"/volleyball/vod/index\",\"off\":\"https://imgsports.pstatic.net/images/2015/PC/lnb2/sub_video.png\",\"isImageTypeMenu\":false,\"alt_u\":\"\",\"w\":39,\"onUrl\":\"/volleyball/vod/index.nhn;/kvolleyball/vod/index.nhn;/volleyball/vod/index;/kvolleyball/vod/index\",\"on\":\"https://imgsports.pstatic.net/images/2015/PC/lnb2/sub_video_on.png\"},{\"a\":\"0\",\"side\":\"\",\"c\":\"album\",\"h\":22,\"alt\":\"생생화보\",\"className\":\"\",\"l\":\"0\",\"upperSection\":null,\"url\":\"/photocenter/albumList?category=volleyball\",\"off\":\"https://imgsports.pstatic.net/images/2015/PC/lnb2/sub_photo.png\",\"isImageTypeMenu\":false,\"alt_u\":\"\",\"w\":60,\"onUrl\":\"/photocenter/albumList.nhn?category=volleyball;/photocenter/photoList.nhn?category=volleyball;/photocenter/photo.nhn?category=volleyball;/photocenter/albumList?category=volleyball;/photocenter/photoList?category=volleyball;/photocenter/photo?category=volleyball;\",\"on\":\"https://imgsports.pstatic.net/images/2015/PC/lnb2/sub_photo_on.png\"},{\"a\":\"0\",\"side\":\"\",\"c\":\"schedule\",\"h\":22,\"alt\":\"일정/결과\",\"className\":\"\",\"l\":\"0\",\"upperSection\":null,\"url\":\"/volleyball/schedule/index\",\"off\":\"https://imgsports.pstatic.net/images/2015/PC/lnb2/sub_schedule.png\",\"isImageTypeMenu\":false,\"alt_u\":\"\",\"w\":65,\"onUrl\":\"/schedule/index.nhn?category=kvolleyball;/schedule/index.nhn?uCategory=kvolleyball;/volleyball/schedule/index.nhn;/schedule/index?category=kvolleyball;/schedule/index?uCategory=kvolleyball;\",\"on\":\"https://imgsports.pstatic.net/images/2015/PC/lnb2/sub_schedule_on.png\"},{\"a\":\"0\",\"side\":\"\",\"c\":\"record\",\"h\":22,\"alt\":\"기록/순위\",\"className\":\"\",\"l\":\"0\",\"upperSection\":null,\"url\":\"/volleyball/record/index\",\"off\":\"https://imgsports.pstatic.net/images/2015/PC/lnb2/sub_record.png\",\"isImageTypeMenu\":false,\"alt_u\":\"\",\"w\":66,\"onUrl\":\"/volleyball/record/index.nhn\",\"on\":\"https://imgsports.pstatic.net/images/2015/PC/lnb2/sub_record_on.png\"},{\"a\":\"0\",\"side\":\"\",\"c\":\"64\",\"h\":22,\"alt\":\"구단/협회\",\"className\":\"\",\"l\":\"0\",\"upperSection\":null,\"url\":\"/volleyball/column/columnistList\",\"off\":\"https://imgsports.pstatic.net/images/2015/PC/lnb2/sub_column.png\",\"isImageTypeMenu\":false,\"alt_u\":\"\",\"w\":64,\"onUrl\":\"/volleyball/column/columnistList.nhn;/volleyball/column/columnList.nhn;/volleyball/column/columnistList.nhn;/kvolleyball/column/columnList.nhn;;/volleyball/news/read.nhn?viewType=CLUB;/volleyball/club/postList.nhn;/volleyball/column/columnList;/volleyball/column/columnistList;/kvolleyball/column/columnList;;/volleyball/news/read?viewType=CLUB;/volleyball/club/postList;\",\"on\":\"https://imgsports.pstatic.net/images/2015/PC/lnb2/sub_column_on.png\"}],\"h\":22,\"alt\":\"배구\",\"className\":\"\",\"l\":\"0\",\"upperSection\":\"volleyball\",\"url\":\"/volleyball/index\",\"off\":\"https://imgsports.pstatic.net/images/2015/PC/lnb2/volleyball.png\",\"isImageTypeMenu\":false,\"alt_u\":\"\",\"w\":38,\"onUrl\":\"/volleyball/index.nhn;/volleyball/issue/index;/volleyball/issue/index.nhn\",\"on\":\"https://imgsports.pstatic.net/images/2015/PC/lnb2/volleyball_on.png\"},{\"a\":\"\",\"side\":\"left\",\"c\":\"golf\",\"subMenuList\":[{\"a\":\"0\",\"side\":\"\",\"c\":\"news\",\"h\":22,\"alt\":\"최신뉴스\",\"className\":\"\",\"l\":\"0\",\"upperSection\":null,\"url\":\"/golf/news/index\",\"off\":\"https://imgsports.pstatic.net/images/2015/PC/lnb2/sub_news.png\",\"isImageTypeMenu\":false,\"alt_u\":\"\",\"w\":60,\"onUrl\":\"/golf/news/index.nhn;/golf/news/read.nhn;/news.nhn;/golf/news/read;/news\",\"on\":\"https://imgsports.pstatic.net/images/2015/PC/lnb2/sub_news_on.png\"},{\"a\":\"0\",\"side\":\"\",\"c\":\"video\",\"h\":22,\"alt\":\"영상\",\"className\":\"\",\"l\":\"0\",\"upperSection\":null,\"url\":\"/golf/vod/index\",\"off\":\"https://imgsports.pstatic.net/images/2015/PC/lnb2/sub_video.png\",\"isImageTypeMenu\":false,\"alt_u\":\"\",\"w\":39,\"onUrl\":\"/golf/vod/index.nhn\",\"on\":\"https://imgsports.pstatic.net/images/2015/PC/lnb2/sub_video_on.png\"},{\"a\":\"0\",\"side\":\"\",\"c\":\"album\",\"h\":22,\"alt\":\"생생화보\",\"className\":\"\",\"l\":\"0\",\"upperSection\":null,\"url\":\"/photocenter/albumList?category=golf\",\"off\":\"https://imgsports.pstatic.net/images/2015/PC/lnb2/sub_photo.png\",\"isImageTypeMenu\":false,\"alt_u\":\"\",\"w\":60,\"onUrl\":\"/photocenter/albumList.nhn?category=golf;/photocenter/photoList.nhn?category=golf;/photocenter/photo.nhn?category=golf;/photocenter/photoList?category=golf;/photocenter/photo?category=golf\",\"on\":\"https://imgsports.pstatic.net/images/2015/PC/lnb2/sub_photo_on.png\"},{\"a\":\"0\",\"side\":\"\",\"c\":\"schedule\",\"h\":22,\"alt\":\"일정/결과\",\"className\":\"\",\"l\":\"0\",\"upperSection\":null,\"url\":\"/golf/schedule/index\",\"off\":\"https://imgsports.pstatic.net/images/2015/PC/lnb2/sub_schedule.png\",\"isImageTypeMenu\":false,\"alt_u\":\"\",\"w\":65,\"onUrl\":\"/golf/schedule/index.nhn;/gameCenter/leaderboard.nhn;/gameCenter/leaderboard\",\"on\":\"https://imgsports.pstatic.net/images/2015/PC/lnb2/sub_schedule_on.png\"},{\"a\":\"0\",\"side\":\"\",\"c\":\"record\",\"h\":22,\"alt\":\"기록/순위\",\"className\":\"\",\"l\":\"0\",\"upperSection\":null,\"url\":\"/golf/record/index\",\"off\":\"https://imgsports.pstatic.net/images/2015/PC/lnb2/sub_record.png\",\"isImageTypeMenu\":false,\"alt_u\":\"\",\"w\":66,\"onUrl\":\"/golf/record/index.nhn\",\"on\":\"https://imgsports.pstatic.net/images/2015/PC/lnb2/sub_record_on.png\"},{\"a\":\"0\",\"side\":\"\",\"c\":\"\",\"h\":22,\"alt\":\"구단/협회\",\"className\":\"\",\"l\":\"0\",\"upperSection\":null,\"url\":\"/golf/column/columnistList\",\"off\":\"https://imgsports.pstatic.net/images/2015/PC/lnb2/sub_column.png\",\"isImageTypeMenu\":false,\"alt_u\":\"\",\"w\":64,\"onUrl\":\"/golf/column/columnistList.nhn;/golf/column/columnList.nhn;/golf/news/read.nhn?viewType=CLUB;/golf/club/postList.nhn;/golf/column/columnList;/golf/news/read?viewType=CLUB;/golf/club/postList;\",\"on\":\"https://imgsports.pstatic.net/images/2015/PC/lnb2/sub_column_on.png\"}],\"h\":22,\"alt\":\"골프\",\"className\":\"\",\"l\":\"0\",\"upperSection\":\"golf\",\"url\":\"/golf/index\",\"off\":\"https://imgsports.pstatic.net/images/2015/PC/lnb2/golf.png\",\"isImageTypeMenu\":false,\"alt_u\":\"\",\"w\":38,\"onUrl\":\"/golf/index.nhn;/golf/issue/index.nhn;/golf/index;/golf/issue/index\",\"on\":\"https://imgsports.pstatic.net/images/2015/PC/lnb2/golf_on.png\"},{\"a\":\"\",\"side\":\"left\",\"c\":\"general\",\"subMenuList\":[{\"a\":\"0\",\"side\":\"\",\"c\":\"news\",\"h\":22,\"alt\":\"최신뉴스\",\"className\":\"\",\"l\":\"0\",\"upperSection\":null,\"url\":\"/general/news/index\",\"off\":\"https://imgsports.pstatic.net/images/2015/PC/lnb2/sub_news.png\",\"isImageTypeMenu\":false,\"alt_u\":\"\",\"w\":60,\"onUrl\":\"/general/news/index.nhn;/sportsetc/news/index.nhn;/fight/news/index.nhn;/handball/news/index.nhn;/tennis/news/index.nhn;/sportsindustry/news/index.nhn;/general/news/read.nhn;/sportsetc/news/read.nhn;/fight/news/read.nhn;/handball/news/read.nhn;/tennis/news/read.nhn;/baduk/news/index.nhn;/sportsindustry/news/read.nhn;/baduk/news/read.nhn;/pcp2018/news/read.nhn;/ag2018/news/index.nhn;/news.nhn;/general/news/index;/sportsetc/news/index;/fight/news/index;/handball/news/index;/tennis/news/index;/sportsindustry/news/index;/general/news/read;/sportsetc/news/read;/fight/news/read;/handball/news/read;/tennis/news/read;/baduk/news/index;/sportsindustry/news/read;/baduk/news/read;/pcp2018/news/read;/ag2018/news/index;/news\",\"on\":\"https://imgsports.pstatic.net/images/2015/PC/lnb2/sub_news_on.png\"},{\"a\":\"0\",\"side\":\"\",\"c\":\"video\",\"h\":22,\"alt\":\"영상\",\"className\":\"\",\"l\":\"0\",\"upperSection\":null,\"url\":\"/general/vod/index\",\"off\":\"https://imgsports.pstatic.net/images/2015/PC/lnb2/sub_video.png\",\"isImageTypeMenu\":false,\"alt_u\":\"\",\"w\":39,\"onUrl\":\"/general/vod/index.nhn\",\"on\":\"https://imgsports.pstatic.net/images/2015/PC/lnb2/sub_video_on.png\"},{\"a\":\"0\",\"side\":\"\",\"c\":\"album\",\"h\":22,\"alt\":\"생생화보\",\"className\":\"\",\"l\":\"0\",\"upperSection\":null,\"url\":\"/photocenter/albumList?category=general\",\"off\":\"https://imgsports.pstatic.net/images/2015/PC/lnb2/sub_photo.png\",\"isImageTypeMenu\":false,\"alt_u\":\"\",\"w\":60,\"onUrl\":\"/photocenter/albumList.nhn?category=general;/photocenter/photoList.nhn?category=general;/photocenter/photo.nhn?category=general;/photocenter/albumList.nhn?category=etc;/photocenter/photoList.nhn?category=etc;/photocenter/photo.nhn?category=etc;/photocenter/albumList.nhn?category=pcp2018;/photocenter/photoList.nhn?category=pcp2018;/photocenter/photo.nhn?category=pcp2018;/photocenter/photoList?category=general;/photocenter/photo?category=general;/photocenter/albumList?category=etc;/photocenter/photoList?category=etc;/photocenter/photo?category=etc;/photocenter/albumList?category=pcp2018;/photocenter/photoList?category=pcp2018;/photocenter/photo?category=pcp2018;\",\"on\":\"https://imgsports.pstatic.net/images/2015/PC/lnb2/sub_photo_on.png\"},{\"a\":\"0\",\"side\":\"\",\"c\":\"\",\"h\":22,\"alt\":\"구단/협회\",\"className\":\"\",\"l\":\"0\",\"upperSection\":null,\"url\":\"/general/column/columnistList\",\"off\":\"https://imgsports.pstatic.net/images/2015/PC/lnb2/sub_column.png\",\"isImageTypeMenu\":false,\"alt_u\":\"\",\"w\":64,\"onUrl\":\"/general/column/columnistList.nhn;/general/column/columnList.nhn;/general/news/read.nhn?viewType=CLUB;/general/club/postList.nhn;/general/column/columnList;/general/news/read?viewType=CLUB;/general/club/postList;\",\"on\":\"https://imgsports.pstatic.net/images/2015/PC/lnb2/sub_column_on.png\"},{\"a\":\"0\",\"side\":\"\",\"c\":\"ioctv\",\"h\":38,\"alt\":\"올림픽 채널\",\"className\":\"\",\"l\":\"0\",\"upperSection\":null,\"url\":\"/general/vod/index?category=ioctv\",\"off\":\"https://sports-phinf.pstatic.net/20201028_266/1603885054117oGjdM_PNG/ol_channel_off.png\",\"isImageTypeMenu\":true,\"alt_u\":\"\",\"w\":158,\"onUrl\":\"/general/vod/index.nhn?category=ioctv\",\"on\":\"https://sports-phinf.pstatic.net/20201028_159/1603885045353Rov1k_PNG/ol_channel_on.png\"}],\"h\":22,\"alt\":\"일반\",\"className\":\"\",\"l\":\"0\",\"upperSection\":\"general\",\"url\":\"/general/index\",\"off\":\"https://imgsports.pstatic.net/images/2015/PC/lnb2/general.png\",\"isImageTypeMenu\":false,\"alt_u\":\"\",\"w\":38,\"onUrl\":\"/general/index.nhn;/general/issue/index.nhn;/general/index;/general/issue/index;\",\"on\":\"https://imgsports.pstatic.net/images/2015/PC/lnb2/general_on.png\"},{\"a\":\"0\",\"side\":\"left\",\"c\":\"esports\",\"subMenuList\":[{\"a\":\"0\",\"side\":\"\",\"c\":\"news\",\"h\":22,\"alt\":\"최신뉴스\",\"className\":\"\",\"l\":\"0\",\"upperSection\":null,\"url\":\"https://game.naver.com/esports/news/all\",\"off\":\"https://imgsports.pstatic.net/images/2015/PC/lnb2/sub_news.png\",\"isImageTypeMenu\":false,\"alt_u\":\"\",\"w\":60,\"onUrl\":\"/esports/news/index.nhn;/lol/news/index.nhn;/starcraft2/news/index.nhn;/fifa/news/index.nhn;/dota/news/index.nhn;/herthstone/news/index.nhn;/esportsetc/news/index.nhn;/gameetc/news/index.nhn;/esports/news/read.nhn;/lol/news/read.nhn;/starcraft2/news/read.nhn;/fifa/news/read.nhn;/dota/news/read.nhn;/herthstone/news/read.nhn;/esportsetc/news/read.nhn;/gameetc/news/read.nhn;/news.nhn\",\"on\":\"https://imgsports.pstatic.net/images/2015/PC/lnb2/sub_news_on.png\"},{\"a\":\"0\",\"side\":\"\",\"c\":\"video\",\"h\":22,\"alt\":\"영상\",\"className\":\"\",\"l\":\"0\",\"upperSection\":null,\"url\":\"https://game.naver.com/esports/videos\",\"off\":\"https://imgsports.pstatic.net/images/2015/PC/lnb2/sub_video.png\",\"isImageTypeMenu\":false,\"alt_u\":\"\",\"w\":39,\"onUrl\":\"\",\"on\":\"https://imgsports.pstatic.net/images/2015/PC/lnb2/sub_video_on.png\"},{\"a\":\"0\",\"side\":\"\",\"c\":\"schedule\",\"h\":22,\"alt\":\"일정/결과\",\"className\":\"\",\"l\":\"0\",\"upperSection\":null,\"url\":\"https://game.naver.com/esports/schedule\",\"off\":\"https://imgsports.pstatic.net/images/2015/PC/lnb2/sub_schedule.png\",\"isImageTypeMenu\":false,\"alt_u\":\"\",\"w\":65,\"onUrl\":\"\",\"on\":\"https://imgsports.pstatic.net/images/2015/PC/lnb2/sub_schedule_on.png\"},{\"a\":\"0\",\"side\":\"\",\"c\":\"record\",\"h\":22,\"alt\":\"순위\",\"className\":\"\",\"l\":\"0\",\"upperSection\":null,\"url\":\"https://game.naver.com/esports/record\",\"off\":\"https://sports-phinf.pstatic.net/20210527_78/1622081330162OhbYu_PNG/LNB_%C8%F2%BB%F6_60x22.png\",\"isImageTypeMenu\":false,\"alt_u\":\"\",\"w\":60,\"onUrl\":\"\",\"on\":\"https://sports-phinf.pstatic.net/20210527_83/1622081321394OxJVv_PNG/LNB_%C6%C4%B6%F5_60x22.png\"}],\"h\":22,\"alt\":\"e스포츠\",\"className\":\"\",\"l\":\"0\",\"upperSection\":\"esports\",\"url\":\"https://game.naver.com/esports\",\"off\":\"https://sports-phinf.pstatic.net/20210601_39/1622473688696u0Pgr_PNG/LNB_%C8%F2%BB%F6_60x22.png\",\"isImageTypeMenu\":false,\"alt_u\":\"\",\"w\":60,\"onUrl\":\"\",\"on\":\"https://sports-phinf.pstatic.net/20210601_224/16224736836510ytXB_PNG/LNB_%C6%C4%B6%F5_%B9%E8%B0%E6O_60x22.png\"},{\"a\":\"\",\"side\":\"right\",\"c\":\"scoreboard\",\"subMenuList\":[],\"h\":22,\"alt\":\"오늘의 경기\",\"className\":\"\",\"l\":\"0\",\"upperSection\":null,\"url\":\"/scoreboard/index\",\"off\":\"https://imgsports.pstatic.net/images/2015/PC/lnb2/scoreboard.png\",\"isImageTypeMenu\":false,\"alt_u\":\"\",\"w\":47,\"onUrl\":\"/scoreboard/index.nhn;/main/calendar.nhn;/scoreboard/index.nhn;/main/calendar;/scoreboard/index;\",\"on\":\"https://imgsports.pstatic.net/images/2015/PC/lnb2/scoreboard_on.png\"},{\"a\":\"\",\"side\":\"right\",\"c\":\"column\",\"subMenuList\":[],\"h\":22,\"alt\":\"연재\",\"className\":\"\",\"l\":\"0\",\"upperSection\":null,\"url\":\"/column/columnistList\",\"off\":\"https://sports-phinf.pstatic.net/20170830_97/15040692784550IFtd_PNG/column1_on.png\",\"isImageTypeMenu\":false,\"alt_u\":\"\",\"w\":35,\"onUrl\":\"/column/columnistList.nhn;/column/columnList.nhn;/column/columnList\",\"on\":\"https://sports-phinf.pstatic.net/20170830_21/15040692610719i4Vl_PNG/column1.png\"},{\"a\":\"\",\"side\":\"right\",\"c\":\"ranking\",\"subMenuList\":[],\"h\":22,\"alt\":\"랭킹\",\"className\":\"\",\"l\":\"0\",\"upperSection\":null,\"url\":\"/ranking/index\",\"off\":\"https://imgsports.pstatic.net/images/2015/PC/lnb2/ranking.png\",\"isImageTypeMenu\":false,\"alt_u\":\"\",\"w\":36,\"onUrl\":\"/ranking/index.nhn\",\"on\":\"https://imgsports.pstatic.net/images/2015/PC/lnb2/ranking_on.png\"}];\n",
      "</script>\n",
      "<div class=\"sports_menu\" id=\"_sports_lnb_menu\" role=\"navigation\">\n",
      "<div class=\"menu_area\">\n",
      "<h2 class=\"blind\">메인 메뉴</h2>\n",
      "<ul class=\"main_menu_list\" role=\"menubar\">\n",
      "</ul>\n",
      "<ul class=\"side_menu_list\" role=\"menubar\">\n",
      "</ul>\n",
      "<form action=\"https://search.naver.com/search.naver\" method=\"get\" name=\"news_search\" target=\"_blank\">\n",
      "<fieldset class=\"search_field\">\n",
      "<legend class=\"blind\">스포츠 검색</legend>\n",
      "<input name=\"where\" type=\"hidden\" value=\"news\"/>\n",
      "<input name=\"ie\" type=\"hidden\" value=\"UTF-8\"/>\n",
      "<input aria-label=\"검색어 입력\" class=\"input_search\" id=\"query\" name=\"query\" type=\"text\"/>\n",
      "<button class=\"button_search\" id=\"querybtn\" onclick=\"javascript:clickcr(this, 'LNB.search', '', '', event);\" type=\"submit\"><span class=\"blind\">검색</span>\n",
      "</button>\n",
      "</fieldset>\n",
      "</form>\n",
      "</div>\n",
      "</div>\n",
      "<script id=\"_sports_lnb_menu_li_template\" type=\"text/x-handlebars-template\">\n",
      "\t<li class=\"main_menu_item\" role=\"presentation\">\n",
      "\t\t<a href=\"{{url}}\" class=\"link_main_menu\" role=\"menuitem\" {{#if selected}}aria-current=\"page\" {{/if}}\n",
      "\t\t\t\t\t\t\t\t\t\t\t\t\t\t\t\t\t\t\t\t\t\t\t\t\t   onclick=\"clickcr(this,\n",
      "\t\t\t\t\t\t\t\t\t\t\t\t\t\t\t\t\t\t\t\t\t\t\t\t\t   'LNB.{{c}}',\n",
      "\t\t\t\t\t\t\t\t\t\t\t\t\t\t\t\t\t\t\t\t\t\t\t\t\t   '{{c}}', '',\n",
      "\t\t\t\t\t\t\t\t\t\t\t\t\t\t\t\t\t\t\t\t\t\t\t\t\t   event);\">{{alt}}</a>\n",
      "\t\t<ul class=\"sub_menu_list\" role=\"menubar\">\n",
      "\t\t\t{{#each subMenuList}}\n",
      "\t\t\t<li class=\"sub_menu_item {{#isSpotType}}type_spot{{/isSpotType}}\" role=\"presentation\">\n",
      "\t\t\t\t<a href=\"{{url}}\" class=\"link_sub_menu\" role=\"menuitem\"\n",
      "\t\t\t\t   {{#ifCond l '==' 1}}target=\"_blank\"{{/ifCond}}\n",
      "\t\t\t\t   onclick=\"clickcr(this, 'LNB.{{c}}', '{{c}}', '', event);\" {{#if selected}}aria-current=\"page\" {{/if}}>\n",
      "\t\t\t\t\t{{#if isImageTypeMenu}}\n",
      "\t\t\t\t\t\t{{#if selected}}\n",
      "\t\t\t\t\t\t\t<img src=\"{{on}}\" width=\"{{w}}\" height=\"{{h}}\" alt=\"{{alt}}\">\n",
      "\t\t\t\t\t\t{{else}}\n",
      "\t\t\t\t\t\t\t<img src=\"{{off}}\" width=\"{{w}}\" height=\"{{h}}\" alt=\"{{alt}}\">\n",
      "\t\t\t\t\t\t{{/if}}\n",
      "\t\t\t\t\t{{else}}\n",
      "\t\t\t\t\t\t{{alt}}\n",
      "\t\t\t\t\t{{/if}}\n",
      "\t\t\t\t</a>\n",
      "\t\t\t</li>\n",
      "\t\t\t{{/each}}\n",
      "\t\t</ul>\n",
      "\t</li>\n",
      "</script>\n",
      "<script>\n",
      "\tnaver = window.naver || {};\n",
      "\tnaver.sports = naver.sports || {};\n",
      "\tnaver.sports.top = naver.sports.top || {};\n",
      "\tnaver.sports.top.Lnb = eg.Class({\n",
      "\n",
      "\t\tconstruct: function (htOption) {\n",
      "\t\t\tthis._initVars(htOption);\n",
      "\t\t\tthis._initHandlebarsTemplate();\n",
      "\t\t\tthis._init();\n",
      "\t\t\tthis._setEventHandler();\n",
      "\t\t},\n",
      "\t\t_initVars: function (htOption) {\n",
      "\t\t\tthis._lnbMenus = htOption.lnbMenus || {};\n",
      "\t\t\tthis._pathname = location.pathname;\n",
      "\t\t\tthis._search = location.search;\n",
      "\t\t\tthis._targetUpperSection = htOption.targetUpperSection;\n",
      "\n",
      "\t\t},\n",
      "\t\t_initHandlebarsTemplate: function () {\n",
      "\t\t\tthis._sportsLnbMenuLiTemplate = Handlebars.compile($(\"#_sports_lnb_menu_li_template\").html());\n",
      "\n",
      "\n",
      "\t\t\tHandlebars.registerHelper('isSpotType', function (options) {\n",
      "\t\t\t\tif (this.c === 'baseball9' || this.c === 'spotv') {\n",
      "\t\t\t\t\treturn options.fn(this);\n",
      "\t\t\t\t} else {\n",
      "\t\t\t\t\treturn options.inverse(this);\n",
      "\t\t\t\t}\n",
      "\t\t\t});\n",
      "\n",
      "\t\t},\n",
      "\t\t_init: function () {\n",
      "\n",
      "\t\t\tif ($(\"div#lnb_main_sub\").length > 0) {\n",
      "\t\t\t\t$(\"div#lnb_main_sub\").detach();\n",
      "\t\t\t}\n",
      "\n",
      "\t\t\t_.each(this._lnbMenus, $.proxy(function (menu) {\n",
      "\t\t\t\tvar upperSection = menu.upperSection;\n",
      "\t\t\t\tthis._updateSelectedMenu(menu, upperSection);\n",
      "\t\t\t\t_.each(menu.subMenuList, $.proxy(function (subMenu) {\n",
      "\t\t\t\t\tthis._updateSelectedMenu(subMenu, upperSection);\n",
      "\t\t\t\t}, this));\n",
      "\t\t\t}, this));\n",
      "\n",
      "\t\t\tthis._draw();\n",
      "\t\t},\n",
      "\t\t_setEventHandler: function () {\n",
      "\t\t},\n",
      "\t\t_draw: function () {\n",
      "\t\t\t_.each(this._lnbMenus, $.proxy(function (menu) {\n",
      "\t\t\t\tvar menuHtml = this._sportsLnbMenuLiTemplate(menu);\n",
      "\n",
      "\t\t\t\tif (menu.side === 'left') {\n",
      "\t\t\t\t\t$(\"#_sports_lnb_menu ul.main_menu_list\").last().append(menuHtml);\n",
      "\t\t\t\t} else {\n",
      "\t\t\t\t\t$(\"#_sports_lnb_menu ul.side_menu_list\").last().append(menuHtml);\n",
      "\t\t\t\t}\n",
      "\n",
      "\t\t\t}, this));\n",
      "\n",
      "\t\t\tif ($(\"a.link_main_menu[aria-current='page']\").siblings(\"ul\").children().length > 0) {\n",
      "\t\t\t\t$(\"#_sports_lnb_menu\").addClass(\"type_submenu\");\n",
      "\t\t\t}\n",
      "\t\t},\n",
      "\n",
      "\t\t_updateSelectedMenu: function (menu, upperSection) {\n",
      "\t\t\tvar urlListToActivate = this._getUrlListToActivate(menu);\n",
      "\n",
      "\t\t\tfor (var j = 0; j < urlListToActivate.length; j++) {\n",
      "\t\t\t\tvar urlToActivate = urlListToActivate[j];\n",
      "\n",
      "\t\t\t\tif (_.isEqual(urlToActivate, this._pathname) && ( _.isEqual(this._pathname, \"/news\") || _.isEqual(this._pathname, \"/news.nhn\")) && _.isEqual(upperSection, this._targetUpperSection)) {\n",
      "\t\t\t\t\tmenu.selected = true;\n",
      "\t\t\t\t} else if (_.isEqual(urlToActivate, this._pathname) && !_.isEqual(this._pathname, \"/news\") && !_.isEqual(this._pathname, \"/news.nhn\") ) {\n",
      "\t\t\t\t\tmenu.selected = true;\n",
      "\t\t\t\t} else if (urlToActivate.indexOf(this._pathname) > -1 && this._hasQueryParameterToActivate(urlToActivate, this._search)) {\n",
      "\t\t\t\t\tmenu.selected = true;\n",
      "\t\t\t\t}\n",
      "\t\t\t}\n",
      "\t\t},\n",
      "\n",
      "\t\t_getUrlListToActivate: function (lnbMenuInfo) {\n",
      "\t\t\tvar result = [];\n",
      "\n",
      "\t\t\tresult.push(lnbMenuInfo.url);\n",
      "\t\t\tresult.push(lnbMenuInfo.url.replace(/.nhn/gi,''));\n",
      "\n",
      "\t\t\tvar urlListToActivate = [];\n",
      "\t\t\tvar onUrl = $.trim(lnbMenuInfo.onUrl);\n",
      "\n",
      "\t\t\tif (onUrl.length > 0) {\n",
      "\t\t\t\turlListToActivate = onUrl.replace(/.nhn/gi,'').split(\";\");\n",
      "\t\t\t\tresult = result.concat(onUrl.split(\";\"));\n",
      "\t\t\t\tresult = result.concat(urlListToActivate);\n",
      "\t\t\t}\n",
      "\n",
      "\t\t\tvar subMenuList = lnbMenuInfo.subMenuList;\n",
      "\n",
      "\t\t\tif (subMenuList) {\n",
      "\t\t\t\tfor (var i = 0; i < subMenuList.length; i++) {\n",
      "\t\t\t\t\tvar subMenu = lnbMenuInfo.subMenuList[i];\n",
      "\t\t\t\t\tresult.push(subMenu.url);\n",
      "\t\t\t\t\tresult.push(subMenu.url.replace(/.nhn/gi,''));\n",
      "\t\t\t\t\tvar onSubUrl = $.trim(subMenu.onUrl);\n",
      "\t\t\t\t\tif (onSubUrl.length > 0) {\n",
      "\t\t\t\t\t\tresult = result.concat(onSubUrl.split(\";\"));\n",
      "\t\t\t\t\t\tresult = result.concat(onSubUrl.replace(/.nhn/gi,'').split(\";\"));\n",
      "\t\t\t\t\t}\n",
      "\t\t\t\t}\n",
      "\t\t\t}\n",
      "\n",
      "\t\t\treturn result;\n",
      "\t\t},\n",
      "\t\t_hasQueryParameterToActivate: function (urlToActivate, currentQueryParameter) {\n",
      "\t\t\tvar queryParameterToActivate = getURLParameter(urlToActivate);\n",
      "\t\t\tvar currentQueryParameter = getURLParameter(currentQueryParameter);\n",
      "\n",
      "\t\t\tif (!queryParameterToActivate || !currentQueryParameter) {\n",
      "\t\t\t\treturn;\n",
      "\t\t\t}\n",
      "\n",
      "\t\t\tvar queryParameterToActivateMap = changeQueryStringToObject(queryParameterToActivate);\n",
      "\t\t\tvar currentQueryParameterMap = changeQueryStringToObject(currentQueryParameter);\n",
      "\n",
      "\t\t\tfor (var i in queryParameterToActivateMap) {\n",
      "\t\t\t\tfor (var j in currentQueryParameterMap) {\n",
      "\t\t\t\t\tif (i == j && queryParameterToActivateMap[i] == currentQueryParameterMap[j]) {\n",
      "\t\t\t\t\t\treturn true;\n",
      "\t\t\t\t\t}\n",
      "\t\t\t\t}\n",
      "\t\t\t}\n",
      "\n",
      "\t\t\treturn false;\n",
      "\t\t}\n",
      "\t});\n",
      "\n",
      "\tnew naver.sports.top.Lnb({\n",
      "\t\t\"lnbMenus\": lnbMenuInfoList,\n",
      "\t\t'targetUpperSection': 'kbaseball'\n",
      "\t});\n",
      "</script>\n",
      "</div>\n",
      "<script charset=\"utf-8\" src=\"https://ssl.pstatic.net/static.gn/templates/gnb_utf8.nhn?20211124\" type=\"text/javascript\"></script>\n",
      "<script type=\"text/javascript\">\n",
      "\t\t\t//NOTE : GNB init\n",
      "\t\t\tvar gnb_option = {\n",
      "\t\t\t\tgnb_one_naver: 1,\n",
      "\t\t\t\tgnb_brightness: 1,\n",
      "\t\t\t\tgnb_login: encodeURIComponent(window.location.href),\n",
      "\t\t\t\tgnb_logout: encodeURIComponent(window.location.href)\n",
      "\t\t\t};\n",
      "\n",
      "\t\t\t(function () {\n",
      "\t\t\t\tfunction loadGNB() {\n",
      "\t\t\t\t\t//NOTE : https://ssl.pstatic.net/static.gn/templates/gnb_utf8.nhn 회원쪽 gnb src 을 못 가져 왔을 때 방어처리\n",
      "\t\t\t\t\tif (typeof getGNB === \"function\") {\n",
      "\t\t\t\t\t\tgetGNB();\n",
      "\t\t\t\t\t}\n",
      "\t\t\t\t}\n",
      "\n",
      "\t\t\t\twindow.attachEvent ? window.attachEvent('onload', loadGNB) : window.addEventListener('load', loadGNB, false);\n",
      "\t\t\t})();\n",
      "\t\t</script>\n",
      "<div id=\"container\">\n",
      "<script id=\"_recommendJournalistTemplate\" type=\"text/x-handlebars-template\">\n",
      "\t<strong class=\"title\">{{officeHname}} 구독 많은 기자</strong>\n",
      "\t<ul class=\"reccomend_list\">\n",
      "\t\t{{#each result}}\n",
      "\t\t<li class=\"recommend_item _{{channelKey}}\">\n",
      "\t\t\t<a href=\"{{reporterUrl}}\" class=\"link_recommend\" onclick=\"clickcr(this, 'art.bmmore', '', '', event);\">\n",
      "\t\t\t\t<div class=\"img_wrap\">\n",
      "\t\t\t\t\t<img src=\"{{imageUrl}}\" width=\"44\" height=\"44\" alt=\"\" class=\"journalistcard_recommend_img\" onerror=\"$(this).hide();\">\n",
      "\t\t\t\t</div>\n",
      "\t\t\t\t<em class=\"name\">{{reporterName}}</em>\n",
      "\t\t\t\t<p class=\"info\">구독자 <em class=\"_reporter_subscribe_count\">{{numberFormat feedCount}}</em></p>\n",
      "\t\t\t</a>\n",
      "\n",
      "\t\t\t<div class=\"subscribe\">\n",
      "\t\t\t\t{{#ifeq subscribeYn 'Y'}}\n",
      "\t\t\t\t\t<button type=\"button\" class=\"button_subscribe _reporter_subscribe_btn _is_bm is_on\" data-channel-key=\"{{channelKey}}\">구독중</button>\n",
      "\t\t\t\t{{else}}\n",
      "\t\t\t\t\t<button type=\"button\" class=\"button_subscribe _reporter_subscribe_btn _is_bm\" data-channel-key=\"{{channelKey}}\">구독</button>\n",
      "\t\t\t\t{{/ifeq}}\n",
      "\t\t\t\t<!-- [D] 레이어 토글 -->\n",
      "\t\t\t\t<div class=\"subscribe_layer\" style=\"display: none\">\n",
      "\t\t\t\t\t<p><strong>{{reporterName}} 기자의 구독을 <br>취소하시겠습니까?</strong><br>구독에서 해당 기자의 기사가 제외됩니다.</p>\n",
      "\t\t\t\t\t<div class=\"button_group\">\n",
      "\t\t\t\t\t\t<button type=\"button\" class=\"button_layer _btn_y\" data-channel-key=\"{{channelKey}}\">예</button>\n",
      "\t\t\t\t\t\t<button type=\"button\" class=\"button_layer _btn_n\">아니오</button>\n",
      "\t\t\t\t\t</div>\n",
      "\t\t\t\t\t<button type=\"button\" class=\"button_layer_close\"><span class=\"blind\">닫기</span></button>\n",
      "\t\t\t\t</div>\n",
      "\t\t\t</div>\n",
      "\t\t</li>\n",
      "\t\t{{/each}}\n",
      "\t</ul>\n",
      "\t<button type=\"button\" class=\"button_close _close_reporter_recommend\"\n",
      "\t\t\tonclick=\"clickcr(this, 'art.bmclose', '', '', event);\"><span class=\"blind\">닫기</span></button>\n",
      "</script>\n",
      "<div class=\"newscenter\" id=\"content\">\n",
      "<div class=\"news_wrap\">\n",
      "<div class=\"content\">\n",
      "<div class=\"content_area\">\n",
      "<div class=\"news_headline\">\n",
      "<span class=\"logo\" id=\"pressLogo\"><a class=\"link\" href=\"http://star.moneytoday.co.kr\" target=\"_blank\"><img alt=\"스타뉴스\" height=\"35\" onerror=\"javascript:setPressLogo('스타뉴스');\" src=\"https://mimgnews.pstatic.net/image/upload/office_logo/108/2017/01/05/logo_108_11_20170105110805.gif\"/></a></span>\n",
      "<h4 class=\"title\">키움 선수단, 아동 양육 시설에 후원금 기부... 주장 김혜성이 전달</h4>\n",
      "<div class=\"info\">\n",
      "<span>기사입력 2021.11.24. 오후 02:58</span>\n",
      "<span><span class=\"bar\"></span>최종수정 2021.11.24. 오후 02:59</span>\n",
      "<a class=\"press_link\" href=\"http://star.mt.co.kr/stview.php?no=2021112414540773847\" target=\"_blank\">기사원문</a>\n",
      "</div>\n",
      "</div>\n",
      "<div class=\"news_work\">\n",
      "<div class=\"count\">\n",
      "<div class=\"_reactionModule u_likeit\" data-cid=\"ne_108_0003007300\" data-did=\"SPORTS\" data-sid=\"SPORTS\" style=\"visibility: hidden;\">\n",
      "<a aria-haspopup=\"true\" aria-pressed=\"false\" class=\"u_likeit_button _face\" data-label=\"news\" href=\"#\" onclick=\"return false;\" role=\"button\" style=\"display:none;\">\n",
      "<span class=\"u_likeit_icons _icons\">\n",
      "<span class=\"u_likeit_icon __reaction__like\"><span class=\"u_likeit_blind\">좋아요</span></span>\n",
      "</span>\n",
      "<span class=\"u_likeit_blind\">좋아요 평가하기</span>\n",
      "<span class=\"u_likeit_text _count\">공감</span>\n",
      "</a>\n",
      "<ul class=\"u_likeit_layer _faceLayer\" role=\"menu\" style=\"display:none;\">\n",
      "<li class=\"u_likeit_list good\" role=\"menuitem\">\n",
      "<a aria-selected=\"false\" class=\"u_likeit_list_button _button\" data-type=\"like\" href=\"#\" role=\"button\">\n",
      "<span class=\"u_likeit_list_name _label\">좋아요</span>\n",
      "<span class=\"u_likeit_list_count _count\">0</span>\n",
      "</a>\n",
      "</li>\n",
      "<li class=\"u_likeit_list sad\" role=\"menuitem\">\n",
      "<a aria-selected=\"false\" class=\"u_likeit_list_button _button\" data-type=\"sad\" href=\"#\" role=\"button\">\n",
      "<span class=\"u_likeit_list_name _label\">슬퍼요</span>\n",
      "<span class=\"u_likeit_list_count _count\">0</span>\n",
      "</a>\n",
      "</li>\n",
      "<li class=\"u_likeit_list angry\" role=\"menuitem\">\n",
      "<a aria-selected=\"false\" class=\"u_likeit_list_button _button\" data-type=\"angry\" href=\"#\" role=\"button\">\n",
      "<span class=\"u_likeit_list_name _label\">화나요</span>\n",
      "<span class=\"u_likeit_list_count _count\">0</span>\n",
      "</a>\n",
      "</li>\n",
      "<li class=\"u_likeit_list fan\" role=\"menuitem\">\n",
      "<a aria-selected=\"false\" class=\"u_likeit_list_button _button\" data-type=\"fan\" href=\"#\" role=\"button\">\n",
      "<span class=\"u_likeit_list_name _label\">팬이에요</span>\n",
      "<span class=\"u_likeit_list_count _count\">0</span>\n",
      "</a>\n",
      "</li>\n",
      "<li class=\"u_likeit_list want\" role=\"menuitem\">\n",
      "<a aria-selected=\"false\" class=\"u_likeit_list_button _button\" data-type=\"want\" href=\"#\" role=\"button\">\n",
      "<span class=\"u_likeit_list_name _label\">후속기사 원해요</span>\n",
      "<span class=\"u_likeit_list_count _count\">0</span>\n",
      "</a>\n",
      "</li>\n",
      "</ul>\n",
      "</div>\n",
      "<div class=\"sns_share\">\n",
      "<a class=\"naver-splugin\" data-oninitialize=\"splugin_oninitialize();\" data-option=\"{baseElement:'count', align:'left' }\" data-style=\"unity\" href=\"#\"><span class=\"naver-splugin-c sns_share_ico\"></span></a>\n",
      "</div>\n",
      "</div>\n",
      "<div class=\"setting\">\n",
      "<a class=\"article_font\" href=\"#\" id=\"fontSelectBox\">글꼴</a>\n",
      "<span class=\"article_zoom_tit\" id=\"fontSizeTitle\" style=\"display:none;\">글자크기</span>\n",
      "<ul class=\"font_set\" id=\"fontSelectList\">\n",
      "</ul>\n",
      "<a class=\"article_zoom_in\" href=\"javascript:scaleFont(1)\"><span class=\"blind\">본문 텍스트 한단계 확대</span></a>\n",
      "<a class=\"article_zoom_out\" href=\"javascript:scaleFont(-1)\"><span class=\"blind\">본문 텍스트 한단계 축소</span></a>\n",
      "<a class=\"article_print\" href=\"javascript:print('108', '0003007300');\"><span class=\"blind\">본문 프린트</span></a>\n",
      "</div>\n",
      "</div>\n",
      "<div class=\"news_end\" id=\"newsEndContents\">\n",
      "<span class=\"end_photo_org\"><img alt=\"\" src=\"https://imgnews.pstatic.net/image/108/2021/11/24/0003007300_001_20211124145903292.jpg?type=w647\"><em class=\"img_desc\">키움 주장 김혜성(오른쪽)이 서울SOS어린이마을에 후원금을 전달하는 사진을 찍고 있다./사진=키움 히어로즈</em></img></span>키움 히어로즈 주장 김혜성(22)이 선수단을 대표해 후원금을 전달했다.<br/><br/>키움은 24일 \"김혜성이 이날 오전 서울 양천구 신월동에 위치한 아동 양육 시설 '서울SOS어린이마을'에 방문해 선수단 상조회에서 모은 '사랑 나눔 후원금'을 기부했다\"고 밝혔다.<br/><br/>키움 선수단은 2014년부터 사회 공헌 활동의 일환으로 시즌 종료 후 '서울SOS어린이마을'을 방문했다. 하지만 신종 코로나바이러스 감염증(코로나 19)으로 인해 지난해부터 아이들과 함께 하는 사랑 나눔 행사를 생략하고 후원금 전달식만 진행하고 있다.<br/><br/>'서울 SOS 어린이마을'은 부모의 보호를 받을 수 없는 아이들이 자립할 때까지 생활할 수 있도록 종합적인 아동복지 서비스를 지원하는 아동 양육 시설이다.<br/><br/>김혜성은 \"선수단이 뜻을 모아 8년째 후원금을 전달하고 있다는 점에서 의미가 남다르다. 다만 코로나 19로 인해 아이들과 시간을 보내지 못한 점이 아쉽다. 선수들에게도 매우 뜻깊고 즐거운 시간이었던 만큼 하루빨리 상황이 좋아져 아이들과 함께 할 수 있었으면 좋겠다\"고 말했다.<br/><br/><!--article_split-->\n",
      "<p class=\"source\"><b>기사제공</b> 스타뉴스</p>\n",
      "<p class=\"byline\">김동윤 기자 (dongy291@mtstarnews.com)</p>\n",
      "<!-- /* 기자 카드 + 본문 내 기자 정보 -->\n",
      "<div class=\"reporter_area\">\n",
      "<div class=\"reporter _type_journalist _JOURNALIST_76144\">\n",
      "<div class=\"reporter_profile\">\n",
      "<a class=\"link_thumbnail\" href=\"https://media.naver.com/journalist/108/76144\" onclick=\"clickcr(this, 'art.more', '', '', event);\">\n",
      "<div class=\"thumbnail\">\n",
      "<!-- [D] 이미지 원본 사이즈 : 40x40 -->\n",
      "<img alt=\"\" height=\"40\" onerror=\"$(this).parent().hide();\" src=\"https://mimgnews.pstatic.net/image/upload/journalist/2021/07/05/20210702.jpg\" width=\"40\"/>\n",
      "</div>\n",
      "</a>\n",
      "<div class=\"profile_info\">\n",
      "<a class=\"link_press\" href=\"https://media.naver.com/journalist/108/76144\" onclick=\"clickcr(this, 'art.more', '', '', event);\">\n",
      "<div class=\"press\"><img alt=\"스타뉴스\" class=\"press_img\" height=\"20\" onerror=\"$(this).parent().hide();\" src=\" https://mimgnews.pstatic.net/image/upload/office_logo/108/2017/01/11/logo_108_6_20170111151211.jpg \" title=\"\"/></div>\n",
      "<div class=\"name\">김동윤 기자</div>\n",
      "</a>\n",
      "<div class=\"subscribe\">\n",
      "<button class=\"button_subscribe _reporter_subscribe_btn\" data-journalist-id=\"76144\" type=\"button\">구독</button>\n",
      "<!-- <button type=\"button\" class=\"button_subscribe is_on\">구독중</button> -->\n",
      "<!-- [D] 레이어 토글 -->\n",
      "<div class=\"subscribe_layer\" style=\"display: none\">\n",
      "<p><strong>김동윤 기자의 구독을 <br/>취소하시겠습니까?</strong><br/>구독에서 해당 기자의 기사가 제외됩니다.</p>\n",
      "<div class=\"button_group\">\n",
      "<button class=\"button_layer _btn_y\" data-journalist-id=\"76144\" type=\"button\">예</button>\n",
      "<button class=\"button_layer _btn_n\" type=\"button\">아니오</button>\n",
      "</div>\n",
      "<button class=\"button_layer_close\" type=\"button\"><span class=\"blind\">닫기</span></button>\n",
      "</div>\n",
      "</div>\n",
      "</div>\n",
      "<div class=\"subscribe_info\">\n",
      "<dl class=\"subscribe_info_list\">\n",
      "<div class=\"subscribe_info_item\" style=\"display:none\">\n",
      "<dt>구독자</dt>\n",
      "<dd class=\"_reporter_subscribe_count\">-</dd>\n",
      "</div>\n",
      "<div class=\"subscribe_info_item _reactionModule\" data-ccounttype=\"period\" data-cid=\"76144\" data-sid=\"JOURNALIST\" style=\"display:none\">\n",
      "<dt>응원수</dt>\n",
      "<dd class=\"_reporter_cheer_count\">-</dd>\n",
      "</div>\n",
      "</dl>\n",
      "</div>\n",
      "</div>\n",
      "<p class=\"message\">스타뉴스 김동윤 기자입니다.</p>\n",
      "<div class=\"reporter_morenews\">\n",
      "<ul class=\"morenews_list\">\n",
      "<li class=\"morenews_item\">\n",
      "<a class=\"link_morenews\" href=\"/news.nhn?oid=108&amp;aid=0003007156\" onclick=\"clickcr(this, 'art.bestart', '', '', event);\">텍사스의 다저스 따라하기... 커쇼 영입으로 정점 찍나</a>\n",
      "</li>\n",
      "<li class=\"morenews_item\">\n",
      "<a class=\"link_morenews\" href=\"/news.nhn?oid=108&amp;aid=0003005740\" onclick=\"clickcr(this, 'art.bestart', '', '', event);\">ML 153㎞ 좌완-56홈런 내야수, 둘 다 일본에 뺏겼다... \"머니게임 패배\"</a>\n",
      "</li>\n",
      "</ul>\n",
      "</div>\n",
      "</div>\n",
      "<div class=\"reporter_recommend\" style=\"display:none\">\n",
      "</div>\n",
      "</div>\n",
      "<!-- 카피라이트 배너 -->\n",
      "<div class=\"copyright\">\n",
      "<p>Copyright ⓒ 스타뉴스. All rights reserved. 무단 전재 및 재배포 금지.</p>\n",
      "</div>\n",
      "<!-- 기사 분류 -->\n",
      "<div class=\"categorize\" id=\"_article_section_guide\">\n",
      "<a aria-describedby=\"wa_categorize_tooltip\" class=\"btn_guide_categorize\" href=\"#wa_categorize_tooltip\" role=\"button\">기사 섹션 분류 가이드</a>\n",
      "<div class=\"guide_categorize\" style=\"display: none;\">\n",
      "<em class=\"guide_title\">기사 섹션 분류 안내</em>\n",
      "<p class=\"guide_text\" id=\"wa_categorize_tooltip\" role=\"tooltip\">스포츠 기사 섹션(종목) 정보는 언론사 분류와 기술 기반의 자동 분류 시스템을 따르고 있습니다. 오분류에 대한 건은 네이버스포츠로 제보 부탁드립니다.</p>\n",
      "<a class=\"btn_report\" href=\"https://help.naver.com/support/contents/contents.nhn?serviceNo=1001&amp;categoryNo=21210\" target=\"_blank\" title=\"새창\">오분류 제보하기</a>\n",
      "<button class=\"btn_close\" type=\"button\"><span class=\"blind\">가이드 닫기</span></button>\n",
      "</div>\n",
      "</div>\n",
      "<!-- 언론사 프로모션 링크 -->\n",
      "<div class=\"promotion\">\n",
      "<ul class=\"promotion_list\">\n",
      "<li class=\"promotion_item\">\n",
      "<a class=\"link_promotion\" href=\"https://star.mt.co.kr/redirectAd.php?id=0&amp;date=20210624031938\">스타뉴스 핫이슈</a>\n",
      "</li>\n",
      "<li class=\"promotion_item\">\n",
      "<a class=\"link_promotion\" href=\"https://star.mt.co.kr/redirectAd.php?id=1&amp;date=20210624031938\">생생 스타 현장</a>\n",
      "</li>\n",
      "</ul>\n",
      "</div>\n",
      "</div>\n",
      "<div class=\"news_end_btn\">\n",
      "<script charset=\"UTF-8\" src=\"https://ssl.pstatic.net/static.sports/resources/pc/2021/11/11/122215/js/generated/likeItAndShare.js\" type=\"text/javascript\"></script>\n",
      "<div class=\"_reactionModule u_likeit\" data-cid=\"ne_108_0003007300\" data-did=\"SPORTS\" data-sid=\"SPORTS\" style=\"visibility: hidden\">\n",
      "<ul class=\"u_likeit_inline _faceLayer\" role=\"menu\">\n",
      "<li class=\"u_likeit_list good\" role=\"menuitem\">\n",
      "<a aria-selected=\"false\" class=\"u_likeit_list_button _button\" data-type=\"like\" href=\"#\" role=\"button\">\n",
      "<span class=\"u_likeit_list_name _label\">좋아요</span>\n",
      "<span class=\"u_likeit_list_count _count\">0</span>\n",
      "</a>\n",
      "</li>\n",
      "<li class=\"u_likeit_list sad\" role=\"menuitem\">\n",
      "<a aria-selected=\"false\" class=\"u_likeit_list_button _button\" data-type=\"sad\" href=\"#\" role=\"button\">\n",
      "<span class=\"u_likeit_list_name _label\">슬퍼요</span>\n",
      "<span class=\"u_likeit_list_count _count\">0</span>\n",
      "</a>\n",
      "</li>\n",
      "<li class=\"u_likeit_list angry\" role=\"menuitem\">\n",
      "<a aria-selected=\"false\" class=\"u_likeit_list_button _button\" data-type=\"angry\" href=\"#\" role=\"button\">\n",
      "<span class=\"u_likeit_list_name _label\">화나요</span>\n",
      "<span class=\"u_likeit_list_count _count\">0</span>\n",
      "</a>\n",
      "</li>\n",
      "<li class=\"u_likeit_list fan\" role=\"menuitem\">\n",
      "<a aria-selected=\"false\" class=\"u_likeit_list_button _button\" data-type=\"fan\" href=\"#\" role=\"button\">\n",
      "<span class=\"u_likeit_list_name _label\">팬이에요</span>\n",
      "<span class=\"u_likeit_list_count _count\">0</span>\n",
      "</a>\n",
      "</li>\n",
      "<li class=\"u_likeit_list want\" role=\"menuitem\">\n",
      "<a aria-selected=\"false\" class=\"u_likeit_list_button _button\" data-type=\"want\" href=\"#\" role=\"button\">\n",
      "<span class=\"u_likeit_list_name _label\">후속기사 원해요</span>\n",
      "<span class=\"u_likeit_list_count _count\">0</span>\n",
      "</a>\n",
      "</li>\n",
      "</ul>\n",
      "</div>\n",
      "<div class=\"sns_share_wrap\">\n",
      "<div class=\"tomain\" id=\"__markup_tomain\">\n",
      "<div class=\"u_likeit_list_module _reactionModule\" data-cid=\"ne_108_0003007300\" data-sid=\"SPORTS_MAIN\">\n",
      "<a aria-pressed=\"false\" class=\"u_likeit_list_btn u_type_tomain _button off\" data-ishiddenzerocount=\"true\" data-type=\"like\" href=\"#\">\n",
      "<span class=\"u_ico\"></span>\n",
      "<em class=\"u_txt _label\">이 기사를 추천합니다</em>\n",
      "<em class=\"u_cnt _count\">0</em>\n",
      "</a>\n",
      "</div>\n",
      "<button class=\"tomain_help_btn\" id=\"_toMainHelpBtn\" type=\"button\"><span class=\"blind\">도움말</span></button>\n",
      "</div>\n",
      "<div class=\"sns_area\">\n",
      "<a class=\"share naver-splugin\" data-oninitialize=\"splugin_oninitialize();\" data-option=\"{baseElement:'spiButton2', layerPosition:'outside-bottom', align:'right', top:4, left:0, marginLeft:8, marginTop:10}\" data-style=\"unity-v2\" href=\"#\" id=\"spiButton\">\n",
      "<span class=\"sp_ico naver-splugin-c\"></span>\n",
      "<em class=\"blind\">공유하기</em>\n",
      "</a>\n",
      "</div>\n",
      "<!-- 이 기사를 메인으로 - 레이어 -->\n",
      "<div class=\"tomain_info\" id=\"_toMainInfo\">\n",
      "<p class=\"tomain_info_layer is_hidden\">\n",
      "<strong class=\"tomain_info_head\">모두에게 보여주고 싶은 기사라면<i>?</i><span class=\"tomain_info_betaicon\">beta</span></strong>\n",
      "<span class=\"tomain_info_body\">\n",
      "<strong class=\"tomain_info_point\">이 기사를 추천합니다 </strong><span class=\"tomain_info_text\">버튼을 눌러주세요. 집계 기간 동안 추천을 많이 받은 기사는 네이버 자동 기사배열 영역에 추천 요소로 활용됩니다.</span>\n",
      "</span>\n",
      "<a class=\"tomain_info_close\" href=\"#\" id=\"_toMainLayerOff\">레이어 닫기</a>\n",
      "</p>\n",
      "<p class=\"tomain_info_phrase is_hidden\" id=\"_newsMainHistory\">\n",
      "<span class=\"tomain_info_body\">\n",
      "<span class=\"tomain_info_text\">이 기사는 </span><strong class=\"tomain_info_point\">모바일 메인 스포츠판</strong><span class=\"tomain_info_text\">에 노출된 이력이 있습니다.</span>\n",
      "</span>\n",
      "</p>\n",
      "<p class=\"tomain_info_phrase is_hidden\">\n",
      "<span class=\"tomain_info_body\">\n",
      "<span class=\"tomain_info_text\">이 기사는 </span><strong class=\"tomain_info_point\">사용자 추천</strong><span class=\"tomain_info_text\">으로 모바일 메인 스포츠판에 노출된 이력이 있습니다.</span>\n",
      "</span>\n",
      "</p>\n",
      "</div>\n",
      "<!-- //이 기사를 메인으로 - 레이어 -->\n",
      "</div>\n",
      "<script>\n",
      "new naver.sports.common.LikeItAndShare({\n",
      "\t\"newsMainHistoryDate\" : \"\"\n",
      "\t, \"likeItApiBaseUrl\" : \"https://sports.like.naver.com\"\n",
      "});\n",
      "</script>\n",
      "<script>\n",
      "\t//js 더미 생성\n",
      "\tt = new Date(), yyyy = t.getFullYear(), mm = t.getMonth() + 1, dd = t.getDate();\n",
      "\tlazyloadjs(\"https://ssl.pstatic.net/spi/js/release/ko_KR/splugin.js?\" +  yyyy + (mm < 10 ? '0' + mm : mm) + (dd < 10 ? '0' + dd : dd), function() {\n",
      "\t\twindow.__splugin = SocialPlugIn_Core({\n",
      "\t\t\t//소셜 플러그인 기본 설정\n",
      "\t\t\t// nEvent Key\n",
      "\t\t\t\"evKey\"       : \"sports\",\n",
      "\t\t\t// 서비스명\n",
      "\t\t\t\"serviceName\" : \"스포츠\"\n",
      "\t\t});\n",
      "\t});\n",
      "\n",
      "\tvar spluginOptions = {};\n",
      "\n",
      "\t\n",
      "\t\t\n",
      "\t\t\n",
      "\t\t\n",
      "\t\t\n",
      "\t\t\t\n",
      "\t\t\tspluginOptions.sourceName = \"스타뉴스\";\n",
      "\t\t\tspluginOptions.likeServiceId =  \"SPORTS\";\n",
      "\t\t\tspluginOptions.likeContentsId = \"ne_108_0003007300\";\n",
      "\t\t\n",
      "\t\n",
      "\tsplugin_oninitialize = _.bind(_splugin_oninitialize, this, location.href, \"키움 선수단, 아동 양육 시설에 후원금 기부... 주장 김혜성이 전달\");\n",
      "\n",
      "\tfunction _splugin_oninitialize(url, title) {\n",
      "\n",
      "\t\treturn $.extend({\n",
      "\t\t\turl : url,\n",
      "\t\t\ttitle  : title,\n",
      "\t\t\tme : {\n",
      "\t\t\t\tdisplay : \"off\"\n",
      "\t\t\t},\n",
      "\t\t\tmail : {\n",
      "\t\t\t\tsrvid   : \"news\",\n",
      "\t\t\t\tsrvurl  : url\n",
      "\t\t\t},\n",
      "\t\t\tcafe : {\n",
      "\t\t\t\tsourceType : \"3\"\n",
      "\t\t\t},\n",
      "\t\t\tblog : {\n",
      "\t\t\t\tblogId : \"naver\",\n",
      "\t\t\t\tsourceType : \"3\"\n",
      "\t\t\t},\n",
      "\t\t\tline : {\n",
      "\t\t\t\tsrvurl  : url + \"&from=line\"\n",
      "\t\t\t},\n",
      "\t\t\tkakaotalk : {\n",
      "\t\t\t\tsrvurl  : url + \"&from=kakaotalk\"\n",
      "\t\t\t},\n",
      "\t\t\tband : {\n",
      "\t\t\t\tsrvurl  : url + \"&from=band\"\n",
      "\t\t\t}\n",
      "\t\t}, spluginOptions);\n",
      "\t}\n",
      "</script>\n",
      "</div>\n",
      "<div class=\"link_news\">\n",
      "<div class=\"link_popular_news\">\n",
      "<h3><span class=\"logo\">스타뉴스</span> 주요뉴스<span>해당 언론사에서 선정하며 <em>언론사 페이지(아웃링크)</em>로 이동해 볼 수 있습니다.</span></h3>\n",
      "<ul>\n",
      "<li>\n",
      "<a href=\"https://star.mt.co.kr/stview.php?no=2021112313164587473&amp;outlink=2&amp;PSRA\" target=\"_blank\">'韓 축구여신, 연하남과 결혼' 日 뜨거운 관심</a>\n",
      "</li>\n",
      "<li>\n",
      "<a href=\"https://star.mt.co.kr/stview.php?no=2021112320142582848&amp;outlink=2&amp;PSRA\" target=\"_blank\">조송화 변심에 쩔쩔... 황당한 IBK 사태 전말</a>\n",
      "</li>\n",
      "<li>\n",
      "<a href=\"https://star.mt.co.kr/stview.php?no=2021112022455335315&amp;outlink=2&amp;PSRA\" target=\"_blank\">연봉 270억 스타, 또 훈련 지각 '오후 아냐?'</a>\n",
      "</li>\n",
      "<li>\n",
      "<a href=\"https://star.mt.co.kr/stview.php?no=2021112101314910255&amp;outlink=2&amp;PSRA\" target=\"_blank\">'무려 30명 짐쌌다' 감독·코치도 방출 칼바람</a>\n",
      "</li>\n",
      "<li>\n",
      "<a href=\"https://star.mt.co.kr/stview.php?no=2021111517002526612&amp;outlink=2&amp;PSRA\" target=\"_blank\">'포스트 김연경'이 어쩌다... 급거 귀국 '씁쓸'</a>\n",
      "</li>\n",
      "</ul>\n",
      "</div>\n",
      "<a class=\"link_press_collection\" href=\"https://media.naver.com/press/108\" onclick=\"clickcr(this, 'aec.press', '', '', event);\">\n",
      "<span class=\"logo\">스타뉴스</span>\n",
      "<span class=\"text\">기사 모아보기</span>\n",
      "</a>\n",
      "<script>\n",
      "                            var articleSectionGuide = $(\"#_article_section_guide\");\n",
      "                            var articleSectionGuideLayer = articleSectionGuide.find(\".guide_categorize\");\n",
      "\n",
      "                            articleSectionGuide.delegate(\".btn_guide_categorize\", \"click\", function(e) {\n",
      "                                e.preventDefault();\n",
      "                                articleSectionGuideLayer.toggle();\n",
      "                            });\n",
      "\n",
      "                            articleSectionGuide.delegate(\".btn_close\", \"click\", function(e) {\n",
      "                                e.preventDefault();\n",
      "                                articleSectionGuideLayer.toggle();\n",
      "                            });\n",
      "                        </script>\n",
      "</div>\n",
      "<div class=\"end_ad\">\n",
      "<iframe align=\"center\" border=\"0\" data-veta-preview=\"p_sports_end\" frameborder=\"0\" height=\"0\" id=\"f540100\" marginheight=\"0\" marginwidth=\"0\" name=\"f540100\" scrolling=\"no\" src=\"https://veta.naver.com/fxshow?su=SU10085&amp;calp=kbaseball\" title=\"배너광고\" width=\"660\"></iframe>\n",
      "</div>\n",
      "<div class=\"quick_top\">\n",
      "<a href=\"#\">맨위로<span class=\"ico\"></span></a>\n",
      "</div>\n",
      "</div>\n",
      "</div>\n",
      "<div class=\"aside\" id=\"news_aside\">\n",
      "<div class=\"aside_da2\" id=\"section_end_right_banner\"></div>\n",
      "<div class=\"aside_inner\" id=\"news_best\">\n",
      "<div class=\"aside_head\">\n",
      "<h3 class=\"title\">이 시각 많이 본 뉴스</h3>\n",
      "<button aria-describedby=\"_wa_layer_message\" class=\"button_info_layer\" type=\"button\"><span class=\"blind\">도움말</span></button>\n",
      "<div class=\"news_info_layer\">\n",
      "<p id=\"_wa_layer_message\" role=\"tooltip\">오후 2시 ~ 3시 까지 집계한 조회수 입니다.<br/>총 누적수와는 다를 수 있습니다.</p>\n",
      "<button class=\"button_close\"><span class=\"blind\">도움말 닫기</span></button>\n",
      "</div>\n",
      "</div>\n",
      "<div class=\"aside_rank_news\">\n",
      "<div class=\"aside_tab2\" id=\"_ranking_news_tab_selector\">\n",
      "<div class=\"inner\">\n",
      "<a class=\"selected\" data-select-num=\"0\" href=\"#\" id=\"_ranking_news_tab_0\"><span>야구</span></a>\n",
      "<a data-select-num=\"1\" href=\"#\" id=\"_ranking_news_tab_1\"><span>스포츠 종합</span></a>\n",
      "</div>\n",
      "</div>\n",
      "<ul class=\"aside_news_list\" id=\"_ranking_news_list_0\">\n",
      "<li><a class=\"title\" href=\"/news?oid=109&amp;aid=0004516205\" onclick=\"clickcr(this, 'aec*a.category', '', '', event);\"><span>\n",
      "\t\t\t\t\t\t\t통산 3할타자 KIA 유니폼 입나? 고종욱 입단 테스트 [오!쎈 광주]</span></a></li>\n",
      "<li><a class=\"title\" href=\"/news?oid=109&amp;aid=0004516222\" onclick=\"clickcr(this, 'aec*a.category', '', '', event);\"><span>\n",
      "\t\t\t\t\t\t\t관심 못 받는 FA 최대어? '그림의 떡' 나성범…또 두산발 FA 인기 폭발</span></a></li>\n",
      "<li><a class=\"title\" href=\"/news?oid=144&amp;aid=0000776603\" onclick=\"clickcr(this, 'aec*a.category', '', '', event);\"><span><b>\n",
      "\t\t\t\t\t\t\t“SSG에서 연락 안왔어?” 2022 FA 시장의 풍경과 실상 하나</b></span></a></li>\n",
      "<li><a class=\"title\" href=\"/news?oid=477&amp;aid=0000330203\" onclick=\"clickcr(this, 'aec*a.category', '', '', event);\"><span>\n",
      "\t\t\t\t\t\t\tLG 주전 다 쉬는데…잠실에 남은 투수 7명 의미는</span></a></li>\n",
      "<li><a class=\"title\" href=\"/news?oid=382&amp;aid=0000946903\" onclick=\"clickcr(this, 'aec*a.category', '', '', event);\"><span>\n",
      "\t\t\t\t\t\t\t“야구 전원을 뽑아라” 수베로 감독이 한화 선수들에게 남긴 ‘겨울 숙제’</span></a></li>\n",
      "<li><a class=\"title\" href=\"/news?oid=109&amp;aid=0004516297\" onclick=\"clickcr(this, 'aec*a.category', '', '', event);\"><span>\n",
      "\t\t\t\t\t\t\t‘SK→KT→방출’ 박승욱, 롯데 입단테스트 통과…이재율은 낙방</span></a></li>\n",
      "<li><a class=\"title\" href=\"/news?oid=109&amp;aid=0004516179\" onclick=\"clickcr(this, 'aec*a.category', '', '', event);\"><span>\n",
      "\t\t\t\t\t\t\t프로행 좌절→독립리그 타점왕→두산 입단, “허경민 선배 롤모델…영광이다”</span></a></li>\n",
      "<li><a class=\"title\" href=\"/news?oid=477&amp;aid=0000330223\" onclick=\"clickcr(this, 'aec*a.category', '', '', event);\"><span><b>\n",
      "\t\t\t\t\t\t\t이학주, 양준혁자선야구대회 불참 결정</b></span></a></li>\n",
      "<li><a class=\"title\" href=\"/news?oid=025&amp;aid=0003153396\" onclick=\"clickcr(this, 'aec*a.category', '', '', event);\"><span>\n",
      "\t\t\t\t\t\t\tNC 떠난 임창민 \"곧 계약, 아직 경쟁력 있어요\"</span></a></li>\n",
      "<li><a class=\"title\" href=\"/news?oid=076&amp;aid=0003805593\" onclick=\"clickcr(this, 'aec*a.category', '', '', event);\"><span>\n",
      "\t\t\t\t\t\t\t마차도와 이별할까? 롯데, '외인 타자 교체' 만지작거리는 이유 [SC초점]</span></a></li>\n",
      "</ul>\n",
      "<ul class=\"aside_news_list\" id=\"_ranking_news_list_1\" style=\"display:none;\">\n",
      "<li><a class=\"title\" href=\"/news?oid=109&amp;aid=0004516205\" onclick=\"clickcr(this, 'aec*a.sports', '', '', event);\"><span>\n",
      "\t\t\t\t\t\t\t통산 3할타자 KIA 유니폼 입나? 고종욱 입단 테스트 [오!쎈 광주]</span></a></li>\n",
      "<li><a class=\"title\" href=\"/news?oid=076&amp;aid=0003805534\" onclick=\"clickcr(this, 'aec*a.sports', '', '', event);\"><span>\n",
      "\t\t\t\t\t\t\t\"굿바이 '007'\" 솔샤르 떠나자 마침내 폭발한 '1200억원의 남자'</span></a></li>\n",
      "<li><a class=\"title\" href=\"/news?oid=144&amp;aid=0000776550\" onclick=\"clickcr(this, 'aec*a.sports', '', '', event);\"><span><b>\n",
      "\t\t\t\t\t\t\t“계약해지도 고려”…‘선 넘은’ 조송화, 돌아갈 길 없다</b></span></a></li>\n",
      "<li><a class=\"title\" href=\"/news?oid=109&amp;aid=0004516222\" onclick=\"clickcr(this, 'aec*a.sports', '', '', event);\"><span>\n",
      "\t\t\t\t\t\t\t관심 못 받는 FA 최대어? '그림의 떡' 나성범…또 두산발 FA 인기 폭발</span></a></li>\n",
      "<li><a class=\"title\" href=\"/news?oid=108&amp;aid=0003007156\" onclick=\"clickcr(this, 'aec*a.sports', '', '', event);\"><span>\n",
      "\t\t\t\t\t\t\t텍사스의 다저스 따라하기... 커쇼 영입으로 정점 찍나</span></a></li>\n",
      "<li><a class=\"title\" href=\"/news?oid=413&amp;aid=0000129512\" onclick=\"clickcr(this, 'aec*a.sports', '', '', event);\"><span>\n",
      "\t\t\t\t\t\t\t'520조' 뉴캐슬, 1월 '손흥민 입단 동기' 영입 계획</span></a></li>\n",
      "<li><a class=\"title\" href=\"/news?oid=144&amp;aid=0000776603\" onclick=\"clickcr(this, 'aec*a.sports', '', '', event);\"><span>\n",
      "\t\t\t\t\t\t\t“SSG에서 연락 안왔어?” 2022 FA 시장의 풍경과 실상 하나</span></a></li>\n",
      "<li><a class=\"title\" href=\"/news?oid=139&amp;aid=0002159082\" onclick=\"clickcr(this, 'aec*a.sports', '', '', event);\"><span><b>\n",
      "\t\t\t\t\t\t\t임시 감독 찾는 맨유, 후보만 5명… 그런데 캐릭 대행도 포함됐다</b></span></a></li>\n",
      "<li><a class=\"title\" href=\"/news?oid=413&amp;aid=0000129502\" onclick=\"clickcr(this, 'aec*a.sports', '', '', event);\"><span>\n",
      "\t\t\t\t\t\t\t[UCL POINT] '초비상!' 바르사, 무려 '21년' 만에 조별리그 탈락 위기</span></a></li>\n",
      "<li><a class=\"title\" href=\"/news?oid=477&amp;aid=0000330226\" onclick=\"clickcr(this, 'aec*a.sports', '', '', event);\"><span>\n",
      "\t\t\t\t\t\t\t'레길론이 최악이라 할 만했네' 토트넘, 콘테 부임 후 16km 더 뛰었다</span></a></li>\n",
      "</ul>\n",
      "<script type=\"text/javascript\">\n",
      "\t\t\t\t\t$(document).ready(function () {\n",
      "\t\t\t\t\t\tvar rightMostViewedNewsController = eg.Class({\n",
      "\t\t\t\t\t\t\tconstruct: function (option) {\n",
      "\t\t\t\t\t\t\t\tthis._initVars();\n",
      "\t\t\t\t\t\t\t\tthis._setEventHandler(option);\n",
      "\t\t\t\t\t\t\t},\n",
      "\t\t\t\t\t\t\t_initVars: function (htOption) {\n",
      "\t\t\t\t\t\t\t},\n",
      "\n",
      "\t\t\t\t\t\t\t_setEventHandler: function () {\n",
      "\t\t\t\t\t\t\t\t$(\"#_ranking_news_tab_selector\").on(\"mouseover\", \".inner a\", $.proxy(function (event) {\n",
      "\t\t\t\t\t\t\t\t\tvar $target = $(event.currentTarget);\n",
      "\t\t\t\t\t\t\t\t\tvar selectNum = $target.data(\"selectNum\");\n",
      "\n",
      "\t\t\t\t\t\t\t\t\t$target.parent().find(\"a\").removeClass(\"selected\");\n",
      "\t\t\t\t\t\t\t\t\t$target.addClass(\"selected\");\n",
      "\t\t\t\t\t\t\t\t\t$target.closest(\".aside_rank_news\").find(\".aside_news_list\").hide();\n",
      "\t\t\t\t\t\t\t\t\t$(\"#_ranking_news_list_\" + selectNum).show();\n",
      "\t\t\t\t\t\t\t\t}, this));\n",
      "\t\t\t\t\t\t\t}\n",
      "\t\t\t\t\t\t});\n",
      "\n",
      "\t\t\t\t\t\tnew rightMostViewedNewsController();\n",
      "\t\t\t\t\t});\n",
      "\t\t\t\t</script>\n",
      "</div>\n",
      "<a class=\"more\" href=\"/kbaseball/news/index?type=popular\" onclick=\"clickcr(this, 'aec*a.more', '', '', event);\" style=\"position:absolute;\"><span>더보기</span></a>\n",
      "</div>\n",
      "<script type=\"text/javascript\">\n",
      "\t$(document).ready(function () {\n",
      "\t\t$('.button_info_layer').click(function () {\n",
      "\t\t\t$('.news_info_layer').addClass('is_active');\n",
      "\t\t});\n",
      "\n",
      "\t\t$('.news_info_layer .button_close').click(function() {\n",
      "\t\t\t$('.news_info_layer').removeClass('is_active');\n",
      "\t\t});\n",
      "\t});\n",
      "</script>\n",
      "<div class=\"aside_inner\" id=\"news_vod\">\n",
      "<div class=\"aside_head\">\n",
      "<h3 class=\"title\">많이 본 영상</h3>\n",
      "</div>\n",
      "<div class=\"aside_vod_best2\">\n",
      "<ul class=\"aside_vod_list2\">\n",
      "<li class=\"best\">\n",
      "<a href=\"/video?category=kbo&amp;id=882356\" onclick=\"clickcr(this, 'aec*b.video', '', '', event);\" title=\"[2021 결산] KBO 리그 결산 - 호수비\">\n",
      "<div class=\"thmb\">\n",
      "<b class=\"rank_num\">1</b>\n",
      "<span class=\"mask\"></span>\n",
      "<img alt=\"\" class=\"imageLazyLoad\" height=\"156\" lazy-src=\"https://dthumb-phinf.pstatic.net/?twidth=260&amp;theight=156&amp;opts=12&amp;qlt=95&amp;src=https://sports-phinf.pstatic.net/20211121_277/16374675881724o2KY_JPEG/20211121_kbo_auto2_0001.jpg\" src=\"data:image/gif;base64,R0lGODlhAQABAAAAACH5BAEKAAEALAAAAAABAAEAAAICTAEAOw==\" width=\"260\"/>\n",
      "</div>\n",
      "<div class=\"text\">\n",
      "<span class=\"title\"><span>[2021 결산] KBO 리그 결산 - 호수비</span></span>\n",
      "<div class=\"info\">\n",
      "<span class=\"play\"><span class=\"ico\">재생수</span>9,139</span>\n",
      "<span class=\"time\"><span class=\"ico\">재생시간</span>05:22</span>\n",
      "</div>\n",
      "</div>\n",
      "</a>\n",
      "</li>\n",
      "<li class=\"vod_li\">\n",
      "<a href=\"/video?category=kbo&amp;id=882352\" onclick=\"clickcr(this, 'aec*b.video', '', '', event);\" title=\"[2021 결산] KBO 리그 팀 결산 - KIA 타이거즈\">\n",
      "<div class=\"thmb\">\n",
      "<b class=\"rank_num\">2</b>\n",
      "<span class=\"time\"><span class=\"blind\">재생시간</span>03:23</span>\n",
      "<span class=\"mask\"></span>\n",
      "<img alt=\"\" class=\"imageLazyLoad\" height=\"64\" lazy-src=\"https://dthumb-phinf.pstatic.net/?twidth=110&amp;theight=64&amp;opts=12&amp;qlt=95&amp;src=https://sports-phinf.pstatic.net/20211124_22/1637699655543Fz8pr_JPEG/%B1%E2%BE%C6_%BC%B6%B3%D7%C0%CF.jpg\" src=\"data:image/gif;base64,R0lGODlhAQABAAAAACH5BAEKAAEALAAAAAABAAEAAAICTAEAOw==\" width=\"110\"/>\n",
      "</div>\n",
      "<div class=\"text\">\n",
      "<span class=\"title\"><span>[2021 결산] KBO 리그 팀 결산 - ...</span></span>\n",
      "<div class=\"info\">\n",
      "<span class=\"play\"><span class=\"ico\">재생수</span>6,964</span>\n",
      "</div>\n",
      "</div>\n",
      "</a>\n",
      "</li>\n",
      "<li class=\"vod_li\">\n",
      "<a href=\"/video?category=baseballlesson&amp;id=880560\" onclick=\"clickcr(this, 'aec*b.video', '', '', event);\" title=\"⚾️해태시절 선동열 도대체 얼마나 잘한거야?![오우야 22편]\">\n",
      "<div class=\"thmb\">\n",
      "<b class=\"rank_num\">3</b>\n",
      "<span class=\"time\"><span class=\"blind\">재생시간</span>03:43</span>\n",
      "<span class=\"mask\"></span>\n",
      "<img alt=\"\" class=\"imageLazyLoad\" height=\"64\" lazy-src=\"https://dthumb-phinf.pstatic.net/?twidth=110&amp;theight=64&amp;opts=12&amp;qlt=95&amp;src=https://phinf.pstatic.net/tvcast/20211112_91/DvIxL_1636684611659srCv6_JPEG/1636684607425.jpg\" src=\"data:image/gif;base64,R0lGODlhAQABAAAAACH5BAEKAAEALAAAAAABAAEAAAICTAEAOw==\" width=\"110\"/>\n",
      "</div>\n",
      "<div class=\"text\">\n",
      "<span class=\"title\"><span>⚾️해태시절 선동열 도대체 얼마나 잘한거야?...</span></span>\n",
      "<div class=\"info\">\n",
      "<span class=\"play\"><span class=\"ico\">재생수</span>1,575</span>\n",
      "</div>\n",
      "</div>\n",
      "</a>\n",
      "</li>\n",
      "<li class=\"vod_li\">\n",
      "<a href=\"/video?category=kbo&amp;id=882028\" onclick=\"clickcr(this, 'aec*b.video', '', '', event);\" title=\"[2021 결산] KBO 리그 팀 결산 - 한화 이글스\">\n",
      "<div class=\"thmb\">\n",
      "<b class=\"rank_num\">4</b>\n",
      "<span class=\"time\"><span class=\"blind\">재생시간</span>04:11</span>\n",
      "<span class=\"mask\"></span>\n",
      "<img alt=\"\" class=\"imageLazyLoad\" height=\"64\" lazy-src=\"https://dthumb-phinf.pstatic.net/?twidth=110&amp;theight=64&amp;opts=12&amp;qlt=95&amp;src=https://sports-phinf.pstatic.net/20211123_9/16376126596888zsPV_JPEG/%C7%D1%C8%AD.jpg\" src=\"data:image/gif;base64,R0lGODlhAQABAAAAACH5BAEKAAEALAAAAAABAAEAAAICTAEAOw==\" width=\"110\"/>\n",
      "</div>\n",
      "<div class=\"text\">\n",
      "<span class=\"title\"><span>[2021 결산] KBO 리그 팀 결산 - ...</span></span>\n",
      "<div class=\"info\">\n",
      "<span class=\"play\"><span class=\"ico\">재생수</span>1,387</span>\n",
      "</div>\n",
      "</div>\n",
      "</a>\n",
      "</li>\n",
      "<li class=\"vod_li\">\n",
      "<a href=\"/video?category=kbo&amp;id=882024\" onclick=\"clickcr(this, 'aec*b.video', '', '', event);\" title=\"[2021 결산] KBO 리그 결산 - 홈런\">\n",
      "<div class=\"thmb\">\n",
      "<b class=\"rank_num\">5</b>\n",
      "<span class=\"time\"><span class=\"blind\">재생시간</span>06:36</span>\n",
      "<span class=\"mask\"></span>\n",
      "<img alt=\"\" class=\"imageLazyLoad\" height=\"64\" lazy-src=\"https://dthumb-phinf.pstatic.net/?twidth=110&amp;theight=64&amp;opts=12&amp;qlt=95&amp;src=https://sports-phinf.pstatic.net/20211120_108/1637379054549e6KRj_JPEG/20211120_kbo_auto2_0002.jpg\" src=\"data:image/gif;base64,R0lGODlhAQABAAAAACH5BAEKAAEALAAAAAABAAEAAAICTAEAOw==\" width=\"110\"/>\n",
      "</div>\n",
      "<div class=\"text\">\n",
      "<span class=\"title\"><span>[2021 결산] KBO 리그 결산 - 홈런</span></span>\n",
      "<div class=\"info\">\n",
      "<span class=\"play\"><span class=\"ico\">재생수</span>1,122</span>\n",
      "</div>\n",
      "</div>\n",
      "</a>\n",
      "</li>\n",
      "</ul>\n",
      "</div>\n",
      "<a class=\"more\" href=\"/kbaseball/vod/index\" onclick=\"clickcr(this, 'aec*b.more', '', '', event);\"><span>더보기</span></a>\n",
      "</div>\n",
      "<script>\n",
      "changePlayerRankingTab = function (category, id, tabCnt) {\n",
      "    for(var i = 0; i < tabCnt; i++) {\n",
      "        if(i == id) {\n",
      "            document.getElementById('playerRankingTab_' + category + '_' + i + '').className = 'selected';\n",
      "            document.getElementById('playerRankingList_' + category + '_' + i + '').style.display = '';\n",
      "        } else {\n",
      "        \tdocument.getElementById('playerRankingTab_' + category + '_' + i + '').className = '';\n",
      "            document.getElementById('playerRankingList_' + category + '_' + i + '').style.display = 'none';\n",
      "        }\n",
      "    }\n",
      "}\n",
      "</script>\n",
      "<div class=\"aside_inner\" id=\"ranking1\">\n",
      "<div class=\"aside_head\">\n",
      "<h3 class=\"title\">KBO리그 개인순위</h3>\n",
      "</div>\n",
      "<div class=\"aside_rank_player\">\n",
      "<div class=\"aside_tab2\">\n",
      "<div class=\"inner\">\n",
      "<a id=\"playerRankingTab_kbo_0\" onmouseover=\"javascript:changePlayerRankingTab('kbo', 0, 4);\"><span>타율</span></a>\n",
      "<a id=\"playerRankingTab_kbo_1\" onmouseover=\"javascript:changePlayerRankingTab('kbo', 1, 4);\"><span>홈런</span></a>\n",
      "<a id=\"playerRankingTab_kbo_2\" onmouseover=\"javascript:changePlayerRankingTab('kbo', 2, 4);\"><span>다승</span></a>\n",
      "<a id=\"playerRankingTab_kbo_3\" onmouseover=\"javascript:changePlayerRankingTab('kbo', 3, 4);\" style=\"width:78px\"><span>평균자책</span></a>\n",
      "</div>\n",
      "</div>\n",
      "<ul class=\"list\" id=\"playerRankingList_kbo_0\" style=\"display:none;\">\n",
      "<li class=\"best\">\n",
      "<div class=\"inner\">\n",
      "<b class=\"rank_num\">1</b>\n",
      "<div class=\"image\">\n",
      "<span class=\"mask\"></span>\n",
      "<img alt=\"이정후\" class=\"imageLazyLoad\" lazy-src=\"https://dthumb-phinf.pstatic.net/?twidth=36&amp;theight=45&amp;opts=8&amp;qlt=95&amp;noimage=sp2&amp;src=https://sports-phinf.pstatic.net/player/kbo/default/67341.png\" onerror=\"this.src='https://dthumb-phinf.pstatic.net/?twidth=32&amp;theight=32&amp;opts=8&amp;qlt=95&amp;noimage=sp2&amp;src=https://sports-phinf.pstatic.net/team/kbo/default/WO.png'\" src=\"data:image/gif;base64,R0lGODlhAQABAAAAACH5BAEKAAEALAAAAAABAAEAAAICTAEAOw==\"/>\n",
      "</div>\n",
      "<div class=\"info\">\n",
      "<span class=\"name\">이정후</span>\n",
      "<span class=\"team\">키움</span>\n",
      "</div>\n",
      "<div class=\"stat\">\n",
      "<span>0.360</span>\n",
      "</div>\n",
      "</div>\n",
      "</li>\n",
      "<li>\n",
      "<div class=\"inner\">\n",
      "<b class=\"rank_num\">2</b>\n",
      "<div class=\"image\">\n",
      "<span class=\"mask\"></span>\n",
      "<img alt=\"전준우\" class=\"imageLazyLoad\" lazy-src=\"https://dthumb-phinf.pstatic.net/?twidth=36&amp;theight=45&amp;opts=8&amp;qlt=95&amp;noimage=sp2&amp;src=https://sports-phinf.pstatic.net/player/kbo/default/78513.png\" onerror=\"this.src='https://dthumb-phinf.pstatic.net/?twidth=32&amp;theight=32&amp;opts=8&amp;qlt=95&amp;noimage=sp2&amp;src=https://sports-phinf.pstatic.net/team/kbo/default/LT.png'\" src=\"data:image/gif;base64,R0lGODlhAQABAAAAACH5BAEKAAEALAAAAAABAAEAAAICTAEAOw==\"/>\n",
      "</div>\n",
      "<div class=\"info\">\n",
      "<span class=\"name\">전준우</span>\n",
      "<span class=\"team\">롯데</span>\n",
      "</div>\n",
      "<div class=\"stat\">\n",
      "<span>0.348</span>\n",
      "</div>\n",
      "</div>\n",
      "</li>\n",
      "<li>\n",
      "<div class=\"inner\">\n",
      "<b class=\"rank_num\">3</b>\n",
      "<div class=\"image\">\n",
      "<span class=\"mask\"></span>\n",
      "<img alt=\"강백호\" class=\"imageLazyLoad\" lazy-src=\"https://dthumb-phinf.pstatic.net/?twidth=36&amp;theight=45&amp;opts=8&amp;qlt=95&amp;noimage=sp2&amp;src=https://sports-phinf.pstatic.net/player/kbo/default/68050.png\" onerror=\"this.src='https://dthumb-phinf.pstatic.net/?twidth=32&amp;theight=32&amp;opts=8&amp;qlt=95&amp;noimage=sp2&amp;src=https://sports-phinf.pstatic.net/team/kbo/default/KT.png'\" src=\"data:image/gif;base64,R0lGODlhAQABAAAAACH5BAEKAAEALAAAAAABAAEAAAICTAEAOw==\"/>\n",
      "</div>\n",
      "<div class=\"info\">\n",
      "<span class=\"name\">강백호</span>\n",
      "<span class=\"team\">KT</span>\n",
      "</div>\n",
      "<div class=\"stat\">\n",
      "<span>0.347</span>\n",
      "</div>\n",
      "</div>\n",
      "</li>\n",
      "<li>\n",
      "<div class=\"inner\">\n",
      "<b class=\"rank_num\">4</b>\n",
      "<div class=\"image\">\n",
      "<span class=\"mask\"></span>\n",
      "<img alt=\"홍창기\" class=\"imageLazyLoad\" lazy-src=\"https://dthumb-phinf.pstatic.net/?twidth=36&amp;theight=45&amp;opts=8&amp;qlt=95&amp;noimage=sp2&amp;src=https://sports-phinf.pstatic.net/player/kbo/default/66108.png\" onerror=\"this.src='https://dthumb-phinf.pstatic.net/?twidth=32&amp;theight=32&amp;opts=8&amp;qlt=95&amp;noimage=sp2&amp;src=https://sports-phinf.pstatic.net/team/kbo/default/LG.png'\" src=\"data:image/gif;base64,R0lGODlhAQABAAAAACH5BAEKAAEALAAAAAABAAEAAAICTAEAOw==\"/>\n",
      "</div>\n",
      "<div class=\"info\">\n",
      "<span class=\"name\">홍창기</span>\n",
      "<span class=\"team\">LG</span>\n",
      "</div>\n",
      "<div class=\"stat\">\n",
      "<span>0.328</span>\n",
      "</div>\n",
      "</div>\n",
      "</li>\n",
      "<li>\n",
      "<div class=\"inner\">\n",
      "<b class=\"rank_num\">5</b>\n",
      "<div class=\"image\">\n",
      "<span class=\"mask\"></span>\n",
      "<img alt=\"박건우\" class=\"imageLazyLoad\" lazy-src=\"https://dthumb-phinf.pstatic.net/?twidth=36&amp;theight=45&amp;opts=8&amp;qlt=95&amp;noimage=sp2&amp;src=https://sports-phinf.pstatic.net/player/kbo/default/79215.png\" onerror=\"this.src='https://dthumb-phinf.pstatic.net/?twidth=32&amp;theight=32&amp;opts=8&amp;qlt=95&amp;noimage=sp2&amp;src=https://sports-phinf.pstatic.net/team/kbo/default/OB.png'\" src=\"data:image/gif;base64,R0lGODlhAQABAAAAACH5BAEKAAEALAAAAAABAAEAAAICTAEAOw==\"/>\n",
      "</div>\n",
      "<div class=\"info\">\n",
      "<span class=\"name\">박건우</span>\n",
      "<span class=\"team\">두산</span>\n",
      "</div>\n",
      "<div class=\"stat\">\n",
      "<span>0.325</span>\n",
      "</div>\n",
      "</div>\n",
      "</li>\n",
      "</ul>\n",
      "<ul class=\"list\" id=\"playerRankingList_kbo_1\" style=\"display:none;\">\n",
      "<li class=\"best\">\n",
      "<div class=\"inner\">\n",
      "<b class=\"rank_num\">1</b>\n",
      "<div class=\"image\">\n",
      "<span class=\"mask\"></span>\n",
      "<img alt=\"최정\" class=\"imageLazyLoad\" lazy-src=\"https://dthumb-phinf.pstatic.net/?twidth=36&amp;theight=45&amp;opts=8&amp;qlt=95&amp;noimage=sp2&amp;src=https://sports-phinf.pstatic.net/player/kbo/default/75847.png\" onerror=\"this.src='https://dthumb-phinf.pstatic.net/?twidth=32&amp;theight=32&amp;opts=8&amp;qlt=95&amp;noimage=sp2&amp;src=https://sports-phinf.pstatic.net/team/kbo/default/SK.png'\" src=\"data:image/gif;base64,R0lGODlhAQABAAAAACH5BAEKAAEALAAAAAABAAEAAAICTAEAOw==\"/>\n",
      "</div>\n",
      "<div class=\"info\">\n",
      "<span class=\"name\">최정</span>\n",
      "<span class=\"team\">SSG</span>\n",
      "</div>\n",
      "<div class=\"stat\">\n",
      "<span>35</span>\n",
      "</div>\n",
      "</div>\n",
      "</li>\n",
      "<li>\n",
      "<div class=\"inner\">\n",
      "<b class=\"rank_num\">2</b>\n",
      "<div class=\"image\">\n",
      "<span class=\"mask\"></span>\n",
      "<img alt=\"나성범\" class=\"imageLazyLoad\" lazy-src=\"https://dthumb-phinf.pstatic.net/?twidth=36&amp;theight=45&amp;opts=8&amp;qlt=95&amp;noimage=sp2&amp;src=https://sports-phinf.pstatic.net/player/kbo/default/62947.png\" onerror=\"this.src='https://dthumb-phinf.pstatic.net/?twidth=32&amp;theight=32&amp;opts=8&amp;qlt=95&amp;noimage=sp2&amp;src=https://sports-phinf.pstatic.net/team/kbo/default/NC.png'\" src=\"data:image/gif;base64,R0lGODlhAQABAAAAACH5BAEKAAEALAAAAAABAAEAAAICTAEAOw==\"/>\n",
      "</div>\n",
      "<div class=\"info\">\n",
      "<span class=\"name\">나성범</span>\n",
      "<span class=\"team\">NC</span>\n",
      "</div>\n",
      "<div class=\"stat\">\n",
      "<span>33</span>\n",
      "</div>\n",
      "</div>\n",
      "</li>\n",
      "<li>\n",
      "<div class=\"inner\">\n",
      "<b class=\"rank_num\">3</b>\n",
      "<div class=\"image\">\n",
      "<span class=\"mask\"></span>\n",
      "<img alt=\"알테어\" class=\"imageLazyLoad\" lazy-src=\"https://dthumb-phinf.pstatic.net/?twidth=36&amp;theight=45&amp;opts=8&amp;qlt=95&amp;noimage=sp2&amp;src=https://sports-phinf.pstatic.net/player/kbo/default/50923.png\" onerror=\"this.src='https://dthumb-phinf.pstatic.net/?twidth=32&amp;theight=32&amp;opts=8&amp;qlt=95&amp;noimage=sp2&amp;src=https://sports-phinf.pstatic.net/team/kbo/default/NC.png'\" src=\"data:image/gif;base64,R0lGODlhAQABAAAAACH5BAEKAAEALAAAAAABAAEAAAICTAEAOw==\"/>\n",
      "</div>\n",
      "<div class=\"info\">\n",
      "<span class=\"name\">알테어</span>\n",
      "<span class=\"team\">NC</span>\n",
      "</div>\n",
      "<div class=\"stat\">\n",
      "<span>32</span>\n",
      "</div>\n",
      "</div>\n",
      "</li>\n",
      "<li>\n",
      "<div class=\"inner\">\n",
      "<b class=\"rank_num\">4</b>\n",
      "<div class=\"image\">\n",
      "<span class=\"mask\"></span>\n",
      "<img alt=\"한유섬\" class=\"imageLazyLoad\" lazy-src=\"https://dthumb-phinf.pstatic.net/?twidth=36&amp;theight=45&amp;opts=8&amp;qlt=95&amp;noimage=sp2&amp;src=https://sports-phinf.pstatic.net/player/kbo/default/62895.png\" onerror=\"this.src='https://dthumb-phinf.pstatic.net/?twidth=32&amp;theight=32&amp;opts=8&amp;qlt=95&amp;noimage=sp2&amp;src=https://sports-phinf.pstatic.net/team/kbo/default/SK.png'\" src=\"data:image/gif;base64,R0lGODlhAQABAAAAACH5BAEKAAEALAAAAAABAAEAAAICTAEAOw==\"/>\n",
      "</div>\n",
      "<div class=\"info\">\n",
      "<span class=\"name\">한유섬</span>\n",
      "<span class=\"team\">SSG</span>\n",
      "</div>\n",
      "<div class=\"stat\">\n",
      "<span>31</span>\n",
      "</div>\n",
      "</div>\n",
      "</li>\n",
      "<li>\n",
      "<div class=\"inner\">\n",
      "<b class=\"rank_num\">5</b>\n",
      "<div class=\"image\">\n",
      "<span class=\"mask\"></span>\n",
      "<img alt=\"양의지\" class=\"imageLazyLoad\" lazy-src=\"https://dthumb-phinf.pstatic.net/?twidth=36&amp;theight=45&amp;opts=8&amp;qlt=95&amp;noimage=sp2&amp;src=https://sports-phinf.pstatic.net/player/kbo/default/76232.png\" onerror=\"this.src='https://dthumb-phinf.pstatic.net/?twidth=32&amp;theight=32&amp;opts=8&amp;qlt=95&amp;noimage=sp2&amp;src=https://sports-phinf.pstatic.net/team/kbo/default/NC.png'\" src=\"data:image/gif;base64,R0lGODlhAQABAAAAACH5BAEKAAEALAAAAAABAAEAAAICTAEAOw==\"/>\n",
      "</div>\n",
      "<div class=\"info\">\n",
      "<span class=\"name\">양의지</span>\n",
      "<span class=\"team\">NC</span>\n",
      "</div>\n",
      "<div class=\"stat\">\n",
      "<span>30</span>\n",
      "</div>\n",
      "</div>\n",
      "</li>\n",
      "</ul>\n",
      "<ul class=\"list\" id=\"playerRankingList_kbo_2\" style=\"display:none;\">\n",
      "<li class=\"best\">\n",
      "<div class=\"inner\">\n",
      "<b class=\"rank_num\">1</b>\n",
      "<div class=\"image\">\n",
      "<span class=\"mask\"></span>\n",
      "<img alt=\"요키시\" class=\"imageLazyLoad\" lazy-src=\"https://dthumb-phinf.pstatic.net/?twidth=36&amp;theight=45&amp;opts=8&amp;qlt=95&amp;noimage=sp2&amp;src=https://sports-phinf.pstatic.net/player/kbo/default/69343.png\" onerror=\"this.src='https://dthumb-phinf.pstatic.net/?twidth=32&amp;theight=32&amp;opts=8&amp;qlt=95&amp;noimage=sp2&amp;src=https://sports-phinf.pstatic.net/team/kbo/default/WO.png'\" src=\"data:image/gif;base64,R0lGODlhAQABAAAAACH5BAEKAAEALAAAAAABAAEAAAICTAEAOw==\"/>\n",
      "</div>\n",
      "<div class=\"info\">\n",
      "<span class=\"name\">요키시</span>\n",
      "<span class=\"team\">키움</span>\n",
      "</div>\n",
      "<div class=\"stat\">\n",
      "<span>16</span>\n",
      "</div>\n",
      "</div>\n",
      "</li>\n",
      "<li class=\"best\">\n",
      "<div class=\"inner\">\n",
      "<b class=\"rank_num\">1</b>\n",
      "<div class=\"image\">\n",
      "<span class=\"mask\"></span>\n",
      "<img alt=\"뷰캐넌\" class=\"imageLazyLoad\" lazy-src=\"https://dthumb-phinf.pstatic.net/?twidth=36&amp;theight=45&amp;opts=8&amp;qlt=95&amp;noimage=sp2&amp;src=https://sports-phinf.pstatic.net/player/kbo/default/50404.png\" onerror=\"this.src='https://dthumb-phinf.pstatic.net/?twidth=32&amp;theight=32&amp;opts=8&amp;qlt=95&amp;noimage=sp2&amp;src=https://sports-phinf.pstatic.net/team/kbo/default/SS.png'\" src=\"data:image/gif;base64,R0lGODlhAQABAAAAACH5BAEKAAEALAAAAAABAAEAAAICTAEAOw==\"/>\n",
      "</div>\n",
      "<div class=\"info\">\n",
      "<span class=\"name\">뷰캐넌</span>\n",
      "<span class=\"team\">삼성</span>\n",
      "</div>\n",
      "<div class=\"stat\">\n",
      "<span>16</span>\n",
      "</div>\n",
      "</div>\n",
      "</li>\n",
      "<li>\n",
      "<div class=\"inner\">\n",
      "<b class=\"rank_num\">3</b>\n",
      "<div class=\"image\">\n",
      "<span class=\"mask\"></span>\n",
      "<img alt=\"루친스키\" class=\"imageLazyLoad\" lazy-src=\"https://dthumb-phinf.pstatic.net/?twidth=36&amp;theight=45&amp;opts=8&amp;qlt=95&amp;noimage=sp2&amp;src=https://sports-phinf.pstatic.net/player/kbo/default/69940.png\" onerror=\"this.src='https://dthumb-phinf.pstatic.net/?twidth=32&amp;theight=32&amp;opts=8&amp;qlt=95&amp;noimage=sp2&amp;src=https://sports-phinf.pstatic.net/team/kbo/default/NC.png'\" src=\"data:image/gif;base64,R0lGODlhAQABAAAAACH5BAEKAAEALAAAAAABAAEAAAICTAEAOw==\"/>\n",
      "</div>\n",
      "<div class=\"info\">\n",
      "<span class=\"name\">루친스키</span>\n",
      "<span class=\"team\">NC</span>\n",
      "</div>\n",
      "<div class=\"stat\">\n",
      "<span>15</span>\n",
      "</div>\n",
      "</div>\n",
      "</li>\n",
      "<li>\n",
      "<div class=\"inner\">\n",
      "<b class=\"rank_num\">4</b>\n",
      "<div class=\"image\">\n",
      "<span class=\"mask\"></span>\n",
      "<img alt=\"미란다\" class=\"imageLazyLoad\" lazy-src=\"https://dthumb-phinf.pstatic.net/?twidth=36&amp;theight=45&amp;opts=8&amp;qlt=95&amp;noimage=sp2&amp;src=https://sports-phinf.pstatic.net/player/kbo/default/51257.png\" onerror=\"this.src='https://dthumb-phinf.pstatic.net/?twidth=32&amp;theight=32&amp;opts=8&amp;qlt=95&amp;noimage=sp2&amp;src=https://sports-phinf.pstatic.net/team/kbo/default/OB.png'\" src=\"data:image/gif;base64,R0lGODlhAQABAAAAACH5BAEKAAEALAAAAAABAAEAAAICTAEAOw==\"/>\n",
      "</div>\n",
      "<div class=\"info\">\n",
      "<span class=\"name\">미란다</span>\n",
      "<span class=\"team\">두산</span>\n",
      "</div>\n",
      "<div class=\"stat\">\n",
      "<span>14</span>\n",
      "</div>\n",
      "</div>\n",
      "</li>\n",
      "<li>\n",
      "<div class=\"inner\">\n",
      "<b class=\"rank_num\">4</b>\n",
      "<div class=\"image\">\n",
      "<span class=\"mask\"></span>\n",
      "<img alt=\"원태인\" class=\"imageLazyLoad\" lazy-src=\"https://dthumb-phinf.pstatic.net/?twidth=36&amp;theight=45&amp;opts=8&amp;qlt=95&amp;noimage=sp2&amp;src=https://sports-phinf.pstatic.net/player/kbo/default/69446.png\" onerror=\"this.src='https://dthumb-phinf.pstatic.net/?twidth=32&amp;theight=32&amp;opts=8&amp;qlt=95&amp;noimage=sp2&amp;src=https://sports-phinf.pstatic.net/team/kbo/default/SS.png'\" src=\"data:image/gif;base64,R0lGODlhAQABAAAAACH5BAEKAAEALAAAAAABAAEAAAICTAEAOw==\"/>\n",
      "</div>\n",
      "<div class=\"info\">\n",
      "<span class=\"name\">원태인</span>\n",
      "<span class=\"team\">삼성</span>\n",
      "</div>\n",
      "<div class=\"stat\">\n",
      "<span>14</span>\n",
      "</div>\n",
      "</div>\n",
      "</li>\n",
      "</ul>\n",
      "<ul class=\"list\" id=\"playerRankingList_kbo_3\" style=\"display:none;\">\n",
      "<li class=\"best\">\n",
      "<div class=\"inner\">\n",
      "<b class=\"rank_num\">1</b>\n",
      "<div class=\"image\">\n",
      "<span class=\"mask\"></span>\n",
      "<img alt=\"미란다\" class=\"imageLazyLoad\" lazy-src=\"https://dthumb-phinf.pstatic.net/?twidth=36&amp;theight=45&amp;opts=8&amp;qlt=95&amp;noimage=sp2&amp;src=https://sports-phinf.pstatic.net/player/kbo/default/51257.png\" onerror=\"this.src='https://dthumb-phinf.pstatic.net/?twidth=32&amp;theight=32&amp;opts=8&amp;qlt=95&amp;noimage=sp2&amp;src=https://sports-phinf.pstatic.net/team/kbo/default/OB.png'\" src=\"data:image/gif;base64,R0lGODlhAQABAAAAACH5BAEKAAEALAAAAAABAAEAAAICTAEAOw==\"/>\n",
      "</div>\n",
      "<div class=\"info\">\n",
      "<span class=\"name\">미란다</span>\n",
      "<span class=\"team\">두산</span>\n",
      "</div>\n",
      "<div class=\"stat\">\n",
      "<span>2.33</span>\n",
      "</div>\n",
      "</div>\n",
      "</li>\n",
      "<li>\n",
      "<div class=\"inner\">\n",
      "<b class=\"rank_num\">2</b>\n",
      "<div class=\"image\">\n",
      "<span class=\"mask\"></span>\n",
      "<img alt=\"백정현\" class=\"imageLazyLoad\" lazy-src=\"https://dthumb-phinf.pstatic.net/?twidth=36&amp;theight=45&amp;opts=8&amp;qlt=95&amp;noimage=sp2&amp;src=https://sports-phinf.pstatic.net/player/kbo/default/77446.png\" onerror=\"this.src='https://dthumb-phinf.pstatic.net/?twidth=32&amp;theight=32&amp;opts=8&amp;qlt=95&amp;noimage=sp2&amp;src=https://sports-phinf.pstatic.net/team/kbo/default/SS.png'\" src=\"data:image/gif;base64,R0lGODlhAQABAAAAACH5BAEKAAEALAAAAAABAAEAAAICTAEAOw==\"/>\n",
      "</div>\n",
      "<div class=\"info\">\n",
      "<span class=\"name\">백정현</span>\n",
      "<span class=\"team\">삼성</span>\n",
      "</div>\n",
      "<div class=\"stat\">\n",
      "<span>2.63</span>\n",
      "</div>\n",
      "</div>\n",
      "</li>\n",
      "<li>\n",
      "<div class=\"inner\">\n",
      "<b class=\"rank_num\">3</b>\n",
      "<div class=\"image\">\n",
      "<span class=\"mask\"></span>\n",
      "<img alt=\"고영표\" class=\"imageLazyLoad\" lazy-src=\"https://dthumb-phinf.pstatic.net/?twidth=36&amp;theight=45&amp;opts=8&amp;qlt=95&amp;noimage=sp2&amp;src=https://sports-phinf.pstatic.net/player/kbo/default/64001.png\" onerror=\"this.src='https://dthumb-phinf.pstatic.net/?twidth=32&amp;theight=32&amp;opts=8&amp;qlt=95&amp;noimage=sp2&amp;src=https://sports-phinf.pstatic.net/team/kbo/default/KT.png'\" src=\"data:image/gif;base64,R0lGODlhAQABAAAAACH5BAEKAAEALAAAAAABAAEAAAICTAEAOw==\"/>\n",
      "</div>\n",
      "<div class=\"info\">\n",
      "<span class=\"name\">고영표</span>\n",
      "<span class=\"team\">KT</span>\n",
      "</div>\n",
      "<div class=\"stat\">\n",
      "<span>2.92</span>\n",
      "</div>\n",
      "</div>\n",
      "</li>\n",
      "<li>\n",
      "<div class=\"inner\">\n",
      "<b class=\"rank_num\">4</b>\n",
      "<div class=\"image\">\n",
      "<span class=\"mask\"></span>\n",
      "<img alt=\"요키시\" class=\"imageLazyLoad\" lazy-src=\"https://dthumb-phinf.pstatic.net/?twidth=36&amp;theight=45&amp;opts=8&amp;qlt=95&amp;noimage=sp2&amp;src=https://sports-phinf.pstatic.net/player/kbo/default/69343.png\" onerror=\"this.src='https://dthumb-phinf.pstatic.net/?twidth=32&amp;theight=32&amp;opts=8&amp;qlt=95&amp;noimage=sp2&amp;src=https://sports-phinf.pstatic.net/team/kbo/default/WO.png'\" src=\"data:image/gif;base64,R0lGODlhAQABAAAAACH5BAEKAAEALAAAAAABAAEAAAICTAEAOw==\"/>\n",
      "</div>\n",
      "<div class=\"info\">\n",
      "<span class=\"name\">요키시</span>\n",
      "<span class=\"team\">키움</span>\n",
      "</div>\n",
      "<div class=\"stat\">\n",
      "<span>2.93</span>\n",
      "</div>\n",
      "</div>\n",
      "</li>\n",
      "<li>\n",
      "<div class=\"inner\">\n",
      "<b class=\"rank_num\">5</b>\n",
      "<div class=\"image\">\n",
      "<span class=\"mask\"></span>\n",
      "<img alt=\"원태인\" class=\"imageLazyLoad\" lazy-src=\"https://dthumb-phinf.pstatic.net/?twidth=36&amp;theight=45&amp;opts=8&amp;qlt=95&amp;noimage=sp2&amp;src=https://sports-phinf.pstatic.net/player/kbo/default/69446.png\" onerror=\"this.src='https://dthumb-phinf.pstatic.net/?twidth=32&amp;theight=32&amp;opts=8&amp;qlt=95&amp;noimage=sp2&amp;src=https://sports-phinf.pstatic.net/team/kbo/default/SS.png'\" src=\"data:image/gif;base64,R0lGODlhAQABAAAAACH5BAEKAAEALAAAAAABAAEAAAICTAEAOw==\"/>\n",
      "</div>\n",
      "<div class=\"info\">\n",
      "<span class=\"name\">원태인</span>\n",
      "<span class=\"team\">삼성</span>\n",
      "</div>\n",
      "<div class=\"stat\">\n",
      "<span>3.06</span>\n",
      "</div>\n",
      "</div>\n",
      "</li>\n",
      "</ul>\n",
      "</div>\n",
      "<a class=\"more\" href=\"/kbaseball/record/index\"><span>더보기</span></a>\n",
      "<script>\n",
      "\t\tchangePlayerRankingTab('kbo', 0, 4);\n",
      "\t\t</script>\n",
      "</div>\n",
      "<div class=\"aside_inner\" id=\"right_big_banner_0\" style=\"display:none;\">\n",
      "<div class=\"aside_magazines\">\n",
      "<h3 class=\"blind\">올림픽채널</h3>\n",
      "<div class=\"thmb\">\n",
      "<a href=\"https://tv.naver.com/olympicchannel\" onclick=\"clickcr(this, 'aec*d.banner', '', '', event);\" target=\"_blank\">\n",
      "<img alt=\"\" class=\"imageLazyLoad\" lazy-src=\"https://sports-phinf.pstatic.net/20180928_260/1538109748561DWCaR_PNG/07_%B1%E2%C5%B8_%C5%D7%B4%CF%BD%BA.png\" src=\"data:image/gif;base64,R0lGODlhAQABAAAAACH5BAEKAAEALAAAAAABAAEAAAICTAEAOw==\" width=\"300\"/>\n",
      "</a>\n",
      "</div>\n",
      "</div>\n",
      "</div>\n",
      "<script>\t\n",
      "\tdocument.getElementById(\"right_big_banner_\" + (Math.floor(Math.random() * 10) % 1)).style.display = \"\";\n",
      "\t</script>\n",
      "<div class=\"aside_inner\" id=\"photo\">\n",
      "<div class=\"aside_photo\" id=\"asidePhoto_0\" style=\"display:none;\">\n",
      "<h3 class=\"title\">PHOTO</h3>\n",
      "<div class=\"viewer\">\n",
      "<div class=\"text\">\n",
      "<a class=\"title\" href=\"/photocenter/photoList?albumId=106162&amp;category=kbo\"><span>천하무적 한동현 '결정적인 1타점 3루타' </span></a>\n",
      "</div>\n",
      "<div class=\"inner\">\n",
      "<a class=\"thmb thmb1\" href=\"/photocenter/photo?albumId=106162&amp;photoId=2916883&amp;category=kbo\"><img alt=\"천하무적 한동현 '결정적인 1타점 3루타' \" class=\"imageLazyLoad\" height=\"200\" lazy-src=\"https://dthumb-phinf.pstatic.net/?src=http://imgnews.naver.net/image/410/2021/11/22/0000833197_001_20211122222201676.jpg&amp;type=nf200_200\" onclick=\"clickcr(this, 'aec*g.photo', '', '', event);\" src=\"data:image/gif;base64,R0lGODlhAQABAAAAACH5BAEKAAEALAAAAAABAAEAAAICTAEAOw==\" width=\"200\"/></a>\n",
      "<a class=\"thmb thmb2\" href=\"/photocenter/photo?albumId=106162&amp;photoId=2916906&amp;category=kbo\"><img alt=\"천하무적 한동현 '짜릿한 역전 1타점 3루타' \" class=\"imageLazyLoad\" height=\"100\" lazy-src=\"https://dthumb-phinf.pstatic.net/?src=http://imgnews.naver.net/image/410/2021/11/22/0000833203_001_20211122223101606.jpg&amp;type=nf100_100\" onclick=\"clickcr(this, 'aec*g.photo', '', '', event);\" src=\"data:image/gif;base64,R0lGODlhAQABAAAAACH5BAEKAAEALAAAAAABAAEAAAICTAEAOw==\" width=\"100\"/></a>\n",
      "<a class=\"thmb thmb3\" href=\"/photocenter/photo?albumId=106162&amp;photoId=2916884&amp;category=kbo\"><img alt=\"스타즈 이성배 '막아야 된다' \" class=\"imageLazyLoad\" height=\"100\" lazy-src=\"https://dthumb-phinf.pstatic.net/?src=http://imgnews.naver.net/image/410/2021/11/22/0000833194_001_20211122221901629.jpg&amp;type=nf100_100\" onclick=\"clickcr(this, 'aec*g.photo', '', '', event);\" src=\"data:image/gif;base64,R0lGODlhAQABAAAAACH5BAEKAAEALAAAAAABAAEAAAICTAEAOw==\" width=\"100\"/></a>\n",
      "</div>\n",
      "<a class=\"prev\" href=\"javascript:changeAsidePhoto(-1);\" onclick=\"clickcr(this, 'aec*g.prev', '', '', event);\"><span>이전</span></a>\n",
      "<a class=\"next\" href=\"javascript:changeAsidePhoto(1);\" onclick=\"clickcr(this, 'aec*g.next', '', '', event);\"><span>다음</span></a>\n",
      "</div>\n",
      "</div>\n",
      "<div class=\"aside_photo\" id=\"asidePhoto_1\" style=\"display:none;\">\n",
      "<h3 class=\"title\">PHOTO</h3>\n",
      "<div class=\"viewer\">\n",
      "<div class=\"text\">\n",
      "<a class=\"title\" href=\"/photocenter/photoList?albumId=106054&amp;category=kbo\"><span>충장축제 어게인 1983 타이거즈,'한자리에 모인 해태 레전드'</span></a>\n",
      "</div>\n",
      "<div class=\"inner\">\n",
      "<a class=\"thmb thmb1\" href=\"/photocenter/photo?albumId=106054&amp;photoId=2915358&amp;category=kbo\"><img alt=\"충장축제 어게인 1983 타이거즈,'한자리에 모인 해태 레전드'\" class=\"imageLazyLoad\" height=\"200\" lazy-src=\"https://dthumb-phinf.pstatic.net/?src=http://imgnews.naver.net/image/109/2021/11/20/0004514517_001_20211120163804066.jpg&amp;type=nf200_200\" onclick=\"clickcr(this, 'aec*g.photo', '', '', event);\" src=\"data:image/gif;base64,R0lGODlhAQABAAAAACH5BAEKAAEALAAAAAABAAEAAAICTAEAOw==\" width=\"200\"/></a>\n",
      "<a class=\"thmb thmb2\" href=\"/photocenter/photo?albumId=106054&amp;photoId=2915359&amp;category=kbo\"><img alt=\"어게인 1983 타이거즈,'레전드 해태 보기 위해 몰린 수많은 인파'\" class=\"imageLazyLoad\" height=\"100\" lazy-src=\"https://dthumb-phinf.pstatic.net/?src=http://imgnews.naver.net/image/109/2021/11/20/0004514514_001_20211120162705505.jpg&amp;type=nf100_100\" onclick=\"clickcr(this, 'aec*g.photo', '', '', event);\" src=\"data:image/gif;base64,R0lGODlhAQABAAAAACH5BAEKAAEALAAAAAABAAEAAAICTAEAOw==\" width=\"100\"/></a>\n",
      "<a class=\"thmb thmb3\" href=\"/photocenter/photo?albumId=106054&amp;photoId=2915343&amp;category=kbo\"><img alt=\"김일권,'화환 목에 걸고'\" class=\"imageLazyLoad\" height=\"100\" lazy-src=\"https://dthumb-phinf.pstatic.net/?src=http://imgnews.naver.net/image/109/2021/11/20/0004514513_001_20211120162703946.jpg&amp;type=nf100_100\" onclick=\"clickcr(this, 'aec*g.photo', '', '', event);\" src=\"data:image/gif;base64,R0lGODlhAQABAAAAACH5BAEKAAEALAAAAAABAAEAAAICTAEAOw==\" width=\"100\"/></a>\n",
      "</div>\n",
      "<a class=\"prev\" href=\"javascript:changeAsidePhoto(-1);\" onclick=\"clickcr(this, 'aec*g.prev', '', '', event);\"><span>이전</span></a>\n",
      "<a class=\"next\" href=\"javascript:changeAsidePhoto(1);\" onclick=\"clickcr(this, 'aec*g.next', '', '', event);\"><span>다음</span></a>\n",
      "</div>\n",
      "</div>\n",
      "<div class=\"aside_photo\" id=\"asidePhoto_2\" style=\"display:none;\">\n",
      "<h3 class=\"title\">PHOTO</h3>\n",
      "<div class=\"viewer\">\n",
      "<div class=\"text\">\n",
      "<a class=\"title\" href=\"/photocenter/photoList?albumId=106006&amp;category=kbo\"><span>KT, 기념촬영 찰칵 </span></a>\n",
      "</div>\n",
      "<div class=\"inner\">\n",
      "<a class=\"thmb thmb1\" href=\"/photocenter/photo?albumId=106006&amp;photoId=2914540&amp;category=kbo\"><img alt=\"한국시리즈 MVP 박경수\" class=\"imageLazyLoad\" height=\"200\" lazy-src=\"https://dthumb-phinf.pstatic.net/?src=http://imgnews.naver.net/image/109/2021/11/18/0004513721_001_20211118232503015.jpg&amp;type=nf200_200\" onclick=\"clickcr(this, 'aec*g.photo', '', '', event);\" src=\"data:image/gif;base64,R0lGODlhAQABAAAAACH5BAEKAAEALAAAAAABAAEAAAICTAEAOw==\" width=\"200\"/></a>\n",
      "<a class=\"thmb thmb2\" href=\"/photocenter/photo?albumId=106006&amp;photoId=2914542&amp;category=kbo\"><img alt=\"한국시리즈 4차전 MVP 호잉 \" class=\"imageLazyLoad\" height=\"100\" lazy-src=\"https://dthumb-phinf.pstatic.net/?src=http://imgnews.naver.net/image/410/2021/11/18/0000832558_001_20211118232502870.jpg&amp;type=nf100_100\" onclick=\"clickcr(this, 'aec*g.photo', '', '', event);\" src=\"data:image/gif;base64,R0lGODlhAQABAAAAACH5BAEKAAEALAAAAAABAAEAAAICTAEAOw==\" width=\"100\"/></a>\n",
      "<a class=\"thmb thmb3\" href=\"/photocenter/photo?albumId=106006&amp;photoId=2914545&amp;category=kbo\"><img alt=\"이강철 감독 '우승 트로피 번쩍' \" class=\"imageLazyLoad\" height=\"100\" lazy-src=\"https://dthumb-phinf.pstatic.net/?src=http://imgnews.naver.net/image/410/2021/11/18/0000832557_001_20211118232501624.jpg&amp;type=nf100_100\" onclick=\"clickcr(this, 'aec*g.photo', '', '', event);\" src=\"data:image/gif;base64,R0lGODlhAQABAAAAACH5BAEKAAEALAAAAAABAAEAAAICTAEAOw==\" width=\"100\"/></a>\n",
      "</div>\n",
      "<a class=\"prev\" href=\"javascript:changeAsidePhoto(-1);\" onclick=\"clickcr(this, 'aec*g.prev', '', '', event);\"><span>이전</span></a>\n",
      "<a class=\"next\" href=\"javascript:changeAsidePhoto(1);\" onclick=\"clickcr(this, 'aec*g.next', '', '', event);\"><span>다음</span></a>\n",
      "</div>\n",
      "</div>\n",
      "<div class=\"aside_photo\" id=\"asidePhoto_3\" style=\"display:none;\">\n",
      "<h3 class=\"title\">PHOTO</h3>\n",
      "<div class=\"viewer\">\n",
      "<div class=\"text\">\n",
      "<a class=\"title\" href=\"/photocenter/photoList?albumId=105976&amp;category=kbo\"><span>강백호 '통합우승 1승 남았어' </span></a>\n",
      "</div>\n",
      "<div class=\"inner\">\n",
      "<a class=\"thmb thmb1\" href=\"/photocenter/photo?albumId=105976&amp;photoId=2913311&amp;category=kbo\"><img alt=\"이강철 감독 '데스파이네, 수고했어' \" class=\"imageLazyLoad\" height=\"200\" lazy-src=\"https://dthumb-phinf.pstatic.net/?src=http://imgnews.naver.net/image/410/2021/11/17/0000832120_001_20211117222801695.jpg&amp;type=nf200_200\" onclick=\"clickcr(this, 'aec*g.photo', '', '', event);\" src=\"data:image/gif;base64,R0lGODlhAQABAAAAACH5BAEKAAEALAAAAAABAAEAAAICTAEAOw==\" width=\"200\"/></a>\n",
      "<a class=\"thmb thmb2\" href=\"/photocenter/photo?albumId=105976&amp;photoId=2913133&amp;category=kbo\"><img alt=\"이강철 감독 '특급 마무리 김재윤에 엄지 척' \" class=\"imageLazyLoad\" height=\"100\" lazy-src=\"https://dthumb-phinf.pstatic.net/?src=http://imgnews.naver.net/image/410/2021/11/17/0000832119_001_20211117222601690.jpg&amp;type=nf100_100\" onclick=\"clickcr(this, 'aec*g.photo', '', '', event);\" src=\"data:image/gif;base64,R0lGODlhAQABAAAAACH5BAEKAAEALAAAAAABAAEAAAICTAEAOw==\" width=\"100\"/></a>\n",
      "<a class=\"thmb thmb3\" href=\"/photocenter/photo?albumId=105976&amp;photoId=2913134&amp;category=kbo\"><img alt=\"데스파이네 'KS 3차전 데일리 MVP' [MK포토'\" class=\"imageLazyLoad\" height=\"100\" lazy-src=\"https://dthumb-phinf.pstatic.net/?src=http://imgnews.naver.net/image/410/2021/11/17/0000832118_001_20211117222501629.jpg&amp;type=nf100_100\" onclick=\"clickcr(this, 'aec*g.photo', '', '', event);\" src=\"data:image/gif;base64,R0lGODlhAQABAAAAACH5BAEKAAEALAAAAAABAAEAAAICTAEAOw==\" width=\"100\"/></a>\n",
      "</div>\n",
      "<a class=\"prev\" href=\"javascript:changeAsidePhoto(-1);\" onclick=\"clickcr(this, 'aec*g.prev', '', '', event);\"><span>이전</span></a>\n",
      "<a class=\"next\" href=\"javascript:changeAsidePhoto(1);\" onclick=\"clickcr(this, 'aec*g.next', '', '', event);\"><span>다음</span></a>\n",
      "</div>\n",
      "</div>\n",
      "</div>\n",
      "<script>\n",
      "var currentAsidePhotoOrder = 0;\n",
      "function changeAsidePhoto(offset) {\n",
      "\tvar albumCnt = 4;\n",
      "\tcurrentAsidePhotoOrder += offset;\n",
      "\t\n",
      "\tif (currentAsidePhotoOrder >= albumCnt) {\n",
      "\t\tcurrentAsidePhotoOrder = 0;\n",
      "\t} else if (currentAsidePhotoOrder < 0) {\n",
      "\t\tcurrentAsidePhotoOrder = albumCnt - 1;\n",
      "\t}\n",
      "\t\n",
      "\tfor(var i = 0; i < albumCnt; i++) {\n",
      "        if(i == currentAsidePhotoOrder) {\n",
      "            document.getElementById('asidePhoto_'+i+'').style.display = '';\n",
      "        } else {\n",
      "            document.getElementById('asidePhoto_'+i+'').style.display = 'none';\n",
      "        }\n",
      "    }\n",
      "}\n",
      "changeAsidePhoto(0);\n",
      "</script>\n",
      "<div class=\"aside_inner aside_shopping aside_shopping_v2\">\n",
      "<div class=\"aside_head\">\n",
      "<h3 class=\"title\"><strong>야구</strong> 네이버 쇼핑</h3>\n",
      "<div class=\"shopping_paginated\" id=\"_shoppingPageArea\">\n",
      "<span class=\"pa_num\"><em id=\"_shoppingPageNum\">1</em> / 2</span>\n",
      "<span class=\"nav prev\" id=\"_shoppingDisablePrevBtn\" style=\"display:none;\"><span>이전 없음</span></span>\n",
      "<a class=\"nav prev\" href=\"#\" id=\"_shoppingEnablePrevBtn\" onclick=\"clickcr(this, 'aec*h.prev', '', '', event);\"><span>이전</span></a>\n",
      "<a class=\"nav next\" href=\"#\" id=\"_shoppingEnableNextBtn\" onclick=\"clickcr(this, 'aec*h.next', '', '', event);\"><span>다음</span></a>\n",
      "<span class=\"nav next\" id=\"_shoppingDisableNextBtn\" style=\"display:none;\"><span>다음 없음</span></span>\n",
      "</div>\n",
      "</div>\n",
      "<div class=\"aside_shopping_ct\">\n",
      "<ul class=\"list\" id=\"_shoppingArea_0\" style=\"display:none;\">\n",
      "<li class=\"type1\">\n",
      "<a href=\"https://swindow.naver.com/outlink/itemdetail/5957048044\" onclick=\"clickcr(this, 'aec*h.goods', '', '', event);\">\n",
      "<div class=\"thmb\">\n",
      "<img alt=\"자연스러운 압박&lt;br&gt;야구 손목보호대\" class=\"imageLazyLoad\" height=\"160\" lazy-src=\"https://shop-phinf.pstatic.net/20211117_192/1637125914538JsaKg_JPEG/C3A5CUsers5CIN5CDesktop5CEC9DB4EBAFB8ECA780%2BECA080EC9EA55C.jpg\" src=\"data:image/gif;base64,R0lGODlhAQABAAAAACH5BAEKAAEALAAAAAABAAEAAAICTAEAOw==\" width=\"126\"/>\n",
      "<span class=\"mask\"></span>\n",
      "</div>\n",
      "<div class=\"price_wrap\">\n",
      "<span class=\"blind\">가격 : </span><strong class=\"price\"><span>25,890</span>원</strong>\n",
      "</div>\n",
      "<span class=\"text\">자연스러운 압박<br/>야구 손목보호대</span>\n",
      "</a>\n",
      "</li>\n",
      "<li class=\"type1\">\n",
      "<a href=\"https://swindow.naver.com/outlink/itemdetail/2177406565\" onclick=\"clickcr(this, 'aec*h.goods', '', '', event);\">\n",
      "<div class=\"thmb\">\n",
      "<img alt=\"추억 만들기&lt;br&gt;캐치볼 야구세트 \" class=\"imageLazyLoad\" height=\"160\" lazy-src=\"https://shop-phinf.pstatic.net/20211117_150/1637125937638c0lF4_JPEG/C3A5CUsers5CIN5CDesktop5CEC9DB4EBAFB8ECA780%2BECA080EC9EA55C.jpg\" src=\"data:image/gif;base64,R0lGODlhAQABAAAAACH5BAEKAAEALAAAAAABAAEAAAICTAEAOw==\" width=\"126\"/>\n",
      "<span class=\"mask\"></span>\n",
      "</div>\n",
      "<div class=\"price_wrap\">\n",
      "<span class=\"blind\">가격 : </span><strong class=\"price\"><span>29,900</span>원</strong>\n",
      "</div>\n",
      "<span class=\"text\">추억 만들기<br/>캐치볼 야구세트 </span>\n",
      "</a>\n",
      "</li>\n",
      "<li class=\"type1\">\n",
      "<a href=\"https://swindow.naver.com/outlink/itemdetail/4685026382\" onclick=\"clickcr(this, 'aec*h.goods', '', '', event);\">\n",
      "<div class=\"thmb\">\n",
      "<img alt=\"검증된 보온성&lt;br&gt;후디기모 언더티\" class=\"imageLazyLoad\" height=\"160\" lazy-src=\"https://shop-phinf.pstatic.net/20211117_116/1637125967832WRMNb_JPEG/C3A5CUsers5CIN5CDesktop5CEC9DB4EBAFB8ECA780%2BECA080EC9EA55C.jpg\" src=\"data:image/gif;base64,R0lGODlhAQABAAAAACH5BAEKAAEALAAAAAABAAEAAAICTAEAOw==\" width=\"126\"/>\n",
      "<span class=\"mask\"></span>\n",
      "</div>\n",
      "<div class=\"price_wrap\">\n",
      "<span class=\"blind\">가격 : </span><strong class=\"price\"><span>39,000</span>원</strong>\n",
      "</div>\n",
      "<span class=\"text\">검증된 보온성<br/>후디기모 언더티</span>\n",
      "</a>\n",
      "</li>\n",
      "<li class=\"type1\">\n",
      "<a href=\"https://swindow.naver.com/outlink/itemdetail/4690518346\" onclick=\"clickcr(this, 'aec*h.goods', '', '', event);\">\n",
      "<div class=\"thmb\">\n",
      "<img alt=\"넥워머 비니겸용&lt;br&gt;야구 듀얼넥워머\" class=\"imageLazyLoad\" height=\"160\" lazy-src=\"https://shop-phinf.pstatic.net/20211117_20/1637126025145NlDyU_JPEG/C3A5CUsers5CIN5CDesktop5CEC9DB4EBAFB8ECA780%2BECA080EC9EA55C.jpg\" src=\"data:image/gif;base64,R0lGODlhAQABAAAAACH5BAEKAAEALAAAAAABAAEAAAICTAEAOw==\" width=\"126\"/>\n",
      "<span class=\"mask\"></span>\n",
      "</div>\n",
      "<div class=\"price_wrap\">\n",
      "<span class=\"blind\">가격 : </span><strong class=\"price\"><span>9,900</span>원</strong>\n",
      "</div>\n",
      "<span class=\"text\">넥워머 비니겸용<br/>야구 듀얼넥워머</span>\n",
      "</a>\n",
      "</li>\n",
      "</ul>\n",
      "<ul class=\"list\" id=\"_shoppingArea_1\" style=\"display:none;\">\n",
      "<li class=\"type1\">\n",
      "<a href=\"https://swindow.naver.com/outlink/itemdetail/4640318463\" onclick=\"clickcr(this, 'aec*h.goods', '', '', event);\">\n",
      "<div class=\"thmb\">\n",
      "<img alt=\"상체 근육 만들기&lt;br&gt;치닝디핑 턱걸이\" class=\"imageLazyLoad\" height=\"160\" lazy-src=\"https://shop-phinf.pstatic.net/20211117_247/163712605449051mWA_JPEG/C3A5CUsers5CIN5CDesktop5CEC9DB4EBAFB8ECA780%2BECA080EC9EA55C.jpg\" src=\"data:image/gif;base64,R0lGODlhAQABAAAAACH5BAEKAAEALAAAAAABAAEAAAICTAEAOw==\" width=\"126\"/>\n",
      "<span class=\"mask\"></span>\n",
      "</div>\n",
      "<div class=\"price_wrap\">\n",
      "<span class=\"blind\">가격 : </span><strong class=\"price\"><span>88,000</span>원</strong>\n",
      "</div>\n",
      "<span class=\"text\">상체 근육 만들기<br/>치닝디핑 턱걸이</span>\n",
      "</a>\n",
      "</li>\n",
      "<li class=\"type1\">\n",
      "<a href=\"https://swindow.naver.com/outlink/itemdetail/5966462510\" onclick=\"clickcr(this, 'aec*h.goods', '', '', event);\">\n",
      "<div class=\"thmb\">\n",
      "<img alt=\"하체 운동 기구&lt;br&gt;베어버스 스탭퍼\" class=\"imageLazyLoad\" height=\"160\" lazy-src=\"https://shop-phinf.pstatic.net/20211117_250/1637126077491g5xlb_JPEG/C3A5CUsers5CIN5CDesktop5CEC9DB4EBAFB8ECA780%2BECA080EC9EA55C.jpg\" src=\"data:image/gif;base64,R0lGODlhAQABAAAAACH5BAEKAAEALAAAAAABAAEAAAICTAEAOw==\" width=\"126\"/>\n",
      "<span class=\"mask\"></span>\n",
      "</div>\n",
      "<div class=\"price_wrap\">\n",
      "<span class=\"blind\">가격 : </span><strong class=\"price\"><span>58,700</span>원</strong>\n",
      "</div>\n",
      "<span class=\"text\">하체 운동 기구<br/>베어버스 스탭퍼</span>\n",
      "</a>\n",
      "</li>\n",
      "<li class=\"type1\">\n",
      "<a href=\"https://swindow.naver.com/outlink/itemdetail/5681311205\" onclick=\"clickcr(this, 'aec*h.goods', '', '', event);\">\n",
      "<div class=\"thmb\">\n",
      "<img alt=\"레토 감성 느낌&lt;br&gt;캠핑랜턴 LED\" class=\"imageLazyLoad\" height=\"160\" lazy-src=\"https://shop-phinf.pstatic.net/20211117_275/16371261002619aNm6_JPEG/C3A5CUsers5CIN5CDesktop5CEC9DB4EBAFB8ECA780%2BECA080EC9EA55C.jpg\" src=\"data:image/gif;base64,R0lGODlhAQABAAAAACH5BAEKAAEALAAAAAABAAEAAAICTAEAOw==\" width=\"126\"/>\n",
      "<span class=\"mask\"></span>\n",
      "</div>\n",
      "<div class=\"price_wrap\">\n",
      "<span class=\"blind\">가격 : </span><strong class=\"price\"><span>15,900</span>원</strong>\n",
      "</div>\n",
      "<span class=\"text\">레토 감성 느낌<br/>캠핑랜턴 LED</span>\n",
      "</a>\n",
      "</li>\n",
      "<li class=\"type1\">\n",
      "<a href=\"https://swindow.naver.com/outlink/itemdetail/4989003709\" onclick=\"clickcr(this, 'aec*h.goods', '', '', event);\">\n",
      "<div class=\"thmb\">\n",
      "<img alt=\"뛰어난 조과 효과&lt;br&gt;알파서프 원투대\" class=\"imageLazyLoad\" height=\"160\" lazy-src=\"https://shop-phinf.pstatic.net/20211117_187/1637126127427ff1Kb_JPEG/C3A5CUsers5CIN5CDesktop5CEC9DB4EBAFB8ECA780%2BECA080EC9EA55C.jpg\" src=\"data:image/gif;base64,R0lGODlhAQABAAAAACH5BAEKAAEALAAAAAABAAEAAAICTAEAOw==\" width=\"126\"/>\n",
      "<span class=\"mask\"></span>\n",
      "</div>\n",
      "<div class=\"price_wrap\">\n",
      "<span class=\"blind\">가격 : </span><strong class=\"price\"><span>67,500</span>원</strong>\n",
      "</div>\n",
      "<span class=\"text\">뛰어난 조과 효과<br/>알파서프 원투대</span>\n",
      "</a>\n",
      "</li>\n",
      "</ul>\n",
      "</div>\n",
      "</div>\n",
      "<script>\n",
      "\t\tnaver = window.naver || {};\n",
      "\t\tnaver.sports = naver.sports || {};\n",
      "\t\tnaver.sports.section = naver.sports.section || {};\n",
      "\t\tnaver.sports.section.right = naver.sports.section.right || {};\n",
      "\n",
      "\t\tnaver.sports.section.right.ShoppingArea = eg.Class({\n",
      "\t\t\tconstruct: function(option) {\n",
      "\t\t\t\tthis._initVars(option);\n",
      "\t\t\t\tthis._initComponents(option);\n",
      "\t\t\t\tthis._setEventHandler();\n",
      "\t\t\t},\n",
      "\t\t\t_initVars: function (htOption) {\n",
      "\t\t\t\tthis._$shoppingPageArea = $(\"#_shoppingPageArea\");\n",
      "\t\t\t\tthis._lastPage = 1;\n",
      "\t\t\t\tthis._currentPage = Math.floor(Math.random() * (this._lastPage + 1));\n",
      "\t\t\t},\n",
      "\t\t\t_initComponents: function (options) {\n",
      "\t\t\t\tthis._refreshShoppingArea();\n",
      "\t\t\t},\n",
      "\t\t\t_setEventHandler: function () {\n",
      "\t\t\t\tthis._$shoppingPageArea.on(\"click\", \"a#_shoppingEnablePrevBtn\", $.proxy(this._onClickPrevPage, this));\n",
      "\t\t\t\tthis._$shoppingPageArea.on(\"click\", \"a#_shoppingEnableNextBtn\", $.proxy(this._onClickNextPage, this));\n",
      "\t\t\t},\n",
      "\t\t\t_refreshShoppingArea: function(){\n",
      "\t\t\t\tfor (var i = 0; i <= this._lastPage; i++) {\n",
      "\t\t\t\t\t$(\"#_shoppingArea_\" + i).hide();\n",
      "\t\t\t\t}\n",
      "\n",
      "\t\t\t\t$(\"#_shoppingArea_\" + this._currentPage).show();\n",
      "\t\t\t\t$(\"#_shoppingPageNum\")[0].innerHTML = this._currentPage + 1;\n",
      "\n",
      "\t\t\t\tif(this._currentPage > 0){\n",
      "\t\t\t\t\t$(\"#_shoppingEnablePrevBtn\").show();\n",
      "\t\t\t\t\t$(\"#_shoppingDisablePrevBtn\").hide();\n",
      "\t\t\t\t}\n",
      "\t\t\t\tif(this._currentPage == 0){\n",
      "\t\t\t\t\t$(\"#_shoppingEnablePrevBtn\").hide();\n",
      "\t\t\t\t\t$(\"#_shoppingDisablePrevBtn\").show();\n",
      "\t\t\t\t}\n",
      "\t\t\t\tif(this._currentPage == this._lastPage){\n",
      "\t\t\t\t\t$(\"#_shoppingEnableNextBtn\").hide();\n",
      "\t\t\t\t\t$(\"#_shoppingDisableNextBtn\").show();\n",
      "\t\t\t\t}\n",
      "\t\t\t\tif(this._currentPage < this._lastPage){\n",
      "\t\t\t\t\t$(\"#_shoppingEnableNextBtn\").show();\n",
      "\t\t\t\t\t$(\"#_shoppingDisableNextBtn\").hide();\n",
      "\t\t\t\t}\n",
      "\t\t\t},\n",
      "\t\t\t_onClickNextPage: function(e){\n",
      "\t\t\t\tthis._currentPage = Math.min(this._currentPage + 1, this._lastPage);\n",
      "\t\t\t\tthis._refreshShoppingArea();\n",
      "\t\t\t\te.preventDefault();\n",
      "\t\t\t},\n",
      "\t\t\t_onClickPrevPage: function(e){\n",
      "\t\t\t\tthis._currentPage =  Math.max(0, this._currentPage - 1);\n",
      "\t\t\t\tthis._refreshShoppingArea();\n",
      "\t\t\t\te.preventDefault();\n",
      "\t\t\t}\n",
      "\t\t});\n",
      "\n",
      "\t\tnew naver.sports.section.right.ShoppingArea({});\n",
      "\t</script>\n",
      "</div>\n",
      "</div>\n",
      "</div>\n",
      "<script>\n",
      "\t$(document.body).click($.proxy(function(e) {\n",
      "\t\tif($(\"#fontSelectBox\").hasClass(\"selected\")) {\n",
      "\t\t\t$(\"#fontSelectBox\").removeClass(\"selected\");\n",
      "\t\t\t$(\"#fontSelectList\").hide();\n",
      "\t\t}\n",
      "\t}, this));\n",
      "\n",
      "\t$(document).ready(function() {\n",
      "\t\ttry {\n",
      "\t\t\tvar $sportsNewsVideo = $('div .sportsNewsVideo');\n",
      "\n",
      "\t\t\t$sportsNewsVideo.each(function(index, value) {\n",
      "\t\t\t\tvar el = $(value);\n",
      "\t\t\t\tvar videoHTML = \"<p><center><iframe id=sportsVideoiframe src=/videoCenter/video?&id=\"+el.attr('videoId')+\"&autoPlay=&width=544&height=342&ptype=http&etype=\"+el.attr('videoType')+\" width=544 height=342 frameborder=0 scrolling=no allowtransparency=true marginwidth=0 marginheight=0 ></iframe></center></p>\";\n",
      "\t\t\t\tel.html(videoHTML);\n",
      "\t\t\t});\n",
      "\n",
      "\t\t\tvar $naverPostVideoIframe = $(\".naverPostVideoIframe\");\n",
      "\t\t\t$naverPostVideoIframe.each(function(index, value) {\n",
      "\t\t\t\tvalue.src += \"&wmode=transparent\";\n",
      "\t\t\t});\n",
      "\t\t} catch(e) {\n",
      "\t\t}\n",
      "\t});\n",
      "\n",
      "\t$(\"#fontSelectBox\").click(function(e) {\n",
      "\t\tvar $fontSelectBox = $(\"#fontSelectBox\");\n",
      "\t\tvar $fontSelectList = $(\"#fontSelectList\");\n",
      "\t\tif ($fontSelectBox.hasClass(\"selected\")) {\n",
      "\t\t\t$fontSelectList.hide();\n",
      "\t\t} else {\n",
      "\t\t\tvar fontFamilyInfo = findFontInfo(getFontFamilyCookie());\n",
      "\t\t\t$fontSelectList.show();\n",
      "\t\t\t$fontSelectList.find(\"a\").removeClass(\"on\");\n",
      "\t\t\t$fontSelectList.find(\".\" + fontFamilyInfo.fontFamily).addClass(\"on\");\n",
      "\t\t}\n",
      "\t\t$fontSelectBox.toggleClass(\"selected\");\n",
      "\t\treturn false;\n",
      "\t});\n",
      "\n",
      "\t$('#reporterMoreBtn').click(function () {\n",
      "\t\t$(this).toggleClass(\"is_fold\");\n",
      "\n",
      "\t\t$('.reporter_area .reporter').each(function (index, item) {\n",
      "\t\t\tif ($(item).css(\"display\") == \"none\" && index > 3) {\n",
      "\t\t\t\t$('#reporterMoreBtn span').text('접기');\n",
      "\t\t\t\t$(item).show();\n",
      "\t\t\t} else if ($(item).css(\"display\") == \"block\" && index > 3) {\n",
      "\t\t\t\t$('#reporterMoreBt span').text('펼치기');\n",
      "\t\t\t\t$(item).hide();\n",
      "\t\t\t}\n",
      "\t\t});\n",
      "\n",
      "\t});\n",
      "\n",
      "\tif(jindo.$Agent().os().mac) {\n",
      "\t\t$(\"#fontSelectBox\").hide();\n",
      "\t\t$(\"#fontSizeTitle\").show();\n",
      "\t}\n",
      "\n",
      "\tsendToNewsCollector('108', '0003007300');\n",
      "\tshowFontSelectList();\n",
      "\t\n",
      "\tsetFontFamilyAndSize(fontName, fontSize);\n",
      "\t\n",
      "\n",
      "    var rmcPlayer = new Array();\n",
      "\n",
      "\n",
      "    \n",
      "\t\n",
      "\n",
      "    exeJs.push(function(){\n",
      "        handOff.Article.init(\n",
      "            jQuery('#newsEndContents').get(0),\n",
      "            {\n",
      "                category: 'sports_article',\n",
      "                contentId: \"108_0003007300\",\n",
      "                apiDomain: \"https://sidekick.fever.naver.com\"\n",
      "            }\n",
      "        );\n",
      "    });\n",
      "\n",
      "    // 기자카드 응원수 업데이트 콜백 목록 추가\n",
      "\twindow.reactionUpdatedCallbacks = window.reactionUpdatedCallbacks || [];\n",
      "\twindow.reactionUpdatedCallbacks.push(function (param) {\n",
      "\t\tvar journalistReactions = _.filter(param.contents, function (o) {\n",
      "\t\t\treturn o.serviceId === \"JOURNALIST\"\n",
      "\t\t});\n",
      "\t\tjournalistReactions.forEach(function (v) {\n",
      "\t\t\tif(!v || !v.reactions || !v.reactions.length || v.reactions[0].count === undefined ) {\n",
      "\t\t\t\treturn;\n",
      "\t\t\t}\n",
      "\t\t\tvar count = v.reactions[0].count;\n",
      "\t\t\tvar $journalistCheerCount = $(\"._JOURNALIST_\" + v.contentsId + \" ._reporter_cheer_count\");\n",
      "\n",
      "\t\t\t$journalistCheerCount.html(changeNumberFormat(count));\n",
      "\n",
      "\t\t\tif (count > 0) {\n",
      "\t\t\t\t$journalistCheerCount.parent().show();\n",
      "\t\t\t} else {\n",
      "\t\t\t\t$journalistCheerCount.parent().hide();\n",
      "\t\t\t}\n",
      "\t\t})\n",
      "\t});\n",
      "\n",
      "\tnew naver.sports.news.end.ReporterSubscriber({\n",
      "\t\tsportsProxyGatewayUrl: 'https://proxy-gateway.sports.naver.com',\n",
      "\t\tofficeId: '108',\n",
      "\t\tarticleId: '0003007300',\n",
      "\t\tofficeHname: '스타뉴스',\n",
      "\t\tjournalistCards: {\"feedChannelName\":\"JOURNALIST\",\"officeLogo\":\" https://mimgnews.pstatic.net/image/upload/office_logo/108/2017/01/11/logo_108_6_20170111151211.jpg \",\"darkOfficeLogo\":\" https://mimgnews.pstatic.net/image/upload/office_logo/108/2020/09/15/dark_logo_108_6_20200915194304.png \",\"cards\":{\"card\":[{\"type\":\"UNIFORM_CARD\",\"name\":\"김동윤 기자\",\"email\":\"dongy291@mtstarnews.com\",\"journalistId\":null,\"feedChannelKey\":null,\"imageUrl\":null,\"comment\":null,\"articles\":null},{\"type\":\"JOURNALIST_CARD\",\"name\":\"김동윤\",\"email\":\"dongy291@mtstarnews.com\",\"journalistId\":\"76144\",\"feedChannelKey\":\"JOURNALIST_76144\",\"imageUrl\":\"https://mimgnews.pstatic.net/image/upload/journalist/2021/07/05/20210702.jpg\",\"comment\":\"스타뉴스 김동윤 기자입니다.\",\"articles\":{\"article\":[{\"officeId\":\"108\",\"articleId\":\"0003007156\",\"title\":\"텍사스의 다저스 따라하기... 커쇼 영입으로 정점 찍나\",\"sectionId\":\"107\"},{\"officeId\":\"108\",\"articleId\":\"0003005740\",\"title\":\"ML 153㎞ 좌완-56홈런 내야수, 둘 다 일본에 뺏겼다... \\\"머니게임 패배\\\"\",\"sectionId\":\"107\"}]}}]},\"bylines\":{\"byline\":[\"김동윤 기자 (dongy291@mtstarnews.com)\"]}}\n",
      "\t})\n",
      "</script>\n",
      "<script charset=\"UTF-8\" src=\"https://ssl.pstatic.net/static.sports/resources/pc/2021/11/11/122215/js/src/news/nil.news.js\" type=\"text/javascript\"></script>\n",
      "<script>\n",
      "\tif (typeof nil != 'undefined') {\n",
      "\t\tnil.init(\"naver_news\", '108');\n",
      "\n",
      "\t\t\n",
      "\n",
      "\t\tnil.add({\n",
      "\t\t\t\"uri\": \"http://news.naver.com/main/read.nhn?oid=108&aid=0003007300\",\n",
      "\t\t\t\"dimension_1\": encodeURIComponent(\"스포츠\"),\n",
      "\t\t\t\"dimension_2\": encodeURIComponent('781.782'),\n",
      "\t\t\t\"dimension_3\": encodeURIComponent('76144'),\n",
      "\t\t\t\"dimension_4\": \"photo\"\n",
      "\t\t});\n",
      "\n",
      "\t\tnil.send('cv', 'post_view');\n",
      "\n",
      "\t\t$(window).unload(function() {\n",
      "\t\t\tnil.send('leave');\n",
      "\t\t});\n",
      "\t}\n",
      "\n",
      "\twindow.lcsCustomTargetUrl = 'https://sports.news.naver.com/kbaseball/news/read.nhn?oid=108&aid=0003007300';\n",
      "</script>\n",
      "<script id=\"_sports_da_template\" type=\"text/x-handlebars-template\">\n",
      "\t<iframe {{#if iframeId}}\n",
      "\t\t\t\tid=\"{{iframeId}}\"\n",
      "\t\t\t\tname=\"{{iframeId}}\"\n",
      "\t\t\t{{else}}\n",
      "\t\t\t\tid=\"{{previewId}}{{#if calpId}}_{{calpId}}{{/if}}\"\n",
      "\t\t\t\tname=\"{{previewId}}{{#if calpId}}_{{calpId}}{{/if}}\"\n",
      "\t\t\t{{/if}}\n",
      "\t\t\tdata-veta-preview=\"{{previewId}}\"\n",
      "\t\t\tsrc=\"https://veta.naver.com/fxshow?su={{unitId}}{{#if calpId}}&calp={{calpId}}{{/if}}\"\n",
      "\t\t\twidth=\"{{width}}\"\n",
      "\t\t\theight=\"{{height}}\"\n",
      "\t\t\ttitle=\"광고\"\n",
      "\t\t\talt=\"광고 영역 입니다.\"\n",
      "\t\t\tallowTransparency=\"true\"\n",
      "\t\t\tmarginheight=\"0\"\n",
      "\t\t\tmarginwidth=\"0\"\n",
      "\t\t\tframeborder=\"0\"\n",
      "\t\t\tscrolling=\"no\"\n",
      "\t\t\talign=\"center\"\n",
      "\t\t\t{{#if ext}}{{ext}}{{/if}}>\n",
      "\t</iframe>\n",
      "</script>\n",
      "<script id=\"_sports_2020_da_template\" type=\"text/x-handlebars-template\">\n",
      "\t{{#with adUnit}}\n",
      "\t<iframe {{#if iframeId}}\n",
      "\t\t\tid=\"{{iframeId}}\"\n",
      "\t\t\tname=\"{{iframeId}}\"\n",
      "\t\t\t{{else}}\n",
      "\t\t\tid=\"{{previewId}}{{#if calpId}}_{{calpId}}{{/if}}\"\n",
      "\t\t\tname=\"{{previewId}}{{#if calpId}}_{{calpId}}{{/if}}\"\n",
      "\t\t\t{{/if}}\n",
      "\t\t\tdata-veta-preview=\"{{previewId}}\"\n",
      "\t\t\tsrc=\"{{../daUrl}}su={{unitId}}{{#if calpId}}&calp={{calpId}}{{/if}}\"\n",
      "\t\t\twidth=\"{{width}}\"\n",
      "\t\t\theight=\"{{height}}\"\n",
      "\t\t\ttitle=\"광고\"\n",
      "\t\t\talt=\"광고 영역 입니다.\"\n",
      "\t\t\tallowTransparency=\"true\"\n",
      "\t\t\tmarginheight=\"0\"\n",
      "\t\t\tmarginwidth=\"0\"\n",
      "\t\t\tframeborder=\"0\"\n",
      "\t\t\tscrolling=\"no\"\n",
      "\t\t\talign=\"center\"\n",
      "\t\t\t{{#if ext}}{{ext}}{{/if}}>\n",
      "\t</iframe>\n",
      "\t{{/with}}\n",
      "</script>\n",
      "<script>\n",
      "\t//TODO section pc2018 인건 평창끝나면 지워주세요\n",
      "\t//NOTE : 뉴스 엔드 하단 광고 경우엔 NewsEndAdUnit.java 에서 데이터 내려주고 있음.\n",
      "\n",
      "    var adList = [\n",
      "\t\t{\"sid\":\"sports_home_right_banner\", \"name\":\"스포츠_우측배너(스포츠홈)\", \"section\":\"\", \"type\":\"pc\", \"oldUnitId\":\"1002B\", \"unitId\":\"SU10351\", \"previewId\":\"p_sports_right\", \"width\":\"300\", \"height\":\"250\", \"menu\":\"\", \"calpId\":\"home\", \"useCase\":\"iframe\"},\n",
      "\t\t{\"sid\":\"section_home_double_play\", \"name\":\"P_스포츠_더블플레이(스포츠홈, 종목홈)\", \"section\":\"kbaseball\", \"type\":\"pc\", \"oldUnitId\":\"986B\", \"unitId\":\"SU10514\", \"previewId\":\"p_sports_dpl\", \"width\":\"600\", \"height\":\"70\", \"menu\":\"\", \"calpId\":\"kbaseball\", \"useCase\":\"js\"},\n",
      "\t\t{\"sid\":\"section_home_double_play\", \"name\":\"P_스포츠_더블플레이(스포츠홈, 종목홈)\", \"section\":\"wbaseball\", \"type\":\"pc\", \"oldUnitId\":\"988C\", \"unitId\":\"SU10514\", \"previewId\":\"p_sports_dpl\", \"width\":\"600\", \"height\":\"70\", \"menu\":\"\", \"calpId\":\"wbaseball\", \"useCase\":\"js\"},\n",
      "\t\t{\"sid\":\"section_home_double_play\", \"name\":\"P_스포츠_더블플레이(스포츠홈, 종목홈)\", \"section\":\"kfootball\", \"type\":\"pc\", \"oldUnitId\":\"989B\", \"unitId\":\"SU10514\", \"previewId\":\"p_sports_dpl\", \"width\":\"600\", \"height\":\"70\", \"menu\":\"\", \"calpId\":\"kfootball\", \"useCase\":\"js\"},\n",
      "\t\t{\"sid\":\"section_home_double_play\", \"name\":\"P_스포츠_더블플레이(스포츠홈, 종목홈)\", \"section\":\"wfootball\", \"type\":\"pc\", \"oldUnitId\":\"928C\", \"unitId\":\"SU10514\", \"previewId\":\"p_sports_dpl\", \"width\":\"600\", \"height\":\"70\", \"menu\":\"\", \"calpId\":\"wfootball\", \"useCase\":\"js\"},\n",
      "\t\t{\"sid\":\"section_home_double_play\", \"name\":\"P_스포츠_더블플레이(스포츠홈, 종목홈)\", \"section\":\"basketball\", \"type\":\"pc\", \"oldUnitId\":\"990B\", \"unitId\":\"SU10514\", \"previewId\":\"p_sports_dpl\", \"width\":\"600\", \"height\":\"70\", \"menu\":\"\", \"calpId\":\"basketball\", \"useCase\":\"js\"},\n",
      "\t\t{\"sid\":\"section_home_double_play\", \"name\":\"P_스포츠_더블플레이(스포츠홈, 종목홈)\", \"section\":\"volleyball\", \"type\":\"pc\", \"oldUnitId\":\"1279A\", \"unitId\":\"SU10514\", \"previewId\":\"p_sports_dpl\", \"width\":\"600\", \"height\":\"70\", \"menu\":\"\", \"calpId\":\"volleyball\", \"useCase\":\"js\"},\n",
      "\t\t{\"sid\":\"section_home_double_play\", \"name\":\"P_스포츠_더블플레이(스포츠홈, 종목홈)\", \"section\":\"golf\", \"type\":\"pc\", \"oldUnitId\":\"992G\", \"unitId\":\"SU10514\", \"previewId\":\"p_sports_dpl\", \"width\":\"600\", \"height\":\"70\", \"menu\":\"\", \"calpId\":\"golf\", \"useCase\":\"js\"},\n",
      "\t\t{\"sid\":\"section_home_double_play\", \"name\":\"P_스포츠_더블플레이(스포츠홈, 종목홈)\", \"section\":\"general\", \"type\":\"pc\", \"oldUnitId\":\"994C\", \"unitId\":\"SU10514\", \"previewId\":\"p_sports_dpl\", \"width\":\"600\", \"height\":\"70\", \"menu\":\"\", \"calpId\":\"general\", \"useCase\":\"js\"},\n",
      "\t\t{\"sid\":\"section_home_double_play\", \"name\":\"P_스포츠_더블플레이(스포츠홈, 종목홈)\", \"section\":\"esports\", \"type\":\"pc\", \"oldUnitId\":\"1046C\", \"unitId\":\"SU10514\", \"previewId\":\"p_sports_dpl\", \"width\":\"600\", \"height\":\"70\", \"menu\":\"\", \"calpId\":\"esports\", \"useCase\":\"js\"},\n",
      "\t\t{\"sid\":\"section_home_double_play\", \"name\":\"P_스포츠_더블플레이(스포츠홈, 종목홈)\", \"section\":\"pc2018\", \"type\":\"pc\", \"oldUnitId\":\"\", \"unitId\":\"SU10282\", \"previewId\":\"p_sports_dpl\", \"width\":\"600\", \"height\":\"70\", \"menu\":\"\", \"calpId\":\"\", \"useCase\":\"js\"},\n",
      "\n",
      "\n",
      "\t\t{\"sid\":\"section_end_right_banner\", \"name\":\"P_스포츠_우측배너(영상외 주요지면)\", \"section\":\"\", \"type\":\"pc\", \"oldUnitId\":\"159M\", \"unitId\":\"SU10351\", \"previewId\":\"p_sports_right\", \"width\":\"300\", \"height\":\"250\", \"menu\":\"\", \"calpId\":\"\", \"useCase\":\"iframe\"},\n",
      "\t\t{\"sid\":\"section_end_right_banner\", \"name\":\"P_스포츠_우측배너(영상외 주요지면)\", \"section\":\"all\", \"type\":\"pc\", \"oldUnitId\":\"159M\", \"unitId\":\"SU10351\", \"previewId\":\"p_sports_right\", \"width\":\"300\", \"height\":\"250\", \"menu\":\"\", \"calpId\":\"\", \"useCase\":\"iframe\"},\n",
      "\t\t{\"sid\":\"section_end_right_banner\", \"name\":\"P_스포츠_우측배너(영상외 주요지면)\", \"section\":\"kbaseball\", \"type\":\"pc\", \"oldUnitId\":\"159M\", \"unitId\":\"SU10351\", \"previewId\":\"p_sports_right\", \"width\":\"300\", \"height\":\"250\", \"menu\":\"\", \"calpId\":\"kbaseball\", \"useCase\":\"iframe\"},\n",
      "\t\t{\"sid\":\"section_end_right_banner\", \"name\":\"P_스포츠_우측배너(영상외 주요지면)\", \"section\":\"wbaseball\", \"type\":\"pc\", \"oldUnitId\":\"159M\", \"unitId\":\"SU10351\", \"previewId\":\"p_sports_right\", \"width\":\"300\", \"height\":\"250\", \"menu\":\"\", \"calpId\":\"wbaseball\", \"useCase\":\"iframe\"},\n",
      "\t\t{\"sid\":\"section_end_right_banner\", \"name\":\"P_스포츠_우측배너(영상외 주요지면)\", \"section\":\"kfootball\", \"type\":\"pc\", \"oldUnitId\":\"159M\", \"unitId\":\"SU10351\", \"previewId\":\"p_sports_right\", \"width\":\"300\", \"height\":\"250\", \"menu\":\"\", \"calpId\":\"kfootball\", \"useCase\":\"iframe\"},\n",
      "\t\t{\"sid\":\"section_end_right_banner\", \"name\":\"P_스포츠_우측배너(영상외 주요지면)\", \"section\":\"wfootball\", \"type\":\"pc\", \"oldUnitId\":\"159M\", \"unitId\":\"SU10351\", \"previewId\":\"p_sports_right\", \"width\":\"300\", \"height\":\"250\", \"menu\":\"\", \"calpId\":\"wfootball\", \"useCase\":\"iframe\"},\n",
      "\t\t{\"sid\":\"section_end_right_banner\", \"name\":\"P_스포츠_우측배너(영상외 주요지면)\", \"section\":\"basketball\", \"type\":\"pc\", \"oldUnitId\":\"159M\", \"unitId\":\"SU10351\", \"previewId\":\"p_sports_right\", \"width\":\"300\", \"height\":\"250\", \"menu\":\"\", \"calpId\":\"basketball\", \"useCase\":\"iframe\"},\n",
      "\t\t{\"sid\":\"section_end_right_banner\", \"name\":\"P_스포츠_우측배너(영상외 주요지면)\", \"section\":\"volleyball\", \"type\":\"pc\", \"oldUnitId\":\"159M\", \"unitId\":\"SU10351\", \"previewId\":\"p_sports_right\", \"width\":\"300\", \"height\":\"250\", \"menu\":\"\", \"calpId\":\"volleyball\", \"useCase\":\"iframe\"},\n",
      "\t\t{\"sid\":\"section_end_right_banner\", \"name\":\"P_스포츠_우측배너(영상외 주요지면)\", \"section\":\"golf\", \"type\":\"pc\", \"oldUnitId\":\"1001C\", \"unitId\":\"SU10351\", \"previewId\":\"p_sports_right\", \"width\":\"300\", \"height\":\"250\", \"menu\":\"\", \"calpId\":\"golf\", \"useCase\":\"iframe\"},\n",
      "\t\t{\"sid\":\"section_end_right_banner\", \"name\":\"P_스포츠_우측배너(영상외 주요지면)\", \"section\":\"general\", \"type\":\"pc\", \"oldUnitId\":\"159M\", \"unitId\":\"SU10351\", \"previewId\":\"p_sports_right\", \"width\":\"300\", \"height\":\"250\", \"menu\":\"\", \"calpId\":\"general\", \"useCase\":\"iframe\"},\n",
      "\t\t{\"sid\":\"section_end_right_banner\", \"name\":\"P_스포츠_우측배너(영상외 주요지면)\", \"section\":\"esports\", \"type\":\"pc\", \"oldUnitId\":\"1047E\", \"unitId\":\"SU10351\", \"previewId\":\"p_sports_right\", \"width\":\"300\", \"height\":\"250\", \"menu\":\"\", \"calpId\":\"esports\", \"useCase\":\"iframe\"},\n",
      "\t\t{\"sid\":\"section_end_right_banner\", \"name\":\"P_스포츠_우측배너(영상외 주요지면)\", \"section\":\"tokyo2020\", \"type\":\"pc\", \"oldUnitId\":\"\", \"unitId\":\"SU10351\", \"previewId\":\"p_sports_right\", \"width\":\"300\", \"height\":\"250\", \"menu\":\"\", \"calpId\":\"\", \"useCase\":\"iframe\"},\n",
      "\n",
      "\t\t// 영상 통합 광고\n",
      "\t\t{\"sid\":\"vod_right_banner\", \"name\":\"P_스포츠_영상_통합스킨\", \"section\":\"kbaseball\", \"type\":\"pc\", \"oldUnitId\":\"1253B\", \"unitId\":\"SU10453\", \"previewId\":\"p_sports_right\", \"width\":\"300\", \"height\":\"250\", \"menu\":\"\", \"calpId\":\"kbaseball\", \"useCase\":\"js\"},\n",
      "\t\t{\"sid\":\"vod_right_banner\", \"name\":\"P_스포츠_영상_통합스킨\", \"section\":\"wbaseball\", \"type\":\"pc\", \"oldUnitId\":\"1051D\", \"unitId\":\"SU10453\", \"previewId\":\"p_sports_right\", \"width\":\"300\", \"height\":\"250\", \"menu\":\"\", \"calpId\":\"wbaseball\", \"useCase\":\"js\"},\n",
      "\t\t{\"sid\":\"vod_right_banner\", \"name\":\"P_스포츠_영상_통합스킨\", \"section\":\"kfootball\", \"type\":\"pc\", \"oldUnitId\":\"1255C\", \"unitId\":\"SU10453\", \"previewId\":\"p_sports_right\", \"width\":\"300\", \"height\":\"250\", \"menu\":\"\", \"calpId\":\"kfootball\", \"useCase\":\"js\"},\n",
      "\t\t{\"sid\":\"vod_right_banner\", \"name\":\"P_스포츠_영상_통합스킨\", \"section\":\"wfootball\", \"type\":\"pc\", \"oldUnitId\":\"1057D\", \"unitId\":\"SU10453\", \"previewId\":\"p_sports_right\", \"width\":\"300\", \"height\":\"250\", \"menu\":\"\", \"calpId\":\"wfootball\", \"useCase\":\"js\"},\n",
      "\t\t{\"sid\":\"vod_right_banner\", \"name\":\"P_스포츠_영상_통합스킨\", \"section\":\"basketball\", \"type\":\"pc\", \"oldUnitId\":\"1251B\", \"unitId\":\"SU10453\", \"previewId\":\"p_sports_right\", \"width\":\"300\", \"height\":\"250\", \"menu\":\"\", \"calpId\":\"basketball\", \"useCase\":\"js\"},\n",
      "\t\t{\"sid\":\"vod_right_banner\", \"name\":\"P_스포츠_영상_통합스킨\", \"section\":\"basketball\", \"category\":\"nba\", \"type\":\"pc\", \"unitId\":\"SU10453\", \"previewId\":\"p_sports_right\", \"width\":\"300\", \"height\":\"250\", \"menu\":\"\", \"calpId\":\"nba\", \"useCase\":\"js\"},\n",
      "\t\t{\"sid\":\"vod_right_banner\", \"name\":\"P_스포츠_영상_통합스킨\", \"section\":\"volleyball\", \"type\":\"pc\", \"oldUnitId\":\"1251B\", \"unitId\":\"SU10453\", \"previewId\":\"p_sports_right\", \"width\":\"300\", \"height\":\"250\", \"menu\":\"\", \"calpId\":\"volleyball\", \"useCase\":\"js\"},\n",
      "\t\t{\"sid\":\"vod_right_banner\", \"name\":\"P_스포츠_영상_통합스킨\", \"section\":\"golf\", \"type\":\"pc\", \"oldUnitId\":\"1021D\", \"unitId\":\"SU10453\", \"previewId\":\"p_sports_right\", \"width\":\"300\", \"height\":\"250\", \"menu\":\"\", \"calpId\":\"golf\", \"useCase\":\"js\"},\n",
      "\t\t{\"sid\":\"vod_right_banner\", \"name\":\"P_스포츠_영상_통합스킨\", \"section\":\"general\", \"type\":\"pc\", \"oldUnitId\":\"1251B\", \"unitId\":\"SU10453\", \"previewId\":\"p_sports_right\", \"width\":\"300\", \"height\":\"250\", \"menu\":\"\", \"calpId\":\"general\", \"useCase\":\"js\"},\n",
      "\t\t{\"sid\":\"vod_right_banner\", \"name\":\"P_스포츠_영상_통합스킨\", \"section\":\"esports\", \"type\":\"pc\", \"oldUnitId\":\"1102C\", \"unitId\":\"SU10453\", \"previewId\":\"p_sports_right\", \"width\":\"300\", \"height\":\"250\", \"menu\":\"\", \"calpId\":\"esports\", \"useCase\":\"js\"},\n",
      "\t\t{\"sid\":\"vod_right_banner\", \"name\":\"P_스포츠_영상_통합스킨\", \"section\":\"tokyo2020\", \"type\":\"pc\", \"oldUnitId\":\"\", \"unitId\":\"SU10453\", \"previewId\":\"p_sports_right\", \"width\":\"300\", \"height\":\"250\", \"menu\":\"\", \"calpId\":\"\", \"useCase\":\"js\"},\n",
      "\n",
      "\t\t// TODO ioctv 관련 sports/sus#1867 채널 삭제시 광고 상수 역시 삭제 필요\n",
      "\t\t{\"sid\":\"vod_right_banner\", \"name\":\"P_스포츠_영상_통합스킨\", \"section\":\"general\", \"category\":\"ioctv\", \"type\":\"pc\", \"oldUnitId\":\"1102C\", \"unitId\":\"SU10453\", \"previewId\":\"p_sports_right\", \"width\":\"300\", \"height\":\"250\", \"menu\":\"\", \"calpId\":\"ioctv\", \"useCase\":\"js\"},\n",
      "\n",
      "\t\t// 평창 영상 광고코드\n",
      "\t\t{\"sid\":\"veta_300250\", \"name\":\"P_스포츠_영상_통합스킨\", \"section\":\"pc2018\", \"type\":\"pc\", \"oldUnitId\":\"\", \"unitId\":\"SU10284\", \"previewId\":\"p_sports_right\", \"width\":\"300\", \"height\":\"250\", \"menu\":\"\", \"calpId\":\"\", \"useCase\":\"js\"},\n",
      "\t\t{\"sid\":\"vod_topskin\", \"name\":\"P_스포츠_영상_상단스킨\", \"section\":\"pc2018\", \"type\":\"pc\", \"oldUnitId\":\"\", \"unitId\":\"SU10284\", \"previewId\":\"p_sports_topskin\", \"width\":\"300\", \"height\":\"75\", \"menu\":\"\", \"calpId\":\"\", \"useCase\":\"iframe\"},\n",
      "\n",
      "\t\t{\"sid\":\"gamecenter_right_banner\", \"name\":\"P_스포츠_게임센터_경기결과_우측배너 \", \"section\":\"kbaseball\", \"type\":\"pc\", \"oldUnitId\":\"735A\", \"unitId\":\"SU10124\", \"previewId\":\"p_sports_game\", \"width\":\"200\", \"height\":\"573\", \"menu\":\"\", \"calpId\":\"kbaseball\", \"useCase\":\"iframe\"},\n",
      "\t\t{\"sid\":\"gamecenter_right_banner\", \"name\":\"P_스포츠_게임센터_경기결과_우측배너 \", \"section\":\"wbaseball\", \"type\":\"pc\", \"oldUnitId\":\"1053A\", \"unitId\":\"SU10124\", \"previewId\":\"p_sports_game\", \"width\":\"200\", \"height\":\"573\", \"menu\":\"\", \"calpId\":\"wbaseball\", \"useCase\":\"iframe\"},\n",
      "\t\t{\"sid\":\"gamecenter_topskin\", \"name\":\"P_스포츠_게임센터_상단스킨\", \"section\":\"\", \"type\":\"pc\", \"oldUnitId\":\"1059A\", \"unitId\":\"SU10125\", \"previewId\":\"p_sports_gskin\", \"width\":\"560\", \"height\":\"53\", \"menu\":\"\", \"calpId\":\"\", \"useCase\":\"iframe\"},\n",
      "\t\t{\"sid\":\"gamecenter_fence\", \"name\":\"P_스포츠_게임센터_펜스광고\", \"section\":\"\", \"type\":\"pc\", \"oldUnitId\":\"1059B\", \"unitId\":\"SU10126\", \"previewId\":\"p_sports_gfence\", \"width\":\"434\", \"height\":\"32\", \"menu\":\"\", \"calpId\":\"\", \"useCase\":\"iframe\"},\n",
      "\n",
      "        {\"sid\":\"tv_bottom_banner\", \"name\":\"P_스포츠_생중계_하단배너\", \"section\":\"kbaseball\", \"type\":\"pc\", \"oldUnitId\":\"\", \"unitId\":\"SU10670\", \"previewId\":\"p_sports_live\", \"width\":\"700\", \"height\":\"70\", \"menu\":\"\", \"calpId\":\"kbaseball\", \"useCase\":\"iframe\"},\n",
      "        {\"sid\":\"tv_bottom_banner\", \"name\":\"P_스포츠_생중계_하단배너\", \"section\":\"wbaseball\", \"type\":\"pc\", \"oldUnitId\":\"\", \"unitId\":\"SU10670\", \"previewId\":\"p_sports_live\", \"width\":\"700\", \"height\":\"70\", \"menu\":\"\", \"calpId\":\"wbaseball\", \"useCase\":\"iframe\"},\n",
      "        {\"sid\":\"tv_bottom_banner\", \"name\":\"P_스포츠_생중계_하단배너\", \"section\":\"kfootball\", \"type\":\"pc\", \"oldUnitId\":\"\", \"unitId\":\"SU10670\", \"previewId\":\"p_sports_live\", \"width\":\"700\", \"height\":\"70\", \"menu\":\"\", \"calpId\":\"kfootball\", \"useCase\":\"iframe\"},\n",
      "        {\"sid\":\"tv_bottom_banner\", \"name\":\"P_스포츠_생중계_하단배너\", \"section\":\"wfootball\", \"type\":\"pc\", \"oldUnitId\":\"\", \"unitId\":\"SU10670\", \"previewId\":\"p_sports_live\", \"width\":\"700\", \"height\":\"70\", \"menu\":\"\", \"calpId\":\"wfootball\", \"useCase\":\"iframe\"},\n",
      "        {\"sid\":\"tv_bottom_banner\", \"name\":\"P_스포츠_생중계_하단배너\", \"section\":\"basketball\", \"type\":\"pc\", \"oldUnitId\":\"\", \"unitId\":\"SU10670\", \"previewId\":\"p_sports_live\", \"width\":\"700\", \"height\":\"70\", \"menu\":\"\", \"calpId\":\"basketball\", \"useCase\":\"iframe\"},\n",
      "        {\"sid\":\"tv_bottom_banner\", \"name\":\"P_스포츠_생중계_하단배너\", \"section\":\"volleyball\", \"type\":\"pc\", \"oldUnitId\":\"\", \"unitId\":\"SU10670\", \"previewId\":\"p_sports_live\", \"width\":\"700\", \"height\":\"70\", \"menu\":\"\", \"calpId\":\"volleyball\", \"useCase\":\"iframe\"},\n",
      "        {\"sid\":\"tv_bottom_banner\", \"name\":\"P_스포츠_생중계_하단배너\", \"section\":\"golf\", \"type\":\"pc\", \"oldUnitId\":\"\", \"unitId\":\"SU10670\", \"previewId\":\"p_sports_live\", \"width\":\"700\", \"height\":\"70\", \"menu\":\"\", \"calpId\":\"golf\", \"useCase\":\"iframe\"},\n",
      "        {\"sid\":\"tv_bottom_banner\", \"name\":\"P_스포츠_생중계_하단배너\", \"section\":\"general\", \"type\":\"pc\", \"oldUnitId\":\"\", \"unitId\":\"SU10670\", \"previewId\":\"p_sports_live\", \"width\":\"700\", \"height\":\"70\", \"menu\":\"\", \"calpId\":\"general\", \"useCase\":\"iframe\"},\n",
      "        {\"sid\":\"tv_bottom_banner\", \"name\":\"P_스포츠_생중계_하단배너\", \"section\":\"esports\", \"type\":\"pc\", \"oldUnitId\":\"\", \"unitId\":\"SU10670\", \"previewId\":\"p_sports_live\", \"width\":\"700\", \"height\":\"70\", \"menu\":\"\", \"calpId\":\"esports\", \"useCase\":\"iframe\"}\n",
      "\t];\n",
      "</script>\n",
      "<script>\n",
      "\texeJs.push(function(){\n",
      "\t\tvar ads = new naver.sports.common.DisplayAd({\"sid\":\"section_end_right_banner\", \"section\":\"kbaseball\", \"adList\":adList});\n",
      "\t});\n",
      "</script>\n",
      "</div>\n",
      "<div id=\"footer\">\n",
      "<div class=\"notice_foot\">\n",
      "<strong class=\"title\">공지</strong>\n",
      "<div class=\"inner\">\n",
      "<a href=\"https://blog.naver.com/naver_sports/222566259133\" onclick=\"clickcr(this, 'not.noti', '1636704949089', '', event);\" target=\"_blank\"><span>뉴스제휴평가위 심의위원회 권고 안내</span></a>\n",
      "<a href=\"https://blog.naver.com/naver_sports/222575646524\" onclick=\"clickcr(this, 'not.noti', '1466402863231', '', event);\" target=\"_blank\"><span>스포츠 TV중계 편성 - 11/22(월)~11/29(월)</span></a>\n",
      "<a href=\"https://blog.naver.com/naver_sports/222557211229\" onclick=\"clickcr(this, 'not.noti', '1628045003955', '', event);\" target=\"_blank\"><span>월간 N스포츠 11월 - 지금 가장 중요한 소식을 한눈에 확인하세요</span></a>\n",
      "</div>\n",
      "</div>\n",
      "<ul>\n",
      "<li class=\"first\"><a href=\"https://www.naver.com/rules/service.html\" onclick=\"clickcr(this, 'fot.service', '', '', event);\" target=\"_blank\">네이버 이용약관</a></li>\n",
      "<li><a href=\"https://news.naver.com/main/principle.nhn\" onclick=\"clickcr(this, 'fot.principle', '', '', event);\" target=\"_blank\">댓글/게시글 운영원칙</a></li>\n",
      "<li><a href=\"https://www.naver.com/rules/privacy.html\" onclick=\"clickcr(this, 'fot.privacy', '', '', event);\" target=\"_blank\"><strong>개인정보처리방침</strong></a></li>\n",
      "<li><a href=\"https://www.naver.com/rules/disclaimer.html\" onclick=\"clickcr(this, 'fot.disclaimer', '', '', event);\" target=\"_blank\">책임의 한계와 법적고지</a></li>\n",
      "<li><a href=\"#\" onclick=\"OPS.viewOPS('ops', {url : 'https://help.naver.com/support/alias/contents2/sports/sports_2.naver'}); clickcr(this, 'fot.shelp', '', '', event); return false;\" target=\"_blank\">스포츠 고객센터</a></li>\n",
      "</ul>\n",
      "<p class=\"copyr\">본 콘텐츠의 저작권은 네이버 및 제공처에 있으며, 이를 이용하는 경우 저작권법 등에 따라 법적책임을 질 수 있습니다.</p>\n",
      "<address>\n",
      "<a class=\"logo\" href=\"http://www.navercorp.com/\" onclick=\"clickcr(this, 'fot.nhn', '', '', event);\" target=\"_blank\"><img alt=\"NAVER\" height=\"11\" src=\"https://ssl.pstatic.net/static/common/footer/ci_naver.gif\" width=\"63\"/></a>\n",
      "<em>Copyright ©</em>\n",
      "<a href=\"http://www.navercorp.com/\" onclick=\"clickcr(this, 'fot.nhn', '', '', event);\" target=\"_blank\">NAVER Corp.</a>\n",
      "<span>All Rights Reserved.</span>\n",
      "</address>\n",
      "</div>\n",
      "<script charset=\"UTF-8\" src=\"https://ssl.pstatic.net/static.sports/resources/pc/2021/11/11/122215/js/src/changeUrl.js\" type=\"text/javascript\"></script>\n",
      "<script type=\"text/javascript\">\n",
      "\tvar container_link = \"container\";\n",
      "\tif(document.getElementById(\"container_link\")) {\n",
      "\t\tdocument.getElementById(\"container_link\").innerHTML = \"<a href='#container' onclick=\\\"document.getElementById('container').tabIndex=-1;document.getElementById('container').focus();\\\"><span>본문으로 바로가기</span></a>\";\n",
      "\t}\n",
      "\n",
      "\tfunction goToMobileUrl(mobileRedirectUrl) {\n",
      "\t\tif(mobileRedirectUrl) {\n",
      "\t\t\tlocation.href = \"/mobileview.nhn?url=\" + encodeURIComponent(mobileRedirectUrl);\n",
      "\t\t}else{\n",
      "\t\t\tlocation.href = \"/index.nhn\";\n",
      "\t\t}\n",
      "\t}\n",
      "\tlazyloadjs(\"https://ssl.pstatic.net/static/common/js/cs_ops_webncc.js\");\n",
      "</script>\n",
      "</div>\n",
      "<script>lazyloadjs('https://ssl.pstatic.net/static.sports/resources/pc/2021/11/11/122215/js/generated/baseJsBottomLazy.js');</script>\n",
      "</body>\n",
      "</html>\n"
     ]
    }
   ],
   "source": [
    "webpage = requests.get('https://sports.news.naver.com/news?oid=108&aid=0003007300')\n",
    "soup = BeautifulSoup(webpage.content, \"html.parser\")\n",
    "\n",
    "print(soup)"
   ]
  },
  {
   "cell_type": "code",
   "execution_count": 11,
   "metadata": {},
   "outputs": [],
   "source": [
    "# 다음 중 올바른 (http, https) 웹페이지만 찾으시오\n",
    "\n",
    "webs = ['http://www.test.co.kr',\n",
    "        'https://www.test1.com',\n",
    "        'http://www.test.com',\n",
    "        'ftp://www.test.com',\n",
    "        'http:://www.test.com',\n",
    "        'htp://www.test.com'\n",
    "        'http://www.google.com',\n",
    "        'https://www.homepage.com.']"
   ]
  },
  {
   "cell_type": "code",
   "execution_count": 93,
   "metadata": {
    "scrolled": true
   },
   "outputs": [
    {
     "data": {
      "text/plain": [
       "['http://www.test.co.kr',\n",
       " 'https://www.test1.com',\n",
       " 'http://www.test.com',\n",
       " 'http:://www.test.com',\n",
       " 'http://www.google.com',\n",
       " 'https://www.homepage.com']"
      ]
     },
     "execution_count": 93,
     "metadata": {},
     "output_type": "execute_result"
    }
   ],
   "source": [
    "re.findall(r'http.?://www\\.[\\w\\.]+[\\w]', 'http://www.test.co.kr https://www.test1.com http://www.test.com ftp://www.test.com http:://www.test.com htp://www.test.com http://www.google.com https://www.homepage.com.')"
   ]
  },
  {
   "cell_type": "code",
   "execution_count": 95,
   "metadata": {},
   "outputs": [
    {
     "data": {
      "text/plain": [
       "'http://www.test.co.kr https://www.test1.com http://www.test.com ftp://www.test.com http:://www.test.com htp://www.test.comhttp://www.google.com https://www.homepage.com.'"
      ]
     },
     "execution_count": 95,
     "metadata": {},
     "output_type": "execute_result"
    }
   ],
   "source": [
    "web = ' '.join(webs)\n",
    "web"
   ]
  },
  {
   "cell_type": "code",
   "execution_count": 96,
   "metadata": {},
   "outputs": [
    {
     "data": {
      "text/plain": [
       "['http://www.test.co.kr',\n",
       " 'https://www.test1.com',\n",
       " 'http://www.test.com',\n",
       " 'http:://www.test.com',\n",
       " 'http://www.google.com',\n",
       " 'https://www.homepage.com']"
      ]
     },
     "execution_count": 96,
     "metadata": {},
     "output_type": "execute_result"
    }
   ],
   "source": [
    "re.findall(r'http.?://www\\.[\\w\\.]+[\\w]', web)"
   ]
  },
  {
   "cell_type": "code",
   "execution_count": 98,
   "metadata": {},
   "outputs": [
    {
     "data": {
      "text/plain": [
       "[True, True, True, False, False, True, False]"
      ]
     },
     "execution_count": 98,
     "metadata": {},
     "output_type": "execute_result"
    }
   ],
   "source": [
    "# 2번문제 풀이\n",
    "web_reg = re.compile(r'https?://[\\w.]+\\w+$')\n",
    "list(map(lambda w:web_reg.search(w) != None, webs))"
   ]
  }
 ],
 "metadata": {
  "kernelspec": {
   "display_name": "Python 3 (ipykernel)",
   "language": "python",
   "name": "python3"
  },
  "language_info": {
   "codemirror_mode": {
    "name": "ipython",
    "version": 3
   },
   "file_extension": ".py",
   "mimetype": "text/x-python",
   "name": "python",
   "nbconvert_exporter": "python",
   "pygments_lexer": "ipython3",
   "version": "3.9.7"
  }
 },
 "nbformat": 4,
 "nbformat_minor": 2
}
