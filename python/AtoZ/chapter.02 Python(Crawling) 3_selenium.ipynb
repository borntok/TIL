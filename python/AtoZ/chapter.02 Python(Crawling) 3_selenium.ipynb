{
 "cells": [
  {
   "cell_type": "markdown",
   "id": "e55be751",
   "metadata": {},
   "source": [
    "## 학습목표\n",
    "1. selenium 모듈 사용법 알아보기"
   ]
  },
  {
   "cell_type": "code",
   "execution_count": 10,
   "id": "00583e8d",
   "metadata": {},
   "outputs": [],
   "source": [
    "from selenium import webdriver\n",
    "from selenium.webdriver.common.keys import Keys\n",
    "from selenium.webdriver.support.ui import WebDriverWait\n",
    "from selenium.webdriver.support import expected_conditions as EC\n",
    "from selenium.webdriver.common.by import By\n",
    "\n",
    "from bs4 import BeautifulSoup\n",
    "import time"
   ]
  },
  {
   "cell_type": "markdown",
   "id": "f46fc5e6",
   "metadata": {},
   "source": [
    "**selenium**\n",
    "- 웹페이지 테스트 자동화용 모듈\n",
    "- 개발/테스트용 드라이버(웹브라우저)를 사용하여 실제 사용자가 사용하는 것처럼 동작"
   ]
  },
  {
   "cell_type": "markdown",
   "id": "5b8e3fe2",
   "metadata": {},
   "source": [
    "**selenium 예제**\n",
    "- python.org로 이동하여 자동으로 검색해보기\n",
    " 1. python.org 사이트 오픈\n",
    " 2. input 필드 검색하여 Key 이벤트 전달"
   ]
  },
  {
   "cell_type": "code",
   "execution_count": 22,
   "id": "3051328b",
   "metadata": {},
   "outputs": [],
   "source": [
    "chrome_driver = \"C:\\\\Users\\\\LGE1\\\\chromedriver\"\n",
    "driver = webdriver.Chrome(chrome_driver)\n",
    "\n",
    "driver.get('https://www.python.org')\n",
    "\n",
    "search = driver.find_element_by_id('id-search-field')\n",
    "\n",
    "search.clear()\n",
    "time.sleep(3)\n",
    "\n",
    "search.send_keys('lambda')\n",
    "\n",
    "time.sleep(3)\n",
    "search.send_keys(Keys.RETURN)\n",
    "time.sleep(3)\n",
    "\n",
    "driver.close()"
   ]
  },
  {
   "cell_type": "markdown",
   "id": "ff2ef1b7",
   "metadata": {},
   "source": [
    "**selenium을 이용한 다음뉴스 웹사이트 크롤링**\n",
    " - driver 객체의 find_xxx_by 함수 활용"
   ]
  },
  {
   "cell_type": "code",
   "execution_count": 27,
   "id": "4e2adfac",
   "metadata": {},
   "outputs": [
    {
     "data": {
      "text/plain": [
       "'42'"
      ]
     },
     "execution_count": 27,
     "metadata": {},
     "output_type": "execute_result"
    }
   ],
   "source": [
    "chrome_driver = \"C:\\\\Users\\\\LGE1\\\\chromedriver\"\n",
    "driver = webdriver.Chrome(chrome_driver)\n",
    "\n",
    "url = 'https://news.v.daum.net/v/20190728165812603'\n",
    "driver.get(url)\n",
    "\n",
    "src = driver.page_source\n",
    "soup = BeautifulSoup(src)\n",
    "\n",
    "driver.close()\n",
    "\n",
    "comment = soup.select_one('span.alex-count-area')\n",
    "comment.get_text()"
   ]
  },
  {
   "cell_type": "markdown",
   "id": "2feaa61b",
   "metadata": {},
   "source": [
    "**selenium을 활용하여 특정 element의 로딩 대기**\n",
    "- WebDriverWait 객체를 이용하여 해당 element가 로딩되는 것을 대기\n",
    "- 실제로 해당 기능을 활용하여 거의 모든 사이트의 크롤링이 가능\n",
    "- WebDriverWait(driver, 시간(초)).until(EC.presence_of_element_located((By.CSS_SELECTOR, 'CSS_RULE')))"
   ]
  },
  {
   "cell_type": "code",
   "execution_count": 28,
   "id": "045afa6b",
   "metadata": {},
   "outputs": [
    {
     "data": {
      "text/plain": [
       "'21'"
      ]
     },
     "execution_count": 28,
     "metadata": {},
     "output_type": "execute_result"
    }
   ],
   "source": [
    "chrome_driver = \"C:\\\\Users\\\\LGE1\\\\chromedriver\"\n",
    "driver = webdriver.Chrome(chrome_driver)\n",
    "\n",
    "url = 'https://news.naver.com/main/read.nhn?mode=LSD&mid=shm&sid1=105&oid=081&aid=0003018031'\n",
    "driver.get(url)\n",
    "\n",
    "WebDriverWait(driver, 10).until(EC.presence_of_element_located((By.CSS_SELECTOR, 'span.u_cbox_count')))\n",
    "\n",
    "src = driver.page_source\n",
    "soup = BeautifulSoup(src)\n",
    "\n",
    "driver.close()\n",
    "\n",
    "comment = soup.select_one('span.u_cbox_count')\n",
    "comment.get_text()"
   ]
  },
  {
   "cell_type": "markdown",
   "id": "4f8401d4",
   "metadata": {},
   "source": [
    "## 학습목표\n",
    "- 1. 다음 뉴스와 그 뉴스의 댓글 크롤링하기"
   ]
  },
  {
   "cell_type": "code",
   "execution_count": 31,
   "id": "d16d4d79",
   "metadata": {},
   "outputs": [],
   "source": [
    "import requests\n",
    "from bs4 import BeautifulSoup"
   ]
  },
  {
   "cell_type": "markdown",
   "id": "85102b40",
   "metadata": {},
   "source": [
    "**뉴스 제목 크롤링**"
   ]
  },
  {
   "cell_type": "code",
   "execution_count": 34,
   "id": "1e60e67f",
   "metadata": {},
   "outputs": [],
   "source": [
    "def get_daum_news_title(news_id):\n",
    "    url = 'https://news.v.daum.net/v/{}'.format(news_id)\n",
    "    resp = requests.get(url)\n",
    "    \n",
    "    soup = BeautifulSoup(resp.text)\n",
    "    title_tag = soup.select_one('h3.tit_view')\n",
    "    \n",
    "    if title_tag :\n",
    "        return title_tag.get_text()\n",
    "    return ''"
   ]
  },
  {
   "cell_type": "code",
   "execution_count": 35,
   "id": "5e676a0d",
   "metadata": {},
   "outputs": [
    {
     "data": {
      "text/plain": [
       "'일론머스크 \"테슬라에서 넷플릭스·유튜브 즐길 날 온다\"'"
      ]
     },
     "execution_count": 35,
     "metadata": {},
     "output_type": "execute_result"
    }
   ],
   "source": [
    "get_daum_news_title('20190728165812603')"
   ]
  },
  {
   "cell_type": "code",
   "execution_count": 36,
   "id": "835ade2e",
   "metadata": {},
   "outputs": [
    {
     "data": {
      "text/plain": [
       "\"'타격천재 격돌' 이정후 vs 강백호, 선수들은 누구의 손을 들어줬을까\""
      ]
     },
     "execution_count": 36,
     "metadata": {},
     "output_type": "execute_result"
    }
   ],
   "source": [
    "get_daum_news_title('kx9pacOTnC')"
   ]
  },
  {
   "cell_type": "markdown",
   "id": "9e617a38",
   "metadata": {},
   "source": [
    "**뉴스 본문 크롤링**"
   ]
  },
  {
   "cell_type": "code",
   "execution_count": 37,
   "id": "15a34277",
   "metadata": {},
   "outputs": [],
   "source": [
    "def get_daum_news_content(news_id):\n",
    "    url = 'https://news.v.daum.net/v/{}'.format(news_id)\n",
    "    resp = requests.get(url)\n",
    "    \n",
    "    soup = BeautifulSoup(resp.text)\n",
    "\n",
    "    content = ''\n",
    "    for p in soup.select('div#harmonyContainer p'):\n",
    "        content += p.get_text()\n",
    "\n",
    "    return content"
   ]
  },
  {
   "cell_type": "code",
   "execution_count": 40,
   "id": "7e6b9348",
   "metadata": {},
   "outputs": [
    {
     "data": {
      "text/plain": [
       "'[아시아경제 이민우 기자] 일론 머스크 테슬라 최고경영자(CEO)가 자사 전기 자동차 모델에 넷플릭스와 유튜브 등 온라인동영상서비스(OTT)를 탑재할 것이라고 예고했다. 단순히 자율 주행 전기차가 단순히 주행을 위한 정보를 알려주는 것을 넘어 각종 영상 콘텐츠를 즐기는 공간으로도 확장하겠다는 전략으로 풀이된다.27일(현지시간) 더버지 등 주요 외신들에 따르면 머스크 CEO는 자신의 트위터를 통해 이 같은 계획을 밝혔다. 그는 \"자동차가 정차했을 때 넷플릭스와 유튜브를 감상할 수 있는 기능이 조만간 추가될 것\"이라며 \"편안한 좌석과 서라운드 사운드 오디오를 통해 영화관과 같은 느낌을 받을 수 있을 것\"이라고 강조했다.테슬라가 이처럼 콘텐츠 방면으로 확장하려 든 것은 이번이 처음이 아니다. 지난달 세계 최대 게임쇼 E3에서는 이미 운전자가 \\'폴아웃 쉘터\\'라는 게임을 할 수 있을 것이라고 발표한 바 있다. 이후에도 최근 게임업체 아타리사(社)의 자동차 경주 게임 ‘폴포지션’, 슈팅게임 ‘템페스트’, ‘미사일커맨드’ 등 고전 게임을 제공하기도 했다. 운전대로 게임을 조작하는 방식으로, 차가 주차돼 있을 경우에만 즐길 수 있다.이번 영상 콘텐츠는 주행 중에도 감상할 수 있도록 하는 방안을 고려하고 있다. 테슬라 측은 규제당국이 자율주행에 대해 완전히 승인하면 차량이 움직일 때에도 승객이 동영상을 즐길 수 있을 것이라고 설명했다.하지만 아직까지 자율주행차의 안전에 대한 우려는 완전히 걷혀지지 않은 상황이다. 지난 2017년 차량공유 서비스 우버의 자율주행 시범차량이 보행자와 충돌한 사고가 발생한 바 있다. 게다가 당시 시험 운전자는 디즈니의 동영상 스트리밍 서비스인 \\'훌루\\'를 이용하고 있던 것으로 밝혀졌다.이민우 기자 letzwin@asiae.co.kr<ⓒ경제를 보는 눈, 세계를 보는 창 아시아경제 무단전재 배포금지>'"
      ]
     },
     "execution_count": 40,
     "metadata": {},
     "output_type": "execute_result"
    }
   ],
   "source": [
    "get_daum_news_content('20190728165812603')"
   ]
  },
  {
   "cell_type": "code",
   "execution_count": 39,
   "id": "7952f1ce",
   "metadata": {
    "scrolled": true
   },
   "outputs": [
    {
     "data": {
      "text/plain": [
       "'동아스포츠대상은 여러 시상식 중에서도 선수들이 직접 수상자를 뽑아 그 의미가 더 크다. 선별된 50명의 투표인단은 올 시즌 최고의 활약을 펼친 선수들에게 직접 투표했다. 공교롭게도 ‘타격천재’들의 싸움이 벌어졌다.먼저 올 시즌 타격왕을 차지한 키움 히어로즈 이정후(23)가 유력 후보로 부상했다. 이정후는 123경기에 출전해 타율 0.360, 7홈런, 84타점, 78득점의 성적을 거뒀다. 중견수로서 안정적 수비력도 뽐냈다. 그야말로 공수에 걸친 만점활약으로 팀의 가을야구 진출을 이끌었다.이정후는 11월 29일 열린 ‘2021 신한은행 SOL KBO 시상식’에서 타격왕을 수상하기도 했다. 이외에도 각종 연말 시상식을 휩쓸며 트로피 수집에 나선 상태다. 선수들이 직접 뽑는 대망의 동아스포츠대상에서도 올해의 선수상을 거머쥘지 관심이 모아진다.KT 위즈 강백호(22)는 이정후에 맞서는 가장 막강한 경쟁 후보다. 올 시즌 142경기에서 타율 0.347, 16홈런, 102타점, 76득점을 올리며 최고의 한 해를 보냈다. 전반기 95경기에선 타율 0.395를 기록하며 4할 타율에 도전하기도 했다.강백호는 타격왕 수상이 유력했으나 이정후의 후반기 맹추격을 뿌리치지 못한 채 결국 타이틀을 내줬다. 그러나 이정후보다 더 큰 성과를 만들어내며 2021시즌의 진정한 승자로 남았다. 팀의 정규시즌-한국시리즈 통합우승에 앞장섰다.타격천재들의 치열한 경쟁으로 끝날지, 아니면 베테랑 포수가 깜짝 반전에 성공할지로 관심을 모으는 동아스포츠대상 프로야구 올해의 선수상 수상자는 6일 공개된다. 장은상 기자 award@donga.com 저작권자(c)스포츠동아. 무단전재-재배포금지.'"
      ]
     },
     "execution_count": 39,
     "metadata": {},
     "output_type": "execute_result"
    }
   ],
   "source": [
    "get_daum_news_content('kx9pacOTnC')"
   ]
  },
  {
   "cell_type": "markdown",
   "id": "d6de43b2",
   "metadata": {},
   "source": [
    "**뉴스 댓글 크롤링**"
   ]
  },
  {
   "cell_type": "code",
   "execution_count": 54,
   "id": "41e5c606",
   "metadata": {},
   "outputs": [
    {
     "data": {
      "text/plain": [
       "[{'id': 393690060,\n",
       "  'userId': -118726600,\n",
       "  'postId': 133493400,\n",
       "  'forumId': -99,\n",
       "  'parentId': 0,\n",
       "  'type': 'COMMENT',\n",
       "  'status': 'S',\n",
       "  'flags': 256,\n",
       "  'rating': 0,\n",
       "  'content': '시대는 이재 바야흐로  영적진화  와  과학 진화가 공존 하는 새상이   곳 도래 하갯군',\n",
       "  'createdAt': '2019-07-28T18:48:57+0900',\n",
       "  'updatedAt': '2019-07-28T18:48:57+0900',\n",
       "  'childCount': 0,\n",
       "  'likeCount': 0,\n",
       "  'dislikeCount': 0,\n",
       "  'recommendCount': 0,\n",
       "  'screenedByKeeper': False,\n",
       "  'user': {'id': -118726600,\n",
       "   'status': 'S',\n",
       "   'type': 'USER',\n",
       "   'flags': 0,\n",
       "   'icon': 'https://t1.daumcdn.net/profile/wIW3Q.DCC_g0',\n",
       "   'url': '',\n",
       "   'username': 'DAUM:82ada',\n",
       "   'roles': 'ROLE_USER,ROLE_DAUM,ROLE_IDENTIFIED',\n",
       "   'providerId': 'DAUM',\n",
       "   'providerUserId': '82ada',\n",
       "   'displayName': '생명의빚으로',\n",
       "   'description': '',\n",
       "   'commentCount': 7809}},\n",
       " {'id': 393751169,\n",
       "  'userId': 25442700,\n",
       "  'postId': 133493400,\n",
       "  'forumId': -99,\n",
       "  'parentId': 0,\n",
       "  'type': 'COMMENT',\n",
       "  'status': 'S',\n",
       "  'flags': 4352,\n",
       "  'rating': 0,\n",
       "  'content': '운전할 땐 운전만 합시다',\n",
       "  'createdAt': '2019-07-28T22:04:34+0900',\n",
       "  'updatedAt': '2019-07-28T22:04:34+0900',\n",
       "  'childCount': 0,\n",
       "  'likeCount': 2,\n",
       "  'dislikeCount': 0,\n",
       "  'recommendCount': 2,\n",
       "  'screenedByKeeper': False,\n",
       "  'user': {'id': 25442700,\n",
       "   'status': 'S',\n",
       "   'type': 'USER',\n",
       "   'flags': 0,\n",
       "   'icon': 'https://k.kakaocdn.net/dn/bSbpUa/btqABSHH5ii/Ls4PGokucOpMdgsM1TFhmk/img_110x110.jpg',\n",
       "   'username': 'KAKAO:965829707',\n",
       "   'roles': 'ROLE_USER,ROLE_KAKAO,ROLE_IDENTIFIED',\n",
       "   'providerId': 'KAKAO',\n",
       "   'providerUserId': '4550449',\n",
       "   'displayName': '김동욱',\n",
       "   'description': '',\n",
       "   'commentCount': 1}}]"
      ]
     },
     "execution_count": 54,
     "metadata": {},
     "output_type": "execute_result"
    }
   ],
   "source": [
    "url = 'https://comment.daum.net/apis/v1/posts/133493400/comments?parentId=0&offset=13&limit=10&sort=POPULAR&isInitial=false&hasNext=true&randomSeed=1638485338'\n",
    "resp = requests.get(url)\n",
    "\n",
    "resp.json()"
   ]
  },
  {
   "cell_type": "code",
   "execution_count": 58,
   "id": "688e96bd",
   "metadata": {},
   "outputs": [],
   "source": [
    "def get_daum_news_comments(news_id):\n",
    "    url_template = 'https://comment.daum.net/apis/v1/posts/{0}/comments?parentId=0&offset={1}&limit=10&sort=POPULAR&isInitial=false&hasNext=true&randomSeed=1638485338'\n",
    "    offset = 0\n",
    "    comments = []\n",
    "\n",
    "    while True:\n",
    "        url = url_template.format(news_id, offset)\n",
    "        resp = requests.get(url)\n",
    "        data = resp.json()\n",
    "        if not data:\n",
    "            break\n",
    "        comments.extend(data)\n",
    "        offset += 10\n",
    "        \n",
    "    return comments"
   ]
  },
  {
   "cell_type": "code",
   "execution_count": 62,
   "id": "05258bf2",
   "metadata": {},
   "outputs": [
    {
     "data": {
      "text/plain": [
       "15"
      ]
     },
     "execution_count": 62,
     "metadata": {},
     "output_type": "execute_result"
    }
   ],
   "source": [
    "len(get_daum_news_comments('133493400'))"
   ]
  }
 ],
 "metadata": {
  "kernelspec": {
   "display_name": "Python 3 (ipykernel)",
   "language": "python",
   "name": "python3"
  },
  "language_info": {
   "codemirror_mode": {
    "name": "ipython",
    "version": 3
   },
   "file_extension": ".py",
   "mimetype": "text/x-python",
   "name": "python",
   "nbconvert_exporter": "python",
   "pygments_lexer": "ipython3",
   "version": "3.9.7"
  }
 },
 "nbformat": 4,
 "nbformat_minor": 5
}
