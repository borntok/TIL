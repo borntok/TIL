{
 "cells": [
  {
   "cell_type": "code",
   "execution_count": 1,
   "id": "731abb37",
   "metadata": {},
   "outputs": [],
   "source": [
    "import numpy as np\n",
    "import matplotlib.pyplot as plt"
   ]
  },
  {
   "cell_type": "code",
   "execution_count": 2,
   "id": "079788df",
   "metadata": {},
   "outputs": [
    {
     "data": {
      "text/plain": [
       "[<matplotlib.lines.Line2D at 0x2ad5c7d4340>]"
      ]
     },
     "execution_count": 2,
     "metadata": {},
     "output_type": "execute_result"
    },
    {
     "data": {
      "image/png": "[encoded data removed]",
      "text/plain": [
       "<Figure size 432x288 with 1 Axes>"
      ]
     },
     "metadata": {
      "needs_background": "light"
     },
     "output_type": "display_data"
    }
   ],
   "source": [
    "x = np.array([1, 2, 3])\n",
    "y = np.array([2, 4, 6])\n",
    "\n",
    "plt.plot(x, y)"
   ]
  },
  {
   "cell_type": "markdown",
   "id": "dae163f5",
   "metadata": {},
   "source": [
    "## 학습목표\n",
    "- 다양한 방법으로 ndarray 생성하기"
   ]
  },
  {
   "cell_type": "code",
   "execution_count": null,
   "id": "48102c5a",
   "metadata": {},
   "outputs": [],
   "source": [
    "import numpy as np"
   ]
  },
  {
   "cell_type": "markdown",
   "id": "78277b88",
   "metadata": {},
   "source": [
    "**np.array 함수로 생성하기**"
   ]
  },
  {
   "cell_type": "code",
   "execution_count": 5,
   "id": "0bb20f9b",
   "metadata": {},
   "outputs": [
    {
     "name": "stdout",
     "output_type": "stream",
     "text": [
      "[1 2 3 4]\n",
      "[[2 3 4]\n",
      " [1 2 5]]\n",
      "<class 'numpy.ndarray'>\n"
     ]
    }
   ],
   "source": [
    "x = np.array([1, 2, 3, 4])\n",
    "print(x)\n",
    "\n",
    "y = np.array([[2, 3, 4], [1, 2, 5]])\n",
    "print(y)\n",
    "print(type(y))"
   ]
  },
  {
   "cell_type": "markdown",
   "id": "ad5b0d2c",
   "metadata": {},
   "source": [
    "**np.arange 함수로 생성하기**"
   ]
  },
  {
   "cell_type": "code",
   "execution_count": 6,
   "id": "367e4f3d",
   "metadata": {},
   "outputs": [
    {
     "data": {
      "text/plain": [
       "array([0, 1, 2, 3, 4, 5, 6, 7, 8, 9])"
      ]
     },
     "execution_count": 6,
     "metadata": {},
     "output_type": "execute_result"
    }
   ],
   "source": [
    "np.arange(10)"
   ]
  },
  {
   "cell_type": "code",
   "execution_count": 7,
   "id": "d1d6c54f",
   "metadata": {},
   "outputs": [
    {
     "data": {
      "text/plain": [
       "array([1, 2, 3, 4, 5, 6, 7, 8, 9])"
      ]
     },
     "execution_count": 7,
     "metadata": {},
     "output_type": "execute_result"
    }
   ],
   "source": [
    "np.arange(1, 10)"
   ]
  },
  {
   "cell_type": "code",
   "execution_count": 8,
   "id": "d8341441",
   "metadata": {},
   "outputs": [
    {
     "data": {
      "text/plain": [
       "array([1, 3, 5, 7, 9])"
      ]
     },
     "execution_count": 8,
     "metadata": {},
     "output_type": "execute_result"
    }
   ],
   "source": [
    "np.arange(1, 10, 2)"
   ]
  },
  {
   "cell_type": "code",
   "execution_count": 9,
   "id": "ef16024c",
   "metadata": {},
   "outputs": [
    {
     "data": {
      "text/plain": [
       "array([  5,  10,  15,  20,  25,  30,  35,  40,  45,  50,  55,  60,  65,\n",
       "        70,  75,  80,  85,  90,  95, 100])"
      ]
     },
     "execution_count": 9,
     "metadata": {},
     "output_type": "execute_result"
    }
   ],
   "source": [
    "np.arange(5, 101, 5)"
   ]
  },
  {
   "cell_type": "markdown",
   "id": "d6fcfa26",
   "metadata": {},
   "source": [
    "**np.ones, np.zeros로 생성하기**"
   ]
  },
  {
   "cell_type": "code",
   "execution_count": 10,
   "id": "100a6eb4",
   "metadata": {},
   "outputs": [
    {
     "data": {
      "text/plain": [
       "array([[1., 1., 1., 1., 1.],\n",
       "       [1., 1., 1., 1., 1.],\n",
       "       [1., 1., 1., 1., 1.],\n",
       "       [1., 1., 1., 1., 1.]])"
      ]
     },
     "execution_count": 10,
     "metadata": {},
     "output_type": "execute_result"
    }
   ],
   "source": [
    "np.ones((4, 5))"
   ]
  },
  {
   "cell_type": "code",
   "execution_count": 11,
   "id": "6f06f2f7",
   "metadata": {},
   "outputs": [
    {
     "data": {
      "text/plain": [
       "array([[[1., 1., 1., 1.],\n",
       "        [1., 1., 1., 1.],\n",
       "        [1., 1., 1., 1.]],\n",
       "\n",
       "       [[1., 1., 1., 1.],\n",
       "        [1., 1., 1., 1.],\n",
       "        [1., 1., 1., 1.]]])"
      ]
     },
     "execution_count": 11,
     "metadata": {},
     "output_type": "execute_result"
    }
   ],
   "source": [
    "np.ones((2, 3, 4))"
   ]
  },
  {
   "cell_type": "code",
   "execution_count": 12,
   "id": "e778e32a",
   "metadata": {},
   "outputs": [
    {
     "data": {
      "text/plain": [
       "array([[[[0., 0.],\n",
       "         [0., 0.]],\n",
       "\n",
       "        [[0., 0.],\n",
       "         [0., 0.]]],\n",
       "\n",
       "\n",
       "       [[[0., 0.],\n",
       "         [0., 0.]],\n",
       "\n",
       "        [[0., 0.],\n",
       "         [0., 0.]]]])"
      ]
     },
     "execution_count": 12,
     "metadata": {},
     "output_type": "execute_result"
    }
   ],
   "source": [
    "np.zeros((2, 2, 2, 2))"
   ]
  },
  {
   "cell_type": "markdown",
   "id": "ae3062f1",
   "metadata": {},
   "source": [
    "**np.empty, np.full로 생성하기**"
   ]
  },
  {
   "cell_type": "code",
   "execution_count": 15,
   "id": "d4ed75dc",
   "metadata": {},
   "outputs": [
    {
     "data": {
      "text/plain": [
       "array([[1.45430058e-311, 3.16202013e-322, 0.00000000e+000,\n",
       "        0.00000000e+000],\n",
       "       [0.00000000e+000, 1.73793309e-047, 7.34664392e-043,\n",
       "        1.50371933e+161],\n",
       "       [2.33654868e-052, 2.56987959e+184, 3.27803355e+179,\n",
       "        6.17163252e-042]])"
      ]
     },
     "execution_count": 15,
     "metadata": {},
     "output_type": "execute_result"
    }
   ],
   "source": [
    "np.empty((3, 4)) #초기화된 값을 생성"
   ]
  },
  {
   "cell_type": "code",
   "execution_count": 16,
   "id": "76af2692",
   "metadata": {},
   "outputs": [
    {
     "data": {
      "text/plain": [
       "array([[7, 7, 7, 7],\n",
       "       [7, 7, 7, 7],\n",
       "       [7, 7, 7, 7]])"
      ]
     },
     "execution_count": 16,
     "metadata": {},
     "output_type": "execute_result"
    }
   ],
   "source": [
    "np.full((3, 4), 7)"
   ]
  },
  {
   "cell_type": "markdown",
   "id": "b1f38b73",
   "metadata": {},
   "source": [
    "**np.eye로 생성하기**"
   ]
  },
  {
   "cell_type": "markdown",
   "id": "b0103709",
   "metadata": {},
   "source": [
    "- 단위 행렬 생성"
   ]
  },
  {
   "cell_type": "code",
   "execution_count": 19,
   "id": "ce5f9d05",
   "metadata": {},
   "outputs": [
    {
     "data": {
      "text/plain": [
       "array([[1., 0., 0., 0., 0.],\n",
       "       [0., 1., 0., 0., 0.],\n",
       "       [0., 0., 1., 0., 0.],\n",
       "       [0., 0., 0., 1., 0.],\n",
       "       [0., 0., 0., 0., 1.]])"
      ]
     },
     "execution_count": 19,
     "metadata": {},
     "output_type": "execute_result"
    }
   ],
   "source": [
    "np.eye(5)"
   ]
  },
  {
   "cell_type": "markdown",
   "id": "f2a1c84e",
   "metadata": {},
   "source": [
    "**np.linspace로 생성하기**"
   ]
  },
  {
   "cell_type": "code",
   "execution_count": 20,
   "id": "fd7d9bb3",
   "metadata": {},
   "outputs": [
    {
     "data": {
      "text/plain": [
       "array([ 1. ,  5.5, 10. ])"
      ]
     },
     "execution_count": 20,
     "metadata": {},
     "output_type": "execute_result"
    }
   ],
   "source": [
    "np.linspace(1, 10, 3)"
   ]
  },
  {
   "cell_type": "code",
   "execution_count": 21,
   "id": "9f52a52c",
   "metadata": {},
   "outputs": [
    {
     "data": {
      "text/plain": [
       "array([ 1.,  4.,  7., 10.])"
      ]
     },
     "execution_count": 21,
     "metadata": {},
     "output_type": "execute_result"
    }
   ],
   "source": [
    "np.linspace(1, 10, 4)"
   ]
  },
  {
   "cell_type": "code",
   "execution_count": 22,
   "id": "4b32d045",
   "metadata": {},
   "outputs": [
    {
     "data": {
      "text/plain": [
       "array([ 1.  ,  3.25,  5.5 ,  7.75, 10.  ])"
      ]
     },
     "execution_count": 22,
     "metadata": {},
     "output_type": "execute_result"
    }
   ],
   "source": [
    "np.linspace(1, 10, 5)"
   ]
  },
  {
   "cell_type": "markdown",
   "id": "c567d0c6",
   "metadata": {},
   "source": [
    "**reshape 함수 활용**\n",
    "- ndarray의 형태, 차원을 바꾸기 위해 사용"
   ]
  },
  {
   "cell_type": "code",
   "execution_count": 25,
   "id": "0c3230a8",
   "metadata": {},
   "outputs": [
    {
     "name": "stdout",
     "output_type": "stream",
     "text": [
      "[ 1  2  3  4  5  6  7  8  9 10 11 12 13 14 15]\n"
     ]
    },
    {
     "data": {
      "text/plain": [
       "(15,)"
      ]
     },
     "execution_count": 25,
     "metadata": {},
     "output_type": "execute_result"
    }
   ],
   "source": [
    "x = np.arange(1, 16)\n",
    "print(x)\n",
    "\n",
    "x.shape"
   ]
  },
  {
   "cell_type": "code",
   "execution_count": 26,
   "id": "befe7481",
   "metadata": {},
   "outputs": [
    {
     "data": {
      "text/plain": [
       "array([[ 1,  2,  3,  4,  5],\n",
       "       [ 6,  7,  8,  9, 10],\n",
       "       [11, 12, 13, 14, 15]])"
      ]
     },
     "execution_count": 26,
     "metadata": {},
     "output_type": "execute_result"
    }
   ],
   "source": [
    "x.reshape(3, 5)"
   ]
  },
  {
   "cell_type": "code",
   "execution_count": 31,
   "id": "cf4c6568",
   "metadata": {},
   "outputs": [
    {
     "data": {
      "text/plain": [
       "array([[[ 1],\n",
       "        [ 2],\n",
       "        [ 3],\n",
       "        [ 4],\n",
       "        [ 5]],\n",
       "\n",
       "       [[ 6],\n",
       "        [ 7],\n",
       "        [ 8],\n",
       "        [ 9],\n",
       "        [10]],\n",
       "\n",
       "       [[11],\n",
       "        [12],\n",
       "        [13],\n",
       "        [14],\n",
       "        [15]]])"
      ]
     },
     "execution_count": 31,
     "metadata": {},
     "output_type": "execute_result"
    }
   ],
   "source": [
    "x.reshape(3, 5, 1)"
   ]
  },
  {
   "cell_type": "markdown",
   "id": "18184b8b",
   "metadata": {},
   "source": [
    "## 학습목표\n",
    "- random 서브모듈 함수를 통해 ndarray 생성하기"
   ]
  },
  {
   "cell_type": "code",
   "execution_count": 32,
   "id": "2177b36b",
   "metadata": {},
   "outputs": [],
   "source": [
    "import numpy as np"
   ]
  },
  {
   "cell_type": "markdown",
   "id": "b70400b4",
   "metadata": {},
   "source": [
    "### random 서브모듈"
   ]
  },
  {
   "cell_type": "markdown",
   "id": "ab85fea2",
   "metadata": {},
   "source": [
    "**rand 함수**\n",
    "- 0, 1 사이의 분포로 랜덤한 ndarray 생성"
   ]
  },
  {
   "cell_type": "code",
   "execution_count": 34,
   "id": "39a46070",
   "metadata": {},
   "outputs": [
    {
     "data": {
      "text/plain": [
       "array([[[0.79424981, 0.64637621, 0.40189712, 0.59120115, 0.03047817],\n",
       "        [0.04685928, 0.66655579, 0.27692764, 0.34620771, 0.1472996 ],\n",
       "        [0.48131325, 0.41147332, 0.03323168, 0.90071545, 0.86777913]],\n",
       "\n",
       "       [[0.74602854, 0.2645627 , 0.78180567, 0.84371983, 0.17428992],\n",
       "        [0.34090049, 0.23935674, 0.45512483, 0.42092965, 0.02094286],\n",
       "        [0.85040634, 0.2998117 , 0.39475815, 0.19602899, 0.88508062]]])"
      ]
     },
     "execution_count": 34,
     "metadata": {},
     "output_type": "execute_result"
    }
   ],
   "source": [
    "np.random.rand(2, 3, 5)"
   ]
  },
  {
   "cell_type": "markdown",
   "id": "ce7846fd",
   "metadata": {},
   "source": [
    "**randn 함수**\n",
    "- n: normal distribution(정규분포)\n",
    "- N(0,1)로 샘플링된 랜덤 ndarray 생성"
   ]
  },
  {
   "cell_type": "code",
   "execution_count": 37,
   "id": "bc5287c7",
   "metadata": {},
   "outputs": [
    {
     "data": {
      "text/plain": [
       "array([ 0.772391  , -0.31552703,  1.91021294, -0.25018597,  2.18671658,\n",
       "        1.5108413 ,  0.91494407,  0.23156076])"
      ]
     },
     "execution_count": 37,
     "metadata": {},
     "output_type": "execute_result"
    }
   ],
   "source": [
    "np.random.randn(8)"
   ]
  },
  {
   "cell_type": "code",
   "execution_count": 36,
   "id": "f7250384",
   "metadata": {},
   "outputs": [
    {
     "data": {
      "text/plain": [
       "array([[[ 0.87654798, -0.73165295, -0.72139891, -0.07968803],\n",
       "        [ 0.06412268,  1.80331366,  1.24931528, -0.04585683],\n",
       "        [-1.10623506, -0.02869209,  0.75129315, -0.76682665]],\n",
       "\n",
       "       [[-0.07059658, -0.07443833,  0.47022631, -0.18634811],\n",
       "        [ 0.21560539,  0.42787733,  1.03177558, -0.15617163],\n",
       "        [-0.28648282,  1.3930345 ,  0.73104052, -0.06498275]]])"
      ]
     },
     "execution_count": 36,
     "metadata": {},
     "output_type": "execute_result"
    }
   ],
   "source": [
    "np.random.randn(2, 3, 4)"
   ]
  },
  {
   "cell_type": "markdown",
   "id": "e4c706ec",
   "metadata": {},
   "source": [
    "**randint 함수**\n",
    "- 특정 정수 사이에서 랜덤하게 샘플링 (복원추출)"
   ]
  },
  {
   "cell_type": "code",
   "execution_count": 40,
   "id": "8268775a",
   "metadata": {},
   "outputs": [
    {
     "data": {
      "text/plain": [
       "array([[[51,  4, 62, 15, 25, 33, 80, 66, 35, 64],\n",
       "        [21, 84, 37, 74, 70, 55, 55, 44, 43, 14],\n",
       "        [ 8, 17, 68,  4, 40, 33, 60, 89, 49, 36],\n",
       "        [99,  6, 10, 10, 27, 16, 99, 52, 51,  7],\n",
       "        [78, 22, 85, 55, 83, 74, 35, 76, 31, 18]],\n",
       "\n",
       "       [[64,  5, 85, 69, 28, 68, 47, 48, 25, 37],\n",
       "        [43,  6, 15, 25, 97, 28, 63, 26, 18, 11],\n",
       "        [41, 13, 42, 68,  5,  7, 15, 29, 13, 78],\n",
       "        [34, 69, 42, 64, 64, 97, 84, 18, 98, 39],\n",
       "        [11, 51, 15, 34, 89, 23,  2, 53, 10, 25]]])"
      ]
     },
     "execution_count": 40,
     "metadata": {},
     "output_type": "execute_result"
    }
   ],
   "source": [
    "np.random.randint(1, 101, size=(2, 5, 10))"
   ]
  },
  {
   "cell_type": "markdown",
   "id": "0204226e",
   "metadata": {},
   "source": [
    "**seed 함수**\n",
    "- 랜덤한 값을 동일하게 다시 생성하고자 할 때 사용"
   ]
  },
  {
   "cell_type": "code",
   "execution_count": 48,
   "id": "819e899b",
   "metadata": {},
   "outputs": [
    {
     "data": {
      "text/plain": [
       "array([[-1.74976547,  0.3426804 ,  1.1530358 , -0.25243604],\n",
       "       [ 0.98132079,  0.51421884,  0.22117967, -1.07004333],\n",
       "       [-0.18949583,  0.25500144, -0.45802699,  0.43516349]])"
      ]
     },
     "execution_count": 48,
     "metadata": {},
     "output_type": "execute_result"
    }
   ],
   "source": [
    "np.random.seed(100) #seed 함수를 호출하면 고정된 값 생성\n",
    "np.random.randn(3, 4)"
   ]
  },
  {
   "cell_type": "markdown",
   "id": "6df3086c",
   "metadata": {},
   "source": [
    "**choice**\n",
    "- 주어진 1차원 ndarray로부터 랜덤으로 샘플링\n",
    "- 정수가 주어진 경우, np.arange(해당숫자)로 간주"
   ]
  },
  {
   "cell_type": "code",
   "execution_count": 51,
   "id": "adcfa1f2",
   "metadata": {},
   "outputs": [
    {
     "data": {
      "text/plain": [
       "array([[3, 2, 3, 1, 0, 6, 5, 2, 0, 0],\n",
       "       [9, 1, 5, 2, 3, 6, 1, 4, 3, 1],\n",
       "       [4, 4, 9, 5, 6, 3, 4, 3, 7, 7],\n",
       "       [2, 4, 0, 2, 0, 6, 8, 1, 5, 6],\n",
       "       [4, 6, 5, 0, 8, 8, 5, 9, 3, 2],\n",
       "       [8, 7, 1, 4, 6, 0, 7, 3, 9, 1],\n",
       "       [2, 7, 7, 6, 4, 3, 3, 3, 4, 7],\n",
       "       [7, 4, 1, 1, 8, 7, 8, 8, 8, 7],\n",
       "       [9, 0, 6, 0, 7, 4, 5, 1, 5, 5],\n",
       "       [3, 4, 3, 6, 5, 0, 0, 6, 1, 9]])"
      ]
     },
     "execution_count": 51,
     "metadata": {},
     "output_type": "execute_result"
    }
   ],
   "source": [
    "np.random.choice(10, size=(10,10))"
   ]
  },
  {
   "cell_type": "code",
   "execution_count": 56,
   "id": "c209a661",
   "metadata": {},
   "outputs": [
    {
     "data": {
      "text/plain": [
       "array([[3, 4, 7, 8, 6],\n",
       "       [2, 1, 9, 5, 0]])"
      ]
     },
     "execution_count": 56,
     "metadata": {},
     "output_type": "execute_result"
    }
   ],
   "source": [
    "np.random.choice(10, size=(2,5), replace=False)"
   ]
  },
  {
   "cell_type": "code",
   "execution_count": 55,
   "id": "369e0798",
   "metadata": {},
   "outputs": [
    {
     "data": {
      "text/plain": [
       "array([[1. , 4.9],\n",
       "       [1. , 2. ]])"
      ]
     },
     "execution_count": 55,
     "metadata": {},
     "output_type": "execute_result"
    }
   ],
   "source": [
    "x = np.array([1, 1.5, 2, 2.6, 3, 4.9])\n",
    "np.random.choice(x, size=(2,2))"
   ]
  },
  {
   "cell_type": "markdown",
   "id": "3cf43f83",
   "metadata": {},
   "source": [
    "**확률분포에 따른 ndarray 생성**\n",
    "- uniform\n",
    "- normal 등"
   ]
  },
  {
   "cell_type": "code",
   "execution_count": 57,
   "id": "edf9b98b",
   "metadata": {},
   "outputs": [
    {
     "data": {
      "text/plain": [
       "array([[1.14705412, 1.12176913, 1.22281263, 1.33853782],\n",
       "       [2.25537256, 1.87678619, 2.66180753, 1.47958438],\n",
       "       [1.38010542, 2.42379932, 2.71658985, 2.11811177],\n",
       "       [2.40884082, 2.21022407, 2.11843457, 2.72078838]])"
      ]
     },
     "execution_count": 57,
     "metadata": {},
     "output_type": "execute_result"
    }
   ],
   "source": [
    "np.random.uniform(1, 3, size=(4, 4))"
   ]
  },
  {
   "cell_type": "code",
   "execution_count": 60,
   "id": "43030eb3",
   "metadata": {},
   "outputs": [
    {
     "data": {
      "text/plain": [
       "array([[[-2.78852023,  1.96236234, -1.49061321,  0.48594273],\n",
       "        [-0.31322918, -3.17765201,  1.29141189,  1.00541576]],\n",
       "\n",
       "       [[ 0.59338454,  3.60921198, -7.03050993, -3.30737444],\n",
       "        [ 3.99337682,  3.97972128, -4.87479458,  0.11039516]],\n",
       "\n",
       "       [[ 1.9779763 ,  0.19249242, -0.20728968,  0.93603916],\n",
       "        [ 1.33826579,  2.95955334,  1.45749529, -1.23939433]]])"
      ]
     },
     "execution_count": 60,
     "metadata": {},
     "output_type": "execute_result"
    }
   ],
   "source": [
    "np.random.normal(0, 2.5, size=(3, 2, 4))"
   ]
  },
  {
   "cell_type": "markdown",
   "id": "5e3c1973",
   "metadata": {},
   "source": [
    "## 학습목표\n",
    "1. 인덱싱&슬라이싱 이해하기"
   ]
  },
  {
   "cell_type": "code",
   "execution_count": 61,
   "id": "eda3e63a",
   "metadata": {},
   "outputs": [],
   "source": [
    "import numpy as np"
   ]
  },
  {
   "cell_type": "markdown",
   "id": "450385fc",
   "metadata": {},
   "source": [
    "**인덱싱**\n",
    "- 파이썬 리스트와 동일한 개념으로 사용\n",
    "- ,를 사용하여 각 차원의 인덱스에 접근 가능"
   ]
  },
  {
   "cell_type": "markdown",
   "id": "513ed3cc",
   "metadata": {},
   "source": [
    "- 1차원 벡터의 인덱싱"
   ]
  },
  {
   "cell_type": "code",
   "execution_count": 62,
   "id": "c2c47d36",
   "metadata": {},
   "outputs": [
    {
     "name": "stdout",
     "output_type": "stream",
     "text": [
      "[0 1 2 3 4 5 6 7 8 9]\n"
     ]
    }
   ],
   "source": [
    "x = np.arange(10)\n",
    "print(x)"
   ]
  },
  {
   "cell_type": "code",
   "execution_count": 64,
   "id": "3275999f",
   "metadata": {},
   "outputs": [
    {
     "name": "stdout",
     "output_type": "stream",
     "text": [
      "[ 0  1  2 30  4  5  6  7  8  9]\n"
     ]
    }
   ],
   "source": [
    "x[3] = 30\n",
    "print(x)"
   ]
  },
  {
   "cell_type": "markdown",
   "id": "451027f7",
   "metadata": {},
   "source": [
    "- 2차원 행렬 인덱싱"
   ]
  },
  {
   "cell_type": "code",
   "execution_count": 68,
   "id": "e179a22d",
   "metadata": {},
   "outputs": [
    {
     "name": "stdout",
     "output_type": "stream",
     "text": [
      "[[0 1 2 3 4]\n",
      " [5 6 7 8 9]]\n"
     ]
    }
   ],
   "source": [
    "x = np.arange(10).reshape(2, 5)\n",
    "print(x)"
   ]
  },
  {
   "cell_type": "code",
   "execution_count": 69,
   "id": "57a37da0",
   "metadata": {},
   "outputs": [
    {
     "data": {
      "text/plain": [
       "array([0, 1, 2, 3, 4])"
      ]
     },
     "execution_count": 69,
     "metadata": {},
     "output_type": "execute_result"
    }
   ],
   "source": [
    "x[0]"
   ]
  },
  {
   "cell_type": "code",
   "execution_count": 70,
   "id": "8552eff2",
   "metadata": {},
   "outputs": [
    {
     "data": {
      "text/plain": [
       "2"
      ]
     },
     "execution_count": 70,
     "metadata": {},
     "output_type": "execute_result"
    }
   ],
   "source": [
    "x[0,2]"
   ]
  },
  {
   "cell_type": "code",
   "execution_count": 71,
   "id": "a4a1aedc",
   "metadata": {},
   "outputs": [
    {
     "data": {
      "text/plain": [
       "9"
      ]
     },
     "execution_count": 71,
     "metadata": {},
     "output_type": "execute_result"
    }
   ],
   "source": [
    "x[1, -1]"
   ]
  },
  {
   "cell_type": "markdown",
   "id": "1b903d1d",
   "metadata": {},
   "source": [
    "- 3차원 텐서 인덱싱"
   ]
  },
  {
   "cell_type": "code",
   "execution_count": 75,
   "id": "a6dbea01",
   "metadata": {},
   "outputs": [
    {
     "name": "stdout",
     "output_type": "stream",
     "text": [
      "[[[ 0  1  2]\n",
      "  [ 3  4  5]\n",
      "  [ 6  7  8]\n",
      "  [ 9 10 11]]\n",
      "\n",
      " [[12 13 14]\n",
      "  [15 16 17]\n",
      "  [18 19 20]\n",
      "  [21 22 23]]\n",
      "\n",
      " [[24 25 26]\n",
      "  [27 28 29]\n",
      "  [30 31 32]\n",
      "  [33 34 35]]]\n"
     ]
    }
   ],
   "source": [
    "x = np.arange(36).reshape(3, 4, 3)\n",
    "print(x)"
   ]
  },
  {
   "cell_type": "code",
   "execution_count": 76,
   "id": "a61b8080",
   "metadata": {},
   "outputs": [
    {
     "data": {
      "text/plain": [
       "array([[ 0,  1,  2],\n",
       "       [ 3,  4,  5],\n",
       "       [ 6,  7,  8],\n",
       "       [ 9, 10, 11]])"
      ]
     },
     "execution_count": 76,
     "metadata": {},
     "output_type": "execute_result"
    }
   ],
   "source": [
    "x[0]"
   ]
  },
  {
   "cell_type": "code",
   "execution_count": 77,
   "id": "9ed465f1",
   "metadata": {},
   "outputs": [
    {
     "data": {
      "text/plain": [
       "array([18, 19, 20])"
      ]
     },
     "execution_count": 77,
     "metadata": {},
     "output_type": "execute_result"
    }
   ],
   "source": [
    "x[1,2]"
   ]
  },
  {
   "cell_type": "code",
   "execution_count": 78,
   "id": "cfec4ce4",
   "metadata": {},
   "outputs": [
    {
     "data": {
      "text/plain": [
       "35"
      ]
     },
     "execution_count": 78,
     "metadata": {},
     "output_type": "execute_result"
    }
   ],
   "source": [
    "x[-1, -1, -1]"
   ]
  },
  {
   "cell_type": "markdown",
   "id": "0e3f6034",
   "metadata": {},
   "source": [
    "**슬라이싱**\n",
    "- 리스트, 문자열 slicing과 동일한 개념으로 사용\n",
    "- ,를 사용하여 각 차원별로 슬라이싱 가능"
   ]
  },
  {
   "cell_type": "markdown",
   "id": "29da9c9f",
   "metadata": {},
   "source": [
    "- 1차원 벡터 슬라이싱"
   ]
  },
  {
   "cell_type": "code",
   "execution_count": 79,
   "id": "abf342db",
   "metadata": {},
   "outputs": [
    {
     "name": "stdout",
     "output_type": "stream",
     "text": [
      "[0 1 2 3 4 5 6 7 8 9]\n"
     ]
    }
   ],
   "source": [
    "x = np.arange(10)\n",
    "print(x)"
   ]
  },
  {
   "cell_type": "code",
   "execution_count": 81,
   "id": "f98ce224",
   "metadata": {},
   "outputs": [
    {
     "data": {
      "text/plain": [
       "array([1, 3, 5])"
      ]
     },
     "execution_count": 81,
     "metadata": {},
     "output_type": "execute_result"
    }
   ],
   "source": [
    "x[1:7:2]"
   ]
  },
  {
   "cell_type": "markdown",
   "id": "7937f3a2",
   "metadata": {},
   "source": [
    "- 2차원 행렬 슬라이싱"
   ]
  },
  {
   "cell_type": "code",
   "execution_count": 82,
   "id": "39dc96d8",
   "metadata": {},
   "outputs": [
    {
     "name": "stdout",
     "output_type": "stream",
     "text": [
      "[[0 1 2 3 4]\n",
      " [5 6 7 8 9]]\n"
     ]
    }
   ],
   "source": [
    "x = np.arange(10).reshape(2,5)\n",
    "print(x)"
   ]
  },
  {
   "cell_type": "code",
   "execution_count": 83,
   "id": "e1a7f5f7",
   "metadata": {},
   "outputs": [
    {
     "data": {
      "text/plain": [
       "array([[1, 2, 3],\n",
       "       [6, 7, 8]])"
      ]
     },
     "execution_count": 83,
     "metadata": {},
     "output_type": "execute_result"
    }
   ],
   "source": [
    "x[:, 1:4]"
   ]
  },
  {
   "cell_type": "code",
   "execution_count": 87,
   "id": "952d5595",
   "metadata": {},
   "outputs": [
    {
     "data": {
      "text/plain": [
       "array([[0, 1],\n",
       "       [5, 6]])"
      ]
     },
     "execution_count": 87,
     "metadata": {},
     "output_type": "execute_result"
    }
   ],
   "source": [
    "x[:, :2]"
   ]
  },
  {
   "cell_type": "code",
   "execution_count": 88,
   "id": "c3734053",
   "metadata": {},
   "outputs": [
    {
     "data": {
      "text/plain": [
       "array([0, 1, 2])"
      ]
     },
     "execution_count": 88,
     "metadata": {},
     "output_type": "execute_result"
    }
   ],
   "source": [
    "x[0, :3] #차원이 감소하여 행렬->벡터"
   ]
  },
  {
   "cell_type": "code",
   "execution_count": 89,
   "id": "14dd1568",
   "metadata": {},
   "outputs": [
    {
     "data": {
      "text/plain": [
       "array([[0, 1, 2]])"
      ]
     },
     "execution_count": 89,
     "metadata": {},
     "output_type": "execute_result"
    }
   ],
   "source": [
    "x[:1, :3] #2차원행렬, 차원 감소x"
   ]
  },
  {
   "cell_type": "markdown",
   "id": "33b260ae",
   "metadata": {},
   "source": [
    "- 3차원 텐서 슬라이싱"
   ]
  },
  {
   "cell_type": "code",
   "execution_count": 91,
   "id": "b3f36e55",
   "metadata": {},
   "outputs": [
    {
     "name": "stdout",
     "output_type": "stream",
     "text": [
      "[[[ 0  1  2]\n",
      "  [ 3  4  5]\n",
      "  [ 6  7  8]\n",
      "  [ 9 10 11]\n",
      "  [12 13 14]\n",
      "  [15 16 17]\n",
      "  [18 19 20]\n",
      "  [21 22 23]\n",
      "  [24 25 26]]\n",
      "\n",
      " [[27 28 29]\n",
      "  [30 31 32]\n",
      "  [33 34 35]\n",
      "  [36 37 38]\n",
      "  [39 40 41]\n",
      "  [42 43 44]\n",
      "  [45 46 47]\n",
      "  [48 49 50]\n",
      "  [51 52 53]]]\n"
     ]
    }
   ],
   "source": [
    "x = np.arange(54).reshape(2, 9, 3)\n",
    "print(x)"
   ]
  },
  {
   "cell_type": "code",
   "execution_count": 92,
   "id": "8e7a2498",
   "metadata": {},
   "outputs": [
    {
     "data": {
      "text/plain": [
       "array([[[0, 1, 2],\n",
       "        [3, 4, 5]]])"
      ]
     },
     "execution_count": 92,
     "metadata": {},
     "output_type": "execute_result"
    }
   ],
   "source": [
    "x[:1,:2] #3차원 텐서"
   ]
  },
  {
   "cell_type": "code",
   "execution_count": 94,
   "id": "fde5c877",
   "metadata": {},
   "outputs": [
    {
     "data": {
      "text/plain": [
       "array([[0, 1, 2],\n",
       "       [3, 4, 5]])"
      ]
     },
     "execution_count": 94,
     "metadata": {},
     "output_type": "execute_result"
    }
   ],
   "source": [
    "x[0, :2] #2차원 행렬"
   ]
  }
 ],
 "metadata": {
  "kernelspec": {
   "display_name": "Python 3 (ipykernel)",
   "language": "python",
   "name": "python3"
  },
  "language_info": {
   "codemirror_mode": {
    "name": "ipython",
    "version": 3
   },
   "file_extension": ".py",
   "mimetype": "text/x-python",
   "name": "python",
   "nbconvert_exporter": "python",
   "pygments_lexer": "ipython3",
   "version": "3.9.7"
  }
 },
 "nbformat": 4,
 "nbformat_minor": 5
}
