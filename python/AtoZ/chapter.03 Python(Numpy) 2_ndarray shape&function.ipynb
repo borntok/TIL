{
 "cells": [
  {
   "cell_type": "markdown",
   "id": "58cbf5f8",
   "metadata": {},
   "source": [
    "## 학습목표\n",
    "1. ndarray shape 변경하기"
   ]
  },
  {
   "cell_type": "code",
   "execution_count": 1,
   "id": "9e71e743",
   "metadata": {},
   "outputs": [],
   "source": [
    "import numpy as np"
   ]
  },
  {
   "cell_type": "markdown",
   "id": "c5200dd9",
   "metadata": {},
   "source": [
    "**ravel, np.ravel**\n",
    "- 다차원배열을 1차원으로 변경\n",
    "- 'order' 파라미터\n",
    " - 'C' - row 우선 변경\n",
    " - 'F' - column 우선 변경"
   ]
  },
  {
   "cell_type": "code",
   "execution_count": 17,
   "id": "a35a522f",
   "metadata": {},
   "outputs": [
    {
     "name": "stdout",
     "output_type": "stream",
     "text": [
      "[[ 0  1  2  3  4]\n",
      " [ 5  6  7  8  9]\n",
      " [10 11 12 13 14]]\n"
     ]
    }
   ],
   "source": [
    "x = np.arange(15).reshape(3, 5)\n",
    "print(x)"
   ]
  },
  {
   "cell_type": "code",
   "execution_count": 19,
   "id": "456ab612",
   "metadata": {},
   "outputs": [
    {
     "data": {
      "text/plain": [
       "array([ 0,  1,  2,  3,  4,  5,  6,  7,  8,  9, 10, 11, 12, 13, 14])"
      ]
     },
     "execution_count": 19,
     "metadata": {},
     "output_type": "execute_result"
    }
   ],
   "source": [
    "np.ravel(x, order ='C')"
   ]
  },
  {
   "cell_type": "code",
   "execution_count": 18,
   "id": "9c5d7f7e",
   "metadata": {},
   "outputs": [
    {
     "data": {
      "text/plain": [
       "array([ 0,  5, 10,  1,  6, 11,  2,  7, 12,  3,  8, 13,  4,  9, 14])"
      ]
     },
     "execution_count": 18,
     "metadata": {},
     "output_type": "execute_result"
    }
   ],
   "source": [
    "np.ravel(x, order='F')"
   ]
  },
  {
   "cell_type": "code",
   "execution_count": 10,
   "id": "4bd7c869",
   "metadata": {},
   "outputs": [
    {
     "name": "stdout",
     "output_type": "stream",
     "text": [
      "[ 0  1  2  3  4  5  6  7  8  9 10 11 12 13 14]\n"
     ]
    }
   ],
   "source": [
    "temp = x.ravel()\n",
    "print(temp)"
   ]
  },
  {
   "cell_type": "code",
   "execution_count": 12,
   "id": "21187fa5",
   "metadata": {
    "scrolled": true
   },
   "outputs": [
    {
     "name": "stdout",
     "output_type": "stream",
     "text": [
      "[15  1  2  3  4  5  6  7  8  9 10 11 12 13 14]\n",
      "[[15  1  2  3  4]\n",
      " [ 5  6  7  8  9]\n",
      " [10 11 12 13 14]]\n"
     ]
    }
   ],
   "source": [
    "temp[0] = 15\n",
    "print(temp)\n",
    "print(x)"
   ]
  },
  {
   "cell_type": "markdown",
   "id": "a2bb6db7",
   "metadata": {},
   "source": [
    "**flatten**\n",
    "- 다차원 배열을 1차원으로 변경\n",
    "- ravel과의 차이점: copy를 생성하여 변경함(즉 원본데이터가 아닌 복사본을 반환)\n",
    "- 'order' 파라미터\n",
    " - 'C' - row 우선 변경\n",
    " - 'F' - column 우선 변경"
   ]
  },
  {
   "cell_type": "code",
   "execution_count": 24,
   "id": "ba07778b",
   "metadata": {},
   "outputs": [
    {
     "data": {
      "text/plain": [
       "array([[ 0,  1,  2,  3],\n",
       "       [ 4,  5,  6,  7],\n",
       "       [ 8,  9, 10, 11],\n",
       "       [12, 13, 14, 15]])"
      ]
     },
     "execution_count": 24,
     "metadata": {},
     "output_type": "execute_result"
    }
   ],
   "source": [
    "y = np.arange(16).reshape(4,4)\n",
    "y"
   ]
  },
  {
   "cell_type": "code",
   "execution_count": 20,
   "id": "2251d718",
   "metadata": {},
   "outputs": [
    {
     "data": {
      "text/plain": [
       "array([ 0,  1,  2,  3,  4,  5,  6,  7,  8,  9, 10, 11, 12, 13, 14, 15])"
      ]
     },
     "execution_count": 20,
     "metadata": {},
     "output_type": "execute_result"
    }
   ],
   "source": [
    "y.flatten(order='C')"
   ]
  },
  {
   "cell_type": "code",
   "execution_count": 22,
   "id": "4ac9b270",
   "metadata": {},
   "outputs": [
    {
     "data": {
      "text/plain": [
       "array([ 0,  4,  8, 12,  1,  5,  9, 13,  2,  6, 10, 14,  3,  7, 11, 15])"
      ]
     },
     "execution_count": 22,
     "metadata": {},
     "output_type": "execute_result"
    }
   ],
   "source": [
    "y.flatten(order='F')"
   ]
  },
  {
   "cell_type": "code",
   "execution_count": 21,
   "id": "459f7622",
   "metadata": {},
   "outputs": [
    {
     "name": "stdout",
     "output_type": "stream",
     "text": [
      "[ 0  1  2  3  4  5  6  7  8  9 10 11 12 13 14 15]\n"
     ]
    }
   ],
   "source": [
    "t2 = y.flatten()\n",
    "print(t2)"
   ]
  },
  {
   "cell_type": "code",
   "execution_count": 14,
   "id": "e5bc09e8",
   "metadata": {},
   "outputs": [
    {
     "name": "stdout",
     "output_type": "stream",
     "text": [
      "[16  1  2  3  4  5  6  7  8  9 10 11 12 13 14 15]\n",
      "[[ 0  1  2  3]\n",
      " [ 4  5  6  7]\n",
      " [ 8  9 10 11]\n",
      " [12 13 14 15]]\n"
     ]
    }
   ],
   "source": [
    "t2[0] = 16\n",
    "print(t2)\n",
    "print(y)"
   ]
  },
  {
   "cell_type": "code",
   "execution_count": 25,
   "id": "556ac480",
   "metadata": {},
   "outputs": [
    {
     "name": "stdout",
     "output_type": "stream",
     "text": [
      "[[[ 0  1  2  3  4]\n",
      "  [ 5  6  7  8  9]\n",
      "  [10 11 12 13 14]]\n",
      "\n",
      " [[15 16 17 18 19]\n",
      "  [20 21 22 23 24]\n",
      "  [25 26 27 28 29]]]\n"
     ]
    }
   ],
   "source": [
    "x = np.arange(30).reshape(2, 3, 5)\n",
    "print(x)"
   ]
  },
  {
   "cell_type": "code",
   "execution_count": 26,
   "id": "eba3347a",
   "metadata": {},
   "outputs": [
    {
     "data": {
      "text/plain": [
       "array([ 0,  1,  2,  3,  4,  5,  6,  7,  8,  9, 10, 11, 12, 13, 14, 15, 16,\n",
       "       17, 18, 19, 20, 21, 22, 23, 24, 25, 26, 27, 28, 29])"
      ]
     },
     "execution_count": 26,
     "metadata": {},
     "output_type": "execute_result"
    }
   ],
   "source": [
    "x.ravel()"
   ]
  },
  {
   "cell_type": "markdown",
   "id": "1515dc71",
   "metadata": {},
   "source": [
    "**reshape 함수**\n",
    "- array의 shape을 다른 차원으로 변경\n",
    "- 주의할 점은 reshape한 후의 결과의 전체 원소의 개수와 이전 개수가 같아야 가능\n",
    "- 예) 이미지 데이터 벡터화 - 이미지는 기본적으로 2차원 혹은 3차원(RGB)이나 트레이닝을 위해 1차원으로 변경하여 사용됨"
   ]
  },
  {
   "cell_type": "code",
   "execution_count": 28,
   "id": "fb544e58",
   "metadata": {},
   "outputs": [
    {
     "name": "stdout",
     "output_type": "stream",
     "text": [
      "[ 0  1  2  3  4  5  6  7  8  9 10 11 12 13 14 15 16 17 18 19 20 21 22 23\n",
      " 24 25 26 27 28 29 30 31 32 33 34 35]\n",
      "(36,)\n",
      "1\n"
     ]
    }
   ],
   "source": [
    "x = np.arange(36)\n",
    "print(x)\n",
    "print(x.shape)\n",
    "print(x.ndim)"
   ]
  },
  {
   "cell_type": "code",
   "execution_count": 29,
   "id": "417b3494",
   "metadata": {},
   "outputs": [
    {
     "data": {
      "text/plain": [
       "array([[ 0,  1,  2,  3,  4,  5],\n",
       "       [ 6,  7,  8,  9, 10, 11],\n",
       "       [12, 13, 14, 15, 16, 17],\n",
       "       [18, 19, 20, 21, 22, 23],\n",
       "       [24, 25, 26, 27, 28, 29],\n",
       "       [30, 31, 32, 33, 34, 35]])"
      ]
     },
     "execution_count": 29,
     "metadata": {},
     "output_type": "execute_result"
    }
   ],
   "source": [
    "x.reshape(6, 6)"
   ]
  },
  {
   "cell_type": "code",
   "execution_count": 30,
   "id": "a8fcd31e",
   "metadata": {},
   "outputs": [
    {
     "data": {
      "text/plain": [
       "array([[ 0,  1,  2,  3,  4,  5],\n",
       "       [ 6,  7,  8,  9, 10, 11],\n",
       "       [12, 13, 14, 15, 16, 17],\n",
       "       [18, 19, 20, 21, 22, 23],\n",
       "       [24, 25, 26, 27, 28, 29],\n",
       "       [30, 31, 32, 33, 34, 35]])"
      ]
     },
     "execution_count": 30,
     "metadata": {},
     "output_type": "execute_result"
    }
   ],
   "source": [
    "x.reshape(6, -1)"
   ]
  },
  {
   "cell_type": "code",
   "execution_count": 31,
   "id": "67eb23d7",
   "metadata": {},
   "outputs": [
    {
     "data": {
      "text/plain": [
       "array([[ 0,  1,  2,  3,  4,  5],\n",
       "       [ 6,  7,  8,  9, 10, 11],\n",
       "       [12, 13, 14, 15, 16, 17],\n",
       "       [18, 19, 20, 21, 22, 23],\n",
       "       [24, 25, 26, 27, 28, 29],\n",
       "       [30, 31, 32, 33, 34, 35]])"
      ]
     },
     "execution_count": 31,
     "metadata": {},
     "output_type": "execute_result"
    }
   ],
   "source": [
    "x.reshape(-1, 6)"
   ]
  },
  {
   "cell_type": "code",
   "execution_count": 32,
   "id": "4bee0b96",
   "metadata": {},
   "outputs": [
    {
     "name": "stdout",
     "output_type": "stream",
     "text": [
      "(6, 6)\n",
      "2\n"
     ]
    }
   ],
   "source": [
    "y = x.reshape(6, 6)\n",
    "print(y.shape)\n",
    "print(y.ndim)"
   ]
  },
  {
   "cell_type": "code",
   "execution_count": 39,
   "id": "2598ed65",
   "metadata": {},
   "outputs": [
    {
     "name": "stdout",
     "output_type": "stream",
     "text": [
      "[[[ 0  1  2  3]\n",
      "  [ 4  5  6  7]\n",
      "  [ 8  9 10 11]]\n",
      "\n",
      " [[12 13 14 15]\n",
      "  [16 17 18 19]\n",
      "  [20 21 22 23]]\n",
      "\n",
      " [[24 25 26 27]\n",
      "  [28 29 30 31]\n",
      "  [32 33 34 35]]] \n",
      "\n",
      "(3, 3, 4)\n",
      "3\n"
     ]
    }
   ],
   "source": [
    "k = x.reshape(3, 3, -1)\n",
    "print(k,'\\n')\n",
    "print(k.shape)\n",
    "print(k.ndim)"
   ]
  },
  {
   "cell_type": "markdown",
   "id": "27c49e84",
   "metadata": {},
   "source": [
    "## 학습목표\n",
    "1. numpy에서 자주 사용되는 함수들을 사용해보기"
   ]
  },
  {
   "cell_type": "code",
   "execution_count": 40,
   "id": "8adf2846",
   "metadata": {},
   "outputs": [],
   "source": [
    "import numpy as np"
   ]
  },
  {
   "cell_type": "markdown",
   "id": "c6b0ec20",
   "metadata": {},
   "source": [
    "**numpy documentation**\n",
    "- numpy 공식 문서 링크(https://numpy.org/devdocs/reference/)\n",
    "- numpy에서 제공되는 함수 등에 대한 문서"
   ]
  },
  {
   "cell_type": "code",
   "execution_count": 41,
   "id": "dd51afe6",
   "metadata": {},
   "outputs": [
    {
     "name": "stdout",
     "output_type": "stream",
     "text": [
      "[[ 0  1  2  3  4]\n",
      " [ 5  6  7  8  9]\n",
      " [10 11 12 13 14]]\n",
      "[[0.91421518 0.66473501 0.43740378 0.44247387 0.34893612]\n",
      " [0.61876457 0.99640707 0.50638095 0.42407299 0.95441368]\n",
      " [0.3470079  0.91496944 0.17196977 0.18469454 0.18057343]]\n"
     ]
    }
   ],
   "source": [
    "x = np.arange(15).reshape(3, 5)\n",
    "y = np.random.rand(15).reshape(3, 5)\n",
    "print(x)\n",
    "print(y)"
   ]
  },
  {
   "cell_type": "markdown",
   "id": "57d6a3ee",
   "metadata": {},
   "source": [
    "**연산 함수**\n",
    "- add, substract, multiply, divide"
   ]
  },
  {
   "cell_type": "code",
   "execution_count": 42,
   "id": "d5a3a645",
   "metadata": {},
   "outputs": [
    {
     "data": {
      "text/plain": [
       "array([[ 0.91421518,  1.66473501,  2.43740378,  3.44247387,  4.34893612],\n",
       "       [ 5.61876457,  6.99640707,  7.50638095,  8.42407299,  9.95441368],\n",
       "       [10.3470079 , 11.91496944, 12.17196977, 13.18469454, 14.18057343]])"
      ]
     },
     "execution_count": 42,
     "metadata": {},
     "output_type": "execute_result"
    }
   ],
   "source": [
    "np.add(x, y)"
   ]
  },
  {
   "cell_type": "code",
   "execution_count": 43,
   "id": "36faf257",
   "metadata": {},
   "outputs": [
    {
     "data": {
      "text/plain": [
       "array([[-0.91421518,  0.33526499,  1.56259622,  2.55752613,  3.65106388],\n",
       "       [ 4.38123543,  5.00359293,  6.49361905,  7.57592701,  8.04558632],\n",
       "       [ 9.6529921 , 10.08503056, 11.82803023, 12.81530546, 13.81942657]])"
      ]
     },
     "execution_count": 43,
     "metadata": {},
     "output_type": "execute_result"
    }
   ],
   "source": [
    "np.subtract(x, y)"
   ]
  },
  {
   "cell_type": "code",
   "execution_count": 44,
   "id": "a6eabc87",
   "metadata": {},
   "outputs": [
    {
     "data": {
      "text/plain": [
       "array([[ 0.        ,  0.66473501,  0.87480756,  1.32742162,  1.39574449],\n",
       "       [ 3.09382284,  5.97844243,  3.54466663,  3.39258392,  8.58972312],\n",
       "       [ 3.47007895, 10.06466379,  2.06363721,  2.40102897,  2.52802805]])"
      ]
     },
     "execution_count": 44,
     "metadata": {},
     "output_type": "execute_result"
    }
   ],
   "source": [
    "np.multiply(x, y)"
   ]
  },
  {
   "cell_type": "code",
   "execution_count": 45,
   "id": "b25618f8",
   "metadata": {},
   "outputs": [
    {
     "data": {
      "text/plain": [
       "array([[ 0.        ,  1.50435886,  4.5724342 ,  6.78006133, 11.46341616],\n",
       "       [ 8.08061784,  6.0216353 , 13.82358489, 18.86467703,  9.42987322],\n",
       "       [28.81778812, 12.02225952, 69.77970716, 70.38648922, 77.53078543]])"
      ]
     },
     "execution_count": 45,
     "metadata": {},
     "output_type": "execute_result"
    }
   ],
   "source": [
    "np.divide(x, y)"
   ]
  },
  {
   "cell_type": "code",
   "execution_count": 46,
   "id": "924d1094",
   "metadata": {},
   "outputs": [
    {
     "data": {
      "text/plain": [
       "array([[ 0.91421518,  1.66473501,  2.43740378,  3.44247387,  4.34893612],\n",
       "       [ 5.61876457,  6.99640707,  7.50638095,  8.42407299,  9.95441368],\n",
       "       [10.3470079 , 11.91496944, 12.17196977, 13.18469454, 14.18057343]])"
      ]
     },
     "execution_count": 46,
     "metadata": {},
     "output_type": "execute_result"
    }
   ],
   "source": [
    "x + y"
   ]
  },
  {
   "cell_type": "code",
   "execution_count": 48,
   "id": "6f6716eb",
   "metadata": {},
   "outputs": [
    {
     "data": {
      "text/plain": [
       "array([[-0.91421518,  0.33526499,  1.56259622,  2.55752613,  3.65106388],\n",
       "       [ 4.38123543,  5.00359293,  6.49361905,  7.57592701,  8.04558632],\n",
       "       [ 9.6529921 , 10.08503056, 11.82803023, 12.81530546, 13.81942657]])"
      ]
     },
     "execution_count": 48,
     "metadata": {},
     "output_type": "execute_result"
    }
   ],
   "source": [
    "x - y"
   ]
  },
  {
   "cell_type": "code",
   "execution_count": 49,
   "id": "e0b1a5c6",
   "metadata": {},
   "outputs": [
    {
     "data": {
      "text/plain": [
       "array([[ 0.        ,  0.66473501,  0.87480756,  1.32742162,  1.39574449],\n",
       "       [ 3.09382284,  5.97844243,  3.54466663,  3.39258392,  8.58972312],\n",
       "       [ 3.47007895, 10.06466379,  2.06363721,  2.40102897,  2.52802805]])"
      ]
     },
     "execution_count": 49,
     "metadata": {},
     "output_type": "execute_result"
    }
   ],
   "source": [
    "x * y"
   ]
  },
  {
   "cell_type": "code",
   "execution_count": 50,
   "id": "e55229a3",
   "metadata": {},
   "outputs": [
    {
     "data": {
      "text/plain": [
       "array([[ 0.        ,  1.50435886,  4.5724342 ,  6.78006133, 11.46341616],\n",
       "       [ 8.08061784,  6.0216353 , 13.82358489, 18.86467703,  9.42987322],\n",
       "       [28.81778812, 12.02225952, 69.77970716, 70.38648922, 77.53078543]])"
      ]
     },
     "execution_count": 50,
     "metadata": {},
     "output_type": "execute_result"
    }
   ],
   "source": [
    "x / y"
   ]
  },
  {
   "cell_type": "markdown",
   "id": "a217a67d",
   "metadata": {},
   "source": [
    "**통계 함수**\n",
    "- 평균,분산,중앙,최대,최소값 등등 통계 관련된 함수가 내장"
   ]
  },
  {
   "cell_type": "code",
   "execution_count": 51,
   "id": "6e4c5a94",
   "metadata": {},
   "outputs": [
    {
     "name": "stdout",
     "output_type": "stream",
     "text": [
      "[[0.91421518 0.66473501 0.43740378 0.44247387 0.34893612]\n",
      " [0.61876457 0.99640707 0.50638095 0.42407299 0.95441368]\n",
      " [0.3470079  0.91496944 0.17196977 0.18469454 0.18057343]]\n"
     ]
    }
   ],
   "source": [
    "print(y)"
   ]
  },
  {
   "cell_type": "code",
   "execution_count": 52,
   "id": "c87f0efe",
   "metadata": {},
   "outputs": [
    {
     "data": {
      "text/plain": [
       "0.5404678855637255"
      ]
     },
     "execution_count": 52,
     "metadata": {},
     "output_type": "execute_result"
    }
   ],
   "source": [
    "np.mean(y)"
   ]
  },
  {
   "cell_type": "code",
   "execution_count": 53,
   "id": "91774e94",
   "metadata": {},
   "outputs": [
    {
     "data": {
      "text/plain": [
       "0.5404678855637255"
      ]
     },
     "execution_count": 53,
     "metadata": {},
     "output_type": "execute_result"
    }
   ],
   "source": [
    "y.mean()"
   ]
  },
  {
   "cell_type": "code",
   "execution_count": 54,
   "id": "4c805d69",
   "metadata": {},
   "outputs": [
    {
     "data": {
      "text/plain": [
       "0.996407072023395"
      ]
     },
     "execution_count": 54,
     "metadata": {},
     "output_type": "execute_result"
    }
   ],
   "source": [
    "np.max(y)"
   ]
  },
  {
   "cell_type": "code",
   "execution_count": 56,
   "id": "5bb413fd",
   "metadata": {},
   "outputs": [
    {
     "data": {
      "text/plain": [
       "6"
      ]
     },
     "execution_count": 56,
     "metadata": {},
     "output_type": "execute_result"
    }
   ],
   "source": [
    "np.argmax(y) #최대값의 인덱스"
   ]
  },
  {
   "cell_type": "code",
   "execution_count": 57,
   "id": "68a20bed",
   "metadata": {},
   "outputs": [
    {
     "data": {
      "text/plain": [
       "(0.07877855110739197, 0.4424738736383661, 0.28067517009417126)"
      ]
     },
     "execution_count": 57,
     "metadata": {},
     "output_type": "execute_result"
    }
   ],
   "source": [
    "np.var(y), np.median(y), np.std(y)"
   ]
  },
  {
   "cell_type": "markdown",
   "id": "e4dd76f9",
   "metadata": {},
   "source": [
    "**집계함수**\n",
    "- 합계(sum), 누적합계(cumsum)등 계산 가능"
   ]
  },
  {
   "cell_type": "code",
   "execution_count": 58,
   "id": "e9667936",
   "metadata": {},
   "outputs": [
    {
     "data": {
      "text/plain": [
       "array([[0.91421518, 0.66473501, 0.43740378, 0.44247387, 0.34893612],\n",
       "       [0.61876457, 0.99640707, 0.50638095, 0.42407299, 0.95441368],\n",
       "       [0.3470079 , 0.91496944, 0.17196977, 0.18469454, 0.18057343]])"
      ]
     },
     "execution_count": 58,
     "metadata": {},
     "output_type": "execute_result"
    }
   ],
   "source": [
    "y"
   ]
  },
  {
   "cell_type": "code",
   "execution_count": 61,
   "id": "46cf906b",
   "metadata": {},
   "outputs": [
    {
     "data": {
      "text/plain": [
       "8.107018283455883"
      ]
     },
     "execution_count": 61,
     "metadata": {},
     "output_type": "execute_result"
    }
   ],
   "source": [
    "np.sum(y)"
   ]
  },
  {
   "cell_type": "code",
   "execution_count": 62,
   "id": "017fedde",
   "metadata": {},
   "outputs": [
    {
     "data": {
      "text/plain": [
       "array([0.91421518, 1.57895018, 2.01635396, 2.45882784, 2.80776396,\n",
       "       3.42652853, 4.4229356 , 4.92931655, 5.35338954, 6.30780322,\n",
       "       6.65481111, 7.56978055, 7.74175032, 7.92644485, 8.10701828])"
      ]
     },
     "execution_count": 62,
     "metadata": {},
     "output_type": "execute_result"
    }
   ],
   "source": [
    "np.cumsum(y)"
   ]
  },
  {
   "cell_type": "markdown",
   "id": "e10854be",
   "metadata": {},
   "source": [
    "**any, all 함수**\n",
    "- any: 특정 조건을 만족하는 것이 하나라도 있으면 True, 아니면 False\n",
    "- all: 모든 원소가 특정 조건을 만족한다면 True, 아니면 False"
   ]
  },
  {
   "cell_type": "code",
   "execution_count": 63,
   "id": "adc0ab18",
   "metadata": {},
   "outputs": [
    {
     "name": "stdout",
     "output_type": "stream",
     "text": [
      "[-0.78371056  0.1884264  -0.86765059 -0.51128314  0.36413241 -1.35131002\n",
      " -0.41491223 -1.46345543  0.67488294  0.13592902]\n"
     ]
    }
   ],
   "source": [
    "z = np.random.randn(10)\n",
    "print(z)"
   ]
  },
  {
   "cell_type": "code",
   "execution_count": 66,
   "id": "210e214b",
   "metadata": {},
   "outputs": [
    {
     "data": {
      "text/plain": [
       "array([False,  True, False, False,  True, False, False, False,  True,\n",
       "        True])"
      ]
     },
     "execution_count": 66,
     "metadata": {},
     "output_type": "execute_result"
    }
   ],
   "source": [
    "z > 0"
   ]
  },
  {
   "cell_type": "code",
   "execution_count": 65,
   "id": "6296de8b",
   "metadata": {},
   "outputs": [
    {
     "data": {
      "text/plain": [
       "True"
      ]
     },
     "execution_count": 65,
     "metadata": {},
     "output_type": "execute_result"
    }
   ],
   "source": [
    "np.any(z > 0)"
   ]
  },
  {
   "cell_type": "code",
   "execution_count": 67,
   "id": "ef73a5ab",
   "metadata": {},
   "outputs": [
    {
     "data": {
      "text/plain": [
       "False"
      ]
     },
     "execution_count": 67,
     "metadata": {},
     "output_type": "execute_result"
    }
   ],
   "source": [
    "np.all(z > 0)"
   ]
  },
  {
   "cell_type": "code",
   "execution_count": 68,
   "id": "477dbdfc",
   "metadata": {},
   "outputs": [
    {
     "data": {
      "text/plain": [
       "True"
      ]
     },
     "execution_count": 68,
     "metadata": {},
     "output_type": "execute_result"
    }
   ],
   "source": [
    "np.all(z != 0)"
   ]
  },
  {
   "cell_type": "markdown",
   "id": "902dc9f5",
   "metadata": {},
   "source": [
    "**where 함수**\n",
    "- 조건에 따라 선별적으로 값을 선택 가능\n",
    "- 예) 음수인 경우는 0, 나머지는 그대로 값을 쓰는 경우"
   ]
  },
  {
   "cell_type": "code",
   "execution_count": 70,
   "id": "11a2ffaa",
   "metadata": {},
   "outputs": [
    {
     "name": "stdout",
     "output_type": "stream",
     "text": [
      "[ 1.57165675  0.42318706  0.12123994  1.31693809 -0.88926262 -1.74463728\n",
      "  0.01839459 -0.93168776  0.82731111  0.13955141]\n"
     ]
    }
   ],
   "source": [
    "z = np.random.randn(10)\n",
    "print(z)"
   ]
  },
  {
   "cell_type": "code",
   "execution_count": 71,
   "id": "5bc080f3",
   "metadata": {},
   "outputs": [
    {
     "data": {
      "text/plain": [
       "array([1.57165675, 0.42318706, 0.12123994, 1.31693809, 0.        ,\n",
       "       0.        , 0.01839459, 0.        , 0.82731111, 0.13955141])"
      ]
     },
     "execution_count": 71,
     "metadata": {},
     "output_type": "execute_result"
    }
   ],
   "source": [
    "np.where(z > 0, z, 0) # *.where(조건,참인 경우,거짓인 경우)"
   ]
  }
 ],
 "metadata": {
  "kernelspec": {
   "display_name": "Python 3 (ipykernel)",
   "language": "python",
   "name": "python3"
  },
  "language_info": {
   "codemirror_mode": {
    "name": "ipython",
    "version": 3
   },
   "file_extension": ".py",
   "mimetype": "text/x-python",
   "name": "python",
   "nbconvert_exporter": "python",
   "pygments_lexer": "ipython3",
   "version": "3.9.7"
  }
 },
 "nbformat": 4,
 "nbformat_minor": 5
}
