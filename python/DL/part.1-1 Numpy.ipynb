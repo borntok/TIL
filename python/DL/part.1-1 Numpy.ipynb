{
 "cells": [
  {
   "cell_type": "code",
   "execution_count": 2,
   "id": "ba895fdb",
   "metadata": {},
   "outputs": [],
   "source": [
    "import numpy as np"
   ]
  },
  {
   "cell_type": "code",
   "execution_count": 3,
   "id": "0b05e856",
   "metadata": {},
   "outputs": [],
   "source": [
    "import tensorflow as tf"
   ]
  },
  {
   "cell_type": "code",
   "execution_count": 4,
   "id": "687c12b7",
   "metadata": {},
   "outputs": [
    {
     "name": "stdout",
     "output_type": "stream",
     "text": [
      "2.7.0\n"
     ]
    }
   ],
   "source": [
    "print(tf.__version__)"
   ]
  },
  {
   "cell_type": "code",
   "execution_count": 5,
   "id": "229348a5",
   "metadata": {},
   "outputs": [],
   "source": [
    "import torch"
   ]
  },
  {
   "cell_type": "code",
   "execution_count": 6,
   "id": "27ca575c",
   "metadata": {},
   "outputs": [
    {
     "name": "stdout",
     "output_type": "stream",
     "text": [
      "1.10.1\n"
     ]
    }
   ],
   "source": [
    "print(torch.__version__)"
   ]
  },
  {
   "cell_type": "markdown",
   "id": "68d64c11",
   "metadata": {},
   "source": [
    "### List와 비교"
   ]
  },
  {
   "cell_type": "code",
   "execution_count": 7,
   "id": "ccfd1468",
   "metadata": {},
   "outputs": [
    {
     "name": "stdout",
     "output_type": "stream",
     "text": [
      "[1 2 3] <class 'numpy.ndarray'>\n"
     ]
    }
   ],
   "source": [
    "a = np.array([1, 2, 3])\n",
    "print(a, type(a))"
   ]
  },
  {
   "cell_type": "code",
   "execution_count": 8,
   "id": "27c5d7f5",
   "metadata": {},
   "outputs": [
    {
     "name": "stdout",
     "output_type": "stream",
     "text": [
      "[1, 2, 3]\n",
      "[1 2 3]\n"
     ]
    }
   ],
   "source": [
    "#List와 ndarray 비교\n",
    "\n",
    "L = [1, 2, 3]\n",
    "A = np.array([1, 2, 3])\n",
    "print(L)\n",
    "print(A)"
   ]
  },
  {
   "cell_type": "code",
   "execution_count": 9,
   "id": "3be10f7f",
   "metadata": {},
   "outputs": [
    {
     "data": {
      "text/plain": [
       "array([1, 2, 3])"
      ]
     },
     "execution_count": 9,
     "metadata": {},
     "output_type": "execute_result"
    }
   ],
   "source": [
    "A"
   ]
  },
  {
   "cell_type": "code",
   "execution_count": 10,
   "id": "6746cbd2",
   "metadata": {},
   "outputs": [
    {
     "name": "stdout",
     "output_type": "stream",
     "text": [
      "1\n",
      "2\n",
      "3\n"
     ]
    }
   ],
   "source": [
    "for item in L:\n",
    "    print(item)"
   ]
  },
  {
   "cell_type": "code",
   "execution_count": 11,
   "id": "40881736",
   "metadata": {},
   "outputs": [
    {
     "name": "stdout",
     "output_type": "stream",
     "text": [
      "1\n",
      "2\n",
      "3\n"
     ]
    }
   ],
   "source": [
    "for item in A:\n",
    "    print(item)"
   ]
  },
  {
   "cell_type": "code",
   "execution_count": 12,
   "id": "389d3af2",
   "metadata": {},
   "outputs": [
    {
     "name": "stdout",
     "output_type": "stream",
     "text": [
      "[1, 2, 3, 4]\n"
     ]
    }
   ],
   "source": [
    "L.append(4)\n",
    "print(L)"
   ]
  },
  {
   "cell_type": "code",
   "execution_count": 13,
   "id": "fb80259f",
   "metadata": {},
   "outputs": [
    {
     "name": "stdout",
     "output_type": "stream",
     "text": [
      "[1 2 3 4]\n"
     ]
    }
   ],
   "source": [
    "A = np.append(A, 4)\n",
    "print(A)"
   ]
  },
  {
   "cell_type": "code",
   "execution_count": 14,
   "id": "b0531327",
   "metadata": {},
   "outputs": [
    {
     "name": "stdout",
     "output_type": "stream",
     "text": [
      "[1, 2, 3, 4, 5]\n"
     ]
    }
   ],
   "source": [
    "L = L + [5]\n",
    "print(L)"
   ]
  },
  {
   "cell_type": "code",
   "execution_count": 15,
   "id": "28151249",
   "metadata": {},
   "outputs": [
    {
     "name": "stdout",
     "output_type": "stream",
     "text": [
      "[6 7 8 9]\n"
     ]
    }
   ],
   "source": [
    "A = A + np.array([5])\n",
    "print(A)"
   ]
  },
  {
   "cell_type": "code",
   "execution_count": 18,
   "id": "e33b8d9a",
   "metadata": {},
   "outputs": [
    {
     "name": "stdout",
     "output_type": "stream",
     "text": [
      "[2, 4, 6]\n"
     ]
    }
   ],
   "source": [
    "#list의 원소 2배로 만들기\n",
    "\n",
    "L = [1, 2, 3]\n",
    "L2 = []\n",
    "\n",
    "for item in L:\n",
    "    L2.append(item*2)\n",
    "print(L2)"
   ]
  },
  {
   "cell_type": "code",
   "execution_count": 19,
   "id": "e31c08ed",
   "metadata": {},
   "outputs": [
    {
     "name": "stdout",
     "output_type": "stream",
     "text": [
      "[2 4 6]\n"
     ]
    }
   ],
   "source": [
    "A = np.array(L)\n",
    "A2 = A*2\n",
    "print(A2)"
   ]
  },
  {
   "cell_type": "code",
   "execution_count": 20,
   "id": "e4c392b4",
   "metadata": {},
   "outputs": [
    {
     "data": {
      "text/plain": [
       "[1, 2, 3, 1, 2, 3]"
      ]
     },
     "execution_count": 20,
     "metadata": {},
     "output_type": "execute_result"
    }
   ],
   "source": [
    "L*2"
   ]
  },
  {
   "cell_type": "markdown",
   "id": "9757f7ae",
   "metadata": {},
   "source": [
    "### 배열 생성"
   ]
  },
  {
   "cell_type": "code",
   "execution_count": 22,
   "id": "a5e0aabc",
   "metadata": {},
   "outputs": [
    {
     "name": "stdout",
     "output_type": "stream",
     "text": [
      "[1 2 3]\n",
      "<class 'numpy.ndarray'> 1 (3,) int32\n"
     ]
    }
   ],
   "source": [
    "a = np.array([1, 2, 3])\n",
    "print(a)\n",
    "print(type(a), a.ndim, a.shape, a.dtype)"
   ]
  },
  {
   "cell_type": "code",
   "execution_count": 23,
   "id": "cff75c77",
   "metadata": {},
   "outputs": [
    {
     "name": "stdout",
     "output_type": "stream",
     "text": [
      "[1 2 3]\n"
     ]
    }
   ],
   "source": [
    "b = np.asarray(a) #asarray를 사용하면 복사x\n",
    "print(b)"
   ]
  },
  {
   "cell_type": "code",
   "execution_count": 24,
   "id": "d33441f5",
   "metadata": {},
   "outputs": [
    {
     "name": "stdout",
     "output_type": "stream",
     "text": [
      "[9 2 3]\n",
      "[9 2 3]\n"
     ]
    }
   ],
   "source": [
    "b[0] = 9\n",
    "print(a)\n",
    "print(b)"
   ]
  },
  {
   "cell_type": "code",
   "execution_count": 25,
   "id": "d62b99ae",
   "metadata": {},
   "outputs": [
    {
     "name": "stdout",
     "output_type": "stream",
     "text": [
      "[9 2 3]\n"
     ]
    }
   ],
   "source": [
    "c = np.array(a)\n",
    "print(c)"
   ]
  },
  {
   "cell_type": "code",
   "execution_count": 26,
   "id": "b13cc8fd",
   "metadata": {},
   "outputs": [
    {
     "name": "stdout",
     "output_type": "stream",
     "text": [
      "[9 2 3]\n",
      "[9 2 3]\n",
      "[1 2 3]\n"
     ]
    }
   ],
   "source": [
    "c[0] = 1\n",
    "print(a)\n",
    "print(b)\n",
    "print(c)"
   ]
  },
  {
   "cell_type": "code",
   "execution_count": 29,
   "id": "37fdd088",
   "metadata": {},
   "outputs": [
    {
     "name": "stdout",
     "output_type": "stream",
     "text": [
      "[[0. 0. 0. 0.]\n",
      " [0. 0. 0. 0.]\n",
      " [0. 0. 0. 0.]]\n",
      "float64\n"
     ]
    }
   ],
   "source": [
    "a = np.zeros((3, 4))\n",
    "print(a)\n",
    "print(a.dtype)"
   ]
  },
  {
   "cell_type": "code",
   "execution_count": 30,
   "id": "99d0bb16",
   "metadata": {},
   "outputs": [
    {
     "name": "stdout",
     "output_type": "stream",
     "text": [
      "[[1. 1.]\n",
      " [1. 1.]\n",
      " [1. 1.]\n",
      " [1. 1.]\n",
      " [1. 1.]]\n"
     ]
    }
   ],
   "source": [
    "b = np.ones((5, 2))\n",
    "print(b)"
   ]
  },
  {
   "cell_type": "code",
   "execution_count": 31,
   "id": "5b253539",
   "metadata": {},
   "outputs": [
    {
     "name": "stdout",
     "output_type": "stream",
     "text": [
      "[[4 4 4]\n",
      " [4 4 4]]\n"
     ]
    }
   ],
   "source": [
    "c = np.full((2,3), 4)\n",
    "print(c)"
   ]
  },
  {
   "cell_type": "code",
   "execution_count": 33,
   "id": "48e4d88c",
   "metadata": {},
   "outputs": [
    {
     "name": "stdout",
     "output_type": "stream",
     "text": [
      "[[0.0000e+000 0.0000e+000 0.0000e+000]\n",
      " [0.0000e+000 0.0000e+000 1.7134e-320]\n",
      " [0.0000e+000 0.0000e+000 0.0000e+000]]\n"
     ]
    }
   ],
   "source": [
    "d = np.empty((3,3))\n",
    "print(d)"
   ]
  },
  {
   "cell_type": "code",
   "execution_count": 34,
   "id": "e76fac42",
   "metadata": {},
   "outputs": [
    {
     "name": "stdout",
     "output_type": "stream",
     "text": [
      "[[0. 0. 0. 0.]\n",
      " [0. 0. 0. 0.]\n",
      " [0. 0. 0. 0.]]\n",
      "[[1. 1. 1. 1.]\n",
      " [1. 1. 1. 1.]\n",
      " [1. 1. 1. 1.]]\n",
      "[[2. 2. 2. 2.]\n",
      " [2. 2. 2. 2.]\n",
      " [2. 2. 2. 2.]]\n",
      "[[1.01895978e-311 3.16202013e-322 0.00000000e+000 0.00000000e+000]\n",
      " [1.89146896e-307 1.16095484e-028 3.74168445e+233 3.10573437e-115]\n",
      " [3.77075632e+233 4.06683016e-144 2.91237123e+257 4.71294503e+257]]\n"
     ]
    }
   ],
   "source": [
    "e = np.zeros_like(a)\n",
    "f = np.ones_like(a)\n",
    "g = np.full_like(a, 2)\n",
    "h = np.empty_like(a)\n",
    "print(e)\n",
    "print(f)\n",
    "print(g)\n",
    "print(h)"
   ]
  },
  {
   "cell_type": "code",
   "execution_count": 35,
   "id": "19662857",
   "metadata": {},
   "outputs": [
    {
     "name": "stdout",
     "output_type": "stream",
     "text": [
      "[[1. 0. 0.]\n",
      " [0. 1. 0.]\n",
      " [0. 0. 1.]]\n",
      "[[1. 0. 0.]\n",
      " [0. 1. 0.]\n",
      " [0. 0. 1.]]\n"
     ]
    }
   ],
   "source": [
    "# 단위행렬 생성\n",
    "i = np.eye(3)\n",
    "j = np.identity(3)\n",
    "print(i)\n",
    "print(j)"
   ]
  },
  {
   "cell_type": "code",
   "execution_count": 37,
   "id": "94adc6fa",
   "metadata": {},
   "outputs": [
    {
     "name": "stdout",
     "output_type": "stream",
     "text": [
      "[0 1 2 3 4 5 6 7 8 9]\n"
     ]
    }
   ],
   "source": [
    "k = np.arange(10)\n",
    "print(k)"
   ]
  },
  {
   "cell_type": "code",
   "execution_count": 38,
   "id": "ed69aaa6",
   "metadata": {},
   "outputs": [
    {
     "name": "stdout",
     "output_type": "stream",
     "text": [
      "[[0.56086584 0.93874212]\n",
      " [0.31285753 0.22429877]]\n"
     ]
    }
   ],
   "source": [
    "#uniform distribution\n",
    "l = np.random.rand(2,2)\n",
    "print(l)"
   ]
  },
  {
   "cell_type": "code",
   "execution_count": 39,
   "id": "f4343e71",
   "metadata": {},
   "outputs": [
    {
     "name": "stdout",
     "output_type": "stream",
     "text": [
      "[[-0.70333498  1.6262337 ]\n",
      " [-0.08753991  1.5252653 ]]\n"
     ]
    }
   ],
   "source": [
    "# standard normal distribution\n",
    "m = np.random.randn(2, 2)\n",
    "print(m)"
   ]
  },
  {
   "cell_type": "markdown",
   "id": "66e1ad8b",
   "metadata": {},
   "source": [
    "### 배열 dtype"
   ]
  },
  {
   "cell_type": "code",
   "execution_count": 40,
   "id": "9d06d53e",
   "metadata": {},
   "outputs": [
    {
     "name": "stdout",
     "output_type": "stream",
     "text": [
      "int32 float64 int32\n"
     ]
    }
   ],
   "source": [
    "a = np.array([1, 2, 3])\n",
    "b = np.array([1, 2, 3], dtype=np.float64)\n",
    "c = np.array([1, 2, 3], dtype=np.int32)\n",
    "print(a.dtype, b.dtype, c.dtype)"
   ]
  },
  {
   "cell_type": "code",
   "execution_count": 41,
   "id": "ba1e915d",
   "metadata": {},
   "outputs": [
    {
     "name": "stdout",
     "output_type": "stream",
     "text": [
      "int8 int16 int32 int64\n"
     ]
    }
   ],
   "source": [
    "d = np.array([1, 2, 3], dtype='i1')\n",
    "e = np.array([1, 2, 3], dtype='i2')\n",
    "f = np.array([1, 2, 3], dtype='i4')\n",
    "g = np.array([1, 2, 3], dtype='i8')\n",
    "print(d.dtype, e.dtype, f.dtype, g.dtype)"
   ]
  },
  {
   "cell_type": "code",
   "execution_count": 43,
   "id": "738cba5b",
   "metadata": {},
   "outputs": [
    {
     "name": "stdout",
     "output_type": "stream",
     "text": [
      "uint8 uint16 uint32 uint64\n"
     ]
    }
   ],
   "source": [
    "d = np.array([1, 2, 3], dtype='u1')\n",
    "e = np.array([1, 2, 3], dtype='u2')\n",
    "f = np.array([1, 2, 3], dtype='u4')\n",
    "g = np.array([1, 2, 3], dtype='u8')\n",
    "print(d.dtype, e.dtype, f.dtype, g.dtype)"
   ]
  },
  {
   "cell_type": "code",
   "execution_count": 48,
   "id": "1f2a7178",
   "metadata": {},
   "outputs": [
    {
     "name": "stdout",
     "output_type": "stream",
     "text": [
      "float16 float32 float64\n"
     ]
    }
   ],
   "source": [
    "h = np.array([1, 2, 3], dtype='f2')\n",
    "i = np.array([1, 2, 3], dtype='f4')\n",
    "j = np.array([1, 2, 3], dtype='f8')\n",
    "print(h.dtype, i.dtype, j.dtype)"
   ]
  },
  {
   "cell_type": "code",
   "execution_count": 50,
   "id": "dedb5f2c",
   "metadata": {},
   "outputs": [
    {
     "name": "stdout",
     "output_type": "stream",
     "text": [
      "float16 float32 float64\n"
     ]
    }
   ],
   "source": [
    "i = np.array([1, 2, 3], dtype='f')\n",
    "j = np.array([1, 2, 3], dtype='d')\n",
    "print(h.dtype, i.dtype, j.dtype)"
   ]
  },
  {
   "cell_type": "code",
   "execution_count": 51,
   "id": "2bc674f3",
   "metadata": {},
   "outputs": [
    {
     "name": "stdout",
     "output_type": "stream",
     "text": [
      "int32\n"
     ]
    }
   ],
   "source": [
    "i = i.astype(np.int32)\n",
    "print(i.dtype)"
   ]
  },
  {
   "cell_type": "code",
   "execution_count": 52,
   "id": "ea8fec93",
   "metadata": {},
   "outputs": [
    {
     "name": "stdout",
     "output_type": "stream",
     "text": [
      "int32\n"
     ]
    }
   ],
   "source": [
    "j = j.astype(i.dtype)\n",
    "print(j.dtype)"
   ]
  },
  {
   "cell_type": "markdown",
   "id": "766475c6",
   "metadata": {},
   "source": [
    "### 배열 indexing&slicing"
   ]
  },
  {
   "cell_type": "code",
   "execution_count": 53,
   "id": "2acee4f8",
   "metadata": {},
   "outputs": [
    {
     "name": "stdout",
     "output_type": "stream",
     "text": [
      "[0 1 2 3 4 5 6 7 8 9]\n"
     ]
    }
   ],
   "source": [
    "a = np.arange(10)\n",
    "print(a)"
   ]
  },
  {
   "cell_type": "code",
   "execution_count": 54,
   "id": "dc2d8dfd",
   "metadata": {},
   "outputs": [
    {
     "name": "stdout",
     "output_type": "stream",
     "text": [
      "5\n"
     ]
    }
   ],
   "source": [
    "#indexing\n",
    "print(a[5])"
   ]
  },
  {
   "cell_type": "code",
   "execution_count": 55,
   "id": "2c415f2b",
   "metadata": {},
   "outputs": [
    {
     "name": "stdout",
     "output_type": "stream",
     "text": [
      "[5 6 7]\n"
     ]
    }
   ],
   "source": [
    "#slicing\n",
    "print(a[5:8])"
   ]
  },
  {
   "cell_type": "code",
   "execution_count": 56,
   "id": "eaf7dd7d",
   "metadata": {},
   "outputs": [
    {
     "data": {
      "text/plain": [
       "9"
      ]
     },
     "execution_count": 56,
     "metadata": {},
     "output_type": "execute_result"
    }
   ],
   "source": [
    "a[-1]"
   ]
  },
  {
   "cell_type": "code",
   "execution_count": 57,
   "id": "c083a14f",
   "metadata": {},
   "outputs": [
    {
     "name": "stdout",
     "output_type": "stream",
     "text": [
      "[7 8]\n"
     ]
    }
   ],
   "source": [
    "print(a[7:-1])"
   ]
  },
  {
   "cell_type": "code",
   "execution_count": 58,
   "id": "c5771ddc",
   "metadata": {},
   "outputs": [
    {
     "name": "stdout",
     "output_type": "stream",
     "text": [
      "[ 0  1  2  3  4 10 10 10  8  9]\n"
     ]
    }
   ],
   "source": [
    "a[5:8] = 10\n",
    "print(a)"
   ]
  },
  {
   "cell_type": "markdown",
   "id": "19a56361",
   "metadata": {},
   "source": [
    "### indexing과 slicing 차이\n",
    "- indexing을 사용하면 항상 차원이 감소, 반면에 slicing을 하면 차원이 유지"
   ]
  },
  {
   "cell_type": "code",
   "execution_count": 59,
   "id": "c7eca6f1",
   "metadata": {},
   "outputs": [
    {
     "name": "stdout",
     "output_type": "stream",
     "text": [
      "[ 1  2  3  4  5  6  7  8  9 10 11 12]\n",
      "(12,)\n",
      "1\n"
     ]
    }
   ],
   "source": [
    "b = np.arange(1, 13)\n",
    "print(b)\n",
    "print(b.shape)\n",
    "print(b.ndim)"
   ]
  },
  {
   "cell_type": "code",
   "execution_count": 60,
   "id": "6dfb1361",
   "metadata": {},
   "outputs": [
    {
     "name": "stdout",
     "output_type": "stream",
     "text": [
      "2 () 0\n",
      "[2] (1,) 1\n"
     ]
    }
   ],
   "source": [
    "indexing = b[1]\n",
    "slicing = b[1:2]\n",
    "print(indexing, indexing.shape, indexing.ndim)\n",
    "print(slicing, slicing.shape, slicing.ndim)"
   ]
  },
  {
   "cell_type": "code",
   "execution_count": 62,
   "id": "80f1d8fd",
   "metadata": {},
   "outputs": [
    {
     "name": "stdout",
     "output_type": "stream",
     "text": [
      "[[ 1  2  3  4]\n",
      " [ 5  6  7  8]\n",
      " [ 9 10 11 12]]\n",
      "(3, 4)\n",
      "2\n"
     ]
    }
   ],
   "source": [
    "b = b.reshape(3, 4)\n",
    "print(b)\n",
    "print(b.shape)\n",
    "print(b.ndim)"
   ]
  },
  {
   "cell_type": "code",
   "execution_count": 63,
   "id": "f464f059",
   "metadata": {},
   "outputs": [
    {
     "name": "stdout",
     "output_type": "stream",
     "text": [
      "[5 6 7 8] (4,) 1\n",
      "[[5 6 7 8]] (1, 4) 2\n"
     ]
    }
   ],
   "source": [
    "r1 = b[1, :]\n",
    "r2 = b[1:2, :]\n",
    "print(r1, r1.shape, r1.ndim)\n",
    "print(r2, r2.shape, r2.ndim)"
   ]
  },
  {
   "cell_type": "markdown",
   "id": "a9247b80",
   "metadata": {},
   "source": [
    "### slicing example"
   ]
  },
  {
   "cell_type": "code",
   "execution_count": 65,
   "id": "17db0336",
   "metadata": {},
   "outputs": [
    {
     "name": "stdout",
     "output_type": "stream",
     "text": [
      "[[[ 0  1  2  3]\n",
      "  [ 4  5  6  7]\n",
      "  [ 8  9 10 11]]\n",
      "\n",
      " [[12 13 14 15]\n",
      "  [16 17 18 19]\n",
      "  [20 21 22 23]]]\n",
      "(2, 3, 4)\n"
     ]
    }
   ],
   "source": [
    "c = np.arange(24).reshape(2, 3, 4)\n",
    "print(c)\n",
    "print(c.shape)"
   ]
  },
  {
   "cell_type": "code",
   "execution_count": 66,
   "id": "d54db90f",
   "metadata": {},
   "outputs": [
    {
     "name": "stdout",
     "output_type": "stream",
     "text": [
      "[[[ 0]\n",
      "  [ 4]\n",
      "  [ 8]]\n",
      "\n",
      " [[12]\n",
      "  [16]\n",
      "  [20]]]\n",
      "[[[ 0]\n",
      "  [ 4]\n",
      "  [ 8]]\n",
      "\n",
      " [[12]\n",
      "  [16]\n",
      "  [20]]]\n"
     ]
    }
   ],
   "source": [
    "print(c[:,:,:1])\n",
    "print(c[...,:1])"
   ]
  },
  {
   "cell_type": "code",
   "execution_count": 67,
   "id": "9a7fbfdd",
   "metadata": {},
   "outputs": [
    {
     "name": "stdout",
     "output_type": "stream",
     "text": [
      "[[[ 0  1  2  3]\n",
      "  [ 4  5  6  7]\n",
      "  [ 8  9 10 11]]]\n",
      "[[[ 0  1  2  3]\n",
      "  [ 4  5  6  7]\n",
      "  [ 8  9 10 11]]]\n"
     ]
    }
   ],
   "source": [
    "print(c[0:1])\n",
    "print(c[0::-1])"
   ]
  },
  {
   "cell_type": "markdown",
   "id": "fa04b438",
   "metadata": {},
   "source": [
    "### boolean indexing"
   ]
  },
  {
   "cell_type": "code",
   "execution_count": 68,
   "id": "b0f43c68",
   "metadata": {},
   "outputs": [
    {
     "name": "stdout",
     "output_type": "stream",
     "text": [
      "[[[ 0  1  2  3]\n",
      "  [ 4  5  6  7]\n",
      "  [ 8  9 10 11]]\n",
      "\n",
      " [[12 13 14 15]\n",
      "  [16 17 18 19]\n",
      "  [20 21 22 23]]]\n"
     ]
    }
   ],
   "source": [
    "print(c)"
   ]
  },
  {
   "cell_type": "code",
   "execution_count": 69,
   "id": "3e208d41",
   "metadata": {},
   "outputs": [
    {
     "name": "stdout",
     "output_type": "stream",
     "text": [
      "[[[False False False False]\n",
      "  [False False False False]\n",
      "  [False False False  True]]\n",
      "\n",
      " [[ True  True  True  True]\n",
      "  [ True  True  True  True]\n",
      "  [ True  True  True  True]]]\n"
     ]
    }
   ],
   "source": [
    "bool_idx = (c > 10)\n",
    "print(bool_idx)"
   ]
  },
  {
   "cell_type": "code",
   "execution_count": 70,
   "id": "8c99f5f7",
   "metadata": {},
   "outputs": [
    {
     "name": "stdout",
     "output_type": "stream",
     "text": [
      "[11 12 13 14 15 16 17 18 19 20 21 22 23]\n"
     ]
    }
   ],
   "source": [
    "print(c[bool_idx])"
   ]
  },
  {
   "cell_type": "code",
   "execution_count": 71,
   "id": "9b5697b8",
   "metadata": {},
   "outputs": [
    {
     "name": "stdout",
     "output_type": "stream",
     "text": [
      "[[[ 0  1  2  3]\n",
      "  [ 4  5  6  7]\n",
      "  [ 8  9 10 -1]]\n",
      "\n",
      " [[-1 -1 -1 -1]\n",
      "  [-1 -1 -1 -1]\n",
      "  [-1 -1 -1 -1]]]\n"
     ]
    }
   ],
   "source": [
    "c[c>10] = -1\n",
    "print(c)"
   ]
  },
  {
   "cell_type": "markdown",
   "id": "2232f965",
   "metadata": {},
   "source": [
    "### fancy indexing"
   ]
  },
  {
   "cell_type": "code",
   "execution_count": 75,
   "id": "551c848c",
   "metadata": {},
   "outputs": [
    {
     "name": "stdout",
     "output_type": "stream",
     "text": [
      "[[0]\n",
      " [1]\n",
      " [2]\n",
      " [3]\n",
      " [4]\n",
      " [5]\n",
      " [6]\n",
      " [7]] (8, 1)\n"
     ]
    }
   ],
   "source": [
    "d = np.arange(8).reshape(8,-1)\n",
    "print(d, d.shape)"
   ]
  },
  {
   "cell_type": "code",
   "execution_count": 76,
   "id": "d087e2da",
   "metadata": {},
   "outputs": [
    {
     "name": "stdout",
     "output_type": "stream",
     "text": [
      "[[0 0 0 0]\n",
      " [1 1 1 1]\n",
      " [2 2 2 2]\n",
      " [3 3 3 3]\n",
      " [4 4 4 4]\n",
      " [5 5 5 5]\n",
      " [6 6 6 6]\n",
      " [7 7 7 7]] (8, 4)\n"
     ]
    }
   ],
   "source": [
    "d = np.hstack((d, d, d, d))\n",
    "print(d, d.shape)"
   ]
  },
  {
   "cell_type": "code",
   "execution_count": 77,
   "id": "500fca35",
   "metadata": {},
   "outputs": [
    {
     "name": "stdout",
     "output_type": "stream",
     "text": [
      "[[3 3 3 3]\n",
      " [5 5 5 5]\n",
      " [7 7 7 7]\n",
      " [0 0 0 0]]\n"
     ]
    }
   ],
   "source": [
    "print(d[[3, 5, 7, 0]])"
   ]
  },
  {
   "cell_type": "code",
   "execution_count": 78,
   "id": "329a14e2",
   "metadata": {},
   "outputs": [
    {
     "name": "stdout",
     "output_type": "stream",
     "text": [
      "[[5 5 5 5]\n",
      " [3 3 3 3]\n",
      " [1 1 1 1]]\n"
     ]
    }
   ],
   "source": [
    "print(d[[-3,-5,-7]])"
   ]
  },
  {
   "cell_type": "code",
   "execution_count": 79,
   "id": "85f0f6b5",
   "metadata": {},
   "outputs": [
    {
     "name": "stdout",
     "output_type": "stream",
     "text": [
      "[[ 0  1  2  3]\n",
      " [ 4  5  6  7]\n",
      " [ 8  9 10 11]\n",
      " [12 13 14 15]\n",
      " [16 17 18 19]\n",
      " [20 21 22 23]\n",
      " [24 25 26 27]\n",
      " [28 29 30 31]] (8, 4)\n"
     ]
    }
   ],
   "source": [
    "e = np.arange(32).reshape(8,4)\n",
    "print(e, e.shape)"
   ]
  },
  {
   "cell_type": "code",
   "execution_count": 80,
   "id": "6545a6bd",
   "metadata": {},
   "outputs": [
    {
     "name": "stdout",
     "output_type": "stream",
     "text": [
      "[[ 4  5  6  7]\n",
      " [20 21 22 23]\n",
      " [28 29 30 31]\n",
      " [ 8  9 10 11]]\n"
     ]
    }
   ],
   "source": [
    "print(e[[1,5,7,2]])"
   ]
  },
  {
   "cell_type": "code",
   "execution_count": 83,
   "id": "56e58104",
   "metadata": {},
   "outputs": [
    {
     "name": "stdout",
     "output_type": "stream",
     "text": [
      "[ 4 23 29 10]\n"
     ]
    }
   ],
   "source": [
    "print(e[[1,5,7,2], [0,3,1,2]])"
   ]
  },
  {
   "cell_type": "code",
   "execution_count": 85,
   "id": "bd897a0a",
   "metadata": {},
   "outputs": [
    {
     "name": "stdout",
     "output_type": "stream",
     "text": [
      "[[ 4  7  5  6]\n",
      " [20 23 21 22]\n",
      " [28 31 29 30]\n",
      " [ 8 11  9 10]]\n"
     ]
    }
   ],
   "source": [
    "print(e[[1,5,7,2]][:, [0,3,1,2]])"
   ]
  },
  {
   "cell_type": "markdown",
   "id": "eb4aacd8",
   "metadata": {},
   "source": [
    "### Transpose"
   ]
  },
  {
   "cell_type": "code",
   "execution_count": 88,
   "id": "6651f701",
   "metadata": {},
   "outputs": [
    {
     "name": "stdout",
     "output_type": "stream",
     "text": [
      "[[[ 0  1  2  3]\n",
      "  [ 4  5  6  7]]\n",
      "\n",
      " [[ 8  9 10 11]\n",
      "  [12 13 14 15]]] (2, 2, 4)\n"
     ]
    }
   ],
   "source": [
    "f = np.arange(16).reshape(2,2,4)\n",
    "print(f, f.shape)"
   ]
  },
  {
   "cell_type": "code",
   "execution_count": 93,
   "id": "a54f47b4",
   "metadata": {},
   "outputs": [
    {
     "name": "stdout",
     "output_type": "stream",
     "text": [
      "[[[ 0  1  2  3]\n",
      "  [ 8  9 10 11]]\n",
      "\n",
      " [[ 4  5  6  7]\n",
      "  [12 13 14 15]]] (2, 2, 4)\n"
     ]
    }
   ],
   "source": [
    "print(f.transpose(1,0,2), f.transpose(1,0,2).shape)"
   ]
  },
  {
   "cell_type": "code",
   "execution_count": 94,
   "id": "62cf9378",
   "metadata": {},
   "outputs": [
    {
     "name": "stdout",
     "output_type": "stream",
     "text": [
      "[[[ 0  8]\n",
      "  [ 4 12]]\n",
      "\n",
      " [[ 1  9]\n",
      "  [ 5 13]]\n",
      "\n",
      " [[ 2 10]\n",
      "  [ 6 14]]\n",
      "\n",
      " [[ 3 11]\n",
      "  [ 7 15]]] (4, 2, 2)\n"
     ]
    }
   ],
   "source": [
    "print(f.transpose(2, 1, 0), f.transpose(2, 1, 0).shape)"
   ]
  },
  {
   "cell_type": "markdown",
   "id": "bb600f58",
   "metadata": {},
   "source": [
    "### numpy 연산"
   ]
  },
  {
   "cell_type": "code",
   "execution_count": 3,
   "id": "e1ab69ed",
   "metadata": {},
   "outputs": [
    {
     "name": "stdout",
     "output_type": "stream",
     "text": [
      "[[1. 2.]\n",
      " [3. 4.]]\n",
      "[[5. 6.]\n",
      " [7. 8.]]\n"
     ]
    }
   ],
   "source": [
    "x = np.array([[1,2], [3,4]], dtype=np.float64)\n",
    "y = np.array([[5,6], [7,8]], dtype=np.float64)\n",
    "print(x)\n",
    "print(y)"
   ]
  },
  {
   "cell_type": "code",
   "execution_count": 4,
   "id": "5ecbf281",
   "metadata": {},
   "outputs": [
    {
     "name": "stdout",
     "output_type": "stream",
     "text": [
      "[[ 6.  8.]\n",
      " [10. 12.]]\n",
      "[[ 6.  8.]\n",
      " [10. 12.]]\n"
     ]
    }
   ],
   "source": [
    "print(x + y)\n",
    "print(np.add(x, y))"
   ]
  },
  {
   "cell_type": "code",
   "execution_count": 5,
   "id": "f57e30fa",
   "metadata": {},
   "outputs": [
    {
     "name": "stdout",
     "output_type": "stream",
     "text": [
      "[[-4. -4.]\n",
      " [-4. -4.]]\n",
      "[[-4. -4.]\n",
      " [-4. -4.]]\n"
     ]
    }
   ],
   "source": [
    "print(x - y)\n",
    "print(np.subtract(x, y))"
   ]
  },
  {
   "cell_type": "code",
   "execution_count": 6,
   "id": "75e3f6f8",
   "metadata": {},
   "outputs": [
    {
     "name": "stdout",
     "output_type": "stream",
     "text": [
      "[[ 5. 12.]\n",
      " [21. 32.]]\n",
      "[[ 5. 12.]\n",
      " [21. 32.]]\n"
     ]
    }
   ],
   "source": [
    "print(x * y)\n",
    "print(np.multiply(x, y))"
   ]
  },
  {
   "cell_type": "code",
   "execution_count": 7,
   "id": "48067076",
   "metadata": {},
   "outputs": [
    {
     "name": "stdout",
     "output_type": "stream",
     "text": [
      "[[0.2        0.33333333]\n",
      " [0.42857143 0.5       ]]\n",
      "[[0.2        0.33333333]\n",
      " [0.42857143 0.5       ]]\n"
     ]
    }
   ],
   "source": [
    "print(x / y)\n",
    "print(np.divide(x, y))"
   ]
  },
  {
   "cell_type": "code",
   "execution_count": 8,
   "id": "c3ac9eae",
   "metadata": {},
   "outputs": [
    {
     "name": "stdout",
     "output_type": "stream",
     "text": [
      "[[19. 22.]\n",
      " [43. 50.]]\n",
      "[[19. 22.]\n",
      " [43. 50.]]\n"
     ]
    }
   ],
   "source": [
    "# 행렬의 곱\n",
    "print(x @ y)\n",
    "print(np.matmul(x, y))"
   ]
  },
  {
   "cell_type": "code",
   "execution_count": 10,
   "id": "1f2982bd",
   "metadata": {},
   "outputs": [
    {
     "name": "stdout",
     "output_type": "stream",
     "text": [
      "[[ 1  2  3  4  5]\n",
      " [ 6  7  8  9 10]]\n"
     ]
    }
   ],
   "source": [
    "z = np.arange(1, 11).reshape(2,5)\n",
    "print(z)"
   ]
  },
  {
   "cell_type": "code",
   "execution_count": 11,
   "id": "050cf6ad",
   "metadata": {},
   "outputs": [
    {
     "name": "stdout",
     "output_type": "stream",
     "text": [
      "55\n"
     ]
    }
   ],
   "source": [
    "print(np.sum(z))"
   ]
  },
  {
   "cell_type": "code",
   "execution_count": 13,
   "id": "ca715bcf",
   "metadata": {},
   "outputs": [
    {
     "name": "stdout",
     "output_type": "stream",
     "text": [
      "[ 7  9 11 13 15] (5,)\n",
      "[15 40] (2,)\n",
      "[15 40] (2,)\n"
     ]
    }
   ],
   "source": [
    "sum1 = np.sum(z, axis=0)\n",
    "sum2 = np.sum(z, axis=1)\n",
    "sum3 = np.sum(z, axis=-1)\n",
    "print(sum1, sum1.shape)\n",
    "print(sum2, sum2.shape)\n",
    "print(sum3, sum3.shape)"
   ]
  },
  {
   "cell_type": "markdown",
   "id": "ff0d73b7",
   "metadata": {},
   "source": [
    "- 축(axis)은 각 배열의 차원에 해당하는 index입니다.  \n",
    "- axis=0에 대하여 sum을 하라는 것은 0번 축 혹은 차원이 없어지는 방향으로 원소들을 모두 더하라는 이야기입니다.  \n",
    "- 위의 예에서 sum1의 경우 열의 합, sum2의 경우 행의 합을 구하는 연산을 하라는 의미"
   ]
  },
  {
   "cell_type": "code",
   "execution_count": 14,
   "id": "d5f75127",
   "metadata": {},
   "outputs": [
    {
     "name": "stdout",
     "output_type": "stream",
     "text": [
      "[ 7  9 11 13 15]\n"
     ]
    }
   ],
   "source": [
    "print(z[0,:]+z[1,:])"
   ]
  },
  {
   "cell_type": "code",
   "execution_count": 15,
   "id": "db29b07e",
   "metadata": {},
   "outputs": [
    {
     "name": "stdout",
     "output_type": "stream",
     "text": [
      "[15 40]\n"
     ]
    }
   ],
   "source": [
    "print(z[:,0]+z[:,1]+z[:,2]+z[:,3]+z[:,4])"
   ]
  },
  {
   "cell_type": "markdown",
   "id": "6719674c",
   "metadata": {},
   "source": [
    "### Broadcasting\n",
    "- broadcasting은 numpy가 산술 연산을 시행할 때 다른 모양의 배열로 작업할 수 있게 해주는 강력한 메커니즘\n",
    "- 더 작은 배열과 더 큰 배열이 있을 때 더 작은 배열을 여러 번 사용하여 더 큰 배열에서 어떠한 연산을 수행\n",
    "- 예) 행렬의 각 행에 상수 벡터를 추가하는 경우"
   ]
  },
  {
   "cell_type": "code",
   "execution_count": 16,
   "id": "7f4320ee",
   "metadata": {},
   "outputs": [
    {
     "name": "stdout",
     "output_type": "stream",
     "text": [
      "[[ 1  2  3]\n",
      " [ 4  5  6]\n",
      " [ 7  8  9]\n",
      " [10 11 12]] (4, 3)\n",
      "[1 0 2] (3,)\n"
     ]
    }
   ],
   "source": [
    "x = np.array([[1,2,3], [4,5,6], [7,8,9], [10,11,12]])\n",
    "y = np.array([1,0,2])\n",
    "print(x, x.shape)\n",
    "print(y, y.shape)"
   ]
  },
  {
   "cell_type": "code",
   "execution_count": 17,
   "id": "3090d9ce",
   "metadata": {},
   "outputs": [
    {
     "name": "stdout",
     "output_type": "stream",
     "text": [
      "[[ 2  2  5]\n",
      " [ 5  5  8]\n",
      " [ 8  8 11]\n",
      " [11 11 14]] (4, 3)\n"
     ]
    }
   ],
   "source": [
    "z = x + y\n",
    "print(z, z.shape)"
   ]
  },
  {
   "cell_type": "code",
   "execution_count": 18,
   "id": "37c8657e",
   "metadata": {},
   "outputs": [
    {
     "name": "stdout",
     "output_type": "stream",
     "text": [
      "[[1 2 3]] (1, 3)\n",
      "[[4 5]] (1, 2)\n"
     ]
    }
   ],
   "source": [
    "x = np.array([1, 2, 3]).reshape(1, 3)\n",
    "y = np.array([4, 5]).reshape(1, 2)\n",
    "print(x, x.shape)\n",
    "print(y, y.shape)"
   ]
  },
  {
   "cell_type": "code",
   "execution_count": 19,
   "id": "72409ce6",
   "metadata": {},
   "outputs": [
    {
     "ename": "ValueError",
     "evalue": "operands could not be broadcast together with shapes (1,3) (1,2) ",
     "output_type": "error",
     "traceback": [
      "\u001b[1;31m---------------------------------------------------------------------------\u001b[0m",
      "\u001b[1;31mValueError\u001b[0m                                Traceback (most recent call last)",
      "\u001b[1;32mC:\\Users\\Public\\Documents\\ESTsoft\\CreatorTemp/ipykernel_22644/3714032286.py\u001b[0m in \u001b[0;36m<module>\u001b[1;34m\u001b[0m\n\u001b[1;32m----> 1\u001b[1;33m \u001b[0mprint\u001b[0m\u001b[1;33m(\u001b[0m\u001b[0mx\u001b[0m \u001b[1;33m+\u001b[0m \u001b[0my\u001b[0m\u001b[1;33m)\u001b[0m\u001b[1;33m\u001b[0m\u001b[1;33m\u001b[0m\u001b[0m\n\u001b[0m\u001b[0;32m      2\u001b[0m \u001b[1;31m# 브로드캐스팅 조건에 맞지 않음\u001b[0m\u001b[1;33m\u001b[0m\u001b[1;33m\u001b[0m\u001b[0m\n",
      "\u001b[1;31mValueError\u001b[0m: operands could not be broadcast together with shapes (1,3) (1,2) "
     ]
    }
   ],
   "source": [
    "print(x + y)\n",
    "# 브로드캐스팅 조건에 맞지 않음"
   ]
  },
  {
   "cell_type": "code",
   "execution_count": 26,
   "id": "69d331ad",
   "metadata": {},
   "outputs": [
    {
     "name": "stdout",
     "output_type": "stream",
     "text": [
      "[[4]\n",
      " [5]] (2, 1)\n"
     ]
    }
   ],
   "source": [
    "y = y.transpose(1, 0)\n",
    "print(y, y.shape)"
   ]
  },
  {
   "cell_type": "code",
   "execution_count": 27,
   "id": "c28908a8",
   "metadata": {},
   "outputs": [
    {
     "name": "stdout",
     "output_type": "stream",
     "text": [
      "[[5 6 7]\n",
      " [6 7 8]]\n"
     ]
    }
   ],
   "source": [
    "print(x + y)"
   ]
  },
  {
   "cell_type": "markdown",
   "id": "ed64fad2",
   "metadata": {},
   "source": [
    "### shape 변경"
   ]
  },
  {
   "cell_type": "code",
   "execution_count": 32,
   "id": "315a0630",
   "metadata": {},
   "outputs": [
    {
     "name": "stdout",
     "output_type": "stream",
     "text": [
      "[[[ 0  1  2  3]\n",
      "  [ 4  5  6  7]\n",
      "  [ 8  9 10 11]]\n",
      "\n",
      " [[12 13 14 15]\n",
      "  [16 17 18 19]\n",
      "  [20 21 22 23]]] (2, 3, 4)\n"
     ]
    }
   ],
   "source": [
    "a = np.arange(24).reshape(2, 3, 4)\n",
    "print(a, a.shape)"
   ]
  },
  {
   "cell_type": "code",
   "execution_count": 33,
   "id": "867279f4",
   "metadata": {},
   "outputs": [
    {
     "name": "stdout",
     "output_type": "stream",
     "text": [
      "[[ 0  1  2  3  4  5]\n",
      " [ 6  7  8  9 10 11]\n",
      " [12 13 14 15 16 17]\n",
      " [18 19 20 21 22 23]] (4, 6)\n"
     ]
    }
   ],
   "source": [
    "a = a.reshape(4, -1)\n",
    "print(a, a.shape)"
   ]
  },
  {
   "cell_type": "code",
   "execution_count": 34,
   "id": "76a88c22",
   "metadata": {},
   "outputs": [
    {
     "name": "stdout",
     "output_type": "stream",
     "text": [
      "[[[ 0]\n",
      "  [ 1]\n",
      "  [ 2]\n",
      "  [ 3]\n",
      "  [ 4]\n",
      "  [ 5]]\n",
      "\n",
      " [[ 6]\n",
      "  [ 7]\n",
      "  [ 8]\n",
      "  [ 9]\n",
      "  [10]\n",
      "  [11]]\n",
      "\n",
      " [[12]\n",
      "  [13]\n",
      "  [14]\n",
      "  [15]\n",
      "  [16]\n",
      "  [17]]\n",
      "\n",
      " [[18]\n",
      "  [19]\n",
      "  [20]\n",
      "  [21]\n",
      "  [22]\n",
      "  [23]]] (4, 6, 1)\n"
     ]
    }
   ],
   "source": [
    "a = a[..., np.newaxis]\n",
    "print(a, a.shape)"
   ]
  },
  {
   "cell_type": "code",
   "execution_count": 39,
   "id": "f8bc1425",
   "metadata": {},
   "outputs": [
    {
     "name": "stdout",
     "output_type": "stream",
     "text": [
      "[[[ 0  1  2  3  4  5]\n",
      "  [ 6  7  8  9 10 11]\n",
      "  [12 13 14 15 16 17]\n",
      "  [18 19 20 21 22 23]]] (1, 4, 6)\n"
     ]
    }
   ],
   "source": [
    "a = a.reshape(4, 6)\n",
    "a = np.expand_dims(a, axis=0)\n",
    "print(a, a.shape)"
   ]
  },
  {
   "cell_type": "code",
   "execution_count": 40,
   "id": "ee506c4e",
   "metadata": {},
   "outputs": [
    {
     "name": "stdout",
     "output_type": "stream",
     "text": [
      "[[[ 0  1  2  3  4  5]\n",
      "  [ 6  7  8  9 10 11]\n",
      "  [12 13 14 15 16 17]\n",
      "  [18 19 20 21 22 23]]] (1, 4, 6)\n"
     ]
    }
   ],
   "source": [
    "b = a.copy()\n",
    "print(b, b.shape)"
   ]
  },
  {
   "cell_type": "code",
   "execution_count": 41,
   "id": "0b6832ed",
   "metadata": {},
   "outputs": [
    {
     "name": "stdout",
     "output_type": "stream",
     "text": [
      "[[[ 0  1  2  3  4  5  0  1  2  3  4  5]\n",
      "  [ 6  7  8  9 10 11  6  7  8  9 10 11]\n",
      "  [12 13 14 15 16 17 12 13 14 15 16 17]\n",
      "  [18 19 20 21 22 23 18 19 20 21 22 23]]] (1, 4, 12)\n"
     ]
    }
   ],
   "source": [
    "c = np.concatenate((a,b), axis=-1)\n",
    "print(c, c.shape)"
   ]
  },
  {
   "cell_type": "code",
   "execution_count": 42,
   "id": "2c51292d",
   "metadata": {},
   "outputs": [
    {
     "name": "stdout",
     "output_type": "stream",
     "text": [
      "[[[ 0  1  2  3  4  5]\n",
      "  [ 6  7  8  9 10 11]\n",
      "  [12 13 14 15 16 17]\n",
      "  [18 19 20 21 22 23]]\n",
      "\n",
      " [[ 0  1  2  3  4  5]\n",
      "  [ 6  7  8  9 10 11]\n",
      "  [12 13 14 15 16 17]\n",
      "  [18 19 20 21 22 23]]] (2, 4, 6)\n"
     ]
    }
   ],
   "source": [
    "c = np.concatenate((a,b), axis=0)\n",
    "print(c, c.shape)"
   ]
  },
  {
   "cell_type": "code",
   "execution_count": 43,
   "id": "9ab6ff32",
   "metadata": {},
   "outputs": [
    {
     "name": "stdout",
     "output_type": "stream",
     "text": [
      "[[[[ 0  0]\n",
      "   [ 1  1]\n",
      "   [ 2  2]\n",
      "   [ 3  3]\n",
      "   [ 4  4]\n",
      "   [ 5  5]]\n",
      "\n",
      "  [[ 6  6]\n",
      "   [ 7  7]\n",
      "   [ 8  8]\n",
      "   [ 9  9]\n",
      "   [10 10]\n",
      "   [11 11]]\n",
      "\n",
      "  [[12 12]\n",
      "   [13 13]\n",
      "   [14 14]\n",
      "   [15 15]\n",
      "   [16 16]\n",
      "   [17 17]]\n",
      "\n",
      "  [[18 18]\n",
      "   [19 19]\n",
      "   [20 20]\n",
      "   [21 21]\n",
      "   [22 22]\n",
      "   [23 23]]]] (1, 4, 6, 2)\n"
     ]
    }
   ],
   "source": [
    "# concat은 차원이 유지되지만 stack은 차원이 추가됨\n",
    "d = np.stack((a,b), axis=-1)\n",
    "print(d, d.shape)"
   ]
  },
  {
   "cell_type": "code",
   "execution_count": 44,
   "id": "b82cf6ce",
   "metadata": {},
   "outputs": [
    {
     "name": "stdout",
     "output_type": "stream",
     "text": [
      "[[[[ 0  1  2  3  4  5]\n",
      "   [ 6  7  8  9 10 11]\n",
      "   [12 13 14 15 16 17]\n",
      "   [18 19 20 21 22 23]]]\n",
      "\n",
      "\n",
      " [[[ 0  1  2  3  4  5]\n",
      "   [ 6  7  8  9 10 11]\n",
      "   [12 13 14 15 16 17]\n",
      "   [18 19 20 21 22 23]]]] (2, 1, 4, 6)\n"
     ]
    }
   ],
   "source": [
    "d = np.stack((a,b), axis=0)\n",
    "print(d, d.shape)"
   ]
  }
 ],
 "metadata": {
  "kernelspec": {
   "display_name": "Python 3 (ipykernel)",
   "language": "python",
   "name": "python3"
  },
  "language_info": {
   "codemirror_mode": {
    "name": "ipython",
    "version": 3
   },
   "file_extension": ".py",
   "mimetype": "text/x-python",
   "name": "python",
   "nbconvert_exporter": "python",
   "pygments_lexer": "ipython3",
   "version": "3.9.7"
  }
 },
 "nbformat": 4,
 "nbformat_minor": 5
}
