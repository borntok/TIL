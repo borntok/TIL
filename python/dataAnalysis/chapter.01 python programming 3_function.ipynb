{
 "cells": [
  {
   "cell_type": "markdown",
   "metadata": {},
   "source": [
    "## 학습 목표\n",
    "1. 함수의 이해\n",
    "2. 함수 구현 및 사용 숙지"
   ]
  },
  {
   "cell_type": "markdown",
   "metadata": {},
   "source": [
    "## 함수?\n",
    "- 지금까지 무심코 코드에서 사용된 수많은 함수들이 존재 합니다.\n",
    "- 예를 들면 sum, len, range 같은 함수 등이 있죠\n",
    "- 함수란 우리가 알고 있는 개념처럼 주어진 입력(input)에 대해서 의도된 출력(output)를 전달하는 역할을 합니다.\n",
    "- 그렇다면 하나씩 살펴보겠습니다\n",
    "\n",
    "> range 함수는 정수를 입력으로 전달하면 [0, 정수) 로 이루어진 리스트를 생성하는 역할을 합니다. \n",
    "\n",
    "> sum 함수는 리스트, 튜플 등을 입력으로 전달하면 전체 아이템의 합을 출력으로 전달하는 역할을 합니다.\n",
    "\n",
    "> len 함수는 리스트, 튜플 등을 입력으로 전달하면 아이템의 개수를 출력으로 전달하는 역할을 합니다.\n",
    "\n",
    "- 그리고, 위의 함수들은 모두 python 내부에 이미 정의(구현)이 되어 있습니다.\n",
    "- 위와 같은 함수를 내장함수(built-in fuction)이라고 합니다."
   ]
  },
  {
   "cell_type": "code",
   "execution_count": 5,
   "metadata": {},
   "outputs": [
    {
     "name": "stdout",
     "output_type": "stream",
     "text": [
      "4\n",
      "10\n"
     ]
    }
   ],
   "source": [
    "# 내장함수의 예\n",
    "a = list(range(1, 5))\n",
    "\n",
    "length = len(a)\n",
    "print(length)\n",
    "\n",
    "summation = sum(a)\n",
    "print(summation)"
   ]
  },
  {
   "cell_type": "markdown",
   "metadata": {},
   "source": [
    "**함수의 정의**\n",
    "- 정의 시 최초에 def 키워드 사용\n",
    "- argument 정의 (함수에 입력으로 전달하는 값을 의미, argument 또는 parameter라고 함)\n",
    "- : (콜론) -> 함수 역시 코드 블록이기 때문에 콜론(:) 필요\n",
    "- body(함수의 구현 부분, 함수 역시 코드 블록이기 때문에 들여쓰기가 된 부분까지 함수의 코드블록으로 인지함)\n",
    " - 함수를 호출한 코드 (caller)로 함수가 해당 기능을 수행하고 완료된 값(output)을 전달하기 위해 return 키워드 사용\n",
    " - 즉, return 이후에 오는 값을 caller로 전달\n",
    "- 함수의 네이밍 역시 중요\n",
    " - 즉, 어떤 기능을 하는 함수인지 이름으로 최대한 나타날 수 있게 해야함\n",
    " - e.g) get_a (x), get_student_name (O)"
   ]
  },
  {
   "cell_type": "code",
   "execution_count": 6,
   "metadata": {},
   "outputs": [],
   "source": [
    "def add(x, y) :\n",
    "    n = x + y\n",
    "    return n"
   ]
  },
  {
   "cell_type": "code",
   "execution_count": 8,
   "metadata": {},
   "outputs": [
    {
     "name": "stdout",
     "output_type": "stream",
     "text": [
      "330\n"
     ]
    }
   ],
   "source": [
    "c = add(30, 300)\n",
    "print(c)"
   ]
  },
  {
   "cell_type": "markdown",
   "metadata": {},
   "source": [
    "**함수의 사용(호출)**\n",
    "- 함수명(파라미터1, 파라미터2, ..., 파라미터n)\n",
    "- 위와 같이 정의된 함수의 이름과 전달되는 parameter(인자)를 괄호 안에 전달하여 함수를 호출\n",
    "- 함수가 호출되면 실행의 흐름이 호출자(caller)에서 함수(callee)로 변경됨\n",
    "- 함수의 입력(input), 파라미터(parameter), 아규먼트(argument)라고도 함"
   ]
  },
  {
   "cell_type": "markdown",
   "metadata": {},
   "source": [
    "**함수 네이밍(naming)**\n",
    "- 함수의 이름으로부터 기능이 명시\n",
    "- 의미와 반대되거나 맞지 않는 이름은 사용 금지"
   ]
  },
  {
   "cell_type": "code",
   "execution_count": 11,
   "metadata": {},
   "outputs": [
    {
     "name": "stdout",
     "output_type": "stream",
     "text": [
      "1\n"
     ]
    },
    {
     "data": {
      "text/plain": [
       "1"
      ]
     },
     "metadata": {},
     "output_type": "display_data"
    }
   ],
   "source": [
    "def substract(x, y) :\n",
    "    sub = x - y\n",
    "    return sub\n",
    "\n",
    "print(substract(4, 3))\n",
    "display(substract(4, 3))"
   ]
  },
  {
   "cell_type": "markdown",
   "metadata": {},
   "source": [
    "**parameter(argument) (인자)**\n",
    "- 함수에 전달되는 입력(input)\n",
    "- 입력이 필요하지 않을 수도, 1개의 입력만 있을 수도, 여러 개의 입력이 존재할 수도 있음\n",
    "- 파라미터로 int, string, float, boolm, list, dict 등 어떤 파이썬 객체도 전달 가능\n",
    "- 심지어 함수도 함수의 파라미터로 전달 가능\n",
    "- python의 경우 타입 명시가 없기 때문에 함수 생성 시 의도된 파라미터의 타입에 맞게 입력을 전달하는 것이 중요\n",
    "- 또한 파라미터를 전달할 때, 정의된 순서에 따라 값을 전달하는 것이 중요"
   ]
  },
  {
   "cell_type": "code",
   "execution_count": 12,
   "metadata": {},
   "outputs": [
    {
     "name": "stdout",
     "output_type": "stream",
     "text": [
      "haha\n",
      "good\n",
      "100\n"
     ]
    }
   ],
   "source": [
    "def test() :\n",
    "    print('haha')\n",
    "    print('good')\n",
    "    return 100\n",
    "\n",
    "a = test()\n",
    "print(a)"
   ]
  },
  {
   "cell_type": "code",
   "execution_count": 13,
   "metadata": {},
   "outputs": [
    {
     "name": "stdout",
     "output_type": "stream",
     "text": [
      "10 20\n",
      "30\n"
     ]
    }
   ],
   "source": [
    "def test(x, y) :\n",
    "    print(x, y)\n",
    "    n = x + y\n",
    "    return n\n",
    "\n",
    "a = test(10, 20)\n",
    "print(a)"
   ]
  },
  {
   "cell_type": "markdown",
   "metadata": {},
   "source": [
    "**Default parameter (기본 인자)**\n",
    "- 함수의 파라미터에 기본값 지정 가능\n",
    "- 파라미터를 명시하는 않을 경우, 지정된 기본값으로 대체"
   ]
  },
  {
   "cell_type": "code",
   "execution_count": 14,
   "metadata": {},
   "outputs": [
    {
     "name": "stdout",
     "output_type": "stream",
     "text": [
      "35\n"
     ]
    }
   ],
   "source": [
    "def add(x, y, z = 5) :\n",
    "    a = x + y + z\n",
    "    return a\n",
    "\n",
    "print(add(10, 20))"
   ]
  },
  {
   "cell_type": "code",
   "execution_count": 15,
   "metadata": {},
   "outputs": [
    {
     "name": "stdout",
     "output_type": "stream",
     "text": [
      "13\n"
     ]
    }
   ],
   "source": [
    "def add(x, y = 10, z = 5) :\n",
    "    a = x + y + z\n",
    "    return a\n",
    "\n",
    "print(add(10, 1, 2))"
   ]
  },
  {
   "cell_type": "markdown",
   "metadata": {},
   "source": [
    "- **기본 파라미터의 예**\n",
    " - print 함수\n",
    "   - seq, end, file등 여러 기본 파라미터를 가짐"
   ]
  },
  {
   "cell_type": "code",
   "execution_count": 4,
   "metadata": {},
   "outputs": [
    {
     "name": "stdout",
     "output_type": "stream",
     "text": [
      "1!2!3%%%2 3 4\n"
     ]
    }
   ],
   "source": [
    "print(1, 2, 3, sep = '!', end = '%%%')\n",
    "print(2, 3, 4)"
   ]
  },
  {
   "cell_type": "markdown",
   "metadata": {},
   "source": [
    "**Default parameter 사용시 주의점**\n",
    "- 디폴트 파라미터 뒤에 일반 파라미터가 위치할 수 없음\n",
    "- e.g) 올바른 예\n",
    " > def test(a, b, c = 1)\n",
    "\n",
    " > def test(a, b = 1, c = 2)\n",
    "\n",
    " > def test(a = 1, b = 1, c = 3)\n",
    "- e.g ) 올바르지 않은 예\n",
    " > def test(a, b = 1, c)\n",
    "\n",
    " > def test(a = 1, b, c)\n",
    " \n",
    " > def test(a = 1, b = 1, c)"
   ]
  },
  {
   "cell_type": "code",
   "execution_count": 5,
   "metadata": {},
   "outputs": [
    {
     "ename": "SyntaxError",
     "evalue": "non-default argument follows default argument (<ipython-input-5-77e649be03e7>, line 1)",
     "output_type": "error",
     "traceback": [
      "\u001b[1;36m  File \u001b[1;32m\"<ipython-input-5-77e649be03e7>\"\u001b[1;36m, line \u001b[1;32m1\u001b[0m\n\u001b[1;33m    def test(a, b = 3, c) :\u001b[0m\n\u001b[1;37m            ^\u001b[0m\n\u001b[1;31mSyntaxError\u001b[0m\u001b[1;31m:\u001b[0m non-default argument follows default argument\n"
     ]
    }
   ],
   "source": [
    "def test(a, b = 3, c) :\n",
    "    print(a, b, c)\n",
    "\n",
    "test(10, 20, 30)"
   ]
  },
  {
   "cell_type": "markdown",
   "metadata": {},
   "source": [
    "**keyword parameter (키워드 파라미터)**\n",
    "- 파이썬의 경우 파라미터에 값을 전달할 때, 파라미터의 이름을 명시하여 전달 가능\n",
    "- 파라미터 이름을 사용하지 않을 경우 기본적으로 순서에 맞게 전달"
   ]
  },
  {
   "cell_type": "code",
   "execution_count": 6,
   "metadata": {},
   "outputs": [
    {
     "data": {
      "text/plain": [
       "62"
      ]
     },
     "execution_count": 6,
     "metadata": {},
     "output_type": "execute_result"
    }
   ],
   "source": [
    "def test(x, y, z) :\n",
    "    a = x + y + z\n",
    "    return a\n",
    "\n",
    "test(x = 10, z = 2, y = 50)"
   ]
  },
  {
   "cell_type": "markdown",
   "metadata": {},
   "source": [
    "**return (리턴)**\n",
    "- 기본적으로 함수의 종료를 명시\n",
    " - return 옆에 값이나 수식이 있다면 해당 값을 호출자(caller)에게 반환(전달)\n",
    " - return 만 존재하면 None 반환\n",
    " - return 이 없는 경우 기본적으로 함수 코드 블록이 종료되면서 종료로 간주. 이때도 None 반환"
   ]
  },
  {
   "cell_type": "code",
   "execution_count": 8,
   "metadata": {},
   "outputs": [
    {
     "name": "stdout",
     "output_type": "stream",
     "text": [
      "15\n",
      "60\n"
     ]
    }
   ],
   "source": [
    "def weird_multiply(x, y) :\n",
    "    if x > 10 :\n",
    "        return x * y\n",
    "\n",
    "    return (x + 2) * y\n",
    "\n",
    "print(weird_multiply(1, 5))\n",
    "print(weird_multiply(12, 5))"
   ]
  },
  {
   "cell_type": "code",
   "execution_count": 12,
   "metadata": {},
   "outputs": [
    {
     "name": "stdout",
     "output_type": "stream",
     "text": [
      "None\n"
     ]
    }
   ],
   "source": [
    "def weird_multiply(x, y) :\n",
    "    if x > 10 :\n",
    "        return\n",
    "\n",
    "    return (x + 2) * y\n",
    "\n",
    "c = weird_multiply(12, 5)\n",
    "print(c)"
   ]
  },
  {
   "cell_type": "code",
   "execution_count": 13,
   "metadata": {},
   "outputs": [
    {
     "name": "stdout",
     "output_type": "stream",
     "text": [
      "None\n"
     ]
    }
   ],
   "source": [
    "def weird_multiply(x, y) :\n",
    "    if x > 10 :\n",
    "        return\n",
    "\n",
    "c = weird_multiply(2, 5)\n",
    "print(c)"
   ]
  },
  {
   "cell_type": "markdown",
   "metadata": {},
   "source": [
    "**multiple return (복수 값 반환)**\n",
    "- tuple 반환을 하여 복수 개의 값을 리턴 가능"
   ]
  },
  {
   "cell_type": "code",
   "execution_count": 15,
   "metadata": {},
   "outputs": [
    {
     "name": "stdout",
     "output_type": "stream",
     "text": [
      "<class 'tuple'>\n",
      "(23, 60) \n",
      "\n",
      "23 60\n"
     ]
    }
   ],
   "source": [
    "def add_mul(x, y) :\n",
    "    s = x + y\n",
    "    m = x * y\n",
    "    \n",
    "    return s, m\n",
    "\n",
    "c = add_mul(20, 3)\n",
    "print(type(c))\n",
    "print(c, '\\n')\n",
    "\n",
    "a, b = add_mul(20, 3)\n",
    "print(a, b)"
   ]
  },
  {
   "cell_type": "markdown",
   "metadata": {},
   "source": [
    "**variable scope (변수의 범위)**\n",
    "- 변수가 참조 가능한 코드상의 범위를 명시\n",
    "- 함수 내의 변수는 자신이 속한 코드 블록이 종료되면 소멸됨\n",
    "- 이렇게 특정 코드 블록에서 선언된 변수를 **지역변수(local variable)** 이라고 함\n",
    "- 반대로 가장 상단에서 정의되어 프로그램 종료 전까지 유지되는 변수를 **전역변수(global variable)** 이라고 함\n",
    "- 같은 이름의 지역변수와 전역변수가 존재할 경우, 지역변수의 우선순위가 더 높음"
   ]
  },
  {
   "cell_type": "code",
   "execution_count": 16,
   "metadata": {},
   "outputs": [
    {
     "name": "stdout",
     "output_type": "stream",
     "text": [
      "30 40\n",
      "10 20\n"
     ]
    }
   ],
   "source": [
    "num1 = 10\n",
    "num2 = 20\n",
    "\n",
    "def test(num1, num2) :\n",
    "    print(num1, num2)\n",
    "    return num1 + num2\n",
    "\n",
    "test(30, 40)\n",
    "print(num1, num2)"
   ]
  },
  {
   "cell_type": "markdown",
   "metadata": {},
   "source": [
    "**variable length argument (가변길이 인자)**\n",
    "- 전달되는 파라미터의 개수가 고정적이지 않은 경우 사용\n",
    "- e.g)\n",
    " - print 함수\n",
    " - format 함수\n",
    "\n",
    "> ***args**, **** kwargs**\n",
    "\n",
    "> ***args** : 파라미터를 튜플의 형태로 전달\n",
    "\n",
    "> ****kwargs** : 파라미터를 딕셔너리 형태로 전달(네임드 파라미터)"
   ]
  },
  {
   "cell_type": "code",
   "execution_count": 17,
   "metadata": {},
   "outputs": [
    {
     "name": "stdout",
     "output_type": "stream",
     "text": [
      "<class 'tuple'>\n"
     ]
    }
   ],
   "source": [
    "def test(*args) :\n",
    "    print(type(args))\n",
    "\n",
    "test(10, 20, 30)"
   ]
  },
  {
   "cell_type": "code",
   "execution_count": 19,
   "metadata": {},
   "outputs": [
    {
     "name": "stdout",
     "output_type": "stream",
     "text": [
      "10\n",
      "20\n",
      "30\n",
      "40\n",
      "50\n"
     ]
    }
   ],
   "source": [
    "def test(*args) :\n",
    "    for item in args :\n",
    "        print(item)\n",
    "        \n",
    "test(10, 20, 30, 40, 50)"
   ]
  },
  {
   "cell_type": "markdown",
   "metadata": {},
   "source": [
    "**keyword parameter (키워드 파라미터)**\n",
    "- **가 붙은 경우에는 키워드 파라미터로 인식\n",
    "- 함수 호출 시, 파라미터의 이름과 값을 함께 전달 가능"
   ]
  },
  {
   "cell_type": "code",
   "execution_count": 21,
   "metadata": {},
   "outputs": [
    {
     "name": "stdout",
     "output_type": "stream",
     "text": [
      "<class 'dict'>\n"
     ]
    }
   ],
   "source": [
    "def test2(**kwargs) :\n",
    "    print(type(kwargs))\n",
    "\n",
    "test2()"
   ]
  },
  {
   "cell_type": "code",
   "execution_count": 23,
   "metadata": {},
   "outputs": [
    {
     "name": "stdout",
     "output_type": "stream",
     "text": [
      "key: d , value: 4\n",
      "key: a , value: 1\n",
      "key: c , value: 3\n",
      "key: name , value: Bob\n",
      "key: b , value: 2\n"
     ]
    }
   ],
   "source": [
    "def test2(**kwargs) :\n",
    "    for key, value in kwargs.items():\n",
    "        print('key:', key, ', value:', value)\n",
    "        \n",
    "test2(a = 1, b = 2, c = 3, d = 4, name = 'Bob')"
   ]
  },
  {
   "cell_type": "markdown",
   "metadata": {},
   "source": [
    "- 가변길이 함수의 대표적인 예 **문자열 포맷 함수**\n",
    " - 여러가지 값과 포맷을 이용하여 문자열을 정의할 수 있는 함수\n",
    " - {} placeholder를 문자열 내에 위치 시킨 후, 해당 위치에 format 함수로 전달된 값으로 대체하여 문자열 생성\n",
    " - 포맷 구성은 다음 링크를 참조 : https://pyformat.info/"
   ]
  },
  {
   "cell_type": "code",
   "execution_count": 26,
   "metadata": {},
   "outputs": [
    {
     "name": "stdout",
     "output_type": "stream",
     "text": [
      "오늘 온도: -4도, 강수 확률: 10%, 내일 온도: 2도\n"
     ]
    }
   ],
   "source": [
    "a = '오늘 온도: {today_temp}도, 강수 확률: {today_prob}%, 내일 온도: {tomorrow_temp}도'.format(today_temp = -4, tomorrow_temp = 2, today_prob = 10)\n",
    "print(a)"
   ]
  },
  {
   "cell_type": "markdown",
   "metadata": {},
   "source": [
    "## 학습목표\n",
    "- Lamda 함수 이해 및 사용"
   ]
  },
  {
   "cell_type": "markdown",
   "metadata": {},
   "source": [
    "- **Lamda 함수**\n",
    " - 단일문으로 표현되는 함수\n",
    " - '익명 함수'란 이름이 없는 구현체만 존재하는 간단한 함수를 의미\n",
    " - 코드 상에서 한 번만 사용되는 기능이 있을 때, 굳이 함수를 만들지 않고 1회성으로 사용"
   ]
  },
  {
   "cell_type": "code",
   "execution_count": 30,
   "metadata": {},
   "outputs": [
    {
     "data": {
      "text/plain": [
       "25"
      ]
     },
     "execution_count": 30,
     "metadata": {},
     "output_type": "execute_result"
    }
   ],
   "source": [
    "def sqaure2(x) :\n",
    "    return x**2\n",
    "\n",
    "sqaure2(5)"
   ]
  },
  {
   "cell_type": "code",
   "execution_count": 29,
   "metadata": {},
   "outputs": [
    {
     "name": "stdout",
     "output_type": "stream",
     "text": [
      "25\n"
     ]
    },
    {
     "data": {
      "text/plain": [
       "function"
      ]
     },
     "execution_count": 29,
     "metadata": {},
     "output_type": "execute_result"
    }
   ],
   "source": [
    "square = lambda x:x**2\n",
    "\n",
    "print(square(5))\n",
    "type(square)"
   ]
  },
  {
   "cell_type": "code",
   "execution_count": 31,
   "metadata": {},
   "outputs": [
    {
     "data": {
      "text/plain": [
       "30"
      ]
     },
     "execution_count": 31,
     "metadata": {},
     "output_type": "execute_result"
    }
   ],
   "source": [
    "def add(x, y) :\n",
    "    return x + y\n",
    "\n",
    "add2 = lambda x, y : x + y\n",
    "add2(10, 20)"
   ]
  },
  {
   "cell_type": "code",
   "execution_count": null,
   "metadata": {},
   "outputs": [],
   "source": [
    "def str_len(s) :\n",
    "    return len(s)"
   ]
  },
  {
   "cell_type": "code",
   "execution_count": 36,
   "metadata": {},
   "outputs": [
    {
     "name": "stdout",
     "output_type": "stream",
     "text": [
      "['Bob', 'Teddy', 'Charles', 'Alexander3']\n"
     ]
    }
   ],
   "source": [
    "strings = ['Bob', 'Charles', 'Alexander3', 'Teddy']\n",
    "#strings.sort(key = str_len)\n",
    "strings.sort(key = lambda s:len(s))\n",
    "\n",
    "print(strings)"
   ]
  },
  {
   "cell_type": "markdown",
   "metadata": {},
   "source": [
    "**filter, map, reduce**\n",
    "- lambda가 유용하게 사용되는 3가지 대표적 함수\n",
    "- 함수형 프로그래밍의 기본 요소이기도 함\n",
    "- filter : 특정 조건을 만족하는 요소만 남기고 필터링\n",
    "- map : 각 원소를 주어진 수식에 따라 변형하여 새로운 리스트 반환\n",
    "- reduce : 차례대로 앞 2개의 원소를 가지고 연산. 연산의 결과가 또 다음 연산의 입력으로 진행됨. 따라서 마지막까지 진행되면 최종 출력은 한 개의 값만 남게 됨"
   ]
  },
  {
   "cell_type": "code",
   "execution_count": 41,
   "metadata": {},
   "outputs": [],
   "source": [
    "def even1(n) :\n",
    "    if n % 2 == 0:\n",
    "        return n"
   ]
  },
  {
   "cell_type": "code",
   "execution_count": 42,
   "metadata": {},
   "outputs": [
    {
     "data": {
      "text/plain": [
       "[2, 6, 8]"
      ]
     },
     "execution_count": 42,
     "metadata": {},
     "output_type": "execute_result"
    }
   ],
   "source": [
    "nums = [1, 2, 3, 6, 8, 9]\n",
    "\n",
    "list(filter(even1, nums))"
   ]
  },
  {
   "cell_type": "code",
   "execution_count": 43,
   "metadata": {},
   "outputs": [],
   "source": [
    "def even2(n) :\n",
    "    return n % 2 == 0"
   ]
  },
  {
   "cell_type": "code",
   "execution_count": 45,
   "metadata": {},
   "outputs": [
    {
     "data": {
      "text/plain": [
       "[2, 6, 8, 10]"
      ]
     },
     "execution_count": 45,
     "metadata": {},
     "output_type": "execute_result"
    }
   ],
   "source": [
    "nums = [1, 2, 3, 6, 8, 9, 10, 11, 13, 15]\n",
    "\n",
    "list(filter(even2, nums))"
   ]
  },
  {
   "cell_type": "code",
   "execution_count": 47,
   "metadata": {},
   "outputs": [
    {
     "data": {
      "text/plain": [
       "[2, 6, 8, 10]"
      ]
     },
     "execution_count": 47,
     "metadata": {},
     "output_type": "execute_result"
    }
   ],
   "source": [
    "nums = [1, 2, 3, 6, 8, 9, 10, 11, 13, 15]\n",
    "\n",
    "list(filter(lambda n:n%2==0, nums))"
   ]
  },
  {
   "cell_type": "code",
   "execution_count": 50,
   "metadata": {},
   "outputs": [
    {
     "data": {
      "text/plain": [
       "[1, 4, 9, 36, 64, 81, 100, 121, 169, 225]"
      ]
     },
     "execution_count": 50,
     "metadata": {},
     "output_type": "execute_result"
    }
   ],
   "source": [
    "nums = [1, 2, 3, 6, 8, 9, 10, 11, 13, 15]\n",
    "\n",
    "list(map(lambda n:n**2 , nums))"
   ]
  },
  {
   "cell_type": "code",
   "execution_count": 52,
   "metadata": {},
   "outputs": [
    {
     "data": {
      "text/plain": [
       "[False, True, False, True, True, False, True, False, False, False]"
      ]
     },
     "execution_count": 52,
     "metadata": {},
     "output_type": "execute_result"
    }
   ],
   "source": [
    "list(map(even2 , nums))"
   ]
  },
  {
   "cell_type": "code",
   "execution_count": 53,
   "metadata": {},
   "outputs": [
    {
     "data": {
      "text/plain": [
       "[False, True, False, True, True, False, True, False, False, False]"
      ]
     },
     "execution_count": 53,
     "metadata": {},
     "output_type": "execute_result"
    }
   ],
   "source": [
    "list(map(lambda n:n%2==0 , nums))"
   ]
  },
  {
   "cell_type": "code",
   "execution_count": 58,
   "metadata": {},
   "outputs": [
    {
     "name": "stdout",
     "output_type": "stream",
     "text": [
      "모든 수의 합: 17\n",
      "모든 수의 곱: 120\n"
     ]
    }
   ],
   "source": [
    "import functools\n",
    "\n",
    "a = [1, 3, 5, 8]\n",
    "\n",
    "print('모든 수의 합:',functools.reduce(lambda x,y:x+y, a))\n",
    "print('모든 수의 곱:',functools.reduce(lambda x,y:x*y, a))"
   ]
  },
  {
   "cell_type": "markdown",
   "metadata": {},
   "source": [
    "**함수 연습문제**\n",
    "1. 주어진 숫자 리스트의 평균을 구하는 함수를 출력하시오\n",
    "2. 해당 숫자가 소수인지 아닌지 판별하시오\n",
    "3. 2부터 해당 숫자 사이에 소수가 몇 개인지 출력하는 함수를 구하시오"
   ]
  },
  {
   "cell_type": "code",
   "execution_count": 61,
   "metadata": {},
   "outputs": [
    {
     "data": {
      "text/plain": [
       "3.0"
      ]
     },
     "execution_count": 61,
     "metadata": {},
     "output_type": "execute_result"
    }
   ],
   "source": [
    "# 1번 문제\n",
    "\n",
    "def list_avg(x):\n",
    "    _sum = 0\n",
    "    for i in (x) :\n",
    "        _sum += i\n",
    "    return _sum / len(x)\n",
    "\n",
    "A = [1, 2, 3, 4, 5]\n",
    "\n",
    "list_avg(A)"
   ]
  },
  {
   "cell_type": "code",
   "execution_count": 75,
   "metadata": {},
   "outputs": [
    {
     "name": "stdout",
     "output_type": "stream",
     "text": [
      "2.0\n",
      "3.0\n",
      "3.72\n"
     ]
    }
   ],
   "source": [
    "# 1번 문제 풀이\n",
    "\n",
    "# 입력 : 숫자 리스트\n",
    "# 출력 : 숫자 리스트의 평균값\n",
    "\n",
    "def mean(nums) :\n",
    "    return sum(nums) / len(nums)\n",
    "\n",
    "print(mean([1, 2, 3]))\n",
    "print(mean([1, 2, 3, 4, 5]))\n",
    "print(mean([1, 2, 3.0, 3.9, 8.7]))"
   ]
  },
  {
   "cell_type": "code",
   "execution_count": 100,
   "metadata": {},
   "outputs": [
    {
     "data": {
      "text/plain": [
       "True"
      ]
     },
     "execution_count": 100,
     "metadata": {},
     "output_type": "execute_result"
    }
   ],
   "source": [
    "# 2번 문제 풀이\n",
    "\n",
    "# 소수 판별 (1과 자기 자신으로만 나눠지는 수)\n",
    "# 입력: 양의 정수 1개\n",
    "# 출력: boolean (소수: True, 합성수: False)\n",
    "\n",
    "def is_prime(num) :\n",
    "    for i in range(2, num) :\n",
    "        if num % i == 0 :\n",
    "            return False\n",
    "    return True\n",
    "\n",
    "is_prime(5)"
   ]
  },
  {
   "cell_type": "code",
   "execution_count": 116,
   "metadata": {},
   "outputs": [
    {
     "data": {
      "text/plain": [
       "3"
      ]
     },
     "execution_count": 116,
     "metadata": {},
     "output_type": "execute_result"
    }
   ],
   "source": [
    "# 3번 문제 풀이\n",
    "\n",
    "# 입력: 양의 정수 1개\n",
    "# 출력: 2-해당숫자 사이의 소수의 개수\n",
    "\n",
    "def num_prime(num) :\n",
    "    count = 0\n",
    "    for i in range(2, num+1) :\n",
    "        if is_prime(i) :\n",
    "            count += 1\n",
    "    return count\n",
    "\n",
    "num_prime(5)"
   ]
  }
 ],
 "metadata": {
  "kernelspec": {
   "display_name": "Python 3 (ipykernel)",
   "language": "python",
   "name": "python3"
  },
  "language_info": {
   "codemirror_mode": {
    "name": "ipython",
    "version": 3
   },
   "file_extension": ".py",
   "mimetype": "text/x-python",
   "name": "python",
   "nbconvert_exporter": "python",
   "pygments_lexer": "ipython3",
   "version": "3.10.0"
  }
 },
 "nbformat": 4,
 "nbformat_minor": 2
}
