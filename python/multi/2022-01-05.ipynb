{
 "cells": [
  {
   "cell_type": "markdown",
   "id": "96c279fc",
   "metadata": {},
   "source": [
    "### 선형 리스트"
   ]
  },
  {
   "cell_type": "code",
   "execution_count": 1,
   "id": "eb522d85",
   "metadata": {},
   "outputs": [
    {
     "name": "stdout",
     "output_type": "stream",
     "text": [
      "['다현', '정연']\n"
     ]
    }
   ],
   "source": [
    "katok = []\n",
    "\n",
    "katok.append(None)\n",
    "katok[0] = '다현'\n",
    "\n",
    "katok.append(None)\n",
    "katok[1] = '정연'\n",
    "\n",
    "print(katok)"
   ]
  },
  {
   "cell_type": "code",
   "execution_count": 13,
   "id": "258106a9",
   "metadata": {},
   "outputs": [],
   "source": [
    "def add_data(friend):\n",
    "    katok.append(None)\n",
    "    kLen = len(katok)\n",
    "    katok[kLen-1] = friend\n",
    "    # katok[-1] = friend"
   ]
  },
  {
   "cell_type": "code",
   "execution_count": 14,
   "id": "c6a28a96",
   "metadata": {},
   "outputs": [
    {
     "name": "stdout",
     "output_type": "stream",
     "text": [
      "['A$AP Rocky', 'Dua Lipa', 'Doja Cat']\n"
     ]
    }
   ],
   "source": [
    "katok = []\n",
    "add_data('A$AP Rocky')\n",
    "add_data('Dua Lipa')\n",
    "add_data('Doja Cat')\n",
    "print(katok)"
   ]
  },
  {
   "cell_type": "code",
   "execution_count": 15,
   "id": "d72c32f2",
   "metadata": {},
   "outputs": [
    {
     "name": "stdout",
     "output_type": "stream",
     "text": [
      "['A$AP Rocky', 'Dua Lipa', 'Doja Cat', '선미']\n"
     ]
    }
   ],
   "source": [
    "add_data('선미')\n",
    "print(katok)"
   ]
  },
  {
   "cell_type": "code",
   "execution_count": 16,
   "id": "4e90f810",
   "metadata": {},
   "outputs": [],
   "source": [
    "def insert_data(position, friend) :\n",
    "    katok.append(None)\n",
    "    kLen = len(katok)\n",
    "    for i in range(kLen-1, position, -1) :\n",
    "        katok[i] = katok[i-1]\n",
    "        katok[i-1] = None\n",
    "    katok[position] = friend"
   ]
  },
  {
   "cell_type": "code",
   "execution_count": 17,
   "id": "e8f37589",
   "metadata": {
    "scrolled": true
   },
   "outputs": [
    {
     "name": "stdout",
     "output_type": "stream",
     "text": [
      "['A$AP Rocky', 'Dua Lipa', 'Blackpink', 'Doja Cat', '선미']\n"
     ]
    }
   ],
   "source": [
    "insert_data(2, 'Blackpink')\n",
    "print(katok)"
   ]
  },
  {
   "cell_type": "code",
   "execution_count": 20,
   "id": "f7f7a575",
   "metadata": {},
   "outputs": [],
   "source": [
    "def delete_data(position):\n",
    "    katok[position] = None\n",
    "    kLen = len(katok)\n",
    "    \n",
    "    for i in range(position+1, kLen, 1) :\n",
    "        katok[i-1] = katok[i]\n",
    "        katok[i] = None\n",
    "    del(katok[kLen-1])"
   ]
  },
  {
   "cell_type": "code",
   "execution_count": 21,
   "id": "f3e6654b",
   "metadata": {},
   "outputs": [
    {
     "name": "stdout",
     "output_type": "stream",
     "text": [
      "['A$AP Rocky', 'Dua Lipa', '선미', None]\n"
     ]
    }
   ],
   "source": [
    "delete_data(2)\n",
    "print(katok)"
   ]
  },
  {
   "cell_type": "markdown",
   "id": "b4b93d5c",
   "metadata": {},
   "source": [
    "### 단순 연결 리스트"
   ]
  },
  {
   "cell_type": "code",
   "execution_count": 22,
   "id": "17730f9c",
   "metadata": {},
   "outputs": [],
   "source": [
    "class Node():\n",
    "    def __init__(self):\n",
    "        self.data = None\n",
    "        self.link = None"
   ]
  },
  {
   "cell_type": "code",
   "execution_count": 23,
   "id": "425e629e",
   "metadata": {},
   "outputs": [
    {
     "name": "stdout",
     "output_type": "stream",
     "text": [
      "윈터 카리나 닝닝 로제 제니 "
     ]
    }
   ],
   "source": [
    "node1 = Node()\n",
    "node1.data = '윈터'\n",
    "\n",
    "node2 = Node()\n",
    "node2.data = '카리나'\n",
    "node1.link = node2\n",
    "\n",
    "node3 = Node()\n",
    "node3.data = '닝닝'\n",
    "node2.link = node3\n",
    "\n",
    "node4 = Node()\n",
    "node4.data = '로제'\n",
    "node3.link = node4\n",
    "\n",
    "node5 = Node()\n",
    "node5.data = '제니'\n",
    "node4.link = node5\n",
    "\n",
    "print(node1.data, end=' ')\n",
    "print(node1.link.data, end=' ')\n",
    "print(node1.link.link.data, end=' ')\n",
    "print(node1.link.link.link.data, end=' ')\n",
    "print(node1.link.link.link.link.data, end=' ')"
   ]
  },
  {
   "cell_type": "code",
   "execution_count": 25,
   "id": "9cc5f1ab",
   "metadata": {},
   "outputs": [
    {
     "name": "stdout",
     "output_type": "stream",
     "text": [
      "윈터 카리나 닝닝 로제 제니 "
     ]
    }
   ],
   "source": [
    "current = node1\n",
    "print(current.data, end=' ')\n",
    "\n",
    "while current.link != None :\n",
    "    current = current.link\n",
    "    print(current.data, end=' ')"
   ]
  },
  {
   "cell_type": "code",
   "execution_count": 26,
   "id": "a266cbf5",
   "metadata": {},
   "outputs": [
    {
     "name": "stdout",
     "output_type": "stream",
     "text": [
      "윈터 카리나 예린 닝닝 로제 제니 "
     ]
    }
   ],
   "source": [
    "#삽입\n",
    "\n",
    "newNode = Node()\n",
    "newNode.data = '예린'\n",
    "newNode.link = node2.link\n",
    "node2.link = newNode\n",
    "\n",
    "current = node1\n",
    "print(current.data, end= ' ')\n",
    "while current.link != None :\n",
    "    current = current.link\n",
    "    print(current.data, end=' ')"
   ]
  },
  {
   "cell_type": "code",
   "execution_count": 27,
   "id": "ad1dd9cb",
   "metadata": {},
   "outputs": [
    {
     "name": "stdout",
     "output_type": "stream",
     "text": [
      "윈터 카리나 로제 제니 "
     ]
    }
   ],
   "source": [
    "# 삭제\n",
    "\n",
    "node2.link = node3.link\n",
    "del(node3)\n",
    "\n",
    "current = node1\n",
    "print(current.data, end= ' ')\n",
    "while current.link != None :\n",
    "    current = current.link\n",
    "    print(current.data, end=' ')"
   ]
  },
  {
   "cell_type": "code",
   "execution_count": 34,
   "id": "de835e54",
   "metadata": {},
   "outputs": [],
   "source": [
    "def printNodes(start) :\n",
    "    current = start\n",
    "    print(current.data, end=' ')\n",
    "    while current.link != None:\n",
    "        current = current.link\n",
    "        print(current.data, end=' ')\n",
    "    print()"
   ]
  },
  {
   "cell_type": "code",
   "execution_count": 35,
   "id": "f0ed74a8",
   "metadata": {},
   "outputs": [],
   "source": [
    "memory = []\n",
    "head, current, pre = None, None, None\n",
    "dataArray = ['다현', '정연', '쯔위', '사나', '지효']"
   ]
  },
  {
   "cell_type": "code",
   "execution_count": 37,
   "id": "152eae22",
   "metadata": {},
   "outputs": [
    {
     "name": "stdout",
     "output_type": "stream",
     "text": [
      "다현 정연 쯔위 사나 지효 \n"
     ]
    }
   ],
   "source": [
    "node = Node() # 첫 노드\n",
    "node.data = dataArray[0]\n",
    "head = node\n",
    "memory.append(node)\n",
    "\n",
    "for data in dataArray[1:]:\n",
    "    pre = node\n",
    "    node = Node()\n",
    "    node.data = data\n",
    "    pre.link = node\n",
    "    memory.append(node)\n",
    "\n",
    "printNodes(head)"
   ]
  },
  {
   "cell_type": "code",
   "execution_count": 45,
   "id": "8c6bcd88",
   "metadata": {},
   "outputs": [],
   "source": [
    "def insertNode(findData, insertData):\n",
    "    global memory, head, current, pre\n",
    "    \n",
    "    # 첫 노드 앞에 삽입\n",
    "    if head.data == findData:\n",
    "        node = Node()\n",
    "        node.data = insertData\n",
    "        node.link = head\n",
    "        head = node\n",
    "        return\n",
    "    \n",
    "    # 중간노드 앞에 삽입\n",
    "    current = head\n",
    "    while current.link != None:\n",
    "        pre = current\n",
    "        current = current.link\n",
    "        if current.data == findData:\n",
    "            node = Node()\n",
    "            node.data = insertData\n",
    "            node.link = current\n",
    "            pre.link = node\n",
    "            return\n",
    "        \n",
    "    # 마지막에 추가\n",
    "    node = Node()\n",
    "    node.data = insertData\n",
    "    current.link = node\n",
    "    return"
   ]
  },
  {
   "cell_type": "code",
   "execution_count": 42,
   "id": "139ba98a",
   "metadata": {},
   "outputs": [
    {
     "name": "stdout",
     "output_type": "stream",
     "text": [
      "화사 다현 정연 쯔위 사나 지효 \n"
     ]
    }
   ],
   "source": [
    "insertNode('다현', '화사')\n",
    "printNodes(head)"
   ]
  },
  {
   "cell_type": "code",
   "execution_count": 44,
   "id": "782d27b5",
   "metadata": {},
   "outputs": [
    {
     "name": "stdout",
     "output_type": "stream",
     "text": [
      "화사 다현 정연 쯔위 솔라 사나 지효 \n"
     ]
    }
   ],
   "source": [
    "insertNode('사나', '솔라')\n",
    "printNodes(head)"
   ]
  },
  {
   "cell_type": "code",
   "execution_count": 46,
   "id": "c790ee98",
   "metadata": {},
   "outputs": [
    {
     "name": "stdout",
     "output_type": "stream",
     "text": [
      "화사 다현 정연 쯔위 솔라 사나 지효 문별 \n"
     ]
    }
   ],
   "source": [
    "insertNode('예린', '문별')\n",
    "printNodes(head)"
   ]
  },
  {
   "cell_type": "code",
   "execution_count": 56,
   "id": "efaa3721",
   "metadata": {},
   "outputs": [],
   "source": [
    "# 삭제\n",
    "\n",
    "def deleteNode(deleteData):\n",
    "    global memory, head, current, pre\n",
    "\n",
    "    # 첫번째 노드 삭제\n",
    "    if head.data == deleteData:\n",
    "        current = head\n",
    "        head = head.link\n",
    "        del(current)\n",
    "        return\n",
    "        \n",
    "    # 그 외 노드 삭제\n",
    "    current = head\n",
    "    while current.link != None:\n",
    "        pre = current\n",
    "        current = current.link\n",
    "        if current.data == deleteData:\n",
    "            pre.link = current.link\n",
    "            del(current)\n",
    "            return"
   ]
  },
  {
   "cell_type": "code",
   "execution_count": 50,
   "id": "76d23d24",
   "metadata": {},
   "outputs": [
    {
     "name": "stdout",
     "output_type": "stream",
     "text": [
      "다현 정연 쯔위 솔라 사나 지효 문별 \n"
     ]
    }
   ],
   "source": [
    "deleteNode('화사')\n",
    "printNodes(head)"
   ]
  },
  {
   "cell_type": "code",
   "execution_count": 54,
   "id": "2b67456e",
   "metadata": {},
   "outputs": [
    {
     "name": "stdout",
     "output_type": "stream",
     "text": [
      "다현 정연 솔라 사나 지효 문별 \n"
     ]
    }
   ],
   "source": [
    "deleteNode('쯔위')\n",
    "printNodes(head)"
   ]
  },
  {
   "cell_type": "code",
   "execution_count": 57,
   "id": "a847905f",
   "metadata": {
    "scrolled": true
   },
   "outputs": [
    {
     "name": "stdout",
     "output_type": "stream",
     "text": [
      "다현 정연 솔라 사나 지효 문별 \n"
     ]
    }
   ],
   "source": [
    "deleteNode('현빈')\n",
    "printNodes(head)"
   ]
  },
  {
   "cell_type": "code",
   "execution_count": 62,
   "id": "70cff19f",
   "metadata": {},
   "outputs": [],
   "source": [
    "# 검색\n",
    "\n",
    "def findNode(findData):\n",
    "    global memory, head, current, pre\n",
    "    current = head\n",
    "    if current.data == findData:\n",
    "        return current\n",
    "    while current.link != None:\n",
    "        current = current.link\n",
    "        if current.data == findData:\n",
    "            return current\n",
    "    return Node()"
   ]
  },
  {
   "cell_type": "code",
   "execution_count": 63,
   "id": "f12f372d",
   "metadata": {},
   "outputs": [
    {
     "name": "stdout",
     "output_type": "stream",
     "text": [
      "지효\n"
     ]
    }
   ],
   "source": [
    "fNode = findNode('지효')\n",
    "print(fNode.data)"
   ]
  },
  {
   "cell_type": "code",
   "execution_count": 64,
   "id": "565c201c",
   "metadata": {},
   "outputs": [
    {
     "name": "stdout",
     "output_type": "stream",
     "text": [
      "None\n"
     ]
    }
   ],
   "source": [
    "fNode = findNode('고수')\n",
    "print(fNode.data)"
   ]
  },
  {
   "cell_type": "markdown",
   "id": "33a445a2",
   "metadata": {},
   "source": [
    "#### 배열의 합 문제"
   ]
  },
  {
   "cell_type": "code",
   "execution_count": 65,
   "id": "133a5092",
   "metadata": {},
   "outputs": [
    {
     "name": "stdout",
     "output_type": "stream",
     "text": [
      " ----- 초기 배열 -----\n",
      "    5    7   -5  100   73\n",
      "   35   23    4  190   33\n",
      "   49   85  662   39   81\n",
      "  124  -59   86   46   52\n",
      "   27    7    8   33  -56\n",
      "--------------------------------------\n",
      " ----- 치환 후 배열 -----\n",
      "    5    7    0  100   73\n",
      "   35   23    4   90   33\n",
      "   49   85   62   39   81\n",
      "   24    0   86   46   52\n",
      "   27    7    8   33    0\n",
      "--------------------------------------\n",
      "최대 영역의 합: 296\n"
     ]
    }
   ],
   "source": [
    "ARRAY_LENGTH = 5  # 배열의 행과 열 크기(고정)\n",
    "\n",
    "def replaceData(numData): # numData\t2차원 정수 배열\n",
    "    retData = [] # 조건에 따라서 전처리된 2차원 배열\n",
    "\n",
    "    retData = numData[:]\n",
    "    for i in range(ARRAY_LENGTH):\n",
    "        for k in range(ARRAY_LENGTH):\n",
    "            if retData[i][k] < 0:\n",
    "                retData[i][k] = 0\n",
    "            if retData[i][k] > 100:\n",
    "                retData[i][k] = retData[i][k] % 100\n",
    "\n",
    "    return retData\n",
    "\n",
    "\n",
    "# 2x2 크기의 배열의 최대합을 구한다.\n",
    "def getMaxSum(numData): # 요구 사항에 맞춰 처리된 2차원 정수 배열\n",
    "    maxSum = 0 # 최대합\n",
    "\n",
    "    for i in range(ARRAY_LENGTH-1):\n",
    "        for k in range(ARRAY_LENGTH-1):\n",
    "            hap = numData[i][k] + numData[i][k+1] + numData[i+1][k] + numData[i+1][k+1]\n",
    "            if hap > maxSum:\n",
    "                maxSum = hap\n",
    "\n",
    "    return maxSum\n",
    "\n",
    "## 전역 변수 선언 부분\n",
    "numData =[] # 5x5 배열\n",
    "ARRAY_LENGTH = 5 # 배열의 행과 열 크기(고정)\n",
    "\n",
    "def main() :\n",
    "        global numData\n",
    "\n",
    "        loadData() # 2차원 배열 읽어오기\n",
    "\n",
    "        ## 원본 출력\n",
    "        print(' ----- 초기 배열 -----')\n",
    "        printData()\n",
    "\n",
    "        # 1. 데이터 치환 작업\n",
    "        numData = replaceData(numData)\n",
    "        print(' ----- 치환 후 배열 -----')\n",
    "        printData()\n",
    "\n",
    "        # 2. 최대 합 구하기.(2x2 크기)\n",
    "        maxSum = getMaxSum(numData)\n",
    "        print('최대 영역의 합: %d' % maxSum)\n",
    "\n",
    "       \n",
    "# 함수 선언 부분\n",
    "def  loadData() : # 데이터 불러오기\n",
    "    global numData\n",
    "\n",
    "    ###########\n",
    "    # 제공 데이터 세트 1 \n",
    "    # 5x5 숫자 배열. \n",
    "    ###########\n",
    "    numData = \\\n",
    "    [\n",
    "        [ 5, 7, -5, 100, 73 ],\n",
    "        [ 35, 23, 4, 190, 33 ],\n",
    "        [ 49, 85, 662, 39, 81 ],\n",
    "        [ 124, -59, 86, 46, 52 ],\n",
    "        [ 27, 7, 8, 33, -56 ] \n",
    "    ]\n",
    "    \n",
    "    \n",
    "\n",
    "def printData() :\n",
    "        for i in range(0, ARRAY_LENGTH) :\n",
    "                for k in range(0, ARRAY_LENGTH) :\n",
    "                        try :\n",
    "                                print(\"%5d\" % numData[i][k], end='')\n",
    "                        except :\n",
    "                                pass\n",
    "                print()\n",
    "        print('--------------------------------------')\n",
    "\n",
    "## 메인 함수 호출 ##\n",
    "if __name__ == \"__main__\" :\n",
    "    main()"
   ]
  },
  {
   "cell_type": "markdown",
   "id": "082acb41",
   "metadata": {},
   "source": [
    "### 스택"
   ]
  },
  {
   "cell_type": "code",
   "execution_count": 79,
   "id": "6c5075f2",
   "metadata": {},
   "outputs": [],
   "source": [
    "size = 5\n",
    "stack = [None for _ in range(size)]\n",
    "top = -1"
   ]
  },
  {
   "cell_type": "code",
   "execution_count": 80,
   "id": "293246d2",
   "metadata": {},
   "outputs": [
    {
     "name": "stdout",
     "output_type": "stream",
     "text": [
      "['커피', '녹차', '꿀물', None, None]\n"
     ]
    }
   ],
   "source": [
    "top += 1\n",
    "stack[top] = '커피'\n",
    "top += 1\n",
    "stack[top] = '녹차'\n",
    "top += 1\n",
    "stack[top] = '꿀물'\n",
    "\n",
    "print(stack)"
   ]
  },
  {
   "cell_type": "code",
   "execution_count": 81,
   "id": "3363c896",
   "metadata": {},
   "outputs": [
    {
     "name": "stdout",
     "output_type": "stream",
     "text": [
      "팝 ==> 꿀물\n",
      "팝 ==> 녹차\n",
      "팝 ==> 커피\n"
     ]
    }
   ],
   "source": [
    "for top in range(2, -1, -1):\n",
    "    data = stack[top]\n",
    "    stack[top] = None\n",
    "    top -= 1\n",
    "    print('팝 ==>', data)"
   ]
  },
  {
   "cell_type": "code",
   "execution_count": 83,
   "id": "fd185478",
   "metadata": {},
   "outputs": [],
   "source": [
    "def isStackFull():\n",
    "    global size, stack, top\n",
    "    if top >= (size-1) :\n",
    "        return True\n",
    "    else:\n",
    "        return False"
   ]
  },
  {
   "cell_type": "code",
   "execution_count": 84,
   "id": "aeff5e3e",
   "metadata": {},
   "outputs": [],
   "source": [
    "size = 5\n",
    "stack = [None for _ in range(size)]\n",
    "top = -1"
   ]
  },
  {
   "cell_type": "code",
   "execution_count": 85,
   "id": "f31f0678",
   "metadata": {},
   "outputs": [
    {
     "name": "stdout",
     "output_type": "stream",
     "text": [
      "True\n"
     ]
    }
   ],
   "source": [
    "stack = ['커피', '녹차', '꿀물', '콜라', '환타']\n",
    "top = 4\n",
    "\n",
    "print(isStackFull())"
   ]
  },
  {
   "cell_type": "code",
   "execution_count": 86,
   "id": "8239f8a2",
   "metadata": {},
   "outputs": [],
   "source": [
    "def push(data):\n",
    "    global size, stack, top\n",
    "    if isStackFull():\n",
    "        print('풀방')\n",
    "        return\n",
    "    top += 1\n",
    "    stack[top] = data"
   ]
  },
  {
   "cell_type": "code",
   "execution_count": 87,
   "id": "4f57466b",
   "metadata": {},
   "outputs": [
    {
     "name": "stdout",
     "output_type": "stream",
     "text": [
      "['커피', '녹차', '꿀물', '콜라', '보리차']\n",
      "풀방\n",
      "['커피', '녹차', '꿀물', '콜라', '보리차']\n"
     ]
    }
   ],
   "source": [
    "stack = ['커피', '녹차', '꿀물', '콜라', None]\n",
    "top = 3\n",
    "\n",
    "push('보리차')\n",
    "print(stack)\n",
    "push('사이다')\n",
    "print(stack)"
   ]
  },
  {
   "cell_type": "code",
   "execution_count": 88,
   "id": "1c2a88dd",
   "metadata": {},
   "outputs": [],
   "source": [
    "def isStackEmpty():\n",
    "    global size, stack, top\n",
    "    if top <= -1 :\n",
    "        return True\n",
    "    else :\n",
    "        return False"
   ]
  },
  {
   "cell_type": "code",
   "execution_count": 89,
   "id": "ad4a8edb",
   "metadata": {},
   "outputs": [],
   "source": [
    "def pop():\n",
    "    global size, stack, top\n",
    "    if isStackEmpty() :\n",
    "        print('빈 스택')\n",
    "        return None\n",
    "    data = stack[top]\n",
    "    stack[top] = None\n",
    "    top -= 1\n",
    "    return data"
   ]
  },
  {
   "cell_type": "code",
   "execution_count": 90,
   "id": "802ab094",
   "metadata": {},
   "outputs": [
    {
     "name": "stdout",
     "output_type": "stream",
     "text": [
      "커피\n",
      "빈 스택\n",
      "None\n"
     ]
    }
   ],
   "source": [
    "stack = ['커피', None, None, None, None]\n",
    "top = 0\n",
    "\n",
    "print(pop())\n",
    "print(pop())"
   ]
  },
  {
   "cell_type": "code",
   "execution_count": 91,
   "id": "a12e996c",
   "metadata": {},
   "outputs": [],
   "source": [
    "def peek():\n",
    "    global size, stack, top\n",
    "    if isStackEmpty():\n",
    "        print('빈 스택')\n",
    "        return None\n",
    "    return stack[top]"
   ]
  },
  {
   "cell_type": "code",
   "execution_count": 92,
   "id": "4b511c8a",
   "metadata": {},
   "outputs": [
    {
     "name": "stdout",
     "output_type": "stream",
     "text": [
      "다음 나올 예정:  커피\n",
      "커피\n",
      "빈 스택\n",
      "None\n"
     ]
    }
   ],
   "source": [
    "stack = ['커피', None, None, None, None]\n",
    "top = 0\n",
    "\n",
    "print('다음 나올 예정: ', peek())\n",
    "print(pop())\n",
    "print(pop())"
   ]
  }
 ],
 "metadata": {
  "kernelspec": {
   "display_name": "Python 3 (ipykernel)",
   "language": "python",
   "name": "python3"
  },
  "language_info": {
   "codemirror_mode": {
    "name": "ipython",
    "version": 3
   },
   "file_extension": ".py",
   "mimetype": "text/x-python",
   "name": "python",
   "nbconvert_exporter": "python",
   "pygments_lexer": "ipython3",
   "version": "3.9.7"
  }
 },
 "nbformat": 4,
 "nbformat_minor": 5
}
