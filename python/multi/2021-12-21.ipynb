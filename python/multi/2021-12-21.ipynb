{
  "nbformat": 4,
  "nbformat_minor": 0,
  "metadata": {
    "colab": {
      "name": "2021-12-21.ipynb",
      "provenance": [],
      "toc_visible": true
    },
    "kernelspec": {
      "name": "python3",
      "display_name": "Python 3"
    },
    "language_info": {
      "name": "python"
    }
  },
  "cells": [
    {
      "cell_type": "markdown",
      "source": [
        "### Float\n",
        "- 부유한다는 의미로, 원래 목적은 그림과 글자의 배치를 위하여 나온 기능 \n",
        "- 레이아웃 기능으로 더 많이 사용\n",
        "- 속성값\n",
        "  - left: 태그를 왼쪽에 배치하기 위해 사용\n",
        "  - right: 오른쪽에 배치하기 위해 사용\n",
        "  - none: 태그를 띄우지 않음\n",
        "  - inherit: 부모 태그로부터 상속\n",
        "\n",
        "- float 속성을 사용하는 경우에는 `display` 속성은 무시 됩니다. \n",
        "  - 즉, 인라인 기반이든, 블록 기반이든 무시되고, float에 따라서 배치가 바뀌게 됩니다."
      ],
      "metadata": {
        "id": "h4NmOIR5aFfV"
      }
    },
    {
      "cell_type": "markdown",
      "source": [
        "### Clear\n",
        "- 이전에 사용했던 float 속성을 바꿔줍니다.\n",
        "  - float 속성을 사용하면 원래 배치의 흐름이 바뀌게 되는데\n",
        "  - 다시 원래대로 돌리고 싶은 경우에 사용\n",
        "\n",
        "- 속성값\n",
        "  - none: clear 설정을 하지 않는 것과 같습니다.\n",
        "  - left: 왼쪽을 취소\n",
        "  - right: 오른쪽을 취소\n",
        "  - both: 양쪽 다 취소"
      ],
      "metadata": {
        "id": "gvb4AMI5gb-y"
      }
    },
    {
      "cell_type": "markdown",
      "source": [
        "# 실습\n",
        "- 게시판 만들기 실습\n",
        "  - 로그인 페이지\n",
        "  - 게시글 목록 페이지\n",
        "  - 게시글 작성\n",
        "  - 게시글 수정"
      ],
      "metadata": {
        "id": "7_dEpqqZiMsr"
      }
    },
    {
      "cell_type": "markdown",
      "source": [
        "## 부트스트랩\n",
        "- 전문가가 아니어도 전문가처럼 보이는 방법\n",
        "- [부트스트랩 공식 홈페이지](http://bootstrapk.com/)\n",
        "  - 트위터 디자이너들이 공개한 디자인 서식\n",
        "  - 이를 이용하면, 쉽게 전문가 처럼 디자인이 가능\n",
        "  - [부트스트랩 다운로드](https://github.com/twbs/bootstrap/releases/download/v3.3.2/bootstrap-3.3.2-dist.zip)"
      ],
      "metadata": {
        "id": "wdSa5ELBq2oU"
      }
    },
    {
      "cell_type": "markdown",
      "source": [
        "## login.html\n",
        "\n",
        "```\n",
        "<!DOCTYPE html>\n",
        "\n",
        "<html>\n",
        "  <head>\n",
        "    <!-- bootstrap css 적용 -->\n",
        "    <link type='text/css' rel='stylesheet' href='../css/bootstrap.min.css' />\n",
        "    <link type='text/css' rel='stylesheet' href='../css/bootstrap-theme.min.css' />\n",
        "    <link type='text/css' rel='stylesheet' href='../css/login.css' />\n",
        "  </head>\n",
        "\n",
        "  <body>\n",
        "    <div class='container'>\n",
        "      <form class='form-horizontal' method='post' action=''>\n",
        "        <div class='form-group'>\n",
        "          <label for=\"inputId\" class=\"col-xs-4 col-md-4 control-label\">ID</label>\n",
        "          <div class='col-xs-4 col-md-4'>\n",
        "            <input class=\"form-control\" type='text' name='id' id='inputId'>\n",
        "          </div>\n",
        "        </div>\n",
        "        <div class='form-group'>\n",
        "          <label for=\"inputPw\" class=\"col-xs-4 col-sm-4 control-label\">PW</label>\n",
        "          <div class='col-xs-4 col-md-4'>\n",
        "            <input class=\"form-control\" type='password' name='pw' id='inputPw'>\n",
        "          </div>\n",
        "        </div>\n",
        "        <div class='form-group'>\n",
        "          <div class='col-xs-offset-4 col-md-offset-4 col-xs-10 col-md-10'>\n",
        "            <button class=\"btn btn-default\" type='submit'> 로그인 </button>\n",
        "          </div>\n",
        "        </div>\n",
        "      </form>\n",
        "    </div>\n",
        "  </body>\n",
        "</html>\n",
        "```"
      ],
      "metadata": {
        "id": "0px_Cy0lmWj8"
      }
    },
    {
      "cell_type": "markdown",
      "source": [
        "## login.css\n",
        "\n",
        "```\n",
        "html, body {\n",
        "  height:100%;\n",
        "}\n",
        "\n",
        "body {\n",
        "  display: flex;\n",
        "  align-items: center;\n",
        "}\n",
        "\n",
        ".form-control {\n",
        "  width: 300px;\n",
        "}\n",
        "```"
      ],
      "metadata": {
        "id": "oc6m3XSx-ZE9"
      }
    },
    {
      "cell_type": "markdown",
      "source": [
        "## write.html\n",
        "\n",
        "```\n",
        "<!DOCTYPE html>\n",
        "<html>\n",
        "  <head>\n",
        "    <link type='text/css' rel='stylesheet' href='../css/bootstrap.min.css' />\n",
        "    <link type='text/css' rel='stylesheet' href='../css/bootstrap-theme.min.css' />\n",
        "  </head>\n",
        "\n",
        "  <body>\n",
        "    <div class='container'>\n",
        "      <form>\n",
        "        <div class='row'>\n",
        "          <!-- 날짜 -->\n",
        "          <div class=\"col-md-4\">\n",
        "            <input type='date' class='col-md-4'>\n",
        "          </div>\n",
        "\n",
        "        </div>\n",
        "\n",
        "        <div class='row'>\n",
        "          <!-- 작성자 -->\n",
        "          <div class=\"col-md-4\">\n",
        "            <input type='text' class='col-md-4'>\n",
        "          </div>\n",
        "        </div>\n",
        "\n",
        "        <div class='row'>\n",
        "          <!-- 게시글 -->\n",
        "          <div class=\"col-md-8\">\n",
        "            <textarea class=\"form-control\" rows=\"20\"></textarea>\n",
        "          </div>\n",
        "        </div>\n",
        "      </div>\n",
        "    </form>\n",
        "  </body>\n",
        "\n",
        "</html>\n",
        "```"
      ],
      "metadata": {
        "id": "DXqfXZIy-V70"
      }
    },
    {
      "cell_type": "markdown",
      "source": [
        "## list.html\n",
        "\n",
        "```\n",
        "<!DOCTYPE html>\n",
        "<html>\n",
        "  <head>\n",
        "    <link type='text/css' rel='stylesheet' href='../css/bootstrap.min.css' />\n",
        "    <link type='text/css' rel='stylesheet' href='../css/bootstrap-theme.min.css' />\n",
        "  </head>\n",
        "\n",
        "  <body>\n",
        "    <table class='table'>\n",
        "      <thead>\n",
        "        <tr>\n",
        "          <th> 시간 </th>\n",
        "          <th> 작성자 </th>\n",
        "          <th> 제목 </th>\n",
        "        </tr>\n",
        "      </thead>\n",
        "\n",
        "      <tbody>\n",
        "        <tr>\n",
        "          <td> 2021-12-21 </td>\n",
        "          <td> 주예린 </td>\n",
        "          <td> 나는 짱이다 </td>\n",
        "        </tr>\n",
        "        <tr>\n",
        "          <td> 2021-12-20 </td>\n",
        "          <td> 주예린 </td>\n",
        "          <td> 너는 베짱이고 </td>\n",
        "        </tr>\n",
        "        <tr>\n",
        "          \n",
        "        </tr>\n",
        "        <tr>\n",
        "          \n",
        "        </tr>\n",
        "      </tbody>\n",
        "      \n",
        "    </table>\n",
        "  </body>\n",
        "</html>\n",
        "```"
      ],
      "metadata": {
        "id": "gXeYbAInLvqA"
      }
    }
  ]
}