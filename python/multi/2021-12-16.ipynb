{
  "nbformat": 4,
  "nbformat_minor": 0,
  "metadata": {
    "colab": {
      "name": "시험정리.ipynb",
      "provenance": [],
      "collapsed_sections": [],
      "toc_visible": true
    },
    "kernelspec": {
      "name": "python3",
      "display_name": "Python 3"
    },
    "language_info": {
      "name": "python"
    }
  },
  "cells": [
    {
      "cell_type": "markdown",
      "source": [
        "# 파이썬 기초"
      ],
      "metadata": {
        "id": "PpxrGOMOlxgU"
      }
    },
    {
      "cell_type": "markdown",
      "source": [
        "파이썬은 타입을 다룰 때, 기호를 이용해서 타입을 전부 표현\n",
        "  - 파이썬은 변수가 정의되기 전까지 어떤 타입인지 결정할 수가 없다(동적 바인딩)\n",
        "    - 문자열인 경우: ', \", ''', \"\"\"\n",
        "    - 리스트인 경우: []\n",
        "    - 튜플인 경우: ()\n",
        "      - 수식에서 우선순위를 표현하는 경우에도 괄호를 사용\n",
        "      - 원소가 하나인 튜플은 어떻게 표현?\n",
        "    - 딕셔너리인 경우: {}\n",
        "      - set 타입도 동일한 기호를 사용\n",
        "      - set과 딕셔너리를 어떻게 구분할까요?\n",
        "      - 딕셔너리는 {Key:Value, ... }의 형태가 됩니다."
      ],
      "metadata": {
        "id": "HV4NT9IMmGgk"
      }
    },
    {
      "cell_type": "code",
      "source": [
        "(1, )"
      ],
      "metadata": {
        "colab": {
          "base_uri": "https://localhost:8080/"
        },
        "id": "UI_lSo9Kl1ts",
        "outputId": "82049848-83a1-4ee3-8e23-07e2cf3fdb04"
      },
      "execution_count": null,
      "outputs": [
        {
          "output_type": "execute_result",
          "data": {
            "text/plain": [
              "(1,)"
            ]
          },
          "metadata": {},
          "execution_count": 2
        }
      ]
    },
    {
      "cell_type": "code",
      "source": [
        "a = {1, 2, 3, 4}\n",
        "type(a)"
      ],
      "metadata": {
        "colab": {
          "base_uri": "https://localhost:8080/"
        },
        "id": "SjAzB6P0mmS8",
        "outputId": "2981c0ba-53cd-4446-d278-e364af206e3f"
      },
      "execution_count": null,
      "outputs": [
        {
          "output_type": "execute_result",
          "data": {
            "text/plain": [
              "set"
            ]
          },
          "metadata": {},
          "execution_count": 3
        }
      ]
    },
    {
      "cell_type": "markdown",
      "source": [
        "문자열은 문자, 단어 등으로 구성된 문자들의 집합니다. => O\n",
        "  - 단어의 정의는? => 화이트 스페이스로 구분되는 문자들"
      ],
      "metadata": {
        "id": "JG7jsNqznVnc"
      }
    },
    {
      "cell_type": "markdown",
      "source": [
        "## 파이썬의 연산자\n",
        "- 기본적인 사칙연산\n",
        "  - 지수연산(**), 몫연산(//), 나머지(%)\n",
        "- 논리 연산자\n",
        "  - and, or, not\n",
        "- 비교 연산자\n",
        "  - ==, !=, <, <=, >, >="
      ],
      "metadata": {
        "id": "_TGGjpRCobNE"
      }
    },
    {
      "cell_type": "code",
      "source": [
        "# 같은가요? 다른가요?\n",
        "1 == 1.0"
      ],
      "metadata": {
        "colab": {
          "base_uri": "https://localhost:8080/"
        },
        "id": "litBodgTo0BD",
        "outputId": "3a0325c8-70dd-4f9d-db22-90bf19092776"
      },
      "execution_count": null,
      "outputs": [
        {
          "output_type": "execute_result",
          "data": {
            "text/plain": [
              "True"
            ]
          },
          "metadata": {},
          "execution_count": 4
        }
      ]
    },
    {
      "cell_type": "code",
      "source": [
        "# 같은가요? 다른가요?\n",
        "10 == 0x0a"
      ],
      "metadata": {
        "colab": {
          "base_uri": "https://localhost:8080/"
        },
        "id": "fM0o_bszo-fl",
        "outputId": "6277aff5-6d50-4b0f-e474-eee9b0d156e4"
      },
      "execution_count": null,
      "outputs": [
        {
          "output_type": "execute_result",
          "data": {
            "text/plain": [
              "True"
            ]
          },
          "metadata": {},
          "execution_count": 7
        }
      ]
    },
    {
      "cell_type": "code",
      "source": [
        "0x0a == 0x0A # 다르면 안되는데, ... "
      ],
      "metadata": {
        "colab": {
          "base_uri": "https://localhost:8080/"
        },
        "id": "FfJZl620pMYh",
        "outputId": "02ec5d76-794d-46c6-c905-1a32681e5eca"
      },
      "execution_count": null,
      "outputs": [
        {
          "output_type": "execute_result",
          "data": {
            "text/plain": [
              "True"
            ]
          },
          "metadata": {},
          "execution_count": 8
        }
      ]
    },
    {
      "cell_type": "code",
      "source": [
        "1 == True"
      ],
      "metadata": {
        "colab": {
          "base_uri": "https://localhost:8080/"
        },
        "id": "cCOQu2KRpPQu",
        "outputId": "ec3641c7-fa6c-4f80-f484-523a9ef2243f"
      },
      "execution_count": null,
      "outputs": [
        {
          "output_type": "execute_result",
          "data": {
            "text/plain": [
              "True"
            ]
          },
          "metadata": {},
          "execution_count": 9
        }
      ]
    },
    {
      "cell_type": "code",
      "source": [
        "3 == 3 and 10 != 5 # 결과는?"
      ],
      "metadata": {
        "colab": {
          "base_uri": "https://localhost:8080/"
        },
        "id": "0TT8p_rqpdJB",
        "outputId": "47536e0d-4711-4adc-97f2-d71e04f8c485"
      },
      "execution_count": null,
      "outputs": [
        {
          "output_type": "execute_result",
          "data": {
            "text/plain": [
              "True"
            ]
          },
          "metadata": {},
          "execution_count": 12
        }
      ]
    },
    {
      "cell_type": "code",
      "source": [
        "not 10 > 5 # 결과는?"
      ],
      "metadata": {
        "colab": {
          "base_uri": "https://localhost:8080/"
        },
        "id": "2jjFztLLprWQ",
        "outputId": "fa827f54-a036-4a52-b25e-86596b45ae6e"
      },
      "execution_count": null,
      "outputs": [
        {
          "output_type": "execute_result",
          "data": {
            "text/plain": [
              "False"
            ]
          },
          "metadata": {},
          "execution_count": 14
        }
      ]
    },
    {
      "cell_type": "markdown",
      "source": [
        "## 타입변환\n",
        "- 큰 자료형에서 작은 자료형으로 변환하는 경우를 주의"
      ],
      "metadata": {
        "id": "H29TeRHuqNwl"
      }
    },
    {
      "cell_type": "code",
      "source": [
        "float(1)"
      ],
      "metadata": {
        "colab": {
          "base_uri": "https://localhost:8080/"
        },
        "id": "2iojtBGlqTF6",
        "outputId": "78e714e5-7cb0-47c7-fe7e-8ed5b24952e4"
      },
      "execution_count": null,
      "outputs": [
        {
          "output_type": "execute_result",
          "data": {
            "text/plain": [
              "1.0"
            ]
          },
          "metadata": {},
          "execution_count": 15
        }
      ]
    },
    {
      "cell_type": "code",
      "source": [
        "# 실수에서 정수로의 변환은?\n",
        "int( 12.34 ) # 소수점 이하의 자리는 전부 버려지게 된다. "
      ],
      "metadata": {
        "colab": {
          "base_uri": "https://localhost:8080/"
        },
        "id": "aMwTbpq8qUNu",
        "outputId": "383a34b2-9489-4bcf-c158-a75d1c81e790"
      },
      "execution_count": null,
      "outputs": [
        {
          "output_type": "execute_result",
          "data": {
            "text/plain": [
              "12"
            ]
          },
          "metadata": {},
          "execution_count": 16
        }
      ]
    },
    {
      "cell_type": "code",
      "source": [
        "# 반올림\n",
        "round(12.6)"
      ],
      "metadata": {
        "colab": {
          "base_uri": "https://localhost:8080/"
        },
        "id": "V6f8joZyqe6x",
        "outputId": "e33708f7-7b40-4016-aa88-2215ae4abdf3"
      },
      "execution_count": null,
      "outputs": [
        {
          "output_type": "execute_result",
          "data": {
            "text/plain": [
              "13"
            ]
          },
          "metadata": {},
          "execution_count": 20
        }
      ]
    },
    {
      "cell_type": "code",
      "source": [
        "# 불리언으로 변환 결과는? \n",
        "# 빈 객체와 0을 제외한 나머지는 전부 참\n",
        "bool('')"
      ],
      "metadata": {
        "id": "csJtY7UpqhZu"
      },
      "execution_count": null,
      "outputs": []
    },
    {
      "cell_type": "markdown",
      "source": [
        "## 변수 이름 \n",
        "- 피해야 되는 변수 이름\n",
        "  - 예약어(파이썬에서 이미 사용하고 있는 이름들)\n",
        "  - 파이썬에서 `_`와 `__`는 특별한 의미로 사용이 됩니다.\n",
        "    - `_`가 사용되는 경우\n",
        "      - 변수를 사용하지 않는것을 알리는 암묵적인 룰\n",
        "      - 변수 이름에서 단어와 단어 사이에 붙이는 경우\n",
        "      - 캡슐화에 사용되는 경우\n",
        "        - 클래스 내에서 변수 이름 앞에 `_`가 붙으면, 비공개 변수라는 의미\n",
        "    - `__`가 사용되는 경우\n",
        "      - 매직메소드\n",
        "      - 클래스 내에서 맹글링 하는 경우\n",
        "      - `__name__`과 같은 경우 => `내장변수` 혹은 `글로벌 변수`라고 부릅니다. \n",
        "        - 사용자가 직접 정의한 변수가 아니고, 미리 정의된 변수"
      ],
      "metadata": {
        "id": "foerTbFLrKPM"
      }
    },
    {
      "cell_type": "code",
      "source": [
        "# 암묵적인 룰\n",
        "a, _ = [1, 2]"
      ],
      "metadata": {
        "id": "qNszNG2drQ-7"
      },
      "execution_count": null,
      "outputs": []
    },
    {
      "cell_type": "code",
      "source": [
        "_"
      ],
      "metadata": {
        "colab": {
          "base_uri": "https://localhost:8080/"
        },
        "id": "WRjpt78qrVsn",
        "outputId": "d223dad1-0767-4483-cd23-7f661158377d"
      },
      "execution_count": null,
      "outputs": [
        {
          "output_type": "execute_result",
          "data": {
            "text/plain": [
              "10"
            ]
          },
          "metadata": {},
          "execution_count": 24
        }
      ]
    },
    {
      "cell_type": "markdown",
      "source": [
        "보통 파이썬은 이미 정의된(예약어) 이름을 사용할 때 이름의 앞 또는 뒤에 `_`를 붙여서 표현"
      ],
      "metadata": {
        "id": "2IlCAslAuDBP"
      }
    },
    {
      "cell_type": "code",
      "source": [
        "_list = 10\n",
        "_list"
      ],
      "metadata": {
        "colab": {
          "base_uri": "https://localhost:8080/"
        },
        "id": "Ak6YtKdbt9KV",
        "outputId": "3e93ee24-ff23-4f64-ce89-bb0bbb24c848"
      },
      "execution_count": null,
      "outputs": [
        {
          "output_type": "execute_result",
          "data": {
            "text/plain": [
              "10"
            ]
          },
          "metadata": {},
          "execution_count": 29
        }
      ]
    },
    {
      "cell_type": "code",
      "source": [
        "int_ = 10\n",
        "int_"
      ],
      "metadata": {
        "colab": {
          "base_uri": "https://localhost:8080/"
        },
        "id": "53BoPJGyuK01",
        "outputId": "4f7f43a1-e25d-4232-b69b-a673b5d9712a"
      },
      "execution_count": null,
      "outputs": [
        {
          "output_type": "execute_result",
          "data": {
            "text/plain": [
              "10"
            ]
          },
          "metadata": {},
          "execution_count": 30
        }
      ]
    },
    {
      "cell_type": "code",
      "source": [
        "up7 = 10"
      ],
      "metadata": {
        "id": "xLvOAXYtso5Q"
      },
      "execution_count": null,
      "outputs": []
    },
    {
      "cell_type": "code",
      "source": [
        "__name__"
      ],
      "metadata": {
        "colab": {
          "base_uri": "https://localhost:8080/",
          "height": 35
        },
        "id": "dE-P33SIr64k",
        "outputId": "0e69e588-4fd4-4656-ef1f-0d4157313f50"
      },
      "execution_count": null,
      "outputs": [
        {
          "output_type": "execute_result",
          "data": {
            "application/vnd.google.colaboratory.intrinsic+json": {
              "type": "string"
            },
            "text/plain": [
              "'__main__'"
            ]
          },
          "metadata": {},
          "execution_count": 25
        }
      ]
    },
    {
      "cell_type": "markdown",
      "source": [
        "## 시퀀스 타입\n",
        "- 가변타입 Vs. 불가변 타입\n",
        "  - 가변 타입에서만 사용가능한 연산자들이 따로존재\n",
        "  - 공통 연산자는 동일하게 사용이 가능"
      ],
      "metadata": {
        "id": "sXMLuivKxKG2"
      }
    },
    {
      "cell_type": "code",
      "source": [
        "tuple_ = (1, 2, 3, 4)\n",
        "list_ = [1, 2, 3, 4]"
      ],
      "metadata": {
        "id": "HRPSR-PYxYq0"
      },
      "execution_count": null,
      "outputs": []
    },
    {
      "cell_type": "code",
      "source": [
        "print( 10 in tuple_ )\n",
        "print( 10 in list_ )"
      ],
      "metadata": {
        "colab": {
          "base_uri": "https://localhost:8080/"
        },
        "id": "ukvRrKqrxcVu",
        "outputId": "f034b4b1-019c-4393-e68e-4c6ffdeccb08"
      },
      "execution_count": null,
      "outputs": [
        {
          "output_type": "stream",
          "name": "stdout",
          "text": [
            "False\n",
            "False\n"
          ]
        }
      ]
    },
    {
      "cell_type": "code",
      "source": [
        "tuple_ + (5, 6, 7)"
      ],
      "metadata": {
        "colab": {
          "base_uri": "https://localhost:8080/"
        },
        "id": "XVDiE1exxloo",
        "outputId": "14e31245-d8de-46a4-d9e3-034c33497825"
      },
      "execution_count": null,
      "outputs": [
        {
          "output_type": "execute_result",
          "data": {
            "text/plain": [
              "(1, 2, 3, 4, 5, 6, 7)"
            ]
          },
          "metadata": {},
          "execution_count": 33
        }
      ]
    },
    {
      "cell_type": "code",
      "source": [
        "list_ + [5, 6, 7]"
      ],
      "metadata": {
        "colab": {
          "base_uri": "https://localhost:8080/"
        },
        "id": "HIyURrDgxo1k",
        "outputId": "ff9267cd-e476-4ee7-fee9-832f1ab90d68"
      },
      "execution_count": null,
      "outputs": [
        {
          "output_type": "execute_result",
          "data": {
            "text/plain": [
              "[1, 2, 3, 4, 5, 6, 7]"
            ]
          },
          "metadata": {},
          "execution_count": 34
        }
      ]
    },
    {
      "cell_type": "code",
      "source": [
        "tuple_ * 2"
      ],
      "metadata": {
        "colab": {
          "base_uri": "https://localhost:8080/"
        },
        "id": "GUJWM4TzxqeZ",
        "outputId": "f7e3e621-f2e1-4268-aa7f-65323d262930"
      },
      "execution_count": null,
      "outputs": [
        {
          "output_type": "execute_result",
          "data": {
            "text/plain": [
              "(1, 2, 3, 4, 1, 2, 3, 4)"
            ]
          },
          "metadata": {},
          "execution_count": 35
        }
      ]
    },
    {
      "cell_type": "code",
      "source": [
        "list_ * 2"
      ],
      "metadata": {
        "colab": {
          "base_uri": "https://localhost:8080/"
        },
        "id": "jWzo_cXgxujl",
        "outputId": "6d9fe683-05ed-4c13-c5bb-090fa68003b2"
      },
      "execution_count": null,
      "outputs": [
        {
          "output_type": "execute_result",
          "data": {
            "text/plain": [
              "[1, 2, 3, 4, 1, 2, 3, 4]"
            ]
          },
          "metadata": {},
          "execution_count": 36
        }
      ]
    },
    {
      "cell_type": "markdown",
      "source": [
        "### 인덱싱과 슬라이스\n",
        "- 정수 인덱싱이 가능(음수 인덱스도 존재)\n",
        "  - 음수는 시퀀스 타입의 마지막 원소부터 -1 부터 시작해서 -1씩 감소"
      ],
      "metadata": {
        "id": "BX-1lueQyQIm"
      }
    },
    {
      "cell_type": "code",
      "source": [
        "# 시퀀스 타입의 가장 마지막 원소를 표현할 수 있는 방법\n",
        "\n",
        "print( tuple_[-1] )\n",
        "\n",
        "# 이 문장 가능한 문장인가?\n",
        "print( list_[ len(list_) - 1] )"
      ],
      "metadata": {
        "colab": {
          "base_uri": "https://localhost:8080/"
        },
        "id": "POTgKLXUySDs",
        "outputId": "e1e16236-19a0-4226-fd65-fe7e0b40fd70"
      },
      "execution_count": null,
      "outputs": [
        {
          "output_type": "stream",
          "name": "stdout",
          "text": [
            "4\n",
            "4\n"
          ]
        }
      ]
    },
    {
      "cell_type": "markdown",
      "source": [
        "슬라이스를 이용한 시퀀스 타입 뒤집기"
      ],
      "metadata": {
        "id": "GWatHuOqy_cF"
      }
    },
    {
      "cell_type": "code",
      "source": [
        "print( tuple_[-1::-1] )\n",
        "print( list_[::-1] )"
      ],
      "metadata": {
        "colab": {
          "base_uri": "https://localhost:8080/"
        },
        "id": "oq4JsQ1DzCEJ",
        "outputId": "921d37c9-0787-44c0-d4d2-c7e371bdd9a3"
      },
      "execution_count": null,
      "outputs": [
        {
          "output_type": "stream",
          "name": "stdout",
          "text": [
            "(4, 3, 2, 1)\n",
            "[4, 3, 2, 1]\n"
          ]
        }
      ]
    },
    {
      "cell_type": "markdown",
      "source": [
        "### 깊은복사, 얕은복사\n",
        "- 파이썬은 기본적으로 `얕은복사`를 수행 합니다. "
      ],
      "metadata": {
        "id": "GVWO2DcVzma2"
      }
    },
    {
      "cell_type": "code",
      "source": [
        "# 얕은복사? 깊은복사?\n",
        "# 얕은 복사는 메모리의 주소만 복사되고, 값은 복사되지 않는다.\n",
        "a = list_"
      ],
      "metadata": {
        "id": "f0Gi3e9bzoEO"
      },
      "execution_count": null,
      "outputs": []
    },
    {
      "cell_type": "code",
      "source": [
        "# 깊은복사?\n",
        "a = list_.copy()\n",
        "a = list_[:]"
      ],
      "metadata": {
        "id": "PtVmvThz0BQc"
      },
      "execution_count": null,
      "outputs": []
    },
    {
      "cell_type": "code",
      "source": [
        "# 파이썬의 깊은 복사는 deepcopy 모듈을 이용해서만 가능합니다.\n",
        "from copy import deepcopy\n",
        "a = deepcopy(list_)"
      ],
      "metadata": {
        "id": "k7rVYkId0n4n"
      },
      "execution_count": null,
      "outputs": []
    },
    {
      "cell_type": "markdown",
      "source": [
        "# 제어문"
      ],
      "metadata": {
        "id": "792HzJGR1ZAn"
      }
    },
    {
      "cell_type": "markdown",
      "source": [
        "## 반복문"
      ],
      "metadata": {
        "id": "bOmO-8EOZ8by"
      }
    },
    {
      "cell_type": "markdown",
      "source": [
        "1부터 n까지의 전체 합을 구하는 반복문을 작성해봅시다"
      ],
      "metadata": {
        "id": "5H_3dD-N2CrO"
      }
    },
    {
      "cell_type": "code",
      "source": [
        "n = 20"
      ],
      "metadata": {
        "id": "XmytB07_2Q_3"
      },
      "execution_count": null,
      "outputs": []
    },
    {
      "cell_type": "code",
      "source": [
        "# while\n",
        "\n",
        "total = 0\n",
        "while n:\n",
        "  total += n\n",
        "  if total > 10:\n",
        "    break\n",
        "  n -= 1\n",
        "print(total)"
      ],
      "metadata": {
        "colab": {
          "base_uri": "https://localhost:8080/"
        },
        "id": "nNAJ2mgW1ZyI",
        "outputId": "5814c8ba-32e7-40bb-e141-3dcc451de7d4"
      },
      "execution_count": null,
      "outputs": [
        {
          "output_type": "stream",
          "name": "stdout",
          "text": [
            "20\n"
          ]
        }
      ]
    },
    {
      "cell_type": "code",
      "source": [
        "# for \n",
        "total = 0 \n",
        "for i in range(1, n+1):\n",
        "  total += i\n",
        "print(total)"
      ],
      "metadata": {
        "colab": {
          "base_uri": "https://localhost:8080/"
        },
        "id": "ark1ziYH2I55",
        "outputId": "76f223ec-09f8-40a0-db79-51178123142d"
      },
      "execution_count": null,
      "outputs": [
        {
          "output_type": "stream",
          "name": "stdout",
          "text": [
            "210\n"
          ]
        }
      ]
    },
    {
      "cell_type": "markdown",
      "source": [
        "## 별찍기\n",
        "\n",
        "```\n",
        "*\n",
        "**\n",
        "***\n",
        "****\n",
        "*****\n",
        "******\n",
        "*******\n",
        "```"
      ],
      "metadata": {
        "id": "9VUtTPssFRXQ"
      }
    },
    {
      "cell_type": "code",
      "source": [
        "n = 7"
      ],
      "metadata": {
        "id": "v_zEALOUFWa4"
      },
      "execution_count": null,
      "outputs": []
    },
    {
      "cell_type": "code",
      "source": [
        "for i in range(1, n+1):\n",
        "  for j in range(i):\n",
        "    print('*', end='')\n",
        "  print()"
      ],
      "metadata": {
        "colab": {
          "base_uri": "https://localhost:8080/"
        },
        "id": "NEvDlliCIEkJ",
        "outputId": "272b03ae-2ef3-4571-b410-340793fc721b"
      },
      "execution_count": null,
      "outputs": [
        {
          "output_type": "stream",
          "name": "stdout",
          "text": [
            "*\n",
            "**\n",
            "***\n",
            "****\n",
            "*****\n",
            "******\n",
            "*******\n"
          ]
        }
      ]
    },
    {
      "cell_type": "markdown",
      "source": [
        "# 함수\n",
        "- 전역변수, 지역변수, 클래스 변수, 객체변수\n",
        "  - 변수가 정의되는 위치에 따라서 결정\n",
        "  "
      ],
      "metadata": {
        "id": "M7OUUS2AaflM"
      }
    },
    {
      "cell_type": "markdown",
      "source": [
        "다음 코드의 실행 결과는?\n",
        "- 지역변수의 유효기간은? \n",
        "  - 함수가 실행되는 동안에만 유효\n",
        "  - 함수가 종료되면, 변수도 사라진다(메모리에서)\n",
        "  - 함수는 언제 종료?\n",
        "    - `return` 명령어가 실행되면\n",
        "    - 더 이상 실행할 명령어가 없다면 자동으로 종료"
      ],
      "metadata": {
        "id": "bduMTxOJa4DB"
      }
    },
    {
      "cell_type": "code",
      "source": [
        "a = '전역변수' # 함수 외부\n",
        "\n",
        "def function():\n",
        "  a = '지역변수' # 함수 내부\n",
        "\n",
        "function()\n",
        "print(a)"
      ],
      "metadata": {
        "id": "8kSyE9M5ag30"
      },
      "execution_count": null,
      "outputs": []
    },
    {
      "cell_type": "markdown",
      "source": [
        "## 내장함수\n",
        "- Built-in function"
      ],
      "metadata": {
        "id": "jC5yVULob77c"
      }
    },
    {
      "cell_type": "code",
      "source": [
        "# abs\n",
        "# 절대값을 반환해주는 함수\n",
        "abs(-10)"
      ],
      "metadata": {
        "colab": {
          "base_uri": "https://localhost:8080/"
        },
        "id": "sv_XY6fxb-61",
        "outputId": "611d54a2-ccec-4516-abb8-1b39e6c3b9d1"
      },
      "execution_count": null,
      "outputs": [
        {
          "output_type": "execute_result",
          "data": {
            "text/plain": [
              "10"
            ]
          },
          "metadata": {},
          "execution_count": 63
        }
      ]
    },
    {
      "cell_type": "code",
      "source": [
        "chr(70)"
      ],
      "metadata": {
        "colab": {
          "base_uri": "https://localhost:8080/",
          "height": 35
        },
        "id": "vv-wMTjNcMwY",
        "outputId": "e1fb1949-c567-43ef-dacc-9e4a2c608b2d"
      },
      "execution_count": null,
      "outputs": [
        {
          "output_type": "execute_result",
          "data": {
            "application/vnd.google.colaboratory.intrinsic+json": {
              "type": "string"
            },
            "text/plain": [
              "'F'"
            ]
          },
          "metadata": {},
          "execution_count": 65
        }
      ]
    },
    {
      "cell_type": "code",
      "source": [
        "ord('A')"
      ],
      "metadata": {
        "colab": {
          "base_uri": "https://localhost:8080/"
        },
        "id": "_FOuzFtRcQwN",
        "outputId": "d4295ea7-1dbe-45bd-b5c9-9925225998ca"
      },
      "execution_count": null,
      "outputs": [
        {
          "output_type": "execute_result",
          "data": {
            "text/plain": [
              "65"
            ]
          },
          "metadata": {},
          "execution_count": 66
        }
      ]
    },
    {
      "cell_type": "code",
      "source": [
        "# all은 이터레이블의 모든 요소가 참이면 참을 반환\n",
        "all( [1, 2, 3, 4] )"
      ],
      "metadata": {
        "colab": {
          "base_uri": "https://localhost:8080/"
        },
        "id": "6VA0npFRcWlM",
        "outputId": "1c69c425-c695-4602-b596-a029f0371e1c"
      },
      "execution_count": null,
      "outputs": [
        {
          "output_type": "execute_result",
          "data": {
            "text/plain": [
              "True"
            ]
          },
          "metadata": {},
          "execution_count": 67
        }
      ]
    },
    {
      "cell_type": "code",
      "source": [
        "# 결과는?\n",
        "all( [0, 1, 2, 3] )"
      ],
      "metadata": {
        "colab": {
          "base_uri": "https://localhost:8080/"
        },
        "id": "QxF8Uvy3cnPc",
        "outputId": "ae344efc-a1ad-4b01-88bd-03702184ce91"
      },
      "execution_count": null,
      "outputs": [
        {
          "output_type": "execute_result",
          "data": {
            "text/plain": [
              "False"
            ]
          },
          "metadata": {},
          "execution_count": 68
        }
      ]
    },
    {
      "cell_type": "code",
      "source": [
        "# 결과는?\n",
        "any( [0, 1, 2, 3] )"
      ],
      "metadata": {
        "colab": {
          "base_uri": "https://localhost:8080/"
        },
        "id": "p9yto6EWcu-T",
        "outputId": "1af4d336-6602-4713-8f43-d65066cb054f"
      },
      "execution_count": null,
      "outputs": [
        {
          "output_type": "execute_result",
          "data": {
            "text/plain": [
              "True"
            ]
          },
          "metadata": {},
          "execution_count": 69
        }
      ]
    },
    {
      "cell_type": "markdown",
      "source": [
        "이터레이블이 객체란? \n",
        "  - 반복가능한 객체\n",
        "  - 파이썬에서는 더 엄밀한 의미로 내부에 `__iter__` 메서드가 정의되어 있으면 이터레이블 객체 입니다. "
      ],
      "metadata": {
        "id": "35rHsDaVc2PU"
      }
    },
    {
      "cell_type": "code",
      "source": [
        "a = 10 # 반복 불가능한 객체\n",
        "\n",
        "for i in a:\n",
        "  print(i)"
      ],
      "metadata": {
        "colab": {
          "base_uri": "https://localhost:8080/",
          "height": 218
        },
        "id": "Thu3Nb29dEYR",
        "outputId": "b1109810-e68f-4572-d8ea-70605e37b7f2"
      },
      "execution_count": null,
      "outputs": [
        {
          "output_type": "error",
          "ename": "TypeError",
          "evalue": "ignored",
          "traceback": [
            "\u001b[0;31m---------------------------------------------------------------------------\u001b[0m",
            "\u001b[0;31mTypeError\u001b[0m                                 Traceback (most recent call last)",
            "\u001b[0;32m<ipython-input-70-e186054aebbb>\u001b[0m in \u001b[0;36m<module>\u001b[0;34m()\u001b[0m\n\u001b[1;32m      1\u001b[0m \u001b[0ma\u001b[0m \u001b[0;34m=\u001b[0m \u001b[0;36m10\u001b[0m \u001b[0;31m# 반복 불가능한 객체\u001b[0m\u001b[0;34m\u001b[0m\u001b[0;34m\u001b[0m\u001b[0m\n\u001b[1;32m      2\u001b[0m \u001b[0;34m\u001b[0m\u001b[0m\n\u001b[0;32m----> 3\u001b[0;31m \u001b[0;32mfor\u001b[0m \u001b[0mi\u001b[0m \u001b[0;32min\u001b[0m \u001b[0ma\u001b[0m\u001b[0;34m:\u001b[0m\u001b[0;34m\u001b[0m\u001b[0;34m\u001b[0m\u001b[0m\n\u001b[0m\u001b[1;32m      4\u001b[0m   \u001b[0mprint\u001b[0m\u001b[0;34m(\u001b[0m\u001b[0mi\u001b[0m\u001b[0;34m)\u001b[0m\u001b[0;34m\u001b[0m\u001b[0;34m\u001b[0m\u001b[0m\n",
            "\u001b[0;31mTypeError\u001b[0m: 'int' object is not iterable"
          ]
        }
      ]
    },
    {
      "cell_type": "code",
      "source": [
        "'__iter__' in dir(list_)"
      ],
      "metadata": {
        "colab": {
          "base_uri": "https://localhost:8080/"
        },
        "id": "7eLXuUizdpdU",
        "outputId": "a06c8409-a5a0-4582-82c8-8a86eb6ac525"
      },
      "execution_count": null,
      "outputs": [
        {
          "output_type": "execute_result",
          "data": {
            "text/plain": [
              "True"
            ]
          },
          "metadata": {},
          "execution_count": 72
        }
      ]
    },
    {
      "cell_type": "code",
      "source": [
        "'__iter__' in dir(a)"
      ],
      "metadata": {
        "colab": {
          "base_uri": "https://localhost:8080/"
        },
        "id": "IzTJeA6Pd2Uk",
        "outputId": "b0b2d1b2-e06d-4274-8206-87e57cbab219"
      },
      "execution_count": null,
      "outputs": [
        {
          "output_type": "execute_result",
          "data": {
            "text/plain": [
              "False"
            ]
          },
          "metadata": {},
          "execution_count": 73
        }
      ]
    },
    {
      "cell_type": "markdown",
      "source": [
        "# 클래스"
      ],
      "metadata": {
        "id": "lTXeOaCAebqR"
      }
    },
    {
      "cell_type": "markdown",
      "source": [
        "## 클래스의 구성요소\n",
        "- 속성(멤버변수)\n",
        "  - 클래스 변수, 객체변수\n",
        "- 메소드\n",
        "  - 생성자(Construct)\n",
        "  - 파이썬의 생성자 메소드의 이름이 정해져 있습니다. (`__init__`)\n",
        "  - 추상 메소드\n",
        "    - 구현되지 않은 메소드 \n",
        "    - 파이썬은 추상 메소드를 만들기 위해 `@abstract` 데코레이터를 이용해서 정의할 수 있다. \n",
        "    - 이런 추상 메소드가 포함된 클래스를 `추상 클래스`라고 한다. \n",
        "  - 매직메소드(던더 메소드)\n",
        "  - 클래스 메소드\n",
        "  - 스태틱 메소드\n",
        "  - getter & setter\n",
        "    - `@property` 데코레이터를 이용해서 getter 메소드를 정의\n",
        "    - `@getter_메소드_이름.setter`로 정의"
      ],
      "metadata": {
        "id": "LrKRE_mOgmkE"
      }
    },
    {
      "cell_type": "markdown",
      "source": [
        "## 함수와 메소드의 차이\n",
        "- 함수가 어디서 정의되는가\n",
        "  - 클래스 내부에서 정의되면 `메소드`라고 부릅니다\n",
        "- `self`를 반드시 첫 번재 매개변수로 정의\n",
        "  - `self`라는 이름은 관용적인 표현\n",
        "- 메소드인데 `self`를 정의하지 않는 경우\n",
        "  - 클래스 메소드와 스태틱 메소드인 경우\n",
        "  - 클래스 메소드는 `self` 대신에 `cls`를 관용적으로 사용\n",
        "  - 스태틱 메소드는 `self`와 `cls` 둘다 정의되지 않습니다\n",
        "    - 클래스 이름을 통해서 호출\n",
        "    - 일반적으로 메소드는 객체를 통해서 호출"
      ],
      "metadata": {
        "id": "kkjiHdmAecdB"
      }
    },
    {
      "cell_type": "markdown",
      "source": [
        "## 생성자\n",
        "- 생성자의 이름은 정해져 있습니다. \n",
        "  - `__init__`\n",
        "- 생성자는 언제 실행?\n",
        "  - 객체가 생성될 때, 자동으로 실행\n",
        "- 생성자도 메소드이기 때문에 `self`를 첫 번째 매개변수로 정의해야 한다."
      ],
      "metadata": {
        "id": "_6oIXirrh3A8"
      }
    },
    {
      "cell_type": "markdown",
      "source": [
        "## 객체지향의 특징\n",
        "1. 은닉성(캡슐화)\n",
        "2. 상속\n",
        "  - 다형성\n",
        "  - 다중상속"
      ],
      "metadata": {
        "id": "hC7uc4xIh_xu"
      }
    },
    {
      "cell_type": "markdown",
      "source": [
        "### 은닉성(캡슐화)?\n",
        "- 속성이나, 메소드를 외부의 접근으로부터 보호하는 장치\n",
        "- 파이썬에서는 엄밀하게는 은닉성이 제공되지 않습니다. \n",
        "  - 속성이나 메소드 이름 앞에 `_`를 붙이는 것으로 표현"
      ],
      "metadata": {
        "id": "dAWwjhAJi2HK"
      }
    },
    {
      "cell_type": "markdown",
      "source": [
        "### 상속\n",
        "- 속성이나, 메소드를 다른 클래스가 물려받아서 그대로 사용\n",
        "- 다형성(Polymorphism)\n",
        "  - 파이썬은 엄밀한 의미의 다형성을 제공하지 않습니다. \n",
        "  - 일반적으로 객체지향에서 얘기하는 다형성이란? \n",
        "    - 하나의 변수가 여러개의 타입을 가질 수 있는 것\n",
        "    - 하지만, 파이썬은 변수가 타입을 따로 갖지 않기 때문에, 엄밀한 의미의 다형성은 없다고 보면 됩니다. \n",
        "  - 파이썬 에서는 다형성을 표현하기 위한 기능으로 `오버라이딩` 정도가 있습니다. "
      ],
      "metadata": {
        "id": "Xa-pcyzYjKsl"
      }
    },
    {
      "cell_type": "markdown",
      "source": [
        "#### 오버라이딩?\n",
        "- 부모 클래스로부터 물려받은 메소드를 재정의 하는 것\n",
        "- 오버라이딩 하기 위한 조건\n",
        "  - 상속을 통해서만 가능\n",
        "  - 재정의 하려는 메소드의 이름이 반드시 같아야 한다.\n",
        "  - 매개변수의 이름과 개수는 영향을 주지 않습니다. \n",
        "- 생성자는 오버라이딩 가능한가? \n",
        "  - 가능합니다.\n",
        "\n",
        "- 부모 클래스의 메소드를 호출하는 방법\n",
        "  - super()를 통해서 부모 클래스의 메소드나, 생성자를 호출할 수 있다. \n",
        "  - super()를 이용하는 경우 `self` 매개변수는 어떻게 전달?\n",
        "    - 전달할 필요 없습니다. \n",
        "    - 직접 전달하지 않는다."
      ],
      "metadata": {
        "id": "Vbg7XPv8j0m8"
      }
    },
    {
      "cell_type": "markdown",
      "source": [
        "## 추상 클래스\n",
        "- 추상 메소드를 가지고 있는 클래스\n",
        "- 반드시 상속을 통해서 추상 메소드를 `오버라이딩` 해야만 한다. \n",
        "  - 상속을 통해서 `오버라이딩` 하지 않으면 객체화 할 수 없다. "
      ],
      "metadata": {
        "id": "w1bJSjt2kPSZ"
      }
    }
  ]
}