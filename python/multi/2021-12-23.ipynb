{
  "nbformat": 4,
  "nbformat_minor": 0,
  "metadata": {
    "colab": {
      "name": "2021-12-23.ipynb",
      "provenance": []
    },
    "kernelspec": {
      "name": "python3",
      "display_name": "Python 3"
    },
    "language_info": {
      "name": "python"
    }
  },
  "cells": [
    {
      "cell_type": "markdown",
      "source": [
        "# 장고 설치\n",
        "- 교재(p. 87). 2.3.3. Django 설치하기\n",
        "\n",
        "- VScode에서는\n",
        "  - 파이썬 파일을 선택한 이후에 인터프리터를 설치한 가상환경을 선택해주시면 됩니다. \n",
        "  - 터미널 실행했을 때, 다음과 같이 보여지면 됩니다. \n",
        "\n",
        "  ```\n",
        "      Microsoft Windows [Version 10.0.18362.959]\n",
        "      (c) 2019 Microsoft Corporation. All rights reserved.\n",
        "\n",
        "      C:\\IJH\\workspace>C:/ProgramData/Anaconda3/Scripts/activate\n",
        "\n",
        "      (base) C:\\IJH\\workspace>conda activate multicampus\n",
        "\n",
        "      (multicampus) C:\\IJH\\workspace>\n",
        "      -------------\n",
        "      가상환경이 선택된 이후에 명령어를 실행을 해야만 합니다. \n",
        "  ```"
      ],
      "metadata": {
        "id": "v-s9k86xK-Xi"
      }
    },
    {
      "cell_type": "markdown",
      "source": [
        "## 터미널에서 가상환경 선택\n",
        "\n",
        "- 가상환경 목록 확인\n",
        "\n",
        "```\n",
        "Microsoft Windows [Version 10.0.18362.959]\n",
        "(c) 2019 Microsoft Corporation. All rights reserved.\n",
        "\n",
        "C:\\IJH\\workspace>conda env list\n",
        "                 --------------\n",
        "                 가상환경 목록 확인하기 위한 명령어\n",
        "# conda environments:\n",
        "#\n",
        "base                  *                        C:\\ProgramData\\Anaconda3\n",
        "----                -----                   -----------------------------\n",
        "가상환경 이름    현재 선택된 가상환경          가상환경이 설치된 위치(경로)\n",
        "multicampus              C:\\ProgramData\\Anaconda3\\envs\\multicampus   \n",
        "\n",
        "```\n",
        "\n",
        "- 가상환경 선택\n",
        "\n",
        "```\n",
        "C:\\IJH\\workspace>conda activate multicampus\n",
        "\n",
        "(multicampus) C:\\IJH\\workspace>conda env list\n",
        "-------------\n",
        "현재 선택된 가상환경\n",
        "# conda environments:\n",
        "#\n",
        "base                     C:\\ProgramData\\Anaconda3\n",
        "multicampus           *  C:\\ProgramData\\Anaconda3\\envs\\multicampus   \n",
        "                    ------\n",
        "                 현재 선택된 가상환경\n",
        "\n",
        "```\n",
        "\n",
        "- `주의`\n",
        "  - 설치는 명령어 기반이기 때문에 명령어를 실행할 때의 가상환경이 중요합니다. \n",
        "  - 엉뚱한 다른 가상환경에 설치될 수 있습니다. "
      ],
      "metadata": {
        "id": "NHcPAAvLNTfz"
      }
    },
    {
      "cell_type": "markdown",
      "source": [
        "## 파이썬 모듈(패키지) 설치\n",
        "- 어떤걸 사용해도 문제는 없습니다. \n",
        "  1. pip\n",
        "  2. conda "
      ],
      "metadata": {
        "id": "B3VzWQaaLMjj"
      }
    },
    {
      "cell_type": "markdown",
      "source": [
        "### pip를 이용한 패키지 관리\n",
        "\n",
        "- 설치된 모듈(패키지) 확인\n",
        "\n",
        "```\n",
        "prompt> pip list\n",
        "```\n",
        "\n",
        "- pip를 이용한 설치\n",
        "\n",
        "```\n",
        "prompt> pip install [설치할 모듈(패키지)이름]\n",
        "```\n",
        "\n",
        "- pip를 이용한 모듈(패키지) 업그레이드\n",
        "\n",
        "```\n",
        "prompt> pip install --upgrade [업그레이드할 모듈(패키지)이름]\n",
        "```"
      ],
      "metadata": {
        "id": "GcWRgmcpRZEN"
      }
    },
    {
      "cell_type": "markdown",
      "source": [
        "### conda를 이용한 패키지 관리\n",
        "\n",
        "- 설치된 모듈(패키지) 확인\n",
        "\n",
        "```\n",
        "prompt> conda list\n",
        "```\n",
        "\n",
        "- 설치\n",
        "\n",
        "```\n",
        "prompt> conda install [설치할 모듈(패키지)이름]\n",
        "```"
      ],
      "metadata": {
        "id": "UecaSVUXRi9I"
      }
    },
    {
      "cell_type": "markdown",
      "source": [
        "## 장고 설치\n",
        "\n",
        "- pip 업그레이드\n",
        "  - pip는 파이썬의 패키지 관리자 입니다. \n",
        "  - 그래서, 항상 최신버전으로 유지해주시는게 좋습니다. \n",
        "  - 명령어가 `update`가 아닌, `upgrade`라는거에 주의 해주세요\n",
        "  - 권한 문제가 발생할 수 있지만, 설치가 안되는건 아니기 때문에, 무시해주겠습니다. \n",
        "\n",
        "```\n",
        "prompt> pip install --upgrade pip\n",
        "```\n",
        "\n",
        "- 장고 설치\n",
        "\n",
        "```\n",
        "prompt> pip install django\n",
        "```\n",
        "\n",
        "- 설치 확인\n",
        "  - 목록에서 `django` 이름이 보이면 됩니다. \n",
        "\n",
        "```\n",
        "prompt> pip list\n",
        "...\n",
        "django\n",
        "...\n",
        "```\n",
        "\n",
        "\n",
        "\n"
      ],
      "metadata": {
        "id": "ibcf_zq2Rqsn"
      }
    },
    {
      "cell_type": "markdown",
      "source": [
        "# 장고 예제 따라해보기"
      ],
      "metadata": {
        "id": "d33zZdPfTEiT"
      }
    },
    {
      "cell_type": "markdown",
      "source": [
        "## 프로젝트 생성\n",
        "- 하나의 웹 사이트를 만들려면 하나의 프로젝트를 생성\n",
        "- 교제(p. 90)\n",
        "  - 교재에서 첫번째 프로젝트의 이름은 `ToDoList` 입니다. \n",
        "\n",
        "- 프로젝트를 생성하는 방법\n",
        "\n",
        "```\n",
        "prompt> django-amdin startproject 프로젝트이름\n",
        "```"
      ],
      "metadata": {
        "id": "RMBrAJnfrEW8"
      }
    },
    {
      "cell_type": "markdown",
      "source": [
        "### 프로젝트에서 생성되는 것들\n",
        "\n",
        "```\n",
        "프로젝트/\n",
        "  - manage.py\n",
        "  - 프로젝트/\n",
        "    - __init__.py\n",
        "    - setting.py\n",
        "    - urls.py\n",
        "    - wsgi.py\n",
        "    - asgi.py\n",
        "```\n",
        "\n",
        "- manage.py\n",
        "  - 전체적인 프로젝트를 관리할 수 있는 유틸\n",
        "  - 프로젝트 초기화, 마이그레이션, 앱 생성, ... \n",
        "\n",
        "- 프로젝트/setting.py\n",
        "  - 현재 프로젝트의 환경설정 파일\n",
        "\n",
        "- 프로젝트/urls.py\n",
        "  - 현재 프로젝트의 URL에 대한 설정\n",
        "\n",
        "- 프로젝트/wsgi, asgi.py \n",
        "  - 작성된 웹 사이트를 서버를 통해서 배포하는 경우에 사용\n",
        "  - 수업시간에는 로컬 환경에서만 동작을 확인"
      ],
      "metadata": {
        "id": "faHSYYzZrZTC"
      }
    },
    {
      "cell_type": "markdown",
      "source": [
        "## 가상서버 실행\n",
        "\n",
        "```\n",
        "prompt> cd 프로젝트폴더\n",
        "prompt> python manage.py runserver\n",
        "```"
      ],
      "metadata": {
        "id": "1ldvssAuuHF6"
      }
    },
    {
      "cell_type": "markdown",
      "source": [
        "## 앱 생성하기\n",
        "- 앱(app/application)\n",
        "- 하나의 프로젝트는 여러개의 앱으로 구성\n",
        "- 기능 또는 서비스에 따라서 여러개의 앱을 구성\n",
        "  - 현재 진행하는 프로젝트는 하나의 앱으로 구성이 되어 있습니다. \n",
        "  - `ToDoList` 프로젝트는 `할 일 목록` 기능만 있는 겁니다. \n",
        "\n",
        "- 앱 생성하는 방법\n",
        "  - 교재에서 사용하는 앱의 이름은 `my_to_do_app` 입니다. \n",
        "\n",
        "```\n",
        "prompt> python manage.py startapp 앱이름\n",
        "```"
      ],
      "metadata": {
        "id": "IrR4N7tDvPTD"
      }
    },
    {
      "cell_type": "markdown",
      "source": [
        "## MVC 구조\n",
        "- `웹 프레임워크`란? \n",
        "  - 웹 서비스를 하기 위해 필요한 구조를 제어하기 편하게 미리 만들어 놓은 구조 정도로 이해\n",
        "  - 프레임워크에서 제공하는 구성에 맞춰서 작성만 하면 서비스가 가능\n",
        "\n",
        "- MVC\n",
        "  - Model, View, Controll 의 약자로 \n",
        "  - 기능별로 프레임워크 구조가 나눠져 있다고 보면 됩니다. \n",
        "  - 각각의 역할을 이해하고, 그에 맞춰서 기능을 구현\n",
        "\n",
        "  - Model\n",
        "    - DB와 관련된 기능\n",
        "    - 장고에서는 `models.py`가 해당 역할을 수행\n",
        "  - View\n",
        "    - 화면에 보여지는 기능\n",
        "    - 장고에서는 `Templates`를 이용해서 view 역할을 수행\n",
        "  - Control \n",
        "    - View와 Model 사이의 제어 역할\n",
        "    - 장고에서는 `views.py`가 해당 역할을 수행\n",
        "\n",
        "- 장고는 다른 의미로 `MVT` 구조라고 하기도 합니다. "
      ],
      "metadata": {
        "id": "yFybn23h1bCg"
      }
    },
    {
      "cell_type": "markdown",
      "source": [
        "## 템플릿 작성하기\n",
        "- 교재(p. 134) 1.4 HTML 템플릿 사용하기\n",
        "- `view`를 담당하는 기능\n",
        "  - 사용자에게 보여지는 기능\n",
        "  - 결국, HTML된 소스코드를 브라우저에 보여질 수 있게 하는 기능\n",
        "\n",
        "- `templates` 폴더는 `앱폴더`에 직접 폴더를 만들어주면 됩니다. \n",
        "  - 장고는 `templates` 폴더에서 찾게 될 겁니다. \n",
        "  - `templates` 폴더에 앱이름과 동일하게 폴더를 하나 더 생성\n",
        "\n",
        "- 실제 폴더의 구조는 다음과 같이 됩니다. \n",
        "\n",
        "```\n",
        "프로젝트폴더/\n",
        "  - manage.py\n",
        "  - 프로젝트폴더/\n",
        "  - 앱폴더/  \n",
        "    - templates/\n",
        "      - 앱폴더/\n",
        "        - index.html\n",
        "```\n",
        "\n",
        "- 해당 앱에서 화면에 보여지는 내용이 있다면 `template`폴더를 찾게 되고\n",
        "  - `templates` 폴더 내에서 앱이름과 동일한 이름의 폴더를 찾아서 \n",
        "  - 그 내부에 있는 HTML 파일을 사용하게 됩니다. "
      ],
      "metadata": {
        "id": "87FwhArL4lwI"
      }
    },
    {
      "cell_type": "markdown",
      "source": [
        "## 앱등록\n",
        "- 장고에서는 앱을 사용하려면 설정에서 해당 앱을 등록 해줘야 합니다. \n",
        "  - `setting.py`에서 설정 합니다. \n",
        "  - 추가를 해주지 않으면, 장고는 어떤 앱이 설치 되었는지 알 수 없습니다. \n",
        "\n",
        "- `프로젝트폴더/프로젝트폴더/settings.py`\n",
        "  - `INSTALLED_APPS`를 찾아서 아래와 같이 추가된 앱을 리스트에 등록 해줍니다. \n",
        "  \n",
        "```\n",
        "INSTALLED_APPS = [\n",
        "    'django.contrib.admin',\n",
        "    'django.contrib.auth',\n",
        "    'django.contrib.contenttypes',\n",
        "    'django.contrib.sessions',\n",
        "    'django.contrib.messages',\n",
        "    'django.contrib.staticfiles',\n",
        "]\n",
        "\n",
        "# 설치된 앱을 다음과 같이 등록 해줍니다. \n",
        "INSTALLED_APPS += [ \n",
        "    'my_to_do_app',\n",
        "]\n",
        "```"
      ],
      "metadata": {
        "id": "Ly83LxvFC6zT"
      }
    },
    {
      "cell_type": "markdown",
      "source": [
        "## URL 설정\n",
        "- 교재(p. 127) 1.3 URL 설정하기\n",
        "- 뷰(templates)를 호출하려면 연결을 해줘야 합니다.\n",
        "  - `urls.py`이 URL을 연결해주는 역할을 합니다.\n",
        "  - 우리가 만든 `index.html`과 `url`을 연결\n",
        "\n",
        "- 최상위 `URLconf`에서 요청하는 URL과 앱을 먼저 연결하도록 합니다. \n",
        "  - `프로젝트폴더/프로젝트폴더/urls.py`\n",
        "\n",
        "  - 최상위 `URLconf`에서 담당하는 역할 `네트워크에서의 서버의 경로` 다음에 위치하는 `서버에서 폴더/파일의 경로`에 대한 `라우팅` 역할 입니다. \n",
        "\n",
        "  ```\n",
        "    http://127.0.0.1:8000/                admin/index.html\n",
        "    ----------------------               ------------------\n",
        "  네트워크에서 서버의 경로             서버에서 해당 폴더/파일의 경로\n",
        "  ```\n",
        "\n",
        "  - `path`는 URL과 앱을 연결해주는 라우팅 함수 입니다. \n",
        "    - 필수인자 2개\n",
        "    - `path( route, view )\n",
        "    - route는 URL 패턴을 가진 문자열이 됩니다.\n",
        "      - 문자열에 해당하는 앱 또는 뷰와 연결할 수 있습니다. \n",
        "    - view는 route에서 일치하는 패턴을 찾으면, view함수를 호출\n",
        "      - include()와 같은 경우 하위 `URLconf`에 대한 설정을 호출\n",
        "      - 이 `include`함수는 패턴이 추가될 때 마다 만들어줘야 합니다 "
      ],
      "metadata": {
        "id": "bZAZADqg5gdB"
      }
    },
    {
      "cell_type": "markdown",
      "source": [
        "### 하위 URLconf\n",
        "- 최상위 `URLconf`로부터 연결이 설정 되었다면 해당 앱에서는 따로 `urls.py`를 만들어 주면 됩니다. (앱폴더에)\n",
        "\n",
        "  - `프로젝트폴더/앱폴더/urls.py`를 만들어 줍니다. \n",
        "\n",
        "- `urls.py`는 다음과 같이 작성해줍니다. \n",
        "\n",
        "```\n",
        "from django.urls import path, include\n",
        "# view와 연결\n",
        "from . import views\n",
        "\n",
        "urlpatterns = [\n",
        "  # 해당 url 패턴을 views.py의 index 함수와 연결\n",
        "  path('', views.index),\n",
        "]\n",
        "```"
      ],
      "metadata": {
        "id": "RtfjtM4xCdsX"
      }
    },
    {
      "cell_type": "markdown",
      "source": [
        "## 뷰 작성하기\n",
        "- 장고에서 뷰는 `제어` 역할을 합니다. \n",
        "  - `URL`과 `템플릿`\n",
        "  - `템플릿`과 `모델` 등 의 연결 역할을 해줍니다. \n",
        "  - 가장 많이 사용하게 되는 모델일 것 같아요 \n",
        "\n",
        "- index함수의 정의\n",
        "\n",
        "```\n",
        "def index( request ):\n",
        "  return render( request, 'my_to_do_app/index.html')\n",
        "```"
      ],
      "metadata": {
        "id": "zOjBvfw0KiRl"
      }
    },
    {
      "cell_type": "markdown",
      "source": [
        "## 디비 설정\n",
        "- 교재(P.143 ~ )\n",
        "- 웹브라우저로부터 `할 일`을 전달 받아서 `DB`에 저장\n",
        "  - SQL Query를 사용하지 않고도 사용할 수 있습니다.(ORM)\n",
        "\n",
        "- 교재의 예제는 `sqlite3`를 사용하고 있습니다. \n",
        "  - 장고의 기본 `DBMS(DataBase Management System)`는 `sqlite3`이기 때문에 추가적인 설치나 설정을 하지 않아도 됩니다. "
      ],
      "metadata": {
        "id": "knn-DWdCfZmz"
      }
    },
    {
      "cell_type": "markdown",
      "source": [
        "## 모델 만들기\n",
        "- MVC 구조에서 `M(Model)`에 해당하는 내용 입니다. \n",
        "- 장고에서 모델은 `models.py`로 작성할 수 있습니다. \n",
        "  - 모델은 자료를 저장할 `테이블` 이라고 보면 됩니다. \n",
        "  - `테이블`은 판다스의 `DataFrame`과 동일한 개념 입니다. \n",
        "  - 할 일을 저장할 `테이블`을 `models.py`를 통해서 만들어 보겠습니다. "
      ],
      "metadata": {
        "id": "Y-Ur6SQq4765"
      }
    },
    {
      "cell_type": "markdown",
      "source": [
        "### 모델의 형태\n",
        "- 모델의 형태는 테이블의 형태가 됩니다. \n",
        "  - ToDo에 대한 데이터를 다루기 때문에, ToDo를 저장할 테이블만 있으면 됩니다. \n",
        "  - 결국, 컬럼이 하나이고 이름이 `ToDo`인 데이터프레임과 동일한 모양입니다. \n",
        "\n",
        "- 장고에서는 데이터베이스의 각 필드는 `Field` 클래스의 객체가 됩니다. \n",
        "  - CharField\n",
        "    - 교재의 예제는 문자를 저장하기 위해서 `charField`를 사용하고 있습니다. \n",
        "    - 필수 파라미터로 `max_length`를 지정해줘야 합니다. \n",
        "  - [더 많은 장고의 필드 타입들](https://docs.djangoproject.com/en/4.0/ref/models/fields/#model-field-types)\n",
        "\n",
        "- 모델을 정의하는 방법\n",
        "  - `models.py`에 다음과 같이 클래스를 추가 해 줍니다. \n",
        "\n",
        "```\n",
        "from django.db import models\n",
        "\n",
        "# Create your models here.\n",
        "# 클래스의 이름이 모델(테이블)의 이름이 됩니다. \n",
        "class Todo( models.Model ):\n",
        "  # content 컬럼을 정의\n",
        "  # 이 컬럼의 타입은 문자타입이다.\n",
        "  content = models.CharField(max_length=255)\n",
        "```"
      ],
      "metadata": {
        "id": "gBRc_xh-5-hB"
      }
    },
    {
      "cell_type": "markdown",
      "source": [
        "### 모델을 적용\n",
        "- 이렇게 만들어진 모델을 실제 DB에 반영\n",
        "\n",
        "- 적용하는 방법\n",
        "  - 모델을 변경시킨 내용과 변경사항을 장고에게 알려줍니다.\n",
        "\n",
        "```\n",
        "prompt> python manage.py makemigrations 앱이름\n",
        "```\n",
        "\n",
        "  - 변경사항을 실제 DB에 반영해줍니다. \n",
        "\n",
        "```\n",
        "prompt> python manage.py migrate\n",
        "```\n"
      ],
      "metadata": {
        "id": "TgHfkEs87Xr7"
      }
    },
    {
      "cell_type": "markdown",
      "source": [
        "## createTodo 기능 추가\n",
        "- 전달받은 할일을 디비에 저장\n",
        "\n",
        "  1. URL과 Veiw를 연결\n",
        "  2. view에서는 해당 기능을 구현"
      ],
      "metadata": {
        "id": "o1pnqAbcKSCc"
      }
    },
    {
      "cell_type": "markdown",
      "source": [
        "### urls.py\n",
        "- `createTodo` 요청과 views를 연결\n",
        "- /프로젝트폴더/앱폴더/urls.py\n",
        "  - 아래와 같이 추가 해줍니다. \n",
        "\n",
        "```\n",
        "urlpatterns = [\n",
        "  path('', views.index),\n",
        "\n",
        "  # createTodo에 대한 URL 요청과 view를 연결해줍니다. \n",
        "  path('createTodo/', views.createTodo),\n",
        "]\n",
        "```"
      ],
      "metadata": {
        "id": "9iPV_T4UKfIy"
      }
    },
    {
      "cell_type": "markdown",
      "source": [
        "### views.py - 1\n",
        "- `URLconf`에서 설정된 내용대로 함수를 정의 해줍니다. \n",
        "  - 연결이 잘 되었는지 확인하기 위해서 아래와 같이 추가\n",
        "\n",
        "- /프로젝트폴더/앱폴더/views.py\n",
        "\n",
        "```\n",
        "from django.http import HttpResponse\n",
        "\n",
        "def createTodo( request ):\n",
        "  # URL과 view가 잘 연결되었는지 확인하기 위해서 아래와 같은 코드를 이용\n",
        "  return HttpResponse('create Todo를 할 거야!')\n",
        "```"
      ],
      "metadata": {
        "id": "dOAPrqosKyRB"
      }
    },
    {
      "cell_type": "markdown",
      "source": [
        "### views.py - 2\n",
        "- 입력한 값이 서버로 잘 전달되는지 확인\n",
        "  - views.py의 `createTodo`함수를 아래와 같이 수정해서 확인\n",
        "\n",
        "```\n",
        "def createTodo( request ):\n",
        "  # 사용자가 입력한 할 일을 잘 받아 오는지 확인\n",
        "  # 입력값 전달은 POST 방식으로, 'todoContent'변수를 통해서 전달이 될겁니다. \n",
        "  user_input_str = request.POST['todoContent']\n",
        "  return HttpResponse(f'사용자가 입력한 값: {user_input_str}')\n",
        "```"
      ],
      "metadata": {
        "id": "d3E1rKCZNT8b"
      }
    },
    {
      "cell_type": "markdown",
      "source": [
        "## 디비에 저장하기"
      ],
      "metadata": {
        "id": "E5ynqUCmXlCh"
      }
    },
    {
      "cell_type": "markdown",
      "source": [
        "### urls.py\n",
        "- 입력을 처리하고, 다시 첫 페이지로 돌아가기 위해서 아래와 같이 수정\n",
        "  - index에 대해서 `name` 파라미터를 추가\n",
        "\n",
        "- /프로젝트폴더/앱폴더/urls.py\n",
        "```\n",
        "urlpatterns = [\n",
        "  path('', views.index, name='index'),\n",
        "\n",
        "  # createTodo에 대한 URL 요청과 view를 연결해줍니다. \n",
        "  path('createTodo/', views.createTodo),\n",
        "]\n",
        "```"
      ],
      "metadata": {
        "id": "0nhupV0CXpaw"
      }
    },
    {
      "cell_type": "markdown",
      "source": [
        "### views.py\n",
        "- 전달받은 값을 디비에 저장하기 위한 코드를 추가\n",
        "- 프로젝트폴더/앱폴더/views.py\n",
        "\n",
        "```\n",
        "from django.shortcuts import render\n",
        "from django.http import HttpResponse, HttpResponseRedirect\n",
        "\n",
        "# 미리 만들어진 model을 가져오도록 합니다. \n",
        "from .models import *\n",
        "\n",
        "# index 페이지로 돌아가기 위한 reverse를 임포트 합니다. \n",
        "from django.urls import reverse\n",
        "\n",
        "# Create your views here.\n",
        "def index( request ):\n",
        "  # DB의 내용을 브라우저에 전달하기 위한 코드를 추가\n",
        "  todos = Todo.objects.all()\n",
        "  content = {'todos':todos}\n",
        "  return render( request, 'my_to_do_app/index.html', content)\n",
        "\n",
        "def createTodo( request ):\n",
        "\n",
        "  user_input_str = request.POST['todoContent']\n",
        "  # models.py에서 정의된 클래스를 이용해서 전달받은 값을 DB에 저장 합니다.\n",
        "  new_todo = Todo( content = user_input_str )\n",
        "  new_todo.save()\n",
        "\n",
        "  return HttpResponseRedirect(reverse('index'))\n",
        "```"
      ],
      "metadata": {
        "id": "imJY5LllX_Kw"
      }
    },
    {
      "cell_type": "markdown",
      "source": [
        "### index.html\n",
        "- 책의 예제는 지금 단계에서는 동작하지 않기 때문에 수정된 `index.html`을 공유 해드리겠습니다. \n",
        "  - 그냥 덮어쓰시면 됩니다. \n",
        "\n",
        "```\n",
        "<html lang=\"ko\">\n",
        "<head>\n",
        "    <meta charset=\"UTF-8\">\n",
        "\n",
        "    <!-- Boot strap -->\n",
        "    <!-- 합쳐지고 최소화된 최신 CSS -->\n",
        "    <link rel=\"stylesheet\" href=\"https://maxcdn.bootstrapcdn.com/bootstrap/3.3.2/css/bootstrap.min.css\">\n",
        "    <!-- 부가적인 테마 -->\n",
        "    <link rel=\"stylesheet\" href=\"https://maxcdn.bootstrapcdn.com/bootstrap/3.3.2/css/bootstrap-theme.min.css\">\n",
        "    <!-- 합쳐지고 최소화된 최신 자바스크립트 -->\n",
        "    <script src=\"https://maxcdn.bootstrapcdn.com/bootstrap/3.3.2/js/bootstrap.min.js\"></script>\n",
        "\n",
        "    <style>\n",
        "        .content{\n",
        "            height: 75%;\n",
        "        }\n",
        "        .messageDiv{\n",
        "            margin-top: 20px;\n",
        "            margin-bottom: 50px;\n",
        "        }\n",
        "        /*\n",
        "        .toDoDiv{\n",
        "\n",
        "        }\n",
        "        */\n",
        "        .custom-btn{\n",
        "            font-size: 10px;\n",
        "        }\n",
        "        .panel-footer{\n",
        "            height:10%;\n",
        "            color:gray;\n",
        "        }\n",
        "    </style>\n",
        "\n",
        "    <title>To-Do</title>\n",
        "</head>\n",
        "<body>\n",
        "    <div class=\"container\">\n",
        "        <div class=\"header\">\n",
        "            <div class=\"page-header\">\n",
        "                <h1>To-do List <small>with Django</small></h1>\n",
        "            </div>\n",
        "        </div>\n",
        "        <div class=\"content\">\n",
        "            <div class=\"messageDiv\">\n",
        "                <form action=\"./createTodo/\" method=\"POST\">{% csrf_token %}\n",
        "                    <div class=\"input-group\">\n",
        "                        <input id=\"todoContent\" name=\"todoContent\" type=\"text\" class=\"form-control\" placeholder=\"메모할 내용을 적어주세요\">\n",
        "                        <span class=\"input-group-btn\">\n",
        "                            <button class=\"btn btn-default\" type=\"submit\">메모하기!</button>\n",
        "                        </span>\n",
        "                    </div>\n",
        "                </form>\n",
        "            </div>\n",
        "\n",
        "            <div class=\"toDoDiv\">\n",
        "                <ul class=\"list-group\">\n",
        "                    {% for todo in todos %}\n",
        "                    <form action=\"./doneTodo/\" method=\"GET\">\n",
        "                        <div class=\"input-group\" name='todo1'>\n",
        "                            <li class=\"list-group-item\">{{ todo.content }}</li>\n",
        "                            <input type=\"hidden\" id=\"todoNum\" name=\"todoNum\" value=\"{{ todo.id }}\"></input>\n",
        "                            <span class=\"input-group-addon\">\n",
        "                                <button type=\"submit\" class=\"custom-btn btn btn-danger\">완료</button>\n",
        "                            </span>\n",
        "                        </div>\n",
        "                    </form>\n",
        "                    {% endfor %}\n",
        "                </ul>\n",
        "            </div>\n",
        "        </div>\n",
        "        <div class=\"panel-footer\">\n",
        "            실전예제로 배우는 Django. Project1-TodoList\n",
        "        </div>\n",
        "    </div>\n",
        "</body>\n",
        "</html>\n",
        "```"
      ],
      "metadata": {
        "id": "OU8XLEOwbp_H"
      }
    }
  ]
}