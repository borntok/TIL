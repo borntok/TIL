{
  "nbformat": 4,
  "nbformat_minor": 0,
  "metadata": {
    "colab": {
      "name": "Untitled1.ipynb",
      "provenance": [],
      "toc_visible": true,
      "collapsed_sections": []
    },
    "kernelspec": {
      "name": "python3",
      "display_name": "Python 3"
    },
    "language_info": {
      "name": "python"
    }
  },
  "cells": [
    {
      "cell_type": "code",
      "execution_count": 1,
      "metadata": {
        "id": "pWpityXj-9Nh"
      },
      "outputs": [],
      "source": [
        "import warnings\n",
        "warnings.filterwarnings('always')\n",
        "warnings.filterwarnings('ignore')\n",
        "\n",
        "import numpy as np\n",
        "import pandas as pd\n",
        "\n",
        "import matplotlib.pyplot as plt\n",
        "import seaborn as sns"
      ]
    },
    {
      "cell_type": "markdown",
      "source": [
        "# 실습 예제\n",
        "- 온도에 따른 전기요금(사용량) 예측\n",
        "  - 온도에 따른 전기사용량을 가정한 데이터\n",
        "  - 아이스크림 문제와 동일하게 풀이를 진행"
      ],
      "metadata": {
        "id": "WUAoHFoO8AM2"
      }
    },
    {
      "cell_type": "code",
      "source": [
        "temp = np.array([32.13, 25.95, 27.95, 26.3, 26.33, 32.78, 31.48, \n",
        "    32.63, 28.2, 31.82, 25.52, 27.42, 28.92, 30.17, \n",
        "    29.09, 31.38, 29.52, 27.83, 30.27, 26.91])\n",
        "elec = np.array([364.5, 105.82, 147.28, 89.57, 114.05, 411.23, \n",
        "    301.93, 386.16, 149.09, 327.93, 111.67, 130.59, 180.6, \n",
        "    214.77, 188.84, 312.11, 194.13, 135.12, 236.75, 113.6])"
      ],
      "metadata": {
        "id": "ctBODhvr-949"
      },
      "execution_count": 3,
      "outputs": []
    },
    {
      "cell_type": "code",
      "source": [
        "df = pd.DataFrame( np.array( [elec, temp] ).T, columns=['elec', 'temp'] )\n",
        "df.sort_values(by='temp', inplace=True, ignore_index=True)\n",
        "df"
      ],
      "metadata": {
        "colab": {
          "base_uri": "https://localhost:8080/",
          "height": 676
        },
        "id": "tQYzanBw_A-x",
        "outputId": "0882159f-20df-4216-9833-c8bb4ba6cd6d"
      },
      "execution_count": 4,
      "outputs": [
        {
          "output_type": "execute_result",
          "data": {
            "text/html": [
              "\n",
              "  <div id=\"df-c1ace76e-a5d6-494b-ab91-3fea673ae8de\">\n",
              "    <div class=\"colab-df-container\">\n",
              "      <div>\n",
              "<style scoped>\n",
              "    .dataframe tbody tr th:only-of-type {\n",
              "        vertical-align: middle;\n",
              "    }\n",
              "\n",
              "    .dataframe tbody tr th {\n",
              "        vertical-align: top;\n",
              "    }\n",
              "\n",
              "    .dataframe thead th {\n",
              "        text-align: right;\n",
              "    }\n",
              "</style>\n",
              "<table border=\"1\" class=\"dataframe\">\n",
              "  <thead>\n",
              "    <tr style=\"text-align: right;\">\n",
              "      <th></th>\n",
              "      <th>elec</th>\n",
              "      <th>temp</th>\n",
              "    </tr>\n",
              "  </thead>\n",
              "  <tbody>\n",
              "    <tr>\n",
              "      <th>0</th>\n",
              "      <td>111.67</td>\n",
              "      <td>25.52</td>\n",
              "    </tr>\n",
              "    <tr>\n",
              "      <th>1</th>\n",
              "      <td>105.82</td>\n",
              "      <td>25.95</td>\n",
              "    </tr>\n",
              "    <tr>\n",
              "      <th>2</th>\n",
              "      <td>89.57</td>\n",
              "      <td>26.30</td>\n",
              "    </tr>\n",
              "    <tr>\n",
              "      <th>3</th>\n",
              "      <td>114.05</td>\n",
              "      <td>26.33</td>\n",
              "    </tr>\n",
              "    <tr>\n",
              "      <th>4</th>\n",
              "      <td>113.60</td>\n",
              "      <td>26.91</td>\n",
              "    </tr>\n",
              "    <tr>\n",
              "      <th>5</th>\n",
              "      <td>130.59</td>\n",
              "      <td>27.42</td>\n",
              "    </tr>\n",
              "    <tr>\n",
              "      <th>6</th>\n",
              "      <td>135.12</td>\n",
              "      <td>27.83</td>\n",
              "    </tr>\n",
              "    <tr>\n",
              "      <th>7</th>\n",
              "      <td>147.28</td>\n",
              "      <td>27.95</td>\n",
              "    </tr>\n",
              "    <tr>\n",
              "      <th>8</th>\n",
              "      <td>149.09</td>\n",
              "      <td>28.20</td>\n",
              "    </tr>\n",
              "    <tr>\n",
              "      <th>9</th>\n",
              "      <td>180.60</td>\n",
              "      <td>28.92</td>\n",
              "    </tr>\n",
              "    <tr>\n",
              "      <th>10</th>\n",
              "      <td>188.84</td>\n",
              "      <td>29.09</td>\n",
              "    </tr>\n",
              "    <tr>\n",
              "      <th>11</th>\n",
              "      <td>194.13</td>\n",
              "      <td>29.52</td>\n",
              "    </tr>\n",
              "    <tr>\n",
              "      <th>12</th>\n",
              "      <td>214.77</td>\n",
              "      <td>30.17</td>\n",
              "    </tr>\n",
              "    <tr>\n",
              "      <th>13</th>\n",
              "      <td>236.75</td>\n",
              "      <td>30.27</td>\n",
              "    </tr>\n",
              "    <tr>\n",
              "      <th>14</th>\n",
              "      <td>312.11</td>\n",
              "      <td>31.38</td>\n",
              "    </tr>\n",
              "    <tr>\n",
              "      <th>15</th>\n",
              "      <td>301.93</td>\n",
              "      <td>31.48</td>\n",
              "    </tr>\n",
              "    <tr>\n",
              "      <th>16</th>\n",
              "      <td>327.93</td>\n",
              "      <td>31.82</td>\n",
              "    </tr>\n",
              "    <tr>\n",
              "      <th>17</th>\n",
              "      <td>364.50</td>\n",
              "      <td>32.13</td>\n",
              "    </tr>\n",
              "    <tr>\n",
              "      <th>18</th>\n",
              "      <td>386.16</td>\n",
              "      <td>32.63</td>\n",
              "    </tr>\n",
              "    <tr>\n",
              "      <th>19</th>\n",
              "      <td>411.23</td>\n",
              "      <td>32.78</td>\n",
              "    </tr>\n",
              "  </tbody>\n",
              "</table>\n",
              "</div>\n",
              "      <button class=\"colab-df-convert\" onclick=\"convertToInteractive('df-c1ace76e-a5d6-494b-ab91-3fea673ae8de')\"\n",
              "              title=\"Convert this dataframe to an interactive table.\"\n",
              "              style=\"display:none;\">\n",
              "        \n",
              "  <svg xmlns=\"http://www.w3.org/2000/svg\" height=\"24px\"viewBox=\"0 0 24 24\"\n",
              "       width=\"24px\">\n",
              "    <path d=\"M0 0h24v24H0V0z\" fill=\"none\"/>\n",
              "    <path d=\"M18.56 5.44l.94 2.06.94-2.06 2.06-.94-2.06-.94-.94-2.06-.94 2.06-2.06.94zm-11 1L8.5 8.5l.94-2.06 2.06-.94-2.06-.94L8.5 2.5l-.94 2.06-2.06.94zm10 10l.94 2.06.94-2.06 2.06-.94-2.06-.94-.94-2.06-.94 2.06-2.06.94z\"/><path d=\"M17.41 7.96l-1.37-1.37c-.4-.4-.92-.59-1.43-.59-.52 0-1.04.2-1.43.59L10.3 9.45l-7.72 7.72c-.78.78-.78 2.05 0 2.83L4 21.41c.39.39.9.59 1.41.59.51 0 1.02-.2 1.41-.59l7.78-7.78 2.81-2.81c.8-.78.8-2.07 0-2.86zM5.41 20L4 18.59l7.72-7.72 1.47 1.35L5.41 20z\"/>\n",
              "  </svg>\n",
              "      </button>\n",
              "      \n",
              "  <style>\n",
              "    .colab-df-container {\n",
              "      display:flex;\n",
              "      flex-wrap:wrap;\n",
              "      gap: 12px;\n",
              "    }\n",
              "\n",
              "    .colab-df-convert {\n",
              "      background-color: #E8F0FE;\n",
              "      border: none;\n",
              "      border-radius: 50%;\n",
              "      cursor: pointer;\n",
              "      display: none;\n",
              "      fill: #1967D2;\n",
              "      height: 32px;\n",
              "      padding: 0 0 0 0;\n",
              "      width: 32px;\n",
              "    }\n",
              "\n",
              "    .colab-df-convert:hover {\n",
              "      background-color: #E2EBFA;\n",
              "      box-shadow: 0px 1px 2px rgba(60, 64, 67, 0.3), 0px 1px 3px 1px rgba(60, 64, 67, 0.15);\n",
              "      fill: #174EA6;\n",
              "    }\n",
              "\n",
              "    [theme=dark] .colab-df-convert {\n",
              "      background-color: #3B4455;\n",
              "      fill: #D2E3FC;\n",
              "    }\n",
              "\n",
              "    [theme=dark] .colab-df-convert:hover {\n",
              "      background-color: #434B5C;\n",
              "      box-shadow: 0px 1px 3px 1px rgba(0, 0, 0, 0.15);\n",
              "      filter: drop-shadow(0px 1px 2px rgba(0, 0, 0, 0.3));\n",
              "      fill: #FFFFFF;\n",
              "    }\n",
              "  </style>\n",
              "\n",
              "      <script>\n",
              "        const buttonEl =\n",
              "          document.querySelector('#df-c1ace76e-a5d6-494b-ab91-3fea673ae8de button.colab-df-convert');\n",
              "        buttonEl.style.display =\n",
              "          google.colab.kernel.accessAllowed ? 'block' : 'none';\n",
              "\n",
              "        async function convertToInteractive(key) {\n",
              "          const element = document.querySelector('#df-c1ace76e-a5d6-494b-ab91-3fea673ae8de');\n",
              "          const dataTable =\n",
              "            await google.colab.kernel.invokeFunction('convertToInteractive',\n",
              "                                                     [key], {});\n",
              "          if (!dataTable) return;\n",
              "\n",
              "          const docLinkHtml = 'Like what you see? Visit the ' +\n",
              "            '<a target=\"_blank\" href=https://colab.research.google.com/notebooks/data_table.ipynb>data table notebook</a>'\n",
              "            + ' to learn more about interactive tables.';\n",
              "          element.innerHTML = '';\n",
              "          dataTable['output_type'] = 'display_data';\n",
              "          await google.colab.output.renderOutput(dataTable, element);\n",
              "          const docLink = document.createElement('div');\n",
              "          docLink.innerHTML = docLinkHtml;\n",
              "          element.appendChild(docLink);\n",
              "        }\n",
              "      </script>\n",
              "    </div>\n",
              "  </div>\n",
              "  "
            ],
            "text/plain": [
              "      elec   temp\n",
              "0   111.67  25.52\n",
              "1   105.82  25.95\n",
              "2    89.57  26.30\n",
              "3   114.05  26.33\n",
              "4   113.60  26.91\n",
              "5   130.59  27.42\n",
              "6   135.12  27.83\n",
              "7   147.28  27.95\n",
              "8   149.09  28.20\n",
              "9   180.60  28.92\n",
              "10  188.84  29.09\n",
              "11  194.13  29.52\n",
              "12  214.77  30.17\n",
              "13  236.75  30.27\n",
              "14  312.11  31.38\n",
              "15  301.93  31.48\n",
              "16  327.93  31.82\n",
              "17  364.50  32.13\n",
              "18  386.16  32.63\n",
              "19  411.23  32.78"
            ]
          },
          "metadata": {},
          "execution_count": 4
        }
      ]
    },
    {
      "cell_type": "code",
      "source": [
        "df.plot(kind='scatter', x='temp', y='elec')\n",
        "plt.grid()\n",
        "plt.show()"
      ],
      "metadata": {
        "colab": {
          "base_uri": "https://localhost:8080/",
          "height": 279
        },
        "id": "99FZKOpA_CZb",
        "outputId": "f2d6a052-0c73-4b2b-80cf-d2ad1ddf8ab0"
      },
      "execution_count": 5,
      "outputs": [
        {
          "output_type": "display_data",
          "data": {
            "image/png": "[encoded data removed]",
            "text/plain": [
              "<Figure size 432x288 with 1 Axes>"
            ]
          },
          "metadata": {
            "needs_background": "light"
          }
        }
      ]
    },
    {
      "cell_type": "markdown",
      "source": [
        "## 최대가능도추정"
      ],
      "metadata": {
        "id": "RhII8V84-oXS"
      }
    },
    {
      "cell_type": "code",
      "source": [
        "from scipy.stats import norm\n",
        "\n",
        "sigma = np.sqrt(np.var(elec))\n",
        "\n",
        "def L(beta):\n",
        "  likelihood = norm(beta[1] * temp + beta[0], sigma).pdf(elec)\n",
        "  return np.sum(-np.log( likelihood ))"
      ],
      "metadata": {
        "id": "y1vUwE0g_EGc"
      },
      "execution_count": 6,
      "outputs": []
    },
    {
      "cell_type": "code",
      "source": [
        "from scipy.optimize import minimize\n",
        "\n",
        "beta = np.array([0, 0])\n",
        "result = minimize( L, beta )\n",
        "result.x"
      ],
      "metadata": {
        "colab": {
          "base_uri": "https://localhost:8080/"
        },
        "id": "c54kk7lUAh5r",
        "outputId": "327379d4-c170-499d-dfb4-6200e64f0082"
      },
      "execution_count": 7,
      "outputs": [
        {
          "output_type": "execute_result",
          "data": {
            "text/plain": [
              "array([-1025.18314804,    42.42944756])"
            ]
          },
          "metadata": {},
          "execution_count": 7
        }
      ]
    },
    {
      "cell_type": "code",
      "source": [
        "plt.plot( temp, elec, 'o' )\n",
        "plt.plot( temp, 42.42944756 * temp + -1025.18314804)\n",
        "\n",
        "plt.grid()\n",
        "plt.show()"
      ],
      "metadata": {
        "colab": {
          "base_uri": "https://localhost:8080/",
          "height": 265
        },
        "id": "SzrlNQt2A3Ey",
        "outputId": "653a9382-d756-4808-ccc4-875920936c75"
      },
      "execution_count": 8,
      "outputs": [
        {
          "output_type": "display_data",
          "data": {
            "image/png": "[encoded data removed]",
            "text/plain": [
              "<Figure size 432x288 with 1 Axes>"
            ]
          },
          "metadata": {
            "needs_background": "light"
          }
        }
      ]
    },
    {
      "cell_type": "markdown",
      "source": [
        "## 최소제곱추정\n",
        "- 선형성 가정\n",
        "\n",
        "$$\n",
        "  f(x) = \\beta_0 + \\beta_1 x + \\epsilon\n",
        "$$\n",
        "\n",
        "- 최소제곱추정에 의해서 오차함수는 다음과 같이 정의\n",
        "\n",
        "$$\n",
        "  E(a, b) = \\sum_{i=0}^n (y_i - (\\beta_0 + \\beta_1 x_i) )^2\n",
        "$$"
      ],
      "metadata": {
        "id": "omAGAkO1Hkvl"
      }
    },
    {
      "cell_type": "code",
      "source": [
        "def error(beta):\n",
        "  yhat = beta[0] + beta[1] * temp\n",
        "  return np.sum( (elec - yhat) ** 2 )"
      ],
      "metadata": {
        "id": "-dpbWqALA_C6"
      },
      "execution_count": 4,
      "outputs": []
    },
    {
      "cell_type": "code",
      "source": [
        "beta = [ 0, 0 ]\n",
        "result = minimize( error, beta )\n",
        "result.x"
      ],
      "metadata": {
        "colab": {
          "base_uri": "https://localhost:8080/"
        },
        "id": "m1pWr_8CJUn9",
        "outputId": "96518e3e-0377-4486-cd11-7325cc523c6f"
      },
      "execution_count": 10,
      "outputs": [
        {
          "output_type": "execute_result",
          "data": {
            "text/plain": [
              "array([-1025.12948367,    42.42761693])"
            ]
          },
          "metadata": {},
          "execution_count": 10
        }
      ]
    },
    {
      "cell_type": "markdown",
      "source": [
        "### 경사하강법을 통한 추정\n",
        "\n",
        "$$\n",
        "  x^{(k+1)} = x^{(k)} - \\alpha \\nabla f(x^{(k)})\n",
        "$$"
      ],
      "metadata": {
        "id": "plJ-izlmJlFL"
      }
    },
    {
      "cell_type": "code",
      "source": [
        "def grad_fa(beta):\n",
        "  return np.sum(-2 * temp * (-beta[1] * temp - beta[0] + elec))\n",
        "\n",
        "def grad_fb(beta):\n",
        "  return np.sum(2 * beta[1] * temp + 2 * beta[0] - 2 * elec)"
      ],
      "metadata": {
        "id": "64zw3NS_JWOc"
      },
      "execution_count": 11,
      "outputs": []
    },
    {
      "cell_type": "code",
      "source": [
        "w = np.array( [ 0, 0 ] )\n",
        "lr = 0.00001\n",
        "maxIter = 2000000\n",
        "\n",
        "f = []\n",
        "for _ in range(maxIter):\n",
        "  f.append( error(w) )\n",
        "  grad = np.array( [ grad_fb(w), grad_fa(w) ] )\n",
        "  w1 = w - lr * grad\n",
        "  w = w1"
      ],
      "metadata": {
        "id": "elWyc7IrKK56"
      },
      "execution_count": null,
      "outputs": []
    },
    {
      "cell_type": "code",
      "source": [
        "plt.plot( f )\n",
        "plt.grid()\n",
        "plt.show()"
      ],
      "metadata": {
        "colab": {
          "base_uri": "https://localhost:8080/",
          "height": 289
        },
        "id": "DmaYfmvBLCiY",
        "outputId": "32fe08b4-feb2-4919-b371-d113c34712a0"
      },
      "execution_count": null,
      "outputs": [
        {
          "output_type": "display_data",
          "data": {
            "image/png": "[encoded data removed]",
            "text/plain": [
              "<Figure size 432x288 with 1 Axes>"
            ]
          },
          "metadata": {
            "needs_background": "light"
          }
        }
      ]
    },
    {
      "cell_type": "code",
      "source": [
        "w"
      ],
      "metadata": {
        "colab": {
          "base_uri": "https://localhost:8080/"
        },
        "id": "Ma9ofuyILihe",
        "outputId": "5d6a6998-b318-4f36-9bc9-c22ee3057e8b"
      },
      "execution_count": null,
      "outputs": [
        {
          "output_type": "execute_result",
          "data": {
            "text/plain": [
              "array([-1017.85929543,    42.17958362])"
            ]
          },
          "metadata": {},
          "execution_count": 51
        }
      ]
    },
    {
      "cell_type": "markdown",
      "source": [
        "### 비선형 모델\n",
        "- 2차 함수를 적용한다면 아래와 같은 함수를 가정할 수 있다. \n",
        "\n",
        "$$\n",
        "  f(x) = \\beta_0 + \\beta_1x + \\beta_2x^2\n",
        "$$\n",
        "\n",
        "- 그럼 오차함수도 다음과 같이 정의될 수 있다.\n",
        "\n",
        "$$\n",
        "  E(\\beta_0, \\beta_1, \\beta_2) = \\sum(y - (\\beta_0 + \\beta_1x + \\beta_2x^2))^2\n",
        "$$"
      ],
      "metadata": {
        "id": "4h77rqyaO59B"
      }
    },
    {
      "cell_type": "code",
      "source": [
        "df['temp2'] = df['temp'] ** 2\n",
        "df"
      ],
      "metadata": {
        "id": "iw-IFbbZO-Sa",
        "colab": {
          "base_uri": "https://localhost:8080/",
          "height": 676
        },
        "outputId": "ad588867-a79a-414a-8098-9238067432a0"
      },
      "execution_count": 12,
      "outputs": [
        {
          "output_type": "execute_result",
          "data": {
            "text/html": [
              "\n",
              "  <div id=\"df-aaed6550-6ae0-4365-b2cb-72fc993fbcb9\">\n",
              "    <div class=\"colab-df-container\">\n",
              "      <div>\n",
              "<style scoped>\n",
              "    .dataframe tbody tr th:only-of-type {\n",
              "        vertical-align: middle;\n",
              "    }\n",
              "\n",
              "    .dataframe tbody tr th {\n",
              "        vertical-align: top;\n",
              "    }\n",
              "\n",
              "    .dataframe thead th {\n",
              "        text-align: right;\n",
              "    }\n",
              "</style>\n",
              "<table border=\"1\" class=\"dataframe\">\n",
              "  <thead>\n",
              "    <tr style=\"text-align: right;\">\n",
              "      <th></th>\n",
              "      <th>elec</th>\n",
              "      <th>temp</th>\n",
              "      <th>temp2</th>\n",
              "    </tr>\n",
              "  </thead>\n",
              "  <tbody>\n",
              "    <tr>\n",
              "      <th>0</th>\n",
              "      <td>111.67</td>\n",
              "      <td>25.52</td>\n",
              "      <td>651.2704</td>\n",
              "    </tr>\n",
              "    <tr>\n",
              "      <th>1</th>\n",
              "      <td>105.82</td>\n",
              "      <td>25.95</td>\n",
              "      <td>673.4025</td>\n",
              "    </tr>\n",
              "    <tr>\n",
              "      <th>2</th>\n",
              "      <td>89.57</td>\n",
              "      <td>26.30</td>\n",
              "      <td>691.6900</td>\n",
              "    </tr>\n",
              "    <tr>\n",
              "      <th>3</th>\n",
              "      <td>114.05</td>\n",
              "      <td>26.33</td>\n",
              "      <td>693.2689</td>\n",
              "    </tr>\n",
              "    <tr>\n",
              "      <th>4</th>\n",
              "      <td>113.60</td>\n",
              "      <td>26.91</td>\n",
              "      <td>724.1481</td>\n",
              "    </tr>\n",
              "    <tr>\n",
              "      <th>5</th>\n",
              "      <td>130.59</td>\n",
              "      <td>27.42</td>\n",
              "      <td>751.8564</td>\n",
              "    </tr>\n",
              "    <tr>\n",
              "      <th>6</th>\n",
              "      <td>135.12</td>\n",
              "      <td>27.83</td>\n",
              "      <td>774.5089</td>\n",
              "    </tr>\n",
              "    <tr>\n",
              "      <th>7</th>\n",
              "      <td>147.28</td>\n",
              "      <td>27.95</td>\n",
              "      <td>781.2025</td>\n",
              "    </tr>\n",
              "    <tr>\n",
              "      <th>8</th>\n",
              "      <td>149.09</td>\n",
              "      <td>28.20</td>\n",
              "      <td>795.2400</td>\n",
              "    </tr>\n",
              "    <tr>\n",
              "      <th>9</th>\n",
              "      <td>180.60</td>\n",
              "      <td>28.92</td>\n",
              "      <td>836.3664</td>\n",
              "    </tr>\n",
              "    <tr>\n",
              "      <th>10</th>\n",
              "      <td>188.84</td>\n",
              "      <td>29.09</td>\n",
              "      <td>846.2281</td>\n",
              "    </tr>\n",
              "    <tr>\n",
              "      <th>11</th>\n",
              "      <td>194.13</td>\n",
              "      <td>29.52</td>\n",
              "      <td>871.4304</td>\n",
              "    </tr>\n",
              "    <tr>\n",
              "      <th>12</th>\n",
              "      <td>214.77</td>\n",
              "      <td>30.17</td>\n",
              "      <td>910.2289</td>\n",
              "    </tr>\n",
              "    <tr>\n",
              "      <th>13</th>\n",
              "      <td>236.75</td>\n",
              "      <td>30.27</td>\n",
              "      <td>916.2729</td>\n",
              "    </tr>\n",
              "    <tr>\n",
              "      <th>14</th>\n",
              "      <td>312.11</td>\n",
              "      <td>31.38</td>\n",
              "      <td>984.7044</td>\n",
              "    </tr>\n",
              "    <tr>\n",
              "      <th>15</th>\n",
              "      <td>301.93</td>\n",
              "      <td>31.48</td>\n",
              "      <td>990.9904</td>\n",
              "    </tr>\n",
              "    <tr>\n",
              "      <th>16</th>\n",
              "      <td>327.93</td>\n",
              "      <td>31.82</td>\n",
              "      <td>1012.5124</td>\n",
              "    </tr>\n",
              "    <tr>\n",
              "      <th>17</th>\n",
              "      <td>364.50</td>\n",
              "      <td>32.13</td>\n",
              "      <td>1032.3369</td>\n",
              "    </tr>\n",
              "    <tr>\n",
              "      <th>18</th>\n",
              "      <td>386.16</td>\n",
              "      <td>32.63</td>\n",
              "      <td>1064.7169</td>\n",
              "    </tr>\n",
              "    <tr>\n",
              "      <th>19</th>\n",
              "      <td>411.23</td>\n",
              "      <td>32.78</td>\n",
              "      <td>1074.5284</td>\n",
              "    </tr>\n",
              "  </tbody>\n",
              "</table>\n",
              "</div>\n",
              "      <button class=\"colab-df-convert\" onclick=\"convertToInteractive('df-aaed6550-6ae0-4365-b2cb-72fc993fbcb9')\"\n",
              "              title=\"Convert this dataframe to an interactive table.\"\n",
              "              style=\"display:none;\">\n",
              "        \n",
              "  <svg xmlns=\"http://www.w3.org/2000/svg\" height=\"24px\"viewBox=\"0 0 24 24\"\n",
              "       width=\"24px\">\n",
              "    <path d=\"M0 0h24v24H0V0z\" fill=\"none\"/>\n",
              "    <path d=\"M18.56 5.44l.94 2.06.94-2.06 2.06-.94-2.06-.94-.94-2.06-.94 2.06-2.06.94zm-11 1L8.5 8.5l.94-2.06 2.06-.94-2.06-.94L8.5 2.5l-.94 2.06-2.06.94zm10 10l.94 2.06.94-2.06 2.06-.94-2.06-.94-.94-2.06-.94 2.06-2.06.94z\"/><path d=\"M17.41 7.96l-1.37-1.37c-.4-.4-.92-.59-1.43-.59-.52 0-1.04.2-1.43.59L10.3 9.45l-7.72 7.72c-.78.78-.78 2.05 0 2.83L4 21.41c.39.39.9.59 1.41.59.51 0 1.02-.2 1.41-.59l7.78-7.78 2.81-2.81c.8-.78.8-2.07 0-2.86zM5.41 20L4 18.59l7.72-7.72 1.47 1.35L5.41 20z\"/>\n",
              "  </svg>\n",
              "      </button>\n",
              "      \n",
              "  <style>\n",
              "    .colab-df-container {\n",
              "      display:flex;\n",
              "      flex-wrap:wrap;\n",
              "      gap: 12px;\n",
              "    }\n",
              "\n",
              "    .colab-df-convert {\n",
              "      background-color: #E8F0FE;\n",
              "      border: none;\n",
              "      border-radius: 50%;\n",
              "      cursor: pointer;\n",
              "      display: none;\n",
              "      fill: #1967D2;\n",
              "      height: 32px;\n",
              "      padding: 0 0 0 0;\n",
              "      width: 32px;\n",
              "    }\n",
              "\n",
              "    .colab-df-convert:hover {\n",
              "      background-color: #E2EBFA;\n",
              "      box-shadow: 0px 1px 2px rgba(60, 64, 67, 0.3), 0px 1px 3px 1px rgba(60, 64, 67, 0.15);\n",
              "      fill: #174EA6;\n",
              "    }\n",
              "\n",
              "    [theme=dark] .colab-df-convert {\n",
              "      background-color: #3B4455;\n",
              "      fill: #D2E3FC;\n",
              "    }\n",
              "\n",
              "    [theme=dark] .colab-df-convert:hover {\n",
              "      background-color: #434B5C;\n",
              "      box-shadow: 0px 1px 3px 1px rgba(0, 0, 0, 0.15);\n",
              "      filter: drop-shadow(0px 1px 2px rgba(0, 0, 0, 0.3));\n",
              "      fill: #FFFFFF;\n",
              "    }\n",
              "  </style>\n",
              "\n",
              "      <script>\n",
              "        const buttonEl =\n",
              "          document.querySelector('#df-aaed6550-6ae0-4365-b2cb-72fc993fbcb9 button.colab-df-convert');\n",
              "        buttonEl.style.display =\n",
              "          google.colab.kernel.accessAllowed ? 'block' : 'none';\n",
              "\n",
              "        async function convertToInteractive(key) {\n",
              "          const element = document.querySelector('#df-aaed6550-6ae0-4365-b2cb-72fc993fbcb9');\n",
              "          const dataTable =\n",
              "            await google.colab.kernel.invokeFunction('convertToInteractive',\n",
              "                                                     [key], {});\n",
              "          if (!dataTable) return;\n",
              "\n",
              "          const docLinkHtml = 'Like what you see? Visit the ' +\n",
              "            '<a target=\"_blank\" href=https://colab.research.google.com/notebooks/data_table.ipynb>data table notebook</a>'\n",
              "            + ' to learn more about interactive tables.';\n",
              "          element.innerHTML = '';\n",
              "          dataTable['output_type'] = 'display_data';\n",
              "          await google.colab.output.renderOutput(dataTable, element);\n",
              "          const docLink = document.createElement('div');\n",
              "          docLink.innerHTML = docLinkHtml;\n",
              "          element.appendChild(docLink);\n",
              "        }\n",
              "      </script>\n",
              "    </div>\n",
              "  </div>\n",
              "  "
            ],
            "text/plain": [
              "      elec   temp      temp2\n",
              "0   111.67  25.52   651.2704\n",
              "1   105.82  25.95   673.4025\n",
              "2    89.57  26.30   691.6900\n",
              "3   114.05  26.33   693.2689\n",
              "4   113.60  26.91   724.1481\n",
              "5   130.59  27.42   751.8564\n",
              "6   135.12  27.83   774.5089\n",
              "7   147.28  27.95   781.2025\n",
              "8   149.09  28.20   795.2400\n",
              "9   180.60  28.92   836.3664\n",
              "10  188.84  29.09   846.2281\n",
              "11  194.13  29.52   871.4304\n",
              "12  214.77  30.17   910.2289\n",
              "13  236.75  30.27   916.2729\n",
              "14  312.11  31.38   984.7044\n",
              "15  301.93  31.48   990.9904\n",
              "16  327.93  31.82  1012.5124\n",
              "17  364.50  32.13  1032.3369\n",
              "18  386.16  32.63  1064.7169\n",
              "19  411.23  32.78  1074.5284"
            ]
          },
          "metadata": {},
          "execution_count": 12
        }
      ]
    },
    {
      "cell_type": "code",
      "source": [
        "def error(beta):\n",
        "  yhat = beta[0] + beta[1] * df['temp'] + beta[2] * df['temp2']\n",
        "  return np.sum( (df['elec'] - yhat) ** 2 )\n",
        "\n",
        "def grad_b0(beta):\n",
        "  return np.sum( 2 * beta[0] + 2 * beta[1] * df['temp'] + 2 * beta[2] * df['temp2'] - 2 * elec )\n",
        "\n",
        "def grad_b1(beta):\n",
        "  return np.sum( -2 * df['temp'] * (-beta[0] - beta[1] * df['temp'] - beta[2] * df['temp2'] + elec) )\n",
        "\n",
        "def grad_b2(beta):\n",
        "  return np.sum( -2 * df['temp2'] * (-beta[0] - beta[1] * df['temp'] - beta[2] * df['temp2'] + elec) )"
      ],
      "metadata": {
        "id": "JKwS5bwQeNMl"
      },
      "execution_count": null,
      "outputs": []
    },
    {
      "cell_type": "code",
      "source": [
        "w = np.array( [ 0, 0, 0 ] )\n",
        "lr = 0.000000001\n",
        "maxIter = 1000\n",
        "\n",
        "f = []\n",
        "for _ in range(maxIter):\n",
        "  f.append( error(w) )\n",
        "  grad = np.array( [ grad_b0(w), grad_b1(w), grad_b2(w) ] )\n",
        "  w1 = w - lr * grad\n",
        "  w = w1"
      ],
      "metadata": {
        "id": "IQ4055MqwIwA"
      },
      "execution_count": null,
      "outputs": []
    },
    {
      "cell_type": "code",
      "source": [
        "plt.plot( f )\n",
        "plt.grid()\n",
        "plt.show()"
      ],
      "metadata": {
        "colab": {
          "base_uri": "https://localhost:8080/",
          "height": 276
        },
        "id": "dc2qr5qYwZV9",
        "outputId": "a87c852a-a111-4953-a92b-89af840a7c74"
      },
      "execution_count": null,
      "outputs": [
        {
          "output_type": "display_data",
          "data": {
            "image/png": "[encoded data removed]",
            "text/plain": [
              "<Figure size 432x288 with 1 Axes>"
            ]
          },
          "metadata": {
            "needs_background": "light"
          }
        }
      ]
    },
    {
      "cell_type": "code",
      "source": [
        "beta = np.array([0, 0, 0])\n",
        "result = minimize( error, beta )\n",
        "result.x"
      ],
      "metadata": {
        "colab": {
          "base_uri": "https://localhost:8080/"
        },
        "id": "MCmIHi84wmQ9",
        "outputId": "a79c1684-c5d6-46d7-f337-e6522e476aad"
      },
      "execution_count": null,
      "outputs": [
        {
          "output_type": "execute_result",
          "data": {
            "text/plain": [
              "array([3647.24199537, -279.29392256,    5.50378104])"
            ]
          },
          "metadata": {},
          "execution_count": 78
        }
      ]
    },
    {
      "cell_type": "code",
      "source": [
        "w = result.x\n",
        "df.plot(kind='scatter', x='temp', y='elec')\n",
        "plt.plot( df['temp'], w[0] + w[1] * df['temp'] + w[2] * df['temp2'] )\n",
        "plt.grid()\n",
        "plt.show()"
      ],
      "metadata": {
        "colab": {
          "base_uri": "https://localhost:8080/",
          "height": 279
        },
        "id": "Dfeu9SA6xl-l",
        "outputId": "50ff9294-05b5-494a-ec84-ce2e1787abd2"
      },
      "execution_count": null,
      "outputs": [
        {
          "output_type": "display_data",
          "data": {
            "image/png": "[encoded data removed]",
            "text/plain": [
              "<Figure size 432x288 with 1 Axes>"
            ]
          },
          "metadata": {
            "needs_background": "light"
          }
        }
      ]
    },
    {
      "cell_type": "markdown",
      "source": [
        "## 실습2\n",
        "- 무어의 법칙"
      ],
      "metadata": {
        "id": "m7yMiISCA9t6"
      }
    },
    {
      "cell_type": "code",
      "source": [
        "rawData = np.load('/content/drive/MyDrive/멀티캠퍼스/data/moore.npz')\n",
        "x = rawData['X']\n",
        "y = rawData['y']"
      ],
      "metadata": {
        "id": "Jo4ahl5SAEfk"
      },
      "execution_count": 2,
      "outputs": []
    },
    {
      "cell_type": "code",
      "source": [
        "plt.plot(x, y, 'o')\n",
        "plt.grid()\n",
        "plt.show()"
      ],
      "metadata": {
        "colab": {
          "base_uri": "https://localhost:8080/",
          "height": 276
        },
        "id": "0VLm7WtuAomO",
        "outputId": "a763c6ec-5974-4782-ecff-ef483e99b002"
      },
      "execution_count": 3,
      "outputs": [
        {
          "output_type": "display_data",
          "data": {
            "image/png": "[encoded data removed]",
            "text/plain": [
              "<Figure size 432x288 with 1 Axes>"
            ]
          },
          "metadata": {
            "needs_background": "light"
          }
        }
      ]
    },
    {
      "cell_type": "code",
      "source": [
        "def error(beta):\n",
        "  yhat = beta[0] + beta[1]*x\n",
        "  return np.sum((y - yhat)**2)"
      ],
      "metadata": {
        "id": "fnQi9OeqAx_A"
      },
      "execution_count": 5,
      "outputs": []
    },
    {
      "cell_type": "code",
      "source": [
        "from scipy.optimize import minimize\n",
        "\n",
        "beta = [0, 0]\n",
        "result = minimize(error, beta)\n",
        "result.x"
      ],
      "metadata": {
        "colab": {
          "base_uri": "https://localhost:8080/"
        },
        "id": "9aEuI3CRBFi9",
        "outputId": "2acceaf0-c928-4bd6-b5b8-fc556fc734a2"
      },
      "execution_count": 7,
      "outputs": [
        {
          "output_type": "execute_result",
          "data": {
            "text/plain": [
              "array([     0.        , 524287.96260122])"
            ]
          },
          "metadata": {},
          "execution_count": 7
        }
      ]
    },
    {
      "cell_type": "code",
      "source": [
        "plt.plot(x, y, 'o' )\n",
        "plt.plot(x, 524287.96260122 * x)\n",
        "\n",
        "plt.grid()\n",
        "plt.show()"
      ],
      "metadata": {
        "colab": {
          "base_uri": "https://localhost:8080/",
          "height": 276
        },
        "id": "mFm9D7jKBM2j",
        "outputId": "3224844b-d79e-4319-facc-7460069f96ce"
      },
      "execution_count": 10,
      "outputs": [
        {
          "output_type": "display_data",
          "data": {
            "image/png": "[encoded data removed]",
            "text/plain": [
              "<Figure size 432x288 with 1 Axes>"
            ]
          },
          "metadata": {
            "needs_background": "light"
          }
        }
      ]
    },
    {
      "cell_type": "code",
      "source": [
        "def error(beta):\n",
        "  return np.sum( (y - np.exp(beta[0] + beta[1] * x)) ** 2 )\n",
        "\n",
        "def grad_b0(beta):\n",
        "  return np.sum( -2 * (y - np.exp(beta[0] + beta[1] * x) * np.exp(beta[0] + beta[1] * x))  )\n",
        "\n",
        "def grad_b1(beta):\n",
        "  return np.sum( -2 * x * (y - np.exp(beta[0] + beta[1] * x) * np.exp(beta[0] + beta[1] * x))  )"
      ],
      "metadata": {
        "id": "nwUybLeLLMXb"
      },
      "execution_count": null,
      "outputs": []
    },
    {
      "cell_type": "code",
      "source": [
        "w = np.array( [ 0, 0 ] )\n",
        "lr = 0.0000000000000000001\n",
        "maxIter = 1000000\n",
        "\n",
        "f = []\n",
        "for _ in range(maxIter):\n",
        "  f.append( error(w) )\n",
        "  grad = np.array( [ grad_b0(w), grad_b1(w) ] )\n",
        "  w1 = w - lr * grad\n",
        "  w = w1"
      ],
      "metadata": {
        "id": "MYF-wJIELc0Z"
      },
      "execution_count": null,
      "outputs": []
    },
    {
      "cell_type": "code",
      "source": [
        "plt.plot( f )\n",
        "plt.grid()\n",
        "plt.show()"
      ],
      "metadata": {
        "colab": {
          "base_uri": "https://localhost:8080/",
          "height": 289
        },
        "id": "9Z7acY1qM5bu",
        "outputId": "8021375f-9b17-4909-b0aa-1dc7d67f463a"
      },
      "execution_count": null,
      "outputs": [
        {
          "output_type": "display_data",
          "data": {
            "image/png": "[encoded data removed]",
            "text/plain": [
              "<Figure size 432x288 with 1 Axes>"
            ]
          },
          "metadata": {
            "needs_background": "light"
          }
        }
      ]
    },
    {
      "cell_type": "code",
      "source": [
        "beta = [ 0, 0 ]\n",
        "result = minimize( error, beta )\n",
        "result.x"
      ],
      "metadata": {
        "colab": {
          "base_uri": "https://localhost:8080/"
        },
        "id": "pNXEpg6qN2LQ",
        "outputId": "8309d52f-7126-463b-8828-bf703eb5e972"
      },
      "execution_count": null,
      "outputs": [
        {
          "output_type": "execute_result",
          "data": {
            "text/plain": [
              "array([0., 0.])"
            ]
          },
          "metadata": {},
          "execution_count": 111
        }
      ]
    },
    {
      "cell_type": "code",
      "source": [
        "logY = np.log(y)\n",
        "plt.plot(x, logY, 'o')\n",
        "plt.grid()\n",
        "plt.show()"
      ],
      "metadata": {
        "colab": {
          "base_uri": "https://localhost:8080/",
          "height": 265
        },
        "id": "4x73PYgcOYVi",
        "outputId": "1a21d5a4-348f-4a6f-8821-b536be823ed2"
      },
      "execution_count": null,
      "outputs": [
        {
          "output_type": "display_data",
          "data": {
            "image/png": "[encoded data removed]",
            "text/plain": [
              "<Figure size 432x288 with 1 Axes>"
            ]
          },
          "metadata": {
            "needs_background": "light"
          }
        }
      ]
    },
    {
      "cell_type": "code",
      "source": [
        "def error(beta):\n",
        "  yhat = beta[0] + beta[1] * x\n",
        "  return np.sum( (logY - yhat) ** 2 )\n",
        "\n",
        "def grad_b0(beta):\n",
        "  return np.sum(-2 * x * (-beta[1] * x - beta[0] + logY))\n",
        "\n",
        "def grad_b1(beta):\n",
        "  return np.sum(2 * beta[1] * x + 2 * beta[0] - 2 * logY)"
      ],
      "metadata": {
        "id": "_n-r8TNWOchC"
      },
      "execution_count": null,
      "outputs": []
    },
    {
      "cell_type": "code",
      "source": [
        "w = np.array( [ 0, 0 ] )\n",
        "lr = 0.000000001\n",
        "maxIter = 1000000\n",
        "\n",
        "f = []\n",
        "for _ in range(maxIter):\n",
        "  f.append( error(w) )\n",
        "  grad = np.array( [ grad_b0(w), grad_b1(w) ] )\n",
        "  w1 = w - lr * grad\n",
        "  w = w1"
      ],
      "metadata": {
        "id": "EHlOeG8LPIww"
      },
      "execution_count": null,
      "outputs": []
    },
    {
      "cell_type": "code",
      "source": [
        "w"
      ],
      "metadata": {
        "colab": {
          "base_uri": "https://localhost:8080/"
        },
        "id": "OTQn3GAdP7UE",
        "outputId": "2c60a6f9-66f8-4252-9765-be4a617a3077"
      },
      "execution_count": null,
      "outputs": [
        {
          "output_type": "execute_result",
          "data": {
            "text/plain": [
              "array([1.46079446e+01, 1.18867823e-03])"
            ]
          },
          "metadata": {},
          "execution_count": 126
        }
      ]
    },
    {
      "cell_type": "code",
      "source": [
        "beta = [0, 0]\n",
        "result = minimize( error, beta )\n",
        "result.x"
      ],
      "metadata": {
        "colab": {
          "base_uri": "https://localhost:8080/"
        },
        "id": "Y93zCgQ3RU7f",
        "outputId": "9ebaf88f-a33a-427e-b574-38eaecb6b071"
      },
      "execution_count": null,
      "outputs": [
        {
          "output_type": "execute_result",
          "data": {
            "text/plain": [
              "array([-6.84654467e+02,  3.50870636e-01])"
            ]
          },
          "metadata": {},
          "execution_count": 137
        }
      ]
    },
    {
      "cell_type": "code",
      "source": [
        "w = result.x\n",
        "plt.figure( figsize=(12,4) )\n",
        "\n",
        "plt.subplot(1, 2, 1)\n",
        "plt.plot(x, logY, 'o')\n",
        "plt.plot(x, w[0] + w[1] * x )\n",
        "plt.grid()\n",
        "\n",
        "plt.subplot(1, 2, 2)\n",
        "plt.plot(x, y, 'o')\n",
        "plt.plot(x, np.exp(w[0] + w[1] * x) )\n",
        "plt.grid()\n",
        "\n",
        "plt.show()"
      ],
      "metadata": {
        "colab": {
          "base_uri": "https://localhost:8080/",
          "height": 276
        },
        "id": "8hwue2QhP3it",
        "outputId": "ec1b3bf4-79f0-40a3-946b-54ea9464928e"
      },
      "execution_count": null,
      "outputs": [
        {
          "output_type": "display_data",
          "data": {
            "image/png": "[encoded data removed]",
            "text/plain": [
              "<Figure size 864x288 with 2 Axes>"
            ]
          },
          "metadata": {
            "needs_background": "light"
          }
        }
      ]
    },
    {
      "cell_type": "markdown",
      "source": [
        "# 모형의 평가\n",
        "- 회귀모형과 같은 경우는 크게 두 가지 방법으로 평가\n",
        "  1. 정확도\n",
        "  2. 오차"
      ],
      "metadata": {
        "id": "S3bwbZPbTDPa"
      }
    },
    {
      "cell_type": "markdown",
      "source": [
        "## 정확도"
      ],
      "metadata": {
        "id": "UufHMd8PaMH1"
      }
    },
    {
      "cell_type": "markdown",
      "source": [
        "### 모형의 정확도\n",
        "- 결정계수(R-squared)\n",
        "  - 만들어진 모형이 주어진 자료를 얼마나 잘 설명하는지를 나타내는 지표\n",
        "  - 일반적으로, $R^2$, r2 score 라고 표현을 합니다. \n",
        "\n",
        "- 결정계수를 구하는 공식은 아래와 같습니다. \n",
        "\n",
        "$$\n",
        "  R^2 = 1 - \\frac{\\sum(y - \\hat y)^2}{\\sum(y - \\bar y)^2}\n",
        "$$\n",
        "\n",
        "- 표본평균과 자료의 차이(편차)에 대한 자료와 예측값의 차이의 비율\n",
        "  - 변동성에 대한 오차의 비율이 작으면 작을수록 주어진 자료를 잘 설명하고 있다고 판단"
      ],
      "metadata": {
        "id": "24oq_seuTFYq"
      }
    },
    {
      "cell_type": "code",
      "source": [
        "yhat = w[0] + w[1] * x\n",
        "r2 = 1 - np.sum(np.square(logY-yhat)) / np.sum(np.square(logY-np.mean(logY)))\n",
        "r2"
      ],
      "metadata": {
        "colab": {
          "base_uri": "https://localhost:8080/"
        },
        "id": "tVZxpo8xT1Lt",
        "outputId": "cab80396-cb4a-4777-b990-52c96a7f2c64"
      },
      "execution_count": null,
      "outputs": [
        {
          "output_type": "execute_result",
          "data": {
            "text/plain": [
              "0.9529440539558623"
            ]
          },
          "metadata": {},
          "execution_count": 155
        }
      ]
    },
    {
      "cell_type": "markdown",
      "source": [
        "### 수정된 결정계수\n",
        "- 결정계수는 변수가 많아질수록 정확도가 높아지는 경향이 있습니다.\n",
        "  - 변수가 추가될 수록 과적합이 발생할 확률도 같이 높아지게 됩니다.\n",
        "- 변수가 추가될 수록, 패널치를 부과해서, 오히려 정확도를 더 낮추게 됩니다.\n",
        "\n",
        "$$\n",
        "  Adjusted R^2 = 1 - \\frac{(1-R^2)(N-1)}{N - p - 1}\n",
        "$$\n",
        "\n",
        "- Adj. R2는 항상 R2보다 같거나 작은 값이 나오게 됩니다."
      ],
      "metadata": {
        "id": "pTW-3WnGY4lo"
      }
    },
    {
      "cell_type": "code",
      "source": [
        "x.shape"
      ],
      "metadata": {
        "colab": {
          "base_uri": "https://localhost:8080/"
        },
        "id": "Ua_AvhqEZr4Y",
        "outputId": "06d7e962-651c-4d99-8e18-1f1d4bb552e8"
      },
      "execution_count": null,
      "outputs": [
        {
          "output_type": "execute_result",
          "data": {
            "text/plain": [
              "(102,)"
            ]
          },
          "metadata": {},
          "execution_count": 146
        }
      ]
    },
    {
      "cell_type": "code",
      "source": [
        "def adjustedR2( r2, x ):\n",
        "  if x.ndim == 1: p, n = 1, x.shape[0]\n",
        "  else: p, n = x.shape[1], x.shape[0]\n",
        "  return 1 - (1-r2) * (n-1) / (n-p-1)"
      ],
      "metadata": {
        "id": "wq9mppNXZWnK"
      },
      "execution_count": null,
      "outputs": []
    },
    {
      "cell_type": "code",
      "source": [
        "adjustedR2( r2, x )"
      ],
      "metadata": {
        "colab": {
          "base_uri": "https://localhost:8080/"
        },
        "id": "jMz2mYnjZ6dh",
        "outputId": "785b2bd6-3d81-4dfb-8abf-ab761095587a"
      },
      "execution_count": null,
      "outputs": [
        {
          "output_type": "execute_result",
          "data": {
            "text/plain": [
              "0.952473494495421"
            ]
          },
          "metadata": {},
          "execution_count": 157
        }
      ]
    },
    {
      "cell_type": "markdown",
      "source": [
        "## 오차\n",
        "- 오차와 잔차는 다른 개념입니다. \n",
        "  - 실제로 오차항을 알수는 없기 때문에, 잔차를 오차와 같은 개념으로 사용"
      ],
      "metadata": {
        "id": "bwc2gAyuaUi_"
      }
    },
    {
      "cell_type": "markdown",
      "source": [
        "### MSE(Mean Squared Error)\n",
        "- 최소제곱추정 방법에서 평균을 취해준 방식\n",
        "  - 오차들의 평균\n",
        "  - 오차들의 평균이 작으면 작을 수록 좋은 모형이라고 평가"
      ],
      "metadata": {
        "id": "r3XKVm9Iadx9"
      }
    },
    {
      "cell_type": "code",
      "source": [
        "yhat = w[0] + w[1] * x\n",
        "np.mean( np.square(logY - yhat) )"
      ],
      "metadata": {
        "colab": {
          "base_uri": "https://localhost:8080/"
        },
        "id": "u1NLIA4uazll",
        "outputId": "8a266a6b-29ef-4664-dbce-08c18ca9d86b"
      },
      "execution_count": null,
      "outputs": [
        {
          "output_type": "execute_result",
          "data": {
            "text/plain": [
              "1.0473960808896028"
            ]
          },
          "metadata": {},
          "execution_count": 158
        }
      ]
    },
    {
      "cell_type": "markdown",
      "source": [
        "### MAD(Mean Absolute Deviation)\n",
        "- 평균절대오차\n",
        "  - 잔차들의 절대값의 합을 자료의 개수로 나눈 값"
      ],
      "metadata": {
        "id": "lwQZfoVoamoM"
      }
    },
    {
      "cell_type": "code",
      "source": [
        "yhat = w[0] + w[1] * x\n",
        "np.mean( np.abs(logY - yhat) )"
      ],
      "metadata": {
        "colab": {
          "base_uri": "https://localhost:8080/"
        },
        "id": "Y_crtschaoGo",
        "outputId": "be2dab5e-85b0-48e8-a4bb-132ccf2940fc"
      },
      "execution_count": null,
      "outputs": [
        {
          "output_type": "execute_result",
          "data": {
            "text/plain": [
              "0.7086863483589458"
            ]
          },
          "metadata": {},
          "execution_count": 159
        }
      ]
    },
    {
      "cell_type": "markdown",
      "source": [
        "### 시각화\n",
        "- 일반적으로 오차항은 정규분포임을 가정\n",
        "- 잔차들이 정규분포 형태를 가진다면, 가장 이상적인 형태로 판단\n",
        "  - 잔차들이 정규분포 형태가 아니라면, 아직 반영하지 못한 것들이 남아 있음을 의미\n",
        "- 잔차는 예측값과 실제값의 차이를 의미"
      ],
      "metadata": {
        "id": "ktMau__BclZk"
      }
    },
    {
      "cell_type": "code",
      "source": [
        "residual = logY - yhat\n",
        "plt.plot(residual)\n",
        "plt.grid()\n",
        "plt.show()"
      ],
      "metadata": {
        "colab": {
          "base_uri": "https://localhost:8080/",
          "height": 265
        },
        "id": "bmGbEElIc6Fd",
        "outputId": "7476cc5b-679a-4f95-9ccd-13aad7f849c5"
      },
      "execution_count": null,
      "outputs": [
        {
          "output_type": "display_data",
          "data": {
            "image/png": "[encoded data removed]",
            "text/plain": [
              "<Figure size 432x288 with 1 Axes>"
            ]
          },
          "metadata": {
            "needs_background": "light"
          }
        }
      ]
    },
    {
      "cell_type": "code",
      "source": [
        "residual = logY - yhat\n",
        "plt.hist(residual)\n",
        "plt.grid()\n",
        "plt.show()"
      ],
      "metadata": {
        "colab": {
          "base_uri": "https://localhost:8080/",
          "height": 265
        },
        "id": "oMOjG4fudqHO",
        "outputId": "535201b9-3625-4357-b4f7-c88d422bb4a6"
      },
      "execution_count": null,
      "outputs": [
        {
          "output_type": "display_data",
          "data": {
            "image/png": "[encoded data removed]",
            "text/plain": [
              "<Figure size 432x288 with 1 Axes>"
            ]
          },
          "metadata": {
            "needs_background": "light"
          }
        }
      ]
    },
    {
      "cell_type": "markdown",
      "source": [
        "# 일반화선형모형이란? \n",
        "- 선형회귀를 확장한 개념\n",
        "  - 선형회귀는 항상 사용할 수 없습니다.\n",
        "  - 몇가지의 특별한 경우를 가정하게 됩니다.\n",
        "    1. 자료의 관계가 선형적임을 가정\n",
        "    2. 오차항의 분포는 정규분포임을 가정\n",
        "    3. 그렇기 때문에 타겟변수 또한, 정규분포임을 가정\n",
        "\n",
        "- 일반화선형모형은 특수한 경우를 제외하고, 선형회귀를 할 수 있도록, `일반화` 시킨 개념\n",
        "  - 보다, 일반적인 예측을 가능하게 해줍니다. \n",
        "  - 타겟변수가 연속형이 아니어도 사용할 수 있습니다.\n",
        "  - 타겟변수가 범주형(이산형)인 경우에 많이 사용을 하게 됩니다. \n",
        "  - 이러한 모델을 `분류 모델`이라고 부릅니다.\n",
        "\n",
        "> 타겟변수가 범주형(이산형)인 경우에 선형회귀를 할 수 없기 때문에, 일반화선형모형을 주로 사용을 하게 되는데, 일반화선형모형이 분류모형으로만 사용되지는 않습니다. "
      ],
      "metadata": {
        "id": "XkfAVr9offxJ"
      }
    },
    {
      "cell_type": "markdown",
      "source": [
        "## 실습예제\n",
        "- 그리기 쉽게 적당한 데이터를 샘플링 해보도록 합니다.\n",
        "- 아이스크림 문제와 비슷한 문제를 하나 가정\n",
        "  - 자료의 개수가 6개이고, 변수가 2개인 어떤 자료를 샘플링\n",
        "  - 이런 경우에는 선형회귀를 적용해볼 수 없습니다."
      ],
      "metadata": {
        "id": "gf4ysEZXgVtg"
      }
    },
    {
      "cell_type": "code",
      "source": [
        "from sklearn import datasets"
      ],
      "metadata": {
        "id": "Pn2AzWYai9UT"
      },
      "execution_count": null,
      "outputs": []
    },
    {
      "cell_type": "code",
      "source": [
        "x, y = datasets.make_classification(\n",
        "  n_samples = 6, n_features= 2, n_classes=2, random_state=25,\n",
        "  n_informative=1, n_redundant=0, n_clusters_per_class=1,\n",
        ")"
      ],
      "metadata": {
        "id": "F-h5mRXAjXAY"
      },
      "execution_count": null,
      "outputs": []
    },
    {
      "cell_type": "code",
      "source": [
        "sample = pd.DataFrame( np.c_[y, x], columns=['y', 'x1', 'x2'] )\n",
        "sample"
      ],
      "metadata": {
        "colab": {
          "base_uri": "https://localhost:8080/",
          "height": 237
        },
        "id": "-7N08VjDjYDu",
        "outputId": "d92bd192-26a0-4f13-c965-a7d153478e9c"
      },
      "execution_count": null,
      "outputs": [
        {
          "output_type": "execute_result",
          "data": {
            "text/html": [
              "\n",
              "  <div id=\"df-771336c6-c7ba-420b-a41a-e106abb5ad37\">\n",
              "    <div class=\"colab-df-container\">\n",
              "      <div>\n",
              "<style scoped>\n",
              "    .dataframe tbody tr th:only-of-type {\n",
              "        vertical-align: middle;\n",
              "    }\n",
              "\n",
              "    .dataframe tbody tr th {\n",
              "        vertical-align: top;\n",
              "    }\n",
              "\n",
              "    .dataframe thead th {\n",
              "        text-align: right;\n",
              "    }\n",
              "</style>\n",
              "<table border=\"1\" class=\"dataframe\">\n",
              "  <thead>\n",
              "    <tr style=\"text-align: right;\">\n",
              "      <th></th>\n",
              "      <th>y</th>\n",
              "      <th>x1</th>\n",
              "      <th>x2</th>\n",
              "    </tr>\n",
              "  </thead>\n",
              "  <tbody>\n",
              "    <tr>\n",
              "      <th>0</th>\n",
              "      <td>1.0</td>\n",
              "      <td>-0.232312</td>\n",
              "      <td>1.073766</td>\n",
              "    </tr>\n",
              "    <tr>\n",
              "      <th>1</th>\n",
              "      <td>1.0</td>\n",
              "      <td>-1.334661</td>\n",
              "      <td>1.027741</td>\n",
              "    </tr>\n",
              "    <tr>\n",
              "      <th>2</th>\n",
              "      <td>1.0</td>\n",
              "      <td>2.152957</td>\n",
              "      <td>1.119398</td>\n",
              "    </tr>\n",
              "    <tr>\n",
              "      <th>3</th>\n",
              "      <td>0.0</td>\n",
              "      <td>-0.920734</td>\n",
              "      <td>-1.310594</td>\n",
              "    </tr>\n",
              "    <tr>\n",
              "      <th>4</th>\n",
              "      <td>0.0</td>\n",
              "      <td>-2.053231</td>\n",
              "      <td>-0.915553</td>\n",
              "    </tr>\n",
              "    <tr>\n",
              "      <th>5</th>\n",
              "      <td>0.0</td>\n",
              "      <td>0.868583</td>\n",
              "      <td>-0.620115</td>\n",
              "    </tr>\n",
              "  </tbody>\n",
              "</table>\n",
              "</div>\n",
              "      <button class=\"colab-df-convert\" onclick=\"convertToInteractive('df-771336c6-c7ba-420b-a41a-e106abb5ad37')\"\n",
              "              title=\"Convert this dataframe to an interactive table.\"\n",
              "              style=\"display:none;\">\n",
              "        \n",
              "  <svg xmlns=\"http://www.w3.org/2000/svg\" height=\"24px\"viewBox=\"0 0 24 24\"\n",
              "       width=\"24px\">\n",
              "    <path d=\"M0 0h24v24H0V0z\" fill=\"none\"/>\n",
              "    <path d=\"M18.56 5.44l.94 2.06.94-2.06 2.06-.94-2.06-.94-.94-2.06-.94 2.06-2.06.94zm-11 1L8.5 8.5l.94-2.06 2.06-.94-2.06-.94L8.5 2.5l-.94 2.06-2.06.94zm10 10l.94 2.06.94-2.06 2.06-.94-2.06-.94-.94-2.06-.94 2.06-2.06.94z\"/><path d=\"M17.41 7.96l-1.37-1.37c-.4-.4-.92-.59-1.43-.59-.52 0-1.04.2-1.43.59L10.3 9.45l-7.72 7.72c-.78.78-.78 2.05 0 2.83L4 21.41c.39.39.9.59 1.41.59.51 0 1.02-.2 1.41-.59l7.78-7.78 2.81-2.81c.8-.78.8-2.07 0-2.86zM5.41 20L4 18.59l7.72-7.72 1.47 1.35L5.41 20z\"/>\n",
              "  </svg>\n",
              "      </button>\n",
              "      \n",
              "  <style>\n",
              "    .colab-df-container {\n",
              "      display:flex;\n",
              "      flex-wrap:wrap;\n",
              "      gap: 12px;\n",
              "    }\n",
              "\n",
              "    .colab-df-convert {\n",
              "      background-color: #E8F0FE;\n",
              "      border: none;\n",
              "      border-radius: 50%;\n",
              "      cursor: pointer;\n",
              "      display: none;\n",
              "      fill: #1967D2;\n",
              "      height: 32px;\n",
              "      padding: 0 0 0 0;\n",
              "      width: 32px;\n",
              "    }\n",
              "\n",
              "    .colab-df-convert:hover {\n",
              "      background-color: #E2EBFA;\n",
              "      box-shadow: 0px 1px 2px rgba(60, 64, 67, 0.3), 0px 1px 3px 1px rgba(60, 64, 67, 0.15);\n",
              "      fill: #174EA6;\n",
              "    }\n",
              "\n",
              "    [theme=dark] .colab-df-convert {\n",
              "      background-color: #3B4455;\n",
              "      fill: #D2E3FC;\n",
              "    }\n",
              "\n",
              "    [theme=dark] .colab-df-convert:hover {\n",
              "      background-color: #434B5C;\n",
              "      box-shadow: 0px 1px 3px 1px rgba(0, 0, 0, 0.15);\n",
              "      filter: drop-shadow(0px 1px 2px rgba(0, 0, 0, 0.3));\n",
              "      fill: #FFFFFF;\n",
              "    }\n",
              "  </style>\n",
              "\n",
              "      <script>\n",
              "        const buttonEl =\n",
              "          document.querySelector('#df-771336c6-c7ba-420b-a41a-e106abb5ad37 button.colab-df-convert');\n",
              "        buttonEl.style.display =\n",
              "          google.colab.kernel.accessAllowed ? 'block' : 'none';\n",
              "\n",
              "        async function convertToInteractive(key) {\n",
              "          const element = document.querySelector('#df-771336c6-c7ba-420b-a41a-e106abb5ad37');\n",
              "          const dataTable =\n",
              "            await google.colab.kernel.invokeFunction('convertToInteractive',\n",
              "                                                     [key], {});\n",
              "          if (!dataTable) return;\n",
              "\n",
              "          const docLinkHtml = 'Like what you see? Visit the ' +\n",
              "            '<a target=\"_blank\" href=https://colab.research.google.com/notebooks/data_table.ipynb>data table notebook</a>'\n",
              "            + ' to learn more about interactive tables.';\n",
              "          element.innerHTML = '';\n",
              "          dataTable['output_type'] = 'display_data';\n",
              "          await google.colab.output.renderOutput(dataTable, element);\n",
              "          const docLink = document.createElement('div');\n",
              "          docLink.innerHTML = docLinkHtml;\n",
              "          element.appendChild(docLink);\n",
              "        }\n",
              "      </script>\n",
              "    </div>\n",
              "  </div>\n",
              "  "
            ],
            "text/plain": [
              "     y        x1        x2\n",
              "0  1.0 -0.232312  1.073766\n",
              "1  1.0 -1.334661  1.027741\n",
              "2  1.0  2.152957  1.119398\n",
              "3  0.0 -0.920734 -1.310594\n",
              "4  0.0 -2.053231 -0.915553\n",
              "5  0.0  0.868583 -0.620115"
            ]
          },
          "metadata": {},
          "execution_count": 23
        }
      ]
    },
    {
      "cell_type": "code",
      "source": [
        "plt.scatter( sample['x1'], sample['x2'], c=sample['y'], cmap='coolwarm' )\n",
        "plt.grid()\n",
        "plt.show()"
      ],
      "metadata": {
        "colab": {
          "base_uri": "https://localhost:8080/",
          "height": 265
        },
        "id": "bljK_Yb6mWAF",
        "outputId": "a5433a1e-4f94-4635-8e60-b46d2ca5578f"
      },
      "execution_count": null,
      "outputs": [
        {
          "output_type": "display_data",
          "data": {
            "image/png": "[encoded data removed]",
            "text/plain": [
              "<Figure size 432x288 with 1 Axes>"
            ]
          },
          "metadata": {
            "needs_background": "light"
          }
        }
      ]
    },
    {
      "cell_type": "markdown",
      "source": [
        "## 다음중 더 좋은 모델은?"
      ],
      "metadata": {
        "id": "X5wXs0OaqFeg"
      }
    },
    {
      "cell_type": "code",
      "source": [
        "xy1, xy2 = np.meshgrid(\n",
        "    np.arange(x[:,0].min() - 0.1, x[:,0].max() + 0.1, 0.01), \n",
        "    np.arange(x[:,1].min() - 0.1 , x[:,1].max() + 0.1 , 0.01)\n",
        ")\n",
        "\n",
        "beta = np.array([-10, 15])\n",
        "xx = np.c_[xy1.flatten(), xy2.flatten()]\n",
        "yhat = np.dot(xx, beta) + -0.7\n",
        "plt.figure(figsize=(15, 5))\n",
        "plt.subplot(1, 2, 1)\n",
        "plt.scatter(x[:,0], x[:,1], c = y, cmap='coolwarm')\n",
        "plt.contourf(xy1, xy2, yhat.reshape(xy1.shape), cmap='coolwarm', alpha=0.5)\n",
        "\n",
        "beta = np.array([0.2, 15])\n",
        "xx = np.c_[xy1.flatten(), xy2.flatten()]\n",
        "yhat = np.dot(xx, beta) + -0.7\n",
        "plt.subplot(1, 2, 2)\n",
        "plt.scatter(x[:,0], x[:,1], c = y, cmap='coolwarm')\n",
        "plt.contourf(xy1, xy2, yhat.reshape(xy1.shape), cmap='coolwarm', alpha=0.5)\n",
        "\n",
        "plt.show()"
      ],
      "metadata": {
        "colab": {
          "base_uri": "https://localhost:8080/",
          "height": 320
        },
        "id": "mXI7U1rsqHfU",
        "outputId": "6c4058e2-3758-4fdc-dc07-b27fe88eab6b"
      },
      "execution_count": null,
      "outputs": [
        {
          "output_type": "display_data",
          "data": {
            "image/png": "[encoded data removed]",
            "text/plain": [
              "<Figure size 1080x360 with 2 Axes>"
            ]
          },
          "metadata": {
            "needs_background": "light"
          }
        }
      ]
    },
    {
      "cell_type": "markdown",
      "source": [
        "- 왼쪽 모형보다 오른쪽 모형이 맞춘개수가 더 많다. \n",
        "- 오른쪽 모형이 더 좋은 모형이다."
      ],
      "metadata": {
        "id": "6PEfI-mLqn28"
      }
    },
    {
      "cell_type": "code",
      "source": [
        "xy1, xy2 = np.meshgrid(\n",
        "    np.arange(x[:,0].min() - 0.1, x[:,0].max() + 0.1, 0.01), \n",
        "    np.arange(x[:,1].min() - 0.1 , x[:,1].max() + 0.1 , 0.01)\n",
        ")\n",
        "\n",
        "beta = np.array([-2, 15])\n",
        "xx = np.c_[xy1.flatten(), xy2.flatten()]\n",
        "yhat = np.dot(xx, beta) + -0.7\n",
        "plt.figure(figsize=(15, 5))\n",
        "plt.subplot(1, 2, 1)\n",
        "plt.scatter(x[:,0], x[:,1], c = y, cmap='coolwarm')\n",
        "plt.contourf(xy1, xy2, yhat.reshape(xy1.shape), cmap='coolwarm', alpha=0.5)\n",
        "\n",
        "beta = np.array([2, 15])\n",
        "xx = np.c_[xy1.flatten(), xy2.flatten()]\n",
        "yhat = np.dot(xx, beta) + -0.7\n",
        "plt.subplot(1, 2, 2)\n",
        "plt.scatter(x[:,0], x[:,1], c = y, cmap='coolwarm')\n",
        "plt.contourf(xy1, xy2, yhat.reshape(xy1.shape), cmap='coolwarm', alpha=0.5)\n",
        "\n",
        "plt.show()"
      ],
      "metadata": {
        "colab": {
          "base_uri": "https://localhost:8080/",
          "height": 320
        },
        "id": "A25e-ylWqua-",
        "outputId": "5025add9-af63-4ca4-b2c5-5f52efc22c60"
      },
      "execution_count": null,
      "outputs": [
        {
          "output_type": "display_data",
          "data": {
            "image/png": "[encoded data removed]",
            "text/plain": [
              "<Figure size 1080x360 with 2 Axes>"
            ]
          },
          "metadata": {
            "needs_background": "light"
          }
        }
      ]
    },
    {
      "cell_type": "markdown",
      "source": [
        "- 틀린 개수가 동일\n",
        "- 어떤 모델이 더 좋은 모델인지 판단할 수 없다.\n",
        "- 그렇기 때문에, 틀린 갯수만 가지고는 판단할 수 없다. \n",
        "  - continuos(연속적인) 형태의 평가 방식이 필요\n",
        "  - 확률적 개념을 도입(최대 가능도 추정)"
      ],
      "metadata": {
        "id": "Rm6YjyZCrNJD"
      }
    },
    {
      "cell_type": "markdown",
      "source": [
        "## 라이브러리는 어떻게?"
      ],
      "metadata": {
        "id": "NnY9zXnFrcha"
      }
    },
    {
      "cell_type": "code",
      "source": [
        "from sklearn.linear_model import LogisticRegression"
      ],
      "metadata": {
        "id": "kQVa8QW0r1GT"
      },
      "execution_count": null,
      "outputs": []
    },
    {
      "cell_type": "code",
      "source": [
        "model = LogisticRegression()\n",
        "model.fit(sample[['x1', 'x2']], sample['y'])"
      ],
      "metadata": {
        "colab": {
          "base_uri": "https://localhost:8080/"
        },
        "id": "xZ_Plj4Yr80p",
        "outputId": "d5528088-5226-4bc9-bc3c-9126275a6e36"
      },
      "execution_count": null,
      "outputs": [
        {
          "output_type": "execute_result",
          "data": {
            "text/plain": [
              "LogisticRegression()"
            ]
          },
          "metadata": {},
          "execution_count": 46
        }
      ]
    },
    {
      "cell_type": "code",
      "source": [
        "pd.DataFrame( np.c_[ y, model.predict_proba( sample[['x1', 'x2']] ) ], columns=['y', '0', '1'] )"
      ],
      "metadata": {
        "colab": {
          "base_uri": "https://localhost:8080/",
          "height": 237
        },
        "id": "f0PuZbRosQsa",
        "outputId": "77bca22d-cab2-4772-c823-c1539b9fd727"
      },
      "execution_count": null,
      "outputs": [
        {
          "output_type": "execute_result",
          "data": {
            "text/html": [
              "\n",
              "  <div id=\"df-fdfce452-1a2e-4472-b544-b67e1247718b\">\n",
              "    <div class=\"colab-df-container\">\n",
              "      <div>\n",
              "<style scoped>\n",
              "    .dataframe tbody tr th:only-of-type {\n",
              "        vertical-align: middle;\n",
              "    }\n",
              "\n",
              "    .dataframe tbody tr th {\n",
              "        vertical-align: top;\n",
              "    }\n",
              "\n",
              "    .dataframe thead th {\n",
              "        text-align: right;\n",
              "    }\n",
              "</style>\n",
              "<table border=\"1\" class=\"dataframe\">\n",
              "  <thead>\n",
              "    <tr style=\"text-align: right;\">\n",
              "      <th></th>\n",
              "      <th>y</th>\n",
              "      <th>0</th>\n",
              "      <th>1</th>\n",
              "    </tr>\n",
              "  </thead>\n",
              "  <tbody>\n",
              "    <tr>\n",
              "      <th>0</th>\n",
              "      <td>1.0</td>\n",
              "      <td>0.224322</td>\n",
              "      <td>0.775678</td>\n",
              "    </tr>\n",
              "    <tr>\n",
              "      <th>1</th>\n",
              "      <td>1.0</td>\n",
              "      <td>0.265428</td>\n",
              "      <td>0.734572</td>\n",
              "    </tr>\n",
              "    <tr>\n",
              "      <th>2</th>\n",
              "      <td>1.0</td>\n",
              "      <td>0.160384</td>\n",
              "      <td>0.839616</td>\n",
              "    </tr>\n",
              "    <tr>\n",
              "      <th>3</th>\n",
              "      <td>0.0</td>\n",
              "      <td>0.861946</td>\n",
              "      <td>0.138054</td>\n",
              "    </tr>\n",
              "    <tr>\n",
              "      <th>4</th>\n",
              "      <td>0.0</td>\n",
              "      <td>0.819000</td>\n",
              "      <td>0.181000</td>\n",
              "    </tr>\n",
              "    <tr>\n",
              "      <th>5</th>\n",
              "      <td>0.0</td>\n",
              "      <td>0.668922</td>\n",
              "      <td>0.331078</td>\n",
              "    </tr>\n",
              "  </tbody>\n",
              "</table>\n",
              "</div>\n",
              "      <button class=\"colab-df-convert\" onclick=\"convertToInteractive('df-fdfce452-1a2e-4472-b544-b67e1247718b')\"\n",
              "              title=\"Convert this dataframe to an interactive table.\"\n",
              "              style=\"display:none;\">\n",
              "        \n",
              "  <svg xmlns=\"http://www.w3.org/2000/svg\" height=\"24px\"viewBox=\"0 0 24 24\"\n",
              "       width=\"24px\">\n",
              "    <path d=\"M0 0h24v24H0V0z\" fill=\"none\"/>\n",
              "    <path d=\"M18.56 5.44l.94 2.06.94-2.06 2.06-.94-2.06-.94-.94-2.06-.94 2.06-2.06.94zm-11 1L8.5 8.5l.94-2.06 2.06-.94-2.06-.94L8.5 2.5l-.94 2.06-2.06.94zm10 10l.94 2.06.94-2.06 2.06-.94-2.06-.94-.94-2.06-.94 2.06-2.06.94z\"/><path d=\"M17.41 7.96l-1.37-1.37c-.4-.4-.92-.59-1.43-.59-.52 0-1.04.2-1.43.59L10.3 9.45l-7.72 7.72c-.78.78-.78 2.05 0 2.83L4 21.41c.39.39.9.59 1.41.59.51 0 1.02-.2 1.41-.59l7.78-7.78 2.81-2.81c.8-.78.8-2.07 0-2.86zM5.41 20L4 18.59l7.72-7.72 1.47 1.35L5.41 20z\"/>\n",
              "  </svg>\n",
              "      </button>\n",
              "      \n",
              "  <style>\n",
              "    .colab-df-container {\n",
              "      display:flex;\n",
              "      flex-wrap:wrap;\n",
              "      gap: 12px;\n",
              "    }\n",
              "\n",
              "    .colab-df-convert {\n",
              "      background-color: #E8F0FE;\n",
              "      border: none;\n",
              "      border-radius: 50%;\n",
              "      cursor: pointer;\n",
              "      display: none;\n",
              "      fill: #1967D2;\n",
              "      height: 32px;\n",
              "      padding: 0 0 0 0;\n",
              "      width: 32px;\n",
              "    }\n",
              "\n",
              "    .colab-df-convert:hover {\n",
              "      background-color: #E2EBFA;\n",
              "      box-shadow: 0px 1px 2px rgba(60, 64, 67, 0.3), 0px 1px 3px 1px rgba(60, 64, 67, 0.15);\n",
              "      fill: #174EA6;\n",
              "    }\n",
              "\n",
              "    [theme=dark] .colab-df-convert {\n",
              "      background-color: #3B4455;\n",
              "      fill: #D2E3FC;\n",
              "    }\n",
              "\n",
              "    [theme=dark] .colab-df-convert:hover {\n",
              "      background-color: #434B5C;\n",
              "      box-shadow: 0px 1px 3px 1px rgba(0, 0, 0, 0.15);\n",
              "      filter: drop-shadow(0px 1px 2px rgba(0, 0, 0, 0.3));\n",
              "      fill: #FFFFFF;\n",
              "    }\n",
              "  </style>\n",
              "\n",
              "      <script>\n",
              "        const buttonEl =\n",
              "          document.querySelector('#df-fdfce452-1a2e-4472-b544-b67e1247718b button.colab-df-convert');\n",
              "        buttonEl.style.display =\n",
              "          google.colab.kernel.accessAllowed ? 'block' : 'none';\n",
              "\n",
              "        async function convertToInteractive(key) {\n",
              "          const element = document.querySelector('#df-fdfce452-1a2e-4472-b544-b67e1247718b');\n",
              "          const dataTable =\n",
              "            await google.colab.kernel.invokeFunction('convertToInteractive',\n",
              "                                                     [key], {});\n",
              "          if (!dataTable) return;\n",
              "\n",
              "          const docLinkHtml = 'Like what you see? Visit the ' +\n",
              "            '<a target=\"_blank\" href=https://colab.research.google.com/notebooks/data_table.ipynb>data table notebook</a>'\n",
              "            + ' to learn more about interactive tables.';\n",
              "          element.innerHTML = '';\n",
              "          dataTable['output_type'] = 'display_data';\n",
              "          await google.colab.output.renderOutput(dataTable, element);\n",
              "          const docLink = document.createElement('div');\n",
              "          docLink.innerHTML = docLinkHtml;\n",
              "          element.appendChild(docLink);\n",
              "        }\n",
              "      </script>\n",
              "    </div>\n",
              "  </div>\n",
              "  "
            ],
            "text/plain": [
              "     y         0         1\n",
              "0  1.0  0.224322  0.775678\n",
              "1  1.0  0.265428  0.734572\n",
              "2  1.0  0.160384  0.839616\n",
              "3  0.0  0.861946  0.138054\n",
              "4  0.0  0.819000  0.181000\n",
              "5  0.0  0.668922  0.331078"
            ]
          },
          "metadata": {},
          "execution_count": 51
        }
      ]
    },
    {
      "cell_type": "markdown",
      "source": [
        "# 선형회귀의 일반화\n",
        "- 선형회귀를 할 수 있도록 최대가능도추정을 이용해서 일반화 하는 방법을 생각\n",
        "- 주어진 샘플은 정규분포가 아닌 **베르누이 분포**를 따르는 모형을 생각해볼 수 있습니다. \n",
        "\n",
        "$$\n",
        "  y \\sim Ber( ax + b )\n",
        "$$\n",
        "\n",
        "- 적절하게 0과 1사이의 값으로 변환해 주는 방법을 생각해볼 수 있습니다.\n",
        "  - 정규분포의 누적분포함수를 생각해볼 수 있습니다.\n",
        "  - 머신러닝에서는 `logit` 함수라고 합니다.\n",
        "  - 딥러닝에서는 `sigmoid` 함수라고 합니다.\n",
        "  - 그냥 전부 정규분포의 누적분포함수 입니다."
      ],
      "metadata": {
        "id": "CrPqzvS7uazR"
      }
    },
    {
      "cell_type": "markdown",
      "source": [
        "## logit function\n",
        "\n",
        "$$\n",
        "  f(x) = \\frac{1}{1 + e^{-x}}\n",
        "$$"
      ],
      "metadata": {
        "id": "LFb-AI9wuc4E"
      }
    },
    {
      "cell_type": "code",
      "source": [
        "def logit(x):\n",
        "  return 1 / (1 + np.exp(-x))"
      ],
      "metadata": {
        "id": "H4pvEqLCwQNH"
      },
      "execution_count": null,
      "outputs": []
    },
    {
      "cell_type": "code",
      "source": [
        "x = np.linspace(-5, 5, 1000)\n",
        "plt.plot(x, logit(x))\n",
        "plt.grid()\n",
        "plt.show()"
      ],
      "metadata": {
        "colab": {
          "base_uri": "https://localhost:8080/",
          "height": 265
        },
        "id": "6vbWzRy_wYCR",
        "outputId": "6a7c9cec-3d6a-49fd-bb0c-f1a689a75cac"
      },
      "execution_count": null,
      "outputs": [
        {
          "output_type": "display_data",
          "data": {
            "image/png": "[encoded data removed]",
            "text/plain": [
              "<Figure size 432x288 with 1 Axes>"
            ]
          },
          "metadata": {
            "needs_background": "light"
          }
        }
      ]
    },
    {
      "cell_type": "markdown",
      "source": [
        "로짓함수는 정규분포의 누적분포함수와 같습니다."
      ],
      "metadata": {
        "id": "NKegeO1dwodD"
      }
    },
    {
      "cell_type": "markdown",
      "source": [
        "## 선형회귀의 일반화란? \n",
        "- 다음과 같은 수학적 모델을 이용하면, **선형회귀**라고 합니다. \n",
        "\n",
        "$$\n",
        "  f(x) = ax + b\n",
        "$$\n",
        "\n",
        "- 이러한 수학적 모델에 적당한 함수 F를 도입함으로써, 보다 일반적인 예측을 가능하게 해준다.\n",
        "  - 이 적당한 함수 F는 확률적 계산을 가능\n",
        "\n",
        "$$\n",
        "  f(x) = F(ax + b)\n",
        "$$\n",
        "\n",
        "- 주어진 샘플에서는 다음과 같이 정의해볼 수 있습니다. \n",
        "\n",
        "$$\n",
        "  y \\sim Ber( logit(ax + b) )\n",
        "$$"
      ],
      "metadata": {
        "id": "BiSLtBG7xAFo"
      }
    }
  ]
}