{
  "nbformat": 4,
  "nbformat_minor": 0,
  "metadata": {
    "colab": {
      "name": "2021-12-20.ipynb",
      "provenance": []
    },
    "kernelspec": {
      "name": "python3",
      "display_name": "Python 3"
    },
    "language_info": {
      "name": "python"
    }
  },
  "cells": [
    {
      "cell_type": "markdown",
      "source": [
        "## HTML\n",
        "- Hyper-Text Markup Language\n",
        "  - `언어`라고 되어 있기는 한데 언어라고 볼 수는 없습니다. \n",
        "  - 제어문이 없습니다.(분기, 반복)\n",
        "  - 정확하게 표현하자면, 문서의 구조를 표현\n",
        "  - `자바스크립트`가 HTML의 부족한 부분을 대신하고 있다."
      ],
      "metadata": {
        "id": "BcXZcAtnOuUC"
      }
    },
    {
      "cell_type": "markdown",
      "source": [
        "### HTML의 기본 구조\n",
        "\n",
        "```\n",
        "<!DOCTYPE html> <!-- HTML5 표준을 따르는 문서라는 표시 -->\n",
        "<html>          <!-- HTML 문서의 시작 -->\n",
        "\n",
        "    <!-- \n",
        "        화면에 보이지 않는 내용들 \n",
        "        HTML 문서의 정보에 대한 내용들이 주로 들어가게 됩니다.\n",
        "    -->\n",
        "    <head>\n",
        "\n",
        "    </head>\n",
        "\n",
        "    <!-- \n",
        "        화면(웹 브라우저)에 보여지는 모든 내용들\n",
        "    -->\n",
        "    <body>\n",
        "        <h1> 이렇게 해도 잘 되긴 할텐데 ... </h1>\n",
        "    </body>\n",
        "\n",
        "</html>\n",
        "```"
      ],
      "metadata": {
        "id": "CV8euT-qPaRH"
      }
    },
    {
      "cell_type": "markdown",
      "source": [
        "### TAG란?\n",
        "- `<, >`를 이용해서 표현\n",
        "- 내용(contents)에 대한 타입을 나타내는 용도\n",
        "- 기본적으로는 1쌍으로 사용이 됩니다.\n",
        "\n",
        "- 태그의 구조\n",
        "\n",
        "```\n",
        "  <opening tag> 내용 </closing tag>\n",
        "  <tagName /> self closing\n",
        "```\n",
        "\n",
        "- 기본적으로 태그들은 계층적인 구조를 같이 표현\n",
        "  - 최상위 태그는 항상 `HTML`이 됩니다. \n",
        "  - `head`와 `body`는 `HTML`의 하위 태그가 됩니다. \n",
        "  - 일반적으로 계층 표현을 `들여쓰기`를 이용해서 표현"
      ],
      "metadata": {
        "id": "i1A7owEMPmjR"
      }
    },
    {
      "cell_type": "markdown",
      "source": [
        "### 속성(Attribute)\n",
        "1. 일반속성\n",
        "  - 태그별로 사용할 수 있는 속성들이 정해져 있습니다.\n",
        "  - 지원하는 속성을 이용해서 태그에 대한 세부적인 설정이 가능\n",
        "  - 태그별로 속성을 전부 외우는 것은 불가능 하니, 아래의 사이트를 참조해서 사용\n",
        "  - [w3schools.com](https://www.w3schools.com/tags/ref_attributes.asp)\n",
        "\n",
        "2. 글로벌 속성\n",
        "  - [w3schools.com](https://www.w3schools.com/tags/ref_standardattributes.asp)\n",
        "  - 모든 태그에서 공통적으로 사용할 수 있는 속성\n",
        "  - class, id, ...\n",
        "  - 이벤트 속성\n",
        "  - 스타일 속성"
      ],
      "metadata": {
        "id": "uzhDC6o8pXdQ"
      }
    },
    {
      "cell_type": "markdown",
      "source": [
        "### 기본태그\n",
        "- 문서의 구조를 표현\n",
        "  - 워드나 한글을 이용해서 작성할 수 있는 내용들\n",
        "  - 제목, 본문, 표, 그림, 목차, ... \n",
        "  - 웹이 발전하면서, 원래 용도 보다는 현재는 응용된 형태로 더 많이 사용"
      ],
      "metadata": {
        "id": "GKUSYZH8TMaa"
      }
    },
    {
      "cell_type": "markdown",
      "source": [
        "#### Heading\n",
        "- 제목을 표현하는 태그\n",
        "- 6단계로 구분\n",
        "  - `<h1> ~ <h6>`\n",
        "\n",
        "- 사용법\n",
        "\n",
        "```\n",
        "        <h1> 가장 큰 제목 </h1>\n",
        "        <h3> 중간 제목 </h3>\n",
        "        <h5> 소제목 </h5>\n",
        "```\n"
      ],
      "metadata": {
        "id": "S3OVCCBybZZa"
      }
    },
    {
      "cell_type": "markdown",
      "source": [
        "#### Paragraph\n",
        "- 문단, 본문, 단락, ... 표현 하는 용도\n",
        "- 일반적으로는 문자를 표현할 때 주로 사용\n",
        "\n",
        "- 사용법\n",
        "\n",
        "```\n",
        "  <p> 일반적으로 텍스트를 표현하는 용도로 사용이 됩니다 </p>\n",
        "```\n",
        "\n",
        "- Line Break\n",
        "  - html은 엔터도 태그로 표현\n",
        "  - `<br>` 태그 입니다. 내용이 없기 때문에 따로 태그를 닫지 않아도 됩니다. \n",
        "\n",
        "- 사용법\n",
        "\n",
        "```\n",
        "        <p> \n",
        "            일반적으로 텍스트를 표현하는 용도로 사용이 됩니다 <br>\n",
        "            태그안에 들어있는 텍스트도 CRLF를 사용할 수 없습니다. <br>\n",
        "        </p>\n",
        "        텍스트를 반드시 p 태그에 넣을 필요는 없습니다. <br>\n",
        "        문제는 HTML은 줄바꿈(엔터) 문자로 CRLF를 사용하지 않습니다. <br>\n",
        "        어? 왜 줄바꿈이 안되지? <br>\n",
        "```\n",
        "\n",
        "- Non-breaking Space\n",
        "  - `&nbsp;, &ensp;, &emsp;`\n",
        "  - 공백 대신에 사용하는 공백문자\n",
        "  - 문자열 이스케이프 정도로 해석\n",
        "    - 예를 들면, 문자열 내에서 엔터를 표현할 수 없기 때문에 `\\n`과 같은 문자가 있었던 것 처럼\n",
        "\n",
        "- 사용법\n",
        "\n",
        "```\n",
        "  <p> 공백 문자도 &nbsp;&nbsp;&nbsp;&nbsp;&nbsp;HTML은 해석하지 않습니다.</p>\n",
        "```"
      ],
      "metadata": {
        "id": "qbwFtcMmctlH"
      }
    },
    {
      "cell_type": "markdown",
      "source": [
        "#### 리스트\n",
        "- 목차, 목록 등을 표현할 때 사용할 수 있는 태그\n",
        "- 현재는 응용해서 다른 형태로 더 많이 사용\n",
        "- 정렬된 리스트: Ordered List => `<ol>`\n",
        "- 비정렬 리스트: Unordered List => `<ul>`\n",
        "\n",
        "- 사용법\n",
        "\n",
        "```\n",
        "        <ol> 순서있는 리스트 \n",
        "            <li> 첫번째</li>\n",
        "            <li> 두번째</li>\n",
        "            <li> 세번째</li>\n",
        "        </ol>\n",
        "\n",
        "        <ul> 순서없는 리스트 \n",
        "            <li> 첫번째</li>\n",
        "            <li> 두번째</li>\n",
        "            <li> 세번째</li>\n",
        "        </ul>\n",
        "```\n",
        "\n",
        "- ol과 ul의 차이점은 리스트 아이템을 나열할 때 아이템의 순서를 아라비아 숫자로 표현하는 것과 안하는 것의 차이 정도이다. "
      ],
      "metadata": {
        "id": "NJ8gG_DGbnrz"
      }
    },
    {
      "cell_type": "markdown",
      "source": [
        "#### 이미지\n",
        "- `<img>`는 내용이 없는 태그중에 하나 입니다. \n",
        "- 일반적인 사용법\n",
        "\n",
        "```\n",
        "  <img src='url/path' />\n",
        "```\n",
        "\n",
        "- `height`, `width` 속성 사용법\n",
        "\n",
        "```\n",
        "  <img src='url/path' width='px', height='px' />\n",
        "```\n"
      ],
      "metadata": {
        "id": "rzt0oLrihuUa"
      }
    },
    {
      "cell_type": "markdown",
      "source": [
        "#### 테이블\n",
        "- 일반적인 문서에서 `표`에 해당하는 내용\n",
        "- 테이블을 이용해서 웹 페이지 레이아웃을 표현 하기도 합니다. \n",
        "  - html5 표준 부터는 div를 더 적극적으로 많이 사용합니다.\n",
        "\n",
        "- 테이블의 기본 구조\n",
        "\n",
        "```\n",
        "<table>   <!-- 테이블의 시작 -->\n",
        "  <thead> <!-- 제목 라인 --> \n",
        "    <tr>  <!-- 행을 표현 -->\n",
        "      <th></th>  <!-- 컬럼 --> \n",
        "    </tr>\n",
        "  </thead>\n",
        "\n",
        "  <tbody> <!-- 표에 들어갈 내용 -->\n",
        "    <tr>  <!-- 행을 표현 -->\n",
        "      <td> </td> <!-- 컬럼 --> \n",
        "    </tr>\n",
        "  </tbody>\n",
        "</table>  <!-- 테이블의 끝 -->\n",
        "```"
      ],
      "metadata": {
        "id": "Fhwdg986m86Q"
      }
    },
    {
      "cell_type": "markdown",
      "source": [
        "#### anchor\n",
        "- 하이퍼-링크\n",
        "  - 지금의 웹이 만들어지는데 가장 중요한 기능\n",
        "  - 봇(bot) - 자동화된 프로그램\n",
        "    - 웹 페이지도 봇에 의해서 자동으로 수집\n",
        "    - 시드(seed)페이지를 통해서 하이퍼-링크를 통해서 연결되어 있는 다른 웹 페이지를 찾는 방식\n",
        "    - 전세계에 흩어져 있는 웹 페이지를 전부 수집\n",
        "    - 이렇게 수집된 페이지에서 사용자가 원하는 페이지를 가장 빠르게 검색해서 제공하는 해주던 사이트가 바로 구글입니다. \n",
        "\n",
        "- 사용법\n",
        "\n",
        "```\n",
        "  <a> 연결된 페이지의 이름 </a>\n",
        "```\n",
        "\n",
        "- 속성\n",
        "  - href: 연결된 페이지의 주소(URL/URI)\n",
        "  - target: 연결되 페이지로 이동하는 방식 \n",
        "    - _self(default): 현재 창에서 해당 페이지로 바로 이동\n",
        "    - _blank: 새창에서 해당 페이지로 이동\n",
        "    - _parent: 현재 창보다 상위 창에서 해당 페이지로 이동\n",
        "    - _top: 최상위 창에서 해당 페이지로 이동"
      ],
      "metadata": {
        "id": "pF1dpU2BtlrN"
      }
    },
    {
      "cell_type": "markdown",
      "source": [
        "### HTML Box Model\n",
        "- 태그들은 배치되는 형태에 따라서 크게 2가지로 분류\n",
        "  - 어떤 태그를 사용하느냐에 따라서 레이아웃이 결정\n",
        "  - Block 기반의 태그\n",
        "  - Inline 기반의 태그"
      ],
      "metadata": {
        "id": "jckIHwbMBbiE"
      }
    },
    {
      "cell_type": "markdown",
      "source": [
        "#### Block 기반의 태그\n",
        "- `DIV`\n",
        "  - `익명태그`라고 부릅니다.\n",
        "  - 용도가 정해져 있지 않은 태그로, 활용성이 굉장히 높아서, 많이 사용\n",
        "\n",
        "- 그 외의 블록기반의 태그들\n",
        "  - p, ol, ul, li, table, h\n",
        "\n",
        "- 실습 예제\n",
        "\n",
        "```\n",
        "<!DOCTYPE html>\n",
        "<html style='border: 0.5px dashed blue'>\n",
        "    <head>\n",
        "    </head>\n",
        "\n",
        "    <body style='border: 0.5px dashed red'>\n",
        "\n",
        "        <!-- 블록기반의 태그들 -->\n",
        "        <h1 style='border: 0.5px dashed green'> Heading </h1>\n",
        "        <p style='border: 0.5px dashed yellow'> Paragraph </p>\n",
        "        \n",
        "        <div style='border: 0.5px dashed black; width:100px; height:100px'>\n",
        "        </div>\n",
        "        <div style='border: 0.5px dashed black; width:100px; height:100px'>\n",
        "        </div>\n",
        "        <div style='border: 0.5px dashed black; width:100px; height:100px'>\n",
        "        </div>\n",
        "    </body>\n",
        "</html>\n",
        "```\n",
        "\n",
        "- 스타일 속성\n",
        "  - border: 경계선(테두리)\n",
        "    - 선의 굵기가 0.5px이고, 타입이 점선이고 컬러 지정\n",
        "\n",
        "- 각 태그들이 브라우저에서 차지하는 영역을 확인\n",
        "  - 즉, 지금 보여지는 박스들이 각 태그각 화면에서 차지하는 영역\n",
        "\n",
        "- 블록기반의 태그의 특징\n",
        "  - 태그 하나가 전체 너비를 모두 차지\n",
        "  - 다음 라인에 태그의 내용이 표시\n",
        "  - 즉, 블록기반의 태그들은 화면에 배치가 될 때, 한 줄에 하나씩 배치가 됩니다. "
      ],
      "metadata": {
        "id": "GIZ_gtvyD3NO"
      }
    },
    {
      "cell_type": "markdown",
      "source": [
        "#### Inline 기반의 태그\n",
        "- `<span>`\n",
        "  - 인라인 기반의 대표적인 태그로 `div`와 마찬가지로 `익명태그`중에 하나 입니다. \n",
        "  - 기본적으로는 div와 거의 동일하지만, `inline`기반이 차이점 입니다. \n",
        "\n",
        "- 그 외 인라인 기반의 태그들\n",
        "  - img, a, ... \n",
        "\n",
        "- 실습용 코드\n",
        "\n",
        "```\n",
        "<!DOCTYPE html>\n",
        "<html style='border: 0.5px dashed blue'>\n",
        "    <head>\n",
        "    </head>\n",
        "\n",
        "    <body style='border: 0.5px dashed red'>\n",
        "\n",
        "        <!-- 블록기반의 태그들 -->\n",
        "        <h1 style='border: 0.5px dashed green'> Heading </h1>\n",
        "        <p style='border: 0.5px dashed yellow'> Paragraph </p>\n",
        "        \n",
        "        <div style='border: 0.5px dashed black; width:100px; height:100px'>\n",
        "            div1\n",
        "        </div>\n",
        "        <div style='border: 0.5px dashed black; width:100px; height:100px'>\n",
        "            div2\n",
        "        </div>\n",
        "        <div style='border: 0.5px dashed black; width:100px; height:100px'>\n",
        "            div3\n",
        "        </div>\n",
        "\n",
        "        <!-- 인라인 기반의 태그들 -->\n",
        "        <span style='border: 0.5px dashed black;'>\n",
        "            span1\n",
        "        </span>\n",
        "        <span style='border: 0.5px dashed black;'>\n",
        "            span2\n",
        "        </span>\n",
        "        <span style='border: 0.5px dashed black;'>\n",
        "            span3\n",
        "        </span>\n",
        "    </body>\n",
        "</html>\n",
        "```"
      ],
      "metadata": {
        "id": "JH5BsdreEbVf"
      }
    },
    {
      "cell_type": "markdown",
      "source": [
        "### 레이아웃\n",
        "- div를 통해서 배치\n",
        "- semantic tag를 사용해서 배치\n",
        "- table을 이용해서 배치\n",
        "  - HTML5 표준부터 사용하지 않는 방법"
      ],
      "metadata": {
        "id": "PoVYialTJasI"
      }
    },
    {
      "cell_type": "markdown",
      "source": [
        "#### iframe\n",
        "- inline frame의 약자로, 웹 페이지 안에 또 다른 웹 페이지를 표현할 수 있는 방법\n",
        "\n",
        "- 사용법 \n",
        "\n",
        "```\n",
        "<iframe src='https://www.daum.net'></iframe>\n",
        "```"
      ],
      "metadata": {
        "id": "WFtksI4PM-oQ"
      }
    },
    {
      "cell_type": "markdown",
      "source": [
        "#### semantic tag\n",
        "- HTML5 표준에서 새로 제공하는 태그들\n",
        "  - 레이아웃만을 위해서 제공하는 태그\n",
        "  - 태그가 의미를 가지고 있다는 뜻인데\n",
        "\n",
        "- 레이아웃을 나타내는 시멘틱 태그\n",
        "  - header, nav, main, section, article, asise, footer\n",
        "\n",
        "\n",
        "- HTML5 표준 이전의 방식\n",
        "\n",
        "```\n",
        "<div id=\"header\" role=\"banner\">\n",
        "<div id=\"container\" role=\"main\">\n",
        "<div id=\"footer\" role=\"contentinfo\">\n",
        "```\n",
        "\n",
        "- HTML5 표준 이후의 방식\n",
        "\n",
        "```\n",
        "<header id=\"daumHead\" class=\"head_daum\" data-tiara-layer=\"header\">\n",
        "<main id=\"daumContent\">\n",
        "<footer id=\"daumFoot\" class=\"foot_daum\" data-tiara-layer=\"footer\">\n",
        "```\n",
        "\n",
        "- 시맨틱 태그를 사용해도 배치가 자동으로 되지는 않습니다. \n",
        "  - 그냥 의미적으로만 사용될 뿐입니다. \n",
        "  - CSS를 통해서 직접 배치를 따로 해줘야 합니다. \n",
        "\n",
        "```\n",
        "        <header >\n",
        "            헤더 부분 입니다. \n",
        "        </header>            \n",
        "        <main>\n",
        "            메인 부분 입니다. \n",
        "        </main>\n",
        "        <footer>\n",
        "            푸터 부분 입니다. \n",
        "        </footer>\n",
        "```"
      ],
      "metadata": {
        "id": "NZu5HjZUNgKV"
      }
    },
    {
      "cell_type": "markdown",
      "source": [
        "### 입력 태그들\n",
        "- 사용자로부터 웹 페이지를 입력을 받아서 서버에 전달하기 위한 용도"
      ],
      "metadata": {
        "id": "AZCocmQGOYgR"
      }
    },
    {
      "cell_type": "markdown",
      "source": [
        "#### form\n",
        "- POST 방식으로 서버에 데이터를 전달\n",
        "  - 가장 많이 사용되는 경우가 로그인 처리와 같은 경우가 있습니다. \n",
        "\n",
        "- form 태그의 일반적인 형태는 다음과 같습니다. \n",
        "\n",
        "```\n",
        "<form action='url/app/id' method='post'>\n",
        "  <!-- 여러가지 입력 태그들이 올 수 있습니다 -->\n",
        "</form>\n",
        "```\n",
        "\n",
        "- form의 주요 속성\n",
        "  - action: 입력 데이터를 처리할 서버(백엔드/웹어플션케이션)의 URL\n",
        "  - method: 데이터를 전달하는 방법(GET/POST)\n",
        "    - GET 방식: URL/URI를 통해서 전달\n",
        "      - 보내려는 데이터가 매우 쉽게 외부에 노출되기 때문에 보안에 취약하다고 얘기합니다. \n",
        "      - 별로 중요하지 않은 데이터를 전송하는 경우\n",
        "    - POST 방식: 데이터를 별도의 방식으로 전달\n",
        "      - 보내려는 데이터가 외부에 쉽게 노출되지 않음\n",
        "      - 암호화된 통신(https)을 사용하면 보내려는 데이터가 암호화 되기 때문에, 더욱더 확인하기가 어렵다"
      ],
      "metadata": {
        "id": "ou7PDpFMTopn"
      }
    },
    {
      "cell_type": "markdown",
      "source": [
        "#### input\n",
        "- 입력받고자 하는 형태를 정의\n",
        "  - text, radio button, checkbox, select, button, submit, ... \n",
        "\n",
        "- 실습용 코드 \n",
        "\n",
        "```\n",
        "        <input type='text' />\n",
        "        <select>\n",
        "            <option value='첫번째'>1</option>\n",
        "            <option value='두번째'>2</option>\n",
        "            <option value='세번째'>3</option>\n",
        "        </select>\n",
        "        <input type='hidden' />\n",
        "\n",
        "        <input type='button' value='버튼'/>\n",
        "        <input type='submit' value='제출'/>\n",
        "```\n",
        "\n",
        "- 속성\n",
        "  - name\n",
        "    - 각, 입력요소를 구분하는 중요한 속성\n",
        "    - 데이터를 서버에 전달할 때, 변수의 이름으로 사용\n",
        "    - 반드시, 정의해주는게 좋습니다. "
      ],
      "metadata": {
        "id": "lOvguDzmUtyh"
      }
    },
    {
      "cell_type": "markdown",
      "source": [
        "## 샘플 코드\n",
        "\n",
        "```\n",
        "<header class=\"header\">\n",
        "  <div class=\"container\">\n",
        "    <h1 class=\"title\">Float and <br>Position</h1>\n",
        "    <span class=\"span\"> <em> Position is blar blar ... </em> for poisition is ... </span>\n",
        "    <ul class=\"list\">\n",
        "\t\t\t<li class=\"list-item\">Overview</li>\n",
        "\t\t\t<li class=\"list-item\">Download</li>\n",
        "\t\t\t<li class=\"list-item\">News</li>\n",
        "\t\t\t<li class=\"list-item\">Community</li>\n",
        "\t\t</ul>\n",
        "  </div>\n",
        "</header>\n",
        "\n",
        "<div class=\"column1\">\n",
        "\t<h2>column 1</h2>\n",
        "\tLorem ipsum dolor sit amet, consectetur adipiscing elit. Quisque ultrices vitae quam nec tempor. Aliquam et mattis tellus, vel aliquet ligula. In sem urna, tincidunt id molestie sit amet, viverra nec ligula. Orci varius natoque penatibus et magnis dis\n",
        "\tparturient montes, nascetur ridiculus mus. Phasellus pharetra ornare dolor non condimentum. Morbi pharetra ut felis sed gravida. Maecenas vitae dapibus lectus, et egestas erat. Vivamus at leo gravida odio scelerisque vestibulum ut at neque. Pellentesque\n",
        "\tdictum turpis sit amet leo blandit sagittis. Curabitur iaculis ex in dui vehicula rhoncus. Pellentesque vehicula libero mi, eu pharetra augue venenatis et. Maecenas ac erat sit amet purus interdum faucibus et quis nisl. Aenean in justo et nisl pharetra\n",
        "\ttempor. Suspendisse at bibendum urna, ut sagittis nibh. Aliquam lacinia quam porta, luctus enim ac, facilisis erat.\n",
        "\n",
        "</div>\n",
        "<div class=\"column2\">\n",
        "\t<h2>column 2</h2>\n",
        "\tLorem ipsum dolor sit amet, consectetur adipiscing elit. Quisque ultrices vitae quam nec tempor. Aliquam et mattis tellus, vel aliquet ligula. In sem urna, tincidunt id molestie sit amet, viverra nec ligula. Orci varius natoque penatibus et magnis dis\n",
        "\tparturient montes, nascetur ridiculus mus. Phasellus pharetra ornare dolor non condimentum. Morbi pharetra ut felis sed gravida. Maecenas vitae dapibus lectus, et egestas erat. Vivamus at leo gravida odio scelerisque vestibulum ut at neque. Pellentesque\n",
        "\tdictum turpis sit amet leo blandit sagittis. Curabitur iaculis ex in dui vehicula rhoncus. Pellentesque vehicula libero mi, eu pharetra augue venenatis et. Maecenas ac erat sit amet purus interdum faucibus et quis nisl. Aenean in justo et nisl pharetra\n",
        "\ttempor. Suspendisse at bibendum urna, ut sagittis nibh. Aliquam lacinia quam porta, luctus enim ac, facilisis erat.\n",
        "\n",
        "</div>\n",
        "<div class=\"column3\">\n",
        "\t<h2>column 3</h2>\n",
        "\tLorem ipsum dolor sit amet, consectetur adipiscing elit. Quisque ultrices vitae quam nec tempor. Aliquam et mattis tellus, vel aliquet ligula. In sem urna, tincidunt id molestie sit amet, viverra nec ligula. Orci varius natoque penatibus et magnis dis\n",
        "\tparturient montes, nascetur ridiculus mus. Phasellus pharetra ornare dolor non condimentum. Morbi pharetra ut felis sed gravida. Maecenas vitae dapibus lectus, et egestas erat. Vivamus at leo gravida odio scelerisque vestibulum ut at neque. Pellentesque\n",
        "\tdictum turpis sit amet leo blandit sagittis. Curabitur iaculis ex in dui vehicula rhoncus. Pellentesque vehicula libero mi, eu pharetra augue venenatis et. Maecenas ac erat sit amet purus interdum faucibus et quis nisl. Aenean in justo et nisl pharetra\n",
        "\ttempor. Suspendisse at bibendum urna, ut sagittis nibh. Aliquam lacinia quam porta, luctus enim ac, facilisis erat.\n",
        "\n",
        "</div>\n",
        "\n",
        "<div class=\"footer\">\n",
        "\t\t<h2>footer</h2>\n",
        "Lorem ipsum dolor sit amet, consectetur adipiscing elit. Quisque ultrices vitae quam nec tempor. Aliquam et mattis tellus, vel aliquet ligula. In sem urna, tincidunt id molestie sit amet, viverra nec ligula. Orci varius natoque penatibus et magnis dis\n",
        "\tparturient montes, nascetur ridiculus mus. Phasellus pharetra ornare dolor non condimentum. Morbi pharetra ut felis sed gravida. Maecenas vitae dapibus lectus, et egestas erat. Vivamus at leo gravida odio scelerisque vestibulum ut at neque. Pellentesque\n",
        "\tdictum turpis sit amet leo blandit sagittis. Curabitur iaculis ex in dui vehicula rhoncus. Pellentesque vehicula libero mi, eu pharetra augue venenatis et. Maecenas ac erat sit amet purus interdum faucibus et quis nisl. Aenean in justo et nisl pharetra\n",
        "\ttempor. Suspendisse at bibendum urna, ut sagittis nibh. Aliquam lacinia quam porta, luctus enim ac, facilisis erat.\n",
        "\n",
        "</div>\n",
        "```"
      ],
      "metadata": {
        "id": "zGCqoigkdYCU"
      }
    },
    {
      "cell_type": "markdown",
      "source": [
        "## CSS\n",
        "- Casecade Style Sheet\n",
        "- html 페이지에 추가적으로 디자인 서식을 적용하고 싶은 경우에 사용\n",
        "- 적용할 수 있는 방법 3가지\n",
        "  1. inline style\n",
        "    - html 태그에 `style` 속성을 이용하는 방법\n",
        "    - 왠만하면 사용하지 않는 것이 좋습니다.\n",
        "    - 우선순위가 제일 높습니다. \n",
        "  2. internal style\n",
        "    - html 코드 내에 `<style>` 태그를 이용해서 표현\n",
        "  3. external style\n",
        "    - 대부분은 외부 스타일 시트를 이용해서 CSS를 적용"
      ],
      "metadata": {
        "id": "aoHd0F9RcHob"
      }
    },
    {
      "cell_type": "markdown",
      "source": [
        "### 외부 스타일 시트\n",
        "- 스타일 시트 파일을 html 페이지에서 가져와서 적용하는 방법\n",
        "\n",
        "```\n",
        "  <link rel='stylesheet' type='text/css' href='css 파일의 경로' />\n",
        "```"
      ],
      "metadata": {
        "id": "W-2mVFFucIYL"
      }
    },
    {
      "cell_type": "markdown",
      "source": [
        "### CSS의 구조\n",
        "\n",
        "```\n",
        "선택자(Selector) {\n",
        "  속성이름1: 속성값1 속성값2 속성값3 ... ;\n",
        "  속성이름2: 속성값1 ... ;\n",
        "}\n",
        "```\n",
        "\n",
        "- 선택자: 스타일을 적용할 태그가 됩니다.\n",
        "- 속성과 속성값은 `:(콜론)`으로 구분\n",
        "- 속성값이 여러개인 경우는 `(공백)`으로 구분\n",
        "- 속성과 속성은 `;`으로 구분\n"
      ],
      "metadata": {
        "id": "DTN4bkYLi5rL"
      }
    },
    {
      "cell_type": "markdown",
      "source": [
        "#### 글자와 관련된 속성들\n",
        "- 폰트, 글자 크기, 글자 색, ... \n",
        "- 상속\n",
        "  - CSS의 속성이 부모 태그에서 자식 태그로 상속되어서 하위 태그들도 동일한 속석이 적용\n",
        "  - 무조건 상속이 되지는 않습니다. \n",
        "  - 글자와 관련된 속성들은 상속이 가능한 대표적인 속성 입니다. \n",
        "\n",
        "```\n",
        "html {\n",
        "    font-size: 20px;\n",
        "    font-family: '나눔고딕코딩', '굴림체', 'serif', 'sans-serif';\n",
        "    line-height: 0.8; /* 줄간격 */\n",
        "}\n",
        "```\n",
        "\n",
        "- 글꼴은 `font-family`로 지정할 수 있습니다. \n",
        "  - 로컬(브라우저가 실행되는 환경)에 해당 글꼴이 설치되어 있어야만 사용이 가능합니다. \n",
        "  - 없는 글꼴을 사용하는 경우에 화면에 깨질 수 있습니다. \n",
        "    - 여러개의 글꼴을 지정\n",
        "    - 글꼴들이 전부 없는 경우에는 기본글꼴이 사용될 수 있도록\n",
        "    - serif, sand-serif, monospace, ... "
      ],
      "metadata": {
        "id": "WIeQ6UPbjmug"
      }
    },
    {
      "cell_type": "markdown",
      "source": [
        "#### 색상과 관련된 속성들\n",
        "- 글자색, 배경색, 배경이미지, ... \n",
        "\n",
        "```\n",
        "    color: #006400;            /* 글자색 */\n",
        "    background-color: black;   /* 배경색 */\n",
        "```"
      ],
      "metadata": {
        "id": "XTBLeOpKkKoH"
      }
    },
    {
      "cell_type": "markdown",
      "source": [
        "### Selector\n",
        "- CSS-Selector\n",
        "  - 스타일을 원하는 태그에 정확하게 적용하기 위한 여러가지 방법\n",
        "  - CSS에서만 사용하지 않고, 다른 곳에서도 동일한 셀렉터를 지원\n",
        "- 가장 기본적으로는 `태그 셀렉터`, `id 셀렉터`, `class 셀렉터` 등이 많이 사용\n",
        "\n",
        "- 우선순위\n",
        "  - `Id 선택자 > class 선택자 > 태그 선택자`"
      ],
      "metadata": {
        "id": "9V7bUpM6p-ng"
      }
    },
    {
      "cell_type": "markdown",
      "source": [
        "#### 전체 선택자\n",
        "- `*` (와일드 카드)\n",
        "- html 문서내의 모든 태그를 선택\n",
        "- 사용법\n",
        "\n",
        "```\n",
        "* { \n",
        "  ...\n",
        "}\n",
        "```"
      ],
      "metadata": {
        "id": "---xn0b8rLOY"
      }
    },
    {
      "cell_type": "markdown",
      "source": [
        "#### 태그 선택자\n",
        "- 태그 이름으로 선택\n",
        "  - 동일한 모든 태그에 동일하게 스타일이 적용\n",
        "\n",
        "- 사용법\n",
        "\n",
        "```\n",
        "태그이름 { \n",
        "  ....\n",
        "}\n",
        "```"
      ],
      "metadata": {
        "id": "7xkvjJ4dr4Im"
      }
    },
    {
      "cell_type": "markdown",
      "source": [
        "#### ID 선택자\n",
        "- Id 속성에 따라서 선택\n",
        "\n",
        "- 사용법\n",
        "\n",
        "```\n",
        "  #id속성값 {\n",
        "    ...\n",
        "  }\n",
        "```\n",
        "\n",
        "- id 속성은 html 페이지 전체에서 단 하나의 값을 가져야 합니다.\n",
        "  - 예를 들면 예제에서의 `column1` 이라는 id 속성값은 하나만 존재"
      ],
      "metadata": {
        "id": "oD0QQmZjsGkT"
      }
    },
    {
      "cell_type": "markdown",
      "source": [
        "#### Class 선택자\n",
        "- `Class` 속성에 따라서 선택\n",
        "- 사용법\n",
        "\n",
        "```\n",
        "  .class속성값 {\n",
        "    ...\n",
        "  }\n",
        "```\n",
        "\n",
        "- id 속성은 유일한 값을 가져야 하며, class 속성은 중복 가능한 값을 가질 수 있습니다. \n",
        "  - class 속성과 id 속성을 같이 정의할 수 있습니다. "
      ],
      "metadata": {
        "id": "B6ea6scstEnA"
      }
    },
    {
      "cell_type": "markdown",
      "source": [
        "#### 그룹 선택자\n",
        "- 여러개의 선택자를 동시에 사용(콤마로 구분)\n",
        "- 사용법\n",
        "\n",
        "```\n",
        "선택자, 선택자, 선택자, ... {\n",
        "  ...\n",
        "}\n",
        "\n",
        "```"
      ],
      "metadata": {
        "id": "UBZdLKfauc9S"
      }
    },
    {
      "cell_type": "markdown",
      "source": [
        "#### 하위 선택자\n",
        "- 태그들의 계층 구조를 이용해서 선택\n",
        "- 공백으로 표현\n",
        "  - 선택자 SP 선택자\n",
        "\n",
        "- 사용법\n",
        "\n",
        "```\n",
        "상위선택자 하위선택자 {\n",
        "  ...\n",
        "}\n",
        "```\n",
        "\n",
        "- 하위의 개념은 상위 선택자의 모든 하위 태그들을 전부 포함"
      ],
      "metadata": {
        "id": "ho1-1FwQv1lw"
      }
    },
    {
      "cell_type": "markdown",
      "source": [
        "#### 자식 선택자\n",
        "- 하위 선택자와 마찬가지로 계층구조를 이용한 선택자\n",
        "- `>` 표현\n",
        "  - `직계 자손`: 바로 밑에 하위 태그만 자식으로 인정\n",
        "\n",
        "- 사용법\n",
        "\n",
        "```\n",
        "상위선택자 > 하위선택자 {\n",
        "  ...\n",
        "}\n",
        "```"
      ],
      "metadata": {
        "id": "F_KOAGsIwcUC"
      }
    },
    {
      "cell_type": "markdown",
      "source": [
        "### box-model\n",
        "- html에서 태그는 영역에 대해서 상자로 표현할 수 있는데 이를 `박스모델`이라고 합니다. \n",
        "- 박스모델과 관련된 속성이\n",
        "  - margin\n",
        "    - margin-left\n",
        "    - margin-right\n",
        "    - margin-top\n",
        "    - margin-bottom\n",
        "  - border\n",
        "  - padding\n",
        "    - padding-left\n",
        "    - padding-right\n",
        "    - padding-top\n",
        "    - padding-bottom\n",
        "  - 내용\n",
        "\n",
        "- border를 기준으로 바깥쪽 여백을 `margin`이라고 하고, 안쪽(내용과 border 사이) 여백을 `padding`이라고 합니다. \n"
      ],
      "metadata": {
        "id": "UPRRU5fuwexp"
      }
    },
    {
      "cell_type": "markdown",
      "source": [
        "## 레이아웃 구성 실습"
      ],
      "metadata": {
        "id": "VuKRrhT7zrL0"
      }
    },
    {
      "cell_type": "markdown",
      "source": [
        "### navigation bar 만들어보기\n",
        "- `ul`을 이용해서 표현\n",
        "  - `li` 태그들은 `블록기반`이 아닌, `인라인기반`으로 표현 해줘야 합니다. \n",
        "\n",
        "- `display` 속성을 이용해서 변경할 수 있습니다. \n",
        "\n",
        "```\n",
        ".list-item {\n",
        "  display: inline;\n",
        "}\n",
        "```"
      ],
      "metadata": {
        "id": "OwmXpUCt6r2b"
      }
    },
    {
      "cell_type": "markdown",
      "source": [
        "### position\n",
        "- 태그의 위치를 지정\n",
        "  - static(default)\n",
        "    - 블록과 인라인에 따라서 자동으로 위치가 결정 됩니다. \n",
        "    - 즉, 기본흐름에 따른 배치\n",
        "  - relative\n",
        "    - top, bottom, left, right 속성을 이용해서 원래 위치를 변경\n",
        "    - 원래 자기 자신의 위치에서 변경\n",
        "  - absolute\n",
        "    - top. bottom, left, right 속성을 이용해서 원래 위치를 변경\n",
        "    - 자기 자신을 감싸는 태그에 대해 상대적으로 위치를 지정\n",
        "    - 상위 태그의 position이 static이면 해당하지 않는다.\n",
        "      - `body`를 기준으로 위치가 정해집니다. \n",
        "  - fixed\n",
        "    - 고정 위치를 지정\n",
        "    - 스크롤링이 되어도 항상 같은 영역에 표시\n",
        "    - top, bottom, left, right 속성으로 위치를 지정"
      ],
      "metadata": {
        "id": "6XQqXCyC-sIy"
      }
    },
    {
      "cell_type": "markdown",
      "source": [
        "- 현재까지 작성된 CSS\n",
        "\n",
        "```\n",
        ".title {\n",
        "    display: inline;\n",
        "}\n",
        "\n",
        ".list {\n",
        "    display: inline;\n",
        "    position: absolute;\n",
        "    left: 500px;\n",
        "    bottom: 15px;\n",
        "}\n",
        "\n",
        ".list-item {\n",
        "    display: inline;\n",
        "}\n",
        "\n",
        ".container {\n",
        "    border: 1px dashed blue;\n",
        "    position:relative;\n",
        "}\n",
        "\n",
        ".span {\n",
        "    position: absolute;\n",
        "    top: 30px;\n",
        "    left: 180px;\n",
        "}\n",
        "```"
      ],
      "metadata": {
        "id": "uBhKciGP8HN5"
      }
    },
    {
      "cell_type": "code",
      "execution_count": null,
      "metadata": {
        "id": "F0mCrJ2kDjiK"
      },
      "outputs": [],
      "source": [
        ""
      ]
    }
  ]
}