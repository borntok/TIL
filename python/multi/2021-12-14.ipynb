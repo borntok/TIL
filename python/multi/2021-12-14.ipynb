{
  "nbformat": 4,
  "nbformat_minor": 0,
  "metadata": {
    "colab": {
      "name": "2021-12-14",
      "provenance": []
    },
    "kernelspec": {
      "name": "python3",
      "display_name": "Python 3"
    },
    "language_info": {
      "name": "python"
    }
  },
  "cells": [
    {
      "cell_type": "code",
      "execution_count": null,
      "metadata": {
        "id": "7mnNb42SRuLR"
      },
      "outputs": [],
      "source": [
        "import warnings\n",
        "warnings.filterwarnings('always')\n",
        "warnings.filterwarnings('ignore')\n",
        "\n",
        "import numpy as np \n",
        "import pandas as pd\n",
        "\n",
        "import matplotlib.pyplot as plt\n",
        "import seaborn as sns"
      ]
    },
    {
      "cell_type": "code",
      "source": [
        "df = pd.read_csv('/content/drive/MyDrive/멀티캠퍼스/data/ch4_scores400.csv')\n",
        "scores = np.array(df['score'])\n",
        "scores[:10]"
      ],
      "metadata": {
        "colab": {
          "base_uri": "https://localhost:8080/"
        },
        "id": "lYD-PkXcR8g6",
        "outputId": "91267238-b8c2-4e67-d1b8-2acb5683f364"
      },
      "execution_count": null,
      "outputs": [
        {
          "output_type": "execute_result",
          "data": {
            "text/plain": [
              "array([76, 55, 80, 80, 74, 61, 81, 76, 23, 80])"
            ]
          },
          "metadata": {},
          "execution_count": 2
        }
      ]
    },
    {
      "cell_type": "code",
      "source": [
        "for i in range(5):\n",
        "  sample = np.random.choice(scores, 20)\n",
        "  print('{}번째 무작위 추출 얻은 표본평균: {}'.format(i+1, sample.mean()))"
      ],
      "metadata": {
        "id": "GZDwsiwqSFVZ",
        "outputId": "0dd5b20b-4365-4bb2-e892-85db813a213c",
        "colab": {
          "base_uri": "https://localhost:8080/"
        }
      },
      "execution_count": null,
      "outputs": [
        {
          "output_type": "stream",
          "name": "stdout",
          "text": [
            "1번째 무작위 추출 얻은 표본평균: 70.9\n",
            "2번째 무작위 추출 얻은 표본평균: 68.3\n",
            "3번째 무작위 추출 얻은 표본평균: 68.65\n",
            "4번째 무작위 추출 얻은 표본평균: 69.0\n",
            "5번째 무작위 추출 얻은 표본평균: 70.75\n"
          ]
        }
      ]
    },
    {
      "cell_type": "code",
      "source": [
        "# 모집단의 평균\n",
        "scores.mean()"
      ],
      "metadata": {
        "id": "1Vjj2vgsSG_-",
        "outputId": "49c5f183-449a-40cd-ead1-734dd1ec0934",
        "colab": {
          "base_uri": "https://localhost:8080/"
        }
      },
      "execution_count": null,
      "outputs": [
        {
          "output_type": "execute_result",
          "data": {
            "text/plain": [
              "69.53"
            ]
          },
          "metadata": {},
          "execution_count": 4
        }
      ]
    },
    {
      "cell_type": "code",
      "source": [
        "# 확률분포\n",
        "dice = [1,2,3,4,5,6]\n",
        "prob = [1/21,2/21,3/21,4/21,5/21,6/21]"
      ],
      "metadata": {
        "id": "fd525LntSiIb"
      },
      "execution_count": null,
      "outputs": []
    },
    {
      "cell_type": "code",
      "source": [
        "num_trial = 100\n",
        "sample = np.random.choice(dice, num_trial, p=prob)\n",
        "sample"
      ],
      "metadata": {
        "colab": {
          "base_uri": "https://localhost:8080/"
        },
        "id": "kA0e9RwvZOgN",
        "outputId": "761cf04e-b786-47e6-d700-78f20017164c"
      },
      "execution_count": null,
      "outputs": [
        {
          "output_type": "execute_result",
          "data": {
            "text/plain": [
              "array([5, 3, 6, 4, 6, 6, 6, 2, 2, 3, 6, 3, 4, 5, 6, 5, 5, 5, 6, 2, 4, 6,\n",
              "       6, 5, 5, 6, 3, 5, 6, 6, 6, 5, 6, 6, 5, 5, 2, 3, 2, 4, 6, 4, 5, 3,\n",
              "       5, 5, 4, 5, 2, 4, 6, 4, 3, 5, 3, 2, 6, 4, 1, 4, 5, 4, 4, 6, 6, 2,\n",
              "       2, 6, 5, 5, 6, 6, 2, 6, 3, 4, 5, 5, 5, 4, 6, 2, 2, 6, 3, 4, 4, 5,\n",
              "       5, 4, 6, 3, 5, 6, 3, 5, 4, 6, 6, 5])"
            ]
          },
          "metadata": {},
          "execution_count": 6
        }
      ]
    },
    {
      "cell_type": "code",
      "source": [
        "freq, _ = np.histogram(sample, bins=6, range=(1,7))\n",
        "pd.DataFrame({'frequency':freq,\n",
        "              'relative frequency':freq/num_trial},\n",
        "             index = pd.Index(np.arange(1,7), name='dice'))"
      ],
      "metadata": {
        "colab": {
          "base_uri": "https://localhost:8080/",
          "height": 266
        },
        "id": "tpcb3iswZfYn",
        "outputId": "fe58e908-919f-44a9-9be8-2563a22045d6"
      },
      "execution_count": null,
      "outputs": [
        {
          "output_type": "execute_result",
          "data": {
            "text/html": [
              "<div>\n",
              "<style scoped>\n",
              "    .dataframe tbody tr th:only-of-type {\n",
              "        vertical-align: middle;\n",
              "    }\n",
              "\n",
              "    .dataframe tbody tr th {\n",
              "        vertical-align: top;\n",
              "    }\n",
              "\n",
              "    .dataframe thead th {\n",
              "        text-align: right;\n",
              "    }\n",
              "</style>\n",
              "<table border=\"1\" class=\"dataframe\">\n",
              "  <thead>\n",
              "    <tr style=\"text-align: right;\">\n",
              "      <th></th>\n",
              "      <th>frequency</th>\n",
              "      <th>relative frequency</th>\n",
              "    </tr>\n",
              "    <tr>\n",
              "      <th>dice</th>\n",
              "      <th></th>\n",
              "      <th></th>\n",
              "    </tr>\n",
              "  </thead>\n",
              "  <tbody>\n",
              "    <tr>\n",
              "      <th>1</th>\n",
              "      <td>1</td>\n",
              "      <td>0.01</td>\n",
              "    </tr>\n",
              "    <tr>\n",
              "      <th>2</th>\n",
              "      <td>12</td>\n",
              "      <td>0.12</td>\n",
              "    </tr>\n",
              "    <tr>\n",
              "      <th>3</th>\n",
              "      <td>12</td>\n",
              "      <td>0.12</td>\n",
              "    </tr>\n",
              "    <tr>\n",
              "      <th>4</th>\n",
              "      <td>18</td>\n",
              "      <td>0.18</td>\n",
              "    </tr>\n",
              "    <tr>\n",
              "      <th>5</th>\n",
              "      <td>27</td>\n",
              "      <td>0.27</td>\n",
              "    </tr>\n",
              "    <tr>\n",
              "      <th>6</th>\n",
              "      <td>30</td>\n",
              "      <td>0.30</td>\n",
              "    </tr>\n",
              "  </tbody>\n",
              "</table>\n",
              "</div>"
            ],
            "text/plain": [
              "      frequency  relative frequency\n",
              "dice                               \n",
              "1             1                0.01\n",
              "2            12                0.12\n",
              "3            12                0.12\n",
              "4            18                0.18\n",
              "5            27                0.27\n",
              "6            30                0.30"
            ]
          },
          "metadata": {},
          "execution_count": 7
        }
      ]
    },
    {
      "cell_type": "code",
      "source": [
        "fig = plt.figure(figsize=(10, 6))\n",
        "ax = fig.add_subplot(111)\n",
        "ax.hist(sample, bins=6, range=(1, 7), density=True, rwidth=0.8)\n",
        "# 실제의 확률분포를 가로선으로 표시\n",
        "ax.hlines(prob, np.arange(1, 7), np.arange(2, 8), colors='gray')\n",
        "# 막대 그래프의 [1.5, 2.5, ..., 6.5]에 눈금을 표시\n",
        "ax.set_xticks(np.linspace(1.5, 6.5, 6))\n",
        "# 주사위 눈의 값은 [1, 2, 3, 4, 5, 6]\n",
        "ax.set_xticklabels(np.arange(1, 7))\n",
        "ax.set_xlabel('dice')\n",
        "ax.set_ylabel('relative frequency')\n",
        "plt.show()"
      ],
      "metadata": {
        "id": "6PAGU9-0acXq",
        "colab": {
          "base_uri": "https://localhost:8080/",
          "height": 388
        },
        "outputId": "2fb64293-abfa-4f07-8a5c-108a981d7568"
      },
      "execution_count": null,
      "outputs": [
        {
          "output_type": "display_data",
          "data": {
            "image/png": "[encoded data removed]",
            "text/plain": [
              "<Figure size 720x432 with 1 Axes>"
            ]
          },
          "metadata": {
            "needs_background": "light"
          }
        }
      ]
    },
    {
      "cell_type": "code",
      "source": [
        "num_trial = 100000\n",
        "sample = np.random.choice( dice, num_trial, p=prob)\n",
        "\n",
        "fig = plt.figure(figsize=(10, 6))\n",
        "ax = fig.add_subplot(111)\n",
        "ax.hist(sample, bins=6, range=(1, 7), density=True, rwidth=0.8)\n",
        "# 실제의 확률분포를 가로선으로 표시\n",
        "ax.hlines(prob, np.arange(1, 7), np.arange(2, 8), colors='gray')\n",
        "# 막대 그래프의 [1.5, 2.5, ..., 6.5]에 눈금을 표시\n",
        "ax.set_xticks(np.linspace(1.5, 6.5, 6))\n",
        "# 주사위 눈의 값은 [1, 2, 3, 4, 5, 6]\n",
        "ax.set_xticklabels(np.arange(1, 7))\n",
        "ax.set_xlabel('dice')\n",
        "ax.set_ylabel('relative frequency')\n",
        "plt.show()"
      ],
      "metadata": {
        "colab": {
          "base_uri": "https://localhost:8080/",
          "height": 392
        },
        "id": "2V22ET-GeBoj",
        "outputId": "2c54e60f-957d-4838-f884-8c01edd942f3"
      },
      "execution_count": null,
      "outputs": [
        {
          "output_type": "display_data",
          "data": {
            "image/png": "[encoded data removed]",
            "text/plain": [
              "<Figure size 720x432 with 1 Axes>"
            ]
          },
          "metadata": {
            "needs_background": "light"
          }
        }
      ]
    },
    {
      "cell_type": "markdown",
      "source": [
        "### 추론통계"
      ],
      "metadata": {
        "id": "z0-KPXTjiwS1"
      }
    },
    {
      "cell_type": "code",
      "source": [
        "fig = plt.figure(figsize=(10, 6))\n",
        "ax = fig.add_subplot(111)\n",
        "ax.hist(scores, bins=100, range=(0, 100), density=True)\n",
        "ax.set_xlim(20, 100)\n",
        "ax.set_ylim(0, 0.042)\n",
        "ax.set_xlabel('score')\n",
        "ax.set_ylabel('relative frequency')\n",
        "plt.show()"
      ],
      "metadata": {
        "colab": {
          "base_uri": "https://localhost:8080/",
          "height": 388
        },
        "id": "EDLCmSdaiG3V",
        "outputId": "8a10ab88-6100-4b9b-9a74-4a21f2587766"
      },
      "execution_count": null,
      "outputs": [
        {
          "output_type": "display_data",
          "data": {
            "image/png": "[encoded data removed]",
            "text/plain": [
              "<Figure size 720x432 with 1 Axes>"
            ]
          },
          "metadata": {
            "needs_background": "light"
          }
        }
      ]
    },
    {
      "cell_type": "code",
      "source": [
        "sample = np.random.choice(scores, 10000)\n",
        "\n",
        "fig = plt.figure(figsize=(10, 6))\n",
        "ax = fig.add_subplot(111)\n",
        "ax.hist(sample, bins=100, range=(0, 100), density=True)\n",
        "ax.set_xlim(20, 100)\n",
        "ax.set_ylim(0, 0.042)\n",
        "ax.set_xlabel('score')\n",
        "ax.set_ylabel('relative frequency')\n",
        "plt.show()"
      ],
      "metadata": {
        "colab": {
          "base_uri": "https://localhost:8080/",
          "height": 388
        },
        "id": "4Lx70_jticoT",
        "outputId": "81b7cd7e-84a4-401c-cabb-b5b74a0684ea"
      },
      "execution_count": null,
      "outputs": [
        {
          "output_type": "display_data",
          "data": {
            "image/png": "[encoded data removed]",
            "text/plain": [
              "<Figure size 720x432 with 1 Axes>"
            ]
          },
          "metadata": {
            "needs_background": "light"
          }
        }
      ]
    },
    {
      "cell_type": "code",
      "source": [
        "# 표본평균 분포\n",
        "\n",
        "sample_means = []\n",
        "for _ in range(10000):\n",
        "  sample_means.append( np.random.choice(scores, 20).mean() )\n",
        "\n",
        "fig = plt.figure(figsize=(10, 6))\n",
        "ax = fig.add_subplot(111)\n",
        "ax.hist(sample_means, bins=100, range=(0, 100), density=True)\n",
        "# 모평균을 세로선으로 표시\n",
        "ax.vlines(np.mean(scores), 0, 1, 'gray')\n",
        "ax.set_xlim(50, 90)\n",
        "ax.set_ylim(0, 0.13)\n",
        "ax.set_xlabel('score')\n",
        "ax.set_ylabel('relative frequency')\n",
        "plt.show()"
      ],
      "metadata": {
        "colab": {
          "base_uri": "https://localhost:8080/",
          "height": 388
        },
        "id": "iith2IV5jSKB",
        "outputId": "84acd3a0-1fde-45e5-b120-e9c4dbf242d6"
      },
      "execution_count": null,
      "outputs": [
        {
          "output_type": "display_data",
          "data": {
            "image/png": "[encoded data removed]",
            "text/plain": [
              "<Figure size 720x432 with 1 Axes>"
            ]
          },
          "metadata": {
            "needs_background": "light"
          }
        }
      ]
    },
    {
      "cell_type": "code",
      "source": [
        "np.mean(scores)"
      ],
      "metadata": {
        "id": "QrSG2gGpkysn",
        "outputId": "f7576488-30f2-40e3-e0f9-39b9217812e7",
        "colab": {
          "base_uri": "https://localhost:8080/"
        }
      },
      "execution_count": null,
      "outputs": [
        {
          "output_type": "execute_result",
          "data": {
            "text/plain": [
              "69.53"
            ]
          },
          "metadata": {},
          "execution_count": 13
        }
      ]
    },
    {
      "cell_type": "markdown",
      "source": [
        "## 확률변수와 확률분포"
      ],
      "metadata": {
        "id": "CBh3lhzfloh-"
      }
    },
    {
      "cell_type": "code",
      "source": [
        "from scipy.stats import bernoulli, binom, poisson"
      ],
      "metadata": {
        "id": "et-QG0ONk769"
      },
      "execution_count": null,
      "outputs": []
    },
    {
      "cell_type": "code",
      "source": [
        "rv = bernoulli(1/6)"
      ],
      "metadata": {
        "id": "d_jZKliErREB"
      },
      "execution_count": null,
      "outputs": []
    },
    {
      "cell_type": "code",
      "source": [
        "x = [0, 1]\n",
        "rv.pmf(x)"
      ],
      "metadata": {
        "colab": {
          "base_uri": "https://localhost:8080/"
        },
        "id": "0ew--zVnrVaW",
        "outputId": "8dd4bc25-e887-4946-b43e-1ce13ed04978"
      },
      "execution_count": null,
      "outputs": [
        {
          "output_type": "execute_result",
          "data": {
            "text/plain": [
              "array([0.83333333, 0.16666667])"
            ]
          },
          "metadata": {},
          "execution_count": 16
        }
      ]
    },
    {
      "cell_type": "code",
      "source": [
        "plt.bar(x, rv.pmf(x))\n",
        "plt.xticks([0,1], ['fail','success'])\n",
        "plt.show()"
      ],
      "metadata": {
        "colab": {
          "base_uri": "https://localhost:8080/",
          "height": 265
        },
        "id": "l-qXtOa3rj5T",
        "outputId": "9554fa18-d9d8-45b3-c844-da9eb747f400"
      },
      "execution_count": null,
      "outputs": [
        {
          "output_type": "display_data",
          "data": {
            "image/png": "[encoded data removed]",
            "text/plain": [
              "<Figure size 432x288 with 1 Axes>"
            ]
          },
          "metadata": {
            "needs_background": "light"
          }
        }
      ]
    },
    {
      "cell_type": "code",
      "source": [
        "count = 10000\n",
        "x = rv.rvs( count)\n",
        "x"
      ],
      "metadata": {
        "colab": {
          "base_uri": "https://localhost:8080/"
        },
        "id": "ym21ZrU5r9_G",
        "outputId": "b1d004cb-86ca-406f-e70c-3f3bdcfcfa48"
      },
      "execution_count": null,
      "outputs": [
        {
          "output_type": "execute_result",
          "data": {
            "text/plain": [
              "array([1, 0, 0, ..., 0, 1, 0])"
            ]
          },
          "metadata": {},
          "execution_count": 18
        }
      ]
    },
    {
      "cell_type": "code",
      "source": [
        "sns.countplot(x)\n",
        "plt.show()"
      ],
      "metadata": {
        "colab": {
          "base_uri": "https://localhost:8080/",
          "height": 265
        },
        "id": "OtZewn7Ksz_r",
        "outputId": "6c4efa43-17f2-4632-a988-85cea2cf44bd"
      },
      "execution_count": null,
      "outputs": [
        {
          "output_type": "display_data",
          "data": {
            "image/png": "[encoded data removed]",
            "text/plain": [
              "<Figure size 432x288 with 1 Axes>"
            ]
          },
          "metadata": {
            "needs_background": "light"
          }
        }
      ]
    },
    {
      "cell_type": "code",
      "source": [
        "np.bincount(x) / count"
      ],
      "metadata": {
        "colab": {
          "base_uri": "https://localhost:8080/"
        },
        "id": "QRTvcO3ns4AA",
        "outputId": "1d1cf958-9328-474d-efc9-95f6e9401898"
      },
      "execution_count": null,
      "outputs": [
        {
          "output_type": "execute_result",
          "data": {
            "text/plain": [
              "array([0.828, 0.172])"
            ]
          },
          "metadata": {},
          "execution_count": 20
        }
      ]
    },
    {
      "cell_type": "code",
      "source": [
        "# 이항분포 시행횟수가 1이면 베르누이 분포와 같음\n",
        "binom(1, 1/6).pmf([0, 1])"
      ],
      "metadata": {
        "colab": {
          "base_uri": "https://localhost:8080/"
        },
        "id": "ybeLRABgtMoM",
        "outputId": "ee60fdbb-b4cd-404f-8739-9ec384794381"
      },
      "execution_count": null,
      "outputs": [
        {
          "output_type": "execute_result",
          "data": {
            "text/plain": [
              "array([0.83333333, 0.16666667])"
            ]
          },
          "metadata": {},
          "execution_count": 21
        }
      ]
    },
    {
      "cell_type": "code",
      "source": [
        "rv = binom(10, 1/6)"
      ],
      "metadata": {
        "id": "ppA5IroGwJy1"
      },
      "execution_count": null,
      "outputs": []
    },
    {
      "cell_type": "code",
      "source": [
        "x = np.arange(11)\n",
        "rv.pmf(x)"
      ],
      "metadata": {
        "colab": {
          "base_uri": "https://localhost:8080/"
        },
        "id": "R1j6cnYtwBbv",
        "outputId": "e33c586c-fdd5-4b0b-d59a-67ac8be176e7"
      },
      "execution_count": null,
      "outputs": [
        {
          "output_type": "execute_result",
          "data": {
            "text/plain": [
              "array([1.61505583e-01, 3.23011166e-01, 2.90710049e-01, 1.55045360e-01,\n",
              "       5.42658759e-02, 1.30238102e-02, 2.17063503e-03, 2.48072575e-04,\n",
              "       1.86054431e-05, 8.26908584e-07, 1.65381717e-08])"
            ]
          },
          "metadata": {},
          "execution_count": 23
        }
      ]
    },
    {
      "cell_type": "code",
      "source": [
        "plt.bar(x, rv.pmf(x))\n",
        "plt.show()"
      ],
      "metadata": {
        "colab": {
          "base_uri": "https://localhost:8080/",
          "height": 265
        },
        "id": "NFqoY51zws5I",
        "outputId": "f1e1a5ff-24fd-44d5-d4e4-2ff65d3a3ffa"
      },
      "execution_count": null,
      "outputs": [
        {
          "output_type": "display_data",
          "data": {
            "image/png": "[encoded data removed]",
            "text/plain": [
              "<Figure size 432x288 with 1 Axes>"
            ]
          },
          "metadata": {
            "needs_background": "light"
          }
        }
      ]
    },
    {
      "cell_type": "code",
      "source": [
        "x = rv.rvs(10000)"
      ],
      "metadata": {
        "id": "DGfNM7oiwzOG"
      },
      "execution_count": null,
      "outputs": []
    },
    {
      "cell_type": "code",
      "source": [
        "sns.countplot(x)\n",
        "plt.show()"
      ],
      "metadata": {
        "colab": {
          "base_uri": "https://localhost:8080/",
          "height": 265
        },
        "id": "Rw_vOPrNw9gg",
        "outputId": "1b075d8b-c577-49d6-d667-6453b866ba4f"
      },
      "execution_count": null,
      "outputs": [
        {
          "output_type": "display_data",
          "data": {
            "image/png": "[encoded data removed]",
            "text/plain": [
              "<Figure size 432x288 with 1 Axes>"
            ]
          },
          "metadata": {
            "needs_background": "light"
          }
        }
      ]
    },
    {
      "cell_type": "code",
      "source": [
        "# 누적분포함수\n",
        "x = np.arange(11)\n",
        "rv.cdf(x)"
      ],
      "metadata": {
        "colab": {
          "base_uri": "https://localhost:8080/"
        },
        "id": "IgdWehnyxGap",
        "outputId": "6385b3b6-bcf4-4310-8370-7bed4751aca0"
      },
      "execution_count": null,
      "outputs": [
        {
          "output_type": "execute_result",
          "data": {
            "text/plain": [
              "array([0.16150558, 0.48451675, 0.7752268 , 0.93027216, 0.98453803,\n",
              "       0.99756184, 0.99973248, 0.99998055, 0.99999916, 0.99999998,\n",
              "       1.        ])"
            ]
          },
          "metadata": {},
          "execution_count": 27
        }
      ]
    },
    {
      "cell_type": "code",
      "source": [
        "plt.plot(x, rv.cdf(x))\n",
        "plt.show()"
      ],
      "metadata": {
        "id": "xKmlYYWEzW9B",
        "colab": {
          "base_uri": "https://localhost:8080/",
          "height": 265
        },
        "outputId": "7a1563a7-fdd3-4f52-ce5e-22be290bfc30"
      },
      "execution_count": null,
      "outputs": [
        {
          "output_type": "display_data",
          "data": {
            "image/png": "[encoded data removed]",
            "text/plain": [
              "<Figure size 432x288 with 1 Axes>"
            ]
          },
          "metadata": {
            "needs_background": "light"
          }
        }
      ]
    },
    {
      "cell_type": "code",
      "source": [
        "# 주사위를 10번 던졌을 때 1이 3번이하 나올 확률\n",
        "\n",
        "prob = rv.cdf(x)\n",
        "prob[3]"
      ],
      "metadata": {
        "colab": {
          "base_uri": "https://localhost:8080/"
        },
        "id": "SrUQsCEOznsi",
        "outputId": "a41014ef-1ed8-4dcb-a0cf-72de3cb21a3a"
      },
      "execution_count": null,
      "outputs": [
        {
          "output_type": "execute_result",
          "data": {
            "text/plain": [
              "0.9302721574455114"
            ]
          },
          "metadata": {},
          "execution_count": 29
        }
      ]
    },
    {
      "cell_type": "code",
      "source": [
        "# 포아송분포\n",
        "rv = poisson(2)"
      ],
      "metadata": {
        "id": "wHfJox39z2tl"
      },
      "execution_count": null,
      "outputs": []
    },
    {
      "cell_type": "code",
      "source": [
        "x = np.arange(11)\n",
        "plt.bar(x, rv.pmf(x))\n",
        "plt.show()"
      ],
      "metadata": {
        "colab": {
          "base_uri": "https://localhost:8080/",
          "height": 265
        },
        "id": "2N1pc71r0fVH",
        "outputId": "8788d94c-3569-4f8d-8952-c5dcb63ae4a9"
      },
      "execution_count": null,
      "outputs": [
        {
          "output_type": "display_data",
          "data": {
            "image/png": "[encoded data removed]",
            "text/plain": [
              "<Figure size 432x288 with 1 Axes>"
            ]
          },
          "metadata": {
            "needs_background": "light"
          }
        }
      ]
    },
    {
      "cell_type": "code",
      "source": [
        "x = rv.rvs(10000)\n",
        "sns.countplot(x)\n",
        "plt.show()"
      ],
      "metadata": {
        "colab": {
          "base_uri": "https://localhost:8080/",
          "height": 265
        },
        "id": "LVKZ4E5h0p1j",
        "outputId": "37c3fa48-f04e-4516-ac5e-98a677e8aa91"
      },
      "execution_count": null,
      "outputs": [
        {
          "output_type": "display_data",
          "data": {
            "image/png": "[encoded data removed]",
            "text/plain": [
              "<Figure size 432x288 with 1 Axes>"
            ]
          },
          "metadata": {
            "needs_background": "light"
          }
        }
      ]
    },
    {
      "cell_type": "code",
      "source": [
        "x.mean()"
      ],
      "metadata": {
        "id": "Chnneg2f08Fa",
        "outputId": "8d7c154a-da49-4810-e3c1-289eecd539c3",
        "colab": {
          "base_uri": "https://localhost:8080/"
        }
      },
      "execution_count": null,
      "outputs": [
        {
          "output_type": "execute_result",
          "data": {
            "text/plain": [
              "2.022"
            ]
          },
          "metadata": {},
          "execution_count": 33
        }
      ]
    },
    {
      "cell_type": "code",
      "source": [
        "from scipy.stats import norm"
      ],
      "metadata": {
        "id": "2J9adVUe0_i_"
      },
      "execution_count": null,
      "outputs": []
    },
    {
      "cell_type": "code",
      "source": [
        "rv = norm( loc=0, scale=1 )"
      ],
      "metadata": {
        "id": "EI0sTdLIaxBX"
      },
      "execution_count": null,
      "outputs": []
    },
    {
      "cell_type": "code",
      "source": [
        "x = np.linspace(-5, 5 ,1000)\n",
        "plt.plot(x, rv.pdf(x))\n",
        "plt.show()"
      ],
      "metadata": {
        "colab": {
          "base_uri": "https://localhost:8080/",
          "height": 265
        },
        "id": "dHO8s-a2a1Lu",
        "outputId": "0e9ca510-8f7c-492d-cfb6-29f5b8c185ee"
      },
      "execution_count": null,
      "outputs": [
        {
          "output_type": "display_data",
          "data": {
            "image/png": "[encoded data removed]",
            "text/plain": [
              "<Figure size 432x288 with 1 Axes>"
            ]
          },
          "metadata": {
            "needs_background": "light"
          }
        }
      ]
    },
    {
      "cell_type": "code",
      "source": [
        "x = np.linspace(-3, 3, 1000)\n",
        "plt.plot(x, rv.cdf(x))\n",
        "plt.show()"
      ],
      "metadata": {
        "colab": {
          "base_uri": "https://localhost:8080/",
          "height": 265
        },
        "id": "7f-6amYFbDWK",
        "outputId": "2b9b0e59-3ebb-4cbd-cfaa-f5020a491d0c"
      },
      "execution_count": null,
      "outputs": [
        {
          "output_type": "display_data",
          "data": {
            "image/png": "[encoded data removed]",
            "text/plain": [
              "<Figure size 432x288 with 1 Axes>"
            ]
          },
          "metadata": {
            "needs_background": "light"
          }
        }
      ]
    },
    {
      "cell_type": "markdown",
      "source": [
        "## 중심극한의 정리"
      ],
      "metadata": {
        "id": "9ZvbOEXGba5E"
      }
    },
    {
      "cell_type": "code",
      "source": [
        "from scipy.stats import uniform"
      ],
      "metadata": {
        "id": "Hv15vCT1bOvV"
      },
      "execution_count": null,
      "outputs": []
    },
    {
      "cell_type": "code",
      "source": [
        "n = 20\n",
        "m = 100000\n",
        "mean = []\n",
        "\n",
        "rv = uniform(n)\n",
        "for _ in range(m):\n",
        "  x = rv.rvs(n)\n",
        "  mean.append(x.mean())"
      ],
      "metadata": {
        "id": "k9mkNAZSbpM3"
      },
      "execution_count": null,
      "outputs": []
    },
    {
      "cell_type": "code",
      "source": [
        "sns.displot(mean)"
      ],
      "metadata": {
        "colab": {
          "base_uri": "https://localhost:8080/",
          "height": 387
        },
        "id": "VPVsVyyLb-AH",
        "outputId": "e4a0c054-eec3-4000-bdc6-202c2eabe6bb"
      },
      "execution_count": null,
      "outputs": [
        {
          "output_type": "execute_result",
          "data": {
            "text/plain": [
              "<seaborn.axisgrid.FacetGrid at 0x7f3b894beb90>"
            ]
          },
          "metadata": {},
          "execution_count": 43
        },
        {
          "output_type": "display_data",
          "data": {
            "image/png": "[encoded data removed]",
            "text/plain": [
              "<Figure size 360x360 with 1 Axes>"
            ]
          },
          "metadata": {
            "needs_background": "light"
          }
        }
      ]
    },
    {
      "cell_type": "code",
      "source": [
        "# 초기자금이 10,000원이고\n",
        "# 49%의 확률로 100원을 따거나, 51%의 확률로 100원을 잃는 베르누이 분포를 가정\n",
        "# 도박사는 얼마만에 파산할 것인가?(파산하지 않는 경우는 고려하지 않는가?)\n",
        "\n",
        "n = 10000\n",
        "p = 0.49\n",
        "r = []\n",
        "x = [-100, 100]\n",
        "\n",
        "while True:\n",
        "  i = bernoulli(p).rvs(1)[0]\n",
        "  n += x[i]\n",
        "  r.append(n)\n",
        "  if n < 0: break"
      ],
      "metadata": {
        "id": "HR6x5xRMM2Qk"
      },
      "execution_count": null,
      "outputs": []
    },
    {
      "cell_type": "code",
      "source": [
        "plt.plot(r)\n",
        "plt.show()"
      ],
      "metadata": {
        "colab": {
          "base_uri": "https://localhost:8080/",
          "height": 265
        },
        "id": "prSYKvkONi4l",
        "outputId": "f587cf22-fc85-4c8a-911b-c42cee661fbd"
      },
      "execution_count": null,
      "outputs": [
        {
          "output_type": "display_data",
          "data": {
            "image/png": "[encoded data removed]",
            "text/plain": [
              "<Figure size 432x288 with 1 Axes>"
            ]
          },
          "metadata": {
            "needs_background": "light"
          }
        }
      ]
    },
    {
      "cell_type": "markdown",
      "source": [
        "이때, 도박사가 파산할 때 까지의 게임의 횟수를 m이라고 한다면 \n",
        "- 이때, m이 확률변수가 됩니다.\n",
        "- 평균적으로 몇회만에 파산하는지를 확인하고 싶다면\n",
        "- 충분히 시뮬레이션을 해보고 그 결과를 확인\n",
        "  - 수업 시간에는 많이 해볼수는 없고\n",
        "  - 1000회 정도의 몬테카를로 시뮬레이션을 진행\n",
        "  - 시간이 꽤 걸립니다."
      ],
      "metadata": {
        "id": "272W3M_vOOKH"
      }
    },
    {
      "cell_type": "code",
      "source": [
        "p = 0.49\n",
        "m = []\n",
        "x = [-100, 100]\n",
        "\n",
        "for _ in range(1000):\n",
        "  n = 10000\n",
        "  cnt = 0\n",
        "  while True:\n",
        "    cnt += 1\n",
        "    i = bernoulli(p).rvs(1)[0]\n",
        "    n += x[i]\n",
        "    if n < 0: break\n",
        "  m.append(cnt)"
      ],
      "metadata": {
        "id": "04bYS9vTO0EV"
      },
      "execution_count": null,
      "outputs": []
    },
    {
      "cell_type": "code",
      "source": [
        "sns.displot(m)\n",
        "plt.show()"
      ],
      "metadata": {
        "colab": {
          "base_uri": "https://localhost:8080/",
          "height": 369
        },
        "id": "fb-pPvN_eumo",
        "outputId": "7525b399-428a-4c0f-c762-d7097cba744d"
      },
      "execution_count": null,
      "outputs": [
        {
          "output_type": "display_data",
          "data": {
            "image/png": "[encoded data removed]",
            "text/plain": [
              "<Figure size 360x360 with 1 Axes>"
            ]
          },
          "metadata": {
            "needs_background": "light"
          }
        }
      ]
    },
    {
      "cell_type": "code",
      "source": [
        "print( np.mean(m) )\n",
        "print( np.var(m) )\n",
        "print( np.std(m) )"
      ],
      "metadata": {
        "colab": {
          "base_uri": "https://localhost:8080/"
        },
        "id": "rR4N-hcGfBME",
        "outputId": "baeb3df7-0228-431d-f989-34356e2626aa"
      },
      "execution_count": null,
      "outputs": [
        {
          "output_type": "stream",
          "name": "stdout",
          "text": [
            "5214.264\n",
            "15313513.490304\n",
            "3913.2484575227268\n"
          ]
        }
      ]
    },
    {
      "cell_type": "code",
      "source": [
        ""
      ],
      "metadata": {
        "id": "z-RmJTGCIA58"
      },
      "execution_count": null,
      "outputs": []
    }
  ]
}