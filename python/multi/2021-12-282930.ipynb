{
  "nbformat": 4,
  "nbformat_minor": 0,
  "metadata": {
    "colab": {
      "name": "2021-12-282930.ipynb",
      "provenance": []
    },
    "kernelspec": {
      "name": "python3",
      "display_name": "Python 3"
    },
    "language_info": {
      "name": "python"
    }
  },
  "cells": [
    {
      "cell_type": "markdown",
      "source": [
        "## CRUD 따라해보기\n",
        "- 교재(p.164 ~ 170)\n",
        "- Create, Read, Update, Delete"
      ],
      "metadata": {
        "id": "urABYCyw1vk4"
      }
    },
    {
      "cell_type": "markdown",
      "source": [
        "### Todo 테이블의 구조\n",
        "- `content` 컬럼 하나인 클래스를 정의\n",
        "  - ORM 에서는 해당 클래스가 테이블이 됩니다.\n",
        "  - `id` 컬럼은 직접 정의하지 않아도 무조건 만들어 집니다.\n",
        "  - 그리고, 이 `id` 컬럼은 굉장히 중요한 의미를 가집니다.\n",
        "    - `primary key`( 기본키 )의 역할을 합니다.\n",
        "    - 해당 속성이 설정된 컬럼은 중복되면 안됩니다.\n",
        "    - 즉, 장고에서는 `id` 컬럼으로 자료를 구분\n",
        "    - 테이블에서 자료를 식별할 수 있는 유일한 식별자가 됩니다. \n",
        "\n",
        "```\n",
        "sqlite> pragma table_info( my_to_do_app_todo );\n",
        "0|id|integer|1||1\n",
        "1|content|varchar(255)|1||0\n",
        "sqlite>\n",
        "```"
      ],
      "metadata": {
        "id": "iZOPUr_S5akK"
      }
    },
    {
      "cell_type": "markdown",
      "source": [
        "### 장고에서의 데이터 삭제\n",
        "\n",
        "```\n",
        "prompt> from my_to_do_app.models import Todo\n",
        "prompt> obj = Todo.objects.get(id=1)\n",
        "prompt> obj.delete()\n",
        "prompt> Todo.objects.all()\n",
        "```"
      ],
      "metadata": {
        "id": "VlRyvhIB-Ipb"
      }
    },
    {
      "cell_type": "markdown",
      "source": [
        "### 장고에서의 데이터 수정\n",
        "\n",
        "```\n",
        "prompt> from my_to_do_app.models import Todo\n",
        "prompt> obj = Todo.objects.get(id=1)\n",
        "prompt> obj.content = '바꿔주고'\n",
        "prompt> obj.save()\n",
        "```"
      ],
      "metadata": {
        "id": "Nhd4cIL2--dE"
      }
    },
    {
      "cell_type": "markdown",
      "source": [
        "# 실습(게시판)"
      ],
      "metadata": {
        "id": "noz75RpxXn4U"
      }
    },
    {
      "cell_type": "markdown",
      "source": [
        "## list.html\n",
        "\n",
        "```\n",
        "<!DOCTYPE html>\n",
        "<html>\n",
        "  <head>\n",
        "    <meta charset=\"utf-8\">\n",
        "\n",
        "    {% load static %}\n",
        "    <link type='text/css' rel='stylesheet' href='{% static \"bootstrap.min.css\" %}' />\n",
        "    <link type='text/css' rel='stylesheet' href='{% static \"bootstrap-theme.min.css\" %}' />\n",
        "    <link type='text/css' rel='stylesheet' href='{% static \"list.css\" %}' />\n",
        "  </head>\n",
        "\n",
        "  <body>\n",
        "    <nav class=\"navbar navbar-inverse navbar-fixed-top\">\n",
        "      <div class=\"container\">\n",
        "        <div class=\"navbar-header\">\n",
        "          <button type=\"button\" class=\"navbar-toggle collapsed\" data-toggle=\"collapse\" data-target=\"#navbar\" aria-expanded=\"false\" aria-controls=\"navbar\">\n",
        "            <span class=\"sr-only\">Toggle navigation</span>\n",
        "            <span class=\"icon-bar\"></span>\n",
        "            <span class=\"icon-bar\"></span>\n",
        "            <span class=\"icon-bar\"></span>\n",
        "          </button>\n",
        "          <a class=\"navbar-brand\" href=\"#\">아주 간단한 게시판</a>\n",
        "        </div>\n",
        "        <div id=\"navbar\" class=\"navbar-collapse collapse\">\n",
        "          <div class=\"navbar-form navbar-right\">\n",
        "            <button type=\"submit\" class=\"btn btn-info\">Sign in</button>\n",
        "            <button type=\"submit\" class=\"btn btn-success\">Sign up</button>\n",
        "          </div>\n",
        "        </div><!--/.navbar-collapse -->\n",
        "      </div>\n",
        "    </nav>\n",
        "\n",
        "    <hr>\n",
        "\n",
        "    <div class=\"container\">\n",
        "      <table class='table'>\n",
        "        <thead>\n",
        "          <tr>\n",
        "            <th style='width: 5%'> 번호 </th>\n",
        "            <th style='width: 10% '> 작성날짜 </th>\n",
        "            <th style='width: 10%'> 작성자 </th>\n",
        "            <th> 제목 </th>\n",
        "\n",
        "            <!-- 글 수정과 글 삭제 컬럼을 추가-->\n",
        "            <th style='width: 5%'> </th>\n",
        "            <th style='width: 5%'> </th>\n",
        "          </tr>\n",
        "        </thead>\n",
        "\n",
        "        <tbody>\n",
        "          {% for row in rows %}\n",
        "          <tr>\n",
        "            <td> {{ forloop.counter }} </td>\n",
        "            <td> {{ row.createDate }} </td>\n",
        "            <td> {{ row.writer }} </td>\n",
        "            <td> \n",
        "              <a href='view/?id={{row.id}}'>\n",
        "                {{ row.subject }} \n",
        "              </a>\n",
        "            </td>\n",
        "            <td>\n",
        "              <a href='update/?id={{row.id}}' >\n",
        "                <button type=\"submit\" class=\"btn btn-warning\">수정</button>\n",
        "              </a>\n",
        "            </td>\n",
        "            <td>\n",
        "              <form action='delete/' method='POST'>\n",
        "                {% csrf_token %}\n",
        "                <input type='hidden' name=id value={{row.id}}>\n",
        "                <button type=\"submit\" class=\"btn btn-danger\">삭제</button>\n",
        "              </form> \n",
        "            </td>\n",
        "          </tr>\n",
        "          {% endfor %}\n",
        "        </tbody>\n",
        "\n",
        "      </table>\n",
        "    </div>\n",
        "    <div class=\"container\">\n",
        "      <a href='write/'>\n",
        "        <button type=\"submit\" class=\"btn btn-primary\">게시글 작성하기</button>\n",
        "      </a>\n",
        "    </div>\n",
        "  </body>\n",
        "</html>\n",
        "```"
      ],
      "metadata": {
        "id": "ihNL_S3lSZpV"
      }
    },
    {
      "cell_type": "markdown",
      "source": [
        "## write.html \n",
        "\n",
        "```\n",
        "<!DOCTYPE html>\n",
        "<html>\n",
        "  <head>\n",
        "    {% load static %}\n",
        "    <link type='text/css' rel='stylesheet' href='{% static \"bootstrap.min.css\" %}' />\n",
        "    <link type='text/css' rel='stylesheet' href='{% static \"bootstrap-theme.min.css\" %}' />\n",
        "    <link type='text/css' rel='stylesheet' href='{% static \"list.css\" %}' />\n",
        "   \n",
        "  <body>\n",
        "    <nav class=\"navbar navbar-inverse navbar-fixed-top\">\n",
        "      <div class=\"container\">\n",
        "        <div class=\"navbar-header\">\n",
        "          <button type=\"button\" class=\"navbar-toggle collapsed\" data-toggle=\"collapse\" data-target=\"#navbar\" aria-expanded=\"false\" aria-controls=\"navbar\">\n",
        "            <span class=\"sr-only\">Toggle navigation</span>\n",
        "            <span class=\"icon-bar\"></span>\n",
        "            <span class=\"icon-bar\"></span>\n",
        "            <span class=\"icon-bar\"></span>\n",
        "          </button>\n",
        "          <a class=\"navbar-brand\" href=\"#\">아주 간단한 게시판</a>\n",
        "        </div>\n",
        "        <div id=\"navbar\" class=\"navbar-collapse collapse\">\n",
        "          <div class=\"navbar-form navbar-right\">\n",
        "            <button type=\"submit\" class=\"btn btn-info\">Sign in</button>\n",
        "            <button type=\"submit\" class=\"btn btn-success\">Sign up</button>\n",
        "          </div>\n",
        "        </div><!--/.navbar-collapse -->\n",
        "      </div>\n",
        "    </nav>\n",
        "\n",
        "    <hr>\n",
        "\n",
        "    <div class='container'>\n",
        "      <form action='../create/' method='POST'>\n",
        "        {% csrf_token %}\n",
        "        <div class=\"form-group\">\n",
        "          <label for=\"exampleInputPassword1\">작성 날짜</label>\n",
        "          <input type=\"date\" class=\"form-control\" id='now_date' name='createDate'>\n",
        "          <script>\n",
        "            document.getElementById('now_date').valueAsDate = new Date();\n",
        "          </script>\n",
        "            \n",
        "        </div>\n",
        "        <div class=\"form-group\">\n",
        "          <label for=\"exampleInputEmail1\">작성자</label>\n",
        "          <input type=\"text\" class=\"form-control\" placeholder=\"작성자\" name='user'>\n",
        "        </div>\n",
        "        <div class=\"form-group\">\n",
        "          <label for=\"exampleInputPassword1\">글 제목</label>\n",
        "          <input type=\"text\" class=\"form-control\" name='subject'>\n",
        "        </div>\n",
        "        <div class=\"form-group\">\n",
        "          <label for=\"exampleInputFile\">게시글</label>\n",
        "          <textarea class=\"form-control\" rows=10 name='content'></textarea>\n",
        "        <button type=\"submit\" class=\"btn btn-default\">등록</button>\n",
        "      </form>\n",
        "    </div>\n",
        "  </body>\n",
        "\n",
        "</html>\n",
        "```"
      ],
      "metadata": {
        "id": "alsN_aao2-B_"
      }
    },
    {
      "cell_type": "markdown",
      "source": [
        "## update.html\n",
        "\n",
        "```\n",
        "<!DOCTYPE html>\n",
        "<html>\n",
        "  <head>\n",
        "    {% load static %}\n",
        "    <link type='text/css' rel='stylesheet' href='{% static \"bootstrap.min.css\" %}' />\n",
        "    <link type='text/css' rel='stylesheet' href='{% static \"bootstrap-theme.min.css\" %}' />\n",
        "    <link type='text/css' rel='stylesheet' href='{% static \"list.css\" %}' />\n",
        "   \n",
        "  <body>\n",
        "    <nav class=\"navbar navbar-inverse navbar-fixed-top\">\n",
        "      <div class=\"container\">\n",
        "        <div class=\"navbar-header\">\n",
        "          <button type=\"button\" class=\"navbar-toggle collapsed\" data-toggle=\"collapse\" data-target=\"#navbar\" aria-expanded=\"false\" aria-controls=\"navbar\">\n",
        "            <span class=\"sr-only\">Toggle navigation</span>\n",
        "            <span class=\"icon-bar\"></span>\n",
        "            <span class=\"icon-bar\"></span>\n",
        "            <span class=\"icon-bar\"></span>\n",
        "          </button>\n",
        "          <a class=\"navbar-brand\" href=\"#\">아주 간단한 게시판</a>\n",
        "        </div>\n",
        "        <div id=\"navbar\" class=\"navbar-collapse collapse\">\n",
        "          <div class=\"navbar-form navbar-right\">\n",
        "            <button type=\"submit\" class=\"btn btn-info\">Sign in</button>\n",
        "            <button type=\"submit\" class=\"btn btn-success\">Sign up</button>\n",
        "          </div>\n",
        "        </div><!--/.navbar-collapse -->\n",
        "      </div>\n",
        "    </nav>\n",
        "\n",
        "    <hr>\n",
        "\n",
        "    <div class='container'>\n",
        "      <form action='../modify/' method='POST'>\n",
        "        {% csrf_token %}\n",
        "        <input type='hidden' name='id' value={{post.id}} >\n",
        "        <div class=\"form-group\">\n",
        "          <label for=\"exampleInputPassword1\">작성 날짜</label>\n",
        "          <input type=\"date\" class=\"form-control\" id='now_date' name='createDate' value=\"{{post.createDate|date:'Y-m-d'}}\">\n",
        "        </div>\n",
        "        <div class=\"form-group\">\n",
        "          <label for=\"exampleInputEmail1\">작성자</label>\n",
        "          <input type=\"text\" class=\"form-control\" placeholder=\"작성자\" name='user' value={{post.writer}}>\n",
        "        </div>\n",
        "        <div class=\"form-group\">\n",
        "          <label for=\"exampleInputPassword1\">글 제목</label>\n",
        "          <input type=\"text\" class=\"form-control\" name='subject' value={{post.subject}}>\n",
        "        </div>\n",
        "        <div class=\"form-group\">\n",
        "          <label for=\"exampleInputFile\">게시글</label>\n",
        "          <textarea class=\"form-control\" rows=10 name='content'> {{post.content}} </textarea>\n",
        "        <button type=\"submit\" class=\"btn btn-default\">수정</button>\n",
        "      </form>\n",
        "    </div>\n",
        "  </body>\n",
        "\n",
        "</html>\n",
        "```"
      ],
      "metadata": {
        "id": "bH3Wuuu0IDwt"
      }
    },
    {
      "cell_type": "markdown",
      "source": [
        "## view.html\n",
        "\n",
        "```\n",
        "<!DOCTYPE html>\n",
        "<html>\n",
        "  <head>\n",
        "    {% load static %}\n",
        "    <link type='text/css' rel='stylesheet' href='{% static \"bootstrap.min.css\" %}' />\n",
        "    <link type='text/css' rel='stylesheet' href='{% static \"bootstrap-theme.min.css\" %}' />\n",
        "    <link type='text/css' rel='stylesheet' href='{% static \"list.css\" %}' />\n",
        "   \n",
        "  <body>\n",
        "    <nav class=\"navbar navbar-inverse navbar-fixed-top\">\n",
        "      <div class=\"container\">\n",
        "        <div class=\"navbar-header\">\n",
        "          <button type=\"button\" class=\"navbar-toggle collapsed\" data-toggle=\"collapse\" data-target=\"#navbar\" aria-expanded=\"false\" aria-controls=\"navbar\">\n",
        "            <span class=\"sr-only\">Toggle navigation</span>\n",
        "            <span class=\"icon-bar\"></span>\n",
        "            <span class=\"icon-bar\"></span>\n",
        "            <span class=\"icon-bar\"></span>\n",
        "          </button>\n",
        "          <a class=\"navbar-brand\" href=\"#\">아주 간단한 게시판</a>\n",
        "        </div>\n",
        "        <div id=\"navbar\" class=\"navbar-collapse collapse\">\n",
        "          <div class=\"navbar-form navbar-right\">\n",
        "            <button type=\"submit\" class=\"btn btn-info\">Sign in</button>\n",
        "            <button type=\"submit\" class=\"btn btn-success\">Sign up</button>\n",
        "          </div>\n",
        "        </div><!--/.navbar-collapse -->\n",
        "      </div>\n",
        "    </nav>\n",
        "\n",
        "    <hr>\n",
        "\n",
        "    <div class='container'>\n",
        "      <form>\n",
        "        {% csrf_token %}\n",
        "        <div class=\"form-group\">\n",
        "          <label for=\"exampleInputPassword1\">작성 날짜</label>\n",
        "          <input type=\"date\" class=\"form-control\" id='now_date' name='createDate' value=\"{{post.createDate|date:'Y-m-d'}}\" readonly>\n",
        "            \n",
        "        </div>\n",
        "        <div class=\"form-group\">\n",
        "          <label for=\"exampleInputEmail1\">작성자</label>\n",
        "          <input type=\"text\" class=\"form-control\" placeholder=\"작성자\" name='user' value={{post.writer}} readonly>\n",
        "        </div>\n",
        "        <div class=\"form-group\">\n",
        "          <label for=\"exampleInputPassword1\">글 제목</label>\n",
        "          <input type=\"text\" class=\"form-control\" name='subject' value={{post.subject}} readonly>\n",
        "        </div>\n",
        "        <div class=\"form-group\">\n",
        "          <label for=\"exampleInputFile\">게시글</label>\n",
        "          <textarea class=\"form-control\" rows=10 name='content' readonly>{{post.content}}</textarea>\n",
        "      </form>\n",
        "    </div>\n",
        "  </body>\n",
        "\n",
        "</html>\n",
        "```"
      ],
      "metadata": {
        "id": "ITn3lq5ixVu1"
      }
    },
    {
      "cell_type": "markdown",
      "source": [
        "## 모델\n",
        "\n",
        "- 게시글을 저장하기 위한 테이블을 정의\n",
        "\n",
        "```\n",
        "from django.db import models\n",
        "\n",
        "# Create your models here.\n",
        "# ORM(Object Relataion mapping)\n",
        "\n",
        "class board( models.Model ):\n",
        "  createDate = models.DateField()\n",
        "  writer = models.CharField(max_length=128)\n",
        "  subject = models.CharField(max_length=255)\n",
        "  content = models.TextField()\n",
        "  \n",
        "```\n",
        "\n",
        "- 장고에서는 클래스가 곧 테이블이 됩니다. \n",
        "  - 작성된 클래스를 DB에 반영해줍니다. \n",
        "\n",
        "```\n",
        "prompt> python manage.py makemigrations board\n",
        "...\n",
        "\n",
        "prompt> python manage.py migrate\n",
        "...\n",
        "```"
      ],
      "metadata": {
        "id": "6cLPPbq4kNNx"
      }
    },
    {
      "cell_type": "markdown",
      "source": [
        "### 모델 테스트\n",
        "\n",
        "- `prompt> python manage.py shell`\n",
        "\n",
        "```\n",
        ">>> from board     .      models      import        Board\n",
        "        -------        -----------               ----------\n",
        "        package           module                 models.py에 정의된 Board 클래스\n",
        "\n",
        ">>> import datetime\n",
        ">>> b = Board( createDate=datetime.date.today(), writer='글 작성자', subject='글 제목', content='글 내용')\n",
        "\n",
        ">>> b.save()\n",
        "------------\n",
        "생성된 객체를 테이블에 저장\n",
        "\n",
        ">>> Board.objects.all()\n",
        "------------------------\n",
        "테이블에 저장된 모든 row를 객체형태로 반환\n",
        "\n",
        "<QuerySet [<board: board object (1)>, <board: board object (2)>, <board: board object (3)>]>\n",
        "------------------------------------------------------------------------\n",
        "쿼리셋 타입의 객체가 반환\n",
        "테이블 내의 각 row는 하나의 Board 타입 객체로 매핑이 된다.\n",
        "\n",
        ">>> for b in Board.objects.all():\n",
        "  print(b.subject)\n",
        "-----------------------------------------\n",
        "쿼리셋 객체는 이터레이블 객체\n",
        "\n",
        ">>> Board.objects.filter(id=1)\n",
        "-----------------------------\\-\n",
        "쿼리셋 객체를 반환\n",
        "\n",
        ">>> Board.objects.get(id=1)\n",
        "------------------------------\n",
        "Board 타입의 객체 하나를 반환\n",
        "\n",
        "```"
      ],
      "metadata": {
        "id": "CesDIKEIvczn"
      }
    },
    {
      "cell_type": "markdown",
      "source": [
        "## 템플릿 태그"
      ],
      "metadata": {
        "id": "QRJFvkN6CDWI"
      }
    },
    {
      "cell_type": "markdown",
      "source": [
        "### 분기\n",
        "\n",
        "```\n",
        "{% if 명제 %}\n",
        "\n",
        "{% elif 명제 %}\n",
        "\n",
        "{% else %}\n",
        "\n",
        "{% endif %}\n",
        "```"
      ],
      "metadata": {
        "id": "wegwLbKspJ5j"
      }
    },
    {
      "cell_type": "markdown",
      "source": [
        "### 반복문\n",
        "\n",
        "```\n",
        "{% for 변수 in 이터레이블 %}\n",
        "\n",
        "{% endfor %}\n",
        "```"
      ],
      "metadata": {
        "id": "sysMiAenpjoD"
      }
    },
    {
      "cell_type": "markdown",
      "source": [
        "### 객체 출력 \n",
        "\n",
        "```\n",
        "{{ 객체 }}\n",
        "```"
      ],
      "metadata": {
        "id": "vXHfRlicpsZF"
      }
    },
    {
      "cell_type": "markdown",
      "source": [
        "### 게시판에 적용\n",
        "\n",
        "```\n",
        "    <!-- 템플릿 태그 -->\n",
        "    {{ rows }}\n",
        "\n",
        "    {% for row in rows %}\n",
        "      <p> 번호: {{ forloop.counter }} </p>\n",
        "      <p> 작성날짜: {{ row.createDate }} </p>\n",
        "      <p> 작성자: {{ row.writer }} </p>\n",
        "      <p> 제목: {{ row.subject }} </p>\n",
        "      <p> 내용: {{ row.content }} </p>\n",
        "    {% endfor %}\n",
        "```"
      ],
      "metadata": {
        "id": "Nq2PruUHvDHa"
      }
    },
    {
      "cell_type": "markdown",
      "source": [
        "### 템플릿 필터\n",
        "\n",
        "- [템플릿 공식 레퍼런스](https://docs.djangoproject.com/ko/4.0/howto/custom-template-tags/)"
      ],
      "metadata": {
        "id": "_0Ac4hAjvIRz"
      }
    },
    {
      "cell_type": "markdown",
      "source": [
        "### 템플릿 상속"
      ],
      "metadata": {
        "id": "4fyhSnRNGL8e"
      }
    },
    {
      "cell_type": "markdown",
      "source": [
        "#### base.html\n",
        "- `아주간단한게시판`에서 기본 틀이 되는 html을 따로 만들어 줍니다. \n",
        "- 다른 각각의 html에서는 `base.html`을 포함해서 표현될 수 있도록 \n",
        "  - 모든 페이지가 공통적으로 가지는 코드를 하나의 템플릿으로 작성\n",
        "\n",
        "```\n",
        "<!DOCTYPE html>\n",
        "<html>\n",
        "  <head>\n",
        "    <meta charset=\"utf-8\">\n",
        "\n",
        "    {% load static %}\n",
        "    <link type='text/css' rel='stylesheet' href='{% static \"bootstrap.min.css\" %}' />\n",
        "    <link type='text/css' rel='stylesheet' href='{% static \"bootstrap-theme.min.css\" %}' />\n",
        "    <link type='text/css' rel='stylesheet' href='{% static \"list.css\" %}' />\n",
        "  </head>\n",
        "\n",
        "  <body>\n",
        "    <nav class=\"navbar navbar-inverse navbar-fixed-top\">\n",
        "      <div class=\"container\">\n",
        "        <div class=\"navbar-header\">\n",
        "          <button type=\"button\" class=\"navbar-toggle collapsed\" data-toggle=\"collapse\" data-target=\"#navbar\" aria-expanded=\"false\" aria-controls=\"navbar\">\n",
        "            <span class=\"sr-only\">Toggle navigation</span>\n",
        "            <span class=\"icon-bar\"></span>\n",
        "            <span class=\"icon-bar\"></span>\n",
        "            <span class=\"icon-bar\"></span>\n",
        "          </button>\n",
        "          <a class=\"navbar-brand\" href=\"/board/\">아주 간단한 게시판</a>\n",
        "        </div>\n",
        "        <div id=\"navbar\" class=\"navbar-collapse collapse\">\n",
        "          <div class=\"navbar-form navbar-right\">\n",
        "            <a href='/accounts/signIn/'>\n",
        "              <button type=\"submit\" class=\"btn btn-info\">Sign in</button>\n",
        "            </a>\n",
        "            <a href='/accounts/signUp/'>\n",
        "              <button type=\"submit\" class=\"btn btn-success\">Sign up</button>\n",
        "            </a>\n",
        "          </div>\n",
        "        </div><!--/.navbar-collapse -->\n",
        "      </div>\n",
        "    </nav>\n",
        "\n",
        "    <hr>\n",
        "\n",
        "    <!-- \n",
        "      템플릿 태그를 삽입\n",
        "      해당 템플릿 태그 사이에는 개별적으로 표현되는 내용이 들어가게 됩니다. \n",
        "    -->\n",
        "    {% block content %}\n",
        "    {% endblock %}\n",
        "\n",
        "  </body>\n",
        "</html>\n",
        "```"
      ],
      "metadata": {
        "id": "Yz8eo8KLywxb"
      }
    },
    {
      "cell_type": "markdown",
      "source": [
        "#### list.html\n",
        "\n",
        "```\n",
        "{% extends 'board/base.html' %}\n",
        "{% block content %}\n",
        "<div class=\"container\">\n",
        "      <table class='table'>\n",
        "        <thead>\n",
        "        ....\n",
        "\n",
        "</div>\n",
        "{% endblock %}\n",
        "```"
      ],
      "metadata": {
        "id": "hw8Gi-jUyjcW"
      }
    },
    {
      "cell_type": "markdown",
      "source": [
        "## 인증(Authentication)\n",
        "- [파이썬 공식 레퍼런스](https://docs.djangoproject.com/ko/4.0/topics/auth/default/)\n",
        "- 이 사용자가 이 사용자가 맞는지 확인하는 작업"
      ],
      "metadata": {
        "id": "IPmHCeod4Kin"
      }
    },
    {
      "cell_type": "markdown",
      "source": [
        "### 관리자 생성\n",
        "\n",
        "```\n",
        "prompt> python manage.py createsuperuser\n",
        "```"
      ],
      "metadata": {
        "id": "N-Tcl4nA-G6O"
      }
    },
    {
      "cell_type": "markdown",
      "source": [
        "### signup.html \n",
        "\n",
        "```\n",
        "<!DOCTYPE html>\n",
        "\n",
        "<html>\n",
        "  <head>\n",
        "    <!-- bootstrap css 적용 -->\n",
        "    {% load static %}\n",
        "    <link type='text/css' rel='stylesheet' href='{% static \"bootstrap.min.css\" %}' />\n",
        "    <link type='text/css' rel='stylesheet' href='{% static \"bootstrap.css\" %}' />\n",
        "    <link type='text/css' rel='stylesheet' href='{% static \"login.css\" %}' />\n",
        "  </head>\n",
        "\n",
        "  <body>\n",
        "    <div class='container'>\n",
        "      <form class='form-horizontal' method='POST' action='../createUser/'>\n",
        "        {% csrf_token %}\n",
        "        <div class='form-group'>\n",
        "          <label for=\"inputId\" class=\"col-xs-4 col-md-4 control-label\">ID</label>\n",
        "          <div class='col-xs-4 col-md-4'>\n",
        "            <input class=\"form-control\" type='text' name='id' id='inputId'>\n",
        "          </div>\n",
        "        </div>\n",
        "        <div class='form-group'>\n",
        "          <label for=\"inputPw\" class=\"col-xs-4 col-sm-4 control-label\">PW</label>\n",
        "          <div class='col-xs-4 col-md-4'>\n",
        "            <input class=\"form-control\" type='password' name='pw' id='inputPw'>\n",
        "          </div>\n",
        "        </div>\n",
        "        <div class='form-group'>\n",
        "          <div class='col-xs-offset-4 col-md-offset-4 col-xs-10 col-md-10'>\n",
        "            <button class=\"btn btn-default\" type='submit'> 회원가입 </button>\n",
        "          </div>\n",
        "        </div>\n",
        "      </form>\n",
        "    </div>\n",
        "  </body>\n",
        "</html>\n",
        "```"
      ],
      "metadata": {
        "id": "zq5UYERe-P2x"
      }
    },
    {
      "cell_type": "markdown",
      "source": [
        "### signin.html\n",
        "\n",
        "```\n",
        "<!DOCTYPE html>\n",
        "\n",
        "<html>\n",
        "  <head>\n",
        "    <!-- bootstrap css 적용 -->\n",
        "    {% load static %}\n",
        "    <link type='text/css' rel='stylesheet' href='{% static \"bootstrap.min.css\" %}' />\n",
        "    <link type='text/css' rel='stylesheet' href='{% static \"bootstrap-theme.min.css\" %}' />\n",
        "    <link type='text/css' rel='stylesheet' href='{% static \"login.css\" %}' />\n",
        "  </head>\n",
        "\n",
        "  <body>\n",
        "    <div class='container'>\n",
        "      <form class='form-horizontal' method='post' action=''>\n",
        "        {% csrf_token %}\n",
        "        <div class='form-group'>\n",
        "          <label for=\"inputId\" class=\"col-xs-4 col-md-4 control-label\">ID</label>\n",
        "          <div class='col-xs-4 col-md-4'>\n",
        "            <input class=\"form-control\" type='text' name='username' id='inputId'>\n",
        "          </div>\n",
        "        </div>\n",
        "        <div class='form-group'>\n",
        "          <label for=\"inputPw\" class=\"col-xs-4 col-sm-4 control-label\">PW</label>\n",
        "          <div class='col-xs-4 col-md-4'>\n",
        "            <input class=\"form-control\" type='password' name='password' id='inputPw'>\n",
        "          </div>\n",
        "        </div>\n",
        "        <div class='form-group'>\n",
        "          <div class='col-xs-offset-4 col-md-offset-4 col-xs-10 col-md-10'>\n",
        "            <button class=\"btn btn-default\" type='submit'> 로그인 </button>\n",
        "          </div>\n",
        "        </div>\n",
        "      </form>\n",
        "    </div>\n",
        "  </body>\n",
        "</html>\n",
        "```"
      ],
      "metadata": {
        "id": "lsdQRWEvPuyv"
      }
    }
  ]
}