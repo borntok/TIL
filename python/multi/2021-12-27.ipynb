{
  "nbformat": 4,
  "nbformat_minor": 0,
  "metadata": {
    "colab": {
      "name": "2021-12-27.ipynb",
      "provenance": []
    },
    "kernelspec": {
      "name": "python3",
      "display_name": "Python 3"
    },
    "language_info": {
      "name": "python"
    }
  },
  "cells": [
    {
      "cell_type": "markdown",
      "source": [
        "# 실습(게시판)"
      ],
      "metadata": {
        "id": "noz75RpxXn4U"
      }
    },
    {
      "cell_type": "markdown",
      "source": [
        "## list.css\n",
        "\n",
        "```\n",
        "body {\n",
        "  padding-top: 50px;\n",
        "  padding-bottom: 20px;\n",
        "}\n",
        "```"
      ],
      "metadata": {
        "id": "0_kjQbyXdnQB"
      }
    },
    {
      "cell_type": "markdown",
      "source": [
        "## list.html\n",
        "\n",
        "```\n",
        "<!DOCTYPE html>\n",
        "<html>\n",
        "  <head>\n",
        "    <meta charset=\"utf-8\">\n",
        "\n",
        "    {% load static %}\n",
        "    <link type='text/css' rel='stylesheet' href='{% static \"bootstrap.min.css\" %}' />\n",
        "    <link type='text/css' rel='stylesheet' href='{% static \"bootstrap-theme.min.css\" %}' />\n",
        "    <link type='text/css' rel='stylesheet' href='{% static \"list.css\" %}' />\n",
        "  </head>\n",
        "\n",
        "  <body>\n",
        "    <nav class=\"navbar navbar-inverse navbar-fixed-top\">\n",
        "      <div class=\"container\">\n",
        "        <div class=\"navbar-header\">\n",
        "          <button type=\"button\" class=\"navbar-toggle collapsed\" data-toggle=\"collapse\" data-target=\"#navbar\" aria-expanded=\"false\" aria-controls=\"navbar\">\n",
        "            <span class=\"sr-only\">Toggle navigation</span>\n",
        "            <span class=\"icon-bar\"></span>\n",
        "            <span class=\"icon-bar\"></span>\n",
        "            <span class=\"icon-bar\"></span>\n",
        "          </button>\n",
        "          <a class=\"navbar-brand\" href=\"#\">아주 간단한 게시판</a>\n",
        "        </div>\n",
        "        <div id=\"navbar\" class=\"navbar-collapse collapse\">\n",
        "          <div class=\"navbar-form navbar-right\">\n",
        "            <button type=\"submit\" class=\"btn btn-success\">Sign in</button>\n",
        "            <button type=\"submit\" class=\"btn btn-success\">Sign up</button>\n",
        "          </div>\n",
        "        </div><!--/.navbar-collapse -->\n",
        "      </div>\n",
        "    </nav>\n",
        "\n",
        "    <div class=\"container\">\n",
        "      <table class='table'>\n",
        "        <thead>\n",
        "          <tr>\n",
        "            <th style='width: 5%'> 번호 </th>\n",
        "            <th> 작성날짜 </th>\n",
        "            <th> 작성자 </th>\n",
        "            <th> 제목 </th>\n",
        "\n",
        "            <!-- 글 수정과 글 삭제 컬럼을 추가-->\n",
        "            <th style='width: 5%'> </th>\n",
        "            <th style='width: 5%'> </th>\n",
        "          </tr>\n",
        "        </thead>\n",
        "\n",
        "        <tbody>\n",
        "          <tr>\n",
        "            <td> 1 </td>\n",
        "            <td> 2021-12-21 </td>\n",
        "            <td> 임종혁 </td>\n",
        "            <td> 오늘 수업은 여기까지... </td>\n",
        "            <td>\n",
        "              <button type=\"submit\" class=\"btn btn-warning\">수정</button>\n",
        "            </td>\n",
        "            <td>\n",
        "              <button type=\"submit\" class=\"btn btn-danger\">삭제</button>\n",
        "            </td>\n",
        "          </tr>\n",
        "          <tr>\n",
        "            <td> 2 </td>\n",
        "            <td> 2021-12-20 </td>\n",
        "            <td> 임종혁 </td>\n",
        "            <td> 왜 아무도 안보이죠? </td>\n",
        "            <td>\n",
        "              <button type=\"submit\" class=\"btn btn-warning\">수정</button>\n",
        "            </td>\n",
        "            <td>\n",
        "              <button type=\"submit\" class=\"btn btn-danger\">삭제</button>\n",
        "            </td>\n",
        "          </tr>\n",
        "          <tr>\n",
        "\n",
        "          </tr>\n",
        "          <tr>\n",
        "\n",
        "          </tr>\n",
        "        </tbody>\n",
        "\n",
        "      </table>\n",
        "    </div>\n",
        "    <div class=\"container\">\n",
        "      <button type=\"submit\" class=\"btn btn-primary\">게시글 작성하기</button>\n",
        "    </div>\n",
        "  </body>\n",
        "</html>\n",
        "```"
      ],
      "metadata": {
        "id": "ihNL_S3lSZpV"
      }
    },
    {
      "cell_type": "markdown",
      "source": [
        "## URL과 Views 연결"
      ],
      "metadata": {
        "id": "TVbYBrnbSZLW"
      }
    },
    {
      "cell_type": "markdown",
      "source": [
        "- 다음과 같은 URL 요청에 대해서 Views와 연결을 해봅시다. \n",
        "\n",
        "```\n",
        "request: http://127.0.0.1:8000/board/\n",
        "\n",
        "\n",
        "   http        ://          127.0.0.1:8000/                 board/          \n",
        "  ------      -----         -----------------             ------------   \n",
        " protocol      sep  domain(네크워크 상에서 서버의 경로)   최상위 URLconf  \n",
        "```"
      ],
      "metadata": {
        "id": "Fr1K1qWEtk00"
      }
    },
    {
      "cell_type": "markdown",
      "source": [
        "- 최상위 URLconf\n",
        "  - /프로젝트폴더/프로젝터폴더/urls.py\n",
        "\n",
        "```\n",
        "urlpatterns = [\n",
        "    path('board/', include('board.urls')),\n",
        "    path('admin/', admin.site.urls),\n",
        "]\n",
        "```"
      ],
      "metadata": {
        "id": "2hL7RLDutzjY"
      }
    },
    {
      "cell_type": "markdown",
      "source": [
        "- 하위 URLconf\n",
        "\n",
        "```\n",
        "from . import views\n",
        "\n",
        "urlpatterns = [\n",
        "    path('', views.index ),\n",
        "]\n",
        "```"
      ],
      "metadata": {
        "id": "sQ4mZ3ESuJOE"
      }
    },
    {
      "cell_type": "markdown",
      "source": [
        "- views.py\n",
        "  - views에서는 간단하게 연결을 확인하기 위한 용도로 문자열을 응답으로 돌려주도록 설정\n",
        "\n",
        "```\n",
        "def index( request ):\n",
        "  return HttpResponse('연결이 완료되었습니다')\n",
        "```"
      ],
      "metadata": {
        "id": "ghmPJsaBuXib"
      }
    },
    {
      "cell_type": "markdown",
      "source": [
        "## views와 템플릿 연결"
      ],
      "metadata": {
        "id": "Kk9EafiiyfiJ"
      }
    },
    {
      "cell_type": "markdown",
      "source": [
        "- 템플릿 폴더 생성\n",
        "  - 템플릿을 구성하는 방법은 아래와 같습니다.\n",
        "  - /프로젝트폴더/앱폴더/templates/앱이름/file.html\n",
        "  - 장고는 템플릿 폴더에서 해당 앱 이름으로 파일을 찾게 됩니다. \n",
        "\n",
        "- views.py 설정 변경\n",
        "\n",
        "```\n",
        "def index( request ):\n",
        "  return render(request, 'board/list.html')\n",
        "```"
      ],
      "metadata": {
        "id": "GChnYidCuGsB"
      }
    },
    {
      "cell_type": "markdown",
      "source": [
        "## static\n",
        "- 정적파일관리\n",
        "  - 장고에서는 정적인 파일을 관리하는 통합된 환경을 제공\n",
        "  - CSS, 이미지들, 등이 정적인 파일에 속합니다."
      ],
      "metadata": {
        "id": "qXwD06wuy4N8"
      }
    },
    {
      "cell_type": "markdown",
      "source": [
        "### static 폴더 설정\n",
        "- settings.py\n",
        "\n",
        "```\n",
        "STATIC_URL = 'static/'\n",
        "\n",
        "# 아래처럼 static 폴더에 대한 경로를 설정\n",
        "STATICFILES_DIRS = [\n",
        "    BASE_DIR / 'static',\n",
        "]\n",
        "```\n",
        "\n",
        "- BASE_DIR은 `프로젝트폴더`가 됩니다. \n",
        "  - `프로젝트폴더`에 `static`폴더를 새로 하나 만들어 줍니다. \n",
        "  - `/프로젝트폴더/static`\n",
        "\n",
        "- 폴더가 생성되었으면 HTML에 필요한 CSS 파일을 해당 폴더로 복사해줍니다. "
      ],
      "metadata": {
        "id": "GvCQN9wbfNas"
      }
    },
    {
      "cell_type": "markdown",
      "source": [
        "### CSS 설정 \n",
        "- 템플릿 태그를 사용해서 지정된 `static` 폴더로부터 css 파일을 임포트 합니다. \n",
        "\n",
        "```\n",
        "    {% load static %}\n",
        "    <link type='text/css' rel='stylesheet' href='{% static \"bootstrap.min.css\" %}' />\n",
        "    <link type='text/css' rel='stylesheet' href='{% static \"bootstrap-theme.min.css\" %}' />\n",
        "    <link type='text/css' rel='stylesheet' href='{% static \"list.css\" %}' />\n",
        "```"
      ],
      "metadata": {
        "id": "rHg65JrJgn84"
      }
    },
    {
      "cell_type": "code",
      "execution_count": null,
      "metadata": {
        "id": "-jeuf6yrIM0P"
      },
      "outputs": [],
      "source": [
        ""
      ]
    }
  ]
}