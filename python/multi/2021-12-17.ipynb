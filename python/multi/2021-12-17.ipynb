{
  "nbformat": 4,
  "nbformat_minor": 0,
  "metadata": {
    "colab": {
      "name": "웹기초.ipynb",
      "provenance": [],
      "collapsed_sections": [],
      "toc_visible": true
    },
    "kernelspec": {
      "name": "python3",
      "display_name": "Python 3"
    },
    "language_info": {
      "name": "python"
    }
  },
  "cells": [
    {
      "cell_type": "markdown",
      "source": [
        "# 웹(WWW)이란? \n",
        "- World Wide Web\n",
        "- CERN\n",
        "  - 아주 유명한 물리연구소 입니다. \n",
        "  - `힉스입자`가 발견된 곳이에요\n",
        "  - 이 연구소에 웹의 시초가 개발이 됩니다. (by. 팀버너스리)\n",
        "    - 문서의 공유를 쉽게 하기 위해서 만든거에요(연구소 내에서)\n",
        "    - 만들고 보니 너무 괜찮은거에요 => 외부에 공개(세계 최초의 웹 페이지)\n",
        "    - [세계최초의 웹페이지](http://info.cern.ch)"
      ],
      "metadata": {
        "id": "kvvlf6k1miZd"
      }
    },
    {
      "cell_type": "markdown",
      "source": [
        "# 웹의 원래 목적은? \n",
        "- 문서를 쉽게 공유하기 위한 목적으로 제일 처음 만들어졌습니다. \n",
        "- 최초의 웹을 `Web 1.0` 이라고 표현하기도 합니다. \n",
        "  - 웹의 발전사에 따라서 `Web 2.0, 3.0, ... `등으로 표현을 합니다. \n",
        "  - 웹 1.0은 문서를 표현하는 **정적**인 웹 사이트\n",
        "  - 웹 2.0은 `자바스크립트`의 출현으로 정적인 페이지에서 동적인 페이지가 나오기 시작했던 시대를 얘기합니다. \n",
        "  - 웹 3.0을 `CGI(Common Gateway Interface)`이 기술이 나오기 시작한 시대\n",
        "    - 이때의 CGI 기술이 발전해서 지금의 `백엔드`가 됩니다.\n",
        "\n",
        "  - 3.0과 4.0 사이에 10년 이라는 시간이 존재\n",
        "    - 이 시간동안 웹 표준이 거의 변화가 없던 시절\n",
        "  - 웹 4.0은 HTML5 표준이 나온 시대\n",
        "    - `자바스크립트`가 표준 언어로 지정\n",
        "      - Vue, node, React, Angular, JQuery, ...\n",
        "      - 프론트엔드 수업은 자바스크립트로 된 라이브러리를 배우는 수업\n",
        "    - 문서만 표현할 있었던 HTML이 비디오를 포함한 이미지, 음악, 등도 같이 표현\n",
        "\n",
        "- 문서를 표현하던 웹 페이지가 현재는 어플리케이션을 대신하고 있습니다. "
      ],
      "metadata": {
        "id": "X4tdpuXSngQA"
      }
    },
    {
      "cell_type": "markdown",
      "source": [
        "# 웹의 동작 방식\n",
        "\n",
        "1. HTTP(Hyper-Text Transfer Protocol)\n",
        "  - HTML로 이루어진 `텍스트`를 네트워클 통해서 송/수신 하는 방법\n",
        "    - HTML로 이루어진 소스파일은 서버에 존재를 하고 \n",
        "    - 브라우저는 서버로부터 HTML 소스파일을 전송받아서 화면에 표현\n",
        "\n",
        "2. HTML(Hyper-Text Markup Language)\n",
        "  - 하이퍼-텍스트로 이루어진 소스코드\n",
        "    - 왜? 이름이 하이퍼-텍스트 인지는 모르겠어요\n",
        "    - 누군가는 하이퍼를 `지랄같다`라고 해석을 하기도 합니다.\n",
        "    - 즉, 하이퍼라는 단어가 큰 의미를 가지지는 않습니다. \n",
        "  - 마크업은?\n",
        "    - `<, >`로 이루어진 텍스트를 마크업 언어라고 합니다. \n",
        "\n",
        "- 프론트 엔드 Vs. 백엔드\n",
        "  - 어디서 실행되느냐 입니다. \n",
        "  - 프론트엔드\n",
        "    - 웹브라우저에서 실행되는 것을 의미합니다.(HTML, CSS, JavaScript)\n",
        "    - 그래서, 소스코드를 모두 다운로드 해서 브라우저가 실행\n",
        "    - 소스코드가 모두 공개됩니다. \n",
        "  - 백엔드\n",
        "    - 서버에서 실행되는 것을 의미합니다. \n",
        "    - 그래서 코드가 공개되어 있지 않습니다. \n",
        "    - 우리가 브라우저에서 확인할 수 있는 것은 서버에서 실행하고 난 후에 반환된 값을 보고 있는 겁니다. \n",
        "    - 자바의 스프링, 파이썬의 장고, 루비의 레일즈, ... "
      ],
      "metadata": {
        "id": "ipKf3rXRoxd1"
      }
    },
    {
      "cell_type": "markdown",
      "source": [
        "## HTTP\n",
        "- 네트워크 전송 규약\n",
        "  - 문자 프로토콜\n",
        "  - 하이퍼 텍스트를 주고 받기 위한 네트워크 표준\n",
        "- HTTP를 이해한다는 것은?\n",
        "  - 결국, 헤더에 대한 이해를 의미합니다. "
      ],
      "metadata": {
        "id": "ymWVRFV_uV4n"
      }
    },
    {
      "cell_type": "markdown",
      "source": [
        "### 소켓 프로그래밍\n",
        "- 네트워크를 통한 입/출력(통신)을 하기 위한 프로그래밍을 `소켓 프로그래밍` 이라고 합니다. \n",
        "  - `소켓`을 이용한 통신을 한다고 해서 붙여진 이름\n",
        "- 수업시간에는 `TCP socket`을 이용한 간단한 HTTP 통신을 실습"
      ],
      "metadata": {
        "id": "agbakzUqzHOc"
      }
    },
    {
      "cell_type": "code",
      "source": [
        "import socket\n",
        "\n",
        "# 네트워크 통신을 하기 위한 소켓 객체를 생성\n",
        "# IPv4를 이용한 TCP 통신용 소켓\n",
        "# 이렇게 생성된 소켓 객체를 통해서 서버와 통신(입/출력)을 할 수 있습니다. \n",
        "sock = socket.socket( socket.AF_INET, socket.SOCK_STREAM )\n",
        "print('DEBUG:::소켓 생성 완료')\n",
        "\n",
        "# 파일 입/출력 할 때 open을 통해서 입/출력 하기 위한 파일 객체를 얻어온 것 처럼\n",
        "# 통신(입/출력)하기 위한 서버 객체를 생성\n",
        "# 소켓 프로그래밍 에서는 connect()를 통해서 통신 하기위한 서버의 객체를 얻어올 수 있습니다. \n",
        "# 생성된 객체를 통해서 입/출력(통신)\n",
        "\n",
        "# 읽거나 쓰기 위한 파일의 경로와 유사\n",
        "# 통신하기 위한 네트워크 상의 경로 정도로 이해\n",
        "serverAddress = socket.gethostbyname('info.cern.ch')\n",
        "serverPort = 80\n",
        "\n",
        "# 오픈하기 위한 서버의 경로는 튜플로 전달\n",
        "sock.connect( (serverAddress, serverPort) )\n",
        "print('DEBUG:::connect 완료')\n",
        "\n",
        "# 서버에 HTML 코드를 요청 => Request Header\n",
        "# 대/소문자 띄어쓰기 잘 확인해야 합니다. \n",
        "request_header = 'GET /index.html HTTP/1.1\\r\\n'\n",
        "request_header += 'Host: info.cern.ch\\r\\n'\n",
        "request_header += '\\r\\n'\n",
        "\n",
        "# 요청대로 처리가 되어서 HTML 코드가 잘 다운로드 되는지 확인해봅니다. \n",
        "sock.send( request_header.encode() )\n",
        "response = sock.recv(1024)\n",
        "print( response.decode() )\n",
        "\n",
        "# 생성된 소켓을 닫아줍니다.\n",
        "sock.close()"
      ],
      "metadata": {
        "id": "YflNfoukzhfr"
      },
      "execution_count": null,
      "outputs": []
    },
    {
      "cell_type": "markdown",
      "source": [
        "### Request Header\n",
        "\n",
        "```\n",
        "GET /index.html HTTP/1.1\\r\\n\n",
        "Host: info.cern.ch\\n\\n\n",
        "\\r\\n\n",
        "```"
      ],
      "metadata": {
        "id": "lwI2sIBuFFC1"
      }
    },
    {
      "cell_type": "markdown",
      "source": [
        "#### 요청 헤더 구성\n",
        "\n",
        "```\n",
        "GET /index.html HTTP/1.1\\r\\n\n",
        "-----------------------------\n",
        "star-line(request-line)CRLF\n",
        "\n",
        "Host: info.cern.ch\\r\\n\n",
        "-----------------------------\n",
        "헤더 필드: *\n",
        "\n",
        "\\r\\n\n",
        "----\n",
        "헤더의 끝을 의미\n",
        "```\n",
        "\n",
        "- HTTP 헤더에서 `CRLF`는 구분자 입니다. \n",
        "  - 라인과 라인, 필드와 필드를 구분해주는 구분자의 역할\n",
        "- 헤더필드는 서버와의 통신에 필요한 여러가지 정보를 표현\n",
        "  - 예제에서는 `Host`변수 하나만 사용을 했는데 \n",
        "  - 더 많은 변수를 사용할 수 있습니다. "
      ],
      "metadata": {
        "id": "YMu_03dqFQoU"
      }
    },
    {
      "cell_type": "markdown",
      "source": [
        "#### request-line\n",
        "\n",
        "```\n",
        "    GET     SP    /index.html     SP    HTTP/1.1     \\r\\n\n",
        "  -------       --------------       -------------  -------\n",
        "  method          url(URI)           protocol ver     sep\n",
        "```\n",
        "\n",
        "- 3개의 필드로 구성\n",
        "  - 각 필드의 구분자는 `SP(공백)` 입니다.\n",
        "\n",
        "- method\n",
        "  - [위키 참조](https://ko.wikipedia.org/wiki/HTTP)\n",
        "  - [나무위키 참조](https://namu.wiki/w/HTTP)\n",
        "\n",
        "- URL/URI\n",
        "  - Uniform Resource Locator\n",
        "    - 네트워크상에서 접근하려는 리소스(파일)의 경로 정도로 이해\n",
        "  - Uniform Resource Identifier\n",
        "    - 동일한 경로 표현이기는 한데 정확한 파일의 정보는 노출이 되지 않음\n",
        "    - 일반적으로 식별번호를 이용하면, 백엔드에서 그에 맞는 정보를 반환"
      ],
      "metadata": {
        "id": "fJiSIQMMJWK7"
      }
    },
    {
      "cell_type": "markdown",
      "source": [
        "메소드 테스트"
      ],
      "metadata": {
        "id": "4M1vZ0DHZtC1"
      }
    },
    {
      "cell_type": "code",
      "source": [
        "import socket\n",
        "\n",
        "serverAddress = socket.gethostbyname('info.cern.ch')\n",
        "serverPort = 80\n",
        "\n",
        "sock = socket.socket( socket.AF_INET, socket.SOCK_STREAM )\n",
        "sock.connect( (serverAddress, serverPort) )\n",
        "\n",
        "method = 'GET' # GET 대신에 HEAD, OPTIONS로 바꿔보고 응답을 확인해봅시다 \n",
        "request_header = f'{method} /index.html HTTP/1.1\\r\\n'\n",
        "request_header += 'Host: info.cern.ch\\r\\n'\n",
        "request_header += '\\r\\n'\n",
        "\n",
        "sock.send( request_header.encode() )\n",
        "response = sock.recv(1024)\n",
        "print( response.decode() )\n",
        "\n",
        "sock.close()"
      ],
      "metadata": {
        "id": "oLun1rVPJcJ5"
      },
      "execution_count": null,
      "outputs": []
    },
    {
      "cell_type": "markdown",
      "source": [
        "### Response Header\n",
        "\n",
        "```\n",
        "HTTP/1.1 200 OK\n",
        "Date: Fri, 17 Dec 2021 08:06:35 GMT\n",
        "Server: Apache\n",
        "Last-Modified: Wed, 05 Feb 2014 16:00:31 GMT\n",
        "ETag: \"286-4f1aadb3105c0\"\n",
        "Accept-Ranges: bytes\n",
        "Content-Length: 646\n",
        "Connection: close\n",
        "Content-Type: text/html\n",
        "```"
      ],
      "metadata": {
        "id": "bj4XETehbbbz"
      }
    },
    {
      "cell_type": "markdown",
      "source": [
        "#### 응답 헤더 구성\n",
        "\n",
        "```\n",
        "HTTP/1.1 200 OK\\r\\n\n",
        "----------------\n",
        "start-line(response-line)CRLF\n",
        "\n",
        "Date: Fri, 17 Dec 2021 08:06:35 GMT\\r\\n\n",
        "Server: Apache\\r\\n\n",
        "Last-Modified: Wed, 05 Feb 2014 16:00:31 GMT\\r\\n\n",
        "ETag: \"286-4f1aadb3105c0\"\\r\\n\n",
        "Accept-Ranges: bytes\\r\\n\n",
        "Content-Length: 646\\r\\n\n",
        "Connection: close\\r\\n\n",
        "Content-Type: text/html\\r\\n\n",
        "-----------------------------------------------\n",
        "header-field: *\n",
        "\n",
        "\\r\\n\n",
        "----\n",
        "헤더의 끝\n",
        "```"
      ],
      "metadata": {
        "id": "JG3Jz2afbmCz"
      }
    },
    {
      "cell_type": "markdown",
      "source": [
        "#### response-line\n",
        "- 클라이언트의 요청에 대한 처리 결과\n",
        "\n",
        "\n",
        "```\n",
        "      HTTP/1.1     SP    200     SP    OK\\r\\n\n",
        "    ------------       -------       -----------\n",
        "    protocol ver     status code    status string\n",
        "```\n",
        "\n",
        "- request-line과 마찬가지로 3개의 필드로 구성\n",
        "  - 각 필드의 구분자는 `SP(공백)`입니다. \n",
        "\n",
        "- 상태코드\n",
        "  - [위키 참조](https://ko.wikipedia.org/wiki/HTTP_%EC%83%81%ED%83%9C_%EC%BD%94%EB%93%9C)\n",
        "  - [나무위키 참조](https://namu.wiki/w/HTTP/%EC%9D%91%EB%8B%B5%20%EC%BD%94%EB%93%9C)\n",
        "\n",
        "  - 1XX: 거의 볼 일이 없기는 합니다.\n",
        "  - 2XX: 서버가 요청을 수락했음을 의미\n",
        "    - 200 OK: 클라이언트 요청을 수락했고 처리가 잘 되었음을 의미\n",
        "  - 3XX: 요청에는 문제가 없지만, 요청에 대한 optional한 처리\n",
        "    - 304 Not Modified: 요청한 리소스가 변경되지 않았음을 의미\n",
        "    - 301, 302는 리디렉션(Redirection)과 관련\n",
        "      - 영구이동, 임시이동\n",
        "      - 지금 요청한 리소스의 위치가 바뀐 경우\n",
        "      - 301과 302는 리소스의 새로운 위치를 알려준다. \n",
        "  - 4XX: 클라이언트 요청 오류(요청에 문제가 있는 경우)\n",
        "    - 400 Bad Request: 오탈자, 없는 리소스\n",
        "    - 401 Unauthorized, 403 Forbidden\n",
        "      - 둘 다 권한과 관련된 오류\n",
        "      - 401은 인증키가 없는 경우에 \n",
        "      - 403은 해당 리소스에 대한 접근 권한이 없는 경우\n",
        "    - 404 Not Found: 리소스를 찾을 수 없는 경우\n",
        "  - 5XX: 서버 에러(요청을 처리하다가 서버에서 오류가 발생한 경우)\n",
        "    - 500 Internel Server Error\n",
        "      - 예를 들면 파이썬 코드에서 문제가 발생하는 경우"
      ],
      "metadata": {
        "id": "BGLSM1gzcRA8"
      }
    }
  ]
}