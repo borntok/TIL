{
 "cells": [
  {
   "cell_type": "code",
   "execution_count": 3,
   "id": "6e6ca723",
   "metadata": {},
   "outputs": [
    {
     "name": "stdout",
     "output_type": "stream",
     "text": [
      "5050\n",
      "-5050\n"
     ]
    }
   ],
   "source": [
    "def get_sum(start, end) :\n",
    "    summation = 0\n",
    "    for i in range(start, end+1):\n",
    "        summation += i\n",
    "    return summation\n",
    "\n",
    "print(get_sum(1, 100))\n",
    "print(get_sum(-100, -1))"
   ]
  },
  {
   "cell_type": "code",
   "execution_count": 7,
   "id": "d473c51d",
   "metadata": {},
   "outputs": [
    {
     "name": "stdout",
     "output_type": "stream",
     "text": [
      "1024\n"
     ]
    }
   ],
   "source": [
    "# x**y 함수\n",
    "\n",
    "def power(x, y):\n",
    "    result = 1\n",
    "    for i in range(y):\n",
    "        result *= x\n",
    "    return result\n",
    "\n",
    "print(power(2, 10))"
   ]
  },
  {
   "cell_type": "code",
   "execution_count": 8,
   "id": "c8ef4ae8",
   "metadata": {},
   "outputs": [
    {
     "name": "stdout",
     "output_type": "stream",
     "text": [
      "100\n"
     ]
    }
   ],
   "source": [
    "def main():\n",
    "    print(power(10, 2))\n",
    "    \n",
    "def power(x, y):\n",
    "    result = 1\n",
    "    for i in range(y):\n",
    "        result *= x\n",
    "    return result\n",
    "\n",
    "main()"
   ]
  },
  {
   "cell_type": "code",
   "execution_count": 11,
   "id": "6838b60d",
   "metadata": {},
   "outputs": [
    {
     "name": "stdout",
     "output_type": "stream",
     "text": [
      "정수를 입력하시오: 11\n",
      "11! = 39916800\n"
     ]
    }
   ],
   "source": [
    "# 도전문제(200p)\n",
    "\n",
    "def factorial(n):\n",
    "    facto = 1\n",
    "    for x in range(1, n+1):\n",
    "        facto *= x\n",
    "    return facto\n",
    "\n",
    "n = int(input(\"정수를 입력하시오: \"))\n",
    "f = factorial(n)\n",
    "print(\"%d! = %d\" % (n,f))"
   ]
  },
  {
   "cell_type": "code",
   "execution_count": 14,
   "id": "424a57e4",
   "metadata": {},
   "outputs": [
    {
     "name": "stdout",
     "output_type": "stream",
     "text": [
      "생일자의 이름 입력하세요: 찬양\n",
      "생일 축하 합니다~\n",
      "생일 축하 합니다~\n",
      "사랑하는 찬양의~ 생일 축하 합니다~\n"
     ]
    }
   ],
   "source": [
    "# 생일 축하 함수(201p)\n",
    "\n",
    "def happyBirthday(x):\n",
    "    print(\"생일 축하 합니다~\")\n",
    "    print(\"생일 축하 합니다~\")\n",
    "    print(\"사랑하는 %s의~ 생일 축하 합니다~\" % x)\n",
    "\n",
    "name = input(\"생일자의 이름 입력하세요: \")\n",
    "happyBirthday(name)"
   ]
  },
  {
   "cell_type": "code",
   "execution_count": 16,
   "id": "f176b023",
   "metadata": {},
   "outputs": [
    {
     "name": "stdout",
     "output_type": "stream",
     "text": [
      "화씨 온도를 입력하시오: 32\n",
      "섭씨: 0.0\n"
     ]
    }
   ],
   "source": [
    "# 온도 변환 함수(202p)\n",
    "\n",
    "def FtoC(temp_f):\n",
    "    temp_c = (5.0 * (temp_f - 32.0)) / 9.0\n",
    "    return temp_c\n",
    "\n",
    "temp_f = float(input(\"화씨 온도를 입력하시오: \"))\n",
    "print(\"섭씨:\", FtoC(temp_f))"
   ]
  },
  {
   "cell_type": "code",
   "execution_count": 89,
   "id": "1bf2dd83",
   "metadata": {},
   "outputs": [
    {
     "data": {
      "text/plain": [
       "False"
      ]
     },
     "execution_count": 89,
     "metadata": {},
     "output_type": "execute_result"
    }
   ],
   "source": [
    "# 소수 찾기(203p)\n",
    "\n",
    "def is_prime(n):\n",
    "    for i in range(2, n):\n",
    "        if n % i == 0 :\n",
    "            return False\n",
    "    return True\n",
    "\n",
    "is_prime(9)"
   ]
  },
  {
   "cell_type": "code",
   "execution_count": 85,
   "id": "d7986e44",
   "metadata": {},
   "outputs": [
    {
     "name": "stdout",
     "output_type": "stream",
     "text": [
      "2 3 5 7 11 13 17 19 23 29 31 37 41 43 47 53 59 61 67 71 73 79 83 89 97 None\n"
     ]
    }
   ],
   "source": [
    "# 도전문제(203p)\n",
    "\n",
    "def primeNumber(number):\n",
    "    for i in range(1, number):\n",
    "        count = 0\n",
    "        for j in range(1, i+1):\n",
    "            if i % j == 0:\n",
    "                count += 1\n",
    "        if count == 2:\n",
    "            print(i, end=\" \")\n",
    "\n",
    "print(primeNumber(100))"
   ]
  },
  {
   "cell_type": "code",
   "execution_count": 3,
   "id": "bfe78207",
   "metadata": {},
   "outputs": [
    {
     "name": "stdout",
     "output_type": "stream",
     "text": [
      "구의 반지름을 입력하시오: 10\n",
      "4188.790204786391\n"
     ]
    }
   ],
   "source": [
    "# 구의 부피 계산(207p)\n",
    "\n",
    "import math\n",
    "\n",
    "def sphereVloume(r) :\n",
    "    V = (4/3)*math.pi*(r**3)\n",
    "    return V\n",
    "    \n",
    "r = float(input(\"구의 반지름을 입력하시오: \"))\n",
    "print(sphereVloume(r))"
   ]
  },
  {
   "cell_type": "code",
   "execution_count": 16,
   "id": "2b763eef",
   "metadata": {},
   "outputs": [
    {
     "name": "stdout",
     "output_type": "stream",
     "text": [
      "구의 반지름을 입력하시오: 10\n",
      "구의 반지름을 입력하시오: 20\n",
      "반지름이 20.000000인 구의 부피가 더 큽니다.\n"
     ]
    }
   ],
   "source": [
    "# 도전문제(207p)\n",
    "\n",
    "import math\n",
    "\n",
    "def sphereVloumeCompare(r1, r2) :\n",
    "    V1 = (4/3)*math.pi*(r1**3)\n",
    "    V2 = (4/3)*math.pi*(r2**3)\n",
    "\n",
    "    if V1 > V2:\n",
    "        print(\"반지름이 %f인 구의 부피가 더 큽니다.\" % r1)\n",
    "    elif V1 < V2:\n",
    "        print(\"반지름이 %f인 구의 부피가 더 큽니다.\" % r2)\n",
    "    else :\n",
    "        print(\"두 구의 부피가 같습니다.\")\n",
    "    \n",
    "r1 = float(input(\"구의 반지름을 입력하시오: \"))\n",
    "r2 = float(input(\"구의 반지름을 입력하시오: \"))\n",
    "\n",
    "sphereVloumeCompare(r1,r2)"
   ]
  },
  {
   "cell_type": "code",
   "execution_count": 19,
   "id": "1260592e",
   "metadata": {},
   "outputs": [
    {
     "name": "stdout",
     "output_type": "stream",
     "text": [
      "7px72n\n",
      "bxfqfi\n",
      "olec1q\n"
     ]
    }
   ],
   "source": [
    "# 패스워드 생성기(208p)\n",
    "\n",
    "import random\n",
    "\n",
    "def genPass():\n",
    "    letter = 'abcdefghijklmnopqrstuvwxyz0123456789'\n",
    "    password = ''\n",
    "    \n",
    "    for i in range(6):\n",
    "        index = random.randrange(len(letter))\n",
    "        password += letter[index]\n",
    "    return password\n",
    "\n",
    "print(genPass())\n",
    "print(genPass())\n",
    "print(genPass())"
   ]
  },
  {
   "cell_type": "code",
   "execution_count": 23,
   "id": "34940124",
   "metadata": {},
   "outputs": [
    {
     "name": "stdout",
     "output_type": "stream",
     "text": [
      "dfQ3qx\n",
      "jFFKWX\n",
      "0NQAFd\n"
     ]
    }
   ],
   "source": [
    "# 도전문제1(208p)\n",
    "\n",
    "def genPass():\n",
    "    letter = 'abcdefghijklmnopqrstuvwxyzABCDEFGHIJKLMNOPQRSTUVWXYZ0123456789'\n",
    "    password = ''\n",
    "    \n",
    "    for i in range(6):\n",
    "        index = random.randrange(len(letter))\n",
    "        password += letter[index]\n",
    "    return password\n",
    "\n",
    "print(genPass())\n",
    "print(genPass())\n",
    "print(genPass())"
   ]
  },
  {
   "cell_type": "code",
   "execution_count": 28,
   "id": "0e763f91",
   "metadata": {},
   "outputs": [
    {
     "name": "stdout",
     "output_type": "stream",
     "text": [
      "0pwkME\n",
      "6GxJH2\n",
      "2sBfx2\n"
     ]
    }
   ],
   "source": [
    "# 도전문제2(208P)\n",
    "\n",
    "def genPass():\n",
    "    letter = 'abcdefghijklmnopqrstuvwxyzABCDEFGHIJKLMNOPQRSTUVWXYZ0123456789'\n",
    "    password = ''\n",
    "    password += str(random.randint(0, 9))\n",
    "    \n",
    "    for i in range(5):\n",
    "        index = random.randrange(len(letter))\n",
    "        password += letter[index]\n",
    "    return password\n",
    "\n",
    "print(genPass())\n",
    "print(genPass())\n",
    "print(genPass())"
   ]
  },
  {
   "cell_type": "code",
   "execution_count": 31,
   "id": "6b505827",
   "metadata": {
    "scrolled": true
   },
   "outputs": [
    {
     "name": "stdout",
     "output_type": "stream",
     "text": [
      "610\n"
     ]
    }
   ],
   "source": [
    "#키워드 인수 연습(214p)\n",
    "\n",
    "class Caculation :\n",
    "\n",
    "    def add(a, b):\n",
    "        return a + b\n",
    "    \n",
    "    def sub(a, b):\n",
    "        return a - b\n",
    "\n",
    "    def mul(a, b):\n",
    "        return a * b\n",
    "    \n",
    "    def div(a, b):\n",
    "        return a / b\n",
    "    \n",
    "r1 = Caculation.mul(20, 30)\n",
    "r2 = Caculation.add(10, r1)\n",
    "\n",
    "print(r2)"
   ]
  },
  {
   "cell_type": "code",
   "execution_count": 33,
   "id": "a9f1eebe",
   "metadata": {},
   "outputs": [
    {
     "name": "stdout",
     "output_type": "stream",
     "text": [
      " 'c' 섭씨온도에서 화씨온도로 변환\n",
      " 'f' 화씨온도에서 섭씨온도로 변환\n",
      " 'q' 종료\n",
      "메뉴에서 선택하세요.q\n",
      "종료 되었습니다.\n"
     ]
    }
   ],
   "source": [
    "# 온도변환기(215p)\n",
    "\n",
    "def printOption():\n",
    "    print(\" 'c' 섭씨온도에서 화씨온도로 변환\")\n",
    "    print(\" 'f' 화씨온도에서 섭씨온도로 변환\")\n",
    "    print(\" 'q' 종료\")\n",
    "    \n",
    "def C2F(c_temp):\n",
    "    return (9/5) * c_temp + 32\n",
    "\n",
    "def F2C(f_temp):\n",
    "    return (f_temp - 32) * 5/9\n",
    "\n",
    "\n",
    "printOption()\n",
    "choice = input(\"메뉴에서 선택하세요.\")\n",
    "\n",
    "while choice != 'q':\n",
    "    if choice == 'c':\n",
    "        temp = float(input(\"섭씨온도: \"))\n",
    "        print(\"화씨온도: \", C2F(temp))\n",
    "    elif choice == 'f':\n",
    "        temp = float(input(\"화씨온도: \"))\n",
    "        print(\"섭씨온도: \", F2C(temp))\n",
    "    printOption()\n",
    "    choice = input(\"메뉴에서 선택하세요.\")\n",
    "    \n",
    "print(\"종료 되었습니다.\")"
   ]
  },
  {
   "cell_type": "code",
   "execution_count": 37,
   "id": "75c655e8",
   "metadata": {},
   "outputs": [
    {
     "name": "stdout",
     "output_type": "stream",
     "text": [
      "직사각형의 가로: 10\n",
      "직사각형의 세로: -5\n",
      "양수를 입력하시오: 5\n",
      "면적= 50\n"
     ]
    }
   ],
   "source": [
    "# 입력검증(216p)\n",
    "\n",
    "def area(w, h):\n",
    "    return w * h\n",
    "\n",
    "def input_pos(msg):\n",
    "    value = int(input(msg))\n",
    "    while value <= 0 :\n",
    "        value = int(input(\"양수를 입력하시오: \"))\n",
    "    return value\n",
    "        \n",
    "width = input_pos('직사각형의 가로: ')\n",
    "height = input_pos('직사각형의 세로: ')\n",
    "\n",
    "print(\"면적=\", area(width, height))"
   ]
  },
  {
   "cell_type": "code",
   "execution_count": 38,
   "id": "fbd414f8",
   "metadata": {},
   "outputs": [
    {
     "name": "stdout",
     "output_type": "stream",
     "text": [
      "사과가 좋음!\n",
      "바나나가 좋음!\n",
      "바나나가 좋음!\n"
     ]
    }
   ],
   "source": [
    "def sub():\n",
    "    global s\n",
    "    print(s)\n",
    "    s = \"바나나가 좋음!\"\n",
    "    print(s)\n",
    "    \n",
    "s = \"사과가 좋음!\"\n",
    "sub()\n",
    "print(s)"
   ]
  },
  {
   "cell_type": "code",
   "execution_count": 39,
   "id": "43cb9b3e",
   "metadata": {},
   "outputs": [
    {
     "name": "stdout",
     "output_type": "stream",
     "text": [
      "7 3 4 3\n",
      "7 2 3 4\n"
     ]
    }
   ],
   "source": [
    "def sub(x, y):\n",
    "    global a\n",
    "    a = 7\n",
    "    x, y = y, x\n",
    "    b = 3\n",
    "    print(a, b, x, y)\n",
    "    \n",
    "a,b,x,y = 1,2,3,4\n",
    "sub(x, y)\n",
    "print(a, b, x, y)"
   ]
  }
 ],
 "metadata": {
  "kernelspec": {
   "display_name": "Python 3 (ipykernel)",
   "language": "python",
   "name": "python3"
  },
  "language_info": {
   "codemirror_mode": {
    "name": "ipython",
    "version": 3
   },
   "file_extension": ".py",
   "mimetype": "text/x-python",
   "name": "python",
   "nbconvert_exporter": "python",
   "pygments_lexer": "ipython3",
   "version": "3.10.0"
  }
 },
 "nbformat": 4,
 "nbformat_minor": 5
}
