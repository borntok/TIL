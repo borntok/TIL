{
 "cells": [
  {
   "cell_type": "code",
   "execution_count": 1,
   "id": "e8d0be25",
   "metadata": {},
   "outputs": [
    {
     "name": "stdout",
     "output_type": "stream",
     "text": [
      "어디까지 계산할까요?: 10\n",
      "1부터 10 까지의 정수의 합= 55\n"
     ]
    }
   ],
   "source": [
    "# 정수들의 합(153p)\n",
    "\n",
    "limit = int(input(\"어디까지 계산할까요?: \"))\n",
    "summ = 0\n",
    "\n",
    "for i in range(1, limit+1) :\n",
    "    summ += i\n",
    "print(\"1부터\",limit,\"까지의 정수의 합=\",summ)"
   ]
  },
  {
   "cell_type": "code",
   "execution_count": 3,
   "id": "80db8c2b",
   "metadata": {},
   "outputs": [
    {
     "name": "stdout",
     "output_type": "stream",
     "text": [
      "자연수를 입력하시오: 9\n",
      "9 !은 362880 이다.\n"
     ]
    }
   ],
   "source": [
    "# 팩토리얼 계산하기(154p)\n",
    "\n",
    "number = int(input(\"자연수를 입력하시오: \"))\n",
    "fact = 1\n",
    "\n",
    "for i in range(1, number+1) :\n",
    "    fact = fact * i\n",
    "print(number,\"!은\", fact,\"이다.\")"
   ]
  },
  {
   "cell_type": "code",
   "execution_count": 8,
   "id": "30eaa94c",
   "metadata": {},
   "outputs": [
    {
     "name": "stdout",
     "output_type": "stream",
     "text": [
      "초기 숫자를 입력하시오: 10\n",
      "10 9 8 7 6 5 4 3 2 1 발사\n"
     ]
    }
   ],
   "source": [
    "# 카운트 다운 프로그램(155p)\n",
    "\n",
    "number = int(input(\"초기 숫자를 입력하시오: \"))\n",
    "\n",
    "for i in range(number, 0, -1) :\n",
    "    print(i, end = \" \")\n",
    "print(\"발사\")"
   ]
  },
  {
   "cell_type": "code",
   "execution_count": 10,
   "id": "43a969d2",
   "metadata": {},
   "outputs": [
    {
     "name": "stdout",
     "output_type": "stream",
     "text": [
      "0 -> -17.78\n",
      "10 -> -12.22\n",
      "20 -> -6.67\n",
      "30 -> -1.11\n",
      "40 -> 4.44\n",
      "50 -> 10.0\n",
      "60 -> 15.56\n",
      "70 -> 21.11\n",
      "80 -> 26.67\n",
      "90 -> 32.22\n",
      "100 -> 37.78\n"
     ]
    }
   ],
   "source": [
    "# 온도 변환 테이블 출력(156p)\n",
    "\n",
    "for i in range(0,101,10):\n",
    "    c = (i - 32) * (5/9)\n",
    "    print(i, \"->\", round(c,2))"
   ]
  },
  {
   "cell_type": "code",
   "execution_count": 12,
   "id": "9bbc13bf",
   "metadata": {},
   "outputs": [
    {
     "name": "stdout",
     "output_type": "stream",
     "text": [
      "0 1 2 3 4 5 6 7 8 9 "
     ]
    }
   ],
   "source": [
    "# 0부터 9까지 출력하기(165p)\n",
    "\n",
    "i = 0\n",
    "while i < 10 :\n",
    "    print(i, end=\" \")\n",
    "    i += 1"
   ]
  },
  {
   "cell_type": "code",
   "execution_count": 21,
   "id": "255f1fb5",
   "metadata": {},
   "outputs": [
    {
     "name": "stdout",
     "output_type": "stream",
     "text": [
      "자연수를 입력하시오: 20\n",
      "0->1->2->3->4->5->6->7->8->9->10->11->12->13->14->15->16->17->18->19->"
     ]
    }
   ],
   "source": [
    "# 도전문제(165p)\n",
    "\n",
    "i = 0\n",
    "num = int(input(\"자연수를 입력하시오: \"))\n",
    "while i < num :\n",
    "    print(i, end='->')\n",
    "    i += 1"
   ]
  },
  {
   "cell_type": "code",
   "execution_count": 24,
   "id": "64cf81a2",
   "metadata": {},
   "outputs": [
    {
     "name": "stdout",
     "output_type": "stream",
     "text": [
      "합계= 55\n"
     ]
    }
   ],
   "source": [
    "#(1+2+3+...+9+10) 계산하기(166p)\n",
    "i = 1\n",
    "_sum = 0\n",
    "\n",
    "while i < 11 :\n",
    "    _sum += i\n",
    "    i += 1\n",
    "print(\"합계=\", _sum)"
   ]
  },
  {
   "cell_type": "code",
   "execution_count": 26,
   "id": "1bcea5fb",
   "metadata": {},
   "outputs": [
    {
     "name": "stdout",
     "output_type": "stream",
     "text": [
      "팩토리얼을 계산 합니다. 수를 입력하시오: 10\n",
      "10 !은 3628800 입니다.\n"
     ]
    }
   ],
   "source": [
    "# 팩토리얼 계산(167p)\n",
    "\n",
    "i = 1\n",
    "fact = 1\n",
    "num = (int(input(\"팩토리얼을 계산 합니다. 수를 입력하시오: \")))\n",
    "\n",
    "while i < num+1 :\n",
    "    fact = fact * i\n",
    "    i += 1\n",
    "print(num,\"!은\", fact,\"입니다.\")"
   ]
  },
  {
   "cell_type": "code",
   "execution_count": 29,
   "id": "0e6eaa67",
   "metadata": {},
   "outputs": [
    {
     "name": "stdout",
     "output_type": "stream",
     "text": [
      "3*1 = 3\n",
      "3*2 = 6\n",
      "3*3 = 9\n",
      "3*4 = 12\n",
      "3*5 = 15\n",
      "3*6 = 18\n",
      "3*7 = 21\n",
      "3*8 = 24\n",
      "3*9 = 27\n"
     ]
    }
   ],
   "source": [
    "# 구구단 출력(168p)\n",
    "\n",
    "i = 1\n",
    "while i < 10 :\n",
    "    print(\"3*%d = %d\" % (i, 3*i))\n",
    "    i += 1"
   ]
  },
  {
   "cell_type": "code",
   "execution_count": 33,
   "id": "afc0ed6d",
   "metadata": {},
   "outputs": [
    {
     "name": "stdout",
     "output_type": "stream",
     "text": [
      "단: 5\n",
      "5 * 1 = 5\n",
      "5 * 2 = 10\n",
      "5 * 3 = 15\n",
      "5 * 4 = 20\n",
      "5 * 5 = 25\n",
      "5 * 6 = 30\n",
      "5 * 7 = 35\n",
      "5 * 8 = 40\n",
      "5 * 9 = 45\n"
     ]
    }
   ],
   "source": [
    "# 도전문제(168p)\n",
    "\n",
    "i = 1\n",
    "j = int(input(\"단: \"))\n",
    "while i < 10 :\n",
    "    print(j,\"* %d = %d\" % (i, j*i))\n",
    "    i += 1"
   ]
  },
  {
   "cell_type": "code",
   "execution_count": 34,
   "id": "ee532104",
   "metadata": {},
   "outputs": [
    {
     "name": "stdout",
     "output_type": "stream",
     "text": [
      "기간:  15\n",
      "총액:  2078.928179411367\n"
     ]
    }
   ],
   "source": [
    "# 투자 금액 계산하기(169p)\n",
    "\n",
    "balance = 1000\n",
    "year = 0\n",
    "\n",
    "while balance < 2000 :\n",
    "    year += 1\n",
    "    balance += balance * 0.05\n",
    "    \n",
    "print(\"기간: \", year)\n",
    "print(\"총액: \", balance)"
   ]
  },
  {
   "cell_type": "code",
   "execution_count": 36,
   "id": "d12b8ffc",
   "metadata": {},
   "outputs": [
    {
     "name": "stdout",
     "output_type": "stream",
     "text": [
      "이자율을 입력하시오: 0.017\n",
      "기간:  42\n",
      "총액:  2029.9251425644532\n"
     ]
    }
   ],
   "source": [
    "# 도전문제(169p)\n",
    "\n",
    "balance = 1000\n",
    "year = 0\n",
    "r = float(input(\"이자율을 입력하시오: \"))\n",
    "\n",
    "while balance < 2000 :\n",
    "    year += 1\n",
    "    balance += balance * r\n",
    "    \n",
    "print(\"기간: \", year)\n",
    "print(\"총액: \", balance)"
   ]
  },
  {
   "cell_type": "code",
   "execution_count": 39,
   "id": "75de2231",
   "metadata": {},
   "outputs": [
    {
     "name": "stdout",
     "output_type": "stream",
     "text": [
      "양의 정수를 입력하시오: 777\n",
      "자리수의 합은 21입니다.\n"
     ]
    }
   ],
   "source": [
    "# 자리수의 합(170p)\n",
    "\n",
    "number = int(input(\"양의 정수를 입력하시오: \"))\n",
    "_sum = 0\n",
    "\n",
    "while number > 0 :\n",
    "    digit = number % 10\n",
    "    _sum += digit\n",
    "    number = number // 10\n",
    "print(\"자리수의 합은 %d입니다.\" % _sum)"
   ]
  },
  {
   "cell_type": "code",
   "execution_count": 3,
   "id": "934fe41e",
   "metadata": {},
   "outputs": [
    {
     "name": "stdout",
     "output_type": "stream",
     "text": [
      "1부터 100 사이의 모든 3의 배수의 합은 1683입니다.\n"
     ]
    }
   ],
   "source": [
    "# 도전문제(170p)\n",
    "\n",
    "number = 0\n",
    "i = 1\n",
    "\n",
    "while i < 101 :\n",
    "    if i % 3 == 0 :\n",
    "        number += i\n",
    "        i += 1\n",
    "    else :\n",
    "        i += 1\n",
    "\n",
    "print(\"1부터 100 사이의 모든 3의 배수의 합은 %d입니다.\" % number)"
   ]
  },
  {
   "cell_type": "code",
   "execution_count": 10,
   "id": "7019e2b7",
   "metadata": {},
   "outputs": [
    {
     "name": "stdout",
     "output_type": "stream",
     "text": [
      "정수를 입력하시오(큰수): 50\n",
      "정수를 입력하시오(작은수): 15\n",
      "최대 공약수는 5입니다.\n"
     ]
    }
   ],
   "source": [
    "# 최대 공약수 계산하기(171p)\n",
    "\n",
    "x = int(input(\"정수를 입력하시오(큰수): \"))\n",
    "y = int(input(\"정수를 입력하시오(작은수): \"))\n",
    "\n",
    "while y != 0 :\n",
    "    r = x % y\n",
    "    x, y = y, r\n",
    "print(\"최대 공약수는 %d입니다.\" % x)"
   ]
  },
  {
   "cell_type": "code",
   "execution_count": 11,
   "id": "acb2792f",
   "metadata": {},
   "outputs": [
    {
     "name": "stdout",
     "output_type": "stream",
     "text": [
      "종료하려면 음수를 입력하시오\n",
      "성적을 입력하시오: 80\n",
      "성적을 입력하시오: 40\n",
      "성적을 입력하시오: 0\n",
      "성적을 입력하시오: 75\n",
      "성적을 입력하시오: -1\n",
      "성적의 평균은 48입니다.\n"
     ]
    }
   ],
   "source": [
    "n = 0\n",
    "sum1 = 0\n",
    "score = 0\n",
    "\n",
    "print(\"종료하려면 음수를 입력하시오\")\n",
    "\n",
    "while score >= 0 :\n",
    "    score = int(input(\"성적을 입력하시오: \"))\n",
    "    if score >= 0 :\n",
    "        sum1 += score\n",
    "        n += 1\n",
    "\n",
    "if n > 0 :\n",
    "    avg = sum1/n\n",
    "print(\"성적의 평균은 %d입니다.\" % avg)"
   ]
  },
  {
   "cell_type": "code",
   "execution_count": 13,
   "id": "48ccd022",
   "metadata": {},
   "outputs": [
    {
     "name": "stdout",
     "output_type": "stream",
     "text": [
      "1부터 100 사이의 숫자를 맞추시오\n",
      "숫자를 입력하시오: 50\n",
      "높음!\n",
      "숫자를 입력하시오: 20\n",
      "낮음!\n",
      "숫자를 입력하시오: 35\n",
      "높음!\n",
      "숫자를 입력하시오: 25\n",
      "높음!\n",
      "숫자를 입력하시오: 21\n",
      "낮음!\n",
      "숫자를 입력하시오: 22\n",
      "낮음!\n",
      "숫자를 입력하시오: 24\n",
      "축하합니다. 시도횟수= 7\n"
     ]
    }
   ],
   "source": [
    "# 숫자 맞추기 게임(175p)\n",
    "\n",
    "import random\n",
    "\n",
    "tries = 0\n",
    "number = random.randint(1, 100)\n",
    "\n",
    "print(\"1부터 100 사이의 숫자를 맞추시오\")\n",
    "\n",
    "while tries < 10 :\n",
    "    guess = int(input(\"숫자를 입력하시오: \"))\n",
    "    tries += 1\n",
    "    if guess < number :\n",
    "        print(\"낮음!\")\n",
    "    elif guess > number :\n",
    "        print(\"높음!\")\n",
    "    else :\n",
    "        break\n",
    "        \n",
    "if guess == number :\n",
    "    print(\"축하합니다. 시도횟수=\", tries)\n",
    "else :\n",
    "    print(\"정답은 \", number)"
   ]
  },
  {
   "cell_type": "code",
   "execution_count": 16,
   "id": "cccd0ed5",
   "metadata": {},
   "outputs": [
    {
     "name": "stdout",
     "output_type": "stream",
     "text": [
      "**********\n",
      "**********\n",
      "**********\n",
      "**********\n",
      "**********\n"
     ]
    }
   ],
   "source": [
    "# 중첩 루프\n",
    "\n",
    "for y in range(5) :\n",
    "    for x in range(10):\n",
    "        print(\"*\", end=\"\")\n",
    "    print(\"\")"
   ]
  },
  {
   "cell_type": "code",
   "execution_count": 32,
   "id": "d79df44e",
   "metadata": {},
   "outputs": [
    {
     "name": "stdout",
     "output_type": "stream",
     "text": [
      "(3, 4, 5) (4, 3, 5) (5, 12, 13) (6, 8, 10) (7, 24, 25) (8, 6, 10) (8, 15, 17) (9, 12, 15) (9, 40, 41) (10, 24, 26) (11, 60, 61) (12, 5, 13) (12, 9, 15) (12, 16, 20) (12, 35, 37) (13, 84, 85) (14, 48, 50) (15, 8, 17) (15, 20, 25) (15, 36, 39) (16, 12, 20) (16, 30, 34) (16, 63, 65) (18, 24, 30) (18, 80, 82) (20, 15, 25) (20, 21, 29) (20, 48, 52) (21, 20, 29) (21, 28, 35) (21, 72, 75) (24, 7, 25) (24, 10, 26) (24, 18, 30) (24, 32, 40) (24, 45, 51) (24, 70, 74) (25, 60, 65) (27, 36, 45) (28, 21, 35) (28, 45, 53) (28, 96, 100) (30, 16, 34) (30, 40, 50) (30, 72, 78) (32, 24, 40) (32, 60, 68) (33, 44, 55) (33, 56, 65) (35, 12, 37) (35, 84, 91) (36, 15, 39) (36, 27, 45) (36, 48, 60) (36, 77, 85) (39, 52, 65) (39, 80, 89) (40, 9, 41) (40, 30, 50) (40, 42, 58) (40, 75, 85) (42, 40, 58) (42, 56, 70) (44, 33, 55) (45, 24, 51) (45, 28, 53) (45, 60, 75) (48, 14, 50) (48, 20, 52) (48, 36, 60) (48, 55, 73) (48, 64, 80) (51, 68, 85) (52, 39, 65) (54, 72, 90) (55, 48, 73) (56, 33, 65) (56, 42, 70) (57, 76, 95) (60, 11, 61) (60, 25, 65) (60, 32, 68) (60, 45, 75) (60, 63, 87) (60, 80, 100) (63, 16, 65) (63, 60, 87) (64, 48, 80) (65, 72, 97) (68, 51, 85) (70, 24, 74) (72, 21, 75) (72, 30, 78) (72, 54, 90) (72, 65, 97) (75, 40, 85) (76, 57, 95) (77, 36, 85) (80, 18, 82) (80, 39, 89) (80, 60, 100) (84, 13, 85) (84, 35, 91) (96, 28, 100) "
     ]
    }
   ],
   "source": [
    "# 피타고라스 삼각형 찾기(178p)\n",
    "\n",
    "for a in range(1, 101) :\n",
    "    for b in range(1, 101) :\n",
    "        for c in range(1, 101) :\n",
    "            if a**2 + b**2 == c**2 :\n",
    "                print((a,b,c), end=\" \")"
   ]
  },
  {
   "cell_type": "code",
   "execution_count": 33,
   "id": "eb195f05",
   "metadata": {},
   "outputs": [
    {
     "name": "stdout",
     "output_type": "stream",
     "text": [
      "(1, 5) (2, 4) (3, 3) (4, 2) (5, 1) "
     ]
    }
   ],
   "source": [
    "# 도전문제1(178p)\n",
    "\n",
    "for dice1 in range(1, 7) :\n",
    "    for dice2 in range(1, 7):\n",
    "        if dice1 + dice2 == 6 :\n",
    "            print((dice1, dice2), end=\" \")"
   ]
  },
  {
   "cell_type": "code",
   "execution_count": 25,
   "id": "badcd523",
   "metadata": {},
   "outputs": [
    {
     "name": "stdout",
     "output_type": "stream",
     "text": [
      "(1, 3, 6) (1, 4, 5) (1, 5, 4) (1, 6, 3) (2, 2, 6) (2, 3, 5) (2, 4, 4) (2, 5, 3) (2, 6, 2) (3, 1, 6) (3, 2, 5) (3, 3, 4) (3, 4, 3) (3, 5, 2) (3, 6, 1) (4, 1, 5) (4, 2, 4) (4, 3, 3) (4, 4, 2) (4, 5, 1) (5, 1, 4) (5, 2, 3) (5, 3, 2) (5, 4, 1) (6, 1, 3) (6, 2, 2) (6, 3, 1) "
     ]
    }
   ],
   "source": [
    "# 도전문제2(178p)\n",
    "\n",
    "for dice1 in range(1, 7) :\n",
    "    for dice2 in range(1, 7) :\n",
    "        for dice3 in range(1, 7) :\n",
    "            if dice1 + dice2 + dice3 == 10 :\n",
    "                print((dice1, dice2, dice3), end=\" \")"
   ]
  },
  {
   "cell_type": "code",
   "execution_count": 39,
   "id": "5b515ab0",
   "metadata": {},
   "outputs": [
    {
     "name": "stdout",
     "output_type": "stream",
     "text": [
      "x**1 x**2 x**3 x**4 x**5 \n",
      "1 1 1 1 1 \n",
      "2 4 8 16 32 \n",
      "3 9 27 81 243 \n",
      "4 16 64 256 1024 \n",
      "5 25 125 625 3125 \n",
      "6 36 216 1296 7776 \n",
      "7 49 343 2401 16807 \n",
      "8 64 512 4096 32768 \n",
      "9 81 729 6561 59049 \n",
      "10 100 1000 10000 100000 \n"
     ]
    }
   ],
   "source": [
    "# 제곱값 출력(179p)\n",
    "\n",
    "for y in range(1, 6) :\n",
    "    print(\"x**%d\" % y, end=\" \")\n",
    "print()\n",
    "\n",
    "for x in range(1, 11) :\n",
    "    for y in range(1, 6) :\n",
    "        print(x**y, end=\" \")\n",
    "    print()"
   ]
  },
  {
   "cell_type": "code",
   "execution_count": 42,
   "id": "cfdd504b",
   "metadata": {},
   "outputs": [
    {
     "name": "stdout",
     "output_type": "stream",
     "text": [
      "a p p l e "
     ]
    }
   ],
   "source": [
    "fruit = \"apple\"\n",
    "index = 0\n",
    "while index < len(fruit) :\n",
    "    letter = fruit[index]\n",
    "    print(letter, end=\" \")\n",
    "    index += 1"
   ]
  },
  {
   "cell_type": "code",
   "execution_count": 45,
   "id": "1b8b6935",
   "metadata": {},
   "outputs": [
    {
     "name": "stdout",
     "output_type": "stream",
     "text": [
      "b a n a n a "
     ]
    }
   ],
   "source": [
    "fruit = \"banana\"\n",
    "for char in fruit :\n",
    "    print(char, end=\" \")"
   ]
  },
  {
   "cell_type": "code",
   "execution_count": 46,
   "id": "61743638",
   "metadata": {},
   "outputs": [
    {
     "name": "stdout",
     "output_type": "stream",
     "text": [
      "문자열을 입력하시오: pass\n",
      "pss\n"
     ]
    }
   ],
   "source": [
    "s = input(\"문자열을 입력하시오: \")\n",
    "vowels = \"aeiouAEIOU\"\n",
    "result = \"\"\n",
    "\n",
    "for letter in s :\n",
    "    if letter not in vowels :\n",
    "        result += letter\n",
    "print(result)"
   ]
  },
  {
   "cell_type": "code",
   "execution_count": 48,
   "id": "0bf96bac",
   "metadata": {},
   "outputs": [
    {
     "name": "stdout",
     "output_type": "stream",
     "text": [
      "문자열을 입력하시오: full\n",
      "모음의 개수: 1 \n",
      "자음의 개수: 3\n"
     ]
    }
   ],
   "source": [
    "# 자음과 모음의 수 집계\n",
    "\n",
    "original = input(\"문자열을 입력하시오: \")\n",
    "word = original.lower()\n",
    "vowels = 0\n",
    "consonants = 0\n",
    "\n",
    "if len(original) > 0 and original.isalpha() :\n",
    "    for char in word :\n",
    "        if char in 'aeiou':\n",
    "            vowels += 1\n",
    "        else :\n",
    "            consonants += 1\n",
    "            \n",
    "print(\"모음의 개수: %d \\n자음의 개수: %d\" % (vowels, consonants))"
   ]
  },
  {
   "cell_type": "code",
   "execution_count": 54,
   "id": "df6a9bc2",
   "metadata": {},
   "outputs": [
    {
     "name": "stdout",
     "output_type": "stream",
     "text": [
      "문자열을 입력하시오: sandwich\n",
      "index:  1\n",
      "index:  5\n"
     ]
    }
   ],
   "source": [
    "# 모음의 위치 출력\n",
    "\n",
    "original = input(\"문자열을 입력하시오: \")\n",
    "word = original.lower()\n",
    "\n",
    "if len(original) > 0 and original.isalpha() :\n",
    "    for i in range(len(word)) :\n",
    "        if word[i] in 'aeiou' :\n",
    "            print(\"index: \", i)"
   ]
  },
  {
   "cell_type": "code",
   "execution_count": 57,
   "id": "01ee8887",
   "metadata": {},
   "outputs": [
    {
     "name": "stdout",
     "output_type": "stream",
     "text": [
      "문자열을 입력하시오: Meav-01-I Dreamt I Dwelt In Marble Halls-192k.mp3\n",
      "알파벳 문자의 개수=  33\n",
      "숫자 문자의 개수=  6\n",
      "스페이스 문자의 개수=  6\n"
     ]
    }
   ],
   "source": [
    "# 알파벳, 숫자, 스페이스의 처리(182p)\n",
    "\n",
    "strings = input(\"문자열을 입력하시오: \")\n",
    "\n",
    "alphas = 0\n",
    "digits = 0\n",
    "spaces = 0\n",
    "\n",
    "for c in strings :\n",
    "    if c.isalpha() :\n",
    "        alphas += 1\n",
    "    if c.isdigit() :\n",
    "        digits += 1\n",
    "    if c.isspace() :\n",
    "        spaces += 1\n",
    "\n",
    "print(\"알파벳 문자의 개수= \",alphas)\n",
    "print(\"숫자 문자의 개수= \", digits)\n",
    "print(\"스페이스 문자의 개수= \", spaces)"
   ]
  },
  {
   "cell_type": "code",
   "execution_count": 60,
   "id": "bb3ec618",
   "metadata": {},
   "outputs": [
    {
     "name": "stdout",
     "output_type": "stream",
     "text": [
      "계좌번호를 입력하시오: 620-193651-240\n",
      "620193651240\n"
     ]
    }
   ],
   "source": [
    "# 계좌번호 처리(183p)\n",
    "\n",
    "raw = input(\"계좌번호를 입력하시오: \")\n",
    "processed = \"\"\n",
    "\n",
    "for r in raw :\n",
    "    if r.isdigit() :\n",
    "        processed += r\n",
    "\n",
    "print(processed)"
   ]
  },
  {
   "cell_type": "code",
   "execution_count": 61,
   "id": "cbeef170",
   "metadata": {},
   "outputs": [
    {
     "name": "stdout",
     "output_type": "stream",
     "text": [
      "계좌번호를 입력하시오: 620-193651-240\n",
      "620193651240\n"
     ]
    }
   ],
   "source": [
    "raw = input(\"계좌번호를 입력하시오: \")\n",
    "processed = \"\"\n",
    "\n",
    "for r in raw :\n",
    "    if r != \"-\" :\n",
    "        processed += r\n",
    "\n",
    "print(processed)"
   ]
  },
  {
   "cell_type": "code",
   "execution_count": 62,
   "id": "a51f0d48",
   "metadata": {},
   "outputs": [
    {
     "name": "stdout",
     "output_type": "stream",
     "text": [
      "주사위 실험 반복횟수: 100000\n",
      "2 2828\n",
      "3 5448\n",
      "4 8239\n",
      "5 11194\n",
      "6 13963\n",
      "7 16780\n",
      "8 13866\n",
      "9 11073\n",
      "10 8414\n",
      "11 5429\n",
      "12 2766\n"
     ]
    }
   ],
   "source": [
    "# 주사위 합 확률(184p)\n",
    "\n",
    "from random import randint\n",
    "\n",
    "count = int(input(\"주사위 실험 반복횟수: \"))\n",
    "rollCount = [0,0,0,0,0,0,0,0,0,0,0,0,0]\n",
    "\n",
    "for i in range(1, count+1) :\n",
    "    die1 = randint(1, 6)\n",
    "    die2 = randint(1, 6)\n",
    "    rollCount[die1+die2] += 1\n",
    "\n",
    "for i in range(2, 13) :\n",
    "    print(i, rollCount[i])"
   ]
  },
  {
   "cell_type": "code",
   "execution_count": 70,
   "id": "e7e84048",
   "metadata": {},
   "outputs": [
    {
     "name": "stdout",
     "output_type": "stream",
     "text": [
      "주사위 실험 반복횟수: 5555555\n",
      "1 0.16672609667260968\n",
      "2 0.16668721666872166\n",
      "3 0.16653061665306165\n",
      "4 0.16663861666386168\n",
      "5 0.16682671668267166\n",
      "6 0.16659073665907367\n"
     ]
    }
   ],
   "source": [
    "# 주사위 각 숫자가 나올 확률\n",
    "\n",
    "from random import randint\n",
    "\n",
    "count = int(input(\"주사위 실험 반복횟수: \"))\n",
    "rollCount = [0,0,0,0,0,0,0]\n",
    "\n",
    "for i in range(count) :\n",
    "    die = randint(1, 6)\n",
    "    rollCount[die] += 1\n",
    "\n",
    "for i in range(1, 7) :\n",
    "    print(i, rollCount[i]/count)"
   ]
  },
  {
   "cell_type": "code",
   "execution_count": 74,
   "id": "e3c92d74",
   "metadata": {},
   "outputs": [
    {
     "name": "stdout",
     "output_type": "stream",
     "text": [
      "반복 횟수를 입력하시오: 1000000\n",
      "3.141024\n"
     ]
    }
   ],
   "source": [
    "# 파이 계산(185p)\n",
    "\n",
    "from random import random\n",
    "from math import sqrt\n",
    "\n",
    "n = int(input(\"반복 횟수를 입력하시오: \"))\n",
    "inside = 0\n",
    "\n",
    "for i in range(n) :\n",
    "    x = random()\n",
    "    y = random()\n",
    "    if sqrt(x**2+y**2) <= 1 :\n",
    "        inside += 1\n",
    "_pi = 4*inside/n\n",
    "print(_pi)"
   ]
  },
  {
   "cell_type": "code",
   "execution_count": null,
   "id": "3a73b4a9",
   "metadata": {},
   "outputs": [],
   "source": []
  },
  {
   "cell_type": "code",
   "execution_count": null,
   "id": "c63e34c6",
   "metadata": {},
   "outputs": [],
   "source": []
  },
  {
   "cell_type": "code",
   "execution_count": null,
   "id": "bd1bcc2f",
   "metadata": {},
   "outputs": [],
   "source": []
  }
 ],
 "metadata": {
  "kernelspec": {
   "display_name": "Python 3 (ipykernel)",
   "language": "python",
   "name": "python3"
  },
  "language_info": {
   "codemirror_mode": {
    "name": "ipython",
    "version": 3
   },
   "file_extension": ".py",
   "mimetype": "text/x-python",
   "name": "python",
   "nbconvert_exporter": "python",
   "pygments_lexer": "ipython3",
   "version": "3.10.0"
  }
 },
 "nbformat": 4,
 "nbformat_minor": 5
}
