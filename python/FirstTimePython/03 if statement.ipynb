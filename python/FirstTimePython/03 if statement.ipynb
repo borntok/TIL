{
 "cells": [
  {
   "cell_type": "code",
   "execution_count": 1,
   "id": "4eb3621e",
   "metadata": {},
   "outputs": [
    {
     "name": "stdout",
     "output_type": "stream",
     "text": [
      "짐의 무게는 얼마입니까?:22\n",
      "무거운 짐은 20,000원을 내셔야 합니다.\n",
      "감사합니다.\n"
     ]
    }
   ],
   "source": [
    "# 수하물 비용 계산 (104p)\n",
    "\n",
    "weight = float(input(\"짐의 무게는 얼마입니까?:\"))\n",
    "\n",
    "if weight >= 20 :\n",
    "    print(\"무거운 짐은 20,000원을 내셔야 합니다.\")\n",
    "else :\n",
    "    print(\"짐에 대한 수수료는 없습니다.\")\n",
    "print(\"감사합니다.\")"
   ]
  },
  {
   "cell_type": "code",
   "execution_count": 18,
   "id": "1eca9365",
   "metadata": {},
   "outputs": [
    {
     "name": "stdout",
     "output_type": "stream",
     "text": [
      "짐의 개수는 몇 개입니까?:2\n",
      "짐의 무게는 얼마입니까?:50\n",
      "짐의 개수가 2개 이상이면 30,000원을 내셔야 합니다.\n",
      "무거운 짐은 20,000원을 더 내셔야 하므로 총 50,000원 입니다.\n",
      "감사합니다.\n"
     ]
    }
   ],
   "source": [
    "# 도전문제 (104p)\n",
    "\n",
    "number = int(input(\"짐의 개수는 몇 개입니까?:\"))\n",
    "weight = float(input(\"짐의 무게는 얼마입니까?:\"))\n",
    "\n",
    "if number >= 2 :\n",
    "    print(\"짐의 개수가 2개 이상이면 30,000원을 내셔야 합니다.\")\n",
    "    if weight >= 20 :\n",
    "        print(\"무거운 짐은 20,000원을 더 내셔야 하므로 총 50,000원 입니다.\") \n",
    "else:\n",
    "    if weight >= 20 :\n",
    "        print(\"무거운 짐은 20,000원을 내셔야합니다.\") \n",
    "    else :\n",
    "        print(\"짐에 대한 수수료는 없습니다.\")\n",
    "print(\"감사합니다.\")"
   ]
  },
  {
   "cell_type": "code",
   "execution_count": 4,
   "id": "b8b4ee04",
   "metadata": {},
   "outputs": [
    {
     "name": "stdout",
     "output_type": "stream",
     "text": [
      "현재 기온을 입력하시오: 31\n",
      "반바지를 입으세요.\n",
      "이제 나가서 운동하세요!\n"
     ]
    }
   ],
   "source": [
    "# 옷차림 추천(105p)\n",
    "\n",
    "temperature = float(input(\"현재 기온을 입력하시오: \"))\n",
    "\n",
    "if temperature > 30 :\n",
    "    print(\"반바지를 입으세요.\")\n",
    "else :\n",
    "    print(\"긴바지를 입으세요.\")\n",
    "print(\"이제 나가서 운동하세요!\")"
   ]
  },
  {
   "cell_type": "code",
   "execution_count": 5,
   "id": "2a72ce55",
   "metadata": {},
   "outputs": [
    {
     "name": "stdout",
     "output_type": "stream",
     "text": [
      "취득한 학점 수를 입력하세요: 145\n",
      "졸업가능\n"
     ]
    }
   ],
   "source": [
    "# 도전 문제(105p)\n",
    "\n",
    "credit = int(input(\"취득한 학점 수를 입력하세요: \"))\n",
    "\n",
    "if credit >= 140 :\n",
    "    print(\"졸업가능\")\n",
    "else :\n",
    "    print(\"졸업불가\")"
   ]
  },
  {
   "cell_type": "code",
   "execution_count": 6,
   "id": "b05d412d",
   "metadata": {},
   "outputs": [
    {
     "name": "stdout",
     "output_type": "stream",
     "text": [
      "정수를 입력하시오: -4\n",
      "입력된 정수는 짝수입니다.\n"
     ]
    }
   ],
   "source": [
    "# 홀수 짝수 구별하기(106p)\n",
    "\n",
    "number = int(input(\"정수를 입력하시오: \"))\n",
    "\n",
    "if number % 2 == 0 :\n",
    "    print(\"입력된 정수는 짝수입니다.\")\n",
    "else :\n",
    "    print(\"입력된 정수는 홀수입니다.\")"
   ]
  },
  {
   "cell_type": "code",
   "execution_count": 10,
   "id": "ece92263",
   "metadata": {},
   "outputs": [
    {
     "name": "stdout",
     "output_type": "stream",
     "text": [
      "정수를 입력하시오: 77\n",
      "입력된 정수는 3의 배수가 아닙니다.\n"
     ]
    }
   ],
   "source": [
    "# 도전문제(106p)\n",
    "\n",
    "num = int(input(\"정수를 입력하시오: \"))\n",
    "\n",
    "if num % 3 == 0 :\n",
    "    print(\"입력된 정수는 3의 배수 입니다.\")\n",
    "else :\n",
    "    print(\"입력된 정수는 3의 배수가 아닙니다.\")"
   ]
  },
  {
   "cell_type": "code",
   "execution_count": 14,
   "id": "a02b2e61",
   "metadata": {},
   "outputs": [
    {
     "name": "stdout",
     "output_type": "stream",
     "text": [
      "첫 번째 정수: 0\n",
      "두 번째 정수: 0\n",
      "두 수는 크기가 같다.\n"
     ]
    }
   ],
   "source": [
    "# 두수 중 큰 수 출력(107p)\n",
    "\n",
    "x = int(input(\"첫 번째 정수: \"))\n",
    "y = int(input(\"두 번째 정수: \"))\n",
    "\n",
    "if x > y :\n",
    "    print(\"큰 수는\", x)\n",
    "elif x < y :\n",
    "    print(\"큰 수는\", y)\n",
    "else :\n",
    "    print(\"두 수는 크기가 같다.\")"
   ]
  },
  {
   "cell_type": "code",
   "execution_count": 16,
   "id": "ea48b9e9",
   "metadata": {},
   "outputs": [
    {
     "name": "stdout",
     "output_type": "stream",
     "text": [
      "첫 번째 정수: -6\n",
      "두 번째 정수: 2\n",
      "작은 수는 -6\n"
     ]
    }
   ],
   "source": [
    "# 도전문제(107p)\n",
    "\n",
    "x = int(input(\"첫 번째 정수: \"))\n",
    "y = int(input(\"두 번째 정수: \"))\n",
    "\n",
    "if x < y :\n",
    "    print(\"작은 수는\", x)\n",
    "elif x > y :\n",
    "    print(\"작은 수는\", y)\n",
    "else :\n",
    "    print(\"두 수는 크기가 같다.\")"
   ]
  },
  {
   "cell_type": "code",
   "execution_count": 18,
   "id": "1a09fe1e",
   "metadata": {},
   "outputs": [
    {
     "name": "stdout",
     "output_type": "stream",
     "text": [
      "구입 금액을 입력하시오: 95000\n",
      "지불 금액은 95000 입니다.\n"
     ]
    }
   ],
   "source": [
    "# 물건값 계산(110p)\n",
    "\n",
    "total_sale = int(input(\"구입 금액을 입력하시오: \"))\n",
    "\n",
    "if total_sale >= 100000 :\n",
    "    print(\"지불 금액은\", total_sale * 0.95,\"입니다.\")\n",
    "else:\n",
    "    print(\"지불 금액은\", total_sale, \"입니다.\")"
   ]
  },
  {
   "cell_type": "code",
   "execution_count": 24,
   "id": "f7710c03",
   "metadata": {},
   "outputs": [
    {
     "name": "stdout",
     "output_type": "stream",
     "text": [
      "구입 금액을 입력하시오: 9000\n",
      "지불 금액은 9000 입니다.\n"
     ]
    }
   ],
   "source": [
    "total_sale = int(input(\"구입 금액을 입력하시오: \"))\n",
    "\n",
    "if total_sale >= 100000 :\n",
    "    discount = total_sale * 0.05\n",
    "    sales = total_sale - discount\n",
    "else :\n",
    "    sales = total_sale\n",
    "print(\"지불 금액은\", sales, \"입니다.\")"
   ]
  },
  {
   "cell_type": "code",
   "execution_count": 27,
   "id": "5a2d7b5f",
   "metadata": {},
   "outputs": [
    {
     "name": "stdout",
     "output_type": "stream",
     "text": [
      "구입 금액을 입력하시오: 78000\n",
      "지불 금액은 78000 입니다.\n",
      "22000 만큼 더 구입하시면 5% 할인을 받을 수 있습니다.\n"
     ]
    }
   ],
   "source": [
    "# 도전문제(110p)\n",
    "\n",
    "total_sale = int(input(\"구입 금액을 입력하시오: \"))\n",
    "\n",
    "if total_sale >= 100000 :\n",
    "    discount = total_sale * 0.05\n",
    "    sales = total_sale - discount\n",
    "    print(\"지불 금액은\", sales, \"입니다.\")\n",
    "else :\n",
    "    print(\"지불 금액은\", total_sale, \"입니다.\")\n",
    "    print(100000 - total_sale,\"만큼 더 구입하시면 5% 할인을 받을 수 있습니다.\")"
   ]
  },
  {
   "cell_type": "code",
   "execution_count": 29,
   "id": "eb94d106",
   "metadata": {},
   "outputs": [
    {
     "name": "stdout",
     "output_type": "stream",
     "text": [
      "문자열을 입력하시오:cold\n",
      "중앙글자는 o l\n"
     ]
    }
   ],
   "source": [
    "# 문자열의 중간문자(111p)\n",
    "\n",
    "strings = input(\"문자열을 입력하시오:\")\n",
    "length = len(strings)\n",
    "\n",
    "if length % 2 == 1 :\n",
    "    i = length // 2\n",
    "    print(\"중앙글자는\",strings[i])\n",
    "else :\n",
    "    i = length // 2\n",
    "    print(\"중앙글자는\",strings[i-1],strings[i])"
   ]
  },
  {
   "cell_type": "code",
   "execution_count": 32,
   "id": "701b77a8",
   "metadata": {},
   "outputs": [
    {
     "name": "stdout",
     "output_type": "stream",
     "text": [
      "문자열을 입력하시오:배고파요\n",
      "중앙글자는 고 파\n"
     ]
    }
   ],
   "source": [
    "strings = input(\"문자열을 입력하시오:\")\n",
    "length = len(strings)\n",
    "i = length // 2\n",
    "\n",
    "if length % 2 == 1 :\n",
    "    print(\"중앙글자는\",strings[i])\n",
    "else :\n",
    "    print(\"중앙글자는\",strings[i-1],strings[i])"
   ]
  },
  {
   "cell_type": "code",
   "execution_count": 34,
   "id": "c276d02c",
   "metadata": {},
   "outputs": [
    {
     "name": "stdout",
     "output_type": "stream",
     "text": [
      "주당 근무시간을 입력하시오: 50\n",
      "시간당 임금을 입력하시오: 10000\n",
      "총임금은  650000.0\n"
     ]
    }
   ],
   "source": [
    "# 임금 계산(112p)\n",
    "\n",
    "hours = int(input(\"주당 근무시간을 입력하시오: \"))\n",
    "wage = int(input(\"시간당 임금을 입력하시오: \"))\n",
    "\n",
    "if hours > 40 :\n",
    "    overtime = hours - 40\n",
    "    total_wage = (hours*wage) + (overtime*wage*1.5)\n",
    "else :\n",
    "    total_wage = hours*wage\n",
    "print(\"총임금은 \", total_wage)"
   ]
  },
  {
   "cell_type": "code",
   "execution_count": 35,
   "id": "ce6be11f",
   "metadata": {},
   "outputs": [
    {
     "data": {
      "text/plain": [
       "True"
      ]
     },
     "execution_count": 35,
     "metadata": {},
     "output_type": "execute_result"
    }
   ],
   "source": [
    "not (1==0)"
   ]
  },
  {
   "cell_type": "code",
   "execution_count": 40,
   "id": "a003c6b0",
   "metadata": {},
   "outputs": [
    {
     "name": "stdout",
     "output_type": "stream",
     "text": [
      "이수한 학점 수를 입력하시오: 130\n",
      "평점을 입력하시오: 3.1\n",
      "졸업이 힘듭니다!\n"
     ]
    }
   ],
   "source": [
    "# 졸업 학점 검사하기(116p)\n",
    "\n",
    "credits = int(input(\"이수한 학점 수를 입력하시오: \"))\n",
    "gpa = float(input(\"평점을 입력하시오: \"))\n",
    "\n",
    "if credits >= 140 and gpa >= 2.0 :\n",
    "    print(\"졸업 가능합니다.\")\n",
    "else :\n",
    "    print(\"졸업이 힘듭니다!\")"
   ]
  },
  {
   "cell_type": "code",
   "execution_count": 1,
   "id": "6e656f68",
   "metadata": {},
   "outputs": [
    {
     "name": "stdout",
     "output_type": "stream",
     "text": [
      "목표를 입력하시오(단위:만원): 1000\n",
      "실적을 입력하시오(단위:만원): 900\n",
      "실적 달성 보너스: 0\n"
     ]
    }
   ],
   "source": [
    "# 도전문제(116p)\n",
    "\n",
    "goal = int(input(\"목표를 입력하시오(단위:만원): \"))\n",
    "result = int(input(\"실적을 입력하시오(단위:만원): \"))\n",
    "\n",
    "if result > goal :\n",
    "    bonus = (result-goal)*0.1\n",
    "else :\n",
    "    bonus = 0\n",
    "print(\"실적 달성 보너스:\", bonus)"
   ]
  },
  {
   "cell_type": "code",
   "execution_count": 7,
   "id": "69ec83aa",
   "metadata": {},
   "outputs": [
    {
     "name": "stdout",
     "output_type": "stream",
     "text": [
      "성적을 입력하시오: 0\n",
      "F\n"
     ]
    }
   ],
   "source": [
    "score = int(input(\"성적을 입력하시오: \"))\n",
    "\n",
    "if score >= 90:\n",
    "    print(\"A\")\n",
    "elif score >= 80:\n",
    "    print(\"B\")\n",
    "elif score >= 70:\n",
    "    print(\"C\")\n",
    "elif score >= 60:\n",
    "    print(\"D\")\n",
    "else:\n",
    "    print(\"F\")"
   ]
  },
  {
   "cell_type": "code",
   "execution_count": 10,
   "id": "3e7c1d54",
   "metadata": {},
   "outputs": [
    {
     "name": "stdout",
     "output_type": "stream",
     "text": [
      "정수를 입력하시오: 8\n",
      "입력된 정수는 양수 입니다.\n"
     ]
    }
   ],
   "source": [
    "# 음수, 0, 양수 구별하기(119p)\n",
    "\n",
    "number = int(input(\"정수를 입력하시오: \"))\n",
    "\n",
    "if number > 0 :\n",
    "    print(\"입력된 정수는 양수 입니다.\")\n",
    "elif number == 0 :\n",
    "    print(\"입력된 정수는 0 입니다.\")\n",
    "else :\n",
    "    print(\"입력된 정수는 음수 입니다.\")"
   ]
  },
  {
   "cell_type": "code",
   "execution_count": 12,
   "id": "6fb164c2",
   "metadata": {},
   "outputs": [
    {
     "name": "stdout",
     "output_type": "stream",
     "text": [
      "정수를 입력하시오: 0\n",
      "입력된 정수는 0 입니다.\n"
     ]
    }
   ],
   "source": [
    "number = int(input(\"정수를 입력하시오: \"))\n",
    "\n",
    "if number >= 0 :\n",
    "    if number > 0 :\n",
    "        print(\"입력된 정수는 양수 입니다.\")\n",
    "    else :\n",
    "        print(\"입력된 정수는 0 입니다.\")\n",
    "else :\n",
    "    print(\"입력된 정수는 음수 입니다.\")"
   ]
  },
  {
   "cell_type": "code",
   "execution_count": 17,
   "id": "b6e6dc43",
   "metadata": {},
   "outputs": [
    {
     "name": "stdout",
     "output_type": "stream",
     "text": [
      "나이를 입력하시오: 4\n",
      "어린이\n"
     ]
    }
   ],
   "source": [
    "# 도전문제(119p)\n",
    "\n",
    "age = int(input(\"나이를 입력하시오: \"))\n",
    "\n",
    "if age >= 51 :\n",
    "    print(\"노년\")\n",
    "elif age >= 31 :\n",
    "    print(\"장년\")\n",
    "elif age >= 19 :\n",
    "    print(\"청년\")\n",
    "elif age >= 13 :\n",
    "    print(\"청소년\")\n",
    "else :\n",
    "    print(\"어린이\")"
   ]
  },
  {
   "cell_type": "code",
   "execution_count": 22,
   "id": "ae3f5fbd",
   "metadata": {},
   "outputs": [
    {
     "name": "stdout",
     "output_type": "stream",
     "text": [
      "나이를 입력하시오: 55\n",
      "노년\n"
     ]
    }
   ],
   "source": [
    "age = int(input(\"나이를 입력하시오: \"))\n",
    "\n",
    "if age < 13 :\n",
    "    print(\"어린이\")\n",
    "elif age < 19 :\n",
    "    print(\"청소년\")\n",
    "elif age < 31 :\n",
    "    print(\"청년\")\n",
    "elif age < 51 :\n",
    "    print(\"장년\")\n",
    "else :\n",
    "    print(\"노년\")"
   ]
  },
  {
   "cell_type": "code",
   "execution_count": 25,
   "id": "0ee673e7",
   "metadata": {},
   "outputs": [
    {
     "name": "stdout",
     "output_type": "stream",
     "text": [
      "사과의 상태를 입력하시오:안신선\n",
      "사과 1개의 가격을 입력하시오:10\n",
      "사과를 사지 않는다\n"
     ]
    }
   ],
   "source": [
    "quality = input(\"사과의 상태를 입력하시오:\")\n",
    "price = int(input(\"사과 1개의 가격을 입력하시오:\"))\n",
    "\n",
    "if quality == \"신선\" :\n",
    "    if price < 1000 :\n",
    "        print(\"10개를 산다\")\n",
    "    else :\n",
    "        print(\"5개를 산다\")\n",
    "else :\n",
    "    print(\"사과를 사지 않는다\")"
   ]
  },
  {
   "cell_type": "code",
   "execution_count": 32,
   "id": "046655ce",
   "metadata": {},
   "outputs": [
    {
     "name": "stdout",
     "output_type": "stream",
     "text": [
      "아이디를 입력하시오: rin\n",
      "비밀번호를 입력하시오: abc123\n",
      "로그인이 되었습니다.\n"
     ]
    }
   ],
   "source": [
    "# 아이디 검사(123p)\n",
    "\n",
    "user_list = [\"rin\", \"yong\", \"kyong\"]\n",
    "password = \"abc123\"\n",
    "\n",
    "_id = input(\"아이디를 입력하시오: \")\n",
    "pw = input(\"비밀번호를 입력하시오: \")\n",
    "\n",
    "if _id in user_list :\n",
    "    if pw == \"abc123\" :\n",
    "        print(\"로그인이 되었습니다.\")\n",
    "    else :\n",
    "        print(\"비밀번호가 틀렸습니다.\")\n",
    "else :\n",
    "    print(\"존재하지 않는 사용자입니다.\")"
   ]
  },
  {
   "cell_type": "code",
   "execution_count": 65,
   "id": "b1e29837",
   "metadata": {},
   "outputs": [
    {
     "name": "stdout",
     "output_type": "stream",
     "text": [
      "아이디를 입력하시오: kyong\n",
      "비밀번호를 입력하시오: 0220\n",
      "Login\n"
     ]
    }
   ],
   "source": [
    "# 도전문제(123p)\n",
    "\n",
    "user = {\"rin\":\"0823\", \"yong\":\"0402\", \"kyong\":\"0220\"}\n",
    "\n",
    "_id = input(\"아이디를 입력하시오: \")\n",
    "pw = input(\"비밀번호를 입력하시오: \")\n",
    "\n",
    "if _id in user.keys() :\n",
    "    if _id == 'rin' :\n",
    "        if pw == user.get('rin'):\n",
    "            print(\"Login\")\n",
    "        else :\n",
    "            print(\"비밀번호가 틀렸습니다.\")\n",
    "    elif _id == 'yong' :\n",
    "        if pw == user.get('yong'):\n",
    "            print(\"Login\")\n",
    "        else :\n",
    "            print(\"비밀번호가 틀렸습니다.\")\n",
    "    else :\n",
    "        if pw == user.get('kyong'):\n",
    "            print(\"Login\")\n",
    "        else :\n",
    "            print(\"비밀번호가 틀렸습니다.\") \n",
    "else :\n",
    "    print(\"존재하지 않는 id입니다.\")"
   ]
  },
  {
   "cell_type": "code",
   "execution_count": null,
   "id": "2d6580f6",
   "metadata": {},
   "outputs": [],
   "source": [
    "# 숫자 -> 한글 도전문제(124p)\n",
    "\n",
    "num = int(input(\"999이하의 자연수를 입력하시오: \"))\n",
    "\n",
    "if num >= 100 :\n",
    "    if str(num[])"
   ]
  },
  {
   "cell_type": "code",
   "execution_count": 78,
   "id": "04091ef1",
   "metadata": {},
   "outputs": [
    {
     "name": "stdout",
     "output_type": "stream",
     "text": [
      "월을 입력하시오: 2\n",
      "월의 날수는 28 (윤년은 29)\n"
     ]
    }
   ],
   "source": [
    "# 달의 일수 출력(125p)\n",
    "\n",
    "month = int(input(\"월을 입력하시오: \"))\n",
    "\n",
    "if month in [1,3,5,7,8,10,12] :\n",
    "    print(\"월의 날수는 31\")\n",
    "elif month in [4,6,9,11] :\n",
    "    print(\"월의 날수는 30\")\n",
    "else :\n",
    "    print(\"월의 날수는 28 (윤년은 29)\")"
   ]
  },
  {
   "cell_type": "code",
   "execution_count": 83,
   "id": "b668b9da",
   "metadata": {},
   "outputs": [
    {
     "name": "stdout",
     "output_type": "stream",
     "text": [
      "월을 입력하시오: 12월\n",
      "월의 날수는 31\n"
     ]
    }
   ],
   "source": [
    "# 도전문제1(126p)\n",
    "\n",
    "month = input(\"월을 입력하시오: \")\n",
    "\n",
    "if month == \"2월\" :\n",
    "    print(\"월의 날수는 28 (윤년은 29)\")\n",
    "elif month in [\"4월\",\"6월\",\"9월\",\"11월\"] :\n",
    "    print(\"월의 날수는 30\")\n",
    "else :\n",
    "    print(\"월의 날수는 31\")"
   ]
  },
  {
   "cell_type": "code",
   "execution_count": 76,
   "id": "88b9f068",
   "metadata": {},
   "outputs": [
    {
     "name": "stdout",
     "output_type": "stream",
     "text": [
      "년도를 입력하시오: 2021\n",
      "월을 입력하시오: 11\n",
      "월의 날수는 30\n"
     ]
    }
   ],
   "source": [
    "# 도전문제2(126p)\n",
    "\n",
    "year = int(input(\"년도를 입력하시오: \"))\n",
    "month = int(input(\"월을 입력하시오: \"))\n",
    "\n",
    "if month in [1,3,5,7,8,10,12] :\n",
    "    print(\"월의 날수는 31\")\n",
    "elif month in [4,6,9,11] :\n",
    "    print(\"월의 날수는 30\")\n",
    "else :\n",
    "    if (year % 4  == 0 and year % 100 != 0) or year % 400 == 0 :\n",
    "        print(\"월의 날수는 29\")\n",
    "    else :\n",
    "        print(\"월의 날수는 28\")"
   ]
  },
  {
   "cell_type": "code",
   "execution_count": 90,
   "id": "5f5e7e98",
   "metadata": {},
   "outputs": [
    {
     "name": "stdout",
     "output_type": "stream",
     "text": [
      "현재 시간은 Fri Nov 26 07:41:25 2021\n",
      "Good morning\n"
     ]
    }
   ],
   "source": [
    "# 인사말 출력하기(127p)\n",
    "\n",
    "import time\n",
    "now = time.localtime()\n",
    "print(\"현재 시간은\", time.asctime())\n",
    "\n",
    "if now.tm_hour < 11 :\n",
    "    print(\"Good morning\")\n",
    "elif now.tm_hour < 17 :\n",
    "    print(\"Good afternoon\")\n",
    "elif now.tm_hour < 20 :\n",
    "    print(\"Good evening\")\n",
    "else :\n",
    "    print(\"Good night\")"
   ]
  },
  {
   "cell_type": "code",
   "execution_count": 95,
   "id": "94115c92",
   "metadata": {},
   "outputs": [
    {
     "name": "stdout",
     "output_type": "stream",
     "text": [
      "현재 시간은 Fri Nov 26 07:46:38 2021\n",
      "천고마비의 계절 가을이네요!\n"
     ]
    }
   ],
   "source": [
    "# 도전문제(127p)\n",
    "import time\n",
    "now = time.localtime()\n",
    "print(\"현재 시간은\", time.asctime())\n",
    "\n",
    "if now.tm_mon in [3, 4, 5] :\n",
    "    print(\"만물이 소생하는 봄이네요!\")\n",
    "elif now.tm_mon in [6, 7, 8] :\n",
    "    print(\"휴가를 떠나고 싶은 여름이네요!\")\n",
    "elif now.tm_mon in [9, 10,11] :\n",
    "    print(\"천고마비의 계절 가을이네요!\")\n",
    "else :\n",
    "    print(\"하얀 눈이 내리는 겨울이네요!\")"
   ]
  },
  {
   "cell_type": "code",
   "execution_count": 100,
   "id": "89a890f7",
   "metadata": {},
   "outputs": [
    {
     "name": "stdout",
     "output_type": "stream",
     "text": [
      "a = 1\n",
      "b = -5\n",
      "c = 6\n",
      "x= 3.0 , x= 2.0\n"
     ]
    }
   ],
   "source": [
    "# 이차 방정식(130p)\n",
    "\n",
    "import math\n",
    "\n",
    "a = float(input(\"a = \"))\n",
    "b = float(input(\"b = \"))\n",
    "c = float(input(\"c = \"))\n",
    "D = (b**2 - 4*a*c)\n",
    "\n",
    "if a == 0 :\n",
    "    print(\"x=\", -c/b)\n",
    "if D == 0 :\n",
    "    print(\"x=\", -b/(2*a))\n",
    "elif D > 0 :\n",
    "    print(\"x=\", (-b+math.sqrt(D))/(2*a), \", x=\", (-b-math.sqrt(D))/(2*a))\n",
    "else :\n",
    "    print(\"실근이 존재하지 않음\")"
   ]
  },
  {
   "cell_type": "code",
   "execution_count": 102,
   "id": "aa2eff15",
   "metadata": {},
   "outputs": [
    {
     "name": "stdout",
     "output_type": "stream",
     "text": [
      "a = 1\n",
      "b = -5\n",
      "c = 6\n",
      "x = -10000\n"
     ]
    }
   ],
   "source": [
    "# 도전문제(130p)\n",
    "\n",
    "a = float(input(\"a = \"))\n",
    "b = float(input(\"b = \"))\n",
    "c = float(input(\"c = \"))\n",
    "x = float(input(\"x = \"))\n",
    "y = a*x**2 + b*x + c\n",
    "\n",
    "if y == 0 :\n",
    "    print(\"근\")\n"
   ]
  },
  {
   "cell_type": "code",
   "execution_count": 105,
   "id": "e0f6c022",
   "metadata": {},
   "outputs": [
    {
     "name": "stdout",
     "output_type": "stream",
     "text": [
      "도형을 입력하시오(1:사각형, 2:삼각형, 3:원)3\n",
      "반지름: 6\n",
      "면저기  113.09733552923255\n"
     ]
    }
   ],
   "source": [
    "# 면적 계산기(135p)\n",
    "import math\n",
    "\n",
    "figure = int(input(\"도형을 입력하시오(1:사각형, 2:삼각형, 3:원)\"))\n",
    "\n",
    "if figure == 1 :\n",
    "    a = float(input(\"가로: \"))\n",
    "    b = float(input(\"세로: \"))\n",
    "    print(\"면적: \", a*b)\n",
    "elif figure == 2 :\n",
    "    a = float(input(\"밑변: \"))\n",
    "    b = float(input(\"높이: \"))\n",
    "    print(\"면적: \", a*b/2)\n",
    "else :\n",
    "    a = float(input(\"반지름: \"))\n",
    "    print(\"면저기 \", a**2*math.pi)"
   ]
  },
  {
   "cell_type": "code",
   "execution_count": 107,
   "id": "ea46155e",
   "metadata": {},
   "outputs": [
    {
     "name": "stdout",
     "output_type": "stream",
     "text": [
      "반지름:5\n",
      "높이: 10\n",
      "원기둥의 표면적: 471.23889803846896\n",
      "원기둥의 부피: 785.3981633974483\n"
     ]
    }
   ],
   "source": [
    "# 도전문제(136p)\n",
    "\n",
    "import math\n",
    "\n",
    "r = float(input(\"반지름:\"))\n",
    "h = float(input(\"높이: \"))\n",
    "\n",
    "print(\"원기둥의 표면적:\", 2*math.pi*r**2 + 2*math.pi*r*h)\n",
    "print(\"원기둥의 부피:\", math.pi*r**2*h)"
   ]
  },
  {
   "cell_type": "code",
   "execution_count": 108,
   "id": "da528da3",
   "metadata": {},
   "outputs": [
    {
     "name": "stdout",
     "output_type": "stream",
     "text": [
      "첫 번째 점의 x좌표:5\n",
      "첫 번째 점의 y좌표:1\n",
      "두 번째 점의 x좌표:-3\n",
      "두 번째 점의 y좌표:5\n",
      "직선의 방정식은  -0.5 x+ 3.5\n"
     ]
    }
   ],
   "source": [
    "# 직선 방정식 구하기 (136p)\n",
    "\n",
    "x1 = float(input(\"첫 번째 점의 x좌표:\"))\n",
    "y1 = float(input(\"첫 번째 점의 y좌표:\"))\n",
    "x2 = float(input(\"두 번째 점의 x좌표:\"))\n",
    "y2 = float(input(\"두 번째 점의 y좌표:\"))\n",
    "\n",
    "if x2 - x1 != 0 :\n",
    "    m = (y2-y1)/(x2-x1)\n",
    "    q = y1 - (m*x1)\n",
    "    print(\"직선의 방정식은 \", m, \"x+\", q)\n",
    "else :\n",
    "    print(\"직석의 방정식은 x=\", x1)"
   ]
  },
  {
   "cell_type": "code",
   "execution_count": 128,
   "id": "542ca93f",
   "metadata": {},
   "outputs": [
    {
     "name": "stdout",
     "output_type": "stream",
     "text": [
      "숫자 게임에 오신 것을 환영합니다.\n",
      "숫자를 맞춰보세요: 7\n",
      "너무 큼!\n",
      "숫자를 맞춰보세요:4\n",
      "너무 작음!\n",
      "숫자를 맞춰보세요:5\n",
      "사용자가 이겼습니다.\n",
      "게임 종료\n"
     ]
    }
   ],
   "source": [
    "# 숫자 맞추기 도전문제(138p)\n",
    "\n",
    "answer = 5\n",
    "print(\"숫자 게임에 오신 것을 환영합니다.\")\n",
    "g = int(input(\"숫자를 맞춰보세요: \"))\n",
    "guess = int(g)\n",
    "\n",
    "while guess != answer :\n",
    "    if guess == answer :\n",
    "        break\n",
    "    elif guess > answer :\n",
    "        print(\"너무 큼!\")\n",
    "        g = int(input(\"숫자를 맞춰보세요:\"))\n",
    "        guess = int(g)\n",
    "    else :\n",
    "        print(\"너무 작음!\")\n",
    "        g = int(input(\"숫자를 맞춰보세요:\"))\n",
    "        guess = int(g)\n",
    "print(\"사용자가 이겼습니다.\")\n",
    "print(\"게임 종료\")"
   ]
  },
  {
   "cell_type": "code",
   "execution_count": 3,
   "id": "bb15399d",
   "metadata": {},
   "outputs": [
    {
     "name": "stdout",
     "output_type": "stream",
     "text": [
      "숫자 게임에 오신 것을 환영합니다.\n",
      "기회는 5번까지 주어집니다.\n",
      "숫자를 맞춰보세요(100이하의 자연수): 1\n",
      "너무 작음!\n",
      "숫자를 맞춰보세요:1\n",
      "너무 작음!\n",
      "숫자를 맞춰보세요:1\n",
      "너무 작음!\n",
      "숫자를 맞춰보세요:1\n",
      "너무 작음!\n",
      "숫자를 맞춰보세요:1\n",
      "사용자가 패배했습니다.\n",
      "게임 종료\n"
     ]
    }
   ],
   "source": [
    "import random\n",
    "\n",
    "answer = random.randint(1, 101)\n",
    "print(\"숫자 게임에 오신 것을 환영합니다.\")\n",
    "print(\"기회는 5번까지 주어집니다.\")\n",
    "\n",
    "g = int(input(\"숫자를 맞춰보세요(100이하의 자연수): \"))\n",
    "guess = int(g)\n",
    "i = 1\n",
    "\n",
    "while i < 5 :\n",
    "    if guess == answer :\n",
    "        break\n",
    "    elif guess > answer :\n",
    "        print(\"너무 큼!\")\n",
    "        g = int(input(\"숫자를 맞춰보세요:\"))\n",
    "        guess = int(g)\n",
    "        i += 1\n",
    "    else :\n",
    "        print(\"너무 작음!\")\n",
    "        g = int(input(\"숫자를 맞춰보세요:\"))\n",
    "        guess = int(g)\n",
    "        i += 1\n",
    "if guess == answer :\n",
    "    print(\"사용자가 이겼습니다.\")\n",
    "else :\n",
    "    print(\"사용자가 패배했습니다.\")\n",
    "print(\"게임 종료\")"
   ]
  },
  {
   "cell_type": "code",
   "execution_count": null,
   "id": "6d6ac3f6",
   "metadata": {},
   "outputs": [],
   "source": []
  }
 ],
 "metadata": {
  "kernelspec": {
   "display_name": "Python 3 (ipykernel)",
   "language": "python",
   "name": "python3"
  },
  "language_info": {
   "codemirror_mode": {
    "name": "ipython",
    "version": 3
   },
   "file_extension": ".py",
   "mimetype": "text/x-python",
   "name": "python",
   "nbconvert_exporter": "python",
   "pygments_lexer": "ipython3",
   "version": "3.10.0"
  }
 },
 "nbformat": 4,
 "nbformat_minor": 5
}
