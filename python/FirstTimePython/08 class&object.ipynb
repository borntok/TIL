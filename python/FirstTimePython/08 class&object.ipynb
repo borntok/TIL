{
 "cells": [
  {
   "cell_type": "code",
   "execution_count": 1,
   "id": "fc404716",
   "metadata": {},
   "outputs": [],
   "source": [
    "class Counter:\n",
    "    \n",
    "    def reset(self):\n",
    "        self.count = 0\n",
    "    \n",
    "    def increment(self):\n",
    "        self.count += 1\n",
    "    \n",
    "    def get(self):\n",
    "        return self.count"
   ]
  },
  {
   "cell_type": "code",
   "execution_count": 9,
   "id": "c0a68b20",
   "metadata": {},
   "outputs": [
    {
     "name": "stdout",
     "output_type": "stream",
     "text": [
      "카운터 a의 값은 1\n"
     ]
    }
   ],
   "source": [
    "a = Counter()\n",
    "\n",
    "a.reset()\n",
    "a.increment()\n",
    "\n",
    "print(\"카운터 a의 값은\", a.get())"
   ]
  },
  {
   "cell_type": "code",
   "execution_count": 17,
   "id": "525577ea",
   "metadata": {},
   "outputs": [],
   "source": [
    "class Television:\n",
    "    \n",
    "    def __init__(self, channel, volume, on):\n",
    "        self.channel = channel\n",
    "        self.volume = volume\n",
    "        self.on = on\n",
    "        \n",
    "    def show(self):\n",
    "        print(self.channel, self.volume, self.on)\n",
    "        \n",
    "    def setChannel(self, channel):\n",
    "        self.channel = channel\n",
    "        \n",
    "    def getChannel(self):\n",
    "        return self.channel"
   ]
  },
  {
   "cell_type": "code",
   "execution_count": 20,
   "id": "9c2839e6",
   "metadata": {},
   "outputs": [
    {
     "name": "stdout",
     "output_type": "stream",
     "text": [
      "9 10 True\n",
      "11 10 True\n"
     ]
    }
   ],
   "source": [
    "t = Television(9, 10, True)\n",
    "\n",
    "t.show()\n",
    "t.setChannel(11)\n",
    "t.show()"
   ]
  },
  {
   "cell_type": "code",
   "execution_count": 21,
   "id": "47ec9a91",
   "metadata": {},
   "outputs": [
    {
     "name": "stdout",
     "output_type": "stream",
     "text": [
      "21\n"
     ]
    }
   ],
   "source": [
    "class Student:\n",
    "    \n",
    "    def __init__(self, name=None, age=0):\n",
    "        self.name = name\n",
    "        self.age = age\n",
    "        \n",
    "obj = Student(\"Hong\", 20)\n",
    "obj.age = 21\n",
    "print(obj.age)"
   ]
  },
  {
   "cell_type": "code",
   "execution_count": 22,
   "id": "00123298",
   "metadata": {},
   "outputs": [
    {
     "ename": "AttributeError",
     "evalue": "'Student' object has no attribute '__age'",
     "output_type": "error",
     "traceback": [
      "\u001b[1;31m---------------------------------------------------------------------------\u001b[0m",
      "\u001b[1;31mAttributeError\u001b[0m                            Traceback (most recent call last)",
      "\u001b[1;32mC:\\Users\\Public\\Documents\\ESTsoft\\CreatorTemp/ipykernel_24012/3103438953.py\u001b[0m in \u001b[0;36m<module>\u001b[1;34m\u001b[0m\n\u001b[0;32m      6\u001b[0m \u001b[1;33m\u001b[0m\u001b[0m\n\u001b[0;32m      7\u001b[0m \u001b[0mobj\u001b[0m \u001b[1;33m=\u001b[0m \u001b[0mStudent\u001b[0m\u001b[1;33m(\u001b[0m\u001b[1;33m)\u001b[0m\u001b[1;33m\u001b[0m\u001b[1;33m\u001b[0m\u001b[0m\n\u001b[1;32m----> 8\u001b[1;33m \u001b[0mprint\u001b[0m\u001b[1;33m(\u001b[0m\u001b[0mobj\u001b[0m\u001b[1;33m.\u001b[0m\u001b[0m__age\u001b[0m\u001b[1;33m)\u001b[0m\u001b[1;33m\u001b[0m\u001b[1;33m\u001b[0m\u001b[0m\n\u001b[0m",
      "\u001b[1;31mAttributeError\u001b[0m: 'Student' object has no attribute '__age'"
     ]
    }
   ],
   "source": [
    "class Student:\n",
    "    \n",
    "    def __init__(self, name=None, age=0):\n",
    "        self.__name = name\n",
    "        self.__age = age\n",
    "        \n",
    "obj = Student()\n",
    "print(obj.__age)"
   ]
  },
  {
   "cell_type": "code",
   "execution_count": 23,
   "id": "5260272c",
   "metadata": {},
   "outputs": [
    {
     "data": {
      "text/plain": [
       "'Hong'"
      ]
     },
     "execution_count": 23,
     "metadata": {},
     "output_type": "execute_result"
    }
   ],
   "source": [
    "class Student:\n",
    "    \n",
    "    def __init__(self, name=None, age=0):\n",
    "        self.__name = name\n",
    "        self.__age = age\n",
    "        \n",
    "    def getAge(self):\n",
    "        return self.__age\n",
    "    \n",
    "    def getName(self):\n",
    "        return self.__name\n",
    "    \n",
    "    def setAge(self, age):\n",
    "        self.__age = age\n",
    "        \n",
    "    def setName(self, name):\n",
    "        self.__name = name\n",
    "        \n",
    "obj = Student(\"Hong\", 20)\n",
    "obj.getName()"
   ]
  },
  {
   "cell_type": "code",
   "execution_count": 24,
   "id": "d006b8ae",
   "metadata": {},
   "outputs": [
    {
     "name": "stdout",
     "output_type": "stream",
     "text": [
      "원의 반지름: 10\n",
      "원의 넓이: 314.1592653589793\n",
      "원의 둘레: 62.83185307179586\n"
     ]
    }
   ],
   "source": [
    "# 원을 클래스로 표현(363p)\n",
    "\n",
    "import math\n",
    "\n",
    "class Circle:\n",
    "    def __init__(self, radius=1.0):\n",
    "        self.__radius = radius\n",
    "        \n",
    "    def setRadius(self, r):\n",
    "        self.__radius = r\n",
    "    \n",
    "    def getRadius(self):\n",
    "        return self.__radius\n",
    "    \n",
    "    def calcArea(self):\n",
    "        area = (self.__radius**2) * math.pi\n",
    "        return area\n",
    "    \n",
    "    def calcCircum(self):\n",
    "        circumference = 2.0*math.pi*self.__radius\n",
    "        return circumference\n",
    "    \n",
    "c1 = Circle(10)\n",
    "print(\"원의 반지름:\", c1.getRadius())\n",
    "print(\"원의 넓이:\", c1.calcArea())\n",
    "print(\"원의 둘레:\", c1.calcCircum())"
   ]
  },
  {
   "cell_type": "code",
   "execution_count": 25,
   "id": "a75a329b",
   "metadata": {},
   "outputs": [
    {
     "data": {
      "text/plain": [
       "12"
      ]
     },
     "execution_count": 25,
     "metadata": {},
     "output_type": "execute_result"
    }
   ],
   "source": [
    "c1.setRadius(12)\n",
    "c1.getRadius()"
   ]
  },
  {
   "cell_type": "code",
   "execution_count": 41,
   "id": "73f27f1e",
   "metadata": {},
   "outputs": [],
   "source": [
    "# 은행계좌(364p)\n",
    "\n",
    "class BankAccount():\n",
    "    def __init__(self):\n",
    "        self.__balance = 0\n",
    "            \n",
    "    def withdraw(self, amount):\n",
    "        if self.__balance >= amount:\n",
    "            self.__balance -= amount\n",
    "            print(\"통장에 {0}원이 인출되었음\".format(amount))\n",
    "        else:\n",
    "            print(\"잔액이 부족합니다.\")\n",
    "        return self.__balance\n",
    "    \n",
    "    def deposit(self, amount):\n",
    "        self.__balance += amount\n",
    "        print(\"통장에 {0}원이 입금되었음\".format(amount))\n",
    "        return self.__balance"
   ]
  },
  {
   "cell_type": "code",
   "execution_count": 42,
   "id": "1bcaddb4",
   "metadata": {},
   "outputs": [
    {
     "name": "stdout",
     "output_type": "stream",
     "text": [
      "잔액이 부족합니다.\n",
      "통장에 5000원이 입금되었음\n",
      "통장에 3000원이 인출되었음\n"
     ]
    },
    {
     "data": {
      "text/plain": [
       "2000"
      ]
     },
     "execution_count": 42,
     "metadata": {},
     "output_type": "execute_result"
    }
   ],
   "source": [
    "a = BankAccount()\n",
    "a.withdraw(2000)\n",
    "a.deposit(5000)\n",
    "a.withdraw(3000)"
   ]
  },
  {
   "cell_type": "code",
   "execution_count": 43,
   "id": "5120665e",
   "metadata": {},
   "outputs": [],
   "source": [
    "# 고양이 클래스(366p)\n",
    "\n",
    "class Cat:\n",
    "    def __init__(self, name, age):\n",
    "        self.__name = name\n",
    "        self.__age = age\n",
    "        \n",
    "    def setName(self, name):\n",
    "        self.__name = name\n",
    "        \n",
    "    def getName(self):\n",
    "        return self.__name\n",
    "    \n",
    "    def setAge(self, age):\n",
    "        self.__age = age\n",
    "        \n",
    "    def getAge(self):\n",
    "        return self.__age"
   ]
  },
  {
   "cell_type": "code",
   "execution_count": 45,
   "id": "3ec5d583",
   "metadata": {},
   "outputs": [
    {
     "name": "stdout",
     "output_type": "stream",
     "text": [
      "Missy 3\n",
      "Lucky 5\n"
     ]
    }
   ],
   "source": [
    "missy = Cat('Missy', 3)\n",
    "lucky = Cat('Lucky', 5)\n",
    "\n",
    "print(missy.getName(), missy.getAge())\n",
    "print(lucky.getName(), lucky.getAge())"
   ]
  },
  {
   "cell_type": "code",
   "execution_count": 66,
   "id": "685e6c98",
   "metadata": {},
   "outputs": [],
   "source": [
    "# 객체 생성과 사용(367p)\n",
    "\n",
    "class Box():\n",
    "    def __init__(self, width, length, height):\n",
    "        self.__width = width\n",
    "        self.__length = length\n",
    "        self.__height = height\n",
    "        \n",
    "    def setWidth(self, width):\n",
    "        self.__width = width\n",
    "        \n",
    "    def getWidth(self):\n",
    "        return self.__width\n",
    "    \n",
    "    def setLength(self, length):\n",
    "        self.__length = length\n",
    "        \n",
    "    def getLength(self):\n",
    "        return self.__length\n",
    "    \n",
    "    def setHeight(self, height):\n",
    "        self.__height = height\n",
    "        \n",
    "    def getHeight(self):\n",
    "        return self.__height\n",
    "    \n",
    "    def volume(self):\n",
    "        print(\"상자의 가로 길이:\", self.getWidth(), \"\\n상자의 세로 길이:\", self.getLength(), \"\\n상자의 높이:\", self.getHeight())\n",
    "        print(\"\\n상자의 부피는\", self.getWidth() * self.getLength() * self.getHeight())"
   ]
  },
  {
   "cell_type": "code",
   "execution_count": 67,
   "id": "36f3eeef",
   "metadata": {},
   "outputs": [
    {
     "name": "stdout",
     "output_type": "stream",
     "text": [
      "상자의 가로 길이: 100 \n",
      "상자의 세로 길이: 100 \n",
      "상자의 높이: 100\n",
      "\n",
      "상자의 부피는 1000000\n"
     ]
    }
   ],
   "source": [
    "box = Box(100, 100, 100)\n",
    "box.volume()"
   ]
  }
 ],
 "metadata": {
  "kernelspec": {
   "display_name": "Python 3 (ipykernel)",
   "language": "python",
   "name": "python3"
  },
  "language_info": {
   "codemirror_mode": {
    "name": "ipython",
    "version": 3
   },
   "file_extension": ".py",
   "mimetype": "text/x-python",
   "name": "python",
   "nbconvert_exporter": "python",
   "pygments_lexer": "ipython3",
   "version": "3.10.0"
  }
 },
 "nbformat": 4,
 "nbformat_minor": 5
}
