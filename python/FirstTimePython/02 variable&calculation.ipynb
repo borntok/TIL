{
 "cells": [
  {
   "cell_type": "code",
   "execution_count": 1,
   "id": "9accb4f9",
   "metadata": {},
   "outputs": [
    {
     "name": "stdout",
     "output_type": "stream",
     "text": [
      "참석자의 수를 입력하시오: 1\n",
      "치킨의 수:  1\n",
      "맥주의 수:  2\n",
      "케익의 수:  4\n"
     ]
    }
   ],
   "source": [
    "# 파티 준비(48p)\n",
    "\n",
    "number = int(input(\"참석자의 수를 입력하시오: \"))\n",
    "chickens = number\n",
    "beers = number * 2\n",
    "cakes = number * 4\n",
    "\n",
    "print(\"치킨의 수: \", chickens)\n",
    "print(\"맥주의 수: \", beers)\n",
    "print(\"케익의 수: \", cakes)"
   ]
  },
  {
   "cell_type": "code",
   "execution_count": 5,
   "id": "d94d9ca7",
   "metadata": {},
   "outputs": [
    {
     "name": "stdout",
     "output_type": "stream",
     "text": [
      "20 10\n",
      "15 5\n"
     ]
    }
   ],
   "source": [
    "# 변수값 교환(49p)\n",
    "\n",
    "x = 10\n",
    "y = 20\n",
    "temp = x\n",
    "x = y\n",
    "y = temp\n",
    "print(x, y)\n",
    "\n",
    "a = 5\n",
    "b = 15\n",
    "a, b = b, a\n",
    "print(a, b)"
   ]
  },
  {
   "cell_type": "code",
   "execution_count": 8,
   "id": "a8b6febb",
   "metadata": {},
   "outputs": [
    {
     "name": "stdout",
     "output_type": "stream",
     "text": [
      "첫 번째 정수:10\n",
      "두 번째 정수:-7\n",
      "합은: 3\n"
     ]
    }
   ],
   "source": [
    "x = int(input(\"첫 번째 정수:\"),)\n",
    "y = int(input(\"두 번째 정수:\"),)\n",
    "summ = x + y\n",
    "print(\"합은:\", summ)"
   ]
  },
  {
   "cell_type": "code",
   "execution_count": 13,
   "id": "b5a56a10",
   "metadata": {},
   "outputs": [
    {
     "name": "stdout",
     "output_type": "stream",
     "text": [
      "원금:1000000\n",
      "이자율:0.025\n",
      "기간(년):10\n",
      "원리금 합계: 1280084.54 원\n"
     ]
    }
   ],
   "source": [
    "a = int(input(\"원금:\"),)\n",
    "r = float(input(\"이자율:\"),)\n",
    "n = int(input(\"기간(년):\"),)\n",
    "\n",
    "print(\"원리금 합계:\",round(a*(1+r)**n, 2),\"원\")"
   ]
  },
  {
   "cell_type": "code",
   "execution_count": 14,
   "id": "bc1e88a0",
   "metadata": {},
   "outputs": [
    {
     "name": "stdout",
     "output_type": "stream",
     "text": [
      "초:650\n",
      "10 분  50 초\n"
     ]
    }
   ],
   "source": [
    "sec = int(input(\"초:\"),)\n",
    "minute = sec // 60\n",
    "remainder = sec % 60\n",
    "\n",
    "print(minute,\"분 \",remainder,\"초\")"
   ]
  },
  {
   "cell_type": "code",
   "execution_count": 15,
   "id": "7fb3b789",
   "metadata": {},
   "outputs": [
    {
     "name": "stdout",
     "output_type": "stream",
     "text": [
      "살 수 있는 사탕 개수: 41\n",
      "잔돈: 80\n"
     ]
    }
   ],
   "source": [
    "myMoney = 5000\n",
    "candyPrice = 120\n",
    "\n",
    "print(\"살 수 있는 사탕 개수:\", myMoney // candyPrice)\n",
    "print(\"잔돈:\", myMoney % candyPrice)"
   ]
  },
  {
   "cell_type": "code",
   "execution_count": 20,
   "id": "cff0d71b",
   "metadata": {},
   "outputs": [
    {
     "name": "stdout",
     "output_type": "stream",
     "text": [
      "35.0\n",
      "85.0\n"
     ]
    }
   ],
   "source": [
    "# 2차 함수 계산(59p)\n",
    "x = 2\n",
    "y = 3.0*(x**2) + 7.0*x + 9.0\n",
    "print(y)\n",
    "\n",
    "# 3차 함수 계산\n",
    "x = 3\n",
    "y = x**3 + 3.0*(x**2) + 7.0*x + 10.0\n",
    "print(y)"
   ]
  },
  {
   "cell_type": "code",
   "execution_count": 23,
   "id": "752adc7c",
   "metadata": {},
   "outputs": [
    {
     "data": {
      "text/plain": [
       "485"
      ]
     },
     "execution_count": 23,
     "metadata": {},
     "output_type": "execute_result"
    }
   ],
   "source": [
    "# 감자 재배(62p)\n",
    "\n",
    "20 + (30*52) - (365*3)"
   ]
  },
  {
   "cell_type": "code",
   "execution_count": 26,
   "id": "4be0570f",
   "metadata": {},
   "outputs": [
    {
     "name": "stdout",
     "output_type": "stream",
     "text": [
      "투자원금:24\n",
      "기간(년):12\n",
      "48.29271532405323\n"
     ]
    }
   ],
   "source": [
    "# 복리 계산(63p)\n",
    "\n",
    "# 24 * (1.06)**382\n",
    "\n",
    "init_money = int(input(\"투자원금:\",))\n",
    "years = int(input(\"기간(년):\",))\n",
    "\n",
    "print(init_money * (1.06)**years)"
   ]
  },
  {
   "cell_type": "code",
   "execution_count": 30,
   "id": "15f9de9d",
   "metadata": {},
   "outputs": [
    {
     "name": "stdout",
     "output_type": "stream",
     "text": [
      "1.5666666666666669\n"
     ]
    }
   ],
   "source": [
    "# 등산 시간 계산(67p)\n",
    "# 시간 = 거리 / 속도\n",
    "\n",
    "import math\n",
    "\n",
    "time1 = 10/20\n",
    "time2 = math.sqrt(3**2 + 4**2)/10\n",
    "time3 = math.sqrt(3**2 + 4**2)/30\n",
    "time4 = 8/20\n",
    "\n",
    "time = time1+time2+time3+time4\n",
    "\n",
    "print(time)"
   ]
  },
  {
   "cell_type": "code",
   "execution_count": 35,
   "id": "c0430305",
   "metadata": {},
   "outputs": [
    {
     "name": "stdout",
     "output_type": "stream",
     "text": [
      "반지름의 길이를 입력하시오:5\n",
      "구의 부피: 523.5986666666666\n"
     ]
    }
   ],
   "source": [
    "# 구의 부피 계산하기(74p)\n",
    "\n",
    "r = float(input(\"반지름의 길이를 입력하시오:\",))\n",
    "pi = 3.141592\n",
    "\n",
    "volume = 4/3 * pi * r**3\n",
    "print(\"구의 부피:\",volume)"
   ]
  },
  {
   "cell_type": "code",
   "execution_count": 37,
   "id": "4da29204",
   "metadata": {},
   "outputs": [
    {
     "name": "stdout",
     "output_type": "stream",
     "text": [
      "259500.0\n"
     ]
    }
   ],
   "source": [
    "# 도전문제(74p)\n",
    "# \n",
    "\n",
    "bookPrice = 28000\n",
    "discount = 0.1\n",
    "number = 10\n",
    "\n",
    "total = (bookPrice*number*(1-discount))+(3000+500*(number-1))\n",
    "print(total)"
   ]
  },
  {
   "cell_type": "code",
   "execution_count": 39,
   "id": "9062f606",
   "metadata": {},
   "outputs": [
    {
     "name": "stdout",
     "output_type": "stream",
     "text": [
      "4.227972264501945\n"
     ]
    }
   ],
   "source": [
    "# 별까지 거리 계산(75p)\n",
    "# 시간 = 거리 / 속도\n",
    "\n",
    "speed = 300000\n",
    "distance = 40 * (10**12)\n",
    "secs = distance / speed\n",
    "light_year = secs / (60*60*24*365)\n",
    "\n",
    "print(light_year)"
   ]
  },
  {
   "cell_type": "code",
   "execution_count": 45,
   "id": "c43fac7f",
   "metadata": {},
   "outputs": [
    {
     "name": "stdout",
     "output_type": "stream",
     "text": [
      "이름을 입력해주세요: 주예린\n",
      "주예린 님 반갑습니다!\n",
      "나이를 입력해주세요: 26\n",
      "10년 후면 36 살이 되시는군요!\n"
     ]
    }
   ],
   "source": [
    "#대화하는 프로그램(76p)\n",
    "\n",
    "name = input(\"이름을 입력해주세요: \")\n",
    "print(name,\"님 반갑습니다!\")\n",
    "age = int(input(\"나이를 입력해주세요: \"))\n",
    "print(\"10년 후면\", age+10,\"살이 되시는군요!\")"
   ]
  },
  {
   "cell_type": "code",
   "execution_count": 43,
   "id": "8525774d",
   "metadata": {},
   "outputs": [
    {
     "name": "stdout",
     "output_type": "stream",
     "text": [
      "물건값을 입력하시오:1260\n",
      "1000원 지폐개수:1\n",
      "500원 동전개수:0\n",
      "100원 동전개수:3\n",
      "거스름돈: 40\n",
      "500원= 0 100원= 0 10원= 4 1원= 0\n"
     ]
    }
   ],
   "source": [
    "# 자동판매기 프로그램(77p)\n",
    "\n",
    "itemPrice = int(input(\"물건값을 입력하시오:\"))\n",
    "bill = int(input(\"1000원 지폐개수:\"))\n",
    "coin500 = int(input(\"500원 동전개수:\"))\n",
    "coin100 = int(input(\"100원 동전개수:\"))\n",
    "\n",
    "change = 1000*bill + 500*coin500 + 100*coin100 - itemPrice\n",
    "print(\"거스름돈:\", change)\n",
    "\n",
    "#거스름돈 개수 계산\n",
    "\n",
    "nCoin500 = change // 500\n",
    "change = change % 500\n",
    "\n",
    "nCoin100 = change//100\n",
    "change = change%100\n",
    "\n",
    "nCoin10 = change//10\n",
    "change = change%10\n",
    "\n",
    "nCoin1 = change\n",
    "\n",
    "print(\"500원=\",nCoin500, \"100원=\",nCoin100, \"10원=\",nCoin10, \"1원=\",change)"
   ]
  },
  {
   "cell_type": "code",
   "execution_count": 49,
   "id": "ea746722",
   "metadata": {},
   "outputs": [
    {
     "name": "stdout",
     "output_type": "stream",
     "text": [
      "상품의 가격은 1000원입니다.\n",
      "현재 시간은 11:00am입니다.\n"
     ]
    }
   ],
   "source": [
    "#문자열 출력\n",
    "\n",
    "price = 1000\n",
    "print(\"상품의 가격은 %s원입니다.\" % price)\n",
    "\n",
    "message1 = \"현재 시간은 %s입니다.\"\n",
    "time = \"11:00am\"\n",
    "print(message1 % time)"
   ]
  },
  {
   "cell_type": "code",
   "execution_count": 51,
   "id": "4eff8cd9",
   "metadata": {},
   "outputs": [
    {
     "name": "stdout",
     "output_type": "stream",
     "text": [
      "년:2021\n",
      "월:11\n",
      "일:25\n",
      "오늘은 2021년 11월 25일입니다.\n"
     ]
    }
   ],
   "source": [
    "message2 = \"오늘은 %s년 %s월 %s일입니다.\"\n",
    "\n",
    "year = input(\"년:\")\n",
    "month = input(\"월:\")\n",
    "day = input(\"일:\")\n",
    "print(message2 % (year, month, day))\n"
   ]
  },
  {
   "cell_type": "code",
   "execution_count": 54,
   "id": "d9b58ef3",
   "metadata": {},
   "outputs": [
    {
     "name": "stdout",
     "output_type": "stream",
     "text": [
      "첫 번째 단어를 입력해주세요: Major\n",
      "두 번째 단어를 입력해주세요: League\n",
      "세 번째 단어를 입력해주세요: Baseball\n",
      "MLB\n"
     ]
    }
   ],
   "source": [
    "# 숫자 추측 게임\n",
    "\n",
    "word1 = input(\"첫 번째 단어를 입력해주세요: \")\n",
    "word2 = input(\"두 번째 단어를 입력해주세요: \")\n",
    "word3 = input(\"세 번째 단어를 입력해주세요: \")\n",
    "\n",
    "acronym = word1[0] + word2[0] + word3[0]\n",
    "print(acronym)"
   ]
  },
  {
   "cell_type": "code",
   "execution_count": 56,
   "id": "a0b41f75",
   "metadata": {},
   "outputs": [
    {
     "name": "stdout",
     "output_type": "stream",
     "text": [
      "[30, 20, 10] [30, 20, 10]\n"
     ]
    }
   ],
   "source": [
    "a = [10, 20, 30]\n",
    "b = a\n",
    "b.reverse()\n",
    "print(a, b)"
   ]
  },
  {
   "cell_type": "code",
   "execution_count": null,
   "id": "78c35858",
   "metadata": {},
   "outputs": [],
   "source": []
  },
  {
   "cell_type": "code",
   "execution_count": null,
   "id": "7aec81bb",
   "metadata": {},
   "outputs": [],
   "source": []
  },
  {
   "cell_type": "code",
   "execution_count": null,
   "id": "4b43f1f2",
   "metadata": {},
   "outputs": [],
   "source": []
  },
  {
   "cell_type": "code",
   "execution_count": null,
   "id": "c6d85939",
   "metadata": {},
   "outputs": [],
   "source": []
  },
  {
   "cell_type": "code",
   "execution_count": null,
   "id": "ace3c3ef",
   "metadata": {},
   "outputs": [],
   "source": []
  }
 ],
 "metadata": {
  "kernelspec": {
   "display_name": "Python 3 (ipykernel)",
   "language": "python",
   "name": "python3"
  },
  "language_info": {
   "codemirror_mode": {
    "name": "ipython",
    "version": 3
   },
   "file_extension": ".py",
   "mimetype": "text/x-python",
   "name": "python",
   "nbconvert_exporter": "python",
   "pygments_lexer": "ipython3",
   "version": "3.10.0"
  }
 },
 "nbformat": 4,
 "nbformat_minor": 5
}
