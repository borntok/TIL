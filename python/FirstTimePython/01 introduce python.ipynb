{
 "cells": [
  {
   "cell_type": "code",
   "execution_count": 2,
   "id": "3c5eb9ca",
   "metadata": {},
   "outputs": [
    {
     "name": "stdout",
     "output_type": "stream",
     "text": [
      "두꺼운 옷을 입으세요!\n"
     ]
    }
   ],
   "source": [
    "temp = 10\n",
    "\n",
    "if temp > 20 :\n",
    "    print(\"얇은 옷을 입으세요!\")\n",
    "else :\n",
    "    print(\"두꺼운 옷을 입으세요!\")"
   ]
  },
  {
   "cell_type": "code",
   "execution_count": 5,
   "id": "71a611b9",
   "metadata": {},
   "outputs": [
    {
     "name": "stdout",
     "output_type": "stream",
     "text": [
      "현재 신호를 입력하시오: go\n",
      "OK! 진행합니다\n"
     ]
    }
   ],
   "source": [
    "sign = \"stop\"\n",
    "\n",
    "while sign == \"stop\" :\n",
    "    sign = input(\"현재 신호를 입력하시오: \")\n",
    "print(\"OK! 진행합니다\")"
   ]
  },
  {
   "cell_type": "code",
   "execution_count": 15,
   "id": "629721e3",
   "metadata": {},
   "outputs": [
    {
     "name": "stdout",
     "output_type": "stream",
     "text": [
      "숫자게임에 오신 것을 환영합니다.\n",
      "1부터 100 사이의 숫자를 추측해보세요: 55\n",
      "게임이 종료되었습니다.\n"
     ]
    }
   ],
   "source": [
    "print(\"숫자게임에 오신 것을 환영합니다.\")\n",
    "\n",
    "number = 62\n",
    "s = input(\"1부터 100 사이의 숫자를 추측해보세요: \")\n",
    "guess = int(s)\n",
    "\n",
    "while number == guess :\n",
    "    \n",
    "    guess = int(s)\n",
    "    \n",
    "    if guess < number :\n",
    "        print(\"추측한 숫자보다 큽니다.\")\n",
    "        print(s)\n",
    "        guess = int(s)\n",
    "    \n",
    "    if guess > number :\n",
    "        print(\"추측한 숫자보다 작습니다.\")\n",
    "        print(s)\n",
    "        guess = int(s)\n",
    "    \n",
    "    else :\n",
    "        print(\"정답입니다\")\n",
    "        \n",
    "print(\"게임이 종료되었습니다.\")"
   ]
  },
  {
   "cell_type": "code",
   "execution_count": null,
   "id": "e4b7d71a",
   "metadata": {},
   "outputs": [],
   "source": []
  }
 ],
 "metadata": {
  "kernelspec": {
   "display_name": "Python 3 (ipykernel)",
   "language": "python",
   "name": "python3"
  },
  "language_info": {
   "codemirror_mode": {
    "name": "ipython",
    "version": 3
   },
   "file_extension": ".py",
   "mimetype": "text/x-python",
   "name": "python",
   "nbconvert_exporter": "python",
   "pygments_lexer": "ipython3",
   "version": "3.10.0"
  }
 },
 "nbformat": 4,
 "nbformat_minor": 5
}
