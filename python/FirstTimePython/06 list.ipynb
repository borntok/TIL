{
 "cells": [
  {
   "cell_type": "code",
   "execution_count": 6,
   "id": "45f8595e",
   "metadata": {},
   "outputs": [
    {
     "name": "stdout",
     "output_type": "stream",
     "text": [
      "학생 수: 5\n",
      "성적을 입력하시오: 75\n",
      "성적을 입력하시오: 85\n",
      "성적을 입력하시오: 90\n",
      "성적을 입력하시오: 65\n",
      "성적을 입력하시오: 40\n",
      "성적 평균은 71.0입니다.\n",
      "80점 이상 성적을 받은 학생은 2명 입니다.\n"
     ]
    }
   ],
   "source": [
    "# 성적 처리 프로그램(245p)\n",
    "\n",
    "students = int(input(\"학생 수: \"))\n",
    "scores = []\n",
    "scoreSum = 0\n",
    "\n",
    "for i in range(students):\n",
    "    score = int(input(\"성적을 입력하시오: \"))\n",
    "    scores.append(score)\n",
    "    scoreSum += score\n",
    "    \n",
    "highScore = 0\n",
    "\n",
    "for i in range(len(scores)):\n",
    "    if scores[i] >= 80:\n",
    "        highScore += 1\n",
    "\n",
    "print(f'성적 평균은 {scoreSum/students}입니다.')\n",
    "print(f\"80점 이상 성적을 받은 학생은 {highScore}명 입니다.\")"
   ]
  },
  {
   "cell_type": "code",
   "execution_count": 9,
   "id": "4f504b31",
   "metadata": {},
   "outputs": [
    {
     "name": "stdout",
     "output_type": "stream",
     "text": [
      "강아지의 이름을 입력하시오(종료시 엔터키) 복실이\n",
      "강아지의 이름을 입력하시오(종료시 엔터키) 해피\n",
      "강아지의 이름을 입력하시오(종료시 엔터키) \n",
      "강아지들 이름: ['복실이', '해피']\n"
     ]
    }
   ],
   "source": [
    "# 문자열 처리 프로그램(246p)\n",
    "\n",
    "dogNames = []\n",
    "\n",
    "while True:\n",
    "    name = input('강아지의 이름을 입력하시오(종료시 엔터키) ')\n",
    "    if name == '':\n",
    "        break\n",
    "    dogNames.append(name)\n",
    "    \n",
    "print(f\"강아지들 이름: {dogNames}\")"
   ]
  },
  {
   "cell_type": "code",
   "execution_count": 11,
   "id": "c5c4c926",
   "metadata": {},
   "outputs": [
    {
     "data": {
      "text/plain": [
       "1"
      ]
     },
     "execution_count": 11,
     "metadata": {},
     "output_type": "execute_result"
    }
   ],
   "source": [
    "heroes = [\"스파이더맨\", \"슈퍼맨\", \"헐크\", \"아이언맨\", \"배트맨\"]\n",
    "heroes.index(\"슈퍼맨\")"
   ]
  },
  {
   "cell_type": "code",
   "execution_count": 12,
   "id": "9ef114db",
   "metadata": {},
   "outputs": [
    {
     "name": "stdout",
     "output_type": "stream",
     "text": [
      "[0, 1, 1, 2, 3, 5, 8]\n",
      "[99, 1, 1, 2, 3, 5, 8]\n"
     ]
    }
   ],
   "source": [
    "def func2(list):\n",
    "    list[0] = 99\n",
    "    \n",
    "values = [0, 1, 1, 2, 3, 5, 8]\n",
    "print(values)\n",
    "func2(values)\n",
    "print(values)"
   ]
  },
  {
   "cell_type": "code",
   "execution_count": 14,
   "id": "bed804f3",
   "metadata": {},
   "outputs": [
    {
     "data": {
      "text/plain": [
       "[0, 1, 4, 9, 16, 25, 36, 49, 64, 81]"
      ]
     },
     "execution_count": 14,
     "metadata": {},
     "output_type": "execute_result"
    }
   ],
   "source": [
    "s = [ x**2 for x in range(10)]\n",
    "s"
   ]
  },
  {
   "cell_type": "code",
   "execution_count": 16,
   "id": "b6f8289e",
   "metadata": {},
   "outputs": [
    {
     "data": {
      "text/plain": [
       "[0, 1, 4, 9, 16, 25, 36, 49, 64, 81]"
      ]
     },
     "execution_count": 16,
     "metadata": {},
     "output_type": "execute_result"
    }
   ],
   "source": [
    "squares = []\n",
    "for x in range(10):\n",
    "    squares.append(x**2)\n",
    "    \n",
    "squares"
   ]
  },
  {
   "cell_type": "code",
   "execution_count": 17,
   "id": "71488a80",
   "metadata": {},
   "outputs": [
    {
     "data": {
      "text/plain": [
       "[6, 8, 10]"
      ]
     },
     "execution_count": 17,
     "metadata": {},
     "output_type": "execute_result"
    }
   ],
   "source": [
    "list1 = [3, 4, 5]\n",
    "list2 = [x*2 for x in list1]\n",
    "list2"
   ]
  },
  {
   "cell_type": "code",
   "execution_count": 18,
   "id": "20cfcc13",
   "metadata": {},
   "outputs": [
    {
     "data": {
      "text/plain": [
       "[0, 2, 4, 6, 8]"
      ]
     },
     "execution_count": 18,
     "metadata": {},
     "output_type": "execute_result"
    }
   ],
   "source": [
    "m = [ x for x in range(10) if x % 2 == 0]\n",
    "m"
   ]
  },
  {
   "cell_type": "code",
   "execution_count": 19,
   "id": "e6f09df4",
   "metadata": {},
   "outputs": [
    {
     "name": "stdout",
     "output_type": "stream",
     "text": [
      "['A', 'I', 'w', 'f', 'C', 'i', 'y']\n"
     ]
    }
   ],
   "source": [
    "list1 = [\"All\", \"I\", \"want\", \"for\", \"Christmas\", \"is\", \"you\"]\n",
    "items = [ x[0] for x in list1]\n",
    "print(items)"
   ]
  },
  {
   "cell_type": "code",
   "execution_count": 21,
   "id": "02ddc547",
   "metadata": {},
   "outputs": [
    {
     "name": "stdout",
     "output_type": "stream",
     "text": [
      "[3, 4, 3, 3, 10, 8, 6, 3, 1, 4, 10, 3, 4]\n"
     ]
    }
   ],
   "source": [
    "word_list = 'But then one day everything changed, you\\'re all I need underneath the tree'.split()\n",
    "word_len = [len(x) for x in word_list]\n",
    "print(word_len)"
   ]
  },
  {
   "cell_type": "code",
   "execution_count": 22,
   "id": "170034a6",
   "metadata": {},
   "outputs": [
    {
     "name": "stdout",
     "output_type": "stream",
     "text": [
      "[('앞', 1), ('앞', 2), ('앞', 3), ('앞', 4), ('앞', 5), ('앞', 6), ('뒤', 1), ('뒤', 2), ('뒤', 3), ('뒤', 4), ('뒤', 5), ('뒤', 6)]\n"
     ]
    }
   ],
   "source": [
    "coin = ['앞', '뒤']\n",
    "dice = list(range(1,7))\n",
    "outcomes = [(x, y) for x in coin for y in dice]\n",
    "print(outcomes)"
   ]
  },
  {
   "cell_type": "code",
   "execution_count": 25,
   "id": "9a085630",
   "metadata": {},
   "outputs": [
    {
     "name": "stdout",
     "output_type": "stream",
     "text": [
      "[(3, 4, 5), (4, 3, 5), (5, 12, 13), (6, 8, 10), (7, 24, 25), (8, 6, 10), (8, 15, 17), (9, 12, 15), (10, 24, 26), (12, 5, 13), (12, 9, 15), (12, 16, 20), (15, 8, 17), (15, 20, 25), (16, 12, 20), (18, 24, 30), (20, 15, 25), (20, 21, 29), (21, 20, 29), (24, 7, 25), (24, 10, 26), (24, 18, 30)]\n"
     ]
    }
   ],
   "source": [
    "# 피타고라스 삼각형(269p)\n",
    "\n",
    "Pytha = [(x, y, z) for x in range(1, 31) for y in range(1, 31) for z in range(1, 31) if x**2 + y**2 == z**2]\n",
    "print(Pytha)"
   ]
  },
  {
   "cell_type": "code",
   "execution_count": 26,
   "id": "d2087011",
   "metadata": {},
   "outputs": [
    {
     "name": "stdout",
     "output_type": "stream",
     "text": [
      "가장 짧은 단어는 cat\n"
     ]
    }
   ],
   "source": [
    "words = [\"cat\", \"mouse\", \"tiger\", \"lion\"]\n",
    "shortest = words[0]\n",
    "\n",
    "for i in range(1, len(words)):\n",
    "    if len(words[i]) < len(shortest) :\n",
    "        shortest = words[i]\n",
    "print(f'가장 짧은 단어는 {shortest}')"
   ]
  },
  {
   "cell_type": "code",
   "execution_count": 30,
   "id": "21c99856",
   "metadata": {},
   "outputs": [
    {
     "name": "stdout",
     "output_type": "stream",
     "text": [
      "탐색 성공 위치: 7\n"
     ]
    }
   ],
   "source": [
    "def linearSearch(aList, key):\n",
    "    for i in range(len(aList)):\n",
    "        if key == aList[i]:\n",
    "            return i\n",
    "    return -1\n",
    "\n",
    "numbers = [10, 20, 30, 40, 50, 60, 70, 80, 90]\n",
    "\n",
    "position = linearSearch(numbers, 80)\n",
    "\n",
    "if position != -1:\n",
    "    print(f\"탐색 성공 위치: {position}\")\n",
    "else :\n",
    "    print(\"탐색 실패\")"
   ]
  },
  {
   "cell_type": "code",
   "execution_count": 32,
   "id": "56e83bee",
   "metadata": {},
   "outputs": [
    {
     "name": "stdout",
     "output_type": "stream",
     "text": [
      "[60, 70, 80, 90]\n"
     ]
    }
   ],
   "source": [
    "numbers = [10, 20, 30, 40, 50, 60, 70, 80, 90]\n",
    "result = []\n",
    "\n",
    "for x in numbers:\n",
    "    if x > 50:\n",
    "        result.append(x)\n",
    "print(result)"
   ]
  },
  {
   "cell_type": "code",
   "execution_count": 33,
   "id": "3f0fc340",
   "metadata": {},
   "outputs": [
    {
     "name": "stdout",
     "output_type": "stream",
     "text": [
      "[1, 5, 7, 8, 9]\n"
     ]
    }
   ],
   "source": [
    "# 선택 정렬을 구현하는 함수\n",
    "\n",
    "def selectionSort(aList):\n",
    "    \n",
    "    for i in range(len(aList)):\n",
    "        least = i\n",
    "        leastValue = aList[i]\n",
    "        \n",
    "        for k in range(i+1, len(aList)):\n",
    "            if aList[k] < leastValue:\n",
    "                least = k\n",
    "                leastValue = aList[k]\n",
    "                \n",
    "        tmp = aList[i]\n",
    "        aList[i] = aList[least]\n",
    "        aList[least] = tmp\n",
    "        \n",
    "list1 = [7, 9, 5, 1, 8]\n",
    "selectionSort(list1)\n",
    "print(list1)"
   ]
  },
  {
   "cell_type": "code",
   "execution_count": 37,
   "id": "79cee6a8",
   "metadata": {},
   "outputs": [
    {
     "name": "stdout",
     "output_type": "stream",
     "text": [
      "---------------------\n",
      "1. 친구 리스트 출력\n",
      "2. 친구 추가\n",
      "3. 친구 삭제\n",
      "4. 이름 변경\n",
      "9. 종료\n",
      "메뉴를 선택하시오2\n",
      "이름을 입력하시오: 박병호\n",
      "---------------------\n",
      "1. 친구 리스트 출력\n",
      "2. 친구 추가\n",
      "3. 친구 삭제\n",
      "4. 이름 변경\n",
      "9. 종료\n",
      "메뉴를 선택하시오2\n",
      "이름을 입력하시오: 이정후\n",
      "---------------------\n",
      "1. 친구 리스트 출력\n",
      "2. 친구 추가\n",
      "3. 친구 삭제\n",
      "4. 이름 변경\n",
      "9. 종료\n",
      "메뉴를 선택하시오2\n",
      "이름을 입력하시오: 김혜성\n",
      "---------------------\n",
      "1. 친구 리스트 출력\n",
      "2. 친구 추가\n",
      "3. 친구 삭제\n",
      "4. 이름 변경\n",
      "9. 종료\n",
      "메뉴를 선택하시오9\n"
     ]
    }
   ],
   "source": [
    "# 연락처 관리 프로그램(277p)\n",
    "\n",
    "menu = 0\n",
    "friends = []\n",
    "\n",
    "while menu != 9:\n",
    "    print(\"---------------------\")\n",
    "    print(\"1. 친구 리스트 출력\")\n",
    "    print(\"2. 친구 추가\")\n",
    "    print(\"3. 친구 삭제\")\n",
    "    print(\"4. 이름 변경\")\n",
    "    print(\"9. 종료\")\n",
    "    menu = int(input(\"메뉴를 선택하시오\"))\n",
    "    \n",
    "    if menu == 1:\n",
    "        print(friends)\n",
    "    elif menu == 2:\n",
    "        name = input(\"이름을 입력하시오: \")\n",
    "        friends.append(name)\n",
    "    elif menu == 3:\n",
    "        del_menu = input(\"삭제하고 싶은 이름을 입력하시오: \")\n",
    "        if del_menu in friends:\n",
    "            friends.remove(del_name)\n",
    "        else :\n",
    "            print(\"이름이 발견되지 않았음\")\n",
    "    elif menu == 4:\n",
    "        old_name = input(\"변경하고 싶은 이름을 입력하시오: \")\n",
    "        if old_name in friends:\n",
    "            index = friends.index(old_name)\n",
    "            new_name = input(\"새로운 이름을 입력하시오: \")\n",
    "            friends[index] = new_name\n",
    "        else :\n",
    "            print(\"이름이 발견되지 않았음\")"
   ]
  },
  {
   "cell_type": "code",
   "execution_count": 39,
   "id": "7ae8849a",
   "metadata": {},
   "outputs": [
    {
     "name": "stdout",
     "output_type": "stream",
     "text": [
      "[[1, 2, 3, 4, 5], [6, 7, 8, 9, 10], [11, 12, 13, 14, 15]]\n"
     ]
    }
   ],
   "source": [
    "# 2차원 리스트 생성\n",
    "s = [\n",
    "     [1, 2, 3, 4, 5],\n",
    "     [6, 7, 8, 9, 10],\n",
    "     [11, 12, 13, 14, 15]\n",
    "]\n",
    "print(s)"
   ]
  },
  {
   "cell_type": "code",
   "execution_count": 41,
   "id": "36890cde",
   "metadata": {},
   "outputs": [
    {
     "name": "stdout",
     "output_type": "stream",
     "text": [
      "s=[[0, 0, 0, 0, 0], [0, 0, 0, 0, 0], [0, 0, 0, 0, 0]]\n"
     ]
    }
   ],
   "source": [
    "rows = 3\n",
    "cols = 5\n",
    "s = []\n",
    "\n",
    "for row in range(rows):\n",
    "    s += [[0]*cols]\n",
    "    \n",
    "print(f's={s}')"
   ]
  },
  {
   "cell_type": "code",
   "execution_count": 42,
   "id": "10a357e5",
   "metadata": {},
   "outputs": [
    {
     "name": "stdout",
     "output_type": "stream",
     "text": [
      "s=[[0, 0, 0, 0, 0], [0, 0, 0, 0, 0], [0, 0, 0, 0, 0]]\n"
     ]
    }
   ],
   "source": [
    "rows = 3\n",
    "cols = 5\n",
    "\n",
    "s = [([0])*cols for row in range(rows)]\n",
    "print(f's={s}')"
   ]
  },
  {
   "cell_type": "code",
   "execution_count": 44,
   "id": "bc5c2ba8",
   "metadata": {},
   "outputs": [
    {
     "name": "stdout",
     "output_type": "stream",
     "text": [
      "1,2,3,4,5,\n",
      "6,7,8,9,10,\n",
      "11,12,13,14,15,\n"
     ]
    }
   ],
   "source": [
    "s = [\n",
    "     [1, 2, 3, 4, 5],\n",
    "     [6, 7, 8, 9, 10],\n",
    "     [11, 12, 13, 14, 15]\n",
    "]\n",
    "\n",
    "rows = len(s)\n",
    "cols = len(s[0])\n",
    "\n",
    "for r in range(rows):\n",
    "    for c in range(cols):\n",
    "        print(s[r][c], end=\",\")\n",
    "    print()"
   ]
  },
  {
   "cell_type": "code",
   "execution_count": 45,
   "id": "068c4a94",
   "metadata": {},
   "outputs": [
    {
     "data": {
      "text/plain": [
       "[['a', 'b', 'c'], [1, 2, 3]]"
      ]
     },
     "execution_count": 45,
     "metadata": {},
     "output_type": "execute_result"
    }
   ],
   "source": [
    "a = ['a', 'b', 'c']\n",
    "n = [1, 2, 3]\n",
    "x = [a, n]\n",
    "x"
   ]
  },
  {
   "cell_type": "code",
   "execution_count": 49,
   "id": "0a7e2020",
   "metadata": {},
   "outputs": [
    {
     "name": "stdout",
     "output_type": "stream",
     "text": [
      "[[2, 3, 4, 5, 6, 7], [3, 4, 5, 6, 7, 8], [4, 5, 6, 7, 8, 9], [5, 6, 7, 8, 9, 10], [6, 7, 8, 9, 10, 11], [7, 8, 9, 10, 11, 12]]\n"
     ]
    }
   ],
   "source": [
    "# 2개의 주사위(283p)\n",
    "\n",
    "rows = 6\n",
    "cols = 6\n",
    "table = []\n",
    "\n",
    "for row in range(rows):\n",
    "    table += [[0]*cols]\n",
    "    \n",
    "for row in range(rows):\n",
    "    for col in range(cols):\n",
    "        table[row][col] = row+1+col+1\n",
    "\n",
    "print(table)    "
   ]
  },
  {
   "cell_type": "code",
   "execution_count": 50,
   "id": "06f41ff6",
   "metadata": {},
   "outputs": [
    {
     "name": "stdout",
     "output_type": "stream",
     "text": [
      "40\n"
     ]
    }
   ],
   "source": [
    "s = [\n",
    "     [1, 2, 3, 4, 5],\n",
    "     [6, 7, 8, 9, 10],\n",
    "     [11, 12, 13, 14, 15]\n",
    "]\n",
    "\n",
    "cols = len(s[0])\n",
    "sum_ = 0\n",
    "\n",
    "for c in range(cols):\n",
    "    sum_ += s[1][c]\n",
    "print(sum_)"
   ]
  },
  {
   "cell_type": "code",
   "execution_count": 52,
   "id": "e6f6f04d",
   "metadata": {},
   "outputs": [
    {
     "name": "stdout",
     "output_type": "stream",
     "text": [
      "1 0 1 0 1 0 1 0 1 0 \n",
      "0 1 0 1 0 1 0 1 0 1 \n",
      "1 0 1 0 1 0 1 0 1 0 \n",
      "0 1 0 1 0 1 0 1 0 1 \n",
      "1 0 1 0 1 0 1 0 1 0 \n",
      "0 1 0 1 0 1 0 1 0 1 \n",
      "1 0 1 0 1 0 1 0 1 0 \n",
      "0 1 0 1 0 1 0 1 0 1 \n",
      "1 0 1 0 1 0 1 0 1 0 \n",
      "0 1 0 1 0 1 0 1 0 1 \n"
     ]
    }
   ],
   "source": [
    "table = []\n",
    "\n",
    "def printList(myList):\n",
    "    for row in range(len(myList)):\n",
    "        for col in range(len(myList[0])):\n",
    "            print(myList[row][col], end=\" \")\n",
    "        print()\n",
    "        \n",
    "def init(myList):\n",
    "    for row in range(len(myList)):\n",
    "        for col in range(len(myList[0])):\n",
    "            if (row+col) % 2 == 0:\n",
    "                table[row][col] = 1\n",
    "                \n",
    "for row in range(10):\n",
    "    table += [[0]*10]\n",
    "    \n",
    "init(table)\n",
    "printList(table)"
   ]
  },
  {
   "cell_type": "code",
   "execution_count": 61,
   "id": "46a4782c",
   "metadata": {},
   "outputs": [
    {
     "name": "stdout",
     "output_type": "stream",
     "text": [
      ". . . . . . # . . # \n",
      ". . . . # . . . . . \n",
      ". # . . . . . . . # \n",
      ". . . . . . # . # . \n",
      ". # . . . . . . . # \n",
      ". . . . # . . # . # \n",
      ". . # . . . . # . . \n",
      "# . # . . . # . . # \n",
      ". . # . . # . . . . \n",
      ". . . # # . . . . # \n"
     ]
    }
   ],
   "source": [
    "# 지뢰찾기 게임(288p)\n",
    "\n",
    "import random\n",
    "\n",
    "board = [[False for x in range(10)]for y in range(10)]\n",
    "\n",
    "for r in range(10):\n",
    "    for c in range(10):\n",
    "        if (random.random() < 0.3):\n",
    "            board[r][c] = True\n",
    "            \n",
    "for r in range(10):\n",
    "    for c in range(10):\n",
    "        if board[r][c] :\n",
    "            print(\"#\", end=\" \")\n",
    "        else :\n",
    "            print(\".\", end=\" \")\n",
    "    print()"
   ]
  },
  {
   "cell_type": "code",
   "execution_count": null,
   "id": "05829770",
   "metadata": {},
   "outputs": [],
   "source": [
    "# 도전문제(289p)\n"
   ]
  }
 ],
 "metadata": {
  "kernelspec": {
   "display_name": "Python 3 (ipykernel)",
   "language": "python",
   "name": "python3"
  },
  "language_info": {
   "codemirror_mode": {
    "name": "ipython",
    "version": 3
   },
   "file_extension": ".py",
   "mimetype": "text/x-python",
   "name": "python",
   "nbconvert_exporter": "python",
   "pygments_lexer": "ipython3",
   "version": "3.9.7"
  }
 },
 "nbformat": 4,
 "nbformat_minor": 5
}
