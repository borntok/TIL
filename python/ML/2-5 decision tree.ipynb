{
 "cells": [
  {
   "cell_type": "code",
   "execution_count": 1,
   "metadata": {},
   "outputs": [],
   "source": [
    "from sklearn import tree"
   ]
  },
  {
   "cell_type": "code",
   "execution_count": 2,
   "metadata": {},
   "outputs": [],
   "source": [
    "X = [[0, 0], [1, 1]]\n",
    "Y = [0, 1]\n",
    "clf = tree.DecisionTreeClassifier()\n",
    "clf = clf.fit(X, Y)"
   ]
  },
  {
   "cell_type": "code",
   "execution_count": 3,
   "metadata": {},
   "outputs": [
    {
     "data": {
      "text/plain": [
       "array([1])"
      ]
     },
     "execution_count": 3,
     "metadata": {},
     "output_type": "execute_result"
    }
   ],
   "source": [
    "clf.predict([[1,1]])"
   ]
  },
  {
   "cell_type": "code",
   "execution_count": 4,
   "metadata": {},
   "outputs": [],
   "source": [
    "from sklearn.datasets import load_iris\n",
    "from os import system"
   ]
  },
  {
   "cell_type": "code",
   "execution_count": 6,
   "metadata": {},
   "outputs": [],
   "source": [
    "import graphviz"
   ]
  },
  {
   "cell_type": "code",
   "execution_count": 7,
   "metadata": {},
   "outputs": [],
   "source": [
    "iris = load_iris()"
   ]
  },
  {
   "cell_type": "code",
   "execution_count": 8,
   "metadata": {},
   "outputs": [
    {
     "data": {
      "text/plain": [
       "array([[5.1, 3.5, 1.4, 0.2],\n",
       "       [4.9, 3. , 1.4, 0.2],\n",
       "       [4.7, 3.2, 1.3, 0.2],\n",
       "       [4.6, 3.1, 1.5, 0.2],\n",
       "       [5. , 3.6, 1.4, 0.2],\n",
       "       [5.4, 3.9, 1.7, 0.4],\n",
       "       [4.6, 3.4, 1.4, 0.3],\n",
       "       [5. , 3.4, 1.5, 0.2],\n",
       "       [4.4, 2.9, 1.4, 0.2],\n",
       "       [4.9, 3.1, 1.5, 0.1],\n",
       "       [5.4, 3.7, 1.5, 0.2],\n",
       "       [4.8, 3.4, 1.6, 0.2],\n",
       "       [4.8, 3. , 1.4, 0.1],\n",
       "       [4.3, 3. , 1.1, 0.1],\n",
       "       [5.8, 4. , 1.2, 0.2],\n",
       "       [5.7, 4.4, 1.5, 0.4],\n",
       "       [5.4, 3.9, 1.3, 0.4],\n",
       "       [5.1, 3.5, 1.4, 0.3],\n",
       "       [5.7, 3.8, 1.7, 0.3],\n",
       "       [5.1, 3.8, 1.5, 0.3],\n",
       "       [5.4, 3.4, 1.7, 0.2],\n",
       "       [5.1, 3.7, 1.5, 0.4],\n",
       "       [4.6, 3.6, 1. , 0.2],\n",
       "       [5.1, 3.3, 1.7, 0.5],\n",
       "       [4.8, 3.4, 1.9, 0.2],\n",
       "       [5. , 3. , 1.6, 0.2],\n",
       "       [5. , 3.4, 1.6, 0.4],\n",
       "       [5.2, 3.5, 1.5, 0.2],\n",
       "       [5.2, 3.4, 1.4, 0.2],\n",
       "       [4.7, 3.2, 1.6, 0.2],\n",
       "       [4.8, 3.1, 1.6, 0.2],\n",
       "       [5.4, 3.4, 1.5, 0.4],\n",
       "       [5.2, 4.1, 1.5, 0.1],\n",
       "       [5.5, 4.2, 1.4, 0.2],\n",
       "       [4.9, 3.1, 1.5, 0.2],\n",
       "       [5. , 3.2, 1.2, 0.2],\n",
       "       [5.5, 3.5, 1.3, 0.2],\n",
       "       [4.9, 3.6, 1.4, 0.1],\n",
       "       [4.4, 3. , 1.3, 0.2],\n",
       "       [5.1, 3.4, 1.5, 0.2],\n",
       "       [5. , 3.5, 1.3, 0.3],\n",
       "       [4.5, 2.3, 1.3, 0.3],\n",
       "       [4.4, 3.2, 1.3, 0.2],\n",
       "       [5. , 3.5, 1.6, 0.6],\n",
       "       [5.1, 3.8, 1.9, 0.4],\n",
       "       [4.8, 3. , 1.4, 0.3],\n",
       "       [5.1, 3.8, 1.6, 0.2],\n",
       "       [4.6, 3.2, 1.4, 0.2],\n",
       "       [5.3, 3.7, 1.5, 0.2],\n",
       "       [5. , 3.3, 1.4, 0.2],\n",
       "       [7. , 3.2, 4.7, 1.4],\n",
       "       [6.4, 3.2, 4.5, 1.5],\n",
       "       [6.9, 3.1, 4.9, 1.5],\n",
       "       [5.5, 2.3, 4. , 1.3],\n",
       "       [6.5, 2.8, 4.6, 1.5],\n",
       "       [5.7, 2.8, 4.5, 1.3],\n",
       "       [6.3, 3.3, 4.7, 1.6],\n",
       "       [4.9, 2.4, 3.3, 1. ],\n",
       "       [6.6, 2.9, 4.6, 1.3],\n",
       "       [5.2, 2.7, 3.9, 1.4],\n",
       "       [5. , 2. , 3.5, 1. ],\n",
       "       [5.9, 3. , 4.2, 1.5],\n",
       "       [6. , 2.2, 4. , 1. ],\n",
       "       [6.1, 2.9, 4.7, 1.4],\n",
       "       [5.6, 2.9, 3.6, 1.3],\n",
       "       [6.7, 3.1, 4.4, 1.4],\n",
       "       [5.6, 3. , 4.5, 1.5],\n",
       "       [5.8, 2.7, 4.1, 1. ],\n",
       "       [6.2, 2.2, 4.5, 1.5],\n",
       "       [5.6, 2.5, 3.9, 1.1],\n",
       "       [5.9, 3.2, 4.8, 1.8],\n",
       "       [6.1, 2.8, 4. , 1.3],\n",
       "       [6.3, 2.5, 4.9, 1.5],\n",
       "       [6.1, 2.8, 4.7, 1.2],\n",
       "       [6.4, 2.9, 4.3, 1.3],\n",
       "       [6.6, 3. , 4.4, 1.4],\n",
       "       [6.8, 2.8, 4.8, 1.4],\n",
       "       [6.7, 3. , 5. , 1.7],\n",
       "       [6. , 2.9, 4.5, 1.5],\n",
       "       [5.7, 2.6, 3.5, 1. ],\n",
       "       [5.5, 2.4, 3.8, 1.1],\n",
       "       [5.5, 2.4, 3.7, 1. ],\n",
       "       [5.8, 2.7, 3.9, 1.2],\n",
       "       [6. , 2.7, 5.1, 1.6],\n",
       "       [5.4, 3. , 4.5, 1.5],\n",
       "       [6. , 3.4, 4.5, 1.6],\n",
       "       [6.7, 3.1, 4.7, 1.5],\n",
       "       [6.3, 2.3, 4.4, 1.3],\n",
       "       [5.6, 3. , 4.1, 1.3],\n",
       "       [5.5, 2.5, 4. , 1.3],\n",
       "       [5.5, 2.6, 4.4, 1.2],\n",
       "       [6.1, 3. , 4.6, 1.4],\n",
       "       [5.8, 2.6, 4. , 1.2],\n",
       "       [5. , 2.3, 3.3, 1. ],\n",
       "       [5.6, 2.7, 4.2, 1.3],\n",
       "       [5.7, 3. , 4.2, 1.2],\n",
       "       [5.7, 2.9, 4.2, 1.3],\n",
       "       [6.2, 2.9, 4.3, 1.3],\n",
       "       [5.1, 2.5, 3. , 1.1],\n",
       "       [5.7, 2.8, 4.1, 1.3],\n",
       "       [6.3, 3.3, 6. , 2.5],\n",
       "       [5.8, 2.7, 5.1, 1.9],\n",
       "       [7.1, 3. , 5.9, 2.1],\n",
       "       [6.3, 2.9, 5.6, 1.8],\n",
       "       [6.5, 3. , 5.8, 2.2],\n",
       "       [7.6, 3. , 6.6, 2.1],\n",
       "       [4.9, 2.5, 4.5, 1.7],\n",
       "       [7.3, 2.9, 6.3, 1.8],\n",
       "       [6.7, 2.5, 5.8, 1.8],\n",
       "       [7.2, 3.6, 6.1, 2.5],\n",
       "       [6.5, 3.2, 5.1, 2. ],\n",
       "       [6.4, 2.7, 5.3, 1.9],\n",
       "       [6.8, 3. , 5.5, 2.1],\n",
       "       [5.7, 2.5, 5. , 2. ],\n",
       "       [5.8, 2.8, 5.1, 2.4],\n",
       "       [6.4, 3.2, 5.3, 2.3],\n",
       "       [6.5, 3. , 5.5, 1.8],\n",
       "       [7.7, 3.8, 6.7, 2.2],\n",
       "       [7.7, 2.6, 6.9, 2.3],\n",
       "       [6. , 2.2, 5. , 1.5],\n",
       "       [6.9, 3.2, 5.7, 2.3],\n",
       "       [5.6, 2.8, 4.9, 2. ],\n",
       "       [7.7, 2.8, 6.7, 2. ],\n",
       "       [6.3, 2.7, 4.9, 1.8],\n",
       "       [6.7, 3.3, 5.7, 2.1],\n",
       "       [7.2, 3.2, 6. , 1.8],\n",
       "       [6.2, 2.8, 4.8, 1.8],\n",
       "       [6.1, 3. , 4.9, 1.8],\n",
       "       [6.4, 2.8, 5.6, 2.1],\n",
       "       [7.2, 3. , 5.8, 1.6],\n",
       "       [7.4, 2.8, 6.1, 1.9],\n",
       "       [7.9, 3.8, 6.4, 2. ],\n",
       "       [6.4, 2.8, 5.6, 2.2],\n",
       "       [6.3, 2.8, 5.1, 1.5],\n",
       "       [6.1, 2.6, 5.6, 1.4],\n",
       "       [7.7, 3. , 6.1, 2.3],\n",
       "       [6.3, 3.4, 5.6, 2.4],\n",
       "       [6.4, 3.1, 5.5, 1.8],\n",
       "       [6. , 3. , 4.8, 1.8],\n",
       "       [6.9, 3.1, 5.4, 2.1],\n",
       "       [6.7, 3.1, 5.6, 2.4],\n",
       "       [6.9, 3.1, 5.1, 2.3],\n",
       "       [5.8, 2.7, 5.1, 1.9],\n",
       "       [6.8, 3.2, 5.9, 2.3],\n",
       "       [6.7, 3.3, 5.7, 2.5],\n",
       "       [6.7, 3. , 5.2, 2.3],\n",
       "       [6.3, 2.5, 5. , 1.9],\n",
       "       [6.5, 3. , 5.2, 2. ],\n",
       "       [6.2, 3.4, 5.4, 2.3],\n",
       "       [5.9, 3. , 5.1, 1.8]])"
      ]
     },
     "execution_count": 8,
     "metadata": {},
     "output_type": "execute_result"
    }
   ],
   "source": [
    "iris.data"
   ]
  },
  {
   "cell_type": "code",
   "execution_count": 9,
   "metadata": {},
   "outputs": [
    {
     "data": {
      "text/plain": [
       "['sepal length (cm)',\n",
       " 'sepal width (cm)',\n",
       " 'petal length (cm)',\n",
       " 'petal width (cm)']"
      ]
     },
     "execution_count": 9,
     "metadata": {},
     "output_type": "execute_result"
    }
   ],
   "source": [
    "iris.feature_names"
   ]
  },
  {
   "cell_type": "code",
   "execution_count": 10,
   "metadata": {},
   "outputs": [
    {
     "data": {
      "text/plain": [
       "array([0, 0, 0, 0, 0, 0, 0, 0, 0, 0, 0, 0, 0, 0, 0, 0, 0, 0, 0, 0, 0, 0,\n",
       "       0, 0, 0, 0, 0, 0, 0, 0, 0, 0, 0, 0, 0, 0, 0, 0, 0, 0, 0, 0, 0, 0,\n",
       "       0, 0, 0, 0, 0, 0, 1, 1, 1, 1, 1, 1, 1, 1, 1, 1, 1, 1, 1, 1, 1, 1,\n",
       "       1, 1, 1, 1, 1, 1, 1, 1, 1, 1, 1, 1, 1, 1, 1, 1, 1, 1, 1, 1, 1, 1,\n",
       "       1, 1, 1, 1, 1, 1, 1, 1, 1, 1, 1, 1, 2, 2, 2, 2, 2, 2, 2, 2, 2, 2,\n",
       "       2, 2, 2, 2, 2, 2, 2, 2, 2, 2, 2, 2, 2, 2, 2, 2, 2, 2, 2, 2, 2, 2,\n",
       "       2, 2, 2, 2, 2, 2, 2, 2, 2, 2, 2, 2, 2, 2, 2, 2, 2, 2])"
      ]
     },
     "execution_count": 10,
     "metadata": {},
     "output_type": "execute_result"
    }
   ],
   "source": [
    "iris.target"
   ]
  },
  {
   "cell_type": "code",
   "execution_count": 11,
   "metadata": {},
   "outputs": [
    {
     "data": {
      "text/plain": [
       "array(['setosa', 'versicolor', 'virginica'], dtype='<U10')"
      ]
     },
     "execution_count": 11,
     "metadata": {},
     "output_type": "execute_result"
    }
   ],
   "source": [
    "iris.target_names"
   ]
  },
  {
   "cell_type": "markdown",
   "metadata": {},
   "source": [
    "### 의사결정나무 구축 및 시각화"
   ]
  },
  {
   "cell_type": "code",
   "execution_count": 12,
   "metadata": {},
   "outputs": [],
   "source": [
    "clf = tree.DecisionTreeClassifier()\n",
    "clf = clf.fit(iris.data, iris.target)"
   ]
  },
  {
   "cell_type": "code",
   "execution_count": 13,
   "metadata": {},
   "outputs": [],
   "source": [
    "dot_data = tree.export_graphviz(clf, out_file=None, feature_names=iris.feature_names, class_names=iris.target_names, filled=True, special_characters=True)"
   ]
  },
  {
   "cell_type": "code",
   "execution_count": 14,
   "metadata": {},
   "outputs": [
    {
     "data": {
      "image/svg+xml": "<?xml version=\"1.0\" encoding=\"UTF-8\" standalone=\"no\"?>\n<!DOCTYPE svg PUBLIC \"-//W3C//DTD SVG 1.1//EN\"\n \"http://www.w3.org/Graphics/SVG/1.1/DTD/svg11.dtd\">\n<!-- Generated by graphviz version 2.50.0 (20211204.2007)\n -->\n<!-- Title: Tree Pages: 1 -->\n<svg width=\"824pt\" height=\"671pt\"\n viewBox=\"0.00 0.00 824.00 671.00\" xmlns=\"http://www.w3.org/2000/svg\" xmlns:xlink=\"http://www.w3.org/1999/xlink\">\n<g id=\"graph0\" class=\"graph\" transform=\"scale(1 1) rotate(0) translate(4 667)\">\n<title>Tree</title>\n<polygon fill=\"white\" stroke=\"transparent\" points=\"-4,4 -4,-667 820,-667 820,4 -4,4\"/>\n<!-- 0 -->\n<g id=\"node1\" class=\"node\">\n<title>0</title>\n<polygon fill=\"#ffffff\" stroke=\"black\" points=\"503.5,-663 354.5,-663 354.5,-580 503.5,-580 503.5,-663\"/>\n<text text-anchor=\"start\" x=\"362.5\" y=\"-647.8\" font-family=\"Times New Roman,serif\" font-size=\"14.00\">petal length (cm) ≤ 2.45</text>\n<text text-anchor=\"start\" x=\"395.5\" y=\"-632.8\" font-family=\"Times New Roman,serif\" font-size=\"14.00\">gini = 0.667</text>\n<text text-anchor=\"start\" x=\"388\" y=\"-617.8\" font-family=\"Times New Roman,serif\" font-size=\"14.00\">samples = 150</text>\n<text text-anchor=\"start\" x=\"374.5\" y=\"-602.8\" font-family=\"Times New Roman,serif\" font-size=\"14.00\">value = [50, 50, 50]</text>\n<text text-anchor=\"start\" x=\"389.5\" y=\"-587.8\" font-family=\"Times New Roman,serif\" font-size=\"14.00\">class = setosa</text>\n</g>\n<!-- 1 -->\n<g id=\"node2\" class=\"node\">\n<title>1</title>\n<polygon fill=\"#e58139\" stroke=\"black\" points=\"412,-536.5 300,-536.5 300,-468.5 412,-468.5 412,-536.5\"/>\n<text text-anchor=\"start\" x=\"329.5\" y=\"-521.3\" font-family=\"Times New Roman,serif\" font-size=\"14.00\">gini = 0.0</text>\n<text text-anchor=\"start\" x=\"318.5\" y=\"-506.3\" font-family=\"Times New Roman,serif\" font-size=\"14.00\">samples = 50</text>\n<text text-anchor=\"start\" x=\"308\" y=\"-491.3\" font-family=\"Times New Roman,serif\" font-size=\"14.00\">value = [50, 0, 0]</text>\n<text text-anchor=\"start\" x=\"316.5\" y=\"-476.3\" font-family=\"Times New Roman,serif\" font-size=\"14.00\">class = setosa</text>\n</g>\n<!-- 0&#45;&gt;1 -->\n<g id=\"edge1\" class=\"edge\">\n<title>0&#45;&gt;1</title>\n<path fill=\"none\" stroke=\"black\" d=\"M403.67,-579.91C396.72,-568.76 389.17,-556.66 382.17,-545.44\"/>\n<polygon fill=\"black\" stroke=\"black\" points=\"384.96,-543.3 376.69,-536.67 379.02,-547 384.96,-543.3\"/>\n<text text-anchor=\"middle\" x=\"371.05\" y=\"-557.32\" font-family=\"Times New Roman,serif\" font-size=\"14.00\">True</text>\n</g>\n<!-- 2 -->\n<g id=\"node3\" class=\"node\">\n<title>2</title>\n<polygon fill=\"#ffffff\" stroke=\"black\" points=\"576,-544 430,-544 430,-461 576,-461 576,-544\"/>\n<text text-anchor=\"start\" x=\"438\" y=\"-528.8\" font-family=\"Times New Roman,serif\" font-size=\"14.00\">petal width (cm) ≤ 1.75</text>\n<text text-anchor=\"start\" x=\"476.5\" y=\"-513.8\" font-family=\"Times New Roman,serif\" font-size=\"14.00\">gini = 0.5</text>\n<text text-anchor=\"start\" x=\"462\" y=\"-498.8\" font-family=\"Times New Roman,serif\" font-size=\"14.00\">samples = 100</text>\n<text text-anchor=\"start\" x=\"451.5\" y=\"-483.8\" font-family=\"Times New Roman,serif\" font-size=\"14.00\">value = [0, 50, 50]</text>\n<text text-anchor=\"start\" x=\"453\" y=\"-468.8\" font-family=\"Times New Roman,serif\" font-size=\"14.00\">class = versicolor</text>\n</g>\n<!-- 0&#45;&gt;2 -->\n<g id=\"edge2\" class=\"edge\">\n<title>0&#45;&gt;2</title>\n<path fill=\"none\" stroke=\"black\" d=\"M454.67,-579.91C460.24,-571.1 466.19,-561.7 471.94,-552.61\"/>\n<polygon fill=\"black\" stroke=\"black\" points=\"474.98,-554.34 477.37,-544.02 469.07,-550.6 474.98,-554.34\"/>\n<text text-anchor=\"middle\" x=\"482.86\" y=\"-564.71\" font-family=\"Times New Roman,serif\" font-size=\"14.00\">False</text>\n</g>\n<!-- 3 -->\n<g id=\"node4\" class=\"node\">\n<title>3</title>\n<polygon fill=\"#4de88e\" stroke=\"black\" points=\"471.5,-425 322.5,-425 322.5,-342 471.5,-342 471.5,-425\"/>\n<text text-anchor=\"start\" x=\"330.5\" y=\"-409.8\" font-family=\"Times New Roman,serif\" font-size=\"14.00\">petal length (cm) ≤ 4.95</text>\n<text text-anchor=\"start\" x=\"363.5\" y=\"-394.8\" font-family=\"Times New Roman,serif\" font-size=\"14.00\">gini = 0.168</text>\n<text text-anchor=\"start\" x=\"359.5\" y=\"-379.8\" font-family=\"Times New Roman,serif\" font-size=\"14.00\">samples = 54</text>\n<text text-anchor=\"start\" x=\"349\" y=\"-364.8\" font-family=\"Times New Roman,serif\" font-size=\"14.00\">value = [0, 49, 5]</text>\n<text text-anchor=\"start\" x=\"347\" y=\"-349.8\" font-family=\"Times New Roman,serif\" font-size=\"14.00\">class = versicolor</text>\n</g>\n<!-- 2&#45;&gt;3 -->\n<g id=\"edge3\" class=\"edge\">\n<title>2&#45;&gt;3</title>\n<path fill=\"none\" stroke=\"black\" d=\"M466.22,-460.91C457.92,-451.74 449.03,-441.93 440.48,-432.49\"/>\n<polygon fill=\"black\" stroke=\"black\" points=\"443.02,-430.08 433.71,-425.02 437.83,-434.78 443.02,-430.08\"/>\n</g>\n<!-- 12 -->\n<g id=\"node13\" class=\"node\">\n<title>12</title>\n<polygon fill=\"#843de6\" stroke=\"black\" points=\"684.5,-425 535.5,-425 535.5,-342 684.5,-342 684.5,-425\"/>\n<text text-anchor=\"start\" x=\"543.5\" y=\"-409.8\" font-family=\"Times New Roman,serif\" font-size=\"14.00\">petal length (cm) ≤ 4.85</text>\n<text text-anchor=\"start\" x=\"576.5\" y=\"-394.8\" font-family=\"Times New Roman,serif\" font-size=\"14.00\">gini = 0.043</text>\n<text text-anchor=\"start\" x=\"572.5\" y=\"-379.8\" font-family=\"Times New Roman,serif\" font-size=\"14.00\">samples = 46</text>\n<text text-anchor=\"start\" x=\"562\" y=\"-364.8\" font-family=\"Times New Roman,serif\" font-size=\"14.00\">value = [0, 1, 45]</text>\n<text text-anchor=\"start\" x=\"564.5\" y=\"-349.8\" font-family=\"Times New Roman,serif\" font-size=\"14.00\">class = virginica</text>\n</g>\n<!-- 2&#45;&gt;12 -->\n<g id=\"edge12\" class=\"edge\">\n<title>2&#45;&gt;12</title>\n<path fill=\"none\" stroke=\"black\" d=\"M540.12,-460.91C548.51,-451.74 557.48,-441.93 566.11,-432.49\"/>\n<polygon fill=\"black\" stroke=\"black\" points=\"568.78,-434.76 572.94,-425.02 563.61,-430.04 568.78,-434.76\"/>\n</g>\n<!-- 4 -->\n<g id=\"node5\" class=\"node\">\n<title>4</title>\n<polygon fill=\"#3de684\" stroke=\"black\" points=\"261,-306 115,-306 115,-223 261,-223 261,-306\"/>\n<text text-anchor=\"start\" x=\"123\" y=\"-290.8\" font-family=\"Times New Roman,serif\" font-size=\"14.00\">petal width (cm) ≤ 1.65</text>\n<text text-anchor=\"start\" x=\"154.5\" y=\"-275.8\" font-family=\"Times New Roman,serif\" font-size=\"14.00\">gini = 0.041</text>\n<text text-anchor=\"start\" x=\"150.5\" y=\"-260.8\" font-family=\"Times New Roman,serif\" font-size=\"14.00\">samples = 48</text>\n<text text-anchor=\"start\" x=\"140\" y=\"-245.8\" font-family=\"Times New Roman,serif\" font-size=\"14.00\">value = [0, 47, 1]</text>\n<text text-anchor=\"start\" x=\"138\" y=\"-230.8\" font-family=\"Times New Roman,serif\" font-size=\"14.00\">class = versicolor</text>\n</g>\n<!-- 3&#45;&gt;4 -->\n<g id=\"edge4\" class=\"edge\">\n<title>3&#45;&gt;4</title>\n<path fill=\"none\" stroke=\"black\" d=\"M324.49,-341.91C306.66,-331.92 287.45,-321.17 269.23,-310.98\"/>\n<polygon fill=\"black\" stroke=\"black\" points=\"270.82,-307.85 260.38,-306.02 267.4,-313.96 270.82,-307.85\"/>\n</g>\n<!-- 7 -->\n<g id=\"node8\" class=\"node\">\n<title>7</title>\n<polygon fill=\"#c09cf2\" stroke=\"black\" points=\"470,-306 324,-306 324,-223 470,-223 470,-306\"/>\n<text text-anchor=\"start\" x=\"332\" y=\"-290.8\" font-family=\"Times New Roman,serif\" font-size=\"14.00\">petal width (cm) ≤ 1.55</text>\n<text text-anchor=\"start\" x=\"363.5\" y=\"-275.8\" font-family=\"Times New Roman,serif\" font-size=\"14.00\">gini = 0.444</text>\n<text text-anchor=\"start\" x=\"363\" y=\"-260.8\" font-family=\"Times New Roman,serif\" font-size=\"14.00\">samples = 6</text>\n<text text-anchor=\"start\" x=\"352.5\" y=\"-245.8\" font-family=\"Times New Roman,serif\" font-size=\"14.00\">value = [0, 2, 4]</text>\n<text text-anchor=\"start\" x=\"351.5\" y=\"-230.8\" font-family=\"Times New Roman,serif\" font-size=\"14.00\">class = virginica</text>\n</g>\n<!-- 3&#45;&gt;7 -->\n<g id=\"edge7\" class=\"edge\">\n<title>3&#45;&gt;7</title>\n<path fill=\"none\" stroke=\"black\" d=\"M397,-341.91C397,-333.65 397,-324.86 397,-316.3\"/>\n<polygon fill=\"black\" stroke=\"black\" points=\"400.5,-316.02 397,-306.02 393.5,-316.02 400.5,-316.02\"/>\n</g>\n<!-- 5 -->\n<g id=\"node6\" class=\"node\">\n<title>5</title>\n<polygon fill=\"#39e581\" stroke=\"black\" points=\"116,-179.5 0,-179.5 0,-111.5 116,-111.5 116,-179.5\"/>\n<text text-anchor=\"start\" x=\"31.5\" y=\"-164.3\" font-family=\"Times New Roman,serif\" font-size=\"14.00\">gini = 0.0</text>\n<text text-anchor=\"start\" x=\"20.5\" y=\"-149.3\" font-family=\"Times New Roman,serif\" font-size=\"14.00\">samples = 47</text>\n<text text-anchor=\"start\" x=\"10\" y=\"-134.3\" font-family=\"Times New Roman,serif\" font-size=\"14.00\">value = [0, 47, 0]</text>\n<text text-anchor=\"start\" x=\"8\" y=\"-119.3\" font-family=\"Times New Roman,serif\" font-size=\"14.00\">class = versicolor</text>\n</g>\n<!-- 4&#45;&gt;5 -->\n<g id=\"edge5\" class=\"edge\">\n<title>4&#45;&gt;5</title>\n<path fill=\"none\" stroke=\"black\" d=\"M142.9,-222.91C129.78,-211.1 115.46,-198.22 102.39,-186.45\"/>\n<polygon fill=\"black\" stroke=\"black\" points=\"104.63,-183.76 94.85,-179.67 99.94,-188.96 104.63,-183.76\"/>\n</g>\n<!-- 6 -->\n<g id=\"node7\" class=\"node\">\n<title>6</title>\n<polygon fill=\"#8139e5\" stroke=\"black\" points=\"241.5,-179.5 134.5,-179.5 134.5,-111.5 241.5,-111.5 241.5,-179.5\"/>\n<text text-anchor=\"start\" x=\"161.5\" y=\"-164.3\" font-family=\"Times New Roman,serif\" font-size=\"14.00\">gini = 0.0</text>\n<text text-anchor=\"start\" x=\"154\" y=\"-149.3\" font-family=\"Times New Roman,serif\" font-size=\"14.00\">samples = 1</text>\n<text text-anchor=\"start\" x=\"143.5\" y=\"-134.3\" font-family=\"Times New Roman,serif\" font-size=\"14.00\">value = [0, 0, 1]</text>\n<text text-anchor=\"start\" x=\"142.5\" y=\"-119.3\" font-family=\"Times New Roman,serif\" font-size=\"14.00\">class = virginica</text>\n</g>\n<!-- 4&#45;&gt;6 -->\n<g id=\"edge6\" class=\"edge\">\n<title>4&#45;&gt;6</title>\n<path fill=\"none\" stroke=\"black\" d=\"M188,-222.91C188,-212.2 188,-200.62 188,-189.78\"/>\n<polygon fill=\"black\" stroke=\"black\" points=\"191.5,-189.67 188,-179.67 184.5,-189.67 191.5,-189.67\"/>\n</g>\n<!-- 8 -->\n<g id=\"node9\" class=\"node\">\n<title>8</title>\n<polygon fill=\"#8139e5\" stroke=\"black\" points=\"366.5,-179.5 259.5,-179.5 259.5,-111.5 366.5,-111.5 366.5,-179.5\"/>\n<text text-anchor=\"start\" x=\"286.5\" y=\"-164.3\" font-family=\"Times New Roman,serif\" font-size=\"14.00\">gini = 0.0</text>\n<text text-anchor=\"start\" x=\"279\" y=\"-149.3\" font-family=\"Times New Roman,serif\" font-size=\"14.00\">samples = 3</text>\n<text text-anchor=\"start\" x=\"268.5\" y=\"-134.3\" font-family=\"Times New Roman,serif\" font-size=\"14.00\">value = [0, 0, 3]</text>\n<text text-anchor=\"start\" x=\"267.5\" y=\"-119.3\" font-family=\"Times New Roman,serif\" font-size=\"14.00\">class = virginica</text>\n</g>\n<!-- 7&#45;&gt;8 -->\n<g id=\"edge8\" class=\"edge\">\n<title>7&#45;&gt;8</title>\n<path fill=\"none\" stroke=\"black\" d=\"M367.86,-222.91C359.78,-211.65 350.99,-199.42 342.87,-188.11\"/>\n<polygon fill=\"black\" stroke=\"black\" points=\"345.49,-185.75 336.81,-179.67 339.8,-189.83 345.49,-185.75\"/>\n</g>\n<!-- 9 -->\n<g id=\"node10\" class=\"node\">\n<title>9</title>\n<polygon fill=\"#9cf2c0\" stroke=\"black\" points=\"533.5,-187 384.5,-187 384.5,-104 533.5,-104 533.5,-187\"/>\n<text text-anchor=\"start\" x=\"392.5\" y=\"-171.8\" font-family=\"Times New Roman,serif\" font-size=\"14.00\">petal length (cm) ≤ 5.45</text>\n<text text-anchor=\"start\" x=\"425.5\" y=\"-156.8\" font-family=\"Times New Roman,serif\" font-size=\"14.00\">gini = 0.444</text>\n<text text-anchor=\"start\" x=\"425\" y=\"-141.8\" font-family=\"Times New Roman,serif\" font-size=\"14.00\">samples = 3</text>\n<text text-anchor=\"start\" x=\"414.5\" y=\"-126.8\" font-family=\"Times New Roman,serif\" font-size=\"14.00\">value = [0, 2, 1]</text>\n<text text-anchor=\"start\" x=\"409\" y=\"-111.8\" font-family=\"Times New Roman,serif\" font-size=\"14.00\">class = versicolor</text>\n</g>\n<!-- 7&#45;&gt;9 -->\n<g id=\"edge9\" class=\"edge\">\n<title>7&#45;&gt;9</title>\n<path fill=\"none\" stroke=\"black\" d=\"M418.51,-222.91C423.13,-214.2 428.05,-204.9 432.83,-195.89\"/>\n<polygon fill=\"black\" stroke=\"black\" points=\"435.94,-197.5 437.53,-187.02 429.75,-194.22 435.94,-197.5\"/>\n</g>\n<!-- 10 -->\n<g id=\"node11\" class=\"node\">\n<title>10</title>\n<polygon fill=\"#39e581\" stroke=\"black\" points=\"452,-68 336,-68 336,0 452,0 452,-68\"/>\n<text text-anchor=\"start\" x=\"367.5\" y=\"-52.8\" font-family=\"Times New Roman,serif\" font-size=\"14.00\">gini = 0.0</text>\n<text text-anchor=\"start\" x=\"360\" y=\"-37.8\" font-family=\"Times New Roman,serif\" font-size=\"14.00\">samples = 2</text>\n<text text-anchor=\"start\" x=\"349.5\" y=\"-22.8\" font-family=\"Times New Roman,serif\" font-size=\"14.00\">value = [0, 2, 0]</text>\n<text text-anchor=\"start\" x=\"344\" y=\"-7.8\" font-family=\"Times New Roman,serif\" font-size=\"14.00\">class = versicolor</text>\n</g>\n<!-- 9&#45;&gt;10 -->\n<g id=\"edge10\" class=\"edge\">\n<title>9&#45;&gt;10</title>\n<path fill=\"none\" stroke=\"black\" d=\"M434.8,-103.73C429.6,-94.97 424.1,-85.7 418.88,-76.91\"/>\n<polygon fill=\"black\" stroke=\"black\" points=\"421.88,-75.11 413.77,-68.3 415.86,-78.69 421.88,-75.11\"/>\n</g>\n<!-- 11 -->\n<g id=\"node12\" class=\"node\">\n<title>11</title>\n<polygon fill=\"#8139e5\" stroke=\"black\" points=\"577.5,-68 470.5,-68 470.5,0 577.5,0 577.5,-68\"/>\n<text text-anchor=\"start\" x=\"497.5\" y=\"-52.8\" font-family=\"Times New Roman,serif\" font-size=\"14.00\">gini = 0.0</text>\n<text text-anchor=\"start\" x=\"490\" y=\"-37.8\" font-family=\"Times New Roman,serif\" font-size=\"14.00\">samples = 1</text>\n<text text-anchor=\"start\" x=\"479.5\" y=\"-22.8\" font-family=\"Times New Roman,serif\" font-size=\"14.00\">value = [0, 0, 1]</text>\n<text text-anchor=\"start\" x=\"478.5\" y=\"-7.8\" font-family=\"Times New Roman,serif\" font-size=\"14.00\">class = virginica</text>\n</g>\n<!-- 9&#45;&gt;11 -->\n<g id=\"edge11\" class=\"edge\">\n<title>9&#45;&gt;11</title>\n<path fill=\"none\" stroke=\"black\" d=\"M483.2,-103.73C488.4,-94.97 493.9,-85.7 499.12,-76.91\"/>\n<polygon fill=\"black\" stroke=\"black\" points=\"502.14,-78.69 504.23,-68.3 496.12,-75.11 502.14,-78.69\"/>\n</g>\n<!-- 13 -->\n<g id=\"node14\" class=\"node\">\n<title>13</title>\n<polygon fill=\"#c09cf2\" stroke=\"black\" points=\"685.5,-306 534.5,-306 534.5,-223 685.5,-223 685.5,-306\"/>\n<text text-anchor=\"start\" x=\"542.5\" y=\"-290.8\" font-family=\"Times New Roman,serif\" font-size=\"14.00\">sepal length (cm) ≤ 5.95</text>\n<text text-anchor=\"start\" x=\"576.5\" y=\"-275.8\" font-family=\"Times New Roman,serif\" font-size=\"14.00\">gini = 0.444</text>\n<text text-anchor=\"start\" x=\"576\" y=\"-260.8\" font-family=\"Times New Roman,serif\" font-size=\"14.00\">samples = 3</text>\n<text text-anchor=\"start\" x=\"565.5\" y=\"-245.8\" font-family=\"Times New Roman,serif\" font-size=\"14.00\">value = [0, 1, 2]</text>\n<text text-anchor=\"start\" x=\"564.5\" y=\"-230.8\" font-family=\"Times New Roman,serif\" font-size=\"14.00\">class = virginica</text>\n</g>\n<!-- 12&#45;&gt;13 -->\n<g id=\"edge13\" class=\"edge\">\n<title>12&#45;&gt;13</title>\n<path fill=\"none\" stroke=\"black\" d=\"M610,-341.91C610,-333.65 610,-324.86 610,-316.3\"/>\n<polygon fill=\"black\" stroke=\"black\" points=\"613.5,-316.02 610,-306.02 606.5,-316.02 613.5,-316.02\"/>\n</g>\n<!-- 16 -->\n<g id=\"node17\" class=\"node\">\n<title>16</title>\n<polygon fill=\"#8139e5\" stroke=\"black\" points=\"816,-298.5 704,-298.5 704,-230.5 816,-230.5 816,-298.5\"/>\n<text text-anchor=\"start\" x=\"733.5\" y=\"-283.3\" font-family=\"Times New Roman,serif\" font-size=\"14.00\">gini = 0.0</text>\n<text text-anchor=\"start\" x=\"722.5\" y=\"-268.3\" font-family=\"Times New Roman,serif\" font-size=\"14.00\">samples = 43</text>\n<text text-anchor=\"start\" x=\"712\" y=\"-253.3\" font-family=\"Times New Roman,serif\" font-size=\"14.00\">value = [0, 0, 43]</text>\n<text text-anchor=\"start\" x=\"714.5\" y=\"-238.3\" font-family=\"Times New Roman,serif\" font-size=\"14.00\">class = virginica</text>\n</g>\n<!-- 12&#45;&gt;16 -->\n<g id=\"edge16\" class=\"edge\">\n<title>12&#45;&gt;16</title>\n<path fill=\"none\" stroke=\"black\" d=\"M662.04,-341.91C677.32,-329.99 694.01,-316.98 709.21,-305.12\"/>\n<polygon fill=\"black\" stroke=\"black\" points=\"711.75,-307.58 717.48,-298.67 707.44,-302.06 711.75,-307.58\"/>\n</g>\n<!-- 14 -->\n<g id=\"node15\" class=\"node\">\n<title>14</title>\n<polygon fill=\"#39e581\" stroke=\"black\" points=\"668,-179.5 552,-179.5 552,-111.5 668,-111.5 668,-179.5\"/>\n<text text-anchor=\"start\" x=\"583.5\" y=\"-164.3\" font-family=\"Times New Roman,serif\" font-size=\"14.00\">gini = 0.0</text>\n<text text-anchor=\"start\" x=\"576\" y=\"-149.3\" font-family=\"Times New Roman,serif\" font-size=\"14.00\">samples = 1</text>\n<text text-anchor=\"start\" x=\"565.5\" y=\"-134.3\" font-family=\"Times New Roman,serif\" font-size=\"14.00\">value = [0, 1, 0]</text>\n<text text-anchor=\"start\" x=\"560\" y=\"-119.3\" font-family=\"Times New Roman,serif\" font-size=\"14.00\">class = versicolor</text>\n</g>\n<!-- 13&#45;&gt;14 -->\n<g id=\"edge14\" class=\"edge\">\n<title>13&#45;&gt;14</title>\n<path fill=\"none\" stroke=\"black\" d=\"M610,-222.91C610,-212.2 610,-200.62 610,-189.78\"/>\n<polygon fill=\"black\" stroke=\"black\" points=\"613.5,-189.67 610,-179.67 606.5,-189.67 613.5,-189.67\"/>\n</g>\n<!-- 15 -->\n<g id=\"node16\" class=\"node\">\n<title>15</title>\n<polygon fill=\"#8139e5\" stroke=\"black\" points=\"793.5,-179.5 686.5,-179.5 686.5,-111.5 793.5,-111.5 793.5,-179.5\"/>\n<text text-anchor=\"start\" x=\"713.5\" y=\"-164.3\" font-family=\"Times New Roman,serif\" font-size=\"14.00\">gini = 0.0</text>\n<text text-anchor=\"start\" x=\"706\" y=\"-149.3\" font-family=\"Times New Roman,serif\" font-size=\"14.00\">samples = 2</text>\n<text text-anchor=\"start\" x=\"695.5\" y=\"-134.3\" font-family=\"Times New Roman,serif\" font-size=\"14.00\">value = [0, 0, 2]</text>\n<text text-anchor=\"start\" x=\"694.5\" y=\"-119.3\" font-family=\"Times New Roman,serif\" font-size=\"14.00\">class = virginica</text>\n</g>\n<!-- 13&#45;&gt;15 -->\n<g id=\"edge15\" class=\"edge\">\n<title>13&#45;&gt;15</title>\n<path fill=\"none\" stroke=\"black\" d=\"M655.1,-222.91C668.22,-211.1 682.54,-198.22 695.61,-186.45\"/>\n<polygon fill=\"black\" stroke=\"black\" points=\"698.06,-188.96 703.15,-179.67 693.37,-183.76 698.06,-188.96\"/>\n</g>\n</g>\n</svg>\n",
      "text/plain": [
       "<graphviz.sources.Source at 0x197faa8a190>"
      ]
     },
     "execution_count": 14,
     "metadata": {},
     "output_type": "execute_result"
    }
   ],
   "source": [
    "graph = graphviz.Source(dot_data)\n",
    "graph"
   ]
  },
  {
   "cell_type": "code",
   "execution_count": 24,
   "metadata": {},
   "outputs": [
    {
     "data": {
      "text/plain": [
       "DecisionTreeClassifier(criterion='entropy')"
      ]
     },
     "execution_count": 24,
     "metadata": {},
     "output_type": "execute_result"
    }
   ],
   "source": [
    "# 엔트로피를 활용한 트리\n",
    "clf2 = tree.DecisionTreeClassifier(criterion='entropy')\n",
    "clf2.fit(iris.data, iris.target)"
   ]
  },
  {
   "cell_type": "code",
   "execution_count": 25,
   "metadata": {},
   "outputs": [],
   "source": [
    "dot_data2 = tree.export_graphviz(clf2, out_file=None, feature_names=iris.feature_names, class_names=iris.target_names, filled=True, special_characters=True)"
   ]
  },
  {
   "cell_type": "code",
   "execution_count": 26,
   "metadata": {},
   "outputs": [
    {
     "data": {
      "image/svg+xml": "<?xml version=\"1.0\" encoding=\"UTF-8\" standalone=\"no\"?>\n<!DOCTYPE svg PUBLIC \"-//W3C//DTD SVG 1.1//EN\"\n \"http://www.w3.org/Graphics/SVG/1.1/DTD/svg11.dtd\">\n<!-- Generated by graphviz version 2.50.0 (20211204.2007)\n -->\n<!-- Title: Tree Pages: 1 -->\n<svg width=\"826pt\" height=\"671pt\"\n viewBox=\"0.00 0.00 826.00 671.00\" xmlns=\"http://www.w3.org/2000/svg\" xmlns:xlink=\"http://www.w3.org/1999/xlink\">\n<g id=\"graph0\" class=\"graph\" transform=\"scale(1 1) rotate(0) translate(4 667)\">\n<title>Tree</title>\n<polygon fill=\"white\" stroke=\"transparent\" points=\"-4,4 -4,-667 822,-667 822,4 -4,4\"/>\n<!-- 0 -->\n<g id=\"node1\" class=\"node\">\n<title>0</title>\n<polygon fill=\"#ffffff\" stroke=\"black\" points=\"501,-663 361,-663 361,-580 501,-580 501,-663\"/>\n<text text-anchor=\"start\" x=\"369\" y=\"-647.8\" font-family=\"Times New Roman,serif\" font-size=\"14.00\">petal width (cm) ≤ 0.8</text>\n<text text-anchor=\"start\" x=\"386\" y=\"-632.8\" font-family=\"Times New Roman,serif\" font-size=\"14.00\">entropy = 1.585</text>\n<text text-anchor=\"start\" x=\"390\" y=\"-617.8\" font-family=\"Times New Roman,serif\" font-size=\"14.00\">samples = 150</text>\n<text text-anchor=\"start\" x=\"376.5\" y=\"-602.8\" font-family=\"Times New Roman,serif\" font-size=\"14.00\">value = [50, 50, 50]</text>\n<text text-anchor=\"start\" x=\"391.5\" y=\"-587.8\" font-family=\"Times New Roman,serif\" font-size=\"14.00\">class = setosa</text>\n</g>\n<!-- 1 -->\n<g id=\"node2\" class=\"node\">\n<title>1</title>\n<polygon fill=\"#e58139\" stroke=\"black\" points=\"414,-536.5 302,-536.5 302,-468.5 414,-468.5 414,-536.5\"/>\n<text text-anchor=\"start\" x=\"320\" y=\"-521.3\" font-family=\"Times New Roman,serif\" font-size=\"14.00\">entropy = 0.0</text>\n<text text-anchor=\"start\" x=\"320.5\" y=\"-506.3\" font-family=\"Times New Roman,serif\" font-size=\"14.00\">samples = 50</text>\n<text text-anchor=\"start\" x=\"310\" y=\"-491.3\" font-family=\"Times New Roman,serif\" font-size=\"14.00\">value = [50, 0, 0]</text>\n<text text-anchor=\"start\" x=\"318.5\" y=\"-476.3\" font-family=\"Times New Roman,serif\" font-size=\"14.00\">class = setosa</text>\n</g>\n<!-- 0&#45;&gt;1 -->\n<g id=\"edge1\" class=\"edge\">\n<title>0&#45;&gt;1</title>\n<path fill=\"none\" stroke=\"black\" d=\"M405.67,-579.91C398.72,-568.76 391.17,-556.66 384.17,-545.44\"/>\n<polygon fill=\"black\" stroke=\"black\" points=\"386.96,-543.3 378.69,-536.67 381.02,-547 386.96,-543.3\"/>\n<text text-anchor=\"middle\" x=\"373.05\" y=\"-557.32\" font-family=\"Times New Roman,serif\" font-size=\"14.00\">True</text>\n</g>\n<!-- 2 -->\n<g id=\"node3\" class=\"node\">\n<title>2</title>\n<polygon fill=\"#ffffff\" stroke=\"black\" points=\"578,-544 432,-544 432,-461 578,-461 578,-544\"/>\n<text text-anchor=\"start\" x=\"440\" y=\"-528.8\" font-family=\"Times New Roman,serif\" font-size=\"14.00\">petal width (cm) ≤ 1.75</text>\n<text text-anchor=\"start\" x=\"467\" y=\"-513.8\" font-family=\"Times New Roman,serif\" font-size=\"14.00\">entropy = 1.0</text>\n<text text-anchor=\"start\" x=\"464\" y=\"-498.8\" font-family=\"Times New Roman,serif\" font-size=\"14.00\">samples = 100</text>\n<text text-anchor=\"start\" x=\"453.5\" y=\"-483.8\" font-family=\"Times New Roman,serif\" font-size=\"14.00\">value = [0, 50, 50]</text>\n<text text-anchor=\"start\" x=\"455\" y=\"-468.8\" font-family=\"Times New Roman,serif\" font-size=\"14.00\">class = versicolor</text>\n</g>\n<!-- 0&#45;&gt;2 -->\n<g id=\"edge2\" class=\"edge\">\n<title>0&#45;&gt;2</title>\n<path fill=\"none\" stroke=\"black\" d=\"M456.67,-579.91C462.24,-571.1 468.19,-561.7 473.94,-552.61\"/>\n<polygon fill=\"black\" stroke=\"black\" points=\"476.98,-554.34 479.37,-544.02 471.07,-550.6 476.98,-554.34\"/>\n<text text-anchor=\"middle\" x=\"484.86\" y=\"-564.71\" font-family=\"Times New Roman,serif\" font-size=\"14.00\">False</text>\n</g>\n<!-- 3 -->\n<g id=\"node4\" class=\"node\">\n<title>3</title>\n<polygon fill=\"#4de88e\" stroke=\"black\" points=\"472.5,-425 323.5,-425 323.5,-342 472.5,-342 472.5,-425\"/>\n<text text-anchor=\"start\" x=\"331.5\" y=\"-409.8\" font-family=\"Times New Roman,serif\" font-size=\"14.00\">petal length (cm) ≤ 4.95</text>\n<text text-anchor=\"start\" x=\"353\" y=\"-394.8\" font-family=\"Times New Roman,serif\" font-size=\"14.00\">entropy = 0.445</text>\n<text text-anchor=\"start\" x=\"360.5\" y=\"-379.8\" font-family=\"Times New Roman,serif\" font-size=\"14.00\">samples = 54</text>\n<text text-anchor=\"start\" x=\"350\" y=\"-364.8\" font-family=\"Times New Roman,serif\" font-size=\"14.00\">value = [0, 49, 5]</text>\n<text text-anchor=\"start\" x=\"348\" y=\"-349.8\" font-family=\"Times New Roman,serif\" font-size=\"14.00\">class = versicolor</text>\n</g>\n<!-- 2&#45;&gt;3 -->\n<g id=\"edge3\" class=\"edge\">\n<title>2&#45;&gt;3</title>\n<path fill=\"none\" stroke=\"black\" d=\"M467.88,-460.91C459.49,-451.74 450.52,-441.93 441.89,-432.49\"/>\n<polygon fill=\"black\" stroke=\"black\" points=\"444.39,-430.04 435.06,-425.02 439.22,-434.76 444.39,-430.04\"/>\n</g>\n<!-- 12 -->\n<g id=\"node13\" class=\"node\">\n<title>12</title>\n<polygon fill=\"#843de6\" stroke=\"black\" points=\"686.5,-425 537.5,-425 537.5,-342 686.5,-342 686.5,-425\"/>\n<text text-anchor=\"start\" x=\"545.5\" y=\"-409.8\" font-family=\"Times New Roman,serif\" font-size=\"14.00\">petal length (cm) ≤ 4.85</text>\n<text text-anchor=\"start\" x=\"567\" y=\"-394.8\" font-family=\"Times New Roman,serif\" font-size=\"14.00\">entropy = 0.151</text>\n<text text-anchor=\"start\" x=\"574.5\" y=\"-379.8\" font-family=\"Times New Roman,serif\" font-size=\"14.00\">samples = 46</text>\n<text text-anchor=\"start\" x=\"564\" y=\"-364.8\" font-family=\"Times New Roman,serif\" font-size=\"14.00\">value = [0, 1, 45]</text>\n<text text-anchor=\"start\" x=\"566.5\" y=\"-349.8\" font-family=\"Times New Roman,serif\" font-size=\"14.00\">class = virginica</text>\n</g>\n<!-- 2&#45;&gt;12 -->\n<g id=\"edge12\" class=\"edge\">\n<title>2&#45;&gt;12</title>\n<path fill=\"none\" stroke=\"black\" d=\"M542.12,-460.91C550.51,-451.74 559.48,-441.93 568.11,-432.49\"/>\n<polygon fill=\"black\" stroke=\"black\" points=\"570.78,-434.76 574.94,-425.02 565.61,-430.04 570.78,-434.76\"/>\n</g>\n<!-- 4 -->\n<g id=\"node5\" class=\"node\">\n<title>4</title>\n<polygon fill=\"#3de684\" stroke=\"black\" points=\"261,-306 115,-306 115,-223 261,-223 261,-306\"/>\n<text text-anchor=\"start\" x=\"123\" y=\"-290.8\" font-family=\"Times New Roman,serif\" font-size=\"14.00\">petal width (cm) ≤ 1.65</text>\n<text text-anchor=\"start\" x=\"143\" y=\"-275.8\" font-family=\"Times New Roman,serif\" font-size=\"14.00\">entropy = 0.146</text>\n<text text-anchor=\"start\" x=\"150.5\" y=\"-260.8\" font-family=\"Times New Roman,serif\" font-size=\"14.00\">samples = 48</text>\n<text text-anchor=\"start\" x=\"140\" y=\"-245.8\" font-family=\"Times New Roman,serif\" font-size=\"14.00\">value = [0, 47, 1]</text>\n<text text-anchor=\"start\" x=\"138\" y=\"-230.8\" font-family=\"Times New Roman,serif\" font-size=\"14.00\">class = versicolor</text>\n</g>\n<!-- 3&#45;&gt;4 -->\n<g id=\"edge4\" class=\"edge\">\n<title>3&#45;&gt;4</title>\n<path fill=\"none\" stroke=\"black\" d=\"M325.14,-341.91C307.22,-331.92 287.92,-321.17 269.62,-310.98\"/>\n<polygon fill=\"black\" stroke=\"black\" points=\"271.17,-307.83 260.73,-306.02 267.76,-313.95 271.17,-307.83\"/>\n</g>\n<!-- 7 -->\n<g id=\"node8\" class=\"node\">\n<title>7</title>\n<polygon fill=\"#c09cf2\" stroke=\"black\" points=\"471,-306 325,-306 325,-223 471,-223 471,-306\"/>\n<text text-anchor=\"start\" x=\"333\" y=\"-290.8\" font-family=\"Times New Roman,serif\" font-size=\"14.00\">petal width (cm) ≤ 1.55</text>\n<text text-anchor=\"start\" x=\"353\" y=\"-275.8\" font-family=\"Times New Roman,serif\" font-size=\"14.00\">entropy = 0.918</text>\n<text text-anchor=\"start\" x=\"364\" y=\"-260.8\" font-family=\"Times New Roman,serif\" font-size=\"14.00\">samples = 6</text>\n<text text-anchor=\"start\" x=\"353.5\" y=\"-245.8\" font-family=\"Times New Roman,serif\" font-size=\"14.00\">value = [0, 2, 4]</text>\n<text text-anchor=\"start\" x=\"352.5\" y=\"-230.8\" font-family=\"Times New Roman,serif\" font-size=\"14.00\">class = virginica</text>\n</g>\n<!-- 3&#45;&gt;7 -->\n<g id=\"edge7\" class=\"edge\">\n<title>3&#45;&gt;7</title>\n<path fill=\"none\" stroke=\"black\" d=\"M398,-341.91C398,-333.65 398,-324.86 398,-316.3\"/>\n<polygon fill=\"black\" stroke=\"black\" points=\"401.5,-316.02 398,-306.02 394.5,-316.02 401.5,-316.02\"/>\n</g>\n<!-- 5 -->\n<g id=\"node6\" class=\"node\">\n<title>5</title>\n<polygon fill=\"#39e581\" stroke=\"black\" points=\"116,-179.5 0,-179.5 0,-111.5 116,-111.5 116,-179.5\"/>\n<text text-anchor=\"start\" x=\"20\" y=\"-164.3\" font-family=\"Times New Roman,serif\" font-size=\"14.00\">entropy = 0.0</text>\n<text text-anchor=\"start\" x=\"20.5\" y=\"-149.3\" font-family=\"Times New Roman,serif\" font-size=\"14.00\">samples = 47</text>\n<text text-anchor=\"start\" x=\"10\" y=\"-134.3\" font-family=\"Times New Roman,serif\" font-size=\"14.00\">value = [0, 47, 0]</text>\n<text text-anchor=\"start\" x=\"8\" y=\"-119.3\" font-family=\"Times New Roman,serif\" font-size=\"14.00\">class = versicolor</text>\n</g>\n<!-- 4&#45;&gt;5 -->\n<g id=\"edge5\" class=\"edge\">\n<title>4&#45;&gt;5</title>\n<path fill=\"none\" stroke=\"black\" d=\"M142.9,-222.91C129.78,-211.1 115.46,-198.22 102.39,-186.45\"/>\n<polygon fill=\"black\" stroke=\"black\" points=\"104.63,-183.76 94.85,-179.67 99.94,-188.96 104.63,-183.76\"/>\n</g>\n<!-- 6 -->\n<g id=\"node7\" class=\"node\">\n<title>6</title>\n<polygon fill=\"#8139e5\" stroke=\"black\" points=\"241.5,-179.5 134.5,-179.5 134.5,-111.5 241.5,-111.5 241.5,-179.5\"/>\n<text text-anchor=\"start\" x=\"150\" y=\"-164.3\" font-family=\"Times New Roman,serif\" font-size=\"14.00\">entropy = 0.0</text>\n<text text-anchor=\"start\" x=\"154\" y=\"-149.3\" font-family=\"Times New Roman,serif\" font-size=\"14.00\">samples = 1</text>\n<text text-anchor=\"start\" x=\"143.5\" y=\"-134.3\" font-family=\"Times New Roman,serif\" font-size=\"14.00\">value = [0, 0, 1]</text>\n<text text-anchor=\"start\" x=\"142.5\" y=\"-119.3\" font-family=\"Times New Roman,serif\" font-size=\"14.00\">class = virginica</text>\n</g>\n<!-- 4&#45;&gt;6 -->\n<g id=\"edge6\" class=\"edge\">\n<title>4&#45;&gt;6</title>\n<path fill=\"none\" stroke=\"black\" d=\"M188,-222.91C188,-212.2 188,-200.62 188,-189.78\"/>\n<polygon fill=\"black\" stroke=\"black\" points=\"191.5,-189.67 188,-179.67 184.5,-189.67 191.5,-189.67\"/>\n</g>\n<!-- 8 -->\n<g id=\"node9\" class=\"node\">\n<title>8</title>\n<polygon fill=\"#8139e5\" stroke=\"black\" points=\"366.5,-179.5 259.5,-179.5 259.5,-111.5 366.5,-111.5 366.5,-179.5\"/>\n<text text-anchor=\"start\" x=\"275\" y=\"-164.3\" font-family=\"Times New Roman,serif\" font-size=\"14.00\">entropy = 0.0</text>\n<text text-anchor=\"start\" x=\"279\" y=\"-149.3\" font-family=\"Times New Roman,serif\" font-size=\"14.00\">samples = 3</text>\n<text text-anchor=\"start\" x=\"268.5\" y=\"-134.3\" font-family=\"Times New Roman,serif\" font-size=\"14.00\">value = [0, 0, 3]</text>\n<text text-anchor=\"start\" x=\"267.5\" y=\"-119.3\" font-family=\"Times New Roman,serif\" font-size=\"14.00\">class = virginica</text>\n</g>\n<!-- 7&#45;&gt;8 -->\n<g id=\"edge8\" class=\"edge\">\n<title>7&#45;&gt;8</title>\n<path fill=\"none\" stroke=\"black\" d=\"M368.51,-222.91C360.25,-211.54 351.27,-199.18 342.99,-187.77\"/>\n<polygon fill=\"black\" stroke=\"black\" points=\"345.8,-185.7 337.1,-179.67 340.14,-189.81 345.8,-185.7\"/>\n</g>\n<!-- 9 -->\n<g id=\"node10\" class=\"node\">\n<title>9</title>\n<polygon fill=\"#9cf2c0\" stroke=\"black\" points=\"535.5,-187 384.5,-187 384.5,-104 535.5,-104 535.5,-187\"/>\n<text text-anchor=\"start\" x=\"392.5\" y=\"-171.8\" font-family=\"Times New Roman,serif\" font-size=\"14.00\">sepal length (cm) ≤ 6.95</text>\n<text text-anchor=\"start\" x=\"415\" y=\"-156.8\" font-family=\"Times New Roman,serif\" font-size=\"14.00\">entropy = 0.918</text>\n<text text-anchor=\"start\" x=\"426\" y=\"-141.8\" font-family=\"Times New Roman,serif\" font-size=\"14.00\">samples = 3</text>\n<text text-anchor=\"start\" x=\"415.5\" y=\"-126.8\" font-family=\"Times New Roman,serif\" font-size=\"14.00\">value = [0, 2, 1]</text>\n<text text-anchor=\"start\" x=\"410\" y=\"-111.8\" font-family=\"Times New Roman,serif\" font-size=\"14.00\">class = versicolor</text>\n</g>\n<!-- 7&#45;&gt;9 -->\n<g id=\"edge9\" class=\"edge\">\n<title>7&#45;&gt;9</title>\n<path fill=\"none\" stroke=\"black\" d=\"M419.51,-222.91C424.13,-214.2 429.05,-204.9 433.83,-195.89\"/>\n<polygon fill=\"black\" stroke=\"black\" points=\"436.94,-197.5 438.53,-187.02 430.75,-194.22 436.94,-197.5\"/>\n</g>\n<!-- 10 -->\n<g id=\"node11\" class=\"node\">\n<title>10</title>\n<polygon fill=\"#39e581\" stroke=\"black\" points=\"453,-68 337,-68 337,0 453,0 453,-68\"/>\n<text text-anchor=\"start\" x=\"357\" y=\"-52.8\" font-family=\"Times New Roman,serif\" font-size=\"14.00\">entropy = 0.0</text>\n<text text-anchor=\"start\" x=\"361\" y=\"-37.8\" font-family=\"Times New Roman,serif\" font-size=\"14.00\">samples = 2</text>\n<text text-anchor=\"start\" x=\"350.5\" y=\"-22.8\" font-family=\"Times New Roman,serif\" font-size=\"14.00\">value = [0, 2, 0]</text>\n<text text-anchor=\"start\" x=\"345\" y=\"-7.8\" font-family=\"Times New Roman,serif\" font-size=\"14.00\">class = versicolor</text>\n</g>\n<!-- 9&#45;&gt;10 -->\n<g id=\"edge10\" class=\"edge\">\n<title>9&#45;&gt;10</title>\n<path fill=\"none\" stroke=\"black\" d=\"M435.8,-103.73C430.6,-94.97 425.1,-85.7 419.88,-76.91\"/>\n<polygon fill=\"black\" stroke=\"black\" points=\"422.88,-75.11 414.77,-68.3 416.86,-78.69 422.88,-75.11\"/>\n</g>\n<!-- 11 -->\n<g id=\"node12\" class=\"node\">\n<title>11</title>\n<polygon fill=\"#8139e5\" stroke=\"black\" points=\"578.5,-68 471.5,-68 471.5,0 578.5,0 578.5,-68\"/>\n<text text-anchor=\"start\" x=\"487\" y=\"-52.8\" font-family=\"Times New Roman,serif\" font-size=\"14.00\">entropy = 0.0</text>\n<text text-anchor=\"start\" x=\"491\" y=\"-37.8\" font-family=\"Times New Roman,serif\" font-size=\"14.00\">samples = 1</text>\n<text text-anchor=\"start\" x=\"480.5\" y=\"-22.8\" font-family=\"Times New Roman,serif\" font-size=\"14.00\">value = [0, 0, 1]</text>\n<text text-anchor=\"start\" x=\"479.5\" y=\"-7.8\" font-family=\"Times New Roman,serif\" font-size=\"14.00\">class = virginica</text>\n</g>\n<!-- 9&#45;&gt;11 -->\n<g id=\"edge11\" class=\"edge\">\n<title>9&#45;&gt;11</title>\n<path fill=\"none\" stroke=\"black\" d=\"M484.2,-103.73C489.4,-94.97 494.9,-85.7 500.12,-76.91\"/>\n<polygon fill=\"black\" stroke=\"black\" points=\"503.14,-78.69 505.23,-68.3 497.12,-75.11 503.14,-78.69\"/>\n</g>\n<!-- 13 -->\n<g id=\"node14\" class=\"node\">\n<title>13</title>\n<polygon fill=\"#c09cf2\" stroke=\"black\" points=\"687.5,-306 536.5,-306 536.5,-223 687.5,-223 687.5,-306\"/>\n<text text-anchor=\"start\" x=\"544.5\" y=\"-290.8\" font-family=\"Times New Roman,serif\" font-size=\"14.00\">sepal length (cm) ≤ 5.95</text>\n<text text-anchor=\"start\" x=\"567\" y=\"-275.8\" font-family=\"Times New Roman,serif\" font-size=\"14.00\">entropy = 0.918</text>\n<text text-anchor=\"start\" x=\"578\" y=\"-260.8\" font-family=\"Times New Roman,serif\" font-size=\"14.00\">samples = 3</text>\n<text text-anchor=\"start\" x=\"567.5\" y=\"-245.8\" font-family=\"Times New Roman,serif\" font-size=\"14.00\">value = [0, 1, 2]</text>\n<text text-anchor=\"start\" x=\"566.5\" y=\"-230.8\" font-family=\"Times New Roman,serif\" font-size=\"14.00\">class = virginica</text>\n</g>\n<!-- 12&#45;&gt;13 -->\n<g id=\"edge13\" class=\"edge\">\n<title>12&#45;&gt;13</title>\n<path fill=\"none\" stroke=\"black\" d=\"M612,-341.91C612,-333.65 612,-324.86 612,-316.3\"/>\n<polygon fill=\"black\" stroke=\"black\" points=\"615.5,-316.02 612,-306.02 608.5,-316.02 615.5,-316.02\"/>\n</g>\n<!-- 16 -->\n<g id=\"node17\" class=\"node\">\n<title>16</title>\n<polygon fill=\"#8139e5\" stroke=\"black\" points=\"818,-298.5 706,-298.5 706,-230.5 818,-230.5 818,-298.5\"/>\n<text text-anchor=\"start\" x=\"724\" y=\"-283.3\" font-family=\"Times New Roman,serif\" font-size=\"14.00\">entropy = 0.0</text>\n<text text-anchor=\"start\" x=\"724.5\" y=\"-268.3\" font-family=\"Times New Roman,serif\" font-size=\"14.00\">samples = 43</text>\n<text text-anchor=\"start\" x=\"714\" y=\"-253.3\" font-family=\"Times New Roman,serif\" font-size=\"14.00\">value = [0, 0, 43]</text>\n<text text-anchor=\"start\" x=\"716.5\" y=\"-238.3\" font-family=\"Times New Roman,serif\" font-size=\"14.00\">class = virginica</text>\n</g>\n<!-- 12&#45;&gt;16 -->\n<g id=\"edge16\" class=\"edge\">\n<title>12&#45;&gt;16</title>\n<path fill=\"none\" stroke=\"black\" d=\"M664.04,-341.91C679.32,-329.99 696.01,-316.98 711.21,-305.12\"/>\n<polygon fill=\"black\" stroke=\"black\" points=\"713.75,-307.58 719.48,-298.67 709.44,-302.06 713.75,-307.58\"/>\n</g>\n<!-- 14 -->\n<g id=\"node15\" class=\"node\">\n<title>14</title>\n<polygon fill=\"#39e581\" stroke=\"black\" points=\"670,-179.5 554,-179.5 554,-111.5 670,-111.5 670,-179.5\"/>\n<text text-anchor=\"start\" x=\"574\" y=\"-164.3\" font-family=\"Times New Roman,serif\" font-size=\"14.00\">entropy = 0.0</text>\n<text text-anchor=\"start\" x=\"578\" y=\"-149.3\" font-family=\"Times New Roman,serif\" font-size=\"14.00\">samples = 1</text>\n<text text-anchor=\"start\" x=\"567.5\" y=\"-134.3\" font-family=\"Times New Roman,serif\" font-size=\"14.00\">value = [0, 1, 0]</text>\n<text text-anchor=\"start\" x=\"562\" y=\"-119.3\" font-family=\"Times New Roman,serif\" font-size=\"14.00\">class = versicolor</text>\n</g>\n<!-- 13&#45;&gt;14 -->\n<g id=\"edge14\" class=\"edge\">\n<title>13&#45;&gt;14</title>\n<path fill=\"none\" stroke=\"black\" d=\"M612,-222.91C612,-212.2 612,-200.62 612,-189.78\"/>\n<polygon fill=\"black\" stroke=\"black\" points=\"615.5,-189.67 612,-179.67 608.5,-189.67 615.5,-189.67\"/>\n</g>\n<!-- 15 -->\n<g id=\"node16\" class=\"node\">\n<title>15</title>\n<polygon fill=\"#8139e5\" stroke=\"black\" points=\"795.5,-179.5 688.5,-179.5 688.5,-111.5 795.5,-111.5 795.5,-179.5\"/>\n<text text-anchor=\"start\" x=\"704\" y=\"-164.3\" font-family=\"Times New Roman,serif\" font-size=\"14.00\">entropy = 0.0</text>\n<text text-anchor=\"start\" x=\"708\" y=\"-149.3\" font-family=\"Times New Roman,serif\" font-size=\"14.00\">samples = 2</text>\n<text text-anchor=\"start\" x=\"697.5\" y=\"-134.3\" font-family=\"Times New Roman,serif\" font-size=\"14.00\">value = [0, 0, 2]</text>\n<text text-anchor=\"start\" x=\"696.5\" y=\"-119.3\" font-family=\"Times New Roman,serif\" font-size=\"14.00\">class = virginica</text>\n</g>\n<!-- 13&#45;&gt;15 -->\n<g id=\"edge15\" class=\"edge\">\n<title>13&#45;&gt;15</title>\n<path fill=\"none\" stroke=\"black\" d=\"M657.1,-222.91C670.22,-211.1 684.54,-198.22 697.61,-186.45\"/>\n<polygon fill=\"black\" stroke=\"black\" points=\"700.06,-188.96 705.15,-179.67 695.37,-183.76 700.06,-188.96\"/>\n</g>\n</g>\n</svg>\n",
      "text/plain": [
       "<graphviz.sources.Source at 0x197faa8a880>"
      ]
     },
     "execution_count": 26,
     "metadata": {},
     "output_type": "execute_result"
    }
   ],
   "source": [
    "graph2 = graphviz.Source(dot_data2)\n",
    "graph2\n",
    "# 과적합의 문제 발생"
   ]
  },
  {
   "cell_type": "code",
   "execution_count": 18,
   "metadata": {},
   "outputs": [
    {
     "data": {
      "text/plain": [
       "DecisionTreeClassifier(criterion='entropy', max_depth=2)"
      ]
     },
     "execution_count": 18,
     "metadata": {},
     "output_type": "execute_result"
    }
   ],
   "source": [
    "# 프루닝\n",
    "clf3 = tree.DecisionTreeClassifier(criterion='entropy', max_depth=2)\n",
    "clf3.fit(iris.data, iris.target)"
   ]
  },
  {
   "cell_type": "code",
   "execution_count": 21,
   "metadata": {},
   "outputs": [],
   "source": [
    "dot_data3 = tree.export_graphviz(clf3, out_file=None, feature_names=iris.feature_names, class_names=iris.target_names, filled=True, special_characters=True)"
   ]
  },
  {
   "cell_type": "code",
   "execution_count": 22,
   "metadata": {},
   "outputs": [
    {
     "data": {
      "image/svg+xml": "<?xml version=\"1.0\" encoding=\"UTF-8\" standalone=\"no\"?>\n<!DOCTYPE svg PUBLIC \"-//W3C//DTD SVG 1.1//EN\"\n \"http://www.w3.org/Graphics/SVG/1.1/DTD/svg11.dtd\">\n<!-- Generated by graphviz version 2.50.0 (20211204.2007)\n -->\n<!-- Title: Tree Pages: 1 -->\n<svg width=\"333pt\" height=\"314pt\"\n viewBox=\"0.00 0.00 333.00 314.00\" xmlns=\"http://www.w3.org/2000/svg\" xmlns:xlink=\"http://www.w3.org/1999/xlink\">\n<g id=\"graph0\" class=\"graph\" transform=\"scale(1 1) rotate(0) translate(4 310)\">\n<title>Tree</title>\n<polygon fill=\"white\" stroke=\"transparent\" points=\"-4,4 -4,-310 329,-310 329,4 -4,4\"/>\n<!-- 0 -->\n<g id=\"node1\" class=\"node\">\n<title>0</title>\n<polygon fill=\"#ffffff\" stroke=\"black\" points=\"199,-306 59,-306 59,-223 199,-223 199,-306\"/>\n<text text-anchor=\"start\" x=\"67\" y=\"-290.8\" font-family=\"Times New Roman,serif\" font-size=\"14.00\">petal width (cm) ≤ 0.8</text>\n<text text-anchor=\"start\" x=\"84\" y=\"-275.8\" font-family=\"Times New Roman,serif\" font-size=\"14.00\">entropy = 1.585</text>\n<text text-anchor=\"start\" x=\"88\" y=\"-260.8\" font-family=\"Times New Roman,serif\" font-size=\"14.00\">samples = 150</text>\n<text text-anchor=\"start\" x=\"74.5\" y=\"-245.8\" font-family=\"Times New Roman,serif\" font-size=\"14.00\">value = [50, 50, 50]</text>\n<text text-anchor=\"start\" x=\"89.5\" y=\"-230.8\" font-family=\"Times New Roman,serif\" font-size=\"14.00\">class = setosa</text>\n</g>\n<!-- 1 -->\n<g id=\"node2\" class=\"node\">\n<title>1</title>\n<polygon fill=\"#e58139\" stroke=\"black\" points=\"112,-179.5 0,-179.5 0,-111.5 112,-111.5 112,-179.5\"/>\n<text text-anchor=\"start\" x=\"18\" y=\"-164.3\" font-family=\"Times New Roman,serif\" font-size=\"14.00\">entropy = 0.0</text>\n<text text-anchor=\"start\" x=\"18.5\" y=\"-149.3\" font-family=\"Times New Roman,serif\" font-size=\"14.00\">samples = 50</text>\n<text text-anchor=\"start\" x=\"8\" y=\"-134.3\" font-family=\"Times New Roman,serif\" font-size=\"14.00\">value = [50, 0, 0]</text>\n<text text-anchor=\"start\" x=\"16.5\" y=\"-119.3\" font-family=\"Times New Roman,serif\" font-size=\"14.00\">class = setosa</text>\n</g>\n<!-- 0&#45;&gt;1 -->\n<g id=\"edge1\" class=\"edge\">\n<title>0&#45;&gt;1</title>\n<path fill=\"none\" stroke=\"black\" d=\"M103.67,-222.91C96.72,-211.76 89.17,-199.66 82.17,-188.44\"/>\n<polygon fill=\"black\" stroke=\"black\" points=\"84.96,-186.3 76.69,-179.67 79.02,-190 84.96,-186.3\"/>\n<text text-anchor=\"middle\" x=\"71.05\" y=\"-200.32\" font-family=\"Times New Roman,serif\" font-size=\"14.00\">True</text>\n</g>\n<!-- 2 -->\n<g id=\"node3\" class=\"node\">\n<title>2</title>\n<polygon fill=\"#ffffff\" stroke=\"black\" points=\"276,-187 130,-187 130,-104 276,-104 276,-187\"/>\n<text text-anchor=\"start\" x=\"138\" y=\"-171.8\" font-family=\"Times New Roman,serif\" font-size=\"14.00\">petal width (cm) ≤ 1.75</text>\n<text text-anchor=\"start\" x=\"165\" y=\"-156.8\" font-family=\"Times New Roman,serif\" font-size=\"14.00\">entropy = 1.0</text>\n<text text-anchor=\"start\" x=\"162\" y=\"-141.8\" font-family=\"Times New Roman,serif\" font-size=\"14.00\">samples = 100</text>\n<text text-anchor=\"start\" x=\"151.5\" y=\"-126.8\" font-family=\"Times New Roman,serif\" font-size=\"14.00\">value = [0, 50, 50]</text>\n<text text-anchor=\"start\" x=\"153\" y=\"-111.8\" font-family=\"Times New Roman,serif\" font-size=\"14.00\">class = versicolor</text>\n</g>\n<!-- 0&#45;&gt;2 -->\n<g id=\"edge2\" class=\"edge\">\n<title>0&#45;&gt;2</title>\n<path fill=\"none\" stroke=\"black\" d=\"M154.67,-222.91C160.24,-214.1 166.19,-204.7 171.94,-195.61\"/>\n<polygon fill=\"black\" stroke=\"black\" points=\"174.98,-197.34 177.37,-187.02 169.07,-193.6 174.98,-197.34\"/>\n<text text-anchor=\"middle\" x=\"182.86\" y=\"-207.71\" font-family=\"Times New Roman,serif\" font-size=\"14.00\">False</text>\n</g>\n<!-- 3 -->\n<g id=\"node4\" class=\"node\">\n<title>3</title>\n<polygon fill=\"#4de88e\" stroke=\"black\" points=\"195,-68 79,-68 79,0 195,0 195,-68\"/>\n<text text-anchor=\"start\" x=\"92\" y=\"-52.8\" font-family=\"Times New Roman,serif\" font-size=\"14.00\">entropy = 0.445</text>\n<text text-anchor=\"start\" x=\"99.5\" y=\"-37.8\" font-family=\"Times New Roman,serif\" font-size=\"14.00\">samples = 54</text>\n<text text-anchor=\"start\" x=\"89\" y=\"-22.8\" font-family=\"Times New Roman,serif\" font-size=\"14.00\">value = [0, 49, 5]</text>\n<text text-anchor=\"start\" x=\"87\" y=\"-7.8\" font-family=\"Times New Roman,serif\" font-size=\"14.00\">class = versicolor</text>\n</g>\n<!-- 2&#45;&gt;3 -->\n<g id=\"edge3\" class=\"edge\">\n<title>2&#45;&gt;3</title>\n<path fill=\"none\" stroke=\"black\" d=\"M178.42,-103.73C173.15,-94.97 167.56,-85.7 162.26,-76.91\"/>\n<polygon fill=\"black\" stroke=\"black\" points=\"165.23,-75.06 157.07,-68.3 159.24,-78.67 165.23,-75.06\"/>\n</g>\n<!-- 4 -->\n<g id=\"node5\" class=\"node\">\n<title>4</title>\n<polygon fill=\"#843de6\" stroke=\"black\" points=\"325,-68 213,-68 213,0 325,0 325,-68\"/>\n<text text-anchor=\"start\" x=\"224\" y=\"-52.8\" font-family=\"Times New Roman,serif\" font-size=\"14.00\">entropy = 0.151</text>\n<text text-anchor=\"start\" x=\"231.5\" y=\"-37.8\" font-family=\"Times New Roman,serif\" font-size=\"14.00\">samples = 46</text>\n<text text-anchor=\"start\" x=\"221\" y=\"-22.8\" font-family=\"Times New Roman,serif\" font-size=\"14.00\">value = [0, 1, 45]</text>\n<text text-anchor=\"start\" x=\"223.5\" y=\"-7.8\" font-family=\"Times New Roman,serif\" font-size=\"14.00\">class = virginica</text>\n</g>\n<!-- 2&#45;&gt;4 -->\n<g id=\"edge4\" class=\"edge\">\n<title>2&#45;&gt;4</title>\n<path fill=\"none\" stroke=\"black\" d=\"M227.58,-103.73C232.85,-94.97 238.44,-85.7 243.74,-76.91\"/>\n<polygon fill=\"black\" stroke=\"black\" points=\"246.76,-78.67 248.93,-68.3 240.77,-75.06 246.76,-78.67\"/>\n</g>\n</g>\n</svg>\n",
      "text/plain": [
       "<graphviz.sources.Source at 0x197faa8a850>"
      ]
     },
     "execution_count": 22,
     "metadata": {},
     "output_type": "execute_result"
    }
   ],
   "source": [
    "graph3 = graphviz.Source(dot_data3)\n",
    "graph3"
   ]
  },
  {
   "cell_type": "code",
   "execution_count": 27,
   "metadata": {},
   "outputs": [
    {
     "data": {
      "text/plain": [
       "array([[50,  0,  0],\n",
       "       [ 0, 50,  0],\n",
       "       [ 0,  0, 50]], dtype=int64)"
      ]
     },
     "execution_count": 27,
     "metadata": {},
     "output_type": "execute_result"
    }
   ],
   "source": [
    "# confusion matrix\n",
    "from sklearn.metrics import confusion_matrix\n",
    "confusion_matrix(iris.target, clf.predict(iris.data)) #지니계수"
   ]
  },
  {
   "cell_type": "code",
   "execution_count": 28,
   "metadata": {},
   "outputs": [
    {
     "data": {
      "text/plain": [
       "array([[50,  0,  0],\n",
       "       [ 0, 50,  0],\n",
       "       [ 0,  0, 50]], dtype=int64)"
      ]
     },
     "execution_count": 28,
     "metadata": {},
     "output_type": "execute_result"
    }
   ],
   "source": [
    "confusion_matrix(iris.target, clf2.predict(iris.data)) #엔트로피"
   ]
  },
  {
   "cell_type": "code",
   "execution_count": 29,
   "metadata": {},
   "outputs": [
    {
     "data": {
      "text/plain": [
       "array([[50,  0,  0],\n",
       "       [ 0, 49,  1],\n",
       "       [ 0,  5, 45]], dtype=int64)"
      ]
     },
     "execution_count": 29,
     "metadata": {},
     "output_type": "execute_result"
    }
   ],
   "source": [
    "confusion_matrix(iris.target, clf3.predict(iris.data)) #프루닝 depth=2"
   ]
  },
  {
   "cell_type": "markdown",
   "metadata": {},
   "source": [
    "### Training-Test 구분 및 confusion matrix 계산"
   ]
  },
  {
   "cell_type": "code",
   "execution_count": 30,
   "metadata": {},
   "outputs": [],
   "source": [
    "from sklearn.model_selection import train_test_split"
   ]
  },
  {
   "cell_type": "code",
   "execution_count": 32,
   "metadata": {},
   "outputs": [],
   "source": [
    "X_train, X_test, y_train, y_test = train_test_split(iris.data, iris.target, stratify=iris.target, random_state=1) #층화추출(stratify)"
   ]
  },
  {
   "cell_type": "code",
   "execution_count": 33,
   "metadata": {},
   "outputs": [
    {
     "data": {
      "text/plain": [
       "DecisionTreeClassifier(criterion='entropy')"
      ]
     },
     "execution_count": 33,
     "metadata": {},
     "output_type": "execute_result"
    }
   ],
   "source": [
    "clf4 = tree.DecisionTreeClassifier(criterion='entropy')\n",
    "clf4.fit(X_train, y_train)"
   ]
  },
  {
   "cell_type": "code",
   "execution_count": 34,
   "metadata": {},
   "outputs": [
    {
     "data": {
      "text/plain": [
       "array([[12,  0,  0],\n",
       "       [ 0, 13,  0],\n",
       "       [ 0,  2, 11]], dtype=int64)"
      ]
     },
     "execution_count": 34,
     "metadata": {},
     "output_type": "execute_result"
    }
   ],
   "source": [
    "confusion_matrix(y_test, clf4.predict(X_test))"
   ]
  },
  {
   "cell_type": "markdown",
   "metadata": {},
   "source": [
    "### Decision regression tree"
   ]
  },
  {
   "cell_type": "code",
   "execution_count": 35,
   "metadata": {},
   "outputs": [],
   "source": [
    "import numpy as np\n",
    "from sklearn.tree import DecisionTreeRegressor\n",
    "import matplotlib.pyplot as plt"
   ]
  },
  {
   "cell_type": "code",
   "execution_count": 36,
   "metadata": {},
   "outputs": [],
   "source": [
    "rng = np.random.RandomState(1)\n",
    "X = np.sort(5 * rng.rand(80, 1), axis=0)\n",
    "y = np.sin(X).ravel()\n",
    "y[::5] += 3 * (0.5-rng.rand(16))"
   ]
  },
  {
   "cell_type": "code",
   "execution_count": 43,
   "metadata": {},
   "outputs": [],
   "source": [
    "regr1 = tree.DecisionTreeRegressor(max_depth=2)\n",
    "regr2 = tree.DecisionTreeRegressor(max_depth=5)"
   ]
  },
  {
   "cell_type": "code",
   "execution_count": 44,
   "metadata": {},
   "outputs": [
    {
     "data": {
      "text/plain": [
       "DecisionTreeRegressor(max_depth=2)"
      ]
     },
     "execution_count": 44,
     "metadata": {},
     "output_type": "execute_result"
    }
   ],
   "source": [
    "regr1.fit(X, y)"
   ]
  },
  {
   "cell_type": "code",
   "execution_count": 45,
   "metadata": {},
   "outputs": [
    {
     "data": {
      "text/plain": [
       "DecisionTreeRegressor(max_depth=5)"
      ]
     },
     "execution_count": 45,
     "metadata": {},
     "output_type": "execute_result"
    }
   ],
   "source": [
    "regr2.fit(X, y)"
   ]
  },
  {
   "cell_type": "code",
   "execution_count": 46,
   "metadata": {},
   "outputs": [
    {
     "data": {
      "text/plain": [
       "array([[0.  ],\n",
       "       [0.01],\n",
       "       [0.02],\n",
       "       [0.03],\n",
       "       [0.04],\n",
       "       [0.05],\n",
       "       [0.06],\n",
       "       [0.07],\n",
       "       [0.08],\n",
       "       [0.09],\n",
       "       [0.1 ],\n",
       "       [0.11],\n",
       "       [0.12],\n",
       "       [0.13],\n",
       "       [0.14],\n",
       "       [0.15],\n",
       "       [0.16],\n",
       "       [0.17],\n",
       "       [0.18],\n",
       "       [0.19],\n",
       "       [0.2 ],\n",
       "       [0.21],\n",
       "       [0.22],\n",
       "       [0.23],\n",
       "       [0.24],\n",
       "       [0.25],\n",
       "       [0.26],\n",
       "       [0.27],\n",
       "       [0.28],\n",
       "       [0.29],\n",
       "       [0.3 ],\n",
       "       [0.31],\n",
       "       [0.32],\n",
       "       [0.33],\n",
       "       [0.34],\n",
       "       [0.35],\n",
       "       [0.36],\n",
       "       [0.37],\n",
       "       [0.38],\n",
       "       [0.39],\n",
       "       [0.4 ],\n",
       "       [0.41],\n",
       "       [0.42],\n",
       "       [0.43],\n",
       "       [0.44],\n",
       "       [0.45],\n",
       "       [0.46],\n",
       "       [0.47],\n",
       "       [0.48],\n",
       "       [0.49],\n",
       "       [0.5 ],\n",
       "       [0.51],\n",
       "       [0.52],\n",
       "       [0.53],\n",
       "       [0.54],\n",
       "       [0.55],\n",
       "       [0.56],\n",
       "       [0.57],\n",
       "       [0.58],\n",
       "       [0.59],\n",
       "       [0.6 ],\n",
       "       [0.61],\n",
       "       [0.62],\n",
       "       [0.63],\n",
       "       [0.64],\n",
       "       [0.65],\n",
       "       [0.66],\n",
       "       [0.67],\n",
       "       [0.68],\n",
       "       [0.69],\n",
       "       [0.7 ],\n",
       "       [0.71],\n",
       "       [0.72],\n",
       "       [0.73],\n",
       "       [0.74],\n",
       "       [0.75],\n",
       "       [0.76],\n",
       "       [0.77],\n",
       "       [0.78],\n",
       "       [0.79],\n",
       "       [0.8 ],\n",
       "       [0.81],\n",
       "       [0.82],\n",
       "       [0.83],\n",
       "       [0.84],\n",
       "       [0.85],\n",
       "       [0.86],\n",
       "       [0.87],\n",
       "       [0.88],\n",
       "       [0.89],\n",
       "       [0.9 ],\n",
       "       [0.91],\n",
       "       [0.92],\n",
       "       [0.93],\n",
       "       [0.94],\n",
       "       [0.95],\n",
       "       [0.96],\n",
       "       [0.97],\n",
       "       [0.98],\n",
       "       [0.99],\n",
       "       [1.  ],\n",
       "       [1.01],\n",
       "       [1.02],\n",
       "       [1.03],\n",
       "       [1.04],\n",
       "       [1.05],\n",
       "       [1.06],\n",
       "       [1.07],\n",
       "       [1.08],\n",
       "       [1.09],\n",
       "       [1.1 ],\n",
       "       [1.11],\n",
       "       [1.12],\n",
       "       [1.13],\n",
       "       [1.14],\n",
       "       [1.15],\n",
       "       [1.16],\n",
       "       [1.17],\n",
       "       [1.18],\n",
       "       [1.19],\n",
       "       [1.2 ],\n",
       "       [1.21],\n",
       "       [1.22],\n",
       "       [1.23],\n",
       "       [1.24],\n",
       "       [1.25],\n",
       "       [1.26],\n",
       "       [1.27],\n",
       "       [1.28],\n",
       "       [1.29],\n",
       "       [1.3 ],\n",
       "       [1.31],\n",
       "       [1.32],\n",
       "       [1.33],\n",
       "       [1.34],\n",
       "       [1.35],\n",
       "       [1.36],\n",
       "       [1.37],\n",
       "       [1.38],\n",
       "       [1.39],\n",
       "       [1.4 ],\n",
       "       [1.41],\n",
       "       [1.42],\n",
       "       [1.43],\n",
       "       [1.44],\n",
       "       [1.45],\n",
       "       [1.46],\n",
       "       [1.47],\n",
       "       [1.48],\n",
       "       [1.49],\n",
       "       [1.5 ],\n",
       "       [1.51],\n",
       "       [1.52],\n",
       "       [1.53],\n",
       "       [1.54],\n",
       "       [1.55],\n",
       "       [1.56],\n",
       "       [1.57],\n",
       "       [1.58],\n",
       "       [1.59],\n",
       "       [1.6 ],\n",
       "       [1.61],\n",
       "       [1.62],\n",
       "       [1.63],\n",
       "       [1.64],\n",
       "       [1.65],\n",
       "       [1.66],\n",
       "       [1.67],\n",
       "       [1.68],\n",
       "       [1.69],\n",
       "       [1.7 ],\n",
       "       [1.71],\n",
       "       [1.72],\n",
       "       [1.73],\n",
       "       [1.74],\n",
       "       [1.75],\n",
       "       [1.76],\n",
       "       [1.77],\n",
       "       [1.78],\n",
       "       [1.79],\n",
       "       [1.8 ],\n",
       "       [1.81],\n",
       "       [1.82],\n",
       "       [1.83],\n",
       "       [1.84],\n",
       "       [1.85],\n",
       "       [1.86],\n",
       "       [1.87],\n",
       "       [1.88],\n",
       "       [1.89],\n",
       "       [1.9 ],\n",
       "       [1.91],\n",
       "       [1.92],\n",
       "       [1.93],\n",
       "       [1.94],\n",
       "       [1.95],\n",
       "       [1.96],\n",
       "       [1.97],\n",
       "       [1.98],\n",
       "       [1.99],\n",
       "       [2.  ],\n",
       "       [2.01],\n",
       "       [2.02],\n",
       "       [2.03],\n",
       "       [2.04],\n",
       "       [2.05],\n",
       "       [2.06],\n",
       "       [2.07],\n",
       "       [2.08],\n",
       "       [2.09],\n",
       "       [2.1 ],\n",
       "       [2.11],\n",
       "       [2.12],\n",
       "       [2.13],\n",
       "       [2.14],\n",
       "       [2.15],\n",
       "       [2.16],\n",
       "       [2.17],\n",
       "       [2.18],\n",
       "       [2.19],\n",
       "       [2.2 ],\n",
       "       [2.21],\n",
       "       [2.22],\n",
       "       [2.23],\n",
       "       [2.24],\n",
       "       [2.25],\n",
       "       [2.26],\n",
       "       [2.27],\n",
       "       [2.28],\n",
       "       [2.29],\n",
       "       [2.3 ],\n",
       "       [2.31],\n",
       "       [2.32],\n",
       "       [2.33],\n",
       "       [2.34],\n",
       "       [2.35],\n",
       "       [2.36],\n",
       "       [2.37],\n",
       "       [2.38],\n",
       "       [2.39],\n",
       "       [2.4 ],\n",
       "       [2.41],\n",
       "       [2.42],\n",
       "       [2.43],\n",
       "       [2.44],\n",
       "       [2.45],\n",
       "       [2.46],\n",
       "       [2.47],\n",
       "       [2.48],\n",
       "       [2.49],\n",
       "       [2.5 ],\n",
       "       [2.51],\n",
       "       [2.52],\n",
       "       [2.53],\n",
       "       [2.54],\n",
       "       [2.55],\n",
       "       [2.56],\n",
       "       [2.57],\n",
       "       [2.58],\n",
       "       [2.59],\n",
       "       [2.6 ],\n",
       "       [2.61],\n",
       "       [2.62],\n",
       "       [2.63],\n",
       "       [2.64],\n",
       "       [2.65],\n",
       "       [2.66],\n",
       "       [2.67],\n",
       "       [2.68],\n",
       "       [2.69],\n",
       "       [2.7 ],\n",
       "       [2.71],\n",
       "       [2.72],\n",
       "       [2.73],\n",
       "       [2.74],\n",
       "       [2.75],\n",
       "       [2.76],\n",
       "       [2.77],\n",
       "       [2.78],\n",
       "       [2.79],\n",
       "       [2.8 ],\n",
       "       [2.81],\n",
       "       [2.82],\n",
       "       [2.83],\n",
       "       [2.84],\n",
       "       [2.85],\n",
       "       [2.86],\n",
       "       [2.87],\n",
       "       [2.88],\n",
       "       [2.89],\n",
       "       [2.9 ],\n",
       "       [2.91],\n",
       "       [2.92],\n",
       "       [2.93],\n",
       "       [2.94],\n",
       "       [2.95],\n",
       "       [2.96],\n",
       "       [2.97],\n",
       "       [2.98],\n",
       "       [2.99],\n",
       "       [3.  ],\n",
       "       [3.01],\n",
       "       [3.02],\n",
       "       [3.03],\n",
       "       [3.04],\n",
       "       [3.05],\n",
       "       [3.06],\n",
       "       [3.07],\n",
       "       [3.08],\n",
       "       [3.09],\n",
       "       [3.1 ],\n",
       "       [3.11],\n",
       "       [3.12],\n",
       "       [3.13],\n",
       "       [3.14],\n",
       "       [3.15],\n",
       "       [3.16],\n",
       "       [3.17],\n",
       "       [3.18],\n",
       "       [3.19],\n",
       "       [3.2 ],\n",
       "       [3.21],\n",
       "       [3.22],\n",
       "       [3.23],\n",
       "       [3.24],\n",
       "       [3.25],\n",
       "       [3.26],\n",
       "       [3.27],\n",
       "       [3.28],\n",
       "       [3.29],\n",
       "       [3.3 ],\n",
       "       [3.31],\n",
       "       [3.32],\n",
       "       [3.33],\n",
       "       [3.34],\n",
       "       [3.35],\n",
       "       [3.36],\n",
       "       [3.37],\n",
       "       [3.38],\n",
       "       [3.39],\n",
       "       [3.4 ],\n",
       "       [3.41],\n",
       "       [3.42],\n",
       "       [3.43],\n",
       "       [3.44],\n",
       "       [3.45],\n",
       "       [3.46],\n",
       "       [3.47],\n",
       "       [3.48],\n",
       "       [3.49],\n",
       "       [3.5 ],\n",
       "       [3.51],\n",
       "       [3.52],\n",
       "       [3.53],\n",
       "       [3.54],\n",
       "       [3.55],\n",
       "       [3.56],\n",
       "       [3.57],\n",
       "       [3.58],\n",
       "       [3.59],\n",
       "       [3.6 ],\n",
       "       [3.61],\n",
       "       [3.62],\n",
       "       [3.63],\n",
       "       [3.64],\n",
       "       [3.65],\n",
       "       [3.66],\n",
       "       [3.67],\n",
       "       [3.68],\n",
       "       [3.69],\n",
       "       [3.7 ],\n",
       "       [3.71],\n",
       "       [3.72],\n",
       "       [3.73],\n",
       "       [3.74],\n",
       "       [3.75],\n",
       "       [3.76],\n",
       "       [3.77],\n",
       "       [3.78],\n",
       "       [3.79],\n",
       "       [3.8 ],\n",
       "       [3.81],\n",
       "       [3.82],\n",
       "       [3.83],\n",
       "       [3.84],\n",
       "       [3.85],\n",
       "       [3.86],\n",
       "       [3.87],\n",
       "       [3.88],\n",
       "       [3.89],\n",
       "       [3.9 ],\n",
       "       [3.91],\n",
       "       [3.92],\n",
       "       [3.93],\n",
       "       [3.94],\n",
       "       [3.95],\n",
       "       [3.96],\n",
       "       [3.97],\n",
       "       [3.98],\n",
       "       [3.99],\n",
       "       [4.  ],\n",
       "       [4.01],\n",
       "       [4.02],\n",
       "       [4.03],\n",
       "       [4.04],\n",
       "       [4.05],\n",
       "       [4.06],\n",
       "       [4.07],\n",
       "       [4.08],\n",
       "       [4.09],\n",
       "       [4.1 ],\n",
       "       [4.11],\n",
       "       [4.12],\n",
       "       [4.13],\n",
       "       [4.14],\n",
       "       [4.15],\n",
       "       [4.16],\n",
       "       [4.17],\n",
       "       [4.18],\n",
       "       [4.19],\n",
       "       [4.2 ],\n",
       "       [4.21],\n",
       "       [4.22],\n",
       "       [4.23],\n",
       "       [4.24],\n",
       "       [4.25],\n",
       "       [4.26],\n",
       "       [4.27],\n",
       "       [4.28],\n",
       "       [4.29],\n",
       "       [4.3 ],\n",
       "       [4.31],\n",
       "       [4.32],\n",
       "       [4.33],\n",
       "       [4.34],\n",
       "       [4.35],\n",
       "       [4.36],\n",
       "       [4.37],\n",
       "       [4.38],\n",
       "       [4.39],\n",
       "       [4.4 ],\n",
       "       [4.41],\n",
       "       [4.42],\n",
       "       [4.43],\n",
       "       [4.44],\n",
       "       [4.45],\n",
       "       [4.46],\n",
       "       [4.47],\n",
       "       [4.48],\n",
       "       [4.49],\n",
       "       [4.5 ],\n",
       "       [4.51],\n",
       "       [4.52],\n",
       "       [4.53],\n",
       "       [4.54],\n",
       "       [4.55],\n",
       "       [4.56],\n",
       "       [4.57],\n",
       "       [4.58],\n",
       "       [4.59],\n",
       "       [4.6 ],\n",
       "       [4.61],\n",
       "       [4.62],\n",
       "       [4.63],\n",
       "       [4.64],\n",
       "       [4.65],\n",
       "       [4.66],\n",
       "       [4.67],\n",
       "       [4.68],\n",
       "       [4.69],\n",
       "       [4.7 ],\n",
       "       [4.71],\n",
       "       [4.72],\n",
       "       [4.73],\n",
       "       [4.74],\n",
       "       [4.75],\n",
       "       [4.76],\n",
       "       [4.77],\n",
       "       [4.78],\n",
       "       [4.79],\n",
       "       [4.8 ],\n",
       "       [4.81],\n",
       "       [4.82],\n",
       "       [4.83],\n",
       "       [4.84],\n",
       "       [4.85],\n",
       "       [4.86],\n",
       "       [4.87],\n",
       "       [4.88],\n",
       "       [4.89],\n",
       "       [4.9 ],\n",
       "       [4.91],\n",
       "       [4.92],\n",
       "       [4.93],\n",
       "       [4.94],\n",
       "       [4.95],\n",
       "       [4.96],\n",
       "       [4.97],\n",
       "       [4.98],\n",
       "       [4.99]])"
      ]
     },
     "execution_count": 46,
     "metadata": {},
     "output_type": "execute_result"
    }
   ],
   "source": [
    "X_test = np.arange(0.0, 5.0, 0.01)[:, np.newaxis]\n",
    "X_test"
   ]
  },
  {
   "cell_type": "code",
   "execution_count": 47,
   "metadata": {},
   "outputs": [],
   "source": [
    "y_1 = regr1.predict(X_test)\n",
    "y_2 = regr2.predict(X_test)"
   ]
  },
  {
   "cell_type": "code",
   "execution_count": 48,
   "metadata": {},
   "outputs": [
    {
     "data": {
      "text/plain": [
       "array([ 0.05236068,  0.05236068,  0.05236068,  0.05236068,  0.05236068,\n",
       "        0.05236068,  0.05236068,  0.05236068,  0.05236068,  0.05236068,\n",
       "        0.05236068,  0.05236068,  0.05236068,  0.05236068,  0.05236068,\n",
       "        0.05236068,  0.05236068,  0.05236068,  0.05236068,  0.05236068,\n",
       "        0.05236068,  0.05236068,  0.05236068,  0.05236068,  0.05236068,\n",
       "        0.05236068,  0.05236068,  0.05236068,  0.05236068,  0.05236068,\n",
       "        0.05236068,  0.05236068,  0.05236068,  0.05236068,  0.05236068,\n",
       "        0.05236068,  0.05236068,  0.05236068,  0.05236068,  0.05236068,\n",
       "        0.05236068,  0.05236068,  0.05236068,  0.05236068,  0.05236068,\n",
       "        0.05236068,  0.05236068,  0.05236068,  0.05236068,  0.05236068,\n",
       "        0.05236068,  0.05236068,  0.71382568,  0.71382568,  0.71382568,\n",
       "        0.71382568,  0.71382568,  0.71382568,  0.71382568,  0.71382568,\n",
       "        0.71382568,  0.71382568,  0.71382568,  0.71382568,  0.71382568,\n",
       "        0.71382568,  0.71382568,  0.71382568,  0.71382568,  0.71382568,\n",
       "        0.71382568,  0.71382568,  0.71382568,  0.71382568,  0.71382568,\n",
       "        0.71382568,  0.71382568,  0.71382568,  0.71382568,  0.71382568,\n",
       "        0.71382568,  0.71382568,  0.71382568,  0.71382568,  0.71382568,\n",
       "        0.71382568,  0.71382568,  0.71382568,  0.71382568,  0.71382568,\n",
       "        0.71382568,  0.71382568,  0.71382568,  0.71382568,  0.71382568,\n",
       "        0.71382568,  0.71382568,  0.71382568,  0.71382568,  0.71382568,\n",
       "        0.71382568,  0.71382568,  0.71382568,  0.71382568,  0.71382568,\n",
       "        0.71382568,  0.71382568,  0.71382568,  0.71382568,  0.71382568,\n",
       "        0.71382568,  0.71382568,  0.71382568,  0.71382568,  0.71382568,\n",
       "        0.71382568,  0.71382568,  0.71382568,  0.71382568,  0.71382568,\n",
       "        0.71382568,  0.71382568,  0.71382568,  0.71382568,  0.71382568,\n",
       "        0.71382568,  0.71382568,  0.71382568,  0.71382568,  0.71382568,\n",
       "        0.71382568,  0.71382568,  0.71382568,  0.71382568,  0.71382568,\n",
       "        0.71382568,  0.71382568,  0.71382568,  0.71382568,  0.71382568,\n",
       "        0.71382568,  0.71382568,  0.71382568,  0.71382568,  0.71382568,\n",
       "        0.71382568,  0.71382568,  0.71382568,  0.71382568,  0.71382568,\n",
       "        0.71382568,  0.71382568,  0.71382568,  0.71382568,  0.71382568,\n",
       "        0.71382568,  0.71382568,  0.71382568,  0.71382568,  0.71382568,\n",
       "        0.71382568,  0.71382568,  0.71382568,  0.71382568,  0.71382568,\n",
       "        0.71382568,  0.71382568,  0.71382568,  0.71382568,  0.71382568,\n",
       "        0.71382568,  0.71382568,  0.71382568,  0.71382568,  0.71382568,\n",
       "        0.71382568,  0.71382568,  0.71382568,  0.71382568,  0.71382568,\n",
       "        0.71382568,  0.71382568,  0.71382568,  0.71382568,  0.71382568,\n",
       "        0.71382568,  0.71382568,  0.71382568,  0.71382568,  0.71382568,\n",
       "        0.71382568,  0.71382568,  0.71382568,  0.71382568,  0.71382568,\n",
       "        0.71382568,  0.71382568,  0.71382568,  0.71382568,  0.71382568,\n",
       "        0.71382568,  0.71382568,  0.71382568,  0.71382568,  0.71382568,\n",
       "        0.71382568,  0.71382568,  0.71382568,  0.71382568,  0.71382568,\n",
       "        0.71382568,  0.71382568,  0.71382568,  0.71382568,  0.71382568,\n",
       "        0.71382568,  0.71382568,  0.71382568,  0.71382568,  0.71382568,\n",
       "        0.71382568,  0.71382568,  0.71382568,  0.71382568,  0.71382568,\n",
       "        0.71382568,  0.71382568,  0.71382568,  0.71382568,  0.71382568,\n",
       "        0.71382568,  0.71382568,  0.71382568,  0.71382568,  0.71382568,\n",
       "        0.71382568,  0.71382568,  0.71382568,  0.71382568,  0.71382568,\n",
       "        0.71382568,  0.71382568,  0.71382568,  0.71382568,  0.71382568,\n",
       "        0.71382568,  0.71382568,  0.71382568,  0.71382568,  0.71382568,\n",
       "        0.71382568,  0.71382568,  0.71382568,  0.71382568,  0.71382568,\n",
       "        0.71382568,  0.71382568,  0.71382568,  0.71382568,  0.71382568,\n",
       "        0.71382568,  0.71382568,  0.71382568,  0.71382568,  0.71382568,\n",
       "        0.71382568,  0.71382568,  0.71382568,  0.71382568,  0.71382568,\n",
       "        0.71382568,  0.71382568,  0.71382568,  0.71382568,  0.71382568,\n",
       "        0.71382568,  0.71382568,  0.71382568,  0.71382568,  0.71382568,\n",
       "        0.71382568,  0.71382568,  0.71382568,  0.71382568,  0.71382568,\n",
       "        0.71382568,  0.71382568,  0.71382568,  0.71382568,  0.71382568,\n",
       "        0.71382568,  0.71382568,  0.71382568,  0.71382568,  0.71382568,\n",
       "        0.71382568,  0.71382568,  0.71382568,  0.71382568,  0.71382568,\n",
       "        0.71382568,  0.71382568,  0.71382568,  0.71382568,  0.71382568,\n",
       "        0.71382568,  0.71382568,  0.71382568,  0.71382568,  0.71382568,\n",
       "        0.71382568,  0.71382568,  0.71382568,  0.71382568, -0.45190264,\n",
       "       -0.45190264, -0.45190264, -0.45190264, -0.45190264, -0.45190264,\n",
       "       -0.45190264, -0.45190264, -0.45190264, -0.45190264, -0.45190264,\n",
       "       -0.45190264, -0.45190264, -0.45190264, -0.45190264, -0.45190264,\n",
       "       -0.45190264, -0.45190264, -0.45190264, -0.45190264, -0.45190264,\n",
       "       -0.45190264, -0.45190264, -0.45190264, -0.45190264, -0.45190264,\n",
       "       -0.45190264, -0.45190264, -0.45190264, -0.45190264, -0.45190264,\n",
       "       -0.45190264, -0.45190264, -0.45190264, -0.45190264, -0.45190264,\n",
       "       -0.45190264, -0.45190264, -0.45190264, -0.45190264, -0.45190264,\n",
       "       -0.45190264, -0.45190264, -0.45190264, -0.45190264, -0.45190264,\n",
       "       -0.45190264, -0.45190264, -0.45190264, -0.45190264, -0.45190264,\n",
       "       -0.45190264, -0.45190264, -0.45190264, -0.45190264, -0.45190264,\n",
       "       -0.45190264, -0.45190264, -0.45190264, -0.45190264, -0.45190264,\n",
       "       -0.45190264, -0.45190264, -0.45190264, -0.45190264, -0.45190264,\n",
       "       -0.45190264, -0.45190264, -0.45190264, -0.45190264, -0.45190264,\n",
       "       -0.45190264, -0.86864256, -0.86864256, -0.86864256, -0.86864256,\n",
       "       -0.86864256, -0.86864256, -0.86864256, -0.86864256, -0.86864256,\n",
       "       -0.86864256, -0.86864256, -0.86864256, -0.86864256, -0.86864256,\n",
       "       -0.86864256, -0.86864256, -0.86864256, -0.86864256, -0.86864256,\n",
       "       -0.86864256, -0.86864256, -0.86864256, -0.86864256, -0.86864256,\n",
       "       -0.86864256, -0.86864256, -0.86864256, -0.86864256, -0.86864256,\n",
       "       -0.86864256, -0.86864256, -0.86864256, -0.86864256, -0.86864256,\n",
       "       -0.86864256, -0.86864256, -0.86864256, -0.86864256, -0.86864256,\n",
       "       -0.86864256, -0.86864256, -0.86864256, -0.86864256, -0.86864256,\n",
       "       -0.86864256, -0.86864256, -0.86864256, -0.86864256, -0.86864256,\n",
       "       -0.86864256, -0.86864256, -0.86864256, -0.86864256, -0.86864256,\n",
       "       -0.86864256, -0.86864256, -0.86864256, -0.86864256, -0.86864256,\n",
       "       -0.86864256, -0.86864256, -0.86864256, -0.86864256, -0.86864256,\n",
       "       -0.86864256, -0.86864256, -0.86864256, -0.86864256, -0.86864256,\n",
       "       -0.86864256, -0.86864256, -0.86864256, -0.86864256, -0.86864256,\n",
       "       -0.86864256, -0.86864256, -0.86864256, -0.86864256, -0.86864256,\n",
       "       -0.86864256, -0.86864256, -0.86864256, -0.86864256, -0.86864256,\n",
       "       -0.86864256, -0.86864256, -0.86864256, -0.86864256, -0.86864256,\n",
       "       -0.86864256, -0.86864256, -0.86864256, -0.86864256, -0.86864256,\n",
       "       -0.86864256, -0.86864256, -0.86864256, -0.86864256, -0.86864256,\n",
       "       -0.86864256, -0.86864256, -0.86864256, -0.86864256, -0.86864256,\n",
       "       -0.86864256, -0.86864256, -0.86864256, -0.86864256, -0.86864256,\n",
       "       -0.86864256, -0.86864256, -0.86864256, -0.86864256, -0.86864256])"
      ]
     },
     "execution_count": 48,
     "metadata": {},
     "output_type": "execute_result"
    }
   ],
   "source": [
    "y_1"
   ]
  },
  {
   "cell_type": "code",
   "execution_count": 50,
   "metadata": {},
   "outputs": [
    {
     "data": {
      "image/png": "[encoded data removed]",
      "text/plain": [
       "<Figure size 1440x504 with 1 Axes>"
      ]
     },
     "metadata": {
      "needs_background": "light"
     },
     "output_type": "display_data"
    }
   ],
   "source": [
    "plt.figure(figsize=(20, 7))\n",
    "plt.scatter(X, y, s=20, edgecolors='black', c='darkorange', label='data')\n",
    "plt.plot(X_test, y_1, color='cornflowerblue', label='max_depth=2', linewidth=2)\n",
    "plt.plot(X_test, y_2, color='yellowgreen', label='max_depth=5', linewidth=2)\n",
    "plt.xlabel('data')\n",
    "plt.ylabel('target')\n",
    "plt.title('Decisiom Tree Regression')\n",
    "plt.legend()\n",
    "plt.show()"
   ]
  },
  {
   "cell_type": "code",
   "execution_count": 51,
   "metadata": {},
   "outputs": [],
   "source": [
    "dot_data4 = tree.export_graphviz(regr2, out_file=None, filled=True, rounded=True, special_characters=True)"
   ]
  },
  {
   "cell_type": "code",
   "execution_count": 52,
   "metadata": {},
   "outputs": [
    {
     "data": {
      "image/svg+xml": "<?xml version=\"1.0\" encoding=\"UTF-8\" standalone=\"no\"?>\n<!DOCTYPE svg PUBLIC \"-//W3C//DTD SVG 1.1//EN\"\n \"http://www.w3.org/Graphics/SVG/1.1/DTD/svg11.dtd\">\n<!-- Generated by graphviz version 2.50.0 (20211204.2007)\n -->\n<!-- Title: Tree Pages: 1 -->\n<svg width=\"2195pt\" height=\"561pt\"\n viewBox=\"0.00 0.00 2194.50 561.00\" xmlns=\"http://www.w3.org/2000/svg\" xmlns:xlink=\"http://www.w3.org/1999/xlink\">\n<g id=\"graph0\" class=\"graph\" transform=\"scale(1 1) rotate(0) translate(4 557)\">\n<title>Tree</title>\n<polygon fill=\"white\" stroke=\"transparent\" points=\"-4,4 -4,-557 2190.5,-557 2190.5,4 -4,4\"/>\n<!-- 0 -->\n<g id=\"node1\" class=\"node\">\n<title>0</title>\n<path fill=\"#f0b58a\" stroke=\"black\" d=\"M1001.5,-553C1001.5,-553 922.5,-553 922.5,-553 916.5,-553 910.5,-547 910.5,-541 910.5,-541 910.5,-501 910.5,-501 910.5,-495 916.5,-489 922.5,-489 922.5,-489 1001.5,-489 1001.5,-489 1007.5,-489 1013.5,-495 1013.5,-501 1013.5,-501 1013.5,-541 1013.5,-541 1013.5,-547 1007.5,-553 1001.5,-553\"/>\n<text text-anchor=\"start\" x=\"927.5\" y=\"-538.8\" font-family=\"Helvetica,sans-Serif\" font-size=\"14.00\">X</text>\n<text text-anchor=\"start\" x=\"937.5\" y=\"-538.8\" font-family=\"Helvetica,sans-Serif\" baseline-shift=\"sub\" font-size=\"14.00\">0</text>\n<text text-anchor=\"start\" x=\"944.5\" y=\"-538.8\" font-family=\"Helvetica,sans-Serif\" font-size=\"14.00\"> ≤ 3.133</text>\n<text text-anchor=\"start\" x=\"921.5\" y=\"-524.8\" font-family=\"Helvetica,sans-Serif\" font-size=\"14.00\">mse = 0.547</text>\n<text text-anchor=\"start\" x=\"918.5\" y=\"-510.8\" font-family=\"Helvetica,sans-Serif\" font-size=\"14.00\">samples = 80</text>\n<text text-anchor=\"start\" x=\"919\" y=\"-496.8\" font-family=\"Helvetica,sans-Serif\" font-size=\"14.00\">value = 0.122</text>\n</g>\n<!-- 1 -->\n<g id=\"node2\" class=\"node\">\n<title>1</title>\n<path fill=\"#eca26d\" stroke=\"black\" d=\"M637.5,-453C637.5,-453 558.5,-453 558.5,-453 552.5,-453 546.5,-447 546.5,-441 546.5,-441 546.5,-401 546.5,-401 546.5,-395 552.5,-389 558.5,-389 558.5,-389 637.5,-389 637.5,-389 643.5,-389 649.5,-395 649.5,-401 649.5,-401 649.5,-441 649.5,-441 649.5,-447 643.5,-453 637.5,-453\"/>\n<text text-anchor=\"start\" x=\"563.5\" y=\"-438.8\" font-family=\"Helvetica,sans-Serif\" font-size=\"14.00\">X</text>\n<text text-anchor=\"start\" x=\"573.5\" y=\"-438.8\" font-family=\"Helvetica,sans-Serif\" baseline-shift=\"sub\" font-size=\"14.00\">0</text>\n<text text-anchor=\"start\" x=\"580.5\" y=\"-438.8\" font-family=\"Helvetica,sans-Serif\" font-size=\"14.00\"> ≤ 0.514</text>\n<text text-anchor=\"start\" x=\"557.5\" y=\"-424.8\" font-family=\"Helvetica,sans-Serif\" font-size=\"14.00\">mse = 0.231</text>\n<text text-anchor=\"start\" x=\"554.5\" y=\"-410.8\" font-family=\"Helvetica,sans-Serif\" font-size=\"14.00\">samples = 51</text>\n<text text-anchor=\"start\" x=\"555\" y=\"-396.8\" font-family=\"Helvetica,sans-Serif\" font-size=\"14.00\">value = 0.571</text>\n</g>\n<!-- 0&#45;&gt;1 -->\n<g id=\"edge1\" class=\"edge\">\n<title>0&#45;&gt;1</title>\n<path fill=\"none\" stroke=\"black\" d=\"M910.23,-506.06C844.2,-488.28 730.12,-457.57 659.66,-438.6\"/>\n<polygon fill=\"black\" stroke=\"black\" points=\"660.15,-435.11 649.59,-435.89 658.33,-441.87 660.15,-435.11\"/>\n<text text-anchor=\"middle\" x=\"662.06\" y=\"-453.85\" font-family=\"Helvetica,sans-Serif\" font-size=\"14.00\">True</text>\n</g>\n<!-- 22 -->\n<g id=\"node23\" class=\"node\">\n<title>22</title>\n<path fill=\"#f7d6bf\" stroke=\"black\" d=\"M1367.5,-453C1367.5,-453 1284.5,-453 1284.5,-453 1278.5,-453 1272.5,-447 1272.5,-441 1272.5,-441 1272.5,-401 1272.5,-401 1272.5,-395 1278.5,-389 1284.5,-389 1284.5,-389 1367.5,-389 1367.5,-389 1373.5,-389 1379.5,-395 1379.5,-401 1379.5,-401 1379.5,-441 1379.5,-441 1379.5,-447 1373.5,-453 1367.5,-453\"/>\n<text text-anchor=\"start\" x=\"1295.5\" y=\"-438.8\" font-family=\"Helvetica,sans-Serif\" font-size=\"14.00\">X</text>\n<text text-anchor=\"start\" x=\"1305.5\" y=\"-438.8\" font-family=\"Helvetica,sans-Serif\" baseline-shift=\"sub\" font-size=\"14.00\">0</text>\n<text text-anchor=\"start\" x=\"1312.5\" y=\"-438.8\" font-family=\"Helvetica,sans-Serif\" font-size=\"14.00\"> ≤ 3.85</text>\n<text text-anchor=\"start\" x=\"1285.5\" y=\"-424.8\" font-family=\"Helvetica,sans-Serif\" font-size=\"14.00\">mse = 0.124</text>\n<text text-anchor=\"start\" x=\"1282.5\" y=\"-410.8\" font-family=\"Helvetica,sans-Serif\" font-size=\"14.00\">samples = 29</text>\n<text text-anchor=\"start\" x=\"1280.5\" y=\"-396.8\" font-family=\"Helvetica,sans-Serif\" font-size=\"14.00\">value = &#45;0.667</text>\n</g>\n<!-- 0&#45;&gt;22 -->\n<g id=\"edge22\" class=\"edge\">\n<title>0&#45;&gt;22</title>\n<path fill=\"none\" stroke=\"black\" d=\"M1013.77,-506.06C1079.28,-488.42 1192.08,-458.05 1262.67,-439.05\"/>\n<polygon fill=\"black\" stroke=\"black\" points=\"1263.59,-442.43 1272.34,-436.45 1261.77,-435.67 1263.59,-442.43\"/>\n<text text-anchor=\"middle\" x=\"1259.86\" y=\"-454.41\" font-family=\"Helvetica,sans-Serif\" font-size=\"14.00\">False</text>\n</g>\n<!-- 2 -->\n<g id=\"node3\" class=\"node\">\n<title>2</title>\n<path fill=\"#f0b88f\" stroke=\"black\" d=\"M333.5,-353C333.5,-353 254.5,-353 254.5,-353 248.5,-353 242.5,-347 242.5,-341 242.5,-341 242.5,-301 242.5,-301 242.5,-295 248.5,-289 254.5,-289 254.5,-289 333.5,-289 333.5,-289 339.5,-289 345.5,-295 345.5,-301 345.5,-301 345.5,-341 345.5,-341 345.5,-347 339.5,-353 333.5,-353\"/>\n<text text-anchor=\"start\" x=\"259.5\" y=\"-338.8\" font-family=\"Helvetica,sans-Serif\" font-size=\"14.00\">X</text>\n<text text-anchor=\"start\" x=\"269.5\" y=\"-338.8\" font-family=\"Helvetica,sans-Serif\" baseline-shift=\"sub\" font-size=\"14.00\">0</text>\n<text text-anchor=\"start\" x=\"276.5\" y=\"-338.8\" font-family=\"Helvetica,sans-Serif\" font-size=\"14.00\"> ≤ 0.046</text>\n<text text-anchor=\"start\" x=\"253.5\" y=\"-324.8\" font-family=\"Helvetica,sans-Serif\" font-size=\"14.00\">mse = 0.192</text>\n<text text-anchor=\"start\" x=\"250.5\" y=\"-310.8\" font-family=\"Helvetica,sans-Serif\" font-size=\"14.00\">samples = 11</text>\n<text text-anchor=\"start\" x=\"251\" y=\"-296.8\" font-family=\"Helvetica,sans-Serif\" font-size=\"14.00\">value = 0.052</text>\n</g>\n<!-- 1&#45;&gt;2 -->\n<g id=\"edge2\" class=\"edge\">\n<title>1&#45;&gt;2</title>\n<path fill=\"none\" stroke=\"black\" d=\"M546.43,-403.38C493.62,-386.35 411.52,-359.88 355.39,-341.79\"/>\n<polygon fill=\"black\" stroke=\"black\" points=\"356.16,-338.36 345.57,-338.62 354.01,-345.02 356.16,-338.36\"/>\n</g>\n<!-- 9 -->\n<g id=\"node10\" class=\"node\">\n<title>9</title>\n<path fill=\"#eb9c63\" stroke=\"black\" d=\"M637.5,-353C637.5,-353 558.5,-353 558.5,-353 552.5,-353 546.5,-347 546.5,-341 546.5,-341 546.5,-301 546.5,-301 546.5,-295 552.5,-289 558.5,-289 558.5,-289 637.5,-289 637.5,-289 643.5,-289 649.5,-295 649.5,-301 649.5,-301 649.5,-341 649.5,-341 649.5,-347 643.5,-353 637.5,-353\"/>\n<text text-anchor=\"start\" x=\"563.5\" y=\"-338.8\" font-family=\"Helvetica,sans-Serif\" font-size=\"14.00\">X</text>\n<text text-anchor=\"start\" x=\"573.5\" y=\"-338.8\" font-family=\"Helvetica,sans-Serif\" baseline-shift=\"sub\" font-size=\"14.00\">0</text>\n<text text-anchor=\"start\" x=\"580.5\" y=\"-338.8\" font-family=\"Helvetica,sans-Serif\" font-size=\"14.00\"> ≤ 2.029</text>\n<text text-anchor=\"start\" x=\"557.5\" y=\"-324.8\" font-family=\"Helvetica,sans-Serif\" font-size=\"14.00\">mse = 0.148</text>\n<text text-anchor=\"start\" x=\"554.5\" y=\"-310.8\" font-family=\"Helvetica,sans-Serif\" font-size=\"14.00\">samples = 40</text>\n<text text-anchor=\"start\" x=\"555\" y=\"-296.8\" font-family=\"Helvetica,sans-Serif\" font-size=\"14.00\">value = 0.714</text>\n</g>\n<!-- 1&#45;&gt;9 -->\n<g id=\"edge9\" class=\"edge\">\n<title>1&#45;&gt;9</title>\n<path fill=\"none\" stroke=\"black\" d=\"M598,-388.99C598,-380.86 598,-371.96 598,-363.38\"/>\n<polygon fill=\"black\" stroke=\"black\" points=\"601.5,-363.14 598,-353.14 594.5,-363.14 601.5,-363.14\"/>\n</g>\n<!-- 3 -->\n<g id=\"node4\" class=\"node\">\n<title>3</title>\n<path fill=\"#fbeadf\" stroke=\"black\" d=\"M212.5,-247.5C212.5,-247.5 129.5,-247.5 129.5,-247.5 123.5,-247.5 117.5,-241.5 117.5,-235.5 117.5,-235.5 117.5,-206.5 117.5,-206.5 117.5,-200.5 123.5,-194.5 129.5,-194.5 129.5,-194.5 212.5,-194.5 212.5,-194.5 218.5,-194.5 224.5,-200.5 224.5,-206.5 224.5,-206.5 224.5,-235.5 224.5,-235.5 224.5,-241.5 218.5,-247.5 212.5,-247.5\"/>\n<text text-anchor=\"start\" x=\"139\" y=\"-232.3\" font-family=\"Helvetica,sans-Serif\" font-size=\"14.00\">mse = 0.0</text>\n<text text-anchor=\"start\" x=\"131.5\" y=\"-217.3\" font-family=\"Helvetica,sans-Serif\" font-size=\"14.00\">samples = 1</text>\n<text text-anchor=\"start\" x=\"125.5\" y=\"-202.3\" font-family=\"Helvetica,sans-Serif\" font-size=\"14.00\">value = &#45;1.149</text>\n</g>\n<!-- 2&#45;&gt;3 -->\n<g id=\"edge3\" class=\"edge\">\n<title>2&#45;&gt;3</title>\n<path fill=\"none\" stroke=\"black\" d=\"M255.08,-288.99C241.08,-277.84 225.26,-265.23 211.16,-254\"/>\n<polygon fill=\"black\" stroke=\"black\" points=\"213.08,-251.05 203.08,-247.56 208.72,-256.53 213.08,-251.05\"/>\n</g>\n<!-- 4 -->\n<g id=\"node5\" class=\"node\">\n<title>4</title>\n<path fill=\"#efb387\" stroke=\"black\" d=\"M333.5,-253C333.5,-253 254.5,-253 254.5,-253 248.5,-253 242.5,-247 242.5,-241 242.5,-241 242.5,-201 242.5,-201 242.5,-195 248.5,-189 254.5,-189 254.5,-189 333.5,-189 333.5,-189 339.5,-189 345.5,-195 345.5,-201 345.5,-201 345.5,-241 345.5,-241 345.5,-247 339.5,-253 333.5,-253\"/>\n<text text-anchor=\"start\" x=\"259.5\" y=\"-238.8\" font-family=\"Helvetica,sans-Serif\" font-size=\"14.00\">X</text>\n<text text-anchor=\"start\" x=\"269.5\" y=\"-238.8\" font-family=\"Helvetica,sans-Serif\" baseline-shift=\"sub\" font-size=\"14.00\">0</text>\n<text text-anchor=\"start\" x=\"276.5\" y=\"-238.8\" font-family=\"Helvetica,sans-Serif\" font-size=\"14.00\"> ≤ 0.502</text>\n<text text-anchor=\"start\" x=\"253.5\" y=\"-224.8\" font-family=\"Helvetica,sans-Serif\" font-size=\"14.00\">mse = 0.052</text>\n<text text-anchor=\"start\" x=\"250.5\" y=\"-210.8\" font-family=\"Helvetica,sans-Serif\" font-size=\"14.00\">samples = 10</text>\n<text text-anchor=\"start\" x=\"251\" y=\"-196.8\" font-family=\"Helvetica,sans-Serif\" font-size=\"14.00\">value = 0.173</text>\n</g>\n<!-- 2&#45;&gt;4 -->\n<g id=\"edge4\" class=\"edge\">\n<title>2&#45;&gt;4</title>\n<path fill=\"none\" stroke=\"black\" d=\"M294,-288.99C294,-280.86 294,-271.96 294,-263.38\"/>\n<polygon fill=\"black\" stroke=\"black\" points=\"297.5,-263.14 294,-253.14 290.5,-263.14 297.5,-263.14\"/>\n</g>\n<!-- 5 -->\n<g id=\"node6\" class=\"node\">\n<title>5</title>\n<path fill=\"#efb184\" stroke=\"black\" d=\"M210,-153C210,-153 132,-153 132,-153 126,-153 120,-147 120,-141 120,-141 120,-101 120,-101 120,-95 126,-89 132,-89 132,-89 210,-89 210,-89 216,-89 222,-95 222,-101 222,-101 222,-141 222,-141 222,-147 216,-153 210,-153\"/>\n<text text-anchor=\"start\" x=\"136.5\" y=\"-138.8\" font-family=\"Helvetica,sans-Serif\" font-size=\"14.00\">X</text>\n<text text-anchor=\"start\" x=\"146.5\" y=\"-138.8\" font-family=\"Helvetica,sans-Serif\" baseline-shift=\"sub\" font-size=\"14.00\">0</text>\n<text text-anchor=\"start\" x=\"153.5\" y=\"-138.8\" font-family=\"Helvetica,sans-Serif\" font-size=\"14.00\"> ≤ 0.258</text>\n<text text-anchor=\"start\" x=\"130.5\" y=\"-124.8\" font-family=\"Helvetica,sans-Serif\" font-size=\"14.00\">mse = 0.035</text>\n<text text-anchor=\"start\" x=\"131.5\" y=\"-110.8\" font-family=\"Helvetica,sans-Serif\" font-size=\"14.00\">samples = 9</text>\n<text text-anchor=\"start\" x=\"128\" y=\"-96.8\" font-family=\"Helvetica,sans-Serif\" font-size=\"14.00\">value = 0.221</text>\n</g>\n<!-- 4&#45;&gt;5 -->\n<g id=\"edge5\" class=\"edge\">\n<title>4&#45;&gt;5</title>\n<path fill=\"none\" stroke=\"black\" d=\"M255.08,-188.99C243.3,-179.61 230.24,-169.2 218,-159.44\"/>\n<polygon fill=\"black\" stroke=\"black\" points=\"220.09,-156.64 210.09,-153.14 215.73,-162.11 220.09,-156.64\"/>\n</g>\n<!-- 8 -->\n<g id=\"node9\" class=\"node\">\n<title>8</title>\n<path fill=\"#f3c5a4\" stroke=\"black\" d=\"M335.5,-147.5C335.5,-147.5 252.5,-147.5 252.5,-147.5 246.5,-147.5 240.5,-141.5 240.5,-135.5 240.5,-135.5 240.5,-106.5 240.5,-106.5 240.5,-100.5 246.5,-94.5 252.5,-94.5 252.5,-94.5 335.5,-94.5 335.5,-94.5 341.5,-94.5 347.5,-100.5 347.5,-106.5 347.5,-106.5 347.5,-135.5 347.5,-135.5 347.5,-141.5 341.5,-147.5 335.5,-147.5\"/>\n<text text-anchor=\"start\" x=\"259.5\" y=\"-132.3\" font-family=\"Helvetica,sans-Serif\" font-size=\"14.00\">mse = &#45;0.0</text>\n<text text-anchor=\"start\" x=\"254.5\" y=\"-117.3\" font-family=\"Helvetica,sans-Serif\" font-size=\"14.00\">samples = 1</text>\n<text text-anchor=\"start\" x=\"248.5\" y=\"-102.3\" font-family=\"Helvetica,sans-Serif\" font-size=\"14.00\">value = &#45;0.263</text>\n</g>\n<!-- 4&#45;&gt;8 -->\n<g id=\"edge8\" class=\"edge\">\n<title>4&#45;&gt;8</title>\n<path fill=\"none\" stroke=\"black\" d=\"M294,-188.99C294,-179.09 294,-168.04 294,-157.82\"/>\n<polygon fill=\"black\" stroke=\"black\" points=\"297.5,-157.56 294,-147.56 290.5,-157.56 297.5,-157.56\"/>\n</g>\n<!-- 6 -->\n<g id=\"node7\" class=\"node\">\n<title>6</title>\n<path fill=\"#f0b78d\" stroke=\"black\" d=\"M90,-53C90,-53 12,-53 12,-53 6,-53 0,-47 0,-41 0,-41 0,-12 0,-12 0,-6 6,0 12,0 12,0 90,0 90,0 96,0 102,-6 102,-12 102,-12 102,-41 102,-41 102,-47 96,-53 90,-53\"/>\n<text text-anchor=\"start\" x=\"10.5\" y=\"-37.8\" font-family=\"Helvetica,sans-Serif\" font-size=\"14.00\">mse = 0.012</text>\n<text text-anchor=\"start\" x=\"11.5\" y=\"-22.8\" font-family=\"Helvetica,sans-Serif\" font-size=\"14.00\">samples = 5</text>\n<text text-anchor=\"start\" x=\"8\" y=\"-7.8\" font-family=\"Helvetica,sans-Serif\" font-size=\"14.00\">value = 0.079</text>\n</g>\n<!-- 5&#45;&gt;6 -->\n<g id=\"edge6\" class=\"edge\">\n<title>5&#45;&gt;6</title>\n<path fill=\"none\" stroke=\"black\" d=\"M130.71,-88.94C118.31,-79.38 104.65,-68.85 92.19,-59.25\"/>\n<polygon fill=\"black\" stroke=\"black\" points=\"94.26,-56.42 84.2,-53.09 89.98,-61.97 94.26,-56.42\"/>\n</g>\n<!-- 7 -->\n<g id=\"node8\" class=\"node\">\n<title>7</title>\n<path fill=\"#eda978\" stroke=\"black\" d=\"M210,-53C210,-53 132,-53 132,-53 126,-53 120,-47 120,-41 120,-41 120,-12 120,-12 120,-6 126,0 132,0 132,0 210,0 210,0 216,0 222,-6 222,-12 222,-12 222,-41 222,-41 222,-47 216,-53 210,-53\"/>\n<text text-anchor=\"start\" x=\"130.5\" y=\"-37.8\" font-family=\"Helvetica,sans-Serif\" font-size=\"14.00\">mse = 0.007</text>\n<text text-anchor=\"start\" x=\"131.5\" y=\"-22.8\" font-family=\"Helvetica,sans-Serif\" font-size=\"14.00\">samples = 4</text>\n<text text-anchor=\"start\" x=\"128\" y=\"-7.8\" font-family=\"Helvetica,sans-Serif\" font-size=\"14.00\">value = 0.398</text>\n</g>\n<!-- 5&#45;&gt;7 -->\n<g id=\"edge7\" class=\"edge\">\n<title>5&#45;&gt;7</title>\n<path fill=\"none\" stroke=\"black\" d=\"M171,-88.94C171,-80.66 171,-71.64 171,-63.13\"/>\n<polygon fill=\"black\" stroke=\"black\" points=\"174.5,-63.09 171,-53.09 167.5,-63.09 174.5,-63.09\"/>\n</g>\n<!-- 10 -->\n<g id=\"node11\" class=\"node\">\n<title>10</title>\n<path fill=\"#e9975b\" stroke=\"black\" d=\"M577.5,-253C577.5,-253 498.5,-253 498.5,-253 492.5,-253 486.5,-247 486.5,-241 486.5,-241 486.5,-201 486.5,-201 486.5,-195 492.5,-189 498.5,-189 498.5,-189 577.5,-189 577.5,-189 583.5,-189 589.5,-195 589.5,-201 589.5,-201 589.5,-241 589.5,-241 589.5,-247 583.5,-253 577.5,-253\"/>\n<text text-anchor=\"start\" x=\"503.5\" y=\"-238.8\" font-family=\"Helvetica,sans-Serif\" font-size=\"14.00\">X</text>\n<text text-anchor=\"start\" x=\"513.5\" y=\"-238.8\" font-family=\"Helvetica,sans-Serif\" baseline-shift=\"sub\" font-size=\"14.00\">0</text>\n<text text-anchor=\"start\" x=\"520.5\" y=\"-238.8\" font-family=\"Helvetica,sans-Serif\" font-size=\"14.00\"> ≤ 1.421</text>\n<text text-anchor=\"start\" x=\"497.5\" y=\"-224.8\" font-family=\"Helvetica,sans-Serif\" font-size=\"14.00\">mse = 0.093</text>\n<text text-anchor=\"start\" x=\"494.5\" y=\"-210.8\" font-family=\"Helvetica,sans-Serif\" font-size=\"14.00\">samples = 24</text>\n<text text-anchor=\"start\" x=\"495\" y=\"-196.8\" font-family=\"Helvetica,sans-Serif\" font-size=\"14.00\">value = 0.839</text>\n</g>\n<!-- 9&#45;&gt;10 -->\n<g id=\"edge10\" class=\"edge\">\n<title>9&#45;&gt;10</title>\n<path fill=\"none\" stroke=\"black\" d=\"M579.02,-288.99C573.71,-280.32 567.87,-270.78 562.3,-261.68\"/>\n<polygon fill=\"black\" stroke=\"black\" points=\"565.27,-259.84 557.07,-253.14 559.3,-263.5 565.27,-259.84\"/>\n</g>\n<!-- 17 -->\n<g id=\"node18\" class=\"node\">\n<title>17</title>\n<path fill=\"#eca470\" stroke=\"black\" d=\"M698.5,-253C698.5,-253 619.5,-253 619.5,-253 613.5,-253 607.5,-247 607.5,-241 607.5,-241 607.5,-201 607.5,-201 607.5,-195 613.5,-189 619.5,-189 619.5,-189 698.5,-189 698.5,-189 704.5,-189 710.5,-195 710.5,-201 710.5,-201 710.5,-241 710.5,-241 710.5,-247 704.5,-253 698.5,-253\"/>\n<text text-anchor=\"start\" x=\"624.5\" y=\"-238.8\" font-family=\"Helvetica,sans-Serif\" font-size=\"14.00\">X</text>\n<text text-anchor=\"start\" x=\"634.5\" y=\"-238.8\" font-family=\"Helvetica,sans-Serif\" baseline-shift=\"sub\" font-size=\"14.00\">0</text>\n<text text-anchor=\"start\" x=\"641.5\" y=\"-238.8\" font-family=\"Helvetica,sans-Serif\" font-size=\"14.00\"> ≤ 2.071</text>\n<text text-anchor=\"start\" x=\"618.5\" y=\"-224.8\" font-family=\"Helvetica,sans-Serif\" font-size=\"14.00\">mse = 0.172</text>\n<text text-anchor=\"start\" x=\"615.5\" y=\"-210.8\" font-family=\"Helvetica,sans-Serif\" font-size=\"14.00\">samples = 16</text>\n<text text-anchor=\"start\" x=\"616\" y=\"-196.8\" font-family=\"Helvetica,sans-Serif\" font-size=\"14.00\">value = 0.527</text>\n</g>\n<!-- 9&#45;&gt;17 -->\n<g id=\"edge17\" class=\"edge\">\n<title>9&#45;&gt;17</title>\n<path fill=\"none\" stroke=\"black\" d=\"M617.3,-288.99C622.7,-280.32 628.64,-270.78 634.3,-261.68\"/>\n<polygon fill=\"black\" stroke=\"black\" points=\"637.3,-263.48 639.62,-253.14 631.36,-259.78 637.3,-263.48\"/>\n</g>\n<!-- 11 -->\n<g id=\"node12\" class=\"node\">\n<title>11</title>\n<path fill=\"#ea9b61\" stroke=\"black\" d=\"M456.5,-153C456.5,-153 377.5,-153 377.5,-153 371.5,-153 365.5,-147 365.5,-141 365.5,-141 365.5,-101 365.5,-101 365.5,-95 371.5,-89 377.5,-89 377.5,-89 456.5,-89 456.5,-89 462.5,-89 468.5,-95 468.5,-101 468.5,-101 468.5,-141 468.5,-141 468.5,-147 462.5,-153 456.5,-153\"/>\n<text text-anchor=\"start\" x=\"382.5\" y=\"-138.8\" font-family=\"Helvetica,sans-Serif\" font-size=\"14.00\">X</text>\n<text text-anchor=\"start\" x=\"392.5\" y=\"-138.8\" font-family=\"Helvetica,sans-Serif\" baseline-shift=\"sub\" font-size=\"14.00\">0</text>\n<text text-anchor=\"start\" x=\"399.5\" y=\"-138.8\" font-family=\"Helvetica,sans-Serif\" font-size=\"14.00\"> ≤ 1.365</text>\n<text text-anchor=\"start\" x=\"376.5\" y=\"-124.8\" font-family=\"Helvetica,sans-Serif\" font-size=\"14.00\">mse = 0.119</text>\n<text text-anchor=\"start\" x=\"373.5\" y=\"-110.8\" font-family=\"Helvetica,sans-Serif\" font-size=\"14.00\">samples = 15</text>\n<text text-anchor=\"start\" x=\"374\" y=\"-96.8\" font-family=\"Helvetica,sans-Serif\" font-size=\"14.00\">value = 0.741</text>\n</g>\n<!-- 10&#45;&gt;11 -->\n<g id=\"edge11\" class=\"edge\">\n<title>10&#45;&gt;11</title>\n<path fill=\"none\" stroke=\"black\" d=\"M499.71,-188.99C488.13,-179.61 475.28,-169.2 463.23,-159.44\"/>\n<polygon fill=\"black\" stroke=\"black\" points=\"465.43,-156.72 455.45,-153.14 461.02,-162.16 465.43,-156.72\"/>\n</g>\n<!-- 14 -->\n<g id=\"node15\" class=\"node\">\n<title>14</title>\n<path fill=\"#e89050\" stroke=\"black\" d=\"M575.5,-153C575.5,-153 502.5,-153 502.5,-153 496.5,-153 490.5,-147 490.5,-141 490.5,-141 490.5,-101 490.5,-101 490.5,-95 496.5,-89 502.5,-89 502.5,-89 575.5,-89 575.5,-89 581.5,-89 587.5,-95 587.5,-101 587.5,-101 587.5,-141 587.5,-141 587.5,-147 581.5,-153 575.5,-153\"/>\n<text text-anchor=\"start\" x=\"504.5\" y=\"-138.8\" font-family=\"Helvetica,sans-Serif\" font-size=\"14.00\">X</text>\n<text text-anchor=\"start\" x=\"514.5\" y=\"-138.8\" font-family=\"Helvetica,sans-Serif\" baseline-shift=\"sub\" font-size=\"14.00\">0</text>\n<text text-anchor=\"start\" x=\"521.5\" y=\"-138.8\" font-family=\"Helvetica,sans-Serif\" font-size=\"14.00\"> ≤ 1.861</text>\n<text text-anchor=\"start\" x=\"498.5\" y=\"-124.8\" font-family=\"Helvetica,sans-Serif\" font-size=\"14.00\">mse = 0.007</text>\n<text text-anchor=\"start\" x=\"499.5\" y=\"-110.8\" font-family=\"Helvetica,sans-Serif\" font-size=\"14.00\">samples = 9</text>\n<text text-anchor=\"start\" x=\"504\" y=\"-96.8\" font-family=\"Helvetica,sans-Serif\" font-size=\"14.00\">value = 1.0</text>\n</g>\n<!-- 10&#45;&gt;14 -->\n<g id=\"edge14\" class=\"edge\">\n<title>10&#45;&gt;14</title>\n<path fill=\"none\" stroke=\"black\" d=\"M538.32,-188.99C538.4,-180.86 538.49,-171.96 538.58,-163.38\"/>\n<polygon fill=\"black\" stroke=\"black\" points=\"542.08,-163.18 538.68,-153.14 535.08,-163.11 542.08,-163.18\"/>\n</g>\n<!-- 12 -->\n<g id=\"node13\" class=\"node\">\n<title>12</title>\n<path fill=\"#ea985d\" stroke=\"black\" d=\"M332.5,-53C332.5,-53 253.5,-53 253.5,-53 247.5,-53 241.5,-47 241.5,-41 241.5,-41 241.5,-12 241.5,-12 241.5,-6 247.5,0 253.5,0 253.5,0 332.5,0 332.5,0 338.5,0 344.5,-6 344.5,-12 344.5,-12 344.5,-41 344.5,-41 344.5,-47 338.5,-53 332.5,-53\"/>\n<text text-anchor=\"start\" x=\"252.5\" y=\"-37.8\" font-family=\"Helvetica,sans-Serif\" font-size=\"14.00\">mse = 0.059</text>\n<text text-anchor=\"start\" x=\"249.5\" y=\"-22.8\" font-family=\"Helvetica,sans-Serif\" font-size=\"14.00\">samples = 14</text>\n<text text-anchor=\"start\" x=\"250\" y=\"-7.8\" font-family=\"Helvetica,sans-Serif\" font-size=\"14.00\">value = 0.809</text>\n</g>\n<!-- 11&#45;&gt;12 -->\n<g id=\"edge12\" class=\"edge\">\n<title>11&#45;&gt;12</title>\n<path fill=\"none\" stroke=\"black\" d=\"M375.36,-88.94C362.55,-79.38 348.43,-68.85 335.56,-59.25\"/>\n<polygon fill=\"black\" stroke=\"black\" points=\"337.41,-56.26 327.31,-53.09 333.23,-61.88 337.41,-56.26\"/>\n</g>\n<!-- 13 -->\n<g id=\"node14\" class=\"node\">\n<title>13</title>\n<path fill=\"#f3c2a0\" stroke=\"black\" d=\"M457.5,-53C457.5,-53 374.5,-53 374.5,-53 368.5,-53 362.5,-47 362.5,-41 362.5,-41 362.5,-12 362.5,-12 362.5,-6 368.5,0 374.5,0 374.5,0 457.5,0 457.5,0 463.5,0 469.5,-6 469.5,-12 469.5,-12 469.5,-41 469.5,-41 469.5,-47 463.5,-53 457.5,-53\"/>\n<text text-anchor=\"start\" x=\"384\" y=\"-37.8\" font-family=\"Helvetica,sans-Serif\" font-size=\"14.00\">mse = 0.0</text>\n<text text-anchor=\"start\" x=\"376.5\" y=\"-22.8\" font-family=\"Helvetica,sans-Serif\" font-size=\"14.00\">samples = 1</text>\n<text text-anchor=\"start\" x=\"370.5\" y=\"-7.8\" font-family=\"Helvetica,sans-Serif\" font-size=\"14.00\">value = &#45;0.202</text>\n</g>\n<!-- 11&#45;&gt;13 -->\n<g id=\"edge13\" class=\"edge\">\n<title>11&#45;&gt;13</title>\n<path fill=\"none\" stroke=\"black\" d=\"M416.66,-88.94C416.57,-80.66 416.48,-71.64 416.39,-63.13\"/>\n<polygon fill=\"black\" stroke=\"black\" points=\"419.88,-63.05 416.28,-53.09 412.89,-63.13 419.88,-63.05\"/>\n</g>\n<!-- 15 -->\n<g id=\"node16\" class=\"node\">\n<title>15</title>\n<path fill=\"#e88f4f\" stroke=\"black\" d=\"M578,-53C578,-53 500,-53 500,-53 494,-53 488,-47 488,-41 488,-41 488,-12 488,-12 488,-6 494,0 500,0 500,0 578,0 578,0 584,0 590,-6 590,-12 590,-12 590,-41 590,-41 590,-47 584,-53 578,-53\"/>\n<text text-anchor=\"start\" x=\"498.5\" y=\"-37.8\" font-family=\"Helvetica,sans-Serif\" font-size=\"14.00\">mse = 0.006</text>\n<text text-anchor=\"start\" x=\"499.5\" y=\"-22.8\" font-family=\"Helvetica,sans-Serif\" font-size=\"14.00\">samples = 7</text>\n<text text-anchor=\"start\" x=\"496\" y=\"-7.8\" font-family=\"Helvetica,sans-Serif\" font-size=\"14.00\">value = 1.025</text>\n</g>\n<!-- 14&#45;&gt;15 -->\n<g id=\"edge15\" class=\"edge\">\n<title>14&#45;&gt;15</title>\n<path fill=\"none\" stroke=\"black\" d=\"M539,-88.94C539,-80.66 539,-71.64 539,-63.13\"/>\n<polygon fill=\"black\" stroke=\"black\" points=\"542.5,-63.09 539,-53.09 535.5,-63.09 542.5,-63.09\"/>\n</g>\n<!-- 16 -->\n<g id=\"node17\" class=\"node\">\n<title>16</title>\n<path fill=\"#e99356\" stroke=\"black\" d=\"M698,-53C698,-53 620,-53 620,-53 614,-53 608,-47 608,-41 608,-41 608,-12 608,-12 608,-6 614,0 620,0 620,0 698,0 698,0 704,0 710,-6 710,-12 710,-12 710,-41 710,-41 710,-47 704,-53 698,-53\"/>\n<text text-anchor=\"start\" x=\"627\" y=\"-37.8\" font-family=\"Helvetica,sans-Serif\" font-size=\"14.00\">mse = 0.0</text>\n<text text-anchor=\"start\" x=\"619.5\" y=\"-22.8\" font-family=\"Helvetica,sans-Serif\" font-size=\"14.00\">samples = 2</text>\n<text text-anchor=\"start\" x=\"616\" y=\"-7.8\" font-family=\"Helvetica,sans-Serif\" font-size=\"14.00\">value = 0.915</text>\n</g>\n<!-- 14&#45;&gt;16 -->\n<g id=\"edge16\" class=\"edge\">\n<title>14&#45;&gt;16</title>\n<path fill=\"none\" stroke=\"black\" d=\"M579.29,-88.94C591.69,-79.38 605.35,-68.85 617.81,-59.25\"/>\n<polygon fill=\"black\" stroke=\"black\" points=\"620.02,-61.97 625.8,-53.09 615.74,-56.42 620.02,-61.97\"/>\n</g>\n<!-- 18 -->\n<g id=\"node19\" class=\"node\">\n<title>18</title>\n<path fill=\"#f5d0b5\" stroke=\"black\" d=\"M700.5,-147.5C700.5,-147.5 617.5,-147.5 617.5,-147.5 611.5,-147.5 605.5,-141.5 605.5,-135.5 605.5,-135.5 605.5,-106.5 605.5,-106.5 605.5,-100.5 611.5,-94.5 617.5,-94.5 617.5,-94.5 700.5,-94.5 700.5,-94.5 706.5,-94.5 712.5,-100.5 712.5,-106.5 712.5,-106.5 712.5,-135.5 712.5,-135.5 712.5,-141.5 706.5,-147.5 700.5,-147.5\"/>\n<text text-anchor=\"start\" x=\"627\" y=\"-132.3\" font-family=\"Helvetica,sans-Serif\" font-size=\"14.00\">mse = 0.0</text>\n<text text-anchor=\"start\" x=\"619.5\" y=\"-117.3\" font-family=\"Helvetica,sans-Serif\" font-size=\"14.00\">samples = 1</text>\n<text text-anchor=\"start\" x=\"613.5\" y=\"-102.3\" font-family=\"Helvetica,sans-Serif\" font-size=\"14.00\">value = &#45;0.517</text>\n</g>\n<!-- 17&#45;&gt;18 -->\n<g id=\"edge18\" class=\"edge\">\n<title>17&#45;&gt;18</title>\n<path fill=\"none\" stroke=\"black\" d=\"M659,-188.99C659,-179.09 659,-168.04 659,-157.82\"/>\n<polygon fill=\"black\" stroke=\"black\" points=\"662.5,-157.56 659,-147.56 655.5,-157.56 662.5,-157.56\"/>\n</g>\n<!-- 19 -->\n<g id=\"node20\" class=\"node\">\n<title>19</title>\n<path fill=\"#eca16b\" stroke=\"black\" d=\"M821.5,-153C821.5,-153 742.5,-153 742.5,-153 736.5,-153 730.5,-147 730.5,-141 730.5,-141 730.5,-101 730.5,-101 730.5,-95 736.5,-89 742.5,-89 742.5,-89 821.5,-89 821.5,-89 827.5,-89 833.5,-95 833.5,-101 833.5,-101 833.5,-141 833.5,-141 833.5,-147 827.5,-153 821.5,-153\"/>\n<text text-anchor=\"start\" x=\"751.5\" y=\"-138.8\" font-family=\"Helvetica,sans-Serif\" font-size=\"14.00\">X</text>\n<text text-anchor=\"start\" x=\"761.5\" y=\"-138.8\" font-family=\"Helvetica,sans-Serif\" baseline-shift=\"sub\" font-size=\"14.00\">0</text>\n<text text-anchor=\"start\" x=\"768.5\" y=\"-138.8\" font-family=\"Helvetica,sans-Serif\" font-size=\"14.00\"> ≤ 2.94</text>\n<text text-anchor=\"start\" x=\"741.5\" y=\"-124.8\" font-family=\"Helvetica,sans-Serif\" font-size=\"14.00\">mse = 0.106</text>\n<text text-anchor=\"start\" x=\"738.5\" y=\"-110.8\" font-family=\"Helvetica,sans-Serif\" font-size=\"14.00\">samples = 15</text>\n<text text-anchor=\"start\" x=\"739\" y=\"-96.8\" font-family=\"Helvetica,sans-Serif\" font-size=\"14.00\">value = 0.596</text>\n</g>\n<!-- 17&#45;&gt;19 -->\n<g id=\"edge19\" class=\"edge\">\n<title>17&#45;&gt;19</title>\n<path fill=\"none\" stroke=\"black\" d=\"M697.92,-188.99C709.7,-179.61 722.76,-169.2 735,-159.44\"/>\n<polygon fill=\"black\" stroke=\"black\" points=\"737.27,-162.11 742.91,-153.14 732.91,-156.64 737.27,-162.11\"/>\n</g>\n<!-- 20 -->\n<g id=\"node21\" class=\"node\">\n<title>20</title>\n<path fill=\"#eca36f\" stroke=\"black\" d=\"M819.5,-53C819.5,-53 740.5,-53 740.5,-53 734.5,-53 728.5,-47 728.5,-41 728.5,-41 728.5,-12 728.5,-12 728.5,-6 734.5,0 740.5,0 740.5,0 819.5,0 819.5,0 825.5,0 831.5,-6 831.5,-12 831.5,-12 831.5,-41 831.5,-41 831.5,-47 825.5,-53 819.5,-53\"/>\n<text text-anchor=\"start\" x=\"739.5\" y=\"-37.8\" font-family=\"Helvetica,sans-Serif\" font-size=\"14.00\">mse = 0.071</text>\n<text text-anchor=\"start\" x=\"736.5\" y=\"-22.8\" font-family=\"Helvetica,sans-Serif\" font-size=\"14.00\">samples = 14</text>\n<text text-anchor=\"start\" x=\"737\" y=\"-7.8\" font-family=\"Helvetica,sans-Serif\" font-size=\"14.00\">value = 0.542</text>\n</g>\n<!-- 19&#45;&gt;20 -->\n<g id=\"edge20\" class=\"edge\">\n<title>19&#45;&gt;20</title>\n<path fill=\"none\" stroke=\"black\" d=\"M781.33,-88.94C781.15,-80.66 780.95,-71.64 780.77,-63.13\"/>\n<polygon fill=\"black\" stroke=\"black\" points=\"784.27,-63.01 780.55,-53.09 777.27,-63.16 784.27,-63.01\"/>\n</g>\n<!-- 21 -->\n<g id=\"node22\" class=\"node\">\n<title>21</title>\n<path fill=\"#e58139\" stroke=\"black\" d=\"M932.5,-53C932.5,-53 861.5,-53 861.5,-53 855.5,-53 849.5,-47 849.5,-41 849.5,-41 849.5,-12 849.5,-12 849.5,-6 855.5,0 861.5,0 861.5,0 932.5,0 932.5,0 938.5,0 944.5,-6 944.5,-12 944.5,-12 944.5,-41 944.5,-41 944.5,-47 938.5,-53 932.5,-53\"/>\n<text text-anchor=\"start\" x=\"865\" y=\"-37.8\" font-family=\"Helvetica,sans-Serif\" font-size=\"14.00\">mse = 0.0</text>\n<text text-anchor=\"start\" x=\"857.5\" y=\"-22.8\" font-family=\"Helvetica,sans-Serif\" font-size=\"14.00\">samples = 1</text>\n<text text-anchor=\"start\" x=\"858\" y=\"-7.8\" font-family=\"Helvetica,sans-Serif\" font-size=\"14.00\">value = 1.35</text>\n</g>\n<!-- 19&#45;&gt;21 -->\n<g id=\"edge21\" class=\"edge\">\n<title>19&#45;&gt;21</title>\n<path fill=\"none\" stroke=\"black\" d=\"M820.61,-88.94C832.38,-79.47 845.34,-69.05 857.19,-59.52\"/>\n<polygon fill=\"black\" stroke=\"black\" points=\"859.59,-62.09 865.18,-53.09 855.2,-56.63 859.59,-62.09\"/>\n</g>\n<!-- 23 -->\n<g id=\"node24\" class=\"node\">\n<title>23</title>\n<path fill=\"#f5cdb1\" stroke=\"black\" d=\"M1367.5,-353C1367.5,-353 1284.5,-353 1284.5,-353 1278.5,-353 1272.5,-347 1272.5,-341 1272.5,-341 1272.5,-301 1272.5,-301 1272.5,-295 1278.5,-289 1284.5,-289 1284.5,-289 1367.5,-289 1367.5,-289 1373.5,-289 1379.5,-295 1379.5,-301 1379.5,-301 1379.5,-341 1379.5,-341 1379.5,-347 1373.5,-353 1367.5,-353\"/>\n<text text-anchor=\"start\" x=\"1291.5\" y=\"-338.8\" font-family=\"Helvetica,sans-Serif\" font-size=\"14.00\">X</text>\n<text text-anchor=\"start\" x=\"1301.5\" y=\"-338.8\" font-family=\"Helvetica,sans-Serif\" baseline-shift=\"sub\" font-size=\"14.00\">0</text>\n<text text-anchor=\"start\" x=\"1308.5\" y=\"-338.8\" font-family=\"Helvetica,sans-Serif\" font-size=\"14.00\"> ≤ 3.429</text>\n<text text-anchor=\"start\" x=\"1285.5\" y=\"-324.8\" font-family=\"Helvetica,sans-Serif\" font-size=\"14.00\">mse = 0.124</text>\n<text text-anchor=\"start\" x=\"1282.5\" y=\"-310.8\" font-family=\"Helvetica,sans-Serif\" font-size=\"14.00\">samples = 14</text>\n<text text-anchor=\"start\" x=\"1280.5\" y=\"-296.8\" font-family=\"Helvetica,sans-Serif\" font-size=\"14.00\">value = &#45;0.452</text>\n</g>\n<!-- 22&#45;&gt;23 -->\n<g id=\"edge23\" class=\"edge\">\n<title>22&#45;&gt;23</title>\n<path fill=\"none\" stroke=\"black\" d=\"M1326,-388.99C1326,-380.86 1326,-371.96 1326,-363.38\"/>\n<polygon fill=\"black\" stroke=\"black\" points=\"1329.5,-363.14 1326,-353.14 1322.5,-363.14 1329.5,-363.14\"/>\n</g>\n<!-- 36 -->\n<g id=\"node37\" class=\"node\">\n<title>36</title>\n<path fill=\"#f8dfcc\" stroke=\"black\" d=\"M1861.5,-353C1861.5,-353 1778.5,-353 1778.5,-353 1772.5,-353 1766.5,-347 1766.5,-341 1766.5,-341 1766.5,-301 1766.5,-301 1766.5,-295 1772.5,-289 1778.5,-289 1778.5,-289 1861.5,-289 1861.5,-289 1867.5,-289 1873.5,-295 1873.5,-301 1873.5,-301 1873.5,-341 1873.5,-341 1873.5,-347 1867.5,-353 1861.5,-353\"/>\n<text text-anchor=\"start\" x=\"1789.5\" y=\"-338.8\" font-family=\"Helvetica,sans-Serif\" font-size=\"14.00\">X</text>\n<text text-anchor=\"start\" x=\"1799.5\" y=\"-338.8\" font-family=\"Helvetica,sans-Serif\" baseline-shift=\"sub\" font-size=\"14.00\">0</text>\n<text text-anchor=\"start\" x=\"1806.5\" y=\"-338.8\" font-family=\"Helvetica,sans-Serif\" font-size=\"14.00\"> ≤ 4.68</text>\n<text text-anchor=\"start\" x=\"1779.5\" y=\"-324.8\" font-family=\"Helvetica,sans-Serif\" font-size=\"14.00\">mse = 0.041</text>\n<text text-anchor=\"start\" x=\"1776.5\" y=\"-310.8\" font-family=\"Helvetica,sans-Serif\" font-size=\"14.00\">samples = 15</text>\n<text text-anchor=\"start\" x=\"1774.5\" y=\"-296.8\" font-family=\"Helvetica,sans-Serif\" font-size=\"14.00\">value = &#45;0.869</text>\n</g>\n<!-- 22&#45;&gt;36 -->\n<g id=\"edge36\" class=\"edge\">\n<title>22&#45;&gt;36</title>\n<path fill=\"none\" stroke=\"black\" d=\"M1379.81,-409.33C1471.58,-391.12 1657.97,-354.14 1756.17,-334.66\"/>\n<polygon fill=\"black\" stroke=\"black\" points=\"1757.13,-338.04 1766.26,-332.66 1755.77,-331.17 1757.13,-338.04\"/>\n</g>\n<!-- 24 -->\n<g id=\"node25\" class=\"node\">\n<title>24</title>\n<path fill=\"#f3c4a2\" stroke=\"black\" d=\"M1305.5,-253C1305.5,-253 1222.5,-253 1222.5,-253 1216.5,-253 1210.5,-247 1210.5,-241 1210.5,-241 1210.5,-201 1210.5,-201 1210.5,-195 1216.5,-189 1222.5,-189 1222.5,-189 1305.5,-189 1305.5,-189 1311.5,-189 1317.5,-195 1317.5,-201 1317.5,-201 1317.5,-241 1317.5,-241 1317.5,-247 1311.5,-253 1305.5,-253\"/>\n<text text-anchor=\"start\" x=\"1229.5\" y=\"-238.8\" font-family=\"Helvetica,sans-Serif\" font-size=\"14.00\">X</text>\n<text text-anchor=\"start\" x=\"1239.5\" y=\"-238.8\" font-family=\"Helvetica,sans-Serif\" baseline-shift=\"sub\" font-size=\"14.00\">0</text>\n<text text-anchor=\"start\" x=\"1246.5\" y=\"-238.8\" font-family=\"Helvetica,sans-Serif\" font-size=\"14.00\"> ≤ 3.373</text>\n<text text-anchor=\"start\" x=\"1223.5\" y=\"-224.8\" font-family=\"Helvetica,sans-Serif\" font-size=\"14.00\">mse = 0.002</text>\n<text text-anchor=\"start\" x=\"1224.5\" y=\"-210.8\" font-family=\"Helvetica,sans-Serif\" font-size=\"14.00\">samples = 4</text>\n<text text-anchor=\"start\" x=\"1218.5\" y=\"-196.8\" font-family=\"Helvetica,sans-Serif\" font-size=\"14.00\">value = &#45;0.229</text>\n</g>\n<!-- 23&#45;&gt;24 -->\n<g id=\"edge24\" class=\"edge\">\n<title>23&#45;&gt;24</title>\n<path fill=\"none\" stroke=\"black\" d=\"M1306.38,-288.99C1300.9,-280.32 1294.86,-270.78 1289.11,-261.68\"/>\n<polygon fill=\"black\" stroke=\"black\" points=\"1292.01,-259.72 1283.7,-253.14 1286.09,-263.46 1292.01,-259.72\"/>\n</g>\n<!-- 31 -->\n<g id=\"node32\" class=\"node\">\n<title>31</title>\n<path fill=\"#f5d1b6\" stroke=\"black\" d=\"M1430.5,-253C1430.5,-253 1347.5,-253 1347.5,-253 1341.5,-253 1335.5,-247 1335.5,-241 1335.5,-241 1335.5,-201 1335.5,-201 1335.5,-195 1341.5,-189 1347.5,-189 1347.5,-189 1430.5,-189 1430.5,-189 1436.5,-189 1442.5,-195 1442.5,-201 1442.5,-201 1442.5,-241 1442.5,-241 1442.5,-247 1436.5,-253 1430.5,-253\"/>\n<text text-anchor=\"start\" x=\"1354.5\" y=\"-238.8\" font-family=\"Helvetica,sans-Serif\" font-size=\"14.00\">X</text>\n<text text-anchor=\"start\" x=\"1364.5\" y=\"-238.8\" font-family=\"Helvetica,sans-Serif\" baseline-shift=\"sub\" font-size=\"14.00\">0</text>\n<text text-anchor=\"start\" x=\"1371.5\" y=\"-238.8\" font-family=\"Helvetica,sans-Serif\" font-size=\"14.00\"> ≤ 3.446</text>\n<text text-anchor=\"start\" x=\"1348.5\" y=\"-224.8\" font-family=\"Helvetica,sans-Serif\" font-size=\"14.00\">mse = 0.145</text>\n<text text-anchor=\"start\" x=\"1345.5\" y=\"-210.8\" font-family=\"Helvetica,sans-Serif\" font-size=\"14.00\">samples = 10</text>\n<text text-anchor=\"start\" x=\"1343.5\" y=\"-196.8\" font-family=\"Helvetica,sans-Serif\" font-size=\"14.00\">value = &#45;0.541</text>\n</g>\n<!-- 23&#45;&gt;31 -->\n<g id=\"edge31\" class=\"edge\">\n<title>23&#45;&gt;31</title>\n<path fill=\"none\" stroke=\"black\" d=\"M1345.93,-288.99C1351.51,-280.32 1357.64,-270.78 1363.49,-261.68\"/>\n<polygon fill=\"black\" stroke=\"black\" points=\"1366.52,-263.45 1368.98,-253.14 1360.63,-259.66 1366.52,-263.45\"/>\n</g>\n<!-- 25 -->\n<g id=\"node26\" class=\"node\">\n<title>25</title>\n<path fill=\"#f2c29f\" stroke=\"black\" d=\"M1180.5,-153C1180.5,-153 1097.5,-153 1097.5,-153 1091.5,-153 1085.5,-147 1085.5,-141 1085.5,-141 1085.5,-101 1085.5,-101 1085.5,-95 1091.5,-89 1097.5,-89 1097.5,-89 1180.5,-89 1180.5,-89 1186.5,-89 1192.5,-95 1192.5,-101 1192.5,-101 1192.5,-141 1192.5,-141 1192.5,-147 1186.5,-153 1180.5,-153\"/>\n<text text-anchor=\"start\" x=\"1104.5\" y=\"-138.8\" font-family=\"Helvetica,sans-Serif\" font-size=\"14.00\">X</text>\n<text text-anchor=\"start\" x=\"1114.5\" y=\"-138.8\" font-family=\"Helvetica,sans-Serif\" baseline-shift=\"sub\" font-size=\"14.00\">0</text>\n<text text-anchor=\"start\" x=\"1121.5\" y=\"-138.8\" font-family=\"Helvetica,sans-Serif\" font-size=\"14.00\"> ≤ 3.336</text>\n<text text-anchor=\"start\" x=\"1107\" y=\"-124.8\" font-family=\"Helvetica,sans-Serif\" font-size=\"14.00\">mse = 0.0</text>\n<text text-anchor=\"start\" x=\"1099.5\" y=\"-110.8\" font-family=\"Helvetica,sans-Serif\" font-size=\"14.00\">samples = 2</text>\n<text text-anchor=\"start\" x=\"1093.5\" y=\"-96.8\" font-family=\"Helvetica,sans-Serif\" font-size=\"14.00\">value = &#45;0.193</text>\n</g>\n<!-- 24&#45;&gt;25 -->\n<g id=\"edge25\" class=\"edge\">\n<title>24&#45;&gt;25</title>\n<path fill=\"none\" stroke=\"black\" d=\"M1224.45,-188.99C1212.48,-179.61 1199.21,-169.2 1186.76,-159.44\"/>\n<polygon fill=\"black\" stroke=\"black\" points=\"1188.75,-156.56 1178.72,-153.14 1184.43,-162.07 1188.75,-156.56\"/>\n</g>\n<!-- 28 -->\n<g id=\"node29\" class=\"node\">\n<title>28</title>\n<path fill=\"#f3c5a4\" stroke=\"black\" d=\"M1305.5,-153C1305.5,-153 1222.5,-153 1222.5,-153 1216.5,-153 1210.5,-147 1210.5,-141 1210.5,-141 1210.5,-101 1210.5,-101 1210.5,-95 1216.5,-89 1222.5,-89 1222.5,-89 1305.5,-89 1305.5,-89 1311.5,-89 1317.5,-95 1317.5,-101 1317.5,-101 1317.5,-141 1317.5,-141 1317.5,-147 1311.5,-153 1305.5,-153\"/>\n<text text-anchor=\"start\" x=\"1233.5\" y=\"-138.8\" font-family=\"Helvetica,sans-Serif\" font-size=\"14.00\">X</text>\n<text text-anchor=\"start\" x=\"1243.5\" y=\"-138.8\" font-family=\"Helvetica,sans-Serif\" baseline-shift=\"sub\" font-size=\"14.00\">0</text>\n<text text-anchor=\"start\" x=\"1250.5\" y=\"-138.8\" font-family=\"Helvetica,sans-Serif\" font-size=\"14.00\"> ≤ 3.41</text>\n<text text-anchor=\"start\" x=\"1232\" y=\"-124.8\" font-family=\"Helvetica,sans-Serif\" font-size=\"14.00\">mse = 0.0</text>\n<text text-anchor=\"start\" x=\"1224.5\" y=\"-110.8\" font-family=\"Helvetica,sans-Serif\" font-size=\"14.00\">samples = 2</text>\n<text text-anchor=\"start\" x=\"1218.5\" y=\"-96.8\" font-family=\"Helvetica,sans-Serif\" font-size=\"14.00\">value = &#45;0.265</text>\n</g>\n<!-- 24&#45;&gt;28 -->\n<g id=\"edge28\" class=\"edge\">\n<title>24&#45;&gt;28</title>\n<path fill=\"none\" stroke=\"black\" d=\"M1264,-188.99C1264,-180.86 1264,-171.96 1264,-163.38\"/>\n<polygon fill=\"black\" stroke=\"black\" points=\"1267.5,-163.14 1264,-153.14 1260.5,-163.14 1267.5,-163.14\"/>\n</g>\n<!-- 26 -->\n<g id=\"node27\" class=\"node\">\n<title>26</title>\n<path fill=\"#f2c19e\" stroke=\"black\" d=\"M1057.5,-53C1057.5,-53 974.5,-53 974.5,-53 968.5,-53 962.5,-47 962.5,-41 962.5,-41 962.5,-12 962.5,-12 962.5,-6 968.5,0 974.5,0 974.5,0 1057.5,0 1057.5,0 1063.5,0 1069.5,-6 1069.5,-12 1069.5,-12 1069.5,-41 1069.5,-41 1069.5,-47 1063.5,-53 1057.5,-53\"/>\n<text text-anchor=\"start\" x=\"984\" y=\"-37.8\" font-family=\"Helvetica,sans-Serif\" font-size=\"14.00\">mse = 0.0</text>\n<text text-anchor=\"start\" x=\"976.5\" y=\"-22.8\" font-family=\"Helvetica,sans-Serif\" font-size=\"14.00\">samples = 1</text>\n<text text-anchor=\"start\" x=\"970.5\" y=\"-7.8\" font-family=\"Helvetica,sans-Serif\" font-size=\"14.00\">value = &#45;0.176</text>\n</g>\n<!-- 25&#45;&gt;26 -->\n<g id=\"edge26\" class=\"edge\">\n<title>25&#45;&gt;26</title>\n<path fill=\"none\" stroke=\"black\" d=\"M1097.7,-88.94C1084.99,-79.38 1070.99,-68.85 1058.22,-59.25\"/>\n<polygon fill=\"black\" stroke=\"black\" points=\"1060.12,-56.3 1050.03,-53.09 1055.92,-61.9 1060.12,-56.3\"/>\n</g>\n<!-- 27 -->\n<g id=\"node28\" class=\"node\">\n<title>27</title>\n<path fill=\"#f3c3a0\" stroke=\"black\" d=\"M1182.5,-53C1182.5,-53 1099.5,-53 1099.5,-53 1093.5,-53 1087.5,-47 1087.5,-41 1087.5,-41 1087.5,-12 1087.5,-12 1087.5,-6 1093.5,0 1099.5,0 1099.5,0 1182.5,0 1182.5,0 1188.5,0 1194.5,-6 1194.5,-12 1194.5,-12 1194.5,-41 1194.5,-41 1194.5,-47 1188.5,-53 1182.5,-53\"/>\n<text text-anchor=\"start\" x=\"1109\" y=\"-37.8\" font-family=\"Helvetica,sans-Serif\" font-size=\"14.00\">mse = 0.0</text>\n<text text-anchor=\"start\" x=\"1101.5\" y=\"-22.8\" font-family=\"Helvetica,sans-Serif\" font-size=\"14.00\">samples = 1</text>\n<text text-anchor=\"start\" x=\"1095.5\" y=\"-7.8\" font-family=\"Helvetica,sans-Serif\" font-size=\"14.00\">value = &#45;0.209</text>\n</g>\n<!-- 25&#45;&gt;27 -->\n<g id=\"edge27\" class=\"edge\">\n<title>25&#45;&gt;27</title>\n<path fill=\"none\" stroke=\"black\" d=\"M1139.67,-88.94C1139.85,-80.66 1140.05,-71.64 1140.23,-63.13\"/>\n<polygon fill=\"black\" stroke=\"black\" points=\"1143.73,-63.16 1140.45,-53.09 1136.73,-63.01 1143.73,-63.16\"/>\n</g>\n<!-- 29 -->\n<g id=\"node30\" class=\"node\">\n<title>29</title>\n<path fill=\"#f3c5a3\" stroke=\"black\" d=\"M1299,-53C1299,-53 1225,-53 1225,-53 1219,-53 1213,-47 1213,-41 1213,-41 1213,-12 1213,-12 1213,-6 1219,0 1225,0 1225,0 1299,0 1299,0 1305,0 1311,-6 1311,-12 1311,-12 1311,-41 1311,-41 1311,-47 1305,-53 1299,-53\"/>\n<text text-anchor=\"start\" x=\"1230\" y=\"-37.8\" font-family=\"Helvetica,sans-Serif\" font-size=\"14.00\">mse = 0.0</text>\n<text text-anchor=\"start\" x=\"1222.5\" y=\"-22.8\" font-family=\"Helvetica,sans-Serif\" font-size=\"14.00\">samples = 1</text>\n<text text-anchor=\"start\" x=\"1221\" y=\"-7.8\" font-family=\"Helvetica,sans-Serif\" font-size=\"14.00\">value = &#45;0.25</text>\n</g>\n<!-- 28&#45;&gt;29 -->\n<g id=\"edge29\" class=\"edge\">\n<title>28&#45;&gt;29</title>\n<path fill=\"none\" stroke=\"black\" d=\"M1263.33,-88.94C1263.15,-80.66 1262.95,-71.64 1262.77,-63.13\"/>\n<polygon fill=\"black\" stroke=\"black\" points=\"1266.27,-63.01 1262.55,-53.09 1259.27,-63.16 1266.27,-63.01\"/>\n</g>\n<!-- 30 -->\n<g id=\"node31\" class=\"node\">\n<title>30</title>\n<path fill=\"#f3c6a5\" stroke=\"black\" d=\"M1424.5,-53C1424.5,-53 1341.5,-53 1341.5,-53 1335.5,-53 1329.5,-47 1329.5,-41 1329.5,-41 1329.5,-12 1329.5,-12 1329.5,-6 1335.5,0 1341.5,0 1341.5,0 1424.5,0 1424.5,0 1430.5,0 1436.5,-6 1436.5,-12 1436.5,-12 1436.5,-41 1436.5,-41 1436.5,-47 1430.5,-53 1424.5,-53\"/>\n<text text-anchor=\"start\" x=\"1348.5\" y=\"-37.8\" font-family=\"Helvetica,sans-Serif\" font-size=\"14.00\">mse = &#45;0.0</text>\n<text text-anchor=\"start\" x=\"1343.5\" y=\"-22.8\" font-family=\"Helvetica,sans-Serif\" font-size=\"14.00\">samples = 1</text>\n<text text-anchor=\"start\" x=\"1337.5\" y=\"-7.8\" font-family=\"Helvetica,sans-Serif\" font-size=\"14.00\">value = &#45;0.281</text>\n</g>\n<!-- 28&#45;&gt;30 -->\n<g id=\"edge30\" class=\"edge\">\n<title>28&#45;&gt;30</title>\n<path fill=\"none\" stroke=\"black\" d=\"M1303.96,-88.94C1316.25,-79.38 1329.8,-68.85 1342.16,-59.25\"/>\n<polygon fill=\"black\" stroke=\"black\" points=\"1344.33,-61.99 1350.08,-53.09 1340.03,-56.46 1344.33,-61.99\"/>\n</g>\n<!-- 32 -->\n<g id=\"node33\" class=\"node\">\n<title>32</title>\n<path fill=\"#ffffff\" stroke=\"black\" d=\"M1430.5,-147.5C1430.5,-147.5 1347.5,-147.5 1347.5,-147.5 1341.5,-147.5 1335.5,-141.5 1335.5,-135.5 1335.5,-135.5 1335.5,-106.5 1335.5,-106.5 1335.5,-100.5 1341.5,-94.5 1347.5,-94.5 1347.5,-94.5 1430.5,-94.5 1430.5,-94.5 1436.5,-94.5 1442.5,-100.5 1442.5,-106.5 1442.5,-106.5 1442.5,-135.5 1442.5,-135.5 1442.5,-141.5 1436.5,-147.5 1430.5,-147.5\"/>\n<text text-anchor=\"start\" x=\"1357\" y=\"-132.3\" font-family=\"Helvetica,sans-Serif\" font-size=\"14.00\">mse = 0.0</text>\n<text text-anchor=\"start\" x=\"1349.5\" y=\"-117.3\" font-family=\"Helvetica,sans-Serif\" font-size=\"14.00\">samples = 1</text>\n<text text-anchor=\"start\" x=\"1343.5\" y=\"-102.3\" font-family=\"Helvetica,sans-Serif\" font-size=\"14.00\">value = &#45;1.635</text>\n</g>\n<!-- 31&#45;&gt;32 -->\n<g id=\"edge32\" class=\"edge\">\n<title>31&#45;&gt;32</title>\n<path fill=\"none\" stroke=\"black\" d=\"M1389,-188.99C1389,-179.09 1389,-168.04 1389,-157.82\"/>\n<polygon fill=\"black\" stroke=\"black\" points=\"1392.5,-157.56 1389,-147.56 1385.5,-157.56 1392.5,-157.56\"/>\n</g>\n<!-- 33 -->\n<g id=\"node34\" class=\"node\">\n<title>33</title>\n<path fill=\"#f4ccae\" stroke=\"black\" d=\"M1555.5,-153C1555.5,-153 1472.5,-153 1472.5,-153 1466.5,-153 1460.5,-147 1460.5,-141 1460.5,-141 1460.5,-101 1460.5,-101 1460.5,-95 1466.5,-89 1472.5,-89 1472.5,-89 1555.5,-89 1555.5,-89 1561.5,-89 1567.5,-95 1567.5,-101 1567.5,-101 1567.5,-141 1567.5,-141 1567.5,-147 1561.5,-153 1555.5,-153\"/>\n<text text-anchor=\"start\" x=\"1479.5\" y=\"-138.8\" font-family=\"Helvetica,sans-Serif\" font-size=\"14.00\">X</text>\n<text text-anchor=\"start\" x=\"1489.5\" y=\"-138.8\" font-family=\"Helvetica,sans-Serif\" baseline-shift=\"sub\" font-size=\"14.00\">0</text>\n<text text-anchor=\"start\" x=\"1496.5\" y=\"-138.8\" font-family=\"Helvetica,sans-Serif\" font-size=\"14.00\"> ≤ 3.616</text>\n<text text-anchor=\"start\" x=\"1473.5\" y=\"-124.8\" font-family=\"Helvetica,sans-Serif\" font-size=\"14.00\">mse = 0.014</text>\n<text text-anchor=\"start\" x=\"1474.5\" y=\"-110.8\" font-family=\"Helvetica,sans-Serif\" font-size=\"14.00\">samples = 9</text>\n<text text-anchor=\"start\" x=\"1468.5\" y=\"-96.8\" font-family=\"Helvetica,sans-Serif\" font-size=\"14.00\">value = &#45;0.419</text>\n</g>\n<!-- 31&#45;&gt;33 -->\n<g id=\"edge33\" class=\"edge\">\n<title>31&#45;&gt;33</title>\n<path fill=\"none\" stroke=\"black\" d=\"M1428.55,-188.99C1440.52,-179.61 1453.79,-169.2 1466.24,-159.44\"/>\n<polygon fill=\"black\" stroke=\"black\" points=\"1468.57,-162.07 1474.28,-153.14 1464.25,-156.56 1468.57,-162.07\"/>\n</g>\n<!-- 34 -->\n<g id=\"node35\" class=\"node\">\n<title>34</title>\n<path fill=\"#f4c7a8\" stroke=\"black\" d=\"M1549.5,-53C1549.5,-53 1466.5,-53 1466.5,-53 1460.5,-53 1454.5,-47 1454.5,-41 1454.5,-41 1454.5,-12 1454.5,-12 1454.5,-6 1460.5,0 1466.5,0 1466.5,0 1549.5,0 1549.5,0 1555.5,0 1561.5,-6 1561.5,-12 1561.5,-12 1561.5,-41 1561.5,-41 1561.5,-47 1555.5,-53 1549.5,-53\"/>\n<text text-anchor=\"start\" x=\"1476\" y=\"-37.8\" font-family=\"Helvetica,sans-Serif\" font-size=\"14.00\">mse = 0.0</text>\n<text text-anchor=\"start\" x=\"1468.5\" y=\"-22.8\" font-family=\"Helvetica,sans-Serif\" font-size=\"14.00\">samples = 5</text>\n<text text-anchor=\"start\" x=\"1462.5\" y=\"-7.8\" font-family=\"Helvetica,sans-Serif\" font-size=\"14.00\">value = &#45;0.319</text>\n</g>\n<!-- 33&#45;&gt;34 -->\n<g id=\"edge34\" class=\"edge\">\n<title>33&#45;&gt;34</title>\n<path fill=\"none\" stroke=\"black\" d=\"M1511.99,-88.94C1511.45,-80.66 1510.86,-71.64 1510.31,-63.13\"/>\n<polygon fill=\"black\" stroke=\"black\" points=\"1513.8,-62.84 1509.66,-53.09 1506.81,-63.3 1513.8,-62.84\"/>\n</g>\n<!-- 35 -->\n<g id=\"node36\" class=\"node\">\n<title>35</title>\n<path fill=\"#f6d1b7\" stroke=\"black\" d=\"M1674.5,-53C1674.5,-53 1591.5,-53 1591.5,-53 1585.5,-53 1579.5,-47 1579.5,-41 1579.5,-41 1579.5,-12 1579.5,-12 1579.5,-6 1585.5,0 1591.5,0 1591.5,0 1674.5,0 1674.5,0 1680.5,0 1686.5,-6 1686.5,-12 1686.5,-12 1686.5,-41 1686.5,-41 1686.5,-47 1680.5,-53 1674.5,-53\"/>\n<text text-anchor=\"start\" x=\"1592.5\" y=\"-37.8\" font-family=\"Helvetica,sans-Serif\" font-size=\"14.00\">mse = 0.002</text>\n<text text-anchor=\"start\" x=\"1593.5\" y=\"-22.8\" font-family=\"Helvetica,sans-Serif\" font-size=\"14.00\">samples = 4</text>\n<text text-anchor=\"start\" x=\"1587.5\" y=\"-7.8\" font-family=\"Helvetica,sans-Serif\" font-size=\"14.00\">value = &#45;0.545</text>\n</g>\n<!-- 33&#45;&gt;35 -->\n<g id=\"edge35\" class=\"edge\">\n<title>33&#45;&gt;35</title>\n<path fill=\"none\" stroke=\"black\" d=\"M1553.96,-88.94C1566.25,-79.38 1579.8,-68.85 1592.16,-59.25\"/>\n<polygon fill=\"black\" stroke=\"black\" points=\"1594.33,-61.99 1600.08,-53.09 1590.03,-56.46 1594.33,-61.99\"/>\n</g>\n<!-- 37 -->\n<g id=\"node38\" class=\"node\">\n<title>37</title>\n<path fill=\"#f8ddc9\" stroke=\"black\" d=\"M1861.5,-253C1861.5,-253 1778.5,-253 1778.5,-253 1772.5,-253 1766.5,-247 1766.5,-241 1766.5,-241 1766.5,-201 1766.5,-201 1766.5,-195 1772.5,-189 1778.5,-189 1778.5,-189 1861.5,-189 1861.5,-189 1867.5,-189 1873.5,-195 1873.5,-201 1873.5,-201 1873.5,-241 1873.5,-241 1873.5,-247 1867.5,-253 1861.5,-253\"/>\n<text text-anchor=\"start\" x=\"1789.5\" y=\"-238.8\" font-family=\"Helvetica,sans-Serif\" font-size=\"14.00\">X</text>\n<text text-anchor=\"start\" x=\"1799.5\" y=\"-238.8\" font-family=\"Helvetica,sans-Serif\" baseline-shift=\"sub\" font-size=\"14.00\">0</text>\n<text text-anchor=\"start\" x=\"1806.5\" y=\"-238.8\" font-family=\"Helvetica,sans-Serif\" font-size=\"14.00\"> ≤ 4.59</text>\n<text text-anchor=\"start\" x=\"1779.5\" y=\"-224.8\" font-family=\"Helvetica,sans-Serif\" font-size=\"14.00\">mse = 0.048</text>\n<text text-anchor=\"start\" x=\"1776.5\" y=\"-210.8\" font-family=\"Helvetica,sans-Serif\" font-size=\"14.00\">samples = 11</text>\n<text text-anchor=\"start\" x=\"1774.5\" y=\"-196.8\" font-family=\"Helvetica,sans-Serif\" font-size=\"14.00\">value = &#45;0.824</text>\n</g>\n<!-- 36&#45;&gt;37 -->\n<g id=\"edge37\" class=\"edge\">\n<title>36&#45;&gt;37</title>\n<path fill=\"none\" stroke=\"black\" d=\"M1820,-288.99C1820,-280.86 1820,-271.96 1820,-263.38\"/>\n<polygon fill=\"black\" stroke=\"black\" points=\"1823.5,-263.14 1820,-253.14 1816.5,-263.14 1823.5,-263.14\"/>\n</g>\n<!-- 42 -->\n<g id=\"node43\" class=\"node\">\n<title>42</title>\n<path fill=\"#f9e4d4\" stroke=\"black\" d=\"M2045,-253C2045,-253 1971,-253 1971,-253 1965,-253 1959,-247 1959,-241 1959,-241 1959,-201 1959,-201 1959,-195 1965,-189 1971,-189 1971,-189 2045,-189 2045,-189 2051,-189 2057,-195 2057,-201 2057,-201 2057,-241 2057,-241 2057,-247 2051,-253 2045,-253\"/>\n<text text-anchor=\"start\" x=\"1973.5\" y=\"-238.8\" font-family=\"Helvetica,sans-Serif\" font-size=\"14.00\">X</text>\n<text text-anchor=\"start\" x=\"1983.5\" y=\"-238.8\" font-family=\"Helvetica,sans-Serif\" baseline-shift=\"sub\" font-size=\"14.00\">0</text>\n<text text-anchor=\"start\" x=\"1990.5\" y=\"-238.8\" font-family=\"Helvetica,sans-Serif\" font-size=\"14.00\"> ≤ 4.893</text>\n<text text-anchor=\"start\" x=\"1976\" y=\"-224.8\" font-family=\"Helvetica,sans-Serif\" font-size=\"14.00\">mse = 0.0</text>\n<text text-anchor=\"start\" x=\"1968.5\" y=\"-210.8\" font-family=\"Helvetica,sans-Serif\" font-size=\"14.00\">samples = 4</text>\n<text text-anchor=\"start\" x=\"1967\" y=\"-196.8\" font-family=\"Helvetica,sans-Serif\" font-size=\"14.00\">value = &#45;0.99</text>\n</g>\n<!-- 36&#45;&gt;42 -->\n<g id=\"edge42\" class=\"edge\">\n<title>36&#45;&gt;42</title>\n<path fill=\"none\" stroke=\"black\" d=\"M1873.62,-292.05C1897.39,-279.66 1925.42,-265.05 1949.7,-252.39\"/>\n<polygon fill=\"black\" stroke=\"black\" points=\"1951.56,-255.37 1958.81,-247.64 1948.33,-249.16 1951.56,-255.37\"/>\n</g>\n<!-- 38 -->\n<g id=\"node39\" class=\"node\">\n<title>38</title>\n<path fill=\"#f8dfcd\" stroke=\"black\" d=\"M1799.5,-153C1799.5,-153 1716.5,-153 1716.5,-153 1710.5,-153 1704.5,-147 1704.5,-141 1704.5,-141 1704.5,-101 1704.5,-101 1704.5,-95 1710.5,-89 1716.5,-89 1716.5,-89 1799.5,-89 1799.5,-89 1805.5,-89 1811.5,-95 1811.5,-101 1811.5,-101 1811.5,-141 1811.5,-141 1811.5,-147 1805.5,-153 1799.5,-153\"/>\n<text text-anchor=\"start\" x=\"1723.5\" y=\"-138.8\" font-family=\"Helvetica,sans-Serif\" font-size=\"14.00\">X</text>\n<text text-anchor=\"start\" x=\"1733.5\" y=\"-138.8\" font-family=\"Helvetica,sans-Serif\" baseline-shift=\"sub\" font-size=\"14.00\">0</text>\n<text text-anchor=\"start\" x=\"1740.5\" y=\"-138.8\" font-family=\"Helvetica,sans-Serif\" font-size=\"14.00\"> ≤ 4.391</text>\n<text text-anchor=\"start\" x=\"1717.5\" y=\"-124.8\" font-family=\"Helvetica,sans-Serif\" font-size=\"14.00\">mse = 0.011</text>\n<text text-anchor=\"start\" x=\"1714.5\" y=\"-110.8\" font-family=\"Helvetica,sans-Serif\" font-size=\"14.00\">samples = 10</text>\n<text text-anchor=\"start\" x=\"1712.5\" y=\"-96.8\" font-family=\"Helvetica,sans-Serif\" font-size=\"14.00\">value = &#45;0.886</text>\n</g>\n<!-- 37&#45;&gt;38 -->\n<g id=\"edge38\" class=\"edge\">\n<title>37&#45;&gt;38</title>\n<path fill=\"none\" stroke=\"black\" d=\"M1800.38,-188.99C1794.9,-180.32 1788.86,-170.78 1783.11,-161.68\"/>\n<polygon fill=\"black\" stroke=\"black\" points=\"1786.01,-159.72 1777.7,-153.14 1780.09,-163.46 1786.01,-159.72\"/>\n</g>\n<!-- 41 -->\n<g id=\"node42\" class=\"node\">\n<title>41</title>\n<path fill=\"#f3c3a0\" stroke=\"black\" d=\"M1924.5,-147.5C1924.5,-147.5 1841.5,-147.5 1841.5,-147.5 1835.5,-147.5 1829.5,-141.5 1829.5,-135.5 1829.5,-135.5 1829.5,-106.5 1829.5,-106.5 1829.5,-100.5 1835.5,-94.5 1841.5,-94.5 1841.5,-94.5 1924.5,-94.5 1924.5,-94.5 1930.5,-94.5 1936.5,-100.5 1936.5,-106.5 1936.5,-106.5 1936.5,-135.5 1936.5,-135.5 1936.5,-141.5 1930.5,-147.5 1924.5,-147.5\"/>\n<text text-anchor=\"start\" x=\"1848.5\" y=\"-132.3\" font-family=\"Helvetica,sans-Serif\" font-size=\"14.00\">mse = &#45;0.0</text>\n<text text-anchor=\"start\" x=\"1843.5\" y=\"-117.3\" font-family=\"Helvetica,sans-Serif\" font-size=\"14.00\">samples = 1</text>\n<text text-anchor=\"start\" x=\"1837.5\" y=\"-102.3\" font-family=\"Helvetica,sans-Serif\" font-size=\"14.00\">value = &#45;0.208</text>\n</g>\n<!-- 37&#45;&gt;41 -->\n<g id=\"edge41\" class=\"edge\">\n<title>37&#45;&gt;41</title>\n<path fill=\"none\" stroke=\"black\" d=\"M1839.93,-188.99C1846.64,-178.57 1854.15,-166.88 1861,-156.22\"/>\n<polygon fill=\"black\" stroke=\"black\" points=\"1864.11,-157.86 1866.57,-147.56 1858.22,-154.08 1864.11,-157.86\"/>\n</g>\n<!-- 39 -->\n<g id=\"node40\" class=\"node\">\n<title>39</title>\n<path fill=\"#f8ddc9\" stroke=\"black\" d=\"M1799.5,-53C1799.5,-53 1716.5,-53 1716.5,-53 1710.5,-53 1704.5,-47 1704.5,-41 1704.5,-41 1704.5,-12 1704.5,-12 1704.5,-6 1710.5,0 1716.5,0 1716.5,0 1799.5,0 1799.5,0 1805.5,0 1811.5,-6 1811.5,-12 1811.5,-12 1811.5,-41 1811.5,-41 1811.5,-47 1805.5,-53 1799.5,-53\"/>\n<text text-anchor=\"start\" x=\"1721.5\" y=\"-37.8\" font-family=\"Helvetica,sans-Serif\" font-size=\"14.00\">mse = 0.01</text>\n<text text-anchor=\"start\" x=\"1718.5\" y=\"-22.8\" font-family=\"Helvetica,sans-Serif\" font-size=\"14.00\">samples = 6</text>\n<text text-anchor=\"start\" x=\"1712.5\" y=\"-7.8\" font-family=\"Helvetica,sans-Serif\" font-size=\"14.00\">value = &#45;0.829</text>\n</g>\n<!-- 38&#45;&gt;39 -->\n<g id=\"edge39\" class=\"edge\">\n<title>38&#45;&gt;39</title>\n<path fill=\"none\" stroke=\"black\" d=\"M1758,-88.94C1758,-80.66 1758,-71.64 1758,-63.13\"/>\n<polygon fill=\"black\" stroke=\"black\" points=\"1761.5,-63.09 1758,-53.09 1754.5,-63.09 1761.5,-63.09\"/>\n</g>\n<!-- 40 -->\n<g id=\"node41\" class=\"node\">\n<title>40</title>\n<path fill=\"#f9e3d3\" stroke=\"black\" d=\"M1924.5,-53C1924.5,-53 1841.5,-53 1841.5,-53 1835.5,-53 1829.5,-47 1829.5,-41 1829.5,-41 1829.5,-12 1829.5,-12 1829.5,-6 1835.5,0 1841.5,0 1841.5,0 1924.5,0 1924.5,0 1930.5,0 1936.5,-6 1936.5,-12 1936.5,-12 1936.5,-41 1936.5,-41 1936.5,-47 1930.5,-53 1924.5,-53\"/>\n<text text-anchor=\"start\" x=\"1851\" y=\"-37.8\" font-family=\"Helvetica,sans-Serif\" font-size=\"14.00\">mse = 0.0</text>\n<text text-anchor=\"start\" x=\"1843.5\" y=\"-22.8\" font-family=\"Helvetica,sans-Serif\" font-size=\"14.00\">samples = 4</text>\n<text text-anchor=\"start\" x=\"1837.5\" y=\"-7.8\" font-family=\"Helvetica,sans-Serif\" font-size=\"14.00\">value = &#45;0.972</text>\n</g>\n<!-- 38&#45;&gt;40 -->\n<g id=\"edge40\" class=\"edge\">\n<title>38&#45;&gt;40</title>\n<path fill=\"none\" stroke=\"black\" d=\"M1799.97,-88.94C1812.89,-79.38 1827.12,-68.85 1840.1,-59.25\"/>\n<polygon fill=\"black\" stroke=\"black\" points=\"1842.46,-61.85 1848.42,-53.09 1838.3,-56.23 1842.46,-61.85\"/>\n</g>\n<!-- 43 -->\n<g id=\"node44\" class=\"node\">\n<title>43</title>\n<path fill=\"#f9e4d5\" stroke=\"black\" d=\"M2049.5,-153C2049.5,-153 1966.5,-153 1966.5,-153 1960.5,-153 1954.5,-147 1954.5,-141 1954.5,-141 1954.5,-101 1954.5,-101 1954.5,-95 1960.5,-89 1966.5,-89 1966.5,-89 2049.5,-89 2049.5,-89 2055.5,-89 2061.5,-95 2061.5,-101 2061.5,-101 2061.5,-141 2061.5,-141 2061.5,-147 2055.5,-153 2049.5,-153\"/>\n<text text-anchor=\"start\" x=\"1973.5\" y=\"-138.8\" font-family=\"Helvetica,sans-Serif\" font-size=\"14.00\">X</text>\n<text text-anchor=\"start\" x=\"1983.5\" y=\"-138.8\" font-family=\"Helvetica,sans-Serif\" baseline-shift=\"sub\" font-size=\"14.00\">0</text>\n<text text-anchor=\"start\" x=\"1990.5\" y=\"-138.8\" font-family=\"Helvetica,sans-Serif\" font-size=\"14.00\"> ≤ 4.815</text>\n<text text-anchor=\"start\" x=\"1976\" y=\"-124.8\" font-family=\"Helvetica,sans-Serif\" font-size=\"14.00\">mse = 0.0</text>\n<text text-anchor=\"start\" x=\"1968.5\" y=\"-110.8\" font-family=\"Helvetica,sans-Serif\" font-size=\"14.00\">samples = 3</text>\n<text text-anchor=\"start\" x=\"1962.5\" y=\"-96.8\" font-family=\"Helvetica,sans-Serif\" font-size=\"14.00\">value = &#45;0.996</text>\n</g>\n<!-- 42&#45;&gt;43 -->\n<g id=\"edge43\" class=\"edge\">\n<title>42&#45;&gt;43</title>\n<path fill=\"none\" stroke=\"black\" d=\"M2008,-188.99C2008,-180.86 2008,-171.96 2008,-163.38\"/>\n<polygon fill=\"black\" stroke=\"black\" points=\"2011.5,-163.14 2008,-153.14 2004.5,-163.14 2011.5,-163.14\"/>\n</g>\n<!-- 46 -->\n<g id=\"node47\" class=\"node\">\n<title>46</title>\n<path fill=\"#f9e3d3\" stroke=\"black\" d=\"M2174.5,-147.5C2174.5,-147.5 2091.5,-147.5 2091.5,-147.5 2085.5,-147.5 2079.5,-141.5 2079.5,-135.5 2079.5,-135.5 2079.5,-106.5 2079.5,-106.5 2079.5,-100.5 2085.5,-94.5 2091.5,-94.5 2091.5,-94.5 2174.5,-94.5 2174.5,-94.5 2180.5,-94.5 2186.5,-100.5 2186.5,-106.5 2186.5,-106.5 2186.5,-135.5 2186.5,-135.5 2186.5,-141.5 2180.5,-147.5 2174.5,-147.5\"/>\n<text text-anchor=\"start\" x=\"2098.5\" y=\"-132.3\" font-family=\"Helvetica,sans-Serif\" font-size=\"14.00\">mse = &#45;0.0</text>\n<text text-anchor=\"start\" x=\"2093.5\" y=\"-117.3\" font-family=\"Helvetica,sans-Serif\" font-size=\"14.00\">samples = 1</text>\n<text text-anchor=\"start\" x=\"2087.5\" y=\"-102.3\" font-family=\"Helvetica,sans-Serif\" font-size=\"14.00\">value = &#45;0.973</text>\n</g>\n<!-- 42&#45;&gt;46 -->\n<g id=\"edge46\" class=\"edge\">\n<title>42&#45;&gt;46</title>\n<path fill=\"none\" stroke=\"black\" d=\"M2047.55,-188.99C2061.78,-177.84 2077.85,-165.23 2092.19,-154\"/>\n<polygon fill=\"black\" stroke=\"black\" points=\"2094.69,-156.48 2100.4,-147.56 2090.37,-150.97 2094.69,-156.48\"/>\n</g>\n<!-- 44 -->\n<g id=\"node45\" class=\"node\">\n<title>44</title>\n<path fill=\"#f9e4d5\" stroke=\"black\" d=\"M2049.5,-53C2049.5,-53 1966.5,-53 1966.5,-53 1960.5,-53 1954.5,-47 1954.5,-41 1954.5,-41 1954.5,-12 1954.5,-12 1954.5,-6 1960.5,0 1966.5,0 1966.5,0 2049.5,0 2049.5,0 2055.5,0 2061.5,-6 2061.5,-12 2061.5,-12 2061.5,-41 2061.5,-41 2061.5,-47 2055.5,-53 2049.5,-53\"/>\n<text text-anchor=\"start\" x=\"1976\" y=\"-37.8\" font-family=\"Helvetica,sans-Serif\" font-size=\"14.00\">mse = 0.0</text>\n<text text-anchor=\"start\" x=\"1968.5\" y=\"-22.8\" font-family=\"Helvetica,sans-Serif\" font-size=\"14.00\">samples = 2</text>\n<text text-anchor=\"start\" x=\"1962.5\" y=\"-7.8\" font-family=\"Helvetica,sans-Serif\" font-size=\"14.00\">value = &#45;0.998</text>\n</g>\n<!-- 43&#45;&gt;44 -->\n<g id=\"edge44\" class=\"edge\">\n<title>43&#45;&gt;44</title>\n<path fill=\"none\" stroke=\"black\" d=\"M2008,-88.94C2008,-80.66 2008,-71.64 2008,-63.13\"/>\n<polygon fill=\"black\" stroke=\"black\" points=\"2011.5,-63.09 2008,-53.09 2004.5,-63.09 2011.5,-63.09\"/>\n</g>\n<!-- 45 -->\n<g id=\"node46\" class=\"node\">\n<title>45</title>\n<path fill=\"#f9e4d4\" stroke=\"black\" d=\"M2174.5,-53C2174.5,-53 2091.5,-53 2091.5,-53 2085.5,-53 2079.5,-47 2079.5,-41 2079.5,-41 2079.5,-12 2079.5,-12 2079.5,-6 2085.5,0 2091.5,0 2091.5,0 2174.5,0 2174.5,0 2180.5,0 2186.5,-6 2186.5,-12 2186.5,-12 2186.5,-41 2186.5,-41 2186.5,-47 2180.5,-53 2174.5,-53\"/>\n<text text-anchor=\"start\" x=\"2098.5\" y=\"-37.8\" font-family=\"Helvetica,sans-Serif\" font-size=\"14.00\">mse = &#45;0.0</text>\n<text text-anchor=\"start\" x=\"2093.5\" y=\"-22.8\" font-family=\"Helvetica,sans-Serif\" font-size=\"14.00\">samples = 1</text>\n<text text-anchor=\"start\" x=\"2087.5\" y=\"-7.8\" font-family=\"Helvetica,sans-Serif\" font-size=\"14.00\">value = &#45;0.992</text>\n</g>\n<!-- 43&#45;&gt;45 -->\n<g id=\"edge45\" class=\"edge\">\n<title>43&#45;&gt;45</title>\n<path fill=\"none\" stroke=\"black\" d=\"M2049.97,-88.94C2062.89,-79.38 2077.12,-68.85 2090.1,-59.25\"/>\n<polygon fill=\"black\" stroke=\"black\" points=\"2092.46,-61.85 2098.42,-53.09 2088.3,-56.23 2092.46,-61.85\"/>\n</g>\n</g>\n</svg>\n",
      "text/plain": [
       "<graphviz.sources.Source at 0x197f7e1c400>"
      ]
     },
     "execution_count": 52,
     "metadata": {},
     "output_type": "execute_result"
    }
   ],
   "source": [
    "graph4 = graphviz.Source(dot_data4)\n",
    "graph4"
   ]
  },
  {
   "cell_type": "code",
   "execution_count": 54,
   "metadata": {},
   "outputs": [],
   "source": [
    "dot_data5 = tree.export_graphviz(regr1, out_file=None, filled=True, rounded=True, special_characters=True)"
   ]
  },
  {
   "cell_type": "code",
   "execution_count": 55,
   "metadata": {},
   "outputs": [
    {
     "data": {
      "image/svg+xml": "<?xml version=\"1.0\" encoding=\"UTF-8\" standalone=\"no\"?>\n<!DOCTYPE svg PUBLIC \"-//W3C//DTD SVG 1.1//EN\"\n \"http://www.w3.org/Graphics/SVG/1.1/DTD/svg11.dtd\">\n<!-- Generated by graphviz version 2.50.0 (20211204.2007)\n -->\n<!-- Title: Tree Pages: 1 -->\n<svg width=\"482pt\" height=\"261pt\"\n viewBox=\"0.00 0.00 482.00 261.00\" xmlns=\"http://www.w3.org/2000/svg\" xmlns:xlink=\"http://www.w3.org/1999/xlink\">\n<g id=\"graph0\" class=\"graph\" transform=\"scale(1 1) rotate(0) translate(4 257)\">\n<title>Tree</title>\n<polygon fill=\"white\" stroke=\"transparent\" points=\"-4,4 -4,-257 478,-257 478,4 -4,4\"/>\n<!-- 0 -->\n<g id=\"node1\" class=\"node\">\n<title>0</title>\n<path fill=\"#efb083\" stroke=\"black\" d=\"M273,-253C273,-253 194,-253 194,-253 188,-253 182,-247 182,-241 182,-241 182,-201 182,-201 182,-195 188,-189 194,-189 194,-189 273,-189 273,-189 279,-189 285,-195 285,-201 285,-201 285,-241 285,-241 285,-247 279,-253 273,-253\"/>\n<text text-anchor=\"start\" x=\"199\" y=\"-238.8\" font-family=\"Helvetica,sans-Serif\" font-size=\"14.00\">X</text>\n<text text-anchor=\"start\" x=\"209\" y=\"-238.8\" font-family=\"Helvetica,sans-Serif\" baseline-shift=\"sub\" font-size=\"14.00\">0</text>\n<text text-anchor=\"start\" x=\"216\" y=\"-238.8\" font-family=\"Helvetica,sans-Serif\" font-size=\"14.00\"> ≤ 3.133</text>\n<text text-anchor=\"start\" x=\"193\" y=\"-224.8\" font-family=\"Helvetica,sans-Serif\" font-size=\"14.00\">mse = 0.547</text>\n<text text-anchor=\"start\" x=\"190\" y=\"-210.8\" font-family=\"Helvetica,sans-Serif\" font-size=\"14.00\">samples = 80</text>\n<text text-anchor=\"start\" x=\"190.5\" y=\"-196.8\" font-family=\"Helvetica,sans-Serif\" font-size=\"14.00\">value = 0.122</text>\n</g>\n<!-- 1 -->\n<g id=\"node2\" class=\"node\">\n<title>1</title>\n<path fill=\"#e78c4b\" stroke=\"black\" d=\"M212,-153C212,-153 133,-153 133,-153 127,-153 121,-147 121,-141 121,-141 121,-101 121,-101 121,-95 127,-89 133,-89 133,-89 212,-89 212,-89 218,-89 224,-95 224,-101 224,-101 224,-141 224,-141 224,-147 218,-153 212,-153\"/>\n<text text-anchor=\"start\" x=\"138\" y=\"-138.8\" font-family=\"Helvetica,sans-Serif\" font-size=\"14.00\">X</text>\n<text text-anchor=\"start\" x=\"148\" y=\"-138.8\" font-family=\"Helvetica,sans-Serif\" baseline-shift=\"sub\" font-size=\"14.00\">0</text>\n<text text-anchor=\"start\" x=\"155\" y=\"-138.8\" font-family=\"Helvetica,sans-Serif\" font-size=\"14.00\"> ≤ 0.514</text>\n<text text-anchor=\"start\" x=\"132\" y=\"-124.8\" font-family=\"Helvetica,sans-Serif\" font-size=\"14.00\">mse = 0.231</text>\n<text text-anchor=\"start\" x=\"129\" y=\"-110.8\" font-family=\"Helvetica,sans-Serif\" font-size=\"14.00\">samples = 51</text>\n<text text-anchor=\"start\" x=\"129.5\" y=\"-96.8\" font-family=\"Helvetica,sans-Serif\" font-size=\"14.00\">value = 0.571</text>\n</g>\n<!-- 0&#45;&gt;1 -->\n<g id=\"edge1\" class=\"edge\">\n<title>0&#45;&gt;1</title>\n<path fill=\"none\" stroke=\"black\" d=\"M214.2,-188.99C208.8,-180.32 202.86,-170.78 197.2,-161.68\"/>\n<polygon fill=\"black\" stroke=\"black\" points=\"200.14,-159.78 191.88,-153.14 194.2,-163.48 200.14,-159.78\"/>\n<text text-anchor=\"middle\" x=\"186.22\" y=\"-173.79\" font-family=\"Helvetica,sans-Serif\" font-size=\"14.00\">True</text>\n</g>\n<!-- 4 -->\n<g id=\"node5\" class=\"node\">\n<title>4</title>\n<path fill=\"#fcefe6\" stroke=\"black\" d=\"M337,-153C337,-153 254,-153 254,-153 248,-153 242,-147 242,-141 242,-141 242,-101 242,-101 242,-95 248,-89 254,-89 254,-89 337,-89 337,-89 343,-89 349,-95 349,-101 349,-101 349,-141 349,-141 349,-147 343,-153 337,-153\"/>\n<text text-anchor=\"start\" x=\"265\" y=\"-138.8\" font-family=\"Helvetica,sans-Serif\" font-size=\"14.00\">X</text>\n<text text-anchor=\"start\" x=\"275\" y=\"-138.8\" font-family=\"Helvetica,sans-Serif\" baseline-shift=\"sub\" font-size=\"14.00\">0</text>\n<text text-anchor=\"start\" x=\"282\" y=\"-138.8\" font-family=\"Helvetica,sans-Serif\" font-size=\"14.00\"> ≤ 3.85</text>\n<text text-anchor=\"start\" x=\"255\" y=\"-124.8\" font-family=\"Helvetica,sans-Serif\" font-size=\"14.00\">mse = 0.124</text>\n<text text-anchor=\"start\" x=\"252\" y=\"-110.8\" font-family=\"Helvetica,sans-Serif\" font-size=\"14.00\">samples = 29</text>\n<text text-anchor=\"start\" x=\"250\" y=\"-96.8\" font-family=\"Helvetica,sans-Serif\" font-size=\"14.00\">value = &#45;0.667</text>\n</g>\n<!-- 0&#45;&gt;4 -->\n<g id=\"edge4\" class=\"edge\">\n<title>0&#45;&gt;4</title>\n<path fill=\"none\" stroke=\"black\" d=\"M253.12,-188.99C258.6,-180.32 264.64,-170.78 270.39,-161.68\"/>\n<polygon fill=\"black\" stroke=\"black\" points=\"273.41,-163.46 275.8,-153.14 267.49,-159.72 273.41,-163.46\"/>\n<text text-anchor=\"middle\" x=\"281.29\" y=\"-173.83\" font-family=\"Helvetica,sans-Serif\" font-size=\"14.00\">False</text>\n</g>\n<!-- 2 -->\n<g id=\"node3\" class=\"node\">\n<title>2</title>\n<path fill=\"#f0b68c\" stroke=\"black\" d=\"M91,-53C91,-53 12,-53 12,-53 6,-53 0,-47 0,-41 0,-41 0,-12 0,-12 0,-6 6,0 12,0 12,0 91,0 91,0 97,0 103,-6 103,-12 103,-12 103,-41 103,-41 103,-47 97,-53 91,-53\"/>\n<text text-anchor=\"start\" x=\"11\" y=\"-37.8\" font-family=\"Helvetica,sans-Serif\" font-size=\"14.00\">mse = 0.192</text>\n<text text-anchor=\"start\" x=\"8\" y=\"-22.8\" font-family=\"Helvetica,sans-Serif\" font-size=\"14.00\">samples = 11</text>\n<text text-anchor=\"start\" x=\"8.5\" y=\"-7.8\" font-family=\"Helvetica,sans-Serif\" font-size=\"14.00\">value = 0.052</text>\n</g>\n<!-- 1&#45;&gt;2 -->\n<g id=\"edge2\" class=\"edge\">\n<title>1&#45;&gt;2</title>\n<path fill=\"none\" stroke=\"black\" d=\"M131.87,-88.94C119.37,-79.38 105.59,-68.85 93.03,-59.25\"/>\n<polygon fill=\"black\" stroke=\"black\" points=\"95.05,-56.38 84.98,-53.09 90.79,-61.94 95.05,-56.38\"/>\n</g>\n<!-- 3 -->\n<g id=\"node4\" class=\"node\">\n<title>3</title>\n<path fill=\"#e58139\" stroke=\"black\" d=\"M212,-53C212,-53 133,-53 133,-53 127,-53 121,-47 121,-41 121,-41 121,-12 121,-12 121,-6 127,0 133,0 133,0 212,0 212,0 218,0 224,-6 224,-12 224,-12 224,-41 224,-41 224,-47 218,-53 212,-53\"/>\n<text text-anchor=\"start\" x=\"132\" y=\"-37.8\" font-family=\"Helvetica,sans-Serif\" font-size=\"14.00\">mse = 0.148</text>\n<text text-anchor=\"start\" x=\"129\" y=\"-22.8\" font-family=\"Helvetica,sans-Serif\" font-size=\"14.00\">samples = 40</text>\n<text text-anchor=\"start\" x=\"129.5\" y=\"-7.8\" font-family=\"Helvetica,sans-Serif\" font-size=\"14.00\">value = 0.714</text>\n</g>\n<!-- 1&#45;&gt;3 -->\n<g id=\"edge3\" class=\"edge\">\n<title>1&#45;&gt;3</title>\n<path fill=\"none\" stroke=\"black\" d=\"M172.5,-88.94C172.5,-80.66 172.5,-71.64 172.5,-63.13\"/>\n<polygon fill=\"black\" stroke=\"black\" points=\"176,-63.09 172.5,-53.09 169,-63.09 176,-63.09\"/>\n</g>\n<!-- 5 -->\n<g id=\"node6\" class=\"node\">\n<title>5</title>\n<path fill=\"#f8decb\" stroke=\"black\" d=\"M337,-53C337,-53 254,-53 254,-53 248,-53 242,-47 242,-41 242,-41 242,-12 242,-12 242,-6 248,0 254,0 254,0 337,0 337,0 343,0 349,-6 349,-12 349,-12 349,-41 349,-41 349,-47 343,-53 337,-53\"/>\n<text text-anchor=\"start\" x=\"255\" y=\"-37.8\" font-family=\"Helvetica,sans-Serif\" font-size=\"14.00\">mse = 0.124</text>\n<text text-anchor=\"start\" x=\"252\" y=\"-22.8\" font-family=\"Helvetica,sans-Serif\" font-size=\"14.00\">samples = 14</text>\n<text text-anchor=\"start\" x=\"250\" y=\"-7.8\" font-family=\"Helvetica,sans-Serif\" font-size=\"14.00\">value = &#45;0.452</text>\n</g>\n<!-- 4&#45;&gt;5 -->\n<g id=\"edge5\" class=\"edge\">\n<title>4&#45;&gt;5</title>\n<path fill=\"none\" stroke=\"black\" d=\"M295.5,-88.94C295.5,-80.66 295.5,-71.64 295.5,-63.13\"/>\n<polygon fill=\"black\" stroke=\"black\" points=\"299,-63.09 295.5,-53.09 292,-63.09 299,-63.09\"/>\n</g>\n<!-- 6 -->\n<g id=\"node7\" class=\"node\">\n<title>6</title>\n<path fill=\"#ffffff\" stroke=\"black\" d=\"M462,-53C462,-53 379,-53 379,-53 373,-53 367,-47 367,-41 367,-41 367,-12 367,-12 367,-6 373,0 379,0 379,0 462,0 462,0 468,0 474,-6 474,-12 474,-12 474,-41 474,-41 474,-47 468,-53 462,-53\"/>\n<text text-anchor=\"start\" x=\"380\" y=\"-37.8\" font-family=\"Helvetica,sans-Serif\" font-size=\"14.00\">mse = 0.041</text>\n<text text-anchor=\"start\" x=\"377\" y=\"-22.8\" font-family=\"Helvetica,sans-Serif\" font-size=\"14.00\">samples = 15</text>\n<text text-anchor=\"start\" x=\"375\" y=\"-7.8\" font-family=\"Helvetica,sans-Serif\" font-size=\"14.00\">value = &#45;0.869</text>\n</g>\n<!-- 4&#45;&gt;6 -->\n<g id=\"edge6\" class=\"edge\">\n<title>4&#45;&gt;6</title>\n<path fill=\"none\" stroke=\"black\" d=\"M337.47,-88.94C350.39,-79.38 364.62,-68.85 377.6,-59.25\"/>\n<polygon fill=\"black\" stroke=\"black\" points=\"379.96,-61.85 385.92,-53.09 375.8,-56.23 379.96,-61.85\"/>\n</g>\n</g>\n</svg>\n",
      "text/plain": [
       "<graphviz.sources.Source at 0x197fe327b80>"
      ]
     },
     "execution_count": 55,
     "metadata": {},
     "output_type": "execute_result"
    }
   ],
   "source": [
    "graph5 = graphviz.Source(dot_data5)\n",
    "graph5"
   ]
  }
 ],
 "metadata": {
  "interpreter": {
   "hash": "b3ba2566441a7c06988d0923437866b63cedc61552a5af99d1f4fb67d367b25f"
  },
  "kernelspec": {
   "display_name": "Python 3.9.7 64-bit ('base': conda)",
   "language": "python",
   "name": "python3"
  },
  "language_info": {
   "codemirror_mode": {
    "name": "ipython",
    "version": 3
   },
   "file_extension": ".py",
   "mimetype": "text/x-python",
   "name": "python",
   "nbconvert_exporter": "python",
   "pygments_lexer": "ipython3",
   "version": "3.9.7"
  },
  "orig_nbformat": 4
 },
 "nbformat": 4,
 "nbformat_minor": 2
}
