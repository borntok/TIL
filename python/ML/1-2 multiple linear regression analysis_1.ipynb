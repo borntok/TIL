{
 "cells": [
  {
   "cell_type": "code",
   "execution_count": 1,
   "id": "c6b51303",
   "metadata": {},
   "outputs": [],
   "source": [
    "import os\n",
    "import pandas as pd\n",
    "import numpy as np\n",
    "import statsmodels.api as sm"
   ]
  },
  {
   "cell_type": "code",
   "execution_count": 2,
   "id": "34b25f3e",
   "metadata": {},
   "outputs": [],
   "source": [
    "boston = pd.read_csv('./data/Boston_house.csv')"
   ]
  },
  {
   "cell_type": "code",
   "execution_count": 3,
   "id": "f80a02c3",
   "metadata": {},
   "outputs": [
    {
     "data": {
      "text/html": [
       "<div>\n",
       "<style scoped>\n",
       "    .dataframe tbody tr th:only-of-type {\n",
       "        vertical-align: middle;\n",
       "    }\n",
       "\n",
       "    .dataframe tbody tr th {\n",
       "        vertical-align: top;\n",
       "    }\n",
       "\n",
       "    .dataframe thead th {\n",
       "        text-align: right;\n",
       "    }\n",
       "</style>\n",
       "<table border=\"1\" class=\"dataframe\">\n",
       "  <thead>\n",
       "    <tr style=\"text-align: right;\">\n",
       "      <th></th>\n",
       "      <th>AGE</th>\n",
       "      <th>B</th>\n",
       "      <th>RM</th>\n",
       "      <th>CRIM</th>\n",
       "      <th>DIS</th>\n",
       "      <th>INDUS</th>\n",
       "      <th>LSTAT</th>\n",
       "      <th>NOX</th>\n",
       "      <th>PTRATIO</th>\n",
       "      <th>RAD</th>\n",
       "      <th>ZN</th>\n",
       "      <th>TAX</th>\n",
       "      <th>CHAS</th>\n",
       "      <th>Target</th>\n",
       "    </tr>\n",
       "  </thead>\n",
       "  <tbody>\n",
       "    <tr>\n",
       "      <th>0</th>\n",
       "      <td>65.2</td>\n",
       "      <td>396.90</td>\n",
       "      <td>6.575</td>\n",
       "      <td>0.00632</td>\n",
       "      <td>4.0900</td>\n",
       "      <td>2.31</td>\n",
       "      <td>4.98</td>\n",
       "      <td>0.538</td>\n",
       "      <td>15.3</td>\n",
       "      <td>1</td>\n",
       "      <td>18.0</td>\n",
       "      <td>296</td>\n",
       "      <td>0</td>\n",
       "      <td>24.0</td>\n",
       "    </tr>\n",
       "    <tr>\n",
       "      <th>1</th>\n",
       "      <td>78.9</td>\n",
       "      <td>396.90</td>\n",
       "      <td>6.421</td>\n",
       "      <td>0.02731</td>\n",
       "      <td>4.9671</td>\n",
       "      <td>7.07</td>\n",
       "      <td>9.14</td>\n",
       "      <td>0.469</td>\n",
       "      <td>17.8</td>\n",
       "      <td>2</td>\n",
       "      <td>0.0</td>\n",
       "      <td>242</td>\n",
       "      <td>0</td>\n",
       "      <td>21.6</td>\n",
       "    </tr>\n",
       "    <tr>\n",
       "      <th>2</th>\n",
       "      <td>61.1</td>\n",
       "      <td>392.83</td>\n",
       "      <td>7.185</td>\n",
       "      <td>0.02729</td>\n",
       "      <td>4.9671</td>\n",
       "      <td>7.07</td>\n",
       "      <td>4.03</td>\n",
       "      <td>0.469</td>\n",
       "      <td>17.8</td>\n",
       "      <td>2</td>\n",
       "      <td>0.0</td>\n",
       "      <td>242</td>\n",
       "      <td>0</td>\n",
       "      <td>34.7</td>\n",
       "    </tr>\n",
       "    <tr>\n",
       "      <th>3</th>\n",
       "      <td>45.8</td>\n",
       "      <td>394.63</td>\n",
       "      <td>6.998</td>\n",
       "      <td>0.03237</td>\n",
       "      <td>6.0622</td>\n",
       "      <td>2.18</td>\n",
       "      <td>2.94</td>\n",
       "      <td>0.458</td>\n",
       "      <td>18.7</td>\n",
       "      <td>3</td>\n",
       "      <td>0.0</td>\n",
       "      <td>222</td>\n",
       "      <td>0</td>\n",
       "      <td>33.4</td>\n",
       "    </tr>\n",
       "    <tr>\n",
       "      <th>4</th>\n",
       "      <td>54.2</td>\n",
       "      <td>396.90</td>\n",
       "      <td>7.147</td>\n",
       "      <td>0.06905</td>\n",
       "      <td>6.0622</td>\n",
       "      <td>2.18</td>\n",
       "      <td>5.33</td>\n",
       "      <td>0.458</td>\n",
       "      <td>18.7</td>\n",
       "      <td>3</td>\n",
       "      <td>0.0</td>\n",
       "      <td>222</td>\n",
       "      <td>0</td>\n",
       "      <td>36.2</td>\n",
       "    </tr>\n",
       "  </tbody>\n",
       "</table>\n",
       "</div>"
      ],
      "text/plain": [
       "    AGE       B     RM     CRIM     DIS  INDUS  LSTAT    NOX  PTRATIO  RAD  \\\n",
       "0  65.2  396.90  6.575  0.00632  4.0900   2.31   4.98  0.538     15.3    1   \n",
       "1  78.9  396.90  6.421  0.02731  4.9671   7.07   9.14  0.469     17.8    2   \n",
       "2  61.1  392.83  7.185  0.02729  4.9671   7.07   4.03  0.469     17.8    2   \n",
       "3  45.8  394.63  6.998  0.03237  6.0622   2.18   2.94  0.458     18.7    3   \n",
       "4  54.2  396.90  7.147  0.06905  6.0622   2.18   5.33  0.458     18.7    3   \n",
       "\n",
       "     ZN  TAX  CHAS  Target  \n",
       "0  18.0  296     0    24.0  \n",
       "1   0.0  242     0    21.6  \n",
       "2   0.0  242     0    34.7  \n",
       "3   0.0  222     0    33.4  \n",
       "4   0.0  222     0    36.2  "
      ]
     },
     "execution_count": 3,
     "metadata": {},
     "output_type": "execute_result"
    }
   ],
   "source": [
    "boston.head()"
   ]
  },
  {
   "cell_type": "code",
   "execution_count": 4,
   "id": "a1fce7b8",
   "metadata": {},
   "outputs": [],
   "source": [
    "boston_data = boston.drop(['Target'], axis=1)"
   ]
  },
  {
   "cell_type": "code",
   "execution_count": 5,
   "id": "953d8db3",
   "metadata": {},
   "outputs": [
    {
     "data": {
      "text/html": [
       "<div>\n",
       "<style scoped>\n",
       "    .dataframe tbody tr th:only-of-type {\n",
       "        vertical-align: middle;\n",
       "    }\n",
       "\n",
       "    .dataframe tbody tr th {\n",
       "        vertical-align: top;\n",
       "    }\n",
       "\n",
       "    .dataframe thead th {\n",
       "        text-align: right;\n",
       "    }\n",
       "</style>\n",
       "<table border=\"1\" class=\"dataframe\">\n",
       "  <thead>\n",
       "    <tr style=\"text-align: right;\">\n",
       "      <th></th>\n",
       "      <th>AGE</th>\n",
       "      <th>B</th>\n",
       "      <th>RM</th>\n",
       "      <th>CRIM</th>\n",
       "      <th>DIS</th>\n",
       "      <th>INDUS</th>\n",
       "      <th>LSTAT</th>\n",
       "      <th>NOX</th>\n",
       "      <th>PTRATIO</th>\n",
       "      <th>RAD</th>\n",
       "      <th>ZN</th>\n",
       "      <th>TAX</th>\n",
       "      <th>CHAS</th>\n",
       "    </tr>\n",
       "  </thead>\n",
       "  <tbody>\n",
       "    <tr>\n",
       "      <th>count</th>\n",
       "      <td>506.000000</td>\n",
       "      <td>506.000000</td>\n",
       "      <td>506.000000</td>\n",
       "      <td>506.000000</td>\n",
       "      <td>506.000000</td>\n",
       "      <td>506.000000</td>\n",
       "      <td>506.000000</td>\n",
       "      <td>506.000000</td>\n",
       "      <td>506.000000</td>\n",
       "      <td>506.000000</td>\n",
       "      <td>506.000000</td>\n",
       "      <td>506.000000</td>\n",
       "      <td>506.000000</td>\n",
       "    </tr>\n",
       "    <tr>\n",
       "      <th>mean</th>\n",
       "      <td>68.574901</td>\n",
       "      <td>356.674032</td>\n",
       "      <td>6.284634</td>\n",
       "      <td>3.613524</td>\n",
       "      <td>3.795043</td>\n",
       "      <td>11.136779</td>\n",
       "      <td>12.653063</td>\n",
       "      <td>0.554695</td>\n",
       "      <td>18.455534</td>\n",
       "      <td>9.549407</td>\n",
       "      <td>11.363636</td>\n",
       "      <td>408.237154</td>\n",
       "      <td>0.069170</td>\n",
       "    </tr>\n",
       "    <tr>\n",
       "      <th>std</th>\n",
       "      <td>28.148861</td>\n",
       "      <td>91.294864</td>\n",
       "      <td>0.702617</td>\n",
       "      <td>8.601545</td>\n",
       "      <td>2.105710</td>\n",
       "      <td>6.860353</td>\n",
       "      <td>7.141062</td>\n",
       "      <td>0.115878</td>\n",
       "      <td>2.164946</td>\n",
       "      <td>8.707259</td>\n",
       "      <td>23.322453</td>\n",
       "      <td>168.537116</td>\n",
       "      <td>0.253994</td>\n",
       "    </tr>\n",
       "    <tr>\n",
       "      <th>min</th>\n",
       "      <td>2.900000</td>\n",
       "      <td>0.320000</td>\n",
       "      <td>3.561000</td>\n",
       "      <td>0.006320</td>\n",
       "      <td>1.129600</td>\n",
       "      <td>0.460000</td>\n",
       "      <td>1.730000</td>\n",
       "      <td>0.385000</td>\n",
       "      <td>12.600000</td>\n",
       "      <td>1.000000</td>\n",
       "      <td>0.000000</td>\n",
       "      <td>187.000000</td>\n",
       "      <td>0.000000</td>\n",
       "    </tr>\n",
       "    <tr>\n",
       "      <th>25%</th>\n",
       "      <td>45.025000</td>\n",
       "      <td>375.377500</td>\n",
       "      <td>5.885500</td>\n",
       "      <td>0.082045</td>\n",
       "      <td>2.100175</td>\n",
       "      <td>5.190000</td>\n",
       "      <td>6.950000</td>\n",
       "      <td>0.449000</td>\n",
       "      <td>17.400000</td>\n",
       "      <td>4.000000</td>\n",
       "      <td>0.000000</td>\n",
       "      <td>279.000000</td>\n",
       "      <td>0.000000</td>\n",
       "    </tr>\n",
       "    <tr>\n",
       "      <th>50%</th>\n",
       "      <td>77.500000</td>\n",
       "      <td>391.440000</td>\n",
       "      <td>6.208500</td>\n",
       "      <td>0.256510</td>\n",
       "      <td>3.207450</td>\n",
       "      <td>9.690000</td>\n",
       "      <td>11.360000</td>\n",
       "      <td>0.538000</td>\n",
       "      <td>19.050000</td>\n",
       "      <td>5.000000</td>\n",
       "      <td>0.000000</td>\n",
       "      <td>330.000000</td>\n",
       "      <td>0.000000</td>\n",
       "    </tr>\n",
       "    <tr>\n",
       "      <th>75%</th>\n",
       "      <td>94.075000</td>\n",
       "      <td>396.225000</td>\n",
       "      <td>6.623500</td>\n",
       "      <td>3.677083</td>\n",
       "      <td>5.188425</td>\n",
       "      <td>18.100000</td>\n",
       "      <td>16.955000</td>\n",
       "      <td>0.624000</td>\n",
       "      <td>20.200000</td>\n",
       "      <td>24.000000</td>\n",
       "      <td>12.500000</td>\n",
       "      <td>666.000000</td>\n",
       "      <td>0.000000</td>\n",
       "    </tr>\n",
       "    <tr>\n",
       "      <th>max</th>\n",
       "      <td>100.000000</td>\n",
       "      <td>396.900000</td>\n",
       "      <td>8.780000</td>\n",
       "      <td>88.976200</td>\n",
       "      <td>12.126500</td>\n",
       "      <td>27.740000</td>\n",
       "      <td>37.970000</td>\n",
       "      <td>0.871000</td>\n",
       "      <td>22.000000</td>\n",
       "      <td>24.000000</td>\n",
       "      <td>100.000000</td>\n",
       "      <td>711.000000</td>\n",
       "      <td>1.000000</td>\n",
       "    </tr>\n",
       "  </tbody>\n",
       "</table>\n",
       "</div>"
      ],
      "text/plain": [
       "              AGE           B          RM        CRIM         DIS       INDUS  \\\n",
       "count  506.000000  506.000000  506.000000  506.000000  506.000000  506.000000   \n",
       "mean    68.574901  356.674032    6.284634    3.613524    3.795043   11.136779   \n",
       "std     28.148861   91.294864    0.702617    8.601545    2.105710    6.860353   \n",
       "min      2.900000    0.320000    3.561000    0.006320    1.129600    0.460000   \n",
       "25%     45.025000  375.377500    5.885500    0.082045    2.100175    5.190000   \n",
       "50%     77.500000  391.440000    6.208500    0.256510    3.207450    9.690000   \n",
       "75%     94.075000  396.225000    6.623500    3.677083    5.188425   18.100000   \n",
       "max    100.000000  396.900000    8.780000   88.976200   12.126500   27.740000   \n",
       "\n",
       "            LSTAT         NOX     PTRATIO         RAD          ZN         TAX  \\\n",
       "count  506.000000  506.000000  506.000000  506.000000  506.000000  506.000000   \n",
       "mean    12.653063    0.554695   18.455534    9.549407   11.363636  408.237154   \n",
       "std      7.141062    0.115878    2.164946    8.707259   23.322453  168.537116   \n",
       "min      1.730000    0.385000   12.600000    1.000000    0.000000  187.000000   \n",
       "25%      6.950000    0.449000   17.400000    4.000000    0.000000  279.000000   \n",
       "50%     11.360000    0.538000   19.050000    5.000000    0.000000  330.000000   \n",
       "75%     16.955000    0.624000   20.200000   24.000000   12.500000  666.000000   \n",
       "max     37.970000    0.871000   22.000000   24.000000  100.000000  711.000000   \n",
       "\n",
       "             CHAS  \n",
       "count  506.000000  \n",
       "mean     0.069170  \n",
       "std      0.253994  \n",
       "min      0.000000  \n",
       "25%      0.000000  \n",
       "50%      0.000000  \n",
       "75%      0.000000  \n",
       "max      1.000000  "
      ]
     },
     "execution_count": 5,
     "metadata": {},
     "output_type": "execute_result"
    }
   ],
   "source": [
    "boston_data.describe()"
   ]
  },
  {
   "cell_type": "markdown",
   "id": "16a44059",
   "metadata": {},
   "source": [
    "1978 보스턴 주택 가격\n",
    "\n",
    "506개 타운의 주택 가격 중앙값(단위: $1,000)\n",
    "- CRIM: 범죄율\n",
    "- INDUS: 비소매상업지역 면적 비율\n",
    "- NOX: 일산화질소 농도\n",
    "- RM: 주택당 방 수 \n",
    "- LSTAT: 인구 중 하위 계층 비율\n",
    "- B: 인구 중 흑인 비율\n",
    "- PTRATIO: 학생/교사 비율\n",
    "- ZN: 25,000 평방 피트를 초과한 거주지역 비율\n",
    "- CHAS: 찰스강 경계에 위치한 경우 1, 아니면 0\n",
    "- AGE: 1940년 이전에 건축된 주택의 비율\n",
    "- RAD: 방사형 고속도로까지의 거리\n",
    "- DIS: 직업센터의 거리\n",
    "- TAX: 재산세율"
   ]
  },
  {
   "cell_type": "code",
   "execution_count": 6,
   "id": "355595f5",
   "metadata": {},
   "outputs": [],
   "source": [
    "target = boston[['Target']]\n",
    "crim = boston[['CRIM']]\n",
    "rm = boston[['RM']]\n",
    "lstat = boston[['LSTAT']]"
   ]
  },
  {
   "cell_type": "markdown",
   "id": "0edc44f8",
   "metadata": {},
   "source": [
    "## 다중선형회귀분석"
   ]
  },
  {
   "cell_type": "markdown",
   "id": "09327485",
   "metadata": {},
   "source": [
    "### crim, rm, lstat 세 개의 변수를 통해 다중회귀적합"
   ]
  },
  {
   "cell_type": "code",
   "execution_count": 9,
   "id": "0a8e4331",
   "metadata": {},
   "outputs": [],
   "source": [
    "import warnings\n",
    "warnings.filterwarnings(action='ignore')"
   ]
  },
  {
   "cell_type": "code",
   "execution_count": 7,
   "id": "ea4cb769",
   "metadata": {},
   "outputs": [
    {
     "data": {
      "text/html": [
       "<div>\n",
       "<style scoped>\n",
       "    .dataframe tbody tr th:only-of-type {\n",
       "        vertical-align: middle;\n",
       "    }\n",
       "\n",
       "    .dataframe tbody tr th {\n",
       "        vertical-align: top;\n",
       "    }\n",
       "\n",
       "    .dataframe thead th {\n",
       "        text-align: right;\n",
       "    }\n",
       "</style>\n",
       "<table border=\"1\" class=\"dataframe\">\n",
       "  <thead>\n",
       "    <tr style=\"text-align: right;\">\n",
       "      <th></th>\n",
       "      <th>CRIM</th>\n",
       "      <th>RM</th>\n",
       "      <th>LSTAT</th>\n",
       "    </tr>\n",
       "  </thead>\n",
       "  <tbody>\n",
       "    <tr>\n",
       "      <th>0</th>\n",
       "      <td>0.00632</td>\n",
       "      <td>6.575</td>\n",
       "      <td>4.98</td>\n",
       "    </tr>\n",
       "    <tr>\n",
       "      <th>1</th>\n",
       "      <td>0.02731</td>\n",
       "      <td>6.421</td>\n",
       "      <td>9.14</td>\n",
       "    </tr>\n",
       "    <tr>\n",
       "      <th>2</th>\n",
       "      <td>0.02729</td>\n",
       "      <td>7.185</td>\n",
       "      <td>4.03</td>\n",
       "    </tr>\n",
       "    <tr>\n",
       "      <th>3</th>\n",
       "      <td>0.03237</td>\n",
       "      <td>6.998</td>\n",
       "      <td>2.94</td>\n",
       "    </tr>\n",
       "    <tr>\n",
       "      <th>4</th>\n",
       "      <td>0.06905</td>\n",
       "      <td>7.147</td>\n",
       "      <td>5.33</td>\n",
       "    </tr>\n",
       "  </tbody>\n",
       "</table>\n",
       "</div>"
      ],
      "text/plain": [
       "      CRIM     RM  LSTAT\n",
       "0  0.00632  6.575   4.98\n",
       "1  0.02731  6.421   9.14\n",
       "2  0.02729  7.185   4.03\n",
       "3  0.03237  6.998   2.94\n",
       "4  0.06905  7.147   5.33"
      ]
     },
     "execution_count": 7,
     "metadata": {},
     "output_type": "execute_result"
    }
   ],
   "source": [
    "x_data = boston[['CRIM', 'RM', 'LSTAT']]\n",
    "x_data.head()"
   ]
  },
  {
   "cell_type": "code",
   "execution_count": 10,
   "id": "54e4ac4e",
   "metadata": {},
   "outputs": [],
   "source": [
    "x_data1 = sm.add_constant(x_data, has_constant=\"add\")"
   ]
  },
  {
   "cell_type": "code",
   "execution_count": 11,
   "id": "cd089d0a",
   "metadata": {},
   "outputs": [],
   "source": [
    "multi_model = sm.OLS(target, x_data1)\n",
    "fitted_multi_model = multi_model.fit()"
   ]
  },
  {
   "cell_type": "code",
   "execution_count": 12,
   "id": "619573d4",
   "metadata": {
    "scrolled": true
   },
   "outputs": [
    {
     "name": "stdout",
     "output_type": "stream",
     "text": [
      "                            OLS Regression Results                            \n",
      "==============================================================================\n",
      "Dep. Variable:                 Target   R-squared:                       0.646\n",
      "Model:                            OLS   Adj. R-squared:                  0.644\n",
      "Method:                 Least Squares   F-statistic:                     305.2\n",
      "Date:                Mon, 10 Jan 2022   Prob (F-statistic):          1.01e-112\n",
      "Time:                        19:11:03   Log-Likelihood:                -1577.6\n",
      "No. Observations:                 506   AIC:                             3163.\n",
      "Df Residuals:                     502   BIC:                             3180.\n",
      "Df Model:                           3                                         \n",
      "Covariance Type:            nonrobust                                         \n",
      "==============================================================================\n",
      "                 coef    std err          t      P>|t|      [0.025      0.975]\n",
      "------------------------------------------------------------------------------\n",
      "const         -2.5623      3.166     -0.809      0.419      -8.783       3.658\n",
      "CRIM          -0.1029      0.032     -3.215      0.001      -0.166      -0.040\n",
      "RM             5.2170      0.442     11.802      0.000       4.348       6.085\n",
      "LSTAT         -0.5785      0.048    -12.135      0.000      -0.672      -0.485\n",
      "==============================================================================\n",
      "Omnibus:                      171.754   Durbin-Watson:                   0.822\n",
      "Prob(Omnibus):                  0.000   Jarque-Bera (JB):              628.308\n",
      "Skew:                           1.535   Prob(JB):                    3.67e-137\n",
      "Kurtosis:                       7.514   Cond. No.                         216.\n",
      "==============================================================================\n",
      "\n",
      "Notes:\n",
      "[1] Standard Errors assume that the covariance matrix of the errors is correctly specified.\n"
     ]
    }
   ],
   "source": [
    "print(fitted_multi_model.summary())"
   ]
  },
  {
   "cell_type": "markdown",
   "id": "f02761b3",
   "metadata": {},
   "source": [
    "### 단순선형회귀모델의 회귀계수와 비교"
   ]
  },
  {
   "cell_type": "code",
   "execution_count": 13,
   "id": "79ea8347",
   "metadata": {},
   "outputs": [],
   "source": [
    "crim1 = sm.add_constant(crim, has_constant='add')\n",
    "rm1 = sm.add_constant(rm, has_constant='add')\n",
    "lstat1 = sm.add_constant(lstat, has_constant='add')\n",
    "\n",
    "model1 = sm.OLS(target, crim1)\n",
    "fitted_model1 = model1.fit()\n",
    "\n",
    "model2 = sm.OLS(target, rm1)\n",
    "fitted_model2 = model2.fit()\n",
    "\n",
    "model3 = sm.OLS(target, lstat1)\n",
    "fitted_model3 = model3.fit()"
   ]
  },
  {
   "cell_type": "code",
   "execution_count": 14,
   "id": "ad0a2e04",
   "metadata": {},
   "outputs": [
    {
     "name": "stdout",
     "output_type": "stream",
     "text": [
      "const    24.033106\n",
      "CRIM     -0.415190\n",
      "dtype: float64\n",
      "const   -34.670621\n",
      "RM        9.102109\n",
      "dtype: float64\n",
      "const    34.553841\n",
      "LSTAT    -0.950049\n",
      "dtype: float64\n"
     ]
    }
   ],
   "source": [
    "# 단순선형회귀모델\n",
    "\n",
    "print(fitted_model1.params)\n",
    "print(fitted_model2.params)\n",
    "print(fitted_model3.params)"
   ]
  },
  {
   "cell_type": "code",
   "execution_count": 15,
   "id": "69e82df4",
   "metadata": {},
   "outputs": [
    {
     "name": "stdout",
     "output_type": "stream",
     "text": [
      "const   -2.562251\n",
      "CRIM    -0.102941\n",
      "RM       5.216955\n",
      "LSTAT   -0.578486\n",
      "dtype: float64\n"
     ]
    }
   ],
   "source": [
    "# 다중선형회귀모델\n",
    "\n",
    "print(fitted_multi_model.params)"
   ]
  },
  {
   "cell_type": "markdown",
   "id": "74de92d9",
   "metadata": {},
   "source": [
    "### 행렬 연산을 통해 beta 구하기"
   ]
  },
  {
   "cell_type": "code",
   "execution_count": 16,
   "id": "3b6e9c36",
   "metadata": {},
   "outputs": [],
   "source": [
    "from numpy import linalg"
   ]
  },
  {
   "cell_type": "code",
   "execution_count": 20,
   "id": "087b038a",
   "metadata": {},
   "outputs": [
    {
     "data": {
      "text/plain": [
       "array([[-2.56225101],\n",
       "       [-0.10294089],\n",
       "       [ 5.21695492],\n",
       "       [-0.57848582]])"
      ]
     },
     "execution_count": 20,
     "metadata": {},
     "output_type": "execute_result"
    }
   ],
   "source": [
    "# ((X'X)^-1)X'y\n",
    "\n",
    "ba = linalg.inv(np.dot(x_data1.T, x_data1))\n",
    "np.dot(np.dot(ba, x_data1.T), target)"
   ]
  },
  {
   "cell_type": "code",
   "execution_count": 21,
   "id": "8c80f397",
   "metadata": {},
   "outputs": [],
   "source": [
    "# y_hat\n",
    "pred4 = fitted_multi_model.predict(x_data1)"
   ]
  },
  {
   "cell_type": "markdown",
   "id": "27b6c2ca",
   "metadata": {},
   "source": [
    "#### redisual plot"
   ]
  },
  {
   "cell_type": "code",
   "execution_count": 23,
   "id": "6c47e006",
   "metadata": {},
   "outputs": [],
   "source": [
    "import matplotlib.pyplot as plt"
   ]
  },
  {
   "cell_type": "code",
   "execution_count": 24,
   "id": "185e6fa6",
   "metadata": {},
   "outputs": [
    {
     "data": {
      "image/png": "[encoded data removed]",
      "text/plain": [
       "<Figure size 432x288 with 1 Axes>"
      ]
     },
     "metadata": {
      "needs_background": "light"
     },
     "output_type": "display_data"
    }
   ],
   "source": [
    "fitted_multi_model.resid.plot()\n",
    "plt.xlabel('residual_number')\n",
    "plt.show()"
   ]
  },
  {
   "cell_type": "code",
   "execution_count": 26,
   "id": "00d29e0b",
   "metadata": {},
   "outputs": [
    {
     "data": {
      "image/png": "[encoded data removed]",
      "text/plain": [
       "<Figure size 432x288 with 1 Axes>"
      ]
     },
     "metadata": {
      "needs_background": "light"
     },
     "output_type": "display_data"
    }
   ],
   "source": [
    "# 잔차 비교\n",
    "fitted_model1.resid.plot(label=\"crim\")\n",
    "fitted_model2.resid.plot(label=\"rm\")\n",
    "fitted_model3.resid.plot(label=\"lstat\")\n",
    "fitted_multi_model.resid.plot(label=\"full\")\n",
    "plt.legend()\n",
    "plt.show()"
   ]
  }
 ],
 "metadata": {
  "kernelspec": {
   "display_name": "Python 3 (ipykernel)",
   "language": "python",
   "name": "python3"
  },
  "language_info": {
   "codemirror_mode": {
    "name": "ipython",
    "version": 3
   },
   "file_extension": ".py",
   "mimetype": "text/x-python",
   "name": "python",
   "nbconvert_exporter": "python",
   "pygments_lexer": "ipython3",
   "version": "3.9.7"
  }
 },
 "nbformat": 4,
 "nbformat_minor": 5
}
