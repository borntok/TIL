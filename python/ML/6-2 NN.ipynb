{
  "nbformat": 4,
  "nbformat_minor": 0,
  "metadata": {
    "colab": {
      "name": "6-3 NN.ipynb",
      "provenance": []
    },
    "kernelspec": {
      "name": "python3",
      "display_name": "Python 3"
    },
    "language_info": {
      "name": "python"
    },
    "accelerator": "GPU"
  },
  "cells": [
    {
      "cell_type": "markdown",
      "source": [
        "# 뉴럴 네트워크 학습 알고리즘 구현"
      ],
      "metadata": {
        "id": "lLwzuHo2u2Nd"
      }
    },
    {
      "cell_type": "code",
      "execution_count": 1,
      "metadata": {
        "colab": {
          "base_uri": "https://localhost:8080/"
        },
        "id": "9eH1NsFcg88d",
        "outputId": "20585291-259c-46c7-cfcf-c729514288e0"
      },
      "outputs": [
        {
          "output_type": "stream",
          "name": "stdout",
          "text": [
            "Found GPU at: /device:GPU:0\n"
          ]
        }
      ],
      "source": [
        "%tensorflow_version 2.x\n",
        "import tensorflow as tf\n",
        "device_name = tf.test.gpu_device_name()\n",
        "if device_name != '/device:GPU:0':\n",
        "  raise SystemError('GPU device not found')\n",
        "print('Found GPU at: {}'.format(device_name))"
      ]
    },
    {
      "cell_type": "code",
      "execution_count": 2,
      "metadata": {
        "id": "6F7iPfWmunv7"
      },
      "outputs": [],
      "source": [
        "import tensorflow as tf"
      ]
    },
    {
      "cell_type": "markdown",
      "source": [
        "## 하이퍼파라미터 정의"
      ],
      "metadata": {
        "id": "iXLsNlIevRUt"
      }
    },
    {
      "cell_type": "code",
      "source": [
        "EPOCHS = 10"
      ],
      "metadata": {
        "id": "av9z2MGxvOW8"
      },
      "execution_count": 3,
      "outputs": []
    },
    {
      "cell_type": "markdown",
      "source": [
        "## 네트워크 구조 정의"
      ],
      "metadata": {
        "id": "LuwilS4BvTO6"
      }
    },
    {
      "cell_type": "code",
      "source": [
        "class MyModel(tf.keras.Model):\n",
        "  def __init__(self):\n",
        "      super().__init__()\n",
        "      self.flatten = tf.keras.layers.Flatten(input_shape=(28, 28))\n",
        "      self.dense1 = tf.keras.layers.Dense(32, activation='relu')\n",
        "      self.dense2 = tf.keras.layers.Dense(64, activation='relu')\n",
        "      self.dense3 = tf.keras.layers.Dense(128, activation='relu')\n",
        "      self.dense4 = tf.keras.layers.Dense(256, activation='relu')\n",
        "      self.dense5 = tf.keras.layers.Dense(10, activation='softmax')\n",
        "      \n",
        "  def call(self, x, training=None, mask=None):\n",
        "    x = self.flatten(x)\n",
        "    x = self.dense1(x)\n",
        "    x = self.dense2(x)\n",
        "    x = self.dense3(x)\n",
        "    x = self.dense4(x)\n",
        "    return self.dense5(x)"
      ],
      "metadata": {
        "id": "bfcYydXuvP9L"
      },
      "execution_count": 4,
      "outputs": []
    },
    {
      "cell_type": "markdown",
      "source": [
        "## 학습 함수 구현"
      ],
      "metadata": {
        "id": "hvkwYBP-vaaQ"
      }
    },
    {
      "cell_type": "code",
      "source": [
        "@tf.function\n",
        "def train_step(model, images, labels, loss_object, optimizer, train_loss, train_accuracy):\n",
        "  with tf.GradientTape() as tape: # gradient 계산\n",
        "    predictions = model(images) # batchsize * 10(Classes)\n",
        "    loss = loss_object(labels, predictions)\n",
        "  gradients = tape.gradient(loss, model.trainable_variables)\n",
        "  optimizer.apply_gradients(zip(gradients, model.trainable_variables))\n",
        "\n",
        "  train_loss(loss)\n",
        "  train_accuracy(labels, predictions)"
      ],
      "metadata": {
        "id": "57uCgsCmxROa"
      },
      "execution_count": 6,
      "outputs": []
    },
    {
      "cell_type": "markdown",
      "source": [
        "# 테스트 함수 구현"
      ],
      "metadata": {
        "id": "5H55ofGTzCD2"
      }
    },
    {
      "cell_type": "code",
      "source": [
        "@tf.function\n",
        "def test_step(model, images, labels, loss_object, test_loss, test_accuracy):\n",
        "  predictions = model(images)\n",
        "  loss = loss_object(labels, predictions)\n",
        "\n",
        "  test_loss(loss)\n",
        "  test_accuracy(labels, predictions)"
      ],
      "metadata": {
        "id": "KkFM0sx5y6Uh"
      },
      "execution_count": 7,
      "outputs": []
    },
    {
      "cell_type": "markdown",
      "source": [
        "## 데이터 불러오기"
      ],
      "metadata": {
        "id": "FzN1ELRkzlGT"
      }
    },
    {
      "cell_type": "code",
      "source": [
        "mnist = tf.keras.datasets.mnist\n",
        "\n",
        "(x_train, y_train), (x_test, y_test) = mnist.load_data()\n",
        "x_train, x_test = x_train/255.0, x_test/255.04\n",
        "\n",
        "train_ds = tf.data.Dataset.from_tensor_slices((x_train, y_train)).shuffle(1024).batch(32)\n",
        "test_ds = tf.data.Dataset.from_tensor_slices((x_test, y_test)).batch(32)"
      ],
      "metadata": {
        "colab": {
          "base_uri": "https://localhost:8080/"
        },
        "id": "5MvYH9Rkzjde",
        "outputId": "e816bad2-9dd8-4ae5-f556-7e4ec08017a9"
      },
      "execution_count": 8,
      "outputs": [
        {
          "output_type": "stream",
          "name": "stdout",
          "text": [
            "Downloading data from https://storage.googleapis.com/tensorflow/tf-keras-datasets/mnist.npz\n",
            "11493376/11490434 [==============================] - 0s 0us/step\n",
            "11501568/11490434 [==============================] - 0s 0us/step\n"
          ]
        }
      ]
    },
    {
      "cell_type": "markdown",
      "source": [
        "## 모델 생성"
      ],
      "metadata": {
        "id": "5vWS2PTu0qfq"
      }
    },
    {
      "cell_type": "code",
      "source": [
        "model = MyModel()"
      ],
      "metadata": {
        "id": "rXL0L2PA0ohw"
      },
      "execution_count": 9,
      "outputs": []
    },
    {
      "cell_type": "markdown",
      "source": [
        "## 손실함수 및 최적화 알고리즘 정의"
      ],
      "metadata": {
        "id": "LhpuK0650utU"
      }
    },
    {
      "cell_type": "code",
      "source": [
        "print(y_train)\n",
        "print(y_train.shape)"
      ],
      "metadata": {
        "colab": {
          "base_uri": "https://localhost:8080/"
        },
        "id": "n47Ys5m10uWK",
        "outputId": "1211d7a0-53e4-4054-eac0-1121852bae3f"
      },
      "execution_count": 11,
      "outputs": [
        {
          "output_type": "stream",
          "name": "stdout",
          "text": [
            "[5 0 4 ... 5 6 8]\n",
            "(60000,)\n"
          ]
        }
      ]
    },
    {
      "cell_type": "code",
      "source": [
        "loss_object = tf.keras.losses.SparseCategoricalCrossentropy()\n",
        "optimizer = tf.keras.optimizers.Adam()"
      ],
      "metadata": {
        "id": "5j4ZBQqs0yTD"
      },
      "execution_count": 12,
      "outputs": []
    },
    {
      "cell_type": "markdown",
      "source": [
        "## 성능 지표 정의"
      ],
      "metadata": {
        "id": "YzK0TdN61Mkh"
      }
    },
    {
      "cell_type": "code",
      "source": [
        "train_loss = tf.keras.metrics.Mean(name='train_loss')\n",
        "train_accuracy = tf.keras.metrics.SparseCategoricalAccuracy(name='train_accuracy')\n",
        "\n",
        "test_loss = tf.keras.metrics.Mean(name='test_loss')\n",
        "test_accuracy = tf.keras.metrics.SparseCategoricalAccuracy(name='test_accuracy')"
      ],
      "metadata": {
        "id": "uhW9nxMi1Lhi"
      },
      "execution_count": 13,
      "outputs": []
    },
    {
      "cell_type": "markdown",
      "source": [
        "## 학습 루프 구현"
      ],
      "metadata": {
        "id": "NGpdE3wr1tYv"
      }
    },
    {
      "cell_type": "code",
      "source": [
        "for epoch in range(EPOCHS):\n",
        "  for images, labels in train_ds:\n",
        "    train_step(model, images, labels, loss_object, optimizer, train_loss, train_accuracy)\n",
        "\n",
        "  for images, labels in test_ds:\n",
        "    test_step(model, images, labels, loss_object, test_loss, test_accuracy)\n",
        "\n",
        "  template = f'Epoch {epoch+1}, Loss: {train_loss.result()}, Accuracy: {train_accuracy.result()*100}, Test loss: {test_loss.result()}, Test Accuracy: {test_accuracy.result()*100}'\n",
        "  print(template)\n",
        "\n",
        "  train_loss.reset_state()\n",
        "  train_accuracy.reset_state()\n",
        "  test_loss.reset_state()\n",
        "  test_accuracy.reset_state()"
      ],
      "metadata": {
        "colab": {
          "base_uri": "https://localhost:8080/"
        },
        "id": "hc87-B441sfs",
        "outputId": "3fbf27a1-8fa6-4922-b428-58eb8b637e81"
      },
      "execution_count": 16,
      "outputs": [
        {
          "output_type": "stream",
          "name": "stdout",
          "text": [
            "Epoch 1, Loss: 0.21669098734855652, Accuracy: 93.42583465576172, Test loss: 0.16863949596881866, Test Accuracy: 95.23500061035156\n",
            "Epoch 2, Loss: 0.11479869484901428, Accuracy: 96.51166534423828, Test loss: 0.16404791176319122, Test Accuracy: 95.4800033569336\n",
            "Epoch 3, Loss: 0.09563740342855453, Accuracy: 97.0, Test loss: 0.1352071315050125, Test Accuracy: 96.10000610351562\n",
            "Epoch 4, Loss: 0.08114465326070786, Accuracy: 97.40999603271484, Test loss: 0.14508280158042908, Test Accuracy: 95.95000457763672\n",
            "Epoch 5, Loss: 0.06860923022031784, Accuracy: 97.79999542236328, Test loss: 0.1463647186756134, Test Accuracy: 96.19000244140625\n",
            "Epoch 6, Loss: 0.06190233677625656, Accuracy: 98.01667022705078, Test loss: 0.12597252428531647, Test Accuracy: 96.77000427246094\n",
            "Epoch 7, Loss: 0.05496089905500412, Accuracy: 98.26333618164062, Test loss: 0.13177867233753204, Test Accuracy: 96.86000061035156\n",
            "Epoch 8, Loss: 0.05491945520043373, Accuracy: 98.22833251953125, Test loss: 0.1504707634449005, Test Accuracy: 96.24000549316406\n",
            "Epoch 9, Loss: 0.04792173206806183, Accuracy: 98.47666931152344, Test loss: 0.141997292637825, Test Accuracy: 96.62000274658203\n",
            "Epoch 10, Loss: 0.04414164274930954, Accuracy: 98.54999542236328, Test loss: 0.1165875717997551, Test Accuracy: 97.04000091552734\n"
          ]
        }
      ]
    }
  ]
}