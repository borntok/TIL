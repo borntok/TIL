{
 "cells": [
  {
   "cell_type": "code",
   "execution_count": 1,
   "id": "e244dcc9",
   "metadata": {},
   "outputs": [],
   "source": [
    "import os\n",
    "import pandas as pd\n",
    "import numpy as np\n",
    "from sklearn.model_selection import train_test_split"
   ]
  },
  {
   "cell_type": "code",
   "execution_count": 3,
   "id": "d28499ac",
   "metadata": {},
   "outputs": [
    {
     "data": {
      "text/html": [
       "<div>\n",
       "<style scoped>\n",
       "    .dataframe tbody tr th:only-of-type {\n",
       "        vertical-align: middle;\n",
       "    }\n",
       "\n",
       "    .dataframe tbody tr th {\n",
       "        vertical-align: top;\n",
       "    }\n",
       "\n",
       "    .dataframe thead th {\n",
       "        text-align: right;\n",
       "    }\n",
       "</style>\n",
       "<table border=\"1\" class=\"dataframe\">\n",
       "  <thead>\n",
       "    <tr style=\"text-align: right;\">\n",
       "      <th></th>\n",
       "      <th>id</th>\n",
       "      <th>date</th>\n",
       "      <th>price</th>\n",
       "      <th>bedrooms</th>\n",
       "      <th>bathrooms</th>\n",
       "      <th>floors</th>\n",
       "      <th>waterfront</th>\n",
       "      <th>condition</th>\n",
       "      <th>grade</th>\n",
       "      <th>yr_built</th>\n",
       "      <th>yr_renovated</th>\n",
       "      <th>zipcode</th>\n",
       "      <th>lat</th>\n",
       "      <th>long</th>\n",
       "    </tr>\n",
       "  </thead>\n",
       "  <tbody>\n",
       "    <tr>\n",
       "      <th>0</th>\n",
       "      <td>7129300520</td>\n",
       "      <td>20141013T000000</td>\n",
       "      <td>221900.0</td>\n",
       "      <td>3</td>\n",
       "      <td>1.00</td>\n",
       "      <td>1.0</td>\n",
       "      <td>0</td>\n",
       "      <td>3</td>\n",
       "      <td>7</td>\n",
       "      <td>1955</td>\n",
       "      <td>0</td>\n",
       "      <td>98178</td>\n",
       "      <td>47.5112</td>\n",
       "      <td>-122.257</td>\n",
       "    </tr>\n",
       "    <tr>\n",
       "      <th>1</th>\n",
       "      <td>6414100192</td>\n",
       "      <td>20141209T000000</td>\n",
       "      <td>538000.0</td>\n",
       "      <td>3</td>\n",
       "      <td>2.25</td>\n",
       "      <td>2.0</td>\n",
       "      <td>0</td>\n",
       "      <td>3</td>\n",
       "      <td>7</td>\n",
       "      <td>1951</td>\n",
       "      <td>1991</td>\n",
       "      <td>98125</td>\n",
       "      <td>47.7210</td>\n",
       "      <td>-122.319</td>\n",
       "    </tr>\n",
       "    <tr>\n",
       "      <th>2</th>\n",
       "      <td>5631500400</td>\n",
       "      <td>20150225T000000</td>\n",
       "      <td>180000.0</td>\n",
       "      <td>2</td>\n",
       "      <td>1.00</td>\n",
       "      <td>1.0</td>\n",
       "      <td>0</td>\n",
       "      <td>3</td>\n",
       "      <td>6</td>\n",
       "      <td>1933</td>\n",
       "      <td>0</td>\n",
       "      <td>98028</td>\n",
       "      <td>47.7379</td>\n",
       "      <td>-122.233</td>\n",
       "    </tr>\n",
       "    <tr>\n",
       "      <th>3</th>\n",
       "      <td>2487200875</td>\n",
       "      <td>20141209T000000</td>\n",
       "      <td>604000.0</td>\n",
       "      <td>4</td>\n",
       "      <td>3.00</td>\n",
       "      <td>1.0</td>\n",
       "      <td>0</td>\n",
       "      <td>5</td>\n",
       "      <td>7</td>\n",
       "      <td>1965</td>\n",
       "      <td>0</td>\n",
       "      <td>98136</td>\n",
       "      <td>47.5208</td>\n",
       "      <td>-122.393</td>\n",
       "    </tr>\n",
       "    <tr>\n",
       "      <th>4</th>\n",
       "      <td>1954400510</td>\n",
       "      <td>20150218T000000</td>\n",
       "      <td>510000.0</td>\n",
       "      <td>3</td>\n",
       "      <td>2.00</td>\n",
       "      <td>1.0</td>\n",
       "      <td>0</td>\n",
       "      <td>3</td>\n",
       "      <td>8</td>\n",
       "      <td>1987</td>\n",
       "      <td>0</td>\n",
       "      <td>98074</td>\n",
       "      <td>47.6168</td>\n",
       "      <td>-122.045</td>\n",
       "    </tr>\n",
       "  </tbody>\n",
       "</table>\n",
       "</div>"
      ],
      "text/plain": [
       "           id             date     price  bedrooms  bathrooms  floors  \\\n",
       "0  7129300520  20141013T000000  221900.0         3       1.00     1.0   \n",
       "1  6414100192  20141209T000000  538000.0         3       2.25     2.0   \n",
       "2  5631500400  20150225T000000  180000.0         2       1.00     1.0   \n",
       "3  2487200875  20141209T000000  604000.0         4       3.00     1.0   \n",
       "4  1954400510  20150218T000000  510000.0         3       2.00     1.0   \n",
       "\n",
       "   waterfront  condition  grade  yr_built  yr_renovated  zipcode      lat  \\\n",
       "0           0          3      7      1955             0    98178  47.5112   \n",
       "1           0          3      7      1951          1991    98125  47.7210   \n",
       "2           0          3      6      1933             0    98028  47.7379   \n",
       "3           0          5      7      1965             0    98136  47.5208   \n",
       "4           0          3      8      1987             0    98074  47.6168   \n",
       "\n",
       "      long  \n",
       "0 -122.257  \n",
       "1 -122.319  \n",
       "2 -122.233  \n",
       "3 -122.393  \n",
       "4 -122.045  "
      ]
     },
     "execution_count": 3,
     "metadata": {},
     "output_type": "execute_result"
    }
   ],
   "source": [
    "data = pd.read_csv('./data/kc_house_data.csv')\n",
    "data.head()"
   ]
  },
  {
   "cell_type": "markdown",
   "id": "6686f26a",
   "metadata": {},
   "source": [
    "```\n",
    "id: 집 고유아이디\n",
    "date: 집이 팔린 날짜\n",
    "price: 집 가격 (타겟변수)\n",
    "bedrooms: 주택 당 침실 개수\n",
    "bathrooms: 주택 당 화장실 개수\n",
    "floors: 전체 층 개수\n",
    "waterfront: 해변이 보이는지(0, 1)\n",
    "condition: 집 청소상태 (1~5)\n",
    "grade : King County grading system으로 인한 평점(1~13)\n",
    "yr_bulit: 집이 지어진 년도\n",
    "yr_renovated: 집이 리모델링 된 년도\n",
    "zipcode: 우편번호\n",
    "lat: 위도\n",
    "long: 경도\n",
    "```"
   ]
  },
  {
   "cell_type": "code",
   "execution_count": 4,
   "id": "e4aba8e4",
   "metadata": {},
   "outputs": [
    {
     "name": "stdout",
     "output_type": "stream",
     "text": [
      "21613\n",
      "14\n"
     ]
    }
   ],
   "source": [
    "ncar = data.shape[0]\n",
    "nvar = data.shape[1]\n",
    "print(ncar)\n",
    "print(nvar)"
   ]
  },
  {
   "cell_type": "code",
   "execution_count": 7,
   "id": "e4cc353b",
   "metadata": {},
   "outputs": [],
   "source": [
    "data.drop(['id', 'date', 'zipcode', 'lat', 'long'], axis=1, inplace=True)"
   ]
  },
  {
   "cell_type": "markdown",
   "id": "d1eb8d78",
   "metadata": {},
   "source": [
    "### 설명변수와 타겟변수를 분리, 학습데이터와 평가데이터 분리"
   ]
  },
  {
   "cell_type": "code",
   "execution_count": 9,
   "id": "228665d4",
   "metadata": {},
   "outputs": [
    {
     "name": "stdout",
     "output_type": "stream",
     "text": [
      "(15129, 8) (6484, 8) (15129,) (6484,)\n"
     ]
    }
   ],
   "source": [
    "featuer_columns = list(data.columns.difference(['price']))\n",
    "X = data[featuer_columns]\n",
    "y = data['price']\n",
    "train_x, test_x, train_y, test_y = train_test_split(X, y, test_size=0.3, random_state=42)\n",
    "print(train_x.shape, test_x.shape, train_y.shape, test_y.shape)"
   ]
  },
  {
   "cell_type": "markdown",
   "id": "acf5a866",
   "metadata": {},
   "source": [
    "### 학습데이터를 선형회귀모형에 적합 후 평가 데이터로 검증(Stats_Models)"
   ]
  },
  {
   "cell_type": "code",
   "execution_count": 10,
   "id": "cb4bce4b",
   "metadata": {},
   "outputs": [],
   "source": [
    "import statsmodels.api as sm\n",
    "from sklearn.metrics import mean_squared_error, r2_score\n",
    "from math import sqrt"
   ]
  },
  {
   "cell_type": "code",
   "execution_count": 11,
   "id": "b00c1125",
   "metadata": {},
   "outputs": [
    {
     "name": "stdout",
     "output_type": "stream",
     "text": [
      "                            OLS Regression Results                            \n",
      "==============================================================================\n",
      "Dep. Variable:                  price   R-squared:                       0.595\n",
      "Model:                            OLS   Adj. R-squared:                  0.595\n",
      "Method:                 Least Squares   F-statistic:                     2776.\n",
      "Date:                Mon, 17 Jan 2022   Prob (F-statistic):               0.00\n",
      "Time:                        06:56:38   Log-Likelihood:            -2.0826e+05\n",
      "No. Observations:               15129   AIC:                         4.165e+05\n",
      "Df Residuals:                   15120   BIC:                         4.166e+05\n",
      "Df Model:                           8                                         \n",
      "Covariance Type:            nonrobust                                         \n",
      "================================================================================\n",
      "                   coef    std err          t      P>|t|      [0.025      0.975]\n",
      "--------------------------------------------------------------------------------\n",
      "const         7.186e+06   1.73e+05     41.548      0.000    6.85e+06    7.52e+06\n",
      "bathrooms     1.303e+05   3960.833     32.889      0.000    1.23e+05    1.38e+05\n",
      "bedrooms     -2224.7910   2382.356     -0.934      0.350   -6894.497    2444.915\n",
      "condition     1.641e+04   3169.013      5.178      0.000    1.02e+04    2.26e+04\n",
      "floors        1946.3052   4336.838      0.449      0.654   -6554.422    1.04e+04\n",
      "grade         1.956e+05   2199.540     88.924      0.000    1.91e+05       2e+05\n",
      "waterfront    7.555e+05   2.26e+04     33.479      0.000    7.11e+05       8e+05\n",
      "yr_built     -4300.7865     88.073    -48.832      0.000   -4473.420   -4128.153\n",
      "yr_renovated    12.7325      5.043      2.525      0.012       2.847      22.618\n",
      "==============================================================================\n",
      "Omnibus:                    13447.374   Durbin-Watson:                   1.994\n",
      "Prob(Omnibus):                  0.000   Jarque-Bera (JB):          1684794.827\n",
      "Skew:                           3.763   Prob(JB):                         0.00\n",
      "Kurtosis:                      54.147   Cond. No.                     1.82e+05\n",
      "==============================================================================\n",
      "\n",
      "Notes:\n",
      "[1] Standard Errors assume that the covariance matrix of the errors is correctly specified.\n",
      "[2] The condition number is large, 1.82e+05. This might indicate that there are\n",
      "strong multicollinearity or other numerical problems.\n"
     ]
    },
    {
     "name": "stderr",
     "output_type": "stream",
     "text": [
      "C:\\ProgramData\\Anaconda3\\lib\\site-packages\\statsmodels\\tsa\\tsatools.py:142: FutureWarning: In a future version of pandas all arguments of concat except for the argument 'objs' will be keyword-only\n",
      "  x = pd.concat(x[::order], 1)\n"
     ]
    }
   ],
   "source": [
    "sm_train_x = sm.add_constant(train_x, has_constant='add')\n",
    "sm_model = sm.OLS(train_y, sm_train_x)\n",
    "fitted_sm_model = sm_model.fit()\n",
    "print(fitted_sm_model.summary())"
   ]
  },
  {
   "cell_type": "code",
   "execution_count": 12,
   "id": "e7e8c888",
   "metadata": {},
   "outputs": [
    {
     "name": "stderr",
     "output_type": "stream",
     "text": [
      "C:\\ProgramData\\Anaconda3\\lib\\site-packages\\statsmodels\\tsa\\tsatools.py:142: FutureWarning: In a future version of pandas all arguments of concat except for the argument 'objs' will be keyword-only\n",
      "  x = pd.concat(x[::order], 1)\n"
     ]
    }
   ],
   "source": [
    "sm_test_x = sm.add_constant(test_x, has_constant='add')\n",
    "sm_model_predict = fitted_sm_model.predict(sm_test_x)"
   ]
  },
  {
   "cell_type": "code",
   "execution_count": 13,
   "id": "40e8ee9b",
   "metadata": {},
   "outputs": [
    {
     "data": {
      "text/plain": [
       "57506100719.89744"
      ]
     },
     "execution_count": 13,
     "metadata": {},
     "output_type": "execute_result"
    }
   ],
   "source": [
    "mean_squared_error(sm_model_predict, test_y) #MSE"
   ]
  },
  {
   "cell_type": "code",
   "execution_count": 14,
   "id": "ac7b1541",
   "metadata": {},
   "outputs": [
    {
     "data": {
      "text/plain": [
       "239804.2967085816"
      ]
     },
     "execution_count": 14,
     "metadata": {},
     "output_type": "execute_result"
    }
   ],
   "source": [
    "sqrt(mean_squared_error(sm_model_predict, test_y)) #RMSE"
   ]
  },
  {
   "cell_type": "markdown",
   "id": "0d471fe5",
   "metadata": {},
   "source": [
    "## Bagging"
   ]
  },
  {
   "cell_type": "code",
   "execution_count": 33,
   "id": "cfeeb5cf",
   "metadata": {},
   "outputs": [
    {
     "name": "stdout",
     "output_type": "stream",
     "text": [
      "9537\n",
      "239856.57280207184\n",
      "9602\n",
      "240292.70616367337\n",
      "9576\n",
      "240025.36205059505\n",
      "9593\n",
      "240917.0961350019\n",
      "9589\n",
      "239839.47950455488\n",
      "9544\n",
      "240106.0207556538\n",
      "9503\n",
      "239905.70102744416\n",
      "9602\n",
      "239655.99027126358\n",
      "9565\n",
      "240863.28325012338\n"
     ]
    },
    {
     "name": "stderr",
     "output_type": "stream",
     "text": [
      "C:\\ProgramData\\Anaconda3\\lib\\site-packages\\statsmodels\\tsa\\tsatools.py:142: FutureWarning: In a future version of pandas all arguments of concat except for the argument 'objs' will be keyword-only\n",
      "  x = pd.concat(x[::order], 1)\n",
      "C:\\ProgramData\\Anaconda3\\lib\\site-packages\\statsmodels\\tsa\\tsatools.py:142: FutureWarning: In a future version of pandas all arguments of concat except for the argument 'objs' will be keyword-only\n",
      "  x = pd.concat(x[::order], 1)\n",
      "C:\\ProgramData\\Anaconda3\\lib\\site-packages\\statsmodels\\tsa\\tsatools.py:142: FutureWarning: In a future version of pandas all arguments of concat except for the argument 'objs' will be keyword-only\n",
      "  x = pd.concat(x[::order], 1)\n",
      "C:\\ProgramData\\Anaconda3\\lib\\site-packages\\statsmodels\\tsa\\tsatools.py:142: FutureWarning: In a future version of pandas all arguments of concat except for the argument 'objs' will be keyword-only\n",
      "  x = pd.concat(x[::order], 1)\n",
      "C:\\ProgramData\\Anaconda3\\lib\\site-packages\\statsmodels\\tsa\\tsatools.py:142: FutureWarning: In a future version of pandas all arguments of concat except for the argument 'objs' will be keyword-only\n",
      "  x = pd.concat(x[::order], 1)\n",
      "C:\\ProgramData\\Anaconda3\\lib\\site-packages\\statsmodels\\tsa\\tsatools.py:142: FutureWarning: In a future version of pandas all arguments of concat except for the argument 'objs' will be keyword-only\n",
      "  x = pd.concat(x[::order], 1)\n",
      "C:\\ProgramData\\Anaconda3\\lib\\site-packages\\statsmodels\\tsa\\tsatools.py:142: FutureWarning: In a future version of pandas all arguments of concat except for the argument 'objs' will be keyword-only\n",
      "  x = pd.concat(x[::order], 1)\n",
      "C:\\ProgramData\\Anaconda3\\lib\\site-packages\\statsmodels\\tsa\\tsatools.py:142: FutureWarning: In a future version of pandas all arguments of concat except for the argument 'objs' will be keyword-only\n",
      "  x = pd.concat(x[::order], 1)\n",
      "C:\\ProgramData\\Anaconda3\\lib\\site-packages\\statsmodels\\tsa\\tsatools.py:142: FutureWarning: In a future version of pandas all arguments of concat except for the argument 'objs' will be keyword-only\n",
      "  x = pd.concat(x[::order], 1)\n"
     ]
    },
    {
     "name": "stdout",
     "output_type": "stream",
     "text": [
      "9519\n",
      "239706.51646215824\n"
     ]
    },
    {
     "name": "stderr",
     "output_type": "stream",
     "text": [
      "C:\\ProgramData\\Anaconda3\\lib\\site-packages\\statsmodels\\tsa\\tsatools.py:142: FutureWarning: In a future version of pandas all arguments of concat except for the argument 'objs' will be keyword-only\n",
      "  x = pd.concat(x[::order], 1)\n"
     ]
    }
   ],
   "source": [
    "bagging_predict_result = []\n",
    "\n",
    "for _ in range(10):\n",
    "    data_index = [data_index for data_index in range(train_x.shape[0])]\n",
    "    random_data_index = np.random.choice(data_index, train_x.shape[0])\n",
    "    print(len(set(random_data_index))) # 데이터를 복원추출시, 전체 데이터의 약 63% 정도 추출\n",
    "    \n",
    "    sm_train_x = train_x.iloc[random_data_index, ]\n",
    "    sm_train_y = train_y.iloc[random_data_index, ]\n",
    "\n",
    "    sm_train_x = sm.add_constant(sm_train_x, has_constant='add')\n",
    "    sm_model = sm.OLS(sm_train_y, sm_train_x)\n",
    "    fitted_sm_model = sm_model.fit()\n",
    "    pred = fitted_sm_model.predict(sm_test_x)\n",
    "    \n",
    "    bagging_predict_result.append(pred)\n",
    "    print(sqrt(mean_squared_error(pred, test_y)))"
   ]
  },
  {
   "cell_type": "code",
   "execution_count": 34,
   "id": "321f777c",
   "metadata": {},
   "outputs": [
    {
     "data": {
      "text/plain": [
       "735      5.660367e+05\n",
       "2830     7.094837e+05\n",
       "4106     1.095953e+06\n",
       "16218    1.448106e+06\n",
       "19964    6.965060e+05\n",
       "             ...     \n",
       "12606    6.084143e+05\n",
       "14393    6.756988e+05\n",
       "6899     3.268014e+05\n",
       "85       8.937443e+05\n",
       "21363    4.369498e+05\n",
       "Length: 6484, dtype: float64"
      ]
     },
     "execution_count": 34,
     "metadata": {},
     "output_type": "execute_result"
    }
   ],
   "source": [
    "bagging_predict_result[1]"
   ]
  },
  {
   "cell_type": "code",
   "execution_count": 35,
   "id": "e937c926",
   "metadata": {},
   "outputs": [],
   "source": [
    "bagging_predict = []\n",
    "\n",
    "for lst2_index in range(test_x.shape[0]):\n",
    "    temp_predict = []\n",
    "\n",
    "    for lst_index in range(len(bagging_predict_result)):\n",
    "        temp_predict.append(bagging_predict_result[lst_index].values[lst2_index])\n",
    "    \n",
    "    bagging_predict.append(np.mean(temp_predict))"
   ]
  },
  {
   "cell_type": "code",
   "execution_count": 36,
   "id": "ab8068ec",
   "metadata": {},
   "outputs": [
    {
     "data": {
      "text/plain": [
       "239851.11010302018"
      ]
     },
     "execution_count": 36,
     "metadata": {},
     "output_type": "execute_result"
    }
   ],
   "source": [
    "sqrt(mean_squared_error(bagging_predict, test_y))"
   ]
  },
  {
   "cell_type": "markdown",
   "id": "f79d0769",
   "metadata": {},
   "source": [
    "### 학습데이터를 선형회귀모형에 적합 후 평가데이터로 검증(Sckit-Learn)"
   ]
  },
  {
   "cell_type": "code",
   "execution_count": 37,
   "id": "e7fcca4f",
   "metadata": {},
   "outputs": [],
   "source": [
    "from sklearn.linear_model import LinearRegression"
   ]
  },
  {
   "cell_type": "code",
   "execution_count": 39,
   "id": "93fd6db0",
   "metadata": {},
   "outputs": [],
   "source": [
    "regression_model = LinearRegression()\n",
    "linear_model1 = regression_model.fit(train_x, train_y)"
   ]
  },
  {
   "cell_type": "markdown",
   "id": "cb9612b4",
   "metadata": {},
   "source": [
    "### Bagging을 이용하여 선형회귀모형에 적합 후 평가(Sampling 10번)"
   ]
  },
  {
   "cell_type": "code",
   "execution_count": 40,
   "id": "6c504e38",
   "metadata": {},
   "outputs": [],
   "source": [
    "from sklearn.ensemble import BaggingRegressor"
   ]
  },
  {
   "cell_type": "code",
   "execution_count": 52,
   "id": "87f666c3",
   "metadata": {},
   "outputs": [
    {
     "name": "stdout",
     "output_type": "stream",
     "text": [
      "239992.76356517134\n"
     ]
    }
   ],
   "source": [
    "bagging_model = BaggingRegressor(base_estimator=regression_model, n_estimators=5)\n",
    "linear_model2 = bagging_model.fit(train_x, train_y)\n",
    "predict2 = linear_model2.predict(test_x)\n",
    "\n",
    "print(sqrt(mean_squared_error(predict2, test_y)))"
   ]
  },
  {
   "cell_type": "code",
   "execution_count": 58,
   "id": "dcce871c",
   "metadata": {},
   "outputs": [
    {
     "name": "stdout",
     "output_type": "stream",
     "text": [
      "239720.7232084481\n"
     ]
    }
   ],
   "source": [
    "bagging_model = BaggingRegressor(base_estimator=regression_model, n_estimators=30)\n",
    "linear_model2 = bagging_model.fit(train_x, train_y)\n",
    "predict2 = linear_model2.predict(test_x)\n",
    "\n",
    "print(sqrt(mean_squared_error(predict2, test_y)))"
   ]
  },
  {
   "cell_type": "markdown",
   "id": "b991b1e2",
   "metadata": {},
   "source": [
    "### 학습데이터를 의사결정나무모형에 적합 후 평가 데이터로 검증"
   ]
  },
  {
   "cell_type": "code",
   "execution_count": 59,
   "id": "a1687b09",
   "metadata": {},
   "outputs": [],
   "source": [
    "from sklearn.tree import DecisionTreeRegressor"
   ]
  },
  {
   "cell_type": "code",
   "execution_count": 62,
   "id": "848020cf",
   "metadata": {},
   "outputs": [
    {
     "name": "stdout",
     "output_type": "stream",
     "text": [
      "295996.2936341859\n"
     ]
    }
   ],
   "source": [
    "decision_tree_model = DecisionTreeRegressor()\n",
    "tree_model = decision_tree_model.fit(train_x, train_y)\n",
    "predict_tree = tree_model.predict(test_x)\n",
    "\n",
    "print(sqrt(mean_squared_error(predict_tree, test_y)))"
   ]
  },
  {
   "cell_type": "code",
   "execution_count": 67,
   "id": "5421036f",
   "metadata": {},
   "outputs": [
    {
     "name": "stdout",
     "output_type": "stream",
     "text": [
      "9569\n",
      "306936.4731088418\n",
      "9500\n",
      "283470.55077733874\n",
      "9536\n",
      "306124.8565905851\n",
      "9586\n",
      "296456.94224097213\n",
      "9610\n",
      "288542.1280224167\n",
      "9573\n",
      "313655.6138915013\n",
      "9562\n",
      "309425.07761432003\n",
      "9643\n",
      "295900.2364018849\n",
      "9605\n",
      "308934.52907982824\n",
      "9625\n",
      "284851.974184133\n"
     ]
    }
   ],
   "source": [
    "bagging_predict_result = []\n",
    "\n",
    "for _ in range(10):\n",
    "    data_index = [data_index for data_index in range(train_x.shape[0])]\n",
    "    random_data_index = np.random.choice(data_index, train_x.shape[0])\n",
    "    print(len(set(random_data_index))) # 데이터를 복원추출시, 전체 데이터의 약 63% 정도 추출\n",
    "    \n",
    "    sm_train_x = train_x.iloc[random_data_index, ]\n",
    "    sm_train_y = train_y.iloc[random_data_index, ]\n",
    "\n",
    "    decision_tree_model = DecisionTreeRegressor()\n",
    "    tree_model = decision_tree_model.fit(sm_train_x, sm_train_y)\n",
    "    predict_tree = tree_model.predict(test_x)\n",
    "\n",
    "    bagging_predict_result.append(predict_tree)\n",
    "    print(sqrt(mean_squared_error(predict_tree, test_y)))"
   ]
  },
  {
   "cell_type": "code",
   "execution_count": 68,
   "id": "bcb3ef4f",
   "metadata": {},
   "outputs": [],
   "source": [
    "bagging_predict = []\n",
    "\n",
    "for lst2_index in range(test_x.shape[0]):\n",
    "    temp_predict = []\n",
    "\n",
    "    for lst_index in range(len(bagging_predict_result)):\n",
    "        temp_predict.append(bagging_predict_result[lst_index][lst2_index])\n",
    "    \n",
    "    bagging_predict.append(np.mean(temp_predict))"
   ]
  },
  {
   "cell_type": "code",
   "execution_count": 69,
   "id": "1206298c",
   "metadata": {},
   "outputs": [
    {
     "data": {
      "text/plain": [
       "239320.27643264446"
      ]
     },
     "execution_count": 69,
     "metadata": {},
     "output_type": "execute_result"
    }
   ],
   "source": [
    "sqrt(mean_squared_error(bagging_predict, test_y))"
   ]
  },
  {
   "cell_type": "markdown",
   "id": "9c804e55",
   "metadata": {},
   "source": [
    "### Bagging을 이용하여 의사결정나무모형에 적합 후 평가(Sampling 10번)"
   ]
  },
  {
   "cell_type": "code",
   "execution_count": 75,
   "id": "04340d46",
   "metadata": {},
   "outputs": [
    {
     "name": "stdout",
     "output_type": "stream",
     "text": [
      "235254.4358990768\n"
     ]
    }
   ],
   "source": [
    "bagging_model = BaggingRegressor(base_estimator=decision_tree_model, n_estimators=10)\n",
    "linear_model2 = bagging_model.fit(train_x, train_y)\n",
    "predict2 = linear_model2.predict(test_x)\n",
    "\n",
    "print(sqrt(mean_squared_error(predict2, test_y)))"
   ]
  },
  {
   "cell_type": "code",
   "execution_count": 77,
   "id": "9f952b9c",
   "metadata": {},
   "outputs": [
    {
     "name": "stdout",
     "output_type": "stream",
     "text": [
      "232703.08875860774\n"
     ]
    }
   ],
   "source": [
    "bagging_model = BaggingRegressor(base_estimator=decision_tree_model, n_estimators=30)\n",
    "linear_model2 = bagging_model.fit(train_x, train_y)\n",
    "predict2 = linear_model2.predict(test_x)\n",
    "\n",
    "print(sqrt(mean_squared_error(predict2, test_y)))"
   ]
  }
 ],
 "metadata": {
  "kernelspec": {
   "display_name": "Python 3 (ipykernel)",
   "language": "python",
   "name": "python3"
  },
  "language_info": {
   "codemirror_mode": {
    "name": "ipython",
    "version": 3
   },
   "file_extension": ".py",
   "mimetype": "text/x-python",
   "name": "python",
   "nbconvert_exporter": "python",
   "pygments_lexer": "ipython3",
   "version": "3.9.7"
  }
 },
 "nbformat": 4,
 "nbformat_minor": 5
}
