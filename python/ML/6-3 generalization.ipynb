{
  "nbformat": 4,
  "nbformat_minor": 0,
  "metadata": {
    "colab": {
      "name": "6-3 generalization.ipynb",
      "provenance": []
    },
    "kernelspec": {
      "name": "python3",
      "display_name": "Python 3"
    },
    "language_info": {
      "name": "python"
    },
    "accelerator": "GPU"
  },
  "cells": [
    {
      "cell_type": "markdown",
      "source": [
        "# Overfitting 감소"
      ],
      "metadata": {
        "id": "aO3E4JZ58NMl"
      }
    },
    {
      "cell_type": "code",
      "execution_count": 1,
      "metadata": {
        "colab": {
          "base_uri": "https://localhost:8080/"
        },
        "id": "9eH1NsFcg88d",
        "outputId": "a7b8a0ac-f2eb-485d-d330-c63407248a0b"
      },
      "outputs": [
        {
          "output_type": "stream",
          "name": "stdout",
          "text": [
            "Found GPU at: /device:GPU:0\n"
          ]
        }
      ],
      "source": [
        "%tensorflow_version 2.x\n",
        "import tensorflow as tf\n",
        "device_name = tf.test.gpu_device_name()\n",
        "if device_name != '/device:GPU:0':\n",
        "  raise SystemError('GPU device not found')\n",
        "print('Found GPU at: {}'.format(device_name))"
      ]
    },
    {
      "cell_type": "code",
      "execution_count": 2,
      "metadata": {
        "id": "24YL785L8JL_"
      },
      "outputs": [],
      "source": [
        "import numpy as np\n",
        "import matplotlib.pyplot as plt"
      ]
    },
    {
      "cell_type": "markdown",
      "source": [
        "## 하이퍼파라미터 정의"
      ],
      "metadata": {
        "id": "zve9VcPs8a1o"
      }
    },
    {
      "cell_type": "code",
      "source": [
        "EPOCH = 50"
      ],
      "metadata": {
        "id": "Gt_srWY88aQM"
      },
      "execution_count": 3,
      "outputs": []
    },
    {
      "cell_type": "markdown",
      "source": [
        "## 네트워크 구조 정의"
      ],
      "metadata": {
        "id": "q3UNt0kD8sjA"
      }
    },
    {
      "cell_type": "code",
      "source": [
        "class MyModel(tf.keras.Model):\n",
        "  def __init__(self):\n",
        "    super(MyModel, self).__init__()\n",
        "    self.flatten = tf.keras.layers.Flatten()\n",
        "    self.dense1 = tf.keras.layers.Dense(64, activation='relu')\n",
        "    self.dense2 = tf.keras.layers.Dense(64, activation='relu')\n",
        "    self.dense3 = tf.keras.layers.Dense(64, activation='relu')\n",
        "    self.dense4 = tf.keras.layers.Dense(64, activation='relu')\n",
        "    self.dense5 = tf.keras.layers.Dense(10, activation='softmax')\n",
        "\n",
        "  def call(self, x, training=False, mask=None):\n",
        "    h = self.flatten(x)\n",
        "    h = self.dense1(h)\n",
        "    h = self.dense2(h)\n",
        "    h = self.dense3(h)\n",
        "    h = self.dense4(h)\n",
        "    return self.dense5(h)"
      ],
      "metadata": {
        "id": "3UdHN7Fy8uTr"
      },
      "execution_count": 15,
      "outputs": []
    },
    {
      "cell_type": "markdown",
      "source": [
        "## 데이터 불러오기"
      ],
      "metadata": {
        "id": "Gvs8CD399h5H"
      }
    },
    {
      "cell_type": "code",
      "source": [
        "fashion_mnist = tf.keras.datasets.fashion_mnist\n",
        "\n",
        "(x_train, y_train), (x_test, y_test) = fashion_mnist.load_data()\n",
        "x_train, x_test = x_train/255.0, x_test/255.0\n",
        "\n",
        "x_train = x_train.astype(np.float32)\n",
        "x_test = x_test.astype(np.float32)\n",
        "\n",
        "train_ds = tf.data.Dataset.from_tensor_slices((x_train, y_train)).shuffle(10000).batch(32).prefetch(2048)\n",
        "test_ds = tf.data.Dataset.from_tensor_slices((x_test, y_test)).batch(32).prefetch(2048)"
      ],
      "metadata": {
        "id": "fySazczs9g_n"
      },
      "execution_count": 14,
      "outputs": []
    },
    {
      "cell_type": "markdown",
      "source": [
        "## 모델 생성"
      ],
      "metadata": {
        "id": "5H1NfDoT-U91"
      }
    },
    {
      "cell_type": "code",
      "source": [
        "model = MyModel()\n",
        "\n",
        "model.compile(optimizer='adam',\n",
        "              loss='sparse_categorical_crossentropy',\n",
        "              metrics=['accuracy'])"
      ],
      "metadata": {
        "id": "HtoTI4sI-PE1"
      },
      "execution_count": 16,
      "outputs": []
    },
    {
      "cell_type": "markdown",
      "source": [
        "## 모델 학습"
      ],
      "metadata": {
        "id": "lS8neF_Q-mJh"
      }
    },
    {
      "cell_type": "code",
      "source": [
        "history = model.fit(train_ds, validation_data=test_ds, epochs=EPOCH)"
      ],
      "metadata": {
        "colab": {
          "base_uri": "https://localhost:8080/"
        },
        "id": "ncGXehH8-knz",
        "outputId": "edf271cd-8ede-4171-e46b-926801d158ff"
      },
      "execution_count": 17,
      "outputs": [
        {
          "output_type": "stream",
          "name": "stdout",
          "text": [
            "Epoch 1/50\n",
            "1875/1875 [==============================] - 6s 3ms/step - loss: 0.5196 - accuracy: 0.8148 - val_loss: 0.4615 - val_accuracy: 0.8323\n",
            "Epoch 2/50\n",
            "1875/1875 [==============================] - 5s 3ms/step - loss: 0.3805 - accuracy: 0.8594 - val_loss: 0.3854 - val_accuracy: 0.8617\n",
            "Epoch 3/50\n",
            "1875/1875 [==============================] - 5s 3ms/step - loss: 0.3482 - accuracy: 0.8727 - val_loss: 0.4004 - val_accuracy: 0.8544\n",
            "Epoch 4/50\n",
            "1875/1875 [==============================] - 5s 3ms/step - loss: 0.3240 - accuracy: 0.8802 - val_loss: 0.3662 - val_accuracy: 0.8685\n",
            "Epoch 5/50\n",
            "1875/1875 [==============================] - 5s 3ms/step - loss: 0.3080 - accuracy: 0.8859 - val_loss: 0.3776 - val_accuracy: 0.8696\n",
            "Epoch 6/50\n",
            "1875/1875 [==============================] - 5s 3ms/step - loss: 0.2948 - accuracy: 0.8892 - val_loss: 0.3438 - val_accuracy: 0.8755\n",
            "Epoch 7/50\n",
            "1875/1875 [==============================] - 5s 3ms/step - loss: 0.2829 - accuracy: 0.8943 - val_loss: 0.3411 - val_accuracy: 0.8802\n",
            "Epoch 8/50\n",
            "1875/1875 [==============================] - 5s 3ms/step - loss: 0.2719 - accuracy: 0.8990 - val_loss: 0.3858 - val_accuracy: 0.8654\n",
            "Epoch 9/50\n",
            "1875/1875 [==============================] - 5s 3ms/step - loss: 0.2640 - accuracy: 0.9005 - val_loss: 0.3746 - val_accuracy: 0.8628\n",
            "Epoch 10/50\n",
            "1875/1875 [==============================] - 9s 5ms/step - loss: 0.2557 - accuracy: 0.9025 - val_loss: 0.3434 - val_accuracy: 0.8788\n",
            "Epoch 11/50\n",
            "1875/1875 [==============================] - 8s 4ms/step - loss: 0.2472 - accuracy: 0.9066 - val_loss: 0.3498 - val_accuracy: 0.8766\n",
            "Epoch 12/50\n",
            "1875/1875 [==============================] - 6s 3ms/step - loss: 0.2419 - accuracy: 0.9091 - val_loss: 0.3634 - val_accuracy: 0.8802\n",
            "Epoch 13/50\n",
            "1875/1875 [==============================] - 5s 3ms/step - loss: 0.2383 - accuracy: 0.9098 - val_loss: 0.3406 - val_accuracy: 0.8853\n",
            "Epoch 14/50\n",
            "1875/1875 [==============================] - 5s 3ms/step - loss: 0.2308 - accuracy: 0.9125 - val_loss: 0.3589 - val_accuracy: 0.8738\n",
            "Epoch 15/50\n",
            "1875/1875 [==============================] - 5s 3ms/step - loss: 0.2251 - accuracy: 0.9148 - val_loss: 0.3512 - val_accuracy: 0.8825\n",
            "Epoch 16/50\n",
            "1875/1875 [==============================] - 5s 3ms/step - loss: 0.2227 - accuracy: 0.9154 - val_loss: 0.3592 - val_accuracy: 0.8843\n",
            "Epoch 17/50\n",
            "1875/1875 [==============================] - 5s 3ms/step - loss: 0.2173 - accuracy: 0.9179 - val_loss: 0.3401 - val_accuracy: 0.8801\n",
            "Epoch 18/50\n",
            "1875/1875 [==============================] - 5s 3ms/step - loss: 0.2110 - accuracy: 0.9197 - val_loss: 0.3576 - val_accuracy: 0.8807\n",
            "Epoch 19/50\n",
            "1875/1875 [==============================] - 5s 3ms/step - loss: 0.2047 - accuracy: 0.9222 - val_loss: 0.3690 - val_accuracy: 0.8835\n",
            "Epoch 20/50\n",
            "1875/1875 [==============================] - 5s 3ms/step - loss: 0.2038 - accuracy: 0.9242 - val_loss: 0.3944 - val_accuracy: 0.8778\n",
            "Epoch 21/50\n",
            "1875/1875 [==============================] - 5s 3ms/step - loss: 0.1981 - accuracy: 0.9238 - val_loss: 0.3820 - val_accuracy: 0.8809\n",
            "Epoch 22/50\n",
            "1875/1875 [==============================] - 5s 3ms/step - loss: 0.1956 - accuracy: 0.9249 - val_loss: 0.3733 - val_accuracy: 0.8827\n",
            "Epoch 23/50\n",
            "1875/1875 [==============================] - 5s 3ms/step - loss: 0.1929 - accuracy: 0.9259 - val_loss: 0.4310 - val_accuracy: 0.8807\n",
            "Epoch 24/50\n",
            "1875/1875 [==============================] - 5s 3ms/step - loss: 0.1914 - accuracy: 0.9273 - val_loss: 0.4090 - val_accuracy: 0.8778\n",
            "Epoch 25/50\n",
            "1875/1875 [==============================] - 7s 4ms/step - loss: 0.1855 - accuracy: 0.9293 - val_loss: 0.4013 - val_accuracy: 0.8825\n",
            "Epoch 26/50\n",
            "1875/1875 [==============================] - 5s 3ms/step - loss: 0.1806 - accuracy: 0.9311 - val_loss: 0.3905 - val_accuracy: 0.8858\n",
            "Epoch 27/50\n",
            "1875/1875 [==============================] - 5s 3ms/step - loss: 0.1809 - accuracy: 0.9299 - val_loss: 0.3880 - val_accuracy: 0.8882\n",
            "Epoch 28/50\n",
            "1875/1875 [==============================] - 5s 3ms/step - loss: 0.1743 - accuracy: 0.9324 - val_loss: 0.4627 - val_accuracy: 0.8689\n",
            "Epoch 29/50\n",
            "1875/1875 [==============================] - 5s 3ms/step - loss: 0.1735 - accuracy: 0.9338 - val_loss: 0.4138 - val_accuracy: 0.8890\n",
            "Epoch 30/50\n",
            "1875/1875 [==============================] - 6s 3ms/step - loss: 0.1691 - accuracy: 0.9356 - val_loss: 0.3950 - val_accuracy: 0.8832\n",
            "Epoch 31/50\n",
            "1875/1875 [==============================] - 5s 3ms/step - loss: 0.1685 - accuracy: 0.9347 - val_loss: 0.4337 - val_accuracy: 0.8846\n",
            "Epoch 32/50\n",
            "1875/1875 [==============================] - 5s 3ms/step - loss: 0.1678 - accuracy: 0.9360 - val_loss: 0.3960 - val_accuracy: 0.8882\n",
            "Epoch 33/50\n",
            "1875/1875 [==============================] - 7s 4ms/step - loss: 0.1602 - accuracy: 0.9379 - val_loss: 0.4178 - val_accuracy: 0.8822\n",
            "Epoch 34/50\n",
            "1875/1875 [==============================] - 8s 4ms/step - loss: 0.1638 - accuracy: 0.9362 - val_loss: 0.3961 - val_accuracy: 0.8861\n",
            "Epoch 35/50\n",
            "1875/1875 [==============================] - 5s 3ms/step - loss: 0.1585 - accuracy: 0.9394 - val_loss: 0.4404 - val_accuracy: 0.8819\n",
            "Epoch 36/50\n",
            "1875/1875 [==============================] - 5s 3ms/step - loss: 0.1559 - accuracy: 0.9408 - val_loss: 0.4672 - val_accuracy: 0.8821\n",
            "Epoch 37/50\n",
            "1875/1875 [==============================] - 6s 3ms/step - loss: 0.1547 - accuracy: 0.9413 - val_loss: 0.4302 - val_accuracy: 0.8821\n",
            "Epoch 38/50\n",
            "1875/1875 [==============================] - 7s 4ms/step - loss: 0.1516 - accuracy: 0.9420 - val_loss: 0.4629 - val_accuracy: 0.8865\n",
            "Epoch 39/50\n",
            "1875/1875 [==============================] - 7s 4ms/step - loss: 0.1540 - accuracy: 0.9412 - val_loss: 0.4178 - val_accuracy: 0.8905\n",
            "Epoch 40/50\n",
            "1875/1875 [==============================] - 5s 3ms/step - loss: 0.1478 - accuracy: 0.9436 - val_loss: 0.4379 - val_accuracy: 0.8861\n",
            "Epoch 41/50\n",
            "1875/1875 [==============================] - 5s 3ms/step - loss: 0.1522 - accuracy: 0.9422 - val_loss: 0.4386 - val_accuracy: 0.8839\n",
            "Epoch 42/50\n",
            "1875/1875 [==============================] - 5s 3ms/step - loss: 0.1441 - accuracy: 0.9456 - val_loss: 0.4381 - val_accuracy: 0.8861\n",
            "Epoch 43/50\n",
            "1875/1875 [==============================] - 6s 3ms/step - loss: 0.1448 - accuracy: 0.9443 - val_loss: 0.5000 - val_accuracy: 0.8820\n",
            "Epoch 44/50\n",
            "1875/1875 [==============================] - 5s 3ms/step - loss: 0.1446 - accuracy: 0.9443 - val_loss: 0.4683 - val_accuracy: 0.8854\n",
            "Epoch 45/50\n",
            "1875/1875 [==============================] - 5s 3ms/step - loss: 0.1424 - accuracy: 0.9453 - val_loss: 0.4713 - val_accuracy: 0.8830\n",
            "Epoch 46/50\n",
            "1875/1875 [==============================] - 6s 3ms/step - loss: 0.1372 - accuracy: 0.9467 - val_loss: 0.4989 - val_accuracy: 0.8823\n",
            "Epoch 47/50\n",
            "1875/1875 [==============================] - 6s 3ms/step - loss: 0.1382 - accuracy: 0.9474 - val_loss: 0.4695 - val_accuracy: 0.8868\n",
            "Epoch 48/50\n",
            "1875/1875 [==============================] - 5s 3ms/step - loss: 0.1388 - accuracy: 0.9463 - val_loss: 0.4922 - val_accuracy: 0.8847\n",
            "Epoch 49/50\n",
            "1875/1875 [==============================] - 5s 3ms/step - loss: 0.1346 - accuracy: 0.9483 - val_loss: 0.4997 - val_accuracy: 0.8848\n",
            "Epoch 50/50\n",
            "1875/1875 [==============================] - 5s 3ms/step - loss: 0.1337 - accuracy: 0.9484 - val_loss: 0.4865 - val_accuracy: 0.8843\n"
          ]
        }
      ]
    },
    {
      "cell_type": "markdown",
      "source": [
        "## Matplotlib을 이용한 시각화"
      ],
      "metadata": {
        "id": "Cx-oiiDu_D3c"
      }
    },
    {
      "cell_type": "code",
      "source": [
        "loss = history.history['loss']\n",
        "val_loss = history.history['val_loss']\n",
        "\n",
        "plt.figure()\n",
        "plt.plot(loss, 'ro-')\n",
        "plt.plot(val_loss, 'bo-')\n",
        "plt.ylabel('Cross Entropy')\n",
        "plt.xlabel('Epoch')\n",
        "plt.title('Training and Validation Loss')\n",
        "plt.show()"
      ],
      "metadata": {
        "colab": {
          "base_uri": "https://localhost:8080/",
          "height": 295
        },
        "id": "wgvSRs2A-ui_",
        "outputId": "ddc806cb-8236-4540-c708-3e1e8a5d535a"
      },
      "execution_count": 18,
      "outputs": [
        {
          "output_type": "display_data",
          "data": {
            "image/png": "[encoded data removed]",
            "text/plain": [
              "<Figure size 432x288 with 1 Axes>"
            ]
          },
          "metadata": {
            "needs_background": "light"
          }
        }
      ]
    },
    {
      "cell_type": "markdown",
      "source": [
        "## Early Stopping Callback"
      ],
      "metadata": {
        "id": "LBQklE77AO-5"
      }
    },
    {
      "cell_type": "code",
      "source": [
        "earlystopper = tf.keras.callbacks.EarlyStopping(monitor='val_loss', patience=10, verbose=1)"
      ],
      "metadata": {
        "id": "KhNocbaLASUW"
      },
      "execution_count": 19,
      "outputs": []
    },
    {
      "cell_type": "code",
      "source": [
        "history = model.fit(train_ds, validation_data=test_ds, epochs=EPOCH, callbacks=[earlystopper])"
      ],
      "metadata": {
        "colab": {
          "base_uri": "https://localhost:8080/"
        },
        "id": "AzmQXFGuAspq",
        "outputId": "b0ff3e82-dbfc-4c1d-c333-0980081aef5f"
      },
      "execution_count": 20,
      "outputs": [
        {
          "output_type": "stream",
          "name": "stdout",
          "text": [
            "Epoch 1/50\n",
            "1875/1875 [==============================] - 5s 3ms/step - loss: 0.1388 - accuracy: 0.9487 - val_loss: 0.5149 - val_accuracy: 0.8847\n",
            "Epoch 2/50\n",
            "1875/1875 [==============================] - 5s 3ms/step - loss: 0.1316 - accuracy: 0.9495 - val_loss: 0.5105 - val_accuracy: 0.8829\n",
            "Epoch 3/50\n",
            "1875/1875 [==============================] - 5s 3ms/step - loss: 0.1304 - accuracy: 0.9503 - val_loss: 0.5268 - val_accuracy: 0.8866\n",
            "Epoch 4/50\n",
            "1875/1875 [==============================] - 5s 3ms/step - loss: 0.1301 - accuracy: 0.9495 - val_loss: 0.5288 - val_accuracy: 0.8861\n",
            "Epoch 5/50\n",
            "1875/1875 [==============================] - 5s 3ms/step - loss: 0.1296 - accuracy: 0.9508 - val_loss: 0.5284 - val_accuracy: 0.8866\n",
            "Epoch 6/50\n",
            "1875/1875 [==============================] - 5s 3ms/step - loss: 0.1273 - accuracy: 0.9504 - val_loss: 0.5233 - val_accuracy: 0.8874\n",
            "Epoch 7/50\n",
            "1875/1875 [==============================] - 5s 3ms/step - loss: 0.1248 - accuracy: 0.9523 - val_loss: 0.5230 - val_accuracy: 0.8866\n",
            "Epoch 8/50\n",
            "1875/1875 [==============================] - 5s 3ms/step - loss: 0.1204 - accuracy: 0.9530 - val_loss: 0.5257 - val_accuracy: 0.8822\n",
            "Epoch 9/50\n",
            "1875/1875 [==============================] - 5s 3ms/step - loss: 0.1240 - accuracy: 0.9526 - val_loss: 0.5208 - val_accuracy: 0.8881\n",
            "Epoch 10/50\n",
            "1875/1875 [==============================] - 5s 3ms/step - loss: 0.1204 - accuracy: 0.9536 - val_loss: 0.5534 - val_accuracy: 0.8862\n",
            "Epoch 11/50\n",
            "1875/1875 [==============================] - 5s 3ms/step - loss: 0.1242 - accuracy: 0.9529 - val_loss: 0.5399 - val_accuracy: 0.8893\n",
            "Epoch 12/50\n",
            "1875/1875 [==============================] - 5s 3ms/step - loss: 0.1204 - accuracy: 0.9535 - val_loss: 0.4979 - val_accuracy: 0.8859\n",
            "Epoch 13/50\n",
            "1875/1875 [==============================] - 5s 3ms/step - loss: 0.1204 - accuracy: 0.9553 - val_loss: 0.5535 - val_accuracy: 0.8847\n",
            "Epoch 14/50\n",
            "1875/1875 [==============================] - 5s 3ms/step - loss: 0.1171 - accuracy: 0.9557 - val_loss: 0.5520 - val_accuracy: 0.8832\n",
            "Epoch 15/50\n",
            "1875/1875 [==============================] - 5s 3ms/step - loss: 0.1154 - accuracy: 0.9558 - val_loss: 0.5282 - val_accuracy: 0.8845\n",
            "Epoch 16/50\n",
            "1875/1875 [==============================] - 5s 3ms/step - loss: 0.1183 - accuracy: 0.9557 - val_loss: 0.5389 - val_accuracy: 0.8824\n",
            "Epoch 17/50\n",
            "1875/1875 [==============================] - 5s 3ms/step - loss: 0.1183 - accuracy: 0.9545 - val_loss: 0.5638 - val_accuracy: 0.8807\n",
            "Epoch 18/50\n",
            "1875/1875 [==============================] - 5s 3ms/step - loss: 0.1100 - accuracy: 0.9579 - val_loss: 0.5620 - val_accuracy: 0.8846\n",
            "Epoch 19/50\n",
            "1875/1875 [==============================] - 5s 3ms/step - loss: 0.1204 - accuracy: 0.9546 - val_loss: 0.5467 - val_accuracy: 0.8866\n",
            "Epoch 20/50\n",
            "1875/1875 [==============================] - 5s 3ms/step - loss: 0.1115 - accuracy: 0.9575 - val_loss: 0.5703 - val_accuracy: 0.8894\n",
            "Epoch 21/50\n",
            "1875/1875 [==============================] - 5s 3ms/step - loss: 0.1137 - accuracy: 0.9573 - val_loss: 0.5533 - val_accuracy: 0.8872\n",
            "Epoch 22/50\n",
            "1875/1875 [==============================] - 5s 3ms/step - loss: 0.1134 - accuracy: 0.9573 - val_loss: 0.5855 - val_accuracy: 0.8858\n",
            "Epoch 00022: early stopping\n"
          ]
        }
      ]
    },
    {
      "cell_type": "code",
      "source": [
        "loss = history.history['loss']\n",
        "val_loss = history.history['val_loss']\n",
        "\n",
        "plt.figure()\n",
        "plt.plot(loss, 'ro-')\n",
        "plt.plot(val_loss, 'bo-')\n",
        "plt.ylabel('Cross Entropy')\n",
        "plt.xlabel('Epoch')\n",
        "plt.title('Training and Validation Loss')\n",
        "plt.show()"
      ],
      "metadata": {
        "colab": {
          "base_uri": "https://localhost:8080/",
          "height": 295
        },
        "id": "QsXTVm7bBvdz",
        "outputId": "fc12037c-9118-4a2b-c23f-5ef941193c13"
      },
      "execution_count": 21,
      "outputs": [
        {
          "output_type": "display_data",
          "data": {
            "image/png": "[encoded data removed]",
            "text/plain": [
              "<Figure size 432x288 with 1 Axes>"
            ]
          },
          "metadata": {
            "needs_background": "light"
          }
        }
      ]
    },
    {
      "cell_type": "markdown",
      "source": [
        "## Dropout"
      ],
      "metadata": {
        "id": "-VN11tZeCO4y"
      }
    },
    {
      "cell_type": "code",
      "source": [
        "class MyModel(tf.keras.Model):\n",
        "  def __init__(self):\n",
        "    super(MyModel, self).__init__()\n",
        "    self.flatten = tf.keras.layers.Flatten()\n",
        "    self.dense1 = tf.keras.layers.Dense(64, activation='relu')\n",
        "    self.dense2 = tf.keras.layers.Dense(64, activation='relu')\n",
        "    self.dense3 = tf.keras.layers.Dense(64, activation='relu')\n",
        "    self.dense4 = tf.keras.layers.Dense(128, activation='relu')\n",
        "    self.dropout4 = tf.keras.layers.Dropout(0.5)\n",
        "    self.dense5 = tf.keras.layers.Dense(10, activation='softmax')\n",
        "\n",
        "  def call(self, x, training=False, mask=None):\n",
        "    h = self.flatten(x)\n",
        "    h = self.dense1(h)\n",
        "    h = self.dense2(h)\n",
        "    h = self.dense3(h)\n",
        "    h = self.dense4(h)\n",
        "    h = self.dropout4(h)\n",
        "    return self.dense5(h)"
      ],
      "metadata": {
        "id": "8C4aCd3ZCP96"
      },
      "execution_count": 22,
      "outputs": []
    },
    {
      "cell_type": "code",
      "source": [
        "model = MyModel()\n",
        "\n",
        "model.compile(optimizer='adam',\n",
        "              loss='sparse_categorical_crossentropy',\n",
        "              metrics=['accuracy'])"
      ],
      "metadata": {
        "id": "I6REbV3TCo6T"
      },
      "execution_count": 23,
      "outputs": []
    },
    {
      "cell_type": "code",
      "source": [
        "history = model.fit(train_ds, validation_data=test_ds, epochs=EPOCH, callbacks=[earlystopper])"
      ],
      "metadata": {
        "colab": {
          "base_uri": "https://localhost:8080/"
        },
        "id": "FZNIASDACxX5",
        "outputId": "c748da9e-c65b-4d6e-e9e5-b8e14754dfb9"
      },
      "execution_count": 24,
      "outputs": [
        {
          "output_type": "stream",
          "name": "stdout",
          "text": [
            "Epoch 1/50\n",
            "1875/1875 [==============================] - 6s 3ms/step - loss: 0.5902 - accuracy: 0.7908 - val_loss: 0.4296 - val_accuracy: 0.8382\n",
            "Epoch 2/50\n",
            "1875/1875 [==============================] - 5s 3ms/step - loss: 0.4153 - accuracy: 0.8521 - val_loss: 0.3993 - val_accuracy: 0.8556\n",
            "Epoch 3/50\n",
            "1875/1875 [==============================] - 5s 3ms/step - loss: 0.3775 - accuracy: 0.8644 - val_loss: 0.4123 - val_accuracy: 0.8562\n",
            "Epoch 4/50\n",
            "1875/1875 [==============================] - 5s 3ms/step - loss: 0.3504 - accuracy: 0.8742 - val_loss: 0.3814 - val_accuracy: 0.8591\n",
            "Epoch 5/50\n",
            "1875/1875 [==============================] - 5s 3ms/step - loss: 0.3356 - accuracy: 0.8776 - val_loss: 0.3772 - val_accuracy: 0.8680\n",
            "Epoch 6/50\n",
            "1875/1875 [==============================] - 5s 3ms/step - loss: 0.3218 - accuracy: 0.8835 - val_loss: 0.3808 - val_accuracy: 0.8651\n",
            "Epoch 7/50\n",
            "1875/1875 [==============================] - 6s 3ms/step - loss: 0.3104 - accuracy: 0.8874 - val_loss: 0.3641 - val_accuracy: 0.8724\n",
            "Epoch 8/50\n",
            "1875/1875 [==============================] - 5s 3ms/step - loss: 0.3003 - accuracy: 0.8899 - val_loss: 0.3825 - val_accuracy: 0.8602\n",
            "Epoch 9/50\n",
            "1875/1875 [==============================] - 5s 3ms/step - loss: 0.2928 - accuracy: 0.8930 - val_loss: 0.3729 - val_accuracy: 0.8653\n",
            "Epoch 10/50\n",
            "1875/1875 [==============================] - 5s 3ms/step - loss: 0.2817 - accuracy: 0.8965 - val_loss: 0.3476 - val_accuracy: 0.8776\n",
            "Epoch 11/50\n",
            "1875/1875 [==============================] - 5s 3ms/step - loss: 0.2772 - accuracy: 0.8982 - val_loss: 0.3515 - val_accuracy: 0.8764\n",
            "Epoch 12/50\n",
            "1875/1875 [==============================] - 5s 3ms/step - loss: 0.2716 - accuracy: 0.9000 - val_loss: 0.3600 - val_accuracy: 0.8766\n",
            "Epoch 13/50\n",
            "1875/1875 [==============================] - 5s 3ms/step - loss: 0.2654 - accuracy: 0.9012 - val_loss: 0.3455 - val_accuracy: 0.8822\n",
            "Epoch 14/50\n",
            "1875/1875 [==============================] - 5s 3ms/step - loss: 0.2602 - accuracy: 0.9038 - val_loss: 0.3837 - val_accuracy: 0.8782\n",
            "Epoch 15/50\n",
            "1875/1875 [==============================] - 5s 3ms/step - loss: 0.2554 - accuracy: 0.9055 - val_loss: 0.3550 - val_accuracy: 0.8829\n",
            "Epoch 16/50\n",
            "1875/1875 [==============================] - 5s 3ms/step - loss: 0.2506 - accuracy: 0.9069 - val_loss: 0.3732 - val_accuracy: 0.8761\n",
            "Epoch 17/50\n",
            "1875/1875 [==============================] - 5s 3ms/step - loss: 0.2500 - accuracy: 0.9073 - val_loss: 0.3830 - val_accuracy: 0.8782\n",
            "Epoch 18/50\n",
            "1875/1875 [==============================] - 5s 3ms/step - loss: 0.2433 - accuracy: 0.9101 - val_loss: 0.3777 - val_accuracy: 0.8843\n",
            "Epoch 19/50\n",
            "1875/1875 [==============================] - 5s 3ms/step - loss: 0.2390 - accuracy: 0.9115 - val_loss: 0.3860 - val_accuracy: 0.8840\n",
            "Epoch 20/50\n",
            "1875/1875 [==============================] - 5s 3ms/step - loss: 0.2332 - accuracy: 0.9119 - val_loss: 0.3654 - val_accuracy: 0.8804\n",
            "Epoch 21/50\n",
            "1875/1875 [==============================] - 5s 3ms/step - loss: 0.2334 - accuracy: 0.9121 - val_loss: 0.3725 - val_accuracy: 0.8798\n",
            "Epoch 22/50\n",
            "1875/1875 [==============================] - 5s 3ms/step - loss: 0.2287 - accuracy: 0.9141 - val_loss: 0.3978 - val_accuracy: 0.8797\n",
            "Epoch 23/50\n",
            "1875/1875 [==============================] - 5s 3ms/step - loss: 0.2245 - accuracy: 0.9153 - val_loss: 0.3779 - val_accuracy: 0.8877\n",
            "Epoch 00023: early stopping\n"
          ]
        }
      ]
    },
    {
      "cell_type": "code",
      "source": [
        "loss = history.history['loss']\n",
        "val_loss = history.history['val_loss']\n",
        "\n",
        "plt.figure()\n",
        "plt.plot(loss, 'ro-')\n",
        "plt.plot(val_loss, 'bo-')\n",
        "plt.ylabel('Cross Entropy')\n",
        "plt.xlabel('Epoch')\n",
        "plt.title('Training and Validation Loss')\n",
        "plt.show()"
      ],
      "metadata": {
        "colab": {
          "base_uri": "https://localhost:8080/",
          "height": 295
        },
        "outputId": "3db238dd-fa72-486c-beb1-ace217a8abd3",
        "id": "3FkTe5KUD6GD"
      },
      "execution_count": 25,
      "outputs": [
        {
          "output_type": "display_data",
          "data": {
            "image/png": "[encoded data removed]",
            "text/plain": [
              "<Figure size 432x288 with 1 Axes>"
            ]
          },
          "metadata": {
            "needs_background": "light"
          }
        }
      ]
    }
  ]
}