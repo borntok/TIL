{
  "cells": [
    {
      "cell_type": "markdown",
      "metadata": {
        "id": "cBavyqsdlfmk"
      },
      "source": [
        "# Graient Descent 최적화 구현"
      ]
    },
    {
      "cell_type": "code",
      "execution_count": 1,
      "metadata": {
        "id": "nGmCQhssl0NT"
      },
      "outputs": [],
      "source": [
        "import numpy as np\n",
        "import matplotlib.pyplot as plt"
      ]
    },
    {
      "cell_type": "markdown",
      "metadata": {
        "id": "fHr7kbwjlll6"
      },
      "source": [
        "## 손실 함수 정의 (Analytic)"
      ]
    },
    {
      "cell_type": "code",
      "execution_count": 2,
      "metadata": {
        "id": "4SdOtZi9lZxT"
      },
      "outputs": [],
      "source": [
        "def f(x):\n",
        "  return 0.1*x**4 - 1.5*x**3 + 0.6*x**2 + 1.0*x + 20.0"
      ]
    },
    {
      "cell_type": "markdown",
      "metadata": {
        "id": "ccJs7iFsl3o2"
      },
      "source": [
        "## 손실 함수 미분 정의"
      ]
    },
    {
      "cell_type": "code",
      "execution_count": 3,
      "metadata": {
        "id": "TlVKpu65l2zn"
      },
      "outputs": [],
      "source": [
        "def df_dx(x):\n",
        "  return 0.4*x**3 - 4.5*x**2 + 1.2*x +1.0"
      ]
    },
    {
      "cell_type": "markdown",
      "metadata": {
        "id": "u46TIaQQmEJE"
      },
      "source": [
        "## 하이퍼파라미터 정의"
      ]
    },
    {
      "cell_type": "code",
      "execution_count": 4,
      "metadata": {
        "id": "eDAI4420l1zo"
      },
      "outputs": [],
      "source": [
        "x = 5\n",
        "eps = 1e-5\n",
        "lr = 0.01\n",
        "max_iter = 1000"
      ]
    },
    {
      "cell_type": "markdown",
      "metadata": {
        "id": "p4e4lOtrmP1J"
      },
      "source": [
        "## Gradient Descent 알고리즘 구현"
      ]
    },
    {
      "cell_type": "code",
      "execution_count": 5,
      "metadata": {
        "id": "ECnORQB7mPPD"
      },
      "outputs": [],
      "source": [
        "min_x = x\n",
        "min_y = f(min_x)\n",
        "\n",
        "for _ in range(max_iter):\n",
        "  grad = df_dx(x)\n",
        "  new_x = x - lr * grad\n",
        "  y = f(new_x)\n",
        "\n",
        "  if min_y > y :\n",
        "    min_x = new_x\n",
        "    min_y = y\n",
        "\n",
        "  if np.abs(x - new_x) < eps:\n",
        "    break\n",
        "\n",
        "  x = new_x"
      ]
    },
    {
      "cell_type": "code",
      "execution_count": 6,
      "metadata": {
        "colab": {
          "base_uri": "https://localhost:8080/"
        },
        "id": "i9qRevNYmxIp",
        "outputId": "a5d4d976-3b77-4aa9-b8fc-2c122456bc44"
      },
      "outputs": [
        {
          "name": "stdout",
          "output_type": "stream",
          "text": [
            "10.955323272631201 -428.84677390087836\n"
          ]
        }
      ],
      "source": [
        "print(min_x, min_y)"
      ]
    },
    {
      "cell_type": "markdown",
      "metadata": {
        "id": "xV0RpaZRnYH_"
      },
      "source": [
        "## Visualization"
      ]
    },
    {
      "cell_type": "code",
      "execution_count": 7,
      "metadata": {
        "id": "KMTstcXVm2Is"
      },
      "outputs": [],
      "source": [
        "def gradient_descent(initial_x, learning_rate=0.01, eps=1e-5, max_iter=1000):\n",
        "  x = initial_x\n",
        "\n",
        "  x_log = [x]\n",
        "\n",
        "  min_x = x\n",
        "  min_y = f(min_x)\n",
        "\n",
        "  for _ in range(max_iter):\n",
        "    grad = df_dx(x)\n",
        "    new_x = x - learning_rate * grad\n",
        "    y = f(new_x)\n",
        "\n",
        "    x_log.append(new_x)\n",
        "\n",
        "    if min_y > y :\n",
        "      min_x = new_x\n",
        "      min_y = y\n",
        "\n",
        "    if np.abs(x - new_x) < eps:\n",
        "      break\n",
        "\n",
        "    x = new_x\n",
        "\n",
        "  return min_x, min_y, x_log"
      ]
    },
    {
      "cell_type": "code",
      "execution_count": 8,
      "metadata": {
        "colab": {
          "base_uri": "https://localhost:8080/",
          "height": 265
        },
        "id": "2ls-oHEhoAwH",
        "outputId": "e6cd0e7b-a17f-47ea-ec58-f8221671fab4"
      },
      "outputs": [
        {
          "data": {
            "image/png": "[encoded data removed]",
            "text/plain": [
              "<Figure size 432x288 with 1 Axes>"
            ]
          },
          "metadata": {
            "needs_background": "light"
          },
          "output_type": "display_data"
        }
      ],
      "source": [
        "min_x1, min_y1, x_log1 = gradient_descent(initial_x=5)\n",
        "min_x2, min_y2, x_log2 = gradient_descent(initial_x=-5)\n",
        "min_x3, min_y3, x_log3 = gradient_descent(initial_x=0)\n",
        "min_x4, min_y4, x_log4 = gradient_descent(initial_x=15, learning_rate=0.005)\n",
        "\n",
        "y_log1 = f(np.array(x_log1))\n",
        "y_log2 = f(np.array(x_log2))\n",
        "y_log3 = f(np.array(x_log3))\n",
        "y_log4 = f(np.array(x_log4))\n",
        "\n",
        "plt.plot(x_log1, y_log1, '.-')\n",
        "plt.plot(x_log2, y_log2, '.-')\n",
        "plt.plot(x_log3, y_log3, '.-')\n",
        "plt.plot(x_log4, y_log4, '.-')\n",
        "plt.show()"
      ]
    }
  ],
  "metadata": {
    "colab": {
      "name": "6-1 NN.ipynb",
      "provenance": [],
      "toc_visible": true
    },
    "kernelspec": {
      "display_name": "Python 3",
      "name": "python3"
    },
    "language_info": {
      "name": "python"
    }
  },
  "nbformat": 4,
  "nbformat_minor": 0
}
