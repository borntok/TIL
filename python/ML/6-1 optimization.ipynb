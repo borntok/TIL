{
  "nbformat": 4,
  "nbformat_minor": 0,
  "metadata": {
    "colab": {
      "name": "6-1 NN.ipynb",
      "provenance": [],
      "toc_visible": true
    },
    "kernelspec": {
      "name": "python3",
      "display_name": "Python 3"
    },
    "language_info": {
      "name": "python"
    }
  },
  "cells": [
    {
      "cell_type": "markdown",
      "source": [
        "# Graient Descent 최적화 구현"
      ],
      "metadata": {
        "id": "cBavyqsdlfmk"
      }
    },
    {
      "cell_type": "code",
      "source": [
        "import numpy as np\n",
        "import matplotlib.pyplot as plt"
      ],
      "metadata": {
        "id": "nGmCQhssl0NT"
      },
      "execution_count": 1,
      "outputs": []
    },
    {
      "cell_type": "markdown",
      "source": [
        "## 손실 함수 정의 (Analytic)"
      ],
      "metadata": {
        "id": "fHr7kbwjlll6"
      }
    },
    {
      "cell_type": "code",
      "execution_count": 2,
      "metadata": {
        "id": "4SdOtZi9lZxT"
      },
      "outputs": [],
      "source": [
        "def f(x):\n",
        "  return 0.1*x**4 - 1.5*x**3 + 0.6*x**2 + 1.0*x + 20.0"
      ]
    },
    {
      "cell_type": "markdown",
      "source": [
        "## 손실 함수 미분 정의"
      ],
      "metadata": {
        "id": "ccJs7iFsl3o2"
      }
    },
    {
      "cell_type": "code",
      "source": [
        "def df_dx(x):\n",
        "  return 0.4*x**3 - 4.5*x**2 + 1.2*x +1.0"
      ],
      "metadata": {
        "id": "TlVKpu65l2zn"
      },
      "execution_count": 3,
      "outputs": []
    },
    {
      "cell_type": "markdown",
      "source": [
        "## 하이퍼파라미터 정의"
      ],
      "metadata": {
        "id": "u46TIaQQmEJE"
      }
    },
    {
      "cell_type": "code",
      "source": [
        "x = 5\n",
        "eps = 1e-5\n",
        "lr = 0.01\n",
        "max_iter = 1000"
      ],
      "metadata": {
        "id": "eDAI4420l1zo"
      },
      "execution_count": 4,
      "outputs": []
    },
    {
      "cell_type": "markdown",
      "source": [
        "## Gradient Descent 알고리즘 구현"
      ],
      "metadata": {
        "id": "p4e4lOtrmP1J"
      }
    },
    {
      "cell_type": "code",
      "source": [
        "min_x = x\n",
        "min_y = f(min_x)\n",
        "\n",
        "for _ in range(max_iter):\n",
        "  grad = df_dx(x)\n",
        "  new_x = x - lr * grad\n",
        "  y = f(new_x)\n",
        "\n",
        "  if min_y > y :\n",
        "    min_x = new_x\n",
        "    min_y = y\n",
        "\n",
        "  if np.abs(x - new_x) < eps:\n",
        "    break\n",
        "\n",
        "  x = new_x"
      ],
      "metadata": {
        "id": "ECnORQB7mPPD"
      },
      "execution_count": 5,
      "outputs": []
    },
    {
      "cell_type": "code",
      "source": [
        "print(min_x, min_y)"
      ],
      "metadata": {
        "colab": {
          "base_uri": "https://localhost:8080/"
        },
        "id": "i9qRevNYmxIp",
        "outputId": "a5d4d976-3b77-4aa9-b8fc-2c122456bc44"
      },
      "execution_count": 6,
      "outputs": [
        {
          "output_type": "stream",
          "name": "stdout",
          "text": [
            "10.955323272631201 -428.84677390087836\n"
          ]
        }
      ]
    },
    {
      "cell_type": "markdown",
      "source": [
        "## Visualization"
      ],
      "metadata": {
        "id": "xV0RpaZRnYH_"
      }
    },
    {
      "cell_type": "code",
      "source": [
        "def gradient_descent(initial_x, learning_rate=0.01, eps=1e-5, max_iter=1000):\n",
        "  x = initial_x\n",
        "\n",
        "  x_log = [x]\n",
        "\n",
        "  min_x = x\n",
        "  min_y = f(min_x)\n",
        "\n",
        "  for _ in range(max_iter):\n",
        "    grad = df_dx(x)\n",
        "    new_x = x - learning_rate * grad\n",
        "    y = f(new_x)\n",
        "\n",
        "    x_log.append(new_x)\n",
        "\n",
        "    if min_y > y :\n",
        "      min_x = new_x\n",
        "      min_y = y\n",
        "\n",
        "    if np.abs(x - new_x) < eps:\n",
        "      break\n",
        "\n",
        "    x = new_x\n",
        "\n",
        "  return min_x, min_y, x_log"
      ],
      "metadata": {
        "id": "KMTstcXVm2Is"
      },
      "execution_count": 7,
      "outputs": []
    },
    {
      "cell_type": "code",
      "source": [
        "min_x1, min_y1, x_log1 = gradient_descent(initial_x=5)\n",
        "min_x2, min_y2, x_log2 = gradient_descent(initial_x=-5)\n",
        "min_x3, min_y3, x_log3 = gradient_descent(initial_x=0)\n",
        "min_x4, min_y4, x_log4 = gradient_descent(initial_x=15, learning_rate=0.005)\n",
        "\n",
        "y_log1 = f(np.array(x_log1))\n",
        "y_log2 = f(np.array(x_log2))\n",
        "y_log3 = f(np.array(x_log3))\n",
        "y_log4 = f(np.array(x_log4))\n",
        "\n",
        "plt.plot(x_log1, y_log1, '.-')\n",
        "plt.plot(x_log2, y_log2, '.-')\n",
        "plt.plot(x_log3, y_log3, '.-')\n",
        "plt.plot(x_log4, y_log4, '.-')\n",
        "plt.show()"
      ],
      "metadata": {
        "colab": {
          "base_uri": "https://localhost:8080/",
          "height": 265
        },
        "id": "2ls-oHEhoAwH",
        "outputId": "e6cd0e7b-a17f-47ea-ec58-f8221671fab4"
      },
      "execution_count": 8,
      "outputs": [
        {
          "output_type": "display_data",
          "data": {
            "image/png": "[encoded data removed]",
            "text/plain": [
              "<Figure size 432x288 with 1 Axes>"
            ]
          },
          "metadata": {
            "needs_background": "light"
          }
        }
      ]
    },
    {
      "cell_type": "markdown",
      "source": [
        "# 수치 미분을 이용한 심층 신경망 학습"
      ],
      "metadata": {
        "id": "IF8ot5_TCq9W"
      }
    },
    {
      "cell_type": "code",
      "source": [
        "import time"
      ],
      "metadata": {
        "id": "Ah5iXpQ1ouJ2"
      },
      "execution_count": 9,
      "outputs": []
    },
    {
      "cell_type": "markdown",
      "source": [
        "## 유틸리티 함수"
      ],
      "metadata": {
        "id": "zYx92qbACw9t"
      }
    },
    {
      "cell_type": "code",
      "source": [
        "epsilon = 0.0001\n",
        "\n",
        "def _t(x):\n",
        "  return np.transpose(x)\n",
        "\n",
        "def _m(A, B):\n",
        "  return np.matmul(A, B)\n",
        "\n",
        "def sigmoid(x):\n",
        "  return 1 / (1 + np.exp(-x))\n",
        "\n",
        "def mean_squared_error(h, y):\n",
        "  return 1 / 2 * np.mean(np.square(h - y))"
      ],
      "metadata": {
        "id": "i7Ri9enfCwJG"
      },
      "execution_count": 10,
      "outputs": []
    },
    {
      "cell_type": "markdown",
      "source": [
        "## 뉴런 구현"
      ],
      "metadata": {
        "id": "8da0DTFTDKwV"
      }
    },
    {
      "cell_type": "code",
      "source": [
        "from numpy.core.numeric import zeros_like\n",
        "class Dense:\n",
        "  def __init__(self, W, b, a):\n",
        "    self.W = W\n",
        "    self.b = b\n",
        "    self.a = a\n",
        "\n",
        "    self.dW = np.zeros_like(self.W)\n",
        "    self.db = np.zeros_like(self.b)\n",
        "\n",
        "  def __call__(self, x):\n",
        "    return self.a(_m(_t(self.W), x) + self.b)"
      ],
      "metadata": {
        "id": "gYmG_QGiDKJQ"
      },
      "execution_count": 11,
      "outputs": []
    },
    {
      "cell_type": "markdown",
      "source": [
        "## 심층신경망 구현"
      ],
      "metadata": {
        "id": "ZwjUlouxDdy8"
      }
    },
    {
      "cell_type": "code",
      "source": [
        "class DNN:\n",
        "  def __init__(self, hidden_depth, num_neuron, num_input, num_output, activation=sigmoid):\n",
        "    def init_var(i, o):\n",
        "      return np.random.normal(0.0, 0.01, (i, o)), np.zeros((o,))\n",
        "\n",
        "    self.sequence = list()\n",
        "    # First hidden layer\n",
        "    W, b = init_var(num_input, num_neuron)\n",
        "    self.sequence.append(Dense(W, b, activation))\n",
        "\n",
        "    # Hidden layers\n",
        "    for _ in range(hidden_depth-1):\n",
        "      W, b = init_var(num_neuron, num_neuron)\n",
        "      self.sequence.append(Dense(W, b, activation))\n",
        "\n",
        "    # Output layer\n",
        "    W, b = init_var(num_neuron, num_output)\n",
        "    self.sequence.append(Dense(W, b, activation))\n",
        "\n",
        "  def __call__(self, x):\n",
        "    for layer in self.sequence:\n",
        "      x = layer(x)\n",
        "    return x\n",
        "\n",
        "  def calc_gradient(self, x, y, loss_func):\n",
        "    def get_new_sequence(layer_index, new_layer):\n",
        "      new_sequence = list()\n",
        "      for i, layer in enumerate(self.sequence):\n",
        "        if i == layer_index:\n",
        "          new_sequence.append(new_layer)\n",
        "        else:\n",
        "          new_sequence.append(layer)\n",
        "      return new_sequence\n",
        "\n",
        "    def eval_sequence(x, sequence):\n",
        "      for layer in sequence:\n",
        "        x = layer(x)\n",
        "      return x\n",
        "\n",
        "    loss = loss_func(self(x), y)\n",
        "\n",
        "    for layer_id, layer in enumerate(self.sequence):\n",
        "      for w_i, w in enumerate(layer.W):\n",
        "        for w_j, ww in enumerate(w):\n",
        "          W = np.copy(layer.W)\n",
        "          W[w_i][w_j] = ww + epsilon\n",
        "\n",
        "          new_layer = Dense(W, layer.b, layer.a)\n",
        "          new_seq = get_new_sequence(layer_id, new_layer)\n",
        "          h = eval_sequence(x, new_seq)\n",
        "\n",
        "          num_grad = (loss_func(h, y) - loss) / epsilon # (f(x+eps) - f(x)) / eps\n",
        "          layer.dW[w_i][w_j] = num_grad\n",
        "\n",
        "      for b_i, bb in enumerate(layer.b):\n",
        "          b = np.copy(layer.b)\n",
        "          b[b_i] = bb + epsilon\n",
        "\n",
        "          new_layer = Dense(layer.W, b, layer.a)\n",
        "          new_seq = get_new_sequence(layer_id, new_layer)\n",
        "          h = eval_sequence(x, new_seq)\n",
        "\n",
        "          num_grad = (loss_func(h, y) - loss) / epsilon # (f(x+eps) - f(x)) / eps\n",
        "          layer.db[b_i] = num_grad\n",
        "\n",
        "    return loss"
      ],
      "metadata": {
        "id": "Elem2Tk0DfLL"
      },
      "execution_count": 15,
      "outputs": []
    },
    {
      "cell_type": "markdown",
      "source": [
        "## 경사하강 학습법"
      ],
      "metadata": {
        "id": "yD26_y9j4pMt"
      }
    },
    {
      "cell_type": "code",
      "source": [
        "def gradient_descent(network, x, y, loss_obj, alpha=0.01):\n",
        "  loss = network.calc_gradient(x, y, loss_obj)\n",
        "  for layer in network.sequence:\n",
        "    layer.W += -alpha * layer.dW\n",
        "    layer.b += -alpha * layer.db\n",
        "  return loss"
      ],
      "metadata": {
        "id": "0g0toqhq4q2w"
      },
      "execution_count": 16,
      "outputs": []
    },
    {
      "cell_type": "markdown",
      "source": [
        "## 동작 테스트"
      ],
      "metadata": {
        "id": "cGMqIyz45B0o"
      }
    },
    {
      "cell_type": "code",
      "source": [
        "x = np.random.normal(0.0, 1.0, (10,))\n",
        "y = np.random.normal(0.0, 1.0, (2,))\n",
        "\n",
        "dnn = DNN(hidden_depth=10, num_neuron=32, num_input=10, num_output=2, activation=sigmoid)\n",
        "\n",
        "t = time.time()\n",
        "\n",
        "for epoch in range(100):\n",
        "  loss = gradient_descent(dnn, x, y, mean_squared_error, 0.01)\n",
        "  print(f'Epoch {epoch}: Test loss {loss}')\n",
        "print(f'{time.time() - t} seconds elapsed')"
      ],
      "metadata": {
        "colab": {
          "base_uri": "https://localhost:8080/"
        },
        "id": "Gislxph85Arp",
        "outputId": "9fb2a31c-ddcf-4463-fb47-09c039baa1f5"
      },
      "execution_count": 18,
      "outputs": [
        {
          "output_type": "stream",
          "name": "stdout",
          "text": [
            "Epoch 0: Test loss 0.8909169577281527\n",
            "Epoch 1: Test loss 0.8859158064490396\n",
            "Epoch 2: Test loss 0.8809428785938215\n",
            "Epoch 3: Test loss 0.8759990911317044\n",
            "Epoch 4: Test loss 0.871085327538994\n",
            "Epoch 5: Test loss 0.8662024372498569\n",
            "Epoch 6: Test loss 0.8613512351940795\n",
            "Epoch 7: Test loss 0.8565325014227139\n",
            "Epoch 8: Test loss 0.8517469808190279\n",
            "Epoch 9: Test loss 0.8469953828933816\n",
            "Epoch 10: Test loss 0.8422783816602645\n",
            "Epoch 11: Test loss 0.8375966155953063\n",
            "Epoch 12: Test loss 0.8329506876690087\n",
            "Epoch 13: Test loss 0.8283411654553323\n",
            "Epoch 14: Test loss 0.8237685813111957\n",
            "Epoch 15: Test loss 0.8192334326247535\n",
            "Epoch 16: Test loss 0.8147361821276795\n",
            "Epoch 17: Test loss 0.8102772582697204\n",
            "Epoch 18: Test loss 0.8058570556501715\n",
            "Epoch 19: Test loss 0.8014759355041439\n",
            "Epoch 20: Test loss 0.7971342262386161\n",
            "Epoch 21: Test loss 0.7928322240153858\n",
            "Epoch 22: Test loss 0.7885701933766247\n",
            "Epoch 23: Test loss 0.7843483679099246\n",
            "Epoch 24: Test loss 0.7801669509481637\n",
            "Epoch 25: Test loss 0.7760261163015514\n",
            "Epoch 26: Test loss 0.7719260090174999\n",
            "Epoch 27: Test loss 0.7678667461650943\n",
            "Epoch 28: Test loss 0.7638484176408779\n",
            "Epoch 29: Test loss 0.7598710869923142\n",
            "Epoch 30: Test loss 0.7559347922560828\n",
            "Epoch 31: Test loss 0.7520395468079484\n",
            "Epoch 32: Test loss 0.7481853402210366\n",
            "Epoch 33: Test loss 0.7443721391303609\n",
            "Epoch 34: Test loss 0.7405998881004461\n",
            "Epoch 35: Test loss 0.7368685104936084\n",
            "Epoch 36: Test loss 0.7331779093368285\n",
            "Epoch 37: Test loss 0.7295279681846567\n",
            "Epoch 38: Test loss 0.725918551976301\n",
            "Epoch 39: Test loss 0.7223495078851735\n",
            "Epoch 40: Test loss 0.7188206661586901\n",
            "Epoch 41: Test loss 0.7153318409473154\n",
            "Epoch 42: Test loss 0.7118828311207913\n",
            "Epoch 43: Test loss 0.7084734210707895\n",
            "Epoch 44: Test loss 0.7051033814983545\n",
            "Epoch 45: Test loss 0.7017724701854604\n",
            "Epoch 46: Test loss 0.698480432749329\n",
            "Epoch 47: Test loss 0.6952270033791836\n",
            "Epoch 48: Test loss 0.6920119055544562\n",
            "Epoch 49: Test loss 0.6888348527437373\n",
            "Epoch 50: Test loss 0.6856955490844475\n",
            "Epoch 51: Test loss 0.6825936900423141\n",
            "Epoch 52: Test loss 0.6795289630507002\n",
            "Epoch 53: Test loss 0.6765010481294793\n",
            "Epoch 54: Test loss 0.6735096184832005\n",
            "Epoch 55: Test loss 0.6705543410788222\n",
            "Epoch 56: Test loss 0.6676348772024893\n",
            "Epoch 57: Test loss 0.6647508829958972\n",
            "Epoch 58: Test loss 0.6619020099722046\n",
            "Epoch 59: Test loss 0.6590879055114789\n",
            "Epoch 60: Test loss 0.656308213336349\n",
            "Epoch 61: Test loss 0.6535625739675328\n",
            "Epoch 62: Test loss 0.6508506251600601\n",
            "Epoch 63: Test loss 0.6481720023202722\n",
            "Epoch 64: Test loss 0.6455263389039599\n",
            "Epoch 65: Test loss 0.6429132667961497\n",
            "Epoch 66: Test loss 0.640332416672857\n",
            "Epoch 67: Test loss 0.6377834183451473\n",
            "Epoch 68: Test loss 0.6352659010863091\n",
            "Epoch 69: Test loss 0.632779493942069\n",
            "Epoch 70: Test loss 0.6303238260248283\n",
            "Epoch 71: Test loss 0.6278985267920085\n",
            "Epoch 72: Test loss 0.6255032263092294\n",
            "Epoch 73: Test loss 0.623137555498682\n",
            "Epoch 74: Test loss 0.6208011463732791\n",
            "Epoch 75: Test loss 0.6184936322570405\n",
            "Epoch 76: Test loss 0.6162146479919935\n",
            "Epoch 77: Test loss 0.6139638301324923\n",
            "Epoch 78: Test loss 0.6117408171270388\n",
            "Epoch 79: Test loss 0.609545249488239\n",
            "Epoch 80: Test loss 0.6073767699514849\n",
            "Epoch 81: Test loss 0.6052350236224755\n",
            "Epoch 82: Test loss 0.6031196581144243\n",
            "Epoch 83: Test loss 0.6010303236750972\n",
            "Epoch 84: Test loss 0.5989666733042895\n",
            "Epoch 85: Test loss 0.5969283628620345\n",
            "Epoch 86: Test loss 0.5949150511680136\n",
            "Epoch 87: Test loss 0.5929264000926839\n",
            "Epoch 88: Test loss 0.5909620746402056\n",
            "Epoch 89: Test loss 0.5890217430238692\n",
            "Epoch 90: Test loss 0.5871050767342396\n",
            "Epoch 91: Test loss 0.5852117506003387\n",
            "Epoch 92: Test loss 0.58334144284433\n",
            "Epoch 93: Test loss 0.5814938351298752\n",
            "Epoch 94: Test loss 0.5796686126046191\n",
            "Epoch 95: Test loss 0.577865463937121\n",
            "Epoch 96: Test loss 0.5760840813483429\n",
            "Epoch 97: Test loss 0.574324160638271\n",
            "Epoch 98: Test loss 0.5725854012076296\n",
            "Epoch 99: Test loss 0.5708675060752346\n",
            "163.14430475234985 seconds elapsed\n"
          ]
        }
      ]
    },
    {
      "cell_type": "code",
      "source": [
        ""
      ],
      "metadata": {
        "id": "0S_OF5j5N6o_"
      },
      "execution_count": null,
      "outputs": []
    }
  ]
}