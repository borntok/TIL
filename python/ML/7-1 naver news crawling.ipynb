{
  "nbformat": 4,
  "nbformat_minor": 0,
  "metadata": {
    "colab": {
      "name": "7-1 네이버 기사 크롤러 만들기",
      "provenance": []
    },
    "kernelspec": {
      "name": "python3",
      "display_name": "Python 3"
    },
    "language_info": {
      "name": "python"
    },
    "accelerator": "GPU",
    "widgets": {
      "application/vnd.jupyter.widget-state+json": {
        "2b70e693986641fbb303b34296b5dcd6": {
          "model_module": "@jupyter-widgets/controls",
          "model_name": "HBoxModel",
          "model_module_version": "1.5.0",
          "state": {
            "_view_name": "HBoxView",
            "_dom_classes": [],
            "_model_name": "HBoxModel",
            "_view_module": "@jupyter-widgets/controls",
            "_model_module_version": "1.5.0",
            "_view_count": null,
            "_view_module_version": "1.5.0",
            "box_style": "",
            "layout": "IPY_MODEL_ed6550805324409e9a85fccc21c98b06",
            "_model_module": "@jupyter-widgets/controls",
            "children": [
              "IPY_MODEL_b58e61a2185841c7ae3d9c4bb3a13d91",
              "IPY_MODEL_c6b415f705cb4a9c877c5e9e9d44a3a7",
              "IPY_MODEL_f9bc2c050dfe496ab1ea89983b23ea2b"
            ]
          }
        },
        "ed6550805324409e9a85fccc21c98b06": {
          "model_module": "@jupyter-widgets/base",
          "model_name": "LayoutModel",
          "model_module_version": "1.2.0",
          "state": {
            "_view_name": "LayoutView",
            "grid_template_rows": null,
            "right": null,
            "justify_content": null,
            "_view_module": "@jupyter-widgets/base",
            "overflow": null,
            "_model_module_version": "1.2.0",
            "_view_count": null,
            "flex_flow": null,
            "width": null,
            "min_width": null,
            "border": null,
            "align_items": null,
            "bottom": null,
            "_model_module": "@jupyter-widgets/base",
            "top": null,
            "grid_column": null,
            "overflow_y": null,
            "overflow_x": null,
            "grid_auto_flow": null,
            "grid_area": null,
            "grid_template_columns": null,
            "flex": null,
            "_model_name": "LayoutModel",
            "justify_items": null,
            "grid_row": null,
            "max_height": null,
            "align_content": null,
            "visibility": null,
            "align_self": null,
            "height": null,
            "min_height": null,
            "padding": null,
            "grid_auto_rows": null,
            "grid_gap": null,
            "max_width": null,
            "order": null,
            "_view_module_version": "1.2.0",
            "grid_template_areas": null,
            "object_position": null,
            "object_fit": null,
            "grid_auto_columns": null,
            "margin": null,
            "display": null,
            "left": null
          }
        },
        "b58e61a2185841c7ae3d9c4bb3a13d91": {
          "model_module": "@jupyter-widgets/controls",
          "model_name": "HTMLModel",
          "model_module_version": "1.5.0",
          "state": {
            "_view_name": "HTMLView",
            "style": "IPY_MODEL_6e40175a9fc2406588a5d569b26e75fe",
            "_dom_classes": [],
            "description": "",
            "_model_name": "HTMLModel",
            "placeholder": "​",
            "_view_module": "@jupyter-widgets/controls",
            "_model_module_version": "1.5.0",
            "value": "100%",
            "_view_count": null,
            "_view_module_version": "1.5.0",
            "description_tooltip": null,
            "_model_module": "@jupyter-widgets/controls",
            "layout": "IPY_MODEL_1599d91e7c4948a0bb9f3dcb6335a616"
          }
        },
        "c6b415f705cb4a9c877c5e9e9d44a3a7": {
          "model_module": "@jupyter-widgets/controls",
          "model_name": "FloatProgressModel",
          "model_module_version": "1.5.0",
          "state": {
            "_view_name": "ProgressView",
            "style": "IPY_MODEL_b8ed88d06daf4ca2a46325b5b8e3db34",
            "_dom_classes": [],
            "description": "",
            "_model_name": "FloatProgressModel",
            "bar_style": "success",
            "max": 3,
            "_view_module": "@jupyter-widgets/controls",
            "_model_module_version": "1.5.0",
            "value": 3,
            "_view_count": null,
            "_view_module_version": "1.5.0",
            "orientation": "horizontal",
            "min": 0,
            "description_tooltip": null,
            "_model_module": "@jupyter-widgets/controls",
            "layout": "IPY_MODEL_61c08ef861df44ca813f55d287caacec"
          }
        },
        "f9bc2c050dfe496ab1ea89983b23ea2b": {
          "model_module": "@jupyter-widgets/controls",
          "model_name": "HTMLModel",
          "model_module_version": "1.5.0",
          "state": {
            "_view_name": "HTMLView",
            "style": "IPY_MODEL_1dfd7ecb9c9744d88f44437fd5d9800f",
            "_dom_classes": [],
            "description": "",
            "_model_name": "HTMLModel",
            "placeholder": "​",
            "_view_module": "@jupyter-widgets/controls",
            "_model_module_version": "1.5.0",
            "value": " 3/3 [00:23&lt;00:00,  7.76s/it]",
            "_view_count": null,
            "_view_module_version": "1.5.0",
            "description_tooltip": null,
            "_model_module": "@jupyter-widgets/controls",
            "layout": "IPY_MODEL_ac229ef07b6549c8b270205e1ae8dfeb"
          }
        },
        "6e40175a9fc2406588a5d569b26e75fe": {
          "model_module": "@jupyter-widgets/controls",
          "model_name": "DescriptionStyleModel",
          "model_module_version": "1.5.0",
          "state": {
            "_view_name": "StyleView",
            "_model_name": "DescriptionStyleModel",
            "description_width": "",
            "_view_module": "@jupyter-widgets/base",
            "_model_module_version": "1.5.0",
            "_view_count": null,
            "_view_module_version": "1.2.0",
            "_model_module": "@jupyter-widgets/controls"
          }
        },
        "1599d91e7c4948a0bb9f3dcb6335a616": {
          "model_module": "@jupyter-widgets/base",
          "model_name": "LayoutModel",
          "model_module_version": "1.2.0",
          "state": {
            "_view_name": "LayoutView",
            "grid_template_rows": null,
            "right": null,
            "justify_content": null,
            "_view_module": "@jupyter-widgets/base",
            "overflow": null,
            "_model_module_version": "1.2.0",
            "_view_count": null,
            "flex_flow": null,
            "width": null,
            "min_width": null,
            "border": null,
            "align_items": null,
            "bottom": null,
            "_model_module": "@jupyter-widgets/base",
            "top": null,
            "grid_column": null,
            "overflow_y": null,
            "overflow_x": null,
            "grid_auto_flow": null,
            "grid_area": null,
            "grid_template_columns": null,
            "flex": null,
            "_model_name": "LayoutModel",
            "justify_items": null,
            "grid_row": null,
            "max_height": null,
            "align_content": null,
            "visibility": null,
            "align_self": null,
            "height": null,
            "min_height": null,
            "padding": null,
            "grid_auto_rows": null,
            "grid_gap": null,
            "max_width": null,
            "order": null,
            "_view_module_version": "1.2.0",
            "grid_template_areas": null,
            "object_position": null,
            "object_fit": null,
            "grid_auto_columns": null,
            "margin": null,
            "display": null,
            "left": null
          }
        },
        "b8ed88d06daf4ca2a46325b5b8e3db34": {
          "model_module": "@jupyter-widgets/controls",
          "model_name": "ProgressStyleModel",
          "model_module_version": "1.5.0",
          "state": {
            "_view_name": "StyleView",
            "_model_name": "ProgressStyleModel",
            "description_width": "",
            "_view_module": "@jupyter-widgets/base",
            "_model_module_version": "1.5.0",
            "_view_count": null,
            "_view_module_version": "1.2.0",
            "bar_color": null,
            "_model_module": "@jupyter-widgets/controls"
          }
        },
        "61c08ef861df44ca813f55d287caacec": {
          "model_module": "@jupyter-widgets/base",
          "model_name": "LayoutModel",
          "model_module_version": "1.2.0",
          "state": {
            "_view_name": "LayoutView",
            "grid_template_rows": null,
            "right": null,
            "justify_content": null,
            "_view_module": "@jupyter-widgets/base",
            "overflow": null,
            "_model_module_version": "1.2.0",
            "_view_count": null,
            "flex_flow": null,
            "width": null,
            "min_width": null,
            "border": null,
            "align_items": null,
            "bottom": null,
            "_model_module": "@jupyter-widgets/base",
            "top": null,
            "grid_column": null,
            "overflow_y": null,
            "overflow_x": null,
            "grid_auto_flow": null,
            "grid_area": null,
            "grid_template_columns": null,
            "flex": null,
            "_model_name": "LayoutModel",
            "justify_items": null,
            "grid_row": null,
            "max_height": null,
            "align_content": null,
            "visibility": null,
            "align_self": null,
            "height": null,
            "min_height": null,
            "padding": null,
            "grid_auto_rows": null,
            "grid_gap": null,
            "max_width": null,
            "order": null,
            "_view_module_version": "1.2.0",
            "grid_template_areas": null,
            "object_position": null,
            "object_fit": null,
            "grid_auto_columns": null,
            "margin": null,
            "display": null,
            "left": null
          }
        },
        "1dfd7ecb9c9744d88f44437fd5d9800f": {
          "model_module": "@jupyter-widgets/controls",
          "model_name": "DescriptionStyleModel",
          "model_module_version": "1.5.0",
          "state": {
            "_view_name": "StyleView",
            "_model_name": "DescriptionStyleModel",
            "description_width": "",
            "_view_module": "@jupyter-widgets/base",
            "_model_module_version": "1.5.0",
            "_view_count": null,
            "_view_module_version": "1.2.0",
            "_model_module": "@jupyter-widgets/controls"
          }
        },
        "ac229ef07b6549c8b270205e1ae8dfeb": {
          "model_module": "@jupyter-widgets/base",
          "model_name": "LayoutModel",
          "model_module_version": "1.2.0",
          "state": {
            "_view_name": "LayoutView",
            "grid_template_rows": null,
            "right": null,
            "justify_content": null,
            "_view_module": "@jupyter-widgets/base",
            "overflow": null,
            "_model_module_version": "1.2.0",
            "_view_count": null,
            "flex_flow": null,
            "width": null,
            "min_width": null,
            "border": null,
            "align_items": null,
            "bottom": null,
            "_model_module": "@jupyter-widgets/base",
            "top": null,
            "grid_column": null,
            "overflow_y": null,
            "overflow_x": null,
            "grid_auto_flow": null,
            "grid_area": null,
            "grid_template_columns": null,
            "flex": null,
            "_model_name": "LayoutModel",
            "justify_items": null,
            "grid_row": null,
            "max_height": null,
            "align_content": null,
            "visibility": null,
            "align_self": null,
            "height": null,
            "min_height": null,
            "padding": null,
            "grid_auto_rows": null,
            "grid_gap": null,
            "max_width": null,
            "order": null,
            "_view_module_version": "1.2.0",
            "grid_template_areas": null,
            "object_position": null,
            "object_fit": null,
            "grid_auto_columns": null,
            "margin": null,
            "display": null,
            "left": null
          }
        },
        "e95dc6d1d9a54d2888e4fe1c0cafaf41": {
          "model_module": "@jupyter-widgets/controls",
          "model_name": "HBoxModel",
          "model_module_version": "1.5.0",
          "state": {
            "_view_name": "HBoxView",
            "_dom_classes": [],
            "_model_name": "HBoxModel",
            "_view_module": "@jupyter-widgets/controls",
            "_model_module_version": "1.5.0",
            "_view_count": null,
            "_view_module_version": "1.5.0",
            "box_style": "",
            "layout": "IPY_MODEL_892f2ecac4fb470e9f9dedbec7f6abde",
            "_model_module": "@jupyter-widgets/controls",
            "children": [
              "IPY_MODEL_3814830526184383b1b2a3117eae909e",
              "IPY_MODEL_58a7fdfa92254bb6ac1b7356ee6f1912",
              "IPY_MODEL_b22370ddabd44abba1ca0370fbb3a87f"
            ]
          }
        },
        "892f2ecac4fb470e9f9dedbec7f6abde": {
          "model_module": "@jupyter-widgets/base",
          "model_name": "LayoutModel",
          "model_module_version": "1.2.0",
          "state": {
            "_view_name": "LayoutView",
            "grid_template_rows": null,
            "right": null,
            "justify_content": null,
            "_view_module": "@jupyter-widgets/base",
            "overflow": null,
            "_model_module_version": "1.2.0",
            "_view_count": null,
            "flex_flow": null,
            "width": null,
            "min_width": null,
            "border": null,
            "align_items": null,
            "bottom": null,
            "_model_module": "@jupyter-widgets/base",
            "top": null,
            "grid_column": null,
            "overflow_y": null,
            "overflow_x": null,
            "grid_auto_flow": null,
            "grid_area": null,
            "grid_template_columns": null,
            "flex": null,
            "_model_name": "LayoutModel",
            "justify_items": null,
            "grid_row": null,
            "max_height": null,
            "align_content": null,
            "visibility": null,
            "align_self": null,
            "height": null,
            "min_height": null,
            "padding": null,
            "grid_auto_rows": null,
            "grid_gap": null,
            "max_width": null,
            "order": null,
            "_view_module_version": "1.2.0",
            "grid_template_areas": null,
            "object_position": null,
            "object_fit": null,
            "grid_auto_columns": null,
            "margin": null,
            "display": null,
            "left": null
          }
        },
        "3814830526184383b1b2a3117eae909e": {
          "model_module": "@jupyter-widgets/controls",
          "model_name": "HTMLModel",
          "model_module_version": "1.5.0",
          "state": {
            "_view_name": "HTMLView",
            "style": "IPY_MODEL_574fa72791184016b6ab2d38276a1625",
            "_dom_classes": [],
            "description": "",
            "_model_name": "HTMLModel",
            "placeholder": "​",
            "_view_module": "@jupyter-widgets/controls",
            "_model_module_version": "1.5.0",
            "value": "100%",
            "_view_count": null,
            "_view_module_version": "1.5.0",
            "description_tooltip": null,
            "_model_module": "@jupyter-widgets/controls",
            "layout": "IPY_MODEL_1553f3937e174256aedb0824e30a2a41"
          }
        },
        "58a7fdfa92254bb6ac1b7356ee6f1912": {
          "model_module": "@jupyter-widgets/controls",
          "model_name": "FloatProgressModel",
          "model_module_version": "1.5.0",
          "state": {
            "_view_name": "ProgressView",
            "style": "IPY_MODEL_04029fe98b6d45908734fe193b7f544d",
            "_dom_classes": [],
            "description": "",
            "_model_name": "FloatProgressModel",
            "bar_style": "success",
            "max": 3,
            "_view_module": "@jupyter-widgets/controls",
            "_model_module_version": "1.5.0",
            "value": 3,
            "_view_count": null,
            "_view_module_version": "1.5.0",
            "orientation": "horizontal",
            "min": 0,
            "description_tooltip": null,
            "_model_module": "@jupyter-widgets/controls",
            "layout": "IPY_MODEL_036e5ca0e1ec40e19f22b0b5fb3dc8ac"
          }
        },
        "b22370ddabd44abba1ca0370fbb3a87f": {
          "model_module": "@jupyter-widgets/controls",
          "model_name": "HTMLModel",
          "model_module_version": "1.5.0",
          "state": {
            "_view_name": "HTMLView",
            "style": "IPY_MODEL_6b151b7dbbe64c16bed489a4f802e2da",
            "_dom_classes": [],
            "description": "",
            "_model_name": "HTMLModel",
            "placeholder": "​",
            "_view_module": "@jupyter-widgets/controls",
            "_model_module_version": "1.5.0",
            "value": " 3/3 [00:06&lt;00:00,  2.19s/it]",
            "_view_count": null,
            "_view_module_version": "1.5.0",
            "description_tooltip": null,
            "_model_module": "@jupyter-widgets/controls",
            "layout": "IPY_MODEL_0496d4d8b8fb423d94f9dc8c32440308"
          }
        },
        "574fa72791184016b6ab2d38276a1625": {
          "model_module": "@jupyter-widgets/controls",
          "model_name": "DescriptionStyleModel",
          "model_module_version": "1.5.0",
          "state": {
            "_view_name": "StyleView",
            "_model_name": "DescriptionStyleModel",
            "description_width": "",
            "_view_module": "@jupyter-widgets/base",
            "_model_module_version": "1.5.0",
            "_view_count": null,
            "_view_module_version": "1.2.0",
            "_model_module": "@jupyter-widgets/controls"
          }
        },
        "1553f3937e174256aedb0824e30a2a41": {
          "model_module": "@jupyter-widgets/base",
          "model_name": "LayoutModel",
          "model_module_version": "1.2.0",
          "state": {
            "_view_name": "LayoutView",
            "grid_template_rows": null,
            "right": null,
            "justify_content": null,
            "_view_module": "@jupyter-widgets/base",
            "overflow": null,
            "_model_module_version": "1.2.0",
            "_view_count": null,
            "flex_flow": null,
            "width": null,
            "min_width": null,
            "border": null,
            "align_items": null,
            "bottom": null,
            "_model_module": "@jupyter-widgets/base",
            "top": null,
            "grid_column": null,
            "overflow_y": null,
            "overflow_x": null,
            "grid_auto_flow": null,
            "grid_area": null,
            "grid_template_columns": null,
            "flex": null,
            "_model_name": "LayoutModel",
            "justify_items": null,
            "grid_row": null,
            "max_height": null,
            "align_content": null,
            "visibility": null,
            "align_self": null,
            "height": null,
            "min_height": null,
            "padding": null,
            "grid_auto_rows": null,
            "grid_gap": null,
            "max_width": null,
            "order": null,
            "_view_module_version": "1.2.0",
            "grid_template_areas": null,
            "object_position": null,
            "object_fit": null,
            "grid_auto_columns": null,
            "margin": null,
            "display": null,
            "left": null
          }
        },
        "04029fe98b6d45908734fe193b7f544d": {
          "model_module": "@jupyter-widgets/controls",
          "model_name": "ProgressStyleModel",
          "model_module_version": "1.5.0",
          "state": {
            "_view_name": "StyleView",
            "_model_name": "ProgressStyleModel",
            "description_width": "",
            "_view_module": "@jupyter-widgets/base",
            "_model_module_version": "1.5.0",
            "_view_count": null,
            "_view_module_version": "1.2.0",
            "bar_color": null,
            "_model_module": "@jupyter-widgets/controls"
          }
        },
        "036e5ca0e1ec40e19f22b0b5fb3dc8ac": {
          "model_module": "@jupyter-widgets/base",
          "model_name": "LayoutModel",
          "model_module_version": "1.2.0",
          "state": {
            "_view_name": "LayoutView",
            "grid_template_rows": null,
            "right": null,
            "justify_content": null,
            "_view_module": "@jupyter-widgets/base",
            "overflow": null,
            "_model_module_version": "1.2.0",
            "_view_count": null,
            "flex_flow": null,
            "width": null,
            "min_width": null,
            "border": null,
            "align_items": null,
            "bottom": null,
            "_model_module": "@jupyter-widgets/base",
            "top": null,
            "grid_column": null,
            "overflow_y": null,
            "overflow_x": null,
            "grid_auto_flow": null,
            "grid_area": null,
            "grid_template_columns": null,
            "flex": null,
            "_model_name": "LayoutModel",
            "justify_items": null,
            "grid_row": null,
            "max_height": null,
            "align_content": null,
            "visibility": null,
            "align_self": null,
            "height": null,
            "min_height": null,
            "padding": null,
            "grid_auto_rows": null,
            "grid_gap": null,
            "max_width": null,
            "order": null,
            "_view_module_version": "1.2.0",
            "grid_template_areas": null,
            "object_position": null,
            "object_fit": null,
            "grid_auto_columns": null,
            "margin": null,
            "display": null,
            "left": null
          }
        },
        "6b151b7dbbe64c16bed489a4f802e2da": {
          "model_module": "@jupyter-widgets/controls",
          "model_name": "DescriptionStyleModel",
          "model_module_version": "1.5.0",
          "state": {
            "_view_name": "StyleView",
            "_model_name": "DescriptionStyleModel",
            "description_width": "",
            "_view_module": "@jupyter-widgets/base",
            "_model_module_version": "1.5.0",
            "_view_count": null,
            "_view_module_version": "1.2.0",
            "_model_module": "@jupyter-widgets/controls"
          }
        },
        "0496d4d8b8fb423d94f9dc8c32440308": {
          "model_module": "@jupyter-widgets/base",
          "model_name": "LayoutModel",
          "model_module_version": "1.2.0",
          "state": {
            "_view_name": "LayoutView",
            "grid_template_rows": null,
            "right": null,
            "justify_content": null,
            "_view_module": "@jupyter-widgets/base",
            "overflow": null,
            "_model_module_version": "1.2.0",
            "_view_count": null,
            "flex_flow": null,
            "width": null,
            "min_width": null,
            "border": null,
            "align_items": null,
            "bottom": null,
            "_model_module": "@jupyter-widgets/base",
            "top": null,
            "grid_column": null,
            "overflow_y": null,
            "overflow_x": null,
            "grid_auto_flow": null,
            "grid_area": null,
            "grid_template_columns": null,
            "flex": null,
            "_model_name": "LayoutModel",
            "justify_items": null,
            "grid_row": null,
            "max_height": null,
            "align_content": null,
            "visibility": null,
            "align_self": null,
            "height": null,
            "min_height": null,
            "padding": null,
            "grid_auto_rows": null,
            "grid_gap": null,
            "max_width": null,
            "order": null,
            "_view_module_version": "1.2.0",
            "grid_template_areas": null,
            "object_position": null,
            "object_fit": null,
            "grid_auto_columns": null,
            "margin": null,
            "display": null,
            "left": null
          }
        },
        "c04ec96a7d984c87809673a40636b7d5": {
          "model_module": "@jupyter-widgets/controls",
          "model_name": "HBoxModel",
          "model_module_version": "1.5.0",
          "state": {
            "_view_name": "HBoxView",
            "_dom_classes": [],
            "_model_name": "HBoxModel",
            "_view_module": "@jupyter-widgets/controls",
            "_model_module_version": "1.5.0",
            "_view_count": null,
            "_view_module_version": "1.5.0",
            "box_style": "",
            "layout": "IPY_MODEL_2e81733652c248328944c2bd6694975b",
            "_model_module": "@jupyter-widgets/controls",
            "children": [
              "IPY_MODEL_94fd5e452c0c4b79ac78b907d312a6a7",
              "IPY_MODEL_bd858917e59e4e72ae76a07cfc6204c2",
              "IPY_MODEL_e4e380021ae44059987aadbd2c290551"
            ]
          }
        },
        "2e81733652c248328944c2bd6694975b": {
          "model_module": "@jupyter-widgets/base",
          "model_name": "LayoutModel",
          "model_module_version": "1.2.0",
          "state": {
            "_view_name": "LayoutView",
            "grid_template_rows": null,
            "right": null,
            "justify_content": null,
            "_view_module": "@jupyter-widgets/base",
            "overflow": null,
            "_model_module_version": "1.2.0",
            "_view_count": null,
            "flex_flow": null,
            "width": null,
            "min_width": null,
            "border": null,
            "align_items": null,
            "bottom": null,
            "_model_module": "@jupyter-widgets/base",
            "top": null,
            "grid_column": null,
            "overflow_y": null,
            "overflow_x": null,
            "grid_auto_flow": null,
            "grid_area": null,
            "grid_template_columns": null,
            "flex": null,
            "_model_name": "LayoutModel",
            "justify_items": null,
            "grid_row": null,
            "max_height": null,
            "align_content": null,
            "visibility": null,
            "align_self": null,
            "height": null,
            "min_height": null,
            "padding": null,
            "grid_auto_rows": null,
            "grid_gap": null,
            "max_width": null,
            "order": null,
            "_view_module_version": "1.2.0",
            "grid_template_areas": null,
            "object_position": null,
            "object_fit": null,
            "grid_auto_columns": null,
            "margin": null,
            "display": null,
            "left": null
          }
        },
        "94fd5e452c0c4b79ac78b907d312a6a7": {
          "model_module": "@jupyter-widgets/controls",
          "model_name": "HTMLModel",
          "model_module_version": "1.5.0",
          "state": {
            "_view_name": "HTMLView",
            "style": "IPY_MODEL_e49d6cc8b55d4ae18e06846b9f7c6eab",
            "_dom_classes": [],
            "description": "",
            "_model_name": "HTMLModel",
            "placeholder": "​",
            "_view_module": "@jupyter-widgets/controls",
            "_model_module_version": "1.5.0",
            "value": "100%",
            "_view_count": null,
            "_view_module_version": "1.5.0",
            "description_tooltip": null,
            "_model_module": "@jupyter-widgets/controls",
            "layout": "IPY_MODEL_36479b6206f74c8f8c9d34eeaaf64335"
          }
        },
        "bd858917e59e4e72ae76a07cfc6204c2": {
          "model_module": "@jupyter-widgets/controls",
          "model_name": "FloatProgressModel",
          "model_module_version": "1.5.0",
          "state": {
            "_view_name": "ProgressView",
            "style": "IPY_MODEL_a031cae824ef4990abc65fcb340db5c6",
            "_dom_classes": [],
            "description": "",
            "_model_name": "FloatProgressModel",
            "bar_style": "success",
            "max": 3,
            "_view_module": "@jupyter-widgets/controls",
            "_model_module_version": "1.5.0",
            "value": 3,
            "_view_count": null,
            "_view_module_version": "1.5.0",
            "orientation": "horizontal",
            "min": 0,
            "description_tooltip": null,
            "_model_module": "@jupyter-widgets/controls",
            "layout": "IPY_MODEL_d484363635534922ba90c0618c5c198c"
          }
        },
        "e4e380021ae44059987aadbd2c290551": {
          "model_module": "@jupyter-widgets/controls",
          "model_name": "HTMLModel",
          "model_module_version": "1.5.0",
          "state": {
            "_view_name": "HTMLView",
            "style": "IPY_MODEL_11bb5f5715874ccfa9f55270966c6e48",
            "_dom_classes": [],
            "description": "",
            "_model_name": "HTMLModel",
            "placeholder": "​",
            "_view_module": "@jupyter-widgets/controls",
            "_model_module_version": "1.5.0",
            "value": " 3/3 [00:05&lt;00:00,  1.74s/it]",
            "_view_count": null,
            "_view_module_version": "1.5.0",
            "description_tooltip": null,
            "_model_module": "@jupyter-widgets/controls",
            "layout": "IPY_MODEL_45cef56157784c72af5d0a6cab5282e9"
          }
        },
        "e49d6cc8b55d4ae18e06846b9f7c6eab": {
          "model_module": "@jupyter-widgets/controls",
          "model_name": "DescriptionStyleModel",
          "model_module_version": "1.5.0",
          "state": {
            "_view_name": "StyleView",
            "_model_name": "DescriptionStyleModel",
            "description_width": "",
            "_view_module": "@jupyter-widgets/base",
            "_model_module_version": "1.5.0",
            "_view_count": null,
            "_view_module_version": "1.2.0",
            "_model_module": "@jupyter-widgets/controls"
          }
        },
        "36479b6206f74c8f8c9d34eeaaf64335": {
          "model_module": "@jupyter-widgets/base",
          "model_name": "LayoutModel",
          "model_module_version": "1.2.0",
          "state": {
            "_view_name": "LayoutView",
            "grid_template_rows": null,
            "right": null,
            "justify_content": null,
            "_view_module": "@jupyter-widgets/base",
            "overflow": null,
            "_model_module_version": "1.2.0",
            "_view_count": null,
            "flex_flow": null,
            "width": null,
            "min_width": null,
            "border": null,
            "align_items": null,
            "bottom": null,
            "_model_module": "@jupyter-widgets/base",
            "top": null,
            "grid_column": null,
            "overflow_y": null,
            "overflow_x": null,
            "grid_auto_flow": null,
            "grid_area": null,
            "grid_template_columns": null,
            "flex": null,
            "_model_name": "LayoutModel",
            "justify_items": null,
            "grid_row": null,
            "max_height": null,
            "align_content": null,
            "visibility": null,
            "align_self": null,
            "height": null,
            "min_height": null,
            "padding": null,
            "grid_auto_rows": null,
            "grid_gap": null,
            "max_width": null,
            "order": null,
            "_view_module_version": "1.2.0",
            "grid_template_areas": null,
            "object_position": null,
            "object_fit": null,
            "grid_auto_columns": null,
            "margin": null,
            "display": null,
            "left": null
          }
        },
        "a031cae824ef4990abc65fcb340db5c6": {
          "model_module": "@jupyter-widgets/controls",
          "model_name": "ProgressStyleModel",
          "model_module_version": "1.5.0",
          "state": {
            "_view_name": "StyleView",
            "_model_name": "ProgressStyleModel",
            "description_width": "",
            "_view_module": "@jupyter-widgets/base",
            "_model_module_version": "1.5.0",
            "_view_count": null,
            "_view_module_version": "1.2.0",
            "bar_color": null,
            "_model_module": "@jupyter-widgets/controls"
          }
        },
        "d484363635534922ba90c0618c5c198c": {
          "model_module": "@jupyter-widgets/base",
          "model_name": "LayoutModel",
          "model_module_version": "1.2.0",
          "state": {
            "_view_name": "LayoutView",
            "grid_template_rows": null,
            "right": null,
            "justify_content": null,
            "_view_module": "@jupyter-widgets/base",
            "overflow": null,
            "_model_module_version": "1.2.0",
            "_view_count": null,
            "flex_flow": null,
            "width": null,
            "min_width": null,
            "border": null,
            "align_items": null,
            "bottom": null,
            "_model_module": "@jupyter-widgets/base",
            "top": null,
            "grid_column": null,
            "overflow_y": null,
            "overflow_x": null,
            "grid_auto_flow": null,
            "grid_area": null,
            "grid_template_columns": null,
            "flex": null,
            "_model_name": "LayoutModel",
            "justify_items": null,
            "grid_row": null,
            "max_height": null,
            "align_content": null,
            "visibility": null,
            "align_self": null,
            "height": null,
            "min_height": null,
            "padding": null,
            "grid_auto_rows": null,
            "grid_gap": null,
            "max_width": null,
            "order": null,
            "_view_module_version": "1.2.0",
            "grid_template_areas": null,
            "object_position": null,
            "object_fit": null,
            "grid_auto_columns": null,
            "margin": null,
            "display": null,
            "left": null
          }
        },
        "11bb5f5715874ccfa9f55270966c6e48": {
          "model_module": "@jupyter-widgets/controls",
          "model_name": "DescriptionStyleModel",
          "model_module_version": "1.5.0",
          "state": {
            "_view_name": "StyleView",
            "_model_name": "DescriptionStyleModel",
            "description_width": "",
            "_view_module": "@jupyter-widgets/base",
            "_model_module_version": "1.5.0",
            "_view_count": null,
            "_view_module_version": "1.2.0",
            "_model_module": "@jupyter-widgets/controls"
          }
        },
        "45cef56157784c72af5d0a6cab5282e9": {
          "model_module": "@jupyter-widgets/base",
          "model_name": "LayoutModel",
          "model_module_version": "1.2.0",
          "state": {
            "_view_name": "LayoutView",
            "grid_template_rows": null,
            "right": null,
            "justify_content": null,
            "_view_module": "@jupyter-widgets/base",
            "overflow": null,
            "_model_module_version": "1.2.0",
            "_view_count": null,
            "flex_flow": null,
            "width": null,
            "min_width": null,
            "border": null,
            "align_items": null,
            "bottom": null,
            "_model_module": "@jupyter-widgets/base",
            "top": null,
            "grid_column": null,
            "overflow_y": null,
            "overflow_x": null,
            "grid_auto_flow": null,
            "grid_area": null,
            "grid_template_columns": null,
            "flex": null,
            "_model_name": "LayoutModel",
            "justify_items": null,
            "grid_row": null,
            "max_height": null,
            "align_content": null,
            "visibility": null,
            "align_self": null,
            "height": null,
            "min_height": null,
            "padding": null,
            "grid_auto_rows": null,
            "grid_gap": null,
            "max_width": null,
            "order": null,
            "_view_module_version": "1.2.0",
            "grid_template_areas": null,
            "object_position": null,
            "object_fit": null,
            "grid_auto_columns": null,
            "margin": null,
            "display": null,
            "left": null
          }
        },
        "057f5808fbfc45d6bcb3ea486e425c10": {
          "model_module": "@jupyter-widgets/controls",
          "model_name": "HBoxModel",
          "model_module_version": "1.5.0",
          "state": {
            "_view_name": "HBoxView",
            "_dom_classes": [],
            "_model_name": "HBoxModel",
            "_view_module": "@jupyter-widgets/controls",
            "_model_module_version": "1.5.0",
            "_view_count": null,
            "_view_module_version": "1.5.0",
            "box_style": "",
            "layout": "IPY_MODEL_6f3e72723f1a40e8ad4c9a3eaf9676f9",
            "_model_module": "@jupyter-widgets/controls",
            "children": [
              "IPY_MODEL_d4657a73b3dd4cdc8f411b90ddf011c2",
              "IPY_MODEL_b4b0e54d297e4dce8b6f77ba92ab7c85",
              "IPY_MODEL_05ecf56758c74e6d99d8ee2d6b814ac4"
            ]
          }
        },
        "6f3e72723f1a40e8ad4c9a3eaf9676f9": {
          "model_module": "@jupyter-widgets/base",
          "model_name": "LayoutModel",
          "model_module_version": "1.2.0",
          "state": {
            "_view_name": "LayoutView",
            "grid_template_rows": null,
            "right": null,
            "justify_content": null,
            "_view_module": "@jupyter-widgets/base",
            "overflow": null,
            "_model_module_version": "1.2.0",
            "_view_count": null,
            "flex_flow": null,
            "width": null,
            "min_width": null,
            "border": null,
            "align_items": null,
            "bottom": null,
            "_model_module": "@jupyter-widgets/base",
            "top": null,
            "grid_column": null,
            "overflow_y": null,
            "overflow_x": null,
            "grid_auto_flow": null,
            "grid_area": null,
            "grid_template_columns": null,
            "flex": null,
            "_model_name": "LayoutModel",
            "justify_items": null,
            "grid_row": null,
            "max_height": null,
            "align_content": null,
            "visibility": null,
            "align_self": null,
            "height": null,
            "min_height": null,
            "padding": null,
            "grid_auto_rows": null,
            "grid_gap": null,
            "max_width": null,
            "order": null,
            "_view_module_version": "1.2.0",
            "grid_template_areas": null,
            "object_position": null,
            "object_fit": null,
            "grid_auto_columns": null,
            "margin": null,
            "display": null,
            "left": null
          }
        },
        "d4657a73b3dd4cdc8f411b90ddf011c2": {
          "model_module": "@jupyter-widgets/controls",
          "model_name": "HTMLModel",
          "model_module_version": "1.5.0",
          "state": {
            "_view_name": "HTMLView",
            "style": "IPY_MODEL_5d9e94a56d3b493588146d8f5804acd6",
            "_dom_classes": [],
            "description": "",
            "_model_name": "HTMLModel",
            "placeholder": "​",
            "_view_module": "@jupyter-widgets/controls",
            "_model_module_version": "1.5.0",
            "value": "100%",
            "_view_count": null,
            "_view_module_version": "1.5.0",
            "description_tooltip": null,
            "_model_module": "@jupyter-widgets/controls",
            "layout": "IPY_MODEL_6f2c3a8a02bb4c1f847d87a28dfb9e22"
          }
        },
        "b4b0e54d297e4dce8b6f77ba92ab7c85": {
          "model_module": "@jupyter-widgets/controls",
          "model_name": "FloatProgressModel",
          "model_module_version": "1.5.0",
          "state": {
            "_view_name": "ProgressView",
            "style": "IPY_MODEL_e47532da57904447a2bf0752e5e8bc73",
            "_dom_classes": [],
            "description": "",
            "_model_name": "FloatProgressModel",
            "bar_style": "success",
            "max": 4,
            "_view_module": "@jupyter-widgets/controls",
            "_model_module_version": "1.5.0",
            "value": 4,
            "_view_count": null,
            "_view_module_version": "1.5.0",
            "orientation": "horizontal",
            "min": 0,
            "description_tooltip": null,
            "_model_module": "@jupyter-widgets/controls",
            "layout": "IPY_MODEL_ece03a8fd063469fa83a5f7069dddfdf"
          }
        },
        "05ecf56758c74e6d99d8ee2d6b814ac4": {
          "model_module": "@jupyter-widgets/controls",
          "model_name": "HTMLModel",
          "model_module_version": "1.5.0",
          "state": {
            "_view_name": "HTMLView",
            "style": "IPY_MODEL_f0cc5b593dd84348bd7d5ca0343eca1c",
            "_dom_classes": [],
            "description": "",
            "_model_name": "HTMLModel",
            "placeholder": "​",
            "_view_module": "@jupyter-widgets/controls",
            "_model_module_version": "1.5.0",
            "value": " 4/4 [00:05&lt;00:00,  1.36s/it]",
            "_view_count": null,
            "_view_module_version": "1.5.0",
            "description_tooltip": null,
            "_model_module": "@jupyter-widgets/controls",
            "layout": "IPY_MODEL_909a56e7fea645dfb467b97ff71c0118"
          }
        },
        "5d9e94a56d3b493588146d8f5804acd6": {
          "model_module": "@jupyter-widgets/controls",
          "model_name": "DescriptionStyleModel",
          "model_module_version": "1.5.0",
          "state": {
            "_view_name": "StyleView",
            "_model_name": "DescriptionStyleModel",
            "description_width": "",
            "_view_module": "@jupyter-widgets/base",
            "_model_module_version": "1.5.0",
            "_view_count": null,
            "_view_module_version": "1.2.0",
            "_model_module": "@jupyter-widgets/controls"
          }
        },
        "6f2c3a8a02bb4c1f847d87a28dfb9e22": {
          "model_module": "@jupyter-widgets/base",
          "model_name": "LayoutModel",
          "model_module_version": "1.2.0",
          "state": {
            "_view_name": "LayoutView",
            "grid_template_rows": null,
            "right": null,
            "justify_content": null,
            "_view_module": "@jupyter-widgets/base",
            "overflow": null,
            "_model_module_version": "1.2.0",
            "_view_count": null,
            "flex_flow": null,
            "width": null,
            "min_width": null,
            "border": null,
            "align_items": null,
            "bottom": null,
            "_model_module": "@jupyter-widgets/base",
            "top": null,
            "grid_column": null,
            "overflow_y": null,
            "overflow_x": null,
            "grid_auto_flow": null,
            "grid_area": null,
            "grid_template_columns": null,
            "flex": null,
            "_model_name": "LayoutModel",
            "justify_items": null,
            "grid_row": null,
            "max_height": null,
            "align_content": null,
            "visibility": null,
            "align_self": null,
            "height": null,
            "min_height": null,
            "padding": null,
            "grid_auto_rows": null,
            "grid_gap": null,
            "max_width": null,
            "order": null,
            "_view_module_version": "1.2.0",
            "grid_template_areas": null,
            "object_position": null,
            "object_fit": null,
            "grid_auto_columns": null,
            "margin": null,
            "display": null,
            "left": null
          }
        },
        "e47532da57904447a2bf0752e5e8bc73": {
          "model_module": "@jupyter-widgets/controls",
          "model_name": "ProgressStyleModel",
          "model_module_version": "1.5.0",
          "state": {
            "_view_name": "StyleView",
            "_model_name": "ProgressStyleModel",
            "description_width": "",
            "_view_module": "@jupyter-widgets/base",
            "_model_module_version": "1.5.0",
            "_view_count": null,
            "_view_module_version": "1.2.0",
            "bar_color": null,
            "_model_module": "@jupyter-widgets/controls"
          }
        },
        "ece03a8fd063469fa83a5f7069dddfdf": {
          "model_module": "@jupyter-widgets/base",
          "model_name": "LayoutModel",
          "model_module_version": "1.2.0",
          "state": {
            "_view_name": "LayoutView",
            "grid_template_rows": null,
            "right": null,
            "justify_content": null,
            "_view_module": "@jupyter-widgets/base",
            "overflow": null,
            "_model_module_version": "1.2.0",
            "_view_count": null,
            "flex_flow": null,
            "width": null,
            "min_width": null,
            "border": null,
            "align_items": null,
            "bottom": null,
            "_model_module": "@jupyter-widgets/base",
            "top": null,
            "grid_column": null,
            "overflow_y": null,
            "overflow_x": null,
            "grid_auto_flow": null,
            "grid_area": null,
            "grid_template_columns": null,
            "flex": null,
            "_model_name": "LayoutModel",
            "justify_items": null,
            "grid_row": null,
            "max_height": null,
            "align_content": null,
            "visibility": null,
            "align_self": null,
            "height": null,
            "min_height": null,
            "padding": null,
            "grid_auto_rows": null,
            "grid_gap": null,
            "max_width": null,
            "order": null,
            "_view_module_version": "1.2.0",
            "grid_template_areas": null,
            "object_position": null,
            "object_fit": null,
            "grid_auto_columns": null,
            "margin": null,
            "display": null,
            "left": null
          }
        },
        "f0cc5b593dd84348bd7d5ca0343eca1c": {
          "model_module": "@jupyter-widgets/controls",
          "model_name": "DescriptionStyleModel",
          "model_module_version": "1.5.0",
          "state": {
            "_view_name": "StyleView",
            "_model_name": "DescriptionStyleModel",
            "description_width": "",
            "_view_module": "@jupyter-widgets/base",
            "_model_module_version": "1.5.0",
            "_view_count": null,
            "_view_module_version": "1.2.0",
            "_model_module": "@jupyter-widgets/controls"
          }
        },
        "909a56e7fea645dfb467b97ff71c0118": {
          "model_module": "@jupyter-widgets/base",
          "model_name": "LayoutModel",
          "model_module_version": "1.2.0",
          "state": {
            "_view_name": "LayoutView",
            "grid_template_rows": null,
            "right": null,
            "justify_content": null,
            "_view_module": "@jupyter-widgets/base",
            "overflow": null,
            "_model_module_version": "1.2.0",
            "_view_count": null,
            "flex_flow": null,
            "width": null,
            "min_width": null,
            "border": null,
            "align_items": null,
            "bottom": null,
            "_model_module": "@jupyter-widgets/base",
            "top": null,
            "grid_column": null,
            "overflow_y": null,
            "overflow_x": null,
            "grid_auto_flow": null,
            "grid_area": null,
            "grid_template_columns": null,
            "flex": null,
            "_model_name": "LayoutModel",
            "justify_items": null,
            "grid_row": null,
            "max_height": null,
            "align_content": null,
            "visibility": null,
            "align_self": null,
            "height": null,
            "min_height": null,
            "padding": null,
            "grid_auto_rows": null,
            "grid_gap": null,
            "max_width": null,
            "order": null,
            "_view_module_version": "1.2.0",
            "grid_template_areas": null,
            "object_position": null,
            "object_fit": null,
            "grid_auto_columns": null,
            "margin": null,
            "display": null,
            "left": null
          }
        }
      }
    }
  },
  "cells": [
    {
      "cell_type": "code",
      "execution_count": null,
      "metadata": {
        "colab": {
          "base_uri": "https://localhost:8080/"
        },
        "id": "9eH1NsFcg88d",
        "outputId": "b252ab52-fd8e-4a38-e339-17230bf4026b"
      },
      "outputs": [
        {
          "output_type": "stream",
          "name": "stdout",
          "text": [
            "Found GPU at: /device:GPU:0\n"
          ]
        }
      ],
      "source": [
        "%tensorflow_version 2.x\n",
        "import tensorflow as tf\n",
        "device_name = tf.test.gpu_device_name()\n",
        "if device_name != '/device:GPU:0':\n",
        "  raise SystemError('GPU device not found')\n",
        "print('Found GPU at: {}'.format(device_name))"
      ]
    },
    {
      "cell_type": "markdown",
      "source": [
        "# 네이버 뉴스 데이터 가져오기\n",
        "1. 네이버 오픈 API로 기사 URL 크롤링\n",
        "2. bs4 + selenium으로 기사 제목 및 내용 크롤링"
      ],
      "metadata": {
        "id": "CJgJGtCSMRd1"
      }
    },
    {
      "cell_type": "code",
      "execution_count": null,
      "metadata": {
        "id": "0f7FX9wJLhlf"
      },
      "outputs": [],
      "source": [
        "import os\n",
        "import sys\n",
        "import urllib.request\n",
        "import requests\n",
        "\n",
        "news_data = []\n",
        "page_count = 3\n",
        "\n",
        "client_id = \"h6NTRMHO6mjOXhu18YsU\"\n",
        "client_secret = \"EPOzKae29u\"\n",
        "encText = urllib.parse.quote(\"파이썬\")\n",
        "\n",
        "for idx in range(page_count):\n",
        "  url = \"https://openapi.naver.com/v1/search/news?query=\" + encText + '&start=' + str(idx*10 + 1) # json 결과\n",
        "  # url = \"https://openapi.naver.com/v1/search/blog.xml?query=\" + encText # xml 결과\n",
        "\n",
        "  request = urllib.request.Request(url)\n",
        "  request.add_header(\"X-Naver-Client-Id\",client_id)\n",
        "  request.add_header(\"X-Naver-Client-Secret\",client_secret)\n",
        "  response = urllib.request.urlopen(request)\n",
        "  rescode = response.getcode()\n",
        "\n",
        "  if(rescode==200):\n",
        "    result = requests.get(response.geturl(),\n",
        "                          headers={'X-Naver-Client-Id':client_id,\n",
        "                                  'X-Naver-Client-Secret':client_secret})\n",
        "    news_data.append(result.json())\n",
        "  else:\n",
        "      print(\"Error Code:\" + rescode)"
      ]
    },
    {
      "cell_type": "markdown",
      "source": [
        "## 네이버 open api 통해 가져온 데이터 확인"
      ],
      "metadata": {
        "id": "16qufEhmQHD3"
      }
    },
    {
      "cell_type": "code",
      "source": [
        "print(news_data[0]['items'][0]['link'])"
      ],
      "metadata": {
        "colab": {
          "base_uri": "https://localhost:8080/"
        },
        "id": "GE_pTdu_QKAP",
        "outputId": "77488fad-fd5b-4c9b-ec17-550a3cd6a7f5"
      },
      "execution_count": null,
      "outputs": [
        {
          "output_type": "stream",
          "name": "stdout",
          "text": [
            "http://www.lecturernews.com/news/articleView.html?idxno=89644\n"
          ]
        }
      ]
    },
    {
      "cell_type": "markdown",
      "source": [
        "## 가져온 url이 네이버 뉴스인지 확인"
      ],
      "metadata": {
        "id": "uRpi-DV_RK7G"
      }
    },
    {
      "cell_type": "code",
      "source": [
        "naver_news_link = []\n",
        "\n",
        "for page in news_data:\n",
        "\n",
        "  page_news_link = []\n",
        "\n",
        "  for item in page['items']:\n",
        "    link = item['link']\n",
        "    if 'naver' in link:\n",
        "      page_news_link.append(link)\n",
        "\n",
        "  naver_news_link.append(page_news_link)\n",
        "\n",
        "for page in naver_news_link:\n",
        "  for link in page:\n",
        "    print(link)"
      ],
      "metadata": {
        "colab": {
          "base_uri": "https://localhost:8080/"
        },
        "id": "j5rUM9M_QL6F",
        "outputId": "a2a1dd33-83e2-4ac4-d8e1-a0d3202dedf7"
      },
      "execution_count": null,
      "outputs": [
        {
          "output_type": "stream",
          "name": "stdout",
          "text": [
            "https://news.naver.com/main/read.naver?mode=LSD&mid=sec&sid1=102&oid=081&aid=0003251300\n",
            "https://news.naver.com/main/read.naver?mode=LSD&mid=sec&sid1=101&oid=008&aid=0004707412\n",
            "https://news.naver.com/main/read.naver?mode=LSD&mid=sec&sid1=102&oid=003&aid=0010998604\n",
            "https://news.naver.com/main/read.naver?mode=LSD&mid=sec&sid1=101&oid=648&aid=0000006347\n",
            "https://news.naver.com/main/read.naver?mode=LSD&mid=sec&sid1=102&oid=003&aid=0010996248\n",
            "https://news.naver.com/main/read.naver?mode=LSD&mid=sec&sid1=102&oid=008&aid=0004706786\n",
            "https://news.naver.com/main/read.naver?mode=LSD&mid=sec&sid1=102&oid=421&aid=0005897791\n",
            "https://news.naver.com/main/read.naver?mode=LSD&mid=sec&sid1=101&oid=008&aid=0004706534\n",
            "https://news.naver.com/main/read.naver?mode=LSD&mid=sec&sid1=105&oid=092&aid=0002247264\n",
            "https://news.naver.com/main/read.naver?mode=LSD&mid=sec&sid1=101&oid=421&aid=0005895811\n"
          ]
        }
      ]
    },
    {
      "cell_type": "code",
      "source": [
        "!pip install selenium"
      ],
      "metadata": {
        "colab": {
          "base_uri": "https://localhost:8080/"
        },
        "id": "ZAJIewu7Ua7C",
        "outputId": "636c632c-d95e-4c31-83b1-2982178bb085"
      },
      "execution_count": null,
      "outputs": [
        {
          "output_type": "stream",
          "name": "stdout",
          "text": [
            "Requirement already satisfied: selenium in /usr/local/lib/python3.7/dist-packages (4.1.0)\n",
            "Requirement already satisfied: trio~=0.17 in /usr/local/lib/python3.7/dist-packages (from selenium) (0.19.0)\n",
            "Requirement already satisfied: urllib3[secure]~=1.26 in /usr/local/lib/python3.7/dist-packages (from selenium) (1.26.8)\n",
            "Requirement already satisfied: trio-websocket~=0.9 in /usr/local/lib/python3.7/dist-packages (from selenium) (0.9.2)\n",
            "Requirement already satisfied: sniffio in /usr/local/lib/python3.7/dist-packages (from trio~=0.17->selenium) (1.2.0)\n",
            "Requirement already satisfied: idna in /usr/local/lib/python3.7/dist-packages (from trio~=0.17->selenium) (2.10)\n",
            "Requirement already satisfied: async-generator>=1.9 in /usr/local/lib/python3.7/dist-packages (from trio~=0.17->selenium) (1.10)\n",
            "Requirement already satisfied: sortedcontainers in /usr/local/lib/python3.7/dist-packages (from trio~=0.17->selenium) (2.4.0)\n",
            "Requirement already satisfied: outcome in /usr/local/lib/python3.7/dist-packages (from trio~=0.17->selenium) (1.1.0)\n",
            "Requirement already satisfied: attrs>=19.2.0 in /usr/local/lib/python3.7/dist-packages (from trio~=0.17->selenium) (21.4.0)\n",
            "Requirement already satisfied: wsproto>=0.14 in /usr/local/lib/python3.7/dist-packages (from trio-websocket~=0.9->selenium) (1.0.0)\n",
            "Requirement already satisfied: pyOpenSSL>=0.14 in /usr/local/lib/python3.7/dist-packages (from urllib3[secure]~=1.26->selenium) (22.0.0)\n",
            "Requirement already satisfied: certifi in /usr/local/lib/python3.7/dist-packages (from urllib3[secure]~=1.26->selenium) (2021.10.8)\n",
            "Requirement already satisfied: cryptography>=1.3.4 in /usr/local/lib/python3.7/dist-packages (from urllib3[secure]~=1.26->selenium) (36.0.1)\n",
            "Requirement already satisfied: cffi>=1.12 in /usr/local/lib/python3.7/dist-packages (from cryptography>=1.3.4->urllib3[secure]~=1.26->selenium) (1.15.0)\n",
            "Requirement already satisfied: pycparser in /usr/local/lib/python3.7/dist-packages (from cffi>=1.12->cryptography>=1.3.4->urllib3[secure]~=1.26->selenium) (2.21)\n",
            "Requirement already satisfied: h11<1,>=0.9.0 in /usr/local/lib/python3.7/dist-packages (from wsproto>=0.14->trio-websocket~=0.9->selenium) (0.13.0)\n",
            "Requirement already satisfied: typing-extensions in /usr/local/lib/python3.7/dist-packages (from h11<1,>=0.9.0->wsproto>=0.14->trio-websocket~=0.9->selenium) (3.10.0.2)\n"
          ]
        }
      ]
    },
    {
      "cell_type": "code",
      "source": [
        "import pandas as pd\n",
        "import numpy as np\n",
        "from tqdm.notebook import tqdm\n",
        "import requests\n",
        "import pickle\n",
        "import re\n",
        "import ast\n",
        "\n",
        "from bs4 import BeautifulSoup\n",
        "from urllib.request import urlopen\n",
        "import urllib\n",
        "import time\n",
        "\n",
        "from selenium import webdriver\n",
        "options = webdriver.ChromeOptions()\n",
        "options.add_argument('--headless')\n",
        "options.add_argument('--no-sandbox')\n",
        "options.add_argument('--disable-dev-shm-usage')"
      ],
      "metadata": {
        "id": "hrjYWLWfRlP0"
      },
      "execution_count": null,
      "outputs": []
    },
    {
      "cell_type": "code",
      "source": [
        "driver = webdriver.Chrome('chromedriver',options=options)"
      ],
      "metadata": {
        "id": "lSrA_OjmUZp-"
      },
      "execution_count": null,
      "outputs": []
    },
    {
      "cell_type": "code",
      "source": [
        "naver_news_title = []\n",
        "naver_news_content = []\n",
        "\n",
        "for n in tqdm(range(len(naver_news_link))):\n",
        "  # print(n)\n",
        "  news_page_title = []\n",
        "  news_page_content = []\n",
        "\n",
        "  for idx in tqdm(range(len(naver_news_link[n]))):\n",
        "\n",
        "  ##### URL 접속 #####\n",
        "    try:\n",
        "      driver.get(naver_news_link[n][idx])\n",
        "      print(naver_news_link[n][idx])\n",
        "\n",
        "    except:\n",
        "      print('Timeout')\n",
        "      continue\n",
        "\n",
        "    try:\n",
        "      response = driver.page_source\n",
        "\n",
        "    except UnexpectedAlertPresentException:\n",
        "      driver.switch_to_alert().accept()\n",
        "      print('게시글이 삭제된 경우입니다.')\n",
        "      continue\n",
        "\n",
        "    soup = BeautifulSoup(response, 'html.parser')\n",
        "\n",
        "    ##### 뉴스 제목 #####\n",
        "    title = None\n",
        "\n",
        "    try:\n",
        "      item = soup.find('div', class_='article_info')\n",
        "      title = item.find('h3', class_='tts_head').get_text()\n",
        "\n",
        "    except:\n",
        "      title = 'OUTLINK'\n",
        "\n",
        "    news_page_title.append(title)\n",
        "\n",
        "    ##### 뉴스 본문 #####\n",
        "    doc = None\n",
        "    text = \"\"\n",
        "\n",
        "    data = soup.find_all('div', {'class':'_article_body_contents'})\n",
        "    if data:\n",
        "      for item in data:\n",
        "        text = text + str(item.find_all(text=True)).strip()\n",
        "        text = ast.literal_eval(text)\n",
        "        doc = ' '.join(text)\n",
        "    else:\n",
        "      doc = 'OUTLINK'\n",
        "\n",
        "    news_page_content.append(doc.replace('\\n', ' '))\n",
        "  \n",
        "  naver_news_title.append(news_page_title)\n",
        "  naver_news_content.append(news_page_content)\n",
        "\n",
        "  time.sleep(2)"
      ],
      "metadata": {
        "colab": {
          "base_uri": "https://localhost:8080/",
          "height": 336,
          "referenced_widgets": [
            "2b70e693986641fbb303b34296b5dcd6",
            "ed6550805324409e9a85fccc21c98b06",
            "b58e61a2185841c7ae3d9c4bb3a13d91",
            "c6b415f705cb4a9c877c5e9e9d44a3a7",
            "f9bc2c050dfe496ab1ea89983b23ea2b",
            "6e40175a9fc2406588a5d569b26e75fe",
            "1599d91e7c4948a0bb9f3dcb6335a616",
            "b8ed88d06daf4ca2a46325b5b8e3db34",
            "61c08ef861df44ca813f55d287caacec",
            "1dfd7ecb9c9744d88f44437fd5d9800f",
            "ac229ef07b6549c8b270205e1ae8dfeb",
            "e95dc6d1d9a54d2888e4fe1c0cafaf41",
            "892f2ecac4fb470e9f9dedbec7f6abde",
            "3814830526184383b1b2a3117eae909e",
            "58a7fdfa92254bb6ac1b7356ee6f1912",
            "b22370ddabd44abba1ca0370fbb3a87f",
            "574fa72791184016b6ab2d38276a1625",
            "1553f3937e174256aedb0824e30a2a41",
            "04029fe98b6d45908734fe193b7f544d",
            "036e5ca0e1ec40e19f22b0b5fb3dc8ac",
            "6b151b7dbbe64c16bed489a4f802e2da",
            "0496d4d8b8fb423d94f9dc8c32440308",
            "c04ec96a7d984c87809673a40636b7d5",
            "2e81733652c248328944c2bd6694975b",
            "94fd5e452c0c4b79ac78b907d312a6a7",
            "bd858917e59e4e72ae76a07cfc6204c2",
            "e4e380021ae44059987aadbd2c290551",
            "e49d6cc8b55d4ae18e06846b9f7c6eab",
            "36479b6206f74c8f8c9d34eeaaf64335",
            "a031cae824ef4990abc65fcb340db5c6",
            "d484363635534922ba90c0618c5c198c",
            "11bb5f5715874ccfa9f55270966c6e48",
            "45cef56157784c72af5d0a6cab5282e9",
            "057f5808fbfc45d6bcb3ea486e425c10",
            "6f3e72723f1a40e8ad4c9a3eaf9676f9",
            "d4657a73b3dd4cdc8f411b90ddf011c2",
            "b4b0e54d297e4dce8b6f77ba92ab7c85",
            "05ecf56758c74e6d99d8ee2d6b814ac4",
            "5d9e94a56d3b493588146d8f5804acd6",
            "6f2c3a8a02bb4c1f847d87a28dfb9e22",
            "e47532da57904447a2bf0752e5e8bc73",
            "ece03a8fd063469fa83a5f7069dddfdf",
            "f0cc5b593dd84348bd7d5ca0343eca1c",
            "909a56e7fea645dfb467b97ff71c0118"
          ]
        },
        "id": "DWPwfJgZW7G5",
        "outputId": "ffb3dd63-0742-492e-9886-3c3258b565cd"
      },
      "execution_count": null,
      "outputs": [
        {
          "output_type": "display_data",
          "data": {
            "application/vnd.jupyter.widget-view+json": {
              "model_id": "2b70e693986641fbb303b34296b5dcd6",
              "version_minor": 0,
              "version_major": 2
            },
            "text/plain": [
              "  0%|          | 0/3 [00:00<?, ?it/s]"
            ]
          },
          "metadata": {}
        },
        {
          "output_type": "display_data",
          "data": {
            "application/vnd.jupyter.widget-view+json": {
              "model_id": "e95dc6d1d9a54d2888e4fe1c0cafaf41",
              "version_minor": 0,
              "version_major": 2
            },
            "text/plain": [
              "  0%|          | 0/3 [00:00<?, ?it/s]"
            ]
          },
          "metadata": {}
        },
        {
          "output_type": "stream",
          "name": "stdout",
          "text": [
            "https://news.naver.com/main/read.naver?mode=LSD&mid=sec&sid1=102&oid=081&aid=0003251300\n",
            "https://news.naver.com/main/read.naver?mode=LSD&mid=sec&sid1=101&oid=008&aid=0004707412\n",
            "https://news.naver.com/main/read.naver?mode=LSD&mid=sec&sid1=102&oid=003&aid=0010998604\n"
          ]
        },
        {
          "output_type": "display_data",
          "data": {
            "application/vnd.jupyter.widget-view+json": {
              "model_id": "c04ec96a7d984c87809673a40636b7d5",
              "version_minor": 0,
              "version_major": 2
            },
            "text/plain": [
              "  0%|          | 0/3 [00:00<?, ?it/s]"
            ]
          },
          "metadata": {}
        },
        {
          "output_type": "stream",
          "name": "stdout",
          "text": [
            "https://news.naver.com/main/read.naver?mode=LSD&mid=sec&sid1=101&oid=648&aid=0000006347\n",
            "https://news.naver.com/main/read.naver?mode=LSD&mid=sec&sid1=102&oid=003&aid=0010996248\n",
            "https://news.naver.com/main/read.naver?mode=LSD&mid=sec&sid1=102&oid=008&aid=0004706786\n"
          ]
        },
        {
          "output_type": "display_data",
          "data": {
            "application/vnd.jupyter.widget-view+json": {
              "model_id": "057f5808fbfc45d6bcb3ea486e425c10",
              "version_minor": 0,
              "version_major": 2
            },
            "text/plain": [
              "  0%|          | 0/4 [00:00<?, ?it/s]"
            ]
          },
          "metadata": {}
        },
        {
          "output_type": "stream",
          "name": "stdout",
          "text": [
            "https://news.naver.com/main/read.naver?mode=LSD&mid=sec&sid1=102&oid=421&aid=0005897791\n",
            "https://news.naver.com/main/read.naver?mode=LSD&mid=sec&sid1=101&oid=008&aid=0004706534\n",
            "https://news.naver.com/main/read.naver?mode=LSD&mid=sec&sid1=105&oid=092&aid=0002247264\n",
            "https://news.naver.com/main/read.naver?mode=LSD&mid=sec&sid1=101&oid=421&aid=0005895811\n"
          ]
        }
      ]
    },
    {
      "cell_type": "markdown",
      "source": [
        "## 크롤링 결과 확인"
      ],
      "metadata": {
        "id": "nBuavZnfcI9N"
      }
    },
    {
      "cell_type": "code",
      "source": [
        "print(naver_news_title[0])"
      ],
      "metadata": {
        "colab": {
          "base_uri": "https://localhost:8080/"
        },
        "id": "cQD1daq-XPwT",
        "outputId": "98256745-fe43-4194-88fe-0c4bb46b737f"
      },
      "execution_count": null,
      "outputs": [
        {
          "output_type": "stream",
          "name": "stdout",
          "text": [
            "['코로나 이후 아동 성착취물 246% 폭증… 줄어든 강력범죄, 온라인으로 자리 옮겨', \"청담러닝+씨엠에스에듀 '교육계 흔들 비트코인' 베팅하는 펀드들\", '[교육소식]공주대 보건의료 데이터마이닝 기초과정 등']\n"
          ]
        }
      ]
    },
    {
      "cell_type": "code",
      "source": [
        "print(naver_news_content[0])"
      ],
      "metadata": {
        "colab": {
          "base_uri": "https://localhost:8080/"
        },
        "id": "DybTeFBbcLRO",
        "outputId": "08fd81ce-7675-441a-b5f5-bccf8247eefb"
      },
      "execution_count": null,
      "outputs": [
        {
          "output_type": "stream",
          "name": "stdout",
          "text": [
            "['   본문 내용     TV플레이어     // TV플레이어     // flash 오류를 우회하기 위한 함수 추가 function _flash_removeCallback() {}    <데이터로 뉴스 읽기> 범죄 양상까지 바꾼 코로나 2014~2020 년 범죄 데이터 분석 사이버범죄  74 % 직거래 등 피해 성인 성착취물 연평균  12 %P 감소 사이버음란물의  54 % 아동 대상 30 대 남성 A씨와  20 대 남성 B씨는 코로나 19 로 캠핑 수요가 늘어나자  2020 년 7월부터 지난해 3월까지 온라인 중고거래 사이트에 고가의 캠핑 용품 등을 싸게 판매한다는 글을 올리고 구입자  130 명에게서 거래대금 1억  5000 만원을 가로챘다. 인터넷 등에 다른 사람들이 올린 장비 사진을 도용해 자신들의 이름과 날짜 등을 합성하는 수법을 썼다. 이후 구입자들에게 택배 송장번호를 보낸 뒤 바로 택배를 취소하거나 상자에 돌을 넣어 보내는 방식으로 속였다. 전형적인 ‘사이버사기’다. ●코로나 이후 사이버범죄  22.8 %P 늘어 코로나 19 로 인한 사회적 거리두기 기간 동안 폭력, 절도 등 강력범죄는 줄고 사이버사기, 사이버금융범죄 등 온라인상 범죄는 증가한 것으로 나타났다. 서울신문이  13 일 경찰청이 공공데이터포털에 공개한  2014 년부터  2020 년까지 연도별 사이버범죄 현황과 전국 경찰서별 강력범죄 발생 현황을 프로그래밍 언어 파이썬을 이용해 분석한 결과 4대 강력범죄(살인·강도·절도·폭력)는  2014 년  55 만  8012 건에서  2020 년  44 만  5845 건으로 약  20 % 감소했으나 사이버범죄는  2014 년  10 만  9979 건에서  2020 년  23 만  4095 건으로 2배 이상 늘었다. 특히 7년간 연평균  10 % 포인트였던 사이버범죄 증가율이  2020 년엔 코로나 19  발생 이전인  2019 년 대비  22.8 % 포인트로 크게 증가했다. 다만 강력범죄와 사이버범죄를 합산한 전체 범죄 발생 건수는  2014 년  66 만  7991 건,  2020 년  67 만  9940 건으로 큰 차이가 없는 점으로 미뤄 범죄 발생 공간이 오프라인에서 온라인으로 이동한 것으로 파악된다.  MobileAdNew center  ●보이스피싱 등 사이버금융범죄 검거율  22 % 불과 사이버범죄 중 가장 많이 발생하는 범죄는 A씨와 B씨가 저지른 것과 같은 ‘사이버사기’ 범죄다. 사이버사기는  2014 년 5만  6667 건 발생으로 전체 사이버범죄 중  51.5 %를 차지했으나  2020 년에는  17 만  4328 건으로 3배 이상 늘어  74.5 %까지 치솟았다. 사이버범죄 발생 건수는 늘었지만 검거율은 전반적으로 감소하는 추세다.  2014 년 사이버범죄 검거율은  64 %였으나 점차 감소해  2020 년에는  52 %까지 떨어졌다. 그중에서도 보이스피싱 같은 사이버금융범죄 검거율은  22 %에 불과했다. 다변화하는 범죄 양상에 대응해 사이버수사 인력 등을 양성하고 투입하는 데 한계가 있었던 정황이 엿보이는 대목이다. 승재현 한국형사법무정책연구원 연구위원은 “사이버범죄는 몸통이 해외에 있는 경우가 많아 일망타진하기 어려운 특징이 있다”면서 “초국가적 협력을 통해 방지하는 대책이 필요하다”고 말했다. ●웹하드 규제에 성인음란물은 감소 웹하드·소라넷을 거쳐 n번방·박사방으로 진화한 성착취물도 변화 양상이 뚜렷했다. 성인 대상 성착취물(일반음란물)은 이 기간 연평균  12 % 포인트씩 감소한 반면 아동 대상 성착취물(아동음란물)은 같은 기간 연평균  54 % 포인트씩 크게 증가한 것으로 나타났다. 경찰청에서 디지털 성착취물 발생 건수를 집계한 ‘사이버음란물’ 혐의는 크게 일반음란물, 아동음란물, 불법촬영 유포 세 가지로 나뉜다. 전체 사이버음란물 발생 건수는  2014 년  4354 건에서  2019 년  2690 건으로 감소 추세가 지속됐다. 불법촬영 문제가 공론화되고 정부가  2018 년 불법촬영 유통의 근원으로 지목된 웹하드, 소라넷 등을 대대적으로 규제하면서 일반음란물 발생 건수는 줄어든 것으로 보인다. 다만 ‘n번방 사건’과 같이 유통 경로가 텔레그램 등으로 다각화되면서 실제 피해가 음성화됐을 가능성이 높다. 2019 년까지 감소 추세를 보이던 사이버음란물 발생 건수는 코로나 19  발생 이후인  2020 년  4831 건으로 다시 늘었다. 폭발적으로 증가한 아동음란물 건수가 전체 건수의 증가를 견인한 것으로 분석된다. 코로나 19 의 영향을 받았던  2020 년 아동음란물 건수는 전년 대비  246 % 증가해 전체 사이버음란물의  54 %를 차지했다.  2014 년에는 이 비중이  16 %였다. 서승희 한국사이버성폭력센터 대표는 “아동·청소년들이 온라인에서 사람을 만나는 것에 점점 익숙해지는 반면 이와 관련한 충분한 교육과 사회적 규제 방안 등이 마련되지 않으면서 이들을 대상으로 한 디지털 성착취가 늘어나고 있는 것으로 보인다”고 짚었다. ※ QR 코드를 통해 서울신문 홈페이지로 이동하시면  2014 년부터  2020 년까지의 4대 강력범죄, 사이버범죄 변화 추이를 인터렉티브 그래픽으로 보실 수 있습니다. \\t  // 본문 내용   ', '   본문 내용     TV플레이어     // TV플레이어     // flash 오류를 우회하기 위한 함수 추가 function _flash_removeCallback() {}   \\t \\t[편집자주] [종목대해부]매일같이 수조원의 자금이 오가는 증시는 정보의 바다이기도 합니다. 정확한 정보보다는 거품을 잡아 손실을 보는 경우가 많습니다. 머니투데이가 상장기업뿐 아니라 기업공개를 앞둔 기업들을 돋보기처럼 분석해 \\'착시투자\\'를 줄여보겠습니다. [펀드 매니저들 \\'청담+씨엠\\' 합병법인 \\'크레버스\\' 성장성에 주식쇼핑] 그래픽=임종철 디자인 기자 청담러닝과 씨엠에스에듀 두 상장기업의 합병에 대한 기관 투자자들의 관심이 뜨겁다. 초중학교 영어와 사고력 기반의 융합교육을 전문으로 하는 두 기업은 오프라인 교육의 대표주자로 꼽혀왔다.  모회사와 자회사 관계인 이들은 지난 2년간 코로나 19 ( COVID-19 ) 여파로 수강생이 급감하고 이익도 급감할 것이란 우려가 제기되기도 했으나 실제 재무제표는  180 도 다르게 쓰여졌다.  두 회사 합산 매출액(개별기준)은  2018 년  1427 억원에서 다음해  1660 억원,  2020 년  1747 억원으로 2년간  22 % 늘었다. 같은 기간 영업이익( 147 억원→ 215 억원→ 225 억원)은  52 % 증가했다. 순이익( 113 억원→ 113 억원→ 139 억원)도  23 % 늘었다.  2021 년 실적은 아직 집계가 마무리되지 않았으나 큰 폭의 성장을 이뤄낸 것으로 보인다. 씨엠에스에듀가 9일 공시한 잠정실적(연결기준)은 매출액  960 억원(전년대비  13.9 % 증가), 영업이익  121 억원( 71.3 % 증가), 순이익  90 억원( 46.6 % 증가) 등이다.  청담러닝과 씨엠에스에듀 합산 영업이익은  300 억원을 훌쩍 넘긴 것으로 증권가는 보고 있다.  start_block ━ 청담러닝, 씨엠에스에듀 코로나 19  우려에도 수강생 급증. 매출 영업익도 호조 ━ end_block 이충국 청담러닝 대표 인터뷰 /사진=김휘선 기자  hwijpg @ 실적개선 배경을 한마디로 정리하면 \"코로나 19 로 종종 학원문을 닫았으나 온라인 비대면 대체수업을 빠르게 준비한 덕에 큰 차질이 생길 정도는 아니었고, 수강생들이 느끼는 수업 만족도가 높아 이탈자가 없었다\"는 것이다.  기관 투자자들은 지난해 3월부터 올해 2월까지 1년 가까이 청담러닝 주식을 계속 사들여왔다. 이 기간 순매수한 수량만  161 만여주로 현재 주가(3만 3400 원)를 기준으로  540 억원에 달하는 규모다. 씨엠에스에듀는 지난해  11 월부터 집중적으로 사들여 이달 현재까지  28 만주 이상 순매수했다.  특히 청담러닝의 경우 최대주주를 제외한  2~4 대 주주가 모두 기관투자자다. 지난해 9월말 기준  KB 자산운용이  10.29 %를 보유하고 있으며 브이아이자산운용과 삼성액티브자산운용이 각각  7.30 %,  5.09 %를 가지고 있다.  이들 보유지분만  22.68 %인데 다른 곳을 더하면 전체 발행주식의  40 % 이상이 기관보유다. 보통 이례적인 현상이 아니다.  기관투자자들의 지분확대는 최근에도 계속되고 있는데, 이들은 청담러닝과 씨엠에스에듀의 합병 시너지에 특히 주목하고 있다는 후문이다.  상장사들은 보통 자회사 사업분할을 통해 상장법인을 늘리는 것이 일반적이다. 빠른 의사결정을 통해 사업에 속도를 붙이겠다는 취지라곤 하지만, 대주주의 지분훼손을 줄이면서도 쉽게 시중자금을 조달할 수 있다는 점이 더 크다.   최근 2차전지 사업을 물적분할해 재상장시킨  LG 화학과  LG 에너지솔루션의 사례가 대표적이다. 그런데 청담러닝과 씨엠에스에듀는 반대로 합체를 택한 것이다. 양사는 지난달 말 임시주주총회를 열어 합병을 승인받았다. 주요 기관의 펀드 매니저들도 일제히 찬성표를 던졌다. 합병에 반대하는 일부 소수 주주의 주식매수청구권 신청 이후 합병(3월1일)이 마무리된다. 합병법인인 \\'크레버스\\'의 신주상장 예정일은 3월  17 일이다. start_block ━ 상장사들, 기업분할로 쪼개지 못해 안달인데…\\'청담러닝+씨엠에스에듀\\' 합병하는 이유는? ━ end_block 청담러닝과 씨엠에스에듀는 왜 합병을 택한 것일까. 앞선  LG 화학 -LG 에너지솔루션의 사례처럼 대주주 입장에선 기업분할이 훨씬 좋은 선택이기 때문이다.  주가측면에서도 그렇다. 기업분할은 대주주에겐 좋지만 소수주주 입장에선 무척 불리한 이벤트다. 지분희석과 알짜사업 이탈로 인한 주가하락이 크게 이뤄지기 때문이다.  반대로 기업 간 합병은 소수주주들에게 유리한 주가상승의 촉매로 작용하는 경우가 많다. 지분을 팔 생각이 아니라면 대주주에게는 별반 좋을 게 없다.  그러나 여의도 증권가에서는 이번 합병을 놓고 \\'대주주와 소수주주가 함께 윈윈할 수 있는 이벤트\\'라고 분석했다. 단기 주가상승으로 인한 차익은 소수주주가 누리는 몫이나, 양사 합병으로 나올 사업 시너지가 기업가치를 장기적으로 올려주기 때문에 대주주 입장에서도 나쁜 선택이 아니라는 지적이다. 양사 주주들의 의결권 연대가 가능하기 때문에 경영권이 더 안정된다는 부수효과도 있다.  시너지는 생각보다 클 수 있다는 분석이다. 단순한 조직 통합이 아니라 화학적 결합이어서다. 애널리스트들은 이번 합병을 \"1+1= 100\\' 이 될 수 있다고 평가한다. 두 기업의 합병으로 탄생하는 크레버스의 강점은 교육품질의 비약적 향상이다. 길 건너 있던 영어학원과 수학학원이 통합하면서 \\'프리미엄 영어, 수학, 코딩교육을 하나의 공간에서 원스톱으로 교육서비스 제공하는 개별 맞춤형 모듈 수업\\'이 이뤄질 수 있게 됐다. 당초 교육계에서는 \"얘기는 되지만 가능성에 머무를 것\"이라고 평가했는데, 크레버스에서는 실제로 일어나버렸다.  크레버스는 청담러닝과 씨엠에스에듀의 오프라인 통합 교육 관(크레버스 캠퍼스)을 준비해왔다. 올해 1월 초 서울 대치동을 비롯해 목동, 중계 등 수도권 교육특수 8개 지역에서 이미 프로그램이 시작됐고 연말까지  10~15 개 지역으로 확대된다.  start_block ━ 수강생, 1년만에   7.8 만→9만으로  15 % 증가. 합병 후 폭발성장 전망 ━ end_block 이충국 청담러닝 대표 인터뷰 /사진=김휘선 기자  hwijpg @ 크레버스 캠퍼스 효과가 더해지며 수강생이 급증했는데 양사 수강생은  2021 년 1월 7만 8000 명에서 올해 1월 9만명이 됐다.  프리미엄 영어 유치원 브랜드 \\'크레버스 키즈\\'도 3월 론칭한다. \\'롯데백화점 최초의 영어유치원 입점(잠실 롯데월드 타워몰)\\'으로 강남-송파 맘들에게 이슈가 되면서 입학설명회 당일 현장 등록률이  95 %에 이를 정도였으며, 개원 입학 모집이 조기에 마감돼버렸다. 이로 인해 \\'크레버스 키즈\\'에서만 올해 최소  30 억 원의 안정적인 신규 매출이 발생될 것으로 예상된다. 해외나 영어특구 유학보다 교육프로그램이 좋다는 게 학무모들의 판단이다. 유아 영어로 유명했던 청담러닝의 아이가르텐 프로그램으로 아이들에게 사고력 수학과 키즈금융을 가르치고 코딩교육까지 해준다.  한 학부모는 \"월  200 만원 비용인데 가성비를 생각하면 오히려  싼 가격\"이라며 \"이 프로그램들을 따로 들으려면  300 만원 가까이 지불해야 하고, 학원마다 픽업을 다녀야 하기 때문에 부모나 아이의 시간낭비가 무척 크다\"고 말했다.  이충국 청담러닝 대표는 \"크레버스 캠퍼스는 단순히 영어로 수학을 가르치는 게 아니다\"라고 설명했다. 청담러닝은 영어를 모국어로 쓰지 않는 국가에서 개발한  ESL ( English   as  a  second   language ) 교육프로그램에서 세계 최고의 수준을 자랑한다. 대책없는 암기보다 영어로 생각하고 토론하는 법을 가르친다.  씨엠에스에듀도 세계적으로 인정받는 사고력 기반의 융합교육 전문기업이다. 예컨대  1/5 을 \"사과 1쪽을 5명이 나눠 먹으려면 어떻게 해야 하나\"라는 방식으로 가르치거나 \\'미국으로 출장 간 아버지가 오전 9시 전화를 건다 했으면 그곳은 몇 시고 시차는 왜 생길까\\' 이런 식으로 생각하게 한다.  서울과학고 입학생과 수학올림피아드 대표의 절반이상이 씨엠에스에듀 출신이다. 교육열이 높은 강남, 목동 등 주요지역에서 사고력 수학과 영재교육 부문 최고의 브랜드 파워를 지닌다.  start_block ━ 영재수학, 사고력 학습에 컴퓨터 코딩교육까지 영어로 배우면? ━ end_block 청담러닝의 자체개발 메타버스 플랫폼 \\'바운시\\'/사진제공=청담러닝 이 대표는 \"영어와 사고력수학 모두 문해력과 상상력을 결합하는 커리큘럼이라는 특징이 있다\"며 \"크레버스 캠퍼스에서는 특히 학습유형을 분석해 각각의 아이들에게 맞는 스타일로 맞춤형 수업을 진행한다는 점도 유일한 경쟁력\"이라고 강조했다.  전교 1등이 다니는 영어학원과 길 건너 영재수학 학원이 합쳐지기만 해도 수강생이 몰려들텐데, 기존에 없던 수업방식까지 더해지니 교육계를 압도할 파괴력이 나타날 것이라는 게 증권가의 분석이다. 아이들 코딩도 이런 방식으로 교육된다.  이 대표는 \"크레버스는 창의성( CREATIVITY )과 세계( UNIVERSE )의 합성어로 창의력을 올려주는 다양한 소재로 쉽고 재미있는 교육을 하자는 의지가 반영돼 있다\"며 \"메타버스 교육에 최적화된 시스템을 만들자는 취지도 들어가 있다\"고 첨언했다.  김두현 하나금융투자 연구원은 \"영어, 수학, 코딩교육을 아우르는 프리미엄 유치원의 재원모집 사전 마감은 시사하는 바가 크다\"며 \"이번 합병을 통해 청담러닝과 씨엠에스에듀의 크로스 마케팅 효과가 본격화된다는 점에 주목해야 한다\"고 말했다.  이승훈  IBK 투자증권 연구원은 \"합병법인인 크레버스의  2023 년 목표 매출액  3000 억원과 영업이익률  20 %가 실현될 가능성이 높다\"며 \"코로나 19  팬데믹을 극복하는 라이브 클래스를 통해 교육시장에서 가장 빠른 트랜스포메이션을 실현해 학부모들의 신뢰가 무척 두텁다는 점도 강점\"이라고 설명했다.  주목할 것은 교육영역 확대다. 청담러닝과 씨엠에스에듀 모두 프리미엄 초중등학생층을 주요 대상으로 삼아왔는데 더해지고 커지는 사업이 상당하다. 일단 \\'크레버스 키즈\\'를 통해 유아 교육시장에 본격적으로 진출하였고, 흥행에 성공한 코딩교육도 이를 유아 및 성인에까지 확대한다는 게 이 대표의 구상이다. 업계 최고의 교육 실적을 자랑하는 영재관 사업도 기존의 초중등 시장을 넘어  2023 년부터는 대입시장에까지 진출할 것으로 예상된다. start_block ━ 1년만에 재원생  80 % 증가한 코딩교육…비대면 라이브 온라인 수업, 메타버스 교육도 흥행예상 ━ end_block 코드 얼라이브 프로그램/사진제공=씨엠에스에듀 이 대표는 \"코딩교육을 받은 아이들이 게임이나 음악연주 같은 앱을 만드는 모습을 본 어른들이 성인과정을 열어달라고 요청하고 있다\"며 유아와 초등, 중등수업이 오후 7시 전후 끝나기 때문에 이를 활용하는 방안도 가능하겠다는 생각을 한다\"고 말했다.  파이썬을 쉽고 재미있게 배우는 온라인 코딩교육 플랫폼 \\'코드얼라이브( codeAlive )\\'도 인기가 높다. 코드얼라이브는 유니티( Unity ) 엔진기반으로 만든 완전히 새로운 방식의 코딩교육 플랫폼이다. 코딩 입문자부터 전문가까지 파이썬을 학습할 수 있는데 해외에서도 수업을 할 수 있다는 점에서 확장 잠재력이 크다.  2021 년 재원생수 증가율(전년대비)  80 % 이상을 기록한 씨큐브코딩의 매출은  60 억 ~70 억원으로 추산되는데 올해는 사업부 최초로  100 억원 돌파가 유력해보인다는 설염도 이어졌다. 올해 상반기 개원이 예정된 씨큐브 가맹센터만  6~7 곳이다.  이 대표는 메타버스 교육에 거는 기대도 크다고 했다. 그는 \"기존 교육과정 모두 오프라인 못지 않게 비대면 라이브 수업의 비중이 커지고 있다\"며 \"전염병으로 등원을 못하는 경우 뿐 아니라 해외 주재원들의 자녀교육이나 지방, 오지 교육이 가능하다는 장점이 크다\"고 말했다.  그는 이어 \"이를 위해서는  AR (증강현실) 시스템 구축이 중요한데 개발업체 인수와 국내 최고 개발자 영입을 통해 메타버스 교육 플랫폼을 만들 것\"이라며 \"비대면 수업의 경우 지루하면 수강생들의 흥미가 급격히 떨어지기 때문에 오프라인에서 효과가 있는 툴과 교육자재  600 여개를 온라인화하고 있으며 테스트 결과  92 %의 만족도가 나와 효과가 확인됐다\"고 설명했다.  양사 합병 이후, 브랜드 통합 시너지의 중심으로 자리잡게 될 \\'비대면 라이브 원격 학원\\' 바운시( BOUNCY , 영어)와 노이지( NOISY , 수학)도 출시가 임박했다. 아바타와 연동하는 방식의 메타버스 학습 요소가 포함된 바운시와 노이지는 3월 1일에 정식 런칭하게 된다고 이 대표는 덧붙였다. article_split    // 본문 내용   ', \"   본문 내용     TV플레이어     // TV플레이어     // flash 오류를 우회하기 위한 함수 추가 function _flash_removeCallback() {}    공주대 보건행정학과, 컴퓨터공학부 소프트웨어전공 특강 *재판매 및 DB 금지 [공주=뉴시스] 유순상 기자 = 공주대는 보건행정학과와 컴퓨터공학부 소프트웨어전공이 융합형 보건의료데이터마이닝 기초과정 온라인 특강을 11·12일까지 이틀간 유튜브(Youtube)와 줌(ZOOM)으로 개최했다고 13일 밝혔다 ‘파이썬 기초’, ‘AI 혁신 리더쉽’, ‘데이터 분석 활용 사례’, ‘지도 학습 개념 및 알고리즘’, ‘비지도 학습 및 알고리즘’ 순서로 특강이 진행됐다. 보건의료SW융합인재양성 교육과정은 변화하는 보건의료 직업 환경에 대한 정보기술 동향을 제공하는 것 뿐만 아니라 헬스케어 분야에서 지능정보기술 및 소프트웨어을 활용할 수 있는 실용적 실무교육을 제공한다. ◇공주대 금형설계공학과 '금형기술 최고전문가 역량강화과정’ 공주대 금형설계공학과 '금형기술 최고전문가 역량강화과정’ *재판매 및 DB 금지 공주대는 공과대학 금형설계공학과가 교내에서  '금형기술 최고전문가 역량강화과정’을 운영했다고 13일 밝혔다.. 최계광 (글로벌금형기술연구소장)교수가 지역산업체 및 수요자가 쉽게 접근해 활용할 수 있는 금형기술 최고전문가 역량강화과정을 소개했다. 김세환 전객원교수, 이은종 전객원교수, 이춘규 금형설계공학과 교수가 세부 강의를 진행했다.    // 본문 내용   \"]\n"
          ]
        }
      ]
    },
    {
      "cell_type": "code",
      "source": [
        "print(len(naver_news_title[0]))\n",
        "print(len(naver_news_content[0]))"
      ],
      "metadata": {
        "colab": {
          "base_uri": "https://localhost:8080/"
        },
        "id": "3XdHUzGfcPj2",
        "outputId": "bda88021-8aeb-48c9-b548-3b8af993657f"
      },
      "execution_count": null,
      "outputs": [
        {
          "output_type": "stream",
          "name": "stdout",
          "text": [
            "3\n",
            "3\n"
          ]
        }
      ]
    },
    {
      "cell_type": "markdown",
      "source": [
        "## 크롤링 결과 저장"
      ],
      "metadata": {
        "id": "mtXYEPBLcd8v"
      }
    },
    {
      "cell_type": "code",
      "source": [
        "with open('/content/drive/MyDrive/DL/AtoZ/crawling/naver_news_title.pk', 'wb') as f:\n",
        "  pickle.dump(naver_news_title, f)\n",
        "\n",
        "with open('/content/drive/MyDrive/DL/AtoZ/crawling/naver_news_content.pk', 'wb') as f:\n",
        "  pickle.dump(naver_news_content, f)"
      ],
      "metadata": {
        "id": "Q8doyhSzccE8"
      },
      "execution_count": null,
      "outputs": []
    }
  ]
}