{
  "nbformat": 4,
  "nbformat_minor": 0,
  "metadata": {
    "colab": {
      "name": "6-4 CNN.ipynb",
      "provenance": []
    },
    "kernelspec": {
      "name": "python3",
      "display_name": "Python 3"
    },
    "language_info": {
      "name": "python"
    },
    "accelerator": "GPU"
  },
  "cells": [
    {
      "cell_type": "code",
      "execution_count": 1,
      "metadata": {
        "colab": {
          "base_uri": "https://localhost:8080/"
        },
        "id": "9eH1NsFcg88d",
        "outputId": "f34d440f-209d-4a43-a169-2d57179a46ac"
      },
      "outputs": [
        {
          "output_type": "stream",
          "name": "stdout",
          "text": [
            "Found GPU at: /device:GPU:0\n"
          ]
        }
      ],
      "source": [
        "%tensorflow_version 2.x\n",
        "import tensorflow as tf\n",
        "device_name = tf.test.gpu_device_name()\n",
        "if device_name != '/device:GPU:0':\n",
        "  raise SystemError('GPU device not found')\n",
        "print('Found GPU at: {}'.format(device_name))"
      ]
    },
    {
      "cell_type": "code",
      "execution_count": 25,
      "metadata": {
        "id": "SM_VYvx8ZR5Z"
      },
      "outputs": [],
      "source": [
        "import numpy as np\n",
        "\n",
        "from tensorflow.keras.layers import Conv2D, MaxPool2D, Flatten, Dense\n",
        "from tensorflow.keras.models import Sequential"
      ]
    },
    {
      "cell_type": "markdown",
      "source": [
        "# CNN"
      ],
      "metadata": {
        "id": "n4rTiO4uZa-2"
      }
    },
    {
      "cell_type": "markdown",
      "source": [
        "## 하이퍼파라미터 정의"
      ],
      "metadata": {
        "id": "jiAMCQKAZjbK"
      }
    },
    {
      "cell_type": "code",
      "source": [
        "EPOCHS = 100"
      ],
      "metadata": {
        "id": "MFqUYrHOZaQX"
      },
      "execution_count": 32,
      "outputs": []
    },
    {
      "cell_type": "markdown",
      "source": [
        "## 네트워크 구조"
      ],
      "metadata": {
        "id": "EQ97EwpLZnba"
      }
    },
    {
      "cell_type": "code",
      "source": [
        "def MyModel():\n",
        "  return Sequential([Conv2D(32, (3, 3), padding='same', activation='relu'), # 28x28x32\n",
        "                     MaxPool2D(), # 14x14x32\n",
        "                     Conv2D(64, (3, 3), padding='same', activation='relu'), # 14x14x64\n",
        "                     MaxPool2D(), # 7x7x64\n",
        "                     Conv2D(128, (3, 3), padding='same', activation='relu'), # 7x7x128\n",
        "                     Flatten(), # 6272\n",
        "                     Dense(128, activation='relu'),\n",
        "                     Dense(10, activation='softmax')]) # 128"
      ],
      "metadata": {
        "id": "FJlk_nMjZmzv"
      },
      "execution_count": 23,
      "outputs": []
    },
    {
      "cell_type": "markdown",
      "source": [
        "## 데이터 불러오기"
      ],
      "metadata": {
        "id": "4tbej5A5ZxgP"
      }
    },
    {
      "cell_type": "code",
      "source": [
        "fashion_mnist = tf.keras.datasets.fashion_mnist\n",
        "\n",
        "(x_train, y_train), (x_test, y_test) = fashion_mnist.load_data()\n",
        "x_train, x_test = x_train/255.0, x_test/255.0\n",
        "\n",
        "x_train = x_train.astype(np.float32)\n",
        "x_test = x_test.astype(np.float32)\n",
        "\n",
        "# NHWC\n",
        "x_train = x_train[..., np.newaxis]\n",
        "x_test = x_test[..., np.newaxis]\n",
        "\n",
        "train_ds = tf.data.Dataset.from_tensor_slices((x_train, y_train)).shuffle(10000).batch(32).prefetch(2048)\n",
        "test_ds = tf.data.Dataset.from_tensor_slices((x_train, y_train)).batch(32).prefetch(2048)"
      ],
      "metadata": {
        "id": "OSbFTo_eZzR1"
      },
      "execution_count": 7,
      "outputs": []
    },
    {
      "cell_type": "code",
      "source": [
        "print(x_train.shape, x_train[0].shape)"
      ],
      "metadata": {
        "colab": {
          "base_uri": "https://localhost:8080/"
        },
        "id": "pcD72y6kacp5",
        "outputId": "a13783a3-3cd4-449a-f724-d680151b35e6"
      },
      "execution_count": 8,
      "outputs": [
        {
          "output_type": "stream",
          "name": "stdout",
          "text": [
            "(60000, 28, 28, 1) (28, 28, 1)\n"
          ]
        }
      ]
    },
    {
      "cell_type": "markdown",
      "source": [
        "## 모델 생성"
      ],
      "metadata": {
        "id": "5sOZ_ZEKfxdr"
      }
    },
    {
      "cell_type": "code",
      "source": [
        "model = MyModel()\n",
        "\n",
        "model.compile(optimizer='adam',\n",
        "              loss='sparse_categorical_crossentropy',\n",
        "              metrics=['accuracy'])"
      ],
      "metadata": {
        "id": "eQ4qEYEJaiIN"
      },
      "execution_count": 26,
      "outputs": []
    },
    {
      "cell_type": "markdown",
      "source": [
        "## 모델 학습"
      ],
      "metadata": {
        "id": "SP77--oafznu"
      }
    },
    {
      "cell_type": "code",
      "source": [
        "history = model.fit(train_ds, validation_data=test_ds, epochs=EPOCHS)"
      ],
      "metadata": {
        "colab": {
          "base_uri": "https://localhost:8080/"
        },
        "id": "BpA02E6MfqbH",
        "outputId": "d7febdf8-2672-47c6-f8a6-1900a7cc0fff"
      },
      "execution_count": 33,
      "outputs": [
        {
          "output_type": "stream",
          "name": "stdout",
          "text": [
            "Epoch 1/100\n",
            "1875/1875 [==============================] - 10s 5ms/step - loss: 0.0265 - accuracy: 0.9914 - val_loss: 0.0203 - val_accuracy: 0.9936\n",
            "Epoch 2/100\n",
            "1875/1875 [==============================] - 10s 5ms/step - loss: 0.0268 - accuracy: 0.9912 - val_loss: 0.0207 - val_accuracy: 0.9929\n",
            "Epoch 3/100\n",
            "1875/1875 [==============================] - 10s 5ms/step - loss: 0.0194 - accuracy: 0.9932 - val_loss: 0.0653 - val_accuracy: 0.9800\n",
            "Epoch 4/100\n",
            "1875/1875 [==============================] - 10s 5ms/step - loss: 0.0263 - accuracy: 0.9917 - val_loss: 0.0181 - val_accuracy: 0.9939\n",
            "Epoch 5/100\n",
            "1875/1875 [==============================] - 10s 5ms/step - loss: 0.0192 - accuracy: 0.9938 - val_loss: 0.0160 - val_accuracy: 0.9942\n",
            "Epoch 6/100\n",
            "1875/1875 [==============================] - 10s 5ms/step - loss: 0.0267 - accuracy: 0.9916 - val_loss: 0.0253 - val_accuracy: 0.9913\n",
            "Epoch 7/100\n",
            "1875/1875 [==============================] - 11s 6ms/step - loss: 0.0209 - accuracy: 0.9935 - val_loss: 0.0152 - val_accuracy: 0.9947\n",
            "Epoch 8/100\n",
            "1875/1875 [==============================] - 10s 5ms/step - loss: 0.0224 - accuracy: 0.9929 - val_loss: 0.0127 - val_accuracy: 0.9956\n",
            "Epoch 9/100\n",
            "1875/1875 [==============================] - 10s 6ms/step - loss: 0.0222 - accuracy: 0.9934 - val_loss: 0.0155 - val_accuracy: 0.9954\n",
            "Epoch 10/100\n",
            "1875/1875 [==============================] - 10s 6ms/step - loss: 0.0207 - accuracy: 0.9939 - val_loss: 0.0127 - val_accuracy: 0.9960\n",
            "Epoch 11/100\n",
            "1875/1875 [==============================] - 10s 6ms/step - loss: 0.0222 - accuracy: 0.9935 - val_loss: 0.0178 - val_accuracy: 0.9938\n",
            "Epoch 12/100\n",
            "1875/1875 [==============================] - 10s 5ms/step - loss: 0.0227 - accuracy: 0.9934 - val_loss: 0.0147 - val_accuracy: 0.9951\n",
            "Epoch 13/100\n",
            "1875/1875 [==============================] - 10s 5ms/step - loss: 0.0221 - accuracy: 0.9937 - val_loss: 0.0172 - val_accuracy: 0.9950\n",
            "Epoch 14/100\n",
            "1875/1875 [==============================] - 10s 5ms/step - loss: 0.0210 - accuracy: 0.9937 - val_loss: 0.0176 - val_accuracy: 0.9943\n",
            "Epoch 15/100\n",
            "1875/1875 [==============================] - 10s 5ms/step - loss: 0.0187 - accuracy: 0.9942 - val_loss: 0.0108 - val_accuracy: 0.9964\n",
            "Epoch 16/100\n",
            "1875/1875 [==============================] - 10s 5ms/step - loss: 0.0170 - accuracy: 0.9948 - val_loss: 0.0091 - val_accuracy: 0.9972\n",
            "Epoch 17/100\n",
            "1875/1875 [==============================] - 10s 5ms/step - loss: 0.0199 - accuracy: 0.9941 - val_loss: 0.0113 - val_accuracy: 0.9960\n",
            "Epoch 18/100\n",
            "1875/1875 [==============================] - 10s 5ms/step - loss: 0.0169 - accuracy: 0.9948 - val_loss: 0.0139 - val_accuracy: 0.9962\n",
            "Epoch 19/100\n",
            "1875/1875 [==============================] - 10s 5ms/step - loss: 0.0189 - accuracy: 0.9948 - val_loss: 0.0188 - val_accuracy: 0.9945\n",
            "Epoch 20/100\n",
            "1875/1875 [==============================] - 10s 5ms/step - loss: 0.0188 - accuracy: 0.9945 - val_loss: 0.0185 - val_accuracy: 0.9953\n",
            "Epoch 21/100\n",
            "1875/1875 [==============================] - 10s 5ms/step - loss: 0.0172 - accuracy: 0.9949 - val_loss: 0.0126 - val_accuracy: 0.9964\n",
            "Epoch 22/100\n",
            "1875/1875 [==============================] - 10s 5ms/step - loss: 0.0171 - accuracy: 0.9952 - val_loss: 0.0121 - val_accuracy: 0.9966\n",
            "Epoch 23/100\n",
            "1875/1875 [==============================] - 10s 5ms/step - loss: 0.0230 - accuracy: 0.9940 - val_loss: 0.0163 - val_accuracy: 0.9953\n",
            "Epoch 24/100\n",
            "1875/1875 [==============================] - 10s 5ms/step - loss: 0.0184 - accuracy: 0.9951 - val_loss: 0.0086 - val_accuracy: 0.9973\n",
            "Epoch 25/100\n",
            "1875/1875 [==============================] - 10s 5ms/step - loss: 0.0161 - accuracy: 0.9956 - val_loss: 0.0113 - val_accuracy: 0.9962\n",
            "Epoch 26/100\n",
            "1875/1875 [==============================] - 10s 5ms/step - loss: 0.0192 - accuracy: 0.9948 - val_loss: 0.0103 - val_accuracy: 0.9969\n",
            "Epoch 27/100\n",
            "1875/1875 [==============================] - 10s 6ms/step - loss: 0.0156 - accuracy: 0.9957 - val_loss: 0.0214 - val_accuracy: 0.9942\n",
            "Epoch 28/100\n",
            "1875/1875 [==============================] - 10s 5ms/step - loss: 0.0183 - accuracy: 0.9947 - val_loss: 0.0113 - val_accuracy: 0.9967\n",
            "Epoch 29/100\n",
            "1875/1875 [==============================] - 10s 5ms/step - loss: 0.0180 - accuracy: 0.9954 - val_loss: 0.0108 - val_accuracy: 0.9969\n",
            "Epoch 30/100\n",
            "1875/1875 [==============================] - 10s 5ms/step - loss: 0.0177 - accuracy: 0.9955 - val_loss: 0.0302 - val_accuracy: 0.9931\n",
            "Epoch 31/100\n",
            "1875/1875 [==============================] - 10s 5ms/step - loss: 0.0186 - accuracy: 0.9954 - val_loss: 0.0100 - val_accuracy: 0.9972\n",
            "Epoch 32/100\n",
            "1875/1875 [==============================] - 10s 5ms/step - loss: 0.0197 - accuracy: 0.9952 - val_loss: 0.0087 - val_accuracy: 0.9973\n",
            "Epoch 33/100\n",
            "1875/1875 [==============================] - 10s 5ms/step - loss: 0.0169 - accuracy: 0.9959 - val_loss: 0.0080 - val_accuracy: 0.9975\n",
            "Epoch 34/100\n",
            "1875/1875 [==============================] - 10s 5ms/step - loss: 0.0186 - accuracy: 0.9952 - val_loss: 0.0105 - val_accuracy: 0.9968\n",
            "Epoch 35/100\n",
            "1875/1875 [==============================] - 10s 5ms/step - loss: 0.0178 - accuracy: 0.9957 - val_loss: 0.0144 - val_accuracy: 0.9958\n",
            "Epoch 36/100\n",
            "1875/1875 [==============================] - 10s 5ms/step - loss: 0.0184 - accuracy: 0.9954 - val_loss: 0.0150 - val_accuracy: 0.9960\n",
            "Epoch 37/100\n",
            "1875/1875 [==============================] - 10s 5ms/step - loss: 0.0163 - accuracy: 0.9958 - val_loss: 0.0233 - val_accuracy: 0.9939\n",
            "Epoch 38/100\n",
            "1875/1875 [==============================] - 10s 5ms/step - loss: 0.0163 - accuracy: 0.9962 - val_loss: 0.0065 - val_accuracy: 0.9982\n",
            "Epoch 39/100\n",
            "1875/1875 [==============================] - 10s 5ms/step - loss: 0.0146 - accuracy: 0.9962 - val_loss: 0.0190 - val_accuracy: 0.9950\n",
            "Epoch 40/100\n",
            "1875/1875 [==============================] - 10s 5ms/step - loss: 0.0219 - accuracy: 0.9954 - val_loss: 0.0084 - val_accuracy: 0.9979\n",
            "Epoch 41/100\n",
            "1875/1875 [==============================] - 10s 5ms/step - loss: 0.0146 - accuracy: 0.9962 - val_loss: 0.0105 - val_accuracy: 0.9971\n",
            "Epoch 42/100\n",
            "1875/1875 [==============================] - 10s 5ms/step - loss: 0.0143 - accuracy: 0.9962 - val_loss: 0.0158 - val_accuracy: 0.9963\n",
            "Epoch 43/100\n",
            "1875/1875 [==============================] - 10s 5ms/step - loss: 0.0194 - accuracy: 0.9952 - val_loss: 0.0126 - val_accuracy: 0.9967\n",
            "Epoch 44/100\n",
            "1875/1875 [==============================] - 10s 5ms/step - loss: 0.0193 - accuracy: 0.9959 - val_loss: 0.0121 - val_accuracy: 0.9966\n",
            "Epoch 45/100\n",
            "1875/1875 [==============================] - 10s 5ms/step - loss: 0.0177 - accuracy: 0.9952 - val_loss: 0.0085 - val_accuracy: 0.9979\n",
            "Epoch 46/100\n",
            "1875/1875 [==============================] - 10s 5ms/step - loss: 0.0171 - accuracy: 0.9959 - val_loss: 0.0086 - val_accuracy: 0.9975\n",
            "Epoch 47/100\n",
            "1875/1875 [==============================] - 10s 5ms/step - loss: 0.0178 - accuracy: 0.9956 - val_loss: 0.0159 - val_accuracy: 0.9962\n",
            "Epoch 48/100\n",
            "1875/1875 [==============================] - 10s 5ms/step - loss: 0.0144 - accuracy: 0.9963 - val_loss: 0.0233 - val_accuracy: 0.9943\n",
            "Epoch 49/100\n",
            "1875/1875 [==============================] - 10s 5ms/step - loss: 0.0185 - accuracy: 0.9958 - val_loss: 0.0124 - val_accuracy: 0.9968\n",
            "Epoch 50/100\n",
            "1875/1875 [==============================] - 10s 5ms/step - loss: 0.0183 - accuracy: 0.9959 - val_loss: 0.0193 - val_accuracy: 0.9955\n",
            "Epoch 51/100\n",
            "1875/1875 [==============================] - 10s 5ms/step - loss: 0.0119 - accuracy: 0.9969 - val_loss: 0.0114 - val_accuracy: 0.9974\n",
            "Epoch 52/100\n",
            "1875/1875 [==============================] - 10s 5ms/step - loss: 0.0210 - accuracy: 0.9952 - val_loss: 0.0100 - val_accuracy: 0.9977\n",
            "Epoch 53/100\n",
            "1875/1875 [==============================] - 10s 5ms/step - loss: 0.0152 - accuracy: 0.9966 - val_loss: 0.0205 - val_accuracy: 0.9962\n",
            "Epoch 54/100\n",
            "1875/1875 [==============================] - 10s 5ms/step - loss: 0.0224 - accuracy: 0.9954 - val_loss: 0.0141 - val_accuracy: 0.9963\n",
            "Epoch 55/100\n",
            "1875/1875 [==============================] - 10s 5ms/step - loss: 0.0140 - accuracy: 0.9963 - val_loss: 0.0131 - val_accuracy: 0.9970\n",
            "Epoch 56/100\n",
            "1875/1875 [==============================] - 10s 5ms/step - loss: 0.0171 - accuracy: 0.9966 - val_loss: 0.0154 - val_accuracy: 0.9963\n",
            "Epoch 57/100\n",
            "1875/1875 [==============================] - 10s 6ms/step - loss: 0.0162 - accuracy: 0.9964 - val_loss: 0.0075 - val_accuracy: 0.9981\n",
            "Epoch 58/100\n",
            "1875/1875 [==============================] - 10s 5ms/step - loss: 0.0193 - accuracy: 0.9959 - val_loss: 0.0115 - val_accuracy: 0.9977\n",
            "Epoch 59/100\n",
            "1875/1875 [==============================] - 10s 5ms/step - loss: 0.0122 - accuracy: 0.9969 - val_loss: 0.0062 - val_accuracy: 0.9981\n",
            "Epoch 60/100\n",
            "1875/1875 [==============================] - 10s 5ms/step - loss: 0.0175 - accuracy: 0.9963 - val_loss: 0.0144 - val_accuracy: 0.9972\n",
            "Epoch 61/100\n",
            "1875/1875 [==============================] - 10s 5ms/step - loss: 0.0145 - accuracy: 0.9970 - val_loss: 0.0185 - val_accuracy: 0.9955\n",
            "Epoch 62/100\n",
            "1875/1875 [==============================] - 10s 5ms/step - loss: 0.0198 - accuracy: 0.9960 - val_loss: 0.0145 - val_accuracy: 0.9973\n",
            "Epoch 63/100\n",
            "1875/1875 [==============================] - 10s 5ms/step - loss: 0.0196 - accuracy: 0.9961 - val_loss: 0.0132 - val_accuracy: 0.9971\n",
            "Epoch 64/100\n",
            "1875/1875 [==============================] - 10s 5ms/step - loss: 0.0195 - accuracy: 0.9961 - val_loss: 0.0066 - val_accuracy: 0.9981\n",
            "Epoch 65/100\n",
            "1875/1875 [==============================] - 10s 5ms/step - loss: 0.0216 - accuracy: 0.9961 - val_loss: 0.0167 - val_accuracy: 0.9965\n",
            "Epoch 66/100\n",
            "1875/1875 [==============================] - 10s 5ms/step - loss: 0.0155 - accuracy: 0.9969 - val_loss: 0.0090 - val_accuracy: 0.9979\n",
            "Epoch 67/100\n",
            "1875/1875 [==============================] - 10s 5ms/step - loss: 0.0120 - accuracy: 0.9972 - val_loss: 0.0093 - val_accuracy: 0.9981\n",
            "Epoch 68/100\n",
            "1875/1875 [==============================] - 10s 5ms/step - loss: 0.0181 - accuracy: 0.9965 - val_loss: 0.0236 - val_accuracy: 0.9950\n",
            "Epoch 69/100\n",
            "1875/1875 [==============================] - 10s 5ms/step - loss: 0.0176 - accuracy: 0.9967 - val_loss: 0.0183 - val_accuracy: 0.9967\n",
            "Epoch 70/100\n",
            "1875/1875 [==============================] - 10s 5ms/step - loss: 0.0192 - accuracy: 0.9963 - val_loss: 0.0077 - val_accuracy: 0.9982\n",
            "Epoch 71/100\n",
            "1875/1875 [==============================] - 10s 5ms/step - loss: 0.0149 - accuracy: 0.9970 - val_loss: 0.0116 - val_accuracy: 0.9975\n",
            "Epoch 72/100\n",
            "1875/1875 [==============================] - 10s 5ms/step - loss: 0.0186 - accuracy: 0.9964 - val_loss: 0.0181 - val_accuracy: 0.9965\n",
            "Epoch 73/100\n",
            "1875/1875 [==============================] - 10s 6ms/step - loss: 0.0177 - accuracy: 0.9967 - val_loss: 0.0196 - val_accuracy: 0.9974\n",
            "Epoch 74/100\n",
            "1875/1875 [==============================] - 10s 5ms/step - loss: 0.0170 - accuracy: 0.9967 - val_loss: 0.0095 - val_accuracy: 0.9982\n",
            "Epoch 75/100\n",
            "1875/1875 [==============================] - 10s 5ms/step - loss: 0.0162 - accuracy: 0.9969 - val_loss: 0.0293 - val_accuracy: 0.9956\n",
            "Epoch 76/100\n",
            "1875/1875 [==============================] - 10s 5ms/step - loss: 0.0240 - accuracy: 0.9962 - val_loss: 0.0145 - val_accuracy: 0.9971\n",
            "Epoch 77/100\n",
            "1875/1875 [==============================] - 10s 5ms/step - loss: 0.0176 - accuracy: 0.9969 - val_loss: 0.0276 - val_accuracy: 0.9951\n",
            "Epoch 78/100\n",
            "1875/1875 [==============================] - 10s 5ms/step - loss: 0.0154 - accuracy: 0.9967 - val_loss: 0.0111 - val_accuracy: 0.9976\n",
            "Epoch 79/100\n",
            "1875/1875 [==============================] - 10s 5ms/step - loss: 0.0256 - accuracy: 0.9958 - val_loss: 0.0092 - val_accuracy: 0.9976\n",
            "Epoch 80/100\n",
            "1875/1875 [==============================] - 10s 5ms/step - loss: 0.0191 - accuracy: 0.9967 - val_loss: 0.0067 - val_accuracy: 0.9985\n",
            "Epoch 81/100\n",
            "1875/1875 [==============================] - 10s 5ms/step - loss: 0.0148 - accuracy: 0.9972 - val_loss: 0.0077 - val_accuracy: 0.9982\n",
            "Epoch 82/100\n",
            "1875/1875 [==============================] - 10s 5ms/step - loss: 0.0210 - accuracy: 0.9965 - val_loss: 0.0084 - val_accuracy: 0.9984\n",
            "Epoch 83/100\n",
            "1875/1875 [==============================] - 10s 5ms/step - loss: 0.0176 - accuracy: 0.9965 - val_loss: 0.0120 - val_accuracy: 0.9974\n",
            "Epoch 84/100\n",
            "1875/1875 [==============================] - 10s 5ms/step - loss: 0.0128 - accuracy: 0.9976 - val_loss: 0.0294 - val_accuracy: 0.9956\n",
            "Epoch 85/100\n",
            "1875/1875 [==============================] - 10s 5ms/step - loss: 0.0195 - accuracy: 0.9968 - val_loss: 0.0133 - val_accuracy: 0.9977\n",
            "Epoch 86/100\n",
            "1875/1875 [==============================] - 10s 5ms/step - loss: 0.0207 - accuracy: 0.9966 - val_loss: 0.0098 - val_accuracy: 0.9977\n",
            "Epoch 87/100\n",
            "1875/1875 [==============================] - 10s 5ms/step - loss: 0.0218 - accuracy: 0.9966 - val_loss: 0.0150 - val_accuracy: 0.9976\n",
            "Epoch 88/100\n",
            "1875/1875 [==============================] - 10s 5ms/step - loss: 0.0144 - accuracy: 0.9974 - val_loss: 0.0082 - val_accuracy: 0.9986\n",
            "Epoch 89/100\n",
            "1875/1875 [==============================] - 10s 5ms/step - loss: 0.0198 - accuracy: 0.9968 - val_loss: 0.0082 - val_accuracy: 0.9985\n",
            "Epoch 90/100\n",
            "1875/1875 [==============================] - 10s 5ms/step - loss: 0.0185 - accuracy: 0.9969 - val_loss: 0.0222 - val_accuracy: 0.9957\n",
            "Epoch 91/100\n",
            "1875/1875 [==============================] - 10s 6ms/step - loss: 0.0131 - accuracy: 0.9976 - val_loss: 0.0150 - val_accuracy: 0.9974\n",
            "Epoch 92/100\n",
            "1875/1875 [==============================] - 10s 5ms/step - loss: 0.0199 - accuracy: 0.9966 - val_loss: 0.0104 - val_accuracy: 0.9979\n",
            "Epoch 93/100\n",
            "1875/1875 [==============================] - 10s 6ms/step - loss: 0.0164 - accuracy: 0.9973 - val_loss: 0.0108 - val_accuracy: 0.9981\n",
            "Epoch 94/100\n",
            "1875/1875 [==============================] - 10s 5ms/step - loss: 0.0185 - accuracy: 0.9969 - val_loss: 0.0114 - val_accuracy: 0.9978\n",
            "Epoch 95/100\n",
            "1875/1875 [==============================] - 10s 6ms/step - loss: 0.0186 - accuracy: 0.9969 - val_loss: 0.0117 - val_accuracy: 0.9980\n",
            "Epoch 96/100\n",
            "1875/1875 [==============================] - 10s 5ms/step - loss: 0.0163 - accuracy: 0.9974 - val_loss: 0.0146 - val_accuracy: 0.9968\n",
            "Epoch 97/100\n",
            "1875/1875 [==============================] - 10s 5ms/step - loss: 0.0196 - accuracy: 0.9969 - val_loss: 0.0408 - val_accuracy: 0.9926\n",
            "Epoch 98/100\n",
            "1875/1875 [==============================] - 10s 5ms/step - loss: 0.0174 - accuracy: 0.9969 - val_loss: 0.0125 - val_accuracy: 0.9979\n",
            "Epoch 99/100\n",
            "1875/1875 [==============================] - 10s 5ms/step - loss: 0.0174 - accuracy: 0.9967 - val_loss: 0.0123 - val_accuracy: 0.9979\n",
            "Epoch 100/100\n",
            "1875/1875 [==============================] - 10s 6ms/step - loss: 0.0223 - accuracy: 0.9966 - val_loss: 0.0181 - val_accuracy: 0.9965\n"
          ]
        }
      ]
    },
    {
      "cell_type": "code",
      "source": [
        "import matplotlib.pyplot as plt\n",
        "\n",
        "loss = history.history['loss']\n",
        "val_loss = history.history['val_loss']\n",
        "\n",
        "plt.figure()\n",
        "plt.plot(loss, 'r')\n",
        "plt.plot(val_loss, 'b')\n",
        "plt.title('Training and Validation Loss')\n",
        "plt.show()"
      ],
      "metadata": {
        "colab": {
          "base_uri": "https://localhost:8080/",
          "height": 281
        },
        "id": "gruEb3Vdfv6X",
        "outputId": "8e133923-312e-41ed-bd77-45fe1c798934"
      },
      "execution_count": 42,
      "outputs": [
        {
          "output_type": "display_data",
          "data": {
            "image/png": "[encoded data removed]",
            "text/plain": [
              "<Figure size 432x288 with 1 Axes>"
            ]
          },
          "metadata": {
            "needs_background": "light"
          }
        }
      ]
    },
    {
      "cell_type": "code",
      "source": [
        "plt.figure()\n",
        "plt.plot(history.history['accuracy'], 'r')\n",
        "plt.plot(history.history['val_accuracy'], 'b')\n",
        "plt.title('Training and Validation Accuracy')\n",
        "plt.show()"
      ],
      "metadata": {
        "colab": {
          "base_uri": "https://localhost:8080/",
          "height": 281
        },
        "id": "2avSAStQg2N6",
        "outputId": "87a537df-b428-4a35-db15-84c59c0958ff"
      },
      "execution_count": 43,
      "outputs": [
        {
          "output_type": "display_data",
          "data": {
            "image/png": "[encoded data removed]",
            "text/plain": [
              "<Figure size 432x288 with 1 Axes>"
            ]
          },
          "metadata": {
            "needs_background": "light"
          }
        }
      ]
    }
  ]
}